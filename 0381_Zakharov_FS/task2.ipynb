{
 "cells": [
  {
   "cell_type": "markdown",
   "id": "6e8e8e1f",
   "metadata": {},
   "source": [
    "## Практическая работа №1: Исследование подгрупп сетей. Сети аффилированности."
   ]
  },
  {
   "cell_type": "markdown",
   "id": "5165fd33",
   "metadata": {},
   "source": [
    "Выполнил студент гр. 0381 Захаров Филипп. Вариант №4"
   ]
  },
  {
   "cell_type": "markdown",
   "id": "5f2c4d76",
   "metadata": {},
   "source": [
    "## Цель работы"
   ]
  },
  {
   "cell_type": "markdown",
   "id": "4530791a",
   "metadata": {},
   "source": [
    "Овладеть навыками работы с математическими пакетами для исследования подгрупп в социальных сетях, а также моделирования, отображения\n",
    "и анализа сетей аффилированности."
   ]
  },
  {
   "cell_type": "markdown",
   "id": "b9ef3d51",
   "metadata": {},
   "source": [
    "## Постановка задачи"
   ]
  },
  {
   "cell_type": "markdown",
   "id": "200117a9",
   "metadata": {},
   "source": [
    "С помощью математических пакетов и соответствующих библиотек провести анализ заданных социальных сетей на предмет подгрупп. Провести\n",
    "исследование сети аффилированности CEO. Полученные результаты содержательно проинтерпретировать."
   ]
  },
  {
   "cell_type": "markdown",
   "id": "0571cc3e",
   "metadata": {
    "id": "F7GVv1aK-IsI"
   },
   "source": [
    "## Основные теоретические положения\n",
    "**Максимальный подграф**: подграф является максимальным по отношению к свойству, заданному произвольно, если это свойство выполняется для этого подграфа, но перестанет выполняться, если к подграфу добавлен какой-либо узел или узлы\n",
    "<br>\n",
    "**Клика** - максимальный полный подграф из трех или более узлов\n",
    "<br>\n",
    "\n",
    "**n-клика** - максимальный подгарф, в котором наибольшее геодезическое расстояние между любыми двумя узлами не превышает $n$: $d(i,j) \\leq n, \\forall n_i, n_j \\in N_s$\n",
    "<br>\n",
    "**n-клан** - это $n$-клика, в которой геодезическое расстояние $d(i,j)$ между всеми узлами в подграфе не превышает $n$ для путей внутри подграфа\n",
    "<br>\n",
    "**k-ядро** - это максимальный подграф, в котором каждая вершина связана минимум с $k$ другими вершинами этого же подграфа\n",
    "<br>\n",
    "**k-плекс** - это максимальный подграф, содержащий $g_s$ узлов, в котором каждый узел смежен не менее с чем с $(g_s - k)$ узлами подграфа: $d_s(i) \\geq g_s - k, \\forall n \\in N_s$\n",
    "\n",
    "где $d_s(i)$ - степень узла $n_i$ в подграфе $Y_s$\n",
    "<br>\n",
    "**Подграф**: Дан граф $Y(N, U)$. Подграфом $Y_s$ называется граф $Y_s = Y_s(N_s, U_s)$, состоящий из подмножества узлов $N_s \\subseteq N$ и подмножества линий (ребер) $U_s \\subseteq U$, связывающие узлы в $Y_s$\n",
    "<br>\n",
    "**Группа** - совокупность всех акторов, связи между которыми должны быть изучены\n",
    "<br>\n",
    "**Подгруппа** - подмножество узлов $N_s$\n",
    "<br>\n",
    "**Двудольный граф (биграф)** - граф, узлы которого можно разделить на 2 подмножества, а все ребра соединяют узлы, принадлежащие разным подмножествам.\n",
    "\n",
    "Представление биграфа в виде социоматрицы размера $(g+h)*(g+h)$\n",
    "\n",
    "\\begin{pmatrix}\n",
    "  0_g& A\\\\\n",
    "  A^T& 0_h\n",
    "\\end{pmatrix}\n",
    "<br>\n",
    "**Гиперграф** - обобщение понятия графа; гиперграф состоит из множества объектов и множества подмножеств объектов, в котором каждый объект принадлежит хотя бы одному подмножеству, причем ни одно подмножество не является пустым:\n",
    "$H = (A, B)$, где $A = \\{a_1,a_2,...,a_g\\}$ - множество объектов, $B = \\{b_1, b_2, ..., b_n\\}$ - множество ребер\n",
    "<br>\n",
    "**Двойственный гиперграф для гиперграфа $H = H(A,B)$**: $H^* = H(B, A)$, где $B = \\{b_1, b_2, ..., b_h\\}$, A = $\\{A_1, A_2, ..., A_g\\}$ \n",
    "<br>\n",
    "***Модулярность*** - характеристика структуры сети, в частности степень кластеризации узлов, когда внутри кластера наблюдается много узлов (высокая плотность), а между кластерми малов узлов (низкая плотность). Определяется как разница между долей связей внутри группы и ожидаемой долей связей, если бы связи были размещены случайно.\n",
    "<br>\n",
    "**Сеть аффилированности** - сеть, в которой участники аффилированы друг с другом на основе сотрудничества в рамках какой-то группы или совместного участия в определенном событии. Сеть состоит из 2 измерений: множества акторов $N = \\{n_1, n_2, ..., n_g\\}$ и множества событий $M = \\{m_1, m_2, ... , m_n\\}$\n",
    "<br>\n",
    "**Матрица соучастия акторов**:\n",
    "$X^N = \\{x_{ij}^N\\}$, $x_{ij}^N = \\sum_{k=1}^ha_{ik}a_{jk}$, $X^N = AA^T$\n",
    "<br>\n",
    "**Матрица перекрытия событий**: $X^M = \\{x_{kl}^M\\}$, $x_{kl}^M = \\sum_{i=1}^ga_{ik}a_{il}$, $X^M = A^TA$\n",
    "<br>\n",
    "**Степень участия** - количество событий, с которыми связан каждый актор: $a_{i+} = \\sum_{j=1}^ha_{ij} = x_{ii}^N$\n",
    "<br>\n",
    "**Среднее количество событий, с которым акторы аффилированы**: $\\overline{a_{i+}} = \\frac{1}{g}\\sum_{i=1}^g\\sum_{j=1}^ha_{ij} = \\frac{a_{++}}{g} = \\frac{1}{g}\\sum_{i=1}^gx_{ii}^N$\n",
    "<br>\n",
    "**Размер событий**: $a_{+j} = \\sum_{i=1}^ga_{ij} = x_{jj}^M$\n",
    "<br>\n",
    "**Средний размер событий** - среднее количество акторов в каждом событии или средняя степень узлов, представляющих события в двудольном графе: $\\overline{a_{+j}} = \\frac{1}{n}\\sum_{i=1}^g\\sum_{j=1}^ha_{ij} = \\frac{a_{++}}{h} = \\frac{1}{h}\\sum_{j=1}^hx_{jj}^M$\n",
    "<br>\n",
    "**Плотность для отношения соучастя $Δ_{(N)}$**: $Δ_{(N)} = \\frac{1}{g(g-1)}\\sum_{i=1}^g\\sum_{j=1}^gx_{ij}^N, j \\neq i$\n",
    "<br>\n",
    "**Плотность для отношения перекрытия $Δ_{(M)}$**: $Δ_{(M)} = \\frac{1}{h(h-1)}\\sum_{k=1}^h\\sum_{l=1}^hx_{kl}^M, l \\neq k$\n",
    "<br>\n",
    "**Диаметр аффилированной сети** - длина самого длинного пути между любой парой акторов и/или событий\n",
    "<br>\n",
    "**Клика уровня $c$ в взвешенном графе** - максимальный полный подграф из 3 или более узлов, все из которыз являются смежными на уровне $c$, т.е. между всеми парами узлов есть ребра со значениями большими или равными $c$\n",
    "<br>\n",
    "**Клика уровня $c$ для отношения соучастия** - подграф, в котором все пары акторов совместно учавствуют не менее, чем в $c$ событиях\n",
    "<br>\n",
    "**Клика уровня $c$ для отношения перекрытия** - подграф, в котором все пары событий имеют не менее $c$ общих членов\n",
    "<br>\n",
    "$x_{kl}^M$ - число акторов, которые аффилированы с событиями $k$ и $l$\n",
    "\n",
    "$x_{\\overline{kl}}^M$ - число акторов, которые не принадлежат ни одному событию \n",
    "\n",
    "$x_{k\\overline{l}}^M$ - число акторов, которые аффилированны с событием $k$, но не с событием $l$\n",
    "\n",
    "$x_{\\overline{k}l}^M$ - число акторов, которые аффилированы с событием $l$, но не с событием $k$\n",
    "\n",
    "Справедливо следущее: $x_{kl}^M + x_{k\\overline{l}}^M + x_{k\\overline{l}}^M + x_{\\overline{k}l}^M$\n",
    "<br>\n",
    "**Отношение шансов** - мера перекрытия между событиями, которая не зависит от размера событий: $\\theta_{kl} = \\frac{x_{kl}^M/x_{\\overline{k}l}^M}{x_{k\\overline{l}}^M/x_{\\overline{kl}}^M} = \\frac{x_{kl}^Mx_{\\overline{kl}}^M}{x_{k\\overline{l}}^Mx_{\\overline{k}l}^M}$"
   ]
  },
  {
   "cell_type": "markdown",
   "id": "d7feb1c1",
   "metadata": {},
   "source": [
    "## Выполнение работы"
   ]
  },
  {
   "cell_type": "markdown",
   "id": "ceabd128",
   "metadata": {},
   "source": [
    "Для начала работы установим необходимые библиотеки"
   ]
  },
  {
   "cell_type": "code",
   "execution_count": 1,
   "id": "2df59258",
   "metadata": {
    "scrolled": false
   },
   "outputs": [
    {
     "name": "stderr",
     "output_type": "stream",
     "text": [
      "Warning message:\n",
      "\"пакет 'statnet' был собран под R версии 4.2.2\"\n",
      "Загрузка требуемого пакета: tergm\n",
      "\n",
      "Warning message:\n",
      "\"пакет 'tergm' был собран под R версии 4.2.2\"\n",
      "Загрузка требуемого пакета: ergm\n",
      "\n",
      "Warning message:\n",
      "\"пакет 'ergm' был собран под R версии 4.2.2\"\n",
      "Загрузка требуемого пакета: network\n",
      "\n",
      "Warning message:\n",
      "\"пакет 'network' был собран под R версии 4.2.2\"\n",
      "\n",
      "'network' 1.18.0 (2022-10-05), part of the Statnet Project\n",
      "* 'news(package=\"network\")' for changes since last version\n",
      "* 'citation(\"network\")' for citation information\n",
      "* 'https://statnet.org' for help, support, and other information\n",
      "\n",
      "\n",
      "\n",
      "'ergm' 4.3.2 (2022-11-21), part of the Statnet Project\n",
      "* 'news(package=\"ergm\")' for changes since last version\n",
      "* 'citation(\"ergm\")' for citation information\n",
      "* 'https://statnet.org' for help, support, and other information\n",
      "\n",
      "\n",
      "'ergm' 4 is a major update that introduces some backwards-incompatible\n",
      "changes. Please type 'news(package=\"ergm\")' for a list of major\n",
      "changes.\n",
      "\n",
      "\n",
      "Загрузка требуемого пакета: networkDynamic\n",
      "\n",
      "Warning message:\n",
      "\"пакет 'networkDynamic' был собран под R версии 4.2.2\"\n",
      "\n",
      "'networkDynamic' 0.11.2 (2022-05-04), part of the Statnet Project\n",
      "* 'news(package=\"networkDynamic\")' for changes since last version\n",
      "* 'citation(\"networkDynamic\")' for citation information\n",
      "* 'https://statnet.org' for help, support, and other information\n",
      "\n",
      "\n",
      "Registered S3 method overwritten by 'tergm':\n",
      "  method                   from\n",
      "  simulate_formula.network ergm\n",
      "\n",
      "\n",
      "'tergm' 4.1.1 (2022-11-07), part of the Statnet Project\n",
      "* 'news(package=\"tergm\")' for changes since last version\n",
      "* 'citation(\"tergm\")' for citation information\n",
      "* 'https://statnet.org' for help, support, and other information\n",
      "\n",
      "\n",
      "\n",
      "Присоединяю пакет: 'tergm'\n",
      "\n",
      "\n",
      "Следующий объект скрыт от 'package:ergm':\n",
      "\n",
      "    snctrl\n",
      "\n",
      "\n",
      "Загрузка требуемого пакета: ergm.count\n",
      "\n",
      "Warning message:\n",
      "\"пакет 'ergm.count' был собран под R версии 4.2.2\"\n",
      "\n",
      "'ergm.count' 4.1.1 (2022-05-24), part of the Statnet Project\n",
      "* 'news(package=\"ergm.count\")' for changes since last version\n",
      "* 'citation(\"ergm.count\")' for citation information\n",
      "* 'https://statnet.org' for help, support, and other information\n",
      "\n",
      "\n",
      "Загрузка требуемого пакета: sna\n",
      "\n",
      "Warning message:\n",
      "\"пакет 'sna' был собран под R версии 4.2.2\"\n",
      "Загрузка требуемого пакета: statnet.common\n",
      "\n",
      "Warning message:\n",
      "\"пакет 'statnet.common' был собран под R версии 4.2.2\"\n",
      "\n",
      "Присоединяю пакет: 'statnet.common'\n",
      "\n",
      "\n",
      "Следующий объект скрыт от 'package:ergm':\n",
      "\n",
      "    snctrl\n",
      "\n",
      "\n",
      "Следующие объекты скрыты от 'package:base':\n",
      "\n",
      "    attr, order\n",
      "\n",
      "\n",
      "sna: Tools for Social Network Analysis\n",
      "Version 2.7 created on 2022-05-09.\n",
      "copyright (c) 2005, Carter T. Butts, University of California-Irvine\n",
      " For citation information, type citation(\"sna\").\n",
      " Type help(package=\"sna\") to get started.\n",
      "\n",
      "\n",
      "Загрузка требуемого пакета: tsna\n",
      "\n",
      "Warning message:\n",
      "\"пакет 'tsna' был собран под R версии 4.2.2\"\n",
      "\n",
      "'statnet' 2019.6 (2019-06-13), part of the Statnet Project\n",
      "* 'news(package=\"statnet\")' for changes since last version\n",
      "* 'citation(\"statnet\")' for citation information\n",
      "* 'https://statnet.org' for help, support, and other information\n",
      "\n",
      "\n",
      "Warning message:\n",
      "\"пакет 'igraph' был собран под R версии 4.2.2\"\n",
      "\n",
      "Присоединяю пакет: 'igraph'\n",
      "\n",
      "\n",
      "Следующие объекты скрыты от 'package:sna':\n",
      "\n",
      "    betweenness, bonpow, closeness, components, degree, dyad.census,\n",
      "    evcent, hierarchy, is.connected, neighborhood, triad.census\n",
      "\n",
      "\n",
      "Следующие объекты скрыты от 'package:network':\n",
      "\n",
      "    %c%, %s%, add.edges, add.vertices, delete.edges, delete.vertices,\n",
      "    get.edge.attribute, get.edges, get.vertex.attribute, is.bipartite,\n",
      "    is.directed, list.edge.attributes, list.vertex.attributes,\n",
      "    set.edge.attribute, set.vertex.attribute\n",
      "\n",
      "\n",
      "Следующие объекты скрыты от 'package:stats':\n",
      "\n",
      "    decompose, spectrum\n",
      "\n",
      "\n",
      "Следующий объект скрыт от 'package:base':\n",
      "\n",
      "    union\n",
      "\n",
      "\n",
      "Warning message:\n",
      "\"пакет 'HyperG' был собран под R версии 4.2.2\"\n",
      "Загрузка требуемого пакета: mclust\n",
      "\n",
      "Warning message:\n",
      "\"пакет 'mclust' был собран под R версии 4.2.2\"\n",
      "Package 'mclust' version 6.0.0\n",
      "Type 'citation(\"mclust\")' for citing this R package in publications.\n",
      "\n",
      "\n",
      "Присоединяю пакет: 'HyperG'\n",
      "\n",
      "\n",
      "Следующие объекты скрыты от 'package:igraph':\n",
      "\n",
      "    is.simple, line.graph\n",
      "\n",
      "\n",
      "Следующий объект скрыт от 'package:network':\n",
      "\n",
      "    has.loops\n",
      "\n",
      "\n"
     ]
    }
   ],
   "source": [
    "library(statnet)\n",
    "library(igraph)\n",
    "library(sna)\n",
    "library(HyperG)"
   ]
  },
  {
   "cell_type": "markdown",
   "id": "37517176",
   "metadata": {},
   "source": [
    "1. Из файла файла florentine_marital.csv извлечь социоматрицу с помощью соответствующих функций. Отобразить сеть с помощью одного из алгоритмов укладки."
   ]
  },
  {
   "cell_type": "code",
   "execution_count": 2,
   "id": "f2418078",
   "metadata": {},
   "outputs": [
    {
     "data": {
      "image/png": "[encoded data removed]",
      "text/plain": [
       "plot without title"
      ]
     },
     "metadata": {
      "image/png": {
       "height": 420,
       "width": 420
      }
     },
     "output_type": "display_data"
    }
   ],
   "source": [
    "nodeInfo <- read.csv(\"florentine_marital.csv\", skip=1, header=T)\n",
    "rownames(nodeInfo) <- colnames(nodeInfo)\n",
    "net <- network(as.matrix(nodeInfo), matrix.type = \"adjacency\", directed = FALSE);\n",
    "\n",
    "gplot(net,mode = \"fruchtermanreingold\", gmode = \"graph\", displaylabels = T)"
   ]
  },
  {
   "cell_type": "markdown",
   "id": "19fd732d",
   "metadata": {},
   "source": [
    "2. Исследовать данную сеть на предмет подгрупп с помощью:<br>\n",
    "• 𝑛-клик<br>\n",
    "• 𝑛-кланов<br>\n",
    "• 𝑛-клубов<br>\n",
    "• 𝑘-ядер<br>\n",
    "• 𝑘-плексов<br>\n",
    "Указать какие подгруппы плучились. Сделать выводы.<br>"
   ]
  },
  {
   "cell_type": "markdown",
   "id": "67a85c3a",
   "metadata": {},
   "source": [
    "#### n-клики"
   ]
  },
  {
   "cell_type": "code",
   "execution_count": 3,
   "id": "b4afab49",
   "metadata": {},
   "outputs": [
    {
     "name": "stdout",
     "output_type": "stream",
     "text": [
      "[1] \"1-клики\"\n",
      "[[1]]\n",
      "+ 3/16 vertices, named, from fe36042:\n",
      "[1] Medici     Ridolfi    Tornabuoni\n",
      "\n",
      "[[2]]\n",
      "+ 3/16 vertices, named, from fe36042:\n",
      "[1] Peruzzi  Strozzi  Bischeri\n",
      "\n",
      "[[3]]\n",
      "+ 3/16 vertices, named, from fe36042:\n",
      "[1] Peruzzi    Strozzi    Castellani\n",
      "\n",
      "[1] \"2-клики\"\n",
      "[[1]]\n",
      "+ 3/16 vertices, named, from fe38241:\n",
      "[1] Pazzi    Medici   Salviati\n",
      "\n",
      "[[2]]\n",
      "+ 4/16 vertices, named, from fe38241:\n",
      "[1] Ginori   Albizzi  Medici   Guadagni\n",
      "\n",
      "[[3]]\n",
      "+ 5/16 vertices, named, from fe38241:\n",
      "[1] Lamberteschi Albizzi      Tornabuoni   Guadagni     Bischeri    \n",
      "\n",
      "[[4]]\n",
      "+ 5/16 vertices, named, from fe38241:\n",
      "[1] Castellani Ridolfi    Strozzi    Medici     Barbadori \n",
      "\n",
      "[[5]]\n",
      "+ 5/16 vertices, named, from fe38241:\n",
      "[1] Castellani Ridolfi    Strozzi    Peruzzi    Barbadori \n",
      "\n",
      "[[6]]\n",
      "+ 5/16 vertices, named, from fe38241:\n",
      "[1] Castellani Ridolfi    Strozzi    Peruzzi    Bischeri  \n",
      "\n",
      "[[7]]\n",
      "+ 5/16 vertices, named, from fe38241:\n",
      "[1] Guadagni Ridolfi  Peruzzi  Strozzi  Bischeri\n",
      "\n",
      "[[8]]\n",
      "+ 5/16 vertices, named, from fe38241:\n",
      "[1] Guadagni   Ridolfi    Tornabuoni Albizzi    Bischeri  \n",
      "\n",
      "[[9]]\n",
      "+ 5/16 vertices, named, from fe38241:\n",
      "[1] Guadagni   Ridolfi    Tornabuoni Albizzi    Medici    \n",
      "\n",
      "[[10]]\n",
      "+ 5/16 vertices, named, from fe38241:\n",
      "[1] Guadagni   Ridolfi    Tornabuoni Strozzi    Bischeri  \n",
      "\n",
      "[[11]]\n",
      "+ 5/16 vertices, named, from fe38241:\n",
      "[1] Guadagni   Ridolfi    Tornabuoni Strozzi    Medici    \n",
      "\n",
      "[[12]]\n",
      "+ 7/16 vertices, named, from fe38241:\n",
      "[1] Medici     Barbadori  Tornabuoni Ridolfi    Salviati   Albizzi    Acciaiuoli\n",
      "\n",
      "[[13]]\n",
      "+ 5/16 vertices, named, from fe38241:\n",
      "[1] Medici     Barbadori  Tornabuoni Ridolfi    Strozzi   \n",
      "\n",
      "[1] \"3-клики\"\n",
      "[[1]]\n",
      "+ 8/16 vertices, named, from fe39e11:\n",
      "[1] Pazzi      Acciaiuoli Tornabuoni Salviati   Ridolfi    Medici     Barbadori \n",
      "[8] Albizzi   \n",
      "\n",
      "[[2]]\n",
      "+ 8/16 vertices, named, from fe39e11:\n",
      "[1] Barbadori  Albizzi    Tornabuoni Ridolfi    Medici     Guadagni   Ginori    \n",
      "[8] Bischeri  \n",
      "\n",
      "[[3]]\n",
      "+ 9/16 vertices, named, from fe39e11:\n",
      "[1] Barbadori  Albizzi    Tornabuoni Ridolfi    Medici     Guadagni   Ginori    \n",
      "[8] Salviati   Acciaiuoli\n",
      "\n",
      "[[4]]\n",
      "+ 10/16 vertices, named, from fe39e11:\n",
      " [1] Barbadori  Albizzi    Tornabuoni Ridolfi    Medici     Guadagni  \n",
      " [7] Strozzi    Castellani Bischeri   Peruzzi   \n",
      "\n",
      "[[5]]\n",
      "+ 10/16 vertices, named, from fe39e11:\n",
      " [1] Barbadori  Albizzi    Tornabuoni Ridolfi    Medici     Guadagni  \n",
      " [7] Strozzi    Castellani Salviati   Acciaiuoli\n",
      "\n",
      "[[6]]\n",
      "+ 8/16 vertices, named, from fe39e11:\n",
      "[1] Bischeri     Albizzi      Tornabuoni   Ridolfi      Medici      \n",
      "[6] Guadagni     Lamberteschi Ginori      \n",
      "\n",
      "[[7]]\n",
      "+ 9/16 vertices, named, from fe39e11:\n",
      "[1] Bischeri     Albizzi      Tornabuoni   Ridolfi      Medici      \n",
      "[6] Guadagni     Lamberteschi Strozzi      Peruzzi     \n",
      "\n",
      "[1] \"4-клики\"\n",
      "[[1]]\n",
      "+ 12/16 vertices, named, from fe3bcf0:\n",
      " [1] Pazzi      Acciaiuoli Tornabuoni Strozzi    Salviati   Ridolfi   \n",
      " [7] Medici     Guadagni   Ginori     Castellani Barbadori  Albizzi   \n",
      "\n",
      "[[2]]\n",
      "+ 14/16 vertices, named, from fe3bcf0:\n",
      " [1] Barbadori    Acciaiuoli   Tornabuoni   Strozzi      Salviati    \n",
      " [6] Ridolfi      Peruzzi      Medici       Lamberteschi Guadagni    \n",
      "[11] Ginori       Castellani   Bischeri     Albizzi     \n",
      "\n",
      "[1] \"5-клики\"\n",
      "[[1]]\n",
      "+ 15/16 vertices, named, from fe3d574:\n",
      " [1] Albizzi      Acciaiuoli   Tornabuoni   Strozzi      Salviati    \n",
      " [6] Ridolfi      Peruzzi      Pazzi        Medici       Lamberteschi\n",
      "[11] Guadagni     Ginori       Castellani   Bischeri     Barbadori   \n",
      "\n",
      "[1] \"6-клики\"\n",
      "[[1]]\n",
      "+ 15/16 vertices, named, from fe43081:\n",
      " [1] Albizzi      Acciaiuoli   Tornabuoni   Strozzi      Salviati    \n",
      " [6] Ridolfi      Peruzzi      Pazzi        Medici       Lamberteschi\n",
      "[11] Guadagni     Ginori       Castellani   Bischeri     Barbadori   \n",
      "\n"
     ]
    }
   ],
   "source": [
    "graph_net2 <- graph.adjacency(as.matrix(net), mode=\"undirected\")\n",
    "\n",
    "print(\"1-клики\")\n",
    "print(max_cliques(graph_net2, min = 3)) \n",
    "\n",
    "print(\"2-клики\")\n",
    "graph_net3 <- connect(graph = graph_net2, order = 2)\n",
    "print(max_cliques(graph_net3, min = 3)) \n",
    "\n",
    "print(\"3-клики\")\n",
    "graph_net4 <- connect(graph = graph_net2, order = 3)\n",
    "print(max_cliques(graph_net4, min = 3)) \n",
    "\n",
    "print(\"4-клики\")\n",
    "graph_net5 <- connect(graph = graph_net2, order = 4)\n",
    "print(max_cliques(graph_net5, min = 3)) \n",
    "\n",
    "print(\"5-клики\")\n",
    "graph_net6 <- connect(graph = graph_net2, order = 5)\n",
    "print(max_cliques(graph_net6, min = 3)) \n",
    "\n",
    "print(\"6-клики\")\n",
    "graph_net7 <- connect(graph = graph_net2, order = 6)\n",
    "print(max_cliques(graph_net7, min = 3))"
   ]
  },
  {
   "cell_type": "markdown",
   "id": "e8e571bd",
   "metadata": {},
   "source": [
    "Т.к. диаметр графа равен 5, то 5 и более клики будут повторяться."
   ]
  },
  {
   "cell_type": "markdown",
   "id": "a8bb9395",
   "metadata": {},
   "source": [
    "#### n-кланы"
   ]
  },
  {
   "cell_type": "code",
   "execution_count": 4,
   "id": "b1208f4f",
   "metadata": {
    "scrolled": true
   },
   "outputs": [
    {
     "name": "stderr",
     "output_type": "stream",
     "text": [
      "Warning message in connect(graph.adjacency(as.matrix(net), mode = \"undirected\"), :\n",
      "\"At core/operators/connect_neighborhood.c:77 : Order smaller than two, graph will be unchanged.\"\n"
     ]
    },
    {
     "name": "stdout",
     "output_type": "stream",
     "text": [
      "$`1-клан`\n",
      "[1] \"Medici\"     \"Ridolfi\"    \"Tornabuoni\"\n",
      "\n",
      "$`1-клан`\n",
      "[1] \"Peruzzi\"  \"Strozzi\"  \"Bischeri\"\n",
      "\n",
      "$`1-клан`\n",
      "[1] \"Peruzzi\"    \"Strozzi\"    \"Castellani\"\n",
      "\n",
      "$`2-клан`\n",
      "[1] \"Pazzi\"    \"Medici\"   \"Salviati\"\n",
      "\n",
      "$`2-клан`\n",
      "[1] \"Ginori\"   \"Albizzi\"  \"Medici\"   \"Guadagni\"\n",
      "\n",
      "$`2-клан`\n",
      "[1] \"Lamberteschi\" \"Albizzi\"      \"Tornabuoni\"   \"Guadagni\"     \"Bischeri\"    \n",
      "\n",
      "$`2-клан`\n",
      "[1] \"Castellani\" \"Ridolfi\"    \"Strozzi\"    \"Medici\"     \"Barbadori\" \n",
      "\n",
      "$`2-клан`\n",
      "[1] \"Castellani\" \"Ridolfi\"    \"Strozzi\"    \"Peruzzi\"    \"Bischeri\"  \n",
      "\n",
      "$`2-клан`\n",
      "[1] \"Guadagni\"   \"Ridolfi\"    \"Tornabuoni\" \"Albizzi\"    \"Medici\"    \n",
      "\n",
      "$`2-клан`\n",
      "[1] \"Guadagni\"   \"Ridolfi\"    \"Tornabuoni\" \"Strozzi\"    \"Bischeri\"  \n",
      "\n",
      "$`2-клан`\n",
      "[1] \"Medici\"     \"Barbadori\"  \"Tornabuoni\" \"Ridolfi\"    \"Salviati\"  \n",
      "[6] \"Albizzi\"    \"Acciaiuoli\"\n",
      "\n",
      "$`3-клан`\n",
      "[1] \"Pazzi\"      \"Acciaiuoli\" \"Tornabuoni\" \"Salviati\"   \"Ridolfi\"   \n",
      "[6] \"Medici\"     \"Barbadori\"  \"Albizzi\"   \n",
      "\n",
      "$`3-клан`\n",
      "[1] \"Barbadori\"  \"Albizzi\"    \"Tornabuoni\" \"Ridolfi\"    \"Medici\"    \n",
      "[6] \"Guadagni\"   \"Ginori\"     \"Salviati\"   \"Acciaiuoli\"\n",
      "\n",
      "$`3-клан`\n",
      " [1] \"Barbadori\"  \"Albizzi\"    \"Tornabuoni\" \"Ridolfi\"    \"Medici\"    \n",
      " [6] \"Guadagni\"   \"Strozzi\"    \"Castellani\" \"Bischeri\"   \"Peruzzi\"   \n",
      "\n",
      "$`3-клан`\n",
      "[1] \"Bischeri\"     \"Albizzi\"      \"Tornabuoni\"   \"Ridolfi\"      \"Medici\"      \n",
      "[6] \"Guadagni\"     \"Lamberteschi\" \"Ginori\"      \n",
      "\n",
      "$`3-клан`\n",
      "[1] \"Bischeri\"     \"Albizzi\"      \"Tornabuoni\"   \"Ridolfi\"      \"Medici\"      \n",
      "[6] \"Guadagni\"     \"Lamberteschi\" \"Strozzi\"      \"Peruzzi\"     \n",
      "\n",
      "$`4-клан`\n",
      " [1] \"Pazzi\"      \"Acciaiuoli\" \"Tornabuoni\" \"Strozzi\"    \"Salviati\"  \n",
      " [6] \"Ridolfi\"    \"Medici\"     \"Guadagni\"   \"Ginori\"     \"Castellani\"\n",
      "[11] \"Barbadori\"  \"Albizzi\"   \n",
      "\n",
      "$`4-клан`\n",
      " [1] \"Barbadori\"    \"Acciaiuoli\"   \"Tornabuoni\"   \"Strozzi\"      \"Salviati\"    \n",
      " [6] \"Ridolfi\"      \"Peruzzi\"      \"Medici\"       \"Lamberteschi\" \"Guadagni\"    \n",
      "[11] \"Ginori\"       \"Castellani\"   \"Bischeri\"     \"Albizzi\"     \n",
      "\n",
      "$`5-клан`\n",
      " [1] \"Albizzi\"      \"Acciaiuoli\"   \"Tornabuoni\"   \"Strozzi\"      \"Salviati\"    \n",
      " [6] \"Ridolfi\"      \"Peruzzi\"      \"Pazzi\"        \"Medici\"       \"Lamberteschi\"\n",
      "[11] \"Guadagni\"     \"Ginori\"       \"Castellani\"   \"Bischeri\"     \"Barbadori\"   \n",
      "\n"
     ]
    }
   ],
   "source": [
    "is_clan <- function(graph, clique, name) {\n",
    "  subgraph <- subgraph(graph, clique)\n",
    "  order <- unlist(strsplit(name, \"-\"))[1]\n",
    "  diameter <- diameter(subgraph, directed = FALSE)\n",
    "  if(diameter > order) {\n",
    "    return(FALSE)\n",
    "  }\n",
    "  return (TRUE)\n",
    "}\n",
    "\n",
    "order <- 1\n",
    "len <- 2\n",
    "\n",
    "graph <- graph.adjacency(as.matrix(net), mode=\"undirected\")\n",
    "res <- list()\n",
    "while(len >= 2) \n",
    "{\n",
    "  clicks <- max_cliques(connect(graph.adjacency(as.matrix(net), mode=\"undirected\"), order), min = 3)\n",
    "  clicks <- lapply(clicks, function(x) names(x))\n",
    "  names(clicks) <- rep(paste(order,\"clique\",sep= \"-\"),times = length(clicks))\n",
    "  res <- c(res,clicks)\n",
    "  order <- order+1\n",
    "  len <- length(clicks)\n",
    "}\n",
    "clicks <- res\n",
    "checker <- 1:length(clicks)\n",
    "checker <-sapply(checker, function(x) is_clan(graph,clicks[[x]],names(clicks)[x]))\n",
    "names(clicks)<-sapply(names(clicks), function(x) paste(unlist(strsplit(x,\"-\"))[1],\"-клан\",sep = \"\"))\n",
    "print(clicks[checker])"
   ]
  },
  {
   "cell_type": "markdown",
   "id": "c26400ad",
   "metadata": {},
   "source": [
    "Т.к. диаметро графа равен 5, то кланы 5 и более будут повторяться."
   ]
  },
  {
   "cell_type": "markdown",
   "id": "a30fd8b8",
   "metadata": {},
   "source": [
    "#### k-ядра"
   ]
  },
  {
   "cell_type": "code",
   "execution_count": 5,
   "id": "c288adf4",
   "metadata": {},
   "outputs": [
    {
     "name": "stdout",
     "output_type": "stream",
     "text": [
      "$`0-core`\n",
      " [1] \"Acciaiuoli\"   \"Albizzi\"      \"Barbadori\"    \"Bischeri\"     \"Castellani\"  \n",
      " [6] \"Ginori\"       \"Guadagni\"     \"Lamberteschi\" \"Medici\"       \"Pazzi\"       \n",
      "[11] \"Peruzzi\"      \"Pucci\"        \"Ridolfi\"      \"Salviati\"     \"Strozzi\"     \n",
      "[16] \"Tornabuoni\"  \n",
      "\n",
      "$`1-core`\n",
      " [1] \"Acciaiuoli\"   \"Albizzi\"      \"Barbadori\"    \"Bischeri\"     \"Castellani\"  \n",
      " [6] \"Ginori\"       \"Guadagni\"     \"Lamberteschi\" \"Medici\"       \"Pazzi\"       \n",
      "[11] \"Peruzzi\"      \"Ridolfi\"      \"Salviati\"     \"Strozzi\"      \"Tornabuoni\"  \n",
      "\n",
      "$`2-core`\n",
      " [1] \"Albizzi\"    \"Barbadori\"  \"Bischeri\"   \"Castellani\" \"Guadagni\"  \n",
      " [6] \"Medici\"     \"Peruzzi\"    \"Ridolfi\"    \"Strozzi\"    \"Tornabuoni\"\n",
      "\n"
     ]
    }
   ],
   "source": [
    "graph <- graph.adjacency(as.matrix(net), mode=\"undirected\")\n",
    "info <- coreness(graph, mode= \"all\")\n",
    "res <- lapply(0:max(as.integer(info)), function(x) names(info)[which(as.integer(info) >= x)])\n",
    "names(res) <- sapply(1:length(res), function(x) paste(x-1,\"core\",sep= \"-\"))\n",
    "\n",
    "print(res)"
   ]
  },
  {
   "cell_type": "markdown",
   "id": "8e005c56",
   "metadata": {},
   "source": [
    "Все элементы графа являются 0-ядром, потому что имееют хотя бы 0 связей.\n",
    "3 и более ядра не существуют для данного графа."
   ]
  },
  {
   "cell_type": "markdown",
   "id": "2bea095b",
   "metadata": {},
   "source": [
    "4. Из файла ceo.csv извлечь матрицу инцидентности с помощью соответствующих функций. Отобразить полученную матрицу."
   ]
  },
  {
   "cell_type": "code",
   "execution_count": 6,
   "id": "ee3978bf",
   "metadata": {},
   "outputs": [
    {
     "name": "stdout",
     "output_type": "stream",
     "text": [
      "   1 2 3 4 5 6 7 8 9 10 11 12 13 14 15\n",
      "1  0 0 1 1 0 0 0 0 1  0  0  0  0  0  0\n",
      "2  0 0 1 0 1 0 1 0 0  0  0  0  0  0  0\n",
      "3  0 0 1 0 0 0 0 0 0  0  0  1  0  0  0\n",
      "4  0 1 1 0 0 0 0 0 0  0  0  0  0  0  1\n",
      "5  0 0 1 0 0 0 0 0 0  0  0  0  1  1  0\n",
      "6  0 1 1 0 0 0 0 0 0  0  0  0  0  1  0\n",
      "7  0 0 1 1 0 0 0 0 0  1  1  0  0  0  0\n",
      "8  0 0 0 1 0 0 1 0 0  1  0  0  0  0  0\n",
      "9  1 0 0 1 0 0 0 1 0  1  0  0  0  0  0\n",
      "10 0 0 1 0 0 0 0 0 1  0  0  0  0  0  0\n",
      "11 0 1 1 0 0 0 0 0 1  0  0  0  0  0  0\n",
      "12 0 0 0 1 0 0 1 0 0  0  0  0  0  0  0\n",
      "13 0 0 1 1 1 0 0 0 1  0  0  0  0  0  0\n",
      "14 0 1 1 1 0 0 0 0 0  0  1  1  1  0  1\n",
      "15 0 1 1 0 0 1 0 0 0  0  0  0  1  0  1\n",
      "16 0 1 1 0 0 1 0 1 0  0  0  0  0  1  0\n",
      "17 0 1 1 0 1 0 0 0 0  0  1  1  0  0  1\n",
      "18 0 0 0 1 0 0 0 0 1  0  0  1  1  0  1\n",
      "19 1 0 1 1 0 0 1 0 1  0  0  0  0  0  0\n",
      "20 0 1 1 1 0 0 0 0 0  0  1  0  0  0  1\n",
      "21 0 0 1 1 0 0 0 1 0  0  0  0  0  0  0\n",
      "22 0 0 1 0 0 0 0 1 0  0  0  0  0  0  1\n",
      "23 0 1 1 0 0 1 0 0 0  0  0  0  0  0  1\n",
      "24 1 0 1 1 0 1 0 0 0  0  0  0  0  0  1\n",
      "25 0 1 1 0 0 0 0 0 0  0  0  0  1  0  0\n",
      "26 0 1 1 0 0 0 0 0 0  0  0  1  0  0  0\n"
     ]
    }
   ],
   "source": [
    "object2 <- read.csv(\"./ceo.csv\", header = F, skip = 9)\n",
    "\n",
    "A <- object2\n",
    "\n",
    "colnames(A) <- 1:15\n",
    "\n",
    "print(A)"
   ]
  },
  {
   "cell_type": "markdown",
   "id": "ccc7b391",
   "metadata": {},
   "source": [
    "5. Отобразить сеть в виде биграфа."
   ]
  },
  {
   "cell_type": "code",
   "execution_count": 7,
   "id": "a82d22e4",
   "metadata": {},
   "outputs": [
    {
     "data": {
      "image/png": "[encoded data removed]",
      "text/plain": [
       "Plot with title \"\""
      ]
     },
     "metadata": {
      "image/png": {
       "height": 420,
       "width": 420
      }
     },
     "output_type": "display_data"
    }
   ],
   "source": [
    "test <- as.matrix(A)\n",
    "colnames(test) <- NULL\n",
    "test_t <- t(test)\n",
    "\n",
    "zero1_matrix <- matrix(0, nrow(test), nrow(test))\n",
    "zero2_matrix <- matrix(0, ncol(test), ncol(test)) \n",
    "\n",
    "res <- rbind(cbind(zero1_matrix, test), cbind(t(test),zero2_matrix))\n",
    "\n",
    "rownames(res) <- c(sapply(1:nrow(test),function(x) paste(x, \"\",sep =\" \")),sapply(1:ncol(test), function (x) paste(x,\"\",sep=\" \")))\n",
    "colnames(res) <- row.names(res)\n",
    "graph <-graph.adjacency(res,mode = \"undirected\")\n",
    "V(graph)$type <- sapply(1:(nrow(test)+ncol(test)), function(x) if (x <= nrow(test)) TRUE else FALSE)\n",
    "colors <-c(\"red\",\"blue\")\n",
    "shapes <-c(\"circle\",\"circle\")\n",
    "plot(graph, layout= layout_as_bipartite,vertex.color = colors[as.numeric(V(graph)$type)+1],vertex.shape = shapes[as.numeric(V(graph)$type)+1])"
   ]
  },
  {
   "cell_type": "markdown",
   "id": "c943b1b2",
   "metadata": {},
   "source": [
    "7. Представить сеть аффилированности в виде двух одномодальных сетей: сеть соучастия и сеть перекрытия событий. Представить полученные сети в виде ценностных матриц и взвешенных графов. Сделать выводы."
   ]
  },
  {
   "cell_type": "code",
   "execution_count": 8,
   "id": "eb57aa85",
   "metadata": {},
   "outputs": [
    {
     "data": {
      "text/html": [
       "<table class=\"dataframe\">\n",
       "<caption>A matrix: 26 × 26 of type dbl</caption>\n",
       "<tbody>\n",
       "\t<tr><td>3</td><td>1</td><td>1</td><td>1</td><td>1</td><td>1</td><td>2</td><td>1</td><td>1</td><td>2</td><td>⋯</td><td>1</td><td>2</td><td>3</td><td>2</td><td>2</td><td>1</td><td>1</td><td>2</td><td>1</td><td>1</td></tr>\n",
       "\t<tr><td>1</td><td>3</td><td>1</td><td>1</td><td>1</td><td>1</td><td>1</td><td>1</td><td>0</td><td>1</td><td>⋯</td><td>2</td><td>0</td><td>2</td><td>1</td><td>1</td><td>1</td><td>1</td><td>1</td><td>1</td><td>1</td></tr>\n",
       "\t<tr><td>1</td><td>1</td><td>2</td><td>1</td><td>1</td><td>1</td><td>1</td><td>0</td><td>0</td><td>1</td><td>⋯</td><td>2</td><td>1</td><td>1</td><td>1</td><td>1</td><td>1</td><td>1</td><td>1</td><td>1</td><td>2</td></tr>\n",
       "\t<tr><td>1</td><td>1</td><td>1</td><td>3</td><td>1</td><td>2</td><td>1</td><td>0</td><td>0</td><td>1</td><td>⋯</td><td>3</td><td>1</td><td>1</td><td>3</td><td>1</td><td>2</td><td>3</td><td>2</td><td>2</td><td>2</td></tr>\n",
       "\t<tr><td>1</td><td>1</td><td>1</td><td>1</td><td>3</td><td>2</td><td>1</td><td>0</td><td>0</td><td>1</td><td>⋯</td><td>1</td><td>1</td><td>1</td><td>1</td><td>1</td><td>1</td><td>1</td><td>1</td><td>2</td><td>1</td></tr>\n",
       "\t<tr><td>1</td><td>1</td><td>1</td><td>2</td><td>2</td><td>3</td><td>1</td><td>0</td><td>0</td><td>1</td><td>⋯</td><td>2</td><td>0</td><td>1</td><td>2</td><td>1</td><td>1</td><td>2</td><td>1</td><td>2</td><td>2</td></tr>\n",
       "\t<tr><td>2</td><td>1</td><td>1</td><td>1</td><td>1</td><td>1</td><td>4</td><td>2</td><td>2</td><td>1</td><td>⋯</td><td>2</td><td>1</td><td>2</td><td>3</td><td>2</td><td>1</td><td>1</td><td>2</td><td>1</td><td>1</td></tr>\n",
       "\t<tr><td>1</td><td>1</td><td>0</td><td>0</td><td>0</td><td>0</td><td>2</td><td>3</td><td>2</td><td>0</td><td>⋯</td><td>0</td><td>1</td><td>2</td><td>1</td><td>1</td><td>0</td><td>0</td><td>1</td><td>0</td><td>0</td></tr>\n",
       "\t<tr><td>1</td><td>0</td><td>0</td><td>0</td><td>0</td><td>0</td><td>2</td><td>2</td><td>4</td><td>0</td><td>⋯</td><td>0</td><td>1</td><td>2</td><td>1</td><td>2</td><td>1</td><td>0</td><td>2</td><td>0</td><td>0</td></tr>\n",
       "\t<tr><td>2</td><td>1</td><td>1</td><td>1</td><td>1</td><td>1</td><td>1</td><td>0</td><td>0</td><td>2</td><td>⋯</td><td>1</td><td>1</td><td>2</td><td>1</td><td>1</td><td>1</td><td>1</td><td>1</td><td>1</td><td>1</td></tr>\n",
       "\t<tr><td>2</td><td>1</td><td>1</td><td>2</td><td>1</td><td>2</td><td>1</td><td>0</td><td>0</td><td>2</td><td>⋯</td><td>2</td><td>1</td><td>2</td><td>2</td><td>1</td><td>1</td><td>2</td><td>1</td><td>2</td><td>2</td></tr>\n",
       "\t<tr><td>1</td><td>1</td><td>0</td><td>0</td><td>0</td><td>0</td><td>1</td><td>2</td><td>1</td><td>0</td><td>⋯</td><td>0</td><td>1</td><td>2</td><td>1</td><td>1</td><td>0</td><td>0</td><td>1</td><td>0</td><td>0</td></tr>\n",
       "\t<tr><td>3</td><td>2</td><td>1</td><td>1</td><td>1</td><td>1</td><td>2</td><td>1</td><td>1</td><td>2</td><td>⋯</td><td>2</td><td>2</td><td>3</td><td>2</td><td>2</td><td>1</td><td>1</td><td>2</td><td>1</td><td>1</td></tr>\n",
       "\t<tr><td>2</td><td>1</td><td>2</td><td>3</td><td>2</td><td>2</td><td>3</td><td>1</td><td>1</td><td>1</td><td>⋯</td><td>5</td><td>4</td><td>2</td><td>5</td><td>2</td><td>2</td><td>3</td><td>3</td><td>3</td><td>3</td></tr>\n",
       "\t<tr><td>1</td><td>1</td><td>1</td><td>3</td><td>2</td><td>2</td><td>1</td><td>0</td><td>0</td><td>1</td><td>⋯</td><td>3</td><td>2</td><td>1</td><td>3</td><td>1</td><td>2</td><td>4</td><td>3</td><td>3</td><td>2</td></tr>\n",
       "\t<tr><td>1</td><td>1</td><td>1</td><td>2</td><td>2</td><td>3</td><td>1</td><td>0</td><td>1</td><td>1</td><td>⋯</td><td>2</td><td>0</td><td>1</td><td>2</td><td>2</td><td>2</td><td>3</td><td>2</td><td>2</td><td>2</td></tr>\n",
       "\t<tr><td>1</td><td>2</td><td>2</td><td>3</td><td>1</td><td>2</td><td>2</td><td>0</td><td>0</td><td>1</td><td>⋯</td><td>6</td><td>2</td><td>1</td><td>4</td><td>1</td><td>2</td><td>3</td><td>2</td><td>2</td><td>3</td></tr>\n",
       "\t<tr><td>2</td><td>0</td><td>1</td><td>1</td><td>1</td><td>0</td><td>1</td><td>1</td><td>1</td><td>1</td><td>⋯</td><td>2</td><td>5</td><td>2</td><td>2</td><td>1</td><td>1</td><td>1</td><td>2</td><td>1</td><td>1</td></tr>\n",
       "\t<tr><td>3</td><td>2</td><td>1</td><td>1</td><td>1</td><td>1</td><td>2</td><td>2</td><td>2</td><td>2</td><td>⋯</td><td>1</td><td>2</td><td>5</td><td>2</td><td>2</td><td>1</td><td>1</td><td>3</td><td>1</td><td>1</td></tr>\n",
       "\t<tr><td>2</td><td>1</td><td>1</td><td>3</td><td>1</td><td>2</td><td>3</td><td>1</td><td>1</td><td>1</td><td>⋯</td><td>4</td><td>2</td><td>2</td><td>5</td><td>2</td><td>2</td><td>3</td><td>3</td><td>2</td><td>2</td></tr>\n",
       "\t<tr><td>2</td><td>1</td><td>1</td><td>1</td><td>1</td><td>1</td><td>2</td><td>1</td><td>2</td><td>1</td><td>⋯</td><td>1</td><td>1</td><td>2</td><td>2</td><td>3</td><td>2</td><td>1</td><td>2</td><td>1</td><td>1</td></tr>\n",
       "\t<tr><td>1</td><td>1</td><td>1</td><td>2</td><td>1</td><td>1</td><td>1</td><td>0</td><td>1</td><td>1</td><td>⋯</td><td>2</td><td>1</td><td>1</td><td>2</td><td>2</td><td>3</td><td>2</td><td>2</td><td>1</td><td>1</td></tr>\n",
       "\t<tr><td>1</td><td>1</td><td>1</td><td>3</td><td>1</td><td>2</td><td>1</td><td>0</td><td>0</td><td>1</td><td>⋯</td><td>3</td><td>1</td><td>1</td><td>3</td><td>1</td><td>2</td><td>4</td><td>3</td><td>2</td><td>2</td></tr>\n",
       "\t<tr><td>2</td><td>1</td><td>1</td><td>2</td><td>1</td><td>1</td><td>2</td><td>1</td><td>2</td><td>1</td><td>⋯</td><td>2</td><td>2</td><td>3</td><td>3</td><td>2</td><td>2</td><td>3</td><td>5</td><td>1</td><td>1</td></tr>\n",
       "\t<tr><td>1</td><td>1</td><td>1</td><td>2</td><td>2</td><td>2</td><td>1</td><td>0</td><td>0</td><td>1</td><td>⋯</td><td>2</td><td>1</td><td>1</td><td>2</td><td>1</td><td>1</td><td>2</td><td>1</td><td>3</td><td>2</td></tr>\n",
       "\t<tr><td>1</td><td>1</td><td>2</td><td>2</td><td>1</td><td>2</td><td>1</td><td>0</td><td>0</td><td>1</td><td>⋯</td><td>3</td><td>1</td><td>1</td><td>2</td><td>1</td><td>1</td><td>2</td><td>1</td><td>2</td><td>3</td></tr>\n",
       "</tbody>\n",
       "</table>\n"
      ],
      "text/latex": [
       "A matrix: 26 × 26 of type dbl\n",
       "\\begin{tabular}{lllllllllllllllllllll}\n",
       "\t 3 & 1 & 1 & 1 & 1 & 1 & 2 & 1 & 1 & 2 & ⋯ & 1 & 2 & 3 & 2 & 2 & 1 & 1 & 2 & 1 & 1\\\\\n",
       "\t 1 & 3 & 1 & 1 & 1 & 1 & 1 & 1 & 0 & 1 & ⋯ & 2 & 0 & 2 & 1 & 1 & 1 & 1 & 1 & 1 & 1\\\\\n",
       "\t 1 & 1 & 2 & 1 & 1 & 1 & 1 & 0 & 0 & 1 & ⋯ & 2 & 1 & 1 & 1 & 1 & 1 & 1 & 1 & 1 & 2\\\\\n",
       "\t 1 & 1 & 1 & 3 & 1 & 2 & 1 & 0 & 0 & 1 & ⋯ & 3 & 1 & 1 & 3 & 1 & 2 & 3 & 2 & 2 & 2\\\\\n",
       "\t 1 & 1 & 1 & 1 & 3 & 2 & 1 & 0 & 0 & 1 & ⋯ & 1 & 1 & 1 & 1 & 1 & 1 & 1 & 1 & 2 & 1\\\\\n",
       "\t 1 & 1 & 1 & 2 & 2 & 3 & 1 & 0 & 0 & 1 & ⋯ & 2 & 0 & 1 & 2 & 1 & 1 & 2 & 1 & 2 & 2\\\\\n",
       "\t 2 & 1 & 1 & 1 & 1 & 1 & 4 & 2 & 2 & 1 & ⋯ & 2 & 1 & 2 & 3 & 2 & 1 & 1 & 2 & 1 & 1\\\\\n",
       "\t 1 & 1 & 0 & 0 & 0 & 0 & 2 & 3 & 2 & 0 & ⋯ & 0 & 1 & 2 & 1 & 1 & 0 & 0 & 1 & 0 & 0\\\\\n",
       "\t 1 & 0 & 0 & 0 & 0 & 0 & 2 & 2 & 4 & 0 & ⋯ & 0 & 1 & 2 & 1 & 2 & 1 & 0 & 2 & 0 & 0\\\\\n",
       "\t 2 & 1 & 1 & 1 & 1 & 1 & 1 & 0 & 0 & 2 & ⋯ & 1 & 1 & 2 & 1 & 1 & 1 & 1 & 1 & 1 & 1\\\\\n",
       "\t 2 & 1 & 1 & 2 & 1 & 2 & 1 & 0 & 0 & 2 & ⋯ & 2 & 1 & 2 & 2 & 1 & 1 & 2 & 1 & 2 & 2\\\\\n",
       "\t 1 & 1 & 0 & 0 & 0 & 0 & 1 & 2 & 1 & 0 & ⋯ & 0 & 1 & 2 & 1 & 1 & 0 & 0 & 1 & 0 & 0\\\\\n",
       "\t 3 & 2 & 1 & 1 & 1 & 1 & 2 & 1 & 1 & 2 & ⋯ & 2 & 2 & 3 & 2 & 2 & 1 & 1 & 2 & 1 & 1\\\\\n",
       "\t 2 & 1 & 2 & 3 & 2 & 2 & 3 & 1 & 1 & 1 & ⋯ & 5 & 4 & 2 & 5 & 2 & 2 & 3 & 3 & 3 & 3\\\\\n",
       "\t 1 & 1 & 1 & 3 & 2 & 2 & 1 & 0 & 0 & 1 & ⋯ & 3 & 2 & 1 & 3 & 1 & 2 & 4 & 3 & 3 & 2\\\\\n",
       "\t 1 & 1 & 1 & 2 & 2 & 3 & 1 & 0 & 1 & 1 & ⋯ & 2 & 0 & 1 & 2 & 2 & 2 & 3 & 2 & 2 & 2\\\\\n",
       "\t 1 & 2 & 2 & 3 & 1 & 2 & 2 & 0 & 0 & 1 & ⋯ & 6 & 2 & 1 & 4 & 1 & 2 & 3 & 2 & 2 & 3\\\\\n",
       "\t 2 & 0 & 1 & 1 & 1 & 0 & 1 & 1 & 1 & 1 & ⋯ & 2 & 5 & 2 & 2 & 1 & 1 & 1 & 2 & 1 & 1\\\\\n",
       "\t 3 & 2 & 1 & 1 & 1 & 1 & 2 & 2 & 2 & 2 & ⋯ & 1 & 2 & 5 & 2 & 2 & 1 & 1 & 3 & 1 & 1\\\\\n",
       "\t 2 & 1 & 1 & 3 & 1 & 2 & 3 & 1 & 1 & 1 & ⋯ & 4 & 2 & 2 & 5 & 2 & 2 & 3 & 3 & 2 & 2\\\\\n",
       "\t 2 & 1 & 1 & 1 & 1 & 1 & 2 & 1 & 2 & 1 & ⋯ & 1 & 1 & 2 & 2 & 3 & 2 & 1 & 2 & 1 & 1\\\\\n",
       "\t 1 & 1 & 1 & 2 & 1 & 1 & 1 & 0 & 1 & 1 & ⋯ & 2 & 1 & 1 & 2 & 2 & 3 & 2 & 2 & 1 & 1\\\\\n",
       "\t 1 & 1 & 1 & 3 & 1 & 2 & 1 & 0 & 0 & 1 & ⋯ & 3 & 1 & 1 & 3 & 1 & 2 & 4 & 3 & 2 & 2\\\\\n",
       "\t 2 & 1 & 1 & 2 & 1 & 1 & 2 & 1 & 2 & 1 & ⋯ & 2 & 2 & 3 & 3 & 2 & 2 & 3 & 5 & 1 & 1\\\\\n",
       "\t 1 & 1 & 1 & 2 & 2 & 2 & 1 & 0 & 0 & 1 & ⋯ & 2 & 1 & 1 & 2 & 1 & 1 & 2 & 1 & 3 & 2\\\\\n",
       "\t 1 & 1 & 2 & 2 & 1 & 2 & 1 & 0 & 0 & 1 & ⋯ & 3 & 1 & 1 & 2 & 1 & 1 & 2 & 1 & 2 & 3\\\\\n",
       "\\end{tabular}\n"
      ],
      "text/markdown": [
       "\n",
       "A matrix: 26 × 26 of type dbl\n",
       "\n",
       "| 3 | 1 | 1 | 1 | 1 | 1 | 2 | 1 | 1 | 2 | ⋯ | 1 | 2 | 3 | 2 | 2 | 1 | 1 | 2 | 1 | 1 |\n",
       "| 1 | 3 | 1 | 1 | 1 | 1 | 1 | 1 | 0 | 1 | ⋯ | 2 | 0 | 2 | 1 | 1 | 1 | 1 | 1 | 1 | 1 |\n",
       "| 1 | 1 | 2 | 1 | 1 | 1 | 1 | 0 | 0 | 1 | ⋯ | 2 | 1 | 1 | 1 | 1 | 1 | 1 | 1 | 1 | 2 |\n",
       "| 1 | 1 | 1 | 3 | 1 | 2 | 1 | 0 | 0 | 1 | ⋯ | 3 | 1 | 1 | 3 | 1 | 2 | 3 | 2 | 2 | 2 |\n",
       "| 1 | 1 | 1 | 1 | 3 | 2 | 1 | 0 | 0 | 1 | ⋯ | 1 | 1 | 1 | 1 | 1 | 1 | 1 | 1 | 2 | 1 |\n",
       "| 1 | 1 | 1 | 2 | 2 | 3 | 1 | 0 | 0 | 1 | ⋯ | 2 | 0 | 1 | 2 | 1 | 1 | 2 | 1 | 2 | 2 |\n",
       "| 2 | 1 | 1 | 1 | 1 | 1 | 4 | 2 | 2 | 1 | ⋯ | 2 | 1 | 2 | 3 | 2 | 1 | 1 | 2 | 1 | 1 |\n",
       "| 1 | 1 | 0 | 0 | 0 | 0 | 2 | 3 | 2 | 0 | ⋯ | 0 | 1 | 2 | 1 | 1 | 0 | 0 | 1 | 0 | 0 |\n",
       "| 1 | 0 | 0 | 0 | 0 | 0 | 2 | 2 | 4 | 0 | ⋯ | 0 | 1 | 2 | 1 | 2 | 1 | 0 | 2 | 0 | 0 |\n",
       "| 2 | 1 | 1 | 1 | 1 | 1 | 1 | 0 | 0 | 2 | ⋯ | 1 | 1 | 2 | 1 | 1 | 1 | 1 | 1 | 1 | 1 |\n",
       "| 2 | 1 | 1 | 2 | 1 | 2 | 1 | 0 | 0 | 2 | ⋯ | 2 | 1 | 2 | 2 | 1 | 1 | 2 | 1 | 2 | 2 |\n",
       "| 1 | 1 | 0 | 0 | 0 | 0 | 1 | 2 | 1 | 0 | ⋯ | 0 | 1 | 2 | 1 | 1 | 0 | 0 | 1 | 0 | 0 |\n",
       "| 3 | 2 | 1 | 1 | 1 | 1 | 2 | 1 | 1 | 2 | ⋯ | 2 | 2 | 3 | 2 | 2 | 1 | 1 | 2 | 1 | 1 |\n",
       "| 2 | 1 | 2 | 3 | 2 | 2 | 3 | 1 | 1 | 1 | ⋯ | 5 | 4 | 2 | 5 | 2 | 2 | 3 | 3 | 3 | 3 |\n",
       "| 1 | 1 | 1 | 3 | 2 | 2 | 1 | 0 | 0 | 1 | ⋯ | 3 | 2 | 1 | 3 | 1 | 2 | 4 | 3 | 3 | 2 |\n",
       "| 1 | 1 | 1 | 2 | 2 | 3 | 1 | 0 | 1 | 1 | ⋯ | 2 | 0 | 1 | 2 | 2 | 2 | 3 | 2 | 2 | 2 |\n",
       "| 1 | 2 | 2 | 3 | 1 | 2 | 2 | 0 | 0 | 1 | ⋯ | 6 | 2 | 1 | 4 | 1 | 2 | 3 | 2 | 2 | 3 |\n",
       "| 2 | 0 | 1 | 1 | 1 | 0 | 1 | 1 | 1 | 1 | ⋯ | 2 | 5 | 2 | 2 | 1 | 1 | 1 | 2 | 1 | 1 |\n",
       "| 3 | 2 | 1 | 1 | 1 | 1 | 2 | 2 | 2 | 2 | ⋯ | 1 | 2 | 5 | 2 | 2 | 1 | 1 | 3 | 1 | 1 |\n",
       "| 2 | 1 | 1 | 3 | 1 | 2 | 3 | 1 | 1 | 1 | ⋯ | 4 | 2 | 2 | 5 | 2 | 2 | 3 | 3 | 2 | 2 |\n",
       "| 2 | 1 | 1 | 1 | 1 | 1 | 2 | 1 | 2 | 1 | ⋯ | 1 | 1 | 2 | 2 | 3 | 2 | 1 | 2 | 1 | 1 |\n",
       "| 1 | 1 | 1 | 2 | 1 | 1 | 1 | 0 | 1 | 1 | ⋯ | 2 | 1 | 1 | 2 | 2 | 3 | 2 | 2 | 1 | 1 |\n",
       "| 1 | 1 | 1 | 3 | 1 | 2 | 1 | 0 | 0 | 1 | ⋯ | 3 | 1 | 1 | 3 | 1 | 2 | 4 | 3 | 2 | 2 |\n",
       "| 2 | 1 | 1 | 2 | 1 | 1 | 2 | 1 | 2 | 1 | ⋯ | 2 | 2 | 3 | 3 | 2 | 2 | 3 | 5 | 1 | 1 |\n",
       "| 1 | 1 | 1 | 2 | 2 | 2 | 1 | 0 | 0 | 1 | ⋯ | 2 | 1 | 1 | 2 | 1 | 1 | 2 | 1 | 3 | 2 |\n",
       "| 1 | 1 | 2 | 2 | 1 | 2 | 1 | 0 | 0 | 1 | ⋯ | 3 | 1 | 1 | 2 | 1 | 1 | 2 | 1 | 2 | 3 |\n",
       "\n"
      ],
      "text/plain": [
       "      [,1] [,2] [,3] [,4] [,5] [,6] [,7] [,8] [,9] [,10] [,11] [,12] [,13]\n",
       " [1,] 3    1    1    1    1    1    2    1    1    2     ⋯     1     2    \n",
       " [2,] 1    3    1    1    1    1    1    1    0    1     ⋯     2     0    \n",
       " [3,] 1    1    2    1    1    1    1    0    0    1     ⋯     2     1    \n",
       " [4,] 1    1    1    3    1    2    1    0    0    1     ⋯     3     1    \n",
       " [5,] 1    1    1    1    3    2    1    0    0    1     ⋯     1     1    \n",
       " [6,] 1    1    1    2    2    3    1    0    0    1     ⋯     2     0    \n",
       " [7,] 2    1    1    1    1    1    4    2    2    1     ⋯     2     1    \n",
       " [8,] 1    1    0    0    0    0    2    3    2    0     ⋯     0     1    \n",
       " [9,] 1    0    0    0    0    0    2    2    4    0     ⋯     0     1    \n",
       "[10,] 2    1    1    1    1    1    1    0    0    2     ⋯     1     1    \n",
       "[11,] 2    1    1    2    1    2    1    0    0    2     ⋯     2     1    \n",
       "[12,] 1    1    0    0    0    0    1    2    1    0     ⋯     0     1    \n",
       "[13,] 3    2    1    1    1    1    2    1    1    2     ⋯     2     2    \n",
       "[14,] 2    1    2    3    2    2    3    1    1    1     ⋯     5     4    \n",
       "[15,] 1    1    1    3    2    2    1    0    0    1     ⋯     3     2    \n",
       "[16,] 1    1    1    2    2    3    1    0    1    1     ⋯     2     0    \n",
       "[17,] 1    2    2    3    1    2    2    0    0    1     ⋯     6     2    \n",
       "[18,] 2    0    1    1    1    0    1    1    1    1     ⋯     2     5    \n",
       "[19,] 3    2    1    1    1    1    2    2    2    2     ⋯     1     2    \n",
       "[20,] 2    1    1    3    1    2    3    1    1    1     ⋯     4     2    \n",
       "[21,] 2    1    1    1    1    1    2    1    2    1     ⋯     1     1    \n",
       "[22,] 1    1    1    2    1    1    1    0    1    1     ⋯     2     1    \n",
       "[23,] 1    1    1    3    1    2    1    0    0    1     ⋯     3     1    \n",
       "[24,] 2    1    1    2    1    1    2    1    2    1     ⋯     2     2    \n",
       "[25,] 1    1    1    2    2    2    1    0    0    1     ⋯     2     1    \n",
       "[26,] 1    1    2    2    1    2    1    0    0    1     ⋯     3     1    \n",
       "      [,14] [,15] [,16] [,17] [,18] [,19] [,20] [,21]\n",
       " [1,] 3     2     2     1     1     2     1     1    \n",
       " [2,] 2     1     1     1     1     1     1     1    \n",
       " [3,] 1     1     1     1     1     1     1     2    \n",
       " [4,] 1     3     1     2     3     2     2     2    \n",
       " [5,] 1     1     1     1     1     1     2     1    \n",
       " [6,] 1     2     1     1     2     1     2     2    \n",
       " [7,] 2     3     2     1     1     2     1     1    \n",
       " [8,] 2     1     1     0     0     1     0     0    \n",
       " [9,] 2     1     2     1     0     2     0     0    \n",
       "[10,] 2     1     1     1     1     1     1     1    \n",
       "[11,] 2     2     1     1     2     1     2     2    \n",
       "[12,] 2     1     1     0     0     1     0     0    \n",
       "[13,] 3     2     2     1     1     2     1     1    \n",
       "[14,] 2     5     2     2     3     3     3     3    \n",
       "[15,] 1     3     1     2     4     3     3     2    \n",
       "[16,] 1     2     2     2     3     2     2     2    \n",
       "[17,] 1     4     1     2     3     2     2     3    \n",
       "[18,] 2     2     1     1     1     2     1     1    \n",
       "[19,] 5     2     2     1     1     3     1     1    \n",
       "[20,] 2     5     2     2     3     3     2     2    \n",
       "[21,] 2     2     3     2     1     2     1     1    \n",
       "[22,] 1     2     2     3     2     2     1     1    \n",
       "[23,] 1     3     1     2     4     3     2     2    \n",
       "[24,] 3     3     2     2     3     5     1     1    \n",
       "[25,] 1     2     1     1     2     1     3     2    \n",
       "[26,] 1     2     1     1     2     1     2     3    "
      ]
     },
     "metadata": {},
     "output_type": "display_data"
    },
    {
     "data": {
      "text/html": [
       "<table class=\"dataframe\">\n",
       "<caption>A matrix: 15 × 15 of type dbl</caption>\n",
       "<tbody>\n",
       "\t<tr><td>3</td><td> 0</td><td> 2</td><td> 3</td><td>0</td><td>1</td><td>1</td><td>1</td><td>1</td><td>1</td><td>0</td><td>0</td><td>0</td><td>0</td><td>1</td></tr>\n",
       "\t<tr><td>0</td><td>11</td><td>11</td><td> 2</td><td>1</td><td>3</td><td>0</td><td>1</td><td>1</td><td>0</td><td>3</td><td>3</td><td>3</td><td>2</td><td>6</td></tr>\n",
       "\t<tr><td>2</td><td>11</td><td>22</td><td> 8</td><td>3</td><td>4</td><td>2</td><td>3</td><td>5</td><td>1</td><td>4</td><td>4</td><td>4</td><td>3</td><td>8</td></tr>\n",
       "\t<tr><td>3</td><td> 2</td><td> 8</td><td>12</td><td>1</td><td>1</td><td>3</td><td>2</td><td>4</td><td>3</td><td>3</td><td>2</td><td>2</td><td>0</td><td>4</td></tr>\n",
       "\t<tr><td>0</td><td> 1</td><td> 3</td><td> 1</td><td>3</td><td>0</td><td>1</td><td>0</td><td>1</td><td>0</td><td>1</td><td>1</td><td>0</td><td>0</td><td>1</td></tr>\n",
       "\t<tr><td>1</td><td> 3</td><td> 4</td><td> 1</td><td>0</td><td>4</td><td>0</td><td>1</td><td>0</td><td>0</td><td>0</td><td>0</td><td>1</td><td>1</td><td>3</td></tr>\n",
       "\t<tr><td>1</td><td> 0</td><td> 2</td><td> 3</td><td>1</td><td>0</td><td>4</td><td>0</td><td>1</td><td>1</td><td>0</td><td>0</td><td>0</td><td>0</td><td>0</td></tr>\n",
       "\t<tr><td>1</td><td> 1</td><td> 3</td><td> 2</td><td>0</td><td>1</td><td>0</td><td>4</td><td>0</td><td>1</td><td>0</td><td>0</td><td>0</td><td>1</td><td>1</td></tr>\n",
       "\t<tr><td>1</td><td> 1</td><td> 5</td><td> 4</td><td>1</td><td>0</td><td>1</td><td>0</td><td>6</td><td>0</td><td>0</td><td>1</td><td>1</td><td>0</td><td>1</td></tr>\n",
       "\t<tr><td>1</td><td> 0</td><td> 1</td><td> 3</td><td>0</td><td>0</td><td>1</td><td>1</td><td>0</td><td>3</td><td>1</td><td>0</td><td>0</td><td>0</td><td>0</td></tr>\n",
       "\t<tr><td>0</td><td> 3</td><td> 4</td><td> 3</td><td>1</td><td>0</td><td>0</td><td>0</td><td>0</td><td>1</td><td>4</td><td>2</td><td>1</td><td>0</td><td>3</td></tr>\n",
       "\t<tr><td>0</td><td> 3</td><td> 4</td><td> 2</td><td>1</td><td>0</td><td>0</td><td>0</td><td>1</td><td>0</td><td>2</td><td>5</td><td>2</td><td>0</td><td>3</td></tr>\n",
       "\t<tr><td>0</td><td> 3</td><td> 4</td><td> 2</td><td>0</td><td>1</td><td>0</td><td>0</td><td>1</td><td>0</td><td>1</td><td>2</td><td>5</td><td>1</td><td>3</td></tr>\n",
       "\t<tr><td>0</td><td> 2</td><td> 3</td><td> 0</td><td>0</td><td>1</td><td>0</td><td>1</td><td>0</td><td>0</td><td>0</td><td>0</td><td>1</td><td>3</td><td>0</td></tr>\n",
       "\t<tr><td>1</td><td> 6</td><td> 8</td><td> 4</td><td>1</td><td>3</td><td>0</td><td>1</td><td>1</td><td>0</td><td>3</td><td>3</td><td>3</td><td>0</td><td>9</td></tr>\n",
       "</tbody>\n",
       "</table>\n"
      ],
      "text/latex": [
       "A matrix: 15 × 15 of type dbl\n",
       "\\begin{tabular}{lllllllllllllll}\n",
       "\t 3 &  0 &  2 &  3 & 0 & 1 & 1 & 1 & 1 & 1 & 0 & 0 & 0 & 0 & 1\\\\\n",
       "\t 0 & 11 & 11 &  2 & 1 & 3 & 0 & 1 & 1 & 0 & 3 & 3 & 3 & 2 & 6\\\\\n",
       "\t 2 & 11 & 22 &  8 & 3 & 4 & 2 & 3 & 5 & 1 & 4 & 4 & 4 & 3 & 8\\\\\n",
       "\t 3 &  2 &  8 & 12 & 1 & 1 & 3 & 2 & 4 & 3 & 3 & 2 & 2 & 0 & 4\\\\\n",
       "\t 0 &  1 &  3 &  1 & 3 & 0 & 1 & 0 & 1 & 0 & 1 & 1 & 0 & 0 & 1\\\\\n",
       "\t 1 &  3 &  4 &  1 & 0 & 4 & 0 & 1 & 0 & 0 & 0 & 0 & 1 & 1 & 3\\\\\n",
       "\t 1 &  0 &  2 &  3 & 1 & 0 & 4 & 0 & 1 & 1 & 0 & 0 & 0 & 0 & 0\\\\\n",
       "\t 1 &  1 &  3 &  2 & 0 & 1 & 0 & 4 & 0 & 1 & 0 & 0 & 0 & 1 & 1\\\\\n",
       "\t 1 &  1 &  5 &  4 & 1 & 0 & 1 & 0 & 6 & 0 & 0 & 1 & 1 & 0 & 1\\\\\n",
       "\t 1 &  0 &  1 &  3 & 0 & 0 & 1 & 1 & 0 & 3 & 1 & 0 & 0 & 0 & 0\\\\\n",
       "\t 0 &  3 &  4 &  3 & 1 & 0 & 0 & 0 & 0 & 1 & 4 & 2 & 1 & 0 & 3\\\\\n",
       "\t 0 &  3 &  4 &  2 & 1 & 0 & 0 & 0 & 1 & 0 & 2 & 5 & 2 & 0 & 3\\\\\n",
       "\t 0 &  3 &  4 &  2 & 0 & 1 & 0 & 0 & 1 & 0 & 1 & 2 & 5 & 1 & 3\\\\\n",
       "\t 0 &  2 &  3 &  0 & 0 & 1 & 0 & 1 & 0 & 0 & 0 & 0 & 1 & 3 & 0\\\\\n",
       "\t 1 &  6 &  8 &  4 & 1 & 3 & 0 & 1 & 1 & 0 & 3 & 3 & 3 & 0 & 9\\\\\n",
       "\\end{tabular}\n"
      ],
      "text/markdown": [
       "\n",
       "A matrix: 15 × 15 of type dbl\n",
       "\n",
       "| 3 |  0 |  2 |  3 | 0 | 1 | 1 | 1 | 1 | 1 | 0 | 0 | 0 | 0 | 1 |\n",
       "| 0 | 11 | 11 |  2 | 1 | 3 | 0 | 1 | 1 | 0 | 3 | 3 | 3 | 2 | 6 |\n",
       "| 2 | 11 | 22 |  8 | 3 | 4 | 2 | 3 | 5 | 1 | 4 | 4 | 4 | 3 | 8 |\n",
       "| 3 |  2 |  8 | 12 | 1 | 1 | 3 | 2 | 4 | 3 | 3 | 2 | 2 | 0 | 4 |\n",
       "| 0 |  1 |  3 |  1 | 3 | 0 | 1 | 0 | 1 | 0 | 1 | 1 | 0 | 0 | 1 |\n",
       "| 1 |  3 |  4 |  1 | 0 | 4 | 0 | 1 | 0 | 0 | 0 | 0 | 1 | 1 | 3 |\n",
       "| 1 |  0 |  2 |  3 | 1 | 0 | 4 | 0 | 1 | 1 | 0 | 0 | 0 | 0 | 0 |\n",
       "| 1 |  1 |  3 |  2 | 0 | 1 | 0 | 4 | 0 | 1 | 0 | 0 | 0 | 1 | 1 |\n",
       "| 1 |  1 |  5 |  4 | 1 | 0 | 1 | 0 | 6 | 0 | 0 | 1 | 1 | 0 | 1 |\n",
       "| 1 |  0 |  1 |  3 | 0 | 0 | 1 | 1 | 0 | 3 | 1 | 0 | 0 | 0 | 0 |\n",
       "| 0 |  3 |  4 |  3 | 1 | 0 | 0 | 0 | 0 | 1 | 4 | 2 | 1 | 0 | 3 |\n",
       "| 0 |  3 |  4 |  2 | 1 | 0 | 0 | 0 | 1 | 0 | 2 | 5 | 2 | 0 | 3 |\n",
       "| 0 |  3 |  4 |  2 | 0 | 1 | 0 | 0 | 1 | 0 | 1 | 2 | 5 | 1 | 3 |\n",
       "| 0 |  2 |  3 |  0 | 0 | 1 | 0 | 1 | 0 | 0 | 0 | 0 | 1 | 3 | 0 |\n",
       "| 1 |  6 |  8 |  4 | 1 | 3 | 0 | 1 | 1 | 0 | 3 | 3 | 3 | 0 | 9 |\n",
       "\n"
      ],
      "text/plain": [
       "      [,1] [,2] [,3] [,4] [,5] [,6] [,7] [,8] [,9] [,10] [,11] [,12] [,13]\n",
       " [1,] 3     0    2    3   0    1    1    1    1    1     0     0     0    \n",
       " [2,] 0    11   11    2   1    3    0    1    1    0     3     3     3    \n",
       " [3,] 2    11   22    8   3    4    2    3    5    1     4     4     4    \n",
       " [4,] 3     2    8   12   1    1    3    2    4    3     3     2     2    \n",
       " [5,] 0     1    3    1   3    0    1    0    1    0     1     1     0    \n",
       " [6,] 1     3    4    1   0    4    0    1    0    0     0     0     1    \n",
       " [7,] 1     0    2    3   1    0    4    0    1    1     0     0     0    \n",
       " [8,] 1     1    3    2   0    1    0    4    0    1     0     0     0    \n",
       " [9,] 1     1    5    4   1    0    1    0    6    0     0     1     1    \n",
       "[10,] 1     0    1    3   0    0    1    1    0    3     1     0     0    \n",
       "[11,] 0     3    4    3   1    0    0    0    0    1     4     2     1    \n",
       "[12,] 0     3    4    2   1    0    0    0    1    0     2     5     2    \n",
       "[13,] 0     3    4    2   0    1    0    0    1    0     1     2     5    \n",
       "[14,] 0     2    3    0   0    1    0    1    0    0     0     0     1    \n",
       "[15,] 1     6    8    4   1    3    0    1    1    0     3     3     3    \n",
       "      [,14] [,15]\n",
       " [1,] 0     1    \n",
       " [2,] 2     6    \n",
       " [3,] 3     8    \n",
       " [4,] 0     4    \n",
       " [5,] 0     1    \n",
       " [6,] 1     3    \n",
       " [7,] 0     0    \n",
       " [8,] 1     1    \n",
       " [9,] 0     1    \n",
       "[10,] 0     0    \n",
       "[11,] 0     3    \n",
       "[12,] 0     3    \n",
       "[13,] 1     3    \n",
       "[14,] 3     0    \n",
       "[15,] 0     9    "
      ]
     },
     "metadata": {},
     "output_type": "display_data"
    },
    {
     "data": {
      "image/png": "[encoded data removed]",
      "text/plain": [
       "Plot with title \"\""
      ]
     },
     "metadata": {
      "image/png": {
       "height": 420,
       "width": 420
      }
     },
     "output_type": "display_data"
    },
    {
     "data": {
      "image/png": "[encoded data removed]",
      "text/plain": [
       "Plot with title \"\""
      ]
     },
     "metadata": {
      "image/png": {
       "height": 420,
       "width": 420
      }
     },
     "output_type": "display_data"
    }
   ],
   "source": [
    "A <- as.matrix(object2)\n",
    "colnames(A) <- NULL\n",
    "\n",
    "complicity<- A %*% t(A)\n",
    "network_of_complicity = graph.incidence(complicity, mode='in',weighted=TRUE)\n",
    "complicity\n",
    "plot(network_of_complicity, layout=layout_with_kk)\n",
    "\n",
    "event<-t(A) %*% A\n",
    "event\n",
    "network_of_event = graph.incidence(event, mode='in', weighted=TRUE)\n",
    "plot(network_of_event, layout=layout_with_kk)"
   ]
  },
  {
   "cell_type": "markdown",
   "id": "7d750e43",
   "metadata": {},
   "source": [
    "8. Вычислить степень участия для каждого актора, а также среднее количество событий, с которыми актор аффилирован. Сделать выводы."
   ]
  },
  {
   "cell_type": "code",
   "execution_count": 9,
   "id": "0db24193",
   "metadata": {},
   "outputs": [
    {
     "name": "stdout",
     "output_type": "stream",
     "text": [
      "[1] \"Степень участия для каждого актора от первого до последнего:\"\n",
      " [1] 3 3 2 3 3 3 4 3 4 2 3 2 4 7 5 5 6 5 5 5 3 3 4 5 3 3\n",
      "[1] \"Среднее количество событий:\"\n",
      "[1] 3.769231\n"
     ]
    }
   ],
   "source": [
    "test <- as.matrix(object2)\n",
    "colnames(test) <- NULL\n",
    "\n",
    "complicity_matrix <- test %*% t(test)\n",
    "\n",
    "print(\"Степень участия для каждого актора от первого до последнего:\")\n",
    "count_event <- diag(complicity_matrix)\n",
    "\n",
    "print(count_event)\n",
    "\n",
    "print(\"Среднее количество событий:\")\n",
    "print(mean(count_event))"
   ]
  },
  {
   "cell_type": "markdown",
   "id": "9f92188b",
   "metadata": {},
   "source": [
    "9. Вычислить размер и средний размер для каждого события. Сделать выводы."
   ]
  },
  {
   "cell_type": "code",
   "execution_count": 10,
   "id": "6f3787f1",
   "metadata": {},
   "outputs": [
    {
     "name": "stdout",
     "output_type": "stream",
     "text": [
      "Событие 1  -  3 .\n",
      "Событие 2  -  11 .\n",
      "Событие 3  -  22 .\n",
      "Событие 4  -  12 .\n",
      "Событие 5  -  3 .\n",
      "Событие 6  -  4 .\n",
      "Событие 7  -  4 .\n",
      "Событие 8  -  4 .\n",
      "Событие 9  -  6 .\n",
      "Событие 10  -  3 .\n",
      "Событие 11  -  4 .\n",
      "Событие 12  -  5 .\n",
      "Событие 13  -  5 .\n",
      "Событие 14  -  3 .\n",
      "Событие 15  -  9 .\n"
     ]
    },
    {
     "data": {
      "text/html": [
       "6.53333333333333"
      ],
      "text/latex": [
       "6.53333333333333"
      ],
      "text/markdown": [
       "6.53333333333333"
      ],
      "text/plain": [
       "[1] 6.533333"
      ]
     },
     "metadata": {},
     "output_type": "display_data"
    }
   ],
   "source": [
    "size<-event[row(event)==col(event)]\n",
    "for(i in 1:length(size)){\n",
    "    cat(\"Событие\", i, \" - \", size[i], \".\\n\")\n",
    "}\n",
    "average_size<-sum(size)/length(size)\n",
    "average_size"
   ]
  },
  {
   "cell_type": "markdown",
   "id": "21ffb76c",
   "metadata": {},
   "source": [
    "10. Вычислить плотность для соотношения соучастия и отношения перекрытия. Проинтерпретируйте полученные значения."
   ]
  },
  {
   "cell_type": "code",
   "execution_count": 11,
   "id": "81a76c31",
   "metadata": {},
   "outputs": [
    {
     "name": "stdout",
     "output_type": "stream",
     "text": [
      "[1] \"Плотность для соотношения соучастия:\"\n"
     ]
    },
    {
     "data": {
      "text/html": [
       "1.41230769230769"
      ],
      "text/latex": [
       "1.41230769230769"
      ],
      "text/markdown": [
       "1.41230769230769"
      ],
      "text/plain": [
       "[1] 1.412308"
      ]
     },
     "metadata": {},
     "output_type": "display_data"
    },
    {
     "name": "stdout",
     "output_type": "stream",
     "text": [
      "[1] \"Плотность для отношения перекрытия:\"\n"
     ]
    },
    {
     "data": {
      "text/html": [
       "1.48571428571429"
      ],
      "text/latex": [
       "1.48571428571429"
      ],
      "text/markdown": [
       "1.48571428571429"
      ],
      "text/plain": [
       "[1] 1.485714"
      ]
     },
     "metadata": {},
     "output_type": "display_data"
    }
   ],
   "source": [
    "test <- as.matrix(object2)\n",
    "colnames(test) <- NULL\n",
    "\n",
    "complicity_matrix <- test %*% t(test)\n",
    "len1 <- length(diag(complicity_matrix))\n",
    "\n",
    "overlap_matrix <- t(test) %*% test\n",
    "len2 <- length(diag(overlap_matrix))\n",
    "\n",
    "print(\"Плотность для соотношения соучастия:\")\n",
    "sum(sum(complicity_matrix)-sum(diag(complicity_matrix)))/(len1*(len1-1))\n",
    "print(\"Плотность для отношения перекрытия:\")\n",
    "sum(sum(overlap_matrix)-sum(diag(overlap_matrix)))/(len2*(len2-1))"
   ]
  },
  {
   "cell_type": "markdown",
   "id": "db99cbf5",
   "metadata": {},
   "source": [
    "11. Определить диаметр сети аффилированности"
   ]
  },
  {
   "cell_type": "code",
   "execution_count": 12,
   "id": "fc1a1b81",
   "metadata": {},
   "outputs": [
    {
     "name": "stdout",
     "output_type": "stream",
     "text": [
      "[1] 4\n"
     ]
    }
   ],
   "source": [
    "A <- as.matrix(object2)\n",
    "colnames(A) <- NULL\n",
    "\n",
    "\n",
    "res <- rbind(cbind(matrix(0,nrow = nrow(test),ncol = nrow(test)), test),cbind(t(test),matrix(0,nrow = ncol(test), ncol = ncol(test))))\n",
    "rownames(res) <- c(sapply(1:nrow(test),function(x) paste(x, \"actor\",sep =\" \")),sapply(1:ncol(test), function (x) paste(x,\"event\",sep=\" \")))\n",
    "colnames(res) <- rownames(res)\n",
    "temp_graph <-graph.adjacency(res,mode = \"undirected\")\n",
    "V(temp_graph)$type <- sapply(1:(nrow(test)+ncol(test)), function(x) if (x <= nrow(test)) TRUE else FALSE)\n",
    "\n",
    "ways <- distances(temp_graph)\n",
    "even_ways <- max(ways[(nrow(test)+1):(nrow(test)+ncol(test)),(nrow(test)+1):(nrow(test)+ncol(test))])\n",
    "res <- max(ways[1:nrow(test), 1:nrow(test)])\n",
    "if(res < even_ways) {\n",
    "  res <- even_ways\n",
    "}\n",
    "\n",
    "print(res)"
   ]
  },
  {
   "cell_type": "markdown",
   "id": "db6b5e6f",
   "metadata": {},
   "source": [
    "13. Для каждых пар событий определить отношение шансов. Сделать выводы."
   ]
  },
  {
   "cell_type": "markdown",
   "id": "6af05bfd",
   "metadata": {},
   "source": [
    "## Выводы\n",
    "Были получены навыки работы с математическими пакетами для исследования подгрупп в социальных сетях, а также моделирования, отображения и анализа сетей аффилированности."
   ]
  }
 ],
 "metadata": {
  "kernelspec": {
   "display_name": "R",
   "language": "R",
   "name": "ir"
  },
  "language_info": {
   "codemirror_mode": "r",
   "file_extension": ".r",
   "mimetype": "text/x-r-source",
   "name": "R",
   "pygments_lexer": "r",
   "version": "4.2.1"
  }
 },
 "nbformat": 4,
 "nbformat_minor": 5
}
