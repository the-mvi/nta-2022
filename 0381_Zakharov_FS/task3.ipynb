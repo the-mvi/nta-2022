{
 "cells": [
  {
   "cell_type": "markdown",
   "metadata": {},
   "source": [
    "# Практическая работа №3: Статистический анализ социальных сетей\n",
    "Выполнил студент гр. 0381 Захаров Филипп. Вариант №4"
   ]
  },
  {
   "cell_type": "markdown",
   "metadata": {},
   "source": [
    "## Цель работы\n",
    "Овладеть навыками работы с математическими пакетами для статистического анализа социальных сетей."
   ]
  },
  {
   "cell_type": "markdown",
   "metadata": {},
   "source": [
    "## Основные теоретические положения\n",
    "\n",
    "**Диада** $-$ элемент сети, представляющий собой пару акторов и (возможную) связь между ними:<br>\n",
    "$D_{ij}=(X_{ij}, X_{ji}), i\\neq j$.\n",
    "\n",
    "**Цензус диад** $-$ тройка чисел $M, A, N$, где:\n",
    "\n",
    "Вычисление цензуса:  \n",
    "$M = \\frac{1}{2} trace(𝐗𝐗)$  \n",
    "$A = trace(𝐗𝐗^{T}) - 2M$  \n",
    "$N = C_g^2 - A - M$  \n",
    "\n",
    "**Индекс взаимности Каца-Пауэлла** (Reciprocity of Katz and Powell) $-$ характеристика измерения тенденции акторов в группе. Данный индекс оценивает тенденцию акторов в группе к взаимному выбору друг друга. \n",
    "\n",
    "$-\\infty < \\rho_{кр} \\leqslant 1$.\n",
    "\n",
    "Индекс взаимности основан на ожидании количества взаимных диад, предполагая, что выбор делается акторами случайным образом. Выбор может быть фиксированным или свободным.\n",
    "\n",
    "Для фиксированного выбора из $d$ акторов:\n",
    "\n",
    "$\\hat{\\rho}_{кр} = \\displaystyle{\\frac{2(g-1)M - gd^2}{gd(g - d - 1)}}$.\n",
    "\n",
    "Вероятность того, что связь будет взаимной для двух акторов:\n",
    "\n",
    "$\\displaystyle{P(i \\rightarrow j \\wedge j \\rightarrow i) = \\frac{d}{g - 1}\\left( \\frac{d}{g - 1} + \\rho_{кр} \\frac{g - 1 - d}{g - 1} \\right)}.$\n",
    "\n",
    "Для свободного выбора:\n",
    "\n",
    "$\\hat{\\rho}_{кр} = \\displaystyle{\\frac{2(g-1)^2M - L^2 + L_2}{L(g - 1)^2 - L^2 - L_2}}$.\n",
    "\n",
    "Вероятность того, что связь будет взаимной для двух акторов (для каждого из акторов):\n",
    "\n",
    "$P = \\displaystyle{\\frac{x_{i+}x_{j+}}{(g - 1)^2}}$.\n",
    "\n",
    "**Индекс взаимности Бандиопадхьяйя** - индекс, основанный на максимальной и минимальной значениях количества диад в сети. \n",
    "\n",
    "$\\rho_B = \\displaystyle{\\frac{M - M_{\\min}}{M_{\\max} - M_{\\min}}}$,\n",
    "\n",
    "где $M_{\\min} = \\max f(t), 0 \\leqslant t \\leqslant g$, \n",
    "\n",
    "$M_{\\max} = \\lfloor 0.5 \\sum^g_{i = 1} x_{i+} - \\max g(t)\\rfloor, 0 \\leqslant t \\leqslant g$,\n",
    "\n",
    "$f(t) = \\sum^t_{i=1} x_{i+} - t(g - 1) - C^2_g$,\n",
    "\n",
    "$g(t) = \\sum^t_{i=1} x_{i+} - t(t - 1) - \\sum^g_{i=t+1} \\min (t, x_{i+})$.\n",
    "\n",
    "**Вычисление доверительного интервала для оценки P:**\n",
    "\n",
    "Оценка параметра $P$:\n",
    "\n",
    "$\\hat{P} = \\displaystyle{\\frac{\\sum_{i = 1}^g \\sum_{j = 1}^g x_{ij}}{g(g-1)} = \\frac{l}{g(g - 1)}}$.\n",
    "\n",
    "ДИ: $\\hat{P}_{lower} \\leqslant P \\leqslant \\hat{P}_{upper}$.\n",
    "\n",
    "$\\hat{P}_{lower} = \\displaystyle{\\hat{P} - z_{\\alpha/2} \\sqrt\\frac{\\hat{P}(1- \\hat{P})}{g(g-1)}}$\n",
    "\n",
    "$\\hat{P}_{upper} = \\displaystyle{\\hat{P} + z_{\\alpha/2} \\sqrt\\frac{\\hat{P}(1- \\hat{P})}{g(g-1)}}$\n",
    "\n",
    "$z_{\\alpha/2}$ вычисляется из $\\Phi(z_{\\alpha/2}) = 0.5 - 0.5 \\alpha$, где $\\alpha$ - некоторый уровень значимости, $(1 - \\alpha)$ - доверительная надёжность. "
   ]
  },
  {
   "cell_type": "markdown",
   "metadata": {},
   "source": [
    "## Постановка задачи\n",
    "С помощью математических пакетов и соответствующих библиотек провести статистический анализ случайно смоделированного ориентированного графа. Полученные результаты содержательно проинтерпретировать."
   ]
  },
  {
   "cell_type": "markdown",
   "metadata": {},
   "source": [
    "## Выполнение работы"
   ]
  },
  {
   "cell_type": "markdown",
   "metadata": {},
   "source": [
    "Перед началом работы импортируем необходимые библиотеки и определим константы."
   ]
  },
  {
   "cell_type": "code",
   "execution_count": 1,
   "metadata": {
    "scrolled": true
   },
   "outputs": [
    {
     "name": "stderr",
     "output_type": "stream",
     "text": [
      "Устанавливаю пакет в 'C:/Users/Filip/AppData/Local/R/win-library/4.2'\n",
      "(потому что 'lib' не определено)\n",
      "\n"
     ]
    },
    {
     "name": "stdout",
     "output_type": "stream",
     "text": [
      "пакет 'DescTools' успешно распакован, MD5-суммы проверены\n",
      "\n",
      "Скачанные бинарные пакеты находятся в\n",
      "\tC:\\Users\\Filip\\AppData\\Local\\Temp\\RtmpmuREw3\\downloaded_packages\n"
     ]
    },
    {
     "name": "stderr",
     "output_type": "stream",
     "text": [
      "Warning message:\n",
      "\"пакет 'DescTools' был собран под R версии 4.2.2\"\n",
      "Warning message:\n",
      "\"пакет 'igraph' был собран под R версии 4.2.2\"\n",
      "\n",
      "Присоединяю пакет: 'igraph'\n",
      "\n",
      "\n",
      "Следующий объект скрыт от 'package:DescTools':\n",
      "\n",
      "    %c%\n",
      "\n",
      "\n",
      "Следующие объекты скрыты от 'package:stats':\n",
      "\n",
      "    decompose, spectrum\n",
      "\n",
      "\n",
      "Следующий объект скрыт от 'package:base':\n",
      "\n",
      "    union\n",
      "\n",
      "\n"
     ]
    }
   ],
   "source": [
    "install.packages(\"DescTools\")\n",
    "library(DescTools)\n",
    "library(igraph)"
   ]
  },
  {
   "cell_type": "code",
   "execution_count": 2,
   "metadata": {},
   "outputs": [],
   "source": [
    "g = 68;\n",
    "p = 0.68;\n",
    "P_0 = 0.78;\n",
    "alpha = 0.02;"
   ]
  },
  {
   "cell_type": "markdown",
   "metadata": {},
   "source": [
    "##### 1. С помощью библиотеки igraph смоделировать случайный орграф G𝑑 на основе модели Эрдеша—Реньи: G𝑑 = G (𝑔, 𝑝), где 𝑔 – количество акторов, 𝑝 – вероятность появления дуги между акторами. В R для модели случайного графа Эрдеша—Реньи существует функция erdos.renyi.game(). Ознакомьтесь с данной моделью и опишите её."
   ]
  },
  {
   "cell_type": "code",
   "execution_count": 3,
   "metadata": {},
   "outputs": [],
   "source": [
    "graph <- erdos.renyi.game(g, p, directed=TRUE)"
   ]
  },
  {
   "cell_type": "markdown",
   "metadata": {},
   "source": [
    "##### 2. Отобразить полученный орграф"
   ]
  },
  {
   "cell_type": "code",
   "execution_count": 4,
   "metadata": {},
   "outputs": [
    {
     "data": {
      "image/png": "[encoded data removed]",
      "text/plain": [
       "Plot with title \"\""
      ]
     },
     "metadata": {
      "image/png": {
       "height": 420,
       "width": 420
      }
     },
     "output_type": "display_data"
    }
   ],
   "source": [
    "plot(graph)"
   ]
  },
  {
   "cell_type": "markdown",
   "metadata": {},
   "source": [
    "##### 3. Вычислить «пятичисловую сводку» для графа G𝑑."
   ]
  },
  {
   "cell_type": "code",
   "execution_count": 5,
   "metadata": {},
   "outputs": [
    {
     "name": "stdout",
     "output_type": "stream",
     "text": [
      "Размер: 68 \n",
      "Плотность: 1.372695 \n",
      "Компоненты сильной связности:  1 \n",
      "Диаметр сети: 2 \n",
      "Коэффициент кластеризации: 0.9030294"
     ]
    }
   ],
   "source": [
    "s = length(V(graph))\n",
    "cat(\"Размер:\", s, '\\n')\n",
    "\n",
    "cat(\"Плотность:\", length(E(graph)) / choose(s, 2), \"\\n\")\n",
    "\n",
    "cat(\"Компоненты сильной связности: \", count_components(graph, mode = \"strong\"), \"\\n\") \n",
    " \n",
    "cat(\"Диаметр сети:\", diameter(graph), \"\\n\")\n",
    "\n",
    "cat(\"Коэффициент кластеризации:\", transitivity(graph))"
   ]
  },
  {
   "cell_type": "markdown",
   "metadata": {},
   "source": [
    "##### 4. Вычислить цензус диад. Сделать выводы."
   ]
  },
  {
   "cell_type": "code",
   "execution_count": 6,
   "metadata": {},
   "outputs": [
    {
     "data": {
      "text/html": [
       "<dl>\n",
       "\t<dt>$mut</dt>\n",
       "\t\t<dd>1071</dd>\n",
       "\t<dt>$asym</dt>\n",
       "\t\t<dd>985</dd>\n",
       "\t<dt>$null</dt>\n",
       "\t\t<dd>222</dd>\n",
       "</dl>\n"
      ],
      "text/latex": [
       "\\begin{description}\n",
       "\\item[\\$mut] 1071\n",
       "\\item[\\$asym] 985\n",
       "\\item[\\$null] 222\n",
       "\\end{description}\n"
      ],
      "text/markdown": [
       "$mut\n",
       ":   1071\n",
       "$asym\n",
       ":   985\n",
       "$null\n",
       ":   222\n",
       "\n",
       "\n"
      ],
      "text/plain": [
       "$mut\n",
       "[1] 1071\n",
       "\n",
       "$asym\n",
       "[1] 985\n",
       "\n",
       "$null\n",
       "[1] 222\n"
      ]
     },
     "metadata": {},
     "output_type": "display_data"
    }
   ],
   "source": [
    "dc = dyad_census(graph)\n",
    "dc"
   ]
  },
  {
   "cell_type": "markdown",
   "metadata": {},
   "source": [
    "В сети почти поровну акторов со взаимными и односторонними связями. И почти нет акторов без связей. Если посчитать вероятность появления ребра, то всегда получается примерно 68 процентов (как по условию)."
   ]
  },
  {
   "cell_type": "markdown",
   "metadata": {},
   "source": [
    "##### 5. Вычислить оценку индекса взаимности Каца—Пауэла при фиксированом выборе акторов 𝑑 и при свободном выборе. Сделать выводы."
   ]
  },
  {
   "cell_type": "code",
   "execution_count": 7,
   "metadata": {},
   "outputs": [],
   "source": [
    "d = 68\n",
    "ind_kp = (2 * (g - 1) * dc$mut - g * d^2) / (g * d * (g - 1 - d))"
   ]
  },
  {
   "cell_type": "code",
   "execution_count": 8,
   "metadata": {},
   "outputs": [
    {
     "name": "stdout",
     "output_type": "stream",
     "text": [
      "Коэффициент Каца-Пауэла при d=68 равен 36.96324 \n",
      "Коэффициент Каца-Пауэла при свободном выборе равен -0.004064704"
     ]
    }
   ],
   "source": [
    "x = as.matrix(as_adjacency_matrix(graph))\n",
    "x_plus = rowSums(x)\n",
    "L_x = sum(x)\n",
    "L_2_x = sum(x_plus**2)\n",
    "\n",
    "ind_kp_free <- (2 * (g - 1)^2 * dc$mut - L_x^2 + L_2_x) / (L_x * (g - 1)^2 - L_x^2 + L_2_x)\n",
    "\n",
    "cat(\"Коэффициент Каца-Пауэла при d=68 равен\", ind_kp, '\\n')\n",
    "cat(\"Коэффициент Каца-Пауэла при свободном выборе равен\", ind_kp_free)"
   ]
  },
  {
   "cell_type": "markdown",
   "metadata": {},
   "source": [
    "##### 6. Вычислить вероятность того, что связь будет взаимной для каждого случая."
   ]
  },
  {
   "cell_type": "code",
   "execution_count": 9,
   "metadata": {
    "scrolled": true
   },
   "outputs": [
    {
     "name": "stdout",
     "output_type": "stream",
     "text": [
      "При фиксированном выборе вероятность взаимной связи:  0.4701493"
     ]
    }
   ],
   "source": [
    "Pij = (d / (g - 1)) * (d / (g - 1) + ind_kp * ((g - 1 - d) / (g - 1)))\n",
    "cat(\"При фиксированном выборе вероятность взаимной связи: \", Pij)"
   ]
  },
  {
   "cell_type": "markdown",
   "metadata": {},
   "source": [
    "##### 7. Вычислить индекс взаимности Бандиопадхьяйя. Сделать выводы."
   ]
  },
  {
   "cell_type": "code",
   "execution_count": 10,
   "metadata": {},
   "outputs": [
    {
     "name": "stdout",
     "output_type": "stream",
     "text": [
      "индекс взаимности Бандиопадхьяйя равен: 0.685696"
     ]
    },
    {
     "data": {
      "text/html": [
       "0.685001598976655"
      ],
      "text/latex": [
       "0.685001598976655"
      ],
      "text/markdown": [
       "0.685001598976655"
      ],
      "text/plain": [
       "[1] 0.6850016"
      ]
     },
     "metadata": {},
     "output_type": "display_data"
    }
   ],
   "source": [
    "adj_matrix = as.matrix(as_adjacency_matrix(graph))\n",
    "\n",
    "g_func <- function(row_sum, g, t) {\n",
    "    xi_sum <- sum(row_sum[1:t])\n",
    "    min_sum <- 0   \n",
    "    for (i in (t + 1):g) {\n",
    "        min_sum <- min_sum + min(c(t, row_sum[i]))\n",
    "    }\n",
    "    res = xi_sum - t * (t - 1) - min_sum\n",
    "    return(res)\n",
    "}\n",
    "\n",
    "f_func <- function(row_sum, g, t) {\n",
    "    xi_sum = sum(row_sum[1:t])\n",
    "    combination <- factorial(t) / (factorial(2) * factorial(t - 2))\n",
    "    res = xi_sum - t * (g - 1) - combination \n",
    "    return(res)\n",
    "}\n",
    "\n",
    "row_sum = rowSums(adj_matrix)\n",
    "\n",
    "g_res = rep(2, g - 1)\n",
    "for (t in 2:(g - 1)) {\n",
    "    g_res[t] = g_func(row_sum, g, t)\n",
    "}\n",
    "\n",
    "f_res = rep(2, g)\n",
    "for (t in 2:g) {\n",
    "    f_res[t] = f_func(row_sum, g, t)\n",
    "}\n",
    "\n",
    "m_max = floor(0.5 * sum(row_sum[1:g]) - max(g_res))\n",
    "m_min = max(f_res)\n",
    "\n",
    "band_index = (dc$mut - m_min) / (m_max - m_min)\n",
    "cat(\"индекс взаимности Бандиопадхьяйя равен:\", band_index)\n",
    "reciprocity(graph)"
   ]
  },
  {
   "cell_type": "markdown",
   "metadata": {},
   "source": [
    "Акторы склонны образовывать взаимные связи с вероятностью, данной по условию задачи."
   ]
  },
  {
   "cell_type": "markdown",
   "metadata": {},
   "source": [
    "##### 8. Проверить нулевую гипотезу о том, что число дуг 𝐿 в орграфе G𝑑 имеет биномиальное распределение 𝐿 ∼ Bin(𝑔(𝑔 − 1), 1/2) при уровне значимости 𝛼. Определить максимальный уровень значимости при котором нулевая гипотеза не отвергается.\n"
   ]
  },
  {
   "cell_type": "code",
   "execution_count": 11,
   "metadata": {},
   "outputs": [
    {
     "name": "stdout",
     "output_type": "stream",
     "text": [
      "Гипотеза верна: FALSE \n",
      "Максимальный уровень значимости: 7.580397e-143"
     ]
    }
   ],
   "source": [
    "l = sum(adj_matrix)\n",
    "test = binom.test(l, g * (g - 1), p = 0.5)\n",
    "\n",
    "cat(\"Гипотеза верна:\", test$p.value >= 0.05, \"\\n\")\n",
    "cat(\"Максимальный уровень значимости:\", test$p.value)"
   ]
  },
  {
   "cell_type": "markdown",
   "metadata": {},
   "source": [
    "##### 9. Проверить нулевую гипотезу о том, что число дуг 𝐿 в орграфе G𝑑 имеет биномиальное распределение 𝐿 ∼ Bin(𝑔(𝑔−1), 𝑃0) при уровне значимости 𝛼. Определить максимальный уровень значимости при котором нулевая гипотеза не отвергается."
   ]
  },
  {
   "cell_type": "code",
   "execution_count": 12,
   "metadata": {},
   "outputs": [
    {
     "name": "stdout",
     "output_type": "stream",
     "text": [
      "Гипотеза верна: FALSE \n",
      "Максимальный уровень значимости: 2.297038e-48"
     ]
    }
   ],
   "source": [
    "l = sum(adj_matrix)\n",
    "test = binom.test(l, g * (g - 1), p = P_0)\n",
    "\n",
    "cat(\"Гипотеза верна:\", test$p.value >= 0.05, \"\\n\")\n",
    "cat(\"Максимальный уровень значимости:\", test$p.value)"
   ]
  },
  {
   "cell_type": "markdown",
   "metadata": {},
   "source": [
    "##### 10. Построить доверительный интервал для оценки параметра 𝑝 с доверительной надёжностью (1 − 𝛼). Сделать выводы."
   ]
  },
  {
   "cell_type": "code",
   "execution_count": 13,
   "metadata": {},
   "outputs": [
    {
     "name": "stdout",
     "output_type": "stream",
     "text": [
      "Значение оценки параметра p: 0.6863477 \n",
      "Доверительный интервал: [ 0.6701434 ;  0.7021098 ]\n"
     ]
    }
   ],
   "source": [
    "l = sum(adj_matrix)\n",
    "ans = BinomCI(l,  g * (g - 1), conf.level = 1 - alpha)\n",
    "\n",
    "cat(\"Значение оценки параметра p:\",ans[1],\"\\n\")\n",
    "cat(\"Доверительный интервал: [\",ans[2],\"; \",ans[3],\"]\\n\")"
   ]
  },
  {
   "cell_type": "markdown",
   "metadata": {},
   "source": [
    "Доверительный интеграл вычислен верно"
   ]
  },
  {
   "cell_type": "markdown",
   "metadata": {},
   "source": [
    "## Выводы\n",
    "\n",
    "В ходе выполнения практической работы, был запрограммирован статистический анализ случайного графа средставми языка R. Был сгенерирован и визуализирован сам граф, посчитана пятичисловая сводка, цензус диад, индекс взаимности Бандиопадхьяйя двумя способами, и построен доверительный интервал для оценки параметра p."
   ]
  }
 ],
 "metadata": {
  "kernelspec": {
   "display_name": "R",
   "language": "R",
   "name": "ir"
  },
  "language_info": {
   "codemirror_mode": "r",
   "file_extension": ".r",
   "mimetype": "text/x-r-source",
   "name": "R",
   "pygments_lexer": "r",
   "version": "4.2.1"
  }
 },
 "nbformat": 4,
 "nbformat_minor": 4
}
