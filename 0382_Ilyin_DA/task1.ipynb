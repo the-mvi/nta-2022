{
 "cells": [
  {
   "cell_type": "markdown",
   "metadata": {},
   "source": [
    "# Практическая работа №1: Основы анализа и моделирования социальных сетей\n",
    "\n",
    "Выполнил студент гр. 0382 Кондратов Юрий. Вариант №12"
   ]
  },
  {
   "cell_type": "markdown",
   "metadata": {},
   "source": [
    "## Цель работы\n",
    "Овладеть навыками работы с математическими пакетами для моделирования, визуализации и анализа социальных сетей."
   ]
  },
  {
   "cell_type": "markdown",
   "metadata": {},
   "source": [
    "## Основные теоретические положения"
   ]
  },
  {
   "cell_type": "markdown",
   "metadata": {
    "pycharm": {
     "name": "#%% md\n"
    }
   },
   "source": [
    "_Актор_ - дискретная социальная единица.\n",
    "\n",
    "_Социальная сеть_ - объект,\n",
    "представляющий собой конечный набор акторов и связей между ними.\n",
    "\n",
    "_Социоматрица_ - матрица $X = \\{x_{ij}\\}$, где $x_{ij} = 1$,\n",
    " если вершины $i$ и $j$ смежны и 0 иначе.\n",
    "\n",
    "_Алгоритм Фрюхтермана-Рейнгольдса_ - силовой алгоритм укладки сетей.\n",
    "Идея алгоритма следующая: располагаем вершины в случайных местах экрана,\n",
    "предполагаем, что на каждую вершину действует две силы:\n",
    "$F_a(d) = \\frac{d^2}{k}$ - сила притяжения, $F_r(d) = - \\frac{k^2}{d}$ - сила отталкивания,\n",
    "где $k = C\\cdot\\sqrt{area/\\#V}$, а $d$ - расстояние между вершинами.\n",
    "На каждой итерации в зависимости от действия сил вершины смещаются:\n",
    "величину смещения определяет, в том числе, параметр \"температуры\",\n",
    "изначально равный $0.1\\cdot area$ и линейно уменьшающийся до нуля.\n",
    "\n",
    "_Алгоритм Камада-Каваи_ - алгоритм укладки сетей,\n",
    "основная цель которого состоит в обеспечении соответствия\n",
    "геометрического расстояния между вершинами на экране и расстояния между ними в графе.\n",
    "Идея состоит в том, чтобы соединить все вершины пружинами и найти минимум энергии получившейся системы.\n",
    "Сила пружины рассчитывается как $k_{i,j} = K/d_{i,j}^2$,\n",
    "где $K$ - некоторая константа, а $d_{i, j}$ - расстояние между вершинами.\n",
    "Далее на каждой итерации выбирается вершина, которая имеет максимальное значение $\\Delta_m = \\sqrt{(\\frac{\\delta E}{\\delta x_m})^2 + (\\frac{\\delta E}{\\delta y_m})^2}$,\n",
    "где $x_m$ и $y_m$ - координаты вершины. Смещение для координат ищется как решение системы дифференциальных уровнений.\n",
    "Так происходит до тех пор, пока $\\Delta_m$ больше заданного $\\epsilon$.\n",
    "\n",
    "_Размер сети_ - количество акторов в ней.\n",
    "\n",
    "_Плотность сети_ - отношение количеств существующих и возможных связей. $\\Delta = L/C_g^2$\n",
    "\n",
    "_Диаметр сети_ - максимальное расстояние между вершинами.\n",
    "\n",
    "_Коэффициент кластеризации_ - отношение количества замкнутых триад к обшему количеству триад.\n",
    "\n",
    "_Средняя степень узлов_ - $\\overline d = \\frac{1}{g}\\cdot \\sum_{i = 1}^{g}d_i$, где $d_i$ - степень вершины $i$.\n",
    "\n",
    "_Дисперсия_ - $\\frac{1}{g}\\cdot \\sum_{i = 1}^{g}(d_i - \\overline d)^2$.\n",
    "\n",
    "_Нормированная центральность по степени_ - $C_D^{'} = d_i/(g-1)$.\n",
    "\n",
    "_Нормированная центральность по близости_ - $C_C^{'} = (g-1)/\\sum_{i=1}^g d_{ij}$.\n",
    "\n",
    "_Нормированная центральность по посредничеству_ - $C_B^{'} = \\sum_{s\\neq v \\neq t} \\frac{\\sigma_{st}(v)}{\\sigma_{st}}$,\n",
    "где $\\sigma_{st}$ - количество кратчайших путей из $s$ в $t$, а $\\sigma_{st}(v)$ - количество этих путей, проходящих через $v$.\n",
    "\n",
    "_Нормированная центральность по информации_ - $C_I^{'}(n_i)=\\frac{C_I(n_i)}{\\sum_{i=1}^{g}C_I(n_i)}$, $C_I(n_i) = (C_{ii} - (T - 2R)/g)^{-1}$,\n",
    " где $C = A^{-1}$ ($A = \\{a_{ij}\\}$, $a_{ii} = 1 +$ степень вершины $i$, $a_{ij} = 0$, если $i$ и $j$ инцидентны и $1$ иначе),\n",
    " $T = tr C$, $R = \\sum_{j=1}^{g}c_{ij}$.\n",
    "\n",
    "_Централизация по степени_ - $C_D = \\frac{1}{(g-1)(g-2)} \\sum_{i=1}^{g}(C_D^{'}(n^*) - C_D^{'}(n_i))$,\n",
    "где $C_D^{'}(n^*)$ - максимальная центральность по степени.\n",
    "\n",
    "_Централизация по близости_ - $C_C = \\frac{1}{(g-1)(g-2)/(2g - 3)} \\sum_{i=1}^{g}(C_C^{'}(n^*) - C_C^{'}(n_i))$,\n",
    "где $C_C^{'}(n^*)$ - максимальная центральность по близости.\n",
    "\n",
    "_Централизация по посредничеству_ - $C_B = \\frac{1}{g-1} \\sum_{i=1}^{g}(C_B^{'}(n^*) - C_B^{'}(n_i))$,\n",
    "где $С_B^{'}(n^*)$ - максимальная центральность по посредничеству.\n",
    "\n",
    "_Нормированный престиж по степени_ - $P_D^{'}(n_i) = \\frac{x_{+i}}{g-1}$,\n",
    "где $x_{+i}$ - входная степень вершины.\n",
    "\n",
    "_Престиж по близости_ $P_P(n_i) = \\frac{\\#I_i^2}{(g-1)\\sum_{n_j \\in I_i} d(n_j, n_i)}$,\n",
    "где $I_i$ - множество вершин, из которых достижима вершины $i$."
   ]
  },
  {
   "cell_type": "markdown",
   "metadata": {},
   "source": [
    "## Постановка задачи\n",
    "С помощью математических пакетов и соответствующих библиотек провести анализ заданных социальных сетей вычислить описательные характеристики. Полученные результаты содержательно проинтерпретировать."
   ]
  },
  {
   "cell_type": "markdown",
   "metadata": {},
   "source": [
    "## Выполнение работы"
   ]
  },
  {
   "cell_type": "markdown",
   "metadata": {},
   "source": [
    "0. Импортируем библиотеки."
   ]
  },
  {
   "cell_type": "code",
   "execution_count": 1,
   "metadata": {
    "pycharm": {
     "name": "#%%\n"
    },
    "scrolled": true
   },
   "outputs": [
    {
     "ename": "ModuleNotFoundError",
     "evalue": "No module named 'pandas'",
     "output_type": "error",
     "traceback": [
      "\u001b[0;31m---------------------------------------------------------------------------\u001b[0m",
      "\u001b[0;31mModuleNotFoundError\u001b[0m                       Traceback (most recent call last)",
      "\u001b[0;32m<ipython-input-1-62820f2a27e2>\u001b[0m in \u001b[0;36m<module>\u001b[0;34m\u001b[0m\n\u001b[0;32m----> 1\u001b[0;31m \u001b[0;32mimport\u001b[0m \u001b[0mpandas\u001b[0m \u001b[0;32mas\u001b[0m \u001b[0mpd\u001b[0m\u001b[0;34m\u001b[0m\u001b[0;34m\u001b[0m\u001b[0m\n\u001b[0m\u001b[1;32m      2\u001b[0m \u001b[0;32mimport\u001b[0m \u001b[0mnetworkx\u001b[0m \u001b[0;32mas\u001b[0m \u001b[0mnx\u001b[0m\u001b[0;34m\u001b[0m\u001b[0;34m\u001b[0m\u001b[0m\n\u001b[1;32m      3\u001b[0m \u001b[0;34m\u001b[0m\u001b[0m\n\u001b[1;32m      4\u001b[0m \u001b[0;32mimport\u001b[0m \u001b[0mwarnings\u001b[0m\u001b[0;34m\u001b[0m\u001b[0;34m\u001b[0m\u001b[0m\n\u001b[1;32m      5\u001b[0m \u001b[0mwarnings\u001b[0m\u001b[0;34m.\u001b[0m\u001b[0mfilterwarnings\u001b[0m\u001b[0;34m(\u001b[0m\u001b[0;34m\"ignore\"\u001b[0m\u001b[0;34m)\u001b[0m\u001b[0;34m\u001b[0m\u001b[0;34m\u001b[0m\u001b[0m\n",
      "\u001b[0;31mModuleNotFoundError\u001b[0m: No module named 'pandas'"
     ]
    }
   ],
   "source": [
    "import pandas as pd\n",
    "import networkx as nx\n",
    "\n",
    "import warnings\n",
    "warnings.filterwarnings(\"ignore\")"
   ]
  },
  {
   "cell_type": "markdown",
   "metadata": {},
   "source": [
    "1. Из файла florentine_marital.csv (для чётных вариантов) извлечь социоматрицу с помощью соответствующих функций.\n",
    " Вывести полученную социоматрицу на экран."
   ]
  },
  {
   "cell_type": "code",
   "execution_count": 158,
   "metadata": {
    "pycharm": {
     "name": "#%%\n"
    }
   },
   "outputs": [
    {
     "data": {
      "text/html": [
       "<div>\n",
       "<style scoped>\n",
       "    .dataframe tbody tr th:only-of-type {\n",
       "        vertical-align: middle;\n",
       "    }\n",
       "\n",
       "    .dataframe tbody tr th {\n",
       "        vertical-align: top;\n",
       "    }\n",
       "\n",
       "    .dataframe thead th {\n",
       "        text-align: right;\n",
       "    }\n",
       "</style>\n",
       "<table border=\"1\" class=\"dataframe\">\n",
       "  <thead>\n",
       "    <tr style=\"text-align: right;\">\n",
       "      <th></th>\n",
       "      <th>0</th>\n",
       "      <th>1</th>\n",
       "      <th>2</th>\n",
       "      <th>3</th>\n",
       "      <th>4</th>\n",
       "      <th>5</th>\n",
       "      <th>6</th>\n",
       "      <th>7</th>\n",
       "      <th>8</th>\n",
       "      <th>9</th>\n",
       "      <th>10</th>\n",
       "      <th>11</th>\n",
       "      <th>12</th>\n",
       "      <th>13</th>\n",
       "      <th>14</th>\n",
       "      <th>15</th>\n",
       "    </tr>\n",
       "  </thead>\n",
       "  <tbody>\n",
       "    <tr>\n",
       "      <th>0</th>\n",
       "      <td>0</td>\n",
       "      <td>0</td>\n",
       "      <td>0</td>\n",
       "      <td>0</td>\n",
       "      <td>0</td>\n",
       "      <td>0</td>\n",
       "      <td>0</td>\n",
       "      <td>0</td>\n",
       "      <td>1</td>\n",
       "      <td>0</td>\n",
       "      <td>0</td>\n",
       "      <td>0</td>\n",
       "      <td>0</td>\n",
       "      <td>0</td>\n",
       "      <td>0</td>\n",
       "      <td>0</td>\n",
       "    </tr>\n",
       "    <tr>\n",
       "      <th>1</th>\n",
       "      <td>0</td>\n",
       "      <td>0</td>\n",
       "      <td>0</td>\n",
       "      <td>0</td>\n",
       "      <td>0</td>\n",
       "      <td>1</td>\n",
       "      <td>1</td>\n",
       "      <td>0</td>\n",
       "      <td>1</td>\n",
       "      <td>0</td>\n",
       "      <td>0</td>\n",
       "      <td>0</td>\n",
       "      <td>0</td>\n",
       "      <td>0</td>\n",
       "      <td>0</td>\n",
       "      <td>0</td>\n",
       "    </tr>\n",
       "    <tr>\n",
       "      <th>2</th>\n",
       "      <td>0</td>\n",
       "      <td>0</td>\n",
       "      <td>0</td>\n",
       "      <td>0</td>\n",
       "      <td>1</td>\n",
       "      <td>0</td>\n",
       "      <td>0</td>\n",
       "      <td>0</td>\n",
       "      <td>1</td>\n",
       "      <td>0</td>\n",
       "      <td>0</td>\n",
       "      <td>0</td>\n",
       "      <td>0</td>\n",
       "      <td>0</td>\n",
       "      <td>0</td>\n",
       "      <td>0</td>\n",
       "    </tr>\n",
       "    <tr>\n",
       "      <th>3</th>\n",
       "      <td>0</td>\n",
       "      <td>0</td>\n",
       "      <td>0</td>\n",
       "      <td>0</td>\n",
       "      <td>0</td>\n",
       "      <td>0</td>\n",
       "      <td>1</td>\n",
       "      <td>0</td>\n",
       "      <td>0</td>\n",
       "      <td>0</td>\n",
       "      <td>1</td>\n",
       "      <td>0</td>\n",
       "      <td>0</td>\n",
       "      <td>0</td>\n",
       "      <td>1</td>\n",
       "      <td>0</td>\n",
       "    </tr>\n",
       "    <tr>\n",
       "      <th>4</th>\n",
       "      <td>0</td>\n",
       "      <td>0</td>\n",
       "      <td>1</td>\n",
       "      <td>0</td>\n",
       "      <td>0</td>\n",
       "      <td>0</td>\n",
       "      <td>0</td>\n",
       "      <td>0</td>\n",
       "      <td>0</td>\n",
       "      <td>0</td>\n",
       "      <td>1</td>\n",
       "      <td>0</td>\n",
       "      <td>0</td>\n",
       "      <td>0</td>\n",
       "      <td>1</td>\n",
       "      <td>0</td>\n",
       "    </tr>\n",
       "    <tr>\n",
       "      <th>5</th>\n",
       "      <td>0</td>\n",
       "      <td>1</td>\n",
       "      <td>0</td>\n",
       "      <td>0</td>\n",
       "      <td>0</td>\n",
       "      <td>0</td>\n",
       "      <td>0</td>\n",
       "      <td>0</td>\n",
       "      <td>0</td>\n",
       "      <td>0</td>\n",
       "      <td>0</td>\n",
       "      <td>0</td>\n",
       "      <td>0</td>\n",
       "      <td>0</td>\n",
       "      <td>0</td>\n",
       "      <td>0</td>\n",
       "    </tr>\n",
       "    <tr>\n",
       "      <th>6</th>\n",
       "      <td>0</td>\n",
       "      <td>1</td>\n",
       "      <td>0</td>\n",
       "      <td>1</td>\n",
       "      <td>0</td>\n",
       "      <td>0</td>\n",
       "      <td>0</td>\n",
       "      <td>1</td>\n",
       "      <td>0</td>\n",
       "      <td>0</td>\n",
       "      <td>0</td>\n",
       "      <td>0</td>\n",
       "      <td>0</td>\n",
       "      <td>0</td>\n",
       "      <td>0</td>\n",
       "      <td>1</td>\n",
       "    </tr>\n",
       "    <tr>\n",
       "      <th>7</th>\n",
       "      <td>0</td>\n",
       "      <td>0</td>\n",
       "      <td>0</td>\n",
       "      <td>0</td>\n",
       "      <td>0</td>\n",
       "      <td>0</td>\n",
       "      <td>1</td>\n",
       "      <td>0</td>\n",
       "      <td>0</td>\n",
       "      <td>0</td>\n",
       "      <td>0</td>\n",
       "      <td>0</td>\n",
       "      <td>0</td>\n",
       "      <td>0</td>\n",
       "      <td>0</td>\n",
       "      <td>0</td>\n",
       "    </tr>\n",
       "    <tr>\n",
       "      <th>8</th>\n",
       "      <td>1</td>\n",
       "      <td>1</td>\n",
       "      <td>1</td>\n",
       "      <td>0</td>\n",
       "      <td>0</td>\n",
       "      <td>0</td>\n",
       "      <td>0</td>\n",
       "      <td>0</td>\n",
       "      <td>0</td>\n",
       "      <td>0</td>\n",
       "      <td>0</td>\n",
       "      <td>0</td>\n",
       "      <td>1</td>\n",
       "      <td>1</td>\n",
       "      <td>0</td>\n",
       "      <td>1</td>\n",
       "    </tr>\n",
       "    <tr>\n",
       "      <th>9</th>\n",
       "      <td>0</td>\n",
       "      <td>0</td>\n",
       "      <td>0</td>\n",
       "      <td>0</td>\n",
       "      <td>0</td>\n",
       "      <td>0</td>\n",
       "      <td>0</td>\n",
       "      <td>0</td>\n",
       "      <td>0</td>\n",
       "      <td>0</td>\n",
       "      <td>0</td>\n",
       "      <td>0</td>\n",
       "      <td>0</td>\n",
       "      <td>1</td>\n",
       "      <td>0</td>\n",
       "      <td>0</td>\n",
       "    </tr>\n",
       "    <tr>\n",
       "      <th>10</th>\n",
       "      <td>0</td>\n",
       "      <td>0</td>\n",
       "      <td>0</td>\n",
       "      <td>1</td>\n",
       "      <td>1</td>\n",
       "      <td>0</td>\n",
       "      <td>0</td>\n",
       "      <td>0</td>\n",
       "      <td>0</td>\n",
       "      <td>0</td>\n",
       "      <td>0</td>\n",
       "      <td>0</td>\n",
       "      <td>0</td>\n",
       "      <td>0</td>\n",
       "      <td>1</td>\n",
       "      <td>0</td>\n",
       "    </tr>\n",
       "    <tr>\n",
       "      <th>11</th>\n",
       "      <td>0</td>\n",
       "      <td>0</td>\n",
       "      <td>0</td>\n",
       "      <td>0</td>\n",
       "      <td>0</td>\n",
       "      <td>0</td>\n",
       "      <td>0</td>\n",
       "      <td>0</td>\n",
       "      <td>0</td>\n",
       "      <td>0</td>\n",
       "      <td>0</td>\n",
       "      <td>0</td>\n",
       "      <td>0</td>\n",
       "      <td>0</td>\n",
       "      <td>0</td>\n",
       "      <td>0</td>\n",
       "    </tr>\n",
       "    <tr>\n",
       "      <th>12</th>\n",
       "      <td>0</td>\n",
       "      <td>0</td>\n",
       "      <td>0</td>\n",
       "      <td>0</td>\n",
       "      <td>0</td>\n",
       "      <td>0</td>\n",
       "      <td>0</td>\n",
       "      <td>0</td>\n",
       "      <td>1</td>\n",
       "      <td>0</td>\n",
       "      <td>0</td>\n",
       "      <td>0</td>\n",
       "      <td>0</td>\n",
       "      <td>0</td>\n",
       "      <td>1</td>\n",
       "      <td>1</td>\n",
       "    </tr>\n",
       "    <tr>\n",
       "      <th>13</th>\n",
       "      <td>0</td>\n",
       "      <td>0</td>\n",
       "      <td>0</td>\n",
       "      <td>0</td>\n",
       "      <td>0</td>\n",
       "      <td>0</td>\n",
       "      <td>0</td>\n",
       "      <td>0</td>\n",
       "      <td>1</td>\n",
       "      <td>1</td>\n",
       "      <td>0</td>\n",
       "      <td>0</td>\n",
       "      <td>0</td>\n",
       "      <td>0</td>\n",
       "      <td>0</td>\n",
       "      <td>0</td>\n",
       "    </tr>\n",
       "    <tr>\n",
       "      <th>14</th>\n",
       "      <td>0</td>\n",
       "      <td>0</td>\n",
       "      <td>0</td>\n",
       "      <td>1</td>\n",
       "      <td>1</td>\n",
       "      <td>0</td>\n",
       "      <td>0</td>\n",
       "      <td>0</td>\n",
       "      <td>0</td>\n",
       "      <td>0</td>\n",
       "      <td>1</td>\n",
       "      <td>0</td>\n",
       "      <td>1</td>\n",
       "      <td>0</td>\n",
       "      <td>0</td>\n",
       "      <td>0</td>\n",
       "    </tr>\n",
       "    <tr>\n",
       "      <th>15</th>\n",
       "      <td>0</td>\n",
       "      <td>0</td>\n",
       "      <td>0</td>\n",
       "      <td>0</td>\n",
       "      <td>0</td>\n",
       "      <td>0</td>\n",
       "      <td>1</td>\n",
       "      <td>0</td>\n",
       "      <td>1</td>\n",
       "      <td>0</td>\n",
       "      <td>0</td>\n",
       "      <td>0</td>\n",
       "      <td>1</td>\n",
       "      <td>0</td>\n",
       "      <td>0</td>\n",
       "      <td>0</td>\n",
       "    </tr>\n",
       "  </tbody>\n",
       "</table>\n",
       "</div>"
      ],
      "text/plain": [
       "    0   1   2   3   4   5   6   7   8   9   10  11  12  13  14  15\n",
       "0    0   0   0   0   0   0   0   0   1   0   0   0   0   0   0   0\n",
       "1    0   0   0   0   0   1   1   0   1   0   0   0   0   0   0   0\n",
       "2    0   0   0   0   1   0   0   0   1   0   0   0   0   0   0   0\n",
       "3    0   0   0   0   0   0   1   0   0   0   1   0   0   0   1   0\n",
       "4    0   0   1   0   0   0   0   0   0   0   1   0   0   0   1   0\n",
       "5    0   1   0   0   0   0   0   0   0   0   0   0   0   0   0   0\n",
       "6    0   1   0   1   0   0   0   1   0   0   0   0   0   0   0   1\n",
       "7    0   0   0   0   0   0   1   0   0   0   0   0   0   0   0   0\n",
       "8    1   1   1   0   0   0   0   0   0   0   0   0   1   1   0   1\n",
       "9    0   0   0   0   0   0   0   0   0   0   0   0   0   1   0   0\n",
       "10   0   0   0   1   1   0   0   0   0   0   0   0   0   0   1   0\n",
       "11   0   0   0   0   0   0   0   0   0   0   0   0   0   0   0   0\n",
       "12   0   0   0   0   0   0   0   0   1   0   0   0   0   0   1   1\n",
       "13   0   0   0   0   0   0   0   0   1   1   0   0   0   0   0   0\n",
       "14   0   0   0   1   1   0   0   0   0   0   1   0   1   0   0   0\n",
       "15   0   0   0   0   0   0   1   0   1   0   0   0   1   0   0   0"
      ]
     },
     "execution_count": 158,
     "metadata": {},
     "output_type": "execute_result"
    }
   ],
   "source": [
    "sm = pd.read_csv('data/florentine_marital.csv', skiprows=2, header=None, delimiter=', ', engine='python')\n",
    "sm"
   ]
  },
  {
   "cell_type": "markdown",
   "metadata": {},
   "source": [
    "2. Преобразовать социоматрицу в список рёбер. Вывести первые 5 элементов списка рёбер"
   ]
  },
  {
   "cell_type": "code",
   "execution_count": 159,
   "metadata": {
    "pycharm": {
     "name": "#%%\n"
    }
   },
   "outputs": [
    {
     "data": {
      "text/html": [
       "<div>\n",
       "<style scoped>\n",
       "    .dataframe tbody tr th:only-of-type {\n",
       "        vertical-align: middle;\n",
       "    }\n",
       "\n",
       "    .dataframe tbody tr th {\n",
       "        vertical-align: top;\n",
       "    }\n",
       "\n",
       "    .dataframe thead th {\n",
       "        text-align: right;\n",
       "    }\n",
       "</style>\n",
       "<table border=\"1\" class=\"dataframe\">\n",
       "  <thead>\n",
       "    <tr style=\"text-align: right;\">\n",
       "      <th></th>\n",
       "      <th>source</th>\n",
       "      <th>target</th>\n",
       "      <th>weight</th>\n",
       "    </tr>\n",
       "  </thead>\n",
       "  <tbody>\n",
       "    <tr>\n",
       "      <th>0</th>\n",
       "      <td>0</td>\n",
       "      <td>8</td>\n",
       "      <td>1</td>\n",
       "    </tr>\n",
       "    <tr>\n",
       "      <th>1</th>\n",
       "      <td>1</td>\n",
       "      <td>5</td>\n",
       "      <td>1</td>\n",
       "    </tr>\n",
       "    <tr>\n",
       "      <th>2</th>\n",
       "      <td>1</td>\n",
       "      <td>6</td>\n",
       "      <td>1</td>\n",
       "    </tr>\n",
       "    <tr>\n",
       "      <th>3</th>\n",
       "      <td>1</td>\n",
       "      <td>8</td>\n",
       "      <td>1</td>\n",
       "    </tr>\n",
       "    <tr>\n",
       "      <th>4</th>\n",
       "      <td>2</td>\n",
       "      <td>4</td>\n",
       "      <td>1</td>\n",
       "    </tr>\n",
       "  </tbody>\n",
       "</table>\n",
       "</div>"
      ],
      "text/plain": [
       "   source  target  weight\n",
       "0       0       8       1\n",
       "1       1       5       1\n",
       "2       1       6       1\n",
       "3       1       8       1\n",
       "4       2       4       1"
      ]
     },
     "execution_count": 159,
     "metadata": {},
     "output_type": "execute_result"
    }
   ],
   "source": [
    "nx.to_pandas_edgelist(nx.from_pandas_adjacency(sm)).head()"
   ]
  },
  {
   "cell_type": "markdown",
   "metadata": {},
   "source": [
    "3. Присвоить имена столбцам и строкам социоматрицы (имена – первая строка в csv-файле после комментариев)."
   ]
  },
  {
   "cell_type": "code",
   "execution_count": 160,
   "metadata": {
    "pycharm": {
     "name": "#%%\n"
    }
   },
   "outputs": [
    {
     "data": {
      "text/html": [
       "<div>\n",
       "<style scoped>\n",
       "    .dataframe tbody tr th:only-of-type {\n",
       "        vertical-align: middle;\n",
       "    }\n",
       "\n",
       "    .dataframe tbody tr th {\n",
       "        vertical-align: top;\n",
       "    }\n",
       "\n",
       "    .dataframe thead th {\n",
       "        text-align: right;\n",
       "    }\n",
       "</style>\n",
       "<table border=\"1\" class=\"dataframe\">\n",
       "  <thead>\n",
       "    <tr style=\"text-align: right;\">\n",
       "      <th></th>\n",
       "      <th>Acciaiuoli</th>\n",
       "      <th>Albizzi</th>\n",
       "      <th>Barbadori</th>\n",
       "      <th>Bischeri</th>\n",
       "      <th>Castellani</th>\n",
       "      <th>Ginori</th>\n",
       "      <th>Guadagni</th>\n",
       "      <th>Lamberteschi</th>\n",
       "      <th>Medici</th>\n",
       "      <th>Pazzi</th>\n",
       "      <th>Peruzzi</th>\n",
       "      <th>Pucci</th>\n",
       "      <th>Ridolfi</th>\n",
       "      <th>Salviati</th>\n",
       "      <th>Strozzi</th>\n",
       "      <th>Tornabuoni</th>\n",
       "    </tr>\n",
       "  </thead>\n",
       "  <tbody>\n",
       "    <tr>\n",
       "      <th>Acciaiuoli</th>\n",
       "      <td>0</td>\n",
       "      <td>0</td>\n",
       "      <td>0</td>\n",
       "      <td>0</td>\n",
       "      <td>0</td>\n",
       "      <td>0</td>\n",
       "      <td>0</td>\n",
       "      <td>0</td>\n",
       "      <td>1</td>\n",
       "      <td>0</td>\n",
       "      <td>0</td>\n",
       "      <td>0</td>\n",
       "      <td>0</td>\n",
       "      <td>0</td>\n",
       "      <td>0</td>\n",
       "      <td>0</td>\n",
       "    </tr>\n",
       "    <tr>\n",
       "      <th>Albizzi</th>\n",
       "      <td>0</td>\n",
       "      <td>0</td>\n",
       "      <td>0</td>\n",
       "      <td>0</td>\n",
       "      <td>0</td>\n",
       "      <td>1</td>\n",
       "      <td>1</td>\n",
       "      <td>0</td>\n",
       "      <td>1</td>\n",
       "      <td>0</td>\n",
       "      <td>0</td>\n",
       "      <td>0</td>\n",
       "      <td>0</td>\n",
       "      <td>0</td>\n",
       "      <td>0</td>\n",
       "      <td>0</td>\n",
       "    </tr>\n",
       "    <tr>\n",
       "      <th>Barbadori</th>\n",
       "      <td>0</td>\n",
       "      <td>0</td>\n",
       "      <td>0</td>\n",
       "      <td>0</td>\n",
       "      <td>1</td>\n",
       "      <td>0</td>\n",
       "      <td>0</td>\n",
       "      <td>0</td>\n",
       "      <td>1</td>\n",
       "      <td>0</td>\n",
       "      <td>0</td>\n",
       "      <td>0</td>\n",
       "      <td>0</td>\n",
       "      <td>0</td>\n",
       "      <td>0</td>\n",
       "      <td>0</td>\n",
       "    </tr>\n",
       "    <tr>\n",
       "      <th>Bischeri</th>\n",
       "      <td>0</td>\n",
       "      <td>0</td>\n",
       "      <td>0</td>\n",
       "      <td>0</td>\n",
       "      <td>0</td>\n",
       "      <td>0</td>\n",
       "      <td>1</td>\n",
       "      <td>0</td>\n",
       "      <td>0</td>\n",
       "      <td>0</td>\n",
       "      <td>1</td>\n",
       "      <td>0</td>\n",
       "      <td>0</td>\n",
       "      <td>0</td>\n",
       "      <td>1</td>\n",
       "      <td>0</td>\n",
       "    </tr>\n",
       "    <tr>\n",
       "      <th>Castellani</th>\n",
       "      <td>0</td>\n",
       "      <td>0</td>\n",
       "      <td>1</td>\n",
       "      <td>0</td>\n",
       "      <td>0</td>\n",
       "      <td>0</td>\n",
       "      <td>0</td>\n",
       "      <td>0</td>\n",
       "      <td>0</td>\n",
       "      <td>0</td>\n",
       "      <td>1</td>\n",
       "      <td>0</td>\n",
       "      <td>0</td>\n",
       "      <td>0</td>\n",
       "      <td>1</td>\n",
       "      <td>0</td>\n",
       "    </tr>\n",
       "    <tr>\n",
       "      <th>Ginori</th>\n",
       "      <td>0</td>\n",
       "      <td>1</td>\n",
       "      <td>0</td>\n",
       "      <td>0</td>\n",
       "      <td>0</td>\n",
       "      <td>0</td>\n",
       "      <td>0</td>\n",
       "      <td>0</td>\n",
       "      <td>0</td>\n",
       "      <td>0</td>\n",
       "      <td>0</td>\n",
       "      <td>0</td>\n",
       "      <td>0</td>\n",
       "      <td>0</td>\n",
       "      <td>0</td>\n",
       "      <td>0</td>\n",
       "    </tr>\n",
       "    <tr>\n",
       "      <th>Guadagni</th>\n",
       "      <td>0</td>\n",
       "      <td>1</td>\n",
       "      <td>0</td>\n",
       "      <td>1</td>\n",
       "      <td>0</td>\n",
       "      <td>0</td>\n",
       "      <td>0</td>\n",
       "      <td>1</td>\n",
       "      <td>0</td>\n",
       "      <td>0</td>\n",
       "      <td>0</td>\n",
       "      <td>0</td>\n",
       "      <td>0</td>\n",
       "      <td>0</td>\n",
       "      <td>0</td>\n",
       "      <td>1</td>\n",
       "    </tr>\n",
       "    <tr>\n",
       "      <th>Lamberteschi</th>\n",
       "      <td>0</td>\n",
       "      <td>0</td>\n",
       "      <td>0</td>\n",
       "      <td>0</td>\n",
       "      <td>0</td>\n",
       "      <td>0</td>\n",
       "      <td>1</td>\n",
       "      <td>0</td>\n",
       "      <td>0</td>\n",
       "      <td>0</td>\n",
       "      <td>0</td>\n",
       "      <td>0</td>\n",
       "      <td>0</td>\n",
       "      <td>0</td>\n",
       "      <td>0</td>\n",
       "      <td>0</td>\n",
       "    </tr>\n",
       "    <tr>\n",
       "      <th>Medici</th>\n",
       "      <td>1</td>\n",
       "      <td>1</td>\n",
       "      <td>1</td>\n",
       "      <td>0</td>\n",
       "      <td>0</td>\n",
       "      <td>0</td>\n",
       "      <td>0</td>\n",
       "      <td>0</td>\n",
       "      <td>0</td>\n",
       "      <td>0</td>\n",
       "      <td>0</td>\n",
       "      <td>0</td>\n",
       "      <td>1</td>\n",
       "      <td>1</td>\n",
       "      <td>0</td>\n",
       "      <td>1</td>\n",
       "    </tr>\n",
       "    <tr>\n",
       "      <th>Pazzi</th>\n",
       "      <td>0</td>\n",
       "      <td>0</td>\n",
       "      <td>0</td>\n",
       "      <td>0</td>\n",
       "      <td>0</td>\n",
       "      <td>0</td>\n",
       "      <td>0</td>\n",
       "      <td>0</td>\n",
       "      <td>0</td>\n",
       "      <td>0</td>\n",
       "      <td>0</td>\n",
       "      <td>0</td>\n",
       "      <td>0</td>\n",
       "      <td>1</td>\n",
       "      <td>0</td>\n",
       "      <td>0</td>\n",
       "    </tr>\n",
       "    <tr>\n",
       "      <th>Peruzzi</th>\n",
       "      <td>0</td>\n",
       "      <td>0</td>\n",
       "      <td>0</td>\n",
       "      <td>1</td>\n",
       "      <td>1</td>\n",
       "      <td>0</td>\n",
       "      <td>0</td>\n",
       "      <td>0</td>\n",
       "      <td>0</td>\n",
       "      <td>0</td>\n",
       "      <td>0</td>\n",
       "      <td>0</td>\n",
       "      <td>0</td>\n",
       "      <td>0</td>\n",
       "      <td>1</td>\n",
       "      <td>0</td>\n",
       "    </tr>\n",
       "    <tr>\n",
       "      <th>Pucci</th>\n",
       "      <td>0</td>\n",
       "      <td>0</td>\n",
       "      <td>0</td>\n",
       "      <td>0</td>\n",
       "      <td>0</td>\n",
       "      <td>0</td>\n",
       "      <td>0</td>\n",
       "      <td>0</td>\n",
       "      <td>0</td>\n",
       "      <td>0</td>\n",
       "      <td>0</td>\n",
       "      <td>0</td>\n",
       "      <td>0</td>\n",
       "      <td>0</td>\n",
       "      <td>0</td>\n",
       "      <td>0</td>\n",
       "    </tr>\n",
       "    <tr>\n",
       "      <th>Ridolfi</th>\n",
       "      <td>0</td>\n",
       "      <td>0</td>\n",
       "      <td>0</td>\n",
       "      <td>0</td>\n",
       "      <td>0</td>\n",
       "      <td>0</td>\n",
       "      <td>0</td>\n",
       "      <td>0</td>\n",
       "      <td>1</td>\n",
       "      <td>0</td>\n",
       "      <td>0</td>\n",
       "      <td>0</td>\n",
       "      <td>0</td>\n",
       "      <td>0</td>\n",
       "      <td>1</td>\n",
       "      <td>1</td>\n",
       "    </tr>\n",
       "    <tr>\n",
       "      <th>Salviati</th>\n",
       "      <td>0</td>\n",
       "      <td>0</td>\n",
       "      <td>0</td>\n",
       "      <td>0</td>\n",
       "      <td>0</td>\n",
       "      <td>0</td>\n",
       "      <td>0</td>\n",
       "      <td>0</td>\n",
       "      <td>1</td>\n",
       "      <td>1</td>\n",
       "      <td>0</td>\n",
       "      <td>0</td>\n",
       "      <td>0</td>\n",
       "      <td>0</td>\n",
       "      <td>0</td>\n",
       "      <td>0</td>\n",
       "    </tr>\n",
       "    <tr>\n",
       "      <th>Strozzi</th>\n",
       "      <td>0</td>\n",
       "      <td>0</td>\n",
       "      <td>0</td>\n",
       "      <td>1</td>\n",
       "      <td>1</td>\n",
       "      <td>0</td>\n",
       "      <td>0</td>\n",
       "      <td>0</td>\n",
       "      <td>0</td>\n",
       "      <td>0</td>\n",
       "      <td>1</td>\n",
       "      <td>0</td>\n",
       "      <td>1</td>\n",
       "      <td>0</td>\n",
       "      <td>0</td>\n",
       "      <td>0</td>\n",
       "    </tr>\n",
       "    <tr>\n",
       "      <th>Tornabuoni</th>\n",
       "      <td>0</td>\n",
       "      <td>0</td>\n",
       "      <td>0</td>\n",
       "      <td>0</td>\n",
       "      <td>0</td>\n",
       "      <td>0</td>\n",
       "      <td>1</td>\n",
       "      <td>0</td>\n",
       "      <td>1</td>\n",
       "      <td>0</td>\n",
       "      <td>0</td>\n",
       "      <td>0</td>\n",
       "      <td>1</td>\n",
       "      <td>0</td>\n",
       "      <td>0</td>\n",
       "      <td>0</td>\n",
       "    </tr>\n",
       "  </tbody>\n",
       "</table>\n",
       "</div>"
      ],
      "text/plain": [
       "              Acciaiuoli  Albizzi  Barbadori  Bischeri  Castellani  Ginori  \\\n",
       "Acciaiuoli             0        0          0         0           0       0   \n",
       "Albizzi                0        0          0         0           0       1   \n",
       "Barbadori              0        0          0         0           1       0   \n",
       "Bischeri               0        0          0         0           0       0   \n",
       "Castellani             0        0          1         0           0       0   \n",
       "Ginori                 0        1          0         0           0       0   \n",
       "Guadagni               0        1          0         1           0       0   \n",
       "Lamberteschi           0        0          0         0           0       0   \n",
       "Medici                 1        1          1         0           0       0   \n",
       "Pazzi                  0        0          0         0           0       0   \n",
       "Peruzzi                0        0          0         1           1       0   \n",
       "Pucci                  0        0          0         0           0       0   \n",
       "Ridolfi                0        0          0         0           0       0   \n",
       "Salviati               0        0          0         0           0       0   \n",
       "Strozzi                0        0          0         1           1       0   \n",
       "Tornabuoni             0        0          0         0           0       0   \n",
       "\n",
       "              Guadagni  Lamberteschi  Medici  Pazzi  Peruzzi  Pucci  Ridolfi  \\\n",
       "Acciaiuoli           0             0       1      0        0      0        0   \n",
       "Albizzi              1             0       1      0        0      0        0   \n",
       "Barbadori            0             0       1      0        0      0        0   \n",
       "Bischeri             1             0       0      0        1      0        0   \n",
       "Castellani           0             0       0      0        1      0        0   \n",
       "Ginori               0             0       0      0        0      0        0   \n",
       "Guadagni             0             1       0      0        0      0        0   \n",
       "Lamberteschi         1             0       0      0        0      0        0   \n",
       "Medici               0             0       0      0        0      0        1   \n",
       "Pazzi                0             0       0      0        0      0        0   \n",
       "Peruzzi              0             0       0      0        0      0        0   \n",
       "Pucci                0             0       0      0        0      0        0   \n",
       "Ridolfi              0             0       1      0        0      0        0   \n",
       "Salviati             0             0       1      1        0      0        0   \n",
       "Strozzi              0             0       0      0        1      0        1   \n",
       "Tornabuoni           1             0       1      0        0      0        1   \n",
       "\n",
       "              Salviati  Strozzi  Tornabuoni  \n",
       "Acciaiuoli           0        0           0  \n",
       "Albizzi              0        0           0  \n",
       "Barbadori            0        0           0  \n",
       "Bischeri             0        1           0  \n",
       "Castellani           0        1           0  \n",
       "Ginori               0        0           0  \n",
       "Guadagni             0        0           1  \n",
       "Lamberteschi         0        0           0  \n",
       "Medici               1        0           1  \n",
       "Pazzi                1        0           0  \n",
       "Peruzzi              0        1           0  \n",
       "Pucci                0        0           0  \n",
       "Ridolfi              0        1           1  \n",
       "Salviati             0        0           0  \n",
       "Strozzi              0        0           0  \n",
       "Tornabuoni           0        0           0  "
      ]
     },
     "execution_count": 160,
     "metadata": {},
     "output_type": "execute_result"
    }
   ],
   "source": [
    "names = pd.read_csv('data/florentine_marital.csv', skiprows=1, nrows=1, delimiter=', ', engine='python').columns\n",
    "sm.columns = names\n",
    "sm.index = names\n",
    "sm"
   ]
  },
  {
   "cell_type": "markdown",
   "metadata": {},
   "source": [
    "4. С помощью соответствующих функций по полученной социоматрице построить ненаправленную сеть.\n",
    "Объяснить параметры, передаваемые в функцию."
   ]
  },
  {
   "cell_type": "code",
   "execution_count": 161,
   "metadata": {
    "pycharm": {
     "name": "#%%\n"
    }
   },
   "outputs": [],
   "source": [
    "net = nx.from_pandas_adjacency(sm)"
   ]
  },
  {
   "cell_type": "markdown",
   "metadata": {},
   "source": [
    "> Объяснение параметров: в функцию передаётся единственный параметр - социоматрица, по которой строится сеть"
   ]
  },
  {
   "cell_type": "markdown",
   "metadata": {},
   "source": [
    "5. Отобразить сеть с помощью алгоритмов укладки Фрюхтермана–\n",
    "Рейнгольда и Камада–Каваи. Объяснить, в чём различие между\n",
    "алгоритмами и укладками."
   ]
  },
  {
   "cell_type": "code",
   "execution_count": 162,
   "metadata": {
    "pycharm": {
     "name": "#%%\n"
    }
   },
   "outputs": [
    {
     "data": {
      "image/png": "[encoded data removed]",
      "text/plain": [
       "<Figure size 640x480 with 1 Axes>"
      ]
     },
     "metadata": {},
     "output_type": "display_data"
    }
   ],
   "source": [
    "# Отрисовка на основе spring_layout, в котором используется алгоритм Фрюхтермана–Рейнгольда\n",
    "# (см. исходный код https://networkx.org/documentation/stable/_modules/networkx/drawing/layout.html#spring_layout)\n",
    "nx.draw_spring(net, with_labels=True)"
   ]
  },
  {
   "cell_type": "code",
   "execution_count": 163,
   "metadata": {
    "pycharm": {
     "name": "#%%\n"
    }
   },
   "outputs": [
    {
     "data": {
      "image/png": "[encoded data removed]",
      "text/plain": [
       "<Figure size 640x480 with 1 Axes>"
      ]
     },
     "metadata": {},
     "output_type": "display_data"
    }
   ],
   "source": [
    "nx.draw_kamada_kawai(net, with_labels=True)"
   ]
  },
  {
   "cell_type": "markdown",
   "metadata": {},
   "source": [
    "6. Вывести «описательную сводку» сети."
   ]
  },
  {
   "cell_type": "code",
   "execution_count": 164,
   "metadata": {
    "pycharm": {
     "name": "#%%\n"
    }
   },
   "outputs": [
    {
     "name": "stdout",
     "output_type": "stream",
     "text": [
      "Graph with 16 nodes and 20 edges \n",
      "\n",
      "Node Acciaiuoli has the following properties:\n",
      "Degree: 1\n",
      "Neighbors: Medici \n",
      "\n",
      "Node Albizzi has the following properties:\n",
      "Degree: 3\n",
      "Neighbors: Ginori Guadagni Medici \n",
      "\n",
      "Node Barbadori has the following properties:\n",
      "Degree: 2\n",
      "Neighbors: Castellani Medici \n",
      "\n",
      "Node Bischeri has the following properties:\n",
      "Degree: 3\n",
      "Neighbors: Guadagni Peruzzi Strozzi \n",
      "\n",
      "Node Castellani has the following properties:\n",
      "Degree: 3\n",
      "Neighbors: Barbadori Peruzzi Strozzi \n",
      "\n",
      "Node Ginori has the following properties:\n",
      "Degree: 1\n",
      "Neighbors: Albizzi \n",
      "\n",
      "Node Guadagni has the following properties:\n",
      "Degree: 4\n",
      "Neighbors: Albizzi Bischeri Lamberteschi Tornabuoni \n",
      "\n",
      "Node Lamberteschi has the following properties:\n",
      "Degree: 1\n",
      "Neighbors: Guadagni \n",
      "\n",
      "Node Medici has the following properties:\n",
      "Degree: 6\n",
      "Neighbors: Acciaiuoli Albizzi Barbadori Ridolfi Salviati Tornabuoni \n",
      "\n",
      "Node Pazzi has the following properties:\n",
      "Degree: 1\n",
      "Neighbors: Salviati \n",
      "\n",
      "Node Peruzzi has the following properties:\n",
      "Degree: 3\n",
      "Neighbors: Bischeri Castellani Strozzi \n",
      "\n",
      "Node Pucci has the following properties:\n",
      "Degree: 0\n",
      "Neighbors:  \n",
      "\n",
      "Node Ridolfi has the following properties:\n",
      "Degree: 3\n",
      "Neighbors: Medici Strozzi Tornabuoni \n",
      "\n",
      "Node Salviati has the following properties:\n",
      "Degree: 2\n",
      "Neighbors: Medici Pazzi \n",
      "\n",
      "Node Strozzi has the following properties:\n",
      "Degree: 4\n",
      "Neighbors: Bischeri Castellani Peruzzi Ridolfi \n",
      "\n",
      "Node Tornabuoni has the following properties:\n",
      "Degree: 3\n",
      "Neighbors: Guadagni Medici Ridolfi \n",
      "\n"
     ]
    }
   ],
   "source": [
    "print(nx.info(net), '\\n')\n",
    "for name in names:\n",
    "    print(nx.info(net, name), '\\n')"
   ]
  },
  {
   "cell_type": "markdown",
   "metadata": {},
   "source": [
    "7. Вычислить «пятичисловую сводку» сети:"
   ]
  },
  {
   "cell_type": "markdown",
   "metadata": {},
   "source": [
    "(a) Вычислить размер сети."
   ]
  },
  {
   "cell_type": "code",
   "execution_count": 165,
   "metadata": {
    "pycharm": {
     "name": "#%%\n"
    }
   },
   "outputs": [
    {
     "data": {
      "text/plain": [
       "16"
      ]
     },
     "execution_count": 165,
     "metadata": {},
     "output_type": "execute_result"
    }
   ],
   "source": [
    "g = net.number_of_nodes()\n",
    "g"
   ]
  },
  {
   "cell_type": "markdown",
   "metadata": {},
   "source": [
    "(b) Вычислить плотность сети вручную и с помощью соответствующей функции. Сделать выводы.\n",
    "\n",
    "$\\Delta = \\frac{L}{C_g^2} = \\frac{20}{8\\cdot15} = \\frac{1}{6} = 0.1666...$"
   ]
  },
  {
   "cell_type": "code",
   "execution_count": 166,
   "metadata": {
    "pycharm": {
     "name": "#%%\n"
    }
   },
   "outputs": [
    {
     "data": {
      "text/plain": [
       "0.16666666666666666"
      ]
     },
     "execution_count": 166,
     "metadata": {},
     "output_type": "execute_result"
    }
   ],
   "source": [
    "nx.density(net)"
   ]
  },
  {
   "cell_type": "markdown",
   "metadata": {},
   "source": [
    "> Вывод: если взять две флорентийские семьи,\n",
    "> то с вероятностью 17% они будут соединены брачной связью."
   ]
  },
  {
   "cell_type": "markdown",
   "metadata": {},
   "source": [
    "(c) Определить число компонент в сети по графику.\n",
    "Подтвердить свои догадки с помощью соответствующей функции.\n",
    "Сделать выводы."
   ]
  },
  {
   "cell_type": "markdown",
   "metadata": {},
   "source": [
    "На графике отчётливо видно две компоненты: семья Pucci и все остальные."
   ]
  },
  {
   "cell_type": "code",
   "execution_count": 167,
   "metadata": {
    "pycharm": {
     "name": "#%%\n"
    }
   },
   "outputs": [
    {
     "data": {
      "text/plain": [
       "2"
      ]
     },
     "execution_count": 167,
     "metadata": {},
     "output_type": "execute_result"
    }
   ],
   "source": [
    "nx.number_connected_components(net)"
   ]
  },
  {
   "cell_type": "markdown",
   "metadata": {},
   "source": [
    "> Вывод: все семьи кроме Pucci имели хотя бы одну брачную связь с другими семьями."
   ]
  },
  {
   "cell_type": "markdown",
   "metadata": {},
   "source": [
    "(d) Вычислить диаметр сети. Сделать выводы."
   ]
  },
  {
   "cell_type": "code",
   "execution_count": 168,
   "metadata": {
    "pycharm": {
     "name": "#%%\n"
    }
   },
   "outputs": [
    {
     "data": {
      "text/plain": [
       "5"
      ]
     },
     "execution_count": 168,
     "metadata": {},
     "output_type": "execute_result"
    }
   ],
   "source": [
    "max(nx.diameter(nx.subgraph(net, component)) for component in nx.connected_components(net))"
   ]
  },
  {
   "cell_type": "markdown",
   "metadata": {},
   "source": [
    "> Вывод: самая длинная из кратчайших цепочка из брачных связей,\n",
    "> соединяющая две семьи, имеет длину 5."
   ]
  },
  {
   "cell_type": "markdown",
   "metadata": {},
   "source": [
    "(e) Вычислить коэффициент кластеризации. Сделать выводы."
   ]
  },
  {
   "cell_type": "code",
   "execution_count": 169,
   "metadata": {
    "pycharm": {
     "name": "#%%\n"
    }
   },
   "outputs": [
    {
     "data": {
      "text/plain": [
       "0.19148936170212766"
      ]
     },
     "execution_count": 169,
     "metadata": {},
     "output_type": "execute_result"
    }
   ],
   "source": [
    "nx.transitivity(net)"
   ]
  },
  {
   "cell_type": "markdown",
   "metadata": {},
   "source": [
    "> Вывод: если семья $A$ имеет брачную связь с семьёй $B$,\n",
    "> а семья $B$ с семьёй $C$, то с вероятностью 20% $A$ имеет брачную связь с $C$."
   ]
  },
  {
   "cell_type": "markdown",
   "metadata": {},
   "source": [
    "8. Вычислить среднюю степень узлов и дисперсию. Сделать выводы."
   ]
  },
  {
   "cell_type": "code",
   "execution_count": 170,
   "metadata": {
    "pycharm": {
     "name": "#%%\n"
    }
   },
   "outputs": [
    {
     "data": {
      "text/plain": [
       "(2.5, 2.125)"
      ]
     },
     "execution_count": 170,
     "metadata": {},
     "output_type": "execute_result"
    }
   ],
   "source": [
    "avg_deg = sum(deg for _, deg in net.degree) / net.number_of_nodes()\n",
    "disp = sum((deg - avg_deg) ** 2 for _, deg in net.degree) / net.number_of_nodes()\n",
    "avg_deg, disp"
   ]
  },
  {
   "cell_type": "markdown",
   "metadata": {},
   "source": [
    "> Вывод: в среднем, каждая семья имеет брачную связь с 2-3 другими семьями,\n",
    "> однако, судя по дисперсии, есть семьи, у которых количество связей близко к нулю.\n",
    "> Также есть семьи, у которых связей примерно в 2 раза больше."
   ]
  },
  {
   "cell_type": "markdown",
   "metadata": {
    "pycharm": {
     "name": "#%% md\n"
    }
   },
   "source": [
    "9. Заполнить таблицу для различных мер центральности. Примечание: меры центральности вычислить для неизолированных вершин.\n",
    "Сделать выводы."
   ]
  },
  {
   "cell_type": "code",
   "execution_count": 171,
   "metadata": {
    "pycharm": {
     "name": "#%%\n"
    }
   },
   "outputs": [
    {
     "data": {
      "text/html": [
       "<div>\n",
       "<style scoped>\n",
       "    .dataframe tbody tr th:only-of-type {\n",
       "        vertical-align: middle;\n",
       "    }\n",
       "\n",
       "    .dataframe tbody tr th {\n",
       "        vertical-align: top;\n",
       "    }\n",
       "\n",
       "    .dataframe thead th {\n",
       "        text-align: right;\n",
       "    }\n",
       "</style>\n",
       "<table border=\"1\" class=\"dataframe\">\n",
       "  <thead>\n",
       "    <tr style=\"text-align: right;\">\n",
       "      <th></th>\n",
       "      <th>c_d</th>\n",
       "      <th>c_c</th>\n",
       "      <th>c_b</th>\n",
       "      <th>c_i</th>\n",
       "    </tr>\n",
       "  </thead>\n",
       "  <tbody>\n",
       "    <tr>\n",
       "      <th>Acciaiuoli</th>\n",
       "      <td>0.071429</td>\n",
       "      <td>0.368421</td>\n",
       "      <td>0.000000</td>\n",
       "      <td>0.036909</td>\n",
       "    </tr>\n",
       "    <tr>\n",
       "      <th>Albizzi</th>\n",
       "      <td>0.214286</td>\n",
       "      <td>0.482759</td>\n",
       "      <td>0.212454</td>\n",
       "      <td>0.055316</td>\n",
       "    </tr>\n",
       "    <tr>\n",
       "      <th>Barbadori</th>\n",
       "      <td>0.142857</td>\n",
       "      <td>0.437500</td>\n",
       "      <td>0.093407</td>\n",
       "      <td>0.050897</td>\n",
       "    </tr>\n",
       "    <tr>\n",
       "      <th>Bischeri</th>\n",
       "      <td>0.214286</td>\n",
       "      <td>0.400000</td>\n",
       "      <td>0.104396</td>\n",
       "      <td>0.055459</td>\n",
       "    </tr>\n",
       "    <tr>\n",
       "      <th>Castellani</th>\n",
       "      <td>0.214286</td>\n",
       "      <td>0.388889</td>\n",
       "      <td>0.054945</td>\n",
       "      <td>0.052962</td>\n",
       "    </tr>\n",
       "    <tr>\n",
       "      <th>Ginori</th>\n",
       "      <td>0.071429</td>\n",
       "      <td>0.333333</td>\n",
       "      <td>0.000000</td>\n",
       "      <td>0.032177</td>\n",
       "    </tr>\n",
       "    <tr>\n",
       "      <th>Guadagni</th>\n",
       "      <td>0.285714</td>\n",
       "      <td>0.466667</td>\n",
       "      <td>0.254579</td>\n",
       "      <td>0.061155</td>\n",
       "    </tr>\n",
       "    <tr>\n",
       "      <th>Lamberteschi</th>\n",
       "      <td>0.071429</td>\n",
       "      <td>0.325581</td>\n",
       "      <td>0.000000</td>\n",
       "      <td>0.034069</td>\n",
       "    </tr>\n",
       "    <tr>\n",
       "      <th>Medici</th>\n",
       "      <td>0.428571</td>\n",
       "      <td>0.560000</td>\n",
       "      <td>0.521978</td>\n",
       "      <td>0.070954</td>\n",
       "    </tr>\n",
       "    <tr>\n",
       "      <th>Pazzi</th>\n",
       "      <td>0.071429</td>\n",
       "      <td>0.285714</td>\n",
       "      <td>0.000000</td>\n",
       "      <td>0.026251</td>\n",
       "    </tr>\n",
       "    <tr>\n",
       "      <th>Peruzzi</th>\n",
       "      <td>0.214286</td>\n",
       "      <td>0.368421</td>\n",
       "      <td>0.021978</td>\n",
       "      <td>0.051921</td>\n",
       "    </tr>\n",
       "    <tr>\n",
       "      <th>Ridolfi</th>\n",
       "      <td>0.214286</td>\n",
       "      <td>0.500000</td>\n",
       "      <td>0.113553</td>\n",
       "      <td>0.060037</td>\n",
       "    </tr>\n",
       "    <tr>\n",
       "      <th>Salviati</th>\n",
       "      <td>0.142857</td>\n",
       "      <td>0.388889</td>\n",
       "      <td>0.142857</td>\n",
       "      <td>0.039851</td>\n",
       "    </tr>\n",
       "    <tr>\n",
       "      <th>Strozzi</th>\n",
       "      <td>0.285714</td>\n",
       "      <td>0.437500</td>\n",
       "      <td>0.102564</td>\n",
       "      <td>0.058547</td>\n",
       "    </tr>\n",
       "    <tr>\n",
       "      <th>Tornabuoni</th>\n",
       "      <td>0.214286</td>\n",
       "      <td>0.482759</td>\n",
       "      <td>0.091575</td>\n",
       "      <td>0.060156</td>\n",
       "    </tr>\n",
       "  </tbody>\n",
       "</table>\n",
       "</div>"
      ],
      "text/plain": [
       "                   c_d       c_c       c_b       c_i\n",
       "Acciaiuoli    0.071429  0.368421  0.000000  0.036909\n",
       "Albizzi       0.214286  0.482759  0.212454  0.055316\n",
       "Barbadori     0.142857  0.437500  0.093407  0.050897\n",
       "Bischeri      0.214286  0.400000  0.104396  0.055459\n",
       "Castellani    0.214286  0.388889  0.054945  0.052962\n",
       "Ginori        0.071429  0.333333  0.000000  0.032177\n",
       "Guadagni      0.285714  0.466667  0.254579  0.061155\n",
       "Lamberteschi  0.071429  0.325581  0.000000  0.034069\n",
       "Medici        0.428571  0.560000  0.521978  0.070954\n",
       "Pazzi         0.071429  0.285714  0.000000  0.026251\n",
       "Peruzzi       0.214286  0.368421  0.021978  0.051921\n",
       "Ridolfi       0.214286  0.500000  0.113553  0.060037\n",
       "Salviati      0.142857  0.388889  0.142857  0.039851\n",
       "Strozzi       0.285714  0.437500  0.102564  0.058547\n",
       "Tornabuoni    0.214286  0.482759  0.091575  0.060156"
      ]
     },
     "execution_count": 171,
     "metadata": {},
     "output_type": "execute_result"
    }
   ],
   "source": [
    "c = {name: [] for name in names}\n",
    "component = nx.subgraph(net, next(nx.connected_components(net)))\n",
    "for name, val in nx.degree_centrality(component).items():\n",
    "    c[name].append(val)\n",
    "for name, val in nx.closeness_centrality(component).items():\n",
    "    c[name].append(val)\n",
    "for name, val in nx.betweenness_centrality(component).items():\n",
    "    c[name].append(val)\n",
    "for name, val in nx.information_centrality(component).items():\n",
    "    c[name].append(val)\n",
    "data = {name: lst for name, lst in c.items() if lst}\n",
    "df = pd.DataFrame(data=data).T\n",
    "df.columns = ['c_d', 'c_c', 'c_b', 'c_i']\n",
    "df"
   ]
  },
  {
   "cell_type": "markdown",
   "metadata": {
    "pycharm": {
     "name": "#%% md\n"
    }
   },
   "source": [
    "> Вывод: самой \"центральной\" во всех отношениях семьёй являются Medici."
   ]
  },
  {
   "cell_type": "markdown",
   "metadata": {
    "pycharm": {
     "name": "#%% md\n"
    }
   },
   "source": [
    "10. Вычислить значение централизации для каждой меры. Сделать выводы."
   ]
  },
  {
   "cell_type": "code",
   "execution_count": 172,
   "metadata": {
    "pycharm": {
     "name": "#%%\n"
    }
   },
   "outputs": [
    {
     "data": {
      "text/plain": [
       "(0.017006802721088437,\n",
       " 0.3001592792427729,\n",
       " 0.4076923076923078,\n",
       " 0.4554414958947486)"
      ]
     },
     "execution_count": 172,
     "metadata": {},
     "output_type": "execute_result"
    }
   ],
   "source": [
    "C_d = sum(max(df['c_d']) - df['c_d']) / (g - 1) / (g - 2)\n",
    "C_c = sum(max(df['c_c']) - df['c_c']) / (g - 1) / (g - 2) * (2 * g - 3)\n",
    "C_b = sum(max(df['c_b']) - df['c_b']) / (g - 1)\n",
    "C_i = sum((df['c_i'] - sum(df['c_i'])) ** 2) / g\n",
    "C_d, C_c, C_b, C_i"
   ]
  },
  {
   "cell_type": "markdown",
   "metadata": {
    "pycharm": {
     "name": "#%% md\n"
    }
   },
   "source": [
    "> Выводы: сеть меньше всего централизована по степени и больше всего по информации."
   ]
  },
  {
   "cell_type": "markdown",
   "metadata": {
    "pycharm": {
     "name": "#%% md\n"
    }
   },
   "source": [
    "11. Выявить точки сочленения и мосты сети. Подтвердить свои догадки с помощью соответствующих функций (если их нет – реализуйте\n",
    "их самостоятельно). Построить график сети, на котором выделены\n",
    "точки сочленения и мосты."
   ]
  },
  {
   "cell_type": "markdown",
   "metadata": {},
   "source": [
    "Судя по графику, мостами являются ребра,\n",
    "которые соединяют Medici с Acciaiuoli и Salviati, Salviati с Pazzi,\n",
    "Albizzi с Ginori и Guadagni с Lamberteschi,\n",
    "а точками сочленения являются Albizzi, Guadagni, Medici и Salviati."
   ]
  },
  {
   "cell_type": "code",
   "execution_count": 173,
   "metadata": {
    "pycharm": {
     "name": "#%%\n"
    }
   },
   "outputs": [
    {
     "name": "stdout",
     "output_type": "stream",
     "text": [
      "['Albizzi', 'Guadagni', 'Medici', 'Salviati']\n",
      "[('Acciaiuoli', 'Medici'), ('Albizzi', 'Ginori'), ('Guadagni', 'Lamberteschi'), ('Medici', 'Salviati'), ('Pazzi', 'Salviati')]\n"
     ]
    },
    {
     "data": {
      "image/png": "[encoded data removed]",
      "text/plain": [
       "<Figure size 640x480 with 1 Axes>"
      ]
     },
     "metadata": {},
     "output_type": "display_data"
    }
   ],
   "source": [
    "art_points = [x for x in nx.articulation_points(net)]\n",
    "bridges = [x for x in nx.bridges(net)]\n",
    "pos = nx.kamada_kawai_layout(net)\n",
    "# Рисуем всех акторов\n",
    "nx.draw_networkx_nodes(net, pos)\n",
    "# Выделяем красным точки сочленения\n",
    "nx.draw_networkx_nodes(net, pos, nodelist=art_points, node_color=\"tab:red\")\n",
    "# Рисуем все связи\n",
    "nx.draw_networkx_edges(net, pos)\n",
    "# Выделяем зелёным мосты\n",
    "nx.draw_networkx_edges(net, pos, edgelist=bridges, edge_color=\"tab:green\")\n",
    "# Рисуем имена акторов\n",
    "nx.draw_networkx_labels(net, pos, {name: name for name in names})\n",
    "print(art_points)\n",
    "print(bridges)"
   ]
  },
  {
   "cell_type": "markdown",
   "metadata": {},
   "source": [
    "12. Выполнить п. 2–8 для направленной сети из файла krackhardt_friendship.csv (для\n",
    "чётных вариантов)."
   ]
  },
  {
   "cell_type": "markdown",
   "metadata": {
    "pycharm": {
     "name": "#%% md\n"
    }
   },
   "source": [
    "12.1 Извлечь социоматрицу, вывести её на экран."
   ]
  },
  {
   "cell_type": "code",
   "execution_count": 174,
   "metadata": {
    "pycharm": {
     "name": "#%%\n"
    }
   },
   "outputs": [
    {
     "data": {
      "text/html": [
       "<div>\n",
       "<style scoped>\n",
       "    .dataframe tbody tr th:only-of-type {\n",
       "        vertical-align: middle;\n",
       "    }\n",
       "\n",
       "    .dataframe tbody tr th {\n",
       "        vertical-align: top;\n",
       "    }\n",
       "\n",
       "    .dataframe thead th {\n",
       "        text-align: right;\n",
       "    }\n",
       "</style>\n",
       "<table border=\"1\" class=\"dataframe\">\n",
       "  <thead>\n",
       "    <tr style=\"text-align: right;\">\n",
       "      <th></th>\n",
       "      <th>0</th>\n",
       "      <th>1</th>\n",
       "      <th>2</th>\n",
       "      <th>3</th>\n",
       "      <th>4</th>\n",
       "      <th>5</th>\n",
       "      <th>6</th>\n",
       "      <th>7</th>\n",
       "      <th>8</th>\n",
       "      <th>9</th>\n",
       "      <th>...</th>\n",
       "      <th>11</th>\n",
       "      <th>12</th>\n",
       "      <th>13</th>\n",
       "      <th>14</th>\n",
       "      <th>15</th>\n",
       "      <th>16</th>\n",
       "      <th>17</th>\n",
       "      <th>18</th>\n",
       "      <th>19</th>\n",
       "      <th>20</th>\n",
       "    </tr>\n",
       "  </thead>\n",
       "  <tbody>\n",
       "    <tr>\n",
       "      <th>0</th>\n",
       "      <td>0</td>\n",
       "      <td>1</td>\n",
       "      <td>0</td>\n",
       "      <td>1</td>\n",
       "      <td>0</td>\n",
       "      <td>0</td>\n",
       "      <td>0</td>\n",
       "      <td>1</td>\n",
       "      <td>0</td>\n",
       "      <td>0</td>\n",
       "      <td>...</td>\n",
       "      <td>1</td>\n",
       "      <td>0</td>\n",
       "      <td>0</td>\n",
       "      <td>0</td>\n",
       "      <td>1</td>\n",
       "      <td>0</td>\n",
       "      <td>0</td>\n",
       "      <td>0</td>\n",
       "      <td>0</td>\n",
       "      <td>0</td>\n",
       "    </tr>\n",
       "    <tr>\n",
       "      <th>1</th>\n",
       "      <td>1</td>\n",
       "      <td>0</td>\n",
       "      <td>0</td>\n",
       "      <td>0</td>\n",
       "      <td>0</td>\n",
       "      <td>0</td>\n",
       "      <td>0</td>\n",
       "      <td>0</td>\n",
       "      <td>0</td>\n",
       "      <td>0</td>\n",
       "      <td>...</td>\n",
       "      <td>0</td>\n",
       "      <td>0</td>\n",
       "      <td>0</td>\n",
       "      <td>0</td>\n",
       "      <td>0</td>\n",
       "      <td>0</td>\n",
       "      <td>1</td>\n",
       "      <td>0</td>\n",
       "      <td>0</td>\n",
       "      <td>1</td>\n",
       "    </tr>\n",
       "    <tr>\n",
       "      <th>2</th>\n",
       "      <td>0</td>\n",
       "      <td>0</td>\n",
       "      <td>0</td>\n",
       "      <td>0</td>\n",
       "      <td>0</td>\n",
       "      <td>0</td>\n",
       "      <td>0</td>\n",
       "      <td>0</td>\n",
       "      <td>0</td>\n",
       "      <td>0</td>\n",
       "      <td>...</td>\n",
       "      <td>0</td>\n",
       "      <td>0</td>\n",
       "      <td>1</td>\n",
       "      <td>0</td>\n",
       "      <td>0</td>\n",
       "      <td>0</td>\n",
       "      <td>0</td>\n",
       "      <td>1</td>\n",
       "      <td>0</td>\n",
       "      <td>0</td>\n",
       "    </tr>\n",
       "    <tr>\n",
       "      <th>3</th>\n",
       "      <td>1</td>\n",
       "      <td>1</td>\n",
       "      <td>0</td>\n",
       "      <td>0</td>\n",
       "      <td>0</td>\n",
       "      <td>0</td>\n",
       "      <td>0</td>\n",
       "      <td>1</td>\n",
       "      <td>0</td>\n",
       "      <td>0</td>\n",
       "      <td>...</td>\n",
       "      <td>1</td>\n",
       "      <td>0</td>\n",
       "      <td>0</td>\n",
       "      <td>0</td>\n",
       "      <td>1</td>\n",
       "      <td>1</td>\n",
       "      <td>0</td>\n",
       "      <td>0</td>\n",
       "      <td>0</td>\n",
       "      <td>0</td>\n",
       "    </tr>\n",
       "    <tr>\n",
       "      <th>4</th>\n",
       "      <td>0</td>\n",
       "      <td>1</td>\n",
       "      <td>0</td>\n",
       "      <td>0</td>\n",
       "      <td>0</td>\n",
       "      <td>0</td>\n",
       "      <td>0</td>\n",
       "      <td>0</td>\n",
       "      <td>1</td>\n",
       "      <td>0</td>\n",
       "      <td>...</td>\n",
       "      <td>0</td>\n",
       "      <td>0</td>\n",
       "      <td>1</td>\n",
       "      <td>0</td>\n",
       "      <td>0</td>\n",
       "      <td>1</td>\n",
       "      <td>0</td>\n",
       "      <td>1</td>\n",
       "      <td>0</td>\n",
       "      <td>1</td>\n",
       "    </tr>\n",
       "    <tr>\n",
       "      <th>5</th>\n",
       "      <td>0</td>\n",
       "      <td>1</td>\n",
       "      <td>0</td>\n",
       "      <td>0</td>\n",
       "      <td>0</td>\n",
       "      <td>0</td>\n",
       "      <td>1</td>\n",
       "      <td>0</td>\n",
       "      <td>1</td>\n",
       "      <td>0</td>\n",
       "      <td>...</td>\n",
       "      <td>1</td>\n",
       "      <td>0</td>\n",
       "      <td>0</td>\n",
       "      <td>0</td>\n",
       "      <td>0</td>\n",
       "      <td>1</td>\n",
       "      <td>0</td>\n",
       "      <td>0</td>\n",
       "      <td>0</td>\n",
       "      <td>1</td>\n",
       "    </tr>\n",
       "    <tr>\n",
       "      <th>6</th>\n",
       "      <td>0</td>\n",
       "      <td>0</td>\n",
       "      <td>0</td>\n",
       "      <td>0</td>\n",
       "      <td>0</td>\n",
       "      <td>0</td>\n",
       "      <td>0</td>\n",
       "      <td>0</td>\n",
       "      <td>0</td>\n",
       "      <td>0</td>\n",
       "      <td>...</td>\n",
       "      <td>0</td>\n",
       "      <td>0</td>\n",
       "      <td>0</td>\n",
       "      <td>0</td>\n",
       "      <td>0</td>\n",
       "      <td>0</td>\n",
       "      <td>0</td>\n",
       "      <td>0</td>\n",
       "      <td>0</td>\n",
       "      <td>0</td>\n",
       "    </tr>\n",
       "    <tr>\n",
       "      <th>7</th>\n",
       "      <td>0</td>\n",
       "      <td>0</td>\n",
       "      <td>0</td>\n",
       "      <td>1</td>\n",
       "      <td>0</td>\n",
       "      <td>0</td>\n",
       "      <td>0</td>\n",
       "      <td>0</td>\n",
       "      <td>0</td>\n",
       "      <td>0</td>\n",
       "      <td>...</td>\n",
       "      <td>0</td>\n",
       "      <td>0</td>\n",
       "      <td>0</td>\n",
       "      <td>0</td>\n",
       "      <td>0</td>\n",
       "      <td>0</td>\n",
       "      <td>0</td>\n",
       "      <td>0</td>\n",
       "      <td>0</td>\n",
       "      <td>0</td>\n",
       "    </tr>\n",
       "    <tr>\n",
       "      <th>8</th>\n",
       "      <td>0</td>\n",
       "      <td>0</td>\n",
       "      <td>0</td>\n",
       "      <td>0</td>\n",
       "      <td>0</td>\n",
       "      <td>0</td>\n",
       "      <td>0</td>\n",
       "      <td>0</td>\n",
       "      <td>0</td>\n",
       "      <td>0</td>\n",
       "      <td>...</td>\n",
       "      <td>0</td>\n",
       "      <td>0</td>\n",
       "      <td>0</td>\n",
       "      <td>0</td>\n",
       "      <td>0</td>\n",
       "      <td>0</td>\n",
       "      <td>0</td>\n",
       "      <td>0</td>\n",
       "      <td>0</td>\n",
       "      <td>0</td>\n",
       "    </tr>\n",
       "    <tr>\n",
       "      <th>9</th>\n",
       "      <td>0</td>\n",
       "      <td>0</td>\n",
       "      <td>1</td>\n",
       "      <td>0</td>\n",
       "      <td>1</td>\n",
       "      <td>0</td>\n",
       "      <td>0</td>\n",
       "      <td>1</td>\n",
       "      <td>1</td>\n",
       "      <td>0</td>\n",
       "      <td>...</td>\n",
       "      <td>1</td>\n",
       "      <td>0</td>\n",
       "      <td>0</td>\n",
       "      <td>0</td>\n",
       "      <td>1</td>\n",
       "      <td>0</td>\n",
       "      <td>0</td>\n",
       "      <td>0</td>\n",
       "      <td>1</td>\n",
       "      <td>0</td>\n",
       "    </tr>\n",
       "    <tr>\n",
       "      <th>10</th>\n",
       "      <td>1</td>\n",
       "      <td>1</td>\n",
       "      <td>1</td>\n",
       "      <td>1</td>\n",
       "      <td>1</td>\n",
       "      <td>0</td>\n",
       "      <td>0</td>\n",
       "      <td>1</td>\n",
       "      <td>1</td>\n",
       "      <td>0</td>\n",
       "      <td>...</td>\n",
       "      <td>1</td>\n",
       "      <td>1</td>\n",
       "      <td>0</td>\n",
       "      <td>1</td>\n",
       "      <td>0</td>\n",
       "      <td>1</td>\n",
       "      <td>1</td>\n",
       "      <td>1</td>\n",
       "      <td>0</td>\n",
       "      <td>0</td>\n",
       "    </tr>\n",
       "    <tr>\n",
       "      <th>11</th>\n",
       "      <td>1</td>\n",
       "      <td>0</td>\n",
       "      <td>0</td>\n",
       "      <td>1</td>\n",
       "      <td>0</td>\n",
       "      <td>0</td>\n",
       "      <td>0</td>\n",
       "      <td>0</td>\n",
       "      <td>0</td>\n",
       "      <td>0</td>\n",
       "      <td>...</td>\n",
       "      <td>0</td>\n",
       "      <td>0</td>\n",
       "      <td>0</td>\n",
       "      <td>0</td>\n",
       "      <td>0</td>\n",
       "      <td>1</td>\n",
       "      <td>0</td>\n",
       "      <td>0</td>\n",
       "      <td>0</td>\n",
       "      <td>1</td>\n",
       "    </tr>\n",
       "    <tr>\n",
       "      <th>12</th>\n",
       "      <td>0</td>\n",
       "      <td>0</td>\n",
       "      <td>0</td>\n",
       "      <td>0</td>\n",
       "      <td>1</td>\n",
       "      <td>0</td>\n",
       "      <td>0</td>\n",
       "      <td>0</td>\n",
       "      <td>0</td>\n",
       "      <td>0</td>\n",
       "      <td>...</td>\n",
       "      <td>0</td>\n",
       "      <td>0</td>\n",
       "      <td>0</td>\n",
       "      <td>0</td>\n",
       "      <td>0</td>\n",
       "      <td>0</td>\n",
       "      <td>0</td>\n",
       "      <td>0</td>\n",
       "      <td>0</td>\n",
       "      <td>0</td>\n",
       "    </tr>\n",
       "    <tr>\n",
       "      <th>13</th>\n",
       "      <td>0</td>\n",
       "      <td>0</td>\n",
       "      <td>0</td>\n",
       "      <td>0</td>\n",
       "      <td>0</td>\n",
       "      <td>0</td>\n",
       "      <td>1</td>\n",
       "      <td>0</td>\n",
       "      <td>0</td>\n",
       "      <td>0</td>\n",
       "      <td>...</td>\n",
       "      <td>0</td>\n",
       "      <td>0</td>\n",
       "      <td>0</td>\n",
       "      <td>1</td>\n",
       "      <td>0</td>\n",
       "      <td>0</td>\n",
       "      <td>0</td>\n",
       "      <td>0</td>\n",
       "      <td>0</td>\n",
       "      <td>0</td>\n",
       "    </tr>\n",
       "    <tr>\n",
       "      <th>14</th>\n",
       "      <td>1</td>\n",
       "      <td>0</td>\n",
       "      <td>1</td>\n",
       "      <td>0</td>\n",
       "      <td>1</td>\n",
       "      <td>1</td>\n",
       "      <td>0</td>\n",
       "      <td>0</td>\n",
       "      <td>1</td>\n",
       "      <td>0</td>\n",
       "      <td>...</td>\n",
       "      <td>0</td>\n",
       "      <td>0</td>\n",
       "      <td>1</td>\n",
       "      <td>0</td>\n",
       "      <td>0</td>\n",
       "      <td>0</td>\n",
       "      <td>0</td>\n",
       "      <td>1</td>\n",
       "      <td>0</td>\n",
       "      <td>0</td>\n",
       "    </tr>\n",
       "    <tr>\n",
       "      <th>15</th>\n",
       "      <td>1</td>\n",
       "      <td>1</td>\n",
       "      <td>0</td>\n",
       "      <td>0</td>\n",
       "      <td>0</td>\n",
       "      <td>0</td>\n",
       "      <td>0</td>\n",
       "      <td>0</td>\n",
       "      <td>0</td>\n",
       "      <td>0</td>\n",
       "      <td>...</td>\n",
       "      <td>0</td>\n",
       "      <td>0</td>\n",
       "      <td>0</td>\n",
       "      <td>0</td>\n",
       "      <td>0</td>\n",
       "      <td>0</td>\n",
       "      <td>0</td>\n",
       "      <td>0</td>\n",
       "      <td>0</td>\n",
       "      <td>0</td>\n",
       "    </tr>\n",
       "    <tr>\n",
       "      <th>16</th>\n",
       "      <td>1</td>\n",
       "      <td>1</td>\n",
       "      <td>1</td>\n",
       "      <td>1</td>\n",
       "      <td>1</td>\n",
       "      <td>1</td>\n",
       "      <td>1</td>\n",
       "      <td>1</td>\n",
       "      <td>1</td>\n",
       "      <td>1</td>\n",
       "      <td>...</td>\n",
       "      <td>1</td>\n",
       "      <td>0</td>\n",
       "      <td>1</td>\n",
       "      <td>1</td>\n",
       "      <td>1</td>\n",
       "      <td>0</td>\n",
       "      <td>0</td>\n",
       "      <td>1</td>\n",
       "      <td>1</td>\n",
       "      <td>1</td>\n",
       "    </tr>\n",
       "    <tr>\n",
       "      <th>17</th>\n",
       "      <td>0</td>\n",
       "      <td>1</td>\n",
       "      <td>0</td>\n",
       "      <td>0</td>\n",
       "      <td>0</td>\n",
       "      <td>0</td>\n",
       "      <td>0</td>\n",
       "      <td>0</td>\n",
       "      <td>0</td>\n",
       "      <td>0</td>\n",
       "      <td>...</td>\n",
       "      <td>0</td>\n",
       "      <td>0</td>\n",
       "      <td>0</td>\n",
       "      <td>0</td>\n",
       "      <td>0</td>\n",
       "      <td>0</td>\n",
       "      <td>0</td>\n",
       "      <td>0</td>\n",
       "      <td>0</td>\n",
       "      <td>0</td>\n",
       "    </tr>\n",
       "    <tr>\n",
       "      <th>18</th>\n",
       "      <td>1</td>\n",
       "      <td>1</td>\n",
       "      <td>1</td>\n",
       "      <td>0</td>\n",
       "      <td>1</td>\n",
       "      <td>0</td>\n",
       "      <td>0</td>\n",
       "      <td>0</td>\n",
       "      <td>0</td>\n",
       "      <td>0</td>\n",
       "      <td>...</td>\n",
       "      <td>1</td>\n",
       "      <td>0</td>\n",
       "      <td>1</td>\n",
       "      <td>1</td>\n",
       "      <td>0</td>\n",
       "      <td>0</td>\n",
       "      <td>0</td>\n",
       "      <td>0</td>\n",
       "      <td>1</td>\n",
       "      <td>0</td>\n",
       "    </tr>\n",
       "    <tr>\n",
       "      <th>19</th>\n",
       "      <td>0</td>\n",
       "      <td>0</td>\n",
       "      <td>0</td>\n",
       "      <td>0</td>\n",
       "      <td>0</td>\n",
       "      <td>0</td>\n",
       "      <td>0</td>\n",
       "      <td>0</td>\n",
       "      <td>0</td>\n",
       "      <td>0</td>\n",
       "      <td>...</td>\n",
       "      <td>0</td>\n",
       "      <td>0</td>\n",
       "      <td>0</td>\n",
       "      <td>0</td>\n",
       "      <td>0</td>\n",
       "      <td>0</td>\n",
       "      <td>1</td>\n",
       "      <td>0</td>\n",
       "      <td>0</td>\n",
       "      <td>0</td>\n",
       "    </tr>\n",
       "    <tr>\n",
       "      <th>20</th>\n",
       "      <td>0</td>\n",
       "      <td>1</td>\n",
       "      <td>0</td>\n",
       "      <td>0</td>\n",
       "      <td>0</td>\n",
       "      <td>0</td>\n",
       "      <td>0</td>\n",
       "      <td>0</td>\n",
       "      <td>0</td>\n",
       "      <td>0</td>\n",
       "      <td>...</td>\n",
       "      <td>1</td>\n",
       "      <td>0</td>\n",
       "      <td>0</td>\n",
       "      <td>0</td>\n",
       "      <td>0</td>\n",
       "      <td>1</td>\n",
       "      <td>1</td>\n",
       "      <td>0</td>\n",
       "      <td>0</td>\n",
       "      <td>0</td>\n",
       "    </tr>\n",
       "  </tbody>\n",
       "</table>\n",
       "<p>21 rows × 21 columns</p>\n",
       "</div>"
      ],
      "text/plain": [
       "    0   1   2   3   4   5   6   7   8   9   ...  11  12  13  14  15  16  17  \\\n",
       "0    0   1   0   1   0   0   0   1   0   0  ...   1   0   0   0   1   0   0   \n",
       "1    1   0   0   0   0   0   0   0   0   0  ...   0   0   0   0   0   0   1   \n",
       "2    0   0   0   0   0   0   0   0   0   0  ...   0   0   1   0   0   0   0   \n",
       "3    1   1   0   0   0   0   0   1   0   0  ...   1   0   0   0   1   1   0   \n",
       "4    0   1   0   0   0   0   0   0   1   0  ...   0   0   1   0   0   1   0   \n",
       "5    0   1   0   0   0   0   1   0   1   0  ...   1   0   0   0   0   1   0   \n",
       "6    0   0   0   0   0   0   0   0   0   0  ...   0   0   0   0   0   0   0   \n",
       "7    0   0   0   1   0   0   0   0   0   0  ...   0   0   0   0   0   0   0   \n",
       "8    0   0   0   0   0   0   0   0   0   0  ...   0   0   0   0   0   0   0   \n",
       "9    0   0   1   0   1   0   0   1   1   0  ...   1   0   0   0   1   0   0   \n",
       "10   1   1   1   1   1   0   0   1   1   0  ...   1   1   0   1   0   1   1   \n",
       "11   1   0   0   1   0   0   0   0   0   0  ...   0   0   0   0   0   1   0   \n",
       "12   0   0   0   0   1   0   0   0   0   0  ...   0   0   0   0   0   0   0   \n",
       "13   0   0   0   0   0   0   1   0   0   0  ...   0   0   0   1   0   0   0   \n",
       "14   1   0   1   0   1   1   0   0   1   0  ...   0   0   1   0   0   0   0   \n",
       "15   1   1   0   0   0   0   0   0   0   0  ...   0   0   0   0   0   0   0   \n",
       "16   1   1   1   1   1   1   1   1   1   1  ...   1   0   1   1   1   0   0   \n",
       "17   0   1   0   0   0   0   0   0   0   0  ...   0   0   0   0   0   0   0   \n",
       "18   1   1   1   0   1   0   0   0   0   0  ...   1   0   1   1   0   0   0   \n",
       "19   0   0   0   0   0   0   0   0   0   0  ...   0   0   0   0   0   0   1   \n",
       "20   0   1   0   0   0   0   0   0   0   0  ...   1   0   0   0   0   1   1   \n",
       "\n",
       "    18  19  20  \n",
       "0    0   0   0  \n",
       "1    0   0   1  \n",
       "2    1   0   0  \n",
       "3    0   0   0  \n",
       "4    1   0   1  \n",
       "5    0   0   1  \n",
       "6    0   0   0  \n",
       "7    0   0   0  \n",
       "8    0   0   0  \n",
       "9    0   1   0  \n",
       "10   1   0   0  \n",
       "11   0   0   1  \n",
       "12   0   0   0  \n",
       "13   0   0   0  \n",
       "14   1   0   0  \n",
       "15   0   0   0  \n",
       "16   1   1   1  \n",
       "17   0   0   0  \n",
       "18   0   1   0  \n",
       "19   0   0   0  \n",
       "20   0   0   0  \n",
       "\n",
       "[21 rows x 21 columns]"
      ]
     },
     "execution_count": 174,
     "metadata": {},
     "output_type": "execute_result"
    }
   ],
   "source": [
    "sm = pd.read_csv('data/krackhardt_friendship.csv', skiprows=2, header=None, delimiter=', ', engine='python')\n",
    "sm"
   ]
  },
  {
   "cell_type": "markdown",
   "metadata": {},
   "source": [
    "12.2. Преобразовать социоматрицу в список рёбер. Вывести первые 5 элементов списка рёбер"
   ]
  },
  {
   "cell_type": "code",
   "execution_count": 175,
   "metadata": {
    "pycharm": {
     "name": "#%%\n"
    }
   },
   "outputs": [
    {
     "data": {
      "text/html": [
       "<div>\n",
       "<style scoped>\n",
       "    .dataframe tbody tr th:only-of-type {\n",
       "        vertical-align: middle;\n",
       "    }\n",
       "\n",
       "    .dataframe tbody tr th {\n",
       "        vertical-align: top;\n",
       "    }\n",
       "\n",
       "    .dataframe thead th {\n",
       "        text-align: right;\n",
       "    }\n",
       "</style>\n",
       "<table border=\"1\" class=\"dataframe\">\n",
       "  <thead>\n",
       "    <tr style=\"text-align: right;\">\n",
       "      <th></th>\n",
       "      <th>source</th>\n",
       "      <th>target</th>\n",
       "      <th>weight</th>\n",
       "    </tr>\n",
       "  </thead>\n",
       "  <tbody>\n",
       "    <tr>\n",
       "      <th>0</th>\n",
       "      <td>0</td>\n",
       "      <td>1</td>\n",
       "      <td>1</td>\n",
       "    </tr>\n",
       "    <tr>\n",
       "      <th>1</th>\n",
       "      <td>0</td>\n",
       "      <td>3</td>\n",
       "      <td>1</td>\n",
       "    </tr>\n",
       "    <tr>\n",
       "      <th>2</th>\n",
       "      <td>0</td>\n",
       "      <td>7</td>\n",
       "      <td>1</td>\n",
       "    </tr>\n",
       "    <tr>\n",
       "      <th>3</th>\n",
       "      <td>0</td>\n",
       "      <td>11</td>\n",
       "      <td>1</td>\n",
       "    </tr>\n",
       "    <tr>\n",
       "      <th>4</th>\n",
       "      <td>0</td>\n",
       "      <td>15</td>\n",
       "      <td>1</td>\n",
       "    </tr>\n",
       "  </tbody>\n",
       "</table>\n",
       "</div>"
      ],
      "text/plain": [
       "   source  target  weight\n",
       "0       0       1       1\n",
       "1       0       3       1\n",
       "2       0       7       1\n",
       "3       0      11       1\n",
       "4       0      15       1"
      ]
     },
     "execution_count": 175,
     "metadata": {},
     "output_type": "execute_result"
    }
   ],
   "source": [
    "nx.to_pandas_edgelist(nx.from_pandas_adjacency(sm)).head()"
   ]
  },
  {
   "cell_type": "markdown",
   "metadata": {},
   "source": [
    "12.3. Присвоить имена столбцам и строкам социоматрицы (имена – первая строка в csv-файле после комментариев)."
   ]
  },
  {
   "cell_type": "markdown",
   "metadata": {
    "pycharm": {
     "name": "#%% md\n"
    }
   },
   "source": [
    "> В данном случае имён в файле нет."
   ]
  },
  {
   "cell_type": "markdown",
   "metadata": {},
   "source": [
    "12.4. С помощью соответствующих функций по полученной социоматрице построить направленную сеть.\n",
    "Объяснить параметры, передаваемые в функцию."
   ]
  },
  {
   "cell_type": "code",
   "execution_count": 176,
   "metadata": {
    "pycharm": {
     "name": "#%%\n"
    }
   },
   "outputs": [],
   "source": [
    "net = nx.from_pandas_adjacency(sm, create_using=nx.DiGraph)"
   ]
  },
  {
   "cell_type": "markdown",
   "metadata": {},
   "source": [
    "> Объяснение параметров: в функцию передаётся два параметра: социоматрица, по которой строится сеть и конструктор направленной сети."
   ]
  },
  {
   "cell_type": "markdown",
   "metadata": {},
   "source": [
    "12.5. Отобразить сеть с помощью алгоритмов укладки Фрюхтермана–\n",
    "Рейнгольда и Камада–Каваи. Объяснить, в чём различие между\n",
    "алгоритмами и укладками."
   ]
  },
  {
   "cell_type": "code",
   "execution_count": 177,
   "metadata": {
    "pycharm": {
     "name": "#%%\n"
    }
   },
   "outputs": [
    {
     "data": {
      "image/png": "[encoded data removed]",
      "text/plain": [
       "<Figure size 640x480 with 1 Axes>"
      ]
     },
     "metadata": {},
     "output_type": "display_data"
    }
   ],
   "source": [
    "# Отрисовка на основе spring_layout, в котором используется алгоритм Фрюхтермана–Рейнгольда\n",
    "# (см. исходный код https://networkx.org/documentation/stable/_modules/networkx/drawing/layout.html#spring_layout)\n",
    "nx.draw_spring(net, with_labels=True)"
   ]
  },
  {
   "cell_type": "code",
   "execution_count": 178,
   "metadata": {
    "pycharm": {
     "name": "#%%\n"
    }
   },
   "outputs": [
    {
     "data": {
      "image/png": "[encoded data removed]",
      "text/plain": [
       "<Figure size 640x480 with 1 Axes>"
      ]
     },
     "metadata": {},
     "output_type": "display_data"
    }
   ],
   "source": [
    "nx.draw_kamada_kawai(net, with_labels=True)"
   ]
  },
  {
   "cell_type": "markdown",
   "metadata": {},
   "source": [
    "12.6. Вывести «описательную сводку» сети."
   ]
  },
  {
   "cell_type": "code",
   "execution_count": 179,
   "metadata": {
    "pycharm": {
     "name": "#%%\n"
    }
   },
   "outputs": [
    {
     "name": "stdout",
     "output_type": "stream",
     "text": [
      "DiGraph with 21 nodes and 102 edges \n",
      "\n",
      "Node 0 has the following properties:\n",
      "In degree: 8\n",
      "Out degree: 5\n",
      "Predecessors: [1, 3, 10, 11, 14, 15, 16, 18]\n",
      "Successors: [1, 3, 7, 11, 15]\n",
      "\n",
      "\n",
      "Node 0 has the following properties:\n",
      "In degree: 10\n",
      "Out degree: 3\n",
      "Predecessors: [0, 3, 4, 5, 10, 15, 16, 17, 18, 20]\n",
      "Successors: [0, 17, 20]\n",
      "\n",
      "\n",
      "Node 0 has the following properties:\n",
      "In degree: 5\n",
      "Out degree: 2\n",
      "Predecessors: [9, 10, 14, 16, 18]\n",
      "Successors: [13, 18]\n",
      "\n",
      "\n",
      "Node 0 has the following properties:\n",
      "In degree: 5\n",
      "Out degree: 6\n",
      "Predecessors: [0, 7, 10, 11, 16]\n",
      "Successors: [0, 1, 7, 11, 15, 16]\n",
      "\n",
      "\n",
      "Node 0 has the following properties:\n",
      "In degree: 6\n",
      "Out degree: 7\n",
      "Predecessors: [9, 10, 12, 14, 16, 18]\n",
      "Successors: [1, 8, 10, 13, 16, 18, 20]\n",
      "\n",
      "\n",
      "Node 0 has the following properties:\n",
      "In degree: 2\n",
      "Out degree: 6\n",
      "Predecessors: [14, 16]\n",
      "Successors: [1, 6, 8, 11, 16, 20]\n",
      "\n",
      "\n",
      "Node 0 has the following properties:\n",
      "In degree: 3\n",
      "Out degree: 0\n",
      "Predecessors: [5, 13, 16]\n",
      "Successors: []\n",
      "\n",
      "\n",
      "Node 0 has the following properties:\n",
      "In degree: 5\n",
      "Out degree: 1\n",
      "Predecessors: [0, 3, 9, 10, 16]\n",
      "Successors: [3]\n",
      "\n",
      "\n",
      "Node 0 has the following properties:\n",
      "In degree: 6\n",
      "Out degree: 0\n",
      "Predecessors: [4, 5, 9, 10, 14, 16]\n",
      "Successors: []\n",
      "\n",
      "\n",
      "Node 0 has the following properties:\n",
      "In degree: 1\n",
      "Out degree: 7\n",
      "Predecessors: [16]\n",
      "Successors: [2, 4, 7, 8, 11, 15, 19]\n",
      "\n",
      "\n",
      "Node 0 has the following properties:\n",
      "In degree: 6\n",
      "Out degree: 13\n",
      "Predecessors: [4, 12, 14, 16, 18, 19]\n",
      "Successors: [0, 1, 2, 3, 4, 7, 8, 11, 12, 14, 16, 17, 18]\n",
      "\n",
      "\n",
      "Node 0 has the following properties:\n",
      "In degree: 8\n",
      "Out degree: 4\n",
      "Predecessors: [0, 3, 5, 9, 10, 16, 18, 20]\n",
      "Successors: [0, 3, 16, 20]\n",
      "\n",
      "\n",
      "Node 0 has the following properties:\n",
      "In degree: 1\n",
      "Out degree: 2\n",
      "Predecessors: [10]\n",
      "Successors: [4, 10]\n",
      "\n",
      "\n",
      "Node 0 has the following properties:\n",
      "In degree: 5\n",
      "Out degree: 2\n",
      "Predecessors: [2, 4, 14, 16, 18]\n",
      "Successors: [6, 14]\n",
      "\n",
      "\n",
      "Node 0 has the following properties:\n",
      "In degree: 4\n",
      "Out degree: 8\n",
      "Predecessors: [10, 13, 16, 18]\n",
      "Successors: [0, 2, 4, 5, 8, 10, 13, 18]\n",
      "\n",
      "\n",
      "Node 0 has the following properties:\n",
      "In degree: 4\n",
      "Out degree: 2\n",
      "Predecessors: [0, 3, 9, 16]\n",
      "Successors: [0, 1]\n",
      "\n",
      "\n",
      "Node 0 has the following properties:\n",
      "In degree: 6\n",
      "Out degree: 18\n",
      "Predecessors: [3, 4, 5, 10, 11, 20]\n",
      "Successors: [0, 1, 2, 3, 4, 5, 6, 7, 8, 9, 10, 11, 13, 14, 15, 18, 19, 20]\n",
      "\n",
      "\n",
      "Node 0 has the following properties:\n",
      "In degree: 4\n",
      "Out degree: 1\n",
      "Predecessors: [1, 10, 19, 20]\n",
      "Successors: [1]\n",
      "\n",
      "\n",
      "Node 0 has the following properties:\n",
      "In degree: 5\n",
      "Out degree: 9\n",
      "Predecessors: [2, 4, 10, 14, 16]\n",
      "Successors: [0, 1, 2, 4, 10, 11, 13, 14, 19]\n",
      "\n",
      "\n",
      "Node 0 has the following properties:\n",
      "In degree: 3\n",
      "Out degree: 2\n",
      "Predecessors: [9, 16, 18]\n",
      "Successors: [10, 17]\n",
      "\n",
      "\n",
      "Node 0 has the following properties:\n",
      "In degree: 5\n",
      "Out degree: 4\n",
      "Predecessors: [1, 4, 5, 11, 16]\n",
      "Successors: [1, 11, 16, 17]\n",
      "\n",
      "\n"
     ]
    }
   ],
   "source": [
    "print(nx.info(net), '\\n')\n",
    "for i in range(nx.number_of_nodes(net)):\n",
    "    print(f\"Node 0 has the following properties:\")\n",
    "    print(f\"In degree: {net.in_degree(i)}\")\n",
    "    print(f\"Out degree: {net.out_degree(i)}\")\n",
    "    print(f\"Predecessors: {list(net.predecessors(i))}\")\n",
    "    print(f\"Successors: {list(net.successors(i))}\")\n",
    "    print(\"\\n\")"
   ]
  },
  {
   "cell_type": "markdown",
   "metadata": {},
   "source": [
    "12.7. Вычислить «пятичисловую сводку» сети:"
   ]
  },
  {
   "cell_type": "markdown",
   "metadata": {},
   "source": [
    "(a) Вычислить размер сети."
   ]
  },
  {
   "cell_type": "code",
   "execution_count": 180,
   "metadata": {
    "pycharm": {
     "name": "#%%\n"
    }
   },
   "outputs": [
    {
     "data": {
      "text/plain": [
       "21"
      ]
     },
     "execution_count": 180,
     "metadata": {},
     "output_type": "execute_result"
    }
   ],
   "source": [
    "net.number_of_nodes()"
   ]
  },
  {
   "cell_type": "markdown",
   "metadata": {},
   "source": [
    "(b) Вычислить плотность сети вручную и с помощью соответствующей функции. Сделать выводы.\n",
    "\n",
    "Пожалуй, не будем считать ребра вручную..."
   ]
  },
  {
   "cell_type": "code",
   "execution_count": 181,
   "metadata": {
    "pycharm": {
     "name": "#%%\n"
    }
   },
   "outputs": [
    {
     "data": {
      "text/plain": [
       "102"
      ]
     },
     "execution_count": 181,
     "metadata": {},
     "output_type": "execute_result"
    }
   ],
   "source": [
    "net.number_of_edges()"
   ]
  },
  {
   "cell_type": "markdown",
   "metadata": {
    "pycharm": {
     "name": "#%% md\n"
    }
   },
   "source": [
    "$\\Delta = \\frac{L}{A_g^2} = \\frac{102}{21\\cdot20} = \\frac{102}{420} = 0,242857...$"
   ]
  },
  {
   "cell_type": "code",
   "execution_count": 182,
   "metadata": {
    "pycharm": {
     "name": "#%%\n"
    }
   },
   "outputs": [
    {
     "data": {
      "text/plain": [
       "0.24285714285714285"
      ]
     },
     "execution_count": 182,
     "metadata": {},
     "output_type": "execute_result"
    }
   ],
   "source": [
    "nx.density(net)"
   ]
  },
  {
   "cell_type": "markdown",
   "metadata": {},
   "source": [
    "> Вывод: если взять двух менеджеров Krackhardt то с вероятностью 24% они будут дружить."
   ]
  },
  {
   "cell_type": "markdown",
   "metadata": {},
   "source": [
    "(c) Определить число компонент в сети по графику.\n",
    "Подтвердить свои догадки с помощью соответствующей функции.\n",
    "Сделать выводы."
   ]
  },
  {
   "cell_type": "markdown",
   "metadata": {},
   "source": [
    "По графику тяжело определить точное количество компонент сильной связности,\n",
    "однако видно, что 6 и 7 - две отдельных компоненты сильной связности."
   ]
  },
  {
   "cell_type": "code",
   "execution_count": 183,
   "metadata": {
    "pycharm": {
     "name": "#%%\n"
    }
   },
   "outputs": [
    {
     "data": {
      "text/plain": [
       "3"
      ]
     },
     "execution_count": 183,
     "metadata": {},
     "output_type": "execute_result"
    }
   ],
   "source": [
    "nx.number_strongly_connected_components(net)"
   ]
  },
  {
   "cell_type": "markdown",
   "metadata": {},
   "source": [
    "> Вывод: в компании Krackhardt есть два менеджера с номерами 6 и 7,\n",
    "> которые не дружат ни с кем."
   ]
  },
  {
   "cell_type": "markdown",
   "metadata": {},
   "source": [
    "(d) Вычислить диаметр сети. Сделать выводы."
   ]
  },
  {
   "cell_type": "code",
   "execution_count": 184,
   "metadata": {
    "pycharm": {
     "name": "#%%\n"
    }
   },
   "outputs": [
    {
     "data": {
      "text/plain": [
       "5"
      ]
     },
     "execution_count": 184,
     "metadata": {},
     "output_type": "execute_result"
    }
   ],
   "source": [
    "max(nx.diameter(nx.subgraph(net, component)) for component in nx.strongly_connected_components(net))"
   ]
  },
  {
   "cell_type": "markdown",
   "metadata": {},
   "source": [
    "> Вывод: самая длинная из кратчайших цепочка из дружеских связей, соединяющая двух менеджеров, имеет длину 5."
   ]
  },
  {
   "cell_type": "markdown",
   "metadata": {},
   "source": [
    "(e) Вычислить коэффициент кластеризации. Сделать выводы."
   ]
  },
  {
   "cell_type": "code",
   "execution_count": 185,
   "metadata": {
    "pycharm": {
     "name": "#%%\n"
    }
   },
   "outputs": [
    {
     "data": {
      "text/plain": [
       "0.27581863979848864"
      ]
     },
     "execution_count": 185,
     "metadata": {},
     "output_type": "execute_result"
    }
   ],
   "source": [
    "nx.transitivity(net)"
   ]
  },
  {
   "cell_type": "markdown",
   "metadata": {},
   "source": [
    "> Вывод: если менеджер $A$ имеет дружескую связь с менеджером $B$,\n",
    "> а менеджер $B$ с менеджером $C$, то с вероятностью 28% $A$ имеет дружескую связь с $C$."
   ]
  },
  {
   "cell_type": "markdown",
   "metadata": {},
   "source": [
    "12.8. Вычислить среднюю степень узлов и дисперсию. Сделать выводы."
   ]
  },
  {
   "cell_type": "code",
   "execution_count": 186,
   "metadata": {
    "pycharm": {
     "name": "#%%\n"
    }
   },
   "outputs": [
    {
     "name": "stdout",
     "output_type": "stream",
     "text": [
      "Mean: in=4.857142857142857, out=4.857142857142857.\n",
      "Despersion: in=4.6938775510204085, out=19.07482993197279.\n"
     ]
    }
   ],
   "source": [
    "avg_deg_in = sum(deg for _, deg in net.in_degree) / net.number_of_nodes()\n",
    "avg_deg_out = sum(deg for _, deg in net.out_degree) / net.number_of_nodes()\n",
    "disp_in = sum((deg - avg_deg_in) ** 2 for _, deg in net.in_degree) / net.number_of_nodes()\n",
    "disp_out = sum((deg - avg_deg_out) ** 2 for _, deg in net.out_degree) / net.number_of_nodes()\n",
    "print(f\"Mean: in={avg_deg_in}, out={avg_deg_out}.\")\n",
    "print(f\"Despersion: in={disp_in}, out={disp_out}.\")"
   ]
  },
  {
   "cell_type": "markdown",
   "metadata": {},
   "source": [
    "> Вывод: в среднем, каждый менеджер имеет дружит 4-5 другими менеджерами,\n",
    "> причём для входных дружеских связей разброс от этого значения небольшой, а для выходных гораздо больше."
   ]
  },
  {
   "cell_type": "markdown",
   "metadata": {
    "pycharm": {
     "name": "#%% md\n"
    }
   },
   "source": [
    "13. Заполнить таблицу для различных мер престижа."
   ]
  },
  {
   "cell_type": "code",
   "execution_count": 187,
   "metadata": {
    "pycharm": {
     "name": "#%%\n"
    }
   },
   "outputs": [
    {
     "data": {
      "text/html": [
       "<div>\n",
       "<style scoped>\n",
       "    .dataframe tbody tr th:only-of-type {\n",
       "        vertical-align: middle;\n",
       "    }\n",
       "\n",
       "    .dataframe tbody tr th {\n",
       "        vertical-align: top;\n",
       "    }\n",
       "\n",
       "    .dataframe thead th {\n",
       "        text-align: right;\n",
       "    }\n",
       "</style>\n",
       "<table border=\"1\" class=\"dataframe\">\n",
       "  <thead>\n",
       "    <tr style=\"text-align: right;\">\n",
       "      <th></th>\n",
       "      <th>P_d</th>\n",
       "      <th>P_p</th>\n",
       "    </tr>\n",
       "  </thead>\n",
       "  <tbody>\n",
       "    <tr>\n",
       "      <th>0</th>\n",
       "      <td>0.533333</td>\n",
       "      <td>0.859524</td>\n",
       "    </tr>\n",
       "    <tr>\n",
       "      <th>1</th>\n",
       "      <td>0.666667</td>\n",
       "      <td>0.891358</td>\n",
       "    </tr>\n",
       "    <tr>\n",
       "      <th>2</th>\n",
       "      <td>0.333333</td>\n",
       "      <td>0.633333</td>\n",
       "    </tr>\n",
       "    <tr>\n",
       "      <th>3</th>\n",
       "      <td>0.333333</td>\n",
       "      <td>0.707843</td>\n",
       "    </tr>\n",
       "    <tr>\n",
       "      <th>4</th>\n",
       "      <td>0.400000</td>\n",
       "      <td>0.650450</td>\n",
       "    </tr>\n",
       "    <tr>\n",
       "      <th>5</th>\n",
       "      <td>0.133333</td>\n",
       "      <td>0.534815</td>\n",
       "    </tr>\n",
       "    <tr>\n",
       "      <th>6</th>\n",
       "      <td>0.200000</td>\n",
       "      <td>0.592593</td>\n",
       "    </tr>\n",
       "    <tr>\n",
       "      <th>7</th>\n",
       "      <td>0.333333</td>\n",
       "      <td>0.707843</td>\n",
       "    </tr>\n",
       "    <tr>\n",
       "      <th>8</th>\n",
       "      <td>0.400000</td>\n",
       "      <td>0.666667</td>\n",
       "    </tr>\n",
       "    <tr>\n",
       "      <th>9</th>\n",
       "      <td>0.066667</td>\n",
       "      <td>0.481333</td>\n",
       "    </tr>\n",
       "    <tr>\n",
       "      <th>10</th>\n",
       "      <td>0.400000</td>\n",
       "      <td>0.650450</td>\n",
       "    </tr>\n",
       "    <tr>\n",
       "      <th>11</th>\n",
       "      <td>0.533333</td>\n",
       "      <td>0.802222</td>\n",
       "    </tr>\n",
       "    <tr>\n",
       "      <th>12</th>\n",
       "      <td>0.066667</td>\n",
       "      <td>0.445679</td>\n",
       "    </tr>\n",
       "    <tr>\n",
       "      <th>13</th>\n",
       "      <td>0.333333</td>\n",
       "      <td>0.617094</td>\n",
       "    </tr>\n",
       "    <tr>\n",
       "      <th>14</th>\n",
       "      <td>0.266667</td>\n",
       "      <td>0.601667</td>\n",
       "    </tr>\n",
       "    <tr>\n",
       "      <th>15</th>\n",
       "      <td>0.266667</td>\n",
       "      <td>0.650450</td>\n",
       "    </tr>\n",
       "    <tr>\n",
       "      <th>16</th>\n",
       "      <td>0.400000</td>\n",
       "      <td>0.707843</td>\n",
       "    </tr>\n",
       "    <tr>\n",
       "      <th>17</th>\n",
       "      <td>0.266667</td>\n",
       "      <td>0.687619</td>\n",
       "    </tr>\n",
       "    <tr>\n",
       "      <th>18</th>\n",
       "      <td>0.333333</td>\n",
       "      <td>0.633333</td>\n",
       "    </tr>\n",
       "    <tr>\n",
       "      <th>19</th>\n",
       "      <td>0.200000</td>\n",
       "      <td>0.573016</td>\n",
       "    </tr>\n",
       "    <tr>\n",
       "      <th>20</th>\n",
       "      <td>0.333333</td>\n",
       "      <td>0.687619</td>\n",
       "    </tr>\n",
       "  </tbody>\n",
       "</table>\n",
       "</div>"
      ],
      "text/plain": [
       "         P_d       P_p\n",
       "0   0.533333  0.859524\n",
       "1   0.666667  0.891358\n",
       "2   0.333333  0.633333\n",
       "3   0.333333  0.707843\n",
       "4   0.400000  0.650450\n",
       "5   0.133333  0.534815\n",
       "6   0.200000  0.592593\n",
       "7   0.333333  0.707843\n",
       "8   0.400000  0.666667\n",
       "9   0.066667  0.481333\n",
       "10  0.400000  0.650450\n",
       "11  0.533333  0.802222\n",
       "12  0.066667  0.445679\n",
       "13  0.333333  0.617094\n",
       "14  0.266667  0.601667\n",
       "15  0.266667  0.650450\n",
       "16  0.400000  0.707843\n",
       "17  0.266667  0.687619\n",
       "18  0.333333  0.633333\n",
       "19  0.200000  0.573016\n",
       "20  0.333333  0.687619"
      ]
     },
     "execution_count": 187,
     "metadata": {},
     "output_type": "execute_result"
    }
   ],
   "source": [
    "def I_i(n_i, net):\n",
    "    return [node for node in net.nodes if nx.has_path(net, node, n_i)]\n",
    "\n",
    "c = {node: [] for node in net.nodes}\n",
    "\n",
    "for name, val in {n_i: net.in_degree(n_i) / (g - 1) for n_i in net.nodes}.items():\n",
    "    c[name].append(val)\n",
    "\n",
    "for n_i in net.nodes:\n",
    "    I = I_i(n_i, net)\n",
    "    c[n_i].append(len(I) ** 2 / (g - 1) / sum(nx.shortest_path_length(net, n_j, n_i) for n_j in I))\n",
    "\n",
    "data = {name: lst for name, lst in c.items() if lst}\n",
    "df = pd.DataFrame(data=data).T\n",
    "df.columns = ['P_d', 'P_p']\n",
    "df"
   ]
  },
  {
   "cell_type": "markdown",
   "metadata": {
    "pycharm": {
     "name": "#%% md\n"
    }
   },
   "source": [
    "Вывод: самым важным по всем мерам престижа является менеджер с номером 1.\n"
   ]
  },
  {
   "cell_type": "markdown",
   "metadata": {
    "pycharm": {
     "name": "#%% md\n"
    }
   },
   "source": [
    "## Выводы\n",
    "\n",
    "В ходе работы были исследованы две сети:\n",
    "сеть брачных связей между флорентийскими семьями и сеть дружеских связей между работниками компании Krackhardt.\n",
    "\n",
    "В ходе исследования были получены результаты:\n",
    "* единственная флорентийская семья, не имевшая брачных связей с другими - Pucci;\n",
    "* с вероятностью 17% две флорентийские семьи имели брачную связь;\n",
    "* каждая семья имела в среднем 2-3 брачных связи с другими;\n",
    "* Medici - самая важная семья в сети по всем параметрам;\n",
    "* в компании Krackhardt есть два менеджера, которые не дружат ни с кем - 6 и 7;\n",
    "* между двумя менеджерами компании Krackhardt есть дружеская связь с вероятностью 24%\n",
    "* в среднем каждый менеджер дружит с 9-10 коллегами;\n",
    "* самый важный менеджер имеет номер 1.\n",
    "\n",
    "Работа выполнялась при помощи языка Python с использованием библиотек Pandas и NetworkX.\n",
    "\n",
    "В итоге были получены навыки работы с математическими пакетами для моделирования, визуализации и анализа социальных сетей."
   ]
  }
 ],
 "metadata": {
  "kernelspec": {
   "display_name": "Python 3",
   "language": "python",
   "name": "python3"
  },
  "language_info": {
   "codemirror_mode": {
    "name": "ipython",
    "version": 3
   },
   "file_extension": ".py",
   "mimetype": "text/x-python",
   "name": "python",
   "nbconvert_exporter": "python",
   "pygments_lexer": "ipython3",
   "version": "3.8.10"
  }
 },
 "nbformat": 4,
 "nbformat_minor": 4
}
