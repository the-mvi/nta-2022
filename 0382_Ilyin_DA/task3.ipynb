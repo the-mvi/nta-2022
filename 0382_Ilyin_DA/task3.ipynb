{
  "cells": [
    {
      "cell_type": "markdown",
      "metadata": {
        "id": "l2rFAhQPY5u5"
      },
      "source": [
        "# Практическая работа №3: Статистический анализ социальных сетей\n",
        "Выполнил студент гр. 0382 Ильин Денис. Вариант №34."
      ]
    },
    {
      "cell_type": "markdown",
      "metadata": {
        "id": "5q7U52PBY5vW"
      },
      "source": [
        "## Цель работы\n",
        "Овладеть навыками работы с математическими пакетами для статистического анализа социальных сетей."
      ]
    },
    {
      "cell_type": "markdown",
      "metadata": {
        "id": "pFY_W1LkY5vZ"
      },
      "source": [
        "## Основные теоретические положения\n"
      ]
    },
    {
      "cell_type": "markdown",
      "source": [
        "## Основные теоретические положения\n",
        "\n",
        "**Диада** $-$ элемент сети, представляющий собой пару акторов и (возможную) связь между ними: $D_{ij}=(X_{ij}, X_{ji}), i\\neq j$.\n",
        "\n",
        "**Цензус диад** $-$ тройка чисел $M, A, N$, где:\n",
        "\n",
        "Вычисление цензуса:  \n",
        "$M = \\frac{1}{2} trace(𝐗𝐗)$  \n",
        "$A = trace(𝐗𝐗^{T}) - 2M$  \n",
        "$N = C_g^2 - A - M$  \n",
        "\n",
        "**Индекс взаимности Каца-Пауэлла** (Reciprocity of Katz and Powell) $-$ характеристика измерения тенденции акторов в группе. Данный индекс оценивает тенденцию акторов в группе к взаимному выбору друг друга. \n",
        "\n",
        "$-\\infty < \\rho_{кр} \\leqslant 1$.\n",
        "\n",
        "Индекс взаимности основан на ожидании количества взаимных диад, предполагая, что выбор делается акторами случайным образом. Выбор может быть фиксированным или свободным.\n",
        "\n",
        "Для фиксированного выбора из $d$ акторов:\n",
        "\n",
        "$\\hat{\\rho}_{кр} = \\displaystyle{\\frac{2(g-1)M - gd^2}{gd(g - d - 1)}}$.\n",
        "\n",
        "Вероятность того, что связь будет взаимной для двух акторов:\n",
        "\n",
        "$\\displaystyle{P(i \\rightarrow j \\wedge j \\rightarrow i) = \\frac{d}{g - 1}\\left( \\frac{d}{g - 1} + \\rho_{кр} \\frac{g - 1 - d}{g - 1} \\right)}.$\n",
        "\n",
        "Для свободного выбора:\n",
        "\n",
        "$\\hat{\\rho}_{кр} = \\displaystyle{\\frac{2(g-1)^2M - L^2 + L_2}{L(g - 1)^2 - L^2 - L_2}}$.\n",
        "\n",
        "Вероятность того, что связь будет взаимной для двух акторов (для каждого из акторов):\n",
        "\n",
        "$P = \\displaystyle{\\frac{x_{i+}x_{j+}}{(g - 1)^2}}$.\n",
        "\n",
        "**Индекс взаимности Бандиопадхьяйя** - индекс, основанный на максимальной и минимальной значениях количества диад в сети. \n",
        "\n",
        "$\\rho_B = \\displaystyle{\\frac{M - M_{\\min}}{M_{\\max} - M_{\\min}}}$,\n",
        "\n",
        "где $M_{\\min} = \\max f(t), 0 \\leqslant t \\leqslant g$, \n",
        "\n",
        "$M_{\\max} = \\lfloor 0.5 \\sum^g_{i = 1} x_{i+} - \\max g(t)\\rfloor, 0 \\leqslant t \\leqslant g$,\n",
        "\n",
        "$f(t) = \\sum^t_{i=1} x_{i+} - t(g - 1) - C^2_g$,\n",
        "\n",
        "$g(t) = \\sum^t_{i=1} x_{i+} - t(t - 1) - \\sum^g_{i=t+1} \\min (t, x_{i+})$.\n",
        "\n",
        "**Вычисление доверительного интервала для оценки P:**\n",
        "\n",
        "Оценка параметра $P$:\n",
        "\n",
        "$\\hat{P} = \\displaystyle{\\frac{\\sum_{i = 1}^g \\sum_{j = 1}^g x_{ij}}{g(g-1)} = \\frac{l}{g(g - 1)}}$.\n",
        "\n",
        "ДИ: $\\hat{P}_{lower} \\leqslant P \\leqslant \\hat{P}_{upper}$.\n",
        "\n",
        "$\\hat{P}_{lower} = \\displaystyle{\\hat{P} - z_{\\alpha/2} \\sqrt\\frac{\\hat{P}(1- \\hat{P})}{g(g-1)}}$\n",
        "\n",
        "$\\hat{P}_{upper} = \\displaystyle{\\hat{P} + z_{\\alpha/2} \\sqrt\\frac{\\hat{P}(1- \\hat{P})}{g(g-1)}}$\n",
        "\n",
        "$z_{\\alpha/2}$ вычисляется из $\\Phi(z_{\\alpha/2}) = 0.5 - 0.5 \\alpha$, где $\\alpha$ - некоторый уровень значимости, $(1 - \\alpha)$ - доверительная надёжность. "
      ],
      "metadata": {
        "id": "P-oAVipIO1Jo"
      }
    },
    {
      "cell_type": "markdown",
      "metadata": {
        "id": "6P3y-D1gY5vc"
      },
      "source": [
        "## Постановка задачи\n",
        "С помощью математических пакетов и соответствующих библиотек провести статистический анализ случайно смоделированного ориентированного графа. Полученные результаты содержательно проинтерпретировать."
      ]
    },
    {
      "cell_type": "markdown",
      "metadata": {
        "id": "96qIkqCFY5vd"
      },
      "source": [
        "## Выполнение работы"
      ]
    },
    {
      "cell_type": "code",
      "source": [
        "import networkx as nx\n",
        "import numpy as np\n",
        "import math\n",
        "from scipy.stats import norm"
      ],
      "metadata": {
        "id": "E7z2QM56a0W6"
      },
      "execution_count": 1,
      "outputs": []
    },
    {
      "cell_type": "markdown",
      "source": [
        "1. Смоделировать случайный орграф\n",
        "$𝔊_d$ на основе модели Эрдеша—Реньи: $𝔊_d = 𝔊(g, 𝑝)$, где $g$ – количество акторов, $𝑝$ – вероятность появления дуги между акторами. Ознакомьтесь с данной моделью и опишите\n",
        "её.\n"
      ],
      "metadata": {
        "id": "fE2a753IZkbi"
      }
    },
    {
      "cell_type": "code",
      "source": [
        "g, p, P_0, alpha = 68, 0.65, 0.50, 0.03\n",
        "\n",
        "graph = nx.erdos_renyi_graph(g, p, directed=True)"
      ],
      "metadata": {
        "id": "kVaB3xyYZiza"
      },
      "execution_count": 2,
      "outputs": []
    },
    {
      "cell_type": "markdown",
      "source": [
        "> В данном случае модель следующая: каждая пара из $g$ вершин с вероятностью $p$ соединяется ребром (пары упорядочены, так как ребра направленные). Также существует вариант модели когда задана не вероястность появления ребра, а количество ребёр $M$. В этом случае в качестве результата выбирается случайный граф из всех возможных графов на $g$ вершинах с $M$ ребрами (предполагается что выбор графа осуществялется на основе равномерного распределения). "
      ],
      "metadata": {
        "id": "pb08FOoVcm9z"
      }
    },
    {
      "cell_type": "markdown",
      "source": [
        "2. Отобразить полученный орграф."
      ],
      "metadata": {
        "id": "3PkczMLjhbO6"
      }
    },
    {
      "cell_type": "code",
      "source": [
        "nx.draw_kamada_kawai(graph, with_labels=True)"
      ],
      "metadata": {
        "id": "JjU3SuunhhGc",
        "colab": {
          "base_uri": "https://localhost:8080/",
          "height": 319
        },
        "outputId": "c75f04ab-9f01-4b15-c842-27f2597dcdde"
      },
      "execution_count": 3,
      "outputs": [
        {
          "output_type": "display_data",
          "data": {
            "text/plain": [
              "<Figure size 432x288 with 1 Axes>"
            ],
            "image/png": "[encoded data removed]"
          },
          "metadata": {}
        }
      ]
    },
    {
      "cell_type": "markdown",
      "source": [
        "3. Вычислить «пятичисловую сводку» для графа $𝔊_d$."
      ],
      "metadata": {
        "id": "Mn_tT3__ev6Z"
      }
    },
    {
      "cell_type": "code",
      "source": [
        "graph.number_of_nodes()\n"
      ],
      "metadata": {
        "colab": {
          "base_uri": "https://localhost:8080/"
        },
        "id": "d72KRaxxfgvn",
        "outputId": "8385d234-8f6e-42a8-a358-45aa300fae88"
      },
      "execution_count": 4,
      "outputs": [
        {
          "output_type": "execute_result",
          "data": {
            "text/plain": [
              "68"
            ]
          },
          "metadata": {},
          "execution_count": 4
        }
      ]
    },
    {
      "cell_type": "code",
      "source": [
        "nx.density(graph)"
      ],
      "metadata": {
        "colab": {
          "base_uri": "https://localhost:8080/"
        },
        "id": "eS2QnA3Pihae",
        "outputId": "509ae7be-0232-4195-be4d-5d1f705f3538"
      },
      "execution_count": 5,
      "outputs": [
        {
          "output_type": "execute_result",
          "data": {
            "text/plain": [
              "0.6503511852502195"
            ]
          },
          "metadata": {},
          "execution_count": 5
        }
      ]
    },
    {
      "cell_type": "code",
      "source": [
        "nx.number_strongly_connected_components(graph)"
      ],
      "metadata": {
        "colab": {
          "base_uri": "https://localhost:8080/"
        },
        "id": "ahTY7ivUihm7",
        "outputId": "2e8b8391-5b40-4457-af37-e1c422c0ee67"
      },
      "execution_count": 6,
      "outputs": [
        {
          "output_type": "execute_result",
          "data": {
            "text/plain": [
              "1"
            ]
          },
          "metadata": {},
          "execution_count": 6
        }
      ]
    },
    {
      "cell_type": "code",
      "source": [
        "# diameter\n",
        "max([max(j.values()) for _, j in nx.shortest_path_length(graph)])"
      ],
      "metadata": {
        "colab": {
          "base_uri": "https://localhost:8080/"
        },
        "id": "XC_jDlySihx4",
        "outputId": "55226075-24e2-43de-c137-518c6c99db94"
      },
      "execution_count": 15,
      "outputs": [
        {
          "output_type": "execute_result",
          "data": {
            "text/plain": [
              "2"
            ]
          },
          "metadata": {},
          "execution_count": 15
        }
      ]
    },
    {
      "cell_type": "code",
      "source": [
        "nx.transitivity(graph)"
      ],
      "metadata": {
        "colab": {
          "base_uri": "https://localhost:8080/"
        },
        "id": "8qmGi1IliiDo",
        "outputId": "c6cf7077-8eaa-4570-9d1e-94a24733b2cb"
      },
      "execution_count": 8,
      "outputs": [
        {
          "output_type": "execute_result",
          "data": {
            "text/plain": [
              "0.6489860573077587"
            ]
          },
          "metadata": {},
          "execution_count": 8
        }
      ]
    },
    {
      "cell_type": "markdown",
      "source": [
        "4. Вычислить цензус диад. Сделать выводы."
      ],
      "metadata": {
        "id": "mftzm2L-i94A"
      }
    },
    {
      "cell_type": "code",
      "source": [
        "matr = nx.to_numpy_array(graph)\n",
        "tr = np.matmul(matr, matr).trace()\n",
        "M = 1/2 * tr\n",
        "A = np.matmul(matr, np.transpose(matr)).trace() - tr\n",
        "N = math.comb(g, 2) - A - M\n",
        "f'<{M}, {A}, {N}>'"
      ],
      "metadata": {
        "colab": {
          "base_uri": "https://localhost:8080/",
          "height": 35
        },
        "id": "LgOzyYwyi9Xq",
        "outputId": "a7fa6922-f6aa-4741-9bf5-f104207b861a"
      },
      "execution_count": 9,
      "outputs": [
        {
          "output_type": "execute_result",
          "data": {
            "text/plain": [
              "'<974.0, 1015.0, 289.0>'"
            ],
            "application/vnd.google.colaboratory.intrinsic+json": {
              "type": "string"
            }
          },
          "metadata": {},
          "execution_count": 9
        }
      ]
    },
    {
      "cell_type": "markdown",
      "source": [
        "> Вывод: в построенном графе 974 взаимные диады, 1015 ассиметричных диад и 289 нулевых диад."
      ],
      "metadata": {
        "id": "nhWIuGH1m4Oq"
      }
    },
    {
      "cell_type": "markdown",
      "source": [
        "5. Вычислить оценку индекса взаимности Каца—Пауэла."
      ],
      "metadata": {
        "id": "oOzOHpCzpEGa"
      }
    },
    {
      "cell_type": "markdown",
      "source": [
        "* При фиксированом выборе акторов $d$:"
      ],
      "metadata": {
        "id": "aSNJA5jTpOxD"
      }
    },
    {
      "cell_type": "code",
      "source": [
        "d = g * p\n",
        "rho_kp_fixed = lambda d: (2 * (g - 1) * M - g * d * d) / (g * d * (g - 1 - d))\n",
        "rho_kp_fixed(d)"
      ],
      "metadata": {
        "colab": {
          "base_uri": "https://localhost:8080/"
        },
        "id": "pe0jVxgOpfQv",
        "outputId": "785d9f07-5aa3-4f3b-fed0-2b37c71a7975"
      },
      "execution_count": 10,
      "outputs": [
        {
          "output_type": "execute_result",
          "data": {
            "text/plain": [
              "-0.03402304003287458"
            ]
          },
          "metadata": {},
          "execution_count": 10
        }
      ]
    },
    {
      "cell_type": "markdown",
      "source": [
        "\n",
        "\n",
        " * При свободном выборе:\n",
        "\n"
      ],
      "metadata": {
        "id": "yNgYAmB_pebQ"
      }
    },
    {
      "cell_type": "code",
      "source": [
        "L = nx.number_of_edges(graph)\n",
        "L_2 = sum(sum(x) ** 2 for x in matr)\n",
        "rho_kp_free = (2 * (g - 1) ** 2 * M - L * L + L_2) / (L * (g - 1) ** 2 - L * L + L_2)\n",
        "rho_kp_free"
      ],
      "metadata": {
        "colab": {
          "base_uri": "https://localhost:8080/"
        },
        "id": "b0nO-DH0qh8e",
        "outputId": "d1ea61b7-e281-48e9-ac95-112d0cb43dd7"
      },
      "execution_count": 11,
      "outputs": [
        {
          "output_type": "execute_result",
          "data": {
            "text/plain": [
              "0.020569115844870072"
            ]
          },
          "metadata": {},
          "execution_count": 11
        }
      ]
    },
    {
      "cell_type": "markdown",
      "source": [
        "6. Вычислить вероятность того, что связь будет взаимной."
      ],
      "metadata": {
        "id": "nbFTUDgGt-Pp"
      }
    },
    {
      "cell_type": "markdown",
      "source": [
        "* При фиксированом выборе акторов $d$:"
      ],
      "metadata": {
        "id": "VsFY7My9uFK5"
      }
    },
    {
      "cell_type": "code",
      "source": [
        "d / (g - 1) * (d / (g - 1)  + rho_kp_fixed(d) * (g - 1 - d)/(g - 1))"
      ],
      "metadata": {
        "id": "7hrwkZinuGC-",
        "colab": {
          "base_uri": "https://localhost:8080/"
        },
        "outputId": "a585e934-dde2-4f71-d66d-a11e3813bad2"
      },
      "execution_count": 12,
      "outputs": [
        {
          "output_type": "execute_result",
          "data": {
            "text/plain": [
              "0.42756804214223004"
            ]
          },
          "metadata": {},
          "execution_count": 12
        }
      ]
    },
    {
      "cell_type": "markdown",
      "source": [
        "\n",
        "\n",
        " * При свободном выборе:\n",
        "\n"
      ],
      "metadata": {
        "id": "0uhNY_vTuFK6"
      }
    },
    {
      "cell_type": "code",
      "source": [
        "d / (g - 1) * (d / (g - 1)  + rho_kp_free * (g - 1 - d)/(g - 1))"
      ],
      "metadata": {
        "id": "ICqlH09Jt9a6",
        "colab": {
          "base_uri": "https://localhost:8080/"
        },
        "outputId": "243d67e1-f4f2-48b2-b770-f23b2f41492e"
      },
      "execution_count": 13,
      "outputs": [
        {
          "output_type": "execute_result",
          "data": {
            "text/plain": [
              "0.43982373182976753"
            ]
          },
          "metadata": {},
          "execution_count": 13
        }
      ]
    },
    {
      "cell_type": "markdown",
      "source": [
        "> Выводы: вероятности получились примерно одинаковы и близки к $p^2 = 0.434$ (как и ожидается, если наличие дуги от  $j$  к  $i$ практически не зависит от наличия дуги от  $i$  к  $j$)."
      ],
      "metadata": {
        "id": "5Sc2kiprU9U6"
      }
    },
    {
      "cell_type": "markdown",
      "source": [
        "7. Вычислить индекс взаимности Бандиопадхьяйя. Сделать выводы."
      ],
      "metadata": {
        "id": "P9pWMTRayhGI"
      }
    },
    {
      "cell_type": "code",
      "source": [
        "f_t = lambda t: sum(sum(matr[i]) for i in range(0, t)) - t * (g - 1) - math.comb(t, 2)\n",
        "g_t = lambda t: sum(sum(matr[i]) for i in range(0, t)) - t * (t - 1) - sum(min(t, sum(matr[i])) for i in range(t, g))\n",
        "M_min = f_t(max(range(0, g + 1), key=f_t))\n",
        "M_max =  (nx.number_of_edges(graph) - g_t(max(range(0, g + 1), key=g_t))) // 2\n",
        "rho_b = (M - M_min) / (M_max - M_min)\n",
        "rho_b"
      ],
      "metadata": {
        "colab": {
          "base_uri": "https://localhost:8080/"
        },
        "id": "bVF2JU9f9AIm",
        "outputId": "a086c61d-b746-4d5a-ada5-e3b5435c38db"
      },
      "execution_count": 14,
      "outputs": [
        {
          "output_type": "execute_result",
          "data": {
            "text/plain": [
              "0.6576637407157326"
            ]
          },
          "metadata": {},
          "execution_count": 14
        }
      ]
    },
    {
      "cell_type": "markdown",
      "source": [
        "> Вывод: из всех возможных взаимных диад в графе присутствует примерно $66$ процентов.\n",
        "\n"
      ],
      "metadata": {
        "id": "rT3UXv6W8_Ka"
      }
    },
    {
      "cell_type": "markdown",
      "source": [
        "8. Проверить нулевую гипотезу о том, что число дуг $𝐿$ в орграфе\n",
        "$𝔊_d$ имеет биномиальное распределение $𝐿 ∼ Bin(𝑔(𝑔 − 1), 1/2)$ при\n",
        "уровне значимости $𝛼$. Определить максимальный уровень значимости при котором нулевая гипотеза не отвергается."
      ],
      "metadata": {
        "id": "27IHiW9qNS0L"
      }
    },
    {
      "cell_type": "code",
      "source": [
        "l = nx.number_of_edges(graph)\n",
        "z_l = (l - g * (g - 1) / 2) / (g * (g - 1) / 4) ** (1 / 2)\n",
        "p_val = norm.sf(abs(z_l))\n",
        "p_val >= alpha / 2, p_val"
      ],
      "metadata": {
        "colab": {
          "base_uri": "https://localhost:8080/"
        },
        "id": "rjeBWEkWN7-x",
        "outputId": "ad46f550-85c8-4dae-cc76-8b57e4613169"
      },
      "execution_count": 16,
      "outputs": [
        {
          "output_type": "execute_result",
          "data": {
            "text/plain": [
              "(False, 6.854377665222693e-92)"
            ]
          },
          "metadata": {},
          "execution_count": 16
        }
      ]
    },
    {
      "cell_type": "markdown",
      "source": [
        "9. Проверить нулевую гипотезу о том, что число дуг $𝐿$ в орграфе\n",
        "$𝔊_d$\n",
        "имеет биномиальное распределение $𝐿 ∼ Bin(𝑔(𝑔−1), 𝑃_0)$ при уровне\n",
        "значимости 𝛼. Определить максимальный уровень значимости при\n",
        "котором нулевая гипотеза не отвергается.\n"
      ],
      "metadata": {
        "id": "qnYBJ_O_QaSV"
      }
    },
    {
      "cell_type": "code",
      "source": [
        "l = nx.number_of_edges(graph)\n",
        "z_l = (l - g * (g - 1) * P_0) / (P_0 * (1 - P_0) * g * (g - 1)) ** (1 / 2)\n",
        "p_val = norm.sf(abs(z_l))\n",
        "p_val >= alpha / 2, p_val"
      ],
      "metadata": {
        "colab": {
          "base_uri": "https://localhost:8080/"
        },
        "id": "eRmcNVSvQnP3",
        "outputId": "5f57997c-d629-4291-98df-f7c48aa43116"
      },
      "execution_count": 17,
      "outputs": [
        {
          "output_type": "execute_result",
          "data": {
            "text/plain": [
              "(False, 6.854377665222693e-92)"
            ]
          },
          "metadata": {},
          "execution_count": 17
        }
      ]
    },
    {
      "cell_type": "markdown",
      "source": [
        "10. Построить доверительный интервал для оценки параметра 𝑝 с доверительной надёжностью (1 − 𝛼). Сделать выводы."
      ],
      "metadata": {
        "id": "rC-qH1xHZy4L"
      }
    },
    {
      "cell_type": "code",
      "source": [
        "l = nx.number_of_edges(graph)\n",
        "p_hat = l / (g * (g - 1))\n",
        "dif = norm.sf(alpha / 2) * (p_hat * (1 - p_hat)/(g * (g - 1))) ** (1/2)\n",
        "p_low = p_hat - dif\n",
        "p_up = p_hat + dif\n",
        "[p_low, p_up]"
      ],
      "metadata": {
        "colab": {
          "base_uri": "https://localhost:8080/"
        },
        "id": "L6KSfxzHZyhD",
        "outputId": "51a8a9c0-1571-4358-a864-6d459f50face"
      },
      "execution_count": 18,
      "outputs": [
        {
          "output_type": "execute_result",
          "data": {
            "text/plain": [
              "[0.6468610742888891, 0.65384129621155]"
            ]
          },
          "metadata": {},
          "execution_count": 18
        }
      ]
    },
    {
      "cell_type": "markdown",
      "source": [
        "> Выводы: можно заметить, что доверительный интервал очень маленький, это позволяет достаточно точно оценить вероятность появления дуги. Также видно, что числа из интервала близки к искомой вероятности $P_0 = 0.65$."
      ],
      "metadata": {
        "id": "cSfg9ZjWbIWo"
      }
    },
    {
      "cell_type": "markdown",
      "metadata": {
        "id": "-X4Uga2cY5vp"
      },
      "source": [
        "## Выводы\n",
        "\n",
        "В ходе работы был проведён статистический анализ графа, построенного при помощи модели Эрдеша—Реньи.\n",
        "\n",
        "В ходе анализа получены следующие результаты:\n",
        "* вероятность появления взаимной диады близка к $p^2 = 0.434$;\n",
        "* наличие дуги между вершинами практически не влияет на наличие обратной дуги;\n",
        "* граф содержит примерно 66% из всех возможных взаимных диад;\n",
        "* гипотеза $𝐿 ∼ Bin(𝑔(𝑔−1), 1/2)$ отвергается;\n",
        "* гипотеза $𝐿 ∼ Bin(𝑔(𝑔−1), 𝑃_0)$ отвергается;\n",
        "* истинная вероятность $p$ входит в ДИ."
      ]
    }
  ],
  "metadata": {
    "kernelspec": {
      "display_name": "Python 3",
      "name": "python3"
    },
    "language_info": {
      "name": "python"
    },
    "colab": {
      "provenance": []
    },
    "gpuClass": "standard"
  },
  "nbformat": 4,
  "nbformat_minor": 0
}