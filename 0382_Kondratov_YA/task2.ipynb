{
 "cells": [
  {
   "cell_type": "markdown",
   "metadata": {
    "id": "v3RfSz9bNYrd"
   },
   "source": [
    "# Практическая работа №2: Исследование подгрупп сетей. Сети аффилированности.\n",
    "Выполнил студент гр. 0382 Кондратов Юрий. Вариант №36"
   ]
  },
  {
   "cell_type": "markdown",
   "metadata": {
    "id": "_ZW5RQ8UNYri"
   },
   "source": [
    "## Цель работы\n",
    "Овладеть навыками работы с математическими пакетами для исследования подгрупп в социальных сетях, а также моделирования, отображения и анализа сетей аффилированности."
   ]
  },
  {
   "cell_type": "markdown",
   "metadata": {
    "id": "mcGnwcwYNYrj"
   },
   "source": [
    "## Основные теоретические положения\n",
    "\n",
    "Подгруппы:\n",
    "\n",
    "* __n-клика__ - подграф , в котором наибольшее геодезическое расстояние между любыми двумя узлами не превышает n.\n",
    "\n",
    "* __n-клан__ - аналогично n-клике, но учитываются только расстояния внутри подграфа.\n",
    "\n",
    "* __n-клуб__ - подграф (максимальный), диаметра не больше n.\n",
    "\n",
    "* __k-ядро__ - подграф (максимальный), в котором каждая вершина связана минимум с _k_ другими вершинами этого же подграфа.\n",
    "\n",
    "* __k-плекс__ - подграф (максимальный), содержащий $g_s$ узлов, в котором каждый узел смежен с не менее чем $g_s - k$ узлами подграфа.\n",
    "\n",
    "__Модулярность__ - характеристика структуры сети, показывающая насколько свойственно для сети разделение на сообщества. Вычисляется как доля рёбер, которые попадают в данные группы, от общего числа рёбер в сети, минус ожидаемая доля рёбер, которые попали бы в группы, если бы были распределены случайно. Изменяется в пределах $[-1/2, 1]$.\n",
    "\n",
    "__Сеть аффилированности__ - сеть, в которой акторы связаны на основе некотрого отношения сотрудничества в рамках какой-то группы или совместного участия в событии.\n",
    "\n",
    "__Матрица соучастия акторов__:\n",
    "\n",
    "$X^{\\cal{N}} = \\{x_{ij}^{\\cal{N}} \\}$\n",
    "\n",
    "$x_{ij}^{\\cal{N}} = \\sum_{k = 1}^{h} a_{ik}a_{jk}$\n",
    "\n",
    "__Матрица перекрытия событий__:\n",
    "\n",
    "$X^{\\cal{M}} = \\{x_{kl}^{\\cal{M}} \\}$\n",
    "\n",
    "$x_{kl}^{\\cal{M}} = \\sum_{i = 1}^{g} a_{ik}a_{jl}$\n",
    "\n",
    "__Средний размер событий__ - среднее количество акторов в каждом событии.\n",
    "\n",
    "$\\overline {a}_{ij} = \\frac{1}{h} \\sum_{j = 1}^{h} x_{jj}^{\\cal{M}}$\n",
    "\n",
    "__Степень участия актора__ - количество событий, в которых участвует данный актор:\n",
    "\n",
    "$a_{i+} = \\sum_{j = 1}^{h} a_{ij} = x_{ii}^{\\cal{N}}$\n",
    "\n",
    "__Размер события__ - количество акторов в нём:\n",
    "\n",
    "$a_{+j} = \\sum_{i = 1}^{g} a_{ij} = x_{ii}^{\\cal{M}}$|\n",
    "\n",
    "__Плотность отношения соучастия__: \n",
    "$$\\Delta_{(\\cal{N})} = \\frac{1}{g(g-1)} \\sum_{i=1}^{g} \\sum_{j=1, i \\neq j}^{g} x_{ij}^{\\cal{N}}$$\n",
    "\n",
    "__Плотность отношения перекрытия__: \n",
    "$$\\Delta_{(\\cal{M})} = \\frac{1}{h(h-1)} \\sum_{k=1}^{h} \\sum_{l=1, l \\neq k}^{h} x_{kl}^{\\cal{M}}$$\n",
    "\n",
    "__Клика уровня $a$ для отношения соучастия__ - подграф, в котором все пары акторов совместно участвуют не менее чем в $a$ событиях.\n",
    "\n",
    "__Клика уровня $a$ для отношения перекрытия__ - подграф, в котором все пары событий имеют не менее $с$ общих членов.\n",
    "\n",
    "__Гиперграф__ - обобщение понятия графа, в котором ребра могут соединять не только две вершины (то есть ребра объединяют вершины в некоторые подмножетсва):\n",
    "\n",
    "$\\cal{H = H(A, B)}$, где $\\cal{A} = \\{a_1, ..., a_n\\}$ - множество объектов; $\\cal{B} = \\{b_1, ..., b_n\\}$ - множество ребер.\n",
    "\n",
    "__Двойственный гипеграф__ для $\\cal {H = H(A, B)}$:\n",
    "\n",
    "$\\cal {H* = H(B, A)}$, где $\\cal{A} = \\{a_1, ..., a_n\\}$ - множество ребер; $\\cal{B} = \\{b_1, ..., b_n\\} - множество объектов$\n",
    "\n",
    "__Отношения шансов__:\n",
    "\n",
    "* $x_{kl}^{\\cal M}$ - число акторов, которые аффилированы с событиями k и l.\n",
    "\n",
    "* $x_{\\overline {kl}}^{\\cal M}$ - число акторов, которые не принадлежат ни одному событию.\n",
    "\n",
    "* $x_{k \\overline l}^{\\cal M}$ - число акторов, которые аффилированы с событием k, но не с событием l.\n",
    "\n",
    "* $x_{\\overline {k}l}^{\\cal M}$ - число акторов, которые аффилированы с событием l, но не с событием k.\n"
   ]
  },
  {
   "cell_type": "markdown",
   "metadata": {
    "id": "UKlOh-nMNYrj"
   },
   "source": [
    "## Постановка задачи\n",
    "С помощью математических пакетов и соответствующих библиотек провести анализ заданных социальных сетей на предмет подгрупп. Провести\n",
    "исследование сети аффилированности CEO. Полученные результаты содержательно проинтерпретировать."
   ]
  },
  {
   "cell_type": "markdown",
   "metadata": {
    "id": "t8o7xG-yNYrj"
   },
   "source": [
    "## Выполнение работы\n",
    "Каждый пункт работы (*по возможности*) выполняется с помощью кода.\n",
    "Рекомендованные языки программирования – R или Python."
   ]
  },
  {
   "cell_type": "code",
   "execution_count": 1,
   "metadata": {
    "id": "DFw-sQM9PLSf"
   },
   "outputs": [
    {
     "name": "stderr",
     "output_type": "stream",
     "text": [
      "Устанавливаю пакет в 'C:/Users/Юрий/AppData/Local/R/win-library/4.2'\n",
      "(потому что 'lib' не определено)\n",
      "\n"
     ]
    },
    {
     "name": "stdout",
     "output_type": "stream",
     "text": [
      "пакет 'igraph' успешно распакован, MD5-суммы проверены\n",
      "\n",
      "Скачанные бинарные пакеты находятся в\n",
      "\tC:\\Users\\Юрий\\AppData\\Local\\Temp\\RtmpiyIzJz\\downloaded_packages\n"
     ]
    },
    {
     "name": "stderr",
     "output_type": "stream",
     "text": [
      "Warning message:\n",
      "\"пакет 'igraph' был собран под R версии 4.2.2\"\n",
      "\n",
      "Присоединяю пакет: 'igraph'\n",
      "\n",
      "\n",
      "Следующие объекты скрыты от 'package:stats':\n",
      "\n",
      "    decompose, spectrum\n",
      "\n",
      "\n",
      "Следующий объект скрыт от 'package:base':\n",
      "\n",
      "    union\n",
      "\n",
      "\n",
      "Устанавливаю пакет в 'C:/Users/Юрий/AppData/Local/R/win-library/4.2'\n",
      "(потому что 'lib' не определено)\n",
      "\n"
     ]
    },
    {
     "name": "stdout",
     "output_type": "stream",
     "text": [
      "пакет 'BiocManager' успешно распакован, MD5-суммы проверены\n",
      "\n",
      "Скачанные бинарные пакеты находятся в\n",
      "\tC:\\Users\\Юрий\\AppData\\Local\\Temp\\RtmpiyIzJz\\downloaded_packages\n"
     ]
    },
    {
     "name": "stderr",
     "output_type": "stream",
     "text": [
      "'getOption(\"repos\")' replaces Bioconductor standard repositories, see\n",
      "'?repositories' for details\n",
      "\n",
      "replacement repositories:\n",
      "    CRAN: https://cran.r-project.org\n",
      "\n",
      "\n",
      "Bioconductor version 3.16 (BiocManager 1.30.19), R 4.2.1 (2022-06-23 ucrt)\n",
      "\n",
      "Warning message:\n",
      "\"package(s) not installed when version(s) same as or greater than current; use\n",
      "  `force = TRUE` to re-install: 'RBGL'\"\n",
      "Installation paths not writeable, unable to update packages\n",
      "  path: C:/Program Files/R/R-4.2.1/library\n",
      "  packages:\n",
      "    boot, cluster, foreign, MASS, Matrix, mgcv, nlme, nnet, rpart, survival\n",
      "\n",
      "Old packages: 'curl', 'randtoolbox', 'rngWELL', 'stringr', 'xts'\n",
      "\n",
      "Загрузка требуемого пакета: graph\n",
      "\n",
      "Загрузка требуемого пакета: BiocGenerics\n",
      "\n",
      "\n",
      "Присоединяю пакет: 'BiocGenerics'\n",
      "\n",
      "\n",
      "Следующие объекты скрыты от 'package:igraph':\n",
      "\n",
      "    normalize, path, union\n",
      "\n",
      "\n",
      "Следующие объекты скрыты от 'package:stats':\n",
      "\n",
      "    IQR, mad, sd, var, xtabs\n",
      "\n",
      "\n",
      "Следующие объекты скрыты от 'package:base':\n",
      "\n",
      "    anyDuplicated, aperm, append, as.data.frame, basename, cbind,\n",
      "    colnames, dirname, do.call, duplicated, eval, evalq, Filter, Find,\n",
      "    get, grep, grepl, intersect, is.unsorted, lapply, Map, mapply,\n",
      "    match, mget, order, paste, pmax, pmax.int, pmin, pmin.int,\n",
      "    Position, rank, rbind, Reduce, rownames, sapply, setdiff, sort,\n",
      "    table, tapply, union, unique, unsplit, which.max, which.min\n",
      "\n",
      "\n",
      "\n",
      "Присоединяю пакет: 'graph'\n",
      "\n",
      "\n",
      "Следующие объекты скрыты от 'package:igraph':\n",
      "\n",
      "    degree, edges, intersection\n",
      "\n",
      "\n",
      "\n",
      "Присоединяю пакет: 'RBGL'\n",
      "\n",
      "\n",
      "Следующие объекты скрыты от 'package:igraph':\n",
      "\n",
      "    bfs, dfs, transitivity\n",
      "\n",
      "\n"
     ]
    }
   ],
   "source": [
    "install.packages('igraph')\n",
    "library(igraph)\n",
    "install.packages(\"BiocManager\")\n",
    "BiocManager::install(\"RBGL\")\n",
    "library(RBGL)"
   ]
  },
  {
   "cell_type": "markdown",
   "metadata": {
    "id": "MbObpmLVNYrm"
   },
   "source": [
    "1. Извлечение социоматрицы из файла florentine_business.csv (для нечётных вариантов) и отображение сети с помощью одного из алгоритмов укладки."
   ]
  },
  {
   "cell_type": "code",
   "execution_count": 2,
   "metadata": {
    "colab": {
     "base_uri": "https://localhost:8080/",
     "height": 437
    },
    "id": "DeDMFGDyPlCj",
    "outputId": "5649aae8-6247-4efa-8c53-4b0d1e2b00ed"
   },
   "outputs": [
    {
     "data": {
      "image/png": "[encoded data removed]",
      "text/plain": [
       "Plot with title \"\""
      ]
     },
     "metadata": {
      "image/png": {
       "height": 420,
       "width": 420
      }
     },
     "output_type": "display_data"
    }
   ],
   "source": [
    "matr <- as.matrix(read.csv('florentine_marital.csv', header=TRUE))\n",
    "flor <- graph.adjacency(matr,  mode=\"undirected\")\n",
    "plot(flor, layout=layout_with_fr, label.color=\"black\", label=colnames(matr), vertex.color=\"green\")"
   ]
  },
  {
   "cell_type": "markdown",
   "metadata": {},
   "source": [
    "2. Исследовать данную сеть на предмет подгрупп."
   ]
  },
  {
   "cell_type": "code",
   "execution_count": 3,
   "metadata": {},
   "outputs": [
    {
     "name": "stdout",
     "output_type": "stream",
     "text": [
      "N-cliques"
     ]
    },
    {
     "data": {
      "text/html": [
       "<dl>\n",
       "\t<dt>$`1-cliques`</dt>\n",
       "\t\t<dd><ol>\n",
       "\t<li><style>\n",
       ".list-inline {list-style: none; margin:0; padding: 0}\n",
       ".list-inline>li {display: inline-block}\n",
       ".list-inline>li:not(:last-child)::after {content: \"\\00b7\"; padding: 0 .5ex}\n",
       "</style>\n",
       "<ol class=list-inline><li>'Acciaiuoli'</li><li>'Medici'</li></ol>\n",
       "</li>\n",
       "\t<li><style>\n",
       ".list-inline {list-style: none; margin:0; padding: 0}\n",
       ".list-inline>li {display: inline-block}\n",
       ".list-inline>li:not(:last-child)::after {content: \"\\00b7\"; padding: 0 .5ex}\n",
       "</style>\n",
       "<ol class=list-inline><li>'Albizzi'</li><li>'Ginori'</li></ol>\n",
       "</li>\n",
       "\t<li><style>\n",
       ".list-inline {list-style: none; margin:0; padding: 0}\n",
       ".list-inline>li {display: inline-block}\n",
       ".list-inline>li:not(:last-child)::after {content: \"\\00b7\"; padding: 0 .5ex}\n",
       "</style>\n",
       "<ol class=list-inline><li>'Albizzi'</li><li>'Guadagni'</li></ol>\n",
       "</li>\n",
       "\t<li><style>\n",
       ".list-inline {list-style: none; margin:0; padding: 0}\n",
       ".list-inline>li {display: inline-block}\n",
       ".list-inline>li:not(:last-child)::after {content: \"\\00b7\"; padding: 0 .5ex}\n",
       "</style>\n",
       "<ol class=list-inline><li>'Albizzi'</li><li>'Medici'</li></ol>\n",
       "</li>\n",
       "\t<li><style>\n",
       ".list-inline {list-style: none; margin:0; padding: 0}\n",
       ".list-inline>li {display: inline-block}\n",
       ".list-inline>li:not(:last-child)::after {content: \"\\00b7\"; padding: 0 .5ex}\n",
       "</style>\n",
       "<ol class=list-inline><li>'Barbadori'</li><li>'Castellani'</li></ol>\n",
       "</li>\n",
       "\t<li><style>\n",
       ".list-inline {list-style: none; margin:0; padding: 0}\n",
       ".list-inline>li {display: inline-block}\n",
       ".list-inline>li:not(:last-child)::after {content: \"\\00b7\"; padding: 0 .5ex}\n",
       "</style>\n",
       "<ol class=list-inline><li>'Barbadori'</li><li>'Medici'</li></ol>\n",
       "</li>\n",
       "\t<li><style>\n",
       ".list-inline {list-style: none; margin:0; padding: 0}\n",
       ".list-inline>li {display: inline-block}\n",
       ".list-inline>li:not(:last-child)::after {content: \"\\00b7\"; padding: 0 .5ex}\n",
       "</style>\n",
       "<ol class=list-inline><li>'Bischeri'</li><li>'Guadagni'</li></ol>\n",
       "</li>\n",
       "\t<li><style>\n",
       ".list-inline {list-style: none; margin:0; padding: 0}\n",
       ".list-inline>li {display: inline-block}\n",
       ".list-inline>li:not(:last-child)::after {content: \"\\00b7\"; padding: 0 .5ex}\n",
       "</style>\n",
       "<ol class=list-inline><li>'Bischeri'</li><li>'Peruzzi'</li><li>'Strozzi'</li></ol>\n",
       "</li>\n",
       "\t<li><style>\n",
       ".list-inline {list-style: none; margin:0; padding: 0}\n",
       ".list-inline>li {display: inline-block}\n",
       ".list-inline>li:not(:last-child)::after {content: \"\\00b7\"; padding: 0 .5ex}\n",
       "</style>\n",
       "<ol class=list-inline><li>'Castellani'</li><li>'Peruzzi'</li><li>'Strozzi'</li></ol>\n",
       "</li>\n",
       "\t<li><style>\n",
       ".list-inline {list-style: none; margin:0; padding: 0}\n",
       ".list-inline>li {display: inline-block}\n",
       ".list-inline>li:not(:last-child)::after {content: \"\\00b7\"; padding: 0 .5ex}\n",
       "</style>\n",
       "<ol class=list-inline><li>'Guadagni'</li><li>'Lamberteschi'</li></ol>\n",
       "</li>\n",
       "\t<li><style>\n",
       ".list-inline {list-style: none; margin:0; padding: 0}\n",
       ".list-inline>li {display: inline-block}\n",
       ".list-inline>li:not(:last-child)::after {content: \"\\00b7\"; padding: 0 .5ex}\n",
       "</style>\n",
       "<ol class=list-inline><li>'Guadagni'</li><li>'Tornabuoni'</li></ol>\n",
       "</li>\n",
       "\t<li><style>\n",
       ".list-inline {list-style: none; margin:0; padding: 0}\n",
       ".list-inline>li {display: inline-block}\n",
       ".list-inline>li:not(:last-child)::after {content: \"\\00b7\"; padding: 0 .5ex}\n",
       "</style>\n",
       "<ol class=list-inline><li>'Medici'</li><li>'Ridolfi'</li><li>'Tornabuoni'</li></ol>\n",
       "</li>\n",
       "\t<li><style>\n",
       ".list-inline {list-style: none; margin:0; padding: 0}\n",
       ".list-inline>li {display: inline-block}\n",
       ".list-inline>li:not(:last-child)::after {content: \"\\00b7\"; padding: 0 .5ex}\n",
       "</style>\n",
       "<ol class=list-inline><li>'Medici'</li><li>'Salviati'</li></ol>\n",
       "</li>\n",
       "\t<li><style>\n",
       ".list-inline {list-style: none; margin:0; padding: 0}\n",
       ".list-inline>li {display: inline-block}\n",
       ".list-inline>li:not(:last-child)::after {content: \"\\00b7\"; padding: 0 .5ex}\n",
       "</style>\n",
       "<ol class=list-inline><li>'Pazzi'</li><li>'Salviati'</li></ol>\n",
       "</li>\n",
       "\t<li><style>\n",
       ".list-inline {list-style: none; margin:0; padding: 0}\n",
       ".list-inline>li {display: inline-block}\n",
       ".list-inline>li:not(:last-child)::after {content: \"\\00b7\"; padding: 0 .5ex}\n",
       "</style>\n",
       "<ol class=list-inline><li>'Ridolfi'</li><li>'Strozzi'</li></ol>\n",
       "</li>\n",
       "</ol>\n",
       "</dd>\n",
       "\t<dt>$`2-cliques`</dt>\n",
       "\t\t<dd><ol>\n",
       "\t<li><style>\n",
       ".list-inline {list-style: none; margin:0; padding: 0}\n",
       ".list-inline>li {display: inline-block}\n",
       ".list-inline>li:not(:last-child)::after {content: \"\\00b7\"; padding: 0 .5ex}\n",
       "</style>\n",
       "<ol class=list-inline><li>'Acciaiuoli'</li><li>'Albizzi'</li><li>'Barbadori'</li><li>'Medici'</li><li>'Ridolfi'</li><li>'Salviati'</li><li>'Tornabuoni'</li></ol>\n",
       "</li>\n",
       "\t<li><style>\n",
       ".list-inline {list-style: none; margin:0; padding: 0}\n",
       ".list-inline>li {display: inline-block}\n",
       ".list-inline>li:not(:last-child)::after {content: \"\\00b7\"; padding: 0 .5ex}\n",
       "</style>\n",
       "<ol class=list-inline><li>'Albizzi'</li><li>'Ginori'</li><li>'Guadagni'</li><li>'Medici'</li></ol>\n",
       "</li>\n",
       "\t<li><style>\n",
       ".list-inline {list-style: none; margin:0; padding: 0}\n",
       ".list-inline>li {display: inline-block}\n",
       ".list-inline>li:not(:last-child)::after {content: \"\\00b7\"; padding: 0 .5ex}\n",
       "</style>\n",
       "<ol class=list-inline><li>'Albizzi'</li><li>'Bischeri'</li><li>'Guadagni'</li><li>'Lamberteschi'</li><li>'Tornabuoni'</li></ol>\n",
       "</li>\n",
       "\t<li><style>\n",
       ".list-inline {list-style: none; margin:0; padding: 0}\n",
       ".list-inline>li {display: inline-block}\n",
       ".list-inline>li:not(:last-child)::after {content: \"\\00b7\"; padding: 0 .5ex}\n",
       "</style>\n",
       "<ol class=list-inline><li>'Barbadori'</li><li>'Castellani'</li><li>'Medici'</li><li>'Ridolfi'</li><li>'Strozzi'</li></ol>\n",
       "</li>\n",
       "\t<li><style>\n",
       ".list-inline {list-style: none; margin:0; padding: 0}\n",
       ".list-inline>li {display: inline-block}\n",
       ".list-inline>li:not(:last-child)::after {content: \"\\00b7\"; padding: 0 .5ex}\n",
       "</style>\n",
       "<ol class=list-inline><li>'Bischeri'</li><li>'Castellani'</li><li>'Peruzzi'</li><li>'Ridolfi'</li><li>'Strozzi'</li></ol>\n",
       "</li>\n",
       "\t<li><style>\n",
       ".list-inline {list-style: none; margin:0; padding: 0}\n",
       ".list-inline>li {display: inline-block}\n",
       ".list-inline>li:not(:last-child)::after {content: \"\\00b7\"; padding: 0 .5ex}\n",
       "</style>\n",
       "<ol class=list-inline><li>'Barbadori'</li><li>'Castellani'</li><li>'Peruzzi'</li><li>'Ridolfi'</li><li>'Strozzi'</li></ol>\n",
       "</li>\n",
       "\t<li><style>\n",
       ".list-inline {list-style: none; margin:0; padding: 0}\n",
       ".list-inline>li {display: inline-block}\n",
       ".list-inline>li:not(:last-child)::after {content: \"\\00b7\"; padding: 0 .5ex}\n",
       "</style>\n",
       "<ol class=list-inline><li>'Medici'</li><li>'Pazzi'</li><li>'Salviati'</li></ol>\n",
       "</li>\n",
       "</ol>\n",
       "</dd>\n",
       "\t<dt>$`3-cliques`</dt>\n",
       "\t\t<dd><ol>\n",
       "\t<li><style>\n",
       ".list-inline {list-style: none; margin:0; padding: 0}\n",
       ".list-inline>li {display: inline-block}\n",
       ".list-inline>li:not(:last-child)::after {content: \"\\00b7\"; padding: 0 .5ex}\n",
       "</style>\n",
       "<ol class=list-inline><li>'Acciaiuoli'</li><li>'Albizzi'</li><li>'Barbadori'</li><li>'Castellani'</li><li>'Guadagni'</li><li>'Medici'</li><li>'Ridolfi'</li><li>'Salviati'</li><li>'Strozzi'</li><li>'Tornabuoni'</li></ol>\n",
       "</li>\n",
       "\t<li><style>\n",
       ".list-inline {list-style: none; margin:0; padding: 0}\n",
       ".list-inline>li {display: inline-block}\n",
       ".list-inline>li:not(:last-child)::after {content: \"\\00b7\"; padding: 0 .5ex}\n",
       "</style>\n",
       "<ol class=list-inline><li>'Acciaiuoli'</li><li>'Albizzi'</li><li>'Barbadori'</li><li>'Ginori'</li><li>'Guadagni'</li><li>'Medici'</li><li>'Ridolfi'</li><li>'Salviati'</li><li>'Tornabuoni'</li></ol>\n",
       "</li>\n",
       "\t<li><style>\n",
       ".list-inline {list-style: none; margin:0; padding: 0}\n",
       ".list-inline>li {display: inline-block}\n",
       ".list-inline>li:not(:last-child)::after {content: \"\\00b7\"; padding: 0 .5ex}\n",
       "</style>\n",
       "<ol class=list-inline><li>'Albizzi'</li><li>'Bischeri'</li><li>'Ginori'</li><li>'Guadagni'</li><li>'Lamberteschi'</li><li>'Medici'</li><li>'Ridolfi'</li><li>'Tornabuoni'</li></ol>\n",
       "</li>\n",
       "\t<li><style>\n",
       ".list-inline {list-style: none; margin:0; padding: 0}\n",
       ".list-inline>li {display: inline-block}\n",
       ".list-inline>li:not(:last-child)::after {content: \"\\00b7\"; padding: 0 .5ex}\n",
       "</style>\n",
       "<ol class=list-inline><li>'Albizzi'</li><li>'Barbadori'</li><li>'Bischeri'</li><li>'Castellani'</li><li>'Guadagni'</li><li>'Medici'</li><li>'Peruzzi'</li><li>'Ridolfi'</li><li>'Strozzi'</li><li>'Tornabuoni'</li></ol>\n",
       "</li>\n",
       "\t<li><style>\n",
       ".list-inline {list-style: none; margin:0; padding: 0}\n",
       ".list-inline>li {display: inline-block}\n",
       ".list-inline>li:not(:last-child)::after {content: \"\\00b7\"; padding: 0 .5ex}\n",
       "</style>\n",
       "<ol class=list-inline><li>'Acciaiuoli'</li><li>'Albizzi'</li><li>'Barbadori'</li><li>'Medici'</li><li>'Pazzi'</li><li>'Ridolfi'</li><li>'Salviati'</li><li>'Tornabuoni'</li></ol>\n",
       "</li>\n",
       "</ol>\n",
       "</dd>\n",
       "\t<dt>$`4-cliques`</dt>\n",
       "\t\t<dd><ol>\n",
       "\t<li><style>\n",
       ".list-inline {list-style: none; margin:0; padding: 0}\n",
       ".list-inline>li {display: inline-block}\n",
       ".list-inline>li:not(:last-child)::after {content: \"\\00b7\"; padding: 0 .5ex}\n",
       "</style>\n",
       "<ol class=list-inline><li>'Acciaiuoli'</li><li>'Albizzi'</li><li>'Barbadori'</li><li>'Bischeri'</li><li>'Castellani'</li><li>'Ginori'</li><li>'Guadagni'</li><li>'Lamberteschi'</li><li>'Medici'</li><li>'Peruzzi'</li><li>'Ridolfi'</li><li>'Salviati'</li><li>'Strozzi'</li><li>'Tornabuoni'</li></ol>\n",
       "</li>\n",
       "\t<li><style>\n",
       ".list-inline {list-style: none; margin:0; padding: 0}\n",
       ".list-inline>li {display: inline-block}\n",
       ".list-inline>li:not(:last-child)::after {content: \"\\00b7\"; padding: 0 .5ex}\n",
       "</style>\n",
       "<ol class=list-inline><li>'Acciaiuoli'</li><li>'Albizzi'</li><li>'Barbadori'</li><li>'Castellani'</li><li>'Ginori'</li><li>'Guadagni'</li><li>'Medici'</li><li>'Pazzi'</li><li>'Ridolfi'</li><li>'Salviati'</li><li>'Strozzi'</li><li>'Tornabuoni'</li></ol>\n",
       "</li>\n",
       "</ol>\n",
       "</dd>\n",
       "\t<dt>$`5-cliques`</dt>\n",
       "\t\t<dd><ol>\n",
       "\t<li><style>\n",
       ".list-inline {list-style: none; margin:0; padding: 0}\n",
       ".list-inline>li {display: inline-block}\n",
       ".list-inline>li:not(:last-child)::after {content: \"\\00b7\"; padding: 0 .5ex}\n",
       "</style>\n",
       "<ol class=list-inline><li>'Acciaiuoli'</li><li>'Albizzi'</li><li>'Barbadori'</li><li>'Bischeri'</li><li>'Castellani'</li><li>'Ginori'</li><li>'Guadagni'</li><li>'Lamberteschi'</li><li>'Medici'</li><li>'Pazzi'</li><li>'Peruzzi'</li><li>'Ridolfi'</li><li>'Salviati'</li><li>'Strozzi'</li><li>'Tornabuoni'</li></ol>\n",
       "</li>\n",
       "</ol>\n",
       "</dd>\n",
       "</dl>\n"
      ],
      "text/latex": [
       "\\begin{description}\n",
       "\\item[\\$`1-cliques`] \\begin{enumerate}\n",
       "\\item \\begin{enumerate*}\n",
       "\\item 'Acciaiuoli'\n",
       "\\item 'Medici'\n",
       "\\end{enumerate*}\n",
       "\n",
       "\\item \\begin{enumerate*}\n",
       "\\item 'Albizzi'\n",
       "\\item 'Ginori'\n",
       "\\end{enumerate*}\n",
       "\n",
       "\\item \\begin{enumerate*}\n",
       "\\item 'Albizzi'\n",
       "\\item 'Guadagni'\n",
       "\\end{enumerate*}\n",
       "\n",
       "\\item \\begin{enumerate*}\n",
       "\\item 'Albizzi'\n",
       "\\item 'Medici'\n",
       "\\end{enumerate*}\n",
       "\n",
       "\\item \\begin{enumerate*}\n",
       "\\item 'Barbadori'\n",
       "\\item 'Castellani'\n",
       "\\end{enumerate*}\n",
       "\n",
       "\\item \\begin{enumerate*}\n",
       "\\item 'Barbadori'\n",
       "\\item 'Medici'\n",
       "\\end{enumerate*}\n",
       "\n",
       "\\item \\begin{enumerate*}\n",
       "\\item 'Bischeri'\n",
       "\\item 'Guadagni'\n",
       "\\end{enumerate*}\n",
       "\n",
       "\\item \\begin{enumerate*}\n",
       "\\item 'Bischeri'\n",
       "\\item 'Peruzzi'\n",
       "\\item 'Strozzi'\n",
       "\\end{enumerate*}\n",
       "\n",
       "\\item \\begin{enumerate*}\n",
       "\\item 'Castellani'\n",
       "\\item 'Peruzzi'\n",
       "\\item 'Strozzi'\n",
       "\\end{enumerate*}\n",
       "\n",
       "\\item \\begin{enumerate*}\n",
       "\\item 'Guadagni'\n",
       "\\item 'Lamberteschi'\n",
       "\\end{enumerate*}\n",
       "\n",
       "\\item \\begin{enumerate*}\n",
       "\\item 'Guadagni'\n",
       "\\item 'Tornabuoni'\n",
       "\\end{enumerate*}\n",
       "\n",
       "\\item \\begin{enumerate*}\n",
       "\\item 'Medici'\n",
       "\\item 'Ridolfi'\n",
       "\\item 'Tornabuoni'\n",
       "\\end{enumerate*}\n",
       "\n",
       "\\item \\begin{enumerate*}\n",
       "\\item 'Medici'\n",
       "\\item 'Salviati'\n",
       "\\end{enumerate*}\n",
       "\n",
       "\\item \\begin{enumerate*}\n",
       "\\item 'Pazzi'\n",
       "\\item 'Salviati'\n",
       "\\end{enumerate*}\n",
       "\n",
       "\\item \\begin{enumerate*}\n",
       "\\item 'Ridolfi'\n",
       "\\item 'Strozzi'\n",
       "\\end{enumerate*}\n",
       "\n",
       "\\end{enumerate}\n",
       "\n",
       "\\item[\\$`2-cliques`] \\begin{enumerate}\n",
       "\\item \\begin{enumerate*}\n",
       "\\item 'Acciaiuoli'\n",
       "\\item 'Albizzi'\n",
       "\\item 'Barbadori'\n",
       "\\item 'Medici'\n",
       "\\item 'Ridolfi'\n",
       "\\item 'Salviati'\n",
       "\\item 'Tornabuoni'\n",
       "\\end{enumerate*}\n",
       "\n",
       "\\item \\begin{enumerate*}\n",
       "\\item 'Albizzi'\n",
       "\\item 'Ginori'\n",
       "\\item 'Guadagni'\n",
       "\\item 'Medici'\n",
       "\\end{enumerate*}\n",
       "\n",
       "\\item \\begin{enumerate*}\n",
       "\\item 'Albizzi'\n",
       "\\item 'Bischeri'\n",
       "\\item 'Guadagni'\n",
       "\\item 'Lamberteschi'\n",
       "\\item 'Tornabuoni'\n",
       "\\end{enumerate*}\n",
       "\n",
       "\\item \\begin{enumerate*}\n",
       "\\item 'Barbadori'\n",
       "\\item 'Castellani'\n",
       "\\item 'Medici'\n",
       "\\item 'Ridolfi'\n",
       "\\item 'Strozzi'\n",
       "\\end{enumerate*}\n",
       "\n",
       "\\item \\begin{enumerate*}\n",
       "\\item 'Bischeri'\n",
       "\\item 'Castellani'\n",
       "\\item 'Peruzzi'\n",
       "\\item 'Ridolfi'\n",
       "\\item 'Strozzi'\n",
       "\\end{enumerate*}\n",
       "\n",
       "\\item \\begin{enumerate*}\n",
       "\\item 'Barbadori'\n",
       "\\item 'Castellani'\n",
       "\\item 'Peruzzi'\n",
       "\\item 'Ridolfi'\n",
       "\\item 'Strozzi'\n",
       "\\end{enumerate*}\n",
       "\n",
       "\\item \\begin{enumerate*}\n",
       "\\item 'Medici'\n",
       "\\item 'Pazzi'\n",
       "\\item 'Salviati'\n",
       "\\end{enumerate*}\n",
       "\n",
       "\\end{enumerate}\n",
       "\n",
       "\\item[\\$`3-cliques`] \\begin{enumerate}\n",
       "\\item \\begin{enumerate*}\n",
       "\\item 'Acciaiuoli'\n",
       "\\item 'Albizzi'\n",
       "\\item 'Barbadori'\n",
       "\\item 'Castellani'\n",
       "\\item 'Guadagni'\n",
       "\\item 'Medici'\n",
       "\\item 'Ridolfi'\n",
       "\\item 'Salviati'\n",
       "\\item 'Strozzi'\n",
       "\\item 'Tornabuoni'\n",
       "\\end{enumerate*}\n",
       "\n",
       "\\item \\begin{enumerate*}\n",
       "\\item 'Acciaiuoli'\n",
       "\\item 'Albizzi'\n",
       "\\item 'Barbadori'\n",
       "\\item 'Ginori'\n",
       "\\item 'Guadagni'\n",
       "\\item 'Medici'\n",
       "\\item 'Ridolfi'\n",
       "\\item 'Salviati'\n",
       "\\item 'Tornabuoni'\n",
       "\\end{enumerate*}\n",
       "\n",
       "\\item \\begin{enumerate*}\n",
       "\\item 'Albizzi'\n",
       "\\item 'Bischeri'\n",
       "\\item 'Ginori'\n",
       "\\item 'Guadagni'\n",
       "\\item 'Lamberteschi'\n",
       "\\item 'Medici'\n",
       "\\item 'Ridolfi'\n",
       "\\item 'Tornabuoni'\n",
       "\\end{enumerate*}\n",
       "\n",
       "\\item \\begin{enumerate*}\n",
       "\\item 'Albizzi'\n",
       "\\item 'Barbadori'\n",
       "\\item 'Bischeri'\n",
       "\\item 'Castellani'\n",
       "\\item 'Guadagni'\n",
       "\\item 'Medici'\n",
       "\\item 'Peruzzi'\n",
       "\\item 'Ridolfi'\n",
       "\\item 'Strozzi'\n",
       "\\item 'Tornabuoni'\n",
       "\\end{enumerate*}\n",
       "\n",
       "\\item \\begin{enumerate*}\n",
       "\\item 'Acciaiuoli'\n",
       "\\item 'Albizzi'\n",
       "\\item 'Barbadori'\n",
       "\\item 'Medici'\n",
       "\\item 'Pazzi'\n",
       "\\item 'Ridolfi'\n",
       "\\item 'Salviati'\n",
       "\\item 'Tornabuoni'\n",
       "\\end{enumerate*}\n",
       "\n",
       "\\end{enumerate}\n",
       "\n",
       "\\item[\\$`4-cliques`] \\begin{enumerate}\n",
       "\\item \\begin{enumerate*}\n",
       "\\item 'Acciaiuoli'\n",
       "\\item 'Albizzi'\n",
       "\\item 'Barbadori'\n",
       "\\item 'Bischeri'\n",
       "\\item 'Castellani'\n",
       "\\item 'Ginori'\n",
       "\\item 'Guadagni'\n",
       "\\item 'Lamberteschi'\n",
       "\\item 'Medici'\n",
       "\\item 'Peruzzi'\n",
       "\\item 'Ridolfi'\n",
       "\\item 'Salviati'\n",
       "\\item 'Strozzi'\n",
       "\\item 'Tornabuoni'\n",
       "\\end{enumerate*}\n",
       "\n",
       "\\item \\begin{enumerate*}\n",
       "\\item 'Acciaiuoli'\n",
       "\\item 'Albizzi'\n",
       "\\item 'Barbadori'\n",
       "\\item 'Castellani'\n",
       "\\item 'Ginori'\n",
       "\\item 'Guadagni'\n",
       "\\item 'Medici'\n",
       "\\item 'Pazzi'\n",
       "\\item 'Ridolfi'\n",
       "\\item 'Salviati'\n",
       "\\item 'Strozzi'\n",
       "\\item 'Tornabuoni'\n",
       "\\end{enumerate*}\n",
       "\n",
       "\\end{enumerate}\n",
       "\n",
       "\\item[\\$`5-cliques`] \\begin{enumerate}\n",
       "\\item \\begin{enumerate*}\n",
       "\\item 'Acciaiuoli'\n",
       "\\item 'Albizzi'\n",
       "\\item 'Barbadori'\n",
       "\\item 'Bischeri'\n",
       "\\item 'Castellani'\n",
       "\\item 'Ginori'\n",
       "\\item 'Guadagni'\n",
       "\\item 'Lamberteschi'\n",
       "\\item 'Medici'\n",
       "\\item 'Pazzi'\n",
       "\\item 'Peruzzi'\n",
       "\\item 'Ridolfi'\n",
       "\\item 'Salviati'\n",
       "\\item 'Strozzi'\n",
       "\\item 'Tornabuoni'\n",
       "\\end{enumerate*}\n",
       "\n",
       "\\end{enumerate}\n",
       "\n",
       "\\end{description}\n"
      ],
      "text/markdown": [
       "$`1-cliques`\n",
       ":   1. 1. 'Acciaiuoli'\n",
       "2. 'Medici'\n",
       "\n",
       "\n",
       "\n",
       "2. 1. 'Albizzi'\n",
       "2. 'Ginori'\n",
       "\n",
       "\n",
       "\n",
       "3. 1. 'Albizzi'\n",
       "2. 'Guadagni'\n",
       "\n",
       "\n",
       "\n",
       "4. 1. 'Albizzi'\n",
       "2. 'Medici'\n",
       "\n",
       "\n",
       "\n",
       "5. 1. 'Barbadori'\n",
       "2. 'Castellani'\n",
       "\n",
       "\n",
       "\n",
       "6. 1. 'Barbadori'\n",
       "2. 'Medici'\n",
       "\n",
       "\n",
       "\n",
       "7. 1. 'Bischeri'\n",
       "2. 'Guadagni'\n",
       "\n",
       "\n",
       "\n",
       "8. 1. 'Bischeri'\n",
       "2. 'Peruzzi'\n",
       "3. 'Strozzi'\n",
       "\n",
       "\n",
       "\n",
       "9. 1. 'Castellani'\n",
       "2. 'Peruzzi'\n",
       "3. 'Strozzi'\n",
       "\n",
       "\n",
       "\n",
       "10. 1. 'Guadagni'\n",
       "2. 'Lamberteschi'\n",
       "\n",
       "\n",
       "\n",
       "11. 1. 'Guadagni'\n",
       "2. 'Tornabuoni'\n",
       "\n",
       "\n",
       "\n",
       "12. 1. 'Medici'\n",
       "2. 'Ridolfi'\n",
       "3. 'Tornabuoni'\n",
       "\n",
       "\n",
       "\n",
       "13. 1. 'Medici'\n",
       "2. 'Salviati'\n",
       "\n",
       "\n",
       "\n",
       "14. 1. 'Pazzi'\n",
       "2. 'Salviati'\n",
       "\n",
       "\n",
       "\n",
       "15. 1. 'Ridolfi'\n",
       "2. 'Strozzi'\n",
       "\n",
       "\n",
       "\n",
       "\n",
       "\n",
       "\n",
       "$`2-cliques`\n",
       ":   1. 1. 'Acciaiuoli'\n",
       "2. 'Albizzi'\n",
       "3. 'Barbadori'\n",
       "4. 'Medici'\n",
       "5. 'Ridolfi'\n",
       "6. 'Salviati'\n",
       "7. 'Tornabuoni'\n",
       "\n",
       "\n",
       "\n",
       "2. 1. 'Albizzi'\n",
       "2. 'Ginori'\n",
       "3. 'Guadagni'\n",
       "4. 'Medici'\n",
       "\n",
       "\n",
       "\n",
       "3. 1. 'Albizzi'\n",
       "2. 'Bischeri'\n",
       "3. 'Guadagni'\n",
       "4. 'Lamberteschi'\n",
       "5. 'Tornabuoni'\n",
       "\n",
       "\n",
       "\n",
       "4. 1. 'Barbadori'\n",
       "2. 'Castellani'\n",
       "3. 'Medici'\n",
       "4. 'Ridolfi'\n",
       "5. 'Strozzi'\n",
       "\n",
       "\n",
       "\n",
       "5. 1. 'Bischeri'\n",
       "2. 'Castellani'\n",
       "3. 'Peruzzi'\n",
       "4. 'Ridolfi'\n",
       "5. 'Strozzi'\n",
       "\n",
       "\n",
       "\n",
       "6. 1. 'Barbadori'\n",
       "2. 'Castellani'\n",
       "3. 'Peruzzi'\n",
       "4. 'Ridolfi'\n",
       "5. 'Strozzi'\n",
       "\n",
       "\n",
       "\n",
       "7. 1. 'Medici'\n",
       "2. 'Pazzi'\n",
       "3. 'Salviati'\n",
       "\n",
       "\n",
       "\n",
       "\n",
       "\n",
       "\n",
       "$`3-cliques`\n",
       ":   1. 1. 'Acciaiuoli'\n",
       "2. 'Albizzi'\n",
       "3. 'Barbadori'\n",
       "4. 'Castellani'\n",
       "5. 'Guadagni'\n",
       "6. 'Medici'\n",
       "7. 'Ridolfi'\n",
       "8. 'Salviati'\n",
       "9. 'Strozzi'\n",
       "10. 'Tornabuoni'\n",
       "\n",
       "\n",
       "\n",
       "2. 1. 'Acciaiuoli'\n",
       "2. 'Albizzi'\n",
       "3. 'Barbadori'\n",
       "4. 'Ginori'\n",
       "5. 'Guadagni'\n",
       "6. 'Medici'\n",
       "7. 'Ridolfi'\n",
       "8. 'Salviati'\n",
       "9. 'Tornabuoni'\n",
       "\n",
       "\n",
       "\n",
       "3. 1. 'Albizzi'\n",
       "2. 'Bischeri'\n",
       "3. 'Ginori'\n",
       "4. 'Guadagni'\n",
       "5. 'Lamberteschi'\n",
       "6. 'Medici'\n",
       "7. 'Ridolfi'\n",
       "8. 'Tornabuoni'\n",
       "\n",
       "\n",
       "\n",
       "4. 1. 'Albizzi'\n",
       "2. 'Barbadori'\n",
       "3. 'Bischeri'\n",
       "4. 'Castellani'\n",
       "5. 'Guadagni'\n",
       "6. 'Medici'\n",
       "7. 'Peruzzi'\n",
       "8. 'Ridolfi'\n",
       "9. 'Strozzi'\n",
       "10. 'Tornabuoni'\n",
       "\n",
       "\n",
       "\n",
       "5. 1. 'Acciaiuoli'\n",
       "2. 'Albizzi'\n",
       "3. 'Barbadori'\n",
       "4. 'Medici'\n",
       "5. 'Pazzi'\n",
       "6. 'Ridolfi'\n",
       "7. 'Salviati'\n",
       "8. 'Tornabuoni'\n",
       "\n",
       "\n",
       "\n",
       "\n",
       "\n",
       "\n",
       "$`4-cliques`\n",
       ":   1. 1. 'Acciaiuoli'\n",
       "2. 'Albizzi'\n",
       "3. 'Barbadori'\n",
       "4. 'Bischeri'\n",
       "5. 'Castellani'\n",
       "6. 'Ginori'\n",
       "7. 'Guadagni'\n",
       "8. 'Lamberteschi'\n",
       "9. 'Medici'\n",
       "10. 'Peruzzi'\n",
       "11. 'Ridolfi'\n",
       "12. 'Salviati'\n",
       "13. 'Strozzi'\n",
       "14. 'Tornabuoni'\n",
       "\n",
       "\n",
       "\n",
       "2. 1. 'Acciaiuoli'\n",
       "2. 'Albizzi'\n",
       "3. 'Barbadori'\n",
       "4. 'Castellani'\n",
       "5. 'Ginori'\n",
       "6. 'Guadagni'\n",
       "7. 'Medici'\n",
       "8. 'Pazzi'\n",
       "9. 'Ridolfi'\n",
       "10. 'Salviati'\n",
       "11. 'Strozzi'\n",
       "12. 'Tornabuoni'\n",
       "\n",
       "\n",
       "\n",
       "\n",
       "\n",
       "\n",
       "$`5-cliques`\n",
       ":   1. 1. 'Acciaiuoli'\n",
       "2. 'Albizzi'\n",
       "3. 'Barbadori'\n",
       "4. 'Bischeri'\n",
       "5. 'Castellani'\n",
       "6. 'Ginori'\n",
       "7. 'Guadagni'\n",
       "8. 'Lamberteschi'\n",
       "9. 'Medici'\n",
       "10. 'Pazzi'\n",
       "11. 'Peruzzi'\n",
       "12. 'Ridolfi'\n",
       "13. 'Salviati'\n",
       "14. 'Strozzi'\n",
       "15. 'Tornabuoni'\n",
       "\n",
       "\n",
       "\n",
       "\n",
       "\n",
       "\n",
       "\n",
       "\n"
      ],
      "text/plain": [
       "$`1-cliques`\n",
       "$`1-cliques`[[1]]\n",
       "[1] \"Acciaiuoli\" \"Medici\"    \n",
       "\n",
       "$`1-cliques`[[2]]\n",
       "[1] \"Albizzi\" \"Ginori\" \n",
       "\n",
       "$`1-cliques`[[3]]\n",
       "[1] \"Albizzi\"  \"Guadagni\"\n",
       "\n",
       "$`1-cliques`[[4]]\n",
       "[1] \"Albizzi\" \"Medici\" \n",
       "\n",
       "$`1-cliques`[[5]]\n",
       "[1] \"Barbadori\"  \"Castellani\"\n",
       "\n",
       "$`1-cliques`[[6]]\n",
       "[1] \"Barbadori\" \"Medici\"   \n",
       "\n",
       "$`1-cliques`[[7]]\n",
       "[1] \"Bischeri\" \"Guadagni\"\n",
       "\n",
       "$`1-cliques`[[8]]\n",
       "[1] \"Bischeri\" \"Peruzzi\"  \"Strozzi\" \n",
       "\n",
       "$`1-cliques`[[9]]\n",
       "[1] \"Castellani\" \"Peruzzi\"    \"Strozzi\"   \n",
       "\n",
       "$`1-cliques`[[10]]\n",
       "[1] \"Guadagni\"     \"Lamberteschi\"\n",
       "\n",
       "$`1-cliques`[[11]]\n",
       "[1] \"Guadagni\"   \"Tornabuoni\"\n",
       "\n",
       "$`1-cliques`[[12]]\n",
       "[1] \"Medici\"     \"Ridolfi\"    \"Tornabuoni\"\n",
       "\n",
       "$`1-cliques`[[13]]\n",
       "[1] \"Medici\"   \"Salviati\"\n",
       "\n",
       "$`1-cliques`[[14]]\n",
       "[1] \"Pazzi\"    \"Salviati\"\n",
       "\n",
       "$`1-cliques`[[15]]\n",
       "[1] \"Ridolfi\" \"Strozzi\"\n",
       "\n",
       "\n",
       "$`2-cliques`\n",
       "$`2-cliques`[[1]]\n",
       "[1] \"Acciaiuoli\" \"Albizzi\"    \"Barbadori\"  \"Medici\"     \"Ridolfi\"   \n",
       "[6] \"Salviati\"   \"Tornabuoni\"\n",
       "\n",
       "$`2-cliques`[[2]]\n",
       "[1] \"Albizzi\"  \"Ginori\"   \"Guadagni\" \"Medici\"  \n",
       "\n",
       "$`2-cliques`[[3]]\n",
       "[1] \"Albizzi\"      \"Bischeri\"     \"Guadagni\"     \"Lamberteschi\" \"Tornabuoni\"  \n",
       "\n",
       "$`2-cliques`[[4]]\n",
       "[1] \"Barbadori\"  \"Castellani\" \"Medici\"     \"Ridolfi\"    \"Strozzi\"   \n",
       "\n",
       "$`2-cliques`[[5]]\n",
       "[1] \"Bischeri\"   \"Castellani\" \"Peruzzi\"    \"Ridolfi\"    \"Strozzi\"   \n",
       "\n",
       "$`2-cliques`[[6]]\n",
       "[1] \"Barbadori\"  \"Castellani\" \"Peruzzi\"    \"Ridolfi\"    \"Strozzi\"   \n",
       "\n",
       "$`2-cliques`[[7]]\n",
       "[1] \"Medici\"   \"Pazzi\"    \"Salviati\"\n",
       "\n",
       "\n",
       "$`3-cliques`\n",
       "$`3-cliques`[[1]]\n",
       " [1] \"Acciaiuoli\" \"Albizzi\"    \"Barbadori\"  \"Castellani\" \"Guadagni\"  \n",
       " [6] \"Medici\"     \"Ridolfi\"    \"Salviati\"   \"Strozzi\"    \"Tornabuoni\"\n",
       "\n",
       "$`3-cliques`[[2]]\n",
       "[1] \"Acciaiuoli\" \"Albizzi\"    \"Barbadori\"  \"Ginori\"     \"Guadagni\"  \n",
       "[6] \"Medici\"     \"Ridolfi\"    \"Salviati\"   \"Tornabuoni\"\n",
       "\n",
       "$`3-cliques`[[3]]\n",
       "[1] \"Albizzi\"      \"Bischeri\"     \"Ginori\"       \"Guadagni\"     \"Lamberteschi\"\n",
       "[6] \"Medici\"       \"Ridolfi\"      \"Tornabuoni\"  \n",
       "\n",
       "$`3-cliques`[[4]]\n",
       " [1] \"Albizzi\"    \"Barbadori\"  \"Bischeri\"   \"Castellani\" \"Guadagni\"  \n",
       " [6] \"Medici\"     \"Peruzzi\"    \"Ridolfi\"    \"Strozzi\"    \"Tornabuoni\"\n",
       "\n",
       "$`3-cliques`[[5]]\n",
       "[1] \"Acciaiuoli\" \"Albizzi\"    \"Barbadori\"  \"Medici\"     \"Pazzi\"     \n",
       "[6] \"Ridolfi\"    \"Salviati\"   \"Tornabuoni\"\n",
       "\n",
       "\n",
       "$`4-cliques`\n",
       "$`4-cliques`[[1]]\n",
       " [1] \"Acciaiuoli\"   \"Albizzi\"      \"Barbadori\"    \"Bischeri\"     \"Castellani\"  \n",
       " [6] \"Ginori\"       \"Guadagni\"     \"Lamberteschi\" \"Medici\"       \"Peruzzi\"     \n",
       "[11] \"Ridolfi\"      \"Salviati\"     \"Strozzi\"      \"Tornabuoni\"  \n",
       "\n",
       "$`4-cliques`[[2]]\n",
       " [1] \"Acciaiuoli\" \"Albizzi\"    \"Barbadori\"  \"Castellani\" \"Ginori\"    \n",
       " [6] \"Guadagni\"   \"Medici\"     \"Pazzi\"      \"Ridolfi\"    \"Salviati\"  \n",
       "[11] \"Strozzi\"    \"Tornabuoni\"\n",
       "\n",
       "\n",
       "$`5-cliques`\n",
       "$`5-cliques`[[1]]\n",
       " [1] \"Acciaiuoli\"   \"Albizzi\"      \"Barbadori\"    \"Bischeri\"     \"Castellani\"  \n",
       " [6] \"Ginori\"       \"Guadagni\"     \"Lamberteschi\" \"Medici\"       \"Pazzi\"       \n",
       "[11] \"Peruzzi\"      \"Ridolfi\"      \"Salviati\"     \"Strozzi\"      \"Tornabuoni\"  \n",
       "\n"
      ]
     },
     "metadata": {},
     "output_type": "display_data"
    }
   ],
   "source": [
    "cat(\"N-cliques\")\n",
    "clq <- kCliques(igraph.to.graphNEL(flor))\n",
    "clq"
   ]
  },
  {
   "cell_type": "markdown",
   "metadata": {
    "id": "TKMCMg5sNYrp"
   },
   "source": [
    "3. С помощью библиотеки igraph исследовать алгоритмы обноружения сообществ в зависимости от номера варианта:\n",
    "(3) InfoMAP, Louvain, Optimal.\n",
    "Кратко объяснить суть каждого алгоритма. Вывести значение модулярности и отобразить полученные сообщества. Сделать выводы."
   ]
  },
  {
   "cell_type": "markdown",
   "metadata": {},
   "source": [
    "__InfoMap__.\n",
    "\n",
    "Алгоритм основан на утверждении о теоретико-информационной двойственности задачи разделения на сообщетсва и минимизации длины сообщения, содержащего путь случайного блуждателя. Длина описания пути может быть уменьшена, если в сети есть регионы, в которых случайный блуждатель надолго задерживается. Для каждого такого региона можно использовать отдельное множество кодов (не обязательно отличных от кодов в других регионах), и закодировать вход и выход блуждателя в определенный регион. Таким образом можно минимизировать информацию о пути случайного блуждателя."
   ]
  },
  {
   "cell_type": "code",
   "execution_count": 4,
   "metadata": {
    "colab": {
     "base_uri": "https://localhost:8080/",
     "height": 725
    },
    "id": "q41k5ZqpNYrp",
    "outputId": "4e8478c9-f9bc-4b8b-b177-e8b606db25b9"
   },
   "outputs": [
    {
     "data": {
      "text/html": [
       "<dl>\n",
       "\t<dt>$`1`</dt>\n",
       "\t\t<dd><style>\n",
       ".list-inline {list-style: none; margin:0; padding: 0}\n",
       ".list-inline>li {display: inline-block}\n",
       ".list-inline>li:not(:last-child)::after {content: \"\\00b7\"; padding: 0 .5ex}\n",
       "</style>\n",
       "<ol class=list-inline><li>'Acciaiuoli'</li><li>'Medici'</li><li>'Ridolfi'</li><li>'Tornabuoni'</li></ol>\n",
       "</dd>\n",
       "\t<dt>$`2`</dt>\n",
       "\t\t<dd><style>\n",
       ".list-inline {list-style: none; margin:0; padding: 0}\n",
       ".list-inline>li {display: inline-block}\n",
       ".list-inline>li:not(:last-child)::after {content: \"\\00b7\"; padding: 0 .5ex}\n",
       "</style>\n",
       "<ol class=list-inline><li>'Albizzi'</li><li>'Ginori'</li><li>'Guadagni'</li><li>'Lamberteschi'</li></ol>\n",
       "</dd>\n",
       "\t<dt>$`3`</dt>\n",
       "\t\t<dd><style>\n",
       ".list-inline {list-style: none; margin:0; padding: 0}\n",
       ".list-inline>li {display: inline-block}\n",
       ".list-inline>li:not(:last-child)::after {content: \"\\00b7\"; padding: 0 .5ex}\n",
       "</style>\n",
       "<ol class=list-inline><li>'Barbadori'</li><li>'Bischeri'</li><li>'Castellani'</li><li>'Peruzzi'</li><li>'Strozzi'</li></ol>\n",
       "</dd>\n",
       "\t<dt>$`4`</dt>\n",
       "\t\t<dd><style>\n",
       ".list-inline {list-style: none; margin:0; padding: 0}\n",
       ".list-inline>li {display: inline-block}\n",
       ".list-inline>li:not(:last-child)::after {content: \"\\00b7\"; padding: 0 .5ex}\n",
       "</style>\n",
       "<ol class=list-inline><li>'Pazzi'</li><li>'Salviati'</li></ol>\n",
       "</dd>\n",
       "\t<dt>$`5`</dt>\n",
       "\t\t<dd>'Pucci'</dd>\n",
       "</dl>\n"
      ],
      "text/latex": [
       "\\begin{description}\n",
       "\\item[\\$`1`] \\begin{enumerate*}\n",
       "\\item 'Acciaiuoli'\n",
       "\\item 'Medici'\n",
       "\\item 'Ridolfi'\n",
       "\\item 'Tornabuoni'\n",
       "\\end{enumerate*}\n",
       "\n",
       "\\item[\\$`2`] \\begin{enumerate*}\n",
       "\\item 'Albizzi'\n",
       "\\item 'Ginori'\n",
       "\\item 'Guadagni'\n",
       "\\item 'Lamberteschi'\n",
       "\\end{enumerate*}\n",
       "\n",
       "\\item[\\$`3`] \\begin{enumerate*}\n",
       "\\item 'Barbadori'\n",
       "\\item 'Bischeri'\n",
       "\\item 'Castellani'\n",
       "\\item 'Peruzzi'\n",
       "\\item 'Strozzi'\n",
       "\\end{enumerate*}\n",
       "\n",
       "\\item[\\$`4`] \\begin{enumerate*}\n",
       "\\item 'Pazzi'\n",
       "\\item 'Salviati'\n",
       "\\end{enumerate*}\n",
       "\n",
       "\\item[\\$`5`] 'Pucci'\n",
       "\\end{description}\n"
      ],
      "text/markdown": [
       "$`1`\n",
       ":   1. 'Acciaiuoli'\n",
       "2. 'Medici'\n",
       "3. 'Ridolfi'\n",
       "4. 'Tornabuoni'\n",
       "\n",
       "\n",
       "\n",
       "$`2`\n",
       ":   1. 'Albizzi'\n",
       "2. 'Ginori'\n",
       "3. 'Guadagni'\n",
       "4. 'Lamberteschi'\n",
       "\n",
       "\n",
       "\n",
       "$`3`\n",
       ":   1. 'Barbadori'\n",
       "2. 'Bischeri'\n",
       "3. 'Castellani'\n",
       "4. 'Peruzzi'\n",
       "5. 'Strozzi'\n",
       "\n",
       "\n",
       "\n",
       "$`4`\n",
       ":   1. 'Pazzi'\n",
       "2. 'Salviati'\n",
       "\n",
       "\n",
       "\n",
       "$`5`\n",
       ":   'Pucci'\n",
       "\n",
       "\n"
      ],
      "text/plain": [
       "$`1`\n",
       "[1] \"Acciaiuoli\" \"Medici\"     \"Ridolfi\"    \"Tornabuoni\"\n",
       "\n",
       "$`2`\n",
       "[1] \"Albizzi\"      \"Ginori\"       \"Guadagni\"     \"Lamberteschi\"\n",
       "\n",
       "$`3`\n",
       "[1] \"Barbadori\"  \"Bischeri\"   \"Castellani\" \"Peruzzi\"    \"Strozzi\"   \n",
       "\n",
       "$`4`\n",
       "[1] \"Pazzi\"    \"Salviati\"\n",
       "\n",
       "$`5`\n",
       "[1] \"Pucci\"\n"
      ]
     },
     "metadata": {},
     "output_type": "display_data"
    },
    {
     "data": {
      "text/html": [
       "0.3975"
      ],
      "text/latex": [
       "0.3975"
      ],
      "text/markdown": [
       "0.3975"
      ],
      "text/plain": [
       "[1] 0.3975"
      ]
     },
     "metadata": {},
     "output_type": "display_data"
    },
    {
     "data": {
      "image/png": "[encoded data removed]",
      "text/plain": [
       "Plot with title \"\""
      ]
     },
     "metadata": {
      "image/png": {
       "height": 420,
       "width": 420
      }
     },
     "output_type": "display_data"
    }
   ],
   "source": [
    "inf_c <- cluster_infomap(flor)\n",
    "communities(inf_c)\n",
    "modularity(inf_c)\n",
    "plot(inf_c, flor)"
   ]
  },
  {
   "cell_type": "markdown",
   "metadata": {},
   "source": [
    "__Louvain__.\n",
    "\n",
    "Данный алгоритм основан на идее о том, что максимизация модулярности ведет к нахождению лучшего разделения узлов по группам. На первом шаге все узлы один за одним добавляются и удаляются из разных сообществ (изначально сообщества - сами узлы) пока не произойдёт значительное увеличение модулярности. На втором шаге узлы, принадлежащие одному сообществу пердставляются как один узел. Шаги повторяются до тех пор пока не окажется один узел. Таким образом получится иерархическая структура сообществ."
   ]
  },
  {
   "cell_type": "code",
   "execution_count": 5,
   "metadata": {},
   "outputs": [
    {
     "data": {
      "text/html": [
       "<dl>\n",
       "\t<dt>$`1`</dt>\n",
       "\t\t<dd><style>\n",
       ".list-inline {list-style: none; margin:0; padding: 0}\n",
       ".list-inline>li {display: inline-block}\n",
       ".list-inline>li:not(:last-child)::after {content: \"\\00b7\"; padding: 0 .5ex}\n",
       "</style>\n",
       "<ol class=list-inline><li>'Acciaiuoli'</li><li>'Medici'</li><li>'Pazzi'</li><li>'Ridolfi'</li><li>'Salviati'</li><li>'Tornabuoni'</li></ol>\n",
       "</dd>\n",
       "\t<dt>$`2`</dt>\n",
       "\t\t<dd><style>\n",
       ".list-inline {list-style: none; margin:0; padding: 0}\n",
       ".list-inline>li {display: inline-block}\n",
       ".list-inline>li:not(:last-child)::after {content: \"\\00b7\"; padding: 0 .5ex}\n",
       "</style>\n",
       "<ol class=list-inline><li>'Albizzi'</li><li>'Ginori'</li><li>'Guadagni'</li><li>'Lamberteschi'</li></ol>\n",
       "</dd>\n",
       "\t<dt>$`3`</dt>\n",
       "\t\t<dd><style>\n",
       ".list-inline {list-style: none; margin:0; padding: 0}\n",
       ".list-inline>li {display: inline-block}\n",
       ".list-inline>li:not(:last-child)::after {content: \"\\00b7\"; padding: 0 .5ex}\n",
       "</style>\n",
       "<ol class=list-inline><li>'Barbadori'</li><li>'Bischeri'</li><li>'Castellani'</li><li>'Peruzzi'</li><li>'Strozzi'</li></ol>\n",
       "</dd>\n",
       "\t<dt>$`4`</dt>\n",
       "\t\t<dd>'Pucci'</dd>\n",
       "</dl>\n"
      ],
      "text/latex": [
       "\\begin{description}\n",
       "\\item[\\$`1`] \\begin{enumerate*}\n",
       "\\item 'Acciaiuoli'\n",
       "\\item 'Medici'\n",
       "\\item 'Pazzi'\n",
       "\\item 'Ridolfi'\n",
       "\\item 'Salviati'\n",
       "\\item 'Tornabuoni'\n",
       "\\end{enumerate*}\n",
       "\n",
       "\\item[\\$`2`] \\begin{enumerate*}\n",
       "\\item 'Albizzi'\n",
       "\\item 'Ginori'\n",
       "\\item 'Guadagni'\n",
       "\\item 'Lamberteschi'\n",
       "\\end{enumerate*}\n",
       "\n",
       "\\item[\\$`3`] \\begin{enumerate*}\n",
       "\\item 'Barbadori'\n",
       "\\item 'Bischeri'\n",
       "\\item 'Castellani'\n",
       "\\item 'Peruzzi'\n",
       "\\item 'Strozzi'\n",
       "\\end{enumerate*}\n",
       "\n",
       "\\item[\\$`4`] 'Pucci'\n",
       "\\end{description}\n"
      ],
      "text/markdown": [
       "$`1`\n",
       ":   1. 'Acciaiuoli'\n",
       "2. 'Medici'\n",
       "3. 'Pazzi'\n",
       "4. 'Ridolfi'\n",
       "5. 'Salviati'\n",
       "6. 'Tornabuoni'\n",
       "\n",
       "\n",
       "\n",
       "$`2`\n",
       ":   1. 'Albizzi'\n",
       "2. 'Ginori'\n",
       "3. 'Guadagni'\n",
       "4. 'Lamberteschi'\n",
       "\n",
       "\n",
       "\n",
       "$`3`\n",
       ":   1. 'Barbadori'\n",
       "2. 'Bischeri'\n",
       "3. 'Castellani'\n",
       "4. 'Peruzzi'\n",
       "5. 'Strozzi'\n",
       "\n",
       "\n",
       "\n",
       "$`4`\n",
       ":   'Pucci'\n",
       "\n",
       "\n"
      ],
      "text/plain": [
       "$`1`\n",
       "[1] \"Acciaiuoli\" \"Medici\"     \"Pazzi\"      \"Ridolfi\"    \"Salviati\"  \n",
       "[6] \"Tornabuoni\"\n",
       "\n",
       "$`2`\n",
       "[1] \"Albizzi\"      \"Ginori\"       \"Guadagni\"     \"Lamberteschi\"\n",
       "\n",
       "$`3`\n",
       "[1] \"Barbadori\"  \"Bischeri\"   \"Castellani\" \"Peruzzi\"    \"Strozzi\"   \n",
       "\n",
       "$`4`\n",
       "[1] \"Pucci\"\n"
      ]
     },
     "metadata": {},
     "output_type": "display_data"
    },
    {
     "data": {
      "text/html": [
       "0.39875"
      ],
      "text/latex": [
       "0.39875"
      ],
      "text/markdown": [
       "0.39875"
      ],
      "text/plain": [
       "[1] 0.39875"
      ]
     },
     "metadata": {},
     "output_type": "display_data"
    },
    {
     "data": {
      "image/png": "[encoded data removed]",
      "text/plain": [
       "Plot with title \"\""
      ]
     },
     "metadata": {
      "image/png": {
       "height": 420,
       "width": 420
      }
     },
     "output_type": "display_data"
    }
   ],
   "source": [
    "louv_c<-cluster_louvain(flor)\n",
    "communities(louv_c)\n",
    "modularity(louv_c)\n",
    "plot(louv_c, flor)"
   ]
  },
  {
   "cell_type": "markdown",
   "metadata": {},
   "source": [
    "__Optimal__.\n",
    "Данный алгоритм, как и Louvain основан на максимизации модулярности. Задача максимизации сводится к задаче целочисленного программирования. Как именно решается данная задача в реализации R - не понятно, в документации лишь сказано, что решение получается при помощи GNU Linear Programming Kit."
   ]
  },
  {
   "cell_type": "code",
   "execution_count": 6,
   "metadata": {},
   "outputs": [
    {
     "data": {
      "text/html": [
       "<dl>\n",
       "\t<dt>$`1`</dt>\n",
       "\t\t<dd><style>\n",
       ".list-inline {list-style: none; margin:0; padding: 0}\n",
       ".list-inline>li {display: inline-block}\n",
       ".list-inline>li:not(:last-child)::after {content: \"\\00b7\"; padding: 0 .5ex}\n",
       "</style>\n",
       "<ol class=list-inline><li>'Acciaiuoli'</li><li>'Medici'</li><li>'Pazzi'</li><li>'Ridolfi'</li><li>'Salviati'</li><li>'Tornabuoni'</li></ol>\n",
       "</dd>\n",
       "\t<dt>$`2`</dt>\n",
       "\t\t<dd><style>\n",
       ".list-inline {list-style: none; margin:0; padding: 0}\n",
       ".list-inline>li {display: inline-block}\n",
       ".list-inline>li:not(:last-child)::after {content: \"\\00b7\"; padding: 0 .5ex}\n",
       "</style>\n",
       "<ol class=list-inline><li>'Albizzi'</li><li>'Ginori'</li><li>'Guadagni'</li><li>'Lamberteschi'</li></ol>\n",
       "</dd>\n",
       "\t<dt>$`3`</dt>\n",
       "\t\t<dd><style>\n",
       ".list-inline {list-style: none; margin:0; padding: 0}\n",
       ".list-inline>li {display: inline-block}\n",
       ".list-inline>li:not(:last-child)::after {content: \"\\00b7\"; padding: 0 .5ex}\n",
       "</style>\n",
       "<ol class=list-inline><li>'Barbadori'</li><li>'Bischeri'</li><li>'Castellani'</li><li>'Peruzzi'</li><li>'Strozzi'</li></ol>\n",
       "</dd>\n",
       "\t<dt>$`4`</dt>\n",
       "\t\t<dd>'Pucci'</dd>\n",
       "</dl>\n"
      ],
      "text/latex": [
       "\\begin{description}\n",
       "\\item[\\$`1`] \\begin{enumerate*}\n",
       "\\item 'Acciaiuoli'\n",
       "\\item 'Medici'\n",
       "\\item 'Pazzi'\n",
       "\\item 'Ridolfi'\n",
       "\\item 'Salviati'\n",
       "\\item 'Tornabuoni'\n",
       "\\end{enumerate*}\n",
       "\n",
       "\\item[\\$`2`] \\begin{enumerate*}\n",
       "\\item 'Albizzi'\n",
       "\\item 'Ginori'\n",
       "\\item 'Guadagni'\n",
       "\\item 'Lamberteschi'\n",
       "\\end{enumerate*}\n",
       "\n",
       "\\item[\\$`3`] \\begin{enumerate*}\n",
       "\\item 'Barbadori'\n",
       "\\item 'Bischeri'\n",
       "\\item 'Castellani'\n",
       "\\item 'Peruzzi'\n",
       "\\item 'Strozzi'\n",
       "\\end{enumerate*}\n",
       "\n",
       "\\item[\\$`4`] 'Pucci'\n",
       "\\end{description}\n"
      ],
      "text/markdown": [
       "$`1`\n",
       ":   1. 'Acciaiuoli'\n",
       "2. 'Medici'\n",
       "3. 'Pazzi'\n",
       "4. 'Ridolfi'\n",
       "5. 'Salviati'\n",
       "6. 'Tornabuoni'\n",
       "\n",
       "\n",
       "\n",
       "$`2`\n",
       ":   1. 'Albizzi'\n",
       "2. 'Ginori'\n",
       "3. 'Guadagni'\n",
       "4. 'Lamberteschi'\n",
       "\n",
       "\n",
       "\n",
       "$`3`\n",
       ":   1. 'Barbadori'\n",
       "2. 'Bischeri'\n",
       "3. 'Castellani'\n",
       "4. 'Peruzzi'\n",
       "5. 'Strozzi'\n",
       "\n",
       "\n",
       "\n",
       "$`4`\n",
       ":   'Pucci'\n",
       "\n",
       "\n"
      ],
      "text/plain": [
       "$`1`\n",
       "[1] \"Acciaiuoli\" \"Medici\"     \"Pazzi\"      \"Ridolfi\"    \"Salviati\"  \n",
       "[6] \"Tornabuoni\"\n",
       "\n",
       "$`2`\n",
       "[1] \"Albizzi\"      \"Ginori\"       \"Guadagni\"     \"Lamberteschi\"\n",
       "\n",
       "$`3`\n",
       "[1] \"Barbadori\"  \"Bischeri\"   \"Castellani\" \"Peruzzi\"    \"Strozzi\"   \n",
       "\n",
       "$`4`\n",
       "[1] \"Pucci\"\n"
      ]
     },
     "metadata": {},
     "output_type": "display_data"
    },
    {
     "data": {
      "text/html": [
       "0.39875"
      ],
      "text/latex": [
       "0.39875"
      ],
      "text/markdown": [
       "0.39875"
      ],
      "text/plain": [
       "[1] 0.39875"
      ]
     },
     "metadata": {},
     "output_type": "display_data"
    },
    {
     "data": {
      "image/png": "[encoded data removed]",
      "text/plain": [
       "Plot with title \"\""
      ]
     },
     "metadata": {
      "image/png": {
       "height": 420,
       "width": 420
      }
     },
     "output_type": "display_data"
    }
   ],
   "source": [
    "opt_c<- cluster_optimal(flor)\n",
    "communities(opt_c)\n",
    "modularity(opt_c)\n",
    "plot(opt_c, flor)"
   ]
  },
  {
   "cell_type": "markdown",
   "metadata": {},
   "source": [
    "> Выводы: в сети флорентийских семей можно выделить 4-5 сообществ (в зависимости от алгоритма)"
   ]
  },
  {
   "cell_type": "markdown",
   "metadata": {
    "id": "T17OR6eDNYrq"
   },
   "source": [
    "4. Из файла ceo.csv извлечь матрицу инцидентности с помощью соответствующих функций. Отобразить полученную матрицу."
   ]
  },
  {
   "cell_type": "code",
   "execution_count": 7,
   "metadata": {
    "id": "FOEqaiSHNYrq",
    "outputId": "ea8caaff-0231-47ca-b3b2-2cbe46696aba"
   },
   "outputs": [
    {
     "data": {
      "text/html": [
       "<table class=\"dataframe\">\n",
       "<caption>A matrix: 26 × 15 of type int</caption>\n",
       "<thead>\n",
       "\t<tr><th scope=col>V1</th><th scope=col>V2</th><th scope=col>V3</th><th scope=col>V4</th><th scope=col>V5</th><th scope=col>V6</th><th scope=col>V7</th><th scope=col>V8</th><th scope=col>V9</th><th scope=col>V10</th><th scope=col>V11</th><th scope=col>V12</th><th scope=col>V13</th><th scope=col>V14</th><th scope=col>V15</th></tr>\n",
       "</thead>\n",
       "<tbody>\n",
       "\t<tr><td>0</td><td>0</td><td>1</td><td>1</td><td>0</td><td>0</td><td>0</td><td>0</td><td>1</td><td>0</td><td>0</td><td>0</td><td>0</td><td>0</td><td>0</td></tr>\n",
       "\t<tr><td>0</td><td>0</td><td>1</td><td>0</td><td>1</td><td>0</td><td>1</td><td>0</td><td>0</td><td>0</td><td>0</td><td>0</td><td>0</td><td>0</td><td>0</td></tr>\n",
       "\t<tr><td>0</td><td>0</td><td>1</td><td>0</td><td>0</td><td>0</td><td>0</td><td>0</td><td>0</td><td>0</td><td>0</td><td>1</td><td>0</td><td>0</td><td>0</td></tr>\n",
       "\t<tr><td>0</td><td>1</td><td>1</td><td>0</td><td>0</td><td>0</td><td>0</td><td>0</td><td>0</td><td>0</td><td>0</td><td>0</td><td>0</td><td>0</td><td>1</td></tr>\n",
       "\t<tr><td>0</td><td>0</td><td>1</td><td>0</td><td>0</td><td>0</td><td>0</td><td>0</td><td>0</td><td>0</td><td>0</td><td>0</td><td>1</td><td>1</td><td>0</td></tr>\n",
       "\t<tr><td>0</td><td>1</td><td>1</td><td>0</td><td>0</td><td>0</td><td>0</td><td>0</td><td>0</td><td>0</td><td>0</td><td>0</td><td>0</td><td>1</td><td>0</td></tr>\n",
       "\t<tr><td>0</td><td>0</td><td>1</td><td>1</td><td>0</td><td>0</td><td>0</td><td>0</td><td>0</td><td>1</td><td>1</td><td>0</td><td>0</td><td>0</td><td>0</td></tr>\n",
       "\t<tr><td>0</td><td>0</td><td>0</td><td>1</td><td>0</td><td>0</td><td>1</td><td>0</td><td>0</td><td>1</td><td>0</td><td>0</td><td>0</td><td>0</td><td>0</td></tr>\n",
       "\t<tr><td>1</td><td>0</td><td>0</td><td>1</td><td>0</td><td>0</td><td>0</td><td>1</td><td>0</td><td>1</td><td>0</td><td>0</td><td>0</td><td>0</td><td>0</td></tr>\n",
       "\t<tr><td>0</td><td>0</td><td>1</td><td>0</td><td>0</td><td>0</td><td>0</td><td>0</td><td>1</td><td>0</td><td>0</td><td>0</td><td>0</td><td>0</td><td>0</td></tr>\n",
       "\t<tr><td>0</td><td>1</td><td>1</td><td>0</td><td>0</td><td>0</td><td>0</td><td>0</td><td>1</td><td>0</td><td>0</td><td>0</td><td>0</td><td>0</td><td>0</td></tr>\n",
       "\t<tr><td>0</td><td>0</td><td>0</td><td>1</td><td>0</td><td>0</td><td>1</td><td>0</td><td>0</td><td>0</td><td>0</td><td>0</td><td>0</td><td>0</td><td>0</td></tr>\n",
       "\t<tr><td>0</td><td>0</td><td>1</td><td>1</td><td>1</td><td>0</td><td>0</td><td>0</td><td>1</td><td>0</td><td>0</td><td>0</td><td>0</td><td>0</td><td>0</td></tr>\n",
       "\t<tr><td>0</td><td>1</td><td>1</td><td>1</td><td>0</td><td>0</td><td>0</td><td>0</td><td>0</td><td>0</td><td>1</td><td>1</td><td>1</td><td>0</td><td>1</td></tr>\n",
       "\t<tr><td>0</td><td>1</td><td>1</td><td>0</td><td>0</td><td>1</td><td>0</td><td>0</td><td>0</td><td>0</td><td>0</td><td>0</td><td>1</td><td>0</td><td>1</td></tr>\n",
       "\t<tr><td>0</td><td>1</td><td>1</td><td>0</td><td>0</td><td>1</td><td>0</td><td>1</td><td>0</td><td>0</td><td>0</td><td>0</td><td>0</td><td>1</td><td>0</td></tr>\n",
       "\t<tr><td>0</td><td>1</td><td>1</td><td>0</td><td>1</td><td>0</td><td>0</td><td>0</td><td>0</td><td>0</td><td>1</td><td>1</td><td>0</td><td>0</td><td>1</td></tr>\n",
       "\t<tr><td>0</td><td>0</td><td>0</td><td>1</td><td>0</td><td>0</td><td>0</td><td>0</td><td>1</td><td>0</td><td>0</td><td>1</td><td>1</td><td>0</td><td>1</td></tr>\n",
       "\t<tr><td>1</td><td>0</td><td>1</td><td>1</td><td>0</td><td>0</td><td>1</td><td>0</td><td>1</td><td>0</td><td>0</td><td>0</td><td>0</td><td>0</td><td>0</td></tr>\n",
       "\t<tr><td>0</td><td>1</td><td>1</td><td>1</td><td>0</td><td>0</td><td>0</td><td>0</td><td>0</td><td>0</td><td>1</td><td>0</td><td>0</td><td>0</td><td>1</td></tr>\n",
       "\t<tr><td>0</td><td>0</td><td>1</td><td>1</td><td>0</td><td>0</td><td>0</td><td>1</td><td>0</td><td>0</td><td>0</td><td>0</td><td>0</td><td>0</td><td>0</td></tr>\n",
       "\t<tr><td>0</td><td>0</td><td>1</td><td>0</td><td>0</td><td>0</td><td>0</td><td>1</td><td>0</td><td>0</td><td>0</td><td>0</td><td>0</td><td>0</td><td>1</td></tr>\n",
       "\t<tr><td>0</td><td>1</td><td>1</td><td>0</td><td>0</td><td>1</td><td>0</td><td>0</td><td>0</td><td>0</td><td>0</td><td>0</td><td>0</td><td>0</td><td>1</td></tr>\n",
       "\t<tr><td>1</td><td>0</td><td>1</td><td>1</td><td>0</td><td>1</td><td>0</td><td>0</td><td>0</td><td>0</td><td>0</td><td>0</td><td>0</td><td>0</td><td>1</td></tr>\n",
       "\t<tr><td>0</td><td>1</td><td>1</td><td>0</td><td>0</td><td>0</td><td>0</td><td>0</td><td>0</td><td>0</td><td>0</td><td>0</td><td>1</td><td>0</td><td>0</td></tr>\n",
       "\t<tr><td>0</td><td>1</td><td>1</td><td>0</td><td>0</td><td>0</td><td>0</td><td>0</td><td>0</td><td>0</td><td>0</td><td>1</td><td>0</td><td>0</td><td>0</td></tr>\n",
       "</tbody>\n",
       "</table>\n"
      ],
      "text/latex": [
       "A matrix: 26 × 15 of type int\n",
       "\\begin{tabular}{lllllllllllllll}\n",
       " V1 & V2 & V3 & V4 & V5 & V6 & V7 & V8 & V9 & V10 & V11 & V12 & V13 & V14 & V15\\\\\n",
       "\\hline\n",
       "\t 0 & 0 & 1 & 1 & 0 & 0 & 0 & 0 & 1 & 0 & 0 & 0 & 0 & 0 & 0\\\\\n",
       "\t 0 & 0 & 1 & 0 & 1 & 0 & 1 & 0 & 0 & 0 & 0 & 0 & 0 & 0 & 0\\\\\n",
       "\t 0 & 0 & 1 & 0 & 0 & 0 & 0 & 0 & 0 & 0 & 0 & 1 & 0 & 0 & 0\\\\\n",
       "\t 0 & 1 & 1 & 0 & 0 & 0 & 0 & 0 & 0 & 0 & 0 & 0 & 0 & 0 & 1\\\\\n",
       "\t 0 & 0 & 1 & 0 & 0 & 0 & 0 & 0 & 0 & 0 & 0 & 0 & 1 & 1 & 0\\\\\n",
       "\t 0 & 1 & 1 & 0 & 0 & 0 & 0 & 0 & 0 & 0 & 0 & 0 & 0 & 1 & 0\\\\\n",
       "\t 0 & 0 & 1 & 1 & 0 & 0 & 0 & 0 & 0 & 1 & 1 & 0 & 0 & 0 & 0\\\\\n",
       "\t 0 & 0 & 0 & 1 & 0 & 0 & 1 & 0 & 0 & 1 & 0 & 0 & 0 & 0 & 0\\\\\n",
       "\t 1 & 0 & 0 & 1 & 0 & 0 & 0 & 1 & 0 & 1 & 0 & 0 & 0 & 0 & 0\\\\\n",
       "\t 0 & 0 & 1 & 0 & 0 & 0 & 0 & 0 & 1 & 0 & 0 & 0 & 0 & 0 & 0\\\\\n",
       "\t 0 & 1 & 1 & 0 & 0 & 0 & 0 & 0 & 1 & 0 & 0 & 0 & 0 & 0 & 0\\\\\n",
       "\t 0 & 0 & 0 & 1 & 0 & 0 & 1 & 0 & 0 & 0 & 0 & 0 & 0 & 0 & 0\\\\\n",
       "\t 0 & 0 & 1 & 1 & 1 & 0 & 0 & 0 & 1 & 0 & 0 & 0 & 0 & 0 & 0\\\\\n",
       "\t 0 & 1 & 1 & 1 & 0 & 0 & 0 & 0 & 0 & 0 & 1 & 1 & 1 & 0 & 1\\\\\n",
       "\t 0 & 1 & 1 & 0 & 0 & 1 & 0 & 0 & 0 & 0 & 0 & 0 & 1 & 0 & 1\\\\\n",
       "\t 0 & 1 & 1 & 0 & 0 & 1 & 0 & 1 & 0 & 0 & 0 & 0 & 0 & 1 & 0\\\\\n",
       "\t 0 & 1 & 1 & 0 & 1 & 0 & 0 & 0 & 0 & 0 & 1 & 1 & 0 & 0 & 1\\\\\n",
       "\t 0 & 0 & 0 & 1 & 0 & 0 & 0 & 0 & 1 & 0 & 0 & 1 & 1 & 0 & 1\\\\\n",
       "\t 1 & 0 & 1 & 1 & 0 & 0 & 1 & 0 & 1 & 0 & 0 & 0 & 0 & 0 & 0\\\\\n",
       "\t 0 & 1 & 1 & 1 & 0 & 0 & 0 & 0 & 0 & 0 & 1 & 0 & 0 & 0 & 1\\\\\n",
       "\t 0 & 0 & 1 & 1 & 0 & 0 & 0 & 1 & 0 & 0 & 0 & 0 & 0 & 0 & 0\\\\\n",
       "\t 0 & 0 & 1 & 0 & 0 & 0 & 0 & 1 & 0 & 0 & 0 & 0 & 0 & 0 & 1\\\\\n",
       "\t 0 & 1 & 1 & 0 & 0 & 1 & 0 & 0 & 0 & 0 & 0 & 0 & 0 & 0 & 1\\\\\n",
       "\t 1 & 0 & 1 & 1 & 0 & 1 & 0 & 0 & 0 & 0 & 0 & 0 & 0 & 0 & 1\\\\\n",
       "\t 0 & 1 & 1 & 0 & 0 & 0 & 0 & 0 & 0 & 0 & 0 & 0 & 1 & 0 & 0\\\\\n",
       "\t 0 & 1 & 1 & 0 & 0 & 0 & 0 & 0 & 0 & 0 & 0 & 1 & 0 & 0 & 0\\\\\n",
       "\\end{tabular}\n"
      ],
      "text/markdown": [
       "\n",
       "A matrix: 26 × 15 of type int\n",
       "\n",
       "| V1 | V2 | V3 | V4 | V5 | V6 | V7 | V8 | V9 | V10 | V11 | V12 | V13 | V14 | V15 |\n",
       "|---|---|---|---|---|---|---|---|---|---|---|---|---|---|---|\n",
       "| 0 | 0 | 1 | 1 | 0 | 0 | 0 | 0 | 1 | 0 | 0 | 0 | 0 | 0 | 0 |\n",
       "| 0 | 0 | 1 | 0 | 1 | 0 | 1 | 0 | 0 | 0 | 0 | 0 | 0 | 0 | 0 |\n",
       "| 0 | 0 | 1 | 0 | 0 | 0 | 0 | 0 | 0 | 0 | 0 | 1 | 0 | 0 | 0 |\n",
       "| 0 | 1 | 1 | 0 | 0 | 0 | 0 | 0 | 0 | 0 | 0 | 0 | 0 | 0 | 1 |\n",
       "| 0 | 0 | 1 | 0 | 0 | 0 | 0 | 0 | 0 | 0 | 0 | 0 | 1 | 1 | 0 |\n",
       "| 0 | 1 | 1 | 0 | 0 | 0 | 0 | 0 | 0 | 0 | 0 | 0 | 0 | 1 | 0 |\n",
       "| 0 | 0 | 1 | 1 | 0 | 0 | 0 | 0 | 0 | 1 | 1 | 0 | 0 | 0 | 0 |\n",
       "| 0 | 0 | 0 | 1 | 0 | 0 | 1 | 0 | 0 | 1 | 0 | 0 | 0 | 0 | 0 |\n",
       "| 1 | 0 | 0 | 1 | 0 | 0 | 0 | 1 | 0 | 1 | 0 | 0 | 0 | 0 | 0 |\n",
       "| 0 | 0 | 1 | 0 | 0 | 0 | 0 | 0 | 1 | 0 | 0 | 0 | 0 | 0 | 0 |\n",
       "| 0 | 1 | 1 | 0 | 0 | 0 | 0 | 0 | 1 | 0 | 0 | 0 | 0 | 0 | 0 |\n",
       "| 0 | 0 | 0 | 1 | 0 | 0 | 1 | 0 | 0 | 0 | 0 | 0 | 0 | 0 | 0 |\n",
       "| 0 | 0 | 1 | 1 | 1 | 0 | 0 | 0 | 1 | 0 | 0 | 0 | 0 | 0 | 0 |\n",
       "| 0 | 1 | 1 | 1 | 0 | 0 | 0 | 0 | 0 | 0 | 1 | 1 | 1 | 0 | 1 |\n",
       "| 0 | 1 | 1 | 0 | 0 | 1 | 0 | 0 | 0 | 0 | 0 | 0 | 1 | 0 | 1 |\n",
       "| 0 | 1 | 1 | 0 | 0 | 1 | 0 | 1 | 0 | 0 | 0 | 0 | 0 | 1 | 0 |\n",
       "| 0 | 1 | 1 | 0 | 1 | 0 | 0 | 0 | 0 | 0 | 1 | 1 | 0 | 0 | 1 |\n",
       "| 0 | 0 | 0 | 1 | 0 | 0 | 0 | 0 | 1 | 0 | 0 | 1 | 1 | 0 | 1 |\n",
       "| 1 | 0 | 1 | 1 | 0 | 0 | 1 | 0 | 1 | 0 | 0 | 0 | 0 | 0 | 0 |\n",
       "| 0 | 1 | 1 | 1 | 0 | 0 | 0 | 0 | 0 | 0 | 1 | 0 | 0 | 0 | 1 |\n",
       "| 0 | 0 | 1 | 1 | 0 | 0 | 0 | 1 | 0 | 0 | 0 | 0 | 0 | 0 | 0 |\n",
       "| 0 | 0 | 1 | 0 | 0 | 0 | 0 | 1 | 0 | 0 | 0 | 0 | 0 | 0 | 1 |\n",
       "| 0 | 1 | 1 | 0 | 0 | 1 | 0 | 0 | 0 | 0 | 0 | 0 | 0 | 0 | 1 |\n",
       "| 1 | 0 | 1 | 1 | 0 | 1 | 0 | 0 | 0 | 0 | 0 | 0 | 0 | 0 | 1 |\n",
       "| 0 | 1 | 1 | 0 | 0 | 0 | 0 | 0 | 0 | 0 | 0 | 0 | 1 | 0 | 0 |\n",
       "| 0 | 1 | 1 | 0 | 0 | 0 | 0 | 0 | 0 | 0 | 0 | 1 | 0 | 0 | 0 |\n",
       "\n"
      ],
      "text/plain": [
       "      V1 V2 V3 V4 V5 V6 V7 V8 V9 V10 V11 V12 V13 V14 V15\n",
       " [1,] 0  0  1  1  0  0  0  0  1  0   0   0   0   0   0  \n",
       " [2,] 0  0  1  0  1  0  1  0  0  0   0   0   0   0   0  \n",
       " [3,] 0  0  1  0  0  0  0  0  0  0   0   1   0   0   0  \n",
       " [4,] 0  1  1  0  0  0  0  0  0  0   0   0   0   0   1  \n",
       " [5,] 0  0  1  0  0  0  0  0  0  0   0   0   1   1   0  \n",
       " [6,] 0  1  1  0  0  0  0  0  0  0   0   0   0   1   0  \n",
       " [7,] 0  0  1  1  0  0  0  0  0  1   1   0   0   0   0  \n",
       " [8,] 0  0  0  1  0  0  1  0  0  1   0   0   0   0   0  \n",
       " [9,] 1  0  0  1  0  0  0  1  0  1   0   0   0   0   0  \n",
       "[10,] 0  0  1  0  0  0  0  0  1  0   0   0   0   0   0  \n",
       "[11,] 0  1  1  0  0  0  0  0  1  0   0   0   0   0   0  \n",
       "[12,] 0  0  0  1  0  0  1  0  0  0   0   0   0   0   0  \n",
       "[13,] 0  0  1  1  1  0  0  0  1  0   0   0   0   0   0  \n",
       "[14,] 0  1  1  1  0  0  0  0  0  0   1   1   1   0   1  \n",
       "[15,] 0  1  1  0  0  1  0  0  0  0   0   0   1   0   1  \n",
       "[16,] 0  1  1  0  0  1  0  1  0  0   0   0   0   1   0  \n",
       "[17,] 0  1  1  0  1  0  0  0  0  0   1   1   0   0   1  \n",
       "[18,] 0  0  0  1  0  0  0  0  1  0   0   1   1   0   1  \n",
       "[19,] 1  0  1  1  0  0  1  0  1  0   0   0   0   0   0  \n",
       "[20,] 0  1  1  1  0  0  0  0  0  0   1   0   0   0   1  \n",
       "[21,] 0  0  1  1  0  0  0  1  0  0   0   0   0   0   0  \n",
       "[22,] 0  0  1  0  0  0  0  1  0  0   0   0   0   0   1  \n",
       "[23,] 0  1  1  0  0  1  0  0  0  0   0   0   0   0   1  \n",
       "[24,] 1  0  1  1  0  1  0  0  0  0   0   0   0   0   1  \n",
       "[25,] 0  1  1  0  0  0  0  0  0  0   0   0   1   0   0  \n",
       "[26,] 0  1  1  0  0  0  0  0  0  0   0   1   0   0   0  "
      ]
     },
     "metadata": {},
     "output_type": "display_data"
    }
   ],
   "source": [
    "matr <- data.matrix(read.csv('ceo.csv', header = FALSE))\n",
    "matr"
   ]
  },
  {
   "cell_type": "markdown",
   "metadata": {
    "id": "mH_55DBHNYrq"
   },
   "source": [
    "5. Отобразить сеть в виде биграфа."
   ]
  },
  {
   "cell_type": "code",
   "execution_count": 8,
   "metadata": {
    "id": "YcX-OQgMNYrr",
    "outputId": "ecb0fa9d-da87-40ba-da19-1660cad563ff"
   },
   "outputs": [
    {
     "data": {
      "image/png": "[encoded data removed]",
      "text/plain": [
       "Plot with title \"\""
      ]
     },
     "metadata": {
      "image/png": {
       "height": 420,
       "width": 420
      }
     },
     "output_type": "display_data"
    }
   ],
   "source": [
    "ceo <- graph.incidence(matr, mode = \"all\")\n",
    "l <- length(V(ceo))\n",
    "colors <- rep(\"red\", l)\n",
    "colors[unlist(V(ceo)$type)] <- \"green\"\n",
    "plot(ceo, vertex.color=colors, layout=layout_with_fr)"
   ]
  },
  {
   "cell_type": "markdown",
   "metadata": {
    "id": "6smaET66NYrr"
   },
   "source": [
    "7. Представить сеть аффилированности в виде двух одномодальных сетей: сеть соучастия и сеть перекрытия событий. Представить полученные сети в виде ценностных матриц и взвешенных графов. Сделать выводы."
   ]
  },
  {
   "cell_type": "code",
   "execution_count": 9,
   "metadata": {
    "id": "1cxQDUo6NYrr",
    "outputId": "fd674298-ccbd-4c1e-9765-60a015fbd2e7"
   },
   "outputs": [
    {
     "data": {
      "text/html": [
       "<table class=\"dataframe\">\n",
       "<caption>A matrix: 26 × 26 of type dbl</caption>\n",
       "<tbody>\n",
       "\t<tr><td>3</td><td>1</td><td>1</td><td>1</td><td>1</td><td>1</td><td>2</td><td>1</td><td>1</td><td>2</td><td>⋯</td><td>1</td><td>2</td><td>3</td><td>2</td><td>2</td><td>1</td><td>1</td><td>2</td><td>1</td><td>1</td></tr>\n",
       "\t<tr><td>1</td><td>3</td><td>1</td><td>1</td><td>1</td><td>1</td><td>1</td><td>1</td><td>0</td><td>1</td><td>⋯</td><td>2</td><td>0</td><td>2</td><td>1</td><td>1</td><td>1</td><td>1</td><td>1</td><td>1</td><td>1</td></tr>\n",
       "\t<tr><td>1</td><td>1</td><td>2</td><td>1</td><td>1</td><td>1</td><td>1</td><td>0</td><td>0</td><td>1</td><td>⋯</td><td>2</td><td>1</td><td>1</td><td>1</td><td>1</td><td>1</td><td>1</td><td>1</td><td>1</td><td>2</td></tr>\n",
       "\t<tr><td>1</td><td>1</td><td>1</td><td>3</td><td>1</td><td>2</td><td>1</td><td>0</td><td>0</td><td>1</td><td>⋯</td><td>3</td><td>1</td><td>1</td><td>3</td><td>1</td><td>2</td><td>3</td><td>2</td><td>2</td><td>2</td></tr>\n",
       "\t<tr><td>1</td><td>1</td><td>1</td><td>1</td><td>3</td><td>2</td><td>1</td><td>0</td><td>0</td><td>1</td><td>⋯</td><td>1</td><td>1</td><td>1</td><td>1</td><td>1</td><td>1</td><td>1</td><td>1</td><td>2</td><td>1</td></tr>\n",
       "\t<tr><td>1</td><td>1</td><td>1</td><td>2</td><td>2</td><td>3</td><td>1</td><td>0</td><td>0</td><td>1</td><td>⋯</td><td>2</td><td>0</td><td>1</td><td>2</td><td>1</td><td>1</td><td>2</td><td>1</td><td>2</td><td>2</td></tr>\n",
       "\t<tr><td>2</td><td>1</td><td>1</td><td>1</td><td>1</td><td>1</td><td>4</td><td>2</td><td>2</td><td>1</td><td>⋯</td><td>2</td><td>1</td><td>2</td><td>3</td><td>2</td><td>1</td><td>1</td><td>2</td><td>1</td><td>1</td></tr>\n",
       "\t<tr><td>1</td><td>1</td><td>0</td><td>0</td><td>0</td><td>0</td><td>2</td><td>3</td><td>2</td><td>0</td><td>⋯</td><td>0</td><td>1</td><td>2</td><td>1</td><td>1</td><td>0</td><td>0</td><td>1</td><td>0</td><td>0</td></tr>\n",
       "\t<tr><td>1</td><td>0</td><td>0</td><td>0</td><td>0</td><td>0</td><td>2</td><td>2</td><td>4</td><td>0</td><td>⋯</td><td>0</td><td>1</td><td>2</td><td>1</td><td>2</td><td>1</td><td>0</td><td>2</td><td>0</td><td>0</td></tr>\n",
       "\t<tr><td>2</td><td>1</td><td>1</td><td>1</td><td>1</td><td>1</td><td>1</td><td>0</td><td>0</td><td>2</td><td>⋯</td><td>1</td><td>1</td><td>2</td><td>1</td><td>1</td><td>1</td><td>1</td><td>1</td><td>1</td><td>1</td></tr>\n",
       "\t<tr><td>2</td><td>1</td><td>1</td><td>2</td><td>1</td><td>2</td><td>1</td><td>0</td><td>0</td><td>2</td><td>⋯</td><td>2</td><td>1</td><td>2</td><td>2</td><td>1</td><td>1</td><td>2</td><td>1</td><td>2</td><td>2</td></tr>\n",
       "\t<tr><td>1</td><td>1</td><td>0</td><td>0</td><td>0</td><td>0</td><td>1</td><td>2</td><td>1</td><td>0</td><td>⋯</td><td>0</td><td>1</td><td>2</td><td>1</td><td>1</td><td>0</td><td>0</td><td>1</td><td>0</td><td>0</td></tr>\n",
       "\t<tr><td>3</td><td>2</td><td>1</td><td>1</td><td>1</td><td>1</td><td>2</td><td>1</td><td>1</td><td>2</td><td>⋯</td><td>2</td><td>2</td><td>3</td><td>2</td><td>2</td><td>1</td><td>1</td><td>2</td><td>1</td><td>1</td></tr>\n",
       "\t<tr><td>2</td><td>1</td><td>2</td><td>3</td><td>2</td><td>2</td><td>3</td><td>1</td><td>1</td><td>1</td><td>⋯</td><td>5</td><td>4</td><td>2</td><td>5</td><td>2</td><td>2</td><td>3</td><td>3</td><td>3</td><td>3</td></tr>\n",
       "\t<tr><td>1</td><td>1</td><td>1</td><td>3</td><td>2</td><td>2</td><td>1</td><td>0</td><td>0</td><td>1</td><td>⋯</td><td>3</td><td>2</td><td>1</td><td>3</td><td>1</td><td>2</td><td>4</td><td>3</td><td>3</td><td>2</td></tr>\n",
       "\t<tr><td>1</td><td>1</td><td>1</td><td>2</td><td>2</td><td>3</td><td>1</td><td>0</td><td>1</td><td>1</td><td>⋯</td><td>2</td><td>0</td><td>1</td><td>2</td><td>2</td><td>2</td><td>3</td><td>2</td><td>2</td><td>2</td></tr>\n",
       "\t<tr><td>1</td><td>2</td><td>2</td><td>3</td><td>1</td><td>2</td><td>2</td><td>0</td><td>0</td><td>1</td><td>⋯</td><td>6</td><td>2</td><td>1</td><td>4</td><td>1</td><td>2</td><td>3</td><td>2</td><td>2</td><td>3</td></tr>\n",
       "\t<tr><td>2</td><td>0</td><td>1</td><td>1</td><td>1</td><td>0</td><td>1</td><td>1</td><td>1</td><td>1</td><td>⋯</td><td>2</td><td>5</td><td>2</td><td>2</td><td>1</td><td>1</td><td>1</td><td>2</td><td>1</td><td>1</td></tr>\n",
       "\t<tr><td>3</td><td>2</td><td>1</td><td>1</td><td>1</td><td>1</td><td>2</td><td>2</td><td>2</td><td>2</td><td>⋯</td><td>1</td><td>2</td><td>5</td><td>2</td><td>2</td><td>1</td><td>1</td><td>3</td><td>1</td><td>1</td></tr>\n",
       "\t<tr><td>2</td><td>1</td><td>1</td><td>3</td><td>1</td><td>2</td><td>3</td><td>1</td><td>1</td><td>1</td><td>⋯</td><td>4</td><td>2</td><td>2</td><td>5</td><td>2</td><td>2</td><td>3</td><td>3</td><td>2</td><td>2</td></tr>\n",
       "\t<tr><td>2</td><td>1</td><td>1</td><td>1</td><td>1</td><td>1</td><td>2</td><td>1</td><td>2</td><td>1</td><td>⋯</td><td>1</td><td>1</td><td>2</td><td>2</td><td>3</td><td>2</td><td>1</td><td>2</td><td>1</td><td>1</td></tr>\n",
       "\t<tr><td>1</td><td>1</td><td>1</td><td>2</td><td>1</td><td>1</td><td>1</td><td>0</td><td>1</td><td>1</td><td>⋯</td><td>2</td><td>1</td><td>1</td><td>2</td><td>2</td><td>3</td><td>2</td><td>2</td><td>1</td><td>1</td></tr>\n",
       "\t<tr><td>1</td><td>1</td><td>1</td><td>3</td><td>1</td><td>2</td><td>1</td><td>0</td><td>0</td><td>1</td><td>⋯</td><td>3</td><td>1</td><td>1</td><td>3</td><td>1</td><td>2</td><td>4</td><td>3</td><td>2</td><td>2</td></tr>\n",
       "\t<tr><td>2</td><td>1</td><td>1</td><td>2</td><td>1</td><td>1</td><td>2</td><td>1</td><td>2</td><td>1</td><td>⋯</td><td>2</td><td>2</td><td>3</td><td>3</td><td>2</td><td>2</td><td>3</td><td>5</td><td>1</td><td>1</td></tr>\n",
       "\t<tr><td>1</td><td>1</td><td>1</td><td>2</td><td>2</td><td>2</td><td>1</td><td>0</td><td>0</td><td>1</td><td>⋯</td><td>2</td><td>1</td><td>1</td><td>2</td><td>1</td><td>1</td><td>2</td><td>1</td><td>3</td><td>2</td></tr>\n",
       "\t<tr><td>1</td><td>1</td><td>2</td><td>2</td><td>1</td><td>2</td><td>1</td><td>0</td><td>0</td><td>1</td><td>⋯</td><td>3</td><td>1</td><td>1</td><td>2</td><td>1</td><td>1</td><td>2</td><td>1</td><td>2</td><td>3</td></tr>\n",
       "</tbody>\n",
       "</table>\n"
      ],
      "text/latex": [
       "A matrix: 26 × 26 of type dbl\n",
       "\\begin{tabular}{lllllllllllllllllllll}\n",
       "\t 3 & 1 & 1 & 1 & 1 & 1 & 2 & 1 & 1 & 2 & ⋯ & 1 & 2 & 3 & 2 & 2 & 1 & 1 & 2 & 1 & 1\\\\\n",
       "\t 1 & 3 & 1 & 1 & 1 & 1 & 1 & 1 & 0 & 1 & ⋯ & 2 & 0 & 2 & 1 & 1 & 1 & 1 & 1 & 1 & 1\\\\\n",
       "\t 1 & 1 & 2 & 1 & 1 & 1 & 1 & 0 & 0 & 1 & ⋯ & 2 & 1 & 1 & 1 & 1 & 1 & 1 & 1 & 1 & 2\\\\\n",
       "\t 1 & 1 & 1 & 3 & 1 & 2 & 1 & 0 & 0 & 1 & ⋯ & 3 & 1 & 1 & 3 & 1 & 2 & 3 & 2 & 2 & 2\\\\\n",
       "\t 1 & 1 & 1 & 1 & 3 & 2 & 1 & 0 & 0 & 1 & ⋯ & 1 & 1 & 1 & 1 & 1 & 1 & 1 & 1 & 2 & 1\\\\\n",
       "\t 1 & 1 & 1 & 2 & 2 & 3 & 1 & 0 & 0 & 1 & ⋯ & 2 & 0 & 1 & 2 & 1 & 1 & 2 & 1 & 2 & 2\\\\\n",
       "\t 2 & 1 & 1 & 1 & 1 & 1 & 4 & 2 & 2 & 1 & ⋯ & 2 & 1 & 2 & 3 & 2 & 1 & 1 & 2 & 1 & 1\\\\\n",
       "\t 1 & 1 & 0 & 0 & 0 & 0 & 2 & 3 & 2 & 0 & ⋯ & 0 & 1 & 2 & 1 & 1 & 0 & 0 & 1 & 0 & 0\\\\\n",
       "\t 1 & 0 & 0 & 0 & 0 & 0 & 2 & 2 & 4 & 0 & ⋯ & 0 & 1 & 2 & 1 & 2 & 1 & 0 & 2 & 0 & 0\\\\\n",
       "\t 2 & 1 & 1 & 1 & 1 & 1 & 1 & 0 & 0 & 2 & ⋯ & 1 & 1 & 2 & 1 & 1 & 1 & 1 & 1 & 1 & 1\\\\\n",
       "\t 2 & 1 & 1 & 2 & 1 & 2 & 1 & 0 & 0 & 2 & ⋯ & 2 & 1 & 2 & 2 & 1 & 1 & 2 & 1 & 2 & 2\\\\\n",
       "\t 1 & 1 & 0 & 0 & 0 & 0 & 1 & 2 & 1 & 0 & ⋯ & 0 & 1 & 2 & 1 & 1 & 0 & 0 & 1 & 0 & 0\\\\\n",
       "\t 3 & 2 & 1 & 1 & 1 & 1 & 2 & 1 & 1 & 2 & ⋯ & 2 & 2 & 3 & 2 & 2 & 1 & 1 & 2 & 1 & 1\\\\\n",
       "\t 2 & 1 & 2 & 3 & 2 & 2 & 3 & 1 & 1 & 1 & ⋯ & 5 & 4 & 2 & 5 & 2 & 2 & 3 & 3 & 3 & 3\\\\\n",
       "\t 1 & 1 & 1 & 3 & 2 & 2 & 1 & 0 & 0 & 1 & ⋯ & 3 & 2 & 1 & 3 & 1 & 2 & 4 & 3 & 3 & 2\\\\\n",
       "\t 1 & 1 & 1 & 2 & 2 & 3 & 1 & 0 & 1 & 1 & ⋯ & 2 & 0 & 1 & 2 & 2 & 2 & 3 & 2 & 2 & 2\\\\\n",
       "\t 1 & 2 & 2 & 3 & 1 & 2 & 2 & 0 & 0 & 1 & ⋯ & 6 & 2 & 1 & 4 & 1 & 2 & 3 & 2 & 2 & 3\\\\\n",
       "\t 2 & 0 & 1 & 1 & 1 & 0 & 1 & 1 & 1 & 1 & ⋯ & 2 & 5 & 2 & 2 & 1 & 1 & 1 & 2 & 1 & 1\\\\\n",
       "\t 3 & 2 & 1 & 1 & 1 & 1 & 2 & 2 & 2 & 2 & ⋯ & 1 & 2 & 5 & 2 & 2 & 1 & 1 & 3 & 1 & 1\\\\\n",
       "\t 2 & 1 & 1 & 3 & 1 & 2 & 3 & 1 & 1 & 1 & ⋯ & 4 & 2 & 2 & 5 & 2 & 2 & 3 & 3 & 2 & 2\\\\\n",
       "\t 2 & 1 & 1 & 1 & 1 & 1 & 2 & 1 & 2 & 1 & ⋯ & 1 & 1 & 2 & 2 & 3 & 2 & 1 & 2 & 1 & 1\\\\\n",
       "\t 1 & 1 & 1 & 2 & 1 & 1 & 1 & 0 & 1 & 1 & ⋯ & 2 & 1 & 1 & 2 & 2 & 3 & 2 & 2 & 1 & 1\\\\\n",
       "\t 1 & 1 & 1 & 3 & 1 & 2 & 1 & 0 & 0 & 1 & ⋯ & 3 & 1 & 1 & 3 & 1 & 2 & 4 & 3 & 2 & 2\\\\\n",
       "\t 2 & 1 & 1 & 2 & 1 & 1 & 2 & 1 & 2 & 1 & ⋯ & 2 & 2 & 3 & 3 & 2 & 2 & 3 & 5 & 1 & 1\\\\\n",
       "\t 1 & 1 & 1 & 2 & 2 & 2 & 1 & 0 & 0 & 1 & ⋯ & 2 & 1 & 1 & 2 & 1 & 1 & 2 & 1 & 3 & 2\\\\\n",
       "\t 1 & 1 & 2 & 2 & 1 & 2 & 1 & 0 & 0 & 1 & ⋯ & 3 & 1 & 1 & 2 & 1 & 1 & 2 & 1 & 2 & 3\\\\\n",
       "\\end{tabular}\n"
      ],
      "text/markdown": [
       "\n",
       "A matrix: 26 × 26 of type dbl\n",
       "\n",
       "| 3 | 1 | 1 | 1 | 1 | 1 | 2 | 1 | 1 | 2 | ⋯ | 1 | 2 | 3 | 2 | 2 | 1 | 1 | 2 | 1 | 1 |\n",
       "| 1 | 3 | 1 | 1 | 1 | 1 | 1 | 1 | 0 | 1 | ⋯ | 2 | 0 | 2 | 1 | 1 | 1 | 1 | 1 | 1 | 1 |\n",
       "| 1 | 1 | 2 | 1 | 1 | 1 | 1 | 0 | 0 | 1 | ⋯ | 2 | 1 | 1 | 1 | 1 | 1 | 1 | 1 | 1 | 2 |\n",
       "| 1 | 1 | 1 | 3 | 1 | 2 | 1 | 0 | 0 | 1 | ⋯ | 3 | 1 | 1 | 3 | 1 | 2 | 3 | 2 | 2 | 2 |\n",
       "| 1 | 1 | 1 | 1 | 3 | 2 | 1 | 0 | 0 | 1 | ⋯ | 1 | 1 | 1 | 1 | 1 | 1 | 1 | 1 | 2 | 1 |\n",
       "| 1 | 1 | 1 | 2 | 2 | 3 | 1 | 0 | 0 | 1 | ⋯ | 2 | 0 | 1 | 2 | 1 | 1 | 2 | 1 | 2 | 2 |\n",
       "| 2 | 1 | 1 | 1 | 1 | 1 | 4 | 2 | 2 | 1 | ⋯ | 2 | 1 | 2 | 3 | 2 | 1 | 1 | 2 | 1 | 1 |\n",
       "| 1 | 1 | 0 | 0 | 0 | 0 | 2 | 3 | 2 | 0 | ⋯ | 0 | 1 | 2 | 1 | 1 | 0 | 0 | 1 | 0 | 0 |\n",
       "| 1 | 0 | 0 | 0 | 0 | 0 | 2 | 2 | 4 | 0 | ⋯ | 0 | 1 | 2 | 1 | 2 | 1 | 0 | 2 | 0 | 0 |\n",
       "| 2 | 1 | 1 | 1 | 1 | 1 | 1 | 0 | 0 | 2 | ⋯ | 1 | 1 | 2 | 1 | 1 | 1 | 1 | 1 | 1 | 1 |\n",
       "| 2 | 1 | 1 | 2 | 1 | 2 | 1 | 0 | 0 | 2 | ⋯ | 2 | 1 | 2 | 2 | 1 | 1 | 2 | 1 | 2 | 2 |\n",
       "| 1 | 1 | 0 | 0 | 0 | 0 | 1 | 2 | 1 | 0 | ⋯ | 0 | 1 | 2 | 1 | 1 | 0 | 0 | 1 | 0 | 0 |\n",
       "| 3 | 2 | 1 | 1 | 1 | 1 | 2 | 1 | 1 | 2 | ⋯ | 2 | 2 | 3 | 2 | 2 | 1 | 1 | 2 | 1 | 1 |\n",
       "| 2 | 1 | 2 | 3 | 2 | 2 | 3 | 1 | 1 | 1 | ⋯ | 5 | 4 | 2 | 5 | 2 | 2 | 3 | 3 | 3 | 3 |\n",
       "| 1 | 1 | 1 | 3 | 2 | 2 | 1 | 0 | 0 | 1 | ⋯ | 3 | 2 | 1 | 3 | 1 | 2 | 4 | 3 | 3 | 2 |\n",
       "| 1 | 1 | 1 | 2 | 2 | 3 | 1 | 0 | 1 | 1 | ⋯ | 2 | 0 | 1 | 2 | 2 | 2 | 3 | 2 | 2 | 2 |\n",
       "| 1 | 2 | 2 | 3 | 1 | 2 | 2 | 0 | 0 | 1 | ⋯ | 6 | 2 | 1 | 4 | 1 | 2 | 3 | 2 | 2 | 3 |\n",
       "| 2 | 0 | 1 | 1 | 1 | 0 | 1 | 1 | 1 | 1 | ⋯ | 2 | 5 | 2 | 2 | 1 | 1 | 1 | 2 | 1 | 1 |\n",
       "| 3 | 2 | 1 | 1 | 1 | 1 | 2 | 2 | 2 | 2 | ⋯ | 1 | 2 | 5 | 2 | 2 | 1 | 1 | 3 | 1 | 1 |\n",
       "| 2 | 1 | 1 | 3 | 1 | 2 | 3 | 1 | 1 | 1 | ⋯ | 4 | 2 | 2 | 5 | 2 | 2 | 3 | 3 | 2 | 2 |\n",
       "| 2 | 1 | 1 | 1 | 1 | 1 | 2 | 1 | 2 | 1 | ⋯ | 1 | 1 | 2 | 2 | 3 | 2 | 1 | 2 | 1 | 1 |\n",
       "| 1 | 1 | 1 | 2 | 1 | 1 | 1 | 0 | 1 | 1 | ⋯ | 2 | 1 | 1 | 2 | 2 | 3 | 2 | 2 | 1 | 1 |\n",
       "| 1 | 1 | 1 | 3 | 1 | 2 | 1 | 0 | 0 | 1 | ⋯ | 3 | 1 | 1 | 3 | 1 | 2 | 4 | 3 | 2 | 2 |\n",
       "| 2 | 1 | 1 | 2 | 1 | 1 | 2 | 1 | 2 | 1 | ⋯ | 2 | 2 | 3 | 3 | 2 | 2 | 3 | 5 | 1 | 1 |\n",
       "| 1 | 1 | 1 | 2 | 2 | 2 | 1 | 0 | 0 | 1 | ⋯ | 2 | 1 | 1 | 2 | 1 | 1 | 2 | 1 | 3 | 2 |\n",
       "| 1 | 1 | 2 | 2 | 1 | 2 | 1 | 0 | 0 | 1 | ⋯ | 3 | 1 | 1 | 2 | 1 | 1 | 2 | 1 | 2 | 3 |\n",
       "\n"
      ],
      "text/plain": [
       "      [,1] [,2] [,3] [,4] [,5] [,6] [,7] [,8] [,9] [,10] [,11] [,12] [,13]\n",
       " [1,] 3    1    1    1    1    1    2    1    1    2     ⋯     1     2    \n",
       " [2,] 1    3    1    1    1    1    1    1    0    1     ⋯     2     0    \n",
       " [3,] 1    1    2    1    1    1    1    0    0    1     ⋯     2     1    \n",
       " [4,] 1    1    1    3    1    2    1    0    0    1     ⋯     3     1    \n",
       " [5,] 1    1    1    1    3    2    1    0    0    1     ⋯     1     1    \n",
       " [6,] 1    1    1    2    2    3    1    0    0    1     ⋯     2     0    \n",
       " [7,] 2    1    1    1    1    1    4    2    2    1     ⋯     2     1    \n",
       " [8,] 1    1    0    0    0    0    2    3    2    0     ⋯     0     1    \n",
       " [9,] 1    0    0    0    0    0    2    2    4    0     ⋯     0     1    \n",
       "[10,] 2    1    1    1    1    1    1    0    0    2     ⋯     1     1    \n",
       "[11,] 2    1    1    2    1    2    1    0    0    2     ⋯     2     1    \n",
       "[12,] 1    1    0    0    0    0    1    2    1    0     ⋯     0     1    \n",
       "[13,] 3    2    1    1    1    1    2    1    1    2     ⋯     2     2    \n",
       "[14,] 2    1    2    3    2    2    3    1    1    1     ⋯     5     4    \n",
       "[15,] 1    1    1    3    2    2    1    0    0    1     ⋯     3     2    \n",
       "[16,] 1    1    1    2    2    3    1    0    1    1     ⋯     2     0    \n",
       "[17,] 1    2    2    3    1    2    2    0    0    1     ⋯     6     2    \n",
       "[18,] 2    0    1    1    1    0    1    1    1    1     ⋯     2     5    \n",
       "[19,] 3    2    1    1    1    1    2    2    2    2     ⋯     1     2    \n",
       "[20,] 2    1    1    3    1    2    3    1    1    1     ⋯     4     2    \n",
       "[21,] 2    1    1    1    1    1    2    1    2    1     ⋯     1     1    \n",
       "[22,] 1    1    1    2    1    1    1    0    1    1     ⋯     2     1    \n",
       "[23,] 1    1    1    3    1    2    1    0    0    1     ⋯     3     1    \n",
       "[24,] 2    1    1    2    1    1    2    1    2    1     ⋯     2     2    \n",
       "[25,] 1    1    1    2    2    2    1    0    0    1     ⋯     2     1    \n",
       "[26,] 1    1    2    2    1    2    1    0    0    1     ⋯     3     1    \n",
       "      [,14] [,15] [,16] [,17] [,18] [,19] [,20] [,21]\n",
       " [1,] 3     2     2     1     1     2     1     1    \n",
       " [2,] 2     1     1     1     1     1     1     1    \n",
       " [3,] 1     1     1     1     1     1     1     2    \n",
       " [4,] 1     3     1     2     3     2     2     2    \n",
       " [5,] 1     1     1     1     1     1     2     1    \n",
       " [6,] 1     2     1     1     2     1     2     2    \n",
       " [7,] 2     3     2     1     1     2     1     1    \n",
       " [8,] 2     1     1     0     0     1     0     0    \n",
       " [9,] 2     1     2     1     0     2     0     0    \n",
       "[10,] 2     1     1     1     1     1     1     1    \n",
       "[11,] 2     2     1     1     2     1     2     2    \n",
       "[12,] 2     1     1     0     0     1     0     0    \n",
       "[13,] 3     2     2     1     1     2     1     1    \n",
       "[14,] 2     5     2     2     3     3     3     3    \n",
       "[15,] 1     3     1     2     4     3     3     2    \n",
       "[16,] 1     2     2     2     3     2     2     2    \n",
       "[17,] 1     4     1     2     3     2     2     3    \n",
       "[18,] 2     2     1     1     1     2     1     1    \n",
       "[19,] 5     2     2     1     1     3     1     1    \n",
       "[20,] 2     5     2     2     3     3     2     2    \n",
       "[21,] 2     2     3     2     1     2     1     1    \n",
       "[22,] 1     2     2     3     2     2     1     1    \n",
       "[23,] 1     3     1     2     4     3     2     2    \n",
       "[24,] 3     3     2     2     3     5     1     1    \n",
       "[25,] 1     2     1     1     2     1     3     2    \n",
       "[26,] 1     2     1     1     2     1     2     3    "
      ]
     },
     "metadata": {},
     "output_type": "display_data"
    },
    {
     "data": {
      "image/png": "[encoded data removed]",
      "text/plain": [
       "Plot with title \"\""
      ]
     },
     "metadata": {
      "image/png": {
       "height": 420,
       "width": 420
      }
     },
     "output_type": "display_data"
    }
   ],
   "source": [
    "partic <- matr %*% t(matr)\n",
    "partic\n",
    "\n",
    "net_c = graph.adjacency(partic, mode='undirected',weighted=TRUE)\n",
    "\n",
    "plot(net_c, layout=layout_with_fr, vertex.color=\"green\", edge.label=round(E(net_c)$weight, 3))"
   ]
  },
  {
   "cell_type": "code",
   "execution_count": 10,
   "metadata": {},
   "outputs": [
    {
     "data": {
      "text/html": [
       "<table class=\"dataframe\">\n",
       "<caption>A matrix: 15 × 15 of type dbl</caption>\n",
       "<thead>\n",
       "\t<tr><th></th><th scope=col>V1</th><th scope=col>V2</th><th scope=col>V3</th><th scope=col>V4</th><th scope=col>V5</th><th scope=col>V6</th><th scope=col>V7</th><th scope=col>V8</th><th scope=col>V9</th><th scope=col>V10</th><th scope=col>V11</th><th scope=col>V12</th><th scope=col>V13</th><th scope=col>V14</th><th scope=col>V15</th></tr>\n",
       "</thead>\n",
       "<tbody>\n",
       "\t<tr><th scope=row>V1</th><td>3</td><td> 0</td><td> 2</td><td> 3</td><td>0</td><td>1</td><td>1</td><td>1</td><td>1</td><td>1</td><td>0</td><td>0</td><td>0</td><td>0</td><td>1</td></tr>\n",
       "\t<tr><th scope=row>V2</th><td>0</td><td>11</td><td>11</td><td> 2</td><td>1</td><td>3</td><td>0</td><td>1</td><td>1</td><td>0</td><td>3</td><td>3</td><td>3</td><td>2</td><td>6</td></tr>\n",
       "\t<tr><th scope=row>V3</th><td>2</td><td>11</td><td>22</td><td> 8</td><td>3</td><td>4</td><td>2</td><td>3</td><td>5</td><td>1</td><td>4</td><td>4</td><td>4</td><td>3</td><td>8</td></tr>\n",
       "\t<tr><th scope=row>V4</th><td>3</td><td> 2</td><td> 8</td><td>12</td><td>1</td><td>1</td><td>3</td><td>2</td><td>4</td><td>3</td><td>3</td><td>2</td><td>2</td><td>0</td><td>4</td></tr>\n",
       "\t<tr><th scope=row>V5</th><td>0</td><td> 1</td><td> 3</td><td> 1</td><td>3</td><td>0</td><td>1</td><td>0</td><td>1</td><td>0</td><td>1</td><td>1</td><td>0</td><td>0</td><td>1</td></tr>\n",
       "\t<tr><th scope=row>V6</th><td>1</td><td> 3</td><td> 4</td><td> 1</td><td>0</td><td>4</td><td>0</td><td>1</td><td>0</td><td>0</td><td>0</td><td>0</td><td>1</td><td>1</td><td>3</td></tr>\n",
       "\t<tr><th scope=row>V7</th><td>1</td><td> 0</td><td> 2</td><td> 3</td><td>1</td><td>0</td><td>4</td><td>0</td><td>1</td><td>1</td><td>0</td><td>0</td><td>0</td><td>0</td><td>0</td></tr>\n",
       "\t<tr><th scope=row>V8</th><td>1</td><td> 1</td><td> 3</td><td> 2</td><td>0</td><td>1</td><td>0</td><td>4</td><td>0</td><td>1</td><td>0</td><td>0</td><td>0</td><td>1</td><td>1</td></tr>\n",
       "\t<tr><th scope=row>V9</th><td>1</td><td> 1</td><td> 5</td><td> 4</td><td>1</td><td>0</td><td>1</td><td>0</td><td>6</td><td>0</td><td>0</td><td>1</td><td>1</td><td>0</td><td>1</td></tr>\n",
       "\t<tr><th scope=row>V10</th><td>1</td><td> 0</td><td> 1</td><td> 3</td><td>0</td><td>0</td><td>1</td><td>1</td><td>0</td><td>3</td><td>1</td><td>0</td><td>0</td><td>0</td><td>0</td></tr>\n",
       "\t<tr><th scope=row>V11</th><td>0</td><td> 3</td><td> 4</td><td> 3</td><td>1</td><td>0</td><td>0</td><td>0</td><td>0</td><td>1</td><td>4</td><td>2</td><td>1</td><td>0</td><td>3</td></tr>\n",
       "\t<tr><th scope=row>V12</th><td>0</td><td> 3</td><td> 4</td><td> 2</td><td>1</td><td>0</td><td>0</td><td>0</td><td>1</td><td>0</td><td>2</td><td>5</td><td>2</td><td>0</td><td>3</td></tr>\n",
       "\t<tr><th scope=row>V13</th><td>0</td><td> 3</td><td> 4</td><td> 2</td><td>0</td><td>1</td><td>0</td><td>0</td><td>1</td><td>0</td><td>1</td><td>2</td><td>5</td><td>1</td><td>3</td></tr>\n",
       "\t<tr><th scope=row>V14</th><td>0</td><td> 2</td><td> 3</td><td> 0</td><td>0</td><td>1</td><td>0</td><td>1</td><td>0</td><td>0</td><td>0</td><td>0</td><td>1</td><td>3</td><td>0</td></tr>\n",
       "\t<tr><th scope=row>V15</th><td>1</td><td> 6</td><td> 8</td><td> 4</td><td>1</td><td>3</td><td>0</td><td>1</td><td>1</td><td>0</td><td>3</td><td>3</td><td>3</td><td>0</td><td>9</td></tr>\n",
       "</tbody>\n",
       "</table>\n"
      ],
      "text/latex": [
       "A matrix: 15 × 15 of type dbl\n",
       "\\begin{tabular}{r|lllllllllllllll}\n",
       "  & V1 & V2 & V3 & V4 & V5 & V6 & V7 & V8 & V9 & V10 & V11 & V12 & V13 & V14 & V15\\\\\n",
       "\\hline\n",
       "\tV1 & 3 &  0 &  2 &  3 & 0 & 1 & 1 & 1 & 1 & 1 & 0 & 0 & 0 & 0 & 1\\\\\n",
       "\tV2 & 0 & 11 & 11 &  2 & 1 & 3 & 0 & 1 & 1 & 0 & 3 & 3 & 3 & 2 & 6\\\\\n",
       "\tV3 & 2 & 11 & 22 &  8 & 3 & 4 & 2 & 3 & 5 & 1 & 4 & 4 & 4 & 3 & 8\\\\\n",
       "\tV4 & 3 &  2 &  8 & 12 & 1 & 1 & 3 & 2 & 4 & 3 & 3 & 2 & 2 & 0 & 4\\\\\n",
       "\tV5 & 0 &  1 &  3 &  1 & 3 & 0 & 1 & 0 & 1 & 0 & 1 & 1 & 0 & 0 & 1\\\\\n",
       "\tV6 & 1 &  3 &  4 &  1 & 0 & 4 & 0 & 1 & 0 & 0 & 0 & 0 & 1 & 1 & 3\\\\\n",
       "\tV7 & 1 &  0 &  2 &  3 & 1 & 0 & 4 & 0 & 1 & 1 & 0 & 0 & 0 & 0 & 0\\\\\n",
       "\tV8 & 1 &  1 &  3 &  2 & 0 & 1 & 0 & 4 & 0 & 1 & 0 & 0 & 0 & 1 & 1\\\\\n",
       "\tV9 & 1 &  1 &  5 &  4 & 1 & 0 & 1 & 0 & 6 & 0 & 0 & 1 & 1 & 0 & 1\\\\\n",
       "\tV10 & 1 &  0 &  1 &  3 & 0 & 0 & 1 & 1 & 0 & 3 & 1 & 0 & 0 & 0 & 0\\\\\n",
       "\tV11 & 0 &  3 &  4 &  3 & 1 & 0 & 0 & 0 & 0 & 1 & 4 & 2 & 1 & 0 & 3\\\\\n",
       "\tV12 & 0 &  3 &  4 &  2 & 1 & 0 & 0 & 0 & 1 & 0 & 2 & 5 & 2 & 0 & 3\\\\\n",
       "\tV13 & 0 &  3 &  4 &  2 & 0 & 1 & 0 & 0 & 1 & 0 & 1 & 2 & 5 & 1 & 3\\\\\n",
       "\tV14 & 0 &  2 &  3 &  0 & 0 & 1 & 0 & 1 & 0 & 0 & 0 & 0 & 1 & 3 & 0\\\\\n",
       "\tV15 & 1 &  6 &  8 &  4 & 1 & 3 & 0 & 1 & 1 & 0 & 3 & 3 & 3 & 0 & 9\\\\\n",
       "\\end{tabular}\n"
      ],
      "text/markdown": [
       "\n",
       "A matrix: 15 × 15 of type dbl\n",
       "\n",
       "| <!--/--> | V1 | V2 | V3 | V4 | V5 | V6 | V7 | V8 | V9 | V10 | V11 | V12 | V13 | V14 | V15 |\n",
       "|---|---|---|---|---|---|---|---|---|---|---|---|---|---|---|---|\n",
       "| V1 | 3 |  0 |  2 |  3 | 0 | 1 | 1 | 1 | 1 | 1 | 0 | 0 | 0 | 0 | 1 |\n",
       "| V2 | 0 | 11 | 11 |  2 | 1 | 3 | 0 | 1 | 1 | 0 | 3 | 3 | 3 | 2 | 6 |\n",
       "| V3 | 2 | 11 | 22 |  8 | 3 | 4 | 2 | 3 | 5 | 1 | 4 | 4 | 4 | 3 | 8 |\n",
       "| V4 | 3 |  2 |  8 | 12 | 1 | 1 | 3 | 2 | 4 | 3 | 3 | 2 | 2 | 0 | 4 |\n",
       "| V5 | 0 |  1 |  3 |  1 | 3 | 0 | 1 | 0 | 1 | 0 | 1 | 1 | 0 | 0 | 1 |\n",
       "| V6 | 1 |  3 |  4 |  1 | 0 | 4 | 0 | 1 | 0 | 0 | 0 | 0 | 1 | 1 | 3 |\n",
       "| V7 | 1 |  0 |  2 |  3 | 1 | 0 | 4 | 0 | 1 | 1 | 0 | 0 | 0 | 0 | 0 |\n",
       "| V8 | 1 |  1 |  3 |  2 | 0 | 1 | 0 | 4 | 0 | 1 | 0 | 0 | 0 | 1 | 1 |\n",
       "| V9 | 1 |  1 |  5 |  4 | 1 | 0 | 1 | 0 | 6 | 0 | 0 | 1 | 1 | 0 | 1 |\n",
       "| V10 | 1 |  0 |  1 |  3 | 0 | 0 | 1 | 1 | 0 | 3 | 1 | 0 | 0 | 0 | 0 |\n",
       "| V11 | 0 |  3 |  4 |  3 | 1 | 0 | 0 | 0 | 0 | 1 | 4 | 2 | 1 | 0 | 3 |\n",
       "| V12 | 0 |  3 |  4 |  2 | 1 | 0 | 0 | 0 | 1 | 0 | 2 | 5 | 2 | 0 | 3 |\n",
       "| V13 | 0 |  3 |  4 |  2 | 0 | 1 | 0 | 0 | 1 | 0 | 1 | 2 | 5 | 1 | 3 |\n",
       "| V14 | 0 |  2 |  3 |  0 | 0 | 1 | 0 | 1 | 0 | 0 | 0 | 0 | 1 | 3 | 0 |\n",
       "| V15 | 1 |  6 |  8 |  4 | 1 | 3 | 0 | 1 | 1 | 0 | 3 | 3 | 3 | 0 | 9 |\n",
       "\n"
      ],
      "text/plain": [
       "    V1 V2 V3 V4 V5 V6 V7 V8 V9 V10 V11 V12 V13 V14 V15\n",
       "V1  3   0  2  3 0  1  1  1  1  1   0   0   0   0   1  \n",
       "V2  0  11 11  2 1  3  0  1  1  0   3   3   3   2   6  \n",
       "V3  2  11 22  8 3  4  2  3  5  1   4   4   4   3   8  \n",
       "V4  3   2  8 12 1  1  3  2  4  3   3   2   2   0   4  \n",
       "V5  0   1  3  1 3  0  1  0  1  0   1   1   0   0   1  \n",
       "V6  1   3  4  1 0  4  0  1  0  0   0   0   1   1   3  \n",
       "V7  1   0  2  3 1  0  4  0  1  1   0   0   0   0   0  \n",
       "V8  1   1  3  2 0  1  0  4  0  1   0   0   0   1   1  \n",
       "V9  1   1  5  4 1  0  1  0  6  0   0   1   1   0   1  \n",
       "V10 1   0  1  3 0  0  1  1  0  3   1   0   0   0   0  \n",
       "V11 0   3  4  3 1  0  0  0  0  1   4   2   1   0   3  \n",
       "V12 0   3  4  2 1  0  0  0  1  0   2   5   2   0   3  \n",
       "V13 0   3  4  2 0  1  0  0  1  0   1   2   5   1   3  \n",
       "V14 0   2  3  0 0  1  0  1  0  0   0   0   1   3   0  \n",
       "V15 1   6  8  4 1  3  0  1  1  0   3   3   3   0   9  "
      ]
     },
     "metadata": {},
     "output_type": "display_data"
    },
    {
     "data": {
      "image/png": "[encoded data removed]",
      "text/plain": [
       "Plot with title \"\""
      ]
     },
     "metadata": {
      "image/png": {
       "height": 420,
       "width": 420
      }
     },
     "output_type": "display_data"
    }
   ],
   "source": [
    "ev <- t(matr) %*% matr\n",
    "ev\n",
    "\n",
    "net_ev = graph.adjacency(ev, mode='undirected', weighted=TRUE)\n",
    "\n",
    "plot(net_ev, layout=layout_with_fr, vertex.color=\"red\", edge.label=round(E(net_ev)$weight, 3))"
   ]
  },
  {
   "cell_type": "markdown",
   "metadata": {},
   "source": [
    "> Выводы: можно заметить, что не существует такого события, которое не пересекалось бы ни с одним другим и не существует такого участника, который не участвует в событиях ни с кем из другимх. Максимальное количество общих акторов у двух событий - 11."
   ]
  },
  {
   "cell_type": "markdown",
   "metadata": {
    "id": "OmtRAukJNYrr"
   },
   "source": [
    "8. Вычислить степень участия для каждого актора, а также среднее количество событий, с которыми актор аффилирован. Сделать выводы."
   ]
  },
  {
   "cell_type": "code",
   "execution_count": 11,
   "metadata": {
    "id": "yMWmiXSgNYrr",
    "outputId": "e1a4452b-f81c-482a-8896-c630b3a564bb"
   },
   "outputs": [
    {
     "name": "stdout",
     "output_type": "stream",
     "text": [
      "1 actor participation degree equals 3 \n",
      "2 actor participation degree equals 3 \n",
      "3 actor participation degree equals 2 \n",
      "4 actor participation degree equals 3 \n",
      "5 actor participation degree equals 3 \n",
      "6 actor participation degree equals 3 \n",
      "7 actor participation degree equals 4 \n",
      "8 actor participation degree equals 3 \n",
      "9 actor participation degree equals 4 \n",
      "10 actor participation degree equals 2 \n",
      "11 actor participation degree equals 3 \n",
      "12 actor participation degree equals 2 \n",
      "13 actor participation degree equals 4 \n",
      "14 actor participation degree equals 7 \n",
      "15 actor participation degree equals 5 \n",
      "16 actor participation degree equals 5 \n",
      "17 actor participation degree equals 6 \n",
      "18 actor participation degree equals 5 \n",
      "19 actor participation degree equals 5 \n",
      "20 actor participation degree equals 5 \n",
      "21 actor participation degree equals 3 \n",
      "22 actor participation degree equals 3 \n",
      "23 actor participation degree equals 4 \n",
      "24 actor participation degree equals 5 \n",
      "25 actor participation degree equals 3 \n",
      "26 actor participation degree equals 3 \n",
      "mean participation degree 3.769231"
     ]
    }
   ],
   "source": [
    "part_deg <- partic[row(partic)==col(partic)]\n",
    "\n",
    "n <- length(part_deg)\n",
    "\n",
    "for(i in 1:n){\n",
    "    cat(i, \"actor\", \"participation degree equals\", part_deg[i], \"\\n\")\n",
    "}\n",
    "\n",
    "mean_deg <- sum(part_deg)/length(part_deg)\n",
    "cat(\"mean participation degree\", mean_deg)"
   ]
  },
  {
   "cell_type": "markdown",
   "metadata": {},
   "source": [
    ">Выводы: в среднем каждый актор участвует в 3-4 событиях, актор с номером 14 участвует в большем количестве события чем остальные (7), акторы с номерами 12 и 3 участвует в меньшем количестве событий чем остальные (2)."
   ]
  },
  {
   "cell_type": "markdown",
   "metadata": {
    "id": "_2hRrIwuNYrs"
   },
   "source": [
    "9. Вычислить размер и средний размер для каждого события. Сделать выводы."
   ]
  },
  {
   "cell_type": "code",
   "execution_count": 12,
   "metadata": {
    "id": "3BjhYgQHNYrs",
    "outputId": "3acc952c-5baa-4a92-deb1-b98d5eda3307"
   },
   "outputs": [
    {
     "name": "stdout",
     "output_type": "stream",
     "text": [
      "1 event size equals 3 \n",
      "2 event size equals 11 \n",
      "3 event size equals 22 \n",
      "4 event size equals 12 \n",
      "5 event size equals 3 \n",
      "6 event size equals 4 \n",
      "7 event size equals 4 \n",
      "8 event size equals 4 \n",
      "9 event size equals 6 \n",
      "10 event size equals 3 \n",
      "11 event size equals 4 \n",
      "12 event size equals 5 \n",
      "13 event size equals 5 \n",
      "14 event size equals 3 \n",
      "15 event size equals 9 \n",
      "mean event size 6.533333"
     ]
    }
   ],
   "source": [
    "ev_size<-ev[row(ev)==col(ev)]\n",
    "\n",
    "n <- length(ev_size)\n",
    "\n",
    "for(i in 1:n){\n",
    "    cat(i, \"event size equals\", ev_size[i], \"\\n\")\n",
    "}\n",
    "\n",
    "mean_ev_size<-sum(ev_size)/length(ev_size)\n",
    "cat(\"mean event size\", mean_ev_size)"
   ]
  },
  {
   "cell_type": "markdown",
   "metadata": {},
   "source": [
    "> Выводы: самое популярное событие - 3 (в нём участвуют 22 актора), самые непопулярные события - 1, 5, 10, 14 (в них участвуют 3 актора), в среднем в событии участвует 6-7 акторов."
   ]
  },
  {
   "cell_type": "markdown",
   "metadata": {
    "id": "gN5dPCXHNYrs"
   },
   "source": [
    "10. Вычислить плотность для соотношения соучастия и отношения перекрытия. Проинтерпретируйте полученные значения."
   ]
  },
  {
   "cell_type": "code",
   "execution_count": 13,
   "metadata": {
    "id": "M9WXCnQVNYrs",
    "outputId": "c5a50cd0-e4a7-49d6-f47b-36f572590e9b"
   },
   "outputs": [
    {
     "name": "stdout",
     "output_type": "stream",
     "text": [
      "Participation dencity equals 1.563077 \n"
     ]
    }
   ],
   "source": [
    "d_part <- sum(partic)/(length(part_deg)*(length(part_deg)-1))\n",
    "cat(\"Participation dencity equals\", d_part, '\\n')"
   ]
  },
  {
   "cell_type": "code",
   "execution_count": 14,
   "metadata": {},
   "outputs": [
    {
     "name": "stdout",
     "output_type": "stream",
     "text": [
      "Cover dencity equals 1.952381 \n"
     ]
    }
   ],
   "source": [
    "d_ev <-sum(ev)/(length(ev_size)*(length(ev_size)-1))\n",
    "cat(\"Cover dencity equals\", d_ev, '\\n')"
   ]
  },
  {
   "cell_type": "markdown",
   "metadata": {},
   "source": [
    "> Выводы: в среднем каждая пара акторов имеет 1-2 общих событий, а каждая пара событий имеет 1-2 общих акторов."
   ]
  },
  {
   "cell_type": "markdown",
   "metadata": {
    "id": "2O1mfkjXNYrs"
   },
   "source": [
    " 11. Определить диаметр сети аффилированности."
   ]
  },
  {
   "cell_type": "code",
   "execution_count": 15,
   "metadata": {
    "id": "pS55YtP8NYrs",
    "outputId": "b9545518-9b8f-40ae-f1e9-22bf30370289"
   },
   "outputs": [
    {
     "data": {
      "text/html": [
       "5"
      ],
      "text/latex": [
       "5"
      ],
      "text/markdown": [
       "5"
      ],
      "text/plain": [
       "[1] 5"
      ]
     },
     "metadata": {},
     "output_type": "display_data"
    }
   ],
   "source": [
    "diameter(ceo)"
   ]
  },
  {
   "cell_type": "markdown",
   "metadata": {},
   "source": [
    "12. Определить клики уровня 𝑐 = {4, 3} для отношения соучастия и клики уровня 𝑐 = {6, 5, 4, 3, 2} для отношения перекрытия событий. Сделать выводы."
   ]
  },
  {
   "cell_type": "code",
   "execution_count": 16,
   "metadata": {},
   "outputs": [
    {
     "name": "stdout",
     "output_type": "stream",
     "text": [
      "Participation cliques of level 3:"
     ]
    },
    {
     "data": {
      "text/plain": [
       "[[1]]\n",
       "+ 3/26 vertices, from f3b0ebf:\n",
       "[1]  1 13 19\n",
       "\n",
       "[[2]]\n",
       "+ 3/26 vertices, from f3b0ebf:\n",
       "[1]  7 14 20\n",
       "\n",
       "[[3]]\n",
       "+ 3/26 vertices, from f3b0ebf:\n",
       "[1] 16 15 23\n",
       "\n",
       "[[4]]\n",
       "+ 3/26 vertices, from f3b0ebf:\n",
       "[1] 25 14 15\n",
       "\n",
       "[[5]]\n",
       "+ 3/26 vertices, from f3b0ebf:\n",
       "[1] 26 14 17\n",
       "\n",
       "[[6]]\n",
       "+ 5/26 vertices, from f3b0ebf:\n",
       "[1] 24 14 23 20 15\n",
       "\n",
       "[[7]]\n",
       "+ 6/26 vertices, from f3b0ebf:\n",
       "[1] 14  4 23 20 17 15\n"
      ]
     },
     "metadata": {},
     "output_type": "display_data"
    },
    {
     "name": "stdout",
     "output_type": "stream",
     "text": [
      "Participation cliques of level 4:"
     ]
    },
    {
     "data": {
      "text/plain": [
       "[[1]]\n",
       "+ 3/26 vertices, from f3b2f0f:\n",
       "[1] 20 14 17\n"
      ]
     },
     "metadata": {},
     "output_type": "display_data"
    }
   ],
   "source": [
    "cat(\"Participation cliques of level 3:\")\n",
    "c_sub <- delete.edges(net_c, E(net_c)[E(net_c)$weight < 3])\n",
    "max_cliques(c_sub, min=3)\n",
    "\n",
    "cat(\"Participation cliques of level 4:\")\n",
    "c_sub <- delete.edges(net_c, E(net_c)[E(net_c)$weight < 4]) \n",
    "max_cliques(c_sub, min=3)"
   ]
  },
  {
   "cell_type": "code",
   "execution_count": 17,
   "metadata": {},
   "outputs": [
    {
     "name": "stdout",
     "output_type": "stream",
     "text": [
      "Cover cliques of level 2"
     ]
    },
    {
     "data": {
      "text/plain": [
       "[[1]]\n",
       "+ 3/15 vertices, named, from f3b8456:\n",
       "[1] V1 V3 V4\n",
       "\n",
       "[[2]]\n",
       "+ 3/15 vertices, named, from f3b8456:\n",
       "[1] V7 V3 V4\n",
       "\n",
       "[[3]]\n",
       "+ 3/15 vertices, named, from f3b8456:\n",
       "[1] V8 V3 V4\n",
       "\n",
       "[[4]]\n",
       "+ 3/15 vertices, named, from f3b8456:\n",
       "[1] V9 V3 V4\n",
       "\n",
       "[[5]]\n",
       "+ 3/15 vertices, named, from f3b8456:\n",
       "[1] V14 V2  V3 \n",
       "\n",
       "[[6]]\n",
       "+ 4/15 vertices, named, from f3b8456:\n",
       "[1] V6  V2  V15 V3 \n",
       "\n",
       "[[7]]\n",
       "+ 6/15 vertices, named, from f3b8456:\n",
       "[1] V15 V2  V12 V4  V3  V11\n",
       "\n",
       "[[8]]\n",
       "+ 6/15 vertices, named, from f3b8456:\n",
       "[1] V15 V2  V12 V4  V3  V13\n"
      ]
     },
     "metadata": {},
     "output_type": "display_data"
    },
    {
     "name": "stdout",
     "output_type": "stream",
     "text": [
      "Cover cliques of level 3"
     ]
    },
    {
     "data": {
      "text/plain": [
       "[[1]]\n",
       "+ 3/15 vertices, named, from f3ba09c:\n",
       "[1] V9 V3 V4\n",
       "\n",
       "[[2]]\n",
       "+ 4/15 vertices, named, from f3ba09c:\n",
       "[1] V13 V2  V15 V3 \n",
       "\n",
       "[[3]]\n",
       "+ 4/15 vertices, named, from f3ba09c:\n",
       "[1] V15 V3  V2  V6 \n",
       "\n",
       "[[4]]\n",
       "+ 4/15 vertices, named, from f3ba09c:\n",
       "[1] V15 V3  V2  V11\n",
       "\n",
       "[[5]]\n",
       "+ 4/15 vertices, named, from f3ba09c:\n",
       "[1] V15 V3  V2  V12\n",
       "\n",
       "[[6]]\n",
       "+ 4/15 vertices, named, from f3ba09c:\n",
       "[1] V15 V3  V4  V11\n"
      ]
     },
     "metadata": {},
     "output_type": "display_data"
    },
    {
     "name": "stdout",
     "output_type": "stream",
     "text": [
      "Cover cliques of level 4"
     ]
    },
    {
     "data": {
      "text/plain": [
       "[[1]]\n",
       "+ 3/15 vertices, named, from f3bbc02:\n",
       "[1] V15 V3  V2 \n",
       "\n",
       "[[2]]\n",
       "+ 3/15 vertices, named, from f3bbc02:\n",
       "[1] V15 V3  V4 \n",
       "\n",
       "[[3]]\n",
       "+ 3/15 vertices, named, from f3bbc02:\n",
       "[1] V4 V3 V9\n"
      ]
     },
     "metadata": {},
     "output_type": "display_data"
    },
    {
     "name": "stdout",
     "output_type": "stream",
     "text": [
      "Cover cliques of level 5"
     ]
    },
    {
     "data": {
      "text/plain": [
       "[[1]]\n",
       "+ 3/15 vertices, named, from f3bd1fb:\n",
       "[1] V2  V3  V15\n"
      ]
     },
     "metadata": {},
     "output_type": "display_data"
    },
    {
     "name": "stdout",
     "output_type": "stream",
     "text": [
      "Cover cliques of level 6"
     ]
    },
    {
     "data": {
      "text/plain": [
       "[[1]]\n",
       "+ 3/15 vertices, named, from f3be7c2:\n",
       "[1] V2  V3  V15\n"
      ]
     },
     "metadata": {},
     "output_type": "display_data"
    }
   ],
   "source": [
    "cat(\"Cover cliques of level 2\")\n",
    "ev_sub <- delete.edges(net_ev, E(net_ev)[E(net_ev)$weight < 2])\n",
    "max_cliques(ev_sub, min=3)\n",
    "\n",
    "cat(\"Cover cliques of level 3\")\n",
    "ev_sub <- delete.edges(net_ev, E(net_ev)[E(net_ev)$weight < 3])\n",
    "max_cliques(ev_sub, min=3)\n",
    "\n",
    "cat(\"Cover cliques of level 4\")\n",
    "ev_sub <- delete.edges(net_ev, E(net_ev)[E(net_ev)$weight < 4])\n",
    "max_cliques(ev_sub, min=3)\n",
    "\n",
    "cat(\"Cover cliques of level 5\")\n",
    "ev_sub <- delete.edges(net_ev, E(net_ev)[E(net_ev)$weight < 5])\n",
    "max_cliques(ev_sub, min=3)\n",
    "\n",
    "cat(\"Cover cliques of level 6\")\n",
    "ev_sub <- delete.edges(net_ev, E(net_ev)[E(net_ev)$weight < 6])\n",
    "max_cliques(ev_sub, min=3)"
   ]
  },
  {
   "cell_type": "markdown",
   "metadata": {},
   "source": [
    "> Выводы: существуют группы акторов которые имеют не менее 3-4 общих событий, существуют группы событие, которые имеют не менее 2-6 общих акторов."
   ]
  },
  {
   "cell_type": "markdown",
   "metadata": {},
   "source": [
    "13. Для каждых пар событий определить отношение шансов. Сделать\n",
    "выводы"
   ]
  },
  {
   "cell_type": "code",
   "execution_count": 18,
   "metadata": {},
   "outputs": [
    {
     "name": "stdout",
     "output_type": "stream",
     "text": [
      "2 and 1 : 0\n",
      "3 and 1 : 0.3\n",
      "3 and 2 : Inf\n",
      "4 and 1 : Inf\n",
      "4 and 2 : 0.1111111\n",
      "4 and 3 : 0\n",
      "5 and 1 : 0\n",
      "5 and 2 : 0.65\n",
      "5 and 3 : Inf\n",
      "5 and 4 : 0.5454545\n",
      "6 and 1 : 3.333333\n",
      "6 and 2 : 5.25\n",
      "6 and 3 : Inf\n",
      "6 and 4 : 0.3333333\n",
      "6 and 5 : 0\n",
      "7 and 1 : 3.333333\n",
      "7 and 2 : 0\n",
      "7 and 3 : 0.1\n",
      "7 and 4 : 4.333333\n",
      "7 and 5 : 3.333333\n",
      "7 and 6 : 0\n",
      "8 and 1 : 3.333333\n",
      "8 and 2 : 0.4\n",
      "8 and 3 : 0.4736842\n",
      "8 and 4 : 1.2\n",
      "8 and 5 : 0\n",
      "8 and 6 : 2.111111\n",
      "8 and 7 : 0\n",
      "9 and 1 : 1.8\n",
      "9 and 2 : 0.2\n",
      "9 and 3 : 0.8823529\n",
      "9 and 4 : 3\n",
      "9 and 5 : 1.8\n",
      "9 and 6 : 0\n",
      "9 and 7 : 1.133333\n",
      "9 and 8 : 0\n",
      "10 and 1 : 5.25\n",
      "10 and 2 : 0\n",
      "10 and 3 : 0.04761905\n",
      "10 and 4 : Inf\n",
      "10 and 5 : 0\n",
      "10 and 6 : 0\n",
      "10 and 7 : 3.333333\n",
      "10 and 8 : 3.333333\n",
      "10 and 9 : 0\n",
      "11 and 1 : 0\n",
      "11 and 2 : 5.25\n",
      "11 and 3 : Inf\n",
      "11 and 4 : 4.333333\n",
      "11 and 5 : 3.333333\n",
      "11 and 6 : 0\n",
      "11 and 7 : 0\n",
      "11 and 8 : 0\n",
      "11 and 9 : 0\n",
      "11 and 10 : 3.333333\n",
      "12 and 1 : 0\n",
      "12 and 2 : 2.4375\n",
      "12 and 3 : 0.6666667\n",
      "12 and 4 : 0.7333333\n",
      "12 and 5 : 2.375\n",
      "12 and 6 : 0\n",
      "12 and 7 : 0\n",
      "12 and 8 : 0\n",
      "12 and 9 : 0.8\n",
      "12 and 10 : 0\n",
      "12 and 11 : 6.333333\n",
      "13 and 1 : 0\n",
      "13 and 2 : 2.4375\n",
      "13 and 3 : 0.6666667\n",
      "13 and 4 : 0.7333333\n",
      "13 and 5 : 0\n",
      "13 and 6 : 1.5\n",
      "13 and 7 : 0\n",
      "13 and 8 : 0\n",
      "13 and 9 : 0.8\n",
      "13 and 10 : 0\n",
      "13 and 11 : 1.5\n",
      "13 and 12 : 4\n",
      "14 and 1 : 0\n",
      "14 and 2 : 3.111111\n",
      "14 and 3 : Inf\n",
      "14 and 4 : 0\n",
      "14 and 5 : 0\n",
      "14 and 6 : 3.333333\n",
      "14 and 7 : 0\n",
      "14 and 8 : 3.333333\n",
      "14 and 9 : 0\n",
      "14 and 10 : 0\n",
      "14 and 11 : 0\n",
      "14 and 12 : 0\n",
      "14 and 13 : 2.375\n",
      "15 and 1 : 0.9375\n",
      "15 and 2 : 4.8\n",
      "15 and 3 : 1.714286\n",
      "15 and 4 : 0.9\n",
      "15 and 5 : 0.9375\n",
      "15 and 6 : 8\n",
      "15 and 7 : 0\n",
      "15 and 8 : 0.5833333\n",
      "15 and 9 : 0.3\n",
      "15 and 10 : 0\n",
      "15 and 11 : 8\n",
      "15 and 12 : 3.75\n",
      "15 and 13 : 3.75\n",
      "15 and 14 : 0\n"
     ]
    }
   ],
   "source": [
    "n1 <- t(matr) %*% matr\n",
    "n2 <- (1 - t(matr)) %*% (1 - matr)\n",
    "n3 <- (1 - t(matr)) %*% matr\n",
    "n4 <- t(matr) %*% (1  -matr)\n",
    "\n",
    "for(i in 2:nrow(n1)){\n",
    "    for(j in 1:(i-1)){\n",
    "        res <- (n1[i,j]*n2[i,j])/(n3[i,j]*n4[i,j])\n",
    "        cat(i,\" and \",j,\" : \", res , \"\\n\", sep=\"\")\n",
    "    }\n",
    "}"
   ]
  },
  {
   "cell_type": "markdown",
   "metadata": {
    "id": "dgyaCYeZNYrs"
   },
   "source": [
    "## Выводы\n",
    "\n",
    "В ходе работы была проанализирована на предмет подгрупп сеть брачных отношений между флорентийскими семьями. По итогам в зависимости от алгоритма было выявлено 4-5 сообществ. Было проведено исследование сети аффилированности CEO - вычислены основные метрики и построены сети соучастия и перекрытия событий. \n"
   ]
  }
 ],
 "metadata": {
  "colab": {
   "provenance": []
  },
  "kernelspec": {
   "display_name": "R",
   "language": "R",
   "name": "ir"
  },
  "language_info": {
   "codemirror_mode": "r",
   "file_extension": ".r",
   "mimetype": "text/x-r-source",
   "name": "R",
   "pygments_lexer": "r",
   "version": "4.2.1"
  }
 },
 "nbformat": 4,
 "nbformat_minor": 1
}
