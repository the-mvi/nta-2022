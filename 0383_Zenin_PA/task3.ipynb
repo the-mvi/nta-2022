{
  "cells": [
    {
      "cell_type": "markdown",
      "metadata": {
        "id": "UW8ZzrhU2qQB"
      },
      "source": [
        "# Практическая работа №3: Статистический анализ социальных сетей.\n",
        "Выполнил студент гр. 0383 Зенин Пётр. Вариант №55"
      ]
    },
    {
      "cell_type": "markdown",
      "metadata": {
        "id": "TcmykX5P2qQD"
      },
      "source": [
        "## Цель работы\n",
        "Овладеть навыками работы с математическими пакетами для статистического анализа социальных сетей."
      ]
    },
    {
      "cell_type": "markdown",
      "metadata": {
        "id": "k7ulUMqy2qQE"
      },
      "source": [
        "## Основные теоретические положения\n",
        "\n",
        "### Диады. Диадический анализ.\n",
        "\n",
        "\n",
        "* Насколько верно то, что \"выбор\" актором $j$ актора $i$ всегда отвечает взаимностью на \"выбор\" актором $j$ актора?\n",
        "* Как часто возникают взаимные отношения в социальной сети?\n",
        "* Если $i$-ый актор не \"выбирает\" $j$-го актора, то является ли этот \"невыбор\" взаимностью?\n",
        "* Как часто возникают нулевые отношения?\n",
        "\n",
        "<br><br>\n",
        "\n",
        "**Диада (dyad)** - элемент сети, представлябщий собой пару акторов и (возможную) связь между ними: $D_{ij} = (X_{ij}, X_{ji}, i \\neq j)$\n",
        "<br><br>\n",
        "\n",
        "**Виды диад**:\n",
        "<br>\n",
        "* Взаимная диада (mutual dyad): $D_{ij} = (1,1)$\n",
        "* Ассиметричная диада (asymetric dyad): $D_{ij} = (1,0), D_{ji} = (0,1)$\n",
        "* Нулевая диада (null dyad): $D_{ij} = (0,0)$\n",
        "\n",
        "\n",
        "<br><br>\n",
        "**Цензус диад (dyad census)** - тройка чисел $(M,A,N)$, где:\n",
        "* $M = \\sum_{i<j}{X_{ij}X_{ji}}$\n",
        "* $A = X_{++} - 2M$, где $X_{++}$ - сумма всех эл-тов в социоматрице\n",
        "* $N = C_g^2 - A - M$\n",
        "\n",
        "\n",
        "__________________________________\n",
        "<Br><br>\n",
        "### Индекс взаимности Каца - Пауэлла\n",
        "<br><br>\n",
        "\n",
        "**Индекс взаимности Каца - Пауэлла (index for mutuality)** - характеристика измерения тенденции акторов в группе<br><br>\n",
        "$- \\inf < \\rho_{KP} \\leq 1$<br><br>\n",
        "Индекс взаимности основан на ожидании количества взаимных диад предполагая, что выбор делается акторами случайным образом.\n",
        "<br><br>\n",
        "Фискированный выбор:<br><br>\n",
        "* Предполагается, что каждый актор делает $d$ выборов из $(g-1)$ акторов, доступных для выбора\n",
        "* Вероятность взаимного выбора между любой произвольной парой акторов равна $d^2/(g-1)^2$\n",
        "* Математическое ожидание взаимных диад:<br><br>\n",
        "$E(M) = \\frac{g(g-1)}{2}\\cdot\\frac{d^2}{(g-1)^2} = \\frac{gd^2}{2(g-1)}$<br><br>\n",
        "* Вероятность того, что общая диада, в которой участвуют акторы, является взаимной диадой:<br><br>\n",
        "$P(i \\rightarrow j \\wedge j \\rightarrow i) = P(j \\rightarrow i | i \\rightarrow j)$<br><br>\n",
        "* Условнвая вероятность:<br><br>\n",
        "$P(j \\rightarrow i | i \\rightarrow j) = P(j \\rightarrow i) + \\rho_{KP} P(j \\nrightarrow i)$ <br><br>\n",
        "* Таким образом:<br><br>\n",
        "$P(i \\rightarrow j \\wedge j \\rightarrow i) = \\frac{g}{g-1}(\\frac{d}{d-1} + \\rho_{KP}\\frac{g-1-d}{g-1})$<br><br>\n",
        "* Математическое ожидание взаимных диад с учётом данной вероятности:<br><br>\n",
        "$ E(M | \\rho) = \\frac{gd^2}{2(g-1)}(1 - \\rho_{KP} + \\frac{gd}{2}\\rho_{KP})$ <br><br>\n",
        "* Оценка $\\rho_{KP}$:<br><br>\n",
        "$\\hat{\\rho}_{KP} = \\frac{2(g-1)M-gd^2}{gd(g-1-d)}$\n",
        "<br><br>\n",
        "Свободный выбор:<br><br>\n",
        "* Пусть i-ый актор выбирает $d_O(n_i) = x_{i+}$\n",
        "* Пусть $L = \\sum_i{x_{i+}}, L_2 = \\sum_i{x_{i+}^2}$ ($L_2$ = сумма квадратов суммы эл-тов строк социоматрицы)\n",
        "* Вероятность того, что акторы имеют взаимные онтношщение равна $x_{i+}x_{j+}/(g-1)^2$\n",
        "* Математическое ожидание взаимных диад:<br><br>\n",
        "$E(M) = \\frac{L^2 - L_2}{2(g-1)^2}$<br><br>\n",
        "* Математическое ожидание взаимных диад с учётом вероятности:<br><br>:\n",
        "$E(M | \\rho{'}) = \\frac{L^2 - L_2}{2(g-1)}(1 - \\rho_{KP}^{'} + \\frac{L}{2}\\rho_{KP})$<br><br>:\n",
        "* Оценка $\\rho_{KP}$ по методу моментов:<br><br>\n",
        "$\\hat{\\rho}_{KP} = \\frac{2(g-1)^2M - L^2 + L_2}{L(g-1)^2 - L^2 + L_2}$\n",
        "<br><br><br>\n",
        "\n",
        "_____________________________________\n",
        "### Индекс взаимоности Бандиопадхьяйя (Bandyopadhyay)\n",
        "\n",
        "* Данный индекс основан на минимальном и максимальном значениях количества взаимных диад\n",
        "* Значние индекса: $\\rho_b = \\frac{M - M_{min}}{M_{max} - M_{min}}$<br><br>\n",
        "\n",
        "### Вычисление $M_{min}, M_{max}$\n",
        "\n",
        "* $M_{min} = \\underset{0 <= t <= g}{max}f(t)$\n",
        "* $M_{max} = floor[ {1/2 \\sum_{i=1}^g{x_{i+} - \\underset{0 <= t <= g}{max}g(t)}}]$\n",
        "* Функция $f(t)$: $f(t) = \\sum_{i=1}^t{x_{i+} - t(g-1) - C_{t}^2}$\n",
        "* Функция g(t): $g(t) = \\sum_{i=1}^t{x_{i+} - t(t-1) - \\sum_{i=t+1}^g{max(t, x_{i+})}}$<br><br>\n",
        "\n",
        "### Анализ $k$-подграфов\n",
        "\n",
        "* Определить количество классов изоморфизма, т.е. количество различных состояний, которые могут принимать $k$-подграфы.\n",
        "* Рассмотреть все возможные подмножества из $k$ акторов ($k$-подграфов) в ориентированном графе с $g$ узлами.\n",
        "* Определить каждый $k$-подграф в правильный класс изоморфизма и определить, сколько $k$-подграфов попадает в каждый класс.\n",
        "* Изучить статистические или описательными методами частоту появления $k$-подграфа в классах изоморфизма. <br><br>\n",
        "\n",
        "### Распределения на графах\n",
        "\n",
        "* $\\mathcal{g}_d$ - орграф с $g$ узлами\n",
        "* $G_d(\\mathcal{N})$ - множество всех возможных орграфов без петель с $g$ узлами\n",
        "* Социоматрица $\\mathbb{X} = {X_{ij}}$ - случайная величина\n",
        "* $x = x_{ij}$ - одна из возможных социоматриц <br><br>\n",
        "\n",
        "### Равномерное распределение и распределение Бернулли\n",
        "\n",
        "* #$G_d(\\mathcal{N}) = 2^{g(g-1)}$\n",
        "* Вероятность получить социоматрицу $x$: $P(X-x) = 2^{g(1-g)}$\n",
        "* Вероятность появления дуги между акторами: \n",
        "$P(X_{ij} = 1) = 1/2$ if $i \\neq j$,if $i = j => 0$\n",
        "* Вероятность появления дуги между акторами:\n",
        "$P(X_{ij} = 1) = P_{ij}$ if $i \\neq j$, if $i = j => 0$\n",
        "\n",
        "<br><br>\n",
        "\n",
        "* Число дуг: $L$ ~ $B(g(g-1), 1/2)$\n",
        "* Вероятность того, что число дуг в орграфе равно l: $P(L = l) = C_{g(g-1)}^l$\n",
        "* Математическое ожидание: $E(L) = C_g^2$\n",
        "* Дисперсия: $D(L) = 1/2 \\cdot C_g^2$\n",
        "\n",
        "<br><br>\n",
        "\n",
        "* Нулевая гипотеза: $H_0 : L$ ~ $B(g(g-1), 1/2)$\n",
        "* Статистика: $z_l = \\frac{l - E(L)}{\\sqrt{D(L)}} = \\frac{l - g(g-1)/2}{\\sqrt{g(g-1)/4}}$, где<br>\n",
        "         $$l = \\sum_{i=1}^{g}{\\sum_{j=1}^{g}{x_{ij}}$$\n",
        "* Данная статистика является приблизительно стандартным нормальным распределением при заданном условии значимости.\n",
        "\n",
        "<br><br>\n",
        "\n",
        "### Оценка вероятности P\n",
        "\n",
        "* Число дуг $L$ ~ $B(g(g-1), P_0)$ Вероятность того, что число дуг в орграфе равно l:\n",
        "$P(L= l) = C_{g(g-1)}^l \\cdot P_0(1 - P_0)^{g(g-1)-l}$\n",
        "* Математическое ожидание: $E(L) = P_0\\cdot g(g-1)$\n",
        "* Дисперсия: $D(L) = P_0(1-P_0)g(g-1)$ <br><br>\n",
        "\n",
        "### Статистические гипотезы\n",
        "\n",
        "* Нулевая гипотеза: $H_0 : L$ ~ $B(g(g-1), P_0)$\n",
        "* Статистика :\n",
        "$z_l = \\frac{l - E(L)}{\\sqrt{D(L)}} = \\frac{l - P_0\\cdot g(g-1)}{\\sqrt{P_0(1-P_0)g(g-1)}}$, где $l = \\sum_{i=1}^{g}{\\sum_{j=1}^{g}{x_{ij}}}$\n",
        "* Данная статистика является приблизительно стандартным нормальным распределением при заданном уровне значимости.<br><br>\n",
        "\n",
        "### Доверительный интервал для оценки P\n",
        "\n",
        "* Оценка параметра P:\n",
        "$\\hat{\\rho} = \\frac{\\sum_{i=1}^{g}{\\sum_{j=1}^{g}{x_{ij}}}}{g(g-1)} = \\frac{l}{g(g-1)}$ \n",
        "* Доверительный интервал: $\\hat{P}_{lower} \\leq P \\leq \\hat{P}_{upper}$\n",
        "* $\\hat{P}_{lower} = \\hat{P} - z_{\\alpha/2}\\cdot \\sqrt{\\hat{P}(1-\\hat{P})/g(g-1)}$\n",
        "* $\\hat{P}_{upper} = \\hat{P} + z_{\\alpha/2}\\cdot \\sqrt{\\hat{P}(1-\\hat{P})/g(g-1)}$\n",
        "* Здесь $z_{\\alpha/2}$: $\\phi(z_{\\alpha/2}) = 0.5 - \\alpha/2$"
      ]
    },
    {
      "cell_type": "markdown",
      "metadata": {
        "id": "f0nGLZmn2qQE"
      },
      "source": [
        "## Постановка задачи\n",
        "С помощью математических пакетов и соответствующих библиотек провести статистический анализ случайно смоделированного ориентированного графа. Полученные результаты содержательно проинтерпретировать."
      ]
    },
    {
      "cell_type": "markdown",
      "metadata": {
        "id": "2lmL_hpq2qQE"
      },
      "source": [
        "## Выполнение работы\n"
      ]
    },
    {
      "cell_type": "code",
      "source": [
        "#Устанавливаем библиотеки\n",
        "install.packages(\"igraph\")\n",
        "install.packages(\"statnet\")\n",
        "library(\"igraph\")\n",
        "library(\"statnet\")"
      ],
      "metadata": {
        "id": "ia4h9YrgBm0f"
      },
      "execution_count": null,
      "outputs": []
    },
    {
      "cell_type": "markdown",
      "source": [
        "1. С помощью библиотеки igraph смоделировать случайный орграф\n",
        "$\\mathcal{G}_𝑑$ на основе модели Эрдеша—Реньи: $\\mathcal{G}_d = \\mathcal{G}(g, p)$, где $\\mathcal{g}$ – количество акторов, $p$ – вероятность появления дуги между акторами. В R для модели случайного графа Эрдеша—Реньи существует функция erdos.renyi.game(). Ознакомьтесь с данной моделью и опишите её.\n"
      ],
      "metadata": {
        "id": "lgZRcLkd-Iw1"
      }
    },
    {
      "cell_type": "code",
      "execution_count": 24,
      "metadata": {
        "id": "Vcm_nqIs2qQF",
        "colab": {
          "base_uri": "https://localhost:8080/"
        },
        "outputId": "45f9be89-080d-4b32-e7a1-870184cbfa9e"
      },
      "outputs": [
        {
          "output_type": "stream",
          "name": "stderr",
          "text": [
            "<sparse>[ <logic> ]: .M.sub.i.logical() maybe inefficient\n",
            "\n"
          ]
        }
      ],
      "source": [
        "set.seed(55)\n",
        "\n",
        "g <- 97\n",
        "p <- 0.71\n",
        "graph <- erdos.renyi.game(g, p, \"gnp\", directed = T)\n",
        "net   <- network(as_adjacency_matrix(graph), directed = T)"
      ]
    },
    {
      "cell_type": "markdown",
      "source": [
        "При создании случайного графа данная модель добавляет дугу случайным образом. Если сторится граф $\\mathcal{G}$ с $M$ рёбрами, то вероятность построения такого графа равна:<br><br>\n",
        "$p^M(1-p)^{C^2_n-M}$<br><br>"
      ],
      "metadata": {
        "id": "FvVvzJS3-mUL"
      }
    },
    {
      "cell_type": "markdown",
      "source": [
        "2. Отобразить полученный орграф."
      ],
      "metadata": {
        "id": "qyr02URtDh-5"
      }
    },
    {
      "cell_type": "code",
      "source": [
        "plot(graph, layout = layout_with_kk, vertex.label = V(graph)$name,\n",
        "     vertex.size = 7, edge.arrow.size=.3, vertex.color= \"white\", vertex.label.color = \"black\", edge.color = \"grey\", width = 1000, height = 1000)"
      ],
      "metadata": {
        "colab": {
          "base_uri": "https://localhost:8080/",
          "height": 437
        },
        "id": "tpJx6zEXDhrT",
        "outputId": "43555084-3cc5-4cce-f048-997cc75c24f8"
      },
      "execution_count": 25,
      "outputs": [
        {
          "output_type": "display_data",
          "data": {
            "text/plain": [
              "Plot with title “”"
            ],
            "image/png": "[encoded data removed]"
          },
          "metadata": {
            "image/png": {
              "width": 420,
              "height": 420
            }
          }
        }
      ]
    },
    {
      "cell_type": "markdown",
      "source": [
        "3.  Вычислить «пятичисловую сводку» для графа $\\mathcal{G}_d$."
      ],
      "metadata": {
        "id": "vcVuWQqWFfGB"
      }
    },
    {
      "cell_type": "code",
      "source": [
        "cat(\"Пятичисловая сводка  сети:\\n\")\n",
        "cat(\"* Размер сети: \", network.size(net), \"\\n\")\n",
        "cat(\"* Плотность сети: \", gden(net), \"\\n\")\n",
        "cat(\"* Число компонент: \", components(net), \"\\n\")\n",
        "cat(\"* Диаметр сети: \", diameter(graph), \"\\n\")\n",
        "cat(\"* Коэффициент кластеризации: \", gtrans(net, mode = \"graph\"), \"\\n\")"
      ],
      "metadata": {
        "colab": {
          "base_uri": "https://localhost:8080/"
        },
        "id": "cnt60WWKFjsq",
        "outputId": "f4a818ca-355c-4a4d-e9aa-1a037551b1f2"
      },
      "execution_count": 29,
      "outputs": [
        {
          "output_type": "stream",
          "name": "stdout",
          "text": [
            "Пятичисловая сводка  сети:\n",
            "* Размер сети:  97 \n",
            "* Плотность сети:  0.711018 \n",
            "* Число компонент:  1 \n",
            "* Диаметр сети:  2 \n",
            "* Коэффициент кластеризации:  0.7117551 \n"
          ]
        }
      ]
    },
    {
      "cell_type": "markdown",
      "source": [
        "Видно, что плотность и коэффициент кластеризации получившейся сети близки к $p = 0.71 \\approx 0.71101... \\approx 0.71175...$ "
      ],
      "metadata": {
        "id": "5U0MVmwmH9Kb"
      }
    },
    {
      "cell_type": "markdown",
      "source": [
        "4.  Вычислить цензус диад. Сделать выводы."
      ],
      "metadata": {
        "id": "04PFrlfVIlPo"
      }
    },
    {
      "cell_type": "code",
      "source": [
        "census <- dyad_census(graph)\n",
        "census"
      ],
      "metadata": {
        "colab": {
          "base_uri": "https://localhost:8080/",
          "height": 149
        },
        "id": "-ukHQPyiIk_p",
        "outputId": "6e8c33d1-81c2-4456-dfa6-3eb5208328fa"
      },
      "execution_count": 30,
      "outputs": [
        {
          "output_type": "display_data",
          "data": {
            "text/html": [
              "<dl>\n",
              "\t<dt>$mut</dt>\n",
              "\t\t<dd>2336</dd>\n",
              "\t<dt>$asym</dt>\n",
              "\t\t<dd>1949</dd>\n",
              "\t<dt>$null</dt>\n",
              "\t\t<dd>371</dd>\n",
              "</dl>\n"
            ],
            "text/markdown": "$mut\n:   2336\n$asym\n:   1949\n$null\n:   371\n\n\n",
            "text/latex": "\\begin{description}\n\\item[\\$mut] 2336\n\\item[\\$asym] 1949\n\\item[\\$null] 371\n\\end{description}\n",
            "text/plain": [
              "$mut\n",
              "[1] 2336\n",
              "\n",
              "$asym\n",
              "[1] 1949\n",
              "\n",
              "$null\n",
              "[1] 371\n"
            ]
          },
          "metadata": {}
        }
      ]
    },
    {
      "cell_type": "markdown",
      "source": [
        "* Число взаимных диад: 2336\n",
        "* Число ассимитричных диад: 1949\n",
        "* Число нулевых диад: 371"
      ],
      "metadata": {
        "id": "u_hc0HEkK5v1"
      }
    },
    {
      "cell_type": "markdown",
      "source": [
        "5.  Вычислить оценку индекса взаимности Каца—Пауэла при фиксированом выборе акторов $d$ и при свободном выборе. Сделать выводы.\n"
      ],
      "metadata": {
        "id": "TMnxI5-tLNwU"
      }
    },
    {
      "cell_type": "markdown",
      "source": [
        "Индекс взаимности Каца-Пауэла при фиксированном d. Пусть $d = 55$. $(g-1) = 96$"
      ],
      "metadata": {
        "id": "eAOCR13eLyg6"
      }
    },
    {
      "cell_type": "code",
      "source": [
        "d <- 55\n",
        "M <- census$mut\n",
        "rho_fixed <- (2 * (g-1) * M - g * d^2) / (g*d*(g - 1 - d))\n",
        "rho_fixed"
      ],
      "metadata": {
        "colab": {
          "base_uri": "https://localhost:8080/",
          "height": 34
        },
        "id": "QVPKM9KcK5Os",
        "outputId": "c0de13c8-5a4a-4498-df18-64299f04f2f2"
      },
      "execution_count": 31,
      "outputs": [
        {
          "output_type": "display_data",
          "data": {
            "text/html": [
              "0.709017761217912"
            ],
            "text/markdown": "0.709017761217912",
            "text/latex": "0.709017761217912",
            "text/plain": [
              "[1] 0.7090178"
            ]
          },
          "metadata": {}
        }
      ]
    },
    {
      "cell_type": "markdown",
      "source": [
        "При $d=55$ акторы часто образовывают взаимные связи."
      ],
      "metadata": {
        "id": "bLy-LjYqMUYK"
      }
    },
    {
      "cell_type": "markdown",
      "source": [
        "Индекс взаминости Каца-Пауэла при свободном выборе."
      ],
      "metadata": {
        "id": "DhYiMzTVMgLu"
      }
    },
    {
      "cell_type": "code",
      "source": [
        "adj_matr <- as.matrix(as_adjacency_matrix(graph))\n",
        "L <- sum(rowSums(adj_matr))\n",
        "Lsq <- sum(rowSums(adj_matr)^2)\n",
        "rho_free <- (2 * (g-1)^2 * M - L^2 + Lsq) / (L * (g-1)^2 - L^2 + Lsq)\n",
        "rho_free"
      ],
      "metadata": {
        "colab": {
          "base_uri": "https://localhost:8080/",
          "height": 34
        },
        "id": "9sJuzQQYMmcf",
        "outputId": "3c353631-60c7-4c02-9d0e-5cedda905b7b"
      },
      "execution_count": 33,
      "outputs": [
        {
          "output_type": "display_data",
          "data": {
            "text/html": [
              "-0.0185071106171607"
            ],
            "text/markdown": "-0.0185071106171607",
            "text/latex": "-0.0185071106171607",
            "text/plain": [
              "[1] -0.01850711"
            ]
          },
          "metadata": {}
        }
      ]
    },
    {
      "cell_type": "markdown",
      "source": [
        "При свободном выборе чаще появляются ассиметричные или нулевые диады."
      ],
      "metadata": {
        "id": "R58fcZBUct29"
      }
    },
    {
      "cell_type": "markdown",
      "source": [
        "6. Вычислить вероятность того, что связь будет взаимной для каждого случая"
      ],
      "metadata": {
        "id": "U96vsO3CNlsN"
      }
    },
    {
      "cell_type": "code",
      "source": [
        "p_fixed <- (d / (g-1)) * ((d / (g-1)) + rho_fixed*(g - 1 - d) / (g-1))\n",
        "p_fixed"
      ],
      "metadata": {
        "colab": {
          "base_uri": "https://localhost:8080/",
          "height": 34
        },
        "id": "dT_dTo7eNHQ9",
        "outputId": "db3a5f10-0708-461b-870e-f9507d043da7"
      },
      "execution_count": 34,
      "outputs": [
        {
          "output_type": "display_data",
          "data": {
            "text/html": [
              "0.501718213058419"
            ],
            "text/markdown": "0.501718213058419",
            "text/latex": "0.501718213058419",
            "text/plain": [
              "[1] 0.5017182"
            ]
          },
          "metadata": {}
        }
      ]
    },
    {
      "cell_type": "code",
      "source": [
        "p_free <- (rowSums(adj_matr) * colSums(adj_matr)) / (g-1)^2\n",
        "p_free_avg <- sum(p_free) / g\n",
        "p_free_avg"
      ],
      "metadata": {
        "colab": {
          "base_uri": "https://localhost:8080/",
          "height": 34
        },
        "id": "MWV5g3KRNUZS",
        "outputId": "ab3c22dd-a1bb-4a15-fc4e-37c3fc32f020"
      },
      "execution_count": 35,
      "outputs": [
        {
          "output_type": "display_data",
          "data": {
            "text/html": [
              "0.505099826388889"
            ],
            "text/markdown": "0.505099826388889",
            "text/latex": "0.505099826388889",
            "text/plain": [
              "[1] 0.5050998"
            ]
          },
          "metadata": {}
        }
      ]
    },
    {
      "cell_type": "markdown",
      "source": [
        "7. Вычислить индекс взаимности Бандиопадхьяйя. Сделать выводы."
      ],
      "metadata": {
        "id": "9dGKAbp7NvAP"
      }
    },
    {
      "cell_type": "code",
      "source": [
        "gf <- function(row_sum, g, t) {\n",
        "    tmp_sum <- sum(row_sum[1:t])\n",
        "    min_sum <- 0   \n",
        "    for (i in (t+1):g) {\n",
        "        min_sum <- min_sum + min(c(t, row_sum[i]))\n",
        "    }\n",
        "    res <- tmp_sum - t*(t-1) - min_sum\n",
        "    return(res)\n",
        "}\n",
        "\n",
        "ff <- function(s, g, t) {\n",
        "    res <- sum(s[1:t]) - t*(g - 1) - choose(t, 2)\n",
        "    return(res)\n",
        "}\n",
        "\n",
        "s <- rowSums(adj_matr)\n",
        "\n",
        "g_res <- rep(2, g - 1)\n",
        "for (t in 2:(g-1)) {\n",
        "    g_res[t] <- gf(s, g, t)\n",
        "}\n",
        "\n",
        "f_res <- rep(2, g)\n",
        "for (t in 2:g) {\n",
        "    f_res[t] <- ff(row_sum, g, t)\n",
        "}\n",
        "\n",
        "M_max <- floor(0.5 * sum(row_sum[1:g]) - max(g_res))\n",
        "M_min <- max(f_res)\n",
        "\n",
        "B_index <- (M - M_min)/(M_max - M_min)\n",
        "cat(\"Индекс Бандиопадхьяйя: \", B_index)"
      ],
      "metadata": {
        "colab": {
          "base_uri": "https://localhost:8080/"
        },
        "id": "6QgIfJvxNupt",
        "outputId": "3b8bac0a-97a8-41c5-c585-1c6c8a6eb60b"
      },
      "execution_count": 57,
      "outputs": [
        {
          "output_type": "stream",
          "name": "stdout",
          "text": [
            "Индекс Бандиопадхьяйя:  0.7059891"
          ]
        }
      ]
    },
    {
      "cell_type": "markdown",
      "source": [
        "Полученный индекс $B_{index} = 0.7059... \\approx p = 0.71$"
      ],
      "metadata": {
        "id": "k1cRuqeUi4L_"
      }
    },
    {
      "cell_type": "markdown",
      "source": [
        "8. Проверить нулевую гипотезу о том, что число дуг $𝐿$ в орграфе $\\mathcal{G}_d$ имеет биномиальное распределение $𝐿$ ∼ $Bin(𝑔(𝑔 − 1), 1/2)$ при уровне значимости $\\alpha = 0.05$. Определить максимальный уровень значимости при котором нулевая гипотеза не отвергается."
      ],
      "metadata": {
        "id": "uuAjOXBMPeDZ"
      }
    },
    {
      "cell_type": "code",
      "source": [
        "alpha <- 0.05\n",
        "L <- sum(adj_matr)\n",
        "binom.test(L, g*(g-1), p = 0.5)"
      ],
      "metadata": {
        "colab": {
          "base_uri": "https://localhost:8080/",
          "height": 208
        },
        "id": "WYSMpGGTPzxk",
        "outputId": "b4976076-7dbb-413c-d8b8-e01453b653df"
      },
      "execution_count": 40,
      "outputs": [
        {
          "output_type": "display_data",
          "data": {
            "text/plain": [
              "\n",
              "\tExact binomial test\n",
              "\n",
              "data:  L and g * (g - 1)\n",
              "number of successes = 6621, number of trials = 9312, p-value < 2.2e-16\n",
              "alternative hypothesis: true probability of success is not equal to 0.5\n",
              "95 percent confidence interval:\n",
              " 0.7016927 0.7202112\n",
              "sample estimates:\n",
              "probability of success \n",
              "              0.711018 \n"
            ]
          },
          "metadata": {}
        }
      ]
    },
    {
      "cell_type": "markdown",
      "source": [
        "Нулевая гипотеза не выполняется, значит, что вероятность существования ребра между двумя акторами не равна 0.5. Максимальный уровень значимости, при котором гипотеза не отвергается, равне $p-value \\leq 2.2\\cdot10^{-16}$."
      ],
      "metadata": {
        "id": "yRnGdSbARCmb"
      }
    },
    {
      "cell_type": "markdown",
      "source": [
        "9. Проверить нулевую гипотезу о том, что число дуг $𝐿$ в орграфе $\\mathcal{G}_𝑑$ имеет биномиальное распределение $𝐿$ ∼ $Bin(𝑔(𝑔−1), 𝑃_0)$ при уровне значимости $\\alpha$. Определить максимальный уровень значимости при котором нулевая гипотеза не отвергается.\n"
      ],
      "metadata": {
        "id": "jqP7mvWCTqIA"
      }
    },
    {
      "cell_type": "code",
      "source": [
        "P0 <- 0.79\n",
        "binom.test(L, g*(g-1), p = P0)"
      ],
      "metadata": {
        "colab": {
          "base_uri": "https://localhost:8080/",
          "height": 208
        },
        "id": "M1NuP4kIT7RO",
        "outputId": "3c80a631-8110-4cd2-a032-7ec2956fa36f"
      },
      "execution_count": 41,
      "outputs": [
        {
          "output_type": "display_data",
          "data": {
            "text/plain": [
              "\n",
              "\tExact binomial test\n",
              "\n",
              "data:  L and g * (g - 1)\n",
              "number of successes = 6621, number of trials = 9312, p-value < 2.2e-16\n",
              "alternative hypothesis: true probability of success is not equal to 0.79\n",
              "95 percent confidence interval:\n",
              " 0.7016927 0.7202112\n",
              "sample estimates:\n",
              "probability of success \n",
              "              0.711018 \n"
            ]
          },
          "metadata": {}
        }
      ]
    },
    {
      "cell_type": "markdown",
      "source": [
        "$p$-value $<$ $\\alpha$, значит нулевая гипотеза не выполняется. Так как $P_0 = 0.79$, а $p=0.71$, $P_0 = 0.79 $ не принадлежит 95% доверительному интервалу $[0.7016...; 0.7202...]$. Максимальный уровень значимости, при котором гипотеза не отвергается, равна $p-value \\leq 2.2\\cdot10^{-16}$."
      ],
      "metadata": {
        "id": "k225bWssUPUA"
      }
    },
    {
      "cell_type": "markdown",
      "source": [
        "10. Построить доверительный интервал для оценки параметра 𝑝 с доверительной надёжностью (1 − 𝛼). Сделать выводы."
      ],
      "metadata": {
        "id": "Plq6SU-cV0je"
      }
    },
    {
      "cell_type": "code",
      "source": [
        "p_hat <- (sum(adj_matr)) / (g * (g-1))\n",
        "cat(\"Приблизительная p: \",p_hat,\"\\n\")"
      ],
      "metadata": {
        "colab": {
          "base_uri": "https://localhost:8080/"
        },
        "id": "zaTeVlMnV4H2",
        "outputId": "1da1fba4-4ec9-4eb6-fc0b-7448262301e3"
      },
      "execution_count": 44,
      "outputs": [
        {
          "output_type": "stream",
          "name": "stdout",
          "text": [
            "Приблизительная p:  0.711018 \n"
          ]
        }
      ]
    },
    {
      "cell_type": "markdown",
      "source": [
        "$z_{\\alpha/2} = \\phi(0.5 - \\alpha/2) = \\phi(0.5 - 0.05/2) = \\phi(0.475) \\approx 1.96$"
      ],
      "metadata": {
        "id": "tvSPq12mYotk"
      }
    },
    {
      "cell_type": "code",
      "source": [
        "z_a <- 1.96\n",
        "\n",
        "p_lower <- p_hat - z_a * sqrt((p_hat * (1 - p_hat))/(g * (g - 1)))\n",
        "p_upper <- p_hat + z_a * sqrt((p_hat * (1 - p_hat))/(g * (g - 1)))\n",
        "\n",
        "p_lower\n",
        "p_upper"
      ],
      "metadata": {
        "colab": {
          "base_uri": "https://localhost:8080/",
          "height": 52
        },
        "id": "X65E8XGiYoZU",
        "outputId": "68d114e4-6061-48ae-c098-574936765077"
      },
      "execution_count": 46,
      "outputs": [
        {
          "output_type": "display_data",
          "data": {
            "text/html": [
              "0.701811208289359"
            ],
            "text/markdown": "0.701811208289359",
            "text/latex": "0.701811208289359",
            "text/plain": [
              "[1] 0.7018112"
            ]
          },
          "metadata": {}
        },
        {
          "output_type": "display_data",
          "data": {
            "text/html": [
              "0.720224874184868"
            ],
            "text/markdown": "0.720224874184868",
            "text/latex": "0.720224874184868",
            "text/plain": [
              "[1] 0.7202249"
            ]
          },
          "metadata": {}
        }
      ]
    },
    {
      "cell_type": "markdown",
      "source": [
        "Доверительный интервал для $p$ с достоверностью 95%:<br>\n",
        "$0.7018... \\leq p=0.71 \\leq 0.7202...$"
      ],
      "metadata": {
        "id": "MFHwUl6DbMC1"
      }
    },
    {
      "cell_type": "markdown",
      "metadata": {
        "id": "IiRfo5fq2qQG"
      },
      "source": [
        "## Выводы\n",
        "\n",
        "При выполнении работы был создан случайный граф $\\mathcal{G}_𝑑$ на основе модели Эрдеша—Реньи: $\\mathcal{G}_d = \\mathcal{G}(g=97, p = 0.71)$. Для данного графа были вычислены следующие значения: пятичисловая сводка, цензус диад, индекс Каца-Пауэла, индекс Бандиопадхьяйя и сделаны выводы. <br><br>\n",
        "Для данного графа были также проверены две гипотезы: о том, что $p$ существования дуги между двумя случайными вершинами равна $0.5$ и $0.79$. Обе гипотезы в результате проверки были отклонены.<br><br>\n",
        "В процессе выполнения работы было обнаружено, что отображение графа с большим количеством соединений в понятном представлении почти невыполнимая задача. Были опробованы методы укладки графов Фрюхтермана-Рейнгольда и Камада-Каваи. Результат работы этих двух алгоритмов схож. Данная проблема решаема поднятием разрешения выходного изображения."
      ]
    }
  ],
  "metadata": {
    "kernelspec": {
      "display_name": "R",
      "language": "R",
      "name": "ir"
    },
    "language_info": {
      "codemirror_mode": "r",
      "file_extension": ".r",
      "mimetype": "text/x-r-source",
      "name": "R",
      "pygments_lexer": "r",
      "version": "4.0.3"
    },
    "colab": {
      "provenance": []
    }
  },
  "nbformat": 4,
  "nbformat_minor": 0
}