{
 "cells": [
  {
   "cell_type": "markdown",
   "metadata": {},
   "source": [
    "# Практическая работа №3: Статистический анализ социальных сетей.\n",
    "Выполнила студентка гр. 0382 Охотникова Галина. Вариант 42"
   ]
  },
  {
   "cell_type": "markdown",
   "metadata": {},
   "source": [
    "## Цель работы\n",
    "Овладеть навыками работы с математическими пакетами для статистического анализа социальных сетей."
   ]
  },
  {
   "cell_type": "markdown",
   "metadata": {},
   "source": [
    "## Основные теоретические положения\n",
    "\n",
    "#### Виды диад:\n",
    "\n",
    "1. Взаимная диада: $D_{i,j} = (1, 1)$\n",
    "\n",
    "2. Ассиметричная диада: $D_{i,j} = (1, 0)$,  $D_{i,j} = (0, 1)$\n",
    "\n",
    "3. Нулевая диада:  $D_{i,j} = (0, 0)$\n",
    "\n",
    "#### Определения:\n",
    "\n",
    "_Цензус диад_ - тройка чисел $<M, A, N>$, где $M = \\sum_{i < j}(x_{ij}\\cdot x_{ji})$, $A = x_{++} - 2M$, $N = C^2_g - A - M$\n",
    "\n",
    "_Индекс взаимности Каца-Пауэлла_ - характеристика измерения тенденции акторов в группе:\n",
    "\n",
    "$-\\infty <  \\rho_{kp} \\leq 1$\n",
    "\n",
    "Индекс взаимности основан на ожидании количества взаимных диад, предполгая, что выбор делается акторами случайным образом.\n",
    "\n",
    "_Индекс взаимности Бандиопадхьяйя_ - данный индкс основан на минимальном и максимальном значениях количества взаимных диад.\n",
    "\n",
    "Значение индекса: $\\rho_{b} = \\frac{M - M_{min}}{M_{max} - M_{min}}$\n",
    "\n",
    "#### Анализ k-подгрупп:\n",
    "\n",
    "1. Определить количество классов изоморфизма, то есть количество различных состояний, которые могут принимать k-подграфы.\n",
    "\n",
    "2. Рассмотреть все возможные подмножества из k акторов(k-подграфов) в ориентироанном графе с $g$ узлами.\n",
    "\n",
    "3. Определить каждый k-подграф в правильный класс изоморфизма и определить сколько k-подграфов попадет в каждый класс.\n",
    "\n",
    "4. Изучить статистическими или описательными методами частоту появления k-подграфа в классах изоморфизма.\n",
    "\n",
    "#### Равномерное распределение и распределение Бернулли:\n",
    "\n",
    "* $\\#G_d(\\cal {N}) = 2^{g(g - 1)}$\n",
    "\n",
    "* Вероятность получить социоматрицу $x$:\n",
    "\n",
    "$\\mathbb {P}(X = x) = 2^{g(g - 1)}$\n",
    "\n",
    "* Вероятность появления дуги между акторами:\n",
    "\n",
    "$\\mathbb {P}(X_{ij} = 1) = \\begin{cases}\n",
    "    \\frac{1}{2}, i \\ne j\\\\\n",
    "    0, i = j\n",
    "\\end{cases}$\n",
    "\n",
    "* Вероятность появления дуги между акторами:\n",
    "\n",
    "$\\mathbb {P}(X_{ij} = 1) = \\begin{cases}\n",
    "    p_{ij}, i \\ne j\\\\\n",
    "    0, i = j\n",
    "\\end{cases}$\n",
    "\n",
    "#### Анализ количества дуг:\n",
    "\n",
    "* Число дуг: \n",
    "\n",
    "$L \\sim B((g(g - 1)), \\frac{1}{2})$\n",
    "\n",
    "* Вероятность, что число дуг равно $l$:\n",
    "\n",
    "$\\mathbb {P}(L = l) = \\binom {g(g - 1)}{l} \\cdot  2^{g(1 - g)}$\n",
    "\n",
    "* Матемаическое ожидание:\n",
    "\n",
    "$\\mathbb {E}(L) = \\binom {g}{2}$\n",
    "\n",
    "* Дисперсия:\n",
    "\n",
    "$\\mathbb {D}(L) = \\frac{1}{2} \\binom {g}{2}$\n",
    "\n",
    "* Нулевая гипотеза:\n",
    "\n",
    "$\\mathbb {H}_0$: $L \\sim B((g(g - 1)), \\frac{1}{2})$\n",
    "\n",
    "* Статистика:\n",
    "\n",
    "$z_l = \\frac{l - \\mathbb {E}(L)}{\\sqrt {\\mathbb {D}(L)}}$, где $l = \\sum_{i = 1}^g\\sum_{j = 1}^gx_{ij}$\n",
    "\n",
    "* Данная статистика является приблизительно стандартным нормальным распределением при заданном уровне значимости.\n",
    "\n",
    "#### Оценка вероятности $\\mathbb {P}$:\n",
    "\n",
    "* $L \\sim B((g(g - 1)), \\mathbb {P}_0)$\n",
    "\n",
    "* Вероятность, что количество дуг равно $l$:\n",
    "\n",
    "$\\mathbb {P}(L = l) = \\binom {g(g - 1)}{l} = p_0^l(1 - p_0)^{g(g - 1) - l}$\n",
    "\n",
    "* Математическое ожидание:\n",
    "\n",
    "$\\mathbb {E}(L) = p_0g(g - 1)$\n",
    "\n",
    "* Дисперсия:\n",
    "\n",
    "$\\mathbb {D}(L) = p_0(1 - p_0)g(g - 1)$\n",
    "\n",
    "#### Анализ количества дуг:\n",
    "\n",
    "* Нулевая гипотеза:\n",
    "\n",
    "$\\mathbb {H}_0$: $L \\sim B((g(g - 1)), \\mathbb {P}_0)$\n",
    "\n",
    "* Статистика:\n",
    "\n",
    "$z_l = \\frac{l - \\mathbb {E}(L)}{\\sqrt {\\mathbb {D}(L)}}$, где $l = \\sum_{i = 1}^g\\sum_{j = 1}^gx_{ij}$\n",
    "\n",
    "* Данная статистика является приблизительно стандартным нормальным распределением при заданном уровне значимости.\n",
    "\n",
    "#### Доверительный интервал:\n",
    "\n",
    "* Оценка параметра $p$:\n",
    "\n",
    "$ \\hat {p} = \\frac{l}{g(g - 1)}$\n",
    "\n",
    "* Доверительный интервал:\n",
    "\n",
    "$\\hat {p}_{lower} \\leq p \\leq  \\hat {p}_{upper}$\n",
    "\n",
    "$\\hat {p}_{lower} = \\hat {p} - z_{\\frac {\\alpha}{2}} \\cdot \\sqrt {\\frac {\\hat {p}(1 - \\hat{p})}{g(g - 1)}}$\n",
    "\n",
    "$\\hat {p}_{upper} = \\hat {p} + z_{\\frac {\\alpha}{2}} \\cdot \\sqrt {\\frac {\\hat {p}(1 - \\hat{p})}{g(g - 1)}}$\n",
    "\n",
    "Здесь $z_{\\frac{\\alpha}{2}}$: $\\Phi(\\frac{\\alpha}{2}) = 0.5 - \\frac{\\alpha}{2}$"
   ]
  },
  {
   "cell_type": "markdown",
   "metadata": {},
   "source": [
    "## Постановка задачи\n",
    "С помощью математических пакетов и соответствующих библиотек провести статистический анализ случайно смоделированного ориентирован-ного графа. Полученные результаты содержательно проинтерпретировать."
   ]
  },
  {
   "cell_type": "markdown",
   "metadata": {},
   "source": [
    "## Выполнение работы\n"
   ]
  },
  {
   "cell_type": "markdown",
   "metadata": {},
   "source": [
    "Подключение пакетов:"
   ]
  },
  {
   "cell_type": "code",
   "execution_count": 2,
   "metadata": {
    "vscode": {
     "languageId": "r"
    }
   },
   "outputs": [
    {
     "name": "stderr",
     "output_type": "stream",
     "text": [
      "\n",
      "Присоединяю пакет: 'igraph'\n",
      "\n",
      "\n",
      "Следующие объекты скрыты от 'package:stats':\n",
      "\n",
      "    decompose, spectrum\n",
      "\n",
      "\n",
      "Следующий объект скрыт от 'package:base':\n",
      "\n",
      "    union\n",
      "\n",
      "\n",
      "Warning message:\n",
      "\"пакет 'devtools' был собран под R версии 4.2.2\"\n",
      "Загрузка требуемого пакета: usethis\n",
      "\n",
      "Warning message:\n",
      "\"пакет 'statnet' был собран под R версии 4.2.2\"\n",
      "Загрузка требуемого пакета: tergm\n",
      "\n",
      "Загрузка требуемого пакета: ergm\n",
      "\n",
      "Загрузка требуемого пакета: network\n",
      "\n",
      "\n",
      "'network' 1.18.0 (2022-10-05), part of the Statnet Project\n",
      "* 'news(package=\"network\")' for changes since last version\n",
      "* 'citation(\"network\")' for citation information\n",
      "* 'https://statnet.org' for help, support, and other information\n",
      "\n",
      "\n",
      "\n",
      "Присоединяю пакет: 'network'\n",
      "\n",
      "\n",
      "Следующие объекты скрыты от 'package:igraph':\n",
      "\n",
      "    %c%, %s%, add.edges, add.vertices, delete.edges, delete.vertices,\n",
      "    get.edge.attribute, get.edges, get.vertex.attribute, is.bipartite,\n",
      "    is.directed, list.edge.attributes, list.vertex.attributes,\n",
      "    set.edge.attribute, set.vertex.attribute\n",
      "\n",
      "\n",
      "\n",
      "'ergm' 4.2.3 (2022-10-02), part of the Statnet Project\n",
      "* 'news(package=\"ergm\")' for changes since last version\n",
      "* 'citation(\"ergm\")' for citation information\n",
      "* 'https://statnet.org' for help, support, and other information\n",
      "\n",
      "\n",
      "'ergm' 4 is a major update that introduces some backwards-incompatible\n",
      "changes. Please type 'news(package=\"ergm\")' for a list of major\n",
      "changes.\n",
      "\n",
      "\n",
      "Загрузка требуемого пакета: networkDynamic\n",
      "\n",
      "\n",
      "'networkDynamic' 0.11.2 (2022-05-04), part of the Statnet Project\n",
      "* 'news(package=\"networkDynamic\")' for changes since last version\n",
      "* 'citation(\"networkDynamic\")' for citation information\n",
      "* 'https://statnet.org' for help, support, and other information\n",
      "\n",
      "\n",
      "Registered S3 method overwritten by 'tergm':\n",
      "  method                   from\n",
      "  simulate_formula.network ergm\n",
      "\n",
      "\n",
      "'tergm' 4.1.0 (2022-06-22), part of the Statnet Project\n",
      "* 'news(package=\"tergm\")' for changes since last version\n",
      "* 'citation(\"tergm\")' for citation information\n",
      "* 'https://statnet.org' for help, support, and other information\n",
      "\n",
      "\n",
      "\n",
      "Присоединяю пакет: 'tergm'\n",
      "\n",
      "\n",
      "Следующий объект скрыт от 'package:ergm':\n",
      "\n",
      "    snctrl\n",
      "\n",
      "\n",
      "Загрузка требуемого пакета: ergm.count\n",
      "\n",
      "\n",
      "'ergm.count' 4.1.1 (2022-05-24), part of the Statnet Project\n",
      "* 'news(package=\"ergm.count\")' for changes since last version\n",
      "* 'citation(\"ergm.count\")' for citation information\n",
      "* 'https://statnet.org' for help, support, and other information\n",
      "\n",
      "\n",
      "Загрузка требуемого пакета: sna\n",
      "\n",
      "Загрузка требуемого пакета: statnet.common\n",
      "\n",
      "\n",
      "Присоединяю пакет: 'statnet.common'\n",
      "\n",
      "\n",
      "Следующий объект скрыт от 'package:ergm':\n",
      "\n",
      "    snctrl\n",
      "\n",
      "\n",
      "Следующие объекты скрыты от 'package:base':\n",
      "\n",
      "    attr, order\n",
      "\n",
      "\n",
      "sna: Tools for Social Network Analysis\n",
      "Version 2.7 created on 2022-05-09.\n",
      "copyright (c) 2005, Carter T. Butts, University of California-Irvine\n",
      " For citation information, type citation(\"sna\").\n",
      " Type help(package=\"sna\") to get started.\n",
      "\n",
      "\n",
      "\n",
      "Присоединяю пакет: 'sna'\n",
      "\n",
      "\n",
      "Следующие объекты скрыты от 'package:igraph':\n",
      "\n",
      "    betweenness, bonpow, closeness, components, degree, dyad.census,\n",
      "    evcent, hierarchy, is.connected, neighborhood, triad.census\n",
      "\n",
      "\n",
      "Загрузка требуемого пакета: tsna\n",
      "\n",
      "\n",
      "'statnet' 2019.6 (2019-06-13), part of the Statnet Project\n",
      "* 'news(package=\"statnet\")' for changes since last version\n",
      "* 'citation(\"statnet\")' for citation information\n",
      "* 'https://statnet.org' for help, support, and other information\n",
      "\n",
      "\n",
      "\n",
      "There are updates for the following statnet packages on CRAN:\n",
      "\n"
     ]
    },
    {
     "name": "stdout",
     "output_type": "stream",
     "text": [
      "      Installed ReposVer Built  \n",
      "ergm  \"4.2.3\"   \"4.3.2\"  \"4.2.1\"\n",
      "tergm \"4.1.0\"   \"4.1.1\"  \"4.2.1\"\n"
     ]
    },
    {
     "name": "stderr",
     "output_type": "stream",
     "text": [
      "Restart R and use \"statnet::update_statnet()\" to get the updates.\n",
      "\n",
      "Warning message:\n",
      "\"пакет 'intergraph' был собран под R версии 4.2.2\"\n"
     ]
    }
   ],
   "source": [
    "#install.packages(\"statnet\")\n",
    "#install.packages(\"devtools\")\n",
    "#install.packages(\"intergraph\")\n",
    "library(igraph)\n",
    "library(devtools)\n",
    "library(statnet)\n",
    "library(network)\n",
    "library(intergraph)"
   ]
  },
  {
   "cell_type": "markdown",
   "metadata": {},
   "source": [
    "#### Пункт 1:"
   ]
  },
  {
   "cell_type": "markdown",
   "metadata": {},
   "source": [
    "В модели $G(n, p)$ граф строится путём случайного добавления рёбер. Каждое ребро включается в граф с вероятностью p независимо от остальных рёбер. Эквивалентно, все графы с n узлами и M рёбрами имеют одинаковую вероятность.\n",
    "\n",
    "$p^M ( 1 − p )^{( n 2 ) − M}$\n",
    "\n",
    "Параметр $p$ в этой модели можно рассматривать как функцию веса. По мере роста $p$ от 0 к 1 модель включает с большей вероятностью графы с бо́льшим числом рёбер. В частности, случай $p = 0,5$ соответствует случаю, когда все ${\\displaystyle 2^{\\binom {n}{2}}}$ графы с $n$ вершинами будут выбраны с равной вероятностью."
   ]
  },
  {
   "cell_type": "code",
   "execution_count": 3,
   "metadata": {
    "vscode": {
     "languageId": "r"
    }
   },
   "outputs": [
    {
     "data": {
      "text/plain": [
       "IGRAPH 99848a1 D--- 81 4173 -- Erdos-Renyi (gnp) graph\n",
       "+ attr: name (g/c), type (g/c), loops (g/l), p (g/n)\n",
       "+ edges from 99848a1:\n",
       "  [1]  1->1  2->1  3->1  7->1  8->1 10->1 11->1 13->1 14->1 16->1 17->1 18->1\n",
       " [13] 19->1 20->1 21->1 22->1 23->1 26->1 29->1 31->1 32->1 33->1 35->1 36->1\n",
       " [25] 39->1 40->1 41->1 43->1 45->1 50->1 51->1 52->1 53->1 54->1 58->1 59->1\n",
       " [37] 60->1 61->1 65->1 66->1 67->1 68->1 73->1 77->1 78->1 79->1 80->1 81->1\n",
       " [49]  1->2  4->2  5->2  7->2  8->2  9->2 10->2 12->2 14->2 16->2 17->2 18->2\n",
       " [61] 20->2 23->2 24->2 25->2 26->2 27->2 30->2 31->2 34->2 36->2 38->2 39->2\n",
       " [73] 40->2 41->2 42->2 45->2 47->2 49->2 50->2 51->2 53->2 54->2 57->2 59->2\n",
       " [85] 60->2 61->2 62->2 63->2 65->2 67->2 69->2 70->2 71->2 72->2 73->2 74->2\n",
       "+ ... omitted several edges"
      ]
     },
     "metadata": {},
     "output_type": "display_data"
    }
   ],
   "source": [
    "graph <-erdos.renyi.game(81, 0.65, 'gnp', TRUE, TRUE)\n",
    "graph"
   ]
  },
  {
   "cell_type": "markdown",
   "metadata": {},
   "source": [
    "#### Пункт 2:"
   ]
  },
  {
   "cell_type": "code",
   "execution_count": 12,
   "metadata": {
    "vscode": {
     "languageId": "r"
    }
   },
   "outputs": [
    {
     "data": {
      "image/png": "[encoded data removed]",
      "text/plain": [
       "Plot with title \"\""
      ]
     },
     "metadata": {
      "image/png": {
       "height": 420,
       "width": 420
      }
     },
     "output_type": "display_data"
    },
    {
     "data": {
      "image/png": "[encoded data removed]",
      "text/plain": [
       "plot without title"
      ]
     },
     "metadata": {
      "image/png": {
       "height": 420,
       "width": 420
      }
     },
     "output_type": "display_data"
    }
   ],
   "source": [
    "plot(graph)\n",
    "net <- asNetwork(graph)\n",
    "gplot(net, gmode = 'graph', vertex.col = 7, vertex.cex = 1, displaylabels = TRUE, mode=\"fruchtermanreingold\")"
   ]
  },
  {
   "cell_type": "markdown",
   "metadata": {},
   "source": [
    "#### Пункт 3:"
   ]
  },
  {
   "cell_type": "code",
   "execution_count": 13,
   "metadata": {
    "vscode": {
     "languageId": "r"
    }
   },
   "outputs": [
    {
     "name": "stdout",
     "output_type": "stream",
     "text": [
      "Размер сети:  81\n",
      "Плотность сети:  0.6359568\n",
      "Количество компонент сети:  1\n",
      "Диаметр сети:  2\n",
      "Коэффициент кластеризации: 0.6355799"
     ]
    }
   ],
   "source": [
    "#Размер\n",
    "cat('Размер сети: ', network.size(net))\n",
    "g = network.size(net)\n",
    "#Плотность\n",
    "cat('\\nПлотность сети: ', gden(net))\n",
    "#Компотненты\n",
    "cat('\\nКоличество компонент сети: ', components(net))\n",
    "#Диаметр сети\n",
    "#Выбираем наибольшую компоненту\n",
    "lgc <- component.largest(net, result = \"graph\")\n",
    "#Находим геодезические расстояния\n",
    "gd <- geodist(lgc)\n",
    "#Берем максимальное\n",
    "cat('\\nДиаметр сети: ', max(gd$gdist))\n",
    "#Коэффициент кластеризации\n",
    "cat('\\nКоэффициент кластеризации:', gtrans(net, mode = \"graph\"))"
   ]
  },
  {
   "cell_type": "markdown",
   "metadata": {},
   "source": [
    "#### Пункт 4:"
   ]
  },
  {
   "attachments": {},
   "cell_type": "markdown",
   "metadata": {},
   "source": [
    "Выводы: количество взаимных диад - 1366, ассиметричных - 1509, нулевых - 365"
   ]
  },
  {
   "cell_type": "code",
   "execution_count": 17,
   "metadata": {
    "vscode": {
     "languageId": "r"
    }
   },
   "outputs": [
    {
     "name": "stdout",
     "output_type": "stream",
     "text": [
      "Цензус диад - тройка чисел <M, A, N>:"
     ]
    },
    {
     "data": {
      "text/html": [
       "<dl>\n",
       "\t<dt>$mut</dt>\n",
       "\t\t<dd>1300</dd>\n",
       "\t<dt>$asym</dt>\n",
       "\t\t<dd>1521</dd>\n",
       "\t<dt>$null</dt>\n",
       "\t\t<dd>419</dd>\n",
       "</dl>\n"
      ],
      "text/latex": [
       "\\begin{description}\n",
       "\\item[\\$mut] 1300\n",
       "\\item[\\$asym] 1521\n",
       "\\item[\\$null] 419\n",
       "\\end{description}\n"
      ],
      "text/markdown": [
       "$mut\n",
       ":   1300\n",
       "$asym\n",
       ":   1521\n",
       "$null\n",
       ":   419\n",
       "\n",
       "\n"
      ],
      "text/plain": [
       "$mut\n",
       "[1] 1300\n",
       "\n",
       "$asym\n",
       "[1] 1521\n",
       "\n",
       "$null\n",
       "[1] 419\n"
      ]
     },
     "metadata": {},
     "output_type": "display_data"
    }
   ],
   "source": [
    "# matr <- as.matrix(net)\n",
    "# M <- 0\n",
    "# sum <- 0\n",
    "\n",
    "# for(i in 1:nrow(matr)){\n",
    "#     for(j in 1:ncol(matr)){\n",
    "#         if (i < j) {\n",
    "#             M <- M + matr[i,j]*matr[j,i]\n",
    "#         }\n",
    "#     }\n",
    "# }\n",
    "\n",
    "# for(i in 1:nrow(matr)){\n",
    "#     for(j in 1:ncol(matr)){\n",
    "#         sum <- sum + matr[i, j]\n",
    "#     }\n",
    "# }\n",
    "# A <- sum - 2*M\n",
    "\n",
    "# N <- factorial(g)/(factorial(2)*factorial(g - 2)) - A - M \n",
    "\n",
    "cat(\"Цензус диад - тройка чисел <M, A, N>:\")\n",
    "census <- dyad_census(graph)\n",
    "census"
   ]
  },
  {
   "cell_type": "markdown",
   "metadata": {},
   "source": [
    "#### Пункт 5:"
   ]
  },
  {
   "attachments": {},
   "cell_type": "markdown",
   "metadata": {},
   "source": [
    "Можно сделать вывод о том, что при свободном выборе акторов вычисляемый индекс меньше, чем при фиксированном. То есть при фиксированном выборе акторы образуют больше взаимных связей."
   ]
  },
  {
   "cell_type": "code",
   "execution_count": 19,
   "metadata": {
    "vscode": {
     "languageId": "r"
    }
   },
   "outputs": [
    {
     "name": "stdout",
     "output_type": "stream",
     "text": [
      "При фиксированном выборе d -0.09347443 \n",
      "При свободном выборе d -0.05861589"
     ]
    }
   ],
   "source": [
    "g <- 81\n",
    "p <- 0.65\n",
    "d <- floor(g*p)\n",
    "M <- census$mut\n",
    "\n",
    "P1 <- (2*M*(g-1) - g*(d**2))/(g*d*(g-1-d))\n",
    "cat(\"При фиксированном выборе d:\", P1, \"\\n\")\n",
    "\n",
    "\n",
    "L <- length(E(graph))\n",
    "L2 <- 0\n",
    "matr <- as.matrix(net)\n",
    "\n",
    "for(i in 1:nrow(matr)){\n",
    "    sum1 <- 0\n",
    "    for (j in 1:ncol(matr)){\n",
    "        sum1 <- sum1 + matr[i, j]\n",
    "    }\n",
    "    L2 <- L2 + (sum1**2)\n",
    "}\n",
    "\n",
    "P2 <- (2*M*((g-1)**2)-L**2 + L2)/(L*((g-1)**2)-L**2+L2)\n",
    "cat(\"При свободном выборе d:\", P2)\n"
   ]
  },
  {
   "cell_type": "markdown",
   "metadata": {},
   "source": [
    "#### Пункт 6:"
   ]
  },
  {
   "cell_type": "code",
   "execution_count": 29,
   "metadata": {
    "vscode": {
     "languageId": "r"
    }
   },
   "outputs": [
    {
     "name": "stdout",
     "output_type": "stream",
     "text": [
      "При фиксированном выборе d: 0.4012346 \n",
      "При свободном выборе d: 0.4151833 \n"
     ]
    }
   ],
   "source": [
    "P_fix <- (d / (g-1)) * ((d/(g-1)) + P1*(g - 1 - d) / (g - 1))\n",
    "cat(\"При фиксированном выборе d:\", P_fix, \"\\n\")\n",
    "\n",
    "P_free <- (rowSums(matr) * colSums(matr))/(g - 1)^2\n",
    "P_free <- sum(P_free)/g\n",
    "cat(\"При свободном выборе d:\", P_free, \"\\n\")"
   ]
  },
  {
   "cell_type": "markdown",
   "metadata": {},
   "source": [
    "#### Пункт 7:"
   ]
  },
  {
   "attachments": {},
   "cell_type": "markdown",
   "metadata": {},
   "source": [
    "Полученный индекс приблизительно равен 0.62, что почти совпадает со значением вероятности, с которой был построен граф."
   ]
  },
  {
   "cell_type": "code",
   "execution_count": 20,
   "metadata": {
    "vscode": {
     "languageId": "r"
    }
   },
   "outputs": [
    {
     "name": "stdout",
     "output_type": "stream",
     "text": [
      "Индекс взаимности Бандиопадхьяйя: 0.6232023"
     ]
    }
   ],
   "source": [
    "v_1 <- c()\n",
    "v_2 <- c()\n",
    "for(t in 0:g){\n",
    "    s <- 0\n",
    "    if (t>0) {\n",
    "        for(i in 1:t) {\n",
    "            s <- s + sum(matr[i, ])\n",
    "        }\n",
    "    }\n",
    "    f_t <- s - t*(g - 1) - choose(t, 2)\n",
    "    v_1 <- append(v_1, f_t)\n",
    "    s2 <- 0\n",
    "    if (t + 1 <= g){\n",
    "        for(i in (t+1):g) {\n",
    "            s2 <- s2 + min(t, sum(matr[i, ]))\n",
    "        }\n",
    "    }\n",
    "    g_t <- s - t*(t-1) - s2\n",
    "    v_2 <- append(v_2, g_t)\n",
    "}\n",
    "M_min <- max(v_1)\n",
    "M_max <- floor(0.5*(sum(matr) - max(v_2)))\n",
    "P_B <- (M - M_min)/(M_max - M_min)\n",
    "cat(\"Индекс взаимности Бандиопадхьяйя:\", P_B)"
   ]
  },
  {
   "attachments": {},
   "cell_type": "markdown",
   "metadata": {},
   "source": [
    "#### Пункт 8:"
   ]
  },
  {
   "attachments": {},
   "cell_type": "markdown",
   "metadata": {},
   "source": [
    "Заметим, что максимальный уровень значимости меньше, чем $\\alpha$. Получается, что нулевая гипотеза о том, что вероятность построения ребра равна 0.5, отвергается и принимается альтернативная. Максимальный уровень значимости - $p\\_value$"
   ]
  },
  {
   "cell_type": "code",
   "execution_count": 27,
   "metadata": {
    "vscode": {
     "languageId": "r"
    }
   },
   "outputs": [
    {
     "data": {
      "text/plain": [
       "\n",
       "\tExact binomial test\n",
       "\n",
       "data:  length(E(graph)) and g * (g - 1)\n",
       "number of successes = 4173, number of trials = 6480, p-value < 2.2e-16\n",
       "alternative hypothesis: true probability of success is not equal to 0.5\n",
       "95 percent confidence interval:\n",
       " 0.6321833 0.6556499\n",
       "sample estimates:\n",
       "probability of success \n",
       "             0.6439815 \n"
      ]
     },
     "metadata": {},
     "output_type": "display_data"
    }
   ],
   "source": [
    "a <- 0.04\n",
    "binom.test(length(E(graph)), g*(g - 1), p = 0.5)"
   ]
  },
  {
   "attachments": {},
   "cell_type": "markdown",
   "metadata": {},
   "source": [
    "#### Пункт 9:"
   ]
  },
  {
   "attachments": {},
   "cell_type": "markdown",
   "metadata": {},
   "source": [
    "Нулевая гипотеза отвергается, принимается альтернативная. Максимальный уровень значимости - $p\\_value$"
   ]
  },
  {
   "cell_type": "code",
   "execution_count": 25,
   "metadata": {
    "vscode": {
     "languageId": "r"
    }
   },
   "outputs": [
    {
     "data": {
      "text/plain": [
       "\n",
       "\tExact binomial test\n",
       "\n",
       "data:  length(E(graph)) and g * (g - 1)\n",
       "number of successes = 4173, number of trials = 6480, p-value < 2.2e-16\n",
       "alternative hypothesis: true probability of success is not equal to 0.53\n",
       "95 percent confidence interval:\n",
       " 0.6321833 0.6556499\n",
       "sample estimates:\n",
       "probability of success \n",
       "             0.6439815 \n"
      ]
     },
     "metadata": {},
     "output_type": "display_data"
    }
   ],
   "source": [
    "P_0 <- 0.53\n",
    "binom.test(length(E(graph)), g*(g - 1), p = P_0)"
   ]
  },
  {
   "cell_type": "markdown",
   "metadata": {},
   "source": [
    "#### Пункт 10:"
   ]
  },
  {
   "attachments": {},
   "cell_type": "markdown",
   "metadata": {},
   "source": [
    "Доверительный интервал построен верно, так как $p = 0.65$ попало в полученный интервар"
   ]
  },
  {
   "cell_type": "code",
   "execution_count": 24,
   "metadata": {
    "vscode": {
     "languageId": "r"
    }
   },
   "outputs": [
    {
     "data": {
      "text/html": [
       "4173"
      ],
      "text/latex": [
       "4173"
      ],
      "text/markdown": [
       "4173"
      ],
      "text/plain": [
       "[1] 4173"
      ]
     },
     "metadata": {},
     "output_type": "display_data"
    },
    {
     "data": {
      "text/html": [
       "4173"
      ],
      "text/latex": [
       "4173"
      ],
      "text/markdown": [
       "4173"
      ],
      "text/plain": [
       "[1] 4173"
      ]
     },
     "metadata": {},
     "output_type": "display_data"
    },
    {
     "name": "stdout",
     "output_type": "stream",
     "text": [
      "Доверительный интервал: [ 0.6318472 , 0.6561158 ]"
     ]
    }
   ],
   "source": [
    "L <- length(E(graph))\n",
    "g <- 81\n",
    "P_hat <- L/(g*(g-1))\n",
    "z_a2 <- 2.04\n",
    "P_lower <- P_hat-z_a2*sqrt((P_hat*(1-P_hat))/(g*(g-1)))\n",
    "P_upper <- P_hat+z_a2*sqrt((P_hat*(1-P_hat))/(g*(g-1)))\n",
    "cat(\"Доверительный интервал:\", '[', P_lower, ',', P_upper, ']')"
   ]
  },
  {
   "attachments": {},
   "cell_type": "markdown",
   "metadata": {},
   "source": [
    "## Выводы\n",
    "\n",
    "При выполнении данной практической работы был сгенерирован случайный ориентированный граф на основе модели Эрдеша—Реньи на 81 вершине с вероятностью появления ребра между вершинами 0.65. Данный граф был отображен, для него была вычислена пятичисловая сводка, цензус диад, индексы Каца—Пауэла и Бандиопадхьяйя. \n",
    "\n",
    "Были проверены нулевые гипотезы о том, имеет ли число дуг биномиальное распределение с различными параметрами, а также посчитаны максимальные уровни значимости. Был построен доверительный интервал с надежностью $1 - \\alpha$."
   ]
  }
 ],
 "metadata": {
  "kernelspec": {
   "display_name": "R",
   "language": "R",
   "name": "ir"
  },
  "language_info": {
   "codemirror_mode": "r",
   "file_extension": ".r",
   "mimetype": "text/x-r-source",
   "name": "R",
   "pygments_lexer": "r",
   "version": "4.2.1"
  }
 },
 "nbformat": 4,
 "nbformat_minor": 4
}
