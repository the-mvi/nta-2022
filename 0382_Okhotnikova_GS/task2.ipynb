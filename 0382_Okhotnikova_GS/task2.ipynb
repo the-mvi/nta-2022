{
 "cells": [
  {
   "cell_type": "markdown",
   "metadata": {},
   "source": [
    "# Практическая работа №2: Исследование подгрупп сетей. Сети аффилированности\n",
    "\n",
    "Выполнила студентка гр. 0382 Охотникова Галина. Вариант №42"
   ]
  },
  {
   "cell_type": "markdown",
   "metadata": {},
   "source": [
    "## Цель работы\n",
    "Овладеть навыками работы с математическими пакетами для исследования подгрупп в социальных сетях, а также моделирования, отображения\n",
    "и анализа сетей аффилированности."
   ]
  },
  {
   "cell_type": "markdown",
   "metadata": {},
   "source": [
    "## Основные теоретические положения\n",
    "\n",
    "### Определения:\n",
    "_n-клика_ - максимальный подграф, в котором наибольшее геодезическое расстояние между любыми двумя узлами не превышает n.\n",
    "\n",
    "_n-клан_ - n-клика, в которой геодезическое расстояние между всеми узлами в подграфе не превышает n для путей внутри подграфа.\n",
    "\n",
    "_n-клуб_ - максимальный подграф диаметра меньше либо равно n.\n",
    "\n",
    "_k-ядро_ - максимальный подграф, в котором каждая вершина связана минимум с _k_ другими вершинами этого же подграфа.\n",
    "\n",
    "_k-плекс_ - максимальный подграф, содержащий $g_s$ узлов, в котором каждый узел смежен с не менее чем с $g_s - k$ узлами подграфа.\n",
    "\n",
    "_Полупуть_ от узла _i_ до узла _j_ - последовательность различных узлов, где все последовательные пары узлов соединены дугой от первого ко второму или наоборот.\n",
    "\n",
    "_Модулярность_ - характеристика структуры сети, в частности степень кластеризации узлов, когда внутри кластера наблюдается много узлов, а между кластерами мало узлов. показатель модулярности определяется как разница между долей связей внутри группы и ожидаемой доли связей, если бы связи были размещены случайно.\n",
    "\n",
    "_Сеть аффилированности_ - сеть, в которой участники аффилированы друг с другом на основе сотрудничества в рамках какой-то группы или совместного участия в определенном событии. Сеть состоит из двух измерений.\n",
    "\n",
    "_Гиперграф_ - обобщение понятия графа: гиперграф состоит из множества объектов и множества подмножеств объектов, в котором каждый объект принадлежит хотя бы одному подмножеству, причем ни одно подмножество не является пустым.\n",
    "\n",
    "$\\cal {H = H(A, B)}$, где $\\cal{A} = \\{a_1, ..., a_n\\}$ - множество объектов; $\\cal{B} = \\{b_1, ..., b_n\\}$ - множество  ребер\n",
    "\n",
    "_Двойственный гипеграф_ для гипперграфа $\\cal {H = H(A, B)}$:\n",
    "\n",
    "$\\cal {H* = H(B, A)}$, где $\\cal{A} = \\{a_1, ..., a_n\\}$ - множество ребер; $\\cal{B} = \\{b_1, ..., b_n\\}$ - множество  объектов\n",
    "\n",
    "* Матрица соучастия акторов:\n",
    "\n",
    "$X^{\\cal{N}} = \\{x_{ij}^{\\cal{N}} \\}$\n",
    "\n",
    "$x_{ij}^{\\cal{N}} = \\sum_{k = 1}^{h} a_{ik}a_{jk}$\n",
    "\n",
    "* Матрица перекрытия событий:\n",
    "\n",
    "$X^{\\cal{M}} = \\{x_{kl}^{\\cal{M}} \\}$\n",
    "\n",
    "$x_{kl}^{\\cal{M}} = \\sum_{i = 1}^{g} a_{ik}a_{jl}$\n",
    "\n",
    "_Степень участия_ - количество событий, с которым связан каждый актор.\n",
    "\n",
    "$a_{i+} = \\sum_{j = 1}^{h} a_{ij} = x_{ii}^{\\cal{N}}$\n",
    "\n",
    "_Размер событий:_\n",
    "\n",
    "$a_{+j} = \\sum_{i = 1}^{g} a_{ij} = x_{ii}^{\\cal{M}}$\n",
    "\n",
    "_Средний размер событий_ - среднее количество акторов в каждом событии или средняя степень узлов, прндставляющих события в двудольном графе.\n",
    "\n",
    "$\\overline {a}_{ij} = \\frac{1}{h} \\sum_{j = 1}^{h} x_{jj}^{\\cal{M}}$\n",
    "\n",
    "_Связная сеть аффилированности_ - сеть, в которой все пары узлов достижимы.\n",
    "\n",
    "_Диаметр аффилированной сети_ -длина самого длинного пути между любой парой акторов и/или событий.\n",
    "\n",
    "_Клика уровня с в взвешенном графе_ - максимальный полный подграф из трех или более узлов, все из которых являются смежными на уровне _c_, то есть между всеми парами узлов есть ребра со значениями, большими или равными _c_.\n",
    "\n",
    "_Клика уровня с для отношения соучастия_ - подграф, в котором все пары акторов совместно участвуют не менее чем в _c_ событиях.\n",
    "\n",
    "_Клика уровня с для отношения перекрытия_ - подграф, в котором все пары событий имеют не менее _с_ общих членов.\n",
    "\n",
    "### Свойства сетей аффилированности:\n",
    "1. Количество перекрывающихся связей между событиями частично зависит от количества событий, к которым принадлежат акторы.\n",
    "\n",
    "2. Количество связей соучастия между акторами частично зависит от размера событий.\n",
    "\n",
    "3. Актор, принадлежащий $a_{i+}$ событиям, создает $C_{a_{i+}}^2$ парных связей между событиями.\n",
    "\n",
    "4. Событие с участиеми $a_{+j}$ участников создает $C_{a_{+о}}^2$ связей между парами акторов.\n",
    "\n",
    "5. Плотность для дихотомического отношения - доля присутствующих связей.\n",
    "\n",
    "6. Плоность для ценностных отношений - среднее значение связей."
   ]
  },
  {
   "cell_type": "markdown",
   "metadata": {},
   "source": [
    "## Постановка задачи\n",
    "С помощью математических пакетов и соответствующих библиотек провести анализ заданных социальных сетей на предмет подгрупп. Провести\n",
    "исследование сети аффилированности CEO. Полученные результаты содержательно проинтерпретировать"
   ]
  },
  {
   "cell_type": "markdown",
   "metadata": {},
   "source": [
    "## Выполнение работы\n",
    "Установка пакетов"
   ]
  },
  {
   "cell_type": "code",
   "execution_count": 3,
   "metadata": {
    "vscode": {
     "languageId": "r"
    }
   },
   "outputs": [
    {
     "name": "stderr",
     "output_type": "stream",
     "text": [
      "Warning message:\n",
      "\"пакет 'devtools' был собран под R версии 4.2.2\"\n",
      "Загрузка требуемого пакета: usethis\n",
      "\n",
      "Загрузка требуемого пакета: graph\n",
      "\n",
      "Загрузка требуемого пакета: BiocGenerics\n",
      "\n",
      "\n",
      "Присоединяю пакет: 'BiocGenerics'\n",
      "\n",
      "\n",
      "Следующие объекты скрыты от 'package:stats':\n",
      "\n",
      "    IQR, mad, sd, var, xtabs\n",
      "\n",
      "\n",
      "Следующие объекты скрыты от 'package:base':\n",
      "\n",
      "    anyDuplicated, aperm, append, as.data.frame, basename, cbind,\n",
      "    colnames, dirname, do.call, duplicated, eval, evalq, Filter, Find,\n",
      "    get, grep, grepl, intersect, is.unsorted, lapply, Map, mapply,\n",
      "    match, mget, order, paste, pmax, pmax.int, pmin, pmin.int,\n",
      "    Position, rank, rbind, Reduce, rownames, sapply, setdiff, sort,\n",
      "    table, tapply, union, unique, unsplit, which.max, which.min\n",
      "\n",
      "\n",
      "\n",
      "Присоединяю пакет: 'igraph'\n",
      "\n",
      "\n",
      "Следующие объекты скрыты от 'package:RBGL':\n",
      "\n",
      "    bfs, dfs, transitivity\n",
      "\n",
      "\n",
      "Следующие объекты скрыты от 'package:graph':\n",
      "\n",
      "    degree, edges, intersection, union\n",
      "\n",
      "\n",
      "Следующие объекты скрыты от 'package:BiocGenerics':\n",
      "\n",
      "    normalize, path, union\n",
      "\n",
      "\n",
      "Следующие объекты скрыты от 'package:stats':\n",
      "\n",
      "    decompose, spectrum\n",
      "\n",
      "\n",
      "Следующий объект скрыт от 'package:base':\n",
      "\n",
      "    union\n",
      "\n",
      "\n",
      "Warning message:\n",
      "\"пакет 'statnet' был собран под R версии 4.2.2\"\n",
      "Загрузка требуемого пакета: tergm\n",
      "\n",
      "Загрузка требуемого пакета: ergm\n",
      "\n",
      "Загрузка требуемого пакета: network\n",
      "\n",
      "\n",
      "'network' 1.18.0 (2022-10-05), part of the Statnet Project\n",
      "* 'news(package=\"network\")' for changes since last version\n",
      "* 'citation(\"network\")' for citation information\n",
      "* 'https://statnet.org' for help, support, and other information\n",
      "\n",
      "\n",
      "\n",
      "Присоединяю пакет: 'network'\n",
      "\n",
      "\n",
      "Следующие объекты скрыты от 'package:igraph':\n",
      "\n",
      "    %c%, %s%, add.edges, add.vertices, delete.edges, delete.vertices,\n",
      "    get.edge.attribute, get.edges, get.vertex.attribute, is.bipartite,\n",
      "    is.directed, list.edge.attributes, list.vertex.attributes,\n",
      "    set.edge.attribute, set.vertex.attribute\n",
      "\n",
      "\n",
      "\n",
      "'ergm' 4.2.3 (2022-10-02), part of the Statnet Project\n",
      "* 'news(package=\"ergm\")' for changes since last version\n",
      "* 'citation(\"ergm\")' for citation information\n",
      "* 'https://statnet.org' for help, support, and other information\n",
      "\n",
      "\n",
      "'ergm' 4 is a major update that introduces some backwards-incompatible\n",
      "changes. Please type 'news(package=\"ergm\")' for a list of major\n",
      "changes.\n",
      "\n",
      "\n",
      "Загрузка требуемого пакета: networkDynamic\n",
      "\n",
      "\n",
      "'networkDynamic' 0.11.2 (2022-05-04), part of the Statnet Project\n",
      "* 'news(package=\"networkDynamic\")' for changes since last version\n",
      "* 'citation(\"networkDynamic\")' for citation information\n",
      "* 'https://statnet.org' for help, support, and other information\n",
      "\n",
      "\n",
      "Registered S3 method overwritten by 'tergm':\n",
      "  method                   from\n",
      "  simulate_formula.network ergm\n",
      "\n",
      "\n",
      "'tergm' 4.1.0 (2022-06-22), part of the Statnet Project\n",
      "* 'news(package=\"tergm\")' for changes since last version\n",
      "* 'citation(\"tergm\")' for citation information\n",
      "* 'https://statnet.org' for help, support, and other information\n",
      "\n",
      "\n",
      "\n",
      "Присоединяю пакет: 'tergm'\n",
      "\n",
      "\n",
      "Следующий объект скрыт от 'package:ergm':\n",
      "\n",
      "    snctrl\n",
      "\n",
      "\n",
      "Загрузка требуемого пакета: ergm.count\n",
      "\n",
      "\n",
      "'ergm.count' 4.1.1 (2022-05-24), part of the Statnet Project\n",
      "* 'news(package=\"ergm.count\")' for changes since last version\n",
      "* 'citation(\"ergm.count\")' for citation information\n",
      "* 'https://statnet.org' for help, support, and other information\n",
      "\n",
      "\n",
      "Загрузка требуемого пакета: sna\n",
      "\n",
      "Загрузка требуемого пакета: statnet.common\n",
      "\n",
      "\n",
      "Присоединяю пакет: 'statnet.common'\n",
      "\n",
      "\n",
      "Следующий объект скрыт от 'package:ergm':\n",
      "\n",
      "    snctrl\n",
      "\n",
      "\n",
      "Следующий объект скрыт от 'package:BiocGenerics':\n",
      "\n",
      "    order\n",
      "\n",
      "\n",
      "Следующие объекты скрыты от 'package:base':\n",
      "\n",
      "    attr, order\n",
      "\n",
      "\n",
      "sna: Tools for Social Network Analysis\n",
      "Version 2.7 created on 2022-05-09.\n",
      "copyright (c) 2005, Carter T. Butts, University of California-Irvine\n",
      " For citation information, type citation(\"sna\").\n",
      " Type help(package=\"sna\") to get started.\n",
      "\n",
      "\n",
      "\n",
      "Присоединяю пакет: 'sna'\n",
      "\n",
      "\n",
      "Следующие объекты скрыты от 'package:igraph':\n",
      "\n",
      "    betweenness, bonpow, closeness, components, degree, dyad.census,\n",
      "    evcent, hierarchy, is.connected, neighborhood, triad.census\n",
      "\n",
      "\n",
      "Следующий объект скрыт от 'package:graph':\n",
      "\n",
      "    degree\n",
      "\n",
      "\n",
      "Загрузка требуемого пакета: tsna\n",
      "\n",
      "\n",
      "'statnet' 2019.6 (2019-06-13), part of the Statnet Project\n",
      "* 'news(package=\"statnet\")' for changes since last version\n",
      "* 'citation(\"statnet\")' for citation information\n",
      "* 'https://statnet.org' for help, support, and other information\n",
      "\n",
      "\n",
      "\n",
      "There are updates for the following statnet packages on CRAN:\n",
      "\n"
     ]
    },
    {
     "name": "stdout",
     "output_type": "stream",
     "text": [
      "      Installed ReposVer Built  \n",
      "ergm  \"4.2.3\"   \"4.3.2\"  \"4.2.1\"\n",
      "tergm \"4.1.0\"   \"4.1.1\"  \"4.2.1\"\n"
     ]
    },
    {
     "name": "stderr",
     "output_type": "stream",
     "text": [
      "Restart R and use \"statnet::update_statnet()\" to get the updates.\n",
      "\n"
     ]
    }
   ],
   "source": [
    "#install.packages(\"statnet\")\n",
    "#install.packages(\"devtools\")\n",
    "#packageurl <- \"https://cran.r-project.org/src/contrib/Archive/RBGL/RBGL_1.28.0.tar.gz\"\n",
    "#install.packages(packageurl, repos=NULL, type=\"source\")\n",
    "library(devtools)\n",
    "#find_rtools()\n",
    "#require(remotes)\n",
    "#install_version(\"RBGL\", version = \"1.26.0\", repos = \"http://cran.us.r-project.org\")\n",
    "#install_version(\"RBGL\", version = \"1.46.0\", repos = \"https://cran.r-project.org\")\n",
    "#install.packages('BiocManager')\n",
    "#BiocManager::install(\"Bioconductor/RBGL\", ref=\"avoid-Rdefines\")\n",
    "library(RBGL)\n",
    "library(graph)\n",
    "library(igraph)\n",
    "library(statnet)\n",
    "library(network)"
   ]
  },
  {
   "cell_type": "markdown",
   "metadata": {},
   "source": [
    "### Пункт 1:"
   ]
  },
  {
   "cell_type": "code",
   "execution_count": 28,
   "metadata": {
    "vscode": {
     "languageId": "r"
    }
   },
   "outputs": [
    {
     "data": {
      "image/png": "[encoded data removed]",
      "text/plain": [
       "plot without title"
      ]
     },
     "metadata": {
      "image/png": {
       "height": 420,
       "width": 420
      }
     },
     "output_type": "display_data"
    }
   ],
   "source": [
    "m <- as.matrix(read.csv(\"florentine_marital.csv\", comment.char='#'))\n",
    "net <- network(m, matrix.type = \"adjacency\", directed = FALSE)\n",
    "gplot(net, gmode = 'graph', vertex.col = 4, vertex.cex = 1, displaylabels = TRUE, mode=\"fruchtermanreingold\")\n",
    "graph <- graph.adjacency(m, mode=\"undirected\")"
   ]
  },
  {
   "cell_type": "markdown",
   "metadata": {},
   "source": [
    "### Пункт 2:"
   ]
  },
  {
   "cell_type": "code",
   "execution_count": 102,
   "metadata": {
    "vscode": {
     "languageId": "r"
    }
   },
   "outputs": [
    {
     "name": "stdout",
     "output_type": "stream",
     "text": [
      "n-клики\n",
      "n-кланы\n",
      "k-плексы\n",
      "k-ядра\n"
     ]
    },
    {
     "data": {
      "text/html": [
       "<dl>\n",
       "\t<dt>$`1_kernel`</dt>\n",
       "\t\t<dd><ol>\n",
       "\t<li><style>\n",
       ".list-inline {list-style: none; margin:0; padding: 0}\n",
       ".list-inline>li {display: inline-block}\n",
       ".list-inline>li:not(:last-child)::after {content: \"\\00b7\"; padding: 0 .5ex}\n",
       "</style>\n",
       "<ol class=list-inline><li>'Acciaiuoli'</li><li>'Albizzi'</li><li>'Barbadori'</li><li>'Bischeri'</li><li>'Castellani'</li><li>'Ginori'</li><li>'Guadagni'</li><li>'Lamberteschi'</li><li>'Medici'</li><li>'Pazzi'</li><li>'Peruzzi'</li><li>'Ridolfi'</li><li>'Salviati'</li><li>'Strozzi'</li><li>'Tornabuoni'</li></ol>\n",
       "</li>\n",
       "</ol>\n",
       "</dd>\n",
       "\t<dt>$`2_kernel`</dt>\n",
       "\t\t<dd><ol>\n",
       "\t<li><style>\n",
       ".list-inline {list-style: none; margin:0; padding: 0}\n",
       ".list-inline>li {display: inline-block}\n",
       ".list-inline>li:not(:last-child)::after {content: \"\\00b7\"; padding: 0 .5ex}\n",
       "</style>\n",
       "<ol class=list-inline><li>'Albizzi'</li><li>'Barbadori'</li><li>'Bischeri'</li><li>'Castellani'</li><li>'Guadagni'</li><li>'Medici'</li><li>'Peruzzi'</li><li>'Ridolfi'</li><li>'Strozzi'</li><li>'Tornabuoni'</li></ol>\n",
       "</li>\n",
       "</ol>\n",
       "</dd>\n",
       "</dl>\n"
      ],
      "text/latex": [
       "\\begin{description}\n",
       "\\item[\\$`1\\_kernel`] \\begin{enumerate}\n",
       "\\item \\begin{enumerate*}\n",
       "\\item 'Acciaiuoli'\n",
       "\\item 'Albizzi'\n",
       "\\item 'Barbadori'\n",
       "\\item 'Bischeri'\n",
       "\\item 'Castellani'\n",
       "\\item 'Ginori'\n",
       "\\item 'Guadagni'\n",
       "\\item 'Lamberteschi'\n",
       "\\item 'Medici'\n",
       "\\item 'Pazzi'\n",
       "\\item 'Peruzzi'\n",
       "\\item 'Ridolfi'\n",
       "\\item 'Salviati'\n",
       "\\item 'Strozzi'\n",
       "\\item 'Tornabuoni'\n",
       "\\end{enumerate*}\n",
       "\n",
       "\\end{enumerate}\n",
       "\n",
       "\\item[\\$`2\\_kernel`] \\begin{enumerate}\n",
       "\\item \\begin{enumerate*}\n",
       "\\item 'Albizzi'\n",
       "\\item 'Barbadori'\n",
       "\\item 'Bischeri'\n",
       "\\item 'Castellani'\n",
       "\\item 'Guadagni'\n",
       "\\item 'Medici'\n",
       "\\item 'Peruzzi'\n",
       "\\item 'Ridolfi'\n",
       "\\item 'Strozzi'\n",
       "\\item 'Tornabuoni'\n",
       "\\end{enumerate*}\n",
       "\n",
       "\\end{enumerate}\n",
       "\n",
       "\\end{description}\n"
      ],
      "text/markdown": [
       "$`1_kernel`\n",
       ":   1. 1. 'Acciaiuoli'\n",
       "2. 'Albizzi'\n",
       "3. 'Barbadori'\n",
       "4. 'Bischeri'\n",
       "5. 'Castellani'\n",
       "6. 'Ginori'\n",
       "7. 'Guadagni'\n",
       "8. 'Lamberteschi'\n",
       "9. 'Medici'\n",
       "10. 'Pazzi'\n",
       "11. 'Peruzzi'\n",
       "12. 'Ridolfi'\n",
       "13. 'Salviati'\n",
       "14. 'Strozzi'\n",
       "15. 'Tornabuoni'\n",
       "\n",
       "\n",
       "\n",
       "\n",
       "\n",
       "\n",
       "$`2_kernel`\n",
       ":   1. 1. 'Albizzi'\n",
       "2. 'Barbadori'\n",
       "3. 'Bischeri'\n",
       "4. 'Castellani'\n",
       "5. 'Guadagni'\n",
       "6. 'Medici'\n",
       "7. 'Peruzzi'\n",
       "8. 'Ridolfi'\n",
       "9. 'Strozzi'\n",
       "10. 'Tornabuoni'\n",
       "\n",
       "\n",
       "\n",
       "\n",
       "\n",
       "\n",
       "\n",
       "\n"
      ],
      "text/plain": [
       "$`1_kernel`\n",
       "$`1_kernel`[[1]]\n",
       " [1] \"Acciaiuoli\"   \"Albizzi\"      \"Barbadori\"    \"Bischeri\"     \"Castellani\"  \n",
       " [6] \"Ginori\"       \"Guadagni\"     \"Lamberteschi\" \"Medici\"       \"Pazzi\"       \n",
       "[11] \"Peruzzi\"      \"Ridolfi\"      \"Salviati\"     \"Strozzi\"      \"Tornabuoni\"  \n",
       "\n",
       "\n",
       "$`2_kernel`\n",
       "$`2_kernel`[[1]]\n",
       " [1] \"Albizzi\"    \"Barbadori\"  \"Bischeri\"   \"Castellani\" \"Guadagni\"  \n",
       " [6] \"Medici\"     \"Peruzzi\"    \"Ridolfi\"    \"Strozzi\"    \"Tornabuoni\"\n",
       "\n"
      ]
     },
     "metadata": {},
     "output_type": "display_data"
    }
   ],
   "source": [
    "cat(\"n-клики\\n\")\n",
    "gr <- graphAM(m, edgemode='undirected')\n",
    "#kCliques(gr)\n",
    "\n",
    "nclan <- function(g, n, ncliques){\n",
    "    E(g)$weight <- 1 \n",
    "    n.cand <- ncliques[[n]] \n",
    "    n.clan <- list() \n",
    "    n.clan.i <- 1 \n",
    "    for (n.cand.i in 1:length(n.cand)){ \n",
    "        g.n.cand <- induced_subgraph(g,n.cand[[n.cand.i]])\n",
    "        if (diameter(g.n.cand)<=n){ \n",
    "            n.clan[[n.clan.i]] <- n.cand[[n.cand.i]] \n",
    "            n.clan.i <- n.clan.i+1 \n",
    "            }\n",
    "        }\n",
    "        return(n.clan) \n",
    "}\n",
    "\n",
    "nclans <- function(g){\n",
    "    g <- as.undirected(g)\n",
    "    ncliques <- kCliques(gr) \n",
    "    result <- c()\n",
    "    for (i in names(ncliques)){\n",
    "        result[[i]] <- nclan(g, i, ncliques)\n",
    "    }\n",
    "    return(result)\n",
    "}\n",
    "\n",
    "cat(\"n-кланы\\n\")\n",
    "#nclans(graph)\n",
    "\n",
    "kplex <- function(g, k, m){\n",
    "    g.sym <- as.undirected(g)\n",
    "    k.plex <- list()\n",
    "    g.sym.degmk <- induced_subgraph(g.sym,igraph::degree(g.sym)>=(m - k))\n",
    "    if(length(V(g.sym.degmk)) < m) {\n",
    "        return(k.plex)\n",
    "    } \n",
    "    k.cand <- combn(V(g.sym.degmk)$name, m) \n",
    "    k.plex <- list() \n",
    "    k.plex.i <- 1 \n",
    "    for (k.cand.i in 1:dim(k.cand)[2]){ \n",
    "        g.k.cand <- induced_subgraph(g.sym.degmk,k.cand[ ,k.cand.i]) \n",
    "        if (min(igraph::degree(g.k.cand))>=(m - k)){ \n",
    "            k.plex[[k.plex.i]] <- k.cand[,k.cand.i] \n",
    "            k.plex.i <- k.plex.i + 1 \n",
    "        }\n",
    "    }\n",
    "    return(k.plex)\n",
    "}\n",
    "\n",
    "kplexes <- function(g) {\n",
    "    result <- c()\n",
    "    for (i in 2:(length(V(g)))) {\n",
    "        for (j in 1:(i - 1)) {\n",
    "            plex <- kplex(g, j, i)\n",
    "            if(length(plex) > 0) {\n",
    "                result[[paste(toString(i), toString(j), \"plex\", sep=\"_\")]] <- plex\n",
    "            }\n",
    "        }\n",
    "    }\n",
    "    return(result)\n",
    "}\n",
    "\n",
    "cat(\"k-плексы\\n\")\n",
    "#kplexes(graph)\n",
    "\n",
    "kkernel <- function(g, k) {\n",
    "    g.sym <- as.undirected(g)\n",
    "    k.kernel <- list()\n",
    "    g.sym.degk <- induced_subgraph(g.sym,igraph::degree(g.sym)>=k)\n",
    "    if(length(V(g.sym.degk)) < k) {\n",
    "        return(k.kernel)\n",
    "    } \n",
    "    flag <- 0\n",
    "    for (j in length(V(g.sym.degk)):1){\n",
    "        if(flag) {\n",
    "            break\n",
    "        }\n",
    "        k.cand <- combn(V(g.sym.degk)$name, j) \n",
    "        k.kernel <- list() \n",
    "        k.kernel.i <- 1 \n",
    "        for (k.cand.i in 1:dim(k.cand)[2]){ \n",
    "            g.k.cand <- induced_subgraph(g.sym.degk,k.cand[ ,k.cand.i]) \n",
    "            if (min(igraph::degree(g.k.cand))>=k){ \n",
    "                k.kernel[[k.kernel.i]] <- k.cand[ ,k.cand.i] \n",
    "                k.kernel.i <- k.kernel.i + 1 \n",
    "                flag <- 1\n",
    "            }\n",
    "        }\n",
    "    }\n",
    "    return(k.kernel)\n",
    "}\n",
    "\n",
    "kkernels <- function(g) {\n",
    "    result <- c()\n",
    "    for (k in 1:length(V(g))) {\n",
    "        kernel <- kkernel(g, k)\n",
    "        if(length(kernel) > 0) {\n",
    "            result[[paste(toString(k), \"kernel\", sep=\"_\")]] <- kernel\n",
    "        }\n",
    "    }\n",
    "    return(result)\n",
    "}\n",
    "\n",
    "cat(\"k-ядра\\n\")\n",
    "kkernels(graph)\n"
   ]
  },
  {
   "cell_type": "markdown",
   "metadata": {},
   "source": [
    "### Пункт 3:"
   ]
  },
  {
   "cell_type": "markdown",
   "metadata": {},
   "source": [
    "(3). \n",
    "* Алгоритм InfoMAP: поддерживает направленные сети, взвешенные сети и сети из нескольких компонент. Действия алгоритма по сути идентичны действиям Blondel. Алгоритм повторяет 2 фазы, пока обьектная функция не станет оптимизированной. Но при оптимизации обьектной функции метод не использует модулярность, а вместо этого использует так называемое MAP-уравнение.\n",
    "\n",
    "* Алгоритм Louvain: поддерживает взвешенные сети и сети из нескольких компонент. Метод состоит из двух стадий. На первой происходит поиск «малых» сообществ путём оптимизации модульности на локальном уровне. На второй стадии узлы одного сообщества агрегируются и строится новая сеть большего масштаба, после чего эти стадии повторяются до тех пор, пока не будет достигнут максимальный уровень модульности. Таким образом, после каждого этапа программа отображает сообщества всё большего масштаба.\n",
    "\n",
    "* Алгоритм Optimal: поддерживает взвешенные сети и сети из нескольких компонент. Алгоритм махимизирует модулярность для всех участников."
   ]
  },
  {
   "cell_type": "markdown",
   "metadata": {},
   "source": [
    "Полученные результаты показывают, что все алгоритмы выделяют четыре подгруппы. Модулярность приблизительно равна 3,98 в каждом случае"
   ]
  },
  {
   "cell_type": "code",
   "execution_count": 40,
   "metadata": {
    "vscode": {
     "languageId": "r"
    }
   },
   "outputs": [
    {
     "name": "stdout",
     "output_type": "stream",
     "text": [
      "Infomap:"
     ]
    },
    {
     "data": {
      "text/plain": [
       "  Acciaiuoli      Albizzi    Barbadori     Bischeri   Castellani       Ginori \n",
       "           1            2            3            3            3            2 \n",
       "    Guadagni Lamberteschi       Medici        Pazzi      Peruzzi        Pucci \n",
       "           2            2            1            4            3            5 \n",
       "     Ridolfi     Salviati      Strozzi   Tornabuoni \n",
       "           1            4            3            1 "
      ]
     },
     "metadata": {},
     "output_type": "display_data"
    },
    {
     "name": "stdout",
     "output_type": "stream",
     "text": [
      "Модулярность: 0.3975 \n",
      "Louvain:"
     ]
    },
    {
     "data": {
      "text/plain": [
       "  Acciaiuoli      Albizzi    Barbadori     Bischeri   Castellani       Ginori \n",
       "           1            2            3            3            3            2 \n",
       "    Guadagni Lamberteschi       Medici        Pazzi      Peruzzi        Pucci \n",
       "           2            2            1            1            3            4 \n",
       "     Ridolfi     Salviati      Strozzi   Tornabuoni \n",
       "           1            1            3            1 "
      ]
     },
     "metadata": {},
     "output_type": "display_data"
    },
    {
     "name": "stdout",
     "output_type": "stream",
     "text": [
      "Модулярность: 0.39875 \n"
     ]
    },
    {
     "data": {
      "image/png": "[encoded data removed]",
      "text/plain": [
       "Plot with title \"Infomap\""
      ]
     },
     "metadata": {
      "image/png": {
       "height": 420,
       "width": 420
      }
     },
     "output_type": "display_data"
    },
    {
     "name": "stdout",
     "output_type": "stream",
     "text": [
      "Optimal:"
     ]
    },
    {
     "data": {
      "text/plain": [
       "  Acciaiuoli      Albizzi    Barbadori     Bischeri   Castellani       Ginori \n",
       "           1            2            3            3            3            2 \n",
       "    Guadagni Lamberteschi       Medici        Pazzi      Peruzzi        Pucci \n",
       "           2            2            1            1            3            4 \n",
       "     Ridolfi     Salviati      Strozzi   Tornabuoni \n",
       "           1            1            3            1 "
      ]
     },
     "metadata": {},
     "output_type": "display_data"
    },
    {
     "name": "stdout",
     "output_type": "stream",
     "text": [
      "Модулярность: 0.39875"
     ]
    },
    {
     "data": {
      "image/png": "[encoded data removed]",
      "text/plain": [
       "Plot with title \"Louvain\""
      ]
     },
     "metadata": {
      "image/png": {
       "height": 420,
       "width": 420
      }
     },
     "output_type": "display_data"
    },
    {
     "data": {
      "image/png": "[encoded data removed]",
      "text/plain": [
       "Plot with title \"Optimal\""
      ]
     },
     "metadata": {
      "image/png": {
       "height": 420,
       "width": 420
      }
     },
     "output_type": "display_data"
    }
   ],
   "source": [
    "cw <- cluster_infomap(graph)\n",
    "cat(\"Infomap:\")\n",
    "membership(cw)\n",
    "cat(\"Модулярность:\", modularity(cw), \"\\n\")\n",
    "plot(cw, graph, main='Infomap')\n",
    "\n",
    "cw2 <- cluster_louvain(graph)\n",
    "cat(\"Louvain:\")\n",
    "membership(cw2)\n",
    "cat(\"Модулярность:\", modularity(cw2), \"\\n\")\n",
    "plot(cw2, graph, main='Louvain')\n",
    "\n",
    "cw3 <- cluster_optimal(graph)\n",
    "cat(\"Optimal:\")\n",
    "membership(cw3)\n",
    "cat(\"Модулярность:\", modularity(cw3))\n",
    "plot(cw3, graph, main='Optimal')\n",
    "\n"
   ]
  },
  {
   "cell_type": "markdown",
   "metadata": {},
   "source": [
    "### Пункт 4:"
   ]
  },
  {
   "cell_type": "code",
   "execution_count": 27,
   "metadata": {
    "vscode": {
     "languageId": "r"
    }
   },
   "outputs": [
    {
     "data": {
      "text/html": [
       "<table class=\"dataframe\">\n",
       "<caption>A matrix: 26 × 15 of type int</caption>\n",
       "<thead>\n",
       "\t<tr><th scope=col>V1</th><th scope=col>V2</th><th scope=col>V3</th><th scope=col>V4</th><th scope=col>V5</th><th scope=col>V6</th><th scope=col>V7</th><th scope=col>V8</th><th scope=col>V9</th><th scope=col>V10</th><th scope=col>V11</th><th scope=col>V12</th><th scope=col>V13</th><th scope=col>V14</th><th scope=col>V15</th></tr>\n",
       "</thead>\n",
       "<tbody>\n",
       "\t<tr><td>0</td><td>0</td><td>1</td><td>1</td><td>0</td><td>0</td><td>0</td><td>0</td><td>1</td><td>0</td><td>0</td><td>0</td><td>0</td><td>0</td><td>0</td></tr>\n",
       "\t<tr><td>0</td><td>0</td><td>1</td><td>0</td><td>1</td><td>0</td><td>1</td><td>0</td><td>0</td><td>0</td><td>0</td><td>0</td><td>0</td><td>0</td><td>0</td></tr>\n",
       "\t<tr><td>0</td><td>0</td><td>1</td><td>0</td><td>0</td><td>0</td><td>0</td><td>0</td><td>0</td><td>0</td><td>0</td><td>1</td><td>0</td><td>0</td><td>0</td></tr>\n",
       "\t<tr><td>0</td><td>1</td><td>1</td><td>0</td><td>0</td><td>0</td><td>0</td><td>0</td><td>0</td><td>0</td><td>0</td><td>0</td><td>0</td><td>0</td><td>1</td></tr>\n",
       "\t<tr><td>0</td><td>0</td><td>1</td><td>0</td><td>0</td><td>0</td><td>0</td><td>0</td><td>0</td><td>0</td><td>0</td><td>0</td><td>1</td><td>1</td><td>0</td></tr>\n",
       "\t<tr><td>0</td><td>1</td><td>1</td><td>0</td><td>0</td><td>0</td><td>0</td><td>0</td><td>0</td><td>0</td><td>0</td><td>0</td><td>0</td><td>1</td><td>0</td></tr>\n",
       "\t<tr><td>0</td><td>0</td><td>1</td><td>1</td><td>0</td><td>0</td><td>0</td><td>0</td><td>0</td><td>1</td><td>1</td><td>0</td><td>0</td><td>0</td><td>0</td></tr>\n",
       "\t<tr><td>0</td><td>0</td><td>0</td><td>1</td><td>0</td><td>0</td><td>1</td><td>0</td><td>0</td><td>1</td><td>0</td><td>0</td><td>0</td><td>0</td><td>0</td></tr>\n",
       "\t<tr><td>1</td><td>0</td><td>0</td><td>1</td><td>0</td><td>0</td><td>0</td><td>1</td><td>0</td><td>1</td><td>0</td><td>0</td><td>0</td><td>0</td><td>0</td></tr>\n",
       "\t<tr><td>0</td><td>0</td><td>1</td><td>0</td><td>0</td><td>0</td><td>0</td><td>0</td><td>1</td><td>0</td><td>0</td><td>0</td><td>0</td><td>0</td><td>0</td></tr>\n",
       "\t<tr><td>0</td><td>1</td><td>1</td><td>0</td><td>0</td><td>0</td><td>0</td><td>0</td><td>1</td><td>0</td><td>0</td><td>0</td><td>0</td><td>0</td><td>0</td></tr>\n",
       "\t<tr><td>0</td><td>0</td><td>0</td><td>1</td><td>0</td><td>0</td><td>1</td><td>0</td><td>0</td><td>0</td><td>0</td><td>0</td><td>0</td><td>0</td><td>0</td></tr>\n",
       "\t<tr><td>0</td><td>0</td><td>1</td><td>1</td><td>1</td><td>0</td><td>0</td><td>0</td><td>1</td><td>0</td><td>0</td><td>0</td><td>0</td><td>0</td><td>0</td></tr>\n",
       "\t<tr><td>0</td><td>1</td><td>1</td><td>1</td><td>0</td><td>0</td><td>0</td><td>0</td><td>0</td><td>0</td><td>1</td><td>1</td><td>1</td><td>0</td><td>1</td></tr>\n",
       "\t<tr><td>0</td><td>1</td><td>1</td><td>0</td><td>0</td><td>1</td><td>0</td><td>0</td><td>0</td><td>0</td><td>0</td><td>0</td><td>1</td><td>0</td><td>1</td></tr>\n",
       "\t<tr><td>0</td><td>1</td><td>1</td><td>0</td><td>0</td><td>1</td><td>0</td><td>1</td><td>0</td><td>0</td><td>0</td><td>0</td><td>0</td><td>1</td><td>0</td></tr>\n",
       "\t<tr><td>0</td><td>1</td><td>1</td><td>0</td><td>1</td><td>0</td><td>0</td><td>0</td><td>0</td><td>0</td><td>1</td><td>1</td><td>0</td><td>0</td><td>1</td></tr>\n",
       "\t<tr><td>0</td><td>0</td><td>0</td><td>1</td><td>0</td><td>0</td><td>0</td><td>0</td><td>1</td><td>0</td><td>0</td><td>1</td><td>1</td><td>0</td><td>1</td></tr>\n",
       "\t<tr><td>1</td><td>0</td><td>1</td><td>1</td><td>0</td><td>0</td><td>1</td><td>0</td><td>1</td><td>0</td><td>0</td><td>0</td><td>0</td><td>0</td><td>0</td></tr>\n",
       "\t<tr><td>0</td><td>1</td><td>1</td><td>1</td><td>0</td><td>0</td><td>0</td><td>0</td><td>0</td><td>0</td><td>1</td><td>0</td><td>0</td><td>0</td><td>1</td></tr>\n",
       "\t<tr><td>0</td><td>0</td><td>1</td><td>1</td><td>0</td><td>0</td><td>0</td><td>1</td><td>0</td><td>0</td><td>0</td><td>0</td><td>0</td><td>0</td><td>0</td></tr>\n",
       "\t<tr><td>0</td><td>0</td><td>1</td><td>0</td><td>0</td><td>0</td><td>0</td><td>1</td><td>0</td><td>0</td><td>0</td><td>0</td><td>0</td><td>0</td><td>1</td></tr>\n",
       "\t<tr><td>0</td><td>1</td><td>1</td><td>0</td><td>0</td><td>1</td><td>0</td><td>0</td><td>0</td><td>0</td><td>0</td><td>0</td><td>0</td><td>0</td><td>1</td></tr>\n",
       "\t<tr><td>1</td><td>0</td><td>1</td><td>1</td><td>0</td><td>1</td><td>0</td><td>0</td><td>0</td><td>0</td><td>0</td><td>0</td><td>0</td><td>0</td><td>1</td></tr>\n",
       "\t<tr><td>0</td><td>1</td><td>1</td><td>0</td><td>0</td><td>0</td><td>0</td><td>0</td><td>0</td><td>0</td><td>0</td><td>0</td><td>1</td><td>0</td><td>0</td></tr>\n",
       "\t<tr><td>0</td><td>1</td><td>1</td><td>0</td><td>0</td><td>0</td><td>0</td><td>0</td><td>0</td><td>0</td><td>0</td><td>1</td><td>0</td><td>0</td><td>0</td></tr>\n",
       "</tbody>\n",
       "</table>\n"
      ],
      "text/latex": [
       "A matrix: 26 × 15 of type int\n",
       "\\begin{tabular}{lllllllllllllll}\n",
       " V1 & V2 & V3 & V4 & V5 & V6 & V7 & V8 & V9 & V10 & V11 & V12 & V13 & V14 & V15\\\\\n",
       "\\hline\n",
       "\t 0 & 0 & 1 & 1 & 0 & 0 & 0 & 0 & 1 & 0 & 0 & 0 & 0 & 0 & 0\\\\\n",
       "\t 0 & 0 & 1 & 0 & 1 & 0 & 1 & 0 & 0 & 0 & 0 & 0 & 0 & 0 & 0\\\\\n",
       "\t 0 & 0 & 1 & 0 & 0 & 0 & 0 & 0 & 0 & 0 & 0 & 1 & 0 & 0 & 0\\\\\n",
       "\t 0 & 1 & 1 & 0 & 0 & 0 & 0 & 0 & 0 & 0 & 0 & 0 & 0 & 0 & 1\\\\\n",
       "\t 0 & 0 & 1 & 0 & 0 & 0 & 0 & 0 & 0 & 0 & 0 & 0 & 1 & 1 & 0\\\\\n",
       "\t 0 & 1 & 1 & 0 & 0 & 0 & 0 & 0 & 0 & 0 & 0 & 0 & 0 & 1 & 0\\\\\n",
       "\t 0 & 0 & 1 & 1 & 0 & 0 & 0 & 0 & 0 & 1 & 1 & 0 & 0 & 0 & 0\\\\\n",
       "\t 0 & 0 & 0 & 1 & 0 & 0 & 1 & 0 & 0 & 1 & 0 & 0 & 0 & 0 & 0\\\\\n",
       "\t 1 & 0 & 0 & 1 & 0 & 0 & 0 & 1 & 0 & 1 & 0 & 0 & 0 & 0 & 0\\\\\n",
       "\t 0 & 0 & 1 & 0 & 0 & 0 & 0 & 0 & 1 & 0 & 0 & 0 & 0 & 0 & 0\\\\\n",
       "\t 0 & 1 & 1 & 0 & 0 & 0 & 0 & 0 & 1 & 0 & 0 & 0 & 0 & 0 & 0\\\\\n",
       "\t 0 & 0 & 0 & 1 & 0 & 0 & 1 & 0 & 0 & 0 & 0 & 0 & 0 & 0 & 0\\\\\n",
       "\t 0 & 0 & 1 & 1 & 1 & 0 & 0 & 0 & 1 & 0 & 0 & 0 & 0 & 0 & 0\\\\\n",
       "\t 0 & 1 & 1 & 1 & 0 & 0 & 0 & 0 & 0 & 0 & 1 & 1 & 1 & 0 & 1\\\\\n",
       "\t 0 & 1 & 1 & 0 & 0 & 1 & 0 & 0 & 0 & 0 & 0 & 0 & 1 & 0 & 1\\\\\n",
       "\t 0 & 1 & 1 & 0 & 0 & 1 & 0 & 1 & 0 & 0 & 0 & 0 & 0 & 1 & 0\\\\\n",
       "\t 0 & 1 & 1 & 0 & 1 & 0 & 0 & 0 & 0 & 0 & 1 & 1 & 0 & 0 & 1\\\\\n",
       "\t 0 & 0 & 0 & 1 & 0 & 0 & 0 & 0 & 1 & 0 & 0 & 1 & 1 & 0 & 1\\\\\n",
       "\t 1 & 0 & 1 & 1 & 0 & 0 & 1 & 0 & 1 & 0 & 0 & 0 & 0 & 0 & 0\\\\\n",
       "\t 0 & 1 & 1 & 1 & 0 & 0 & 0 & 0 & 0 & 0 & 1 & 0 & 0 & 0 & 1\\\\\n",
       "\t 0 & 0 & 1 & 1 & 0 & 0 & 0 & 1 & 0 & 0 & 0 & 0 & 0 & 0 & 0\\\\\n",
       "\t 0 & 0 & 1 & 0 & 0 & 0 & 0 & 1 & 0 & 0 & 0 & 0 & 0 & 0 & 1\\\\\n",
       "\t 0 & 1 & 1 & 0 & 0 & 1 & 0 & 0 & 0 & 0 & 0 & 0 & 0 & 0 & 1\\\\\n",
       "\t 1 & 0 & 1 & 1 & 0 & 1 & 0 & 0 & 0 & 0 & 0 & 0 & 0 & 0 & 1\\\\\n",
       "\t 0 & 1 & 1 & 0 & 0 & 0 & 0 & 0 & 0 & 0 & 0 & 0 & 1 & 0 & 0\\\\\n",
       "\t 0 & 1 & 1 & 0 & 0 & 0 & 0 & 0 & 0 & 0 & 0 & 1 & 0 & 0 & 0\\\\\n",
       "\\end{tabular}\n"
      ],
      "text/markdown": [
       "\n",
       "A matrix: 26 × 15 of type int\n",
       "\n",
       "| V1 | V2 | V3 | V4 | V5 | V6 | V7 | V8 | V9 | V10 | V11 | V12 | V13 | V14 | V15 |\n",
       "|---|---|---|---|---|---|---|---|---|---|---|---|---|---|---|\n",
       "| 0 | 0 | 1 | 1 | 0 | 0 | 0 | 0 | 1 | 0 | 0 | 0 | 0 | 0 | 0 |\n",
       "| 0 | 0 | 1 | 0 | 1 | 0 | 1 | 0 | 0 | 0 | 0 | 0 | 0 | 0 | 0 |\n",
       "| 0 | 0 | 1 | 0 | 0 | 0 | 0 | 0 | 0 | 0 | 0 | 1 | 0 | 0 | 0 |\n",
       "| 0 | 1 | 1 | 0 | 0 | 0 | 0 | 0 | 0 | 0 | 0 | 0 | 0 | 0 | 1 |\n",
       "| 0 | 0 | 1 | 0 | 0 | 0 | 0 | 0 | 0 | 0 | 0 | 0 | 1 | 1 | 0 |\n",
       "| 0 | 1 | 1 | 0 | 0 | 0 | 0 | 0 | 0 | 0 | 0 | 0 | 0 | 1 | 0 |\n",
       "| 0 | 0 | 1 | 1 | 0 | 0 | 0 | 0 | 0 | 1 | 1 | 0 | 0 | 0 | 0 |\n",
       "| 0 | 0 | 0 | 1 | 0 | 0 | 1 | 0 | 0 | 1 | 0 | 0 | 0 | 0 | 0 |\n",
       "| 1 | 0 | 0 | 1 | 0 | 0 | 0 | 1 | 0 | 1 | 0 | 0 | 0 | 0 | 0 |\n",
       "| 0 | 0 | 1 | 0 | 0 | 0 | 0 | 0 | 1 | 0 | 0 | 0 | 0 | 0 | 0 |\n",
       "| 0 | 1 | 1 | 0 | 0 | 0 | 0 | 0 | 1 | 0 | 0 | 0 | 0 | 0 | 0 |\n",
       "| 0 | 0 | 0 | 1 | 0 | 0 | 1 | 0 | 0 | 0 | 0 | 0 | 0 | 0 | 0 |\n",
       "| 0 | 0 | 1 | 1 | 1 | 0 | 0 | 0 | 1 | 0 | 0 | 0 | 0 | 0 | 0 |\n",
       "| 0 | 1 | 1 | 1 | 0 | 0 | 0 | 0 | 0 | 0 | 1 | 1 | 1 | 0 | 1 |\n",
       "| 0 | 1 | 1 | 0 | 0 | 1 | 0 | 0 | 0 | 0 | 0 | 0 | 1 | 0 | 1 |\n",
       "| 0 | 1 | 1 | 0 | 0 | 1 | 0 | 1 | 0 | 0 | 0 | 0 | 0 | 1 | 0 |\n",
       "| 0 | 1 | 1 | 0 | 1 | 0 | 0 | 0 | 0 | 0 | 1 | 1 | 0 | 0 | 1 |\n",
       "| 0 | 0 | 0 | 1 | 0 | 0 | 0 | 0 | 1 | 0 | 0 | 1 | 1 | 0 | 1 |\n",
       "| 1 | 0 | 1 | 1 | 0 | 0 | 1 | 0 | 1 | 0 | 0 | 0 | 0 | 0 | 0 |\n",
       "| 0 | 1 | 1 | 1 | 0 | 0 | 0 | 0 | 0 | 0 | 1 | 0 | 0 | 0 | 1 |\n",
       "| 0 | 0 | 1 | 1 | 0 | 0 | 0 | 1 | 0 | 0 | 0 | 0 | 0 | 0 | 0 |\n",
       "| 0 | 0 | 1 | 0 | 0 | 0 | 0 | 1 | 0 | 0 | 0 | 0 | 0 | 0 | 1 |\n",
       "| 0 | 1 | 1 | 0 | 0 | 1 | 0 | 0 | 0 | 0 | 0 | 0 | 0 | 0 | 1 |\n",
       "| 1 | 0 | 1 | 1 | 0 | 1 | 0 | 0 | 0 | 0 | 0 | 0 | 0 | 0 | 1 |\n",
       "| 0 | 1 | 1 | 0 | 0 | 0 | 0 | 0 | 0 | 0 | 0 | 0 | 1 | 0 | 0 |\n",
       "| 0 | 1 | 1 | 0 | 0 | 0 | 0 | 0 | 0 | 0 | 0 | 1 | 0 | 0 | 0 |\n",
       "\n"
      ],
      "text/plain": [
       "      V1 V2 V3 V4 V5 V6 V7 V8 V9 V10 V11 V12 V13 V14 V15\n",
       " [1,] 0  0  1  1  0  0  0  0  1  0   0   0   0   0   0  \n",
       " [2,] 0  0  1  0  1  0  1  0  0  0   0   0   0   0   0  \n",
       " [3,] 0  0  1  0  0  0  0  0  0  0   0   1   0   0   0  \n",
       " [4,] 0  1  1  0  0  0  0  0  0  0   0   0   0   0   1  \n",
       " [5,] 0  0  1  0  0  0  0  0  0  0   0   0   1   1   0  \n",
       " [6,] 0  1  1  0  0  0  0  0  0  0   0   0   0   1   0  \n",
       " [7,] 0  0  1  1  0  0  0  0  0  1   1   0   0   0   0  \n",
       " [8,] 0  0  0  1  0  0  1  0  0  1   0   0   0   0   0  \n",
       " [9,] 1  0  0  1  0  0  0  1  0  1   0   0   0   0   0  \n",
       "[10,] 0  0  1  0  0  0  0  0  1  0   0   0   0   0   0  \n",
       "[11,] 0  1  1  0  0  0  0  0  1  0   0   0   0   0   0  \n",
       "[12,] 0  0  0  1  0  0  1  0  0  0   0   0   0   0   0  \n",
       "[13,] 0  0  1  1  1  0  0  0  1  0   0   0   0   0   0  \n",
       "[14,] 0  1  1  1  0  0  0  0  0  0   1   1   1   0   1  \n",
       "[15,] 0  1  1  0  0  1  0  0  0  0   0   0   1   0   1  \n",
       "[16,] 0  1  1  0  0  1  0  1  0  0   0   0   0   1   0  \n",
       "[17,] 0  1  1  0  1  0  0  0  0  0   1   1   0   0   1  \n",
       "[18,] 0  0  0  1  0  0  0  0  1  0   0   1   1   0   1  \n",
       "[19,] 1  0  1  1  0  0  1  0  1  0   0   0   0   0   0  \n",
       "[20,] 0  1  1  1  0  0  0  0  0  0   1   0   0   0   1  \n",
       "[21,] 0  0  1  1  0  0  0  1  0  0   0   0   0   0   0  \n",
       "[22,] 0  0  1  0  0  0  0  1  0  0   0   0   0   0   1  \n",
       "[23,] 0  1  1  0  0  1  0  0  0  0   0   0   0   0   1  \n",
       "[24,] 1  0  1  1  0  1  0  0  0  0   0   0   0   0   1  \n",
       "[25,] 0  1  1  0  0  0  0  0  0  0   0   0   1   0   0  \n",
       "[26,] 0  1  1  0  0  0  0  0  0  0   0   1   0   0   0  "
      ]
     },
     "metadata": {},
     "output_type": "display_data"
    },
    {
     "data": {
      "image/png": "[encoded data removed]",
      "text/plain": [
       "plot without title"
      ]
     },
     "metadata": {
      "image/png": {
       "height": 420,
       "width": 420
      }
     },
     "output_type": "display_data"
    }
   ],
   "source": [
    "m2 <- as.matrix(read.csv(\"ceo.csv\", F, comment.char='#'))\n",
    "m2\n",
    "\n",
    "net2 <- network(m2, matrix.type='incidence', directed = FALSE)\n",
    "gplot(net2, gmode = 'graph', vertex.col = 7, vertex.cex = 1, displaylabels = TRUE, mode=\"fruchtermanreingold\")"
   ]
  },
  {
   "cell_type": "markdown",
   "metadata": {},
   "source": [
    "### Пункт 5:"
   ]
  },
  {
   "cell_type": "code",
   "execution_count": 52,
   "metadata": {
    "vscode": {
     "languageId": "r"
    }
   },
   "outputs": [
    {
     "data": {
      "image/png": "[encoded data removed]",
      "text/plain": [
       "Plot with title \"\""
      ]
     },
     "metadata": {
      "image/png": {
       "height": 420,
       "width": 420
      }
     },
     "output_type": "display_data"
    }
   ],
   "source": [
    "net2 <- network(m2, matrix.type = \"incidence\", bipartite = TRUE, directed = FALSE)\n",
    "bn <- graph.incidence(m2)\n",
    "plt.x <- c(rep(2, 26), rep(4, 15))\n",
    "plt.y <- c(1:26, 2:16)\n",
    "lay <- as.matrix(cbind(plt.x, plt.y))\n",
    "shapes <- c(\"circle\", \"square\")\n",
    "colors<- c(\"green\", \"red\")\n",
    "plot(bn, vertex.color = colors[V(bn)$type+1], vertex.shape = shapes[V(bn)$type+1], vertex.sixe = 10, vertex.label.degree = pi/2, vertex.label.dist = 0,\n",
    "    vertex.label.cex=1, layout = lay)"
   ]
  },
  {
   "cell_type": "markdown",
   "metadata": {},
   "source": [
    "### Пункт 7:"
   ]
  },
  {
   "cell_type": "markdown",
   "metadata": {},
   "source": [
    "Были построены матрицы для сети соучастия и сети перекрытия событий, также они были отображены графически."
   ]
  },
  {
   "cell_type": "code",
   "execution_count": 76,
   "metadata": {
    "vscode": {
     "languageId": "r"
    }
   },
   "outputs": [
    {
     "data": {
      "text/html": [
       "<table class=\"dataframe\">\n",
       "<caption>A matrix: 26 × 26 of type dbl</caption>\n",
       "<tbody>\n",
       "\t<tr><td>3</td><td>1</td><td>1</td><td>1</td><td>1</td><td>1</td><td>2</td><td>1</td><td>1</td><td>2</td><td>⋯</td><td>1</td><td>2</td><td>3</td><td>2</td><td>2</td><td>1</td><td>1</td><td>2</td><td>1</td><td>1</td></tr>\n",
       "\t<tr><td>1</td><td>3</td><td>1</td><td>1</td><td>1</td><td>1</td><td>1</td><td>1</td><td>0</td><td>1</td><td>⋯</td><td>2</td><td>0</td><td>2</td><td>1</td><td>1</td><td>1</td><td>1</td><td>1</td><td>1</td><td>1</td></tr>\n",
       "\t<tr><td>1</td><td>1</td><td>2</td><td>1</td><td>1</td><td>1</td><td>1</td><td>0</td><td>0</td><td>1</td><td>⋯</td><td>2</td><td>1</td><td>1</td><td>1</td><td>1</td><td>1</td><td>1</td><td>1</td><td>1</td><td>2</td></tr>\n",
       "\t<tr><td>1</td><td>1</td><td>1</td><td>3</td><td>1</td><td>2</td><td>1</td><td>0</td><td>0</td><td>1</td><td>⋯</td><td>3</td><td>1</td><td>1</td><td>3</td><td>1</td><td>2</td><td>3</td><td>2</td><td>2</td><td>2</td></tr>\n",
       "\t<tr><td>1</td><td>1</td><td>1</td><td>1</td><td>3</td><td>2</td><td>1</td><td>0</td><td>0</td><td>1</td><td>⋯</td><td>1</td><td>1</td><td>1</td><td>1</td><td>1</td><td>1</td><td>1</td><td>1</td><td>2</td><td>1</td></tr>\n",
       "\t<tr><td>1</td><td>1</td><td>1</td><td>2</td><td>2</td><td>3</td><td>1</td><td>0</td><td>0</td><td>1</td><td>⋯</td><td>2</td><td>0</td><td>1</td><td>2</td><td>1</td><td>1</td><td>2</td><td>1</td><td>2</td><td>2</td></tr>\n",
       "\t<tr><td>2</td><td>1</td><td>1</td><td>1</td><td>1</td><td>1</td><td>4</td><td>2</td><td>2</td><td>1</td><td>⋯</td><td>2</td><td>1</td><td>2</td><td>3</td><td>2</td><td>1</td><td>1</td><td>2</td><td>1</td><td>1</td></tr>\n",
       "\t<tr><td>1</td><td>1</td><td>0</td><td>0</td><td>0</td><td>0</td><td>2</td><td>3</td><td>2</td><td>0</td><td>⋯</td><td>0</td><td>1</td><td>2</td><td>1</td><td>1</td><td>0</td><td>0</td><td>1</td><td>0</td><td>0</td></tr>\n",
       "\t<tr><td>1</td><td>0</td><td>0</td><td>0</td><td>0</td><td>0</td><td>2</td><td>2</td><td>4</td><td>0</td><td>⋯</td><td>0</td><td>1</td><td>2</td><td>1</td><td>2</td><td>1</td><td>0</td><td>2</td><td>0</td><td>0</td></tr>\n",
       "\t<tr><td>2</td><td>1</td><td>1</td><td>1</td><td>1</td><td>1</td><td>1</td><td>0</td><td>0</td><td>2</td><td>⋯</td><td>1</td><td>1</td><td>2</td><td>1</td><td>1</td><td>1</td><td>1</td><td>1</td><td>1</td><td>1</td></tr>\n",
       "\t<tr><td>2</td><td>1</td><td>1</td><td>2</td><td>1</td><td>2</td><td>1</td><td>0</td><td>0</td><td>2</td><td>⋯</td><td>2</td><td>1</td><td>2</td><td>2</td><td>1</td><td>1</td><td>2</td><td>1</td><td>2</td><td>2</td></tr>\n",
       "\t<tr><td>1</td><td>1</td><td>0</td><td>0</td><td>0</td><td>0</td><td>1</td><td>2</td><td>1</td><td>0</td><td>⋯</td><td>0</td><td>1</td><td>2</td><td>1</td><td>1</td><td>0</td><td>0</td><td>1</td><td>0</td><td>0</td></tr>\n",
       "\t<tr><td>3</td><td>2</td><td>1</td><td>1</td><td>1</td><td>1</td><td>2</td><td>1</td><td>1</td><td>2</td><td>⋯</td><td>2</td><td>2</td><td>3</td><td>2</td><td>2</td><td>1</td><td>1</td><td>2</td><td>1</td><td>1</td></tr>\n",
       "\t<tr><td>2</td><td>1</td><td>2</td><td>3</td><td>2</td><td>2</td><td>3</td><td>1</td><td>1</td><td>1</td><td>⋯</td><td>5</td><td>4</td><td>2</td><td>5</td><td>2</td><td>2</td><td>3</td><td>3</td><td>3</td><td>3</td></tr>\n",
       "\t<tr><td>1</td><td>1</td><td>1</td><td>3</td><td>2</td><td>2</td><td>1</td><td>0</td><td>0</td><td>1</td><td>⋯</td><td>3</td><td>2</td><td>1</td><td>3</td><td>1</td><td>2</td><td>4</td><td>3</td><td>3</td><td>2</td></tr>\n",
       "\t<tr><td>1</td><td>1</td><td>1</td><td>2</td><td>2</td><td>3</td><td>1</td><td>0</td><td>1</td><td>1</td><td>⋯</td><td>2</td><td>0</td><td>1</td><td>2</td><td>2</td><td>2</td><td>3</td><td>2</td><td>2</td><td>2</td></tr>\n",
       "\t<tr><td>1</td><td>2</td><td>2</td><td>3</td><td>1</td><td>2</td><td>2</td><td>0</td><td>0</td><td>1</td><td>⋯</td><td>6</td><td>2</td><td>1</td><td>4</td><td>1</td><td>2</td><td>3</td><td>2</td><td>2</td><td>3</td></tr>\n",
       "\t<tr><td>2</td><td>0</td><td>1</td><td>1</td><td>1</td><td>0</td><td>1</td><td>1</td><td>1</td><td>1</td><td>⋯</td><td>2</td><td>5</td><td>2</td><td>2</td><td>1</td><td>1</td><td>1</td><td>2</td><td>1</td><td>1</td></tr>\n",
       "\t<tr><td>3</td><td>2</td><td>1</td><td>1</td><td>1</td><td>1</td><td>2</td><td>2</td><td>2</td><td>2</td><td>⋯</td><td>1</td><td>2</td><td>5</td><td>2</td><td>2</td><td>1</td><td>1</td><td>3</td><td>1</td><td>1</td></tr>\n",
       "\t<tr><td>2</td><td>1</td><td>1</td><td>3</td><td>1</td><td>2</td><td>3</td><td>1</td><td>1</td><td>1</td><td>⋯</td><td>4</td><td>2</td><td>2</td><td>5</td><td>2</td><td>2</td><td>3</td><td>3</td><td>2</td><td>2</td></tr>\n",
       "\t<tr><td>2</td><td>1</td><td>1</td><td>1</td><td>1</td><td>1</td><td>2</td><td>1</td><td>2</td><td>1</td><td>⋯</td><td>1</td><td>1</td><td>2</td><td>2</td><td>3</td><td>2</td><td>1</td><td>2</td><td>1</td><td>1</td></tr>\n",
       "\t<tr><td>1</td><td>1</td><td>1</td><td>2</td><td>1</td><td>1</td><td>1</td><td>0</td><td>1</td><td>1</td><td>⋯</td><td>2</td><td>1</td><td>1</td><td>2</td><td>2</td><td>3</td><td>2</td><td>2</td><td>1</td><td>1</td></tr>\n",
       "\t<tr><td>1</td><td>1</td><td>1</td><td>3</td><td>1</td><td>2</td><td>1</td><td>0</td><td>0</td><td>1</td><td>⋯</td><td>3</td><td>1</td><td>1</td><td>3</td><td>1</td><td>2</td><td>4</td><td>3</td><td>2</td><td>2</td></tr>\n",
       "\t<tr><td>2</td><td>1</td><td>1</td><td>2</td><td>1</td><td>1</td><td>2</td><td>1</td><td>2</td><td>1</td><td>⋯</td><td>2</td><td>2</td><td>3</td><td>3</td><td>2</td><td>2</td><td>3</td><td>5</td><td>1</td><td>1</td></tr>\n",
       "\t<tr><td>1</td><td>1</td><td>1</td><td>2</td><td>2</td><td>2</td><td>1</td><td>0</td><td>0</td><td>1</td><td>⋯</td><td>2</td><td>1</td><td>1</td><td>2</td><td>1</td><td>1</td><td>2</td><td>1</td><td>3</td><td>2</td></tr>\n",
       "\t<tr><td>1</td><td>1</td><td>2</td><td>2</td><td>1</td><td>2</td><td>1</td><td>0</td><td>0</td><td>1</td><td>⋯</td><td>3</td><td>1</td><td>1</td><td>2</td><td>1</td><td>1</td><td>2</td><td>1</td><td>2</td><td>3</td></tr>\n",
       "</tbody>\n",
       "</table>\n"
      ],
      "text/latex": [
       "A matrix: 26 × 26 of type dbl\n",
       "\\begin{tabular}{lllllllllllllllllllll}\n",
       "\t 3 & 1 & 1 & 1 & 1 & 1 & 2 & 1 & 1 & 2 & ⋯ & 1 & 2 & 3 & 2 & 2 & 1 & 1 & 2 & 1 & 1\\\\\n",
       "\t 1 & 3 & 1 & 1 & 1 & 1 & 1 & 1 & 0 & 1 & ⋯ & 2 & 0 & 2 & 1 & 1 & 1 & 1 & 1 & 1 & 1\\\\\n",
       "\t 1 & 1 & 2 & 1 & 1 & 1 & 1 & 0 & 0 & 1 & ⋯ & 2 & 1 & 1 & 1 & 1 & 1 & 1 & 1 & 1 & 2\\\\\n",
       "\t 1 & 1 & 1 & 3 & 1 & 2 & 1 & 0 & 0 & 1 & ⋯ & 3 & 1 & 1 & 3 & 1 & 2 & 3 & 2 & 2 & 2\\\\\n",
       "\t 1 & 1 & 1 & 1 & 3 & 2 & 1 & 0 & 0 & 1 & ⋯ & 1 & 1 & 1 & 1 & 1 & 1 & 1 & 1 & 2 & 1\\\\\n",
       "\t 1 & 1 & 1 & 2 & 2 & 3 & 1 & 0 & 0 & 1 & ⋯ & 2 & 0 & 1 & 2 & 1 & 1 & 2 & 1 & 2 & 2\\\\\n",
       "\t 2 & 1 & 1 & 1 & 1 & 1 & 4 & 2 & 2 & 1 & ⋯ & 2 & 1 & 2 & 3 & 2 & 1 & 1 & 2 & 1 & 1\\\\\n",
       "\t 1 & 1 & 0 & 0 & 0 & 0 & 2 & 3 & 2 & 0 & ⋯ & 0 & 1 & 2 & 1 & 1 & 0 & 0 & 1 & 0 & 0\\\\\n",
       "\t 1 & 0 & 0 & 0 & 0 & 0 & 2 & 2 & 4 & 0 & ⋯ & 0 & 1 & 2 & 1 & 2 & 1 & 0 & 2 & 0 & 0\\\\\n",
       "\t 2 & 1 & 1 & 1 & 1 & 1 & 1 & 0 & 0 & 2 & ⋯ & 1 & 1 & 2 & 1 & 1 & 1 & 1 & 1 & 1 & 1\\\\\n",
       "\t 2 & 1 & 1 & 2 & 1 & 2 & 1 & 0 & 0 & 2 & ⋯ & 2 & 1 & 2 & 2 & 1 & 1 & 2 & 1 & 2 & 2\\\\\n",
       "\t 1 & 1 & 0 & 0 & 0 & 0 & 1 & 2 & 1 & 0 & ⋯ & 0 & 1 & 2 & 1 & 1 & 0 & 0 & 1 & 0 & 0\\\\\n",
       "\t 3 & 2 & 1 & 1 & 1 & 1 & 2 & 1 & 1 & 2 & ⋯ & 2 & 2 & 3 & 2 & 2 & 1 & 1 & 2 & 1 & 1\\\\\n",
       "\t 2 & 1 & 2 & 3 & 2 & 2 & 3 & 1 & 1 & 1 & ⋯ & 5 & 4 & 2 & 5 & 2 & 2 & 3 & 3 & 3 & 3\\\\\n",
       "\t 1 & 1 & 1 & 3 & 2 & 2 & 1 & 0 & 0 & 1 & ⋯ & 3 & 2 & 1 & 3 & 1 & 2 & 4 & 3 & 3 & 2\\\\\n",
       "\t 1 & 1 & 1 & 2 & 2 & 3 & 1 & 0 & 1 & 1 & ⋯ & 2 & 0 & 1 & 2 & 2 & 2 & 3 & 2 & 2 & 2\\\\\n",
       "\t 1 & 2 & 2 & 3 & 1 & 2 & 2 & 0 & 0 & 1 & ⋯ & 6 & 2 & 1 & 4 & 1 & 2 & 3 & 2 & 2 & 3\\\\\n",
       "\t 2 & 0 & 1 & 1 & 1 & 0 & 1 & 1 & 1 & 1 & ⋯ & 2 & 5 & 2 & 2 & 1 & 1 & 1 & 2 & 1 & 1\\\\\n",
       "\t 3 & 2 & 1 & 1 & 1 & 1 & 2 & 2 & 2 & 2 & ⋯ & 1 & 2 & 5 & 2 & 2 & 1 & 1 & 3 & 1 & 1\\\\\n",
       "\t 2 & 1 & 1 & 3 & 1 & 2 & 3 & 1 & 1 & 1 & ⋯ & 4 & 2 & 2 & 5 & 2 & 2 & 3 & 3 & 2 & 2\\\\\n",
       "\t 2 & 1 & 1 & 1 & 1 & 1 & 2 & 1 & 2 & 1 & ⋯ & 1 & 1 & 2 & 2 & 3 & 2 & 1 & 2 & 1 & 1\\\\\n",
       "\t 1 & 1 & 1 & 2 & 1 & 1 & 1 & 0 & 1 & 1 & ⋯ & 2 & 1 & 1 & 2 & 2 & 3 & 2 & 2 & 1 & 1\\\\\n",
       "\t 1 & 1 & 1 & 3 & 1 & 2 & 1 & 0 & 0 & 1 & ⋯ & 3 & 1 & 1 & 3 & 1 & 2 & 4 & 3 & 2 & 2\\\\\n",
       "\t 2 & 1 & 1 & 2 & 1 & 1 & 2 & 1 & 2 & 1 & ⋯ & 2 & 2 & 3 & 3 & 2 & 2 & 3 & 5 & 1 & 1\\\\\n",
       "\t 1 & 1 & 1 & 2 & 2 & 2 & 1 & 0 & 0 & 1 & ⋯ & 2 & 1 & 1 & 2 & 1 & 1 & 2 & 1 & 3 & 2\\\\\n",
       "\t 1 & 1 & 2 & 2 & 1 & 2 & 1 & 0 & 0 & 1 & ⋯ & 3 & 1 & 1 & 2 & 1 & 1 & 2 & 1 & 2 & 3\\\\\n",
       "\\end{tabular}\n"
      ],
      "text/markdown": [
       "\n",
       "A matrix: 26 × 26 of type dbl\n",
       "\n",
       "| 3 | 1 | 1 | 1 | 1 | 1 | 2 | 1 | 1 | 2 | ⋯ | 1 | 2 | 3 | 2 | 2 | 1 | 1 | 2 | 1 | 1 |\n",
       "| 1 | 3 | 1 | 1 | 1 | 1 | 1 | 1 | 0 | 1 | ⋯ | 2 | 0 | 2 | 1 | 1 | 1 | 1 | 1 | 1 | 1 |\n",
       "| 1 | 1 | 2 | 1 | 1 | 1 | 1 | 0 | 0 | 1 | ⋯ | 2 | 1 | 1 | 1 | 1 | 1 | 1 | 1 | 1 | 2 |\n",
       "| 1 | 1 | 1 | 3 | 1 | 2 | 1 | 0 | 0 | 1 | ⋯ | 3 | 1 | 1 | 3 | 1 | 2 | 3 | 2 | 2 | 2 |\n",
       "| 1 | 1 | 1 | 1 | 3 | 2 | 1 | 0 | 0 | 1 | ⋯ | 1 | 1 | 1 | 1 | 1 | 1 | 1 | 1 | 2 | 1 |\n",
       "| 1 | 1 | 1 | 2 | 2 | 3 | 1 | 0 | 0 | 1 | ⋯ | 2 | 0 | 1 | 2 | 1 | 1 | 2 | 1 | 2 | 2 |\n",
       "| 2 | 1 | 1 | 1 | 1 | 1 | 4 | 2 | 2 | 1 | ⋯ | 2 | 1 | 2 | 3 | 2 | 1 | 1 | 2 | 1 | 1 |\n",
       "| 1 | 1 | 0 | 0 | 0 | 0 | 2 | 3 | 2 | 0 | ⋯ | 0 | 1 | 2 | 1 | 1 | 0 | 0 | 1 | 0 | 0 |\n",
       "| 1 | 0 | 0 | 0 | 0 | 0 | 2 | 2 | 4 | 0 | ⋯ | 0 | 1 | 2 | 1 | 2 | 1 | 0 | 2 | 0 | 0 |\n",
       "| 2 | 1 | 1 | 1 | 1 | 1 | 1 | 0 | 0 | 2 | ⋯ | 1 | 1 | 2 | 1 | 1 | 1 | 1 | 1 | 1 | 1 |\n",
       "| 2 | 1 | 1 | 2 | 1 | 2 | 1 | 0 | 0 | 2 | ⋯ | 2 | 1 | 2 | 2 | 1 | 1 | 2 | 1 | 2 | 2 |\n",
       "| 1 | 1 | 0 | 0 | 0 | 0 | 1 | 2 | 1 | 0 | ⋯ | 0 | 1 | 2 | 1 | 1 | 0 | 0 | 1 | 0 | 0 |\n",
       "| 3 | 2 | 1 | 1 | 1 | 1 | 2 | 1 | 1 | 2 | ⋯ | 2 | 2 | 3 | 2 | 2 | 1 | 1 | 2 | 1 | 1 |\n",
       "| 2 | 1 | 2 | 3 | 2 | 2 | 3 | 1 | 1 | 1 | ⋯ | 5 | 4 | 2 | 5 | 2 | 2 | 3 | 3 | 3 | 3 |\n",
       "| 1 | 1 | 1 | 3 | 2 | 2 | 1 | 0 | 0 | 1 | ⋯ | 3 | 2 | 1 | 3 | 1 | 2 | 4 | 3 | 3 | 2 |\n",
       "| 1 | 1 | 1 | 2 | 2 | 3 | 1 | 0 | 1 | 1 | ⋯ | 2 | 0 | 1 | 2 | 2 | 2 | 3 | 2 | 2 | 2 |\n",
       "| 1 | 2 | 2 | 3 | 1 | 2 | 2 | 0 | 0 | 1 | ⋯ | 6 | 2 | 1 | 4 | 1 | 2 | 3 | 2 | 2 | 3 |\n",
       "| 2 | 0 | 1 | 1 | 1 | 0 | 1 | 1 | 1 | 1 | ⋯ | 2 | 5 | 2 | 2 | 1 | 1 | 1 | 2 | 1 | 1 |\n",
       "| 3 | 2 | 1 | 1 | 1 | 1 | 2 | 2 | 2 | 2 | ⋯ | 1 | 2 | 5 | 2 | 2 | 1 | 1 | 3 | 1 | 1 |\n",
       "| 2 | 1 | 1 | 3 | 1 | 2 | 3 | 1 | 1 | 1 | ⋯ | 4 | 2 | 2 | 5 | 2 | 2 | 3 | 3 | 2 | 2 |\n",
       "| 2 | 1 | 1 | 1 | 1 | 1 | 2 | 1 | 2 | 1 | ⋯ | 1 | 1 | 2 | 2 | 3 | 2 | 1 | 2 | 1 | 1 |\n",
       "| 1 | 1 | 1 | 2 | 1 | 1 | 1 | 0 | 1 | 1 | ⋯ | 2 | 1 | 1 | 2 | 2 | 3 | 2 | 2 | 1 | 1 |\n",
       "| 1 | 1 | 1 | 3 | 1 | 2 | 1 | 0 | 0 | 1 | ⋯ | 3 | 1 | 1 | 3 | 1 | 2 | 4 | 3 | 2 | 2 |\n",
       "| 2 | 1 | 1 | 2 | 1 | 1 | 2 | 1 | 2 | 1 | ⋯ | 2 | 2 | 3 | 3 | 2 | 2 | 3 | 5 | 1 | 1 |\n",
       "| 1 | 1 | 1 | 2 | 2 | 2 | 1 | 0 | 0 | 1 | ⋯ | 2 | 1 | 1 | 2 | 1 | 1 | 2 | 1 | 3 | 2 |\n",
       "| 1 | 1 | 2 | 2 | 1 | 2 | 1 | 0 | 0 | 1 | ⋯ | 3 | 1 | 1 | 2 | 1 | 1 | 2 | 1 | 2 | 3 |\n",
       "\n"
      ],
      "text/plain": [
       "      [,1] [,2] [,3] [,4] [,5] [,6] [,7] [,8] [,9] [,10] [,11] [,12] [,13]\n",
       " [1,] 3    1    1    1    1    1    2    1    1    2     ⋯     1     2    \n",
       " [2,] 1    3    1    1    1    1    1    1    0    1     ⋯     2     0    \n",
       " [3,] 1    1    2    1    1    1    1    0    0    1     ⋯     2     1    \n",
       " [4,] 1    1    1    3    1    2    1    0    0    1     ⋯     3     1    \n",
       " [5,] 1    1    1    1    3    2    1    0    0    1     ⋯     1     1    \n",
       " [6,] 1    1    1    2    2    3    1    0    0    1     ⋯     2     0    \n",
       " [7,] 2    1    1    1    1    1    4    2    2    1     ⋯     2     1    \n",
       " [8,] 1    1    0    0    0    0    2    3    2    0     ⋯     0     1    \n",
       " [9,] 1    0    0    0    0    0    2    2    4    0     ⋯     0     1    \n",
       "[10,] 2    1    1    1    1    1    1    0    0    2     ⋯     1     1    \n",
       "[11,] 2    1    1    2    1    2    1    0    0    2     ⋯     2     1    \n",
       "[12,] 1    1    0    0    0    0    1    2    1    0     ⋯     0     1    \n",
       "[13,] 3    2    1    1    1    1    2    1    1    2     ⋯     2     2    \n",
       "[14,] 2    1    2    3    2    2    3    1    1    1     ⋯     5     4    \n",
       "[15,] 1    1    1    3    2    2    1    0    0    1     ⋯     3     2    \n",
       "[16,] 1    1    1    2    2    3    1    0    1    1     ⋯     2     0    \n",
       "[17,] 1    2    2    3    1    2    2    0    0    1     ⋯     6     2    \n",
       "[18,] 2    0    1    1    1    0    1    1    1    1     ⋯     2     5    \n",
       "[19,] 3    2    1    1    1    1    2    2    2    2     ⋯     1     2    \n",
       "[20,] 2    1    1    3    1    2    3    1    1    1     ⋯     4     2    \n",
       "[21,] 2    1    1    1    1    1    2    1    2    1     ⋯     1     1    \n",
       "[22,] 1    1    1    2    1    1    1    0    1    1     ⋯     2     1    \n",
       "[23,] 1    1    1    3    1    2    1    0    0    1     ⋯     3     1    \n",
       "[24,] 2    1    1    2    1    1    2    1    2    1     ⋯     2     2    \n",
       "[25,] 1    1    1    2    2    2    1    0    0    1     ⋯     2     1    \n",
       "[26,] 1    1    2    2    1    2    1    0    0    1     ⋯     3     1    \n",
       "      [,14] [,15] [,16] [,17] [,18] [,19] [,20] [,21]\n",
       " [1,] 3     2     2     1     1     2     1     1    \n",
       " [2,] 2     1     1     1     1     1     1     1    \n",
       " [3,] 1     1     1     1     1     1     1     2    \n",
       " [4,] 1     3     1     2     3     2     2     2    \n",
       " [5,] 1     1     1     1     1     1     2     1    \n",
       " [6,] 1     2     1     1     2     1     2     2    \n",
       " [7,] 2     3     2     1     1     2     1     1    \n",
       " [8,] 2     1     1     0     0     1     0     0    \n",
       " [9,] 2     1     2     1     0     2     0     0    \n",
       "[10,] 2     1     1     1     1     1     1     1    \n",
       "[11,] 2     2     1     1     2     1     2     2    \n",
       "[12,] 2     1     1     0     0     1     0     0    \n",
       "[13,] 3     2     2     1     1     2     1     1    \n",
       "[14,] 2     5     2     2     3     3     3     3    \n",
       "[15,] 1     3     1     2     4     3     3     2    \n",
       "[16,] 1     2     2     2     3     2     2     2    \n",
       "[17,] 1     4     1     2     3     2     2     3    \n",
       "[18,] 2     2     1     1     1     2     1     1    \n",
       "[19,] 5     2     2     1     1     3     1     1    \n",
       "[20,] 2     5     2     2     3     3     2     2    \n",
       "[21,] 2     2     3     2     1     2     1     1    \n",
       "[22,] 1     2     2     3     2     2     1     1    \n",
       "[23,] 1     3     1     2     4     3     2     2    \n",
       "[24,] 3     3     2     2     3     5     1     1    \n",
       "[25,] 1     2     1     1     2     1     3     2    \n",
       "[26,] 1     2     1     1     2     1     2     3    "
      ]
     },
     "metadata": {},
     "output_type": "display_data"
    },
    {
     "data": {
      "text/html": [
       "<table class=\"dataframe\">\n",
       "<caption>A matrix: 15 × 15 of type dbl</caption>\n",
       "<thead>\n",
       "\t<tr><th></th><th scope=col>V1</th><th scope=col>V2</th><th scope=col>V3</th><th scope=col>V4</th><th scope=col>V5</th><th scope=col>V6</th><th scope=col>V7</th><th scope=col>V8</th><th scope=col>V9</th><th scope=col>V10</th><th scope=col>V11</th><th scope=col>V12</th><th scope=col>V13</th><th scope=col>V14</th><th scope=col>V15</th></tr>\n",
       "</thead>\n",
       "<tbody>\n",
       "\t<tr><th scope=row>V1</th><td>3</td><td> 0</td><td> 2</td><td> 3</td><td>0</td><td>1</td><td>1</td><td>1</td><td>1</td><td>1</td><td>0</td><td>0</td><td>0</td><td>0</td><td>1</td></tr>\n",
       "\t<tr><th scope=row>V2</th><td>0</td><td>11</td><td>11</td><td> 2</td><td>1</td><td>3</td><td>0</td><td>1</td><td>1</td><td>0</td><td>3</td><td>3</td><td>3</td><td>2</td><td>6</td></tr>\n",
       "\t<tr><th scope=row>V3</th><td>2</td><td>11</td><td>22</td><td> 8</td><td>3</td><td>4</td><td>2</td><td>3</td><td>5</td><td>1</td><td>4</td><td>4</td><td>4</td><td>3</td><td>8</td></tr>\n",
       "\t<tr><th scope=row>V4</th><td>3</td><td> 2</td><td> 8</td><td>12</td><td>1</td><td>1</td><td>3</td><td>2</td><td>4</td><td>3</td><td>3</td><td>2</td><td>2</td><td>0</td><td>4</td></tr>\n",
       "\t<tr><th scope=row>V5</th><td>0</td><td> 1</td><td> 3</td><td> 1</td><td>3</td><td>0</td><td>1</td><td>0</td><td>1</td><td>0</td><td>1</td><td>1</td><td>0</td><td>0</td><td>1</td></tr>\n",
       "\t<tr><th scope=row>V6</th><td>1</td><td> 3</td><td> 4</td><td> 1</td><td>0</td><td>4</td><td>0</td><td>1</td><td>0</td><td>0</td><td>0</td><td>0</td><td>1</td><td>1</td><td>3</td></tr>\n",
       "\t<tr><th scope=row>V7</th><td>1</td><td> 0</td><td> 2</td><td> 3</td><td>1</td><td>0</td><td>4</td><td>0</td><td>1</td><td>1</td><td>0</td><td>0</td><td>0</td><td>0</td><td>0</td></tr>\n",
       "\t<tr><th scope=row>V8</th><td>1</td><td> 1</td><td> 3</td><td> 2</td><td>0</td><td>1</td><td>0</td><td>4</td><td>0</td><td>1</td><td>0</td><td>0</td><td>0</td><td>1</td><td>1</td></tr>\n",
       "\t<tr><th scope=row>V9</th><td>1</td><td> 1</td><td> 5</td><td> 4</td><td>1</td><td>0</td><td>1</td><td>0</td><td>6</td><td>0</td><td>0</td><td>1</td><td>1</td><td>0</td><td>1</td></tr>\n",
       "\t<tr><th scope=row>V10</th><td>1</td><td> 0</td><td> 1</td><td> 3</td><td>0</td><td>0</td><td>1</td><td>1</td><td>0</td><td>3</td><td>1</td><td>0</td><td>0</td><td>0</td><td>0</td></tr>\n",
       "\t<tr><th scope=row>V11</th><td>0</td><td> 3</td><td> 4</td><td> 3</td><td>1</td><td>0</td><td>0</td><td>0</td><td>0</td><td>1</td><td>4</td><td>2</td><td>1</td><td>0</td><td>3</td></tr>\n",
       "\t<tr><th scope=row>V12</th><td>0</td><td> 3</td><td> 4</td><td> 2</td><td>1</td><td>0</td><td>0</td><td>0</td><td>1</td><td>0</td><td>2</td><td>5</td><td>2</td><td>0</td><td>3</td></tr>\n",
       "\t<tr><th scope=row>V13</th><td>0</td><td> 3</td><td> 4</td><td> 2</td><td>0</td><td>1</td><td>0</td><td>0</td><td>1</td><td>0</td><td>1</td><td>2</td><td>5</td><td>1</td><td>3</td></tr>\n",
       "\t<tr><th scope=row>V14</th><td>0</td><td> 2</td><td> 3</td><td> 0</td><td>0</td><td>1</td><td>0</td><td>1</td><td>0</td><td>0</td><td>0</td><td>0</td><td>1</td><td>3</td><td>0</td></tr>\n",
       "\t<tr><th scope=row>V15</th><td>1</td><td> 6</td><td> 8</td><td> 4</td><td>1</td><td>3</td><td>0</td><td>1</td><td>1</td><td>0</td><td>3</td><td>3</td><td>3</td><td>0</td><td>9</td></tr>\n",
       "</tbody>\n",
       "</table>\n"
      ],
      "text/latex": [
       "A matrix: 15 × 15 of type dbl\n",
       "\\begin{tabular}{r|lllllllllllllll}\n",
       "  & V1 & V2 & V3 & V4 & V5 & V6 & V7 & V8 & V9 & V10 & V11 & V12 & V13 & V14 & V15\\\\\n",
       "\\hline\n",
       "\tV1 & 3 &  0 &  2 &  3 & 0 & 1 & 1 & 1 & 1 & 1 & 0 & 0 & 0 & 0 & 1\\\\\n",
       "\tV2 & 0 & 11 & 11 &  2 & 1 & 3 & 0 & 1 & 1 & 0 & 3 & 3 & 3 & 2 & 6\\\\\n",
       "\tV3 & 2 & 11 & 22 &  8 & 3 & 4 & 2 & 3 & 5 & 1 & 4 & 4 & 4 & 3 & 8\\\\\n",
       "\tV4 & 3 &  2 &  8 & 12 & 1 & 1 & 3 & 2 & 4 & 3 & 3 & 2 & 2 & 0 & 4\\\\\n",
       "\tV5 & 0 &  1 &  3 &  1 & 3 & 0 & 1 & 0 & 1 & 0 & 1 & 1 & 0 & 0 & 1\\\\\n",
       "\tV6 & 1 &  3 &  4 &  1 & 0 & 4 & 0 & 1 & 0 & 0 & 0 & 0 & 1 & 1 & 3\\\\\n",
       "\tV7 & 1 &  0 &  2 &  3 & 1 & 0 & 4 & 0 & 1 & 1 & 0 & 0 & 0 & 0 & 0\\\\\n",
       "\tV8 & 1 &  1 &  3 &  2 & 0 & 1 & 0 & 4 & 0 & 1 & 0 & 0 & 0 & 1 & 1\\\\\n",
       "\tV9 & 1 &  1 &  5 &  4 & 1 & 0 & 1 & 0 & 6 & 0 & 0 & 1 & 1 & 0 & 1\\\\\n",
       "\tV10 & 1 &  0 &  1 &  3 & 0 & 0 & 1 & 1 & 0 & 3 & 1 & 0 & 0 & 0 & 0\\\\\n",
       "\tV11 & 0 &  3 &  4 &  3 & 1 & 0 & 0 & 0 & 0 & 1 & 4 & 2 & 1 & 0 & 3\\\\\n",
       "\tV12 & 0 &  3 &  4 &  2 & 1 & 0 & 0 & 0 & 1 & 0 & 2 & 5 & 2 & 0 & 3\\\\\n",
       "\tV13 & 0 &  3 &  4 &  2 & 0 & 1 & 0 & 0 & 1 & 0 & 1 & 2 & 5 & 1 & 3\\\\\n",
       "\tV14 & 0 &  2 &  3 &  0 & 0 & 1 & 0 & 1 & 0 & 0 & 0 & 0 & 1 & 3 & 0\\\\\n",
       "\tV15 & 1 &  6 &  8 &  4 & 1 & 3 & 0 & 1 & 1 & 0 & 3 & 3 & 3 & 0 & 9\\\\\n",
       "\\end{tabular}\n"
      ],
      "text/markdown": [
       "\n",
       "A matrix: 15 × 15 of type dbl\n",
       "\n",
       "| <!--/--> | V1 | V2 | V3 | V4 | V5 | V6 | V7 | V8 | V9 | V10 | V11 | V12 | V13 | V14 | V15 |\n",
       "|---|---|---|---|---|---|---|---|---|---|---|---|---|---|---|---|\n",
       "| V1 | 3 |  0 |  2 |  3 | 0 | 1 | 1 | 1 | 1 | 1 | 0 | 0 | 0 | 0 | 1 |\n",
       "| V2 | 0 | 11 | 11 |  2 | 1 | 3 | 0 | 1 | 1 | 0 | 3 | 3 | 3 | 2 | 6 |\n",
       "| V3 | 2 | 11 | 22 |  8 | 3 | 4 | 2 | 3 | 5 | 1 | 4 | 4 | 4 | 3 | 8 |\n",
       "| V4 | 3 |  2 |  8 | 12 | 1 | 1 | 3 | 2 | 4 | 3 | 3 | 2 | 2 | 0 | 4 |\n",
       "| V5 | 0 |  1 |  3 |  1 | 3 | 0 | 1 | 0 | 1 | 0 | 1 | 1 | 0 | 0 | 1 |\n",
       "| V6 | 1 |  3 |  4 |  1 | 0 | 4 | 0 | 1 | 0 | 0 | 0 | 0 | 1 | 1 | 3 |\n",
       "| V7 | 1 |  0 |  2 |  3 | 1 | 0 | 4 | 0 | 1 | 1 | 0 | 0 | 0 | 0 | 0 |\n",
       "| V8 | 1 |  1 |  3 |  2 | 0 | 1 | 0 | 4 | 0 | 1 | 0 | 0 | 0 | 1 | 1 |\n",
       "| V9 | 1 |  1 |  5 |  4 | 1 | 0 | 1 | 0 | 6 | 0 | 0 | 1 | 1 | 0 | 1 |\n",
       "| V10 | 1 |  0 |  1 |  3 | 0 | 0 | 1 | 1 | 0 | 3 | 1 | 0 | 0 | 0 | 0 |\n",
       "| V11 | 0 |  3 |  4 |  3 | 1 | 0 | 0 | 0 | 0 | 1 | 4 | 2 | 1 | 0 | 3 |\n",
       "| V12 | 0 |  3 |  4 |  2 | 1 | 0 | 0 | 0 | 1 | 0 | 2 | 5 | 2 | 0 | 3 |\n",
       "| V13 | 0 |  3 |  4 |  2 | 0 | 1 | 0 | 0 | 1 | 0 | 1 | 2 | 5 | 1 | 3 |\n",
       "| V14 | 0 |  2 |  3 |  0 | 0 | 1 | 0 | 1 | 0 | 0 | 0 | 0 | 1 | 3 | 0 |\n",
       "| V15 | 1 |  6 |  8 |  4 | 1 | 3 | 0 | 1 | 1 | 0 | 3 | 3 | 3 | 0 | 9 |\n",
       "\n"
      ],
      "text/plain": [
       "    V1 V2 V3 V4 V5 V6 V7 V8 V9 V10 V11 V12 V13 V14 V15\n",
       "V1  3   0  2  3 0  1  1  1  1  1   0   0   0   0   1  \n",
       "V2  0  11 11  2 1  3  0  1  1  0   3   3   3   2   6  \n",
       "V3  2  11 22  8 3  4  2  3  5  1   4   4   4   3   8  \n",
       "V4  3   2  8 12 1  1  3  2  4  3   3   2   2   0   4  \n",
       "V5  0   1  3  1 3  0  1  0  1  0   1   1   0   0   1  \n",
       "V6  1   3  4  1 0  4  0  1  0  0   0   0   1   1   3  \n",
       "V7  1   0  2  3 1  0  4  0  1  1   0   0   0   0   0  \n",
       "V8  1   1  3  2 0  1  0  4  0  1   0   0   0   1   1  \n",
       "V9  1   1  5  4 1  0  1  0  6  0   0   1   1   0   1  \n",
       "V10 1   0  1  3 0  0  1  1  0  3   1   0   0   0   0  \n",
       "V11 0   3  4  3 1  0  0  0  0  1   4   2   1   0   3  \n",
       "V12 0   3  4  2 1  0  0  0  1  0   2   5   2   0   3  \n",
       "V13 0   3  4  2 0  1  0  0  1  0   1   2   5   1   3  \n",
       "V14 0   2  3  0 0  1  0  1  0  0   0   0   1   3   0  \n",
       "V15 1   6  8  4 1  3  0  1  1  0   3   3   3   0   9  "
      ]
     },
     "metadata": {},
     "output_type": "display_data"
    },
    {
     "data": {
      "image/png": "[encoded data removed]",
      "text/plain": [
       "Plot with title \"Сеть соучастия\""
      ]
     },
     "metadata": {
      "image/png": {
       "height": 420,
       "width": 420
      }
     },
     "output_type": "display_data"
    },
    {
     "data": {
      "image/png": "[encoded data removed]",
      "text/plain": [
       "Plot with title \"Сеть перекрытия событий\""
      ]
     },
     "metadata": {
      "image/png": {
       "height": 420,
       "width": 420
      }
     },
     "output_type": "display_data"
    }
   ],
   "source": [
    "m_N <- m2 %*% t(m2)\n",
    "m_N\n",
    "grN <- graph.incidence(m_N, weighted = TRUE, mode = \"in\")\n",
    "plot(grN, edge.label = E(grN)$weight, main=\"Сеть соучастия\", vertex.color=\"gray\")\n",
    "\n",
    "m_M <- t(m2) %*% m2\n",
    "m_M\n",
    "grM <- graph.incidence(m_M, weighted = TRUE, mode = \"in\")\n",
    "plot(grM, edge.label = E(grM)$weight, main=\"Сеть перекрытия событий\", vertex.color=\"#cea8f5\")"
   ]
  },
  {
   "cell_type": "markdown",
   "metadata": {},
   "source": [
    "### Пункт 8:"
   ]
  },
  {
   "cell_type": "markdown",
   "metadata": {},
   "source": [
    "Была вычислена степень участия для каждого актора. Наибольшая степень участия - 7, наименьшая - 2. Также была вычислена средняя степень участия акторов - 3,769, то есть приблизительно 4. Можно сказать, что при общем количестве событий, равном 15, степень участия каждая актора и средняя степень участия акторов относительно малы."
   ]
  },
  {
   "cell_type": "code",
   "execution_count": 68,
   "metadata": {
    "vscode": {
     "languageId": "r"
    }
   },
   "outputs": [
    {
     "name": "stdout",
     "output_type": "stream",
     "text": [
      "actor: 1 Степень участия: 3 \n",
      "actor: 2 Степень участия: 3 \n",
      "actor: 3 Степень участия: 2 \n",
      "actor: 4 Степень участия: 3 \n",
      "actor: 5 Степень участия: 3 \n",
      "actor: 6 Степень участия: 3 \n",
      "actor: 7 Степень участия: 4 \n",
      "actor: 8 Степень участия: 3 \n",
      "actor: 9 Степень участия: 4 \n",
      "actor: 10 Степень участия: 2 \n",
      "actor: 11 Степень участия: 3 \n",
      "actor: 12 Степень участия: 2 \n",
      "actor: 13 Степень участия: 4 \n",
      "actor: 14 Степень участия: 7 \n",
      "actor: 15 Степень участия: 5 \n",
      "actor: 16 Степень участия: 5 \n",
      "actor: 17 Степень участия: 6 \n",
      "actor: 18 Степень участия: 5 \n",
      "actor: 19 Степень участия: 5 \n",
      "actor: 20 Степень участия: 5 \n",
      "actor: 21 Степень участия: 3 \n",
      "actor: 22 Степень участия: 3 \n",
      "actor: 23 Степень участия: 4 \n",
      "actor: 24 Степень участия: 5 \n",
      "actor: 25 Степень участия: 3 \n",
      "actor: 26 Степень участия: 3 \n",
      "Mean value: 3.769231"
     ]
    }
   ],
   "source": [
    "d <- diag(m_N)\n",
    "for (i in 1:26) {\n",
    "    cat(\"actor:\", i, \"Степень участия:\", d[i], \"\\n\")\n",
    "}\n",
    "cat(\"Mean value:\", mean(d))"
   ]
  },
  {
   "cell_type": "markdown",
   "metadata": {},
   "source": [
    "### Пункт 9:"
   ]
  },
  {
   "cell_type": "markdown",
   "metadata": {},
   "source": [
    "Был вычислен размер каждого события. Наименьший - 3, наибольший - 22. Также был вычислен средний размер всех событий, который равен приблизительно 6,5. Можно сказать, что разброс относительно среднего значения достаточно велик."
   ]
  },
  {
   "cell_type": "code",
   "execution_count": 69,
   "metadata": {
    "vscode": {
     "languageId": "r"
    }
   },
   "outputs": [
    {
     "name": "stdout",
     "output_type": "stream",
     "text": [
      "Событие: 1 Размер: 3 \n",
      "Событие: 2 Размер: 11 \n",
      "Событие: 3 Размер: 22 \n",
      "Событие: 4 Размер: 12 \n",
      "Событие: 5 Размер: 3 \n",
      "Событие: 6 Размер: 4 \n",
      "Событие: 7 Размер: 4 \n",
      "Событие: 8 Размер: 4 \n",
      "Событие: 9 Размер: 6 \n",
      "Событие: 10 Размер: 3 \n",
      "Событие: 11 Размер: 4 \n",
      "Событие: 12 Размер: 5 \n",
      "Событие: 13 Размер: 5 \n",
      "Событие: 14 Размер: 3 \n",
      "Событие: 15 Размер: 9 \n",
      "Mean size: 6.533333"
     ]
    }
   ],
   "source": [
    "d2 <- diag(m_M)\n",
    "for (i in 1:dim(m_M)[1]) {\n",
    "    cat(\"Событие:\", i, \"Размер:\", d2[i], \"\\n\")\n",
    "}\n",
    "cat(\"Mean size:\", mean(d2))"
   ]
  },
  {
   "cell_type": "markdown",
   "metadata": {},
   "source": [
    "### Пункт 10:"
   ]
  },
  {
   "cell_type": "markdown",
   "metadata": {},
   "source": [
    "Была посчитана плотность для отношения соучастия и отношения перекрытия. В обоих случаях плотность можно оценить, как низкую."
   ]
  },
  {
   "cell_type": "code",
   "execution_count": 70,
   "metadata": {
    "vscode": {
     "languageId": "r"
    }
   },
   "outputs": [
    {
     "name": "stdout",
     "output_type": "stream",
     "text": [
      "Плотность для отношения соучастия равна 1.412308 \n",
      "Плотность для отношения соучастия равна 1.485714 \n"
     ]
    }
   ],
   "source": [
    "g <- nrow(m_N)\n",
    "D_N <- (sum(m_N) - sum(diag(m_N)))/(g*(g - 1))\n",
    "cat(\"Плотность для отношения соучастия равна\", D_N, \"\\n\")\n",
    "\n",
    "h <- nrow(m_M)\n",
    "D_M <- (sum(m_M) - sum(diag(m_M)))/(h*(h - 1))\n",
    "cat(\"Плотность для отношения соучастия равна\", D_M, \"\\n\")"
   ]
  },
  {
   "cell_type": "markdown",
   "metadata": {},
   "source": [
    "### Пункт 11:"
   ]
  },
  {
   "cell_type": "code",
   "execution_count": 73,
   "metadata": {
    "vscode": {
     "languageId": "r"
    }
   },
   "outputs": [
    {
     "name": "stdout",
     "output_type": "stream",
     "text": [
      "Диаметр сети аффилированности 5"
     ]
    }
   ],
   "source": [
    "cat(\"Диаметр сети аффилированности\", diameter(graph))"
   ]
  },
  {
   "cell_type": "markdown",
   "metadata": {},
   "source": [
    "### Пункт 12:"
   ]
  },
  {
   "cell_type": "markdown",
   "metadata": {},
   "source": [
    "Как можно заметить, клики не были определены. Следовательно, нет соответствующих условию групп событий."
   ]
  },
  {
   "cell_type": "code",
   "execution_count": 81,
   "metadata": {
    "vscode": {
     "languageId": "r"
    }
   },
   "outputs": [
    {
     "data": {
      "text/html": [
       "<ol>\n",
       "</ol>\n"
      ],
      "text/latex": [
       "\\begin{enumerate}\n",
       "\\end{enumerate}\n"
      ],
      "text/markdown": [
       "\n",
       "\n"
      ],
      "text/plain": [
       "list()"
      ]
     },
     "metadata": {},
     "output_type": "display_data"
    },
    {
     "data": {
      "text/html": [
       "<ol>\n",
       "</ol>\n"
      ],
      "text/latex": [
       "\\begin{enumerate}\n",
       "\\end{enumerate}\n"
      ],
      "text/markdown": [
       "\n",
       "\n"
      ],
      "text/plain": [
       "list()"
      ]
     },
     "metadata": {},
     "output_type": "display_data"
    },
    {
     "data": {
      "text/html": [
       "<ol>\n",
       "</ol>\n"
      ],
      "text/latex": [
       "\\begin{enumerate}\n",
       "\\end{enumerate}\n"
      ],
      "text/markdown": [
       "\n",
       "\n"
      ],
      "text/plain": [
       "list()"
      ]
     },
     "metadata": {},
     "output_type": "display_data"
    },
    {
     "data": {
      "text/html": [
       "<ol>\n",
       "</ol>\n"
      ],
      "text/latex": [
       "\\begin{enumerate}\n",
       "\\end{enumerate}\n"
      ],
      "text/markdown": [
       "\n",
       "\n"
      ],
      "text/plain": [
       "list()"
      ]
     },
     "metadata": {},
     "output_type": "display_data"
    },
    {
     "data": {
      "text/html": [
       "<ol>\n",
       "</ol>\n"
      ],
      "text/latex": [
       "\\begin{enumerate}\n",
       "\\end{enumerate}\n"
      ],
      "text/markdown": [
       "\n",
       "\n"
      ],
      "text/plain": [
       "list()"
      ]
     },
     "metadata": {},
     "output_type": "display_data"
    },
    {
     "data": {
      "text/html": [
       "<ol>\n",
       "</ol>\n"
      ],
      "text/latex": [
       "\\begin{enumerate}\n",
       "\\end{enumerate}\n"
      ],
      "text/markdown": [
       "\n",
       "\n"
      ],
      "text/plain": [
       "list()"
      ]
     },
     "metadata": {},
     "output_type": "display_data"
    },
    {
     "data": {
      "text/html": [
       "<ol>\n",
       "</ol>\n"
      ],
      "text/latex": [
       "\\begin{enumerate}\n",
       "\\end{enumerate}\n"
      ],
      "text/markdown": [
       "\n",
       "\n"
      ],
      "text/plain": [
       "list()"
      ]
     },
     "metadata": {},
     "output_type": "display_data"
    }
   ],
   "source": [
    "my_graph <- igraph::delete.edges(grN, E(grN)[E(grN)$weight < 3])\n",
    "max_cliques(my_graph, min=3) \n",
    "\n",
    "my_graph <- igraph::delete.edges(grN, E(grN)[E(grN)$weight < 4])\n",
    "max_cliques(my_graph, min=3) \n",
    "\n",
    "my_graph <- igraph::delete.edges(grM, E(grM)[E(grM)$weight < 2])\n",
    "max_cliques(my_graph, min=3) \n",
    "\n",
    "my_graph <- igraph::delete.edges(grM, E(grM)[E(grM)$weight < 3])\n",
    "max_cliques(my_graph, min=3) \n",
    "\n",
    "my_graph <- igraph::delete.edges(grM, E(grM)[E(grM)$weight < 4])\n",
    "max_cliques(my_graph, min=3)\n",
    "\n",
    "my_graph <- igraph::delete.edges(grM, E(grM)[E(grM)$weight < 5])\n",
    "max_cliques(my_graph, min=3) \n",
    "\n",
    "my_graph <- igraph::delete.edges(grM, E(grM)[E(grM)$weight < 6])\n",
    "max_cliques(my_graph, min=3) \n"
   ]
  },
  {
   "cell_type": "markdown",
   "metadata": {},
   "source": [
    "### Пункт 13:"
   ]
  },
  {
   "cell_type": "markdown",
   "metadata": {},
   "source": [
    "Можно заметить, что есть пары акторов, в которых актор связан только с одним событием, также где актор не связан ни с одним из событий."
   ]
  },
  {
   "cell_type": "code",
   "execution_count": 90,
   "metadata": {
    "vscode": {
     "languageId": "r"
    }
   },
   "outputs": [
    {
     "name": "stdout",
     "output_type": "stream",
     "text": [
      "Theta( 2 , 1 ) =  0 \n",
      "Theta( 3 , 1 ) =  0.3 \n",
      "Theta( 3 , 2 ) =  Inf \n",
      "Theta( 4 , 1 ) =  Inf \n",
      "Theta( 4 , 2 ) =  0.111111111111111 \n",
      "Theta( 4 , 3 ) =  0 \n",
      "Theta( 5 , 1 ) =  0 \n",
      "Theta( 5 , 2 ) =  0.65 \n",
      "Theta( 5 , 3 ) =  Inf \n",
      "Theta( 5 , 4 ) =  0.545454545454545 \n",
      "Theta( 6 , 1 ) =  3.33333333333333 \n",
      "Theta( 6 , 2 ) =  5.25 \n",
      "Theta( 6 , 3 ) =  Inf \n",
      "Theta( 6 , 4 ) =  0.333333333333333 \n",
      "Theta( 6 , 5 ) =  0 \n",
      "Theta( 7 , 1 ) =  3.33333333333333 \n",
      "Theta( 7 , 2 ) =  0 \n",
      "Theta( 7 , 3 ) =  0.1 \n",
      "Theta( 7 , 4 ) =  4.33333333333333 \n",
      "Theta( 7 , 5 ) =  3.33333333333333 \n",
      "Theta( 7 , 6 ) =  0 \n",
      "Theta( 8 , 1 ) =  3.33333333333333 \n",
      "Theta( 8 , 2 ) =  0.4 \n",
      "Theta( 8 , 3 ) =  0.473684210526316 \n",
      "Theta( 8 , 4 ) =  1.2 \n",
      "Theta( 8 , 5 ) =  0 \n",
      "Theta( 8 , 6 ) =  2.11111111111111 \n",
      "Theta( 8 , 7 ) =  0 \n",
      "Theta( 9 , 1 ) =  1.8 \n",
      "Theta( 9 , 2 ) =  0.2 \n",
      "Theta( 9 , 3 ) =  0.882352941176471 \n",
      "Theta( 9 , 4 ) =  3 \n",
      "Theta( 9 , 5 ) =  1.8 \n",
      "Theta( 9 , 6 ) =  0 \n",
      "Theta( 9 , 7 ) =  1.13333333333333 \n",
      "Theta( 9 , 8 ) =  0 \n",
      "Theta( 10 , 1 ) =  5.25 \n",
      "Theta( 10 , 2 ) =  0 \n",
      "Theta( 10 , 3 ) =  0.0476190476190476 \n",
      "Theta( 10 , 4 ) =  Inf \n",
      "Theta( 10 , 5 ) =  0 \n",
      "Theta( 10 , 6 ) =  0 \n",
      "Theta( 10 , 7 ) =  3.33333333333333 \n",
      "Theta( 10 , 8 ) =  3.33333333333333 \n",
      "Theta( 10 , 9 ) =  0 \n",
      "Theta( 11 , 1 ) =  0 \n",
      "Theta( 11 , 2 ) =  5.25 \n",
      "Theta( 11 , 3 ) =  Inf \n",
      "Theta( 11 , 4 ) =  4.33333333333333 \n",
      "Theta( 11 , 5 ) =  3.33333333333333 \n",
      "Theta( 11 , 6 ) =  0 \n",
      "Theta( 11 , 7 ) =  0 \n",
      "Theta( 11 , 8 ) =  0 \n",
      "Theta( 11 , 9 ) =  0 \n",
      "Theta( 11 , 10 ) =  3.33333333333333 \n",
      "Theta( 12 , 1 ) =  0 \n",
      "Theta( 12 , 2 ) =  2.4375 \n",
      "Theta( 12 , 3 ) =  0.666666666666667 \n",
      "Theta( 12 , 4 ) =  0.733333333333333 \n",
      "Theta( 12 , 5 ) =  2.375 \n",
      "Theta( 12 , 6 ) =  0 \n",
      "Theta( 12 , 7 ) =  0 \n",
      "Theta( 12 , 8 ) =  0 \n",
      "Theta( 12 , 9 ) =  0.8 \n",
      "Theta( 12 , 10 ) =  0 \n",
      "Theta( 12 , 11 ) =  6.33333333333333 \n",
      "Theta( 13 , 1 ) =  0 \n",
      "Theta( 13 , 2 ) =  2.4375 \n",
      "Theta( 13 , 3 ) =  0.666666666666667 \n",
      "Theta( 13 , 4 ) =  0.733333333333333 \n",
      "Theta( 13 , 5 ) =  0 \n",
      "Theta( 13 , 6 ) =  1.5 \n",
      "Theta( 13 , 7 ) =  0 \n",
      "Theta( 13 , 8 ) =  0 \n",
      "Theta( 13 , 9 ) =  0.8 \n",
      "Theta( 13 , 10 ) =  0 \n",
      "Theta( 13 , 11 ) =  1.5 \n",
      "Theta( 13 , 12 ) =  4 \n",
      "Theta( 14 , 1 ) =  0 \n",
      "Theta( 14 , 2 ) =  3.11111111111111 \n",
      "Theta( 14 , 3 ) =  Inf \n",
      "Theta( 14 , 4 ) =  0 \n",
      "Theta( 14 , 5 ) =  0 \n",
      "Theta( 14 , 6 ) =  3.33333333333333 \n",
      "Theta( 14 , 7 ) =  0 \n",
      "Theta( 14 , 8 ) =  3.33333333333333 \n",
      "Theta( 14 , 9 ) =  0 \n",
      "Theta( 14 , 10 ) =  0 \n",
      "Theta( 14 , 11 ) =  0 \n",
      "Theta( 14 , 12 ) =  0 \n",
      "Theta( 14 , 13 ) =  2.375 \n",
      "Theta( 15 , 1 ) =  0.9375 \n",
      "Theta( 15 , 2 ) =  4.8 \n",
      "Theta( 15 , 3 ) =  1.71428571428571 \n",
      "Theta( 15 , 4 ) =  0.9 \n",
      "Theta( 15 , 5 ) =  0.9375 \n",
      "Theta( 15 , 6 ) =  8 \n",
      "Theta( 15 , 7 ) =  0 \n",
      "Theta( 15 , 8 ) =  0.583333333333333 \n",
      "Theta( 15 , 9 ) =  0.3 \n",
      "Theta( 15 , 10 ) =  0 \n",
      "Theta( 15 , 11 ) =  8 \n",
      "Theta( 15 , 12 ) =  3.75 \n",
      "Theta( 15 , 13 ) =  3.75 \n",
      "Theta( 15 , 14 ) =  0 \n"
     ]
    }
   ],
   "source": [
    "m3 <- t(m2) %*% m2\n",
    "notm3 <- (1 - t(m2)) %*% (1 - m2)\n",
    "m4 <- (1 - t(m2)) %*% m2\n",
    "m5 <- t(m2) %*% (1  -m2)\n",
    "\n",
    "res <- c()\n",
    "for(i in 2:nrow(m3)){\n",
    "    for(j in 1:(i-1)){\n",
    "        cat(paste(\"Theta(\",i,\",\",j,\") = \", (m3[i,j]*notm3[i,j])/(m4[i,j]*m5[i,j]),sep=\" \"), \"\\n\")\n",
    "    }\n",
    "}"
   ]
  },
  {
   "cell_type": "markdown",
   "metadata": {},
   "source": [
    "## Выводы\n",
    "\n",
    "В ходе проделанной работы была проанализирована сеть взаимоотношений между флорентийскими семьями. Для данной сети были вычислены заданные по условию характеристики, графическое и матричное представление сети, а также сделаны соответствующие выводы.\n",
    "\n",
    "Была проанализирована вторая сеть, сеть аффилированности, был представлен биграф сети, рассмотрены различные алгоритмы разделения на кластеры, выведен графический результат работы этих алгоритмов, были вычислены степени сооучастия и размеры для каждого актора, диаметр сети, построены сети соучастия и перекрытия."
   ]
  }
 ],
 "metadata": {
  "kernelspec": {
   "display_name": "R",
   "language": "R",
   "name": "ir"
  },
  "language_info": {
   "codemirror_mode": "r",
   "file_extension": ".r",
   "mimetype": "text/x-r-source",
   "name": "R",
   "pygments_lexer": "r",
   "version": "4.2.1"
  }
 },
 "nbformat": 4,
 "nbformat_minor": 4
}
