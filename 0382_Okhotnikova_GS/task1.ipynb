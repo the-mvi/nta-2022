{
 "cells": [
  {
   "cell_type": "markdown",
   "metadata": {},
   "source": [
    "# Практическая работа №1: Основы анализа и моделирования социальных сетей\n",
    "\n",
    "Выполнила студентка гр. 0382 Охотникова Галина. Вариант №19"
   ]
  },
  {
   "cell_type": "markdown",
   "metadata": {},
   "source": [
    "## Цель работы\n",
    "Овладеть навыками работы с математическими пакетами для моделирования, визуализации и анализа социальных сетей.\n"
   ]
  },
  {
   "cell_type": "markdown",
   "metadata": {},
   "source": [
    "## Основные теоретические положения\n",
    "* #### Определения:\n",
    "_Актор_ - дискретная индивидуальная или коллективная социальная единица.  \n",
    "\n",
    "_Реляционная связь_ - свойство, описывабшее взаимодействие между двумя акторами.  \n",
    "\n",
    "_Группа_ - совокупность всех акторов, связи между которыми должны быть изучены.\n",
    " \n",
    "_Отношение_ - совокупность связей определенного вида между членами группы.  \n",
    "\n",
    "_Социальная сеть_ - объект, представляющий собой совокупность конечного набора (или наборов) акторов и отношения (отношений), определенных на них.  \n",
    "\n",
    "_Граф_ - модель сети с ненаправленным дихотомическим расстоянием.  \n",
    "\n",
    "$\\cal {G = G(N, L)}$\n",
    "\n",
    "_Социоматрица_ - матрица $X$ размерности $g\\times g$, описывающая смежные узлы в сети. \n",
    " \n",
    "$X = \\{x_{ij}\\}$\n",
    "\n",
    "_Центральность_ - мера, характеризующая актор с большим количеством связей (ненаправленный граф).\n",
    "\n",
    "_Престиж_ - мера, характеризующая актор с большим количеством входящих связей (направленный граф).\n",
    "\n",
    "_Точка сочленения_ - узел, при удалении которого увеливается число компонент связности.\n",
    "\n",
    "_Мост_ - ребро, при удалении которого одна компонента разделяется на две.\n",
    "\n",
    "* #### Числовые характеристики сети:\n",
    "_Размер сети_ - количество акторов в ней.\n",
    "\n",
    "_Плотность сети_ - отношение количества существующих и возможных связей.  \n",
    "$\\Delta = L/C^2_g$\n",
    "\n",
    "_Компонента_ - подгруппа, в которой все акторы связаны друг с другом прямо или косвенно.\n",
    "\n",
    "_Диаметр полной сети_ - наибольшая длина любого из кратчайших путей между всеми парами узлов.\n",
    "\n",
    "_Степень узла_ - число прямых, инцедентных узлу $n_i$ (для ориентированных - число входящих и выходящих)\n",
    "\n",
    "_Средняя степень узла:_ $\\overline {d} = \\frac{1}{g} \\sum_{i = 1}^{g} d(n_i)$\n",
    "\n",
    "_Дисперсия степеней:_ $S^2_D = \\frac{1}{g} \\sum_{i = 1}^{g} (d(n_i) - \\overline {d})^2$\n",
    "\n",
    "* #### Силовые алгоритмы:\n",
    "_Алгоритм Фрюхтермана-Рейнгольда_ является силовым алгоритмом размещения графа. Суть этого алгоритма заключается в том, что между каждой парой вершин действует сила отталкивания. Если две вершины связаны ребром, то между ними действует сила притяжения. В этом алгоритме присутствует понятие «температуры» t, которое используется следующим образом: температура, начиная с некоторого начального значения, убывает до нуля. Значение температуры влияет на скорость движения вершин и останавливает\n",
    "выполнения алгоритма при достижении нулевого значения. По мере того, как улучшается размещение, изменения позиций вершин уменьшаются. Если вектор смещения выталкивает вершину за эту границу, соответствующая координата вектора смещений обрезается (вершина просто прилипает к границе).\n",
    "\n",
    "_Алгоритм Камада-Кавай_ работает следующим образом: \n",
    "1. Рассчитываются расстояния по графу между всеми вершинами\n",
    "2. Вершины графа помещаются в случайные координаты\n",
    "3. Выбирается вершина $p_i$ , на которую действует максимальная сила\n",
    "4. Остальные вершины фиксируются, энергия системы минимизируется\n",
    "5. Повторяются шаги 3-4\n",
    "\n",
    "* #### Центральность:\n",
    "1. _Нормированная центральность по степени:_ $C'_D(n_i) = \\frac{deg(n_i)}{g - 1}$\n",
    "\n",
    "2. _Нормированная центральность по близости:_ $C'_C(n_i) = \\frac{п - 1}{\\sum_{j = 1}^{g} (d(n_i, d(n_j))}$\n",
    "\n",
    "3. _Нормированная центральность по посредничеству:_ $C'_B(n_i) = \\frac{C_B(n_i)}{С^{g - 1}_2}$, где $C_B(n_i) = \\sum_{j < k}g_{jk}(n_i)/g_{jk}$\n",
    "\n",
    "4. _Центральность по информации:_ $C_l(n_i) = \\frac{1}{c_{ii} + (T - 2R)/g}$, где $T = trC$, $R = \\sum_{j = 1}^{g}(c_{ij})$\n",
    "\n",
    "* #### Централизация:\n",
    "1. _Централизация по степени:_ $C_D(n_i) = \\frac{\\sum_{i = 1}^{g} (C'_D(n*) - C'_D(n_i))}{max \\sum_{i = 1}^{g} (C_D(n*) - C'_D(n_i))}$, где $C_D(n*)$ - максимальная центральность по степени\n",
    "\n",
    "2. _Централизация по близости:_ $C_C(n_i) = \\frac{\\sum_{i = 1}^{g} (C'_C(n*) - C'_C(n_i))}{(g - 1)(g - 2)/(2g - 3)}$, где $C'_C(n*)$ - максимальная центральность по близости\n",
    "\n",
    "3. _Централизация по посредничеству:_ $C_B(n_i) = \\frac{\\sum_{i = 1}^{g} (C'_B(n*) - C'_B(n_i))}{(g - 1)}$, где $C'_B(n*)$ - максимальная центральность по посредничеству\n",
    "\n",
    "4. _Централизация по информации:_ $S_l^2 = \\frac{1}{g} \\sum_{i = 1}^{g}(C_l'(n_i) - \\overline {C_l})^2$, где $\\overline {C_l} = \\sum_{i}(C_l(n_i))$\n",
    "\n",
    "* #### Престиж:\n",
    "\n",
    "1. _Нормированный престиж по степени:_ $P'_D(n_i) = \\frac{x_{+i}}{g - 1}$\n",
    "2. _Престиж по близости:_ $P_P(n_i) = \\frac{\\# l_i/(g - 1)}{\\sum_{n_j in l_i}(d(n_i, n_j))}$"
   ]
  },
  {
   "cell_type": "markdown",
   "metadata": {},
   "source": [
    "## Постановка задачи\n",
    "С помощью математических пакетов и соответствующих библиотек провести анализ заданных социальных сетей вычислить описательные характеристики. Полученные результаты содержательно проинтерпретировать.\n"
   ]
  },
  {
   "cell_type": "markdown",
   "metadata": {},
   "source": [
    "## Выполнение работы\n",
    "Пункт 1:"
   ]
  },
  {
   "cell_type": "code",
   "execution_count": 140,
   "metadata": {
    "vscode": {
     "languageId": "r"
    }
   },
   "outputs": [
    {
     "name": "stderr",
     "output_type": "stream",
     "text": [
      "\n",
      "'statnet' 2019.6 (2019-06-13), part of the Statnet Project\n",
      "* 'news(package=\"statnet\")' for changes since last version\n",
      "* 'citation(\"statnet\")' for citation information\n",
      "* 'https://statnet.org' for help, support, and other information\n",
      "\n",
      "\n"
     ]
    },
    {
     "data": {
      "text/html": [
       "<table class=\"dataframe\">\n",
       "<caption>A matrix: 16 × 16 of type int</caption>\n",
       "<thead>\n",
       "\t<tr><th scope=col>Acciaiuoli</th><th scope=col>Albizzi</th><th scope=col>Barbadori</th><th scope=col>Bischeri</th><th scope=col>Castellani</th><th scope=col>Ginori</th><th scope=col>Guadagni</th><th scope=col>Lamberteschi</th><th scope=col>Medici</th><th scope=col>Pazzi</th><th scope=col>Peruzzi</th><th scope=col>Pucci</th><th scope=col>Ridolfi</th><th scope=col>Salviati</th><th scope=col>Strozzi</th><th scope=col>Tornabuoni</th></tr>\n",
       "</thead>\n",
       "<tbody>\n",
       "\t<tr><td>0</td><td>0</td><td>0</td><td>0</td><td>0</td><td>0</td><td>0</td><td>0</td><td>0</td><td>0</td><td>0</td><td>0</td><td>0</td><td>0</td><td>0</td><td>0</td></tr>\n",
       "\t<tr><td>0</td><td>0</td><td>0</td><td>0</td><td>0</td><td>0</td><td>0</td><td>0</td><td>0</td><td>0</td><td>0</td><td>0</td><td>0</td><td>0</td><td>0</td><td>0</td></tr>\n",
       "\t<tr><td>0</td><td>0</td><td>0</td><td>0</td><td>1</td><td>1</td><td>0</td><td>0</td><td>1</td><td>0</td><td>1</td><td>0</td><td>0</td><td>0</td><td>0</td><td>0</td></tr>\n",
       "\t<tr><td>0</td><td>0</td><td>0</td><td>0</td><td>0</td><td>0</td><td>1</td><td>1</td><td>0</td><td>0</td><td>1</td><td>0</td><td>0</td><td>0</td><td>0</td><td>0</td></tr>\n",
       "\t<tr><td>0</td><td>0</td><td>1</td><td>0</td><td>0</td><td>0</td><td>0</td><td>1</td><td>0</td><td>0</td><td>1</td><td>0</td><td>0</td><td>0</td><td>0</td><td>0</td></tr>\n",
       "\t<tr><td>0</td><td>0</td><td>1</td><td>0</td><td>0</td><td>0</td><td>0</td><td>0</td><td>1</td><td>0</td><td>0</td><td>0</td><td>0</td><td>0</td><td>0</td><td>0</td></tr>\n",
       "\t<tr><td>0</td><td>0</td><td>0</td><td>1</td><td>0</td><td>0</td><td>0</td><td>1</td><td>0</td><td>0</td><td>0</td><td>0</td><td>0</td><td>0</td><td>0</td><td>0</td></tr>\n",
       "\t<tr><td>0</td><td>0</td><td>0</td><td>1</td><td>1</td><td>0</td><td>1</td><td>0</td><td>0</td><td>0</td><td>1</td><td>0</td><td>0</td><td>0</td><td>0</td><td>0</td></tr>\n",
       "\t<tr><td>0</td><td>0</td><td>1</td><td>0</td><td>0</td><td>1</td><td>0</td><td>0</td><td>0</td><td>1</td><td>0</td><td>0</td><td>0</td><td>1</td><td>0</td><td>1</td></tr>\n",
       "\t<tr><td>0</td><td>0</td><td>0</td><td>0</td><td>0</td><td>0</td><td>0</td><td>0</td><td>1</td><td>0</td><td>0</td><td>0</td><td>0</td><td>0</td><td>0</td><td>0</td></tr>\n",
       "\t<tr><td>0</td><td>0</td><td>1</td><td>1</td><td>1</td><td>0</td><td>0</td><td>1</td><td>0</td><td>0</td><td>0</td><td>0</td><td>0</td><td>0</td><td>0</td><td>0</td></tr>\n",
       "\t<tr><td>0</td><td>0</td><td>0</td><td>0</td><td>0</td><td>0</td><td>0</td><td>0</td><td>0</td><td>0</td><td>0</td><td>0</td><td>0</td><td>0</td><td>0</td><td>0</td></tr>\n",
       "\t<tr><td>0</td><td>0</td><td>0</td><td>0</td><td>0</td><td>0</td><td>0</td><td>0</td><td>0</td><td>0</td><td>0</td><td>0</td><td>0</td><td>0</td><td>0</td><td>0</td></tr>\n",
       "\t<tr><td>0</td><td>0</td><td>0</td><td>0</td><td>0</td><td>0</td><td>0</td><td>0</td><td>1</td><td>0</td><td>0</td><td>0</td><td>0</td><td>0</td><td>0</td><td>0</td></tr>\n",
       "\t<tr><td>0</td><td>0</td><td>0</td><td>0</td><td>0</td><td>0</td><td>0</td><td>0</td><td>0</td><td>0</td><td>0</td><td>0</td><td>0</td><td>0</td><td>0</td><td>0</td></tr>\n",
       "\t<tr><td>0</td><td>0</td><td>0</td><td>0</td><td>0</td><td>0</td><td>0</td><td>0</td><td>1</td><td>0</td><td>0</td><td>0</td><td>0</td><td>0</td><td>0</td><td>0</td></tr>\n",
       "</tbody>\n",
       "</table>\n"
      ],
      "text/latex": [
       "A matrix: 16 × 16 of type int\n",
       "\\begin{tabular}{llllllllllllllll}\n",
       " Acciaiuoli & Albizzi & Barbadori & Bischeri & Castellani & Ginori & Guadagni & Lamberteschi & Medici & Pazzi & Peruzzi & Pucci & Ridolfi & Salviati & Strozzi & Tornabuoni\\\\\n",
       "\\hline\n",
       "\t 0 & 0 & 0 & 0 & 0 & 0 & 0 & 0 & 0 & 0 & 0 & 0 & 0 & 0 & 0 & 0\\\\\n",
       "\t 0 & 0 & 0 & 0 & 0 & 0 & 0 & 0 & 0 & 0 & 0 & 0 & 0 & 0 & 0 & 0\\\\\n",
       "\t 0 & 0 & 0 & 0 & 1 & 1 & 0 & 0 & 1 & 0 & 1 & 0 & 0 & 0 & 0 & 0\\\\\n",
       "\t 0 & 0 & 0 & 0 & 0 & 0 & 1 & 1 & 0 & 0 & 1 & 0 & 0 & 0 & 0 & 0\\\\\n",
       "\t 0 & 0 & 1 & 0 & 0 & 0 & 0 & 1 & 0 & 0 & 1 & 0 & 0 & 0 & 0 & 0\\\\\n",
       "\t 0 & 0 & 1 & 0 & 0 & 0 & 0 & 0 & 1 & 0 & 0 & 0 & 0 & 0 & 0 & 0\\\\\n",
       "\t 0 & 0 & 0 & 1 & 0 & 0 & 0 & 1 & 0 & 0 & 0 & 0 & 0 & 0 & 0 & 0\\\\\n",
       "\t 0 & 0 & 0 & 1 & 1 & 0 & 1 & 0 & 0 & 0 & 1 & 0 & 0 & 0 & 0 & 0\\\\\n",
       "\t 0 & 0 & 1 & 0 & 0 & 1 & 0 & 0 & 0 & 1 & 0 & 0 & 0 & 1 & 0 & 1\\\\\n",
       "\t 0 & 0 & 0 & 0 & 0 & 0 & 0 & 0 & 1 & 0 & 0 & 0 & 0 & 0 & 0 & 0\\\\\n",
       "\t 0 & 0 & 1 & 1 & 1 & 0 & 0 & 1 & 0 & 0 & 0 & 0 & 0 & 0 & 0 & 0\\\\\n",
       "\t 0 & 0 & 0 & 0 & 0 & 0 & 0 & 0 & 0 & 0 & 0 & 0 & 0 & 0 & 0 & 0\\\\\n",
       "\t 0 & 0 & 0 & 0 & 0 & 0 & 0 & 0 & 0 & 0 & 0 & 0 & 0 & 0 & 0 & 0\\\\\n",
       "\t 0 & 0 & 0 & 0 & 0 & 0 & 0 & 0 & 1 & 0 & 0 & 0 & 0 & 0 & 0 & 0\\\\\n",
       "\t 0 & 0 & 0 & 0 & 0 & 0 & 0 & 0 & 0 & 0 & 0 & 0 & 0 & 0 & 0 & 0\\\\\n",
       "\t 0 & 0 & 0 & 0 & 0 & 0 & 0 & 0 & 1 & 0 & 0 & 0 & 0 & 0 & 0 & 0\\\\\n",
       "\\end{tabular}\n"
      ],
      "text/markdown": [
       "\n",
       "A matrix: 16 × 16 of type int\n",
       "\n",
       "| Acciaiuoli | Albizzi | Barbadori | Bischeri | Castellani | Ginori | Guadagni | Lamberteschi | Medici | Pazzi | Peruzzi | Pucci | Ridolfi | Salviati | Strozzi | Tornabuoni |\n",
       "|---|---|---|---|---|---|---|---|---|---|---|---|---|---|---|---|\n",
       "| 0 | 0 | 0 | 0 | 0 | 0 | 0 | 0 | 0 | 0 | 0 | 0 | 0 | 0 | 0 | 0 |\n",
       "| 0 | 0 | 0 | 0 | 0 | 0 | 0 | 0 | 0 | 0 | 0 | 0 | 0 | 0 | 0 | 0 |\n",
       "| 0 | 0 | 0 | 0 | 1 | 1 | 0 | 0 | 1 | 0 | 1 | 0 | 0 | 0 | 0 | 0 |\n",
       "| 0 | 0 | 0 | 0 | 0 | 0 | 1 | 1 | 0 | 0 | 1 | 0 | 0 | 0 | 0 | 0 |\n",
       "| 0 | 0 | 1 | 0 | 0 | 0 | 0 | 1 | 0 | 0 | 1 | 0 | 0 | 0 | 0 | 0 |\n",
       "| 0 | 0 | 1 | 0 | 0 | 0 | 0 | 0 | 1 | 0 | 0 | 0 | 0 | 0 | 0 | 0 |\n",
       "| 0 | 0 | 0 | 1 | 0 | 0 | 0 | 1 | 0 | 0 | 0 | 0 | 0 | 0 | 0 | 0 |\n",
       "| 0 | 0 | 0 | 1 | 1 | 0 | 1 | 0 | 0 | 0 | 1 | 0 | 0 | 0 | 0 | 0 |\n",
       "| 0 | 0 | 1 | 0 | 0 | 1 | 0 | 0 | 0 | 1 | 0 | 0 | 0 | 1 | 0 | 1 |\n",
       "| 0 | 0 | 0 | 0 | 0 | 0 | 0 | 0 | 1 | 0 | 0 | 0 | 0 | 0 | 0 | 0 |\n",
       "| 0 | 0 | 1 | 1 | 1 | 0 | 0 | 1 | 0 | 0 | 0 | 0 | 0 | 0 | 0 | 0 |\n",
       "| 0 | 0 | 0 | 0 | 0 | 0 | 0 | 0 | 0 | 0 | 0 | 0 | 0 | 0 | 0 | 0 |\n",
       "| 0 | 0 | 0 | 0 | 0 | 0 | 0 | 0 | 0 | 0 | 0 | 0 | 0 | 0 | 0 | 0 |\n",
       "| 0 | 0 | 0 | 0 | 0 | 0 | 0 | 0 | 1 | 0 | 0 | 0 | 0 | 0 | 0 | 0 |\n",
       "| 0 | 0 | 0 | 0 | 0 | 0 | 0 | 0 | 0 | 0 | 0 | 0 | 0 | 0 | 0 | 0 |\n",
       "| 0 | 0 | 0 | 0 | 0 | 0 | 0 | 0 | 1 | 0 | 0 | 0 | 0 | 0 | 0 | 0 |\n",
       "\n"
      ],
      "text/plain": [
       "      Acciaiuoli Albizzi Barbadori Bischeri Castellani Ginori Guadagni\n",
       " [1,] 0          0       0         0        0          0      0       \n",
       " [2,] 0          0       0         0        0          0      0       \n",
       " [3,] 0          0       0         0        1          1      0       \n",
       " [4,] 0          0       0         0        0          0      1       \n",
       " [5,] 0          0       1         0        0          0      0       \n",
       " [6,] 0          0       1         0        0          0      0       \n",
       " [7,] 0          0       0         1        0          0      0       \n",
       " [8,] 0          0       0         1        1          0      1       \n",
       " [9,] 0          0       1         0        0          1      0       \n",
       "[10,] 0          0       0         0        0          0      0       \n",
       "[11,] 0          0       1         1        1          0      0       \n",
       "[12,] 0          0       0         0        0          0      0       \n",
       "[13,] 0          0       0         0        0          0      0       \n",
       "[14,] 0          0       0         0        0          0      0       \n",
       "[15,] 0          0       0         0        0          0      0       \n",
       "[16,] 0          0       0         0        0          0      0       \n",
       "      Lamberteschi Medici Pazzi Peruzzi Pucci Ridolfi Salviati Strozzi\n",
       " [1,] 0            0      0     0       0     0       0        0      \n",
       " [2,] 0            0      0     0       0     0       0        0      \n",
       " [3,] 0            1      0     1       0     0       0        0      \n",
       " [4,] 1            0      0     1       0     0       0        0      \n",
       " [5,] 1            0      0     1       0     0       0        0      \n",
       " [6,] 0            1      0     0       0     0       0        0      \n",
       " [7,] 1            0      0     0       0     0       0        0      \n",
       " [8,] 0            0      0     1       0     0       0        0      \n",
       " [9,] 0            0      1     0       0     0       1        0      \n",
       "[10,] 0            1      0     0       0     0       0        0      \n",
       "[11,] 1            0      0     0       0     0       0        0      \n",
       "[12,] 0            0      0     0       0     0       0        0      \n",
       "[13,] 0            0      0     0       0     0       0        0      \n",
       "[14,] 0            1      0     0       0     0       0        0      \n",
       "[15,] 0            0      0     0       0     0       0        0      \n",
       "[16,] 0            1      0     0       0     0       0        0      \n",
       "      Tornabuoni\n",
       " [1,] 0         \n",
       " [2,] 0         \n",
       " [3,] 0         \n",
       " [4,] 0         \n",
       " [5,] 0         \n",
       " [6,] 0         \n",
       " [7,] 0         \n",
       " [8,] 0         \n",
       " [9,] 1         \n",
       "[10,] 0         \n",
       "[11,] 0         \n",
       "[12,] 0         \n",
       "[13,] 0         \n",
       "[14,] 0         \n",
       "[15,] 0         \n",
       "[16,] 0         "
      ]
     },
     "metadata": {},
     "output_type": "display_data"
    }
   ],
   "source": [
    "#install.packages(\"statnet\")\n",
    "#install.packages(\"devtools\")\n",
    "library(igraph)\n",
    "library(devtools)\n",
    "library(statnet)\n",
    "library(network)\n",
    "m <- as.matrix(read.csv(\"florentine_business.csv\", comment.char='#'))\n",
    "m"
   ]
  },
  {
   "cell_type": "markdown",
   "metadata": {},
   "source": [
    "Пункт 2:"
   ]
  },
  {
   "cell_type": "code",
   "execution_count": 141,
   "metadata": {
    "vscode": {
     "languageId": "r"
    }
   },
   "outputs": [
    {
     "data": {
      "text/html": [
       "<table class=\"dataframe\">\n",
       "<caption>A matrix: 5 × 2 of type chr</caption>\n",
       "<tbody>\n",
       "\t<tr><td>Barbadori</td><td>Castellani</td></tr>\n",
       "\t<tr><td>Barbadori</td><td>Ginori    </td></tr>\n",
       "\t<tr><td>Barbadori</td><td>Medici    </td></tr>\n",
       "\t<tr><td>Barbadori</td><td>Peruzzi   </td></tr>\n",
       "\t<tr><td>Bischeri </td><td>Guadagni  </td></tr>\n",
       "</tbody>\n",
       "</table>\n"
      ],
      "text/latex": [
       "A matrix: 5 × 2 of type chr\n",
       "\\begin{tabular}{ll}\n",
       "\t Barbadori & Castellani\\\\\n",
       "\t Barbadori & Ginori    \\\\\n",
       "\t Barbadori & Medici    \\\\\n",
       "\t Barbadori & Peruzzi   \\\\\n",
       "\t Bischeri  & Guadagni  \\\\\n",
       "\\end{tabular}\n"
      ],
      "text/markdown": [
       "\n",
       "A matrix: 5 × 2 of type chr\n",
       "\n",
       "| Barbadori | Castellani |\n",
       "| Barbadori | Ginori     |\n",
       "| Barbadori | Medici     |\n",
       "| Barbadori | Peruzzi    |\n",
       "| Bischeri  | Guadagni   |\n",
       "\n"
      ],
      "text/plain": [
       "     [,1]      [,2]      \n",
       "[1,] Barbadori Castellani\n",
       "[2,] Barbadori Ginori    \n",
       "[3,] Barbadori Medici    \n",
       "[4,] Barbadori Peruzzi   \n",
       "[5,] Bischeri  Guadagni  "
      ]
     },
     "metadata": {},
     "output_type": "display_data"
    }
   ],
   "source": [
    "tmp <- graph.adjacency(m)\n",
    "head(as_edgelist(tmp), 5)\n",
    "\n"
   ]
  },
  {
   "cell_type": "markdown",
   "metadata": {},
   "source": [
    "Пункт 3:"
   ]
  },
  {
   "cell_type": "code",
   "execution_count": 142,
   "metadata": {
    "vscode": {
     "languageId": "r"
    }
   },
   "outputs": [
    {
     "data": {
      "text/html": [
       "<table class=\"dataframe\">\n",
       "<caption>A matrix: 16 × 16 of type int</caption>\n",
       "<thead>\n",
       "\t<tr><th></th><th scope=col>Acciaiuoli</th><th scope=col>Albizzi</th><th scope=col>Barbadori</th><th scope=col>Bischeri</th><th scope=col>Castellani</th><th scope=col>Ginori</th><th scope=col>Guadagni</th><th scope=col>Lamberteschi</th><th scope=col>Medici</th><th scope=col>Pazzi</th><th scope=col>Peruzzi</th><th scope=col>Pucci</th><th scope=col>Ridolfi</th><th scope=col>Salviati</th><th scope=col>Strozzi</th><th scope=col>Tornabuoni</th></tr>\n",
       "</thead>\n",
       "<tbody>\n",
       "\t<tr><th scope=row>Acciaiuoli</th><td>0</td><td>0</td><td>0</td><td>0</td><td>0</td><td>0</td><td>0</td><td>0</td><td>0</td><td>0</td><td>0</td><td>0</td><td>0</td><td>0</td><td>0</td><td>0</td></tr>\n",
       "\t<tr><th scope=row>Albizzi</th><td>0</td><td>0</td><td>0</td><td>0</td><td>0</td><td>0</td><td>0</td><td>0</td><td>0</td><td>0</td><td>0</td><td>0</td><td>0</td><td>0</td><td>0</td><td>0</td></tr>\n",
       "\t<tr><th scope=row>Barbadori</th><td>0</td><td>0</td><td>0</td><td>0</td><td>1</td><td>1</td><td>0</td><td>0</td><td>1</td><td>0</td><td>1</td><td>0</td><td>0</td><td>0</td><td>0</td><td>0</td></tr>\n",
       "\t<tr><th scope=row>Bischeri</th><td>0</td><td>0</td><td>0</td><td>0</td><td>0</td><td>0</td><td>1</td><td>1</td><td>0</td><td>0</td><td>1</td><td>0</td><td>0</td><td>0</td><td>0</td><td>0</td></tr>\n",
       "\t<tr><th scope=row>Castellani</th><td>0</td><td>0</td><td>1</td><td>0</td><td>0</td><td>0</td><td>0</td><td>1</td><td>0</td><td>0</td><td>1</td><td>0</td><td>0</td><td>0</td><td>0</td><td>0</td></tr>\n",
       "\t<tr><th scope=row>Ginori</th><td>0</td><td>0</td><td>1</td><td>0</td><td>0</td><td>0</td><td>0</td><td>0</td><td>1</td><td>0</td><td>0</td><td>0</td><td>0</td><td>0</td><td>0</td><td>0</td></tr>\n",
       "\t<tr><th scope=row>Guadagni</th><td>0</td><td>0</td><td>0</td><td>1</td><td>0</td><td>0</td><td>0</td><td>1</td><td>0</td><td>0</td><td>0</td><td>0</td><td>0</td><td>0</td><td>0</td><td>0</td></tr>\n",
       "\t<tr><th scope=row>Lamberteschi</th><td>0</td><td>0</td><td>0</td><td>1</td><td>1</td><td>0</td><td>1</td><td>0</td><td>0</td><td>0</td><td>1</td><td>0</td><td>0</td><td>0</td><td>0</td><td>0</td></tr>\n",
       "\t<tr><th scope=row>Medici</th><td>0</td><td>0</td><td>1</td><td>0</td><td>0</td><td>1</td><td>0</td><td>0</td><td>0</td><td>1</td><td>0</td><td>0</td><td>0</td><td>1</td><td>0</td><td>1</td></tr>\n",
       "\t<tr><th scope=row>Pazzi</th><td>0</td><td>0</td><td>0</td><td>0</td><td>0</td><td>0</td><td>0</td><td>0</td><td>1</td><td>0</td><td>0</td><td>0</td><td>0</td><td>0</td><td>0</td><td>0</td></tr>\n",
       "\t<tr><th scope=row>Peruzzi</th><td>0</td><td>0</td><td>1</td><td>1</td><td>1</td><td>0</td><td>0</td><td>1</td><td>0</td><td>0</td><td>0</td><td>0</td><td>0</td><td>0</td><td>0</td><td>0</td></tr>\n",
       "\t<tr><th scope=row>Pucci</th><td>0</td><td>0</td><td>0</td><td>0</td><td>0</td><td>0</td><td>0</td><td>0</td><td>0</td><td>0</td><td>0</td><td>0</td><td>0</td><td>0</td><td>0</td><td>0</td></tr>\n",
       "\t<tr><th scope=row>Ridolfi</th><td>0</td><td>0</td><td>0</td><td>0</td><td>0</td><td>0</td><td>0</td><td>0</td><td>0</td><td>0</td><td>0</td><td>0</td><td>0</td><td>0</td><td>0</td><td>0</td></tr>\n",
       "\t<tr><th scope=row>Salviati</th><td>0</td><td>0</td><td>0</td><td>0</td><td>0</td><td>0</td><td>0</td><td>0</td><td>1</td><td>0</td><td>0</td><td>0</td><td>0</td><td>0</td><td>0</td><td>0</td></tr>\n",
       "\t<tr><th scope=row>Strozzi</th><td>0</td><td>0</td><td>0</td><td>0</td><td>0</td><td>0</td><td>0</td><td>0</td><td>0</td><td>0</td><td>0</td><td>0</td><td>0</td><td>0</td><td>0</td><td>0</td></tr>\n",
       "\t<tr><th scope=row>Tornabuoni</th><td>0</td><td>0</td><td>0</td><td>0</td><td>0</td><td>0</td><td>0</td><td>0</td><td>1</td><td>0</td><td>0</td><td>0</td><td>0</td><td>0</td><td>0</td><td>0</td></tr>\n",
       "</tbody>\n",
       "</table>\n"
      ],
      "text/latex": [
       "A matrix: 16 × 16 of type int\n",
       "\\begin{tabular}{r|llllllllllllllll}\n",
       "  & Acciaiuoli & Albizzi & Barbadori & Bischeri & Castellani & Ginori & Guadagni & Lamberteschi & Medici & Pazzi & Peruzzi & Pucci & Ridolfi & Salviati & Strozzi & Tornabuoni\\\\\n",
       "\\hline\n",
       "\tAcciaiuoli & 0 & 0 & 0 & 0 & 0 & 0 & 0 & 0 & 0 & 0 & 0 & 0 & 0 & 0 & 0 & 0\\\\\n",
       "\tAlbizzi & 0 & 0 & 0 & 0 & 0 & 0 & 0 & 0 & 0 & 0 & 0 & 0 & 0 & 0 & 0 & 0\\\\\n",
       "\tBarbadori & 0 & 0 & 0 & 0 & 1 & 1 & 0 & 0 & 1 & 0 & 1 & 0 & 0 & 0 & 0 & 0\\\\\n",
       "\tBischeri & 0 & 0 & 0 & 0 & 0 & 0 & 1 & 1 & 0 & 0 & 1 & 0 & 0 & 0 & 0 & 0\\\\\n",
       "\tCastellani & 0 & 0 & 1 & 0 & 0 & 0 & 0 & 1 & 0 & 0 & 1 & 0 & 0 & 0 & 0 & 0\\\\\n",
       "\tGinori & 0 & 0 & 1 & 0 & 0 & 0 & 0 & 0 & 1 & 0 & 0 & 0 & 0 & 0 & 0 & 0\\\\\n",
       "\tGuadagni & 0 & 0 & 0 & 1 & 0 & 0 & 0 & 1 & 0 & 0 & 0 & 0 & 0 & 0 & 0 & 0\\\\\n",
       "\tLamberteschi & 0 & 0 & 0 & 1 & 1 & 0 & 1 & 0 & 0 & 0 & 1 & 0 & 0 & 0 & 0 & 0\\\\\n",
       "\tMedici & 0 & 0 & 1 & 0 & 0 & 1 & 0 & 0 & 0 & 1 & 0 & 0 & 0 & 1 & 0 & 1\\\\\n",
       "\tPazzi & 0 & 0 & 0 & 0 & 0 & 0 & 0 & 0 & 1 & 0 & 0 & 0 & 0 & 0 & 0 & 0\\\\\n",
       "\tPeruzzi & 0 & 0 & 1 & 1 & 1 & 0 & 0 & 1 & 0 & 0 & 0 & 0 & 0 & 0 & 0 & 0\\\\\n",
       "\tPucci & 0 & 0 & 0 & 0 & 0 & 0 & 0 & 0 & 0 & 0 & 0 & 0 & 0 & 0 & 0 & 0\\\\\n",
       "\tRidolfi & 0 & 0 & 0 & 0 & 0 & 0 & 0 & 0 & 0 & 0 & 0 & 0 & 0 & 0 & 0 & 0\\\\\n",
       "\tSalviati & 0 & 0 & 0 & 0 & 0 & 0 & 0 & 0 & 1 & 0 & 0 & 0 & 0 & 0 & 0 & 0\\\\\n",
       "\tStrozzi & 0 & 0 & 0 & 0 & 0 & 0 & 0 & 0 & 0 & 0 & 0 & 0 & 0 & 0 & 0 & 0\\\\\n",
       "\tTornabuoni & 0 & 0 & 0 & 0 & 0 & 0 & 0 & 0 & 1 & 0 & 0 & 0 & 0 & 0 & 0 & 0\\\\\n",
       "\\end{tabular}\n"
      ],
      "text/markdown": [
       "\n",
       "A matrix: 16 × 16 of type int\n",
       "\n",
       "| <!--/--> | Acciaiuoli | Albizzi | Barbadori | Bischeri | Castellani | Ginori | Guadagni | Lamberteschi | Medici | Pazzi | Peruzzi | Pucci | Ridolfi | Salviati | Strozzi | Tornabuoni |\n",
       "|---|---|---|---|---|---|---|---|---|---|---|---|---|---|---|---|---|\n",
       "| Acciaiuoli | 0 | 0 | 0 | 0 | 0 | 0 | 0 | 0 | 0 | 0 | 0 | 0 | 0 | 0 | 0 | 0 |\n",
       "| Albizzi | 0 | 0 | 0 | 0 | 0 | 0 | 0 | 0 | 0 | 0 | 0 | 0 | 0 | 0 | 0 | 0 |\n",
       "| Barbadori | 0 | 0 | 0 | 0 | 1 | 1 | 0 | 0 | 1 | 0 | 1 | 0 | 0 | 0 | 0 | 0 |\n",
       "| Bischeri | 0 | 0 | 0 | 0 | 0 | 0 | 1 | 1 | 0 | 0 | 1 | 0 | 0 | 0 | 0 | 0 |\n",
       "| Castellani | 0 | 0 | 1 | 0 | 0 | 0 | 0 | 1 | 0 | 0 | 1 | 0 | 0 | 0 | 0 | 0 |\n",
       "| Ginori | 0 | 0 | 1 | 0 | 0 | 0 | 0 | 0 | 1 | 0 | 0 | 0 | 0 | 0 | 0 | 0 |\n",
       "| Guadagni | 0 | 0 | 0 | 1 | 0 | 0 | 0 | 1 | 0 | 0 | 0 | 0 | 0 | 0 | 0 | 0 |\n",
       "| Lamberteschi | 0 | 0 | 0 | 1 | 1 | 0 | 1 | 0 | 0 | 0 | 1 | 0 | 0 | 0 | 0 | 0 |\n",
       "| Medici | 0 | 0 | 1 | 0 | 0 | 1 | 0 | 0 | 0 | 1 | 0 | 0 | 0 | 1 | 0 | 1 |\n",
       "| Pazzi | 0 | 0 | 0 | 0 | 0 | 0 | 0 | 0 | 1 | 0 | 0 | 0 | 0 | 0 | 0 | 0 |\n",
       "| Peruzzi | 0 | 0 | 1 | 1 | 1 | 0 | 0 | 1 | 0 | 0 | 0 | 0 | 0 | 0 | 0 | 0 |\n",
       "| Pucci | 0 | 0 | 0 | 0 | 0 | 0 | 0 | 0 | 0 | 0 | 0 | 0 | 0 | 0 | 0 | 0 |\n",
       "| Ridolfi | 0 | 0 | 0 | 0 | 0 | 0 | 0 | 0 | 0 | 0 | 0 | 0 | 0 | 0 | 0 | 0 |\n",
       "| Salviati | 0 | 0 | 0 | 0 | 0 | 0 | 0 | 0 | 1 | 0 | 0 | 0 | 0 | 0 | 0 | 0 |\n",
       "| Strozzi | 0 | 0 | 0 | 0 | 0 | 0 | 0 | 0 | 0 | 0 | 0 | 0 | 0 | 0 | 0 | 0 |\n",
       "| Tornabuoni | 0 | 0 | 0 | 0 | 0 | 0 | 0 | 0 | 1 | 0 | 0 | 0 | 0 | 0 | 0 | 0 |\n",
       "\n"
      ],
      "text/plain": [
       "             Acciaiuoli Albizzi Barbadori Bischeri Castellani Ginori Guadagni\n",
       "Acciaiuoli   0          0       0         0        0          0      0       \n",
       "Albizzi      0          0       0         0        0          0      0       \n",
       "Barbadori    0          0       0         0        1          1      0       \n",
       "Bischeri     0          0       0         0        0          0      1       \n",
       "Castellani   0          0       1         0        0          0      0       \n",
       "Ginori       0          0       1         0        0          0      0       \n",
       "Guadagni     0          0       0         1        0          0      0       \n",
       "Lamberteschi 0          0       0         1        1          0      1       \n",
       "Medici       0          0       1         0        0          1      0       \n",
       "Pazzi        0          0       0         0        0          0      0       \n",
       "Peruzzi      0          0       1         1        1          0      0       \n",
       "Pucci        0          0       0         0        0          0      0       \n",
       "Ridolfi      0          0       0         0        0          0      0       \n",
       "Salviati     0          0       0         0        0          0      0       \n",
       "Strozzi      0          0       0         0        0          0      0       \n",
       "Tornabuoni   0          0       0         0        0          0      0       \n",
       "             Lamberteschi Medici Pazzi Peruzzi Pucci Ridolfi Salviati Strozzi\n",
       "Acciaiuoli   0            0      0     0       0     0       0        0      \n",
       "Albizzi      0            0      0     0       0     0       0        0      \n",
       "Barbadori    0            1      0     1       0     0       0        0      \n",
       "Bischeri     1            0      0     1       0     0       0        0      \n",
       "Castellani   1            0      0     1       0     0       0        0      \n",
       "Ginori       0            1      0     0       0     0       0        0      \n",
       "Guadagni     1            0      0     0       0     0       0        0      \n",
       "Lamberteschi 0            0      0     1       0     0       0        0      \n",
       "Medici       0            0      1     0       0     0       1        0      \n",
       "Pazzi        0            1      0     0       0     0       0        0      \n",
       "Peruzzi      1            0      0     0       0     0       0        0      \n",
       "Pucci        0            0      0     0       0     0       0        0      \n",
       "Ridolfi      0            0      0     0       0     0       0        0      \n",
       "Salviati     0            1      0     0       0     0       0        0      \n",
       "Strozzi      0            0      0     0       0     0       0        0      \n",
       "Tornabuoni   0            1      0     0       0     0       0        0      \n",
       "             Tornabuoni\n",
       "Acciaiuoli   0         \n",
       "Albizzi      0         \n",
       "Barbadori    0         \n",
       "Bischeri     0         \n",
       "Castellani   0         \n",
       "Ginori       0         \n",
       "Guadagni     0         \n",
       "Lamberteschi 0         \n",
       "Medici       1         \n",
       "Pazzi        0         \n",
       "Peruzzi      0         \n",
       "Pucci        0         \n",
       "Ridolfi      0         \n",
       "Salviati     0         \n",
       "Strozzi      0         \n",
       "Tornabuoni   0         "
      ]
     },
     "metadata": {},
     "output_type": "display_data"
    }
   ],
   "source": [
    "rownames(m) <- c(\"Acciaiuoli\", \"Albizzi\", \"Barbadori\", \"Bischeri\", \"Castellani\", \"Ginori\", \"Guadagni\", \n",
    "                \"Lamberteschi\", \"Medici\", \"Pazzi\", \"Peruzzi\", \"Pucci\", \"Ridolfi\", \"Salviati\", \"Strozzi\", \"Tornabuoni\")\n",
    "colnames(m) <- c(\"Acciaiuoli\", \"Albizzi\", \"Barbadori\", \"Bischeri\", \"Castellani\", \"Ginori\", \"Guadagni\", \n",
    "                \"Lamberteschi\", \"Medici\", \"Pazzi\", \"Peruzzi\", \"Pucci\", \"Ridolfi\", \"Salviati\", \"Strozzi\", \"Tornabuoni\")\n",
    "View(m)                              "
   ]
  },
  {
   "cell_type": "markdown",
   "metadata": {},
   "source": [
    "Task 4:  \n",
    "Параметры, переданные  функцию:\n",
    "* объект сети, который будет преобразован в граф\n",
    "* gmode = 'graph' задает ненаправленные ребра\n",
    "* цвет вершин\n",
    "* размер вершин\n",
    "* подписи для вершин"
   ]
  },
  {
   "cell_type": "code",
   "execution_count": 143,
   "metadata": {
    "vscode": {
     "languageId": "r"
    }
   },
   "outputs": [
    {
     "data": {
      "image/png": "[encoded data removed]",
      "text/plain": [
       "plot without title"
      ]
     },
     "metadata": {
      "image/png": {
       "height": 420,
       "width": 420
      }
     },
     "output_type": "display_data"
    }
   ],
   "source": [
    "gplot(net, gmode = 'graph', vertex.col = 4, vertex.cex = 1, displaylabels = TRUE)"
   ]
  },
  {
   "cell_type": "markdown",
   "metadata": {},
   "source": [
    "Task 5:  \n"
   ]
  },
  {
   "cell_type": "code",
   "execution_count": 144,
   "metadata": {
    "vscode": {
     "languageId": "r"
    }
   },
   "outputs": [
    {
     "data": {
      "image/png": "[encoded data removed]",
      "text/plain": [
       "Plot with title \"Фрюхтерман-Рейнгольд\""
      ]
     },
     "metadata": {
      "image/png": {
       "height": 420,
       "width": 420
      }
     },
     "output_type": "display_data"
    },
    {
     "data": {
      "image/png": "[encoded data removed]",
      "text/plain": [
       "Plot with title \"Камада–Каваи\""
      ]
     },
     "metadata": {
      "image/png": {
       "height": 420,
       "width": 420
      }
     },
     "output_type": "display_data"
    }
   ],
   "source": [
    "gplot(net, gmode=\"graph\", mode=\"fruchtermanreingold\", vertex.col=4, vertex.cex=1.5, main=\"Фрюхтерман-Рейнгольд\", displaylabels = TRUE)\n",
    "gplot(net, gmode=\"graph\", vertex.cex=1.5, mode='kamadakawai', main='Камада–Каваи', displaylabels = TRUE)\n"
   ]
  },
  {
   "cell_type": "markdown",
   "metadata": {},
   "source": [
    "Task 6:"
   ]
  },
  {
   "cell_type": "code",
   "execution_count": 145,
   "metadata": {
    "vscode": {
     "languageId": "r"
    }
   },
   "outputs": [
    {
     "data": {
      "text/plain": [
       "Network attributes:\n",
       "  vertices = 11\n",
       "  directed = FALSE\n",
       "  hyper = FALSE\n",
       "  loops = FALSE\n",
       "  multiple = FALSE\n",
       "  bipartite = FALSE\n",
       " total edges = 15 \n",
       "   missing edges = 0 \n",
       "   non-missing edges = 15 \n",
       " density = 0.2727273 \n",
       "\n",
       "Vertex attributes:\n",
       "  vertex.names:\n",
       "   character valued attribute\n",
       "   11 valid vertex names\n",
       "\n",
       "No edge attributes\n",
       "\n",
       "Network adjacency matrix:\n",
       "             Barbadori Bischeri Castellani Ginori Guadagni Lamberteschi Medici\n",
       "Barbadori            0        0          1      1        0            0      1\n",
       "Bischeri             0        0          0      0        1            1      0\n",
       "Castellani           1        0          0      0        0            1      0\n",
       "Ginori               1        0          0      0        0            0      1\n",
       "Guadagni             0        1          0      0        0            1      0\n",
       "Lamberteschi         0        1          1      0        1            0      0\n",
       "Medici               1        0          0      1        0            0      0\n",
       "Pazzi                0        0          0      0        0            0      1\n",
       "Peruzzi              1        1          1      0        0            1      0\n",
       "Salviati             0        0          0      0        0            0      1\n",
       "Tornabuoni           0        0          0      0        0            0      1\n",
       "             Pazzi Peruzzi Salviati Tornabuoni\n",
       "Barbadori        0       1        0          0\n",
       "Bischeri         0       1        0          0\n",
       "Castellani       0       1        0          0\n",
       "Ginori           0       0        0          0\n",
       "Guadagni         0       0        0          0\n",
       "Lamberteschi     0       1        0          0\n",
       "Medici           1       0        1          1\n",
       "Pazzi            0       0        0          0\n",
       "Peruzzi          0       0        0          0\n",
       "Salviati         0       0        0          0\n",
       "Tornabuoni       0       0        0          0"
      ]
     },
     "metadata": {},
     "output_type": "display_data"
    }
   ],
   "source": [
    "summary(net)\n"
   ]
  },
  {
   "cell_type": "markdown",
   "metadata": {},
   "source": [
    "Task 7:  \n",
    "1. Размер сети - это количество вершин, то есть 16\n",
    "2. Плотность - это доля имеющихся связей к числу возможных связей. Чем оно ближе к единице, тем взаимосвязаннее сеть. Для данной сети значение далеко от единицы, следовательно, сеть не сильно взаимосвязанная.\n",
    "3. По графику сети из 5 задания можно было заметить 6 групп, следовательно, количество компонент 6\n",
    "4. Диаметр - наибольший кратчайший путь между всеми парами узлов. Если сеть состоит из нескольких компонент, исследуем самую большую. Наибольший кратчайший путь из одной вершины в другую - 5, если смотреть на график. Ответ с выводом функции совпал\n",
    "5. Доля закрытых треугольников к общему числу открытых и закрытых треугольников. Значение колеблется от  до 1, полученное значение для этой сети можно охарактеризовать как умеренное, среднее"
   ]
  },
  {
   "cell_type": "code",
   "execution_count": 146,
   "metadata": {
    "vscode": {
     "languageId": "r"
    }
   },
   "outputs": [
    {
     "name": "stdout",
     "output_type": "stream",
     "text": [
      "Размер сети:  11\n",
      "Плотность сети вручную:  0.2727273\n",
      "Плотность сети с помощью функции:  0.2727273\n",
      "Количество компонент сети:  1\n",
      "Диаметр сети:  5\n",
      "Коэффициент кластеризации 0.4166667"
     ]
    }
   ],
   "source": [
    "#Размер\n",
    "cat('Размер сети: ', network.size(net))\n",
    "g = network.size(net)\n",
    "#Плотность\n",
    "den <- function(s, L) {\n",
    "    L*factorial(2)*factorial(s-2)/factorial(s)\n",
    "}\n",
    "cat('\\nПлотность сети вручную: ', den(network.size(net), 15))\n",
    "cat('\\nПлотность сети с помощью функции: ', gden(net))\n",
    "#Компоненты\n",
    "cat('\\nКоличество компонент сети: ', components(net))\n",
    "#Диаметр сети\n",
    "#Выбираем наибольшую компоненту\n",
    "lgc <- component.largest(net, result = \"graph\")\n",
    "#Находим геодезические расстояния\n",
    "gd <- geodist(lgc)\n",
    "#Берем максимальное\n",
    "cat('\\nДиаметр сети: ', max(gd$gdist))\n",
    "#Коэффициент кластеризации\n",
    "cat('\\nКоэффициент кластеризации', gtrans(net, mode = \"graph\"))"
   ]
  },
  {
   "cell_type": "markdown",
   "metadata": {},
   "source": [
    "Task 8:  \n",
    "Можно сделать вывод о том, что количество связей в сети неравмномерное, так как среднее значение близко к 2, но среднеквадратичное отклонение велико. Если посмотреть на граф, то в этом выводе можно легко убедиться: есть 5 изолированных вершин и вершины, у которых связей больше, чем 2."
   ]
  },
  {
   "cell_type": "code",
   "execution_count": 147,
   "metadata": {
    "vscode": {
     "languageId": "r"
    }
   },
   "outputs": [
    {
     "name": "stdout",
     "output_type": "stream",
     "text": [
      "Средняя степень узлов сети:  2.727273\n",
      "Дисперсия сети:  2.018182"
     ]
    }
   ],
   "source": [
    "cat('Средняя степень узлов сети: ', mean(degree(net, gmode=\"graph\")))\n",
    "cat('\\nДисперсия сети: ', var(degree(net, gmode=\"graph\")))"
   ]
  },
  {
   "cell_type": "markdown",
   "metadata": {},
   "source": [
    "Task 9:  \n",
    "Самые важные акторы:\n",
    "1. По степени: Medici\n",
    "2. По близости: Barbadory\n",
    "3. По поредничеству: Barbadory\n",
    "4. По информации: Barbadory\n",
    "\n",
    "Следовательно, выбор меры центральности зависит от конкретной задачи/требования"
   ]
  },
  {
   "cell_type": "code",
   "execution_count": 148,
   "metadata": {
    "vscode": {
     "languageId": "r"
    }
   },
   "outputs": [
    {
     "data": {
      "text/html": [
       "<table class=\"dataframe\">\n",
       "<caption>A data.frame: 11 × 5</caption>\n",
       "<thead>\n",
       "\t<tr><th scope=col>n</th><th scope=col>Cd</th><th scope=col>Cc</th><th scope=col>Cb</th><th scope=col>Ci</th></tr>\n",
       "\t<tr><th scope=col>&lt;chr&gt;</th><th scope=col>&lt;dbl&gt;</th><th scope=col>&lt;dbl&gt;</th><th scope=col>&lt;dbl&gt;</th><th scope=col>&lt;dbl&gt;</th></tr>\n",
       "</thead>\n",
       "<tbody>\n",
       "\t<tr><td>Barbadori   </td><td>0.4</td><td>0.5882353</td><td>0.55555556</td><td>0.12446815</td></tr>\n",
       "\t<tr><td>Bischeri    </td><td>0.3</td><td>0.4000000</td><td>0.05555556</td><td>0.08898359</td></tr>\n",
       "\t<tr><td>Castellani  </td><td>0.3</td><td>0.5000000</td><td>0.11111111</td><td>0.10457651</td></tr>\n",
       "\t<tr><td>Ginori      </td><td>0.2</td><td>0.4545455</td><td>0.00000000</td><td>0.09531249</td></tr>\n",
       "\t<tr><td>Guadagni    </td><td>0.2</td><td>0.3125000</td><td>0.00000000</td><td>0.07656303</td></tr>\n",
       "\t<tr><td>Lamberteschi</td><td>0.4</td><td>0.4166667</td><td>0.13333333</td><td>0.09837087</td></tr>\n",
       "\t<tr><td>Medici      </td><td>0.5</td><td>0.5263158</td><td>0.53333333</td><td>0.11089878</td></tr>\n",
       "\t<tr><td>Pazzi       </td><td>0.1</td><td>0.3571429</td><td>0.00000000</td><td>0.06388631</td></tr>\n",
       "\t<tr><td>Peruzzi     </td><td>0.4</td><td>0.5263158</td><td>0.30000000</td><td>0.10916767</td></tr>\n",
       "\t<tr><td>Salviati    </td><td>0.1</td><td>0.3571429</td><td>0.00000000</td><td>0.06388631</td></tr>\n",
       "\t<tr><td>Tornabuoni  </td><td>0.1</td><td>0.3571429</td><td>0.00000000</td><td>0.06388631</td></tr>\n",
       "</tbody>\n",
       "</table>\n"
      ],
      "text/latex": [
       "A data.frame: 11 × 5\n",
       "\\begin{tabular}{lllll}\n",
       " n & Cd & Cc & Cb & Ci\\\\\n",
       " <chr> & <dbl> & <dbl> & <dbl> & <dbl>\\\\\n",
       "\\hline\n",
       "\t Barbadori    & 0.4 & 0.5882353 & 0.55555556 & 0.12446815\\\\\n",
       "\t Bischeri     & 0.3 & 0.4000000 & 0.05555556 & 0.08898359\\\\\n",
       "\t Castellani   & 0.3 & 0.5000000 & 0.11111111 & 0.10457651\\\\\n",
       "\t Ginori       & 0.2 & 0.4545455 & 0.00000000 & 0.09531249\\\\\n",
       "\t Guadagni     & 0.2 & 0.3125000 & 0.00000000 & 0.07656303\\\\\n",
       "\t Lamberteschi & 0.4 & 0.4166667 & 0.13333333 & 0.09837087\\\\\n",
       "\t Medici       & 0.5 & 0.5263158 & 0.53333333 & 0.11089878\\\\\n",
       "\t Pazzi        & 0.1 & 0.3571429 & 0.00000000 & 0.06388631\\\\\n",
       "\t Peruzzi      & 0.4 & 0.5263158 & 0.30000000 & 0.10916767\\\\\n",
       "\t Salviati     & 0.1 & 0.3571429 & 0.00000000 & 0.06388631\\\\\n",
       "\t Tornabuoni   & 0.1 & 0.3571429 & 0.00000000 & 0.06388631\\\\\n",
       "\\end{tabular}\n"
      ],
      "text/markdown": [
       "\n",
       "A data.frame: 11 × 5\n",
       "\n",
       "| n &lt;chr&gt; | Cd &lt;dbl&gt; | Cc &lt;dbl&gt; | Cb &lt;dbl&gt; | Ci &lt;dbl&gt; |\n",
       "|---|---|---|---|---|\n",
       "| Barbadori    | 0.4 | 0.5882353 | 0.55555556 | 0.12446815 |\n",
       "| Bischeri     | 0.3 | 0.4000000 | 0.05555556 | 0.08898359 |\n",
       "| Castellani   | 0.3 | 0.5000000 | 0.11111111 | 0.10457651 |\n",
       "| Ginori       | 0.2 | 0.4545455 | 0.00000000 | 0.09531249 |\n",
       "| Guadagni     | 0.2 | 0.3125000 | 0.00000000 | 0.07656303 |\n",
       "| Lamberteschi | 0.4 | 0.4166667 | 0.13333333 | 0.09837087 |\n",
       "| Medici       | 0.5 | 0.5263158 | 0.53333333 | 0.11089878 |\n",
       "| Pazzi        | 0.1 | 0.3571429 | 0.00000000 | 0.06388631 |\n",
       "| Peruzzi      | 0.4 | 0.5263158 | 0.30000000 | 0.10916767 |\n",
       "| Salviati     | 0.1 | 0.3571429 | 0.00000000 | 0.06388631 |\n",
       "| Tornabuoni   | 0.1 | 0.3571429 | 0.00000000 | 0.06388631 |\n",
       "\n"
      ],
      "text/plain": [
       "   n            Cd  Cc        Cb         Ci        \n",
       "1  Barbadori    0.4 0.5882353 0.55555556 0.12446815\n",
       "2  Bischeri     0.3 0.4000000 0.05555556 0.08898359\n",
       "3  Castellani   0.3 0.5000000 0.11111111 0.10457651\n",
       "4  Ginori       0.2 0.4545455 0.00000000 0.09531249\n",
       "5  Guadagni     0.2 0.3125000 0.00000000 0.07656303\n",
       "6  Lamberteschi 0.4 0.4166667 0.13333333 0.09837087\n",
       "7  Medici       0.5 0.5263158 0.53333333 0.11089878\n",
       "8  Pazzi        0.1 0.3571429 0.00000000 0.06388631\n",
       "9  Peruzzi      0.4 0.5263158 0.30000000 0.10916767\n",
       "10 Salviati     0.1 0.3571429 0.00000000 0.06388631\n",
       "11 Tornabuoni   0.1 0.3571429 0.00000000 0.06388631"
      ]
     },
     "metadata": {},
     "output_type": "display_data"
    }
   ],
   "source": [
    "graph <- graph.adjacency(m, mode=\"undirected\")\n",
    "#Удаляем изолированные вершины\n",
    "new <- igraph::delete.vertices(graph, which(igraph::degree(graph) == 0))\n",
    "#По степеням\n",
    "Cd <- igraph::degree(new, normalized=TRUE)\n",
    "#По близости\n",
    "Cc <- igraph::closeness(new, normalized=TRUE)\n",
    "#По посредничеству\n",
    "Cb <- igraph::betweenness(new, normalized=TRUE)\n",
    "#По информации\n",
    "newNet <- delete.vertices(net, isolates(net))\n",
    "#Центральность\n",
    "Ci <- infocent(newNet)\n",
    "Ci <- Ci/sum(Ci)\n",
    "\n",
    "Table <- data.frame(n = V(new)$name, Cd = Cd, Cc = Cc, Cb = Cb, Ci = Ci)\n",
    "rownames(Table) <- NULL\n",
    "Table"
   ]
  },
  {
   "cell_type": "markdown",
   "metadata": {},
   "source": [
    "Task 10:  \n",
    "Все полученные значения различны, следовательно, выбор централизации тоже зависит от конкретной задачи"
   ]
  },
  {
   "cell_type": "code",
   "execution_count": 149,
   "metadata": {
    "vscode": {
     "languageId": "r"
    }
   },
   "outputs": [
    {
     "name": "stdout",
     "output_type": "stream",
     "text": [
      "Централизация по степени:  0.2272727 \n",
      "Централизация по близости:  0.3535226 \n",
      "Централизация по посреднечеству:  0.4422222 \n",
      "Централизация по информации:  0.1663254"
     ]
    }
   ],
   "source": [
    "cat(\"Централизация по степени: \", centr_degree(new)$centralization, \"\\n\")\n",
    "cat(\"Централизация по близости: \", centr_clo(new)$centralization, \"\\n\")\n",
    "cat(\"Централизация по посреднечеству: \", centr_betw(new)$centralization, \"\\n\")\n",
    "cat(\"Централизация по информации: \", centralization(newNet, infocent))"
   ]
  },
  {
   "cell_type": "markdown",
   "metadata": {},
   "source": [
    "Task 11:  \n",
    "Исследуем наибольшую компоненту связности, так как изолированные вершины не представляют интереса. Можно заметить три вершины с одной связью: Pazzi, Salviary, Tomabuoni. Все они соединены с Medici. Если убрать эти три ребра, то получится три новые компоненты связности, следовательно, каждое из этих ребер является мостом. Вершина Medici является точкой сочленения, так как если ее убрать, то появятся эти же новые компоненты связности. Также точкой сочленения является Barbadory."
   ]
  },
  {
   "cell_type": "code",
   "execution_count": 150,
   "metadata": {
    "vscode": {
     "languageId": "r"
    }
   },
   "outputs": [
    {
     "data": {
      "image/png": "[encoded data removed]",
      "text/plain": [
       "Plot with title \"Мосты и точки сочленения\""
      ]
     },
     "metadata": {
      "image/png": {
       "height": 420,
       "width": 420
      }
     },
     "output_type": "display_data"
    }
   ],
   "source": [
    "points <- igraph::articulation_points(graph)\n",
    "bridges <- igraph::bridges(graph)\n",
    "\n",
    "plot(graph, edge.color = ifelse(E(graph) %in% bridges, \"#32CD32\", \"#808080\"), vertex.color = ifelse(V(graph) %in% points, \"#32CD32\", \"#808080\"),  \n",
    "        main='Мосты и точки сочленения', edge.width = 4)"
   ]
  },
  {
   "cell_type": "markdown",
   "metadata": {},
   "source": [
    "Task 12:"
   ]
  },
  {
   "cell_type": "markdown",
   "metadata": {},
   "source": [
    "* Считывание матрицы, задание имен столбцам и строкам"
   ]
  },
  {
   "cell_type": "code",
   "execution_count": 151,
   "metadata": {
    "vscode": {
     "languageId": "r"
    }
   },
   "outputs": [
    {
     "data": {
      "text/html": [
       "<table class=\"dataframe\">\n",
       "<caption>A matrix: 21 × 21 of type int</caption>\n",
       "<thead>\n",
       "\t<tr><th></th><th scope=col>1</th><th scope=col>2</th><th scope=col>3</th><th scope=col>4</th><th scope=col>5</th><th scope=col>6</th><th scope=col>7</th><th scope=col>8</th><th scope=col>9</th><th scope=col>10</th><th scope=col>⋯</th><th scope=col>12</th><th scope=col>13</th><th scope=col>14</th><th scope=col>15</th><th scope=col>16</th><th scope=col>17</th><th scope=col>18</th><th scope=col>19</th><th scope=col>20</th><th scope=col>21</th></tr>\n",
       "</thead>\n",
       "<tbody>\n",
       "\t<tr><th scope=row>1</th><td>0</td><td>1</td><td>0</td><td>1</td><td>0</td><td>0</td><td>0</td><td>1</td><td>0</td><td>0</td><td>⋯</td><td>0</td><td>0</td><td>0</td><td>0</td><td>1</td><td>0</td><td>1</td><td>0</td><td>0</td><td>1</td></tr>\n",
       "\t<tr><th scope=row>2</th><td>0</td><td>0</td><td>0</td><td>0</td><td>0</td><td>1</td><td>1</td><td>0</td><td>0</td><td>0</td><td>⋯</td><td>0</td><td>0</td><td>0</td><td>0</td><td>0</td><td>0</td><td>0</td><td>0</td><td>0</td><td>1</td></tr>\n",
       "\t<tr><th scope=row>3</th><td>1</td><td>1</td><td>0</td><td>1</td><td>0</td><td>1</td><td>1</td><td>1</td><td>1</td><td>1</td><td>⋯</td><td>1</td><td>0</td><td>1</td><td>0</td><td>0</td><td>1</td><td>1</td><td>0</td><td>1</td><td>1</td></tr>\n",
       "\t<tr><th scope=row>4</th><td>1</td><td>1</td><td>0</td><td>0</td><td>0</td><td>1</td><td>0</td><td>1</td><td>0</td><td>1</td><td>⋯</td><td>1</td><td>0</td><td>0</td><td>0</td><td>1</td><td>1</td><td>1</td><td>0</td><td>1</td><td>1</td></tr>\n",
       "\t<tr><th scope=row>5</th><td>1</td><td>1</td><td>0</td><td>0</td><td>0</td><td>1</td><td>1</td><td>1</td><td>0</td><td>1</td><td>⋯</td><td>0</td><td>1</td><td>1</td><td>0</td><td>1</td><td>1</td><td>1</td><td>1</td><td>1</td><td>1</td></tr>\n",
       "\t<tr><th scope=row>6</th><td>0</td><td>0</td><td>0</td><td>0</td><td>0</td><td>0</td><td>0</td><td>0</td><td>0</td><td>0</td><td>⋯</td><td>0</td><td>0</td><td>0</td><td>0</td><td>0</td><td>0</td><td>0</td><td>0</td><td>0</td><td>1</td></tr>\n",
       "\t<tr><th scope=row>7</th><td>0</td><td>1</td><td>0</td><td>0</td><td>0</td><td>1</td><td>0</td><td>0</td><td>0</td><td>0</td><td>⋯</td><td>1</td><td>0</td><td>1</td><td>0</td><td>0</td><td>1</td><td>1</td><td>0</td><td>0</td><td>1</td></tr>\n",
       "\t<tr><th scope=row>8</th><td>0</td><td>1</td><td>0</td><td>1</td><td>0</td><td>1</td><td>1</td><td>0</td><td>0</td><td>1</td><td>⋯</td><td>0</td><td>0</td><td>0</td><td>0</td><td>0</td><td>0</td><td>1</td><td>0</td><td>0</td><td>1</td></tr>\n",
       "\t<tr><th scope=row>9</th><td>1</td><td>1</td><td>0</td><td>0</td><td>0</td><td>1</td><td>1</td><td>1</td><td>0</td><td>1</td><td>⋯</td><td>1</td><td>0</td><td>1</td><td>0</td><td>1</td><td>1</td><td>1</td><td>0</td><td>0</td><td>1</td></tr>\n",
       "\t<tr><th scope=row>10</th><td>1</td><td>1</td><td>1</td><td>1</td><td>1</td><td>0</td><td>0</td><td>1</td><td>0</td><td>0</td><td>⋯</td><td>0</td><td>1</td><td>0</td><td>1</td><td>1</td><td>1</td><td>1</td><td>1</td><td>1</td><td>0</td></tr>\n",
       "\t<tr><th scope=row>11</th><td>1</td><td>1</td><td>0</td><td>0</td><td>0</td><td>0</td><td>1</td><td>0</td><td>0</td><td>0</td><td>⋯</td><td>0</td><td>0</td><td>0</td><td>0</td><td>0</td><td>0</td><td>0</td><td>0</td><td>0</td><td>0</td></tr>\n",
       "\t<tr><th scope=row>12</th><td>0</td><td>0</td><td>0</td><td>0</td><td>0</td><td>0</td><td>1</td><td>0</td><td>0</td><td>0</td><td>⋯</td><td>0</td><td>0</td><td>0</td><td>0</td><td>0</td><td>0</td><td>0</td><td>0</td><td>0</td><td>1</td></tr>\n",
       "\t<tr><th scope=row>13</th><td>1</td><td>1</td><td>0</td><td>0</td><td>1</td><td>0</td><td>0</td><td>0</td><td>1</td><td>0</td><td>⋯</td><td>0</td><td>0</td><td>1</td><td>0</td><td>0</td><td>0</td><td>1</td><td>0</td><td>0</td><td>0</td></tr>\n",
       "\t<tr><th scope=row>14</th><td>0</td><td>1</td><td>0</td><td>0</td><td>0</td><td>0</td><td>1</td><td>0</td><td>0</td><td>0</td><td>⋯</td><td>0</td><td>0</td><td>0</td><td>0</td><td>0</td><td>0</td><td>1</td><td>0</td><td>0</td><td>1</td></tr>\n",
       "\t<tr><th scope=row>15</th><td>1</td><td>1</td><td>1</td><td>1</td><td>1</td><td>1</td><td>1</td><td>1</td><td>1</td><td>1</td><td>⋯</td><td>1</td><td>1</td><td>1</td><td>0</td><td>1</td><td>1</td><td>1</td><td>1</td><td>1</td><td>1</td></tr>\n",
       "\t<tr><th scope=row>16</th><td>1</td><td>1</td><td>0</td><td>0</td><td>0</td><td>0</td><td>0</td><td>0</td><td>0</td><td>1</td><td>⋯</td><td>0</td><td>0</td><td>0</td><td>0</td><td>0</td><td>0</td><td>1</td><td>0</td><td>0</td><td>0</td></tr>\n",
       "\t<tr><th scope=row>17</th><td>1</td><td>1</td><td>0</td><td>1</td><td>0</td><td>0</td><td>1</td><td>0</td><td>0</td><td>0</td><td>⋯</td><td>0</td><td>0</td><td>0</td><td>0</td><td>0</td><td>0</td><td>0</td><td>0</td><td>0</td><td>1</td></tr>\n",
       "\t<tr><th scope=row>18</th><td>1</td><td>1</td><td>1</td><td>1</td><td>1</td><td>0</td><td>1</td><td>1</td><td>1</td><td>1</td><td>⋯</td><td>0</td><td>1</td><td>1</td><td>1</td><td>1</td><td>0</td><td>0</td><td>1</td><td>1</td><td>1</td></tr>\n",
       "\t<tr><th scope=row>19</th><td>1</td><td>1</td><td>1</td><td>0</td><td>1</td><td>0</td><td>1</td><td>0</td><td>0</td><td>1</td><td>⋯</td><td>0</td><td>0</td><td>1</td><td>1</td><td>0</td><td>0</td><td>1</td><td>0</td><td>1</td><td>0</td></tr>\n",
       "\t<tr><th scope=row>20</th><td>1</td><td>1</td><td>0</td><td>0</td><td>0</td><td>1</td><td>0</td><td>1</td><td>0</td><td>0</td><td>⋯</td><td>1</td><td>0</td><td>1</td><td>1</td><td>1</td><td>1</td><td>1</td><td>0</td><td>0</td><td>1</td></tr>\n",
       "\t<tr><th scope=row>21</th><td>0</td><td>1</td><td>1</td><td>1</td><td>0</td><td>1</td><td>1</td><td>1</td><td>0</td><td>0</td><td>⋯</td><td>1</td><td>0</td><td>1</td><td>0</td><td>0</td><td>1</td><td>1</td><td>0</td><td>1</td><td>0</td></tr>\n",
       "</tbody>\n",
       "</table>\n"
      ],
      "text/latex": [
       "A matrix: 21 × 21 of type int\n",
       "\\begin{tabular}{r|lllllllllllllllllllll}\n",
       "  & 1 & 2 & 3 & 4 & 5 & 6 & 7 & 8 & 9 & 10 & ⋯ & 12 & 13 & 14 & 15 & 16 & 17 & 18 & 19 & 20 & 21\\\\\n",
       "\\hline\n",
       "\t1 & 0 & 1 & 0 & 1 & 0 & 0 & 0 & 1 & 0 & 0 & ⋯ & 0 & 0 & 0 & 0 & 1 & 0 & 1 & 0 & 0 & 1\\\\\n",
       "\t2 & 0 & 0 & 0 & 0 & 0 & 1 & 1 & 0 & 0 & 0 & ⋯ & 0 & 0 & 0 & 0 & 0 & 0 & 0 & 0 & 0 & 1\\\\\n",
       "\t3 & 1 & 1 & 0 & 1 & 0 & 1 & 1 & 1 & 1 & 1 & ⋯ & 1 & 0 & 1 & 0 & 0 & 1 & 1 & 0 & 1 & 1\\\\\n",
       "\t4 & 1 & 1 & 0 & 0 & 0 & 1 & 0 & 1 & 0 & 1 & ⋯ & 1 & 0 & 0 & 0 & 1 & 1 & 1 & 0 & 1 & 1\\\\\n",
       "\t5 & 1 & 1 & 0 & 0 & 0 & 1 & 1 & 1 & 0 & 1 & ⋯ & 0 & 1 & 1 & 0 & 1 & 1 & 1 & 1 & 1 & 1\\\\\n",
       "\t6 & 0 & 0 & 0 & 0 & 0 & 0 & 0 & 0 & 0 & 0 & ⋯ & 0 & 0 & 0 & 0 & 0 & 0 & 0 & 0 & 0 & 1\\\\\n",
       "\t7 & 0 & 1 & 0 & 0 & 0 & 1 & 0 & 0 & 0 & 0 & ⋯ & 1 & 0 & 1 & 0 & 0 & 1 & 1 & 0 & 0 & 1\\\\\n",
       "\t8 & 0 & 1 & 0 & 1 & 0 & 1 & 1 & 0 & 0 & 1 & ⋯ & 0 & 0 & 0 & 0 & 0 & 0 & 1 & 0 & 0 & 1\\\\\n",
       "\t9 & 1 & 1 & 0 & 0 & 0 & 1 & 1 & 1 & 0 & 1 & ⋯ & 1 & 0 & 1 & 0 & 1 & 1 & 1 & 0 & 0 & 1\\\\\n",
       "\t10 & 1 & 1 & 1 & 1 & 1 & 0 & 0 & 1 & 0 & 0 & ⋯ & 0 & 1 & 0 & 1 & 1 & 1 & 1 & 1 & 1 & 0\\\\\n",
       "\t11 & 1 & 1 & 0 & 0 & 0 & 0 & 1 & 0 & 0 & 0 & ⋯ & 0 & 0 & 0 & 0 & 0 & 0 & 0 & 0 & 0 & 0\\\\\n",
       "\t12 & 0 & 0 & 0 & 0 & 0 & 0 & 1 & 0 & 0 & 0 & ⋯ & 0 & 0 & 0 & 0 & 0 & 0 & 0 & 0 & 0 & 1\\\\\n",
       "\t13 & 1 & 1 & 0 & 0 & 1 & 0 & 0 & 0 & 1 & 0 & ⋯ & 0 & 0 & 1 & 0 & 0 & 0 & 1 & 0 & 0 & 0\\\\\n",
       "\t14 & 0 & 1 & 0 & 0 & 0 & 0 & 1 & 0 & 0 & 0 & ⋯ & 0 & 0 & 0 & 0 & 0 & 0 & 1 & 0 & 0 & 1\\\\\n",
       "\t15 & 1 & 1 & 1 & 1 & 1 & 1 & 1 & 1 & 1 & 1 & ⋯ & 1 & 1 & 1 & 0 & 1 & 1 & 1 & 1 & 1 & 1\\\\\n",
       "\t16 & 1 & 1 & 0 & 0 & 0 & 0 & 0 & 0 & 0 & 1 & ⋯ & 0 & 0 & 0 & 0 & 0 & 0 & 1 & 0 & 0 & 0\\\\\n",
       "\t17 & 1 & 1 & 0 & 1 & 0 & 0 & 1 & 0 & 0 & 0 & ⋯ & 0 & 0 & 0 & 0 & 0 & 0 & 0 & 0 & 0 & 1\\\\\n",
       "\t18 & 1 & 1 & 1 & 1 & 1 & 0 & 1 & 1 & 1 & 1 & ⋯ & 0 & 1 & 1 & 1 & 1 & 0 & 0 & 1 & 1 & 1\\\\\n",
       "\t19 & 1 & 1 & 1 & 0 & 1 & 0 & 1 & 0 & 0 & 1 & ⋯ & 0 & 0 & 1 & 1 & 0 & 0 & 1 & 0 & 1 & 0\\\\\n",
       "\t20 & 1 & 1 & 0 & 0 & 0 & 1 & 0 & 1 & 0 & 0 & ⋯ & 1 & 0 & 1 & 1 & 1 & 1 & 1 & 0 & 0 & 1\\\\\n",
       "\t21 & 0 & 1 & 1 & 1 & 0 & 1 & 1 & 1 & 0 & 0 & ⋯ & 1 & 0 & 1 & 0 & 0 & 1 & 1 & 0 & 1 & 0\\\\\n",
       "\\end{tabular}\n"
      ],
      "text/markdown": [
       "\n",
       "A matrix: 21 × 21 of type int\n",
       "\n",
       "| <!--/--> | 1 | 2 | 3 | 4 | 5 | 6 | 7 | 8 | 9 | 10 | ⋯ | 12 | 13 | 14 | 15 | 16 | 17 | 18 | 19 | 20 | 21 |\n",
       "|---|---|---|---|---|---|---|---|---|---|---|---|---|---|---|---|---|---|---|---|---|---|\n",
       "| 1 | 0 | 1 | 0 | 1 | 0 | 0 | 0 | 1 | 0 | 0 | ⋯ | 0 | 0 | 0 | 0 | 1 | 0 | 1 | 0 | 0 | 1 |\n",
       "| 2 | 0 | 0 | 0 | 0 | 0 | 1 | 1 | 0 | 0 | 0 | ⋯ | 0 | 0 | 0 | 0 | 0 | 0 | 0 | 0 | 0 | 1 |\n",
       "| 3 | 1 | 1 | 0 | 1 | 0 | 1 | 1 | 1 | 1 | 1 | ⋯ | 1 | 0 | 1 | 0 | 0 | 1 | 1 | 0 | 1 | 1 |\n",
       "| 4 | 1 | 1 | 0 | 0 | 0 | 1 | 0 | 1 | 0 | 1 | ⋯ | 1 | 0 | 0 | 0 | 1 | 1 | 1 | 0 | 1 | 1 |\n",
       "| 5 | 1 | 1 | 0 | 0 | 0 | 1 | 1 | 1 | 0 | 1 | ⋯ | 0 | 1 | 1 | 0 | 1 | 1 | 1 | 1 | 1 | 1 |\n",
       "| 6 | 0 | 0 | 0 | 0 | 0 | 0 | 0 | 0 | 0 | 0 | ⋯ | 0 | 0 | 0 | 0 | 0 | 0 | 0 | 0 | 0 | 1 |\n",
       "| 7 | 0 | 1 | 0 | 0 | 0 | 1 | 0 | 0 | 0 | 0 | ⋯ | 1 | 0 | 1 | 0 | 0 | 1 | 1 | 0 | 0 | 1 |\n",
       "| 8 | 0 | 1 | 0 | 1 | 0 | 1 | 1 | 0 | 0 | 1 | ⋯ | 0 | 0 | 0 | 0 | 0 | 0 | 1 | 0 | 0 | 1 |\n",
       "| 9 | 1 | 1 | 0 | 0 | 0 | 1 | 1 | 1 | 0 | 1 | ⋯ | 1 | 0 | 1 | 0 | 1 | 1 | 1 | 0 | 0 | 1 |\n",
       "| 10 | 1 | 1 | 1 | 1 | 1 | 0 | 0 | 1 | 0 | 0 | ⋯ | 0 | 1 | 0 | 1 | 1 | 1 | 1 | 1 | 1 | 0 |\n",
       "| 11 | 1 | 1 | 0 | 0 | 0 | 0 | 1 | 0 | 0 | 0 | ⋯ | 0 | 0 | 0 | 0 | 0 | 0 | 0 | 0 | 0 | 0 |\n",
       "| 12 | 0 | 0 | 0 | 0 | 0 | 0 | 1 | 0 | 0 | 0 | ⋯ | 0 | 0 | 0 | 0 | 0 | 0 | 0 | 0 | 0 | 1 |\n",
       "| 13 | 1 | 1 | 0 | 0 | 1 | 0 | 0 | 0 | 1 | 0 | ⋯ | 0 | 0 | 1 | 0 | 0 | 0 | 1 | 0 | 0 | 0 |\n",
       "| 14 | 0 | 1 | 0 | 0 | 0 | 0 | 1 | 0 | 0 | 0 | ⋯ | 0 | 0 | 0 | 0 | 0 | 0 | 1 | 0 | 0 | 1 |\n",
       "| 15 | 1 | 1 | 1 | 1 | 1 | 1 | 1 | 1 | 1 | 1 | ⋯ | 1 | 1 | 1 | 0 | 1 | 1 | 1 | 1 | 1 | 1 |\n",
       "| 16 | 1 | 1 | 0 | 0 | 0 | 0 | 0 | 0 | 0 | 1 | ⋯ | 0 | 0 | 0 | 0 | 0 | 0 | 1 | 0 | 0 | 0 |\n",
       "| 17 | 1 | 1 | 0 | 1 | 0 | 0 | 1 | 0 | 0 | 0 | ⋯ | 0 | 0 | 0 | 0 | 0 | 0 | 0 | 0 | 0 | 1 |\n",
       "| 18 | 1 | 1 | 1 | 1 | 1 | 0 | 1 | 1 | 1 | 1 | ⋯ | 0 | 1 | 1 | 1 | 1 | 0 | 0 | 1 | 1 | 1 |\n",
       "| 19 | 1 | 1 | 1 | 0 | 1 | 0 | 1 | 0 | 0 | 1 | ⋯ | 0 | 0 | 1 | 1 | 0 | 0 | 1 | 0 | 1 | 0 |\n",
       "| 20 | 1 | 1 | 0 | 0 | 0 | 1 | 0 | 1 | 0 | 0 | ⋯ | 1 | 0 | 1 | 1 | 1 | 1 | 1 | 0 | 0 | 1 |\n",
       "| 21 | 0 | 1 | 1 | 1 | 0 | 1 | 1 | 1 | 0 | 0 | ⋯ | 1 | 0 | 1 | 0 | 0 | 1 | 1 | 0 | 1 | 0 |\n",
       "\n"
      ],
      "text/plain": [
       "   1 2 3 4 5 6 7 8 9 10 ⋯ 12 13 14 15 16 17 18 19 20 21\n",
       "1  0 1 0 1 0 0 0 1 0 0  ⋯ 0  0  0  0  1  0  1  0  0  1 \n",
       "2  0 0 0 0 0 1 1 0 0 0  ⋯ 0  0  0  0  0  0  0  0  0  1 \n",
       "3  1 1 0 1 0 1 1 1 1 1  ⋯ 1  0  1  0  0  1  1  0  1  1 \n",
       "4  1 1 0 0 0 1 0 1 0 1  ⋯ 1  0  0  0  1  1  1  0  1  1 \n",
       "5  1 1 0 0 0 1 1 1 0 1  ⋯ 0  1  1  0  1  1  1  1  1  1 \n",
       "6  0 0 0 0 0 0 0 0 0 0  ⋯ 0  0  0  0  0  0  0  0  0  1 \n",
       "7  0 1 0 0 0 1 0 0 0 0  ⋯ 1  0  1  0  0  1  1  0  0  1 \n",
       "8  0 1 0 1 0 1 1 0 0 1  ⋯ 0  0  0  0  0  0  1  0  0  1 \n",
       "9  1 1 0 0 0 1 1 1 0 1  ⋯ 1  0  1  0  1  1  1  0  0  1 \n",
       "10 1 1 1 1 1 0 0 1 0 0  ⋯ 0  1  0  1  1  1  1  1  1  0 \n",
       "11 1 1 0 0 0 0 1 0 0 0  ⋯ 0  0  0  0  0  0  0  0  0  0 \n",
       "12 0 0 0 0 0 0 1 0 0 0  ⋯ 0  0  0  0  0  0  0  0  0  1 \n",
       "13 1 1 0 0 1 0 0 0 1 0  ⋯ 0  0  1  0  0  0  1  0  0  0 \n",
       "14 0 1 0 0 0 0 1 0 0 0  ⋯ 0  0  0  0  0  0  1  0  0  1 \n",
       "15 1 1 1 1 1 1 1 1 1 1  ⋯ 1  1  1  0  1  1  1  1  1  1 \n",
       "16 1 1 0 0 0 0 0 0 0 1  ⋯ 0  0  0  0  0  0  1  0  0  0 \n",
       "17 1 1 0 1 0 0 1 0 0 0  ⋯ 0  0  0  0  0  0  0  0  0  1 \n",
       "18 1 1 1 1 1 0 1 1 1 1  ⋯ 0  1  1  1  1  0  0  1  1  1 \n",
       "19 1 1 1 0 1 0 1 0 0 1  ⋯ 0  0  1  1  0  0  1  0  1  0 \n",
       "20 1 1 0 0 0 1 0 1 0 0  ⋯ 1  0  1  1  1  1  1  0  0  1 \n",
       "21 0 1 1 1 0 1 1 1 0 0  ⋯ 1  0  1  0  0  1  1  0  1  0 "
      ]
     },
     "metadata": {},
     "output_type": "display_data"
    }
   ],
   "source": [
    "m2 <- as.matrix(read.csv('krackhardt_advice.csv', comment.char='#', header=FALSE))\n",
    "\n",
    "rownames(m2) <- 1:dim(m2)[1]\n",
    "colnames(m2) <- 1:dim(m2)[1]\n",
    "m2\n"
   ]
  },
  {
   "cell_type": "markdown",
   "metadata": {},
   "source": [
    "* Создание сети, отображение"
   ]
  },
  {
   "cell_type": "code",
   "execution_count": 152,
   "metadata": {
    "vscode": {
     "languageId": "r"
    }
   },
   "outputs": [
    {
     "data": {
      "image/png": "[encoded data removed]",
      "text/plain": [
       "plot without title"
      ]
     },
     "metadata": {
      "image/png": {
       "height": 420,
       "width": 420
      }
     },
     "output_type": "display_data"
    }
   ],
   "source": [
    "net2 <- network(m2, matrix.type = \"adjacency\")\n",
    "gplot(net2, gmode = 'graph', vertex.col = 6, vertex.cex = 1, displaylabels = TRUE)"
   ]
  },
  {
   "cell_type": "markdown",
   "metadata": {},
   "source": [
    "* Создание списка ребер"
   ]
  },
  {
   "cell_type": "code",
   "execution_count": 153,
   "metadata": {
    "vscode": {
     "languageId": "r"
    }
   },
   "outputs": [
    {
     "data": {
      "text/html": [
       "<table class=\"dataframe\">\n",
       "<caption>A matrix: 5 × 2 of type int</caption>\n",
       "<tbody>\n",
       "\t<tr><td>1</td><td> 2</td></tr>\n",
       "\t<tr><td>1</td><td> 4</td></tr>\n",
       "\t<tr><td>1</td><td> 8</td></tr>\n",
       "\t<tr><td>1</td><td>16</td></tr>\n",
       "\t<tr><td>1</td><td>18</td></tr>\n",
       "</tbody>\n",
       "</table>\n"
      ],
      "text/latex": [
       "A matrix: 5 × 2 of type int\n",
       "\\begin{tabular}{ll}\n",
       "\t 1 &  2\\\\\n",
       "\t 1 &  4\\\\\n",
       "\t 1 &  8\\\\\n",
       "\t 1 & 16\\\\\n",
       "\t 1 & 18\\\\\n",
       "\\end{tabular}\n"
      ],
      "text/markdown": [
       "\n",
       "A matrix: 5 × 2 of type int\n",
       "\n",
       "| 1 |  2 |\n",
       "| 1 |  4 |\n",
       "| 1 |  8 |\n",
       "| 1 | 16 |\n",
       "| 1 | 18 |\n",
       "\n"
      ],
      "text/plain": [
       "     [,1] [,2]\n",
       "[1,] 1     2  \n",
       "[2,] 1     4  \n",
       "[3,] 1     8  \n",
       "[4,] 1    16  \n",
       "[5,] 1    18  "
      ]
     },
     "metadata": {},
     "output_type": "display_data"
    }
   ],
   "source": [
    "head(as.edgelist(net2), 5)"
   ]
  },
  {
   "cell_type": "markdown",
   "metadata": {},
   "source": [
    "* Отображение с различной укладкой"
   ]
  },
  {
   "cell_type": "code",
   "execution_count": 154,
   "metadata": {
    "vscode": {
     "languageId": "r"
    }
   },
   "outputs": [
    {
     "data": {
      "image/png": "[encoded data removed]",
      "text/plain": [
       "Plot with title \"Фрюхтерман-Рейнгольд\""
      ]
     },
     "metadata": {
      "image/png": {
       "height": 420,
       "width": 420
      }
     },
     "output_type": "display_data"
    },
    {
     "data": {
      "image/png": "[encoded data removed]",
      "text/plain": [
       "Plot with title \"Камада–Каваи\""
      ]
     },
     "metadata": {
      "image/png": {
       "height": 420,
       "width": 420
      }
     },
     "output_type": "display_data"
    }
   ],
   "source": [
    "gplot(net2, mode=\"fruchtermanreingold\", vertex.col=4, vertex.cex=1, main=\"Фрюхтерман-Рейнгольд\", displaylabels = TRUE)\n",
    "gplot(net2, vertex.cex=1, mode='kamadakawai', main='Камада–Каваи', displaylabels = TRUE)\n"
   ]
  },
  {
   "cell_type": "markdown",
   "metadata": {},
   "source": [
    "* Описательная сводка"
   ]
  },
  {
   "cell_type": "code",
   "execution_count": 155,
   "metadata": {
    "vscode": {
     "languageId": "r"
    }
   },
   "outputs": [
    {
     "data": {
      "text/plain": [
       "Network attributes:\n",
       "  vertices = 21\n",
       "  directed = TRUE\n",
       "  hyper = FALSE\n",
       "  loops = FALSE\n",
       "  multiple = FALSE\n",
       "  bipartite = FALSE\n",
       " total edges = 190 \n",
       "   missing edges = 0 \n",
       "   non-missing edges = 190 \n",
       " density = 0.452381 \n",
       "\n",
       "Vertex attributes:\n",
       "  vertex.names:\n",
       "   character valued attribute\n",
       "   21 valid vertex names\n",
       "\n",
       "No edge attributes\n",
       "\n",
       "Network edgelist matrix:\n",
       "       [,1] [,2]\n",
       "  [1,]    3    1\n",
       "  [2,]    4    1\n",
       "  [3,]    5    1\n",
       "  [4,]    9    1\n",
       "  [5,]   10    1\n",
       "  [6,]   11    1\n",
       "  [7,]   13    1\n",
       "  [8,]   15    1\n",
       "  [9,]   16    1\n",
       " [10,]   17    1\n",
       " [11,]   18    1\n",
       " [12,]   19    1\n",
       " [13,]   20    1\n",
       " [14,]    1    2\n",
       " [15,]    3    2\n",
       " [16,]    4    2\n",
       " [17,]    5    2\n",
       " [18,]    7    2\n",
       " [19,]    8    2\n",
       " [20,]    9    2\n",
       " [21,]   10    2\n",
       " [22,]   11    2\n",
       " [23,]   13    2\n",
       " [24,]   14    2\n",
       " [25,]   15    2\n",
       " [26,]   16    2\n",
       " [27,]   17    2\n",
       " [28,]   18    2\n",
       " [29,]   19    2\n",
       " [30,]   20    2\n",
       " [31,]   21    2\n",
       " [32,]   10    3\n",
       " [33,]   15    3\n",
       " [34,]   18    3\n",
       " [35,]   19    3\n",
       " [36,]   21    3\n",
       " [37,]    1    4\n",
       " [38,]    3    4\n",
       " [39,]    8    4\n",
       " [40,]   10    4\n",
       " [41,]   15    4\n",
       " [42,]   17    4\n",
       " [43,]   18    4\n",
       " [44,]   21    4\n",
       " [45,]   10    5\n",
       " [46,]   13    5\n",
       " [47,]   15    5\n",
       " [48,]   18    5\n",
       " [49,]   19    5\n",
       " [50,]    2    6\n",
       " [51,]    3    6\n",
       " [52,]    4    6\n",
       " [53,]    5    6\n",
       " [54,]    7    6\n",
       " [55,]    8    6\n",
       " [56,]    9    6\n",
       " [57,]   15    6\n",
       " [58,]   20    6\n",
       " [59,]   21    6\n",
       " [60,]    2    7\n",
       " [61,]    3    7\n",
       " [62,]    5    7\n",
       " [63,]    8    7\n",
       " [64,]    9    7\n",
       " [65,]   11    7\n",
       " [66,]   12    7\n",
       " [67,]   14    7\n",
       " [68,]   15    7\n",
       " [69,]   17    7\n",
       " [70,]   18    7\n",
       " [71,]   19    7\n",
       " [72,]   21    7\n",
       " [73,]    1    8\n",
       " [74,]    3    8\n",
       " [75,]    4    8\n",
       " [76,]    5    8\n",
       " [77,]    9    8\n",
       " [78,]   10    8\n",
       " [79,]   15    8\n",
       " [80,]   18    8\n",
       " [81,]   20    8\n",
       " [82,]   21    8\n",
       " [83,]    3    9\n",
       " [84,]   13    9\n",
       " [85,]   15    9\n",
       " [86,]   18    9\n",
       " [87,]    3   10\n",
       " [88,]    4   10\n",
       " [89,]    5   10\n",
       " [90,]    8   10\n",
       " [91,]    9   10\n",
       " [92,]   15   10\n",
       " [93,]   16   10\n",
       " [94,]   18   10\n",
       " [95,]   19   10\n",
       " [96,]    3   11\n",
       " [97,]    4   11\n",
       " [98,]    5   11\n",
       " [99,]    7   11\n",
       "[100,]    8   11\n",
       "[101,]    9   11\n",
       "[102,]   10   11\n",
       "[103,]   15   11\n",
       "[104,]   18   11\n",
       "[105,]   19   11\n",
       "[106,]   20   11\n",
       "[107,]    3   12\n",
       "[108,]    4   12\n",
       "[109,]    7   12\n",
       "[110,]    9   12\n",
       "[111,]   15   12\n",
       "[112,]   20   12\n",
       "[113,]   21   12\n",
       "[114,]    5   13\n",
       "[115,]   10   13\n",
       "[116,]   15   13\n",
       "[117,]   18   13\n",
       "[118,]    3   14\n",
       "[119,]    5   14\n",
       "[120,]    7   14\n",
       "[121,]    9   14\n",
       "[122,]   13   14\n",
       "[123,]   15   14\n",
       "[124,]   18   14\n",
       "[125,]   19   14\n",
       "[126,]   20   14\n",
       "[127,]   21   14\n",
       "[128,]   10   15\n",
       "[129,]   18   15\n",
       "[130,]   19   15\n",
       "[131,]   20   15\n",
       "[132,]    1   16\n",
       "[133,]    4   16\n",
       "[134,]    5   16\n",
       "[135,]    9   16\n",
       "[136,]   10   16\n",
       "[137,]   15   16\n",
       "[138,]   18   16\n",
       "[139,]   20   16\n",
       "[140,]    3   17\n",
       "[141,]    4   17\n",
       "[142,]    5   17\n",
       "[143,]    7   17\n",
       "[144,]    9   17\n",
       "[145,]   10   17\n",
       "[146,]   15   17\n",
       "[147,]   20   17\n",
       "[148,]   21   17\n",
       "[149,]    1   18\n",
       "[150,]    3   18\n",
       "[151,]    4   18\n",
       "[152,]    5   18\n",
       "[153,]    7   18\n",
       "[154,]    8   18\n",
       "[155,]    9   18\n",
       "[156,]   10   18\n",
       "[157,]   13   18\n",
       "[158,]   14   18\n",
       "[159,]   15   18\n",
       "[160,]   16   18\n",
       "[161,]   19   18\n",
       "[162,]   20   18\n",
       "[163,]   21   18\n",
       "[164,]    5   19\n",
       "[165,]   10   19\n",
       "[166,]   15   19\n",
       "[167,]   18   19\n",
       "[168,]    3   20\n",
       "[169,]    4   20\n",
       "[170,]    5   20\n",
       "[171,]   10   20\n",
       "[172,]   15   20\n",
       "[173,]   18   20\n",
       "[174,]   19   20\n",
       "[175,]   21   20\n",
       "[176,]    1   21\n",
       "[177,]    2   21\n",
       "[178,]    3   21\n",
       "[179,]    4   21\n",
       "[180,]    5   21\n",
       "[181,]    6   21\n",
       "[182,]    7   21\n",
       "[183,]    8   21\n",
       "[184,]    9   21\n",
       "[185,]   12   21\n",
       "[186,]   14   21\n",
       "[187,]   15   21\n",
       "[188,]   17   21\n",
       "[189,]   18   21\n",
       "[190,]   20   21"
      ]
     },
     "metadata": {},
     "output_type": "display_data"
    }
   ],
   "source": [
    "summary(net2)"
   ]
  },
  {
   "cell_type": "markdown",
   "metadata": {},
   "source": [
    "* Пятичисловая сводка"
   ]
  },
  {
   "cell_type": "code",
   "execution_count": 156,
   "metadata": {
    "vscode": {
     "languageId": "r"
    }
   },
   "outputs": [
    {
     "name": "stdout",
     "output_type": "stream",
     "text": [
      "Размер сети:  21\n",
      "Плотность сети вручную:  0.452381\n",
      "Плотность сети с помощью функции:  0.452381\n",
      "Количество компонент сети:  1\n",
      "Диаметр сети:  3\n",
      "Коэффициент кластеризации 0.6639785"
     ]
    }
   ],
   "source": [
    "#Размер\n",
    "cat('Размер сети: ', network.size(net2))\n",
    "g2 = network.size(net2)\n",
    "#Плотность\n",
    "den <- function(s, L) {\n",
    "    L*factorial(s-2)/factorial(s)\n",
    "}\n",
    "cat('\\nПлотность сети вручную: ', den(network.size(net2), 190))\n",
    "cat('\\nПлотность сети с помощью функции: ', gden(net2))\n",
    "#Компоненты\n",
    "cat('\\nКоличество компонент сети: ', components(net2))\n",
    "#Диаметр сети\n",
    "#Выбираем наибольшую компоненту\n",
    "lgc <- component.largest(net2, result = \"graph\")\n",
    "#Находим геодезические расстояния\n",
    "gd <- geodist(lgc)\n",
    "#Берем максимальное\n",
    "cat('\\nДиаметр сети: ', max(gd$gdist))\n",
    "#Коэффициент кластеризации\n",
    "cat('\\nКоэффициент кластеризации', gtrans(net2, mode = \"graph\"))"
   ]
  },
  {
   "cell_type": "markdown",
   "metadata": {},
   "source": [
    "* Средняя степень узлов и дисперсия"
   ]
  },
  {
   "cell_type": "code",
   "execution_count": 157,
   "metadata": {
    "vscode": {
     "languageId": "r"
    }
   },
   "outputs": [
    {
     "name": "stdout",
     "output_type": "stream",
     "text": [
      "Средняя степень входящих узлов:  9.047619\n",
      "Средняя степень исходящих узлов:  9.047619\n",
      "Дисперсия для входящих узлов:  16.54762\n",
      "Дисперсия (out):  29.74762"
     ]
    }
   ],
   "source": [
    "graph2 <- graph.adjacency(m2)\n",
    "S1 <- mean(igraph::degree(graph2, mode=\"in\"))\n",
    "S2 <- mean(igraph::degree(graph2, mode=\"out\"))\n",
    "cat('Средняя степень входящих узлов: ', S1)\n",
    "cat('\\nСредняя степень исходящих узлов: ', S2)\n",
    "cat('\\nДисперсия для входящих узлов: ', var(igraph::degree(graph2, mode=\"in\")))\n",
    "cat('\\nДисперсия (out): ', var(igraph::degree(graph2, mode=\"out\")))"
   ]
  },
  {
   "cell_type": "markdown",
   "metadata": {},
   "source": [
    "Task 13:  \n",
    "Самым важным актором является номер 2"
   ]
  },
  {
   "cell_type": "code",
   "execution_count": 158,
   "metadata": {
    "vscode": {
     "languageId": "r"
    }
   },
   "outputs": [
    {
     "data": {
      "text/html": [
       "<table class=\"dataframe\">\n",
       "<caption>A data.frame: 21 × 3</caption>\n",
       "<thead>\n",
       "\t<tr><th scope=col>n</th><th scope=col>Pd</th><th scope=col>Pp</th></tr>\n",
       "\t<tr><th scope=col>&lt;chr&gt;</th><th scope=col>&lt;dbl&gt;</th><th scope=col>&lt;dbl&gt;</th></tr>\n",
       "</thead>\n",
       "<tbody>\n",
       "\t<tr><td>1 </td><td>0.65</td><td>0.03333333</td></tr>\n",
       "\t<tr><td>2 </td><td>0.90</td><td>0.04545455</td></tr>\n",
       "\t<tr><td>3 </td><td>0.25</td><td>0.02777778</td></tr>\n",
       "\t<tr><td>4 </td><td>0.40</td><td>0.03125000</td></tr>\n",
       "\t<tr><td>5 </td><td>0.25</td><td>0.02500000</td></tr>\n",
       "\t<tr><td>6 </td><td>0.50</td><td>0.03333333</td></tr>\n",
       "\t<tr><td>7 </td><td>0.65</td><td>0.03703704</td></tr>\n",
       "\t<tr><td>8 </td><td>0.50</td><td>0.03333333</td></tr>\n",
       "\t<tr><td>9 </td><td>0.20</td><td>0.02439024</td></tr>\n",
       "\t<tr><td>10</td><td>0.45</td><td>0.02857143</td></tr>\n",
       "\t<tr><td>11</td><td>0.55</td><td>0.03333333</td></tr>\n",
       "\t<tr><td>12</td><td>0.35</td><td>0.02941176</td></tr>\n",
       "\t<tr><td>13</td><td>0.20</td><td>0.02439024</td></tr>\n",
       "\t<tr><td>14</td><td>0.50</td><td>0.03333333</td></tr>\n",
       "\t<tr><td>15</td><td>0.20</td><td>0.02439024</td></tr>\n",
       "\t<tr><td>16</td><td>0.40</td><td>0.02857143</td></tr>\n",
       "\t<tr><td>17</td><td>0.45</td><td>0.03225806</td></tr>\n",
       "\t<tr><td>18</td><td>0.75</td><td>0.04000000</td></tr>\n",
       "\t<tr><td>19</td><td>0.20</td><td>0.02439024</td></tr>\n",
       "\t<tr><td>20</td><td>0.40</td><td>0.03030303</td></tr>\n",
       "\t<tr><td>21</td><td>0.75</td><td>0.04000000</td></tr>\n",
       "</tbody>\n",
       "</table>\n"
      ],
      "text/latex": [
       "A data.frame: 21 × 3\n",
       "\\begin{tabular}{lll}\n",
       " n & Pd & Pp\\\\\n",
       " <chr> & <dbl> & <dbl>\\\\\n",
       "\\hline\n",
       "\t 1  & 0.65 & 0.03333333\\\\\n",
       "\t 2  & 0.90 & 0.04545455\\\\\n",
       "\t 3  & 0.25 & 0.02777778\\\\\n",
       "\t 4  & 0.40 & 0.03125000\\\\\n",
       "\t 5  & 0.25 & 0.02500000\\\\\n",
       "\t 6  & 0.50 & 0.03333333\\\\\n",
       "\t 7  & 0.65 & 0.03703704\\\\\n",
       "\t 8  & 0.50 & 0.03333333\\\\\n",
       "\t 9  & 0.20 & 0.02439024\\\\\n",
       "\t 10 & 0.45 & 0.02857143\\\\\n",
       "\t 11 & 0.55 & 0.03333333\\\\\n",
       "\t 12 & 0.35 & 0.02941176\\\\\n",
       "\t 13 & 0.20 & 0.02439024\\\\\n",
       "\t 14 & 0.50 & 0.03333333\\\\\n",
       "\t 15 & 0.20 & 0.02439024\\\\\n",
       "\t 16 & 0.40 & 0.02857143\\\\\n",
       "\t 17 & 0.45 & 0.03225806\\\\\n",
       "\t 18 & 0.75 & 0.04000000\\\\\n",
       "\t 19 & 0.20 & 0.02439024\\\\\n",
       "\t 20 & 0.40 & 0.03030303\\\\\n",
       "\t 21 & 0.75 & 0.04000000\\\\\n",
       "\\end{tabular}\n"
      ],
      "text/markdown": [
       "\n",
       "A data.frame: 21 × 3\n",
       "\n",
       "| n &lt;chr&gt; | Pd &lt;dbl&gt; | Pp &lt;dbl&gt; |\n",
       "|---|---|---|\n",
       "| 1  | 0.65 | 0.03333333 |\n",
       "| 2  | 0.90 | 0.04545455 |\n",
       "| 3  | 0.25 | 0.02777778 |\n",
       "| 4  | 0.40 | 0.03125000 |\n",
       "| 5  | 0.25 | 0.02500000 |\n",
       "| 6  | 0.50 | 0.03333333 |\n",
       "| 7  | 0.65 | 0.03703704 |\n",
       "| 8  | 0.50 | 0.03333333 |\n",
       "| 9  | 0.20 | 0.02439024 |\n",
       "| 10 | 0.45 | 0.02857143 |\n",
       "| 11 | 0.55 | 0.03333333 |\n",
       "| 12 | 0.35 | 0.02941176 |\n",
       "| 13 | 0.20 | 0.02439024 |\n",
       "| 14 | 0.50 | 0.03333333 |\n",
       "| 15 | 0.20 | 0.02439024 |\n",
       "| 16 | 0.40 | 0.02857143 |\n",
       "| 17 | 0.45 | 0.03225806 |\n",
       "| 18 | 0.75 | 0.04000000 |\n",
       "| 19 | 0.20 | 0.02439024 |\n",
       "| 20 | 0.40 | 0.03030303 |\n",
       "| 21 | 0.75 | 0.04000000 |\n",
       "\n"
      ],
      "text/plain": [
       "   n  Pd   Pp        \n",
       "1  1  0.65 0.03333333\n",
       "2  2  0.90 0.04545455\n",
       "3  3  0.25 0.02777778\n",
       "4  4  0.40 0.03125000\n",
       "5  5  0.25 0.02500000\n",
       "6  6  0.50 0.03333333\n",
       "7  7  0.65 0.03703704\n",
       "8  8  0.50 0.03333333\n",
       "9  9  0.20 0.02439024\n",
       "10 10 0.45 0.02857143\n",
       "11 11 0.55 0.03333333\n",
       "12 12 0.35 0.02941176\n",
       "13 13 0.20 0.02439024\n",
       "14 14 0.50 0.03333333\n",
       "15 15 0.20 0.02439024\n",
       "16 16 0.40 0.02857143\n",
       "17 17 0.45 0.03225806\n",
       "18 18 0.75 0.04000000\n",
       "19 19 0.20 0.02439024\n",
       "20 20 0.40 0.03030303\n",
       "21 21 0.75 0.04000000"
      ]
     },
     "metadata": {},
     "output_type": "display_data"
    }
   ],
   "source": [
    "Pd <- prestige(net2, cmode = \"indegree\")/(gorder(graph2)-1) \n",
    "Pp <- prestige(net2, cmode = \"domain.proximity\")/(gorder(graph2)-1)\n",
    "Table2 <- data.frame(n = V(graph2)$name, Pd = Pd, Pp = Pp)\n",
    "Table2"
   ]
  },
  {
   "cell_type": "markdown",
   "metadata": {},
   "source": [
    "## Выводы\n",
    "\n",
    "При выполнении данной практической работы были получены навыки работы с математическими пакетами, умение анализировать и моделировать социальные сети."
   ]
  }
 ],
 "metadata": {
  "kernelspec": {
   "display_name": "R",
   "language": "R",
   "name": "ir"
  },
  "language_info": {
   "codemirror_mode": "r",
   "file_extension": ".r",
   "mimetype": "text/x-r-source",
   "name": "R",
   "pygments_lexer": "r",
   "version": "4.2.1"
  }
 },
 "nbformat": 4,
 "nbformat_minor": 4
}
