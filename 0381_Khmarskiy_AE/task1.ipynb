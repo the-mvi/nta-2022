{
 "cells": [
  {
   "cell_type": "markdown",
   "metadata": {
    "pycharm": {
     "name": "#%% md\n"
    }
   },
   "source": [
    "# Практическая работа №1: Основы анализа и моделирования социальных сетей\n",
    "Выполнил студент гр. 0381 Хмарский Анатолий. Вариант №22"
   ]
  },
  {
   "cell_type": "markdown",
   "metadata": {
    "pycharm": {
     "name": "#%% md\n"
    }
   },
   "source": [
    "## Цель работы\n",
    "Овладеть навыками работы с математическими пакетами для моделирования, визуализации и анализа социальных сетей."
   ]
  },
  {
   "cell_type": "markdown",
   "metadata": {
    "pycharm": {
     "name": "#%% md\n"
    }
   },
   "source": [
    "## Основные теоретические положения\n",
    "\n",
    "**Актор** - дискретная индивидуальная, корпоративная или коллективная единица.\n",
    "\n",
    "**Социоматрица** - матрица X арзмером g x g, описывающая смежные узлы в сети. Используется для представления сети.\n",
    "\n",
    "**Размер сети** - количество акторов в сети.\n",
    "\n",
    "**Плотность сети** - доля имеющихся связей по отношению к максимально возможному количеству связей. \n",
    "\n",
    "Для ориентированных сетей:\n",
    "$$\\Delta=\\frac{L}{A\\binom{2}{g}}$$\n",
    "\n",
    "Для неориентированных сетей:\n",
    "$$\\Delta=\\frac{L}{\\binom{g}{2}}$$,\n",
    "\n",
    "где L- имеющиеся связи в сети.\n",
    "\n",
    "**Компонента сети** - подгруппа, в которой все акторы связаны друг с другом прямо или косвенно.\n",
    "\n",
    "**Диаметр полной сети** - наибольшая длина любого из кратчайших путей между всеми парами узлов.\n",
    "\n",
    "**Степень узла** - число прямых, инцидентных данному узлу. Для ориентированных делится на входящую стпень и исходящую степень.\n",
    "\n",
    "Средняя степень узлов:\n",
    "$$\\overline{d}=\\frac{1}{g}\\sum_{i=1}^{g} d(n_i)$$\n",
    "Дисперсия степеней узлов:\n",
    "$$S_{D}^{2}=\\frac{1}{g}\\sum_{i=1}^{g} (d(n_i) - \\overline{d})^2$$\n",
    "\n",
    "\n",
    "**Центральность** - мера, характеризующая актор с большим количеством связей (прямых или косвенных)\n",
    "$$C_{A}(n_{i}), i=1,...g$$\n",
    "\n",
    "**Престиж** - мера, характеризующая актор с большим количеством входящих связей\n",
    "$$P_{A}(n_{i}), i=1...g$$\n",
    "\n",
    "**Индекс централизации**:\n",
    "$$C_{A}=\\frac{\\sum_{i=1}^{g}[C_{A}(n^{*} - C_{A}(n_{i}]}{max \\sum_{i=1}^{g}[C_{A}(n^{*} - C_{A}(N_{i}]}$$\n",
    "\n",
    "**Центральность по степени** - степень каждого актора.\n",
    "$$C_{D}(n_{i})=d(n_{i})$$\n",
    "\n",
    "**Нормированная центральность по степени**:\n",
    "$$C'_{D}(n_{i})=\\frac{d(n_{i})}{g-1}$$\n",
    "\n",
    "**Централизация по степени**:\n",
    "$$C_{D}=\\frac{\\sum_{i=1}^{g}[C_{D}(n^{*} - C_{D}(n_{i}]}{(g-1)(g-2)}$$\n",
    "\n",
    "**Центральность по близости** - более важными узлами считаются узлы, наиболее близкие к остальным узлам, если:\n",
    "$$C_{C}(n_{i})=(\\sum_{i=1}^{g}{d(n_{i}, n_{j}})^{-1},$$\n",
    "\n",
    "**Нормированная центральность по близости**:\n",
    "$$C_{C}'(n_{i})=\\frac{g-1}{\\sum_{i=1}^{g}{d(n_{i}, n_{j})}},$$\n",
    "\n",
    "**Централизация по близости**:\n",
    "$$C_{C}=\\frac{\\sum_{i=1}^{g}[C_{C}'(n^{*}) - C_{C}'(n_{i})]}{(g-1)(g-2)/(2g-3)}$$\n",
    "\n",
    "**Центральность по посредничеству** характеризует, насколько важную роль данный узел играет на пути между парами других узлов сети, в том смысле, что пути между другими узлами должны проходить через данный узел.\n",
    "$$C_{B}(n_{i})=\\sum_{j<k}{g_{jk}(n_{i})/g_{jk}}$$\n",
    "\n",
    "**Нормированная центральность по посредничеству**:\n",
    "$$C_{B}'(n_{i})=\\frac{C_{B}(n_{i})}{\\binom{g-1}{2}},$$\n",
    "\n",
    "**Централизация по посредничеству**:\n",
    "$$C_{B}=\\frac{\\sum_{i=1}^{g}[C_{B}'(n^{*} - C_{B}'(n_{i}]}{(g-1)}$$\n",
    "\n",
    "**Центральность по информации** показывает, сколько информации содержится в путях, которые начинаются и заканчиваются у определенного актора.\n",
    "\n",
    "**Централизация по информации**:\n",
    "$$S_{I}^2=\\frac{1}{g}\\sum_{i=1}{g}(C_{I}^{`}(n_{i})-\\overline{C_{I}})^2$$\n",
    "\n",
    "**Престиж** - мера, характеризующая актора с большим количеством входящих связей.\n",
    "\n",
    "**Престиж по степени** - входящая степень каждого узла.\n",
    "\n",
    "$$P_{D}(n_{i})=d_{in}(n_{i})=x_{+i}$$\n",
    "\n",
    "**Нормированный престиж по степени**:\n",
    "$$P'_{D}(n_{i})=\\frac{x_{+i}}{g-1}$$\n",
    "\n",
    "**Престиж по близости** определяет, насколько все акторы близки к заданному по расстоянию до него.\n",
    "$$P_{p}(n_{i})=\\frac{\\#I_{i}/(g-1)}{\\sum_{j:n_{j}\\in I_{i}}[d(n_{j}, n_{i})/\\#I_{i}]}$$\n",
    "\n",
    "**Мост** - ребро, при удалении которого одна компонента разделяется на две\n",
    "\n",
    "**Точка сочленения** - узел, при удалении которого увеличивается число компонент связности."
   ]
  },
  {
   "cell_type": "markdown",
   "metadata": {
    "pycharm": {
     "name": "#%% md\n"
    }
   },
   "source": [
    "## Постановка задачи\n",
    "С помощью математических пакетов и соответствующих библиотек провести анализ заданных социальных сетей, вычислить описательные характеристики. Полученные результаты содержательно проинтерпретировать."
   ]
  },
  {
   "cell_type": "markdown",
   "metadata": {
    "pycharm": {
     "name": "#%% md\n"
    }
   },
   "source": [
    "## Выполнение работы\n",
    "Каждый пункт работы (*по возможности*) выполняется с помощью кода.\n",
    "Рекомендованные языки программирования – R или Python."
   ]
  },
  {
   "cell_type": "code",
   "execution_count": 123,
   "metadata": {
    "pycharm": {
     "name": "#%%\n"
    }
   },
   "outputs": [],
   "source": [
    "#подключение библиотек\n",
    "library(network)\n",
    "library(igraph)\n",
    "library(sna)"
   ]
  },
  {
   "cell_type": "markdown",
   "metadata": {
    "pycharm": {
     "name": "#%% md\n"
    }
   },
   "source": [
    "1. Извлечена и выведена социоматрица для данных из файла florentine_marital.csv."
   ]
  },
  {
   "cell_type": "code",
   "execution_count": 124,
   "metadata": {
    "pycharm": {
     "name": "#%%\n"
    }
   },
   "outputs": [
    {
     "data": {
      "text/html": [
       "<table class=\"dataframe\">\n",
       "<caption>A matrix: 16 × 16 of type int</caption>\n",
       "<thead>\n",
       "\t<tr><th scope=col>Acciaiuoli</th><th scope=col>Albizzi</th><th scope=col>Barbadori</th><th scope=col>Bischeri</th><th scope=col>Castellani</th><th scope=col>Ginori</th><th scope=col>Guadagni</th><th scope=col>Lamberteschi</th><th scope=col>Medici</th><th scope=col>Pazzi</th><th scope=col>Peruzzi</th><th scope=col>Pucci</th><th scope=col>Ridolfi</th><th scope=col>Salviati</th><th scope=col>Strozzi</th><th scope=col>Tornabuoni</th></tr>\n",
       "</thead>\n",
       "<tbody>\n",
       "\t<tr><td>0</td><td>0</td><td>0</td><td>0</td><td>0</td><td>0</td><td>0</td><td>0</td><td>1</td><td>0</td><td>0</td><td>0</td><td>0</td><td>0</td><td>0</td><td>0</td></tr>\n",
       "\t<tr><td>0</td><td>0</td><td>0</td><td>0</td><td>0</td><td>1</td><td>1</td><td>0</td><td>1</td><td>0</td><td>0</td><td>0</td><td>0</td><td>0</td><td>0</td><td>0</td></tr>\n",
       "\t<tr><td>0</td><td>0</td><td>0</td><td>0</td><td>1</td><td>0</td><td>0</td><td>0</td><td>1</td><td>0</td><td>0</td><td>0</td><td>0</td><td>0</td><td>0</td><td>0</td></tr>\n",
       "\t<tr><td>0</td><td>0</td><td>0</td><td>0</td><td>0</td><td>0</td><td>1</td><td>0</td><td>0</td><td>0</td><td>1</td><td>0</td><td>0</td><td>0</td><td>1</td><td>0</td></tr>\n",
       "\t<tr><td>0</td><td>0</td><td>1</td><td>0</td><td>0</td><td>0</td><td>0</td><td>0</td><td>0</td><td>0</td><td>1</td><td>0</td><td>0</td><td>0</td><td>1</td><td>0</td></tr>\n",
       "\t<tr><td>0</td><td>1</td><td>0</td><td>0</td><td>0</td><td>0</td><td>0</td><td>0</td><td>0</td><td>0</td><td>0</td><td>0</td><td>0</td><td>0</td><td>0</td><td>0</td></tr>\n",
       "\t<tr><td>0</td><td>1</td><td>0</td><td>1</td><td>0</td><td>0</td><td>0</td><td>1</td><td>0</td><td>0</td><td>0</td><td>0</td><td>0</td><td>0</td><td>0</td><td>1</td></tr>\n",
       "\t<tr><td>0</td><td>0</td><td>0</td><td>0</td><td>0</td><td>0</td><td>1</td><td>0</td><td>0</td><td>0</td><td>0</td><td>0</td><td>0</td><td>0</td><td>0</td><td>0</td></tr>\n",
       "\t<tr><td>1</td><td>1</td><td>1</td><td>0</td><td>0</td><td>0</td><td>0</td><td>0</td><td>0</td><td>0</td><td>0</td><td>0</td><td>1</td><td>1</td><td>0</td><td>1</td></tr>\n",
       "\t<tr><td>0</td><td>0</td><td>0</td><td>0</td><td>0</td><td>0</td><td>0</td><td>0</td><td>0</td><td>0</td><td>0</td><td>0</td><td>0</td><td>1</td><td>0</td><td>0</td></tr>\n",
       "\t<tr><td>0</td><td>0</td><td>0</td><td>1</td><td>1</td><td>0</td><td>0</td><td>0</td><td>0</td><td>0</td><td>0</td><td>0</td><td>0</td><td>0</td><td>1</td><td>0</td></tr>\n",
       "\t<tr><td>0</td><td>0</td><td>0</td><td>0</td><td>0</td><td>0</td><td>0</td><td>0</td><td>0</td><td>0</td><td>0</td><td>0</td><td>0</td><td>0</td><td>0</td><td>0</td></tr>\n",
       "\t<tr><td>0</td><td>0</td><td>0</td><td>0</td><td>0</td><td>0</td><td>0</td><td>0</td><td>1</td><td>0</td><td>0</td><td>0</td><td>0</td><td>0</td><td>1</td><td>1</td></tr>\n",
       "\t<tr><td>0</td><td>0</td><td>0</td><td>0</td><td>0</td><td>0</td><td>0</td><td>0</td><td>1</td><td>1</td><td>0</td><td>0</td><td>0</td><td>0</td><td>0</td><td>0</td></tr>\n",
       "\t<tr><td>0</td><td>0</td><td>0</td><td>1</td><td>1</td><td>0</td><td>0</td><td>0</td><td>0</td><td>0</td><td>1</td><td>0</td><td>1</td><td>0</td><td>0</td><td>0</td></tr>\n",
       "\t<tr><td>0</td><td>0</td><td>0</td><td>0</td><td>0</td><td>0</td><td>1</td><td>0</td><td>1</td><td>0</td><td>0</td><td>0</td><td>1</td><td>0</td><td>0</td><td>0</td></tr>\n",
       "</tbody>\n",
       "</table>\n"
      ],
      "text/latex": [
       "A matrix: 16 × 16 of type int\n",
       "\\begin{tabular}{llllllllllllllll}\n",
       " Acciaiuoli & Albizzi & Barbadori & Bischeri & Castellani & Ginori & Guadagni & Lamberteschi & Medici & Pazzi & Peruzzi & Pucci & Ridolfi & Salviati & Strozzi & Tornabuoni\\\\\n",
       "\\hline\n",
       "\t 0 & 0 & 0 & 0 & 0 & 0 & 0 & 0 & 1 & 0 & 0 & 0 & 0 & 0 & 0 & 0\\\\\n",
       "\t 0 & 0 & 0 & 0 & 0 & 1 & 1 & 0 & 1 & 0 & 0 & 0 & 0 & 0 & 0 & 0\\\\\n",
       "\t 0 & 0 & 0 & 0 & 1 & 0 & 0 & 0 & 1 & 0 & 0 & 0 & 0 & 0 & 0 & 0\\\\\n",
       "\t 0 & 0 & 0 & 0 & 0 & 0 & 1 & 0 & 0 & 0 & 1 & 0 & 0 & 0 & 1 & 0\\\\\n",
       "\t 0 & 0 & 1 & 0 & 0 & 0 & 0 & 0 & 0 & 0 & 1 & 0 & 0 & 0 & 1 & 0\\\\\n",
       "\t 0 & 1 & 0 & 0 & 0 & 0 & 0 & 0 & 0 & 0 & 0 & 0 & 0 & 0 & 0 & 0\\\\\n",
       "\t 0 & 1 & 0 & 1 & 0 & 0 & 0 & 1 & 0 & 0 & 0 & 0 & 0 & 0 & 0 & 1\\\\\n",
       "\t 0 & 0 & 0 & 0 & 0 & 0 & 1 & 0 & 0 & 0 & 0 & 0 & 0 & 0 & 0 & 0\\\\\n",
       "\t 1 & 1 & 1 & 0 & 0 & 0 & 0 & 0 & 0 & 0 & 0 & 0 & 1 & 1 & 0 & 1\\\\\n",
       "\t 0 & 0 & 0 & 0 & 0 & 0 & 0 & 0 & 0 & 0 & 0 & 0 & 0 & 1 & 0 & 0\\\\\n",
       "\t 0 & 0 & 0 & 1 & 1 & 0 & 0 & 0 & 0 & 0 & 0 & 0 & 0 & 0 & 1 & 0\\\\\n",
       "\t 0 & 0 & 0 & 0 & 0 & 0 & 0 & 0 & 0 & 0 & 0 & 0 & 0 & 0 & 0 & 0\\\\\n",
       "\t 0 & 0 & 0 & 0 & 0 & 0 & 0 & 0 & 1 & 0 & 0 & 0 & 0 & 0 & 1 & 1\\\\\n",
       "\t 0 & 0 & 0 & 0 & 0 & 0 & 0 & 0 & 1 & 1 & 0 & 0 & 0 & 0 & 0 & 0\\\\\n",
       "\t 0 & 0 & 0 & 1 & 1 & 0 & 0 & 0 & 0 & 0 & 1 & 0 & 1 & 0 & 0 & 0\\\\\n",
       "\t 0 & 0 & 0 & 0 & 0 & 0 & 1 & 0 & 1 & 0 & 0 & 0 & 1 & 0 & 0 & 0\\\\\n",
       "\\end{tabular}\n"
      ],
      "text/markdown": [
       "\n",
       "A matrix: 16 × 16 of type int\n",
       "\n",
       "| Acciaiuoli | Albizzi | Barbadori | Bischeri | Castellani | Ginori | Guadagni | Lamberteschi | Medici | Pazzi | Peruzzi | Pucci | Ridolfi | Salviati | Strozzi | Tornabuoni |\n",
       "|---|---|---|---|---|---|---|---|---|---|---|---|---|---|---|---|\n",
       "| 0 | 0 | 0 | 0 | 0 | 0 | 0 | 0 | 1 | 0 | 0 | 0 | 0 | 0 | 0 | 0 |\n",
       "| 0 | 0 | 0 | 0 | 0 | 1 | 1 | 0 | 1 | 0 | 0 | 0 | 0 | 0 | 0 | 0 |\n",
       "| 0 | 0 | 0 | 0 | 1 | 0 | 0 | 0 | 1 | 0 | 0 | 0 | 0 | 0 | 0 | 0 |\n",
       "| 0 | 0 | 0 | 0 | 0 | 0 | 1 | 0 | 0 | 0 | 1 | 0 | 0 | 0 | 1 | 0 |\n",
       "| 0 | 0 | 1 | 0 | 0 | 0 | 0 | 0 | 0 | 0 | 1 | 0 | 0 | 0 | 1 | 0 |\n",
       "| 0 | 1 | 0 | 0 | 0 | 0 | 0 | 0 | 0 | 0 | 0 | 0 | 0 | 0 | 0 | 0 |\n",
       "| 0 | 1 | 0 | 1 | 0 | 0 | 0 | 1 | 0 | 0 | 0 | 0 | 0 | 0 | 0 | 1 |\n",
       "| 0 | 0 | 0 | 0 | 0 | 0 | 1 | 0 | 0 | 0 | 0 | 0 | 0 | 0 | 0 | 0 |\n",
       "| 1 | 1 | 1 | 0 | 0 | 0 | 0 | 0 | 0 | 0 | 0 | 0 | 1 | 1 | 0 | 1 |\n",
       "| 0 | 0 | 0 | 0 | 0 | 0 | 0 | 0 | 0 | 0 | 0 | 0 | 0 | 1 | 0 | 0 |\n",
       "| 0 | 0 | 0 | 1 | 1 | 0 | 0 | 0 | 0 | 0 | 0 | 0 | 0 | 0 | 1 | 0 |\n",
       "| 0 | 0 | 0 | 0 | 0 | 0 | 0 | 0 | 0 | 0 | 0 | 0 | 0 | 0 | 0 | 0 |\n",
       "| 0 | 0 | 0 | 0 | 0 | 0 | 0 | 0 | 1 | 0 | 0 | 0 | 0 | 0 | 1 | 1 |\n",
       "| 0 | 0 | 0 | 0 | 0 | 0 | 0 | 0 | 1 | 1 | 0 | 0 | 0 | 0 | 0 | 0 |\n",
       "| 0 | 0 | 0 | 1 | 1 | 0 | 0 | 0 | 0 | 0 | 1 | 0 | 1 | 0 | 0 | 0 |\n",
       "| 0 | 0 | 0 | 0 | 0 | 0 | 1 | 0 | 1 | 0 | 0 | 0 | 1 | 0 | 0 | 0 |\n",
       "\n"
      ],
      "text/plain": [
       "      Acciaiuoli Albizzi Barbadori Bischeri Castellani Ginori Guadagni\n",
       " [1,] 0          0       0         0        0          0      0       \n",
       " [2,] 0          0       0         0        0          1      1       \n",
       " [3,] 0          0       0         0        1          0      0       \n",
       " [4,] 0          0       0         0        0          0      1       \n",
       " [5,] 0          0       1         0        0          0      0       \n",
       " [6,] 0          1       0         0        0          0      0       \n",
       " [7,] 0          1       0         1        0          0      0       \n",
       " [8,] 0          0       0         0        0          0      1       \n",
       " [9,] 1          1       1         0        0          0      0       \n",
       "[10,] 0          0       0         0        0          0      0       \n",
       "[11,] 0          0       0         1        1          0      0       \n",
       "[12,] 0          0       0         0        0          0      0       \n",
       "[13,] 0          0       0         0        0          0      0       \n",
       "[14,] 0          0       0         0        0          0      0       \n",
       "[15,] 0          0       0         1        1          0      0       \n",
       "[16,] 0          0       0         0        0          0      1       \n",
       "      Lamberteschi Medici Pazzi Peruzzi Pucci Ridolfi Salviati Strozzi\n",
       " [1,] 0            1      0     0       0     0       0        0      \n",
       " [2,] 0            1      0     0       0     0       0        0      \n",
       " [3,] 0            1      0     0       0     0       0        0      \n",
       " [4,] 0            0      0     1       0     0       0        1      \n",
       " [5,] 0            0      0     1       0     0       0        1      \n",
       " [6,] 0            0      0     0       0     0       0        0      \n",
       " [7,] 1            0      0     0       0     0       0        0      \n",
       " [8,] 0            0      0     0       0     0       0        0      \n",
       " [9,] 0            0      0     0       0     1       1        0      \n",
       "[10,] 0            0      0     0       0     0       1        0      \n",
       "[11,] 0            0      0     0       0     0       0        1      \n",
       "[12,] 0            0      0     0       0     0       0        0      \n",
       "[13,] 0            1      0     0       0     0       0        1      \n",
       "[14,] 0            1      1     0       0     0       0        0      \n",
       "[15,] 0            0      0     1       0     1       0        0      \n",
       "[16,] 0            1      0     0       0     1       0        0      \n",
       "      Tornabuoni\n",
       " [1,] 0         \n",
       " [2,] 0         \n",
       " [3,] 0         \n",
       " [4,] 0         \n",
       " [5,] 0         \n",
       " [6,] 0         \n",
       " [7,] 1         \n",
       " [8,] 0         \n",
       " [9,] 1         \n",
       "[10,] 0         \n",
       "[11,] 0         \n",
       "[12,] 0         \n",
       "[13,] 1         \n",
       "[14,] 0         \n",
       "[15,] 0         \n",
       "[16,] 0         "
      ]
     },
     "metadata": {},
     "output_type": "display_data"
    }
   ],
   "source": [
    "file <- read.csv(\"./data1/florentine_marital.csv\",skip=1)\n",
    "sociomatrix <- data.matrix(file)\n",
    "sociomatrix"
   ]
  },
  {
   "cell_type": "markdown",
   "metadata": {
    "pycharm": {
     "name": "#%% md\n"
    }
   },
   "source": [
    "2. Социоматрица преобразована в список ребер. Выведены первые 5 элементов."
   ]
  },
  {
   "cell_type": "code",
   "execution_count": 125,
   "metadata": {
    "pycharm": {
     "name": "#%%\n"
    }
   },
   "outputs": [
    {
     "data": {
      "text/html": [
       "<table class=\"dataframe\">\n",
       "<caption>A matrix: 5 × 2 of type chr</caption>\n",
       "<tbody>\n",
       "\t<tr><td>Acciaiuoli</td><td>Medici    </td></tr>\n",
       "\t<tr><td>Albizzi   </td><td>Ginori    </td></tr>\n",
       "\t<tr><td>Albizzi   </td><td>Guadagni  </td></tr>\n",
       "\t<tr><td>Albizzi   </td><td>Medici    </td></tr>\n",
       "\t<tr><td>Barbadori </td><td>Castellani</td></tr>\n",
       "</tbody>\n",
       "</table>\n"
      ],
      "text/latex": [
       "A matrix: 5 × 2 of type chr\n",
       "\\begin{tabular}{ll}\n",
       "\t Acciaiuoli & Medici    \\\\\n",
       "\t Albizzi    & Ginori    \\\\\n",
       "\t Albizzi    & Guadagni  \\\\\n",
       "\t Albizzi    & Medici    \\\\\n",
       "\t Barbadori  & Castellani\\\\\n",
       "\\end{tabular}\n"
      ],
      "text/markdown": [
       "\n",
       "A matrix: 5 × 2 of type chr\n",
       "\n",
       "| Acciaiuoli | Medici     |\n",
       "| Albizzi    | Ginori     |\n",
       "| Albizzi    | Guadagni   |\n",
       "| Albizzi    | Medici     |\n",
       "| Barbadori  | Castellani |\n",
       "\n"
      ],
      "text/plain": [
       "     [,1]       [,2]      \n",
       "[1,] Acciaiuoli Medici    \n",
       "[2,] Albizzi    Ginori    \n",
       "[3,] Albizzi    Guadagni  \n",
       "[4,] Albizzi    Medici    \n",
       "[5,] Barbadori  Castellani"
      ]
     },
     "metadata": {},
     "output_type": "display_data"
    }
   ],
   "source": [
    "gr <- graph.adjacency(sociomatrix, mode=\"undirected\")\n",
    "edges <- get.edgelist(gr)\n",
    "head(edges, 5)"
   ]
  },
  {
   "cell_type": "markdown",
   "metadata": {
    "pycharm": {
     "name": "#%% md\n"
    }
   },
   "source": [
    "3. Присвоены имена столбцам и строкам."
   ]
  },
  {
   "cell_type": "code",
   "execution_count": 126,
   "metadata": {
    "pycharm": {
     "name": "#%%\n"
    }
   },
   "outputs": [
    {
     "data": {
      "text/html": [
       "<table class=\"dataframe\">\n",
       "<caption>A matrix: 16 × 16 of type int</caption>\n",
       "<thead>\n",
       "\t<tr><th></th><th scope=col>Acciaiuoli</th><th scope=col> Albizzi</th><th scope=col> Barbadori</th><th scope=col> Bischeri</th><th scope=col> Castellani</th><th scope=col> Ginori</th><th scope=col> Guadagni</th><th scope=col> Lamberteschi</th><th scope=col> Medici</th><th scope=col> Pazzi</th><th scope=col> Peruzzi</th><th scope=col> Pucci</th><th scope=col> Ridolfi</th><th scope=col> Salviati</th><th scope=col> Strozzi</th><th scope=col> Tornabuoni</th></tr>\n",
       "</thead>\n",
       "<tbody>\n",
       "\t<tr><th scope=row>Acciaiuoli</th><td>0</td><td>0</td><td>0</td><td>0</td><td>0</td><td>0</td><td>0</td><td>0</td><td>1</td><td>0</td><td>0</td><td>0</td><td>0</td><td>0</td><td>0</td><td>0</td></tr>\n",
       "\t<tr><th scope=row> Albizzi</th><td>0</td><td>0</td><td>0</td><td>0</td><td>0</td><td>1</td><td>1</td><td>0</td><td>1</td><td>0</td><td>0</td><td>0</td><td>0</td><td>0</td><td>0</td><td>0</td></tr>\n",
       "\t<tr><th scope=row> Barbadori</th><td>0</td><td>0</td><td>0</td><td>0</td><td>1</td><td>0</td><td>0</td><td>0</td><td>1</td><td>0</td><td>0</td><td>0</td><td>0</td><td>0</td><td>0</td><td>0</td></tr>\n",
       "\t<tr><th scope=row> Bischeri</th><td>0</td><td>0</td><td>0</td><td>0</td><td>0</td><td>0</td><td>1</td><td>0</td><td>0</td><td>0</td><td>1</td><td>0</td><td>0</td><td>0</td><td>1</td><td>0</td></tr>\n",
       "\t<tr><th scope=row> Castellani</th><td>0</td><td>0</td><td>1</td><td>0</td><td>0</td><td>0</td><td>0</td><td>0</td><td>0</td><td>0</td><td>1</td><td>0</td><td>0</td><td>0</td><td>1</td><td>0</td></tr>\n",
       "\t<tr><th scope=row> Ginori</th><td>0</td><td>1</td><td>0</td><td>0</td><td>0</td><td>0</td><td>0</td><td>0</td><td>0</td><td>0</td><td>0</td><td>0</td><td>0</td><td>0</td><td>0</td><td>0</td></tr>\n",
       "\t<tr><th scope=row> Guadagni</th><td>0</td><td>1</td><td>0</td><td>1</td><td>0</td><td>0</td><td>0</td><td>1</td><td>0</td><td>0</td><td>0</td><td>0</td><td>0</td><td>0</td><td>0</td><td>1</td></tr>\n",
       "\t<tr><th scope=row> Lamberteschi</th><td>0</td><td>0</td><td>0</td><td>0</td><td>0</td><td>0</td><td>1</td><td>0</td><td>0</td><td>0</td><td>0</td><td>0</td><td>0</td><td>0</td><td>0</td><td>0</td></tr>\n",
       "\t<tr><th scope=row> Medici</th><td>1</td><td>1</td><td>1</td><td>0</td><td>0</td><td>0</td><td>0</td><td>0</td><td>0</td><td>0</td><td>0</td><td>0</td><td>1</td><td>1</td><td>0</td><td>1</td></tr>\n",
       "\t<tr><th scope=row> Pazzi</th><td>0</td><td>0</td><td>0</td><td>0</td><td>0</td><td>0</td><td>0</td><td>0</td><td>0</td><td>0</td><td>0</td><td>0</td><td>0</td><td>1</td><td>0</td><td>0</td></tr>\n",
       "\t<tr><th scope=row> Peruzzi</th><td>0</td><td>0</td><td>0</td><td>1</td><td>1</td><td>0</td><td>0</td><td>0</td><td>0</td><td>0</td><td>0</td><td>0</td><td>0</td><td>0</td><td>1</td><td>0</td></tr>\n",
       "\t<tr><th scope=row> Pucci</th><td>0</td><td>0</td><td>0</td><td>0</td><td>0</td><td>0</td><td>0</td><td>0</td><td>0</td><td>0</td><td>0</td><td>0</td><td>0</td><td>0</td><td>0</td><td>0</td></tr>\n",
       "\t<tr><th scope=row> Ridolfi</th><td>0</td><td>0</td><td>0</td><td>0</td><td>0</td><td>0</td><td>0</td><td>0</td><td>1</td><td>0</td><td>0</td><td>0</td><td>0</td><td>0</td><td>1</td><td>1</td></tr>\n",
       "\t<tr><th scope=row> Salviati</th><td>0</td><td>0</td><td>0</td><td>0</td><td>0</td><td>0</td><td>0</td><td>0</td><td>1</td><td>1</td><td>0</td><td>0</td><td>0</td><td>0</td><td>0</td><td>0</td></tr>\n",
       "\t<tr><th scope=row> Strozzi</th><td>0</td><td>0</td><td>0</td><td>1</td><td>1</td><td>0</td><td>0</td><td>0</td><td>0</td><td>0</td><td>1</td><td>0</td><td>1</td><td>0</td><td>0</td><td>0</td></tr>\n",
       "\t<tr><th scope=row> Tornabuoni</th><td>0</td><td>0</td><td>0</td><td>0</td><td>0</td><td>0</td><td>1</td><td>0</td><td>1</td><td>0</td><td>0</td><td>0</td><td>1</td><td>0</td><td>0</td><td>0</td></tr>\n",
       "</tbody>\n",
       "</table>\n"
      ],
      "text/latex": [
       "A matrix: 16 × 16 of type int\n",
       "\\begin{tabular}{r|llllllllllllllll}\n",
       "  & Acciaiuoli &  Albizzi &  Barbadori &  Bischeri &  Castellani &  Ginori &  Guadagni &  Lamberteschi &  Medici &  Pazzi &  Peruzzi &  Pucci &  Ridolfi &  Salviati &  Strozzi &  Tornabuoni\\\\\n",
       "\\hline\n",
       "\tAcciaiuoli & 0 & 0 & 0 & 0 & 0 & 0 & 0 & 0 & 1 & 0 & 0 & 0 & 0 & 0 & 0 & 0\\\\\n",
       "\t Albizzi & 0 & 0 & 0 & 0 & 0 & 1 & 1 & 0 & 1 & 0 & 0 & 0 & 0 & 0 & 0 & 0\\\\\n",
       "\t Barbadori & 0 & 0 & 0 & 0 & 1 & 0 & 0 & 0 & 1 & 0 & 0 & 0 & 0 & 0 & 0 & 0\\\\\n",
       "\t Bischeri & 0 & 0 & 0 & 0 & 0 & 0 & 1 & 0 & 0 & 0 & 1 & 0 & 0 & 0 & 1 & 0\\\\\n",
       "\t Castellani & 0 & 0 & 1 & 0 & 0 & 0 & 0 & 0 & 0 & 0 & 1 & 0 & 0 & 0 & 1 & 0\\\\\n",
       "\t Ginori & 0 & 1 & 0 & 0 & 0 & 0 & 0 & 0 & 0 & 0 & 0 & 0 & 0 & 0 & 0 & 0\\\\\n",
       "\t Guadagni & 0 & 1 & 0 & 1 & 0 & 0 & 0 & 1 & 0 & 0 & 0 & 0 & 0 & 0 & 0 & 1\\\\\n",
       "\t Lamberteschi & 0 & 0 & 0 & 0 & 0 & 0 & 1 & 0 & 0 & 0 & 0 & 0 & 0 & 0 & 0 & 0\\\\\n",
       "\t Medici & 1 & 1 & 1 & 0 & 0 & 0 & 0 & 0 & 0 & 0 & 0 & 0 & 1 & 1 & 0 & 1\\\\\n",
       "\t Pazzi & 0 & 0 & 0 & 0 & 0 & 0 & 0 & 0 & 0 & 0 & 0 & 0 & 0 & 1 & 0 & 0\\\\\n",
       "\t Peruzzi & 0 & 0 & 0 & 1 & 1 & 0 & 0 & 0 & 0 & 0 & 0 & 0 & 0 & 0 & 1 & 0\\\\\n",
       "\t Pucci & 0 & 0 & 0 & 0 & 0 & 0 & 0 & 0 & 0 & 0 & 0 & 0 & 0 & 0 & 0 & 0\\\\\n",
       "\t Ridolfi & 0 & 0 & 0 & 0 & 0 & 0 & 0 & 0 & 1 & 0 & 0 & 0 & 0 & 0 & 1 & 1\\\\\n",
       "\t Salviati & 0 & 0 & 0 & 0 & 0 & 0 & 0 & 0 & 1 & 1 & 0 & 0 & 0 & 0 & 0 & 0\\\\\n",
       "\t Strozzi & 0 & 0 & 0 & 1 & 1 & 0 & 0 & 0 & 0 & 0 & 1 & 0 & 1 & 0 & 0 & 0\\\\\n",
       "\t Tornabuoni & 0 & 0 & 0 & 0 & 0 & 0 & 1 & 0 & 1 & 0 & 0 & 0 & 1 & 0 & 0 & 0\\\\\n",
       "\\end{tabular}\n"
      ],
      "text/markdown": [
       "\n",
       "A matrix: 16 × 16 of type int\n",
       "\n",
       "| <!--/--> | Acciaiuoli |  Albizzi |  Barbadori |  Bischeri |  Castellani |  Ginori |  Guadagni |  Lamberteschi |  Medici |  Pazzi |  Peruzzi |  Pucci |  Ridolfi |  Salviati |  Strozzi |  Tornabuoni |\n",
       "|---|---|---|---|---|---|---|---|---|---|---|---|---|---|---|---|---|\n",
       "| Acciaiuoli | 0 | 0 | 0 | 0 | 0 | 0 | 0 | 0 | 1 | 0 | 0 | 0 | 0 | 0 | 0 | 0 |\n",
       "|  Albizzi | 0 | 0 | 0 | 0 | 0 | 1 | 1 | 0 | 1 | 0 | 0 | 0 | 0 | 0 | 0 | 0 |\n",
       "|  Barbadori | 0 | 0 | 0 | 0 | 1 | 0 | 0 | 0 | 1 | 0 | 0 | 0 | 0 | 0 | 0 | 0 |\n",
       "|  Bischeri | 0 | 0 | 0 | 0 | 0 | 0 | 1 | 0 | 0 | 0 | 1 | 0 | 0 | 0 | 1 | 0 |\n",
       "|  Castellani | 0 | 0 | 1 | 0 | 0 | 0 | 0 | 0 | 0 | 0 | 1 | 0 | 0 | 0 | 1 | 0 |\n",
       "|  Ginori | 0 | 1 | 0 | 0 | 0 | 0 | 0 | 0 | 0 | 0 | 0 | 0 | 0 | 0 | 0 | 0 |\n",
       "|  Guadagni | 0 | 1 | 0 | 1 | 0 | 0 | 0 | 1 | 0 | 0 | 0 | 0 | 0 | 0 | 0 | 1 |\n",
       "|  Lamberteschi | 0 | 0 | 0 | 0 | 0 | 0 | 1 | 0 | 0 | 0 | 0 | 0 | 0 | 0 | 0 | 0 |\n",
       "|  Medici | 1 | 1 | 1 | 0 | 0 | 0 | 0 | 0 | 0 | 0 | 0 | 0 | 1 | 1 | 0 | 1 |\n",
       "|  Pazzi | 0 | 0 | 0 | 0 | 0 | 0 | 0 | 0 | 0 | 0 | 0 | 0 | 0 | 1 | 0 | 0 |\n",
       "|  Peruzzi | 0 | 0 | 0 | 1 | 1 | 0 | 0 | 0 | 0 | 0 | 0 | 0 | 0 | 0 | 1 | 0 |\n",
       "|  Pucci | 0 | 0 | 0 | 0 | 0 | 0 | 0 | 0 | 0 | 0 | 0 | 0 | 0 | 0 | 0 | 0 |\n",
       "|  Ridolfi | 0 | 0 | 0 | 0 | 0 | 0 | 0 | 0 | 1 | 0 | 0 | 0 | 0 | 0 | 1 | 1 |\n",
       "|  Salviati | 0 | 0 | 0 | 0 | 0 | 0 | 0 | 0 | 1 | 1 | 0 | 0 | 0 | 0 | 0 | 0 |\n",
       "|  Strozzi | 0 | 0 | 0 | 1 | 1 | 0 | 0 | 0 | 0 | 0 | 1 | 0 | 1 | 0 | 0 | 0 |\n",
       "|  Tornabuoni | 0 | 0 | 0 | 0 | 0 | 0 | 1 | 0 | 1 | 0 | 0 | 0 | 1 | 0 | 0 | 0 |\n",
       "\n"
      ],
      "text/plain": [
       "              Acciaiuoli  Albizzi  Barbadori  Bischeri  Castellani  Ginori\n",
       "Acciaiuoli    0          0        0          0         0           0      \n",
       " Albizzi      0          0        0          0         0           1      \n",
       " Barbadori    0          0        0          0         1           0      \n",
       " Bischeri     0          0        0          0         0           0      \n",
       " Castellani   0          0        1          0         0           0      \n",
       " Ginori       0          1        0          0         0           0      \n",
       " Guadagni     0          1        0          1         0           0      \n",
       " Lamberteschi 0          0        0          0         0           0      \n",
       " Medici       1          1        1          0         0           0      \n",
       " Pazzi        0          0        0          0         0           0      \n",
       " Peruzzi      0          0        0          1         1           0      \n",
       " Pucci        0          0        0          0         0           0      \n",
       " Ridolfi      0          0        0          0         0           0      \n",
       " Salviati     0          0        0          0         0           0      \n",
       " Strozzi      0          0        0          1         1           0      \n",
       " Tornabuoni   0          0        0          0         0           0      \n",
       "               Guadagni  Lamberteschi  Medici  Pazzi  Peruzzi  Pucci  Ridolfi\n",
       "Acciaiuoli    0         0             1       0      0        0      0       \n",
       " Albizzi      1         0             1       0      0        0      0       \n",
       " Barbadori    0         0             1       0      0        0      0       \n",
       " Bischeri     1         0             0       0      1        0      0       \n",
       " Castellani   0         0             0       0      1        0      0       \n",
       " Ginori       0         0             0       0      0        0      0       \n",
       " Guadagni     0         1             0       0      0        0      0       \n",
       " Lamberteschi 1         0             0       0      0        0      0       \n",
       " Medici       0         0             0       0      0        0      1       \n",
       " Pazzi        0         0             0       0      0        0      0       \n",
       " Peruzzi      0         0             0       0      0        0      0       \n",
       " Pucci        0         0             0       0      0        0      0       \n",
       " Ridolfi      0         0             1       0      0        0      0       \n",
       " Salviati     0         0             1       1      0        0      0       \n",
       " Strozzi      0         0             0       0      1        0      1       \n",
       " Tornabuoni   1         0             1       0      0        0      1       \n",
       "               Salviati  Strozzi  Tornabuoni\n",
       "Acciaiuoli    0         0        0          \n",
       " Albizzi      0         0        0          \n",
       " Barbadori    0         0        0          \n",
       " Bischeri     0         1        0          \n",
       " Castellani   0         1        0          \n",
       " Ginori       0         0        0          \n",
       " Guadagni     0         0        1          \n",
       " Lamberteschi 0         0        0          \n",
       " Medici       1         0        1          \n",
       " Pazzi        1         0        0          \n",
       " Peruzzi      0         1        0          \n",
       " Pucci        0         0        0          \n",
       " Ridolfi      0         1        1          \n",
       " Salviati     0         0        0          \n",
       " Strozzi      0         0        0          \n",
       " Tornabuoni   0         0        0          "
      ]
     },
     "metadata": {},
     "output_type": "display_data"
    }
   ],
   "source": [
    "file <- read.csv('./data1/florentine_marital.csv', header = FALSE)\n",
    "\n",
    "rownames(sociomatrix) <- file[2,] #присвоение имен строкам\n",
    "colnames(sociomatrix) <- file[2,] #присовение имен столбцам\n",
    "sociomatrix"
   ]
  },
  {
   "cell_type": "markdown",
   "metadata": {
    "pycharm": {
     "name": "#%% md\n"
    }
   },
   "source": [
    "4. По социоматрице построена ненаправленная сеть. Функции передан параметр directed=FALSE, означающий, что нужно создать ненаправленную сеть."
   ]
  },
  {
   "cell_type": "code",
   "execution_count": 127,
   "metadata": {
    "pycharm": {
     "name": "#%%\n"
    }
   },
   "outputs": [],
   "source": [
    "net <- as.network(sociomatrix, directed=FALSE)\n",
    "network.vertex.names(net) <- file[2,]\n"
   ]
  },
  {
   "cell_type": "markdown",
   "metadata": {
    "pycharm": {
     "name": "#%% md\n"
    }
   },
   "source": [
    "5. Отображение алгоритмом Фрюхтермана–Рейнгольда и алгоритмом Камада-Каваии:"
   ]
  },
  {
   "cell_type": "code",
   "execution_count": 128,
   "metadata": {
    "pycharm": {
     "name": "#%%\n"
    }
   },
   "outputs": [
    {
     "data": {
      "image/png": "[encoded data removed]",
      "text/plain": [
       "Plot with title \"Fruchterman-Reingold\""
      ]
     },
     "metadata": {
      "image/png": {
       "height": 420,
       "width": 420
      }
     },
     "output_type": "display_data"
    },
    {
     "data": {
      "image/png": "[encoded data removed]",
      "text/plain": [
       "Plot with title \"Kamada-Kawai\""
      ]
     },
     "metadata": {
      "image/png": {
       "height": 420,
       "width": 420
      }
     },
     "output_type": "display_data"
    }
   ],
   "source": [
    "plot(gr,layout = layout.fruchterman.reingold,main=\"Fruchterman-Reingold\")\n",
    "plot(gr,layout = layout.kamada.kawai,main=\"Kamada-Kawai\")"
   ]
  },
  {
   "cell_type": "markdown",
   "metadata": {
    "pycharm": {
     "name": "#%% md\n"
    }
   },
   "source": [
    "Сравнение укладок:\n",
    "\n",
    "Оба эти алгоритма являются силовыми алгоритмами укладки.\n",
    "\n",
    "Различие алгоритмов:\n",
    "Алгоритм Фрюхтермана-Рейнгольда на каждой итерации применяет силу ко всем вершинам, а Комада-Каваи на каждой итерации применяет силу только к вершине с наибольшей силой."
   ]
  },
  {
   "cell_type": "markdown",
   "metadata": {
    "pycharm": {
     "name": "#%% md\n"
    }
   },
   "source": [
    "6. Описательная сводка сети:"
   ]
  },
  {
   "cell_type": "code",
   "execution_count": 129,
   "metadata": {
    "pycharm": {
     "name": "#%%\n"
    }
   },
   "outputs": [
    {
     "data": {
      "text/plain": [
       "Network attributes:\n",
       "  vertices = 16\n",
       "  directed = FALSE\n",
       "  hyper = FALSE\n",
       "  loops = FALSE\n",
       "  multiple = FALSE\n",
       "  bipartite = FALSE\n",
       " total edges = 20 \n",
       "   missing edges = 0 \n",
       "   non-missing edges = 20 \n",
       " density = 0.1666667 \n",
       "\n",
       "Vertex attributes:\n",
       "  vertex.names:\n",
       "   character valued attribute\n",
       "   16 valid vertex names\n",
       "\n",
       "No edge attributes"
      ]
     },
     "metadata": {},
     "output_type": "display_data"
    }
   ],
   "source": [
    "summary(net, print.adj = FALSE)"
   ]
  },
  {
   "cell_type": "markdown",
   "metadata": {
    "pycharm": {
     "name": "#%% md\n"
    }
   },
   "source": [
    "7. Вычисление \"пятичисловой сводки\" сети.\n",
    "\n",
    "Вычисленные вручную значения:\n",
    "\n",
    "Плотность сети: \n",
    "$$\\frac{20}{\\binom{16}{2}} = 0.167...$$\n",
    "\n",
    "Число компонент: 2 (из графов)"
   ]
  },
  {
   "cell_type": "code",
   "execution_count": 130,
   "metadata": {
    "pycharm": {
     "name": "#%%\n"
    }
   },
   "outputs": [
    {
     "name": "stdout",
     "output_type": "stream",
     "text": [
      "[1] \"Размер: 16\"\n",
      "[1] \"Плотность:  0.166666666666667\"\n",
      "[1] \"Компоненты:  2\"\n",
      "[1] \"Диаметр:  5\"\n",
      "[1] \"Коэффициент кластеризации:  0.191489361702128\"\n"
     ]
    }
   ],
   "source": [
    "print(paste('Размер:', network.size(net)))\n",
    "print(paste('Плотность: ', gden(net, mode=\"graph\")))\n",
    "print(paste('Компоненты: ', components(net)))\n",
    "\n",
    "largestComponent <- component.largest(net, result = \"graph\") \n",
    "geoDistances <- geodist(largestComponent) \n",
    "print(paste('Диаметр: ', max(geoDistances$gdist)))\n",
    "\n",
    "print(paste('Коэффициент кластеризации: ', gtrans(net, mode = \"graph\")))"
   ]
  },
  {
   "cell_type": "markdown",
   "metadata": {
    "pycharm": {
     "name": "#%% md\n"
    }
   },
   "source": [
    "Плотность сети относительно маленькая => в сети не так много связей между акторами.\n",
    "\n",
    "По графику видно 2 компоненты: 1 одиночный актор и 15 связанных между собой.\n",
    "\n",
    "Диаметр сети равен 5 => один актор связана с другим через не более чем 5 промежуточных акторов.\n"
   ]
  },
  {
   "cell_type": "markdown",
   "metadata": {
    "pycharm": {
     "name": "#%% md\n"
    }
   },
   "source": [
    "8. Вычисление средней степени узлов и дисперсии:"
   ]
  },
  {
   "cell_type": "code",
   "execution_count": 131,
   "metadata": {
    "pycharm": {
     "name": "#%%\n"
    }
   },
   "outputs": [
    {
     "name": "stdout",
     "output_type": "stream",
     "text": [
      "[1] \"Средняя степень узлов:  2.5\"\n",
      "[1] \"Дисперсия степеней узлов:  2.125\"\n"
     ]
    }
   ],
   "source": [
    "degreeVar <- function(net, meanDegree) { #дисперсия\n",
    "    return (1/network.size(net)*(sum((degree(net, gmode=\"graph\") - meanDegree)^2)))\n",
    "}\n",
    "\n",
    "\n",
    "meanDegree <- mean(degree(net, gmode=\"graph\"))\n",
    "print(paste('Средняя степень узлов: ', meanDegree))\n",
    "print(paste('Дисперсия степеней узлов: ', degreeVar(net, meanDegree)))"
   ]
  },
  {
   "cell_type": "markdown",
   "metadata": {
    "pycharm": {
     "name": "#%% md\n"
    }
   },
   "source": [
    "9. Заполнена таблица для различных мер центральности (для неизолированных вершин). Подсчет для компоненты связности, в которую входят все вершины, кроме Pucci, количество вершин: 15."
   ]
  },
  {
   "cell_type": "markdown",
   "metadata": {
    "pycharm": {
     "name": "#%% md\n"
    }
   },
   "source": [
    "| $$n_{i}$$    | $$C^{'}_{D}(n_{i})$$ | $$C^{'}_{C}(n_{i})$$ | $$C^{'}_{B}(n_{i})$$ | $$C^{'}_{I}(n_{i})$$ |\n",
    "|--------------|----------------------|----------------------|----------------------|----------------------|\n",
    "| Acciaiuoli   | 0.071                  | 0.368                | 0                    | 0.049                     |\n",
    "| Albizzi      | 0.214                    | 0.482                | 0.212                 | 0.074                     |\n",
    "| Barbadori    | 0.142                    | 0.438                | 0.093                  | 0.068                     |\n",
    "| Bischeri     | 0.214                    | 0.4                | 0.104                  | 0.074                     |\n",
    "| Castellani   | 0.214                    | 0.389                | 0.055                    | 0.071                     |\n",
    "| Ginori       | 0.071                    | 0.333                | 0                    | 0.043                     |\n",
    "| Guadagni     | 0.285                    | 0.467                | 0.255                | 0.081                     |\n",
    "| Lamberteschi | 0.071                    | 0.326                | 0                    | 0.046                     |\n",
    "| Medici       | 0.428                    | 0.56                | 0.522                 | 0.095                     |\n",
    "| Pazzi        | 0.071                    | 0.286                | 0                    | 0.035                     |\n",
    "| Peruzzi      | 0.21                    | 0.368                | 0.022                    | 0.069                     |\n",
    "| Ridolfi      | 0.214                    | 0.5                | 0.113                 | 0.080                     |\n",
    "| Salviati     | 0.142                    | 0.389                | 0.143                   | 0.053                     |\n",
    "| Strozzi      | 0.285                    | 0.438                | 0.103                  | 0.078                     |\n",
    "| Tornabuoni   | 0.214                    | 0.483                | 0.092                  | 0.081                     |\n",
    "\n",
    "Акторы, которые находятся в центре сети имеют наибольшую центральность. "
   ]
  },
  {
   "cell_type": "code",
   "execution_count": 132,
   "metadata": {
    "pycharm": {
     "name": "#%%\n"
    }
   },
   "outputs": [
    {
     "name": "stdout",
     "output_type": "stream",
     "text": [
      " [1] \"C_D: 0.0714285714285714\" \"C_D: 0.214285714285714\" \n",
      " [3] \"C_D: 0.142857142857143\"  \"C_D: 0.214285714285714\" \n",
      " [5] \"C_D: 0.214285714285714\"  \"C_D: 0.0714285714285714\"\n",
      " [7] \"C_D: 0.285714285714286\"  \"C_D: 0.0714285714285714\"\n",
      " [9] \"C_D: 0.428571428571429\"  \"C_D: 0.0714285714285714\"\n",
      "[11] \"C_D: 0.214285714285714\"  \"C_D: 0.214285714285714\" \n",
      "[13] \"C_D: 0.142857142857143\"  \"C_D: 0.285714285714286\" \n",
      "[15] \"C_D: 0.214285714285714\" \n",
      "\n",
      "\n",
      " [1] \"C_C: 0.368421052631579\" \"C_C: 0.482758620689655\" \"C_C: 0.4375\"           \n",
      " [4] \"C_C: 0.4\"               \"C_C: 0.388888888888889\" \"C_C: 0.333333333333333\"\n",
      " [7] \"C_C: 0.466666666666667\" \"C_C: 0.325581395348837\" \"C_C: 0.56\"             \n",
      "[10] \"C_C: 0.285714285714286\" \"C_C: 0.368421052631579\" \"C_C: 0.5\"              \n",
      "[13] \"C_C: 0.388888888888889\" \"C_C: 0.4375\"            \"C_C: 0.482758620689655\"\n",
      "\n",
      "\n",
      " [1] \"C_B: 0\"                  \"C_B: 0.212454212454212\" \n",
      " [3] \"C_B: 0.0934065934065934\" \"C_B: 0.104395604395604\" \n",
      " [5] \"C_B: 0.0549450549450549\" \"C_B: 0\"                 \n",
      " [7] \"C_B: 0.254578754578755\"  \"C_B: 0\"                 \n",
      " [9] \"C_B: 0.521978021978022\"  \"C_B: 0\"                 \n",
      "[11] \"C_B: 0.021978021978022\"  \"C_B: 0.113553113553114\" \n",
      "[13] \"C_B: 0.142857142857143\"  \"C_B: 0.102564102564103\" \n",
      "[15] \"C_B: 0.0915750915750916\"\n",
      "\n",
      "\n",
      " [1] \"C_I: 0.0494321482845677\" \"C_I: 0.0740848420737071\"\n",
      " [3] \"C_I: 0.0681665450916666\" \"C_I: 0.0742753090260589\"\n",
      " [5] \"C_I: 0.0709309825597622\" \"C_I: 0.0430947946621282\"\n",
      " [7] \"C_I: 0.0819047628818719\" \"C_I: 0.0456289246469136\"\n",
      " [9] \"C_I: 0.0950287683527528\" \"C_I: 0.0351579803378233\"\n",
      "[11] \"C_I: 0.0695377280669481\" \"C_I: 0.0804067780530598\"\n",
      "[13] \"C_I: 0.0533719783988921\" \"C_I: 0.0784115146224793\"\n",
      "[15] \"C_I: 0.0805669429413682\"\n"
     ]
    }
   ],
   "source": [
    "nopucci <- sociomatrix[-12,][, -12] \n",
    "\n",
    "gpucci <- graph.adjacency(nopucci, mode=\"undirected\") \n",
    "\n",
    "C_D <- centralization.degree(gpucci)$res/14 \n",
    "print(paste(\"C_D:\", C_D))\n",
    "\n",
    "cat('\\n\\n')\n",
    "C_C <- centralization.closeness(gpucci)$res\n",
    "print(paste(\"C_C:\", C_C))\n",
    "\n",
    "cat('\\n\\n')\n",
    "C_B <- centralization.betweenness(gpucci)$res/91\n",
    "print(paste(\"C_B:\", C_B))\n",
    "\n",
    "cat('\\n\\n')\n",
    "total <- sum(infocent(nopucci)) \n",
    "C_I <- infocent(nopucci)/total \n",
    "print(paste(\"C_I:\", C_I))"
   ]
  },
  {
   "cell_type": "markdown",
   "metadata": {
    "pycharm": {
     "name": "#%% md\n"
    }
   },
   "source": [
    "10. Вычислить значение централизации для каждой меры:\n",
    "\n",
    "$$C_{D}(n_{i})= 0.275$$ \n",
    "$$C_{C}(n_{i})=0.322$$\n",
    "$$C_{B}(n_{i})=0.437$$\n",
    "$$C_{I}(n_{i})=0.000277$$\n",
    "\n",
    "Централизация по степени, близости и информации не очень велика, что указывает на то, что между семьями с наибольшим количеством связей и остальными различие в количестве связей не слишком большое. В центральности по посредничеству эта разница больше."
   ]
  },
  {
   "cell_type": "code",
   "execution_count": 133,
   "metadata": {
    "pycharm": {
     "name": "#%%\n"
    }
   },
   "outputs": [
    {
     "data": {
      "text/html": [
       "0.274725274725275"
      ],
      "text/latex": [
       "0.274725274725275"
      ],
      "text/markdown": [
       "0.274725274725275"
      ],
      "text/plain": [
       "[1] 0.2747253"
      ]
     },
     "metadata": {},
     "output_type": "display_data"
    },
    {
     "data": {
      "text/html": [
       "0.32245227610961"
      ],
      "text/latex": [
       "0.32245227610961"
      ],
      "text/markdown": [
       "0.32245227610961"
      ],
      "text/plain": [
       "[1] 0.3224523"
      ]
     },
     "metadata": {},
     "output_type": "display_data"
    },
    {
     "data": {
      "text/html": [
       "0.436813186813187"
      ],
      "text/latex": [
       "0.436813186813187"
      ],
      "text/markdown": [
       "0.436813186813187"
      ],
      "text/plain": [
       "[1] 0.4368132"
      ]
     },
     "metadata": {},
     "output_type": "display_data"
    },
    {
     "data": {
      "text/html": [
       "0.000277530025354329"
      ],
      "text/latex": [
       "0.000277530025354329"
      ],
      "text/markdown": [
       "0.000277530025354329"
      ],
      "text/plain": [
       "[1] 0.00027753"
      ]
     },
     "metadata": {},
     "output_type": "display_data"
    }
   ],
   "source": [
    "degC <- centralization.degree(gpucci)$res #центральность по степени\n",
    "cent_D <- sum(max(degC) - degC)/(14*13) #централизация по степени\n",
    "cent_D\n",
    "cent_C <- sum(max(C_C) - C_C)/(14*13/(15*2-3)) #централизация по близости\n",
    "cent_C\n",
    "cent_B <- sum(max(C_B) - C_B)/14 #централизация по посредичеству\n",
    "cent_B\n",
    "cent_I <- 1/15 * sum((C_I - sum(C_I)/15)^2)\n",
    "cent_I"
   ]
  },
  {
   "cell_type": "markdown",
   "metadata": {
    "pycharm": {
     "name": "#%% md\n"
    }
   },
   "source": [
    "11. Выявить точки сочленения и мосты сети. Подтвердить свои догад-ки с помощью соответствующих функций (если их нет – реализуйте их самостоятельно). Построить график сети, на котором выделены точки сочленения и мосты.:\n",
    "\n",
    "Мосты: Pazzi-Salviati, Salviati-Medici, Acciauoli-Medici, Guadagni-Lamberteschi, ALbizzi-Ginori\n",
    "\n",
    "Точки сочленения: Albizzi, Medici, Salviati, Guadagni"
   ]
  },
  {
   "cell_type": "code",
   "execution_count": 134,
   "metadata": {
    "pycharm": {
     "name": "#%%\n"
    }
   },
   "outputs": [
    {
     "data": {
      "text/plain": [
       "+ 4/16 vertices, named, from 315b309:\n",
       "[1] Albizzi  Guadagni Medici   Salviati"
      ]
     },
     "metadata": {},
     "output_type": "display_data"
    },
    {
     "data": {
      "text/plain": [
       "+ 5/20 edges from 315b309 (vertex names):\n",
       "[1] Albizzi   --Ginori       Guadagni  --Lamberteschi Pazzi     --Salviati    \n",
       "[4] Medici    --Salviati     Acciaiuoli--Medici      "
      ]
     },
     "metadata": {},
     "output_type": "display_data"
    },
    {
     "data": {
      "image/png": "[encoded data removed]",
      "text/plain": [
       "Plot with title \"\""
      ]
     },
     "metadata": {
      "image/png": {
       "height": 420,
       "width": 420
      }
     },
     "output_type": "display_data"
    }
   ],
   "source": [
    "dots <- articulation_points(gr) \n",
    "dots\n",
    "bridgeEdges <- bridges(gr) #мосты\n",
    "bridgeEdges\n",
    "l <- layout.fruchterman.reingold(gr)\n",
    "V(gr)$color<-\"gray\"\n",
    "V(gr)$color[dots] <- \"red\" \n",
    "E(gr)$width <- 5\n",
    "E(gr)$color <- \"black\"  \n",
    "E(gr)$color[bridgeEdges] <- \"orange\" \n",
    "plot(gr, layout=l, )"
   ]
  },
  {
   "cell_type": "markdown",
   "metadata": {
    "pycharm": {
     "name": "#%% md\n"
    }
   },
   "source": [
    "12. Выполнены пункты 2-8 для направленной сети из файла krackhardt_friendship.csv:"
   ]
  },
  {
   "cell_type": "markdown",
   "metadata": {
    "pycharm": {
     "name": "#%% md\n"
    }
   },
   "source": [
    "12 Считана социоматрица. Матрица преобразована в список ребер. Выведены первые 5 элементов."
   ]
  },
  {
   "cell_type": "code",
   "execution_count": 135,
   "metadata": {
    "pycharm": {
     "name": "#%%\n"
    }
   },
   "outputs": [
    {
     "data": {
      "text/html": [
       "<table class=\"dataframe\">\n",
       "<caption>A matrix: 21 × 21 of type int</caption>\n",
       "<thead>\n",
       "\t<tr><th scope=col>V1</th><th scope=col>V2</th><th scope=col>V3</th><th scope=col>V4</th><th scope=col>V5</th><th scope=col>V6</th><th scope=col>V7</th><th scope=col>V8</th><th scope=col>V9</th><th scope=col>V10</th><th scope=col>⋯</th><th scope=col>V12</th><th scope=col>V13</th><th scope=col>V14</th><th scope=col>V15</th><th scope=col>V16</th><th scope=col>V17</th><th scope=col>V18</th><th scope=col>V19</th><th scope=col>V20</th><th scope=col>V21</th></tr>\n",
       "</thead>\n",
       "<tbody>\n",
       "\t<tr><td>0</td><td>1</td><td>0</td><td>1</td><td>0</td><td>0</td><td>0</td><td>1</td><td>0</td><td>0</td><td>⋯</td><td>1</td><td>0</td><td>0</td><td>0</td><td>1</td><td>0</td><td>0</td><td>0</td><td>0</td><td>0</td></tr>\n",
       "\t<tr><td>1</td><td>0</td><td>0</td><td>0</td><td>0</td><td>0</td><td>0</td><td>0</td><td>0</td><td>0</td><td>⋯</td><td>0</td><td>0</td><td>0</td><td>0</td><td>0</td><td>0</td><td>1</td><td>0</td><td>0</td><td>1</td></tr>\n",
       "\t<tr><td>0</td><td>0</td><td>0</td><td>0</td><td>0</td><td>0</td><td>0</td><td>0</td><td>0</td><td>0</td><td>⋯</td><td>0</td><td>0</td><td>1</td><td>0</td><td>0</td><td>0</td><td>0</td><td>1</td><td>0</td><td>0</td></tr>\n",
       "\t<tr><td>1</td><td>1</td><td>0</td><td>0</td><td>0</td><td>0</td><td>0</td><td>1</td><td>0</td><td>0</td><td>⋯</td><td>1</td><td>0</td><td>0</td><td>0</td><td>1</td><td>1</td><td>0</td><td>0</td><td>0</td><td>0</td></tr>\n",
       "\t<tr><td>0</td><td>1</td><td>0</td><td>0</td><td>0</td><td>0</td><td>0</td><td>0</td><td>1</td><td>0</td><td>⋯</td><td>0</td><td>0</td><td>1</td><td>0</td><td>0</td><td>1</td><td>0</td><td>1</td><td>0</td><td>1</td></tr>\n",
       "\t<tr><td>0</td><td>1</td><td>0</td><td>0</td><td>0</td><td>0</td><td>1</td><td>0</td><td>1</td><td>0</td><td>⋯</td><td>1</td><td>0</td><td>0</td><td>0</td><td>0</td><td>1</td><td>0</td><td>0</td><td>0</td><td>1</td></tr>\n",
       "\t<tr><td>0</td><td>0</td><td>0</td><td>0</td><td>0</td><td>0</td><td>0</td><td>0</td><td>0</td><td>0</td><td>⋯</td><td>0</td><td>0</td><td>0</td><td>0</td><td>0</td><td>0</td><td>0</td><td>0</td><td>0</td><td>0</td></tr>\n",
       "\t<tr><td>0</td><td>0</td><td>0</td><td>1</td><td>0</td><td>0</td><td>0</td><td>0</td><td>0</td><td>0</td><td>⋯</td><td>0</td><td>0</td><td>0</td><td>0</td><td>0</td><td>0</td><td>0</td><td>0</td><td>0</td><td>0</td></tr>\n",
       "\t<tr><td>0</td><td>0</td><td>0</td><td>0</td><td>0</td><td>0</td><td>0</td><td>0</td><td>0</td><td>0</td><td>⋯</td><td>0</td><td>0</td><td>0</td><td>0</td><td>0</td><td>0</td><td>0</td><td>0</td><td>0</td><td>0</td></tr>\n",
       "\t<tr><td>0</td><td>0</td><td>1</td><td>0</td><td>1</td><td>0</td><td>0</td><td>1</td><td>1</td><td>0</td><td>⋯</td><td>1</td><td>0</td><td>0</td><td>0</td><td>1</td><td>0</td><td>0</td><td>0</td><td>1</td><td>0</td></tr>\n",
       "\t<tr><td>1</td><td>1</td><td>1</td><td>1</td><td>1</td><td>0</td><td>0</td><td>1</td><td>1</td><td>0</td><td>⋯</td><td>1</td><td>1</td><td>0</td><td>1</td><td>0</td><td>1</td><td>1</td><td>1</td><td>0</td><td>0</td></tr>\n",
       "\t<tr><td>1</td><td>0</td><td>0</td><td>1</td><td>0</td><td>0</td><td>0</td><td>0</td><td>0</td><td>0</td><td>⋯</td><td>0</td><td>0</td><td>0</td><td>0</td><td>0</td><td>1</td><td>0</td><td>0</td><td>0</td><td>1</td></tr>\n",
       "\t<tr><td>0</td><td>0</td><td>0</td><td>0</td><td>1</td><td>0</td><td>0</td><td>0</td><td>0</td><td>0</td><td>⋯</td><td>0</td><td>0</td><td>0</td><td>0</td><td>0</td><td>0</td><td>0</td><td>0</td><td>0</td><td>0</td></tr>\n",
       "\t<tr><td>0</td><td>0</td><td>0</td><td>0</td><td>0</td><td>0</td><td>1</td><td>0</td><td>0</td><td>0</td><td>⋯</td><td>0</td><td>0</td><td>0</td><td>1</td><td>0</td><td>0</td><td>0</td><td>0</td><td>0</td><td>0</td></tr>\n",
       "\t<tr><td>1</td><td>0</td><td>1</td><td>0</td><td>1</td><td>1</td><td>0</td><td>0</td><td>1</td><td>0</td><td>⋯</td><td>0</td><td>0</td><td>1</td><td>0</td><td>0</td><td>0</td><td>0</td><td>1</td><td>0</td><td>0</td></tr>\n",
       "\t<tr><td>1</td><td>1</td><td>0</td><td>0</td><td>0</td><td>0</td><td>0</td><td>0</td><td>0</td><td>0</td><td>⋯</td><td>0</td><td>0</td><td>0</td><td>0</td><td>0</td><td>0</td><td>0</td><td>0</td><td>0</td><td>0</td></tr>\n",
       "\t<tr><td>1</td><td>1</td><td>1</td><td>1</td><td>1</td><td>1</td><td>1</td><td>1</td><td>1</td><td>1</td><td>⋯</td><td>1</td><td>0</td><td>1</td><td>1</td><td>1</td><td>0</td><td>0</td><td>1</td><td>1</td><td>1</td></tr>\n",
       "\t<tr><td>0</td><td>1</td><td>0</td><td>0</td><td>0</td><td>0</td><td>0</td><td>0</td><td>0</td><td>0</td><td>⋯</td><td>0</td><td>0</td><td>0</td><td>0</td><td>0</td><td>0</td><td>0</td><td>0</td><td>0</td><td>0</td></tr>\n",
       "\t<tr><td>1</td><td>1</td><td>1</td><td>0</td><td>1</td><td>0</td><td>0</td><td>0</td><td>0</td><td>0</td><td>⋯</td><td>1</td><td>0</td><td>1</td><td>1</td><td>0</td><td>0</td><td>0</td><td>0</td><td>1</td><td>0</td></tr>\n",
       "\t<tr><td>0</td><td>0</td><td>0</td><td>0</td><td>0</td><td>0</td><td>0</td><td>0</td><td>0</td><td>0</td><td>⋯</td><td>0</td><td>0</td><td>0</td><td>0</td><td>0</td><td>0</td><td>1</td><td>0</td><td>0</td><td>0</td></tr>\n",
       "\t<tr><td>0</td><td>1</td><td>0</td><td>0</td><td>0</td><td>0</td><td>0</td><td>0</td><td>0</td><td>0</td><td>⋯</td><td>1</td><td>0</td><td>0</td><td>0</td><td>0</td><td>1</td><td>1</td><td>0</td><td>0</td><td>0</td></tr>\n",
       "</tbody>\n",
       "</table>\n"
      ],
      "text/latex": [
       "A matrix: 21 × 21 of type int\n",
       "\\begin{tabular}{lllllllllllllllllllll}\n",
       " V1 & V2 & V3 & V4 & V5 & V6 & V7 & V8 & V9 & V10 & ⋯ & V12 & V13 & V14 & V15 & V16 & V17 & V18 & V19 & V20 & V21\\\\\n",
       "\\hline\n",
       "\t 0 & 1 & 0 & 1 & 0 & 0 & 0 & 1 & 0 & 0 & ⋯ & 1 & 0 & 0 & 0 & 1 & 0 & 0 & 0 & 0 & 0\\\\\n",
       "\t 1 & 0 & 0 & 0 & 0 & 0 & 0 & 0 & 0 & 0 & ⋯ & 0 & 0 & 0 & 0 & 0 & 0 & 1 & 0 & 0 & 1\\\\\n",
       "\t 0 & 0 & 0 & 0 & 0 & 0 & 0 & 0 & 0 & 0 & ⋯ & 0 & 0 & 1 & 0 & 0 & 0 & 0 & 1 & 0 & 0\\\\\n",
       "\t 1 & 1 & 0 & 0 & 0 & 0 & 0 & 1 & 0 & 0 & ⋯ & 1 & 0 & 0 & 0 & 1 & 1 & 0 & 0 & 0 & 0\\\\\n",
       "\t 0 & 1 & 0 & 0 & 0 & 0 & 0 & 0 & 1 & 0 & ⋯ & 0 & 0 & 1 & 0 & 0 & 1 & 0 & 1 & 0 & 1\\\\\n",
       "\t 0 & 1 & 0 & 0 & 0 & 0 & 1 & 0 & 1 & 0 & ⋯ & 1 & 0 & 0 & 0 & 0 & 1 & 0 & 0 & 0 & 1\\\\\n",
       "\t 0 & 0 & 0 & 0 & 0 & 0 & 0 & 0 & 0 & 0 & ⋯ & 0 & 0 & 0 & 0 & 0 & 0 & 0 & 0 & 0 & 0\\\\\n",
       "\t 0 & 0 & 0 & 1 & 0 & 0 & 0 & 0 & 0 & 0 & ⋯ & 0 & 0 & 0 & 0 & 0 & 0 & 0 & 0 & 0 & 0\\\\\n",
       "\t 0 & 0 & 0 & 0 & 0 & 0 & 0 & 0 & 0 & 0 & ⋯ & 0 & 0 & 0 & 0 & 0 & 0 & 0 & 0 & 0 & 0\\\\\n",
       "\t 0 & 0 & 1 & 0 & 1 & 0 & 0 & 1 & 1 & 0 & ⋯ & 1 & 0 & 0 & 0 & 1 & 0 & 0 & 0 & 1 & 0\\\\\n",
       "\t 1 & 1 & 1 & 1 & 1 & 0 & 0 & 1 & 1 & 0 & ⋯ & 1 & 1 & 0 & 1 & 0 & 1 & 1 & 1 & 0 & 0\\\\\n",
       "\t 1 & 0 & 0 & 1 & 0 & 0 & 0 & 0 & 0 & 0 & ⋯ & 0 & 0 & 0 & 0 & 0 & 1 & 0 & 0 & 0 & 1\\\\\n",
       "\t 0 & 0 & 0 & 0 & 1 & 0 & 0 & 0 & 0 & 0 & ⋯ & 0 & 0 & 0 & 0 & 0 & 0 & 0 & 0 & 0 & 0\\\\\n",
       "\t 0 & 0 & 0 & 0 & 0 & 0 & 1 & 0 & 0 & 0 & ⋯ & 0 & 0 & 0 & 1 & 0 & 0 & 0 & 0 & 0 & 0\\\\\n",
       "\t 1 & 0 & 1 & 0 & 1 & 1 & 0 & 0 & 1 & 0 & ⋯ & 0 & 0 & 1 & 0 & 0 & 0 & 0 & 1 & 0 & 0\\\\\n",
       "\t 1 & 1 & 0 & 0 & 0 & 0 & 0 & 0 & 0 & 0 & ⋯ & 0 & 0 & 0 & 0 & 0 & 0 & 0 & 0 & 0 & 0\\\\\n",
       "\t 1 & 1 & 1 & 1 & 1 & 1 & 1 & 1 & 1 & 1 & ⋯ & 1 & 0 & 1 & 1 & 1 & 0 & 0 & 1 & 1 & 1\\\\\n",
       "\t 0 & 1 & 0 & 0 & 0 & 0 & 0 & 0 & 0 & 0 & ⋯ & 0 & 0 & 0 & 0 & 0 & 0 & 0 & 0 & 0 & 0\\\\\n",
       "\t 1 & 1 & 1 & 0 & 1 & 0 & 0 & 0 & 0 & 0 & ⋯ & 1 & 0 & 1 & 1 & 0 & 0 & 0 & 0 & 1 & 0\\\\\n",
       "\t 0 & 0 & 0 & 0 & 0 & 0 & 0 & 0 & 0 & 0 & ⋯ & 0 & 0 & 0 & 0 & 0 & 0 & 1 & 0 & 0 & 0\\\\\n",
       "\t 0 & 1 & 0 & 0 & 0 & 0 & 0 & 0 & 0 & 0 & ⋯ & 1 & 0 & 0 & 0 & 0 & 1 & 1 & 0 & 0 & 0\\\\\n",
       "\\end{tabular}\n"
      ],
      "text/markdown": [
       "\n",
       "A matrix: 21 × 21 of type int\n",
       "\n",
       "| V1 | V2 | V3 | V4 | V5 | V6 | V7 | V8 | V9 | V10 | ⋯ | V12 | V13 | V14 | V15 | V16 | V17 | V18 | V19 | V20 | V21 |\n",
       "|---|---|---|---|---|---|---|---|---|---|---|---|---|---|---|---|---|---|---|---|---|\n",
       "| 0 | 1 | 0 | 1 | 0 | 0 | 0 | 1 | 0 | 0 | ⋯ | 1 | 0 | 0 | 0 | 1 | 0 | 0 | 0 | 0 | 0 |\n",
       "| 1 | 0 | 0 | 0 | 0 | 0 | 0 | 0 | 0 | 0 | ⋯ | 0 | 0 | 0 | 0 | 0 | 0 | 1 | 0 | 0 | 1 |\n",
       "| 0 | 0 | 0 | 0 | 0 | 0 | 0 | 0 | 0 | 0 | ⋯ | 0 | 0 | 1 | 0 | 0 | 0 | 0 | 1 | 0 | 0 |\n",
       "| 1 | 1 | 0 | 0 | 0 | 0 | 0 | 1 | 0 | 0 | ⋯ | 1 | 0 | 0 | 0 | 1 | 1 | 0 | 0 | 0 | 0 |\n",
       "| 0 | 1 | 0 | 0 | 0 | 0 | 0 | 0 | 1 | 0 | ⋯ | 0 | 0 | 1 | 0 | 0 | 1 | 0 | 1 | 0 | 1 |\n",
       "| 0 | 1 | 0 | 0 | 0 | 0 | 1 | 0 | 1 | 0 | ⋯ | 1 | 0 | 0 | 0 | 0 | 1 | 0 | 0 | 0 | 1 |\n",
       "| 0 | 0 | 0 | 0 | 0 | 0 | 0 | 0 | 0 | 0 | ⋯ | 0 | 0 | 0 | 0 | 0 | 0 | 0 | 0 | 0 | 0 |\n",
       "| 0 | 0 | 0 | 1 | 0 | 0 | 0 | 0 | 0 | 0 | ⋯ | 0 | 0 | 0 | 0 | 0 | 0 | 0 | 0 | 0 | 0 |\n",
       "| 0 | 0 | 0 | 0 | 0 | 0 | 0 | 0 | 0 | 0 | ⋯ | 0 | 0 | 0 | 0 | 0 | 0 | 0 | 0 | 0 | 0 |\n",
       "| 0 | 0 | 1 | 0 | 1 | 0 | 0 | 1 | 1 | 0 | ⋯ | 1 | 0 | 0 | 0 | 1 | 0 | 0 | 0 | 1 | 0 |\n",
       "| 1 | 1 | 1 | 1 | 1 | 0 | 0 | 1 | 1 | 0 | ⋯ | 1 | 1 | 0 | 1 | 0 | 1 | 1 | 1 | 0 | 0 |\n",
       "| 1 | 0 | 0 | 1 | 0 | 0 | 0 | 0 | 0 | 0 | ⋯ | 0 | 0 | 0 | 0 | 0 | 1 | 0 | 0 | 0 | 1 |\n",
       "| 0 | 0 | 0 | 0 | 1 | 0 | 0 | 0 | 0 | 0 | ⋯ | 0 | 0 | 0 | 0 | 0 | 0 | 0 | 0 | 0 | 0 |\n",
       "| 0 | 0 | 0 | 0 | 0 | 0 | 1 | 0 | 0 | 0 | ⋯ | 0 | 0 | 0 | 1 | 0 | 0 | 0 | 0 | 0 | 0 |\n",
       "| 1 | 0 | 1 | 0 | 1 | 1 | 0 | 0 | 1 | 0 | ⋯ | 0 | 0 | 1 | 0 | 0 | 0 | 0 | 1 | 0 | 0 |\n",
       "| 1 | 1 | 0 | 0 | 0 | 0 | 0 | 0 | 0 | 0 | ⋯ | 0 | 0 | 0 | 0 | 0 | 0 | 0 | 0 | 0 | 0 |\n",
       "| 1 | 1 | 1 | 1 | 1 | 1 | 1 | 1 | 1 | 1 | ⋯ | 1 | 0 | 1 | 1 | 1 | 0 | 0 | 1 | 1 | 1 |\n",
       "| 0 | 1 | 0 | 0 | 0 | 0 | 0 | 0 | 0 | 0 | ⋯ | 0 | 0 | 0 | 0 | 0 | 0 | 0 | 0 | 0 | 0 |\n",
       "| 1 | 1 | 1 | 0 | 1 | 0 | 0 | 0 | 0 | 0 | ⋯ | 1 | 0 | 1 | 1 | 0 | 0 | 0 | 0 | 1 | 0 |\n",
       "| 0 | 0 | 0 | 0 | 0 | 0 | 0 | 0 | 0 | 0 | ⋯ | 0 | 0 | 0 | 0 | 0 | 0 | 1 | 0 | 0 | 0 |\n",
       "| 0 | 1 | 0 | 0 | 0 | 0 | 0 | 0 | 0 | 0 | ⋯ | 1 | 0 | 0 | 0 | 0 | 1 | 1 | 0 | 0 | 0 |\n",
       "\n"
      ],
      "text/plain": [
       "      V1 V2 V3 V4 V5 V6 V7 V8 V9 V10 ⋯ V12 V13 V14 V15 V16 V17 V18 V19 V20 V21\n",
       " [1,] 0  1  0  1  0  0  0  1  0  0   ⋯ 1   0   0   0   1   0   0   0   0   0  \n",
       " [2,] 1  0  0  0  0  0  0  0  0  0   ⋯ 0   0   0   0   0   0   1   0   0   1  \n",
       " [3,] 0  0  0  0  0  0  0  0  0  0   ⋯ 0   0   1   0   0   0   0   1   0   0  \n",
       " [4,] 1  1  0  0  0  0  0  1  0  0   ⋯ 1   0   0   0   1   1   0   0   0   0  \n",
       " [5,] 0  1  0  0  0  0  0  0  1  0   ⋯ 0   0   1   0   0   1   0   1   0   1  \n",
       " [6,] 0  1  0  0  0  0  1  0  1  0   ⋯ 1   0   0   0   0   1   0   0   0   1  \n",
       " [7,] 0  0  0  0  0  0  0  0  0  0   ⋯ 0   0   0   0   0   0   0   0   0   0  \n",
       " [8,] 0  0  0  1  0  0  0  0  0  0   ⋯ 0   0   0   0   0   0   0   0   0   0  \n",
       " [9,] 0  0  0  0  0  0  0  0  0  0   ⋯ 0   0   0   0   0   0   0   0   0   0  \n",
       "[10,] 0  0  1  0  1  0  0  1  1  0   ⋯ 1   0   0   0   1   0   0   0   1   0  \n",
       "[11,] 1  1  1  1  1  0  0  1  1  0   ⋯ 1   1   0   1   0   1   1   1   0   0  \n",
       "[12,] 1  0  0  1  0  0  0  0  0  0   ⋯ 0   0   0   0   0   1   0   0   0   1  \n",
       "[13,] 0  0  0  0  1  0  0  0  0  0   ⋯ 0   0   0   0   0   0   0   0   0   0  \n",
       "[14,] 0  0  0  0  0  0  1  0  0  0   ⋯ 0   0   0   1   0   0   0   0   0   0  \n",
       "[15,] 1  0  1  0  1  1  0  0  1  0   ⋯ 0   0   1   0   0   0   0   1   0   0  \n",
       "[16,] 1  1  0  0  0  0  0  0  0  0   ⋯ 0   0   0   0   0   0   0   0   0   0  \n",
       "[17,] 1  1  1  1  1  1  1  1  1  1   ⋯ 1   0   1   1   1   0   0   1   1   1  \n",
       "[18,] 0  1  0  0  0  0  0  0  0  0   ⋯ 0   0   0   0   0   0   0   0   0   0  \n",
       "[19,] 1  1  1  0  1  0  0  0  0  0   ⋯ 1   0   1   1   0   0   0   0   1   0  \n",
       "[20,] 0  0  0  0  0  0  0  0  0  0   ⋯ 0   0   0   0   0   0   1   0   0   0  \n",
       "[21,] 0  1  0  0  0  0  0  0  0  0   ⋯ 1   0   0   0   0   1   1   0   0   0  "
      ]
     },
     "metadata": {},
     "output_type": "display_data"
    },
    {
     "data": {
      "text/html": [
       "<table class=\"dataframe\">\n",
       "<caption>A matrix: 5 × 2 of type chr</caption>\n",
       "<tbody>\n",
       "\t<tr><td>V1</td><td>V2 </td></tr>\n",
       "\t<tr><td>V1</td><td>V4 </td></tr>\n",
       "\t<tr><td>V1</td><td>V8 </td></tr>\n",
       "\t<tr><td>V1</td><td>V12</td></tr>\n",
       "\t<tr><td>V1</td><td>V16</td></tr>\n",
       "</tbody>\n",
       "</table>\n"
      ],
      "text/latex": [
       "A matrix: 5 × 2 of type chr\n",
       "\\begin{tabular}{ll}\n",
       "\t V1 & V2 \\\\\n",
       "\t V1 & V4 \\\\\n",
       "\t V1 & V8 \\\\\n",
       "\t V1 & V12\\\\\n",
       "\t V1 & V16\\\\\n",
       "\\end{tabular}\n"
      ],
      "text/markdown": [
       "\n",
       "A matrix: 5 × 2 of type chr\n",
       "\n",
       "| V1 | V2  |\n",
       "| V1 | V4  |\n",
       "| V1 | V8  |\n",
       "| V1 | V12 |\n",
       "| V1 | V16 |\n",
       "\n"
      ],
      "text/plain": [
       "     [,1] [,2]\n",
       "[1,] V1   V2  \n",
       "[2,] V1   V4  \n",
       "[3,] V1   V8  \n",
       "[4,] V1   V12 \n",
       "[5,] V1   V16 "
      ]
     },
     "metadata": {},
     "output_type": "display_data"
    }
   ],
   "source": [
    "file2 <- read.csv(\"data1/krackhardt_friendship.csv\",skip=2,header=FALSE, sep=\",\")\n",
    "\n",
    "friendsMatrix <-data.matrix(file2) \n",
    "friendsMatrix\n",
    "gFr <- graph.adjacency(friendsMatrix, mode=\"directed\") # теперь направленный\n",
    "edgesFr <- get.edgelist(gFr) \n",
    "\n",
    "head(edgesFr, 5) "
   ]
  },
  {
   "cell_type": "markdown",
   "metadata": {
    "pycharm": {
     "name": "#%% md\n"
    }
   },
   "source": [
    "Присвоены имена столбцам и строкам. В качестве имен выюраны последовательные числа."
   ]
  },
  {
   "cell_type": "code",
   "execution_count": 136,
   "metadata": {
    "pycharm": {
     "name": "#%%\n"
    }
   },
   "outputs": [
    {
     "data": {
      "text/html": [
       "<table class=\"dataframe\">\n",
       "<caption>A matrix: 21 × 21 of type int</caption>\n",
       "<thead>\n",
       "\t<tr><th></th><th scope=col>1</th><th scope=col>2</th><th scope=col>3</th><th scope=col>4</th><th scope=col>5</th><th scope=col>6</th><th scope=col>7</th><th scope=col>8</th><th scope=col>9</th><th scope=col>10</th><th scope=col>⋯</th><th scope=col>12</th><th scope=col>13</th><th scope=col>14</th><th scope=col>15</th><th scope=col>16</th><th scope=col>17</th><th scope=col>18</th><th scope=col>19</th><th scope=col>20</th><th scope=col>21</th></tr>\n",
       "</thead>\n",
       "<tbody>\n",
       "\t<tr><th scope=row>1</th><td>0</td><td>1</td><td>0</td><td>1</td><td>0</td><td>0</td><td>0</td><td>1</td><td>0</td><td>0</td><td>⋯</td><td>1</td><td>0</td><td>0</td><td>0</td><td>1</td><td>0</td><td>0</td><td>0</td><td>0</td><td>0</td></tr>\n",
       "\t<tr><th scope=row>2</th><td>1</td><td>0</td><td>0</td><td>0</td><td>0</td><td>0</td><td>0</td><td>0</td><td>0</td><td>0</td><td>⋯</td><td>0</td><td>0</td><td>0</td><td>0</td><td>0</td><td>0</td><td>1</td><td>0</td><td>0</td><td>1</td></tr>\n",
       "\t<tr><th scope=row>3</th><td>0</td><td>0</td><td>0</td><td>0</td><td>0</td><td>0</td><td>0</td><td>0</td><td>0</td><td>0</td><td>⋯</td><td>0</td><td>0</td><td>1</td><td>0</td><td>0</td><td>0</td><td>0</td><td>1</td><td>0</td><td>0</td></tr>\n",
       "\t<tr><th scope=row>4</th><td>1</td><td>1</td><td>0</td><td>0</td><td>0</td><td>0</td><td>0</td><td>1</td><td>0</td><td>0</td><td>⋯</td><td>1</td><td>0</td><td>0</td><td>0</td><td>1</td><td>1</td><td>0</td><td>0</td><td>0</td><td>0</td></tr>\n",
       "\t<tr><th scope=row>5</th><td>0</td><td>1</td><td>0</td><td>0</td><td>0</td><td>0</td><td>0</td><td>0</td><td>1</td><td>0</td><td>⋯</td><td>0</td><td>0</td><td>1</td><td>0</td><td>0</td><td>1</td><td>0</td><td>1</td><td>0</td><td>1</td></tr>\n",
       "\t<tr><th scope=row>6</th><td>0</td><td>1</td><td>0</td><td>0</td><td>0</td><td>0</td><td>1</td><td>0</td><td>1</td><td>0</td><td>⋯</td><td>1</td><td>0</td><td>0</td><td>0</td><td>0</td><td>1</td><td>0</td><td>0</td><td>0</td><td>1</td></tr>\n",
       "\t<tr><th scope=row>7</th><td>0</td><td>0</td><td>0</td><td>0</td><td>0</td><td>0</td><td>0</td><td>0</td><td>0</td><td>0</td><td>⋯</td><td>0</td><td>0</td><td>0</td><td>0</td><td>0</td><td>0</td><td>0</td><td>0</td><td>0</td><td>0</td></tr>\n",
       "\t<tr><th scope=row>8</th><td>0</td><td>0</td><td>0</td><td>1</td><td>0</td><td>0</td><td>0</td><td>0</td><td>0</td><td>0</td><td>⋯</td><td>0</td><td>0</td><td>0</td><td>0</td><td>0</td><td>0</td><td>0</td><td>0</td><td>0</td><td>0</td></tr>\n",
       "\t<tr><th scope=row>9</th><td>0</td><td>0</td><td>0</td><td>0</td><td>0</td><td>0</td><td>0</td><td>0</td><td>0</td><td>0</td><td>⋯</td><td>0</td><td>0</td><td>0</td><td>0</td><td>0</td><td>0</td><td>0</td><td>0</td><td>0</td><td>0</td></tr>\n",
       "\t<tr><th scope=row>10</th><td>0</td><td>0</td><td>1</td><td>0</td><td>1</td><td>0</td><td>0</td><td>1</td><td>1</td><td>0</td><td>⋯</td><td>1</td><td>0</td><td>0</td><td>0</td><td>1</td><td>0</td><td>0</td><td>0</td><td>1</td><td>0</td></tr>\n",
       "\t<tr><th scope=row>11</th><td>1</td><td>1</td><td>1</td><td>1</td><td>1</td><td>0</td><td>0</td><td>1</td><td>1</td><td>0</td><td>⋯</td><td>1</td><td>1</td><td>0</td><td>1</td><td>0</td><td>1</td><td>1</td><td>1</td><td>0</td><td>0</td></tr>\n",
       "\t<tr><th scope=row>12</th><td>1</td><td>0</td><td>0</td><td>1</td><td>0</td><td>0</td><td>0</td><td>0</td><td>0</td><td>0</td><td>⋯</td><td>0</td><td>0</td><td>0</td><td>0</td><td>0</td><td>1</td><td>0</td><td>0</td><td>0</td><td>1</td></tr>\n",
       "\t<tr><th scope=row>13</th><td>0</td><td>0</td><td>0</td><td>0</td><td>1</td><td>0</td><td>0</td><td>0</td><td>0</td><td>0</td><td>⋯</td><td>0</td><td>0</td><td>0</td><td>0</td><td>0</td><td>0</td><td>0</td><td>0</td><td>0</td><td>0</td></tr>\n",
       "\t<tr><th scope=row>14</th><td>0</td><td>0</td><td>0</td><td>0</td><td>0</td><td>0</td><td>1</td><td>0</td><td>0</td><td>0</td><td>⋯</td><td>0</td><td>0</td><td>0</td><td>1</td><td>0</td><td>0</td><td>0</td><td>0</td><td>0</td><td>0</td></tr>\n",
       "\t<tr><th scope=row>15</th><td>1</td><td>0</td><td>1</td><td>0</td><td>1</td><td>1</td><td>0</td><td>0</td><td>1</td><td>0</td><td>⋯</td><td>0</td><td>0</td><td>1</td><td>0</td><td>0</td><td>0</td><td>0</td><td>1</td><td>0</td><td>0</td></tr>\n",
       "\t<tr><th scope=row>16</th><td>1</td><td>1</td><td>0</td><td>0</td><td>0</td><td>0</td><td>0</td><td>0</td><td>0</td><td>0</td><td>⋯</td><td>0</td><td>0</td><td>0</td><td>0</td><td>0</td><td>0</td><td>0</td><td>0</td><td>0</td><td>0</td></tr>\n",
       "\t<tr><th scope=row>17</th><td>1</td><td>1</td><td>1</td><td>1</td><td>1</td><td>1</td><td>1</td><td>1</td><td>1</td><td>1</td><td>⋯</td><td>1</td><td>0</td><td>1</td><td>1</td><td>1</td><td>0</td><td>0</td><td>1</td><td>1</td><td>1</td></tr>\n",
       "\t<tr><th scope=row>18</th><td>0</td><td>1</td><td>0</td><td>0</td><td>0</td><td>0</td><td>0</td><td>0</td><td>0</td><td>0</td><td>⋯</td><td>0</td><td>0</td><td>0</td><td>0</td><td>0</td><td>0</td><td>0</td><td>0</td><td>0</td><td>0</td></tr>\n",
       "\t<tr><th scope=row>19</th><td>1</td><td>1</td><td>1</td><td>0</td><td>1</td><td>0</td><td>0</td><td>0</td><td>0</td><td>0</td><td>⋯</td><td>1</td><td>0</td><td>1</td><td>1</td><td>0</td><td>0</td><td>0</td><td>0</td><td>1</td><td>0</td></tr>\n",
       "\t<tr><th scope=row>20</th><td>0</td><td>0</td><td>0</td><td>0</td><td>0</td><td>0</td><td>0</td><td>0</td><td>0</td><td>0</td><td>⋯</td><td>0</td><td>0</td><td>0</td><td>0</td><td>0</td><td>0</td><td>1</td><td>0</td><td>0</td><td>0</td></tr>\n",
       "\t<tr><th scope=row>21</th><td>0</td><td>1</td><td>0</td><td>0</td><td>0</td><td>0</td><td>0</td><td>0</td><td>0</td><td>0</td><td>⋯</td><td>1</td><td>0</td><td>0</td><td>0</td><td>0</td><td>1</td><td>1</td><td>0</td><td>0</td><td>0</td></tr>\n",
       "</tbody>\n",
       "</table>\n"
      ],
      "text/latex": [
       "A matrix: 21 × 21 of type int\n",
       "\\begin{tabular}{r|lllllllllllllllllllll}\n",
       "  & 1 & 2 & 3 & 4 & 5 & 6 & 7 & 8 & 9 & 10 & ⋯ & 12 & 13 & 14 & 15 & 16 & 17 & 18 & 19 & 20 & 21\\\\\n",
       "\\hline\n",
       "\t1 & 0 & 1 & 0 & 1 & 0 & 0 & 0 & 1 & 0 & 0 & ⋯ & 1 & 0 & 0 & 0 & 1 & 0 & 0 & 0 & 0 & 0\\\\\n",
       "\t2 & 1 & 0 & 0 & 0 & 0 & 0 & 0 & 0 & 0 & 0 & ⋯ & 0 & 0 & 0 & 0 & 0 & 0 & 1 & 0 & 0 & 1\\\\\n",
       "\t3 & 0 & 0 & 0 & 0 & 0 & 0 & 0 & 0 & 0 & 0 & ⋯ & 0 & 0 & 1 & 0 & 0 & 0 & 0 & 1 & 0 & 0\\\\\n",
       "\t4 & 1 & 1 & 0 & 0 & 0 & 0 & 0 & 1 & 0 & 0 & ⋯ & 1 & 0 & 0 & 0 & 1 & 1 & 0 & 0 & 0 & 0\\\\\n",
       "\t5 & 0 & 1 & 0 & 0 & 0 & 0 & 0 & 0 & 1 & 0 & ⋯ & 0 & 0 & 1 & 0 & 0 & 1 & 0 & 1 & 0 & 1\\\\\n",
       "\t6 & 0 & 1 & 0 & 0 & 0 & 0 & 1 & 0 & 1 & 0 & ⋯ & 1 & 0 & 0 & 0 & 0 & 1 & 0 & 0 & 0 & 1\\\\\n",
       "\t7 & 0 & 0 & 0 & 0 & 0 & 0 & 0 & 0 & 0 & 0 & ⋯ & 0 & 0 & 0 & 0 & 0 & 0 & 0 & 0 & 0 & 0\\\\\n",
       "\t8 & 0 & 0 & 0 & 1 & 0 & 0 & 0 & 0 & 0 & 0 & ⋯ & 0 & 0 & 0 & 0 & 0 & 0 & 0 & 0 & 0 & 0\\\\\n",
       "\t9 & 0 & 0 & 0 & 0 & 0 & 0 & 0 & 0 & 0 & 0 & ⋯ & 0 & 0 & 0 & 0 & 0 & 0 & 0 & 0 & 0 & 0\\\\\n",
       "\t10 & 0 & 0 & 1 & 0 & 1 & 0 & 0 & 1 & 1 & 0 & ⋯ & 1 & 0 & 0 & 0 & 1 & 0 & 0 & 0 & 1 & 0\\\\\n",
       "\t11 & 1 & 1 & 1 & 1 & 1 & 0 & 0 & 1 & 1 & 0 & ⋯ & 1 & 1 & 0 & 1 & 0 & 1 & 1 & 1 & 0 & 0\\\\\n",
       "\t12 & 1 & 0 & 0 & 1 & 0 & 0 & 0 & 0 & 0 & 0 & ⋯ & 0 & 0 & 0 & 0 & 0 & 1 & 0 & 0 & 0 & 1\\\\\n",
       "\t13 & 0 & 0 & 0 & 0 & 1 & 0 & 0 & 0 & 0 & 0 & ⋯ & 0 & 0 & 0 & 0 & 0 & 0 & 0 & 0 & 0 & 0\\\\\n",
       "\t14 & 0 & 0 & 0 & 0 & 0 & 0 & 1 & 0 & 0 & 0 & ⋯ & 0 & 0 & 0 & 1 & 0 & 0 & 0 & 0 & 0 & 0\\\\\n",
       "\t15 & 1 & 0 & 1 & 0 & 1 & 1 & 0 & 0 & 1 & 0 & ⋯ & 0 & 0 & 1 & 0 & 0 & 0 & 0 & 1 & 0 & 0\\\\\n",
       "\t16 & 1 & 1 & 0 & 0 & 0 & 0 & 0 & 0 & 0 & 0 & ⋯ & 0 & 0 & 0 & 0 & 0 & 0 & 0 & 0 & 0 & 0\\\\\n",
       "\t17 & 1 & 1 & 1 & 1 & 1 & 1 & 1 & 1 & 1 & 1 & ⋯ & 1 & 0 & 1 & 1 & 1 & 0 & 0 & 1 & 1 & 1\\\\\n",
       "\t18 & 0 & 1 & 0 & 0 & 0 & 0 & 0 & 0 & 0 & 0 & ⋯ & 0 & 0 & 0 & 0 & 0 & 0 & 0 & 0 & 0 & 0\\\\\n",
       "\t19 & 1 & 1 & 1 & 0 & 1 & 0 & 0 & 0 & 0 & 0 & ⋯ & 1 & 0 & 1 & 1 & 0 & 0 & 0 & 0 & 1 & 0\\\\\n",
       "\t20 & 0 & 0 & 0 & 0 & 0 & 0 & 0 & 0 & 0 & 0 & ⋯ & 0 & 0 & 0 & 0 & 0 & 0 & 1 & 0 & 0 & 0\\\\\n",
       "\t21 & 0 & 1 & 0 & 0 & 0 & 0 & 0 & 0 & 0 & 0 & ⋯ & 1 & 0 & 0 & 0 & 0 & 1 & 1 & 0 & 0 & 0\\\\\n",
       "\\end{tabular}\n"
      ],
      "text/markdown": [
       "\n",
       "A matrix: 21 × 21 of type int\n",
       "\n",
       "| <!--/--> | 1 | 2 | 3 | 4 | 5 | 6 | 7 | 8 | 9 | 10 | ⋯ | 12 | 13 | 14 | 15 | 16 | 17 | 18 | 19 | 20 | 21 |\n",
       "|---|---|---|---|---|---|---|---|---|---|---|---|---|---|---|---|---|---|---|---|---|---|\n",
       "| 1 | 0 | 1 | 0 | 1 | 0 | 0 | 0 | 1 | 0 | 0 | ⋯ | 1 | 0 | 0 | 0 | 1 | 0 | 0 | 0 | 0 | 0 |\n",
       "| 2 | 1 | 0 | 0 | 0 | 0 | 0 | 0 | 0 | 0 | 0 | ⋯ | 0 | 0 | 0 | 0 | 0 | 0 | 1 | 0 | 0 | 1 |\n",
       "| 3 | 0 | 0 | 0 | 0 | 0 | 0 | 0 | 0 | 0 | 0 | ⋯ | 0 | 0 | 1 | 0 | 0 | 0 | 0 | 1 | 0 | 0 |\n",
       "| 4 | 1 | 1 | 0 | 0 | 0 | 0 | 0 | 1 | 0 | 0 | ⋯ | 1 | 0 | 0 | 0 | 1 | 1 | 0 | 0 | 0 | 0 |\n",
       "| 5 | 0 | 1 | 0 | 0 | 0 | 0 | 0 | 0 | 1 | 0 | ⋯ | 0 | 0 | 1 | 0 | 0 | 1 | 0 | 1 | 0 | 1 |\n",
       "| 6 | 0 | 1 | 0 | 0 | 0 | 0 | 1 | 0 | 1 | 0 | ⋯ | 1 | 0 | 0 | 0 | 0 | 1 | 0 | 0 | 0 | 1 |\n",
       "| 7 | 0 | 0 | 0 | 0 | 0 | 0 | 0 | 0 | 0 | 0 | ⋯ | 0 | 0 | 0 | 0 | 0 | 0 | 0 | 0 | 0 | 0 |\n",
       "| 8 | 0 | 0 | 0 | 1 | 0 | 0 | 0 | 0 | 0 | 0 | ⋯ | 0 | 0 | 0 | 0 | 0 | 0 | 0 | 0 | 0 | 0 |\n",
       "| 9 | 0 | 0 | 0 | 0 | 0 | 0 | 0 | 0 | 0 | 0 | ⋯ | 0 | 0 | 0 | 0 | 0 | 0 | 0 | 0 | 0 | 0 |\n",
       "| 10 | 0 | 0 | 1 | 0 | 1 | 0 | 0 | 1 | 1 | 0 | ⋯ | 1 | 0 | 0 | 0 | 1 | 0 | 0 | 0 | 1 | 0 |\n",
       "| 11 | 1 | 1 | 1 | 1 | 1 | 0 | 0 | 1 | 1 | 0 | ⋯ | 1 | 1 | 0 | 1 | 0 | 1 | 1 | 1 | 0 | 0 |\n",
       "| 12 | 1 | 0 | 0 | 1 | 0 | 0 | 0 | 0 | 0 | 0 | ⋯ | 0 | 0 | 0 | 0 | 0 | 1 | 0 | 0 | 0 | 1 |\n",
       "| 13 | 0 | 0 | 0 | 0 | 1 | 0 | 0 | 0 | 0 | 0 | ⋯ | 0 | 0 | 0 | 0 | 0 | 0 | 0 | 0 | 0 | 0 |\n",
       "| 14 | 0 | 0 | 0 | 0 | 0 | 0 | 1 | 0 | 0 | 0 | ⋯ | 0 | 0 | 0 | 1 | 0 | 0 | 0 | 0 | 0 | 0 |\n",
       "| 15 | 1 | 0 | 1 | 0 | 1 | 1 | 0 | 0 | 1 | 0 | ⋯ | 0 | 0 | 1 | 0 | 0 | 0 | 0 | 1 | 0 | 0 |\n",
       "| 16 | 1 | 1 | 0 | 0 | 0 | 0 | 0 | 0 | 0 | 0 | ⋯ | 0 | 0 | 0 | 0 | 0 | 0 | 0 | 0 | 0 | 0 |\n",
       "| 17 | 1 | 1 | 1 | 1 | 1 | 1 | 1 | 1 | 1 | 1 | ⋯ | 1 | 0 | 1 | 1 | 1 | 0 | 0 | 1 | 1 | 1 |\n",
       "| 18 | 0 | 1 | 0 | 0 | 0 | 0 | 0 | 0 | 0 | 0 | ⋯ | 0 | 0 | 0 | 0 | 0 | 0 | 0 | 0 | 0 | 0 |\n",
       "| 19 | 1 | 1 | 1 | 0 | 1 | 0 | 0 | 0 | 0 | 0 | ⋯ | 1 | 0 | 1 | 1 | 0 | 0 | 0 | 0 | 1 | 0 |\n",
       "| 20 | 0 | 0 | 0 | 0 | 0 | 0 | 0 | 0 | 0 | 0 | ⋯ | 0 | 0 | 0 | 0 | 0 | 0 | 1 | 0 | 0 | 0 |\n",
       "| 21 | 0 | 1 | 0 | 0 | 0 | 0 | 0 | 0 | 0 | 0 | ⋯ | 1 | 0 | 0 | 0 | 0 | 1 | 1 | 0 | 0 | 0 |\n",
       "\n"
      ],
      "text/plain": [
       "   1 2 3 4 5 6 7 8 9 10 ⋯ 12 13 14 15 16 17 18 19 20 21\n",
       "1  0 1 0 1 0 0 0 1 0 0  ⋯ 1  0  0  0  1  0  0  0  0  0 \n",
       "2  1 0 0 0 0 0 0 0 0 0  ⋯ 0  0  0  0  0  0  1  0  0  1 \n",
       "3  0 0 0 0 0 0 0 0 0 0  ⋯ 0  0  1  0  0  0  0  1  0  0 \n",
       "4  1 1 0 0 0 0 0 1 0 0  ⋯ 1  0  0  0  1  1  0  0  0  0 \n",
       "5  0 1 0 0 0 0 0 0 1 0  ⋯ 0  0  1  0  0  1  0  1  0  1 \n",
       "6  0 1 0 0 0 0 1 0 1 0  ⋯ 1  0  0  0  0  1  0  0  0  1 \n",
       "7  0 0 0 0 0 0 0 0 0 0  ⋯ 0  0  0  0  0  0  0  0  0  0 \n",
       "8  0 0 0 1 0 0 0 0 0 0  ⋯ 0  0  0  0  0  0  0  0  0  0 \n",
       "9  0 0 0 0 0 0 0 0 0 0  ⋯ 0  0  0  0  0  0  0  0  0  0 \n",
       "10 0 0 1 0 1 0 0 1 1 0  ⋯ 1  0  0  0  1  0  0  0  1  0 \n",
       "11 1 1 1 1 1 0 0 1 1 0  ⋯ 1  1  0  1  0  1  1  1  0  0 \n",
       "12 1 0 0 1 0 0 0 0 0 0  ⋯ 0  0  0  0  0  1  0  0  0  1 \n",
       "13 0 0 0 0 1 0 0 0 0 0  ⋯ 0  0  0  0  0  0  0  0  0  0 \n",
       "14 0 0 0 0 0 0 1 0 0 0  ⋯ 0  0  0  1  0  0  0  0  0  0 \n",
       "15 1 0 1 0 1 1 0 0 1 0  ⋯ 0  0  1  0  0  0  0  1  0  0 \n",
       "16 1 1 0 0 0 0 0 0 0 0  ⋯ 0  0  0  0  0  0  0  0  0  0 \n",
       "17 1 1 1 1 1 1 1 1 1 1  ⋯ 1  0  1  1  1  0  0  1  1  1 \n",
       "18 0 1 0 0 0 0 0 0 0 0  ⋯ 0  0  0  0  0  0  0  0  0  0 \n",
       "19 1 1 1 0 1 0 0 0 0 0  ⋯ 1  0  1  1  0  0  0  0  1  0 \n",
       "20 0 0 0 0 0 0 0 0 0 0  ⋯ 0  0  0  0  0  0  1  0  0  0 \n",
       "21 0 1 0 0 0 0 0 0 0 0  ⋯ 1  0  0  0  0  1  1  0  0  0 "
      ]
     },
     "metadata": {},
     "output_type": "display_data"
    }
   ],
   "source": [
    "numb <- 1:21 \n",
    "rownames(friendsMatrix) <- numb #присвоение имен строкам\n",
    "colnames(friendsMatrix) <- numb #присовение имен столбцам\n",
    "friendsMatrix"
   ]
  },
  {
   "cell_type": "markdown",
   "metadata": {
    "pycharm": {
     "name": "#%% md\n"
    }
   },
   "source": [
    "Функции передан параметр directed=TRUE, означающий, что нужно создать направленную сеть."
   ]
  },
  {
   "cell_type": "code",
   "execution_count": 137,
   "metadata": {
    "pycharm": {
     "name": "#%%\n"
    }
   },
   "outputs": [],
   "source": [
    "netFr <- as.network(friendsMatrix, directed=TRUE)\n",
    "network.vertex.names(netFr) <- numb"
   ]
  },
  {
   "cell_type": "code",
   "execution_count": 138,
   "metadata": {
    "pycharm": {
     "name": "#%%\n"
    }
   },
   "outputs": [
    {
     "data": {
      "image/png": "[encoded data removed]",
      "text/plain": [
       "Plot with title \"Fruchterman-Reingold\""
      ]
     },
     "metadata": {
      "image/png": {
       "height": 420,
       "width": 420
      }
     },
     "output_type": "display_data"
    },
    {
     "data": {
      "image/png": "[encoded data removed]",
      "text/plain": [
       "Plot with title \"Kamada-Kawai\""
      ]
     },
     "metadata": {
      "image/png": {
       "height": 420,
       "width": 420
      }
     },
     "output_type": "display_data"
    }
   ],
   "source": [
    "plot(gFr,layout = layout.fruchterman.reingold,main=\"Fruchterman-Reingold\")\n",
    "plot(gFr,layout = layout.kamada.kawai,main=\"Kamada-Kawai\")"
   ]
  },
  {
   "cell_type": "code",
   "execution_count": 139,
   "metadata": {
    "pycharm": {
     "name": "#%%\n"
    }
   },
   "outputs": [
    {
     "data": {
      "text/plain": [
       "Network attributes:\n",
       "  vertices = 21\n",
       "  directed = TRUE\n",
       "  hyper = FALSE\n",
       "  loops = FALSE\n",
       "  multiple = FALSE\n",
       "  bipartite = FALSE\n",
       " total edges = 102 \n",
       "   missing edges = 0 \n",
       "   non-missing edges = 102 \n",
       " density = 0.2428571 \n",
       "\n",
       "Vertex attributes:\n",
       "  vertex.names:\n",
       "   character valued attribute\n",
       "   21 valid vertex names\n",
       "\n",
       "No edge attributes"
      ]
     },
     "metadata": {},
     "output_type": "display_data"
    }
   ],
   "source": [
    "summary(netFr, print.adj = FALSE)"
   ]
  },
  {
   "cell_type": "markdown",
   "metadata": {
    "pycharm": {
     "name": "#%% md\n"
    }
   },
   "source": [
    "Вычисление \"пятичисловой сводки\" сети.\n",
    "\n",
    "Вычисление плотности: $$\\frac{102}{A\\binom{2}{21}} = 0.242...$$\n",
    "\n",
    "Количество компонент: 3 (отдельно 7, отдельно 9, все остальные вместе)"
   ]
  },
  {
   "cell_type": "code",
   "execution_count": 140,
   "metadata": {
    "pycharm": {
     "name": "#%%\n"
    }
   },
   "outputs": [
    {
     "name": "stdout",
     "output_type": "stream",
     "text": [
      "[1] \"Размер: 21\"\n",
      "[1] \"Плотность: 0.242857142857143\"\n",
      "[1] \"Компоненты: 3\"\n",
      "[1] \"Диаметр:  5\"\n",
      "[1] \"Коэффициент кластеризации:  0.461052631578947\"\n"
     ]
    }
   ],
   "source": [
    "#пятичисловая сводка\n",
    "print(paste('Размер:', network.size(netFr)))\n",
    "print(paste('Плотность:', gden(netFr, mode=\"digraph\")))\n",
    "print(paste('Компоненты:', components(netFr)))\n",
    "\n",
    "largestComponentFr <- component.largest(netFr, result = \"graph\")\n",
    "geoDistancesFr <- geodist(largestComponentFr)\n",
    "print(paste('Диаметр: ', max(geoDistancesFr$gdist)))\n",
    "\n",
    "print(paste('Коэффициент кластеризации: ', gtrans(netFr, mode = \"digraph\")))"
   ]
  },
  {
   "cell_type": "markdown",
   "metadata": {
    "pycharm": {
     "name": "#%% md\n"
    }
   },
   "source": [
    "Вычисление средней степени узлов и дисперсии:"
   ]
  },
  {
   "cell_type": "code",
   "execution_count": 141,
   "metadata": {
    "pycharm": {
     "name": "#%%\n"
    }
   },
   "outputs": [
    {
     "name": "stdout",
     "output_type": "stream",
     "text": [
      "[1] \"Средняя входящая степень:  4.85714285714286\"\n",
      "[1] \"Дисперсия входящей степеней:  4.69387755102041\"\n",
      "[1] \"Средняя исходящая степень:  4.85714285714286\"\n",
      "[1] \"Дисперсия исходящей степеней:  19.0748299319728\"\n"
     ]
    }
   ],
   "source": [
    "degreeVar <- function(net, meanDegree, mode) {\n",
    "    return (1/network.size(net)*sum((degree(net, cmode=mode) - meanDegree)^2))\n",
    "}\n",
    "\n",
    "meanInDegree <- mean(degree(netFr, cmode=\"indegree\"))\n",
    "meanOutDegree <- mean(degree(netFr, cmode=\"outdegree\"))\n",
    "print(paste('Средняя входящая степень: ', meanInDegree))\n",
    "print(paste('Дисперсия входящей степеней: ', degreeVar(netFr, meanInDegree, \"indegree\")))\n",
    "print(paste('Средняя исходящая степень: ', meanOutDegree))\n",
    "print(paste('Дисперсия исходящей степеней: ', degreeVar(netFr, meanOutDegree, \"outdegree\")))"
   ]
  },
  {
   "cell_type": "markdown",
   "metadata": {
    "pycharm": {
     "name": "#%% md\n"
    }
   },
   "source": [
    "Значение средней входящей степени узлов означает, что в среднем с каждым менеджером дружит с примерно 5 другими менеджерами.\n",
    "Значение средней исходящей степени узлов означает, что в среднем каждый менеджер дружит с примерно 19 другими менеджерами."
   ]
  },
  {
   "cell_type": "markdown",
   "metadata": {
    "pycharm": {
     "name": "#%% md\n"
    }
   },
   "source": [
    "13. Заполнена таблица для различных мер престижа:\n",
    "\n",
    "| $$n_{i}$$ | $$P'_{D}(n_{i})$$ | $$P'_{P}(n_{i})$$ |\n",
    "|-----------|-------------------|-------------------|\n",
    "|  1         |  0.4                 | 0.416                  |\n",
    "|  2         |  0.5                 | 0.4                  |\n",
    "|  3         |  0.25                  |  0.408                 |\n",
    "|  4         |  0.25                 |  0.571                 |\n",
    "|  5         |  0.3                 |  0.606                 |\n",
    "|  6         |  0.1                 |  0.571                 |\n",
    "|  7         |  0.15                 |  0                 |\n",
    "|  8         |  0.25                 |  0.37                 |\n",
    "|  9         |  0.3                 |   0                |\n",
    "|  10         |  0.05                 |  0.541                 |\n",
    "|  11         |  0.3                 |  0.74                 |\n",
    "|  12         |  0.4                 |  0.541                 |\n",
    "|  13         |  0.05                 | 0.465                  |\n",
    "|  14         |  0.25                 |  0.4                 |\n",
    "|  15         |  0.2                 |  0.606                 |\n",
    "|  16         |  0.2                 |  0.312                 |\n",
    "|  17         |  0.3                 |  0.909                 |\n",
    "|  18         |  0.2                 |  0.289                 |\n",
    "|  19         |  0.25                 | 0.625                  |\n",
    "|  20         |  0.15                 | 0.455                  |\n",
    "|  21         |  0.25                 | 0.541                  |\n",
    "\n",
    "Cамым важным по степени является 2, а по близости - 17"
   ]
  },
  {
   "cell_type": "code",
   "execution_count": 142,
   "metadata": {
    "pycharm": {
     "name": "#%%\n"
    }
   },
   "outputs": [
    {
     "data": {
      "text/html": [
       "<style>\n",
       ".list-inline {list-style: none; margin:0; padding: 0}\n",
       ".list-inline>li {display: inline-block}\n",
       ".list-inline>li:not(:last-child)::after {content: \"\\00b7\"; padding: 0 .5ex}\n",
       "</style>\n",
       "<ol class=list-inline><li>0.4</li><li>0.5</li><li>0.25</li><li>0.25</li><li>0.3</li><li>0.1</li><li>0.15</li><li>0.25</li><li>0.3</li><li>0.05</li><li>0.3</li><li>0.4</li><li>0.05</li><li>0.25</li><li>0.2</li><li>0.2</li><li>0.3</li><li>0.2</li><li>0.25</li><li>0.15</li><li>0.25</li></ol>\n"
      ],
      "text/latex": [
       "\\begin{enumerate*}\n",
       "\\item 0.4\n",
       "\\item 0.5\n",
       "\\item 0.25\n",
       "\\item 0.25\n",
       "\\item 0.3\n",
       "\\item 0.1\n",
       "\\item 0.15\n",
       "\\item 0.25\n",
       "\\item 0.3\n",
       "\\item 0.05\n",
       "\\item 0.3\n",
       "\\item 0.4\n",
       "\\item 0.05\n",
       "\\item 0.25\n",
       "\\item 0.2\n",
       "\\item 0.2\n",
       "\\item 0.3\n",
       "\\item 0.2\n",
       "\\item 0.25\n",
       "\\item 0.15\n",
       "\\item 0.25\n",
       "\\end{enumerate*}\n"
      ],
      "text/markdown": [
       "1. 0.4\n",
       "2. 0.5\n",
       "3. 0.25\n",
       "4. 0.25\n",
       "5. 0.3\n",
       "6. 0.1\n",
       "7. 0.15\n",
       "8. 0.25\n",
       "9. 0.3\n",
       "10. 0.05\n",
       "11. 0.3\n",
       "12. 0.4\n",
       "13. 0.05\n",
       "14. 0.25\n",
       "15. 0.2\n",
       "16. 0.2\n",
       "17. 0.3\n",
       "18. 0.2\n",
       "19. 0.25\n",
       "20. 0.15\n",
       "21. 0.25\n",
       "\n",
       "\n"
      ],
      "text/plain": [
       " [1] 0.40 0.50 0.25 0.25 0.30 0.10 0.15 0.25 0.30 0.05 0.30 0.40 0.05 0.25 0.20\n",
       "[16] 0.20 0.30 0.20 0.25 0.15 0.25"
      ]
     },
     "metadata": {},
     "output_type": "display_data"
    },
    {
     "data": {
      "text/html": [
       "<style>\n",
       ".dl-inline {width: auto; margin:0; padding: 0}\n",
       ".dl-inline>dt, .dl-inline>dd {float: none; width: auto; display: inline-block}\n",
       ".dl-inline>dt::after {content: \":\\0020\"; padding-right: .5ex}\n",
       ".dl-inline>dt:not(:first-of-type) {padding-left: .5ex}\n",
       "</style><dl class=dl-inline><dt>V1</dt><dd>0.416666666666667</dd><dt>V2</dt><dd>0.4</dd><dt>V3</dt><dd>0.408163265306122</dd><dt>V4</dt><dd>0.571428571428571</dd><dt>V5</dt><dd>0.606060606060606</dd><dt>V6</dt><dd>0.571428571428571</dd><dt>V7</dt><dd>1</dd><dt>V8</dt><dd>0.37037037037037</dd><dt>V9</dt><dd>1</dd><dt>V10</dt><dd>0.54054054054054</dd><dt>V11</dt><dd>0.740740740740741</dd><dt>V12</dt><dd>0.54054054054054</dd><dt>V13</dt><dd>0.465116279069767</dd><dt>V14</dt><dd>0.4</dd><dt>V15</dt><dd>0.606060606060606</dd><dt>V16</dt><dd>0.3125</dd><dt>V17</dt><dd>0.909090909090909</dd><dt>V18</dt><dd>0.289855072463768</dd><dt>V19</dt><dd>0.625</dd><dt>V20</dt><dd>0.454545454545455</dd><dt>V21</dt><dd>0.54054054054054</dd></dl>\n"
      ],
      "text/latex": [
       "\\begin{description*}\n",
       "\\item[V1] 0.416666666666667\n",
       "\\item[V2] 0.4\n",
       "\\item[V3] 0.408163265306122\n",
       "\\item[V4] 0.571428571428571\n",
       "\\item[V5] 0.606060606060606\n",
       "\\item[V6] 0.571428571428571\n",
       "\\item[V7] 1\n",
       "\\item[V8] 0.37037037037037\n",
       "\\item[V9] 1\n",
       "\\item[V10] 0.54054054054054\n",
       "\\item[V11] 0.740740740740741\n",
       "\\item[V12] 0.54054054054054\n",
       "\\item[V13] 0.465116279069767\n",
       "\\item[V14] 0.4\n",
       "\\item[V15] 0.606060606060606\n",
       "\\item[V16] 0.3125\n",
       "\\item[V17] 0.909090909090909\n",
       "\\item[V18] 0.289855072463768\n",
       "\\item[V19] 0.625\n",
       "\\item[V20] 0.454545454545455\n",
       "\\item[V21] 0.54054054054054\n",
       "\\end{description*}\n"
      ],
      "text/markdown": [
       "V1\n",
       ":   0.416666666666667V2\n",
       ":   0.4V3\n",
       ":   0.408163265306122V4\n",
       ":   0.571428571428571V5\n",
       ":   0.606060606060606V6\n",
       ":   0.571428571428571V7\n",
       ":   1V8\n",
       ":   0.37037037037037V9\n",
       ":   1V10\n",
       ":   0.54054054054054V11\n",
       ":   0.740740740740741V12\n",
       ":   0.54054054054054V13\n",
       ":   0.465116279069767V14\n",
       ":   0.4V15\n",
       ":   0.606060606060606V16\n",
       ":   0.3125V17\n",
       ":   0.909090909090909V18\n",
       ":   0.289855072463768V19\n",
       ":   0.625V20\n",
       ":   0.454545454545455V21\n",
       ":   0.54054054054054\n",
       "\n"
      ],
      "text/plain": [
       "       V1        V2        V3        V4        V5        V6        V7        V8 \n",
       "0.4166667 0.4000000 0.4081633 0.5714286 0.6060606 0.5714286 1.0000000 0.3703704 \n",
       "       V9       V10       V11       V12       V13       V14       V15       V16 \n",
       "1.0000000 0.5405405 0.7407407 0.5405405 0.4651163 0.4000000 0.6060606 0.3125000 \n",
       "      V17       V18       V19       V20       V21 \n",
       "0.9090909 0.2898551 0.6250000 0.4545455 0.5405405 "
      ]
     },
     "metadata": {},
     "output_type": "display_data"
    }
   ],
   "source": [
    "prestige(netFr, cmode=\"indegree\")/20 \n",
    "paths <- shortest.paths(gFr, to=V(gFr), mode=\"out\") \n",
    "paths[!is.finite(paths)] <- 1\n",
    "pathsCount <- rep(0, 21)\n",
    "for (i in 1:nrow(paths)){ \n",
    "    for(j in 1:ncol(paths)){\n",
    "        if(paths[i,j]!=0){\n",
    "            pathsCount[i] <- pathsCount[i]+1       \n",
    "        }\n",
    "    }\n",
    "}\n",
    "pathsSum <- rowSums(paths)\n",
    "P_res <- (pathsCount/20)/(pathsSum/pathsCount)\n",
    "P_res"
   ]
  },
  {
   "cell_type": "markdown",
   "metadata": {
    "pycharm": {
     "name": "#%% md\n"
    }
   },
   "source": [
    "## Выводы\n",
    "\n",
    "Были изучены способы работы с математическими пакетами R. Заданные сети были визуализированы с помощью силовых алгоритмов Фрюхтермана–Рейнгольда и Камада–Каваи. В ходе выполнения работы возникали трудности с синтаксисом языка, т.к. довольно сложно привыкнуть к тому что, например, действия по типу присваивания в R нужно выполнять не привычным = , а не очень удобной <-"
   ]
  }
 ],
 "metadata": {
  "kernelspec": {
   "display_name": "R",
   "language": "R",
   "name": "ir"
  },
  "language_info": {
   "codemirror_mode": "r",
   "file_extension": ".r",
   "mimetype": "text/x-r-source",
   "name": "R",
   "pygments_lexer": "r",
   "version": "4.2.1"
  }
 },
 "nbformat": 4,
 "nbformat_minor": 4
}