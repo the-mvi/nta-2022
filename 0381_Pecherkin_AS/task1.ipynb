{
 "cells": [
  {
   "cell_type": "markdown",
   "metadata": {
    "pycharm": {
     "name": "#%% md\n"
    }
   },
   "source": [
    "# Практическая работа №1: Теория и анализ сетей\n",
    "Выполнил студент гр. 0381 Печеркин Алексей. Вариант №14"
   ]
  },
  {
   "cell_type": "markdown",
   "metadata": {
    "pycharm": {
     "name": "#%% md\n"
    }
   },
   "source": [
    "## Цель работы\n",
    "Овладеть навыками работы с математическими пакетами для моделирования, визуализации и анализа социальных сетей."
   ]
  },
  {
   "cell_type": "markdown",
   "metadata": {
    "pycharm": {
     "name": "#%% md\n"
    }
   },
   "source": [
    "## Основные теоретические положения\n",
    "Социоматрица - матрица X размерность g x g описывающая смежные узлы<br>\n",
    "$$ X = \\{x_{ij;r}\\}    i,j = 1,...,g $$<br>\n",
    "Сеть - объект, представляющий собой совокупность конечного набора акторов и отношения определенное на них.<br>\n",
    "Актор - дискретное индивидуальное корпоративное социальная единица.<br>\n",
    "Размер сети - количество акторов в сети.<br>\n",
    "Плотность сети - доля имеющихся связей по отношению к максимально возможному количеству связей в сети с таким же количеством акторов.<br>\n",
    "Плотность для ориентированной сети - $$\\Delta = \\frac{L}{A_g^2}$$ <br>\n",
    "Плотность для неориентированной сети - $$\\Delta = \\frac{L}{C_g^2}$$ <br>\n",
    "Компонента - подгруппа в которой все акторы связаны друг с другом прямо или косвенно.<br>\n",
    "Диаметр сети - наибольшая длина любого из кратчайших путей между всеми парами узлов.<br>\n",
    "Коэффициент кластеризации - доля закрытых треугольников (триад, где наблюдаются все связи) по отношению к общему количеству треугольников.<br>\n",
    "Степень узла - число ребер, инцидентных узлу $n_i$ <br>\n",
    "Средняя степень: $$\\bar{d} = \\frac{1}{g}\\sum_{i=1}^gd(n_i)$$\n",
    "Дисперсия степеней узла: $$S_d^2 = \\frac{1}{g}\\sum_{i=1}^g(d(n_i)-\\bar{d})^2$$\n",
    "Центральность - мера, характеризующая актора с большим количеством связей(прямых или косвенных).<br>\n",
    "Центральность по степени: $$C_D(n_i) = d(n_i)$$<br>\n",
    "Нормированная центральность по степени: $$\\frac{d(n_i)}{g-1}$$<br>\n",
    "Центральность по близости - более важным считается узел, наиболее близкий к остальным.\n",
    "$$C_C(n_i)=(\\sum_{i=1}^gd(n_i,n_j))^{-1}$$\n",
    "Нормированная центральность по близости: $$C_C^{'}(n_i)=(g-1)C_C(n_i)$$\n",
    "Центральность по посредничеству показывает, насколько важную роль узел играет на пути между другими узлами.\n",
    "$$C_B(n_i)=\\sum_{i<k}g_{ik}(n_i)/g_{jk}$$, где $g_{jk}$ расстояние между узлами j и k, а\n",
    "$g_{jk}(n_i)$ - количество кратчайших путей между узлами j и k через i.<br>\n",
    "Центральность по информации показывает, сколько информации содержится в путях, которые начинаются и заканчиваются у определенного актора.\n",
    "$$ A = \\{a_{ij}\\}$$ - матрица размера g x g, где $$ a_{ii} = 1 + \\sum_{j=1}^{g}{x_{ij}}$$\n",
    "$$ a_{ij} = 1 \\text{ , if } n_{i} \\text{ and } n_{j} \\text{ are not connected}$$\n",
    "$$ a_{ij} = 1-x_{ij} \\text{ , if } n_{i} \\text{ and } n_{j} \\text{ are connected}$$\n",
    "$$ x_{ij} \\text{- weight of edge between }n_{i} \\text{ and } n_{j}$$\n",
    "$$ C = A^{-1}$$\n",
    "$$C_I(n_{i}) =  \\frac{1}{c_{ii}+(T-2R)/g}$$, где $$T = trace(C)$$ $$R = \\sum_{j=1}^{g}c_{ij}$$\n",
    "$$C_I^{'}=\\frac{C_I(n_i)}{\\sum_{i}C_I(n_i)}$$\n",
    "Централизация показывает, насколько равномерно распределены центральности акторов в сети.<br>\n",
    "Централизация по степени:\n",
    "$$C_D = \\frac{\\sum_{i=1}^g(C_D(n^{*})-C_D(n_i))}{(g-1)(g-2)}$$\n",
    "Централизация по близости:\n",
    "$$C_C = \\frac{\\sum_{i=1}^g(C_C^{'}(n^{*})-C_C^{'}(n_i))}{(g-1)(g-2)/(2g-3)}$$\n",
    "Централизация по посредничеству:\n",
    "$$C_B = \\frac{\\sum_{i=1}^g(C_B^{'}(n^{*})-C_B^{'}(n_i))}{g-1}$$\n",
    "Централизация по информации:\n",
    "$$C_I =\\frac{1}{g}\\sum_{i=1}^g(C_I^{'}(n^{*})-\\bar{C_I}(n_i))^2$$, где $$ \\bar{C_I} = \\sum_iC_I^{'}(n_i)$$\n",
    "Точка сочленения - узел, при удалении которого увеличивается количество компонент связности.<br>\n",
    "Мост - ребро, при удалении которого одна компонента связности разделяется на 2.<br>\n",
    "Престиж - мера, характеризующая фктора с большим количеством входящих связей.<br>\n",
    "Престиж по степени - входящая степень каждого узла. $$P_D(n_i) = d_I(n_i)=x_{+i}$$\n",
    "Нормированный престиж по степени: $$P_D^{'}(n_i) =\\frac{x_{+i}}{g-1}$$\n",
    "Престиж по близости - определяет, насколько все акторы близки к заданному по расстоянию до него.\n",
    "$$ P_P(n_i) = \\frac{\\#I_i/(g-1)}{\\sum_{j:n_j \\in I_i}(d(n_j,n_i)/\\#I_i)}$$\n"
   ]
  },
  {
   "cell_type": "markdown",
   "metadata": {
    "pycharm": {
     "name": "#%% md\n"
    }
   },
   "source": [
    "## Постановка задачи\n",
    "С помощью математических пакетов и соответствующих библиотек провести анализ заданных социальных сетей вычислить описательные характеристики. Полученные результаты содержательно проинтерпретировать."
   ]
  },
  {
   "cell_type": "markdown",
   "metadata": {
    "pycharm": {
     "name": "#%% md\n"
    }
   },
   "source": [
    "## Выполнение работы\n",
    "1. Из файла florentine_marital.csv извлечь социоматрицу с помощью соответствующих функций. Вывести полученную социоматрицу на экран."
   ]
  },
  {
   "cell_type": "code",
   "execution_count": 2,
   "metadata": {
    "pycharm": {
     "is_executing": true,
     "name": "#%%\n"
    }
   },
   "outputs": [
    {
     "name": "stderr",
     "output_type": "stream",
     "text": [
      "\n",
      "Присоединяю пакет: 'igraph'\n",
      "\n",
      "\n",
      "Следующие объекты скрыты от 'package:stats':\n",
      "\n",
      "    decompose, spectrum\n",
      "\n",
      "\n",
      "Следующий объект скрыт от 'package:base':\n",
      "\n",
      "    union\n",
      "\n",
      "\n"
     ]
    },
    {
     "name": "stdout",
     "output_type": "stream",
     "text": [
      "   V1 V2 V3 V4 V5 V6 V7 V8 V9 V10 V11 V12 V13 V14 V15 V16\n",
      "3   0  0  0  0  0  0  0  0  1   0   0   0   0   0   0   0\n",
      "4   0  0  0  0  0  1  1  0  1   0   0   0   0   0   0   0\n",
      "5   0  0  0  0  1  0  0  0  1   0   0   0   0   0   0   0\n",
      "6   0  0  0  0  0  0  1  0  0   0   1   0   0   0   1   0\n",
      "7   0  0  1  0  0  0  0  0  0   0   1   0   0   0   1   0\n",
      "8   0  1  0  0  0  0  0  0  0   0   0   0   0   0   0   0\n",
      "9   0  1  0  1  0  0  0  1  0   0   0   0   0   0   0   1\n",
      "10  0  0  0  0  0  0  1  0  0   0   0   0   0   0   0   0\n",
      "11  1  1  1  0  0  0  0  0  0   0   0   0   1   1   0   1\n",
      "12  0  0  0  0  0  0  0  0  0   0   0   0   0   1   0   0\n",
      "13  0  0  0  1  1  0  0  0  0   0   0   0   0   0   1   0\n",
      "14  0  0  0  0  0  0  0  0  0   0   0   0   0   0   0   0\n",
      "15  0  0  0  0  0  0  0  0  1   0   0   0   0   0   1   1\n",
      "16  0  0  0  0  0  0  0  0  1   1   0   0   0   0   0   0\n",
      "17  0  0  0  1  1  0  0  0  0   0   1   0   1   0   0   0\n",
      "18  0  0  0  0  0  0  1  0  1   0   0   0   1   0   0   0\n"
     ]
    }
   ],
   "source": [
    "library(igraph)\n",
    "\n",
    "file <- read.csv('./even/florentine_marital.csv', header = FALSE) #Считывание из csv\n",
    "data <- tail(file,16)  #Удаление комментариев\n",
    "data <- data.matrix(data)-1\n",
    "print(data)"
   ]
  },
  {
   "cell_type": "markdown",
   "metadata": {},
   "source": [
    "2. Преобразовать социоматрицу в список рёбер. Вывести первые 5 элементов списка рёбер"
   ]
  },
  {
   "cell_type": "code",
   "execution_count": 3,
   "metadata": {},
   "outputs": [
    {
     "name": "stdout",
     "output_type": "stream",
     "text": [
      "     [,1] [,2]\n",
      "[1,] \"V1\" \"V9\"\n",
      "[2,] \"V2\" \"V6\"\n",
      "[3,] \"V2\" \"V7\"\n",
      "[4,] \"V2\" \"V9\"\n",
      "[5,] \"V3\" \"V5\"\n"
     ]
    }
   ],
   "source": [
    "graph <- graph.adjacency(data,mode=\"undirected\") #Преобразование в граф\n",
    "edges <- get.edgelist(graph) #Список ребер графа\n",
    "print(head(edges,5))"
   ]
  },
  {
   "cell_type": "markdown",
   "metadata": {},
   "source": [
    "3. Присвоить имена столбцам и строкам социоматрицы (имена – первая строка в csv-файле после комментариев)"
   ]
  },
  {
   "cell_type": "code",
   "execution_count": 4,
   "metadata": {},
   "outputs": [],
   "source": [
    "rownames(data) <- file[2,] #Имена строк\n",
    "colnames(data) <- file[2,] #Имена столбцов"
   ]
  },
  {
   "cell_type": "markdown",
   "metadata": {},
   "source": [
    "4. С помощью соответствующих функций по полученной социоматрице построить ненаправленную сеть. Объяснить параметры, передаваемые в функцию.<br>\n",
    "В функцию передается социоматрица data и параметр, который отвечает за тип сети - неориентированный\n"
   ]
  },
  {
   "cell_type": "code",
   "execution_count": 5,
   "metadata": {},
   "outputs": [],
   "source": [
    "network <- graph.adjacency(data,mode=\"undirected\")  #Преобразование в граф"
   ]
  },
  {
   "cell_type": "markdown",
   "metadata": {},
   "source": [
    "5. Отобразить сеть с помощью алгоритмов укладки Фрюхтермана–Рейнгольда и Камада–Каваи. Объяснить, в чём различие между алгоритмами и укладками."
   ]
  },
  {
   "cell_type": "code",
   "execution_count": 6,
   "metadata": {},
   "outputs": [
    {
     "data": {
      "image/png": "[encoded data removed]",
      "text/plain": [
       "Plot with title \"Fruchterman-Reingold\""
      ]
     },
     "metadata": {
      "image/png": {
       "height": 420,
       "width": 420
      }
     },
     "output_type": "display_data"
    },
    {
     "data": {
      "image/png": "[encoded data removed]",
      "text/plain": [
       "Plot with title \"Kamada-Kawai\""
      ]
     },
     "metadata": {
      "image/png": {
       "height": 420,
       "width": 420
      }
     },
     "output_type": "display_data"
    }
   ],
   "source": [
    "plot(network,layout = layout.fruchterman.reingold,main=\"Fruchterman-Reingold\")\n",
    "plot(network,layout = layout.kamada.kawai,main=\"Kamada-Kawai\")"
   ]
  },
  {
   "cell_type": "markdown",
   "metadata": {},
   "source": [
    "Оба алгоритма относятся к силовым алгоритмам укладки.\n",
    "\n",
    "Алгоритм Фрюхтермана-Рейнгольда на каждой итерации применяет силу к каждой вершине,а Комада-Кавай на каждой итерации выбирает одну вершину, на которую действует наибольшая сила и перемещает её, при этом остальные вершины остаются фиксированными."
   ]
  },
  {
   "cell_type": "markdown",
   "metadata": {},
   "source": [
    "6. Вывести «описательную сводку» сети.<br>\n",
    "Сеть содержит 16 акторов и 20 связей"
   ]
  },
  {
   "cell_type": "code",
   "execution_count": 7,
   "metadata": {},
   "outputs": [
    {
     "name": "stdout",
     "output_type": "stream",
     "text": [
      "Network summary:IGRAPH 1e23fa2 UN-- 16 20 -- \n",
      "+ attr: name (v/c)\n"
     ]
    }
   ],
   "source": [
    "cat(\"Network summary:\")\n",
    "summary(network)"
   ]
  },
  {
   "cell_type": "markdown",
   "metadata": {},
   "source": [
    "7. Вычислить «пятичисловую сводку» сети:<br>\n",
    "(a) Вычислить размер сети.<br>\n",
    "(b) Вычислить плотность сети вручную и с помощью соответствующей функции. Сделать выводы.<br>\n",
    "(c) Определить число компонент в сети по графику. Подтвердить свои догадки с помощью соответствующей функции. Сделать выводы.<br>\n",
    "(d) Вычислить диаметр сети. Сделать выводы.<br>\n",
    "(e) Вычислить коэффициент кластеризации. Сделать выводы.<br>"
   ]
  },
  {
   "cell_type": "code",
   "execution_count": 8,
   "metadata": {},
   "outputs": [
    {
     "name": "stdout",
     "output_type": "stream",
     "text": [
      "Network size:  16 \n",
      "Network density:  0.1666667 \n",
      "Network density 2:  0.1666667 \n",
      "Components:  2 \n",
      "Diameter:  5 \n",
      "Transitivity:  0.1914894 \n"
     ]
    }
   ],
   "source": [
    "cat(\"Network size: \",gorder(network),\"\\n\")\n",
    "\n",
    "cat(\"Network density: \",edge_density(network),\"\\n\")\n",
    "\n",
    "den <- gsize(network)/choose(gorder(network), 2)\n",
    "\n",
    "cat(\"Network density 2: \",den,\"\\n\")\n",
    "\n",
    "cat(\"Components: \",components(network)$no,\"\\n\")\n",
    "\n",
    "cat(\"Diameter: \",diameter(network),\"\\n\")\n",
    "\n",
    "cat(\"Transitivity: \",transitivity(network),\"\\n\" )"
   ]
  },
  {
   "cell_type": "markdown",
   "metadata": {},
   "source": [
    "Плотность сети низкая. Значение полученное при помощи функции igraph совпадает со значением рассчитанным по формуле.\n",
    "\n",
    "По графику видно 2 компоненты: 1 одиночный актор и 15 связанных между собой. Вызов функции подтверждает количество компонент.\n",
    "\n",
    "Вычисленный диаметр сети - 5. На графике это соответствует пути от Lamberteschi до Pazzi. Вершин, кратчайший путь между которыми длиннее найти нельзя.\n",
    "\n",
    "Коэффициент кластеризации невысокий, то есть большинство треугольников в сети открыты."
   ]
  },
  {
   "cell_type": "markdown",
   "metadata": {},
   "source": [
    "8. Вычислить среднюю степень узлов и дисперсию. Сделать выводы."
   ]
  },
  {
   "cell_type": "code",
   "execution_count": 9,
   "metadata": {},
   "outputs": [
    {
     "name": "stdout",
     "output_type": "stream",
     "text": [
      "Mean degree:  2.5 \n",
      "Degree variance:  2.266667 \n"
     ]
    }
   ],
   "source": [
    "cat(\"Mean degree: \",mean(degree(network)),\"\\n\")\n",
    "\n",
    "cat(\"Degree variance: \",var(degree(network)),\"\\n\")"
   ]
  },
  {
   "cell_type": "markdown",
   "metadata": {},
   "source": [
    "Средняя степень узлов - 2.5<br>\n",
    "Дисперсия - 2.266667<br>\n",
    "Дисперсия довольно высокая, так как есть узлы с нулевой степенью и узлы со степенью значительно больше среднего."
   ]
  },
  {
   "cell_type": "markdown",
   "metadata": {},
   "source": [
    "9. Заполнить таблицу для различных мер центральности. Примечание: меры центральности вычислить для неизолированных вершин.<br>\n",
    "Сделать выводы."
   ]
  },
  {
   "cell_type": "code",
   "execution_count": 10,
   "metadata": {},
   "outputs": [
    {
     "data": {
      "text/html": [
       "<table class=\"dataframe\">\n",
       "<caption>A data.frame: 15 × 5</caption>\n",
       "<thead>\n",
       "\t<tr><th></th><th scope=col>n</th><th scope=col>Cdn</th><th scope=col>Ccn</th><th scope=col>Cbn</th><th scope=col>CIn</th></tr>\n",
       "\t<tr><th></th><th scope=col>&lt;int&gt;</th><th scope=col>&lt;dbl&gt;</th><th scope=col>&lt;dbl&gt;</th><th scope=col>&lt;dbl&gt;</th><th scope=col>&lt;dbl&gt;</th></tr>\n",
       "</thead>\n",
       "<tbody>\n",
       "\t<tr><th scope=row>Acciaiuoli</th><td> 1</td><td>0.07142857</td><td>0.3684211</td><td>0.00000000</td><td>0.04943215</td></tr>\n",
       "\t<tr><th scope=row> Albizzi</th><td> 2</td><td>0.21428571</td><td>0.4827586</td><td>0.21245421</td><td>0.07408484</td></tr>\n",
       "\t<tr><th scope=row> Barbadori</th><td> 3</td><td>0.14285714</td><td>0.4375000</td><td>0.09340659</td><td>0.06816655</td></tr>\n",
       "\t<tr><th scope=row> Bischeri</th><td> 4</td><td>0.21428571</td><td>0.4000000</td><td>0.10439560</td><td>0.07427531</td></tr>\n",
       "\t<tr><th scope=row> Castellani</th><td> 5</td><td>0.21428571</td><td>0.3888889</td><td>0.05494505</td><td>0.07093098</td></tr>\n",
       "\t<tr><th scope=row> Ginori</th><td> 6</td><td>0.07142857</td><td>0.3333333</td><td>0.00000000</td><td>0.04309479</td></tr>\n",
       "\t<tr><th scope=row> Guadagni</th><td> 7</td><td>0.28571429</td><td>0.4666667</td><td>0.25457875</td><td>0.08190476</td></tr>\n",
       "\t<tr><th scope=row> Lamberteschi</th><td> 8</td><td>0.07142857</td><td>0.3255814</td><td>0.00000000</td><td>0.04562892</td></tr>\n",
       "\t<tr><th scope=row> Medici</th><td> 9</td><td>0.42857143</td><td>0.5600000</td><td>0.52197802</td><td>0.09502877</td></tr>\n",
       "\t<tr><th scope=row> Pazzi</th><td>10</td><td>0.07142857</td><td>0.2857143</td><td>0.00000000</td><td>0.03515798</td></tr>\n",
       "\t<tr><th scope=row> Peruzzi</th><td>11</td><td>0.21428571</td><td>0.3684211</td><td>0.02197802</td><td>0.06953773</td></tr>\n",
       "\t<tr><th scope=row> Ridolfi</th><td>12</td><td>0.21428571</td><td>0.5000000</td><td>0.11355311</td><td>0.08040678</td></tr>\n",
       "\t<tr><th scope=row> Salviati</th><td>13</td><td>0.14285714</td><td>0.3888889</td><td>0.14285714</td><td>0.05337198</td></tr>\n",
       "\t<tr><th scope=row> Strozzi</th><td>14</td><td>0.28571429</td><td>0.4375000</td><td>0.10256410</td><td>0.07841151</td></tr>\n",
       "\t<tr><th scope=row> Tornabuoni</th><td>15</td><td>0.21428571</td><td>0.4827586</td><td>0.09157509</td><td>0.08056694</td></tr>\n",
       "</tbody>\n",
       "</table>\n"
      ],
      "text/latex": [
       "A data.frame: 15 × 5\n",
       "\\begin{tabular}{r|lllll}\n",
       "  & n & Cdn & Ccn & Cbn & CIn\\\\\n",
       "  & <int> & <dbl> & <dbl> & <dbl> & <dbl>\\\\\n",
       "\\hline\n",
       "\tAcciaiuoli &  1 & 0.07142857 & 0.3684211 & 0.00000000 & 0.04943215\\\\\n",
       "\t Albizzi &  2 & 0.21428571 & 0.4827586 & 0.21245421 & 0.07408484\\\\\n",
       "\t Barbadori &  3 & 0.14285714 & 0.4375000 & 0.09340659 & 0.06816655\\\\\n",
       "\t Bischeri &  4 & 0.21428571 & 0.4000000 & 0.10439560 & 0.07427531\\\\\n",
       "\t Castellani &  5 & 0.21428571 & 0.3888889 & 0.05494505 & 0.07093098\\\\\n",
       "\t Ginori &  6 & 0.07142857 & 0.3333333 & 0.00000000 & 0.04309479\\\\\n",
       "\t Guadagni &  7 & 0.28571429 & 0.4666667 & 0.25457875 & 0.08190476\\\\\n",
       "\t Lamberteschi &  8 & 0.07142857 & 0.3255814 & 0.00000000 & 0.04562892\\\\\n",
       "\t Medici &  9 & 0.42857143 & 0.5600000 & 0.52197802 & 0.09502877\\\\\n",
       "\t Pazzi & 10 & 0.07142857 & 0.2857143 & 0.00000000 & 0.03515798\\\\\n",
       "\t Peruzzi & 11 & 0.21428571 & 0.3684211 & 0.02197802 & 0.06953773\\\\\n",
       "\t Ridolfi & 12 & 0.21428571 & 0.5000000 & 0.11355311 & 0.08040678\\\\\n",
       "\t Salviati & 13 & 0.14285714 & 0.3888889 & 0.14285714 & 0.05337198\\\\\n",
       "\t Strozzi & 14 & 0.28571429 & 0.4375000 & 0.10256410 & 0.07841151\\\\\n",
       "\t Tornabuoni & 15 & 0.21428571 & 0.4827586 & 0.09157509 & 0.08056694\\\\\n",
       "\\end{tabular}\n"
      ],
      "text/markdown": [
       "\n",
       "A data.frame: 15 × 5\n",
       "\n",
       "| <!--/--> | n &lt;int&gt; | Cdn &lt;dbl&gt; | Ccn &lt;dbl&gt; | Cbn &lt;dbl&gt; | CIn &lt;dbl&gt; |\n",
       "|---|---|---|---|---|---|\n",
       "| Acciaiuoli |  1 | 0.07142857 | 0.3684211 | 0.00000000 | 0.04943215 |\n",
       "|  Albizzi |  2 | 0.21428571 | 0.4827586 | 0.21245421 | 0.07408484 |\n",
       "|  Barbadori |  3 | 0.14285714 | 0.4375000 | 0.09340659 | 0.06816655 |\n",
       "|  Bischeri |  4 | 0.21428571 | 0.4000000 | 0.10439560 | 0.07427531 |\n",
       "|  Castellani |  5 | 0.21428571 | 0.3888889 | 0.05494505 | 0.07093098 |\n",
       "|  Ginori |  6 | 0.07142857 | 0.3333333 | 0.00000000 | 0.04309479 |\n",
       "|  Guadagni |  7 | 0.28571429 | 0.4666667 | 0.25457875 | 0.08190476 |\n",
       "|  Lamberteschi |  8 | 0.07142857 | 0.3255814 | 0.00000000 | 0.04562892 |\n",
       "|  Medici |  9 | 0.42857143 | 0.5600000 | 0.52197802 | 0.09502877 |\n",
       "|  Pazzi | 10 | 0.07142857 | 0.2857143 | 0.00000000 | 0.03515798 |\n",
       "|  Peruzzi | 11 | 0.21428571 | 0.3684211 | 0.02197802 | 0.06953773 |\n",
       "|  Ridolfi | 12 | 0.21428571 | 0.5000000 | 0.11355311 | 0.08040678 |\n",
       "|  Salviati | 13 | 0.14285714 | 0.3888889 | 0.14285714 | 0.05337198 |\n",
       "|  Strozzi | 14 | 0.28571429 | 0.4375000 | 0.10256410 | 0.07841151 |\n",
       "|  Tornabuoni | 15 | 0.21428571 | 0.4827586 | 0.09157509 | 0.08056694 |\n",
       "\n"
      ],
      "text/plain": [
       "              n  Cdn        Ccn       Cbn        CIn       \n",
       "Acciaiuoli     1 0.07142857 0.3684211 0.00000000 0.04943215\n",
       " Albizzi       2 0.21428571 0.4827586 0.21245421 0.07408484\n",
       " Barbadori     3 0.14285714 0.4375000 0.09340659 0.06816655\n",
       " Bischeri      4 0.21428571 0.4000000 0.10439560 0.07427531\n",
       " Castellani    5 0.21428571 0.3888889 0.05494505 0.07093098\n",
       " Ginori        6 0.07142857 0.3333333 0.00000000 0.04309479\n",
       " Guadagni      7 0.28571429 0.4666667 0.25457875 0.08190476\n",
       " Lamberteschi  8 0.07142857 0.3255814 0.00000000 0.04562892\n",
       " Medici        9 0.42857143 0.5600000 0.52197802 0.09502877\n",
       " Pazzi        10 0.07142857 0.2857143 0.00000000 0.03515798\n",
       " Peruzzi      11 0.21428571 0.3684211 0.02197802 0.06953773\n",
       " Ridolfi      12 0.21428571 0.5000000 0.11355311 0.08040678\n",
       " Salviati     13 0.14285714 0.3888889 0.14285714 0.05337198\n",
       " Strozzi      14 0.28571429 0.4375000 0.10256410 0.07841151\n",
       " Tornabuoni   15 0.21428571 0.4827586 0.09157509 0.08056694"
      ]
     },
     "metadata": {},
     "output_type": "display_data"
    }
   ],
   "source": [
    "isolated <- which(degree(network)==0) \n",
    "conn.net <- delete.vertices(network,isolated) #conn.net - сеть без изолированных акторов\n",
    "\n",
    "g<-gorder(conn.net) #g - кол-во акторв в сети\n",
    "lap<-solve(laplacian_matrix(conn.net) + 1) \n",
    "cii <- diag(lap)\n",
    "trace <- sum(diag(lap))\n",
    "row.sum <- 2*colSums(lap)\n",
    "CI <- 1 / (cii + (trace - row.sum) / g)\n",
    "CIn <- CI / sum(CI)\n",
    "\n",
    "Cd <- degree(conn.net) #Вычисление центральности по степени\n",
    "\n",
    "centrality <- data.frame(n=1:g,\n",
    "           Cdn = Cd / (g-1),#Нормированная центральность по степени\n",
    "           Ccn = closeness(conn.net,normalized = TRUE), #Нормированная центральность по близости\n",
    "           Cbn = betweenness(conn.net,normalized = TRUE), #Нормированная центральность по посредничеству\n",
    "           CIn = CIn\n",
    ")\n",
    "centrality"
   ]
  },
  {
   "cell_type": "markdown",
   "metadata": {},
   "source": [
    "| $n_{i}$|$C_D^{\\prime}(n_i)$|$C_C^{\\prime}(n_i)$|$C_B^{\\prime}(n_i)$|$C_I^{\\prime}(n_i)$|\n",
    "|--------------|------------|-----------|------------|------------|\n",
    "|   Acciaiuoli | 0.07142857 | 0.3684211 | 0.00000000 | 0.04943215 |\n",
    "|      Albizzi | 0.21428571 | 0.4827586 | 0.21245421 | 0.07408484 |\n",
    "|    Barbadori | 0.14285714 | 0.4375000 | 0.09340659 | 0.06816655 |\n",
    "|     Bischeri | 0.21428571 | 0.4000000 | 0.10439560 | 0.07427531 |\n",
    "|   Castellani | 0.21428571 | 0.3888889 | 0.05494505 | 0.07093098 |\n",
    "|       Ginori | 0.07142857 | 0.3333333 | 0.00000000 | 0.04309479 |\n",
    "|     Guadagni | 0.28571429 | 0.4666667 | 0.25457875 | 0.08190476 |\n",
    "| Lamberteschi | 0.07142857 | 0.3255814 | 0.00000000 | 0.04562892 |\n",
    "|       Medici | 0.42857143 | 0.5600000 | 0.52197802 | 0.09502877 |\n",
    "|        Pazzi | 0.07142857 | 0.2857143 | 0.00000000 | 0.03515798 |\n",
    "|      Peruzzi | 0.21428571 | 0.3684211 | 0.02197802 | 0.06953773 |\n",
    "|      Ridolfi | 0.21428571 | 0.5000000 | 0.11355311 | 0.08040678 |\n",
    "|     Salviati | 0.14285714 | 0.3888889 | 0.14285714 | 0.05337198 |\n",
    "|      Strozzi | 0.28571429 | 0.4375000 | 0.10256410 | 0.07841151 |\n",
    "|   Tornabuoni | 0.21428571 | 0.4827586 | 0.09157509 |  0.0805669 |\n",
    "\n",
    "\n",
    "Акторы, которые находятся в центре сети имеют наибольшую центральность. Напрмер, актор Medici имеет наибольшую центральность по всем метрикам."
   ]
  },
  {
   "cell_type": "markdown",
   "metadata": {},
   "source": [
    "10. Вычислить значение централизации для каждой меры. Сделать выводы.\n"
   ]
  },
  {
   "cell_type": "code",
   "execution_count": 11,
   "metadata": {},
   "outputs": [
    {
     "name": "stdout",
     "output_type": "stream",
     "text": [
      "Degree centralization:  0.2747253 \n",
      "Closeness centralization:  0.3224523 \n",
      "Betweenness centralization:  0.4368132 \n",
      "Information centralization:  0.0002973536 \n"
     ]
    }
   ],
   "source": [
    "Cdg <- centralize(Cd,((g-1)*(g-2)))\n",
    "Ccg <- centralize(centrality$Ccn,((g-1)*(g-2)/(2*g-3)))\n",
    "Cbg <- centralize(centrality$Cbn,g-1)\n",
    "Cig <- var(CIn)\n",
    "cat(\"Degree centralization: \",Cdg,\"\\n\")\n",
    "cat(\"Closeness centralization: \",Ccg,\"\\n\")\n",
    "cat(\"Betweenness centralization: \",Cbg,\"\\n\")\n",
    "cat(\"Information centralization: \",Cig,\"\\n\")"
   ]
  },
  {
   "cell_type": "markdown",
   "metadata": {},
   "source": [
    "| $C_D$     | $C_C$     | $C_B$     | $C_I$        |\n",
    "|-----------|-----------|-----------|--------------|\n",
    "| 0.2747253 | 0.3224523 | 0.4368132 | 0.0002973536 |\n",
    "\n",
    "Значение централизации сильно зависит от используемой меры."
   ]
  },
  {
   "cell_type": "markdown",
   "metadata": {},
   "source": [
    "11. Выявить точки сочленения и мосты сети. Подтвердить свои догадки с помощью соответствующих функций (если их нет – реализуйте их самостоятельно). Построить график сети, на котором выделены точки сочленения и мосты."
   ]
  },
  {
   "cell_type": "code",
   "execution_count": 13,
   "metadata": {},
   "outputs": [
    {
     "name": "stdout",
     "output_type": "stream",
     "text": [
      "+ 4/16 vertices, named, from a1f7df8:\n",
      "[1]  Albizzi   Guadagni  Medici    Salviati\n",
      "+ 5/20 edges from a1f7df8 (vertex names):\n",
      "[1]  Albizzi  -- Ginori        Guadagni -- Lamberteschi\n",
      "[3]  Pazzi    -- Salviati      Medici   -- Salviati    \n",
      "[5] Acciaiuoli-- Medici      \n"
     ]
    },
    {
     "data": {
      "image/png": "[encoded data removed]",
      "text/plain": [
       "Plot with title \"Art. points and bridges\""
      ]
     },
     "metadata": {
      "image/png": {
       "height": 420,
       "width": 420
      }
     },
     "output_type": "display_data"
    }
   ],
   "source": [
    "print(articulation.points(network))\n",
    "print(bridges(network))\n",
    "\n",
    "vert.colors <- ifelse(V(network) %in% articulation.points(network),'red','gray')\n",
    "edge.colors <- ifelse(E(network) %in% bridges(network),'green','gray')\n",
    "\n",
    "plot(network,main=\"Art. points and bridges\",vertex.color=vert.colors,edge.color = edge.colors,edge.width=4)"
   ]
  },
  {
   "cell_type": "markdown",
   "metadata": {},
   "source": [
    "По графику видно, что если удалить любой из узлов Salviati, Medici, Albizzi, Guadagni, число компонент увеличится.\n",
    "Также число компонент увеличивается при удалении ребер Pazzi-Salviati, Salviati-Madici, Medici-Acciaiuoli, Ginovi-Albizzi, Lamberteschi-Guadagni.\n",
    "Функции igraph подтверждают данные предположения."
   ]
  },
  {
   "cell_type": "markdown",
   "metadata": {},
   "source": [
    "12. Выполнить пп. 2–8 для направленной сети из файла krackhardt_friendship.csv."
   ]
  },
  {
   "cell_type": "code",
   "execution_count": 14,
   "metadata": {},
   "outputs": [
    {
     "name": "stdout",
     "output_type": "stream",
     "text": [
      "   V1 V2 V3 V4 V5 V6 V7 V8 V9 V10 V11 V12 V13 V14 V15 V16 V17 V18 V19 V20 V21\n",
      "3   1  1  0  1  0  0  0  1  0   0   0   1   0   0   0   1   0   0   0   0   0\n",
      "4   2  0  0  0  0  0  0  0  0   0   0   0   0   0   0   0   0   1   0   0   1\n",
      "5   1  0  0  0  0  0  0  0  0   0   0   0   0   1   0   0   0   0   1   0   0\n",
      "6   2  1  0  0  0  0  0  1  0   0   0   1   0   0   0   1   1   0   0   0   0\n",
      "7   1  1  0  0  0  0  0  0  1   0   1   0   0   1   0   0   1   0   1   0   1\n",
      "8   1  1  0  0  0  0  1  0  1   0   0   1   0   0   0   0   1   0   0   0   1\n",
      "9   1  0  0  0  0  0  0  0  0   0   0   0   0   0   0   0   0   0   0   0   0\n",
      "10  1  0  0  1  0  0  0  0  0   0   0   0   0   0   0   0   0   0   0   0   0\n",
      "11  1  0  0  0  0  0  0  0  0   0   0   0   0   0   0   0   0   0   0   0   0\n",
      "12  1  0  1  0  1  0  0  1  1   0   0   1   0   0   0   1   0   0   0   1   0\n",
      "13  2  1  1  1  1  0  0  1  1   0   0   1   1   0   1   0   1   1   1   0   0\n",
      "14  2  0  0  1  0  0  0  0  0   0   0   0   0   0   0   0   1   0   0   0   1\n",
      "15  1  0  0  0  1  0  0  0  0   0   1   0   0   0   0   0   0   0   0   0   0\n",
      "16  1  0  0  0  0  0  1  0  0   0   0   0   0   0   1   0   0   0   0   0   0\n",
      "17  2  0  1  0  1  1  0  0  1   0   1   0   0   1   0   0   0   0   1   0   0\n",
      "18  2  1  0  0  0  0  0  0  0   0   0   0   0   0   0   0   0   0   0   0   0\n",
      "19  2  1  1  1  1  1  1  1  1   1   1   1   0   1   1   1   0   0   1   1   1\n",
      "20  1  1  0  0  0  0  0  0  0   0   0   0   0   0   0   0   0   0   0   0   0\n",
      "21  2  1  1  0  1  0  0  0  0   0   1   1   0   1   1   0   0   0   0   1   0\n",
      "22  1  0  0  0  0  0  0  0  0   0   1   0   0   0   0   0   0   1   0   0   0\n",
      "23  1  1  0  0  0  0  0  0  0   0   0   1   0   0   0   0   1   1   0   0   0\n",
      "     [,1] [,2] \n",
      "[1,] \"V1\" \"V1\" \n",
      "[2,] \"V1\" \"V2\" \n",
      "[3,] \"V1\" \"V4\" \n",
      "[4,] \"V1\" \"V8\" \n",
      "[5,] \"V1\" \"V12\"\n"
     ]
    },
    {
     "data": {
      "image/png": "[encoded data removed]",
      "text/plain": [
       "Plot with title \"Fruchterman-Reingold\""
      ]
     },
     "metadata": {
      "image/png": {
       "height": 420,
       "width": 420
      }
     },
     "output_type": "display_data"
    },
    {
     "name": "stdout",
     "output_type": "stream",
     "text": [
      "dir.net summary:\n",
      "IGRAPH aae20ec DN-- 21 123 -- \n",
      "+ attr: name (v/c)\n",
      "dir.net size:  21 \n",
      "dir.net density:  0.2928571 \n",
      "dir.net density 2:  0.2928571 \n",
      "Components:  1 \n",
      "Diameter:  5 \n",
      "Transitivity:  0.5196305 \n",
      "Mean degree:  11.71429 \n",
      "Mean in-degree :  5.857143 \n",
      "Mean out-degree :  5.857143 \n",
      "Degree variance:  55.41429 \n",
      "in-degree variance:  32.52857 \n",
      "out-degree variance:  20.02857 \n"
     ]
    },
    {
     "data": {
      "image/png": "[encoded data removed]",
      "text/plain": [
       "Plot with title \"Kamada-Kawai\""
      ]
     },
     "metadata": {
      "image/png": {
       "height": 420,
       "width": 420
      }
     },
     "output_type": "display_data"
    }
   ],
   "source": [
    "file <- read.csv('./even/krackhardt_friendship.csv', header = FALSE)\n",
    "data <- file[3:nrow(file),]\n",
    "data <- data.matrix(data)\n",
    "print(data)\n",
    "\n",
    "graph <- graph.adjacency(data,mode=\"directed\")\n",
    "edges <- get.edgelist(graph)\n",
    "print(head(edges,5))\n",
    "\n",
    "dir.net<- graph_from_adjacency_matrix(data,mode=\"directed\")\n",
    "\n",
    "\n",
    "plot(dir.net,layout = layout.fruchterman.reingold,main=\"Fruchterman-Reingold\")\n",
    "plot(dir.net,layout = layout.kamada.kawai,main=\"Kamada-Kawai\")\n",
    "\n",
    "cat(\"dir.net summary:\\n\")\n",
    "summary(dir.net)\n",
    "\n",
    "cat(\"dir.net size: \",gorder(dir.net),\"\\n\")\n",
    "\n",
    "cat(\"dir.net density: \",edge_density(dir.net),\"\\n\")\n",
    "\n",
    "den <- gsize(dir.net)/ (factorial(gorder(dir.net)) / factorial(gorder(dir.net)-2))\n",
    "cat(\"dir.net density 2: \",den,\"\\n\")\n",
    "\n",
    "cat(\"Components: \",components(dir.net)$no,\"\\n\")\n",
    "\n",
    "cat(\"Diameter: \",diameter(dir.net),\"\\n\")\n",
    "\n",
    "cat(\"Transitivity: \",transitivity(dir.net),\"\\n\" )\n",
    "\n",
    "cat(\"Mean degree: \",mean(degree(dir.net)),\"\\n\")\n",
    "cat(\"Mean in-degree : \",mean(degree(dir.net,mode = \"in\")),\"\\n\")\n",
    "cat(\"Mean out-degree : \",mean(degree(dir.net,mode = \"out\")),\"\\n\")\n",
    "\n",
    "cat(\"Degree variance: \",var(degree(dir.net)),\"\\n\")\n",
    "cat(\"in-degree variance: \",var(degree(dir.net,mode = \"in\")),\"\\n\")\n",
    "cat(\"out-degree variance: \",var(degree(dir.net,mode = \"out\")),\"\\n\")\n"
   ]
  },
  {
   "cell_type": "markdown",
   "metadata": {},
   "source": [
    "13. Заполнить таблицу для различных мер престижа."
   ]
  },
  {
   "cell_type": "code",
   "execution_count": 21,
   "metadata": {},
   "outputs": [],
   "source": [
    "Pp<- NULL\n",
    "\n",
    "for (v in V(dir.net)){\n",
    "  Ii<-(length(subcomponent(dir.net,v)) - 1)\n",
    "  dij <- distances(dir.net,v=v)\n",
    "  dij[dij==Inf]<-0\n",
    "  Pp<-append(Pp,Ii*Ii/sum(dij)/(g-1))\n",
    "}\n",
    "g<-gorder(dir.net)\n",
    "\n",
    "prestige <- data.frame(n=1:g,\n",
    "                       deg = degree(dir.net,normalized = TRUE,mode=\"in\"),\n",
    "                        prox = Pp)"
   ]
  },
  {
   "cell_type": "markdown",
   "metadata": {},
   "source": [
    "| $n_i$ |$P_D^{\\prime}(n_i)$|$P_P^{\\prime}(n_i)$|\n",
    "|-------|------|-----------|\n",
    "|    V1 | 1.45000   | 1.4285714 |\n",
    "|    V2 | 0.50000   | 0.9523810 |\n",
    "|    V3 | 0.25000   | 0.8658009 |\n",
    "|    V4 | 0.25000   | 0.8658009 |\n",
    "|    V5 | 0.30000   | 0.9852217 |\n",
    "|    V6 | 0.10000   | 0.8928571 |\n",
    "|    V7 | 0.15000   | 0.7936508 |\n",
    "|    V8 | 0.25000   | 0.8163265 |\n",
    "|    V9 | 0.30000   | 0.8658009 |\n",
    "|   V10 | 0.05000   | 0.9216590 |\n",
    "|   V11 | 0.30000   | 1.0989011 |\n",
    "|   V12 | 0.40000   | 0.8928571 |\n",
    "|   V13 | 0.05000   | 0.7722008 |\n",
    "|   V14 | 0.25000   | 0.8658009 |\n",
    "|   V15 | 0.20000   | 0.9216590 |\n",
    "|   V16 | 0.20000   | 0.8163265 |\n",
    "|   V17 | 0.30000   | 1.2987013 |\n",
    "|   V18 | 0.20000   | 0.8163265 |\n",
    "|   V19 | 0.25000   | 0.9523810 |\n",
    "|   V20 | 0.15000   | 0.8403361 |\n",
    "|   V21 | 0.25000   | 0.8658009 |\n",
    "\n",
    "Наибольший престиж имеет актор V1. Что подтверждается наибольшим количеством связей у этого актора."
   ]
  },
  {
   "cell_type": "markdown",
   "metadata": {
    "pycharm": {
     "name": "#%% md\n"
    }
   },
   "source": [
    "## Выводы\n",
    "В процессе работы были получены навыки работы с математическим пакетом igraph для моделирования, визуализации и анализа сетей.<br> При выполнении работы возникли трудности, связанные с отсутствием в библиотеке функций для вычисления центральности по информации и престижа по близости, эти функции пришлось написать самостоятельно.\n"
   ]
  }
 ],
 "metadata": {
  "kernelspec": {
   "display_name": "R",
   "language": "R",
   "name": "ir"
  },
  "language_info": {
   "codemirror_mode": "r",
   "file_extension": ".r",
   "mimetype": "text/x-r-source",
   "name": "R",
   "pygments_lexer": "r",
   "version": "4.2.1"
  }
 },
 "nbformat": 4,
 "nbformat_minor": 4
}
