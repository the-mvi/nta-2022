{
 "cells": [
  {
   "cell_type": "markdown",
   "metadata": {},
   "source": [
    "### Практическая работа №3: Статистический анализ социальных сетей\n",
    "Выполнил студент гр. 0381 Печеркин Алексей. Вариант №14"
   ]
  },
  {
   "cell_type": "markdown",
   "metadata": {},
   "source": [
    "## Цель работы\n",
    "Овладеть навыками работы с математическими пакетами для статистического анализа социальных сетей."
   ]
  },
  {
   "cell_type": "markdown",
   "metadata": {},
   "source": [
    "## Основные теоретические положения\n",
    "Диада - пара акторов и возможная связь между ними\n",
    "$D_{ij}=(x_{ij}, x_{ji}), i \\neq j$\n",
    "\n",
    "Взаимная диада $D_{ij}=(1,1)$\n",
    "\n",
    "Асимметричная диада $D_{ij}=(1,0), D_{ij}=(0,1)$\n",
    "\n",
    "Нулевая диада $D_{ij}=(0,0)$\n",
    "\n",
    "Цензус диад - тройка чисел (M, A, N),\n",
    "где\n",
    "$M=\\sum_{in < j} x_{ij}x_{ji}$\n",
    "\n",
    "$A=X_{++} - 2M$\n",
    "\n",
    "$N=C_{g}^2-A-M$\n",
    "\n",
    "$M=\\frac12tr(XX)$\n",
    "\n",
    "$A=tr(XX^T)-tr(X^TX)$\n",
    "\n",
    "$N=C_g^2 - tr(XX^T) + \\frac12tr(XX)$\n",
    "\n",
    "Индекс взаимности Каца-Пауэлла - характеристика измерения тенденции акторов\n",
    "\n",
    "$-\\infty < p_{kp} \\le 1$\n",
    "\n",
    "Индекс взаимности основан на ожидании количества взаимных диад, предполагая, что выбор делается акторами случайным образом.\n",
    "\n",
    "Фиксированный выбор\n",
    "\n",
    "Предполагается, что каждый актор делает d выборов из $(g - 1)$ акторов, доступных для выбора. Вероятность взаимного выбора между любой парой акторов равна $d^2/(g-1)^2$\n",
    "\n",
    "Математическое ожидание взаимных диад\n",
    "\n",
    "$\\mathbb{E}=\\frac{g(g-1)}{2}=\\frac{d^2}{(g-1)^2}=\\frac{gd^2}{2(g-1)}$\n",
    "\n",
    "Вероятность того, что общая диада, в которой участвуют акторы является взаимной диадой\n",
    "\n",
    "$P(i \\rightarrow j \\wedge j \\rightarrow i)=P(i \\rightarrow j) * P(j \\rightarrow i | i \\rightarrow j )$\n",
    "\n",
    "Условная вероятность \n",
    "\n",
    "$P(j \\rightarrow i | i \\rightarrow j )=P(j \\rightarrow i)+p_{kp}P(j \\not\\rightarrow i)$\n",
    "\n",
    "Таким образом \n",
    "\n",
    "$P(i \\rightarrow j \\wedge j \\rightarrow i)=\\frac{d}{g-1}(\\frac{d}{g-1}+p_{kp}\\frac{g-1-d}{g-1})$\n",
    "\n",
    "Математическое ожидание взаимных диад с учётом данной вероятности\n",
    "\n",
    "$\\mathbb{E}(M|p) = \\frac{gd^2}{2(g-1)}(1-p_{kp}+\\frac{gd}{2}p_{kp}$\n",
    "\n",
    "Оценка $\\hat{p_{kp}}=\\frac{2(g-1)M-gd^2}{gd(g-1-d)}$\n",
    "\n",
    "Свободный выбор \n",
    "\n",
    "Пусть i-ый актор выбирает\n",
    "\n",
    "$d_o(n_i)=x_{i+}$\n",
    "\n",
    "Пусть $L=\\sum{x_{i+}} L=\\sum{x_{i+}^2}$\n",
    "\n",
    "Вероятность, что акторы имеют взаимное отношение, равна \n",
    "$X_i+x_j/(g-1)^2$\n",
    "\n",
    "Математическое ожидание взаимных диад\n",
    "$\\mathbb{E}=\\frac{L^2-L_2}{2(g-1)^2}$\n",
    "\n",
    "Математическое ожидание взаимных диад с учётом вероятности\n",
    "$\\mathbb{E}(M|p^{'})=\\frac{L^2-L_2}{2(g-1)}(1-p_{kp}^{'}+\\frac{L}{2}p_{kp})$\n",
    "\n",
    "Оценка по методу моментов\n",
    "\n",
    "$\\hat{p}_{kp}^{'}=\\frac{2(g-1)^2M-L^2+L_2}{L(g-1)^2-L^2+L_2}$\n",
    "\n",
    "Индекс взаимности Бандиопадхьяйя - основан на минимальном и максимальном значениях количества взаимных диад.\n",
    "Значение индекса:\n",
    "$\\rho_\\beta=\\frac{M-M_{min}}{M_{max}-M_{min}}$\n",
    "\n",
    "$M_{min}=max_{o\\le t \\le g}f(t)$\n",
    "\n",
    "$M_max=\\left\\lfloor\\frac12(\\sum_{i=1}^gx_{i+}-max_{0\\le t \\le g} g(t))\\right\\rfloor$\n",
    "\n",
    "$f(t)=\\sum_{i=1}^tx_{i+}-t(g-1)-C_t^2$\n",
    "\n",
    "$g(t) = \\sum_{i=1}^tx_{i+}-t(t-1)-\\sum_{i=t+1}min(t,x_{i+})$\n",
    "\n",
    "Статистическая гипотеза\n",
    "\n",
    "$H_0: L \\sim B(g(g-1),\\frac12)$\n",
    "\n",
    "Статистика:\n",
    "$z_i=\\frac{I-\\mathbb{E}(L)}{\\sqrt{D(L)}}=\\frac{I-g(g-1)/2}{\\sqrt{g(g-1)}/4}$,\n",
    "\n",
    "где $I=\\sum_{i=1}^g\\sum_{j=1}^gx_ij$\n",
    "Данная статистика является приблизительно стндартным номальным распределением при заданном урове значимости.\n",
    "Оценка вероятности p\n",
    "Число дуг $L \\sim B(g(g-1)P_0)$ Вероятность того, что число дуг в орграфе равно I, $P(L=I)=C_{g(g-1)}p_0^{'}(1-P_0)^{g(g-1)-L}$\n",
    "\n",
    "Математическое ожидание \n",
    "\n",
    "$\\mathbb{E}(L)=P_0g(g-1)$\n",
    "\n",
    "Дисперсия\n",
    "\n",
    "$\\mathbb{D}=P_0(1-P_0)g(g-1)$\n",
    "\n",
    "Нулевая гипотеза $H_0: L \\sim B(g(g-1)P_0)$ \n",
    "\n",
    "$z_i=\\frac{I-\\mathbb{E}(L)}{\\sqrt{D(L)}}=\\frac{I-P_0g(g-1)}{\\sqrt{P_0(1-P_0)g(g-1)}}$\n",
    "\n",
    "Данная статистика является приблизительно стандартным нормальным распределением при заданном уровне значимости.\n",
    "\n",
    "Оценка параметра\n",
    "$\\hat{p}=\\frac{\\sum_{i=1}^g\\sum_{j=1}^gx_{ij}}{g(g-1)}=\\frac{I}{g(g-1)}$\n",
    "\n",
    "Доверительный интервал \n",
    "\n",
    "$\\hat{p}_{lower} \\le p \\le \\hat{p}_{upper}$\n",
    "\n",
    "$\\hat{p}_{lower}=\\hat{p}-z_{\\alpha/2}\\sqrt{\\hat{p}(1-\\hat{p}/g(g-1)}$\n",
    "\n",
    "$\\hat{p}_{upper}=\\hat{p}+z_{\\alpha/2}\\sqrt{\\hat{p}(1-\\hat{p}/g(g-1)}$\n",
    "\n",
    "Здесь $z_{\\alpha/2} : \\Phi(z_{\\alpha/2})=0.5-\\alpha/2$"
   ]
  },
  {
   "cell_type": "markdown",
   "metadata": {},
   "source": [
    "## Постановка задачи\n",
    "С помощью математических пакетов и соответствующих библиотек провести статистический анализ случайно смоделированного ориентированного графа. Полученные результаты содержательно проинтерпретировать."
   ]
  },
  {
   "cell_type": "markdown",
   "metadata": {},
   "source": [
    "## Выполнение работы\n",
    "1. С помощью библиотеки igraph смоделировать случайный орграф $G_𝑑$ на основе модели Эрдеша—Реньи: $G_𝑑$ = G(𝑔, 𝑝), где 𝑔 – количество акторов, 𝑝 – вероятность появления дуги между акторами. В R для модели случайного графа Эрдеша—Реньи существует функция erdos.renyi.game(). Ознакомьтесь с данной моделью и опишите её."
   ]
  },
  {
   "cell_type": "code",
   "execution_count": 1,
   "metadata": {},
   "outputs": [
    {
     "name": "stderr",
     "output_type": "stream",
     "text": [
      "\n",
      "Присоединяю пакет: 'igraph'\n",
      "\n",
      "\n",
      "Следующие объекты скрыты от 'package:stats':\n",
      "\n",
      "    decompose, spectrum\n",
      "\n",
      "\n",
      "Следующий объект скрыт от 'package:base':\n",
      "\n",
      "    union\n",
      "\n",
      "\n"
     ]
    }
   ],
   "source": [
    "library('igraph')\n",
    "\n",
    "g <- 62\n",
    "p <- 0.77\n",
    "p0<- 0.76\n",
    "alpha <- 0.04\n",
    "\n",
    "network <- erdos.renyi.game(g, p, directed=TRUE)"
   ]
  },
  {
   "cell_type": "markdown",
   "metadata": {},
   "source": [
    "\n",
    "Граф строится путём случайного добавления рёбер. Каждое ребро включается в граф с вероятностью p независимо от остальных рёбер.\n",
    "Параметр p в этой модели можно рассматривать как функцию веса. По мере роста p от 0 к 1 модель включает с большей вероятностью графы с бо́льшим числом рёбер."
   ]
  },
  {
   "cell_type": "markdown",
   "metadata": {},
   "source": [
    "2. Отобразить полученный орграф."
   ]
  },
  {
   "cell_type": "code",
   "execution_count": 3,
   "metadata": {},
   "outputs": [
    {
     "data": {
      "image/png": "[encoded data removed]",
      "text/plain": [
       "Plot with title \"\""
      ]
     },
     "metadata": {
      "image/png": {
       "height": 420,
       "width": 420
      }
     },
     "output_type": "display_data"
    }
   ],
   "source": [
    "plot(network, layout=layout.fruchterman.reingold)"
   ]
  },
  {
   "cell_type": "markdown",
   "metadata": {},
   "source": [
    "3. Вычислить «пятичисловую сводку» для графа $G_𝑑$."
   ]
  },
  {
   "cell_type": "code",
   "execution_count": 4,
   "metadata": {},
   "outputs": [
    {
     "name": "stdout",
     "output_type": "stream",
     "text": [
      "dir.net size:  62 \n",
      "dir.net density:  0.774458 \n",
      "Components:  1 \n",
      "Diameter:  2 \n",
      "Transitivity:  0.9486405 \n"
     ]
    }
   ],
   "source": [
    "cat(\"dir.net size: \",gorder(network),\"\\n\")\n",
    "\n",
    "cat(\"dir.net density: \",edge_density(network),\"\\n\")\n",
    "\n",
    "cat(\"Components: \",components(network)$no,\"\\n\")\n",
    "\n",
    "cat(\"Diameter: \",diameter(network),\"\\n\")\n",
    "\n",
    "cat(\"Transitivity: \",transitivity(network),\"\\n\" )\n"
   ]
  },
  {
   "cell_type": "markdown",
   "metadata": {},
   "source": [
    "4. Вычислить цензус диад. Сделать выводы."
   ]
  },
  {
   "cell_type": "code",
   "execution_count": 10,
   "metadata": {},
   "outputs": [
    {
     "name": "stdout",
     "output_type": "stream",
     "text": [
      "M= 1136 \n",
      "A= 657 \n",
      "N= 98 \n"
     ]
    }
   ],
   "source": [
    "dyad.census <- dyad_census(network)\n",
    "cat('M=',dyad.census,\"\\n\")\n",
    "cat('A=',dyad.census$asym,\"\\n\")\n",
    "cat('N=',dyad.census$null,\"\\n\")"
   ]
  },
  {
   "cell_type": "code",
   "execution_count": null,
   "metadata": {},
   "outputs": [],
   "source": [
    "Цензус диад показывает, что большинство диад в графе имеют взаимную связь."
   ]
  },
  {
   "cell_type": "markdown",
   "metadata": {},
   "source": [
    "5. Вычислить оценку индекса взаимности Каца—Пауэла при фиксированом выборе акторов 𝑑 и при свободном выборе. Сделать выводы.\n",
    "\n",
    "$\\hat{p_{kp}}=\\frac{2(g-1)M-gd^2}{gd(g-1-d)}$\n",
    "\n",
    "Пусть $L=\\sum{x_{i+}} L=\\sum{x_{i+}^2}$\n",
    "\n",
    "$\\hat{p}_{kp}^{'}=\\frac{2(g-1)^2M-L^2+L_2}{L(g-1)^2-L^2+L_2}$"
   ]
  },
  {
   "cell_type": "code",
   "execution_count": 62,
   "metadata": {},
   "outputs": [
    {
     "name": "stdout",
     "output_type": "stream",
     "text": [
      "фиксированный выбор: 1.370274 \n",
      "свободный выбор: 0.005845297"
     ]
    }
   ],
   "source": [
    "g<-gorder(network)\n",
    "d<-0.5*g\n",
    "p.kp1<-(2*(g-1)*dyad.census$mut-g*d^2)/(g*d*(g-1-d))\n",
    "cat('фиксированный выбор:',p.kp1,\"\\n\")\n",
    "\n",
    "matrix <-as.matrix( as_adjacency_matrix(network))\n",
    "L <- sum(rowSums(matrix))\n",
    "L2 <- sum(rowSums(matrix)^2)\n",
    "\n",
    "p.kp2<-(2*(g-1)^2*dyad.census$mut-L^2+L2)/(L*(g-1)^2-L^2+L2)\n",
    "cat('свободный выбор:',p.kp2)"
   ]
  },
  {
   "cell_type": "markdown",
   "metadata": {},
   "source": [
    "При фиксированном выборе индекс взаимности больше, так как каждый актор выбирает из некоторого числа доступных акторов, а при свободном выборе это число изменяется. "
   ]
  },
  {
   "cell_type": "markdown",
   "metadata": {},
   "source": [
    "6. Вычислить вероятность того, что связь будет взаимной для каждого случая\n",
    "\n",
    "$P(i \\rightarrow j \\wedge j \\rightarrow i)=\\frac{d}{g-1}(\\frac{d}{g-1}+p_{kp}\\frac{g-1-d}{g-1})$\n",
    "\n",
    "$X_i+x_j/(g-1)^2$"
   ]
  },
  {
   "cell_type": "code",
   "execution_count": 22,
   "metadata": {},
   "outputs": [
    {
     "data": {
      "text/html": [
       "0.600740349021682"
      ],
      "text/latex": [
       "0.600740349021682"
      ],
      "text/markdown": [
       "0.600740349021682"
      ],
      "text/plain": [
       "[1] 0.6007403"
      ]
     },
     "metadata": {},
     "output_type": "display_data"
    },
    {
     "data": {
      "text/html": [
       "0.599596015639223"
      ],
      "text/latex": [
       "0.599596015639223"
      ],
      "text/markdown": [
       "0.599596015639223"
      ],
      "text/plain": [
       "[1] 0.599596"
      ]
     },
     "metadata": {},
     "output_type": "display_data"
    }
   ],
   "source": [
    "P.fix<-d/(g-1)*(d/(g-1)+p.kp1*(g-1-d)/(g-1))\n",
    "P.fix\n",
    "\n",
    "P.free <- sum((rowSums(matrix) * colSums(matrix))/(g - 1)^2)/g\n",
    "P.free\n"
   ]
  },
  {
   "cell_type": "markdown",
   "metadata": {},
   "source": [
    "7. Вычислить индекс взаимности Бандиопадхьяйя. Сделать выводы.\n"
   ]
  },
  {
   "cell_type": "code",
   "execution_count": 44,
   "metadata": {},
   "outputs": [
    {
     "data": {
      "text/html": [
       "1.21373510861948"
      ],
      "text/latex": [
       "1.21373510861948"
      ],
      "text/markdown": [
       "1.21373510861948"
      ],
      "text/plain": [
       "[1] 1.213735"
      ]
     },
     "metadata": {},
     "output_type": "display_data"
    }
   ],
   "source": [
    "ff<-function(t) {\n",
    "    x.iplus<-rowSums(matrix)\n",
    "   res<-sum(x.iplus[1:t]) - t(g-1)-choose(2,t)\n",
    "    return(res)\n",
    "}\n",
    "gf<-function(t) {\n",
    "    x.iplus<-rowSums(matrix)\n",
    "    tv<-rep(t,g)\n",
    "    mins<-pmin(tv,x.iplus)\n",
    "    res<-sum(x.iplus[1:t]) - t*(t-1)-sum(mins[(t+1):g])\n",
    "    return(res)\n",
    "}\n",
    "x.iplus<-rowSums(matrix)\n",
    "farr<-c()\n",
    "for (t in 0:g){\n",
    "    farr <-append(farr,ff(t))\n",
    "}\n",
    "garr<-c()\n",
    "for (t in 0:(g-1)) {\n",
    "    garr <-append(garr,gf(t))\n",
    "}                                           \n",
    "M.min<-max(farr)\n",
    "M.max<-floor(0.5*(sum(x.iplus)-max(garr)))\n",
    "\n",
    "Bp <- (dyad.census$mut - M.min)/(M.max - M.min)\n",
    "Bp"
   ]
  },
  {
   "cell_type": "markdown",
   "metadata": {},
   "source": [
    "Индекс взаимности Бандиопадхьяйя позволяет оценить взаимность без использования количества выборов, так как он использует минимальное и максимальное значение взаимных связей."
   ]
  },
  {
   "cell_type": "markdown",
   "metadata": {},
   "source": [
    "8. Проверить нулевую гипотезу о том, что число дуг 𝐿 в орграфе $G_𝑑$ имеет биномиальное распределение 𝐿 ∼ Bin(𝑔(𝑔 − 1), 1/2) при уровне значимости 𝛼. Определить максимальный уровень значимости при котором нулевая гипотеза не отвергается."
   ]
  },
  {
   "cell_type": "code",
   "execution_count": 47,
   "metadata": {},
   "outputs": [
    {
     "data": {
      "text/plain": [
       "\n",
       "\tExact binomial test\n",
       "\n",
       "data:  l and g * (g - 1)\n",
       "number of successes = 2929, number of trials = 3782, p-value < 2.2e-16\n",
       "alternative hypothesis: true probability of success is not equal to 0.5\n",
       "95 percent confidence interval:\n",
       " 0.7607966 0.7876939\n",
       "sample estimates:\n",
       "probability of success \n",
       "              0.774458 \n"
      ]
     },
     "metadata": {},
     "output_type": "display_data"
    }
   ],
   "source": [
    "l <- sum(matrix)\n",
    "binom.test(l, g*(g-1), 0.5)"
   ]
  },
  {
   "cell_type": "markdown",
   "metadata": {},
   "source": [
    "Так как максимальный уровень значимости = 2.2e-16 < 𝛼 = 0.04, отвергаем гипотезу."
   ]
  },
  {
   "cell_type": "markdown",
   "metadata": {},
   "source": [
    "9. Проверить нулевую гипотезу о том, что число дуг 𝐿 в орграфе $G_𝑑$ имеет биномиальное распределение 𝐿 ∼ Bin(𝑔(𝑔−1), 𝑃0) при уровне значимости 𝛼. Определить максимальный уровень значимости при котором нулевая гипотеза не отвергается."
   ]
  },
  {
   "cell_type": "code",
   "execution_count": 48,
   "metadata": {},
   "outputs": [
    {
     "data": {
      "text/plain": [
       "\n",
       "\tExact binomial test\n",
       "\n",
       "data:  l and g * (g - 1)\n",
       "number of successes = 2929, number of trials = 3782, p-value = 0.03797\n",
       "alternative hypothesis: true probability of success is not equal to 0.76\n",
       "95 percent confidence interval:\n",
       " 0.7607966 0.7876939\n",
       "sample estimates:\n",
       "probability of success \n",
       "              0.774458 \n"
      ]
     },
     "metadata": {},
     "output_type": "display_data"
    }
   ],
   "source": [
    "p0<- 0.76\n",
    "l <- sum(matrix)\n",
    "binom.test(l, g*(g-1), p0)"
   ]
  },
  {
   "cell_type": "markdown",
   "metadata": {},
   "source": [
    "Так как максимальный уровень значимости = 0.03797 < 𝛼 = 0.04, отвергаем гипотезу. В этот раз максимальный уровень значимости намного ближе к уровню 𝛼, что говорит, что P0 находится близко к истинному значению параметра."
   ]
  },
  {
   "cell_type": "markdown",
   "metadata": {},
   "source": [
    "10. Построить доверительный интервал для оценки параметра 𝑝 с доверительной надёжностью (1 − 𝛼). Сделать выводы.\n"
   ]
  },
  {
   "cell_type": "code",
   "execution_count": 60,
   "metadata": {},
   "outputs": [
    {
     "data": {
      "text/html": [
       "0.774457958751983"
      ],
      "text/latex": [
       "0.774457958751983"
      ],
      "text/markdown": [
       "0.774457958751983"
      ],
      "text/plain": [
       "[1] 0.774458"
      ]
     },
     "metadata": {},
     "output_type": "display_data"
    },
    {
     "data": {
      "text/html": [
       "0.760500727933003"
      ],
      "text/latex": [
       "0.760500727933003"
      ],
      "text/markdown": [
       "0.760500727933003"
      ],
      "text/plain": [
       "[1] 0.7605007"
      ]
     },
     "metadata": {},
     "output_type": "display_data"
    },
    {
     "data": {
      "text/html": [
       "0.788415189570963"
      ],
      "text/latex": [
       "0.788415189570963"
      ],
      "text/markdown": [
       "0.788415189570963"
      ],
      "text/plain": [
       "[1] 0.7884152"
      ]
     },
     "metadata": {},
     "output_type": "display_data"
    }
   ],
   "source": [
    "p <- (sum(matrix))/(g*(g-1))\n",
    "p\n",
    "\n",
    "z_a<-qnorm(1-(alpha/2),0,1)\n",
    "\n",
    "lower <- p - z_a * sqrt((p * (1 - p))/(g * (g - 1)))\n",
    "upper <- p + z_a * sqrt((p * (1 - p))/(g * (g - 1)))                      \n",
    "lower\n",
    "upper"
   ]
  },
  {
   "cell_type": "markdown",
   "metadata": {},
   "source": [
    "Параметр p с вероятностью 96% находится в интервале от 0.760500727933003 до 0.788415189570963"
   ]
  },
  {
   "cell_type": "markdown",
   "metadata": {},
   "source": [
    "## Выводы\n",
    "В данной работе с помощью математических пакетов был проведен статистический анализ случайного графа  на основе модели Эрдеша—Реньи, вычислена пятичисловая сводка для этого графа, вычислен цензус диад и индекс взаимности Каца-Пауэла, также был вичислен индекс взаимности Бандиопадхьяйя. Были проверены гипотезы о распределении числа дуг в графе и построен доверительный интервал для параметра p."
   ]
  },
  {
   "cell_type": "code",
   "execution_count": null,
   "metadata": {},
   "outputs": [],
   "source": []
  }
 ],
 "metadata": {
  "kernelspec": {
   "display_name": "R",
   "language": "R",
   "name": "ir"
  },
  "language_info": {
   "codemirror_mode": "r",
   "file_extension": ".r",
   "mimetype": "text/x-r-source",
   "name": "R",
   "pygments_lexer": "r",
   "version": "4.2.1"
  }
 },
 "nbformat": 4,
 "nbformat_minor": 4
}
