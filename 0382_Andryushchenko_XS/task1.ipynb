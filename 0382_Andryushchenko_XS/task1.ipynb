{
 "cells": [
  {
   "cell_type": "markdown",
   "metadata": {},
   "source": [
    "# Практическая работа №1: Основы анализа и моделирования социальных сетей.\n",
    "Выполнила студентка гр. 0382 Андрющенко Ксения. Вариант №2"
   ]
  },
  {
   "cell_type": "markdown",
   "metadata": {},
   "source": [
    "## Цель работы\n",
    "Овладеть навыками работы с математическими пакетами для моделирования, визуализации и анализа социальных сетей."
   ]
  },
  {
   "cell_type": "markdown",
   "metadata": {},
   "source": [
    "## Основные теоретические положения\n",
    "### Алгоритм укладки Фрюхтермана– Рейнгольда \n",
    "##### алгоритм силовой компоновки\n",
    "* Алгоритм применяется для размещения простых неориентированных графов и хорошо работает для графов с количеством вершин не превышающих 100\n",
    "1. Вершины графа помещаются в случайные координаты\n",
    "2. Рассчитываются силы, действующие на вершины\n",
    "3. Происходит перемещение вершин, проверяется выход за границу экрана\n",
    "4. Повторяются шаги 2-3\n",
    "\n",
    "### Алгоритм укладки Камада–Каваи\n",
    "##### на основе физической модели пружин\n",
    "* Неэффективен для применения на больших графах\n",
    "1. Рассчитываются расстояния по графу между всеми вершинами\n",
    "2. Вершины графа помещаются в случайные координаты\n",
    "3. Выбирается вершина n_i, на которую действует максимальная сила\n",
    "4. Остальные вершины фиксируются, энергия системы минимизируется\n",
    "5. Повторяются шаги 3-4\n",
    "\n",
    "### Числовые характеристики \n",
    "**Представление сети в виде графа** \n",
    "\n",
    "$G=G(N,L)$, где $N$ - набор узлов, $L$ - связи между ними. \n",
    "* Плотность графа — отношение количества ребер к количеству возможных ребер.\n",
    "    + Возможное количество ребер\n",
    "    - 1. В ориентированном графе $N(N-1)$\n",
    "    - 2. В неориентированном графе $\\frac{N(N-1)}{2}$\n",
    "* Размер сети - количество акторов сети.\n",
    "* Коэффициент кластеризации (транзитивность) - транзитивность измеряет вероятность того, что соседние вершины вершины соединены.\n",
    "* Дисперсия степени узлов вычисляется как $S^2_D=\\frac {1} {n}∑^k_{i=1}(d(n_i)-\\overline d)^2$.\n",
    "    + Степень узла - число инцидентных узлу $n_i$ связей.\n",
    "    + Средняя степень узла $\\overline d = \\frac {1} {n}∑^k_{i=1}d(n_i)$.\n",
    "* Мера центральности - показатель центральности или близости к центру в теории графов и анализе сетей (важность вершины).\n",
    "    + Вершина считается как важная, если ее связи обеспечивают ей видимость для других участников сети.\n",
    "    + **Центральность** по степени:\n",
    "$C_D^{\\prime}(n_i)=deg(n_i)$\n",
    "    + Центральность по близости:\n",
    "$C_C^{\\prime}(n_i)=(∑_{i=1}^kd(n_i,n_j))^{-1}$, где <br>\n",
    "  $d(n_i, n_j)$ - расстояние между акторами $n_i$ и $n_j$\n",
    "    + Центральность по посредничеству:\n",
    "$C_B^{\\prime}(n_i)=∑_{j<k}g_{jk}(n_i)/g_{jk}$, где <br> \n",
    "$g_{jk}(n_i)$ - количество геодезических расстояний между $j$ и $k$, включающие $i$ $(j,k!=i)$, $g_{jk}$ - геодезическое расстояние между $j$ и $k$.<br>\n",
    "    + Центральность по информации <br>\n",
    "$C_I^{\\prime}(n_i)=(c_{ii} + (T - 2R)/k)^{-1}$, где <br>\n",
    "$A$ - матрица ${\\{a_{ij}\\}}$ размером $k\\times k$ со значениями $a_{ii} = 1 + deg(n_i)$, $a_{ij} = 1 - x_{ij}$ ($x_{ij}$ - элемент матрицы смежности) если $i$ и $j$ - инцидентны, иначе - 1.<br>\n",
    "$C = A^{-1}$ <br>\n",
    "$T = \\sum_{i=1}^{g}c_{ii}$ <br>\n",
    "$R = \\sum_{j=1}^{g}c_{ij}$ <br>\n",
    "    + **Централизация** по степени:\n",
    "$C_D = \\frac{\\sum_{i=1}^{g}[C_D(n^{*}) - C_D(n_i)]}{(g-1)(g-2)}$ <br>\n",
    "$C_D(n^{*})$ - максимум среди всех значений центральности\n",
    "    + Централизация по близости:\n",
    "$C_C=\\frac{(2g-3)\\sum_{i=1}{g}[C_C^{\\prime}(n^{*}) - C_C^{\\prime}(n_i)]}{(g-1)(g-2)}$\n",
    "    + Централизация по посредничеству:\n",
    "$C_B = \\frac{\\sum_{i=1}^{g}[C_B^{\\prime}(n^{*}) - C_B^{\\prime}(n_i)]}{(g-1)}$\n",
    "    + Централизация по информации: \n",
    "$С_I^2=\\frac {1} {k}∑_{i=1}^k[C_I^{'}(n_i) - \\overline {C_I}]$, где $\\overline {C_I} = ∑C_I(n_i)$.\n",
    "* Престиж актора - насколько часто актор встречается в формировании кратчайших путей.\n",
    "    + Престиж по степени:\n",
    "$P_D^{\\prime}(n_i) = \\frac{x_{+i}}{g-1}$ <br>\n",
    "$x_{+i}$ - количество входящих ребер\n",
    "    + Престиж по близости:\n",
    "$P_P(n_i) = \\frac{I_i/(g-1)}{\\sum d(n_j, n_i) / I_i}$ <br>\n",
    "$I_i$ - количество акторов, из которых актор $i$ достижим"
   ]
  },
  {
   "cell_type": "markdown",
   "metadata": {},
   "source": [
    "## Постановка задачи\n",
    "С помощью математических пакетов и соответствующих библиотек провести анализ заданных социальных сетей вычислить описательные характеристики. Полученные результаты содержательно проинтерпретировать.\n"
   ]
  },
  {
   "cell_type": "markdown",
   "metadata": {},
   "source": [
    "## Выполнение работы\n",
    "Каждый пункт работы (*по возможности*) выполняется с помощью кода.\n",
    "Рекомендованные языки программирования – R или Python."
   ]
  },
  {
   "cell_type": "markdown",
   "metadata": {},
   "source": [
    "### Пункт 1\n",
    "Из файла florentine_marital.csv (для чётных вариантов) извлечь социоматрицу с помощью соответствующих функций. Вывести полученную социоматрицу на экран."
   ]
  },
  {
   "cell_type": "code",
   "execution_count": 1,
   "metadata": {},
   "outputs": [
    {
     "name": "stdout",
     "output_type": "stream",
     "text": [
      "[1] \"D:/Users/Xenia/LETI2022/MathPack/идз3\"\n"
     ]
    }
   ],
   "source": [
    "setwd(\"D:/Users/Xenia/LETI2022/MathPack/идз3\")\n",
    "print(getwd())"
   ]
  },
  {
   "cell_type": "code",
   "execution_count": 2,
   "metadata": {},
   "outputs": [
    {
     "data": {
      "text/html": [
       "<table class=\"dataframe\">\n",
       "<caption>A data.frame: 16 × 16</caption>\n",
       "<thead>\n",
       "\t<tr><th scope=col>Acciaiuoli</th><th scope=col>Albizzi</th><th scope=col>Barbadori</th><th scope=col>Bischeri</th><th scope=col>Castellani</th><th scope=col>Ginori</th><th scope=col>Guadagni</th><th scope=col>Lamberteschi</th><th scope=col>Medici</th><th scope=col>Pazzi</th><th scope=col>Peruzzi</th><th scope=col>Pucci</th><th scope=col>Ridolfi</th><th scope=col>Salviati</th><th scope=col>Strozzi</th><th scope=col>Tornabuoni</th></tr>\n",
       "\t<tr><th scope=col>&lt;int&gt;</th><th scope=col>&lt;int&gt;</th><th scope=col>&lt;int&gt;</th><th scope=col>&lt;int&gt;</th><th scope=col>&lt;int&gt;</th><th scope=col>&lt;int&gt;</th><th scope=col>&lt;int&gt;</th><th scope=col>&lt;int&gt;</th><th scope=col>&lt;int&gt;</th><th scope=col>&lt;int&gt;</th><th scope=col>&lt;int&gt;</th><th scope=col>&lt;int&gt;</th><th scope=col>&lt;int&gt;</th><th scope=col>&lt;int&gt;</th><th scope=col>&lt;int&gt;</th><th scope=col>&lt;int&gt;</th></tr>\n",
       "</thead>\n",
       "<tbody>\n",
       "\t<tr><td>0</td><td>0</td><td>0</td><td>0</td><td>0</td><td>0</td><td>0</td><td>0</td><td>1</td><td>0</td><td>0</td><td>0</td><td>0</td><td>0</td><td>0</td><td>0</td></tr>\n",
       "\t<tr><td>0</td><td>0</td><td>0</td><td>0</td><td>0</td><td>1</td><td>1</td><td>0</td><td>1</td><td>0</td><td>0</td><td>0</td><td>0</td><td>0</td><td>0</td><td>0</td></tr>\n",
       "\t<tr><td>0</td><td>0</td><td>0</td><td>0</td><td>1</td><td>0</td><td>0</td><td>0</td><td>1</td><td>0</td><td>0</td><td>0</td><td>0</td><td>0</td><td>0</td><td>0</td></tr>\n",
       "\t<tr><td>0</td><td>0</td><td>0</td><td>0</td><td>0</td><td>0</td><td>1</td><td>0</td><td>0</td><td>0</td><td>1</td><td>0</td><td>0</td><td>0</td><td>1</td><td>0</td></tr>\n",
       "\t<tr><td>0</td><td>0</td><td>1</td><td>0</td><td>0</td><td>0</td><td>0</td><td>0</td><td>0</td><td>0</td><td>1</td><td>0</td><td>0</td><td>0</td><td>1</td><td>0</td></tr>\n",
       "\t<tr><td>0</td><td>1</td><td>0</td><td>0</td><td>0</td><td>0</td><td>0</td><td>0</td><td>0</td><td>0</td><td>0</td><td>0</td><td>0</td><td>0</td><td>0</td><td>0</td></tr>\n",
       "\t<tr><td>0</td><td>1</td><td>0</td><td>1</td><td>0</td><td>0</td><td>0</td><td>1</td><td>0</td><td>0</td><td>0</td><td>0</td><td>0</td><td>0</td><td>0</td><td>1</td></tr>\n",
       "\t<tr><td>0</td><td>0</td><td>0</td><td>0</td><td>0</td><td>0</td><td>1</td><td>0</td><td>0</td><td>0</td><td>0</td><td>0</td><td>0</td><td>0</td><td>0</td><td>0</td></tr>\n",
       "\t<tr><td>1</td><td>1</td><td>1</td><td>0</td><td>0</td><td>0</td><td>0</td><td>0</td><td>0</td><td>0</td><td>0</td><td>0</td><td>1</td><td>1</td><td>0</td><td>1</td></tr>\n",
       "\t<tr><td>0</td><td>0</td><td>0</td><td>0</td><td>0</td><td>0</td><td>0</td><td>0</td><td>0</td><td>0</td><td>0</td><td>0</td><td>0</td><td>1</td><td>0</td><td>0</td></tr>\n",
       "\t<tr><td>0</td><td>0</td><td>0</td><td>1</td><td>1</td><td>0</td><td>0</td><td>0</td><td>0</td><td>0</td><td>0</td><td>0</td><td>0</td><td>0</td><td>1</td><td>0</td></tr>\n",
       "\t<tr><td>0</td><td>0</td><td>0</td><td>0</td><td>0</td><td>0</td><td>0</td><td>0</td><td>0</td><td>0</td><td>0</td><td>0</td><td>0</td><td>0</td><td>0</td><td>0</td></tr>\n",
       "\t<tr><td>0</td><td>0</td><td>0</td><td>0</td><td>0</td><td>0</td><td>0</td><td>0</td><td>1</td><td>0</td><td>0</td><td>0</td><td>0</td><td>0</td><td>1</td><td>1</td></tr>\n",
       "\t<tr><td>0</td><td>0</td><td>0</td><td>0</td><td>0</td><td>0</td><td>0</td><td>0</td><td>1</td><td>1</td><td>0</td><td>0</td><td>0</td><td>0</td><td>0</td><td>0</td></tr>\n",
       "\t<tr><td>0</td><td>0</td><td>0</td><td>1</td><td>1</td><td>0</td><td>0</td><td>0</td><td>0</td><td>0</td><td>1</td><td>0</td><td>1</td><td>0</td><td>0</td><td>0</td></tr>\n",
       "\t<tr><td>0</td><td>0</td><td>0</td><td>0</td><td>0</td><td>0</td><td>1</td><td>0</td><td>1</td><td>0</td><td>0</td><td>0</td><td>1</td><td>0</td><td>0</td><td>0</td></tr>\n",
       "</tbody>\n",
       "</table>\n"
      ],
      "text/latex": [
       "A data.frame: 16 × 16\n",
       "\\begin{tabular}{llllllllllllllll}\n",
       " Acciaiuoli & Albizzi & Barbadori & Bischeri & Castellani & Ginori & Guadagni & Lamberteschi & Medici & Pazzi & Peruzzi & Pucci & Ridolfi & Salviati & Strozzi & Tornabuoni\\\\\n",
       " <int> & <int> & <int> & <int> & <int> & <int> & <int> & <int> & <int> & <int> & <int> & <int> & <int> & <int> & <int> & <int>\\\\\n",
       "\\hline\n",
       "\t 0 & 0 & 0 & 0 & 0 & 0 & 0 & 0 & 1 & 0 & 0 & 0 & 0 & 0 & 0 & 0\\\\\n",
       "\t 0 & 0 & 0 & 0 & 0 & 1 & 1 & 0 & 1 & 0 & 0 & 0 & 0 & 0 & 0 & 0\\\\\n",
       "\t 0 & 0 & 0 & 0 & 1 & 0 & 0 & 0 & 1 & 0 & 0 & 0 & 0 & 0 & 0 & 0\\\\\n",
       "\t 0 & 0 & 0 & 0 & 0 & 0 & 1 & 0 & 0 & 0 & 1 & 0 & 0 & 0 & 1 & 0\\\\\n",
       "\t 0 & 0 & 1 & 0 & 0 & 0 & 0 & 0 & 0 & 0 & 1 & 0 & 0 & 0 & 1 & 0\\\\\n",
       "\t 0 & 1 & 0 & 0 & 0 & 0 & 0 & 0 & 0 & 0 & 0 & 0 & 0 & 0 & 0 & 0\\\\\n",
       "\t 0 & 1 & 0 & 1 & 0 & 0 & 0 & 1 & 0 & 0 & 0 & 0 & 0 & 0 & 0 & 1\\\\\n",
       "\t 0 & 0 & 0 & 0 & 0 & 0 & 1 & 0 & 0 & 0 & 0 & 0 & 0 & 0 & 0 & 0\\\\\n",
       "\t 1 & 1 & 1 & 0 & 0 & 0 & 0 & 0 & 0 & 0 & 0 & 0 & 1 & 1 & 0 & 1\\\\\n",
       "\t 0 & 0 & 0 & 0 & 0 & 0 & 0 & 0 & 0 & 0 & 0 & 0 & 0 & 1 & 0 & 0\\\\\n",
       "\t 0 & 0 & 0 & 1 & 1 & 0 & 0 & 0 & 0 & 0 & 0 & 0 & 0 & 0 & 1 & 0\\\\\n",
       "\t 0 & 0 & 0 & 0 & 0 & 0 & 0 & 0 & 0 & 0 & 0 & 0 & 0 & 0 & 0 & 0\\\\\n",
       "\t 0 & 0 & 0 & 0 & 0 & 0 & 0 & 0 & 1 & 0 & 0 & 0 & 0 & 0 & 1 & 1\\\\\n",
       "\t 0 & 0 & 0 & 0 & 0 & 0 & 0 & 0 & 1 & 1 & 0 & 0 & 0 & 0 & 0 & 0\\\\\n",
       "\t 0 & 0 & 0 & 1 & 1 & 0 & 0 & 0 & 0 & 0 & 1 & 0 & 1 & 0 & 0 & 0\\\\\n",
       "\t 0 & 0 & 0 & 0 & 0 & 0 & 1 & 0 & 1 & 0 & 0 & 0 & 1 & 0 & 0 & 0\\\\\n",
       "\\end{tabular}\n"
      ],
      "text/markdown": [
       "\n",
       "A data.frame: 16 × 16\n",
       "\n",
       "| Acciaiuoli &lt;int&gt; | Albizzi &lt;int&gt; | Barbadori &lt;int&gt; | Bischeri &lt;int&gt; | Castellani &lt;int&gt; | Ginori &lt;int&gt; | Guadagni &lt;int&gt; | Lamberteschi &lt;int&gt; | Medici &lt;int&gt; | Pazzi &lt;int&gt; | Peruzzi &lt;int&gt; | Pucci &lt;int&gt; | Ridolfi &lt;int&gt; | Salviati &lt;int&gt; | Strozzi &lt;int&gt; | Tornabuoni &lt;int&gt; |\n",
       "|---|---|---|---|---|---|---|---|---|---|---|---|---|---|---|---|\n",
       "| 0 | 0 | 0 | 0 | 0 | 0 | 0 | 0 | 1 | 0 | 0 | 0 | 0 | 0 | 0 | 0 |\n",
       "| 0 | 0 | 0 | 0 | 0 | 1 | 1 | 0 | 1 | 0 | 0 | 0 | 0 | 0 | 0 | 0 |\n",
       "| 0 | 0 | 0 | 0 | 1 | 0 | 0 | 0 | 1 | 0 | 0 | 0 | 0 | 0 | 0 | 0 |\n",
       "| 0 | 0 | 0 | 0 | 0 | 0 | 1 | 0 | 0 | 0 | 1 | 0 | 0 | 0 | 1 | 0 |\n",
       "| 0 | 0 | 1 | 0 | 0 | 0 | 0 | 0 | 0 | 0 | 1 | 0 | 0 | 0 | 1 | 0 |\n",
       "| 0 | 1 | 0 | 0 | 0 | 0 | 0 | 0 | 0 | 0 | 0 | 0 | 0 | 0 | 0 | 0 |\n",
       "| 0 | 1 | 0 | 1 | 0 | 0 | 0 | 1 | 0 | 0 | 0 | 0 | 0 | 0 | 0 | 1 |\n",
       "| 0 | 0 | 0 | 0 | 0 | 0 | 1 | 0 | 0 | 0 | 0 | 0 | 0 | 0 | 0 | 0 |\n",
       "| 1 | 1 | 1 | 0 | 0 | 0 | 0 | 0 | 0 | 0 | 0 | 0 | 1 | 1 | 0 | 1 |\n",
       "| 0 | 0 | 0 | 0 | 0 | 0 | 0 | 0 | 0 | 0 | 0 | 0 | 0 | 1 | 0 | 0 |\n",
       "| 0 | 0 | 0 | 1 | 1 | 0 | 0 | 0 | 0 | 0 | 0 | 0 | 0 | 0 | 1 | 0 |\n",
       "| 0 | 0 | 0 | 0 | 0 | 0 | 0 | 0 | 0 | 0 | 0 | 0 | 0 | 0 | 0 | 0 |\n",
       "| 0 | 0 | 0 | 0 | 0 | 0 | 0 | 0 | 1 | 0 | 0 | 0 | 0 | 0 | 1 | 1 |\n",
       "| 0 | 0 | 0 | 0 | 0 | 0 | 0 | 0 | 1 | 1 | 0 | 0 | 0 | 0 | 0 | 0 |\n",
       "| 0 | 0 | 0 | 1 | 1 | 0 | 0 | 0 | 0 | 0 | 1 | 0 | 1 | 0 | 0 | 0 |\n",
       "| 0 | 0 | 0 | 0 | 0 | 0 | 1 | 0 | 1 | 0 | 0 | 0 | 1 | 0 | 0 | 0 |\n",
       "\n"
      ],
      "text/plain": [
       "   Acciaiuoli Albizzi Barbadori Bischeri Castellani Ginori Guadagni\n",
       "1  0          0       0         0        0          0      0       \n",
       "2  0          0       0         0        0          1      1       \n",
       "3  0          0       0         0        1          0      0       \n",
       "4  0          0       0         0        0          0      1       \n",
       "5  0          0       1         0        0          0      0       \n",
       "6  0          1       0         0        0          0      0       \n",
       "7  0          1       0         1        0          0      0       \n",
       "8  0          0       0         0        0          0      1       \n",
       "9  1          1       1         0        0          0      0       \n",
       "10 0          0       0         0        0          0      0       \n",
       "11 0          0       0         1        1          0      0       \n",
       "12 0          0       0         0        0          0      0       \n",
       "13 0          0       0         0        0          0      0       \n",
       "14 0          0       0         0        0          0      0       \n",
       "15 0          0       0         1        1          0      0       \n",
       "16 0          0       0         0        0          0      1       \n",
       "   Lamberteschi Medici Pazzi Peruzzi Pucci Ridolfi Salviati Strozzi Tornabuoni\n",
       "1  0            1      0     0       0     0       0        0       0         \n",
       "2  0            1      0     0       0     0       0        0       0         \n",
       "3  0            1      0     0       0     0       0        0       0         \n",
       "4  0            0      0     1       0     0       0        1       0         \n",
       "5  0            0      0     1       0     0       0        1       0         \n",
       "6  0            0      0     0       0     0       0        0       0         \n",
       "7  1            0      0     0       0     0       0        0       1         \n",
       "8  0            0      0     0       0     0       0        0       0         \n",
       "9  0            0      0     0       0     1       1        0       1         \n",
       "10 0            0      0     0       0     0       1        0       0         \n",
       "11 0            0      0     0       0     0       0        1       0         \n",
       "12 0            0      0     0       0     0       0        0       0         \n",
       "13 0            1      0     0       0     0       0        1       1         \n",
       "14 0            1      1     0       0     0       0        0       0         \n",
       "15 0            0      0     1       0     1       0        0       0         \n",
       "16 0            1      0     0       0     1       0        0       0         "
      ]
     },
     "metadata": {},
     "output_type": "display_data"
    }
   ],
   "source": [
    "table <- read.csv(\"./task1/even/florentine_marital.csv\", comment.char = \"#\")\n",
    "table"
   ]
  },
  {
   "cell_type": "markdown",
   "metadata": {},
   "source": [
    "### Пункт 2\n",
    "Преобразовать социоматрицу в список рёбер. Вывести первые 5 элементов списка рёбер.\n",
    "Установка требуемых пакетов для выполнения практической работы."
   ]
  },
  {
   "cell_type": "code",
   "execution_count": 3,
   "metadata": {},
   "outputs": [
    {
     "name": "stderr",
     "output_type": "stream",
     "text": [
      "Устанавливаю пакет в 'C:/Users/Xenia/AppData/Local/R/win-library/4.2'\n",
      "(потому что 'lib' не определено)\n",
      "\n"
     ]
    },
    {
     "name": "stdout",
     "output_type": "stream",
     "text": [
      "пакет 'sna' успешно распакован, MD5-суммы проверены\n",
      "\n",
      "Скачанные бинарные пакеты находятся в\n",
      "\tC:\\Users\\Xenia\\AppData\\Local\\Temp\\Rtmpispc2v\\downloaded_packages\n"
     ]
    },
    {
     "name": "stderr",
     "output_type": "stream",
     "text": [
      "\n",
      "Присоединяю пакет: 'igraph'\n",
      "\n",
      "\n",
      "Следующие объекты скрыты от 'package:stats':\n",
      "\n",
      "    decompose, spectrum\n",
      "\n",
      "\n",
      "Следующий объект скрыт от 'package:base':\n",
      "\n",
      "    union\n",
      "\n",
      "\n",
      "\n",
      "'network' 1.18.0 (2022-10-05), part of the Statnet Project\n",
      "* 'news(package=\"network\")' for changes since last version\n",
      "* 'citation(\"network\")' for citation information\n",
      "* 'https://statnet.org' for help, support, and other information\n",
      "\n",
      "\n",
      "\n",
      "Присоединяю пакет: 'network'\n",
      "\n",
      "\n",
      "Следующие объекты скрыты от 'package:igraph':\n",
      "\n",
      "    %c%, %s%, add.edges, add.vertices, delete.edges, delete.vertices,\n",
      "    get.edge.attribute, get.edges, get.vertex.attribute, is.bipartite,\n",
      "    is.directed, list.edge.attributes, list.vertex.attributes,\n",
      "    set.edge.attribute, set.vertex.attribute\n",
      "\n",
      "\n",
      "Загрузка требуемого пакета: statnet.common\n",
      "\n",
      "\n",
      "Присоединяю пакет: 'statnet.common'\n",
      "\n",
      "\n",
      "Следующие объекты скрыты от 'package:base':\n",
      "\n",
      "    attr, order\n",
      "\n",
      "\n",
      "sna: Tools for Social Network Analysis\n",
      "Version 2.7 created on 2022-05-09.\n",
      "copyright (c) 2005, Carter T. Butts, University of California-Irvine\n",
      " For citation information, type citation(\"sna\").\n",
      " Type help(package=\"sna\") to get started.\n",
      "\n",
      "\n",
      "\n",
      "Присоединяю пакет: 'sna'\n",
      "\n",
      "\n",
      "Следующие объекты скрыты от 'package:igraph':\n",
      "\n",
      "    betweenness, bonpow, closeness, components, degree, dyad.census,\n",
      "    evcent, hierarchy, is.connected, neighborhood, triad.census\n",
      "\n",
      "\n"
     ]
    }
   ],
   "source": [
    "## Download and install the package\n",
    "##install.packages(\"igraph\")\n",
    "install.packages(\"sna\")\n",
    "##install.packages(\"network\")\n",
    "## Load package\n",
    "library(igraph)\n",
    "library(network)\n",
    "library(sna)"
   ]
  },
  {
   "cell_type": "markdown",
   "metadata": {},
   "source": [
    "Преобразование социоматрицы в ребра. Вывод первых 5."
   ]
  },
  {
   "cell_type": "code",
   "execution_count": 4,
   "metadata": {},
   "outputs": [
    {
     "data": {
      "text/html": [
       "<table class=\"dataframe\">\n",
       "<caption>A data.frame: 6 × 2</caption>\n",
       "<thead>\n",
       "\t<tr><th></th><th scope=col>from</th><th scope=col>to</th></tr>\n",
       "\t<tr><th></th><th scope=col>&lt;chr&gt;</th><th scope=col>&lt;chr&gt;</th></tr>\n",
       "</thead>\n",
       "<tbody>\n",
       "\t<tr><th scope=row>1</th><td>Acciaiuoli</td><td>Medici    </td></tr>\n",
       "\t<tr><th scope=row>2</th><td>Albizzi   </td><td>Ginori    </td></tr>\n",
       "\t<tr><th scope=row>3</th><td>Albizzi   </td><td>Guadagni  </td></tr>\n",
       "\t<tr><th scope=row>4</th><td>Albizzi   </td><td>Medici    </td></tr>\n",
       "\t<tr><th scope=row>5</th><td>Barbadori </td><td>Castellani</td></tr>\n",
       "\t<tr><th scope=row>6</th><td>Barbadori </td><td>Medici    </td></tr>\n",
       "</tbody>\n",
       "</table>\n"
      ],
      "text/latex": [
       "A data.frame: 6 × 2\n",
       "\\begin{tabular}{r|ll}\n",
       "  & from & to\\\\\n",
       "  & <chr> & <chr>\\\\\n",
       "\\hline\n",
       "\t1 & Acciaiuoli & Medici    \\\\\n",
       "\t2 & Albizzi    & Ginori    \\\\\n",
       "\t3 & Albizzi    & Guadagni  \\\\\n",
       "\t4 & Albizzi    & Medici    \\\\\n",
       "\t5 & Barbadori  & Castellani\\\\\n",
       "\t6 & Barbadori  & Medici    \\\\\n",
       "\\end{tabular}\n"
      ],
      "text/markdown": [
       "\n",
       "A data.frame: 6 × 2\n",
       "\n",
       "| <!--/--> | from &lt;chr&gt; | to &lt;chr&gt; |\n",
       "|---|---|---|\n",
       "| 1 | Acciaiuoli | Medici     |\n",
       "| 2 | Albizzi    | Ginori     |\n",
       "| 3 | Albizzi    | Guadagni   |\n",
       "| 4 | Albizzi    | Medici     |\n",
       "| 5 | Barbadori  | Castellani |\n",
       "| 6 | Barbadori  | Medici     |\n",
       "\n"
      ],
      "text/plain": [
       "  from       to        \n",
       "1 Acciaiuoli Medici    \n",
       "2 Albizzi    Ginori    \n",
       "3 Albizzi    Guadagni  \n",
       "4 Albizzi    Medici    \n",
       "5 Barbadori  Castellani\n",
       "6 Barbadori  Medici    "
      ]
     },
     "metadata": {},
     "output_type": "display_data"
    }
   ],
   "source": [
    "matrix_table <- data.matrix(table)\n",
    "graph_info <- graph_from_adjacency_matrix(matrix_table, mode=\"undirected\")\n",
    "#graph_info\n",
    "df_graph_info <- get.data.frame(graph_info)\n",
    "#df_graph_info\n",
    "head(df_graph_info)"
   ]
  },
  {
   "cell_type": "markdown",
   "metadata": {},
   "source": [
    "### Пункт 3\n",
    "Присвоить имена столбцам и строкам социоматрицы (имена – первая строка в csv-файле после комментариев)."
   ]
  },
  {
   "cell_type": "code",
   "execution_count": 5,
   "metadata": {},
   "outputs": [
    {
     "data": {
      "text/html": [
       "<table class=\"dataframe\">\n",
       "<caption>A data.frame: 16 × 16</caption>\n",
       "<thead>\n",
       "\t<tr><th></th><th scope=col>Acciaiuoli</th><th scope=col>Albizzi</th><th scope=col>Barbadori</th><th scope=col>Bischeri</th><th scope=col>Castellani</th><th scope=col>Ginori</th><th scope=col>Guadagni</th><th scope=col>Lamberteschi</th><th scope=col>Medici</th><th scope=col>Pazzi</th><th scope=col>Peruzzi</th><th scope=col>Pucci</th><th scope=col>Ridolfi</th><th scope=col>Salviati</th><th scope=col>Strozzi</th><th scope=col>Tornabuoni</th></tr>\n",
       "\t<tr><th></th><th scope=col>&lt;int&gt;</th><th scope=col>&lt;int&gt;</th><th scope=col>&lt;int&gt;</th><th scope=col>&lt;int&gt;</th><th scope=col>&lt;int&gt;</th><th scope=col>&lt;int&gt;</th><th scope=col>&lt;int&gt;</th><th scope=col>&lt;int&gt;</th><th scope=col>&lt;int&gt;</th><th scope=col>&lt;int&gt;</th><th scope=col>&lt;int&gt;</th><th scope=col>&lt;int&gt;</th><th scope=col>&lt;int&gt;</th><th scope=col>&lt;int&gt;</th><th scope=col>&lt;int&gt;</th><th scope=col>&lt;int&gt;</th></tr>\n",
       "</thead>\n",
       "<tbody>\n",
       "\t<tr><th scope=row>Acciaiuoli</th><td>0</td><td>0</td><td>0</td><td>0</td><td>0</td><td>0</td><td>0</td><td>0</td><td>1</td><td>0</td><td>0</td><td>0</td><td>0</td><td>0</td><td>0</td><td>0</td></tr>\n",
       "\t<tr><th scope=row>Albizzi</th><td>0</td><td>0</td><td>0</td><td>0</td><td>0</td><td>1</td><td>1</td><td>0</td><td>1</td><td>0</td><td>0</td><td>0</td><td>0</td><td>0</td><td>0</td><td>0</td></tr>\n",
       "\t<tr><th scope=row>Barbadori</th><td>0</td><td>0</td><td>0</td><td>0</td><td>1</td><td>0</td><td>0</td><td>0</td><td>1</td><td>0</td><td>0</td><td>0</td><td>0</td><td>0</td><td>0</td><td>0</td></tr>\n",
       "\t<tr><th scope=row>Bischeri</th><td>0</td><td>0</td><td>0</td><td>0</td><td>0</td><td>0</td><td>1</td><td>0</td><td>0</td><td>0</td><td>1</td><td>0</td><td>0</td><td>0</td><td>1</td><td>0</td></tr>\n",
       "\t<tr><th scope=row>Castellani</th><td>0</td><td>0</td><td>1</td><td>0</td><td>0</td><td>0</td><td>0</td><td>0</td><td>0</td><td>0</td><td>1</td><td>0</td><td>0</td><td>0</td><td>1</td><td>0</td></tr>\n",
       "\t<tr><th scope=row>Ginori</th><td>0</td><td>1</td><td>0</td><td>0</td><td>0</td><td>0</td><td>0</td><td>0</td><td>0</td><td>0</td><td>0</td><td>0</td><td>0</td><td>0</td><td>0</td><td>0</td></tr>\n",
       "\t<tr><th scope=row>Guadagni</th><td>0</td><td>1</td><td>0</td><td>1</td><td>0</td><td>0</td><td>0</td><td>1</td><td>0</td><td>0</td><td>0</td><td>0</td><td>0</td><td>0</td><td>0</td><td>1</td></tr>\n",
       "\t<tr><th scope=row>Lamberteschi</th><td>0</td><td>0</td><td>0</td><td>0</td><td>0</td><td>0</td><td>1</td><td>0</td><td>0</td><td>0</td><td>0</td><td>0</td><td>0</td><td>0</td><td>0</td><td>0</td></tr>\n",
       "\t<tr><th scope=row>Medici</th><td>1</td><td>1</td><td>1</td><td>0</td><td>0</td><td>0</td><td>0</td><td>0</td><td>0</td><td>0</td><td>0</td><td>0</td><td>1</td><td>1</td><td>0</td><td>1</td></tr>\n",
       "\t<tr><th scope=row>Pazzi</th><td>0</td><td>0</td><td>0</td><td>0</td><td>0</td><td>0</td><td>0</td><td>0</td><td>0</td><td>0</td><td>0</td><td>0</td><td>0</td><td>1</td><td>0</td><td>0</td></tr>\n",
       "\t<tr><th scope=row>Peruzzi</th><td>0</td><td>0</td><td>0</td><td>1</td><td>1</td><td>0</td><td>0</td><td>0</td><td>0</td><td>0</td><td>0</td><td>0</td><td>0</td><td>0</td><td>1</td><td>0</td></tr>\n",
       "\t<tr><th scope=row>Pucci</th><td>0</td><td>0</td><td>0</td><td>0</td><td>0</td><td>0</td><td>0</td><td>0</td><td>0</td><td>0</td><td>0</td><td>0</td><td>0</td><td>0</td><td>0</td><td>0</td></tr>\n",
       "\t<tr><th scope=row>Ridolfi</th><td>0</td><td>0</td><td>0</td><td>0</td><td>0</td><td>0</td><td>0</td><td>0</td><td>1</td><td>0</td><td>0</td><td>0</td><td>0</td><td>0</td><td>1</td><td>1</td></tr>\n",
       "\t<tr><th scope=row>Salviati</th><td>0</td><td>0</td><td>0</td><td>0</td><td>0</td><td>0</td><td>0</td><td>0</td><td>1</td><td>1</td><td>0</td><td>0</td><td>0</td><td>0</td><td>0</td><td>0</td></tr>\n",
       "\t<tr><th scope=row>Strozzi</th><td>0</td><td>0</td><td>0</td><td>1</td><td>1</td><td>0</td><td>0</td><td>0</td><td>0</td><td>0</td><td>1</td><td>0</td><td>1</td><td>0</td><td>0</td><td>0</td></tr>\n",
       "\t<tr><th scope=row>Tornabuoni</th><td>0</td><td>0</td><td>0</td><td>0</td><td>0</td><td>0</td><td>1</td><td>0</td><td>1</td><td>0</td><td>0</td><td>0</td><td>1</td><td>0</td><td>0</td><td>0</td></tr>\n",
       "</tbody>\n",
       "</table>\n"
      ],
      "text/latex": [
       "A data.frame: 16 × 16\n",
       "\\begin{tabular}{r|llllllllllllllll}\n",
       "  & Acciaiuoli & Albizzi & Barbadori & Bischeri & Castellani & Ginori & Guadagni & Lamberteschi & Medici & Pazzi & Peruzzi & Pucci & Ridolfi & Salviati & Strozzi & Tornabuoni\\\\\n",
       "  & <int> & <int> & <int> & <int> & <int> & <int> & <int> & <int> & <int> & <int> & <int> & <int> & <int> & <int> & <int> & <int>\\\\\n",
       "\\hline\n",
       "\tAcciaiuoli & 0 & 0 & 0 & 0 & 0 & 0 & 0 & 0 & 1 & 0 & 0 & 0 & 0 & 0 & 0 & 0\\\\\n",
       "\tAlbizzi & 0 & 0 & 0 & 0 & 0 & 1 & 1 & 0 & 1 & 0 & 0 & 0 & 0 & 0 & 0 & 0\\\\\n",
       "\tBarbadori & 0 & 0 & 0 & 0 & 1 & 0 & 0 & 0 & 1 & 0 & 0 & 0 & 0 & 0 & 0 & 0\\\\\n",
       "\tBischeri & 0 & 0 & 0 & 0 & 0 & 0 & 1 & 0 & 0 & 0 & 1 & 0 & 0 & 0 & 1 & 0\\\\\n",
       "\tCastellani & 0 & 0 & 1 & 0 & 0 & 0 & 0 & 0 & 0 & 0 & 1 & 0 & 0 & 0 & 1 & 0\\\\\n",
       "\tGinori & 0 & 1 & 0 & 0 & 0 & 0 & 0 & 0 & 0 & 0 & 0 & 0 & 0 & 0 & 0 & 0\\\\\n",
       "\tGuadagni & 0 & 1 & 0 & 1 & 0 & 0 & 0 & 1 & 0 & 0 & 0 & 0 & 0 & 0 & 0 & 1\\\\\n",
       "\tLamberteschi & 0 & 0 & 0 & 0 & 0 & 0 & 1 & 0 & 0 & 0 & 0 & 0 & 0 & 0 & 0 & 0\\\\\n",
       "\tMedici & 1 & 1 & 1 & 0 & 0 & 0 & 0 & 0 & 0 & 0 & 0 & 0 & 1 & 1 & 0 & 1\\\\\n",
       "\tPazzi & 0 & 0 & 0 & 0 & 0 & 0 & 0 & 0 & 0 & 0 & 0 & 0 & 0 & 1 & 0 & 0\\\\\n",
       "\tPeruzzi & 0 & 0 & 0 & 1 & 1 & 0 & 0 & 0 & 0 & 0 & 0 & 0 & 0 & 0 & 1 & 0\\\\\n",
       "\tPucci & 0 & 0 & 0 & 0 & 0 & 0 & 0 & 0 & 0 & 0 & 0 & 0 & 0 & 0 & 0 & 0\\\\\n",
       "\tRidolfi & 0 & 0 & 0 & 0 & 0 & 0 & 0 & 0 & 1 & 0 & 0 & 0 & 0 & 0 & 1 & 1\\\\\n",
       "\tSalviati & 0 & 0 & 0 & 0 & 0 & 0 & 0 & 0 & 1 & 1 & 0 & 0 & 0 & 0 & 0 & 0\\\\\n",
       "\tStrozzi & 0 & 0 & 0 & 1 & 1 & 0 & 0 & 0 & 0 & 0 & 1 & 0 & 1 & 0 & 0 & 0\\\\\n",
       "\tTornabuoni & 0 & 0 & 0 & 0 & 0 & 0 & 1 & 0 & 1 & 0 & 0 & 0 & 1 & 0 & 0 & 0\\\\\n",
       "\\end{tabular}\n"
      ],
      "text/markdown": [
       "\n",
       "A data.frame: 16 × 16\n",
       "\n",
       "| <!--/--> | Acciaiuoli &lt;int&gt; | Albizzi &lt;int&gt; | Barbadori &lt;int&gt; | Bischeri &lt;int&gt; | Castellani &lt;int&gt; | Ginori &lt;int&gt; | Guadagni &lt;int&gt; | Lamberteschi &lt;int&gt; | Medici &lt;int&gt; | Pazzi &lt;int&gt; | Peruzzi &lt;int&gt; | Pucci &lt;int&gt; | Ridolfi &lt;int&gt; | Salviati &lt;int&gt; | Strozzi &lt;int&gt; | Tornabuoni &lt;int&gt; |\n",
       "|---|---|---|---|---|---|---|---|---|---|---|---|---|---|---|---|---|\n",
       "| Acciaiuoli | 0 | 0 | 0 | 0 | 0 | 0 | 0 | 0 | 1 | 0 | 0 | 0 | 0 | 0 | 0 | 0 |\n",
       "| Albizzi | 0 | 0 | 0 | 0 | 0 | 1 | 1 | 0 | 1 | 0 | 0 | 0 | 0 | 0 | 0 | 0 |\n",
       "| Barbadori | 0 | 0 | 0 | 0 | 1 | 0 | 0 | 0 | 1 | 0 | 0 | 0 | 0 | 0 | 0 | 0 |\n",
       "| Bischeri | 0 | 0 | 0 | 0 | 0 | 0 | 1 | 0 | 0 | 0 | 1 | 0 | 0 | 0 | 1 | 0 |\n",
       "| Castellani | 0 | 0 | 1 | 0 | 0 | 0 | 0 | 0 | 0 | 0 | 1 | 0 | 0 | 0 | 1 | 0 |\n",
       "| Ginori | 0 | 1 | 0 | 0 | 0 | 0 | 0 | 0 | 0 | 0 | 0 | 0 | 0 | 0 | 0 | 0 |\n",
       "| Guadagni | 0 | 1 | 0 | 1 | 0 | 0 | 0 | 1 | 0 | 0 | 0 | 0 | 0 | 0 | 0 | 1 |\n",
       "| Lamberteschi | 0 | 0 | 0 | 0 | 0 | 0 | 1 | 0 | 0 | 0 | 0 | 0 | 0 | 0 | 0 | 0 |\n",
       "| Medici | 1 | 1 | 1 | 0 | 0 | 0 | 0 | 0 | 0 | 0 | 0 | 0 | 1 | 1 | 0 | 1 |\n",
       "| Pazzi | 0 | 0 | 0 | 0 | 0 | 0 | 0 | 0 | 0 | 0 | 0 | 0 | 0 | 1 | 0 | 0 |\n",
       "| Peruzzi | 0 | 0 | 0 | 1 | 1 | 0 | 0 | 0 | 0 | 0 | 0 | 0 | 0 | 0 | 1 | 0 |\n",
       "| Pucci | 0 | 0 | 0 | 0 | 0 | 0 | 0 | 0 | 0 | 0 | 0 | 0 | 0 | 0 | 0 | 0 |\n",
       "| Ridolfi | 0 | 0 | 0 | 0 | 0 | 0 | 0 | 0 | 1 | 0 | 0 | 0 | 0 | 0 | 1 | 1 |\n",
       "| Salviati | 0 | 0 | 0 | 0 | 0 | 0 | 0 | 0 | 1 | 1 | 0 | 0 | 0 | 0 | 0 | 0 |\n",
       "| Strozzi | 0 | 0 | 0 | 1 | 1 | 0 | 0 | 0 | 0 | 0 | 1 | 0 | 1 | 0 | 0 | 0 |\n",
       "| Tornabuoni | 0 | 0 | 0 | 0 | 0 | 0 | 1 | 0 | 1 | 0 | 0 | 0 | 1 | 0 | 0 | 0 |\n",
       "\n"
      ],
      "text/plain": [
       "             Acciaiuoli Albizzi Barbadori Bischeri Castellani Ginori Guadagni\n",
       "Acciaiuoli   0          0       0         0        0          0      0       \n",
       "Albizzi      0          0       0         0        0          1      1       \n",
       "Barbadori    0          0       0         0        1          0      0       \n",
       "Bischeri     0          0       0         0        0          0      1       \n",
       "Castellani   0          0       1         0        0          0      0       \n",
       "Ginori       0          1       0         0        0          0      0       \n",
       "Guadagni     0          1       0         1        0          0      0       \n",
       "Lamberteschi 0          0       0         0        0          0      1       \n",
       "Medici       1          1       1         0        0          0      0       \n",
       "Pazzi        0          0       0         0        0          0      0       \n",
       "Peruzzi      0          0       0         1        1          0      0       \n",
       "Pucci        0          0       0         0        0          0      0       \n",
       "Ridolfi      0          0       0         0        0          0      0       \n",
       "Salviati     0          0       0         0        0          0      0       \n",
       "Strozzi      0          0       0         1        1          0      0       \n",
       "Tornabuoni   0          0       0         0        0          0      1       \n",
       "             Lamberteschi Medici Pazzi Peruzzi Pucci Ridolfi Salviati Strozzi\n",
       "Acciaiuoli   0            1      0     0       0     0       0        0      \n",
       "Albizzi      0            1      0     0       0     0       0        0      \n",
       "Barbadori    0            1      0     0       0     0       0        0      \n",
       "Bischeri     0            0      0     1       0     0       0        1      \n",
       "Castellani   0            0      0     1       0     0       0        1      \n",
       "Ginori       0            0      0     0       0     0       0        0      \n",
       "Guadagni     1            0      0     0       0     0       0        0      \n",
       "Lamberteschi 0            0      0     0       0     0       0        0      \n",
       "Medici       0            0      0     0       0     1       1        0      \n",
       "Pazzi        0            0      0     0       0     0       1        0      \n",
       "Peruzzi      0            0      0     0       0     0       0        1      \n",
       "Pucci        0            0      0     0       0     0       0        0      \n",
       "Ridolfi      0            1      0     0       0     0       0        1      \n",
       "Salviati     0            1      1     0       0     0       0        0      \n",
       "Strozzi      0            0      0     1       0     1       0        0      \n",
       "Tornabuoni   0            1      0     0       0     1       0        0      \n",
       "             Tornabuoni\n",
       "Acciaiuoli   0         \n",
       "Albizzi      0         \n",
       "Barbadori    0         \n",
       "Bischeri     0         \n",
       "Castellani   0         \n",
       "Ginori       0         \n",
       "Guadagni     1         \n",
       "Lamberteschi 0         \n",
       "Medici       1         \n",
       "Pazzi        0         \n",
       "Peruzzi      0         \n",
       "Pucci        0         \n",
       "Ridolfi      1         \n",
       "Salviati     0         \n",
       "Strozzi      0         \n",
       "Tornabuoni   0         "
      ]
     },
     "metadata": {},
     "output_type": "display_data"
    }
   ],
   "source": [
    "rownames(table) <- colnames(table)\n",
    "table"
   ]
  },
  {
   "cell_type": "markdown",
   "metadata": {},
   "source": [
    "### Пункт 4\n",
    "С помощью соответствующих функций по полученной социоматрице построить ненаправленную сеть. Объяснить параметры, передаваемые в функцию. \n",
    "\n",
    "plot(\n",
    "  x,\n",
    "  axes = FALSE,\n",
    "  add = FALSE,\n",
    "  xlim = c(-1, 1),\n",
    "  ylim = c(-1, 1),\n",
    "  mark.groups = list(),\n",
    "  mark.shape = 1/2,\n",
    "  mark.col = rainbow(length(mark.groups), alpha = 0.3),\n",
    "  mark.border = rainbow(length(mark.groups), alpha = 1),\n",
    "  mark.expand = 15,\n",
    "  ...\n",
    ")\n",
    "\n",
    "* x - граф для построения.\n",
    "\n",
    "\"plot(graph_info)\", где x=graph_info\n"
   ]
  },
  {
   "cell_type": "code",
   "execution_count": 6,
   "metadata": {},
   "outputs": [
    {
     "data": {
      "image/png": "[encoded data removed]",
      "text/plain": [
       "Plot with title \"\""
      ]
     },
     "metadata": {
      "image/png": {
       "height": 420,
       "width": 420
      }
     },
     "output_type": "display_data"
    }
   ],
   "source": [
    "plot(graph_info)\n",
    "palette(\"default\")\n"
   ]
  },
  {
   "cell_type": "markdown",
   "metadata": {},
   "source": [
    "### Пункт 5\n",
    "Отобразить сеть с помощью алгоритмов укладки Фрюхтермана–\n",
    "Рейнгольда и Камада–Каваи. Объяснить, в чём различие между\n",
    "алгоритмами и укладками (см.Основные теоретические положения)."
   ]
  },
  {
   "cell_type": "code",
   "execution_count": 7,
   "metadata": {},
   "outputs": [
    {
     "data": {
      "image/png": "[encoded data removed]",
      "text/plain": [
       "Plot with title \"Алгоритм укладки Фрюхтермана– Рейнгольда\""
      ]
     },
     "metadata": {
      "image/png": {
       "height": 420,
       "width": 420
      }
     },
     "output_type": "display_data"
    },
    {
     "data": {
      "image/png": "[encoded data removed]",
      "text/plain": [
       "Plot with title \"Алгоритм укладки Камада–Каваи\""
      ]
     },
     "metadata": {
      "image/png": {
       "height": 420,
       "width": 420
      }
     },
     "output_type": "display_data"
    }
   ],
   "source": [
    "layout_FR <- layout_with_fr(graph_info) \n",
    "plot(graph_info, layout=layout_FR, main = \"Алгоритм укладки Фрюхтермана– Рейнгольда\")\n",
    "layout_KK <- layout_with_kk(graph_info) \n",
    "plot(graph_info, layout=layout_KK, main = \"Алгоритм укладки Камада–Каваи\")"
   ]
  },
  {
   "cell_type": "markdown",
   "metadata": {},
   "source": [
    "### Пункт 6\n",
    "Вывести «описательную сводку» сети."
   ]
  },
  {
   "cell_type": "code",
   "execution_count": 8,
   "metadata": {},
   "outputs": [
    {
     "data": {
      "text/plain": [
       "Network attributes:\n",
       "  vertices = 16\n",
       "  directed = FALSE\n",
       "  hyper = FALSE\n",
       "  loops = FALSE\n",
       "  multiple = FALSE\n",
       "  bipartite = FALSE\n",
       " total edges = 20 \n",
       "   missing edges = 0 \n",
       "   non-missing edges = 20 \n",
       " density = 0.1666667 \n",
       "\n",
       "Vertex attributes:\n",
       "  vertex.names:\n",
       "   character valued attribute\n",
       "   16 valid vertex names\n",
       "\n",
       "No edge attributes\n",
       "\n",
       "Network edgelist matrix:\n",
       "      [,1] [,2]\n",
       " [1,]    9    1\n",
       " [2,]    6    2\n",
       " [3,]    7    2\n",
       " [4,]    9    2\n",
       " [5,]    5    3\n",
       " [6,]    9    3\n",
       " [7,]    7    4\n",
       " [8,]   11    4\n",
       " [9,]   15    4\n",
       "[10,]   11    5\n",
       "[11,]   15    5\n",
       "[12,]    8    7\n",
       "[13,]   16    7\n",
       "[14,]   13    9\n",
       "[15,]   14    9\n",
       "[16,]   16    9\n",
       "[17,]   14   10\n",
       "[18,]   15   11\n",
       "[19,]   15   13\n",
       "[20,]   16   13"
      ]
     },
     "metadata": {},
     "output_type": "display_data"
    },
    {
     "data": {
      "text/plain": [
       "IGRAPH 20043c8 UN-- 16 20 -- \n",
       "+ attr: name (v/c)\n",
       "+ edges from 20043c8 (vertex names):\n",
       " [1] Acciaiuoli--Medici       Albizzi   --Ginori       Albizzi   --Guadagni    \n",
       " [4] Albizzi   --Medici       Barbadori --Castellani   Barbadori --Medici      \n",
       " [7] Bischeri  --Guadagni     Bischeri  --Peruzzi      Bischeri  --Strozzi     \n",
       "[10] Castellani--Peruzzi      Castellani--Strozzi      Guadagni  --Lamberteschi\n",
       "[13] Guadagni  --Tornabuoni   Medici    --Ridolfi      Medici    --Salviati    \n",
       "[16] Medici    --Tornabuoni   Pazzi     --Salviati     Peruzzi   --Strozzi     \n",
       "[19] Ridolfi   --Strozzi      Ridolfi   --Tornabuoni  "
      ]
     },
     "metadata": {},
     "output_type": "display_data"
    }
   ],
   "source": [
    "gf_summary <- network(data.matrix(table), matrix.type=\"adjacency\", directed=FALSE)\n",
    "summary(gf_summary)\n",
    "# для проверки\n",
    "graph_info"
   ]
  },
  {
   "cell_type": "markdown",
   "metadata": {},
   "source": [
    "### Пункт 7\n",
    "Вычислить «пятичисловую сводку» сети:\n",
    "* Вычислить размер сети.\n",
    "* Вычислить плотность сети вручную и с помощью соответствующей функции. Сделать выводы.\n",
    "* Определить число компонент в сети по графику. Подтвердить свои догадки с помощью соответствующей функции. Сделать выводы.\n",
    "* Вычислить диаметр сети. Сделать выводы\n",
    "* Вычислить коэффициент кластеризации. Сделать выводы."
   ]
  },
  {
   "cell_type": "code",
   "execution_count": 9,
   "metadata": {
    "scrolled": true
   },
   "outputs": [
    {
     "data": {
      "text/html": [
       "16"
      ],
      "text/latex": [
       "16"
      ],
      "text/markdown": [
       "16"
      ],
      "text/plain": [
       "[1] 16"
      ]
     },
     "metadata": {},
     "output_type": "display_data"
    }
   ],
   "source": [
    "size <- gorder(graph_info)\n",
    "size"
   ]
  },
  {
   "cell_type": "code",
   "execution_count": 10,
   "metadata": {},
   "outputs": [
    {
     "data": {
      "text/html": [
       "20"
      ],
      "text/latex": [
       "20"
      ],
      "text/markdown": [
       "20"
      ],
      "text/plain": [
       "[1] 20"
      ]
     },
     "metadata": {},
     "output_type": "display_data"
    }
   ],
   "source": [
    "ecount <- gsize(graph_info)\n",
    "ecount\n"
   ]
  },
  {
   "cell_type": "markdown",
   "metadata": {},
   "source": [
    "Вычислить плотность сети вручную и с помощью соответствующей функции. Сделать выводы.\n",
    "Вычесленные плотности совпадают. Вероятность наличия связи между семьями ~0.167"
   ]
  },
  {
   "cell_type": "code",
   "execution_count": 11,
   "metadata": {},
   "outputs": [
    {
     "data": {
      "text/html": [
       "0.166666666666667"
      ],
      "text/latex": [
       "0.166666666666667"
      ],
      "text/markdown": [
       "0.166666666666667"
      ],
      "text/plain": [
       "[1] 0.1666667"
      ]
     },
     "metadata": {},
     "output_type": "display_data"
    }
   ],
   "source": [
    "density_grid <- ecount / (size * (size - 1) / 2)\n",
    "density_grid"
   ]
  },
  {
   "cell_type": "code",
   "execution_count": 12,
   "metadata": {},
   "outputs": [
    {
     "data": {
      "text/html": [
       "0.166666666666667"
      ],
      "text/latex": [
       "0.166666666666667"
      ],
      "text/markdown": [
       "0.166666666666667"
      ],
      "text/plain": [
       "[1] 0.1666667"
      ]
     },
     "metadata": {},
     "output_type": "display_data"
    }
   ],
   "source": [
    "density_grid <- edge_density(graph_info)\n",
    "density_grid"
   ]
  },
  {
   "cell_type": "markdown",
   "metadata": {},
   "source": [
    "Определить число компонент в сети по графику. Подтвердить свои догадки с помощью соответствующей функции. Сделать выводы.\n",
    "Семьи, за исключением Pucci, имеют связи с другими."
   ]
  },
  {
   "cell_type": "code",
   "execution_count": 13,
   "metadata": {},
   "outputs": [
    {
     "data": {
      "text/html": [
       "2"
      ],
      "text/latex": [
       "2"
      ],
      "text/markdown": [
       "2"
      ],
      "text/plain": [
       "[1] 2"
      ]
     },
     "metadata": {},
     "output_type": "display_data"
    }
   ],
   "source": [
    "count_components <- count_components(graph_info, mode='weak')\n",
    "count_components"
   ]
  },
  {
   "cell_type": "markdown",
   "metadata": {},
   "source": [
    "Выбранные две семьи связаны через наидлиннейший из кратчайших родственных путей всей сети семей, состоящий из 5 связей."
   ]
  },
  {
   "cell_type": "code",
   "execution_count": 14,
   "metadata": {},
   "outputs": [
    {
     "data": {
      "text/html": [
       "5"
      ],
      "text/latex": [
       "5"
      ],
      "text/markdown": [
       "5"
      ],
      "text/plain": [
       "[1] 5"
      ]
     },
     "metadata": {},
     "output_type": "display_data"
    }
   ],
   "source": [
    "diameter <- diameter(graph_info, directed=FALSE)\n",
    "diameter"
   ]
  },
  {
   "cell_type": "markdown",
   "metadata": {},
   "source": [
    "Вероятность того, что три семьи имеют попарную связь, если хотя бы одна из них связана с двумя другими ~0.19."
   ]
  },
  {
   "cell_type": "code",
   "execution_count": 15,
   "metadata": {
    "scrolled": true
   },
   "outputs": [
    {
     "data": {
      "text/html": [
       "0.191489361702128"
      ],
      "text/latex": [
       "0.191489361702128"
      ],
      "text/markdown": [
       "0.191489361702128"
      ],
      "text/plain": [
       "[1] 0.1914894"
      ]
     },
     "metadata": {},
     "output_type": "display_data"
    }
   ],
   "source": [
    "transitivity <- transitivity(graph_info)\n",
    "transitivity"
   ]
  },
  {
   "cell_type": "markdown",
   "metadata": {},
   "source": [
    "#### Общий вывод:\n",
    "1. Число семей - 16\n",
    "2. Вычесленные плотности сети совпадают. Вероятность наличия связи между семьями ~0.167\n",
    "3. Семьи, за исключением Pucci, имеют связи с другими\n",
    "4. Выбранные две семьи связаны через наидлиннейший из кратчайших родственных путей всей сети семей, состоящий из 5 связей\n",
    "5. Вероятность того, что три семьи имеют попарную связь, если хотя бы одна из них связана с двумя другими ~0.19"
   ]
  },
  {
   "cell_type": "markdown",
   "metadata": {},
   "source": [
    "### Пункт 8\n",
    "Вычислить среднюю степень узлов и дисперсию. Сделать выводы.\n",
    "\n",
    "В среднем каждая семья имеет по 3 связи с другими."
   ]
  },
  {
   "cell_type": "code",
   "execution_count": 16,
   "metadata": {},
   "outputs": [
    {
     "data": {
      "text/html": [
       "<style>\n",
       ".dl-inline {width: auto; margin:0; padding: 0}\n",
       ".dl-inline>dt, .dl-inline>dd {float: none; width: auto; display: inline-block}\n",
       ".dl-inline>dt::after {content: \":\\0020\"; padding-right: .5ex}\n",
       ".dl-inline>dt:not(:first-of-type) {padding-left: .5ex}\n",
       "</style><dl class=dl-inline><dt>Acciaiuoli</dt><dd>1</dd><dt>Albizzi</dt><dd>3</dd><dt>Barbadori</dt><dd>2</dd><dt>Bischeri</dt><dd>3</dd><dt>Castellani</dt><dd>3</dd><dt>Ginori</dt><dd>1</dd><dt>Guadagni</dt><dd>4</dd><dt>Lamberteschi</dt><dd>1</dd><dt>Medici</dt><dd>6</dd><dt>Pazzi</dt><dd>1</dd><dt>Peruzzi</dt><dd>3</dd><dt>Pucci</dt><dd>0</dd><dt>Ridolfi</dt><dd>3</dd><dt>Salviati</dt><dd>2</dd><dt>Strozzi</dt><dd>4</dd><dt>Tornabuoni</dt><dd>3</dd></dl>\n"
      ],
      "text/latex": [
       "\\begin{description*}\n",
       "\\item[Acciaiuoli] 1\n",
       "\\item[Albizzi] 3\n",
       "\\item[Barbadori] 2\n",
       "\\item[Bischeri] 3\n",
       "\\item[Castellani] 3\n",
       "\\item[Ginori] 1\n",
       "\\item[Guadagni] 4\n",
       "\\item[Lamberteschi] 1\n",
       "\\item[Medici] 6\n",
       "\\item[Pazzi] 1\n",
       "\\item[Peruzzi] 3\n",
       "\\item[Pucci] 0\n",
       "\\item[Ridolfi] 3\n",
       "\\item[Salviati] 2\n",
       "\\item[Strozzi] 4\n",
       "\\item[Tornabuoni] 3\n",
       "\\end{description*}\n"
      ],
      "text/markdown": [
       "Acciaiuoli\n",
       ":   1Albizzi\n",
       ":   3Barbadori\n",
       ":   2Bischeri\n",
       ":   3Castellani\n",
       ":   3Ginori\n",
       ":   1Guadagni\n",
       ":   4Lamberteschi\n",
       ":   1Medici\n",
       ":   6Pazzi\n",
       ":   1Peruzzi\n",
       ":   3Pucci\n",
       ":   0Ridolfi\n",
       ":   3Salviati\n",
       ":   2Strozzi\n",
       ":   4Tornabuoni\n",
       ":   3\n",
       "\n"
      ],
      "text/plain": [
       "  Acciaiuoli      Albizzi    Barbadori     Bischeri   Castellani       Ginori \n",
       "           1            3            2            3            3            1 \n",
       "    Guadagni Lamberteschi       Medici        Pazzi      Peruzzi        Pucci \n",
       "           4            1            6            1            3            0 \n",
       "     Ridolfi     Salviati      Strozzi   Tornabuoni \n",
       "           3            2            4            3 "
      ]
     },
     "metadata": {},
     "output_type": "display_data"
    },
    {
     "data": {
      "text/html": [
       "2.5"
      ],
      "text/latex": [
       "2.5"
      ],
      "text/markdown": [
       "2.5"
      ],
      "text/plain": [
       "[1] 2.5"
      ]
     },
     "metadata": {},
     "output_type": "display_data"
    }
   ],
   "source": [
    "degrees <- igraph::degree(graph_info)\n",
    "degrees\n",
    "mean <- mean(degrees)\n",
    "mean\n",
    "df_mean = data.frame(mean)\n"
   ]
  },
  {
   "cell_type": "code",
   "execution_count": 17,
   "metadata": {
    "scrolled": true
   },
   "outputs": [
    {
     "data": {
      "text/html": [
       "2.125"
      ],
      "text/latex": [
       "2.125"
      ],
      "text/markdown": [
       "2.125"
      ],
      "text/plain": [
       "[1] 2.125"
      ]
     },
     "metadata": {},
     "output_type": "display_data"
    }
   ],
   "source": [
    "disp <- mean((igraph::degree(graph_info) - mean) ** 2)\n",
    "disp"
   ]
  },
  {
   "cell_type": "markdown",
   "metadata": {},
   "source": [
    "#### Общий вывод:\n",
    "В среднем семья имеет по 2 связи с другими семьями, но, учитывая СКО, семья может иметь как 4 связи, так и 0."
   ]
  },
  {
   "attachments": {
    "image.png": {
     "image/png": "[encoded data removed]"
    }
   },
   "cell_type": "markdown",
   "metadata": {},
   "source": [
    "### Пункт 9\n",
    "Заполнить таблицу для различных мер центральности. Примечание: меры центральности вычислить для неизолированных вершин: ![image.png](attachment:image.png)\n",
    "Сделать выводы."
   ]
  },
  {
   "cell_type": "code",
   "execution_count": 18,
   "metadata": {},
   "outputs": [
    {
     "data": {
      "text/html": [
       "<style>\n",
       ".dl-inline {width: auto; margin:0; padding: 0}\n",
       ".dl-inline>dt, .dl-inline>dd {float: none; width: auto; display: inline-block}\n",
       ".dl-inline>dt::after {content: \":\\0020\"; padding-right: .5ex}\n",
       ".dl-inline>dt:not(:first-of-type) {padding-left: .5ex}\n",
       "</style><dl class=dl-inline><dt>Acciaiuoli</dt><dd>1</dd><dt>Albizzi</dt><dd>1</dd><dt>Barbadori</dt><dd>1</dd><dt>Bischeri</dt><dd>1</dd><dt>Castellani</dt><dd>1</dd><dt>Ginori</dt><dd>1</dd><dt>Guadagni</dt><dd>1</dd><dt>Lamberteschi</dt><dd>1</dd><dt>Medici</dt><dd>1</dd><dt>Pazzi</dt><dd>1</dd><dt>Peruzzi</dt><dd>1</dd><dt>Pucci</dt><dd>2</dd><dt>Ridolfi</dt><dd>1</dd><dt>Salviati</dt><dd>1</dd><dt>Strozzi</dt><dd>1</dd><dt>Tornabuoni</dt><dd>1</dd></dl>\n"
      ],
      "text/latex": [
       "\\begin{description*}\n",
       "\\item[Acciaiuoli] 1\n",
       "\\item[Albizzi] 1\n",
       "\\item[Barbadori] 1\n",
       "\\item[Bischeri] 1\n",
       "\\item[Castellani] 1\n",
       "\\item[Ginori] 1\n",
       "\\item[Guadagni] 1\n",
       "\\item[Lamberteschi] 1\n",
       "\\item[Medici] 1\n",
       "\\item[Pazzi] 1\n",
       "\\item[Peruzzi] 1\n",
       "\\item[Pucci] 2\n",
       "\\item[Ridolfi] 1\n",
       "\\item[Salviati] 1\n",
       "\\item[Strozzi] 1\n",
       "\\item[Tornabuoni] 1\n",
       "\\end{description*}\n"
      ],
      "text/markdown": [
       "Acciaiuoli\n",
       ":   1Albizzi\n",
       ":   1Barbadori\n",
       ":   1Bischeri\n",
       ":   1Castellani\n",
       ":   1Ginori\n",
       ":   1Guadagni\n",
       ":   1Lamberteschi\n",
       ":   1Medici\n",
       ":   1Pazzi\n",
       ":   1Peruzzi\n",
       ":   1Pucci\n",
       ":   2Ridolfi\n",
       ":   1Salviati\n",
       ":   1Strozzi\n",
       ":   1Tornabuoni\n",
       ":   1\n",
       "\n"
      ],
      "text/plain": [
       "  Acciaiuoli      Albizzi    Barbadori     Bischeri   Castellani       Ginori \n",
       "           1            1            1            1            1            1 \n",
       "    Guadagni Lamberteschi       Medici        Pazzi      Peruzzi        Pucci \n",
       "           1            1            1            1            1            2 \n",
       "     Ridolfi     Salviati      Strozzi   Tornabuoni \n",
       "           1            1            1            1 "
      ]
     },
     "metadata": {},
     "output_type": "display_data"
    },
    {
     "data": {
      "text/html": [
       "<style>\n",
       ".list-inline {list-style: none; margin:0; padding: 0}\n",
       ".list-inline>li {display: inline-block}\n",
       ".list-inline>li:not(:last-child)::after {content: \"\\00b7\"; padding: 0 .5ex}\n",
       "</style>\n",
       "<ol class=list-inline><li>15</li><li>1</li></ol>\n"
      ],
      "text/latex": [
       "\\begin{enumerate*}\n",
       "\\item 15\n",
       "\\item 1\n",
       "\\end{enumerate*}\n"
      ],
      "text/markdown": [
       "1. 15\n",
       "2. 1\n",
       "\n",
       "\n"
      ],
      "text/plain": [
       "[1] 15  1"
      ]
     },
     "metadata": {},
     "output_type": "display_data"
    },
    {
     "data": {
      "text/html": [
       "'Pucci'"
      ],
      "text/latex": [
       "'Pucci'"
      ],
      "text/markdown": [
       "'Pucci'"
      ],
      "text/plain": [
       "[1] \"Pucci\""
      ]
     },
     "metadata": {},
     "output_type": "display_data"
    }
   ],
   "source": [
    "membership <- igraph::components(graph_info, mode=\"strong\")$membership\n",
    "membership\n",
    "counts <- igraph::components(graph_info, mode=\"strong\")$csize\n",
    "counts\n",
    "isolated <- membership[counts[membership] == 1]\n",
    "names(isolated)"
   ]
  },
  {
   "cell_type": "code",
   "execution_count": 19,
   "metadata": {
    "scrolled": false
   },
   "outputs": [
    {
     "data": {
      "text/html": [
       "<table class=\"dataframe\">\n",
       "<caption>A data.frame: 15 × 4</caption>\n",
       "<thead>\n",
       "\t<tr><th></th><th scope=col>degree_centrality</th><th scope=col>betweenness_centrality</th><th scope=col>closeness_centrality</th><th scope=col>inf_centrality</th></tr>\n",
       "\t<tr><th></th><th scope=col>&lt;dbl&gt;</th><th scope=col>&lt;dbl&gt;</th><th scope=col>&lt;dbl&gt;</th><th scope=col>&lt;dbl&gt;</th></tr>\n",
       "</thead>\n",
       "<tbody>\n",
       "\t<tr><th scope=row>Acciaiuoli</th><td>0.07142857</td><td>0.00000000</td><td>0.02631579</td><td>0.5536374</td></tr>\n",
       "\t<tr><th scope=row>Albizzi</th><td>0.21428571</td><td>0.21245421</td><td>0.03448276</td><td>0.8297463</td></tr>\n",
       "\t<tr><th scope=row>Barbadori</th><td>0.14285714</td><td>0.09340659</td><td>0.03125000</td><td>0.7634617</td></tr>\n",
       "\t<tr><th scope=row>Bischeri</th><td>0.21428571</td><td>0.10439560</td><td>0.02857143</td><td>0.8318795</td></tr>\n",
       "\t<tr><th scope=row>Castellani</th><td>0.21428571</td><td>0.05494505</td><td>0.02777778</td><td>0.7944233</td></tr>\n",
       "\t<tr><th scope=row>Ginori</th><td>0.07142857</td><td>0.00000000</td><td>0.02380952</td><td>0.4826594</td></tr>\n",
       "\t<tr><th scope=row>Guadagni</th><td>0.28571429</td><td>0.25457875</td><td>0.03333333</td><td>0.9173290</td></tr>\n",
       "\t<tr><th scope=row>Lamberteschi</th><td>0.07142857</td><td>0.00000000</td><td>0.02325581</td><td>0.5110415</td></tr>\n",
       "\t<tr><th scope=row>Medici</th><td>0.42857143</td><td>0.52197802</td><td>0.04000000</td><td>1.0643172</td></tr>\n",
       "\t<tr><th scope=row>Pazzi</th><td>0.07142857</td><td>0.00000000</td><td>0.02040816</td><td>0.3937675</td></tr>\n",
       "\t<tr><th scope=row>Peruzzi</th><td>0.21428571</td><td>0.02197802</td><td>0.02631579</td><td>0.7788189</td></tr>\n",
       "\t<tr><th scope=row>Ridolfi</th><td>0.21428571</td><td>0.11355311</td><td>0.03571429</td><td>0.9005517</td></tr>\n",
       "\t<tr><th scope=row>Salviati</th><td>0.14285714</td><td>0.14285714</td><td>0.02777778</td><td>0.5977633</td></tr>\n",
       "\t<tr><th scope=row>Strozzi</th><td>0.28571429</td><td>0.10256410</td><td>0.03125000</td><td>0.8782048</td></tr>\n",
       "\t<tr><th scope=row>Tornabuoni</th><td>0.21428571</td><td>0.09157509</td><td>0.03448276</td><td>0.9023455</td></tr>\n",
       "</tbody>\n",
       "</table>\n"
      ],
      "text/latex": [
       "A data.frame: 15 × 4\n",
       "\\begin{tabular}{r|llll}\n",
       "  & degree\\_centrality & betweenness\\_centrality & closeness\\_centrality & inf\\_centrality\\\\\n",
       "  & <dbl> & <dbl> & <dbl> & <dbl>\\\\\n",
       "\\hline\n",
       "\tAcciaiuoli & 0.07142857 & 0.00000000 & 0.02631579 & 0.5536374\\\\\n",
       "\tAlbizzi & 0.21428571 & 0.21245421 & 0.03448276 & 0.8297463\\\\\n",
       "\tBarbadori & 0.14285714 & 0.09340659 & 0.03125000 & 0.7634617\\\\\n",
       "\tBischeri & 0.21428571 & 0.10439560 & 0.02857143 & 0.8318795\\\\\n",
       "\tCastellani & 0.21428571 & 0.05494505 & 0.02777778 & 0.7944233\\\\\n",
       "\tGinori & 0.07142857 & 0.00000000 & 0.02380952 & 0.4826594\\\\\n",
       "\tGuadagni & 0.28571429 & 0.25457875 & 0.03333333 & 0.9173290\\\\\n",
       "\tLamberteschi & 0.07142857 & 0.00000000 & 0.02325581 & 0.5110415\\\\\n",
       "\tMedici & 0.42857143 & 0.52197802 & 0.04000000 & 1.0643172\\\\\n",
       "\tPazzi & 0.07142857 & 0.00000000 & 0.02040816 & 0.3937675\\\\\n",
       "\tPeruzzi & 0.21428571 & 0.02197802 & 0.02631579 & 0.7788189\\\\\n",
       "\tRidolfi & 0.21428571 & 0.11355311 & 0.03571429 & 0.9005517\\\\\n",
       "\tSalviati & 0.14285714 & 0.14285714 & 0.02777778 & 0.5977633\\\\\n",
       "\tStrozzi & 0.28571429 & 0.10256410 & 0.03125000 & 0.8782048\\\\\n",
       "\tTornabuoni & 0.21428571 & 0.09157509 & 0.03448276 & 0.9023455\\\\\n",
       "\\end{tabular}\n"
      ],
      "text/markdown": [
       "\n",
       "A data.frame: 15 × 4\n",
       "\n",
       "| <!--/--> | degree_centrality &lt;dbl&gt; | betweenness_centrality &lt;dbl&gt; | closeness_centrality &lt;dbl&gt; | inf_centrality &lt;dbl&gt; |\n",
       "|---|---|---|---|---|\n",
       "| Acciaiuoli | 0.07142857 | 0.00000000 | 0.02631579 | 0.5536374 |\n",
       "| Albizzi | 0.21428571 | 0.21245421 | 0.03448276 | 0.8297463 |\n",
       "| Barbadori | 0.14285714 | 0.09340659 | 0.03125000 | 0.7634617 |\n",
       "| Bischeri | 0.21428571 | 0.10439560 | 0.02857143 | 0.8318795 |\n",
       "| Castellani | 0.21428571 | 0.05494505 | 0.02777778 | 0.7944233 |\n",
       "| Ginori | 0.07142857 | 0.00000000 | 0.02380952 | 0.4826594 |\n",
       "| Guadagni | 0.28571429 | 0.25457875 | 0.03333333 | 0.9173290 |\n",
       "| Lamberteschi | 0.07142857 | 0.00000000 | 0.02325581 | 0.5110415 |\n",
       "| Medici | 0.42857143 | 0.52197802 | 0.04000000 | 1.0643172 |\n",
       "| Pazzi | 0.07142857 | 0.00000000 | 0.02040816 | 0.3937675 |\n",
       "| Peruzzi | 0.21428571 | 0.02197802 | 0.02631579 | 0.7788189 |\n",
       "| Ridolfi | 0.21428571 | 0.11355311 | 0.03571429 | 0.9005517 |\n",
       "| Salviati | 0.14285714 | 0.14285714 | 0.02777778 | 0.5977633 |\n",
       "| Strozzi | 0.28571429 | 0.10256410 | 0.03125000 | 0.8782048 |\n",
       "| Tornabuoni | 0.21428571 | 0.09157509 | 0.03448276 | 0.9023455 |\n",
       "\n"
      ],
      "text/plain": [
       "             degree_centrality betweenness_centrality closeness_centrality\n",
       "Acciaiuoli   0.07142857        0.00000000             0.02631579          \n",
       "Albizzi      0.21428571        0.21245421             0.03448276          \n",
       "Barbadori    0.14285714        0.09340659             0.03125000          \n",
       "Bischeri     0.21428571        0.10439560             0.02857143          \n",
       "Castellani   0.21428571        0.05494505             0.02777778          \n",
       "Ginori       0.07142857        0.00000000             0.02380952          \n",
       "Guadagni     0.28571429        0.25457875             0.03333333          \n",
       "Lamberteschi 0.07142857        0.00000000             0.02325581          \n",
       "Medici       0.42857143        0.52197802             0.04000000          \n",
       "Pazzi        0.07142857        0.00000000             0.02040816          \n",
       "Peruzzi      0.21428571        0.02197802             0.02631579          \n",
       "Ridolfi      0.21428571        0.11355311             0.03571429          \n",
       "Salviati     0.14285714        0.14285714             0.02777778          \n",
       "Strozzi      0.28571429        0.10256410             0.03125000          \n",
       "Tornabuoni   0.21428571        0.09157509             0.03448276          \n",
       "             inf_centrality\n",
       "Acciaiuoli   0.5536374     \n",
       "Albizzi      0.8297463     \n",
       "Barbadori    0.7634617     \n",
       "Bischeri     0.8318795     \n",
       "Castellani   0.7944233     \n",
       "Ginori       0.4826594     \n",
       "Guadagni     0.9173290     \n",
       "Lamberteschi 0.5110415     \n",
       "Medici       1.0643172     \n",
       "Pazzi        0.3937675     \n",
       "Peruzzi      0.7788189     \n",
       "Ridolfi      0.9005517     \n",
       "Salviati     0.5977633     \n",
       "Strozzi      0.8782048     \n",
       "Tornabuoni   0.9023455     "
      ]
     },
     "metadata": {},
     "output_type": "display_data"
    }
   ],
   "source": [
    "drop_isolated <- delete_vertices(graph_info, names(isolated))\n",
    "g <- gorder(drop_isolated)\n",
    "actor_degree_centrality <- igraph::degree(drop_isolated) / (g - 1) \n",
    "dist <- distances(drop_isolated)\n",
    "actor_closeness_centrality <- igraph::closeness(drop_isolated)\n",
    "actor_betweenness_centrality <- igraph::betweenness(drop_isolated, directed=FALSE, normalized=TRUE)\n",
    "# информация о центральности позиций\n",
    "actor_inf_centrality <- infocent(as.matrix(as_adjacency_matrix(drop_isolated)))\n",
    "data <- data.frame(degree_centrality=actor_degree_centrality, betweenness_centrality=actor_betweenness_centrality,\n",
    "closeness_centrality=actor_closeness_centrality, inf_centrality=actor_inf_centrality)\n",
    "data"
   ]
  },
  {
   "cell_type": "markdown",
   "metadata": {},
   "source": [
    "#### Общий вывод:\n",
    "Самая важна семья (наибольшее число связей с остальными) - Медичи."
   ]
  },
  {
   "cell_type": "markdown",
   "metadata": {},
   "source": [
    "### Пункт 10\n",
    "Вычислить значение централизации для каждой меры. Сделать выводы."
   ]
  },
  {
   "cell_type": "code",
   "execution_count": 20,
   "metadata": {},
   "outputs": [
    {
     "name": "stdout",
     "output_type": "stream",
     "text": [
      "[1] \"**Значение централизации**\"\n",
      "[1] \"По степени:\"\n"
     ]
    },
    {
     "data": {
      "text/html": [
       "0.238095238095238"
      ],
      "text/latex": [
       "0.238095238095238"
      ],
      "text/markdown": [
       "0.238095238095238"
      ],
      "text/plain": [
       "[1] 0.2380952"
      ]
     },
     "metadata": {},
     "output_type": "display_data"
    },
    {
     "name": "stdout",
     "output_type": "stream",
     "text": [
      "[1] \"По близости:\"\n"
     ]
    },
    {
     "data": {
      "text/html": [
       "0.32245227610961"
      ],
      "text/latex": [
       "0.32245227610961"
      ],
      "text/markdown": [
       "0.32245227610961"
      ],
      "text/plain": [
       "[1] 0.3224523"
      ]
     },
     "metadata": {},
     "output_type": "display_data"
    },
    {
     "name": "stdout",
     "output_type": "stream",
     "text": [
      "[1] \"По посреднечеству:\"\n"
     ]
    },
    {
     "data": {
      "text/html": [
       "0.436813186813187"
      ],
      "text/latex": [
       "0.436813186813187"
      ],
      "text/markdown": [
       "0.436813186813187"
      ],
      "text/plain": [
       "[1] 0.4368132"
      ]
     },
     "metadata": {},
     "output_type": "display_data"
    },
    {
     "name": "stdout",
     "output_type": "stream",
     "text": [
      "[1] \"По информации:\"\n"
     ]
    },
    {
     "data": {
      "text/html": [
       "0.746663141464648"
      ],
      "text/latex": [
       "0.746663141464648"
      ],
      "text/markdown": [
       "0.746663141464648"
      ],
      "text/plain": [
       "[1] 0.7466631"
      ]
     },
     "metadata": {},
     "output_type": "display_data"
    },
    {
     "data": {
      "text/html": [
       "<table class=\"dataframe\">\n",
       "<caption>A data.frame: 1 × 4</caption>\n",
       "<thead>\n",
       "\t<tr><th scope=col>degree</th><th scope=col>clo</th><th scope=col>betw</th><th scope=col>mean</th></tr>\n",
       "\t<tr><th scope=col>&lt;dbl&gt;</th><th scope=col>&lt;dbl&gt;</th><th scope=col>&lt;dbl&gt;</th><th scope=col>&lt;dbl&gt;</th></tr>\n",
       "</thead>\n",
       "<tbody>\n",
       "\t<tr><td>0.2380952</td><td>0.3224523</td><td>0.4368132</td><td>0.7466631</td></tr>\n",
       "</tbody>\n",
       "</table>\n"
      ],
      "text/latex": [
       "A data.frame: 1 × 4\n",
       "\\begin{tabular}{llll}\n",
       " degree & clo & betw & mean\\\\\n",
       " <dbl> & <dbl> & <dbl> & <dbl>\\\\\n",
       "\\hline\n",
       "\t 0.2380952 & 0.3224523 & 0.4368132 & 0.7466631\\\\\n",
       "\\end{tabular}\n"
      ],
      "text/markdown": [
       "\n",
       "A data.frame: 1 × 4\n",
       "\n",
       "| degree &lt;dbl&gt; | clo &lt;dbl&gt; | betw &lt;dbl&gt; | mean &lt;dbl&gt; |\n",
       "|---|---|---|---|\n",
       "| 0.2380952 | 0.3224523 | 0.4368132 | 0.7466631 |\n",
       "\n"
      ],
      "text/plain": [
       "  degree    clo       betw      mean     \n",
       "1 0.2380952 0.3224523 0.4368132 0.7466631"
      ]
     },
     "metadata": {},
     "output_type": "display_data"
    }
   ],
   "source": [
    "print(\"**Значение централизации**\")\n",
    "print(\"По степени:\")\n",
    "degrees <- centr_degree(drop_isolated)$centralization\n",
    "degrees\n",
    "print(\"По близости:\")\n",
    "cloc <- centr_clo(drop_isolated)$centralization\n",
    "cloc\n",
    "print(\"По посреднечеству:\")\n",
    "betwc <- centr_betw(drop_isolated)$centralization\n",
    "betwc\n",
    "print(\"По информации:\")\n",
    "meanc <- mean(actor_inf_centrality)\n",
    "meanc\n",
    "с_data <- data.frame(degree=degrees, clo=cloc, betw=betwc, mean=meanc)\n",
    "с_data"
   ]
  },
  {
   "cell_type": "markdown",
   "metadata": {},
   "source": [
    "#### Общий вывод:\n",
    "Учитывая п9 можно сказать, что в ц-и по степени имеется большая уверенность в важности семьи Медичей, чем в остальных мерах центральности."
   ]
  },
  {
   "cell_type": "markdown",
   "metadata": {},
   "source": [
    "### Пункт 11\n",
    "Выявить точки сочленения и мосты сети. Подтвердить свои догадки с помощью соответствующих функций (если их нет – реализуйте\n",
    "их самостоятельно). Построить график сети, на котором выделены\n",
    "точки сочленения и мосты.\n",
    "\n",
    "Догадки, судя по графу:\n",
    "Точки сочленения: Guadagni, Albizzi, Medici, Salviati\n",
    "Мосты: Guadagni-Lamberteshi, Salviati-Pazzi, Salviati-Medici, Albizzi-Ginori, Medici-Acciaiuoli"
   ]
  },
  {
   "cell_type": "code",
   "execution_count": 21,
   "metadata": {},
   "outputs": [
    {
     "data": {
      "image/png": "[encoded data removed]",
      "text/plain": [
       "Plot with title \"\""
      ]
     },
     "metadata": {
      "image/png": {
       "height": 420,
       "width": 420
      }
     },
     "output_type": "display_data"
    }
   ],
   "source": [
    "mask <- V(graph_info) %in% articulation_points(graph_info)\n",
    "colors <- replace(mask, mask, \"forest green\")\n",
    "colors <- replace(colors, !mask, \"brown\")\n",
    "V(graph_info)$color <- colors\n",
    "\n",
    "mask <- E(graph_info) %in% bridges(graph_info)\n",
    "colors <- replace(mask, mask, \"darkturquoise\")\n",
    "colors <- replace(colors, !mask, \"yellow3\")\n",
    "E(graph_info)$color <- colors\n",
    "\n",
    "plot(graph_info)"
   ]
  },
  {
   "cell_type": "markdown",
   "metadata": {},
   "source": [
    "### Пункт 12.1\n",
    "Извлечь из файла krackhardt_friendship.csv\n",
    "(для чётных вариантов) социоматрицу с помощью соответствующих функций. Вывести полученную социоматрицу на экран."
   ]
  },
  {
   "cell_type": "code",
   "execution_count": 22,
   "metadata": {},
   "outputs": [
    {
     "data": {
      "text/html": [
       "<table class=\"dataframe\">\n",
       "<caption>A data.frame: 21 × 21</caption>\n",
       "<thead>\n",
       "\t<tr><th scope=col>V1</th><th scope=col>V2</th><th scope=col>V3</th><th scope=col>V4</th><th scope=col>V5</th><th scope=col>V6</th><th scope=col>V7</th><th scope=col>V8</th><th scope=col>V9</th><th scope=col>V10</th><th scope=col>⋯</th><th scope=col>V12</th><th scope=col>V13</th><th scope=col>V14</th><th scope=col>V15</th><th scope=col>V16</th><th scope=col>V17</th><th scope=col>V18</th><th scope=col>V19</th><th scope=col>V20</th><th scope=col>V21</th></tr>\n",
       "\t<tr><th scope=col>&lt;int&gt;</th><th scope=col>&lt;int&gt;</th><th scope=col>&lt;int&gt;</th><th scope=col>&lt;int&gt;</th><th scope=col>&lt;int&gt;</th><th scope=col>&lt;int&gt;</th><th scope=col>&lt;int&gt;</th><th scope=col>&lt;int&gt;</th><th scope=col>&lt;int&gt;</th><th scope=col>&lt;int&gt;</th><th scope=col>⋯</th><th scope=col>&lt;int&gt;</th><th scope=col>&lt;int&gt;</th><th scope=col>&lt;int&gt;</th><th scope=col>&lt;int&gt;</th><th scope=col>&lt;int&gt;</th><th scope=col>&lt;int&gt;</th><th scope=col>&lt;int&gt;</th><th scope=col>&lt;int&gt;</th><th scope=col>&lt;int&gt;</th><th scope=col>&lt;int&gt;</th></tr>\n",
       "</thead>\n",
       "<tbody>\n",
       "\t<tr><td>0</td><td>1</td><td>0</td><td>1</td><td>0</td><td>0</td><td>0</td><td>1</td><td>0</td><td>0</td><td>⋯</td><td>1</td><td>0</td><td>0</td><td>0</td><td>1</td><td>0</td><td>0</td><td>0</td><td>0</td><td>0</td></tr>\n",
       "\t<tr><td>1</td><td>0</td><td>0</td><td>0</td><td>0</td><td>0</td><td>0</td><td>0</td><td>0</td><td>0</td><td>⋯</td><td>0</td><td>0</td><td>0</td><td>0</td><td>0</td><td>0</td><td>1</td><td>0</td><td>0</td><td>1</td></tr>\n",
       "\t<tr><td>0</td><td>0</td><td>0</td><td>0</td><td>0</td><td>0</td><td>0</td><td>0</td><td>0</td><td>0</td><td>⋯</td><td>0</td><td>0</td><td>1</td><td>0</td><td>0</td><td>0</td><td>0</td><td>1</td><td>0</td><td>0</td></tr>\n",
       "\t<tr><td>1</td><td>1</td><td>0</td><td>0</td><td>0</td><td>0</td><td>0</td><td>1</td><td>0</td><td>0</td><td>⋯</td><td>1</td><td>0</td><td>0</td><td>0</td><td>1</td><td>1</td><td>0</td><td>0</td><td>0</td><td>0</td></tr>\n",
       "\t<tr><td>0</td><td>1</td><td>0</td><td>0</td><td>0</td><td>0</td><td>0</td><td>0</td><td>1</td><td>0</td><td>⋯</td><td>0</td><td>0</td><td>1</td><td>0</td><td>0</td><td>1</td><td>0</td><td>1</td><td>0</td><td>1</td></tr>\n",
       "\t<tr><td>0</td><td>1</td><td>0</td><td>0</td><td>0</td><td>0</td><td>1</td><td>0</td><td>1</td><td>0</td><td>⋯</td><td>1</td><td>0</td><td>0</td><td>0</td><td>0</td><td>1</td><td>0</td><td>0</td><td>0</td><td>1</td></tr>\n",
       "\t<tr><td>0</td><td>0</td><td>0</td><td>0</td><td>0</td><td>0</td><td>0</td><td>0</td><td>0</td><td>0</td><td>⋯</td><td>0</td><td>0</td><td>0</td><td>0</td><td>0</td><td>0</td><td>0</td><td>0</td><td>0</td><td>0</td></tr>\n",
       "\t<tr><td>0</td><td>0</td><td>0</td><td>1</td><td>0</td><td>0</td><td>0</td><td>0</td><td>0</td><td>0</td><td>⋯</td><td>0</td><td>0</td><td>0</td><td>0</td><td>0</td><td>0</td><td>0</td><td>0</td><td>0</td><td>0</td></tr>\n",
       "\t<tr><td>0</td><td>0</td><td>0</td><td>0</td><td>0</td><td>0</td><td>0</td><td>0</td><td>0</td><td>0</td><td>⋯</td><td>0</td><td>0</td><td>0</td><td>0</td><td>0</td><td>0</td><td>0</td><td>0</td><td>0</td><td>0</td></tr>\n",
       "\t<tr><td>0</td><td>0</td><td>1</td><td>0</td><td>1</td><td>0</td><td>0</td><td>1</td><td>1</td><td>0</td><td>⋯</td><td>1</td><td>0</td><td>0</td><td>0</td><td>1</td><td>0</td><td>0</td><td>0</td><td>1</td><td>0</td></tr>\n",
       "\t<tr><td>1</td><td>1</td><td>1</td><td>1</td><td>1</td><td>0</td><td>0</td><td>1</td><td>1</td><td>0</td><td>⋯</td><td>1</td><td>1</td><td>0</td><td>1</td><td>0</td><td>1</td><td>1</td><td>1</td><td>0</td><td>0</td></tr>\n",
       "\t<tr><td>1</td><td>0</td><td>0</td><td>1</td><td>0</td><td>0</td><td>0</td><td>0</td><td>0</td><td>0</td><td>⋯</td><td>0</td><td>0</td><td>0</td><td>0</td><td>0</td><td>1</td><td>0</td><td>0</td><td>0</td><td>1</td></tr>\n",
       "\t<tr><td>0</td><td>0</td><td>0</td><td>0</td><td>1</td><td>0</td><td>0</td><td>0</td><td>0</td><td>0</td><td>⋯</td><td>0</td><td>0</td><td>0</td><td>0</td><td>0</td><td>0</td><td>0</td><td>0</td><td>0</td><td>0</td></tr>\n",
       "\t<tr><td>0</td><td>0</td><td>0</td><td>0</td><td>0</td><td>0</td><td>1</td><td>0</td><td>0</td><td>0</td><td>⋯</td><td>0</td><td>0</td><td>0</td><td>1</td><td>0</td><td>0</td><td>0</td><td>0</td><td>0</td><td>0</td></tr>\n",
       "\t<tr><td>1</td><td>0</td><td>1</td><td>0</td><td>1</td><td>1</td><td>0</td><td>0</td><td>1</td><td>0</td><td>⋯</td><td>0</td><td>0</td><td>1</td><td>0</td><td>0</td><td>0</td><td>0</td><td>1</td><td>0</td><td>0</td></tr>\n",
       "\t<tr><td>1</td><td>1</td><td>0</td><td>0</td><td>0</td><td>0</td><td>0</td><td>0</td><td>0</td><td>0</td><td>⋯</td><td>0</td><td>0</td><td>0</td><td>0</td><td>0</td><td>0</td><td>0</td><td>0</td><td>0</td><td>0</td></tr>\n",
       "\t<tr><td>1</td><td>1</td><td>1</td><td>1</td><td>1</td><td>1</td><td>1</td><td>1</td><td>1</td><td>1</td><td>⋯</td><td>1</td><td>0</td><td>1</td><td>1</td><td>1</td><td>0</td><td>0</td><td>1</td><td>1</td><td>1</td></tr>\n",
       "\t<tr><td>0</td><td>1</td><td>0</td><td>0</td><td>0</td><td>0</td><td>0</td><td>0</td><td>0</td><td>0</td><td>⋯</td><td>0</td><td>0</td><td>0</td><td>0</td><td>0</td><td>0</td><td>0</td><td>0</td><td>0</td><td>0</td></tr>\n",
       "\t<tr><td>1</td><td>1</td><td>1</td><td>0</td><td>1</td><td>0</td><td>0</td><td>0</td><td>0</td><td>0</td><td>⋯</td><td>1</td><td>0</td><td>1</td><td>1</td><td>0</td><td>0</td><td>0</td><td>0</td><td>1</td><td>0</td></tr>\n",
       "\t<tr><td>0</td><td>0</td><td>0</td><td>0</td><td>0</td><td>0</td><td>0</td><td>0</td><td>0</td><td>0</td><td>⋯</td><td>0</td><td>0</td><td>0</td><td>0</td><td>0</td><td>0</td><td>1</td><td>0</td><td>0</td><td>0</td></tr>\n",
       "\t<tr><td>0</td><td>1</td><td>0</td><td>0</td><td>0</td><td>0</td><td>0</td><td>0</td><td>0</td><td>0</td><td>⋯</td><td>1</td><td>0</td><td>0</td><td>0</td><td>0</td><td>1</td><td>1</td><td>0</td><td>0</td><td>0</td></tr>\n",
       "</tbody>\n",
       "</table>\n"
      ],
      "text/latex": [
       "A data.frame: 21 × 21\n",
       "\\begin{tabular}{lllllllllllllllllllll}\n",
       " V1 & V2 & V3 & V4 & V5 & V6 & V7 & V8 & V9 & V10 & ⋯ & V12 & V13 & V14 & V15 & V16 & V17 & V18 & V19 & V20 & V21\\\\\n",
       " <int> & <int> & <int> & <int> & <int> & <int> & <int> & <int> & <int> & <int> & ⋯ & <int> & <int> & <int> & <int> & <int> & <int> & <int> & <int> & <int> & <int>\\\\\n",
       "\\hline\n",
       "\t 0 & 1 & 0 & 1 & 0 & 0 & 0 & 1 & 0 & 0 & ⋯ & 1 & 0 & 0 & 0 & 1 & 0 & 0 & 0 & 0 & 0\\\\\n",
       "\t 1 & 0 & 0 & 0 & 0 & 0 & 0 & 0 & 0 & 0 & ⋯ & 0 & 0 & 0 & 0 & 0 & 0 & 1 & 0 & 0 & 1\\\\\n",
       "\t 0 & 0 & 0 & 0 & 0 & 0 & 0 & 0 & 0 & 0 & ⋯ & 0 & 0 & 1 & 0 & 0 & 0 & 0 & 1 & 0 & 0\\\\\n",
       "\t 1 & 1 & 0 & 0 & 0 & 0 & 0 & 1 & 0 & 0 & ⋯ & 1 & 0 & 0 & 0 & 1 & 1 & 0 & 0 & 0 & 0\\\\\n",
       "\t 0 & 1 & 0 & 0 & 0 & 0 & 0 & 0 & 1 & 0 & ⋯ & 0 & 0 & 1 & 0 & 0 & 1 & 0 & 1 & 0 & 1\\\\\n",
       "\t 0 & 1 & 0 & 0 & 0 & 0 & 1 & 0 & 1 & 0 & ⋯ & 1 & 0 & 0 & 0 & 0 & 1 & 0 & 0 & 0 & 1\\\\\n",
       "\t 0 & 0 & 0 & 0 & 0 & 0 & 0 & 0 & 0 & 0 & ⋯ & 0 & 0 & 0 & 0 & 0 & 0 & 0 & 0 & 0 & 0\\\\\n",
       "\t 0 & 0 & 0 & 1 & 0 & 0 & 0 & 0 & 0 & 0 & ⋯ & 0 & 0 & 0 & 0 & 0 & 0 & 0 & 0 & 0 & 0\\\\\n",
       "\t 0 & 0 & 0 & 0 & 0 & 0 & 0 & 0 & 0 & 0 & ⋯ & 0 & 0 & 0 & 0 & 0 & 0 & 0 & 0 & 0 & 0\\\\\n",
       "\t 0 & 0 & 1 & 0 & 1 & 0 & 0 & 1 & 1 & 0 & ⋯ & 1 & 0 & 0 & 0 & 1 & 0 & 0 & 0 & 1 & 0\\\\\n",
       "\t 1 & 1 & 1 & 1 & 1 & 0 & 0 & 1 & 1 & 0 & ⋯ & 1 & 1 & 0 & 1 & 0 & 1 & 1 & 1 & 0 & 0\\\\\n",
       "\t 1 & 0 & 0 & 1 & 0 & 0 & 0 & 0 & 0 & 0 & ⋯ & 0 & 0 & 0 & 0 & 0 & 1 & 0 & 0 & 0 & 1\\\\\n",
       "\t 0 & 0 & 0 & 0 & 1 & 0 & 0 & 0 & 0 & 0 & ⋯ & 0 & 0 & 0 & 0 & 0 & 0 & 0 & 0 & 0 & 0\\\\\n",
       "\t 0 & 0 & 0 & 0 & 0 & 0 & 1 & 0 & 0 & 0 & ⋯ & 0 & 0 & 0 & 1 & 0 & 0 & 0 & 0 & 0 & 0\\\\\n",
       "\t 1 & 0 & 1 & 0 & 1 & 1 & 0 & 0 & 1 & 0 & ⋯ & 0 & 0 & 1 & 0 & 0 & 0 & 0 & 1 & 0 & 0\\\\\n",
       "\t 1 & 1 & 0 & 0 & 0 & 0 & 0 & 0 & 0 & 0 & ⋯ & 0 & 0 & 0 & 0 & 0 & 0 & 0 & 0 & 0 & 0\\\\\n",
       "\t 1 & 1 & 1 & 1 & 1 & 1 & 1 & 1 & 1 & 1 & ⋯ & 1 & 0 & 1 & 1 & 1 & 0 & 0 & 1 & 1 & 1\\\\\n",
       "\t 0 & 1 & 0 & 0 & 0 & 0 & 0 & 0 & 0 & 0 & ⋯ & 0 & 0 & 0 & 0 & 0 & 0 & 0 & 0 & 0 & 0\\\\\n",
       "\t 1 & 1 & 1 & 0 & 1 & 0 & 0 & 0 & 0 & 0 & ⋯ & 1 & 0 & 1 & 1 & 0 & 0 & 0 & 0 & 1 & 0\\\\\n",
       "\t 0 & 0 & 0 & 0 & 0 & 0 & 0 & 0 & 0 & 0 & ⋯ & 0 & 0 & 0 & 0 & 0 & 0 & 1 & 0 & 0 & 0\\\\\n",
       "\t 0 & 1 & 0 & 0 & 0 & 0 & 0 & 0 & 0 & 0 & ⋯ & 1 & 0 & 0 & 0 & 0 & 1 & 1 & 0 & 0 & 0\\\\\n",
       "\\end{tabular}\n"
      ],
      "text/markdown": [
       "\n",
       "A data.frame: 21 × 21\n",
       "\n",
       "| V1 &lt;int&gt; | V2 &lt;int&gt; | V3 &lt;int&gt; | V4 &lt;int&gt; | V5 &lt;int&gt; | V6 &lt;int&gt; | V7 &lt;int&gt; | V8 &lt;int&gt; | V9 &lt;int&gt; | V10 &lt;int&gt; | ⋯ ⋯ | V12 &lt;int&gt; | V13 &lt;int&gt; | V14 &lt;int&gt; | V15 &lt;int&gt; | V16 &lt;int&gt; | V17 &lt;int&gt; | V18 &lt;int&gt; | V19 &lt;int&gt; | V20 &lt;int&gt; | V21 &lt;int&gt; |\n",
       "|---|---|---|---|---|---|---|---|---|---|---|---|---|---|---|---|---|---|---|---|---|\n",
       "| 0 | 1 | 0 | 1 | 0 | 0 | 0 | 1 | 0 | 0 | ⋯ | 1 | 0 | 0 | 0 | 1 | 0 | 0 | 0 | 0 | 0 |\n",
       "| 1 | 0 | 0 | 0 | 0 | 0 | 0 | 0 | 0 | 0 | ⋯ | 0 | 0 | 0 | 0 | 0 | 0 | 1 | 0 | 0 | 1 |\n",
       "| 0 | 0 | 0 | 0 | 0 | 0 | 0 | 0 | 0 | 0 | ⋯ | 0 | 0 | 1 | 0 | 0 | 0 | 0 | 1 | 0 | 0 |\n",
       "| 1 | 1 | 0 | 0 | 0 | 0 | 0 | 1 | 0 | 0 | ⋯ | 1 | 0 | 0 | 0 | 1 | 1 | 0 | 0 | 0 | 0 |\n",
       "| 0 | 1 | 0 | 0 | 0 | 0 | 0 | 0 | 1 | 0 | ⋯ | 0 | 0 | 1 | 0 | 0 | 1 | 0 | 1 | 0 | 1 |\n",
       "| 0 | 1 | 0 | 0 | 0 | 0 | 1 | 0 | 1 | 0 | ⋯ | 1 | 0 | 0 | 0 | 0 | 1 | 0 | 0 | 0 | 1 |\n",
       "| 0 | 0 | 0 | 0 | 0 | 0 | 0 | 0 | 0 | 0 | ⋯ | 0 | 0 | 0 | 0 | 0 | 0 | 0 | 0 | 0 | 0 |\n",
       "| 0 | 0 | 0 | 1 | 0 | 0 | 0 | 0 | 0 | 0 | ⋯ | 0 | 0 | 0 | 0 | 0 | 0 | 0 | 0 | 0 | 0 |\n",
       "| 0 | 0 | 0 | 0 | 0 | 0 | 0 | 0 | 0 | 0 | ⋯ | 0 | 0 | 0 | 0 | 0 | 0 | 0 | 0 | 0 | 0 |\n",
       "| 0 | 0 | 1 | 0 | 1 | 0 | 0 | 1 | 1 | 0 | ⋯ | 1 | 0 | 0 | 0 | 1 | 0 | 0 | 0 | 1 | 0 |\n",
       "| 1 | 1 | 1 | 1 | 1 | 0 | 0 | 1 | 1 | 0 | ⋯ | 1 | 1 | 0 | 1 | 0 | 1 | 1 | 1 | 0 | 0 |\n",
       "| 1 | 0 | 0 | 1 | 0 | 0 | 0 | 0 | 0 | 0 | ⋯ | 0 | 0 | 0 | 0 | 0 | 1 | 0 | 0 | 0 | 1 |\n",
       "| 0 | 0 | 0 | 0 | 1 | 0 | 0 | 0 | 0 | 0 | ⋯ | 0 | 0 | 0 | 0 | 0 | 0 | 0 | 0 | 0 | 0 |\n",
       "| 0 | 0 | 0 | 0 | 0 | 0 | 1 | 0 | 0 | 0 | ⋯ | 0 | 0 | 0 | 1 | 0 | 0 | 0 | 0 | 0 | 0 |\n",
       "| 1 | 0 | 1 | 0 | 1 | 1 | 0 | 0 | 1 | 0 | ⋯ | 0 | 0 | 1 | 0 | 0 | 0 | 0 | 1 | 0 | 0 |\n",
       "| 1 | 1 | 0 | 0 | 0 | 0 | 0 | 0 | 0 | 0 | ⋯ | 0 | 0 | 0 | 0 | 0 | 0 | 0 | 0 | 0 | 0 |\n",
       "| 1 | 1 | 1 | 1 | 1 | 1 | 1 | 1 | 1 | 1 | ⋯ | 1 | 0 | 1 | 1 | 1 | 0 | 0 | 1 | 1 | 1 |\n",
       "| 0 | 1 | 0 | 0 | 0 | 0 | 0 | 0 | 0 | 0 | ⋯ | 0 | 0 | 0 | 0 | 0 | 0 | 0 | 0 | 0 | 0 |\n",
       "| 1 | 1 | 1 | 0 | 1 | 0 | 0 | 0 | 0 | 0 | ⋯ | 1 | 0 | 1 | 1 | 0 | 0 | 0 | 0 | 1 | 0 |\n",
       "| 0 | 0 | 0 | 0 | 0 | 0 | 0 | 0 | 0 | 0 | ⋯ | 0 | 0 | 0 | 0 | 0 | 0 | 1 | 0 | 0 | 0 |\n",
       "| 0 | 1 | 0 | 0 | 0 | 0 | 0 | 0 | 0 | 0 | ⋯ | 1 | 0 | 0 | 0 | 0 | 1 | 1 | 0 | 0 | 0 |\n",
       "\n"
      ],
      "text/plain": [
       "   V1 V2 V3 V4 V5 V6 V7 V8 V9 V10 ⋯ V12 V13 V14 V15 V16 V17 V18 V19 V20 V21\n",
       "1  0  1  0  1  0  0  0  1  0  0   ⋯ 1   0   0   0   1   0   0   0   0   0  \n",
       "2  1  0  0  0  0  0  0  0  0  0   ⋯ 0   0   0   0   0   0   1   0   0   1  \n",
       "3  0  0  0  0  0  0  0  0  0  0   ⋯ 0   0   1   0   0   0   0   1   0   0  \n",
       "4  1  1  0  0  0  0  0  1  0  0   ⋯ 1   0   0   0   1   1   0   0   0   0  \n",
       "5  0  1  0  0  0  0  0  0  1  0   ⋯ 0   0   1   0   0   1   0   1   0   1  \n",
       "6  0  1  0  0  0  0  1  0  1  0   ⋯ 1   0   0   0   0   1   0   0   0   1  \n",
       "7  0  0  0  0  0  0  0  0  0  0   ⋯ 0   0   0   0   0   0   0   0   0   0  \n",
       "8  0  0  0  1  0  0  0  0  0  0   ⋯ 0   0   0   0   0   0   0   0   0   0  \n",
       "9  0  0  0  0  0  0  0  0  0  0   ⋯ 0   0   0   0   0   0   0   0   0   0  \n",
       "10 0  0  1  0  1  0  0  1  1  0   ⋯ 1   0   0   0   1   0   0   0   1   0  \n",
       "11 1  1  1  1  1  0  0  1  1  0   ⋯ 1   1   0   1   0   1   1   1   0   0  \n",
       "12 1  0  0  1  0  0  0  0  0  0   ⋯ 0   0   0   0   0   1   0   0   0   1  \n",
       "13 0  0  0  0  1  0  0  0  0  0   ⋯ 0   0   0   0   0   0   0   0   0   0  \n",
       "14 0  0  0  0  0  0  1  0  0  0   ⋯ 0   0   0   1   0   0   0   0   0   0  \n",
       "15 1  0  1  0  1  1  0  0  1  0   ⋯ 0   0   1   0   0   0   0   1   0   0  \n",
       "16 1  1  0  0  0  0  0  0  0  0   ⋯ 0   0   0   0   0   0   0   0   0   0  \n",
       "17 1  1  1  1  1  1  1  1  1  1   ⋯ 1   0   1   1   1   0   0   1   1   1  \n",
       "18 0  1  0  0  0  0  0  0  0  0   ⋯ 0   0   0   0   0   0   0   0   0   0  \n",
       "19 1  1  1  0  1  0  0  0  0  0   ⋯ 1   0   1   1   0   0   0   0   1   0  \n",
       "20 0  0  0  0  0  0  0  0  0  0   ⋯ 0   0   0   0   0   0   1   0   0   0  \n",
       "21 0  1  0  0  0  0  0  0  0  0   ⋯ 1   0   0   0   0   1   1   0   0   0  "
      ]
     },
     "metadata": {},
     "output_type": "display_data"
    }
   ],
   "source": [
    "table <- read.csv(\"./task1/even/krackhardt_friendship.csv\", comment.char = \"#\", header=FALSE)\n",
    "table"
   ]
  },
  {
   "cell_type": "markdown",
   "metadata": {},
   "source": [
    "### Пункт 12.2"
   ]
  },
  {
   "cell_type": "code",
   "execution_count": 23,
   "metadata": {},
   "outputs": [
    {
     "data": {
      "text/plain": [
       "IGRAPH 216ab3b DN-- 21 102 -- \n",
       "+ attr: name (v/c)\n",
       "+ edges from 216ab3b (vertex names):\n",
       " [1] V1 ->V2  V1 ->V4  V1 ->V8  V1 ->V12 V1 ->V16 V2 ->V1  V2 ->V18 V2 ->V21\n",
       " [9] V3 ->V14 V3 ->V19 V4 ->V1  V4 ->V2  V4 ->V8  V4 ->V12 V4 ->V16 V4 ->V17\n",
       "[17] V5 ->V2  V5 ->V9  V5 ->V11 V5 ->V14 V5 ->V17 V5 ->V19 V5 ->V21 V6 ->V2 \n",
       "[25] V6 ->V7  V6 ->V9  V6 ->V12 V6 ->V17 V6 ->V21 V8 ->V4  V10->V3  V10->V5 \n",
       "[33] V10->V8  V10->V9  V10->V12 V10->V16 V10->V20 V11->V1  V11->V2  V11->V3 \n",
       "[41] V11->V4  V11->V5  V11->V8  V11->V9  V11->V12 V11->V13 V11->V15 V11->V17\n",
       "[49] V11->V18 V11->V19 V12->V1  V12->V4  V12->V17 V12->V21 V13->V5  V13->V11\n",
       "[57] V14->V7  V14->V15 V15->V1  V15->V3  V15->V5  V15->V6  V15->V9  V15->V11\n",
       "+ ... omitted several edges"
      ]
     },
     "metadata": {},
     "output_type": "display_data"
    },
    {
     "data": {
      "text/html": [
       "<table class=\"dataframe\">\n",
       "<caption>A data.frame: 102 × 2</caption>\n",
       "<thead>\n",
       "\t<tr><th></th><th scope=col>from</th><th scope=col>to</th></tr>\n",
       "\t<tr><th></th><th scope=col>&lt;chr&gt;</th><th scope=col>&lt;chr&gt;</th></tr>\n",
       "</thead>\n",
       "<tbody>\n",
       "\t<tr><th scope=row>1</th><td>V1</td><td>V2 </td></tr>\n",
       "\t<tr><th scope=row>2</th><td>V1</td><td>V4 </td></tr>\n",
       "\t<tr><th scope=row>3</th><td>V1</td><td>V8 </td></tr>\n",
       "\t<tr><th scope=row>4</th><td>V1</td><td>V12</td></tr>\n",
       "\t<tr><th scope=row>5</th><td>V1</td><td>V16</td></tr>\n",
       "\t<tr><th scope=row>6</th><td>V2</td><td>V1 </td></tr>\n",
       "\t<tr><th scope=row>7</th><td>V2</td><td>V18</td></tr>\n",
       "\t<tr><th scope=row>8</th><td>V2</td><td>V21</td></tr>\n",
       "\t<tr><th scope=row>9</th><td>V3</td><td>V14</td></tr>\n",
       "\t<tr><th scope=row>10</th><td>V3</td><td>V19</td></tr>\n",
       "\t<tr><th scope=row>11</th><td>V4</td><td>V1 </td></tr>\n",
       "\t<tr><th scope=row>12</th><td>V4</td><td>V2 </td></tr>\n",
       "\t<tr><th scope=row>13</th><td>V4</td><td>V8 </td></tr>\n",
       "\t<tr><th scope=row>14</th><td>V4</td><td>V12</td></tr>\n",
       "\t<tr><th scope=row>15</th><td>V4</td><td>V16</td></tr>\n",
       "\t<tr><th scope=row>16</th><td>V4</td><td>V17</td></tr>\n",
       "\t<tr><th scope=row>17</th><td>V5</td><td>V2 </td></tr>\n",
       "\t<tr><th scope=row>18</th><td>V5</td><td>V9 </td></tr>\n",
       "\t<tr><th scope=row>19</th><td>V5</td><td>V11</td></tr>\n",
       "\t<tr><th scope=row>20</th><td>V5</td><td>V14</td></tr>\n",
       "\t<tr><th scope=row>21</th><td>V5</td><td>V17</td></tr>\n",
       "\t<tr><th scope=row>22</th><td>V5</td><td>V19</td></tr>\n",
       "\t<tr><th scope=row>23</th><td>V5</td><td>V21</td></tr>\n",
       "\t<tr><th scope=row>24</th><td>V6</td><td>V2 </td></tr>\n",
       "\t<tr><th scope=row>25</th><td>V6</td><td>V7 </td></tr>\n",
       "\t<tr><th scope=row>26</th><td>V6</td><td>V9 </td></tr>\n",
       "\t<tr><th scope=row>27</th><td>V6</td><td>V12</td></tr>\n",
       "\t<tr><th scope=row>28</th><td>V6</td><td>V17</td></tr>\n",
       "\t<tr><th scope=row>29</th><td>V6</td><td>V21</td></tr>\n",
       "\t<tr><th scope=row>30</th><td>V8</td><td>V4 </td></tr>\n",
       "\t<tr><th scope=row>⋮</th><td>⋮</td><td>⋮</td></tr>\n",
       "\t<tr><th scope=row>73</th><td>V17</td><td>V5 </td></tr>\n",
       "\t<tr><th scope=row>74</th><td>V17</td><td>V6 </td></tr>\n",
       "\t<tr><th scope=row>75</th><td>V17</td><td>V7 </td></tr>\n",
       "\t<tr><th scope=row>76</th><td>V17</td><td>V8 </td></tr>\n",
       "\t<tr><th scope=row>77</th><td>V17</td><td>V9 </td></tr>\n",
       "\t<tr><th scope=row>78</th><td>V17</td><td>V10</td></tr>\n",
       "\t<tr><th scope=row>79</th><td>V17</td><td>V11</td></tr>\n",
       "\t<tr><th scope=row>80</th><td>V17</td><td>V12</td></tr>\n",
       "\t<tr><th scope=row>81</th><td>V17</td><td>V14</td></tr>\n",
       "\t<tr><th scope=row>82</th><td>V17</td><td>V15</td></tr>\n",
       "\t<tr><th scope=row>83</th><td>V17</td><td>V16</td></tr>\n",
       "\t<tr><th scope=row>84</th><td>V17</td><td>V19</td></tr>\n",
       "\t<tr><th scope=row>85</th><td>V17</td><td>V20</td></tr>\n",
       "\t<tr><th scope=row>86</th><td>V17</td><td>V21</td></tr>\n",
       "\t<tr><th scope=row>87</th><td>V18</td><td>V2 </td></tr>\n",
       "\t<tr><th scope=row>88</th><td>V19</td><td>V1 </td></tr>\n",
       "\t<tr><th scope=row>89</th><td>V19</td><td>V2 </td></tr>\n",
       "\t<tr><th scope=row>90</th><td>V19</td><td>V3 </td></tr>\n",
       "\t<tr><th scope=row>91</th><td>V19</td><td>V5 </td></tr>\n",
       "\t<tr><th scope=row>92</th><td>V19</td><td>V11</td></tr>\n",
       "\t<tr><th scope=row>93</th><td>V19</td><td>V12</td></tr>\n",
       "\t<tr><th scope=row>94</th><td>V19</td><td>V14</td></tr>\n",
       "\t<tr><th scope=row>95</th><td>V19</td><td>V15</td></tr>\n",
       "\t<tr><th scope=row>96</th><td>V19</td><td>V20</td></tr>\n",
       "\t<tr><th scope=row>97</th><td>V20</td><td>V11</td></tr>\n",
       "\t<tr><th scope=row>98</th><td>V20</td><td>V18</td></tr>\n",
       "\t<tr><th scope=row>99</th><td>V21</td><td>V2 </td></tr>\n",
       "\t<tr><th scope=row>100</th><td>V21</td><td>V12</td></tr>\n",
       "\t<tr><th scope=row>101</th><td>V21</td><td>V17</td></tr>\n",
       "\t<tr><th scope=row>102</th><td>V21</td><td>V18</td></tr>\n",
       "</tbody>\n",
       "</table>\n"
      ],
      "text/latex": [
       "A data.frame: 102 × 2\n",
       "\\begin{tabular}{r|ll}\n",
       "  & from & to\\\\\n",
       "  & <chr> & <chr>\\\\\n",
       "\\hline\n",
       "\t1 & V1 & V2 \\\\\n",
       "\t2 & V1 & V4 \\\\\n",
       "\t3 & V1 & V8 \\\\\n",
       "\t4 & V1 & V12\\\\\n",
       "\t5 & V1 & V16\\\\\n",
       "\t6 & V2 & V1 \\\\\n",
       "\t7 & V2 & V18\\\\\n",
       "\t8 & V2 & V21\\\\\n",
       "\t9 & V3 & V14\\\\\n",
       "\t10 & V3 & V19\\\\\n",
       "\t11 & V4 & V1 \\\\\n",
       "\t12 & V4 & V2 \\\\\n",
       "\t13 & V4 & V8 \\\\\n",
       "\t14 & V4 & V12\\\\\n",
       "\t15 & V4 & V16\\\\\n",
       "\t16 & V4 & V17\\\\\n",
       "\t17 & V5 & V2 \\\\\n",
       "\t18 & V5 & V9 \\\\\n",
       "\t19 & V5 & V11\\\\\n",
       "\t20 & V5 & V14\\\\\n",
       "\t21 & V5 & V17\\\\\n",
       "\t22 & V5 & V19\\\\\n",
       "\t23 & V5 & V21\\\\\n",
       "\t24 & V6 & V2 \\\\\n",
       "\t25 & V6 & V7 \\\\\n",
       "\t26 & V6 & V9 \\\\\n",
       "\t27 & V6 & V12\\\\\n",
       "\t28 & V6 & V17\\\\\n",
       "\t29 & V6 & V21\\\\\n",
       "\t30 & V8 & V4 \\\\\n",
       "\t⋮ & ⋮ & ⋮\\\\\n",
       "\t73 & V17 & V5 \\\\\n",
       "\t74 & V17 & V6 \\\\\n",
       "\t75 & V17 & V7 \\\\\n",
       "\t76 & V17 & V8 \\\\\n",
       "\t77 & V17 & V9 \\\\\n",
       "\t78 & V17 & V10\\\\\n",
       "\t79 & V17 & V11\\\\\n",
       "\t80 & V17 & V12\\\\\n",
       "\t81 & V17 & V14\\\\\n",
       "\t82 & V17 & V15\\\\\n",
       "\t83 & V17 & V16\\\\\n",
       "\t84 & V17 & V19\\\\\n",
       "\t85 & V17 & V20\\\\\n",
       "\t86 & V17 & V21\\\\\n",
       "\t87 & V18 & V2 \\\\\n",
       "\t88 & V19 & V1 \\\\\n",
       "\t89 & V19 & V2 \\\\\n",
       "\t90 & V19 & V3 \\\\\n",
       "\t91 & V19 & V5 \\\\\n",
       "\t92 & V19 & V11\\\\\n",
       "\t93 & V19 & V12\\\\\n",
       "\t94 & V19 & V14\\\\\n",
       "\t95 & V19 & V15\\\\\n",
       "\t96 & V19 & V20\\\\\n",
       "\t97 & V20 & V11\\\\\n",
       "\t98 & V20 & V18\\\\\n",
       "\t99 & V21 & V2 \\\\\n",
       "\t100 & V21 & V12\\\\\n",
       "\t101 & V21 & V17\\\\\n",
       "\t102 & V21 & V18\\\\\n",
       "\\end{tabular}\n"
      ],
      "text/markdown": [
       "\n",
       "A data.frame: 102 × 2\n",
       "\n",
       "| <!--/--> | from &lt;chr&gt; | to &lt;chr&gt; |\n",
       "|---|---|---|\n",
       "| 1 | V1 | V2  |\n",
       "| 2 | V1 | V4  |\n",
       "| 3 | V1 | V8  |\n",
       "| 4 | V1 | V12 |\n",
       "| 5 | V1 | V16 |\n",
       "| 6 | V2 | V1  |\n",
       "| 7 | V2 | V18 |\n",
       "| 8 | V2 | V21 |\n",
       "| 9 | V3 | V14 |\n",
       "| 10 | V3 | V19 |\n",
       "| 11 | V4 | V1  |\n",
       "| 12 | V4 | V2  |\n",
       "| 13 | V4 | V8  |\n",
       "| 14 | V4 | V12 |\n",
       "| 15 | V4 | V16 |\n",
       "| 16 | V4 | V17 |\n",
       "| 17 | V5 | V2  |\n",
       "| 18 | V5 | V9  |\n",
       "| 19 | V5 | V11 |\n",
       "| 20 | V5 | V14 |\n",
       "| 21 | V5 | V17 |\n",
       "| 22 | V5 | V19 |\n",
       "| 23 | V5 | V21 |\n",
       "| 24 | V6 | V2  |\n",
       "| 25 | V6 | V7  |\n",
       "| 26 | V6 | V9  |\n",
       "| 27 | V6 | V12 |\n",
       "| 28 | V6 | V17 |\n",
       "| 29 | V6 | V21 |\n",
       "| 30 | V8 | V4  |\n",
       "| ⋮ | ⋮ | ⋮ |\n",
       "| 73 | V17 | V5  |\n",
       "| 74 | V17 | V6  |\n",
       "| 75 | V17 | V7  |\n",
       "| 76 | V17 | V8  |\n",
       "| 77 | V17 | V9  |\n",
       "| 78 | V17 | V10 |\n",
       "| 79 | V17 | V11 |\n",
       "| 80 | V17 | V12 |\n",
       "| 81 | V17 | V14 |\n",
       "| 82 | V17 | V15 |\n",
       "| 83 | V17 | V16 |\n",
       "| 84 | V17 | V19 |\n",
       "| 85 | V17 | V20 |\n",
       "| 86 | V17 | V21 |\n",
       "| 87 | V18 | V2  |\n",
       "| 88 | V19 | V1  |\n",
       "| 89 | V19 | V2  |\n",
       "| 90 | V19 | V3  |\n",
       "| 91 | V19 | V5  |\n",
       "| 92 | V19 | V11 |\n",
       "| 93 | V19 | V12 |\n",
       "| 94 | V19 | V14 |\n",
       "| 95 | V19 | V15 |\n",
       "| 96 | V19 | V20 |\n",
       "| 97 | V20 | V11 |\n",
       "| 98 | V20 | V18 |\n",
       "| 99 | V21 | V2  |\n",
       "| 100 | V21 | V12 |\n",
       "| 101 | V21 | V17 |\n",
       "| 102 | V21 | V18 |\n",
       "\n"
      ],
      "text/plain": [
       "    from to \n",
       "1   V1   V2 \n",
       "2   V1   V4 \n",
       "3   V1   V8 \n",
       "4   V1   V12\n",
       "5   V1   V16\n",
       "6   V2   V1 \n",
       "7   V2   V18\n",
       "8   V2   V21\n",
       "9   V3   V14\n",
       "10  V3   V19\n",
       "11  V4   V1 \n",
       "12  V4   V2 \n",
       "13  V4   V8 \n",
       "14  V4   V12\n",
       "15  V4   V16\n",
       "16  V4   V17\n",
       "17  V5   V2 \n",
       "18  V5   V9 \n",
       "19  V5   V11\n",
       "20  V5   V14\n",
       "21  V5   V17\n",
       "22  V5   V19\n",
       "23  V5   V21\n",
       "24  V6   V2 \n",
       "25  V6   V7 \n",
       "26  V6   V9 \n",
       "27  V6   V12\n",
       "28  V6   V17\n",
       "29  V6   V21\n",
       "30  V8   V4 \n",
       "⋮   ⋮    ⋮  \n",
       "73  V17  V5 \n",
       "74  V17  V6 \n",
       "75  V17  V7 \n",
       "76  V17  V8 \n",
       "77  V17  V9 \n",
       "78  V17  V10\n",
       "79  V17  V11\n",
       "80  V17  V12\n",
       "81  V17  V14\n",
       "82  V17  V15\n",
       "83  V17  V16\n",
       "84  V17  V19\n",
       "85  V17  V20\n",
       "86  V17  V21\n",
       "87  V18  V2 \n",
       "88  V19  V1 \n",
       "89  V19  V2 \n",
       "90  V19  V3 \n",
       "91  V19  V5 \n",
       "92  V19  V11\n",
       "93  V19  V12\n",
       "94  V19  V14\n",
       "95  V19  V15\n",
       "96  V19  V20\n",
       "97  V20  V11\n",
       "98  V20  V18\n",
       "99  V21  V2 \n",
       "100 V21  V12\n",
       "101 V21  V17\n",
       "102 V21  V18"
      ]
     },
     "metadata": {},
     "output_type": "display_data"
    },
    {
     "data": {
      "text/html": [
       "<table class=\"dataframe\">\n",
       "<caption>A data.frame: 6 × 2</caption>\n",
       "<thead>\n",
       "\t<tr><th></th><th scope=col>from</th><th scope=col>to</th></tr>\n",
       "\t<tr><th></th><th scope=col>&lt;chr&gt;</th><th scope=col>&lt;chr&gt;</th></tr>\n",
       "</thead>\n",
       "<tbody>\n",
       "\t<tr><th scope=row>1</th><td>V1</td><td>V2 </td></tr>\n",
       "\t<tr><th scope=row>2</th><td>V1</td><td>V4 </td></tr>\n",
       "\t<tr><th scope=row>3</th><td>V1</td><td>V8 </td></tr>\n",
       "\t<tr><th scope=row>4</th><td>V1</td><td>V12</td></tr>\n",
       "\t<tr><th scope=row>5</th><td>V1</td><td>V16</td></tr>\n",
       "\t<tr><th scope=row>6</th><td>V2</td><td>V1 </td></tr>\n",
       "</tbody>\n",
       "</table>\n"
      ],
      "text/latex": [
       "A data.frame: 6 × 2\n",
       "\\begin{tabular}{r|ll}\n",
       "  & from & to\\\\\n",
       "  & <chr> & <chr>\\\\\n",
       "\\hline\n",
       "\t1 & V1 & V2 \\\\\n",
       "\t2 & V1 & V4 \\\\\n",
       "\t3 & V1 & V8 \\\\\n",
       "\t4 & V1 & V12\\\\\n",
       "\t5 & V1 & V16\\\\\n",
       "\t6 & V2 & V1 \\\\\n",
       "\\end{tabular}\n"
      ],
      "text/markdown": [
       "\n",
       "A data.frame: 6 × 2\n",
       "\n",
       "| <!--/--> | from &lt;chr&gt; | to &lt;chr&gt; |\n",
       "|---|---|---|\n",
       "| 1 | V1 | V2  |\n",
       "| 2 | V1 | V4  |\n",
       "| 3 | V1 | V8  |\n",
       "| 4 | V1 | V12 |\n",
       "| 5 | V1 | V16 |\n",
       "| 6 | V2 | V1  |\n",
       "\n"
      ],
      "text/plain": [
       "  from to \n",
       "1 V1   V2 \n",
       "2 V1   V4 \n",
       "3 V1   V8 \n",
       "4 V1   V12\n",
       "5 V1   V16\n",
       "6 V2   V1 "
      ]
     },
     "metadata": {},
     "output_type": "display_data"
    }
   ],
   "source": [
    "matrix_table <- data.matrix(table)\n",
    "graph_info <- graph_from_adjacency_matrix(matrix_table, mode=\"directed\")\n",
    "graph_info\n",
    "df_graph_info <- get.data.frame(graph_info)\n",
    "df_graph_info\n",
    "head(df_graph_info)"
   ]
  },
  {
   "cell_type": "markdown",
   "metadata": {},
   "source": [
    "### Пункт 12.3"
   ]
  },
  {
   "cell_type": "code",
   "execution_count": 24,
   "metadata": {},
   "outputs": [
    {
     "data": {
      "text/html": [
       "<table class=\"dataframe\">\n",
       "<caption>A data.frame: 21 × 21</caption>\n",
       "<thead>\n",
       "\t<tr><th></th><th scope=col>V1</th><th scope=col>V2</th><th scope=col>V3</th><th scope=col>V4</th><th scope=col>V5</th><th scope=col>V6</th><th scope=col>V7</th><th scope=col>V8</th><th scope=col>V9</th><th scope=col>V10</th><th scope=col>⋯</th><th scope=col>V12</th><th scope=col>V13</th><th scope=col>V14</th><th scope=col>V15</th><th scope=col>V16</th><th scope=col>V17</th><th scope=col>V18</th><th scope=col>V19</th><th scope=col>V20</th><th scope=col>V21</th></tr>\n",
       "\t<tr><th></th><th scope=col>&lt;int&gt;</th><th scope=col>&lt;int&gt;</th><th scope=col>&lt;int&gt;</th><th scope=col>&lt;int&gt;</th><th scope=col>&lt;int&gt;</th><th scope=col>&lt;int&gt;</th><th scope=col>&lt;int&gt;</th><th scope=col>&lt;int&gt;</th><th scope=col>&lt;int&gt;</th><th scope=col>&lt;int&gt;</th><th scope=col>⋯</th><th scope=col>&lt;int&gt;</th><th scope=col>&lt;int&gt;</th><th scope=col>&lt;int&gt;</th><th scope=col>&lt;int&gt;</th><th scope=col>&lt;int&gt;</th><th scope=col>&lt;int&gt;</th><th scope=col>&lt;int&gt;</th><th scope=col>&lt;int&gt;</th><th scope=col>&lt;int&gt;</th><th scope=col>&lt;int&gt;</th></tr>\n",
       "</thead>\n",
       "<tbody>\n",
       "\t<tr><th scope=row>V1</th><td>0</td><td>1</td><td>0</td><td>1</td><td>0</td><td>0</td><td>0</td><td>1</td><td>0</td><td>0</td><td>⋯</td><td>1</td><td>0</td><td>0</td><td>0</td><td>1</td><td>0</td><td>0</td><td>0</td><td>0</td><td>0</td></tr>\n",
       "\t<tr><th scope=row>V2</th><td>1</td><td>0</td><td>0</td><td>0</td><td>0</td><td>0</td><td>0</td><td>0</td><td>0</td><td>0</td><td>⋯</td><td>0</td><td>0</td><td>0</td><td>0</td><td>0</td><td>0</td><td>1</td><td>0</td><td>0</td><td>1</td></tr>\n",
       "\t<tr><th scope=row>V3</th><td>0</td><td>0</td><td>0</td><td>0</td><td>0</td><td>0</td><td>0</td><td>0</td><td>0</td><td>0</td><td>⋯</td><td>0</td><td>0</td><td>1</td><td>0</td><td>0</td><td>0</td><td>0</td><td>1</td><td>0</td><td>0</td></tr>\n",
       "\t<tr><th scope=row>V4</th><td>1</td><td>1</td><td>0</td><td>0</td><td>0</td><td>0</td><td>0</td><td>1</td><td>0</td><td>0</td><td>⋯</td><td>1</td><td>0</td><td>0</td><td>0</td><td>1</td><td>1</td><td>0</td><td>0</td><td>0</td><td>0</td></tr>\n",
       "\t<tr><th scope=row>V5</th><td>0</td><td>1</td><td>0</td><td>0</td><td>0</td><td>0</td><td>0</td><td>0</td><td>1</td><td>0</td><td>⋯</td><td>0</td><td>0</td><td>1</td><td>0</td><td>0</td><td>1</td><td>0</td><td>1</td><td>0</td><td>1</td></tr>\n",
       "\t<tr><th scope=row>V6</th><td>0</td><td>1</td><td>0</td><td>0</td><td>0</td><td>0</td><td>1</td><td>0</td><td>1</td><td>0</td><td>⋯</td><td>1</td><td>0</td><td>0</td><td>0</td><td>0</td><td>1</td><td>0</td><td>0</td><td>0</td><td>1</td></tr>\n",
       "\t<tr><th scope=row>V7</th><td>0</td><td>0</td><td>0</td><td>0</td><td>0</td><td>0</td><td>0</td><td>0</td><td>0</td><td>0</td><td>⋯</td><td>0</td><td>0</td><td>0</td><td>0</td><td>0</td><td>0</td><td>0</td><td>0</td><td>0</td><td>0</td></tr>\n",
       "\t<tr><th scope=row>V8</th><td>0</td><td>0</td><td>0</td><td>1</td><td>0</td><td>0</td><td>0</td><td>0</td><td>0</td><td>0</td><td>⋯</td><td>0</td><td>0</td><td>0</td><td>0</td><td>0</td><td>0</td><td>0</td><td>0</td><td>0</td><td>0</td></tr>\n",
       "\t<tr><th scope=row>V9</th><td>0</td><td>0</td><td>0</td><td>0</td><td>0</td><td>0</td><td>0</td><td>0</td><td>0</td><td>0</td><td>⋯</td><td>0</td><td>0</td><td>0</td><td>0</td><td>0</td><td>0</td><td>0</td><td>0</td><td>0</td><td>0</td></tr>\n",
       "\t<tr><th scope=row>V10</th><td>0</td><td>0</td><td>1</td><td>0</td><td>1</td><td>0</td><td>0</td><td>1</td><td>1</td><td>0</td><td>⋯</td><td>1</td><td>0</td><td>0</td><td>0</td><td>1</td><td>0</td><td>0</td><td>0</td><td>1</td><td>0</td></tr>\n",
       "\t<tr><th scope=row>V11</th><td>1</td><td>1</td><td>1</td><td>1</td><td>1</td><td>0</td><td>0</td><td>1</td><td>1</td><td>0</td><td>⋯</td><td>1</td><td>1</td><td>0</td><td>1</td><td>0</td><td>1</td><td>1</td><td>1</td><td>0</td><td>0</td></tr>\n",
       "\t<tr><th scope=row>V12</th><td>1</td><td>0</td><td>0</td><td>1</td><td>0</td><td>0</td><td>0</td><td>0</td><td>0</td><td>0</td><td>⋯</td><td>0</td><td>0</td><td>0</td><td>0</td><td>0</td><td>1</td><td>0</td><td>0</td><td>0</td><td>1</td></tr>\n",
       "\t<tr><th scope=row>V13</th><td>0</td><td>0</td><td>0</td><td>0</td><td>1</td><td>0</td><td>0</td><td>0</td><td>0</td><td>0</td><td>⋯</td><td>0</td><td>0</td><td>0</td><td>0</td><td>0</td><td>0</td><td>0</td><td>0</td><td>0</td><td>0</td></tr>\n",
       "\t<tr><th scope=row>V14</th><td>0</td><td>0</td><td>0</td><td>0</td><td>0</td><td>0</td><td>1</td><td>0</td><td>0</td><td>0</td><td>⋯</td><td>0</td><td>0</td><td>0</td><td>1</td><td>0</td><td>0</td><td>0</td><td>0</td><td>0</td><td>0</td></tr>\n",
       "\t<tr><th scope=row>V15</th><td>1</td><td>0</td><td>1</td><td>0</td><td>1</td><td>1</td><td>0</td><td>0</td><td>1</td><td>0</td><td>⋯</td><td>0</td><td>0</td><td>1</td><td>0</td><td>0</td><td>0</td><td>0</td><td>1</td><td>0</td><td>0</td></tr>\n",
       "\t<tr><th scope=row>V16</th><td>1</td><td>1</td><td>0</td><td>0</td><td>0</td><td>0</td><td>0</td><td>0</td><td>0</td><td>0</td><td>⋯</td><td>0</td><td>0</td><td>0</td><td>0</td><td>0</td><td>0</td><td>0</td><td>0</td><td>0</td><td>0</td></tr>\n",
       "\t<tr><th scope=row>V17</th><td>1</td><td>1</td><td>1</td><td>1</td><td>1</td><td>1</td><td>1</td><td>1</td><td>1</td><td>1</td><td>⋯</td><td>1</td><td>0</td><td>1</td><td>1</td><td>1</td><td>0</td><td>0</td><td>1</td><td>1</td><td>1</td></tr>\n",
       "\t<tr><th scope=row>V18</th><td>0</td><td>1</td><td>0</td><td>0</td><td>0</td><td>0</td><td>0</td><td>0</td><td>0</td><td>0</td><td>⋯</td><td>0</td><td>0</td><td>0</td><td>0</td><td>0</td><td>0</td><td>0</td><td>0</td><td>0</td><td>0</td></tr>\n",
       "\t<tr><th scope=row>V19</th><td>1</td><td>1</td><td>1</td><td>0</td><td>1</td><td>0</td><td>0</td><td>0</td><td>0</td><td>0</td><td>⋯</td><td>1</td><td>0</td><td>1</td><td>1</td><td>0</td><td>0</td><td>0</td><td>0</td><td>1</td><td>0</td></tr>\n",
       "\t<tr><th scope=row>V20</th><td>0</td><td>0</td><td>0</td><td>0</td><td>0</td><td>0</td><td>0</td><td>0</td><td>0</td><td>0</td><td>⋯</td><td>0</td><td>0</td><td>0</td><td>0</td><td>0</td><td>0</td><td>1</td><td>0</td><td>0</td><td>0</td></tr>\n",
       "\t<tr><th scope=row>V21</th><td>0</td><td>1</td><td>0</td><td>0</td><td>0</td><td>0</td><td>0</td><td>0</td><td>0</td><td>0</td><td>⋯</td><td>1</td><td>0</td><td>0</td><td>0</td><td>0</td><td>1</td><td>1</td><td>0</td><td>0</td><td>0</td></tr>\n",
       "</tbody>\n",
       "</table>\n"
      ],
      "text/latex": [
       "A data.frame: 21 × 21\n",
       "\\begin{tabular}{r|lllllllllllllllllllll}\n",
       "  & V1 & V2 & V3 & V4 & V5 & V6 & V7 & V8 & V9 & V10 & ⋯ & V12 & V13 & V14 & V15 & V16 & V17 & V18 & V19 & V20 & V21\\\\\n",
       "  & <int> & <int> & <int> & <int> & <int> & <int> & <int> & <int> & <int> & <int> & ⋯ & <int> & <int> & <int> & <int> & <int> & <int> & <int> & <int> & <int> & <int>\\\\\n",
       "\\hline\n",
       "\tV1 & 0 & 1 & 0 & 1 & 0 & 0 & 0 & 1 & 0 & 0 & ⋯ & 1 & 0 & 0 & 0 & 1 & 0 & 0 & 0 & 0 & 0\\\\\n",
       "\tV2 & 1 & 0 & 0 & 0 & 0 & 0 & 0 & 0 & 0 & 0 & ⋯ & 0 & 0 & 0 & 0 & 0 & 0 & 1 & 0 & 0 & 1\\\\\n",
       "\tV3 & 0 & 0 & 0 & 0 & 0 & 0 & 0 & 0 & 0 & 0 & ⋯ & 0 & 0 & 1 & 0 & 0 & 0 & 0 & 1 & 0 & 0\\\\\n",
       "\tV4 & 1 & 1 & 0 & 0 & 0 & 0 & 0 & 1 & 0 & 0 & ⋯ & 1 & 0 & 0 & 0 & 1 & 1 & 0 & 0 & 0 & 0\\\\\n",
       "\tV5 & 0 & 1 & 0 & 0 & 0 & 0 & 0 & 0 & 1 & 0 & ⋯ & 0 & 0 & 1 & 0 & 0 & 1 & 0 & 1 & 0 & 1\\\\\n",
       "\tV6 & 0 & 1 & 0 & 0 & 0 & 0 & 1 & 0 & 1 & 0 & ⋯ & 1 & 0 & 0 & 0 & 0 & 1 & 0 & 0 & 0 & 1\\\\\n",
       "\tV7 & 0 & 0 & 0 & 0 & 0 & 0 & 0 & 0 & 0 & 0 & ⋯ & 0 & 0 & 0 & 0 & 0 & 0 & 0 & 0 & 0 & 0\\\\\n",
       "\tV8 & 0 & 0 & 0 & 1 & 0 & 0 & 0 & 0 & 0 & 0 & ⋯ & 0 & 0 & 0 & 0 & 0 & 0 & 0 & 0 & 0 & 0\\\\\n",
       "\tV9 & 0 & 0 & 0 & 0 & 0 & 0 & 0 & 0 & 0 & 0 & ⋯ & 0 & 0 & 0 & 0 & 0 & 0 & 0 & 0 & 0 & 0\\\\\n",
       "\tV10 & 0 & 0 & 1 & 0 & 1 & 0 & 0 & 1 & 1 & 0 & ⋯ & 1 & 0 & 0 & 0 & 1 & 0 & 0 & 0 & 1 & 0\\\\\n",
       "\tV11 & 1 & 1 & 1 & 1 & 1 & 0 & 0 & 1 & 1 & 0 & ⋯ & 1 & 1 & 0 & 1 & 0 & 1 & 1 & 1 & 0 & 0\\\\\n",
       "\tV12 & 1 & 0 & 0 & 1 & 0 & 0 & 0 & 0 & 0 & 0 & ⋯ & 0 & 0 & 0 & 0 & 0 & 1 & 0 & 0 & 0 & 1\\\\\n",
       "\tV13 & 0 & 0 & 0 & 0 & 1 & 0 & 0 & 0 & 0 & 0 & ⋯ & 0 & 0 & 0 & 0 & 0 & 0 & 0 & 0 & 0 & 0\\\\\n",
       "\tV14 & 0 & 0 & 0 & 0 & 0 & 0 & 1 & 0 & 0 & 0 & ⋯ & 0 & 0 & 0 & 1 & 0 & 0 & 0 & 0 & 0 & 0\\\\\n",
       "\tV15 & 1 & 0 & 1 & 0 & 1 & 1 & 0 & 0 & 1 & 0 & ⋯ & 0 & 0 & 1 & 0 & 0 & 0 & 0 & 1 & 0 & 0\\\\\n",
       "\tV16 & 1 & 1 & 0 & 0 & 0 & 0 & 0 & 0 & 0 & 0 & ⋯ & 0 & 0 & 0 & 0 & 0 & 0 & 0 & 0 & 0 & 0\\\\\n",
       "\tV17 & 1 & 1 & 1 & 1 & 1 & 1 & 1 & 1 & 1 & 1 & ⋯ & 1 & 0 & 1 & 1 & 1 & 0 & 0 & 1 & 1 & 1\\\\\n",
       "\tV18 & 0 & 1 & 0 & 0 & 0 & 0 & 0 & 0 & 0 & 0 & ⋯ & 0 & 0 & 0 & 0 & 0 & 0 & 0 & 0 & 0 & 0\\\\\n",
       "\tV19 & 1 & 1 & 1 & 0 & 1 & 0 & 0 & 0 & 0 & 0 & ⋯ & 1 & 0 & 1 & 1 & 0 & 0 & 0 & 0 & 1 & 0\\\\\n",
       "\tV20 & 0 & 0 & 0 & 0 & 0 & 0 & 0 & 0 & 0 & 0 & ⋯ & 0 & 0 & 0 & 0 & 0 & 0 & 1 & 0 & 0 & 0\\\\\n",
       "\tV21 & 0 & 1 & 0 & 0 & 0 & 0 & 0 & 0 & 0 & 0 & ⋯ & 1 & 0 & 0 & 0 & 0 & 1 & 1 & 0 & 0 & 0\\\\\n",
       "\\end{tabular}\n"
      ],
      "text/markdown": [
       "\n",
       "A data.frame: 21 × 21\n",
       "\n",
       "| <!--/--> | V1 &lt;int&gt; | V2 &lt;int&gt; | V3 &lt;int&gt; | V4 &lt;int&gt; | V5 &lt;int&gt; | V6 &lt;int&gt; | V7 &lt;int&gt; | V8 &lt;int&gt; | V9 &lt;int&gt; | V10 &lt;int&gt; | ⋯ ⋯ | V12 &lt;int&gt; | V13 &lt;int&gt; | V14 &lt;int&gt; | V15 &lt;int&gt; | V16 &lt;int&gt; | V17 &lt;int&gt; | V18 &lt;int&gt; | V19 &lt;int&gt; | V20 &lt;int&gt; | V21 &lt;int&gt; |\n",
       "|---|---|---|---|---|---|---|---|---|---|---|---|---|---|---|---|---|---|---|---|---|---|\n",
       "| V1 | 0 | 1 | 0 | 1 | 0 | 0 | 0 | 1 | 0 | 0 | ⋯ | 1 | 0 | 0 | 0 | 1 | 0 | 0 | 0 | 0 | 0 |\n",
       "| V2 | 1 | 0 | 0 | 0 | 0 | 0 | 0 | 0 | 0 | 0 | ⋯ | 0 | 0 | 0 | 0 | 0 | 0 | 1 | 0 | 0 | 1 |\n",
       "| V3 | 0 | 0 | 0 | 0 | 0 | 0 | 0 | 0 | 0 | 0 | ⋯ | 0 | 0 | 1 | 0 | 0 | 0 | 0 | 1 | 0 | 0 |\n",
       "| V4 | 1 | 1 | 0 | 0 | 0 | 0 | 0 | 1 | 0 | 0 | ⋯ | 1 | 0 | 0 | 0 | 1 | 1 | 0 | 0 | 0 | 0 |\n",
       "| V5 | 0 | 1 | 0 | 0 | 0 | 0 | 0 | 0 | 1 | 0 | ⋯ | 0 | 0 | 1 | 0 | 0 | 1 | 0 | 1 | 0 | 1 |\n",
       "| V6 | 0 | 1 | 0 | 0 | 0 | 0 | 1 | 0 | 1 | 0 | ⋯ | 1 | 0 | 0 | 0 | 0 | 1 | 0 | 0 | 0 | 1 |\n",
       "| V7 | 0 | 0 | 0 | 0 | 0 | 0 | 0 | 0 | 0 | 0 | ⋯ | 0 | 0 | 0 | 0 | 0 | 0 | 0 | 0 | 0 | 0 |\n",
       "| V8 | 0 | 0 | 0 | 1 | 0 | 0 | 0 | 0 | 0 | 0 | ⋯ | 0 | 0 | 0 | 0 | 0 | 0 | 0 | 0 | 0 | 0 |\n",
       "| V9 | 0 | 0 | 0 | 0 | 0 | 0 | 0 | 0 | 0 | 0 | ⋯ | 0 | 0 | 0 | 0 | 0 | 0 | 0 | 0 | 0 | 0 |\n",
       "| V10 | 0 | 0 | 1 | 0 | 1 | 0 | 0 | 1 | 1 | 0 | ⋯ | 1 | 0 | 0 | 0 | 1 | 0 | 0 | 0 | 1 | 0 |\n",
       "| V11 | 1 | 1 | 1 | 1 | 1 | 0 | 0 | 1 | 1 | 0 | ⋯ | 1 | 1 | 0 | 1 | 0 | 1 | 1 | 1 | 0 | 0 |\n",
       "| V12 | 1 | 0 | 0 | 1 | 0 | 0 | 0 | 0 | 0 | 0 | ⋯ | 0 | 0 | 0 | 0 | 0 | 1 | 0 | 0 | 0 | 1 |\n",
       "| V13 | 0 | 0 | 0 | 0 | 1 | 0 | 0 | 0 | 0 | 0 | ⋯ | 0 | 0 | 0 | 0 | 0 | 0 | 0 | 0 | 0 | 0 |\n",
       "| V14 | 0 | 0 | 0 | 0 | 0 | 0 | 1 | 0 | 0 | 0 | ⋯ | 0 | 0 | 0 | 1 | 0 | 0 | 0 | 0 | 0 | 0 |\n",
       "| V15 | 1 | 0 | 1 | 0 | 1 | 1 | 0 | 0 | 1 | 0 | ⋯ | 0 | 0 | 1 | 0 | 0 | 0 | 0 | 1 | 0 | 0 |\n",
       "| V16 | 1 | 1 | 0 | 0 | 0 | 0 | 0 | 0 | 0 | 0 | ⋯ | 0 | 0 | 0 | 0 | 0 | 0 | 0 | 0 | 0 | 0 |\n",
       "| V17 | 1 | 1 | 1 | 1 | 1 | 1 | 1 | 1 | 1 | 1 | ⋯ | 1 | 0 | 1 | 1 | 1 | 0 | 0 | 1 | 1 | 1 |\n",
       "| V18 | 0 | 1 | 0 | 0 | 0 | 0 | 0 | 0 | 0 | 0 | ⋯ | 0 | 0 | 0 | 0 | 0 | 0 | 0 | 0 | 0 | 0 |\n",
       "| V19 | 1 | 1 | 1 | 0 | 1 | 0 | 0 | 0 | 0 | 0 | ⋯ | 1 | 0 | 1 | 1 | 0 | 0 | 0 | 0 | 1 | 0 |\n",
       "| V20 | 0 | 0 | 0 | 0 | 0 | 0 | 0 | 0 | 0 | 0 | ⋯ | 0 | 0 | 0 | 0 | 0 | 0 | 1 | 0 | 0 | 0 |\n",
       "| V21 | 0 | 1 | 0 | 0 | 0 | 0 | 0 | 0 | 0 | 0 | ⋯ | 1 | 0 | 0 | 0 | 0 | 1 | 1 | 0 | 0 | 0 |\n",
       "\n"
      ],
      "text/plain": [
       "    V1 V2 V3 V4 V5 V6 V7 V8 V9 V10 ⋯ V12 V13 V14 V15 V16 V17 V18 V19 V20 V21\n",
       "V1  0  1  0  1  0  0  0  1  0  0   ⋯ 1   0   0   0   1   0   0   0   0   0  \n",
       "V2  1  0  0  0  0  0  0  0  0  0   ⋯ 0   0   0   0   0   0   1   0   0   1  \n",
       "V3  0  0  0  0  0  0  0  0  0  0   ⋯ 0   0   1   0   0   0   0   1   0   0  \n",
       "V4  1  1  0  0  0  0  0  1  0  0   ⋯ 1   0   0   0   1   1   0   0   0   0  \n",
       "V5  0  1  0  0  0  0  0  0  1  0   ⋯ 0   0   1   0   0   1   0   1   0   1  \n",
       "V6  0  1  0  0  0  0  1  0  1  0   ⋯ 1   0   0   0   0   1   0   0   0   1  \n",
       "V7  0  0  0  0  0  0  0  0  0  0   ⋯ 0   0   0   0   0   0   0   0   0   0  \n",
       "V8  0  0  0  1  0  0  0  0  0  0   ⋯ 0   0   0   0   0   0   0   0   0   0  \n",
       "V9  0  0  0  0  0  0  0  0  0  0   ⋯ 0   0   0   0   0   0   0   0   0   0  \n",
       "V10 0  0  1  0  1  0  0  1  1  0   ⋯ 1   0   0   0   1   0   0   0   1   0  \n",
       "V11 1  1  1  1  1  0  0  1  1  0   ⋯ 1   1   0   1   0   1   1   1   0   0  \n",
       "V12 1  0  0  1  0  0  0  0  0  0   ⋯ 0   0   0   0   0   1   0   0   0   1  \n",
       "V13 0  0  0  0  1  0  0  0  0  0   ⋯ 0   0   0   0   0   0   0   0   0   0  \n",
       "V14 0  0  0  0  0  0  1  0  0  0   ⋯ 0   0   0   1   0   0   0   0   0   0  \n",
       "V15 1  0  1  0  1  1  0  0  1  0   ⋯ 0   0   1   0   0   0   0   1   0   0  \n",
       "V16 1  1  0  0  0  0  0  0  0  0   ⋯ 0   0   0   0   0   0   0   0   0   0  \n",
       "V17 1  1  1  1  1  1  1  1  1  1   ⋯ 1   0   1   1   1   0   0   1   1   1  \n",
       "V18 0  1  0  0  0  0  0  0  0  0   ⋯ 0   0   0   0   0   0   0   0   0   0  \n",
       "V19 1  1  1  0  1  0  0  0  0  0   ⋯ 1   0   1   1   0   0   0   0   1   0  \n",
       "V20 0  0  0  0  0  0  0  0  0  0   ⋯ 0   0   0   0   0   0   1   0   0   0  \n",
       "V21 0  1  0  0  0  0  0  0  0  0   ⋯ 1   0   0   0   0   1   1   0   0   0  "
      ]
     },
     "metadata": {},
     "output_type": "display_data"
    }
   ],
   "source": [
    "rownames(table) <- colnames(table)\n",
    "table"
   ]
  },
  {
   "cell_type": "markdown",
   "metadata": {},
   "source": [
    "### Пункт 12.4"
   ]
  },
  {
   "cell_type": "code",
   "execution_count": 25,
   "metadata": {},
   "outputs": [
    {
     "data": {
      "image/png": "[encoded data removed]",
      "text/plain": [
       "Plot with title \"\""
      ]
     },
     "metadata": {
      "image/png": {
       "height": 420,
       "width": 420
      }
     },
     "output_type": "display_data"
    }
   ],
   "source": [
    "plot(graph_info)"
   ]
  },
  {
   "cell_type": "markdown",
   "metadata": {},
   "source": [
    "### Пункт 12.5"
   ]
  },
  {
   "cell_type": "code",
   "execution_count": 26,
   "metadata": {},
   "outputs": [
    {
     "data": {
      "image/png": "[encoded data removed]",
      "text/plain": [
       "Plot with title \"Алгоритм укладки Фрюхтермана– Рейнгольда\""
      ]
     },
     "metadata": {
      "image/png": {
       "height": 420,
       "width": 420
      }
     },
     "output_type": "display_data"
    },
    {
     "data": {
      "image/png": "[encoded data removed]",
      "text/plain": [
       "Plot with title \"Алгоритм укладки Камада–Каваи\""
      ]
     },
     "metadata": {
      "image/png": {
       "height": 420,
       "width": 420
      }
     },
     "output_type": "display_data"
    }
   ],
   "source": [
    "layout_FR <- layout_with_fr(graph_info) # использует итеративное применение сил\n",
    "plot(graph_info, layout=layout_FR, main = \"Алгоритм укладки Фрюхтермана– Рейнгольда\")\n",
    "layout_KK <- layout_with_kk(graph_info) # использует алгоритмы оптимизации для уменьшения функции энергии\n",
    "plot(graph_info, layout=layout_KK, main = \"Алгоритм укладки Камада–Каваи\")"
   ]
  },
  {
   "cell_type": "markdown",
   "metadata": {},
   "source": [
    "### Пункт 12.6"
   ]
  },
  {
   "cell_type": "code",
   "execution_count": 27,
   "metadata": {},
   "outputs": [
    {
     "data": {
      "text/plain": [
       "Network attributes:\n",
       "  vertices = 21\n",
       "  directed = FALSE\n",
       "  hyper = FALSE\n",
       "  loops = FALSE\n",
       "  multiple = FALSE\n",
       "  bipartite = FALSE\n",
       " total edges = 79 \n",
       "   missing edges = 0 \n",
       "   non-missing edges = 79 \n",
       " density = 0.3761905 \n",
       "\n",
       "Vertex attributes:\n",
       "  vertex.names:\n",
       "   character valued attribute\n",
       "   21 valid vertex names\n",
       "\n",
       "No edge attributes\n",
       "\n",
       "Network edgelist matrix:\n",
       "      [,1] [,2]\n",
       " [1,]    2    1\n",
       " [2,]    4    1\n",
       " [3,]    8    1\n",
       " [4,]   11    1\n",
       " [5,]   12    1\n",
       " [6,]   15    1\n",
       " [7,]   16    1\n",
       " [8,]   17    1\n",
       " [9,]   19    1\n",
       "[10,]    4    2\n",
       "[11,]    5    2\n",
       "[12,]    6    2\n",
       "[13,]   11    2\n",
       "[14,]   16    2\n",
       "[15,]   17    2\n",
       "[16,]   18    2\n",
       "[17,]   19    2\n",
       "[18,]   21    2\n",
       "[19,]   10    3\n",
       "[20,]   11    3\n",
       "[21,]   14    3\n",
       "[22,]   15    3\n",
       "[23,]   17    3\n",
       "[24,]   19    3\n",
       "[25,]    8    4\n",
       "[26,]   11    4\n",
       "[27,]   12    4\n",
       "[28,]   16    4\n",
       "[29,]   17    4\n",
       "[30,]    9    5\n",
       "[31,]   10    5\n",
       "[32,]   11    5\n",
       "[33,]   13    5\n",
       "[34,]   14    5\n",
       "[35,]   15    5\n",
       "[36,]   17    5\n",
       "[37,]   19    5\n",
       "[38,]   21    5\n",
       "[39,]    7    6\n",
       "[40,]    9    6\n",
       "[41,]   12    6\n",
       "[42,]   15    6\n",
       "[43,]   17    6\n",
       "[44,]   21    6\n",
       "[45,]   14    7\n",
       "[46,]   17    7\n",
       "[47,]   10    8\n",
       "[48,]   11    8\n",
       "[49,]   17    8\n",
       "[50,]   10    9\n",
       "[51,]   11    9\n",
       "[52,]   15    9\n",
       "[53,]   17    9\n",
       "[54,]   12   10\n",
       "[55,]   16   10\n",
       "[56,]   17   10\n",
       "[57,]   20   10\n",
       "[58,]   12   11\n",
       "[59,]   13   11\n",
       "[60,]   15   11\n",
       "[61,]   17   11\n",
       "[62,]   18   11\n",
       "[63,]   19   11\n",
       "[64,]   20   11\n",
       "[65,]   17   12\n",
       "[66,]   19   12\n",
       "[67,]   21   12\n",
       "[68,]   15   14\n",
       "[69,]   17   14\n",
       "[70,]   19   14\n",
       "[71,]   17   15\n",
       "[72,]   19   15\n",
       "[73,]   17   16\n",
       "[74,]   19   17\n",
       "[75,]   20   17\n",
       "[76,]   21   17\n",
       "[77,]   20   18\n",
       "[78,]   21   18\n",
       "[79,]   20   19"
      ]
     },
     "metadata": {},
     "output_type": "display_data"
    }
   ],
   "source": [
    "gf_summary <- network(data.matrix(table), matrix.type=\"adjacency\", directed=FALSE)\n",
    "summary(gf_summary)"
   ]
  },
  {
   "cell_type": "markdown",
   "metadata": {},
   "source": [
    "### Пункт 12.7"
   ]
  },
  {
   "cell_type": "markdown",
   "metadata": {},
   "source": [
    "Число людей - 21."
   ]
  },
  {
   "cell_type": "code",
   "execution_count": 28,
   "metadata": {},
   "outputs": [
    {
     "data": {
      "text/html": [
       "21"
      ],
      "text/latex": [
       "21"
      ],
      "text/markdown": [
       "21"
      ],
      "text/plain": [
       "[1] 21"
      ]
     },
     "metadata": {},
     "output_type": "display_data"
    }
   ],
   "source": [
    "size <- gorder(graph_info)\n",
    "size"
   ]
  },
  {
   "cell_type": "code",
   "execution_count": 29,
   "metadata": {},
   "outputs": [
    {
     "data": {
      "text/html": [
       "102"
      ],
      "text/latex": [
       "102"
      ],
      "text/markdown": [
       "102"
      ],
      "text/plain": [
       "[1] 102"
      ]
     },
     "metadata": {},
     "output_type": "display_data"
    }
   ],
   "source": [
    "ecount <- gsize(graph_info)\n",
    "ecount"
   ]
  },
  {
   "cell_type": "markdown",
   "metadata": {},
   "source": [
    "Вероятность того, что два человека имеют связь ~0.24."
   ]
  },
  {
   "cell_type": "code",
   "execution_count": 30,
   "metadata": {},
   "outputs": [
    {
     "data": {
      "text/html": [
       "0.242857142857143"
      ],
      "text/latex": [
       "0.242857142857143"
      ],
      "text/markdown": [
       "0.242857142857143"
      ],
      "text/plain": [
       "[1] 0.2428571"
      ]
     },
     "metadata": {},
     "output_type": "display_data"
    }
   ],
   "source": [
    "density_grid <- ecount / (size * (size - 1) )\n",
    "density_grid"
   ]
  },
  {
   "cell_type": "code",
   "execution_count": 31,
   "metadata": {},
   "outputs": [
    {
     "data": {
      "text/html": [
       "0.242857142857143"
      ],
      "text/latex": [
       "0.242857142857143"
      ],
      "text/markdown": [
       "0.242857142857143"
      ],
      "text/plain": [
       "[1] 0.2428571"
      ]
     },
     "metadata": {},
     "output_type": "display_data"
    }
   ],
   "source": [
    "density_grid <- edge_density(graph_info)\n",
    "density_grid"
   ]
  },
  {
   "cell_type": "markdown",
   "metadata": {},
   "source": [
    "Все, за исключением человека 7 и 9, имеют связь.\n",
    "7 и 9 не имеют связей ни с кем."
   ]
  },
  {
   "cell_type": "code",
   "execution_count": 32,
   "metadata": {},
   "outputs": [
    {
     "data": {
      "text/html": [
       "3"
      ],
      "text/latex": [
       "3"
      ],
      "text/markdown": [
       "3"
      ],
      "text/plain": [
       "[1] 3"
      ]
     },
     "metadata": {},
     "output_type": "display_data"
    }
   ],
   "source": [
    "count_components <- count_components(graph_info, mode='strong')\n",
    "count_components"
   ]
  },
  {
   "cell_type": "markdown",
   "metadata": {},
   "source": [
    "Выбранные два человека связаны через наидлиннейший из кратчайших связываюших путей всей сети коллег, состоящий из 5 связей."
   ]
  },
  {
   "cell_type": "code",
   "execution_count": 33,
   "metadata": {},
   "outputs": [
    {
     "data": {
      "text/html": [
       "5"
      ],
      "text/latex": [
       "5"
      ],
      "text/markdown": [
       "5"
      ],
      "text/plain": [
       "[1] 5"
      ]
     },
     "metadata": {},
     "output_type": "display_data"
    }
   ],
   "source": [
    "diameter <- diameter(graph_info, directed=TRUE)\n",
    "diameter"
   ]
  },
  {
   "cell_type": "markdown",
   "metadata": {},
   "source": [
    "Вероятность того, что два человека имеют попарную связь, если хотя бы один из них связан с двумя другими ~0.47."
   ]
  },
  {
   "cell_type": "code",
   "execution_count": 34,
   "metadata": {},
   "outputs": [
    {
     "data": {
      "text/html": [
       "0.471494607087827"
      ],
      "text/latex": [
       "0.471494607087827"
      ],
      "text/markdown": [
       "0.471494607087827"
      ],
      "text/plain": [
       "[1] 0.4714946"
      ]
     },
     "metadata": {},
     "output_type": "display_data"
    }
   ],
   "source": [
    "transitivity <- transitivity(graph_info)\n",
    "transitivity"
   ]
  },
  {
   "cell_type": "markdown",
   "metadata": {},
   "source": [
    "#### Общий вывод:\n",
    "1. Число людей - 21\n",
    "2. Вычесленные плотности сети совпадают. Вероятность того, что два человека имеют связь ~0.24\n",
    "3. Все, за исключением человека 7 и 9, имеют связь. 7 и 9 не имеют связей ни с кем\n",
    "4. Выбранные два человека связаны через наидлиннейший из кратчайших связываюших путей всей сети коллег, состоящий из 5 связей\n",
    "5. Вероятность того, что два человека имеют попарную связь, если хотя бы один из них связан с двумя другими ~0.47"
   ]
  },
  {
   "cell_type": "markdown",
   "metadata": {},
   "source": [
    "### Пункт 12.8"
   ]
  },
  {
   "cell_type": "code",
   "execution_count": 36,
   "metadata": {},
   "outputs": [
    {
     "data": {
      "text/html": [
       "<table class=\"dataframe\">\n",
       "<caption>A data.frame: 21 × 1</caption>\n",
       "<thead>\n",
       "\t<tr><th></th><th scope=col>degrees</th></tr>\n",
       "\t<tr><th></th><th scope=col>&lt;dbl&gt;</th></tr>\n",
       "</thead>\n",
       "<tbody>\n",
       "\t<tr><th scope=row>V1</th><td>13</td></tr>\n",
       "\t<tr><th scope=row>V2</th><td>13</td></tr>\n",
       "\t<tr><th scope=row>V3</th><td> 7</td></tr>\n",
       "\t<tr><th scope=row>V4</th><td>11</td></tr>\n",
       "\t<tr><th scope=row>V5</th><td>13</td></tr>\n",
       "\t<tr><th scope=row>V6</th><td> 8</td></tr>\n",
       "\t<tr><th scope=row>V7</th><td> 3</td></tr>\n",
       "\t<tr><th scope=row>V8</th><td> 6</td></tr>\n",
       "\t<tr><th scope=row>V9</th><td> 6</td></tr>\n",
       "\t<tr><th scope=row>V10</th><td> 8</td></tr>\n",
       "\t<tr><th scope=row>V11</th><td>19</td></tr>\n",
       "\t<tr><th scope=row>V12</th><td>12</td></tr>\n",
       "\t<tr><th scope=row>V13</th><td> 3</td></tr>\n",
       "\t<tr><th scope=row>V14</th><td> 7</td></tr>\n",
       "\t<tr><th scope=row>V15</th><td>12</td></tr>\n",
       "\t<tr><th scope=row>V16</th><td> 6</td></tr>\n",
       "\t<tr><th scope=row>V17</th><td>24</td></tr>\n",
       "\t<tr><th scope=row>V18</th><td> 5</td></tr>\n",
       "\t<tr><th scope=row>V19</th><td>14</td></tr>\n",
       "\t<tr><th scope=row>V20</th><td> 5</td></tr>\n",
       "\t<tr><th scope=row>V21</th><td> 9</td></tr>\n",
       "</tbody>\n",
       "</table>\n"
      ],
      "text/latex": [
       "A data.frame: 21 × 1\n",
       "\\begin{tabular}{r|l}\n",
       "  & degrees\\\\\n",
       "  & <dbl>\\\\\n",
       "\\hline\n",
       "\tV1 & 13\\\\\n",
       "\tV2 & 13\\\\\n",
       "\tV3 &  7\\\\\n",
       "\tV4 & 11\\\\\n",
       "\tV5 & 13\\\\\n",
       "\tV6 &  8\\\\\n",
       "\tV7 &  3\\\\\n",
       "\tV8 &  6\\\\\n",
       "\tV9 &  6\\\\\n",
       "\tV10 &  8\\\\\n",
       "\tV11 & 19\\\\\n",
       "\tV12 & 12\\\\\n",
       "\tV13 &  3\\\\\n",
       "\tV14 &  7\\\\\n",
       "\tV15 & 12\\\\\n",
       "\tV16 &  6\\\\\n",
       "\tV17 & 24\\\\\n",
       "\tV18 &  5\\\\\n",
       "\tV19 & 14\\\\\n",
       "\tV20 &  5\\\\\n",
       "\tV21 &  9\\\\\n",
       "\\end{tabular}\n"
      ],
      "text/markdown": [
       "\n",
       "A data.frame: 21 × 1\n",
       "\n",
       "| <!--/--> | degrees &lt;dbl&gt; |\n",
       "|---|---|\n",
       "| V1 | 13 |\n",
       "| V2 | 13 |\n",
       "| V3 |  7 |\n",
       "| V4 | 11 |\n",
       "| V5 | 13 |\n",
       "| V6 |  8 |\n",
       "| V7 |  3 |\n",
       "| V8 |  6 |\n",
       "| V9 |  6 |\n",
       "| V10 |  8 |\n",
       "| V11 | 19 |\n",
       "| V12 | 12 |\n",
       "| V13 |  3 |\n",
       "| V14 |  7 |\n",
       "| V15 | 12 |\n",
       "| V16 |  6 |\n",
       "| V17 | 24 |\n",
       "| V18 |  5 |\n",
       "| V19 | 14 |\n",
       "| V20 |  5 |\n",
       "| V21 |  9 |\n",
       "\n"
      ],
      "text/plain": [
       "    degrees\n",
       "V1  13     \n",
       "V2  13     \n",
       "V3   7     \n",
       "V4  11     \n",
       "V5  13     \n",
       "V6   8     \n",
       "V7   3     \n",
       "V8   6     \n",
       "V9   6     \n",
       "V10  8     \n",
       "V11 19     \n",
       "V12 12     \n",
       "V13  3     \n",
       "V14  7     \n",
       "V15 12     \n",
       "V16  6     \n",
       "V17 24     \n",
       "V18  5     \n",
       "V19 14     \n",
       "V20  5     \n",
       "V21  9     "
      ]
     },
     "metadata": {},
     "output_type": "display_data"
    },
    {
     "data": {
      "text/html": [
       "9.71428571428571"
      ],
      "text/latex": [
       "9.71428571428571"
      ],
      "text/markdown": [
       "9.71428571428571"
      ],
      "text/plain": [
       "[1] 9.714286"
      ]
     },
     "metadata": {},
     "output_type": "display_data"
    }
   ],
   "source": [
    "degrees <- igraph::degree(graph_info, mode = \"all\")\n",
    "df_degrees = data.frame(degrees)\n",
    "df_degrees\n",
    "mean <- mean(degrees)\n",
    "mean\n"
   ]
  },
  {
   "cell_type": "code",
   "execution_count": 38,
   "metadata": {
    "scrolled": true
   },
   "outputs": [
    {
     "data": {
      "text/html": [
       "26.2040816326531"
      ],
      "text/latex": [
       "26.2040816326531"
      ],
      "text/markdown": [
       "26.2040816326531"
      ],
      "text/plain": [
       "[1] 26.20408"
      ]
     },
     "metadata": {},
     "output_type": "display_data"
    }
   ],
   "source": [
    "disp <- mean((igraph::degree(graph_info, mode = \"all\") - mean) ** 2)\n",
    "disp"
   ]
  },
  {
   "cell_type": "markdown",
   "metadata": {},
   "source": [
    "#### Общий вывод: \n",
    "Разброс значений как для связей между индивидуумом и коллегами (один ко многим), так и между коллегами и индивидуумом (многие к одному) довольно большой.\n",
    "Общее среднее значение колличества связей (вне зависимости от ее направления) для конкретного представителя и его коллег - 10."
   ]
  },
  {
   "attachments": {
    "image-2.png": {
     "image/png": "[encoded data removed]"
    }
   },
   "cell_type": "markdown",
   "metadata": {},
   "source": [
    "### Пункт 13\n",
    "Заполнить таблицу для различных мер престижа:\n",
    "![image-2.png](attachment:image-2.png)\n",
    "Сделать выводы."
   ]
  },
  {
   "cell_type": "code",
   "execution_count": 39,
   "metadata": {},
   "outputs": [
    {
     "data": {
      "text/html": [
       "20"
      ],
      "text/latex": [
       "20"
      ],
      "text/markdown": [
       "20"
      ],
      "text/plain": [
       "[1] 20"
      ]
     },
     "metadata": {},
     "output_type": "display_data"
    }
   ],
   "source": [
    "# введем константу\n",
    "g_1 <- gorder(graph_info) - 1\n",
    "g_1"
   ]
  },
  {
   "cell_type": "code",
   "execution_count": 41,
   "metadata": {},
   "outputs": [
    {
     "data": {
      "text/html": [
       "<table class=\"dataframe\">\n",
       "<caption>A data.frame: 21 × 1</caption>\n",
       "<thead>\n",
       "\t<tr><th></th><th scope=col>prestige_degree</th></tr>\n",
       "\t<tr><th></th><th scope=col>&lt;dbl&gt;</th></tr>\n",
       "</thead>\n",
       "<tbody>\n",
       "\t<tr><th scope=row>V1</th><td>0.40</td></tr>\n",
       "\t<tr><th scope=row>V2</th><td>0.50</td></tr>\n",
       "\t<tr><th scope=row>V3</th><td>0.25</td></tr>\n",
       "\t<tr><th scope=row>V4</th><td>0.25</td></tr>\n",
       "\t<tr><th scope=row>V5</th><td>0.30</td></tr>\n",
       "\t<tr><th scope=row>V6</th><td>0.10</td></tr>\n",
       "\t<tr><th scope=row>V7</th><td>0.15</td></tr>\n",
       "\t<tr><th scope=row>V8</th><td>0.25</td></tr>\n",
       "\t<tr><th scope=row>V9</th><td>0.30</td></tr>\n",
       "\t<tr><th scope=row>V10</th><td>0.05</td></tr>\n",
       "\t<tr><th scope=row>V11</th><td>0.30</td></tr>\n",
       "\t<tr><th scope=row>V12</th><td>0.40</td></tr>\n",
       "\t<tr><th scope=row>V13</th><td>0.05</td></tr>\n",
       "\t<tr><th scope=row>V14</th><td>0.25</td></tr>\n",
       "\t<tr><th scope=row>V15</th><td>0.20</td></tr>\n",
       "\t<tr><th scope=row>V16</th><td>0.20</td></tr>\n",
       "\t<tr><th scope=row>V17</th><td>0.30</td></tr>\n",
       "\t<tr><th scope=row>V18</th><td>0.20</td></tr>\n",
       "\t<tr><th scope=row>V19</th><td>0.25</td></tr>\n",
       "\t<tr><th scope=row>V20</th><td>0.15</td></tr>\n",
       "\t<tr><th scope=row>V21</th><td>0.25</td></tr>\n",
       "</tbody>\n",
       "</table>\n"
      ],
      "text/latex": [
       "A data.frame: 21 × 1\n",
       "\\begin{tabular}{r|l}\n",
       "  & prestige\\_degree\\\\\n",
       "  & <dbl>\\\\\n",
       "\\hline\n",
       "\tV1 & 0.40\\\\\n",
       "\tV2 & 0.50\\\\\n",
       "\tV3 & 0.25\\\\\n",
       "\tV4 & 0.25\\\\\n",
       "\tV5 & 0.30\\\\\n",
       "\tV6 & 0.10\\\\\n",
       "\tV7 & 0.15\\\\\n",
       "\tV8 & 0.25\\\\\n",
       "\tV9 & 0.30\\\\\n",
       "\tV10 & 0.05\\\\\n",
       "\tV11 & 0.30\\\\\n",
       "\tV12 & 0.40\\\\\n",
       "\tV13 & 0.05\\\\\n",
       "\tV14 & 0.25\\\\\n",
       "\tV15 & 0.20\\\\\n",
       "\tV16 & 0.20\\\\\n",
       "\tV17 & 0.30\\\\\n",
       "\tV18 & 0.20\\\\\n",
       "\tV19 & 0.25\\\\\n",
       "\tV20 & 0.15\\\\\n",
       "\tV21 & 0.25\\\\\n",
       "\\end{tabular}\n"
      ],
      "text/markdown": [
       "\n",
       "A data.frame: 21 × 1\n",
       "\n",
       "| <!--/--> | prestige_degree &lt;dbl&gt; |\n",
       "|---|---|\n",
       "| V1 | 0.40 |\n",
       "| V2 | 0.50 |\n",
       "| V3 | 0.25 |\n",
       "| V4 | 0.25 |\n",
       "| V5 | 0.30 |\n",
       "| V6 | 0.10 |\n",
       "| V7 | 0.15 |\n",
       "| V8 | 0.25 |\n",
       "| V9 | 0.30 |\n",
       "| V10 | 0.05 |\n",
       "| V11 | 0.30 |\n",
       "| V12 | 0.40 |\n",
       "| V13 | 0.05 |\n",
       "| V14 | 0.25 |\n",
       "| V15 | 0.20 |\n",
       "| V16 | 0.20 |\n",
       "| V17 | 0.30 |\n",
       "| V18 | 0.20 |\n",
       "| V19 | 0.25 |\n",
       "| V20 | 0.15 |\n",
       "| V21 | 0.25 |\n",
       "\n"
      ],
      "text/plain": [
       "    prestige_degree\n",
       "V1  0.40           \n",
       "V2  0.50           \n",
       "V3  0.25           \n",
       "V4  0.25           \n",
       "V5  0.30           \n",
       "V6  0.10           \n",
       "V7  0.15           \n",
       "V8  0.25           \n",
       "V9  0.30           \n",
       "V10 0.05           \n",
       "V11 0.30           \n",
       "V12 0.40           \n",
       "V13 0.05           \n",
       "V14 0.25           \n",
       "V15 0.20           \n",
       "V16 0.20           \n",
       "V17 0.30           \n",
       "V18 0.20           \n",
       "V19 0.25           \n",
       "V20 0.15           \n",
       "V21 0.25           "
      ]
     },
     "metadata": {},
     "output_type": "display_data"
    }
   ],
   "source": [
    "prestige_degree <- igraph::degree(graph_info, mode=\"in\") / g_1\n",
    "\n",
    "df_prestige_degree = data.frame(prestige_degree)\n",
    "df_prestige_degree"
   ]
  },
  {
   "cell_type": "code",
   "execution_count": 42,
   "metadata": {},
   "outputs": [
    {
     "data": {
      "text/html": [
       "<table class=\"dataframe\">\n",
       "<caption>A matrix: 21 × 21 of type dbl</caption>\n",
       "<thead>\n",
       "\t<tr><th></th><th scope=col>V1</th><th scope=col>V2</th><th scope=col>V3</th><th scope=col>V4</th><th scope=col>V5</th><th scope=col>V6</th><th scope=col>V7</th><th scope=col>V8</th><th scope=col>V9</th><th scope=col>V10</th><th scope=col>⋯</th><th scope=col>V12</th><th scope=col>V13</th><th scope=col>V14</th><th scope=col>V15</th><th scope=col>V16</th><th scope=col>V17</th><th scope=col>V18</th><th scope=col>V19</th><th scope=col>V20</th><th scope=col>V21</th></tr>\n",
       "</thead>\n",
       "<tbody>\n",
       "\t<tr><th scope=row>V1</th><td>  0</td><td>  1</td><td>  3</td><td>  1</td><td>  3</td><td>  3</td><td>  3</td><td>  1</td><td>  3</td><td>  3</td><td>⋯</td><td>  1</td><td>  4</td><td>  3</td><td>  3</td><td>  1</td><td>  2</td><td>  2</td><td>  3</td><td>  3</td><td>  2</td></tr>\n",
       "\t<tr><th scope=row>V2</th><td>  1</td><td>  0</td><td>  3</td><td>  2</td><td>  3</td><td>  3</td><td>  3</td><td>  2</td><td>  3</td><td>  3</td><td>⋯</td><td>  2</td><td>  4</td><td>  3</td><td>  3</td><td>  2</td><td>  2</td><td>  1</td><td>  3</td><td>  3</td><td>  1</td></tr>\n",
       "\t<tr><th scope=row>V3</th><td>  2</td><td>  2</td><td>  0</td><td>  3</td><td>  2</td><td>  3</td><td>  2</td><td>  3</td><td>  3</td><td>  4</td><td>⋯</td><td>  2</td><td>  3</td><td>  1</td><td>  2</td><td>  3</td><td>  3</td><td>  3</td><td>  1</td><td>  2</td><td>  3</td></tr>\n",
       "\t<tr><th scope=row>V4</th><td>  1</td><td>  1</td><td>  2</td><td>  0</td><td>  2</td><td>  2</td><td>  2</td><td>  1</td><td>  2</td><td>  2</td><td>⋯</td><td>  1</td><td>  3</td><td>  2</td><td>  2</td><td>  1</td><td>  1</td><td>  2</td><td>  2</td><td>  2</td><td>  2</td></tr>\n",
       "\t<tr><th scope=row>V5</th><td>  2</td><td>  1</td><td>  2</td><td>  2</td><td>  0</td><td>  2</td><td>  2</td><td>  2</td><td>  1</td><td>  2</td><td>⋯</td><td>  2</td><td>  2</td><td>  1</td><td>  2</td><td>  2</td><td>  1</td><td>  2</td><td>  1</td><td>  2</td><td>  1</td></tr>\n",
       "\t<tr><th scope=row>V6</th><td>  2</td><td>  1</td><td>  2</td><td>  2</td><td>  2</td><td>  0</td><td>  1</td><td>  2</td><td>  1</td><td>  2</td><td>⋯</td><td>  1</td><td>  3</td><td>  2</td><td>  2</td><td>  2</td><td>  1</td><td>  2</td><td>  2</td><td>  2</td><td>  1</td></tr>\n",
       "\t<tr><th scope=row>V7</th><td>Inf</td><td>Inf</td><td>Inf</td><td>Inf</td><td>Inf</td><td>Inf</td><td>  0</td><td>Inf</td><td>Inf</td><td>Inf</td><td>⋯</td><td>Inf</td><td>Inf</td><td>Inf</td><td>Inf</td><td>Inf</td><td>Inf</td><td>Inf</td><td>Inf</td><td>Inf</td><td>Inf</td></tr>\n",
       "\t<tr><th scope=row>V8</th><td>  2</td><td>  2</td><td>  3</td><td>  1</td><td>  3</td><td>  3</td><td>  3</td><td>  0</td><td>  3</td><td>  3</td><td>⋯</td><td>  2</td><td>  4</td><td>  3</td><td>  3</td><td>  2</td><td>  2</td><td>  3</td><td>  3</td><td>  3</td><td>  3</td></tr>\n",
       "\t<tr><th scope=row>V9</th><td>Inf</td><td>Inf</td><td>Inf</td><td>Inf</td><td>Inf</td><td>Inf</td><td>Inf</td><td>Inf</td><td>  0</td><td>Inf</td><td>⋯</td><td>Inf</td><td>Inf</td><td>Inf</td><td>Inf</td><td>Inf</td><td>Inf</td><td>Inf</td><td>Inf</td><td>Inf</td><td>Inf</td></tr>\n",
       "\t<tr><th scope=row>V10</th><td>  2</td><td>  2</td><td>  1</td><td>  2</td><td>  1</td><td>  3</td><td>  3</td><td>  1</td><td>  1</td><td>  0</td><td>⋯</td><td>  1</td><td>  3</td><td>  2</td><td>  3</td><td>  1</td><td>  2</td><td>  2</td><td>  2</td><td>  1</td><td>  2</td></tr>\n",
       "\t<tr><th scope=row>V11</th><td>  1</td><td>  1</td><td>  1</td><td>  1</td><td>  1</td><td>  2</td><td>  2</td><td>  1</td><td>  1</td><td>  2</td><td>⋯</td><td>  1</td><td>  1</td><td>  2</td><td>  1</td><td>  2</td><td>  1</td><td>  1</td><td>  1</td><td>  2</td><td>  2</td></tr>\n",
       "\t<tr><th scope=row>V12</th><td>  1</td><td>  2</td><td>  2</td><td>  1</td><td>  2</td><td>  2</td><td>  2</td><td>  2</td><td>  2</td><td>  2</td><td>⋯</td><td>  0</td><td>  3</td><td>  2</td><td>  2</td><td>  2</td><td>  1</td><td>  2</td><td>  2</td><td>  2</td><td>  1</td></tr>\n",
       "\t<tr><th scope=row>V13</th><td>  2</td><td>  2</td><td>  2</td><td>  2</td><td>  1</td><td>  3</td><td>  3</td><td>  2</td><td>  2</td><td>  3</td><td>⋯</td><td>  2</td><td>  0</td><td>  2</td><td>  2</td><td>  3</td><td>  2</td><td>  2</td><td>  2</td><td>  3</td><td>  2</td></tr>\n",
       "\t<tr><th scope=row>V14</th><td>  2</td><td>  3</td><td>  2</td><td>  3</td><td>  2</td><td>  2</td><td>  1</td><td>  3</td><td>  2</td><td>  4</td><td>⋯</td><td>  3</td><td>  3</td><td>  0</td><td>  1</td><td>  3</td><td>  3</td><td>  3</td><td>  2</td><td>  3</td><td>  3</td></tr>\n",
       "\t<tr><th scope=row>V15</th><td>  1</td><td>  2</td><td>  1</td><td>  2</td><td>  1</td><td>  1</td><td>  2</td><td>  2</td><td>  1</td><td>  3</td><td>⋯</td><td>  2</td><td>  2</td><td>  1</td><td>  0</td><td>  2</td><td>  2</td><td>  2</td><td>  1</td><td>  2</td><td>  2</td></tr>\n",
       "\t<tr><th scope=row>V16</th><td>  1</td><td>  1</td><td>  4</td><td>  2</td><td>  4</td><td>  4</td><td>  4</td><td>  2</td><td>  4</td><td>  4</td><td>⋯</td><td>  2</td><td>  5</td><td>  4</td><td>  4</td><td>  0</td><td>  3</td><td>  2</td><td>  4</td><td>  4</td><td>  2</td></tr>\n",
       "\t<tr><th scope=row>V17</th><td>  1</td><td>  1</td><td>  1</td><td>  1</td><td>  1</td><td>  1</td><td>  1</td><td>  1</td><td>  1</td><td>  1</td><td>⋯</td><td>  1</td><td>  2</td><td>  1</td><td>  1</td><td>  1</td><td>  0</td><td>  2</td><td>  1</td><td>  1</td><td>  1</td></tr>\n",
       "\t<tr><th scope=row>V18</th><td>  2</td><td>  1</td><td>  4</td><td>  3</td><td>  4</td><td>  4</td><td>  4</td><td>  3</td><td>  4</td><td>  4</td><td>⋯</td><td>  3</td><td>  5</td><td>  4</td><td>  4</td><td>  3</td><td>  3</td><td>  0</td><td>  4</td><td>  4</td><td>  2</td></tr>\n",
       "\t<tr><th scope=row>V19</th><td>  1</td><td>  1</td><td>  1</td><td>  2</td><td>  1</td><td>  2</td><td>  2</td><td>  2</td><td>  2</td><td>  3</td><td>⋯</td><td>  1</td><td>  2</td><td>  1</td><td>  1</td><td>  2</td><td>  2</td><td>  2</td><td>  0</td><td>  1</td><td>  2</td></tr>\n",
       "\t<tr><th scope=row>V20</th><td>  2</td><td>  2</td><td>  2</td><td>  2</td><td>  2</td><td>  3</td><td>  3</td><td>  2</td><td>  2</td><td>  3</td><td>⋯</td><td>  2</td><td>  2</td><td>  3</td><td>  2</td><td>  3</td><td>  2</td><td>  1</td><td>  2</td><td>  0</td><td>  3</td></tr>\n",
       "\t<tr><th scope=row>V21</th><td>  2</td><td>  1</td><td>  2</td><td>  2</td><td>  2</td><td>  2</td><td>  2</td><td>  2</td><td>  2</td><td>  2</td><td>⋯</td><td>  1</td><td>  3</td><td>  2</td><td>  2</td><td>  2</td><td>  1</td><td>  1</td><td>  2</td><td>  2</td><td>  0</td></tr>\n",
       "</tbody>\n",
       "</table>\n"
      ],
      "text/latex": [
       "A matrix: 21 × 21 of type dbl\n",
       "\\begin{tabular}{r|lllllllllllllllllllll}\n",
       "  & V1 & V2 & V3 & V4 & V5 & V6 & V7 & V8 & V9 & V10 & ⋯ & V12 & V13 & V14 & V15 & V16 & V17 & V18 & V19 & V20 & V21\\\\\n",
       "\\hline\n",
       "\tV1 &   0 &   1 &   3 &   1 &   3 &   3 &   3 &   1 &   3 &   3 & ⋯ &   1 &   4 &   3 &   3 &   1 &   2 &   2 &   3 &   3 &   2\\\\\n",
       "\tV2 &   1 &   0 &   3 &   2 &   3 &   3 &   3 &   2 &   3 &   3 & ⋯ &   2 &   4 &   3 &   3 &   2 &   2 &   1 &   3 &   3 &   1\\\\\n",
       "\tV3 &   2 &   2 &   0 &   3 &   2 &   3 &   2 &   3 &   3 &   4 & ⋯ &   2 &   3 &   1 &   2 &   3 &   3 &   3 &   1 &   2 &   3\\\\\n",
       "\tV4 &   1 &   1 &   2 &   0 &   2 &   2 &   2 &   1 &   2 &   2 & ⋯ &   1 &   3 &   2 &   2 &   1 &   1 &   2 &   2 &   2 &   2\\\\\n",
       "\tV5 &   2 &   1 &   2 &   2 &   0 &   2 &   2 &   2 &   1 &   2 & ⋯ &   2 &   2 &   1 &   2 &   2 &   1 &   2 &   1 &   2 &   1\\\\\n",
       "\tV6 &   2 &   1 &   2 &   2 &   2 &   0 &   1 &   2 &   1 &   2 & ⋯ &   1 &   3 &   2 &   2 &   2 &   1 &   2 &   2 &   2 &   1\\\\\n",
       "\tV7 & Inf & Inf & Inf & Inf & Inf & Inf &   0 & Inf & Inf & Inf & ⋯ & Inf & Inf & Inf & Inf & Inf & Inf & Inf & Inf & Inf & Inf\\\\\n",
       "\tV8 &   2 &   2 &   3 &   1 &   3 &   3 &   3 &   0 &   3 &   3 & ⋯ &   2 &   4 &   3 &   3 &   2 &   2 &   3 &   3 &   3 &   3\\\\\n",
       "\tV9 & Inf & Inf & Inf & Inf & Inf & Inf & Inf & Inf &   0 & Inf & ⋯ & Inf & Inf & Inf & Inf & Inf & Inf & Inf & Inf & Inf & Inf\\\\\n",
       "\tV10 &   2 &   2 &   1 &   2 &   1 &   3 &   3 &   1 &   1 &   0 & ⋯ &   1 &   3 &   2 &   3 &   1 &   2 &   2 &   2 &   1 &   2\\\\\n",
       "\tV11 &   1 &   1 &   1 &   1 &   1 &   2 &   2 &   1 &   1 &   2 & ⋯ &   1 &   1 &   2 &   1 &   2 &   1 &   1 &   1 &   2 &   2\\\\\n",
       "\tV12 &   1 &   2 &   2 &   1 &   2 &   2 &   2 &   2 &   2 &   2 & ⋯ &   0 &   3 &   2 &   2 &   2 &   1 &   2 &   2 &   2 &   1\\\\\n",
       "\tV13 &   2 &   2 &   2 &   2 &   1 &   3 &   3 &   2 &   2 &   3 & ⋯ &   2 &   0 &   2 &   2 &   3 &   2 &   2 &   2 &   3 &   2\\\\\n",
       "\tV14 &   2 &   3 &   2 &   3 &   2 &   2 &   1 &   3 &   2 &   4 & ⋯ &   3 &   3 &   0 &   1 &   3 &   3 &   3 &   2 &   3 &   3\\\\\n",
       "\tV15 &   1 &   2 &   1 &   2 &   1 &   1 &   2 &   2 &   1 &   3 & ⋯ &   2 &   2 &   1 &   0 &   2 &   2 &   2 &   1 &   2 &   2\\\\\n",
       "\tV16 &   1 &   1 &   4 &   2 &   4 &   4 &   4 &   2 &   4 &   4 & ⋯ &   2 &   5 &   4 &   4 &   0 &   3 &   2 &   4 &   4 &   2\\\\\n",
       "\tV17 &   1 &   1 &   1 &   1 &   1 &   1 &   1 &   1 &   1 &   1 & ⋯ &   1 &   2 &   1 &   1 &   1 &   0 &   2 &   1 &   1 &   1\\\\\n",
       "\tV18 &   2 &   1 &   4 &   3 &   4 &   4 &   4 &   3 &   4 &   4 & ⋯ &   3 &   5 &   4 &   4 &   3 &   3 &   0 &   4 &   4 &   2\\\\\n",
       "\tV19 &   1 &   1 &   1 &   2 &   1 &   2 &   2 &   2 &   2 &   3 & ⋯ &   1 &   2 &   1 &   1 &   2 &   2 &   2 &   0 &   1 &   2\\\\\n",
       "\tV20 &   2 &   2 &   2 &   2 &   2 &   3 &   3 &   2 &   2 &   3 & ⋯ &   2 &   2 &   3 &   2 &   3 &   2 &   1 &   2 &   0 &   3\\\\\n",
       "\tV21 &   2 &   1 &   2 &   2 &   2 &   2 &   2 &   2 &   2 &   2 & ⋯ &   1 &   3 &   2 &   2 &   2 &   1 &   1 &   2 &   2 &   0\\\\\n",
       "\\end{tabular}\n"
      ],
      "text/markdown": [
       "\n",
       "A matrix: 21 × 21 of type dbl\n",
       "\n",
       "| <!--/--> | V1 | V2 | V3 | V4 | V5 | V6 | V7 | V8 | V9 | V10 | ⋯ | V12 | V13 | V14 | V15 | V16 | V17 | V18 | V19 | V20 | V21 |\n",
       "|---|---|---|---|---|---|---|---|---|---|---|---|---|---|---|---|---|---|---|---|---|---|\n",
       "| V1 |   0 |   1 |   3 |   1 |   3 |   3 |   3 |   1 |   3 |   3 | ⋯ |   1 |   4 |   3 |   3 |   1 |   2 |   2 |   3 |   3 |   2 |\n",
       "| V2 |   1 |   0 |   3 |   2 |   3 |   3 |   3 |   2 |   3 |   3 | ⋯ |   2 |   4 |   3 |   3 |   2 |   2 |   1 |   3 |   3 |   1 |\n",
       "| V3 |   2 |   2 |   0 |   3 |   2 |   3 |   2 |   3 |   3 |   4 | ⋯ |   2 |   3 |   1 |   2 |   3 |   3 |   3 |   1 |   2 |   3 |\n",
       "| V4 |   1 |   1 |   2 |   0 |   2 |   2 |   2 |   1 |   2 |   2 | ⋯ |   1 |   3 |   2 |   2 |   1 |   1 |   2 |   2 |   2 |   2 |\n",
       "| V5 |   2 |   1 |   2 |   2 |   0 |   2 |   2 |   2 |   1 |   2 | ⋯ |   2 |   2 |   1 |   2 |   2 |   1 |   2 |   1 |   2 |   1 |\n",
       "| V6 |   2 |   1 |   2 |   2 |   2 |   0 |   1 |   2 |   1 |   2 | ⋯ |   1 |   3 |   2 |   2 |   2 |   1 |   2 |   2 |   2 |   1 |\n",
       "| V7 | Inf | Inf | Inf | Inf | Inf | Inf |   0 | Inf | Inf | Inf | ⋯ | Inf | Inf | Inf | Inf | Inf | Inf | Inf | Inf | Inf | Inf |\n",
       "| V8 |   2 |   2 |   3 |   1 |   3 |   3 |   3 |   0 |   3 |   3 | ⋯ |   2 |   4 |   3 |   3 |   2 |   2 |   3 |   3 |   3 |   3 |\n",
       "| V9 | Inf | Inf | Inf | Inf | Inf | Inf | Inf | Inf |   0 | Inf | ⋯ | Inf | Inf | Inf | Inf | Inf | Inf | Inf | Inf | Inf | Inf |\n",
       "| V10 |   2 |   2 |   1 |   2 |   1 |   3 |   3 |   1 |   1 |   0 | ⋯ |   1 |   3 |   2 |   3 |   1 |   2 |   2 |   2 |   1 |   2 |\n",
       "| V11 |   1 |   1 |   1 |   1 |   1 |   2 |   2 |   1 |   1 |   2 | ⋯ |   1 |   1 |   2 |   1 |   2 |   1 |   1 |   1 |   2 |   2 |\n",
       "| V12 |   1 |   2 |   2 |   1 |   2 |   2 |   2 |   2 |   2 |   2 | ⋯ |   0 |   3 |   2 |   2 |   2 |   1 |   2 |   2 |   2 |   1 |\n",
       "| V13 |   2 |   2 |   2 |   2 |   1 |   3 |   3 |   2 |   2 |   3 | ⋯ |   2 |   0 |   2 |   2 |   3 |   2 |   2 |   2 |   3 |   2 |\n",
       "| V14 |   2 |   3 |   2 |   3 |   2 |   2 |   1 |   3 |   2 |   4 | ⋯ |   3 |   3 |   0 |   1 |   3 |   3 |   3 |   2 |   3 |   3 |\n",
       "| V15 |   1 |   2 |   1 |   2 |   1 |   1 |   2 |   2 |   1 |   3 | ⋯ |   2 |   2 |   1 |   0 |   2 |   2 |   2 |   1 |   2 |   2 |\n",
       "| V16 |   1 |   1 |   4 |   2 |   4 |   4 |   4 |   2 |   4 |   4 | ⋯ |   2 |   5 |   4 |   4 |   0 |   3 |   2 |   4 |   4 |   2 |\n",
       "| V17 |   1 |   1 |   1 |   1 |   1 |   1 |   1 |   1 |   1 |   1 | ⋯ |   1 |   2 |   1 |   1 |   1 |   0 |   2 |   1 |   1 |   1 |\n",
       "| V18 |   2 |   1 |   4 |   3 |   4 |   4 |   4 |   3 |   4 |   4 | ⋯ |   3 |   5 |   4 |   4 |   3 |   3 |   0 |   4 |   4 |   2 |\n",
       "| V19 |   1 |   1 |   1 |   2 |   1 |   2 |   2 |   2 |   2 |   3 | ⋯ |   1 |   2 |   1 |   1 |   2 |   2 |   2 |   0 |   1 |   2 |\n",
       "| V20 |   2 |   2 |   2 |   2 |   2 |   3 |   3 |   2 |   2 |   3 | ⋯ |   2 |   2 |   3 |   2 |   3 |   2 |   1 |   2 |   0 |   3 |\n",
       "| V21 |   2 |   1 |   2 |   2 |   2 |   2 |   2 |   2 |   2 |   2 | ⋯ |   1 |   3 |   2 |   2 |   2 |   1 |   1 |   2 |   2 |   0 |\n",
       "\n"
      ],
      "text/plain": [
       "    V1  V2  V3  V4  V5  V6  V7  V8  V9  V10 ⋯ V12 V13 V14 V15 V16 V17 V18 V19\n",
       "V1    0   1   3   1   3   3   3   1   3   3 ⋯   1   4   3   3   1   2   2   3\n",
       "V2    1   0   3   2   3   3   3   2   3   3 ⋯   2   4   3   3   2   2   1   3\n",
       "V3    2   2   0   3   2   3   2   3   3   4 ⋯   2   3   1   2   3   3   3   1\n",
       "V4    1   1   2   0   2   2   2   1   2   2 ⋯   1   3   2   2   1   1   2   2\n",
       "V5    2   1   2   2   0   2   2   2   1   2 ⋯   2   2   1   2   2   1   2   1\n",
       "V6    2   1   2   2   2   0   1   2   1   2 ⋯   1   3   2   2   2   1   2   2\n",
       "V7  Inf Inf Inf Inf Inf Inf   0 Inf Inf Inf ⋯ Inf Inf Inf Inf Inf Inf Inf Inf\n",
       "V8    2   2   3   1   3   3   3   0   3   3 ⋯   2   4   3   3   2   2   3   3\n",
       "V9  Inf Inf Inf Inf Inf Inf Inf Inf   0 Inf ⋯ Inf Inf Inf Inf Inf Inf Inf Inf\n",
       "V10   2   2   1   2   1   3   3   1   1   0 ⋯   1   3   2   3   1   2   2   2\n",
       "V11   1   1   1   1   1   2   2   1   1   2 ⋯   1   1   2   1   2   1   1   1\n",
       "V12   1   2   2   1   2   2   2   2   2   2 ⋯   0   3   2   2   2   1   2   2\n",
       "V13   2   2   2   2   1   3   3   2   2   3 ⋯   2   0   2   2   3   2   2   2\n",
       "V14   2   3   2   3   2   2   1   3   2   4 ⋯   3   3   0   1   3   3   3   2\n",
       "V15   1   2   1   2   1   1   2   2   1   3 ⋯   2   2   1   0   2   2   2   1\n",
       "V16   1   1   4   2   4   4   4   2   4   4 ⋯   2   5   4   4   0   3   2   4\n",
       "V17   1   1   1   1   1   1   1   1   1   1 ⋯   1   2   1   1   1   0   2   1\n",
       "V18   2   1   4   3   4   4   4   3   4   4 ⋯   3   5   4   4   3   3   0   4\n",
       "V19   1   1   1   2   1   2   2   2   2   3 ⋯   1   2   1   1   2   2   2   0\n",
       "V20   2   2   2   2   2   3   3   2   2   3 ⋯   2   2   3   2   3   2   1   2\n",
       "V21   2   1   2   2   2   2   2   2   2   2 ⋯   1   3   2   2   2   1   1   2\n",
       "    V20 V21\n",
       "V1    3   2\n",
       "V2    3   1\n",
       "V3    2   3\n",
       "V4    2   2\n",
       "V5    2   1\n",
       "V6    2   1\n",
       "V7  Inf Inf\n",
       "V8    3   3\n",
       "V9  Inf Inf\n",
       "V10   1   2\n",
       "V11   2   2\n",
       "V12   2   1\n",
       "V13   3   2\n",
       "V14   3   3\n",
       "V15   2   2\n",
       "V16   4   2\n",
       "V17   1   1\n",
       "V18   4   2\n",
       "V19   1   2\n",
       "V20   0   3\n",
       "V21   2   0"
      ]
     },
     "metadata": {},
     "output_type": "display_data"
    }
   ],
   "source": [
    "# вычислим длину всех кратчайших путей от вершин в сети. \n",
    "dist <- distances(graph_info, mode=\"out\")\n",
    "dist"
   ]
  },
  {
   "cell_type": "code",
   "execution_count": 43,
   "metadata": {},
   "outputs": [],
   "source": [
    "d_prestige <- function(x){\n",
    "  # оставим только конечные элементы\n",
    "  x <- x[is.finite(x)]\n",
    "  # количество полученных акторов  \n",
    "  lent <- length(x)\n",
    "  # сумма длин всех кратчайших путей\n",
    "  sum_dists <- sum(x)\n",
    "\n",
    "  return(lent ** 2 / (sum_dists * (gorder(graph_info) - 1)))\n",
    "}\n",
    "\n",
    "dist_prestige <- apply(dist, 2, FUN=d_prestige )"
   ]
  },
  {
   "cell_type": "code",
   "execution_count": 44,
   "metadata": {},
   "outputs": [
    {
     "data": {
      "text/html": [
       "<table class=\"dataframe\">\n",
       "<caption>A data.frame: 21 × 2</caption>\n",
       "<thead>\n",
       "\t<tr><th></th><th scope=col>prestige_degree</th><th scope=col>dist_prestige</th></tr>\n",
       "\t<tr><th></th><th scope=col>&lt;dbl&gt;</th><th scope=col>&lt;dbl&gt;</th></tr>\n",
       "</thead>\n",
       "<tbody>\n",
       "\t<tr><th scope=row>V1</th><td>0.40</td><td>0.6446429</td></tr>\n",
       "\t<tr><th scope=row>V2</th><td>0.50</td><td>0.6685185</td></tr>\n",
       "\t<tr><th scope=row>V3</th><td>0.25</td><td>0.4750000</td></tr>\n",
       "\t<tr><th scope=row>V4</th><td>0.25</td><td>0.5308824</td></tr>\n",
       "\t<tr><th scope=row>V5</th><td>0.30</td><td>0.4878378</td></tr>\n",
       "\t<tr><th scope=row>V6</th><td>0.10</td><td>0.4011111</td></tr>\n",
       "\t<tr><th scope=row>V7</th><td>0.15</td><td>0.4444444</td></tr>\n",
       "\t<tr><th scope=row>V8</th><td>0.25</td><td>0.5308824</td></tr>\n",
       "\t<tr><th scope=row>V9</th><td>0.30</td><td>0.5000000</td></tr>\n",
       "\t<tr><th scope=row>V10</th><td>0.05</td><td>0.3610000</td></tr>\n",
       "\t<tr><th scope=row>V11</th><td>0.30</td><td>0.4878378</td></tr>\n",
       "\t<tr><th scope=row>V12</th><td>0.40</td><td>0.6016667</td></tr>\n",
       "\t<tr><th scope=row>V13</th><td>0.05</td><td>0.3342593</td></tr>\n",
       "\t<tr><th scope=row>V14</th><td>0.25</td><td>0.4628205</td></tr>\n",
       "\t<tr><th scope=row>V15</th><td>0.20</td><td>0.4512500</td></tr>\n",
       "\t<tr><th scope=row>V16</th><td>0.20</td><td>0.4878378</td></tr>\n",
       "\t<tr><th scope=row>V17</th><td>0.30</td><td>0.5308824</td></tr>\n",
       "\t<tr><th scope=row>V18</th><td>0.20</td><td>0.5157143</td></tr>\n",
       "\t<tr><th scope=row>V19</th><td>0.25</td><td>0.4750000</td></tr>\n",
       "\t<tr><th scope=row>V20</th><td>0.15</td><td>0.4297619</td></tr>\n",
       "\t<tr><th scope=row>V21</th><td>0.25</td><td>0.5157143</td></tr>\n",
       "</tbody>\n",
       "</table>\n"
      ],
      "text/latex": [
       "A data.frame: 21 × 2\n",
       "\\begin{tabular}{r|ll}\n",
       "  & prestige\\_degree & dist\\_prestige\\\\\n",
       "  & <dbl> & <dbl>\\\\\n",
       "\\hline\n",
       "\tV1 & 0.40 & 0.6446429\\\\\n",
       "\tV2 & 0.50 & 0.6685185\\\\\n",
       "\tV3 & 0.25 & 0.4750000\\\\\n",
       "\tV4 & 0.25 & 0.5308824\\\\\n",
       "\tV5 & 0.30 & 0.4878378\\\\\n",
       "\tV6 & 0.10 & 0.4011111\\\\\n",
       "\tV7 & 0.15 & 0.4444444\\\\\n",
       "\tV8 & 0.25 & 0.5308824\\\\\n",
       "\tV9 & 0.30 & 0.5000000\\\\\n",
       "\tV10 & 0.05 & 0.3610000\\\\\n",
       "\tV11 & 0.30 & 0.4878378\\\\\n",
       "\tV12 & 0.40 & 0.6016667\\\\\n",
       "\tV13 & 0.05 & 0.3342593\\\\\n",
       "\tV14 & 0.25 & 0.4628205\\\\\n",
       "\tV15 & 0.20 & 0.4512500\\\\\n",
       "\tV16 & 0.20 & 0.4878378\\\\\n",
       "\tV17 & 0.30 & 0.5308824\\\\\n",
       "\tV18 & 0.20 & 0.5157143\\\\\n",
       "\tV19 & 0.25 & 0.4750000\\\\\n",
       "\tV20 & 0.15 & 0.4297619\\\\\n",
       "\tV21 & 0.25 & 0.5157143\\\\\n",
       "\\end{tabular}\n"
      ],
      "text/markdown": [
       "\n",
       "A data.frame: 21 × 2\n",
       "\n",
       "| <!--/--> | prestige_degree &lt;dbl&gt; | dist_prestige &lt;dbl&gt; |\n",
       "|---|---|---|\n",
       "| V1 | 0.40 | 0.6446429 |\n",
       "| V2 | 0.50 | 0.6685185 |\n",
       "| V3 | 0.25 | 0.4750000 |\n",
       "| V4 | 0.25 | 0.5308824 |\n",
       "| V5 | 0.30 | 0.4878378 |\n",
       "| V6 | 0.10 | 0.4011111 |\n",
       "| V7 | 0.15 | 0.4444444 |\n",
       "| V8 | 0.25 | 0.5308824 |\n",
       "| V9 | 0.30 | 0.5000000 |\n",
       "| V10 | 0.05 | 0.3610000 |\n",
       "| V11 | 0.30 | 0.4878378 |\n",
       "| V12 | 0.40 | 0.6016667 |\n",
       "| V13 | 0.05 | 0.3342593 |\n",
       "| V14 | 0.25 | 0.4628205 |\n",
       "| V15 | 0.20 | 0.4512500 |\n",
       "| V16 | 0.20 | 0.4878378 |\n",
       "| V17 | 0.30 | 0.5308824 |\n",
       "| V18 | 0.20 | 0.5157143 |\n",
       "| V19 | 0.25 | 0.4750000 |\n",
       "| V20 | 0.15 | 0.4297619 |\n",
       "| V21 | 0.25 | 0.5157143 |\n",
       "\n"
      ],
      "text/plain": [
       "    prestige_degree dist_prestige\n",
       "V1  0.40            0.6446429    \n",
       "V2  0.50            0.6685185    \n",
       "V3  0.25            0.4750000    \n",
       "V4  0.25            0.5308824    \n",
       "V5  0.30            0.4878378    \n",
       "V6  0.10            0.4011111    \n",
       "V7  0.15            0.4444444    \n",
       "V8  0.25            0.5308824    \n",
       "V9  0.30            0.5000000    \n",
       "V10 0.05            0.3610000    \n",
       "V11 0.30            0.4878378    \n",
       "V12 0.40            0.6016667    \n",
       "V13 0.05            0.3342593    \n",
       "V14 0.25            0.4628205    \n",
       "V15 0.20            0.4512500    \n",
       "V16 0.20            0.4878378    \n",
       "V17 0.30            0.5308824    \n",
       "V18 0.20            0.5157143    \n",
       "V19 0.25            0.4750000    \n",
       "V20 0.15            0.4297619    \n",
       "V21 0.25            0.5157143    "
      ]
     },
     "metadata": {},
     "output_type": "display_data"
    }
   ],
   "source": [
    "df = data.frame(prestige_degree, dist_prestige)\n",
    "df"
   ]
  },
  {
   "cell_type": "markdown",
   "metadata": {},
   "source": [
    "Второй человек имеет наибольшее число связей с остальными."
   ]
  },
  {
   "cell_type": "markdown",
   "metadata": {},
   "source": [
    "## Выводы\n",
    "\n",
    "В ходе работы были освоены метрики оценки структурных особенностей социальных сетей, как с направленными связями, так и ненаправленными. Также были приобретены навыки работы с математическими пакетами для моделирования, визуализации и анализа социальных сетей. Результаты работы представлены в промежуточных выводах."
   ]
  },
  {
   "cell_type": "code",
   "execution_count": null,
   "metadata": {},
   "outputs": [],
   "source": []
  }
 ],
 "metadata": {
  "kernelspec": {
   "display_name": "R",
   "language": "R",
   "name": "ir"
  },
  "language_info": {
   "codemirror_mode": "r",
   "file_extension": ".r",
   "mimetype": "text/x-r-source",
   "name": "R",
   "pygments_lexer": "r",
   "version": "4.2.1"
  }
 },
 "nbformat": 4,
 "nbformat_minor": 4
}
