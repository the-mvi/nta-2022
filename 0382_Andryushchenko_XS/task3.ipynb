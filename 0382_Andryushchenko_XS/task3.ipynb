{
 "cells": [
  {
   "cell_type": "markdown",
   "metadata": {},
   "source": [
    "# Практическая работа №3: Статистический анализ социальных сетей.\n",
    "Выполнила студентка гр. 0382 Андрющенко Ксения. Вариант №25"
   ]
  },
  {
   "cell_type": "markdown",
   "metadata": {},
   "source": [
    "## Цель работы\n",
    "Овладеть навыками работы с математическими пакетами для статисти\u0002ческого анализа социальных сетей."
   ]
  },
  {
   "cell_type": "markdown",
   "metadata": {},
   "source": [
    "## Основные теоретические положения\n",
    "**Диада**(dyad) - элемент сети, представляющий собой пару акторов и (возможную) связь между ними  \n",
    "  \n",
    "**Взаимная дида**: $D_{ij} = (1, 1)$  \n",
    "**Асимметричная диада** $D_{ij} = (1, 0), D_{ij} = (0, 1)$  \n",
    "**Нулевая диада** $D_{ij} = (0, 0)$  \n",
    "**Цензус диад**(dyad census) - тройка чисел <M, A, N>, где:  \n",
    "    - $M = \\sum_{i<j} X_{ij} X_{ji}$  \n",
    "    - $A = X_{++} - 2M$  \n",
    "    - $N = \\binom{g}{2} - A - M$  \n",
    "\n",
    "**Индекс взаимности Каца-Пауэлла** — характеристикака измерения тенденции акторов в группе:  \n",
    "    - $ \\infty < \\rho_{кр} \\leqslant 1$.  \n",
    "    - Индекс взаимности основан на ожидании кол-ва взаимн. диад, предполагая, что выбор делается акторами случайным образом.  \n",
    "    - Вероятность взаимного выбора между любой произвольной парой акторов равна  \n",
    "    $d^2/(g-1)^2$  \n",
    "    - Вероятность того, что общая диада является взаимной:  \n",
    "    $p(i → j ∩ j → i) = \\frac{d}{(g-1)}(\\frac{d}{(g-1)} + p_{kp}\\frac{g-1-d}{g-1})$  \n",
    "    - Оценка при свободном выборе   \n",
    "    $p_{ekp}$ = $\\frac{2(g-1)M - gd^2}{gd(g-1-d)}$  \n",
    "    - Оценка при фиксированном выборе \n",
    "    \n",
    "$p_{ekp}^\\prime = \\frac{2(g-1)^2M-L^2+L_2}{L(g-1)^2 -L^2 +L_2}$\n",
    "    \n",
    "**Индекс взаимности Бандиопадхьяйя** - данный индекс основан на минимальном и максимальном значениях количества взаимных диад.  \n",
    "$\\rho_{B} = \\frac{M - M_{min}}{M_{max} - M_{min}}$,  \n",
    "    Где:  \n",
    "    - $M_{min} = max_{0 \\leq t \\leq g}f(t)$  \n",
    "    - $M_{\\max} = \\lfloor 0.5 \\sum^g_{i = 1} x_{i+} - \\max g(t)\\rfloor, 0 \\leqslant t \\leqslant g,$  \n",
    "    - $f(t) = \\sum_{i=1}^tx_{i+} - t(g-1) - C^2_t$  \n",
    "    - $g(t) = \\sum_{i=1}^tx_{i+} - t(t-1) - \\sum_{i=t+1}^gmin(t, x_{i+})$  \n",
    "\n",
    "**Оценка** $P$\n",
    "    $P_{est} = \\frac{\\sum_{i=1}^g\\sum_{j=1}^gx_{ij}}{g(g-1)}=\\frac{l}{g(g-1)}$  \n",
    "\n",
    "\n",
    "**Доверительный интервал**:\n",
    "    $P_{lower} \\leqslant P \\leqslant P_{upper}$  \n",
    "    $\\hat{P}_{lower} = \\displaystyle{\\hat{P} - z_{\\alpha/2} \\sqrt\\frac{\\hat{P}(1- \\hat{P})}{g(g-1)}}$  \n",
    "    $\\hat{P}_{lower} = \\displaystyle{\\hat{P} + z_{\\alpha/2} \\sqrt\\frac{\\hat{P}(1- \\hat{P})}{g(g-1)}}$  \n",
    "    Где $z_{\\alpha/2}$ вычисляется из $\\Phi(z_{\\alpha/2}) = 0.5 - 0.5 \\alpha$,  $\\alpha - $ некоторый уровень значимости, $(1 - \\alpha) - $ доверительная надёжность.  \n",
    "\n",
    "**Нулевые гипотезы**\n",
    "    $H_0: L \\sim B(g(g-1), \\frac{1}{2})$  \n",
    "    $z_l = \\frac{l - g(g-1)/2}{\\sqrt{g(g-1)/4}}$  \n",
    "    $H_0 : L \\sim B(g(g-1), P_0)$  \n",
    "    $z_l = \\frac{l - g(g-1)P_0}{\\sqrt{g(g-1)P_0(1-P_0)}}$  "
   ]
  },
  {
   "cell_type": "markdown",
   "metadata": {},
   "source": [
    "## Постановка задачи\n",
    "С помощью математических пакетов и соответствующих библиотек провести статистический анализ случайно смоделированного ориентированного графа. Полученные результаты содержательно проинтерпретировать"
   ]
  },
  {
   "cell_type": "markdown",
   "metadata": {},
   "source": [
    "## Выполнение работы"
   ]
  },
  {
   "cell_type": "code",
   "execution_count": 2,
   "metadata": {
    "vscode": {
     "languageId": "r"
    }
   },
   "outputs": [
    {
     "name": "stderr",
     "output_type": "stream",
     "text": [
      "Warning message:\n",
      "\"пакет 'igraph' был собран под R версии 4.2.2\"\n",
      "\n",
      "Присоединяю пакет: 'igraph'\n",
      "\n",
      "\n",
      "Следующие объекты скрыты от 'package:stats':\n",
      "\n",
      "    decompose, spectrum\n",
      "\n",
      "\n",
      "Следующий объект скрыт от 'package:base':\n",
      "\n",
      "    union\n",
      "\n",
      "\n"
     ]
    }
   ],
   "source": [
    "library(igraph)"
   ]
  },
  {
   "cell_type": "markdown",
   "metadata": {},
   "source": [
    "### Пункт 1.\n",
    "С помощью библиотеки igraph смоделировать случайный орграф\n",
    "G𝑑 на основе модели Эрдеша—Реньи: G𝑑 = G (𝑔, 𝑝), где 𝑔 – количество акторов, 𝑝 – вероятность появления дуги между акторами. В R\n",
    "для модели случайного графа Эрдеша—Реньи существует функция\n",
    "erdos.renyi.game(). "
   ]
  },
  {
   "cell_type": "markdown",
   "metadata": {},
   "source": [
    "В соответствии с вариантом: \n",
    "* g = 61\n",
    "* p = 0.56\n",
    "\n",
    "**Модель Эрдёша-Реньи** — модель генерации случайных графов, в которой все графы с фиксированным набором вершин и фиксированным набором рёбер одинаково вероятны. \n",
    "Существует два тесно связанных варианта модели: \n",
    "* биномиальная \n",
    "* равномерная\n",
    "\n",
    "**Функция erdos.renyi.game(g, p):**\n",
    "*все возможные ребра создаются с одинаковой постоянной вероятностью*\n",
    "\n",
    "* n - количество вершин в графе.\n",
    "* p - вероятность рисования ребра между двумя произвольными вершинами.\n"
   ]
  },
  {
   "cell_type": "code",
   "execution_count": 3,
   "metadata": {
    "vscode": {
     "languageId": "r"
    }
   },
   "outputs": [],
   "source": [
    "g <- 61\n",
    "p <- 0.56\n",
    "graph <- erdos.renyi.game(g, p)"
   ]
  },
  {
   "cell_type": "markdown",
   "metadata": {},
   "source": [
    "### Пункт 2\n",
    "Отобразить полученный орграф."
   ]
  },
  {
   "cell_type": "code",
   "execution_count": 4,
   "metadata": {
    "vscode": {
     "languageId": "r"
    }
   },
   "outputs": [
    {
     "data": {
      "image/png": "[encoded data removed]",
      "text/plain": [
       "Plot with title \"\""
      ]
     },
     "metadata": {
      "image/png": {
       "height": 420,
       "width": 420
      }
     },
     "output_type": "display_data"
    }
   ],
   "source": [
    "plot(graph)"
   ]
  },
  {
   "cell_type": "markdown",
   "metadata": {},
   "source": [
    "### Пункт 3\n",
    "Вычислить «пятичисловую сводку» для графа $\\zeta$ 𝑑."
   ]
  },
  {
   "cell_type": "markdown",
   "metadata": {},
   "source": [
    "* Размер сети"
   ]
  },
  {
   "cell_type": "code",
   "execution_count": 5,
   "metadata": {
    "vscode": {
     "languageId": "r"
    }
   },
   "outputs": [
    {
     "data": {
      "text/html": [
       "61"
      ],
      "text/latex": [
       "61"
      ],
      "text/markdown": [
       "61"
      ],
      "text/plain": [
       "[1] 61"
      ]
     },
     "metadata": {},
     "output_type": "display_data"
    }
   ],
   "source": [
    "gorder(graph) "
   ]
  },
  {
   "cell_type": "markdown",
   "metadata": {},
   "source": [
    "* Плотность сети"
   ]
  },
  {
   "cell_type": "code",
   "execution_count": 6,
   "metadata": {
    "vscode": {
     "languageId": "r"
    }
   },
   "outputs": [
    {
     "data": {
      "text/html": [
       "0.554098360655738"
      ],
      "text/latex": [
       "0.554098360655738"
      ],
      "text/markdown": [
       "0.554098360655738"
      ],
      "text/plain": [
       "[1] 0.5540984"
      ]
     },
     "metadata": {},
     "output_type": "display_data"
    }
   ],
   "source": [
    "edge_density(graph)"
   ]
  },
  {
   "cell_type": "markdown",
   "metadata": {},
   "source": [
    "* Число компонент"
   ]
  },
  {
   "cell_type": "code",
   "execution_count": 7,
   "metadata": {
    "vscode": {
     "languageId": "r"
    }
   },
   "outputs": [
    {
     "data": {
      "text/html": [
       "1"
      ],
      "text/latex": [
       "1"
      ],
      "text/markdown": [
       "1"
      ],
      "text/plain": [
       "[1] 1"
      ]
     },
     "metadata": {},
     "output_type": "display_data"
    }
   ],
   "source": [
    "count_components(graph, mode='weak')"
   ]
  },
  {
   "cell_type": "markdown",
   "metadata": {},
   "source": [
    "* Диаметр сети"
   ]
  },
  {
   "cell_type": "code",
   "execution_count": 8,
   "metadata": {
    "vscode": {
     "languageId": "r"
    }
   },
   "outputs": [
    {
     "data": {
      "text/html": [
       "2"
      ],
      "text/latex": [
       "2"
      ],
      "text/markdown": [
       "2"
      ],
      "text/plain": [
       "[1] 2"
      ]
     },
     "metadata": {},
     "output_type": "display_data"
    }
   ],
   "source": [
    "diameter(graph, directed=FALSE)"
   ]
  },
  {
   "cell_type": "markdown",
   "metadata": {},
   "source": [
    "* Коэффициент кластеризации"
   ]
  },
  {
   "cell_type": "code",
   "execution_count": 9,
   "metadata": {
    "vscode": {
     "languageId": "r"
    }
   },
   "outputs": [
    {
     "data": {
      "text/html": [
       "0.551652331371661"
      ],
      "text/latex": [
       "0.551652331371661"
      ],
      "text/markdown": [
       "0.551652331371661"
      ],
      "text/plain": [
       "[1] 0.5516523"
      ]
     },
     "metadata": {},
     "output_type": "display_data"
    }
   ],
   "source": [
    "transitivity(graph)"
   ]
  },
  {
   "cell_type": "markdown",
   "metadata": {},
   "source": [
    "### Пункт 4\n",
    "Вычислить цензус диад. Сделать выводы."
   ]
  },
  {
   "cell_type": "markdown",
   "metadata": {},
   "source": [
    "Вывод функции dyad_census(graph):\n",
    "* mut - количество пар со взаимными связями.\n",
    "* asym - количество пар с невзаимными связями.\n",
    "* null - количество пар без связи между ними."
   ]
  },
  {
   "cell_type": "code",
   "execution_count": 10,
   "metadata": {
    "vscode": {
     "languageId": "r"
    }
   },
   "outputs": [
    {
     "data": {
      "text/html": [
       "<dl>\n",
       "\t<dt>$mut</dt>\n",
       "\t\t<dd>1014</dd>\n",
       "\t<dt>$asym</dt>\n",
       "\t\t<dd>0</dd>\n",
       "\t<dt>$null</dt>\n",
       "\t\t<dd>816</dd>\n",
       "</dl>\n"
      ],
      "text/latex": [
       "\\begin{description}\n",
       "\\item[\\$mut] 1014\n",
       "\\item[\\$asym] 0\n",
       "\\item[\\$null] 816\n",
       "\\end{description}\n"
      ],
      "text/markdown": [
       "$mut\n",
       ":   1014\n",
       "$asym\n",
       ":   0\n",
       "$null\n",
       ":   816\n",
       "\n",
       "\n"
      ],
      "text/plain": [
       "$mut\n",
       "[1] 1014\n",
       "\n",
       "$asym\n",
       "[1] 0\n",
       "\n",
       "$null\n",
       "[1] 816\n"
      ]
     },
     "metadata": {},
     "output_type": "display_data"
    }
   ],
   "source": [
    "dyad.census(graph)"
   ]
  },
  {
   "cell_type": "markdown",
   "metadata": {},
   "source": [
    "**Вывод**: \n",
    "* количество пар со взаимными связями - 1014\n",
    "* количество пар с невзаимными связями - 0\n",
    "* количество пар без связи между ними - 816\n",
    "\n",
    "Граф не является полным, т.к. есть пары вершин без связи между ними. Граф неориентированный, в силу отсутствия пар с невзаимными связями."
   ]
  },
  {
   "cell_type": "markdown",
   "metadata": {},
   "source": [
    "### Пункт 5.\n",
    "Вычислить оценку индекса взаимности Каца—Пауэла при фиксированом выборе акторов 𝑑 и при свободном выборе. Сделать выводы."
   ]
  },
  {
   "cell_type": "markdown",
   "metadata": {},
   "source": [
    "Пусть, $d$ = 25, выбор делается из $(g - 1)$ = 60 акторов.\n"
   ]
  },
  {
   "cell_type": "code",
   "execution_count": 24,
   "metadata": {
    "vscode": {
     "languageId": "r"
    }
   },
   "outputs": [
    {
     "data": {
      "text/html": [
       "2.09724531240136"
      ],
      "text/latex": [
       "2.09724531240136"
      ],
      "text/markdown": [
       "2.09724531240136"
      ],
      "text/plain": [
       "[1] 2.097245"
      ]
     },
     "metadata": {},
     "output_type": "display_data"
    },
    {
     "data": {
      "text/html": [
       "1"
      ],
      "text/latex": [
       "1"
      ],
      "text/markdown": [
       "1"
      ],
      "text/plain": [
       "[1] 1"
      ]
     },
     "metadata": {},
     "output_type": "display_data"
    }
   ],
   "source": [
    "# Для фиксированного выбора из d акторов\n",
    "d <- 19\n",
    "g <- 61\n",
    "M <- dyad.census(graph)$mut\n",
    "p_fix <- (2*(g-1)*M - g * d^2)/(g*d*(g - 1 - d))\n",
    "p_fix\n",
    "# Оценка при свободном выборе (по методу моментов оценка)\n",
    "graph_matrix <- as.matrix(as_adjacency_matrix(graph))\n",
    "L <- sum(rowSums(graph_matrix))\n",
    "L_2 <- sum(rowSums(graph_matrix)^2)\n",
    "p_free <- (2*(g - 1)^2 * M - L^2 + L_2)/(L*(g - 1)^2 - L^2 + L_2)\n",
    "p_free"
   ]
  },
  {
   "cell_type": "markdown",
   "metadata": {},
   "source": [
    "**Вывод**: при фикисрованном выборе акторы создают взаимных связей больше, чем при свободном."
   ]
  },
  {
   "cell_type": "markdown",
   "metadata": {},
   "source": [
    "### Пункт 6.\n",
    "Вычислить вероятность того, что связь будет взаимной для каждого случая."
   ]
  },
  {
   "cell_type": "code",
   "execution_count": 68,
   "metadata": {
    "vscode": {
     "languageId": "r"
    }
   },
   "outputs": [
    {
     "data": {
      "text/html": [
       "0.554098360655738"
      ],
      "text/latex": [
       "0.554098360655738"
      ],
      "text/markdown": [
       "0.554098360655738"
      ],
      "text/plain": [
       "[1] 0.5540984"
      ]
     },
     "metadata": {},
     "output_type": "display_data"
    },
    {
     "data": {
      "text/html": [
       "0.311010928961749"
      ],
      "text/latex": [
       "0.311010928961749"
      ],
      "text/markdown": [
       "0.311010928961749"
      ],
      "text/plain": [
       "[1] 0.3110109"
      ]
     },
     "metadata": {},
     "output_type": "display_data"
    }
   ],
   "source": [
    "# Фиксированный выбор\n",
    "p_mut_fix <- (d/(g-1)) * ((d/(g-1)) + p_fix*(g - 1 - d)/(g - 1))\n",
    "p_mut_fix\n",
    "\n",
    "# Свободный выбор\n",
    "p_mut_free <- (rowSums(graph_matrix)*colSums(graph_matrix))/(g - 1)^2\n",
    "p_mut_free <- sum(p_mut_free)/g\n",
    "p_mut_free"
   ]
  },
  {
   "cell_type": "markdown",
   "metadata": {},
   "source": [
    "### Пункт 7.\n",
    "Вычислить индекс взаимности Бандиопадхьяйя. Сделать выводы."
   ]
  },
  {
   "cell_type": "code",
   "execution_count": 83,
   "metadata": {
    "vscode": {
     "languageId": "r"
    }
   },
   "outputs": [
    {
     "data": {
      "text/html": [
       "1.0019801980198"
      ],
      "text/latex": [
       "1.0019801980198"
      ],
      "text/markdown": [
       "1.0019801980198"
      ],
      "text/plain": [
       "[1] 1.00198"
      ]
     },
     "metadata": {},
     "output_type": "display_data"
    }
   ],
   "source": [
    "str_sum <- rowSums(graph_matrix)\n",
    "g <- 61\n",
    "\n",
    "\n",
    "\n",
    "g_func <- function(str_sum, g, t) {\n",
    "    g_sum <- sum(row_sum[1:t])\n",
    "    min_g <- 0   \n",
    "    for (i in (t+1):g) {\n",
    "        min_g <- min_g + min(c(t, str_sum[i]))\n",
    "    }\n",
    "    g_step <- g_sum - t*(t-1) - min_g\n",
    "    g_step\n",
    "}\n",
    "\n",
    "f_func <- function(str_sum, g, t) {\n",
    "    g_sum <- sum(row_sum[1:t])\n",
    "    C_g_2 <- factorial(t)/(factorial(2) * factorial(t-2))\n",
    "    f_step <- g_sum - t*(g-1) - C_g_2 \n",
    "    f_step\n",
    "}\n",
    "\n",
    "g_t <- rep(2, g - 1)\n",
    "for (t in 2:(g-1)) {\n",
    "    g_t[t] <- g_func(row_sum, g, t)\n",
    "}\n",
    "\n",
    "f_t <- rep(2, g)\n",
    "for (t in 2:g) {\n",
    "    f_t[t] <- f_func(row_sum, g, t)\n",
    "}\n",
    "\n",
    "\n",
    "M_max <- floor(0.5 * sum(str_sum[1:g]) - max(g_res))\n",
    "\n",
    "M_min <- max(f_res)\n",
    "\n",
    "p_b <- (M - M_min)/(M_max - M_min)\n",
    "p_b"
   ]
  },
  {
   "cell_type": "markdown",
   "metadata": {},
   "source": [
    "**Вывод:** согласно полученному значению индекса акторы довольно склонны образовывать взаимные связи."
   ]
  },
  {
   "cell_type": "markdown",
   "metadata": {},
   "source": [
    "### Пункт 8.\n",
    "Проверить нулевую гипотезу о том, что число дуг 𝐿 в орграфе\n",
    "G𝑑 имеет биномиальное распределение 𝐿 ∼ Bin(𝑔(𝑔 − 1), 1/2) при\n",
    "уровне значимости 𝛼 = 0.01. Определить максимальный уровень значимости при котором нулевая гипотеза не отвергается."
   ]
  },
  {
   "cell_type": "code",
   "execution_count": 61,
   "metadata": {
    "scrolled": true,
    "vscode": {
     "languageId": "r"
    }
   },
   "outputs": [
    {
     "name": "stdout",
     "output_type": "stream",
     "text": [
      "Статистика критерия:  6.545678 \n",
      "Максимальный уровень значимости:  1.480649e-11 \n",
      "FALSE \n"
     ]
    }
   ],
   "source": [
    "a <- 0.01\n",
    "sum_graph <- sum(graph_matrix)\n",
    "stat <- (sum_graph - g * (g - 1) / 2) / (g * (g - 1) / 4) ** (1 / 2)\n",
    "p_value <- 0.5 - 0.5*pnorm(stat)\n",
    "cat(\"Статистика критерия: \", stat,\"\\n\")\n",
    "cat(\"Максимальный уровень значимости: \", p_value,\"\\n\")\n",
    "cat(p_value >= a/2,\"\\n\")\n",
    "#p <- 1/2\n",
    "#binom.test(sum_graph, g*(g-1), p)\n"
   ]
  },
  {
   "cell_type": "markdown",
   "metadata": {},
   "source": [
    "**Вывод**:Максимальный уровень значимости, при котором гипотеза не отвергается - p-value:\n",
    "1.480649e-11.\n",
    "p-value меньше $a$, следовательно, нулевая гипотеза не выполняется и вероятность построения ребра между любыми двумя акторами не равна 1/2."
   ]
  },
  {
   "cell_type": "markdown",
   "metadata": {},
   "source": [
    "### Пункт 9.\n",
    "Проверить нулевую гипотезу о том, что число дуг 𝐿 в орграфе G𝑑\n",
    "имеет биномиальное распределение 𝐿 ∼ Bin(𝑔(𝑔−1), 𝑃0) при уровне\n",
    "значимости 𝛼. Определить максимальный уровень значимости при\n",
    "котором нулевая гипотеза не отвергается.\n",
    "P0 = 0.66"
   ]
  },
  {
   "cell_type": "code",
   "execution_count": 57,
   "metadata": {
    "vscode": {
     "languageId": "r"
    }
   },
   "outputs": [
    {
     "data": {
      "text/plain": [
       "\n",
       "\tExact binomial test\n",
       "\n",
       "data:  sum_graph and g * (g - 1)\n",
       "number of successes = 2028, number of trials = 3660, p-value < 2.2e-16\n",
       "alternative hypothesis: true probability of success is not equal to 0.66\n",
       "95 percent confidence interval:\n",
       " 0.5378204 0.5702898\n",
       "sample estimates:\n",
       "probability of success \n",
       "             0.5540984 \n"
      ]
     },
     "metadata": {},
     "output_type": "display_data"
    },
    {
     "name": "stdout",
     "output_type": "stream",
     "text": [
      "Статистика критерия:  -13.52483 \n",
      "Максимальный уровень значимости:  0.5 \n",
      "TRUE \n"
     ]
    }
   ],
   "source": [
    "P_0 <- 0.66\n",
    "stat <- (sum(graph_matrix) - P_0*g * (g - 1)) / (g * (g - 1)*P_0*(1-P_0)) ** (1 / 2)\n",
    "p_value <- 0.5 - 0.5*pnorm(stat)\n",
    "cat(\"Статистика критерия: \", stat ,\"\\n\")\n",
    "cat(\"Максимальный уровень значимости: \", p_value ,\"\\n\") \n",
    "cat( p_value >= a/2,\"\\n\")"
   ]
  },
  {
   "cell_type": "markdown",
   "metadata": {},
   "source": [
    "**Вывод**: Видим, что p-value > $a/2$, значит, нулевая гипотеза выполняется. Максимальный уровень значимости, при котором гиптеза не отвергается: p-value = 0.5"
   ]
  },
  {
   "cell_type": "markdown",
   "metadata": {},
   "source": [
    "### Пункт 10.\n",
    "Построить доверительный интервал для оценки параметра 𝑝 с доверительной надёжностью (1 − 𝛼). Сделать выводы."
   ]
  },
  {
   "cell_type": "code",
   "execution_count": 53,
   "metadata": {
    "vscode": {
     "languageId": "r"
    }
   },
   "outputs": [
    {
     "name": "stdout",
     "output_type": "stream",
     "text": [
      "Оценка параметра p:  0.5540984 \n",
      "Доверительный интервал:"
     ]
    },
    {
     "data": {
      "text/html": [
       "0.532934762633297"
      ],
      "text/latex": [
       "0.532934762633297"
      ],
      "text/markdown": [
       "0.532934762633297"
      ],
      "text/plain": [
       "[1] 0.5329348"
      ]
     },
     "metadata": {},
     "output_type": "display_data"
    },
    {
     "data": {
      "text/html": [
       "0.575261958678179"
      ],
      "text/latex": [
       "0.575261958678179"
      ],
      "text/markdown": [
       "0.575261958678179"
      ],
      "text/plain": [
       "[1] 0.575262"
      ]
     },
     "metadata": {},
     "output_type": "display_data"
    }
   ],
   "source": [
    "# Оценим параметр p \n",
    "param <- sum(graph_matrix)/(g*(g-1))\n",
    "cat(\"Оценка параметра p: \", param, \"\\n\")\n",
    "za_2 <- abs(qnorm(a/2))\n",
    "# Доверительный интервал\n",
    "p_l <- param - za_2 * sqrt((param * (1 - param))/(g * (g - 1)))\n",
    "p_u <- param + za_2 * sqrt((param * (1 - param))/(g * (g - 1)))\n",
    "cat(\"Доверительный интервал:\")\n",
    "p_l\n",
    "p_u"
   ]
  },
  {
   "cell_type": "markdown",
   "metadata": {},
   "source": [
    "**Вывод**: Полученный доверительный интервал равен 0.53 $<= p <=$ 0.58. Так как исходное $p$ = 0.55, то следует вывод, что данный доверительный интервал высчитан верно с доверительной надежностью (1 - 0.02)."
   ]
  },
  {
   "cell_type": "markdown",
   "metadata": {},
   "source": [
    "## Выводы\n",
    "С использованием библиотеки 'igraph' в ходе работы была сгенерирована случайная сеть с помощью Модели Эрдёша-Реньи, и затем к ней были применены методы статисистического анализа. В ходе работы использовались лишь основы статистического анализа, однако их можно использовать для реальных данных, и на его основании делать выводы о процессах, происходящих в исследуемых данныхсмоделированного случайным образом ориентированного графа. Произведена проверка на верность вычисленных значений, большинство из которых сходится с данным в условии значением. Все данные, полученные в ходе анализа указаны в промежуточных выводах."
   ]
  },
  {
   "cell_type": "code",
   "execution_count": null,
   "metadata": {},
   "outputs": [],
   "source": []
  }
 ],
 "metadata": {
  "kernelspec": {
   "display_name": "R",
   "language": "R",
   "name": "ir"
  },
  "language_info": {
   "codemirror_mode": "r",
   "file_extension": ".r",
   "mimetype": "text/x-r-source",
   "name": "R",
   "pygments_lexer": "r",
   "version": "4.2.1"
  }
 },
 "nbformat": 4,
 "nbformat_minor": 4
}
