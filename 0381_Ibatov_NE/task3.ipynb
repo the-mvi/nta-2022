{
 "cells": [
  {
   "cell_type": "markdown",
   "metadata": {},
   "source": [
    "# Практическая работа №0: Статистический анализ социальных сетей.\n",
    "Выполнил студент гр. 0381 Ибатов Николай. Вариант №5"
   ]
  },
  {
   "cell_type": "markdown",
   "metadata": {},
   "source": [
    "## Цель работы\n",
    "Овладеть навыками работы с математическими пакетами для статистического анализа социальных сетей."
   ]
  },
  {
   "cell_type": "markdown",
   "metadata": {},
   "source": [
    "## Основные теоретические положения\n",
    "\n",
    "**Диада** - элемент сети, представляющий собой пару акторов и (возможную) связь между ними:\n",
    "$${D_{ij} = (X_{ij},X_{ji}), i \\neq j}$$\n",
    "\n",
    "**Цензус диад** $-$ тройка чисел $M A N$ где:\n",
    "$${M = \\sum_{i<j} X_{ij} X_{ji}}$$\n",
    "$${A = X_{++} - 2M}$$\n",
    "$${N = C^2_g - A - M}$$\n",
    "    \n",
    "   **Индекс взаимности Каца-Пауэлла** (Reciprocity of Katz and Powell) $-$ характеристика измерения тенденции акторов в группе. Данный индекс оценивает тенденцию акторов в группе к взаимному выбору друг друга. \n",
    "   \n",
    "$$-\\infty < \\rho_{кр} \\leqslant 1$$.\n",
    "\n",
    "* Если $\\rho_{кр} = 0$ то акторы не имеют склонности взаимно выбирать друг друга.\n",
    "\n",
    "* Если $\\rho_{кр} = 1$ то акторы показывают максимальную тенденцию к взаимному выбору друг друга.\n",
    "\n",
    "* Если $\\rho_{кр} < 0$ то акторы склонны образовывать односторонние связи или не образовывать их вообще.\n",
    "\n",
    "Индекс взаимности основан на ожидании количества взаимных диад предполагая что выбор делается акторами случайным образом. Выбор может быть фиксированным или свободным.\n",
    "\n",
    "*Для фиксированного выбора из $d$ акторов:*\n",
    "\n",
    "* По методу моментов оценка \n",
    "$$\\hat{\\rho}_{кр} = \\displaystyle{\\frac{2(g-1)M - gd^2}{gd(g - d - 1)}}$$.\n",
    "\n",
    "* Вероятность того что связь будет взаимной для двух акторов:\n",
    "\n",
    "$$\\displaystyle{P(i \\rightarrow j \\wedge j \\rightarrow i) = \\frac{d}{g - 1}\\left( \\frac{d}{g - 1} + \\rho_{кр} \\frac{g - 1 - d}{g - 1} \\right)}.$$\n",
    "\n",
    "*Для свободного выбора:*\n",
    "\n",
    "* По методу моментов оценка \n",
    "$$\\hat{\\rho}_{кр} = \\displaystyle{\\frac{2(g-1)^2M - L^2 + L_2}{L(g - 1)^2 - L^2 - L_2}}$$.\n",
    "\n",
    "* Вероятность того что связь будет взаимной для двух акторов (для каждого из акторов):\n",
    "\n",
    "$$P = \\displaystyle{\\frac{x_{i+}x_{j+}}{(g - 1)^2}}.$$\n",
    "\n",
    "**Индекс взаимности Бандиопадхьяйя** $-$ индекс основанный на максимальной и минимальной значениях количества диад в сети. \n",
    "\n",
    "$$\\rho_B = \\displaystyle{\\frac{M - M_{\\min}}{M_{\\max} - M_{\\min}}}$$\n",
    "\n",
    "где $$M_{\\min} = \\max f(t) 0 \\leqslant t \\leqslant g$$\n",
    "\n",
    "$$M_{\\max} = \\lfloor 0.5 \\sum^g_{i = 1} x_{i+} - \\max g(t)\\rfloor 0 \\leqslant t \\leqslant g$$\n",
    "\n",
    "$$f(t) = \\sum^t_{i=1} x_{i+} - t(g - 1) - C^2_g$$\n",
    "\n",
    "$$g(t) = \\sum^t_{i=1} x_{i+} - t(t - 1) - \\sum^g_{i=t+1} \\\\min (t x_{i+}).$$\n",
    "\n",
    "**Вычисление доверительного интервала для оценки P.**\n",
    "\n",
    "Оценка параметра $P$:\n",
    "\n",
    "$$\\hat{P} = \\displaystyle{\\frac{\\sum_{i = 1}^g \\sum_{j = 1}^g x_{ij}}{g(g-1)} = \\frac{l}{g(g - 1)}}.$$\n",
    "\n",
    "Доверительный интервал: \n",
    "$$\\hat{P}_{lower} \\leqslant P \\leqslant \\hat{P}_{upper}$$.\n",
    "\n",
    "$$\\hat{P}_{lower} = \\displaystyle{\\hat{P} - z_{\\alpha/2} \\sqrt\\frac{\\hat{P}(1- \\hat{P})}{g(g-1)}}$$\n",
    "\n",
    "$$\\hat{P}_{lower} = \\displaystyle{\\hat{P} + z_{\\alpha/2} \\sqrt\\frac{\\hat{P}(1- \\hat{P})}{g(g-1)}}$$\n",
    "\n",
    "$z_{\\alpha/2}$ вычисляется из $\\Phi(z_{\\alpha/2}) = 0.5 - 0.5 \\alpha$ где $\\alpha - $ некоторый уровень значимости $(1 - \\alpha) - $ доверительная надёжность."
   ]
  },
  {
   "cell_type": "markdown",
   "metadata": {},
   "source": [
    "## Постановка задачи\n",
    "С помощью математических пакетов и соответствующих библиотек провести статистический анализ случайно смоделированного ориентированного графа. Полученные результаты содержательно проинтерпретировать."
   ]
  },
  {
   "cell_type": "markdown",
   "metadata": {},
   "source": [
    "## Выполнение работы"
   ]
  },
  {
   "cell_type": "code",
   "execution_count": 28,
   "metadata": {},
   "outputs": [
    {
     "name": "stderr",
     "output_type": "stream",
     "text": [
      "Warning message:\n",
      "\"пакет ''statnet'' сейчас используется и не будет установлен\"\n"
     ]
    }
   ],
   "source": [
    "library(igraph)"
   ]
  },
  {
   "cell_type": "markdown",
   "metadata": {},
   "source": [
    "**1.** С помощью библиотеки igraph смоделировать случайный орграф $\\cal G_𝑑$ на основе модели Эрдеша—Реньи: $\\cal G_𝑑$ = $\\cal G$ (𝑔, 𝑝), где 𝑔 –количество акторов, 𝑝 – вероятность появления дуги между акторами. В R для модели случайного графа Эрдеша—Реньи существует функция erdos.renyi.game(). Ознакомьтесь с данной моделью и опишите её."
   ]
  },
  {
   "cell_type": "code",
   "execution_count": 33,
   "metadata": {},
   "outputs": [
    {
     "data": {
      "text/plain": [
       "IGRAPH abb601e D--- 78 3725 -- Erdos-Renyi (gnp) graph\n",
       "+ attr: name (g/c), type (g/c), loops (g/l), p (g/n)\n",
       "+ edges from abb601e:\n",
       " [1]  1->78  2-> 1  4-> 1  5-> 1  7-> 1 10-> 1 11-> 1 13-> 1 14-> 1 15-> 1\n",
       "[11] 18-> 1 19-> 1 21-> 1 23-> 1 26-> 1 27-> 1 28-> 1 30-> 1 32-> 1 33-> 1\n",
       "[21] 34-> 1 36-> 1 37-> 1 38-> 1 39-> 1 42-> 1 43-> 1 44-> 1 48-> 1 49-> 1\n",
       "[31] 50-> 1 53-> 1 54-> 1 55-> 1 56-> 1 57-> 1 58-> 1 59-> 1 60-> 1 62-> 1\n",
       "[41] 63-> 1 64-> 1 67-> 1 68-> 1 69-> 1 70-> 1 71-> 1 72-> 1 74-> 1 75-> 1\n",
       "[51] 76-> 1 77-> 1 78-> 1  2->78  3-> 2  4-> 2  7-> 2  8-> 2 10-> 2 11-> 2\n",
       "[61] 12-> 2 14-> 2 15-> 2 16-> 2 18-> 2 20-> 2 21-> 2 22-> 2 23-> 2 25-> 2\n",
       "[71] 27-> 2 30-> 2 31-> 2 33-> 2 34-> 2 35-> 2 38-> 2 40-> 2 41-> 2 43-> 2\n",
       "+ ... omitted several edges"
      ]
     },
     "metadata": {},
     "output_type": "display_data"
    }
   ],
   "source": [
    "g <- 78\n",
    "p <- 0.63\n",
    "graph <- erdos.renyi.game(g,p, \"gnp\",directed=TRUE)\n",
    "graph"
   ]
  },
  {
   "cell_type": "markdown",
   "metadata": {},
   "source": [
    "**2.** Отобразить полученный орграф"
   ]
  },
  {
   "cell_type": "code",
   "execution_count": 34,
   "metadata": {},
   "outputs": [
    {
     "data": {
      "image/png": "[encoded data removed]",
      "text/plain": [
       "Plot with title \"\""
      ]
     },
     "metadata": {
      "image/png": {
       "height": 420,
       "width": 420
      }
     },
     "output_type": "display_data"
    }
   ],
   "source": [
    "plot(graph, layout=layout.fruchterman.reingold)"
   ]
  },
  {
   "cell_type": "markdown",
   "metadata": {},
   "source": [
    "**3.** Вычислить «пятичисловую сводку» для графа $\\cal G_𝑑$."
   ]
  },
  {
   "cell_type": "code",
   "execution_count": 35,
   "metadata": {},
   "outputs": [
    {
     "name": "stdout",
     "output_type": "stream",
     "text": [
      "Размер сети:  78 \n",
      "Плотность сети:  0.6308691 \n",
      "Число компонент:  1 \n",
      "Диаметр сети:  2 \n",
      "Коэффициент кластеризации:  0.630142 \n"
     ]
    }
   ],
   "source": [
    "cat(\"Размер сети: \", network.size(net), \"\\n\")\n",
    "cat(\"Плотность сети: \", gden(net), \"\\n\")\n",
    "cat(\"Число компонент: \", components(net), \"\\n\")\n",
    "cat(\"Диаметр сети: \", diameter(graph), \"\\n\")\n",
    "cat(\"Коэффициент кластеризации: \", gtrans(net, mode = \"graph\"), \"\\n\")"
   ]
  },
  {
   "cell_type": "markdown",
   "metadata": {},
   "source": [
    "**4.** Вычислить цензус диад. Сделать выводы."
   ]
  },
  {
   "cell_type": "code",
   "execution_count": 36,
   "metadata": {},
   "outputs": [
    {
     "data": {
      "text/html": [
       "<dl>\n",
       "\t<dt>$mut</dt>\n",
       "\t\t<dd>1161</dd>\n",
       "\t<dt>$asym</dt>\n",
       "\t\t<dd>1403</dd>\n",
       "\t<dt>$null</dt>\n",
       "\t\t<dd>439</dd>\n",
       "</dl>\n"
      ],
      "text/latex": [
       "\\begin{description}\n",
       "\\item[\\$mut] 1161\n",
       "\\item[\\$asym] 1403\n",
       "\\item[\\$null] 439\n",
       "\\end{description}\n"
      ],
      "text/markdown": [
       "$mut\n",
       ":   1161\n",
       "$asym\n",
       ":   1403\n",
       "$null\n",
       ":   439\n",
       "\n",
       "\n"
      ],
      "text/plain": [
       "$mut\n",
       "[1] 1161\n",
       "\n",
       "$asym\n",
       "[1] 1403\n",
       "\n",
       "$null\n",
       "[1] 439\n"
      ]
     },
     "metadata": {},
     "output_type": "display_data"
    }
   ],
   "source": [
    "cen <- dyad_census(graph)\n",
    "cen"
   ]
  },
  {
   "cell_type": "markdown",
   "metadata": {},
   "source": [
    "*Вывод:*\n",
    "\n",
    "* Число взаимных диад (mut) = 1161\n",
    "* Число ассиметричных (asym) = 1403 \n",
    "* Число нулевых (null) = 439\n"
   ]
  },
  {
   "cell_type": "markdown",
   "metadata": {},
   "source": [
    "**5**. Вычислить оценку индекса взаимности Каца—Пауэла при фиксированом выборе акторов 𝑑 и при свободном выборе. Сделать выводы."
   ]
  },
  {
   "cell_type": "code",
   "execution_count": 40,
   "metadata": {},
   "outputs": [
    {
     "data": {
      "text/html": [
       "0.726007326007326"
      ],
      "text/latex": [
       "0.726007326007326"
      ],
      "text/markdown": [
       "0.726007326007326"
      ],
      "text/plain": [
       "[1] 0.7260073"
      ]
     },
     "metadata": {},
     "output_type": "display_data"
    },
    {
     "data": {
      "text/html": [
       "0.00843848963051092"
      ],
      "text/latex": [
       "0.00843848963051092"
      ],
      "text/markdown": [
       "0.00843848963051092"
      ],
      "text/plain": [
       "[1] 0.00843849"
      ]
     },
     "metadata": {},
     "output_type": "display_data"
    }
   ],
   "source": [
    "# Пусть d = 35 ; (g-1) = 77\n",
    "d <- 35\n",
    "m <-cen$mut\n",
    "rho1 <- (2*(g-1)*m - g * d^2)/(g*d*(g - 1 - d))\n",
    "rho1\n",
    "\n",
    "#свободный\n",
    "matrix <- as.matrix(as_adjacency_matrix(graph))\n",
    "L <- sum(rowSums(matrix))\n",
    "L2 <- sum(rowSums(matrix)^2)\n",
    "\n",
    "rho2 <- (2*(g - 1)^2 * cen$mut - L^2 + L2)/(L*(g - 1)^2 - L^2 + L2)\n",
    "rho2"
   ]
  },
  {
   "cell_type": "markdown",
   "metadata": {},
   "source": [
    "Вывод: при фиксированном выборе, акторы больше образуют взаимные связи, так когда при свободном они образуют одностороннии или не образуют вообще."
   ]
  },
  {
   "cell_type": "markdown",
   "metadata": {},
   "source": [
    "**6.** Вычислить вероятность того, что связь будет взаимной для каждого случая."
   ]
  },
  {
   "cell_type": "code",
   "execution_count": 42,
   "metadata": {},
   "outputs": [
    {
     "data": {
      "text/html": [
       "0.386613386613387"
      ],
      "text/latex": [
       "0.386613386613387"
      ],
      "text/markdown": [
       "0.386613386613387"
      ],
      "text/plain": [
       "[1] 0.3866134"
      ]
     },
     "metadata": {},
     "output_type": "display_data"
    },
    {
     "data": {
      "text/html": [
       "<style>\n",
       ".list-inline {list-style: none; margin:0; padding: 0}\n",
       ".list-inline>li {display: inline-block}\n",
       ".list-inline>li:not(:last-child)::after {content: \"\\00b7\"; padding: 0 .5ex}\n",
       "</style>\n",
       "<ol class=list-inline><li>0.438522516444594</li><li>0.372406813965256</li><li>0.41119919041997</li><li>0.455894754596053</li><li>0.454545454545455</li><li>0.387080452015517</li><li>0.382526564344746</li><li>0.364311013661663</li><li>0.338842975206612</li><li>0.395682239838084</li><li>0.438691178950919</li><li>0.461460617304773</li><li>0.347107438016529</li><li>0.363636363636364</li><li>0.395682239838084</li><li>0.333951762523191</li><li>0.364311013661663</li><li>0.3238320121437</li><li>0.319109461966605</li><li>0.380165289256198</li><li>0.371900826446281</li><li>0.328891887333446</li><li>0.437173216393996</li><li>0.35621521335807</li><li>0.421487603305785</li><li>0.437173216393996</li><li>0.372406813965256</li><li>0.307640411536515</li><li>0.337325012649688</li><li>0.333614437510541</li><li>0.380165289256198</li><li>0.430089391128352</li><li>0.46483386743127</li><li>0.387080452015517</li><li>0.380165289256198</li><li>0.384381851914319</li><li>0.430089391128352</li><li>0.435992578849722</li><li>0.49165120593692</li><li>0.340023612750885</li><li>0.311856974194637</li><li>0.338842975206612</li><li>0.499915668746838</li><li>0.372406813965256</li><li>0.348794063079777</li><li>0.37257547647158</li><li>0.375442739079103</li><li>0.387923764547141</li><li>0.428065441052454</li><li>0.40495867768595</li><li>0.371057513914657</li><li>0.338842975206612</li><li>0.318097486928656</li><li>0.37257547647158</li><li>0.361275088547816</li><li>0.420138303255186</li><li>0.371057513914657</li><li>0.349131388092427</li><li>0.368358913813459</li><li>0.379490639230899</li><li>0.348794063079777</li><li>0.34086692528251</li><li>0.413223140495868</li><li>0.388429752066116</li><li>0.437173216393996</li><li>0.456063417102378</li><li>0.269185360094451</li><li>0.420981615786811</li><li>0.394670264800135</li><li>0.463821892393321</li><li>0.355371900826446</li><li>0.404790015179626</li><li>0.356721200877045</li><li>0.2973519986507</li><li>0.428065441052454</li><li>0.364648338674313</li><li>0.412885815483218</li><li>0.41119919041997</li></ol>\n"
      ],
      "text/latex": [
       "\\begin{enumerate*}\n",
       "\\item 0.438522516444594\n",
       "\\item 0.372406813965256\n",
       "\\item 0.41119919041997\n",
       "\\item 0.455894754596053\n",
       "\\item 0.454545454545455\n",
       "\\item 0.387080452015517\n",
       "\\item 0.382526564344746\n",
       "\\item 0.364311013661663\n",
       "\\item 0.338842975206612\n",
       "\\item 0.395682239838084\n",
       "\\item 0.438691178950919\n",
       "\\item 0.461460617304773\n",
       "\\item 0.347107438016529\n",
       "\\item 0.363636363636364\n",
       "\\item 0.395682239838084\n",
       "\\item 0.333951762523191\n",
       "\\item 0.364311013661663\n",
       "\\item 0.3238320121437\n",
       "\\item 0.319109461966605\n",
       "\\item 0.380165289256198\n",
       "\\item 0.371900826446281\n",
       "\\item 0.328891887333446\n",
       "\\item 0.437173216393996\n",
       "\\item 0.35621521335807\n",
       "\\item 0.421487603305785\n",
       "\\item 0.437173216393996\n",
       "\\item 0.372406813965256\n",
       "\\item 0.307640411536515\n",
       "\\item 0.337325012649688\n",
       "\\item 0.333614437510541\n",
       "\\item 0.380165289256198\n",
       "\\item 0.430089391128352\n",
       "\\item 0.46483386743127\n",
       "\\item 0.387080452015517\n",
       "\\item 0.380165289256198\n",
       "\\item 0.384381851914319\n",
       "\\item 0.430089391128352\n",
       "\\item 0.435992578849722\n",
       "\\item 0.49165120593692\n",
       "\\item 0.340023612750885\n",
       "\\item 0.311856974194637\n",
       "\\item 0.338842975206612\n",
       "\\item 0.499915668746838\n",
       "\\item 0.372406813965256\n",
       "\\item 0.348794063079777\n",
       "\\item 0.37257547647158\n",
       "\\item 0.375442739079103\n",
       "\\item 0.387923764547141\n",
       "\\item 0.428065441052454\n",
       "\\item 0.40495867768595\n",
       "\\item 0.371057513914657\n",
       "\\item 0.338842975206612\n",
       "\\item 0.318097486928656\n",
       "\\item 0.37257547647158\n",
       "\\item 0.361275088547816\n",
       "\\item 0.420138303255186\n",
       "\\item 0.371057513914657\n",
       "\\item 0.349131388092427\n",
       "\\item 0.368358913813459\n",
       "\\item 0.379490639230899\n",
       "\\item 0.348794063079777\n",
       "\\item 0.34086692528251\n",
       "\\item 0.413223140495868\n",
       "\\item 0.388429752066116\n",
       "\\item 0.437173216393996\n",
       "\\item 0.456063417102378\n",
       "\\item 0.269185360094451\n",
       "\\item 0.420981615786811\n",
       "\\item 0.394670264800135\n",
       "\\item 0.463821892393321\n",
       "\\item 0.355371900826446\n",
       "\\item 0.404790015179626\n",
       "\\item 0.356721200877045\n",
       "\\item 0.2973519986507\n",
       "\\item 0.428065441052454\n",
       "\\item 0.364648338674313\n",
       "\\item 0.412885815483218\n",
       "\\item 0.41119919041997\n",
       "\\end{enumerate*}\n"
      ],
      "text/markdown": [
       "1. 0.438522516444594\n",
       "2. 0.372406813965256\n",
       "3. 0.41119919041997\n",
       "4. 0.455894754596053\n",
       "5. 0.454545454545455\n",
       "6. 0.387080452015517\n",
       "7. 0.382526564344746\n",
       "8. 0.364311013661663\n",
       "9. 0.338842975206612\n",
       "10. 0.395682239838084\n",
       "11. 0.438691178950919\n",
       "12. 0.461460617304773\n",
       "13. 0.347107438016529\n",
       "14. 0.363636363636364\n",
       "15. 0.395682239838084\n",
       "16. 0.333951762523191\n",
       "17. 0.364311013661663\n",
       "18. 0.3238320121437\n",
       "19. 0.319109461966605\n",
       "20. 0.380165289256198\n",
       "21. 0.371900826446281\n",
       "22. 0.328891887333446\n",
       "23. 0.437173216393996\n",
       "24. 0.35621521335807\n",
       "25. 0.421487603305785\n",
       "26. 0.437173216393996\n",
       "27. 0.372406813965256\n",
       "28. 0.307640411536515\n",
       "29. 0.337325012649688\n",
       "30. 0.333614437510541\n",
       "31. 0.380165289256198\n",
       "32. 0.430089391128352\n",
       "33. 0.46483386743127\n",
       "34. 0.387080452015517\n",
       "35. 0.380165289256198\n",
       "36. 0.384381851914319\n",
       "37. 0.430089391128352\n",
       "38. 0.435992578849722\n",
       "39. 0.49165120593692\n",
       "40. 0.340023612750885\n",
       "41. 0.311856974194637\n",
       "42. 0.338842975206612\n",
       "43. 0.499915668746838\n",
       "44. 0.372406813965256\n",
       "45. 0.348794063079777\n",
       "46. 0.37257547647158\n",
       "47. 0.375442739079103\n",
       "48. 0.387923764547141\n",
       "49. 0.428065441052454\n",
       "50. 0.40495867768595\n",
       "51. 0.371057513914657\n",
       "52. 0.338842975206612\n",
       "53. 0.318097486928656\n",
       "54. 0.37257547647158\n",
       "55. 0.361275088547816\n",
       "56. 0.420138303255186\n",
       "57. 0.371057513914657\n",
       "58. 0.349131388092427\n",
       "59. 0.368358913813459\n",
       "60. 0.379490639230899\n",
       "61. 0.348794063079777\n",
       "62. 0.34086692528251\n",
       "63. 0.413223140495868\n",
       "64. 0.388429752066116\n",
       "65. 0.437173216393996\n",
       "66. 0.456063417102378\n",
       "67. 0.269185360094451\n",
       "68. 0.420981615786811\n",
       "69. 0.394670264800135\n",
       "70. 0.463821892393321\n",
       "71. 0.355371900826446\n",
       "72. 0.404790015179626\n",
       "73. 0.356721200877045\n",
       "74. 0.2973519986507\n",
       "75. 0.428065441052454\n",
       "76. 0.364648338674313\n",
       "77. 0.412885815483218\n",
       "78. 0.41119919041997\n",
       "\n",
       "\n"
      ],
      "text/plain": [
       " [1] 0.4385225 0.3724068 0.4111992 0.4558948 0.4545455 0.3870805 0.3825266\n",
       " [8] 0.3643110 0.3388430 0.3956822 0.4386912 0.4614606 0.3471074 0.3636364\n",
       "[15] 0.3956822 0.3339518 0.3643110 0.3238320 0.3191095 0.3801653 0.3719008\n",
       "[22] 0.3288919 0.4371732 0.3562152 0.4214876 0.4371732 0.3724068 0.3076404\n",
       "[29] 0.3373250 0.3336144 0.3801653 0.4300894 0.4648339 0.3870805 0.3801653\n",
       "[36] 0.3843819 0.4300894 0.4359926 0.4916512 0.3400236 0.3118570 0.3388430\n",
       "[43] 0.4999157 0.3724068 0.3487941 0.3725755 0.3754427 0.3879238 0.4280654\n",
       "[50] 0.4049587 0.3710575 0.3388430 0.3180975 0.3725755 0.3612751 0.4201383\n",
       "[57] 0.3710575 0.3491314 0.3683589 0.3794906 0.3487941 0.3408669 0.4132231\n",
       "[64] 0.3884298 0.4371732 0.4560634 0.2691854 0.4209816 0.3946703 0.4638219\n",
       "[71] 0.3553719 0.4047900 0.3567212 0.2973520 0.4280654 0.3646483 0.4128858\n",
       "[78] 0.4111992"
      ]
     },
     "metadata": {},
     "output_type": "display_data"
    },
    {
     "data": {
      "text/html": [
       "0.384773235422586"
      ],
      "text/latex": [
       "0.384773235422586"
      ],
      "text/markdown": [
       "0.384773235422586"
      ],
      "text/plain": [
       "[1] 0.3847732"
      ]
     },
     "metadata": {},
     "output_type": "display_data"
    }
   ],
   "source": [
    "#фиксированный\n",
    "rkp <- (d / (g-1)) * ((d/(g-1)) + rho*(g - 1 - d) / (g - 1))\n",
    "rkp\n",
    "\n",
    "#свободный\n",
    "rkp_ <- (rowSums(matrix) * colSums(matrix))/(g - 1)^2\n",
    "rkp_\n",
    "\n",
    "rkp_avg <- sum(rkp_)/g\n",
    "rkp_avg"
   ]
  },
  {
   "cell_type": "markdown",
   "metadata": {},
   "source": [
    "**7.** Вычислить индекс взаимности Бандиопадхьяйя. Сделать выводы."
   ]
  },
  {
   "cell_type": "code",
   "execution_count": 44,
   "metadata": {},
   "outputs": [
    {
     "data": {
      "text/html": [
       "0.623789020452099"
      ],
      "text/latex": [
       "0.623789020452099"
      ],
      "text/markdown": [
       "0.623789020452099"
      ],
      "text/plain": [
       "[1] 0.623789"
      ]
     },
     "metadata": {},
     "output_type": "display_data"
    }
   ],
   "source": [
    "g_func <- function(row_sum, g, t) {\n",
    "    xi_sum <- sum(row_sum[1:t])\n",
    "    min_sum <- 0   \n",
    "    for (i in (t+1):g) {\n",
    "        min_sum <- min_sum + min(c(t, row_sum[i]))\n",
    "    }\n",
    "    res <- xi_sum - t*(t-1) - min_sum\n",
    "    return(res)\n",
    "}\n",
    "\n",
    "f_func <- function(row_sum, g, t) {\n",
    "    xi_sum <- sum(row_sum[1:t])\n",
    "    combination <- factorial(t)/(factorial(2) * factorial(t-2))\n",
    "    res <- xi_sum - t*(g-1) - combination \n",
    "    return(res)\n",
    "}\n",
    "\n",
    "row_sum <- rowSums(matrix)\n",
    "\n",
    "g_res <- rep(2, g - 1)\n",
    "for (t in 2:(g-1)) {\n",
    "    g_res[t] <- g_func(row_sum, g, t)\n",
    "}\n",
    "\n",
    "f_res <- rep(2, g)\n",
    "for (t in 2:g) {\n",
    "    f_res[t] <- f_func(row_sum, g, t)\n",
    "}\n",
    "\n",
    "M_max <- floor(0.5 * sum(row_sum[1:g]) - max(g_res))\n",
    "M_min <- max(f_res)\n",
    "\n",
    "Bandio <- (cen$mut - M_min)/(M_max - M_min)\n",
    "Bandio"
   ]
  },
  {
   "cell_type": "markdown",
   "metadata": {},
   "source": [
    "Вывод: значение очень схоже с **p** = 0.63"
   ]
  },
  {
   "cell_type": "markdown",
   "metadata": {},
   "source": [
    "**8.** Проверить нулевую гипотезу о том, что число дуг 𝐿 в орграфе $\\cal G_𝑑$ имеет биномиальное распределение 𝐿 ∼ Bin(𝑔(𝑔 − 1), 1/2) при уровне значимости 𝛼. Определить максимальный уровень значимости при котором нулевая гипотеза не отвергается.\n"
   ]
  },
  {
   "cell_type": "code",
   "execution_count": 45,
   "metadata": {},
   "outputs": [
    {
     "data": {
      "text/plain": [
       "\n",
       "\tExact binomial test\n",
       "\n",
       "data:  l and g * (g - 1)\n",
       "number of successes = 3725, number of trials = 6006, p-value < 2.2e-16\n",
       "alternative hypothesis: true probability of success is not equal to 0.5\n",
       "95 percent confidence interval:\n",
       " 0.6077996 0.6325098\n",
       "sample estimates:\n",
       "probability of success \n",
       "             0.6202131 \n"
      ]
     },
     "metadata": {},
     "output_type": "display_data"
    }
   ],
   "source": [
    "alpha <- 0.03\n",
    "l <- sum(matrix)\n",
    "binom.test(l, g*(g-1), 0.5)"
   ]
  },
  {
   "cell_type": "markdown",
   "metadata": {},
   "source": [
    "**9.** Проверить нулевую гипотезу о том, что число дуг 𝐿 в орграфе $\\cal G_𝑑$ имеет биномиальное распределение 𝐿 ∼ Bin(𝑔(𝑔−1), $𝑃_0$) при уровне значимости 𝛼. Определить максимальный уровень значимости при котором нулевая гипотеза не отвергается."
   ]
  },
  {
   "cell_type": "code",
   "execution_count": 46,
   "metadata": {},
   "outputs": [
    {
     "data": {
      "text/plain": [
       "\n",
       "\tExact binomial test\n",
       "\n",
       "data:  l and g * (g - 1)\n",
       "number of successes = 3725, number of trials = 6006, p-value < 2.2e-16\n",
       "alternative hypothesis: true probability of success is not equal to 0.69\n",
       "95 percent confidence interval:\n",
       " 0.6077996 0.6325098\n",
       "sample estimates:\n",
       "probability of success \n",
       "             0.6202131 \n"
      ]
     },
     "metadata": {},
     "output_type": "display_data"
    }
   ],
   "source": [
    "P0 <- 0.69\n",
    "binom.test(l, g*(g-1), P0)"
   ]
  },
  {
   "cell_type": "markdown",
   "metadata": {},
   "source": [
    "**10.** Построить доверительный интервал для оценки параметра 𝑝 с доверительной надёжностью (1 − 𝛼). Сделать выводы."
   ]
  },
  {
   "cell_type": "code",
   "execution_count": 49,
   "metadata": {},
   "outputs": [
    {
     "data": {
      "text/html": [
       "0.62021312021312"
      ],
      "text/latex": [
       "0.62021312021312"
      ],
      "text/markdown": [
       "0.62021312021312"
      ],
      "text/plain": [
       "[1] 0.6202131"
      ]
     },
     "metadata": {},
     "output_type": "display_data"
    },
    {
     "data": {
      "text/html": [
       "0.485"
      ],
      "text/latex": [
       "0.485"
      ],
      "text/markdown": [
       "0.485"
      ],
      "text/plain": [
       "[1] 0.485"
      ]
     },
     "metadata": {},
     "output_type": "display_data"
    },
    {
     "data": {
      "text/html": [
       "0.605558868508754"
      ],
      "text/latex": [
       "0.605558868508754"
      ],
      "text/markdown": [
       "0.605558868508754"
      ],
      "text/plain": [
       "[1] 0.6055589"
      ]
     },
     "metadata": {},
     "output_type": "display_data"
    },
    {
     "data": {
      "text/html": [
       "0.634867371917487"
      ],
      "text/latex": [
       "0.634867371917487"
      ],
      "text/markdown": [
       "0.634867371917487"
      ],
      "text/plain": [
       "[1] 0.6348674"
      ]
     },
     "metadata": {},
     "output_type": "display_data"
    }
   ],
   "source": [
    "p.est <- (sum(matrix))/(g*(g-1))\n",
    "p.est\n",
    "\n",
    "lap <- 0.5 - (alpha/2)\n",
    "lap\n",
    "\n",
    "z.alpha_2 <- 2.34 # из таблицы\n",
    "\n",
    "\n",
    "left <- p.est - z.alpha_2 * sqrt((p.est * (1 - p.est))/(g * (g - 1)))\n",
    "right <- p.est + z.alpha_2 * sqrt((p.est * (1 - p.est))/(g * (g - 1))) \n",
    "left\n",
    "right"
   ]
  },
  {
   "cell_type": "markdown",
   "metadata": {},
   "source": [
    "*Доверительный интервал 0.61 <= **p** <= 0.64* Так как p = 0.63, то доверительный интервал посчитан верно с доверитеоьной надежностью (1 − 𝛼)"
   ]
  },
  {
   "cell_type": "markdown",
   "metadata": {},
   "source": [
    "## Выводы\n",
    "\n",
    "В ходе данной практической работы провели анализ случайно сгенерированного ориентированного графа с использованием библиотеки igraph. Проверена корректность посчитанных значений. Сложностью данной работы было то, что некоторые функции (индекс взаимности Бандиопадхьяйя), не реализованы в библиотеке."
   ]
  },
  {
   "cell_type": "code",
   "execution_count": null,
   "metadata": {},
   "outputs": [],
   "source": []
  }
 ],
 "metadata": {
  "kernelspec": {
   "display_name": "R",
   "language": "R",
   "name": "ir"
  },
  "language_info": {
   "codemirror_mode": "r",
   "file_extension": ".r",
   "mimetype": "text/x-r-source",
   "name": "R",
   "pygments_lexer": "r",
   "version": "4.2.1"
  }
 },
 "nbformat": 4,
 "nbformat_minor": 4
}
