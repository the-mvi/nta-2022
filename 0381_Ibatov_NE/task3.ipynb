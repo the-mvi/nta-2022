{
 "cells": [
  {
   "cell_type": "markdown",
   "metadata": {},
   "source": [
    "# Практическая работа №3: Статистический анализ социальных сетей.\n",
    "Выполнил студент гр. 0381 Ибатов Николай. Вариант №5"
   ]
  },
  {
   "cell_type": "markdown",
   "metadata": {},
   "source": [
    "## Цель работы\n",
    "Овладеть навыками работы с математическими пакетами для статистического анализа социальных сетей."
   ]
  },
  {
   "cell_type": "markdown",
   "metadata": {},
   "source": [
    "## Основные теоретические положения\n",
    "\n",
    "**Диада** - элемент сети, представляющий собой пару акторов и (возможную) связь между ними:\n",
    "$${D_{ij} = (X_{ij},X_{ji}), i \\neq j}$$\n",
    "\n",
    "**Цензус диад** $-$ тройка чисел $M A N$ где:\n",
    "$${M = \\sum_{i<j} X_{ij} X_{ji}}$$\n",
    "$${A = X_{++} - 2M}$$\n",
    "$${N = C^2_g - A - M}$$\n",
    "    \n",
    "   **Индекс взаимности Каца-Пауэлла** (Reciprocity of Katz and Powell) $-$ характеристика измерения тенденции акторов в группе. Данный индекс оценивает тенденцию акторов в группе к взаимному выбору друг друга. \n",
    "   \n",
    "$$-\\infty < \\rho_{кр} \\leqslant 1$$.\n",
    "\n",
    "* Если $\\rho_{кр} = 0$ то акторы не имеют склонности взаимно выбирать друг друга.\n",
    "\n",
    "* Если $\\rho_{кр} = 1$ то акторы показывают максимальную тенденцию к взаимному выбору друг друга.\n",
    "\n",
    "* Если $\\rho_{кр} < 0$ то акторы склонны образовывать односторонние связи или не образовывать их вообще.\n",
    "\n",
    "Индекс взаимности основан на ожидании количества взаимных диад предполагая что выбор делается акторами случайным образом. Выбор может быть фиксированным или свободным.\n",
    "\n",
    "*Для фиксированного выбора из $d$ акторов:*\n",
    "\n",
    "* По методу моментов оценка \n",
    "$$\\hat{\\rho}_{кр} = \\displaystyle{\\frac{2(g-1)M - gd^2}{gd(g - d - 1)}}$$.\n",
    "\n",
    "* Вероятность того что связь будет взаимной для двух акторов:\n",
    "\n",
    "$$\\displaystyle{P(i \\rightarrow j \\wedge j \\rightarrow i) = \\frac{d}{g - 1}\\left( \\frac{d}{g - 1} + \\rho_{кр} \\frac{g - 1 - d}{g - 1} \\right)}.$$\n",
    "\n",
    "*Для свободного выбора:*\n",
    "\n",
    "* По методу моментов оценка \n",
    "$$\\hat{\\rho}_{кр} = \\displaystyle{\\frac{2(g-1)^2M - L^2 + L_2}{L(g - 1)^2 - L^2 - L_2}}$$.\n",
    "\n",
    "* Вероятность того что связь будет взаимной для двух акторов (для каждого из акторов):\n",
    "\n",
    "$$P = \\displaystyle{\\frac{x_{i+}x_{j+}}{(g - 1)^2}}.$$\n",
    "\n",
    "**Индекс взаимности Бандиопадхьяйя** $-$ индекс основанный на максимальной и минимальной значениях количества диад в сети. \n",
    "\n",
    "$$\\rho_B = \\displaystyle{\\frac{M - M_{\\min}}{M_{\\max} - M_{\\min}}}$$\n",
    "\n",
    "где $$M_{\\min} = \\max f(t) 0 \\leqslant t \\leqslant g$$\n",
    "\n",
    "$$M_{\\max} = \\lfloor 0.5 \\sum^g_{i = 1} x_{i+} - \\max g(t)\\rfloor 0 \\leqslant t \\leqslant g$$\n",
    "\n",
    "$$f(t) = \\sum^t_{i=1} x_{i+} - t(g - 1) - C^2_g$$\n",
    "\n",
    "$$g(t) = \\sum^t_{i=1} x_{i+} - t(t - 1) - \\sum^g_{i=t+1} \\\\min (t x_{i+}).$$\n",
    "\n",
    "**Вычисление доверительного интервала для оценки P.**\n",
    "\n",
    "Оценка параметра $P$:\n",
    "\n",
    "$$\\hat{P} = \\displaystyle{\\frac{\\sum_{i = 1}^g \\sum_{j = 1}^g x_{ij}}{g(g-1)} = \\frac{l}{g(g - 1)}}.$$\n",
    "\n",
    "Доверительный интервал: \n",
    "$$\\hat{P}_{lower} \\leqslant P \\leqslant \\hat{P}_{upper}$$.\n",
    "\n",
    "$$\\hat{P}_{lower} = \\displaystyle{\\hat{P} - z_{\\alpha/2} \\sqrt\\frac{\\hat{P}(1- \\hat{P})}{g(g-1)}}$$\n",
    "\n",
    "$$\\hat{P}_{lower} = \\displaystyle{\\hat{P} + z_{\\alpha/2} \\sqrt\\frac{\\hat{P}(1- \\hat{P})}{g(g-1)}}$$\n",
    "\n",
    "$z_{\\alpha/2}$ вычисляется из $\\Phi(z_{\\alpha/2}) = 0.5 - 0.5 \\alpha$ где $\\alpha - $ некоторый уровень значимости $(1 - \\alpha) - $ доверительная надёжность."
   ]
  },
  {
   "cell_type": "markdown",
   "metadata": {},
   "source": [
    "## Постановка задачи\n",
    "С помощью математических пакетов и соответствующих библиотек провести статистический анализ случайно смоделированного ориентированного графа. Полученные результаты содержательно проинтерпретировать."
   ]
  },
  {
   "cell_type": "markdown",
   "metadata": {},
   "source": [
    "## Выполнение работы"
   ]
  },
  {
   "cell_type": "code",
   "execution_count": 3,
   "metadata": {},
   "outputs": [
    {
     "name": "stderr",
     "output_type": "stream",
     "text": [
      "Warning message:\n",
      "\"пакет 'igraph' был собран под R версии 4.2.2\"\n",
      "\n",
      "Присоединяю пакет: 'igraph'\n",
      "\n",
      "\n",
      "Следующие объекты скрыты от 'package:stats':\n",
      "\n",
      "    decompose, spectrum\n",
      "\n",
      "\n",
      "Следующий объект скрыт от 'package:base':\n",
      "\n",
      "    union\n",
      "\n",
      "\n"
     ]
    }
   ],
   "source": [
    "library(igraph)"
   ]
  },
  {
   "cell_type": "markdown",
   "metadata": {},
   "source": [
    "**1.** С помощью библиотеки igraph смоделировать случайный орграф $\\cal G_𝑑$ на основе модели Эрдеша—Реньи: $\\cal G_𝑑$ = $\\cal G$ (𝑔, 𝑝), где 𝑔 –количество акторов, 𝑝 – вероятность появления дуги между акторами. В R для модели случайного графа Эрдеша—Реньи существует функция erdos.renyi.game(). Ознакомьтесь с данной моделью и опишите её."
   ]
  },
  {
   "cell_type": "code",
   "execution_count": 4,
   "metadata": {},
   "outputs": [
    {
     "data": {
      "text/plain": [
       "IGRAPH ff63664 D--- 78 3802 -- Erdos-Renyi (gnp) graph\n",
       "+ attr: name (g/c), type (g/c), loops (g/l), p (g/n)\n",
       "+ edges from ff63664:\n",
       " [1]  1->78  3-> 1  4-> 1  6-> 1  7-> 1  8-> 1 10-> 1 11-> 1 12-> 1 13-> 1\n",
       "[11] 15-> 1 16-> 1 20-> 1 21-> 1 22-> 1 23-> 1 24-> 1 25-> 1 27-> 1 28-> 1\n",
       "[21] 29-> 1 30-> 1 32-> 1 35-> 1 37-> 1 38-> 1 41-> 1 42-> 1 44-> 1 46-> 1\n",
       "[31] 47-> 1 49-> 1 51-> 1 52-> 1 54-> 1 55-> 1 56-> 1 57-> 1 59-> 1 61-> 1\n",
       "[41] 62-> 1 63-> 1 65-> 1 67-> 1 68-> 1 70-> 1 71-> 1 73-> 1 74-> 1 75-> 1\n",
       "[51] 76-> 1 78-> 1  2->78  4-> 2  6-> 2  8-> 2  9-> 2 11-> 2 12-> 2 13-> 2\n",
       "[61] 15-> 2 16-> 2 17-> 2 19-> 2 20-> 2 23-> 2 24-> 2 26-> 2 27-> 2 28-> 2\n",
       "[71] 29-> 2 30-> 2 32-> 2 33-> 2 34-> 2 35-> 2 36-> 2 37-> 2 38-> 2 41-> 2\n",
       "+ ... omitted several edges"
      ]
     },
     "metadata": {},
     "output_type": "display_data"
    }
   ],
   "source": [
    "g <- 78\n",
    "p <- 0.63\n",
    "graph <- erdos.renyi.game(g,p, \"gnp\",directed=TRUE)\n",
    "graph"
   ]
  },
  {
   "cell_type": "markdown",
   "metadata": {},
   "source": [
    "**2.** Отобразить полученный орграф"
   ]
  },
  {
   "cell_type": "code",
   "execution_count": 5,
   "metadata": {},
   "outputs": [
    {
     "data": {
      "image/png": "[encoded data removed]",
      "text/plain": [
       "Plot with title \"\""
      ]
     },
     "metadata": {
      "image/png": {
       "height": 420,
       "width": 420
      }
     },
     "output_type": "display_data"
    }
   ],
   "source": [
    "plot(graph, layout=layout.fruchterman.reingold)"
   ]
  },
  {
   "cell_type": "markdown",
   "metadata": {},
   "source": [
    "**3.** Вычислить «пятичисловую сводку» для графа $\\cal G_𝑑$."
   ]
  },
  {
   "cell_type": "code",
   "execution_count": 12,
   "metadata": {},
   "outputs": [
    {
     "name": "stdout",
     "output_type": "stream",
     "text": [
      "Размер сети:  78 \n",
      "Плотность сети:  3802 \n",
      "Число компонент:  1 \n",
      "Диаметр сети:  2 \n",
      "Коэффициент кластеризации:  0.8623673 \n"
     ]
    }
   ],
   "source": [
    "cat(\"Размер сети: \", length(V(graph)), \"\\n\")\n",
    "cat(\"Плотность сети: \", length(E(graph)), \"\\n\")\n",
    "cat(\"Число компонент: \", count_components(graph), \"\\n\")\n",
    "cat(\"Диаметр сети: \", diameter(graph), \"\\n\")\n",
    "cat(\"Коэффициент кластеризации: \", transitivity(graph), \"\\n\")"
   ]
  },
  {
   "cell_type": "markdown",
   "metadata": {},
   "source": [
    "**4.** Вычислить цензус диад. Сделать выводы."
   ]
  },
  {
   "cell_type": "code",
   "execution_count": 13,
   "metadata": {},
   "outputs": [
    {
     "data": {
      "text/html": [
       "<dl>\n",
       "\t<dt>$mut</dt>\n",
       "\t\t<dd>1214</dd>\n",
       "\t<dt>$asym</dt>\n",
       "\t\t<dd>1374</dd>\n",
       "\t<dt>$null</dt>\n",
       "\t\t<dd>415</dd>\n",
       "</dl>\n"
      ],
      "text/latex": [
       "\\begin{description}\n",
       "\\item[\\$mut] 1214\n",
       "\\item[\\$asym] 1374\n",
       "\\item[\\$null] 415\n",
       "\\end{description}\n"
      ],
      "text/markdown": [
       "$mut\n",
       ":   1214\n",
       "$asym\n",
       ":   1374\n",
       "$null\n",
       ":   415\n",
       "\n",
       "\n"
      ],
      "text/plain": [
       "$mut\n",
       "[1] 1214\n",
       "\n",
       "$asym\n",
       "[1] 1374\n",
       "\n",
       "$null\n",
       "[1] 415\n"
      ]
     },
     "metadata": {},
     "output_type": "display_data"
    }
   ],
   "source": [
    "cen <- dyad_census(graph)\n",
    "cen"
   ]
  },
  {
   "cell_type": "markdown",
   "metadata": {},
   "source": [
    "*Вывод:*\n",
    "\n",
    "* Число взаимных диад (mut) = 1214\n",
    "* Число ассиметричных (asym) = 1374 \n",
    "* Число нулевых (null) = 415\n"
   ]
  },
  {
   "cell_type": "markdown",
   "metadata": {},
   "source": [
    "**5**. Вычислить оценку индекса взаимности Каца—Пауэла при фиксированом выборе акторов 𝑑 и при свободном выборе. Сделать выводы."
   ]
  },
  {
   "cell_type": "code",
   "execution_count": 16,
   "metadata": {},
   "outputs": [
    {
     "data": {
      "text/html": [
       "0.797191697191697"
      ],
      "text/latex": [
       "0.797191697191697"
      ],
      "text/markdown": [
       "0.797191697191697"
      ],
      "text/plain": [
       "[1] 0.7971917"
      ]
     },
     "metadata": {},
     "output_type": "display_data"
    },
    {
     "data": {
      "text/html": [
       "0.0153460302342081"
      ],
      "text/latex": [
       "0.0153460302342081"
      ],
      "text/markdown": [
       "0.0153460302342081"
      ],
      "text/plain": [
       "[1] 0.01534603"
      ]
     },
     "metadata": {},
     "output_type": "display_data"
    }
   ],
   "source": [
    "# Пусть d = 35 ; (g-1) = 77\n",
    "d <- 35\n",
    "m <-cen$mut\n",
    "rho1 <- (2*(g-1)*m - g * d^2)/(g*d*(g - 1 - d))\n",
    "rho1\n",
    "\n",
    "#свободный\n",
    "matrix <- as.matrix(as_adjacency_matrix(graph))\n",
    "L <- sum(rowSums(matrix))\n",
    "L2 <- sum(rowSums(matrix)^2)\n",
    "\n",
    "rho2 <- (2*(g - 1)^2 * cen$mut - L^2 + L2)/(L*(g - 1)^2 - L^2 + L2)\n",
    "rho2"
   ]
  },
  {
   "cell_type": "markdown",
   "metadata": {},
   "source": [
    "Вывод: при фиксированном выборе, акторы больше образуют взаимные связи, так когда при свободном они образуют одностороннии или не образуют вообще."
   ]
  },
  {
   "cell_type": "markdown",
   "metadata": {},
   "source": [
    "**6.** Вычислить вероятность того, что связь будет взаимной для каждого случая."
   ]
  },
  {
   "cell_type": "code",
   "execution_count": 17,
   "metadata": {},
   "outputs": [
    {
     "data": {
      "text/html": [
       "0.404262404262404"
      ],
      "text/latex": [
       "0.404262404262404"
      ],
      "text/markdown": [
       "0.404262404262404"
      ],
      "text/plain": [
       "[1] 0.4042624"
      ]
     },
     "metadata": {},
     "output_type": "display_data"
    },
    {
     "data": {
      "text/html": [
       "<style>\n",
       ".list-inline {list-style: none; margin:0; padding: 0}\n",
       ".list-inline>li {display: inline-block}\n",
       ".list-inline>li:not(:last-child)::after {content: \"\\00b7\"; padding: 0 .5ex}\n",
       "</style>\n",
       "<ol class=list-inline><li>0.412885815483218</li><li>0.421487603305785</li><li>0.481700118063754</li><li>0.429752066115702</li><li>0.364648338674313</li><li>0.380165289256198</li><li>0.380502614268848</li><li>0.352673300725249</li><li>0.430089391128352</li><li>0.338842975206612</li><li>0.388429752066116</li><li>0.362624388598415</li><li>0.364311013661663</li><li>0.396694214876033</li><li>0.447798954292461</li><li>0.317085511890707</li><li>0.349131388092427</li><li>0.413223140495868</li><li>0.412211165457919</li><li>0.301062573789847</li><li>0.380502614268848</li><li>0.491145218417946</li><li>0.404284027660651</li><li>0.498903693708889</li><li>0.364648338674313</li><li>0.243548659133075</li><li>0.473604317760162</li><li>0.369876876370383</li><li>0.412211165457919</li><li>0.408163265306122</li><li>0.380502614268848</li><li>0.491145218417946</li><li>0.438522516444594</li><li>0.412211165457919</li><li>0.356721200877045</li><li>0.394670264800135</li><li>0.404790015179626</li><li>0.384381851914319</li><li>0.43801652892562</li><li>0.333614437510541</li><li>0.447292966773486</li><li>0.380165289256198</li><li>0.304604486422668</li><li>0.296002698600101</li><li>0.408163265306122</li><li>0.355371900826446</li><li>0.447292966773486</li><li>0.510035419126328</li><li>0.34086692528251</li><li>0.455894754596053</li><li>0.538370720188902</li><li>0.338842975206612</li><li>0.420981615786811</li><li>0.446955641760837</li><li>0.446955641760837</li><li>0.429077416090403</li><li>0.469556417608366</li><li>0.413223140495868</li><li>0.375442739079103</li><li>0.369876876370383</li><li>0.326530612244898</li><li>0.473604317760162</li><li>0.387080452015517</li><li>0.487603305785124</li><li>0.412211165457919</li><li>0.481700118063754</li><li>0.322314049586777</li><li>0.420981615786811</li><li>0.307640411536515</li><li>0.463821892393321</li><li>0.35621521335807</li><li>0.396356889863383</li><li>0.421487603305785</li><li>0.395682239838084</li><li>0.364311013661663</li><li>0.420138303255186</li><li>0.371900826446281</li><li>0.472255017709563</li></ol>\n"
      ],
      "text/latex": [
       "\\begin{enumerate*}\n",
       "\\item 0.412885815483218\n",
       "\\item 0.421487603305785\n",
       "\\item 0.481700118063754\n",
       "\\item 0.429752066115702\n",
       "\\item 0.364648338674313\n",
       "\\item 0.380165289256198\n",
       "\\item 0.380502614268848\n",
       "\\item 0.352673300725249\n",
       "\\item 0.430089391128352\n",
       "\\item 0.338842975206612\n",
       "\\item 0.388429752066116\n",
       "\\item 0.362624388598415\n",
       "\\item 0.364311013661663\n",
       "\\item 0.396694214876033\n",
       "\\item 0.447798954292461\n",
       "\\item 0.317085511890707\n",
       "\\item 0.349131388092427\n",
       "\\item 0.413223140495868\n",
       "\\item 0.412211165457919\n",
       "\\item 0.301062573789847\n",
       "\\item 0.380502614268848\n",
       "\\item 0.491145218417946\n",
       "\\item 0.404284027660651\n",
       "\\item 0.498903693708889\n",
       "\\item 0.364648338674313\n",
       "\\item 0.243548659133075\n",
       "\\item 0.473604317760162\n",
       "\\item 0.369876876370383\n",
       "\\item 0.412211165457919\n",
       "\\item 0.408163265306122\n",
       "\\item 0.380502614268848\n",
       "\\item 0.491145218417946\n",
       "\\item 0.438522516444594\n",
       "\\item 0.412211165457919\n",
       "\\item 0.356721200877045\n",
       "\\item 0.394670264800135\n",
       "\\item 0.404790015179626\n",
       "\\item 0.384381851914319\n",
       "\\item 0.43801652892562\n",
       "\\item 0.333614437510541\n",
       "\\item 0.447292966773486\n",
       "\\item 0.380165289256198\n",
       "\\item 0.304604486422668\n",
       "\\item 0.296002698600101\n",
       "\\item 0.408163265306122\n",
       "\\item 0.355371900826446\n",
       "\\item 0.447292966773486\n",
       "\\item 0.510035419126328\n",
       "\\item 0.34086692528251\n",
       "\\item 0.455894754596053\n",
       "\\item 0.538370720188902\n",
       "\\item 0.338842975206612\n",
       "\\item 0.420981615786811\n",
       "\\item 0.446955641760837\n",
       "\\item 0.446955641760837\n",
       "\\item 0.429077416090403\n",
       "\\item 0.469556417608366\n",
       "\\item 0.413223140495868\n",
       "\\item 0.375442739079103\n",
       "\\item 0.369876876370383\n",
       "\\item 0.326530612244898\n",
       "\\item 0.473604317760162\n",
       "\\item 0.387080452015517\n",
       "\\item 0.487603305785124\n",
       "\\item 0.412211165457919\n",
       "\\item 0.481700118063754\n",
       "\\item 0.322314049586777\n",
       "\\item 0.420981615786811\n",
       "\\item 0.307640411536515\n",
       "\\item 0.463821892393321\n",
       "\\item 0.35621521335807\n",
       "\\item 0.396356889863383\n",
       "\\item 0.421487603305785\n",
       "\\item 0.395682239838084\n",
       "\\item 0.364311013661663\n",
       "\\item 0.420138303255186\n",
       "\\item 0.371900826446281\n",
       "\\item 0.472255017709563\n",
       "\\end{enumerate*}\n"
      ],
      "text/markdown": [
       "1. 0.412885815483218\n",
       "2. 0.421487603305785\n",
       "3. 0.481700118063754\n",
       "4. 0.429752066115702\n",
       "5. 0.364648338674313\n",
       "6. 0.380165289256198\n",
       "7. 0.380502614268848\n",
       "8. 0.352673300725249\n",
       "9. 0.430089391128352\n",
       "10. 0.338842975206612\n",
       "11. 0.388429752066116\n",
       "12. 0.362624388598415\n",
       "13. 0.364311013661663\n",
       "14. 0.396694214876033\n",
       "15. 0.447798954292461\n",
       "16. 0.317085511890707\n",
       "17. 0.349131388092427\n",
       "18. 0.413223140495868\n",
       "19. 0.412211165457919\n",
       "20. 0.301062573789847\n",
       "21. 0.380502614268848\n",
       "22. 0.491145218417946\n",
       "23. 0.404284027660651\n",
       "24. 0.498903693708889\n",
       "25. 0.364648338674313\n",
       "26. 0.243548659133075\n",
       "27. 0.473604317760162\n",
       "28. 0.369876876370383\n",
       "29. 0.412211165457919\n",
       "30. 0.408163265306122\n",
       "31. 0.380502614268848\n",
       "32. 0.491145218417946\n",
       "33. 0.438522516444594\n",
       "34. 0.412211165457919\n",
       "35. 0.356721200877045\n",
       "36. 0.394670264800135\n",
       "37. 0.404790015179626\n",
       "38. 0.384381851914319\n",
       "39. 0.43801652892562\n",
       "40. 0.333614437510541\n",
       "41. 0.447292966773486\n",
       "42. 0.380165289256198\n",
       "43. 0.304604486422668\n",
       "44. 0.296002698600101\n",
       "45. 0.408163265306122\n",
       "46. 0.355371900826446\n",
       "47. 0.447292966773486\n",
       "48. 0.510035419126328\n",
       "49. 0.34086692528251\n",
       "50. 0.455894754596053\n",
       "51. 0.538370720188902\n",
       "52. 0.338842975206612\n",
       "53. 0.420981615786811\n",
       "54. 0.446955641760837\n",
       "55. 0.446955641760837\n",
       "56. 0.429077416090403\n",
       "57. 0.469556417608366\n",
       "58. 0.413223140495868\n",
       "59. 0.375442739079103\n",
       "60. 0.369876876370383\n",
       "61. 0.326530612244898\n",
       "62. 0.473604317760162\n",
       "63. 0.387080452015517\n",
       "64. 0.487603305785124\n",
       "65. 0.412211165457919\n",
       "66. 0.481700118063754\n",
       "67. 0.322314049586777\n",
       "68. 0.420981615786811\n",
       "69. 0.307640411536515\n",
       "70. 0.463821892393321\n",
       "71. 0.35621521335807\n",
       "72. 0.396356889863383\n",
       "73. 0.421487603305785\n",
       "74. 0.395682239838084\n",
       "75. 0.364311013661663\n",
       "76. 0.420138303255186\n",
       "77. 0.371900826446281\n",
       "78. 0.472255017709563\n",
       "\n",
       "\n"
      ],
      "text/plain": [
       " [1] 0.4128858 0.4214876 0.4817001 0.4297521 0.3646483 0.3801653 0.3805026\n",
       " [8] 0.3526733 0.4300894 0.3388430 0.3884298 0.3626244 0.3643110 0.3966942\n",
       "[15] 0.4477990 0.3170855 0.3491314 0.4132231 0.4122112 0.3010626 0.3805026\n",
       "[22] 0.4911452 0.4042840 0.4989037 0.3646483 0.2435487 0.4736043 0.3698769\n",
       "[29] 0.4122112 0.4081633 0.3805026 0.4911452 0.4385225 0.4122112 0.3567212\n",
       "[36] 0.3946703 0.4047900 0.3843819 0.4380165 0.3336144 0.4472930 0.3801653\n",
       "[43] 0.3046045 0.2960027 0.4081633 0.3553719 0.4472930 0.5100354 0.3408669\n",
       "[50] 0.4558948 0.5383707 0.3388430 0.4209816 0.4469556 0.4469556 0.4290774\n",
       "[57] 0.4695564 0.4132231 0.3754427 0.3698769 0.3265306 0.4736043 0.3870805\n",
       "[64] 0.4876033 0.4122112 0.4817001 0.3223140 0.4209816 0.3076404 0.4638219\n",
       "[71] 0.3562152 0.3963569 0.4214876 0.3956822 0.3643110 0.4201383 0.3719008\n",
       "[78] 0.4722550"
      ]
     },
     "metadata": {},
     "output_type": "display_data"
    },
    {
     "data": {
      "text/html": [
       "0.401328109120317"
      ],
      "text/latex": [
       "0.401328109120317"
      ],
      "text/markdown": [
       "0.401328109120317"
      ],
      "text/plain": [
       "[1] 0.4013281"
      ]
     },
     "metadata": {},
     "output_type": "display_data"
    }
   ],
   "source": [
    "#фиксированный\n",
    "rkp <- (d / (g-1)) * ((d/(g-1)) + rho1*(g - 1 - d) / (g - 1))\n",
    "rkp\n",
    "\n",
    "#свободный\n",
    "rkp_ <- (rowSums(matrix) * colSums(matrix))/(g - 1)^2\n",
    "rkp_\n",
    "\n",
    "rkp_avg <- sum(rkp_)/g\n",
    "rkp_avg"
   ]
  },
  {
   "cell_type": "markdown",
   "metadata": {},
   "source": [
    "**7.** Вычислить индекс взаимности Бандиопадхьяйя. Сделать выводы."
   ]
  },
  {
   "cell_type": "code",
   "execution_count": 18,
   "metadata": {},
   "outputs": [
    {
     "data": {
      "text/html": [
       "0.638903531892462"
      ],
      "text/latex": [
       "0.638903531892462"
      ],
      "text/markdown": [
       "0.638903531892462"
      ],
      "text/plain": [
       "[1] 0.6389035"
      ]
     },
     "metadata": {},
     "output_type": "display_data"
    }
   ],
   "source": [
    "g_func <- function(row_sum, g, t) {\n",
    "    xi_sum <- sum(row_sum[1:t])\n",
    "    min_sum <- 0   \n",
    "    for (i in (t+1):g) {\n",
    "        min_sum <- min_sum + min(c(t, row_sum[i]))\n",
    "    }\n",
    "    res <- xi_sum - t*(t-1) - min_sum\n",
    "    return(res)\n",
    "}\n",
    "\n",
    "f_func <- function(row_sum, g, t) {\n",
    "    xi_sum <- sum(row_sum[1:t])\n",
    "    combination <- factorial(t)/(factorial(2) * factorial(t-2))\n",
    "    res <- xi_sum - t*(g-1) - combination \n",
    "    return(res)\n",
    "}\n",
    "\n",
    "row_sum <- rowSums(matrix)\n",
    "\n",
    "g_res <- rep(2, g - 1)\n",
    "for (t in 2:(g-1)) {\n",
    "    g_res[t] <- g_func(row_sum, g, t)\n",
    "}\n",
    "\n",
    "f_res <- rep(2, g)\n",
    "for (t in 2:g) {\n",
    "    f_res[t] <- f_func(row_sum, g, t)\n",
    "}\n",
    "\n",
    "M_max <- floor(0.5 * sum(row_sum[1:g]) - max(g_res))\n",
    "M_min <- max(f_res)\n",
    "\n",
    "Bandio <- (cen$mut - M_min)/(M_max - M_min)\n",
    "Bandio"
   ]
  },
  {
   "cell_type": "markdown",
   "metadata": {},
   "source": [
    "Вывод: значение почти схоже с **p** = 0.63"
   ]
  },
  {
   "cell_type": "markdown",
   "metadata": {},
   "source": [
    "**8.** Проверить нулевую гипотезу о том, что число дуг 𝐿 в орграфе $\\cal G_𝑑$ имеет биномиальное распределение 𝐿 ∼ Bin(𝑔(𝑔 − 1), 1/2) при уровне значимости 𝛼. Определить максимальный уровень значимости при котором нулевая гипотеза не отвергается.\n"
   ]
  },
  {
   "cell_type": "code",
   "execution_count": 19,
   "metadata": {},
   "outputs": [
    {
     "data": {
      "text/plain": [
       "\n",
       "\tExact binomial test\n",
       "\n",
       "data:  l and g * (g - 1)\n",
       "number of successes = 3802, number of trials = 6006, p-value < 2.2e-16\n",
       "alternative hypothesis: true probability of success is not equal to 0.5\n",
       "95 percent confidence interval:\n",
       " 0.6206987 0.6452392\n",
       "sample estimates:\n",
       "probability of success \n",
       "             0.6330336 \n"
      ]
     },
     "metadata": {},
     "output_type": "display_data"
    }
   ],
   "source": [
    "alpha <- 0.03\n",
    "l <- sum(matrix)\n",
    "binom.test(l, g*(g-1), 0.5)"
   ]
  },
  {
   "cell_type": "markdown",
   "metadata": {},
   "source": [
    "**9.** Проверить нулевую гипотезу о том, что число дуг 𝐿 в орграфе $\\cal G_𝑑$ имеет биномиальное распределение 𝐿 ∼ Bin(𝑔(𝑔−1), $𝑃_0$) при уровне значимости 𝛼. Определить максимальный уровень значимости при котором нулевая гипотеза не отвергается."
   ]
  },
  {
   "cell_type": "code",
   "execution_count": 20,
   "metadata": {},
   "outputs": [
    {
     "data": {
      "text/plain": [
       "\n",
       "\tExact binomial test\n",
       "\n",
       "data:  l and g * (g - 1)\n",
       "number of successes = 3802, number of trials = 6006, p-value < 2.2e-16\n",
       "alternative hypothesis: true probability of success is not equal to 0.69\n",
       "95 percent confidence interval:\n",
       " 0.6206987 0.6452392\n",
       "sample estimates:\n",
       "probability of success \n",
       "             0.6330336 \n"
      ]
     },
     "metadata": {},
     "output_type": "display_data"
    }
   ],
   "source": [
    "P0 <- 0.69\n",
    "binom.test(l, g*(g-1), P0)"
   ]
  },
  {
   "cell_type": "markdown",
   "metadata": {},
   "source": [
    "**10.** Построить доверительный интервал для оценки параметра 𝑝 с доверительной надёжностью (1 − 𝛼). Сделать выводы."
   ]
  },
  {
   "cell_type": "code",
   "execution_count": 21,
   "metadata": {},
   "outputs": [
    {
     "data": {
      "text/html": [
       "0.633033633033633"
      ],
      "text/latex": [
       "0.633033633033633"
      ],
      "text/markdown": [
       "0.633033633033633"
      ],
      "text/plain": [
       "[1] 0.6330336"
      ]
     },
     "metadata": {},
     "output_type": "display_data"
    },
    {
     "data": {
      "text/html": [
       "0.485"
      ],
      "text/latex": [
       "0.485"
      ],
      "text/markdown": [
       "0.485"
      ],
      "text/plain": [
       "[1] 0.485"
      ]
     },
     "metadata": {},
     "output_type": "display_data"
    },
    {
     "data": {
      "text/html": [
       "0.618480727274681"
      ],
      "text/latex": [
       "0.618480727274681"
      ],
      "text/markdown": [
       "0.618480727274681"
      ],
      "text/plain": [
       "[1] 0.6184807"
      ]
     },
     "metadata": {},
     "output_type": "display_data"
    },
    {
     "data": {
      "text/html": [
       "0.647586538792585"
      ],
      "text/latex": [
       "0.647586538792585"
      ],
      "text/markdown": [
       "0.647586538792585"
      ],
      "text/plain": [
       "[1] 0.6475865"
      ]
     },
     "metadata": {},
     "output_type": "display_data"
    }
   ],
   "source": [
    "p.est <- (sum(matrix))/(g*(g-1))\n",
    "p.est\n",
    "\n",
    "lap <- 0.5 - (alpha/2)\n",
    "lap\n",
    "\n",
    "z.alpha_2 <- 2.34 # из таблицы\n",
    "\n",
    "\n",
    "left <- p.est - z.alpha_2 * sqrt((p.est * (1 - p.est))/(g * (g - 1)))\n",
    "right <- p.est + z.alpha_2 * sqrt((p.est * (1 - p.est))/(g * (g - 1))) \n",
    "left\n",
    "right"
   ]
  },
  {
   "cell_type": "markdown",
   "metadata": {},
   "source": [
    "*Доверительный интервал 0.62 <= **p** <= 0.65* Так как p = 0.63, то доверительный интервал посчитан верно с доверитеоьной надежностью (1 − 𝛼)"
   ]
  },
  {
   "cell_type": "markdown",
   "metadata": {},
   "source": [
    "## Выводы\n",
    "\n",
    "В ходе данной практической работы провели анализ случайно сгенерированного ориентированного графа с использованием библиотеки igraph. Проверена корректность посчитанных значений. Сложностью данной работы было то, что некоторые функции (индекс взаимности Бандиопадхьяйя), не реализованы в библиотеке."
   ]
  },
  {
   "cell_type": "code",
   "execution_count": null,
   "metadata": {},
   "outputs": [],
   "source": []
  }
 ],
 "metadata": {
  "kernelspec": {
   "display_name": "R",
   "language": "R",
   "name": "ir"
  },
  "language_info": {
   "codemirror_mode": "r",
   "file_extension": ".r",
   "mimetype": "text/x-r-source",
   "name": "R",
   "pygments_lexer": "r",
   "version": "4.2.1"
  }
 },
 "nbformat": 4,
 "nbformat_minor": 4
}
