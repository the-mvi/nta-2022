{
 "cells": [
  {
   "cell_type": "markdown",
   "id": "c42da9f3",
   "metadata": {},
   "source": [
    "# Практическая работа №1: Основы анализа и моделирования социальных сетей"
   ]
  },
  {
   "cell_type": "markdown",
   "id": "6669840a",
   "metadata": {},
   "source": [
    "Выполнил студент гр. 0381 Ибатов Николай. Вариант № 5."
   ]
  },
  {
   "cell_type": "markdown",
   "id": "21d1c176",
   "metadata": {},
   "source": [
    "## Цель работы"
   ]
  },
  {
   "cell_type": "markdown",
   "id": "d980b50d",
   "metadata": {},
   "source": [
    "Овладеть навыками работы с математическими пакетами для моделирования, визуализации и анализа социальных сетей."
   ]
  },
  {
   "cell_type": "markdown",
   "id": "adf01fde",
   "metadata": {},
   "source": [
    "## Основные теоретические положения"
   ]
  },
  {
   "cell_type": "markdown",
   "id": "c23afdcb",
   "metadata": {},
   "source": [
    " \n",
    "   <b>Актор</b> - дискретная индивидуальная корпоративная социальная единица.\n",
    " \n",
    "   <b>Сеть</b> - объект, представляющий собой совокупность конечного набора акторов и отношений, определённых на них.\n",
    "   \n",
    "   <b>Размер сети</b> - количество акторов в сети.\n",
    "   \n",
    "   <b>Социоматрица</b> - матрица <b>X</b> размерности g×g, описывающая смежные узлы в сети:<br>\n",
    "   \n",
    "$$ X = \\{x_{ij; r}\\} i, j = 1, ..., g,$$ где g - количество акторов. <br>\n",
    "\n",
    "   <b>Плотность сети</b> - доля имеющихся связей по отношению к максимально возможному количеству связей в сети с таким же количеством акторов.\n",
    "   \n",
    "  Плотность для ориентированной сети:     $$\\Delta = \\frac{L}{A_g^2}$$ <br>\n",
    "  \n",
    "  Плотность для неориентированной сети:    $$\\Delta = \\frac{L}{C_g^2}$$ <br>\n",
    "  \n",
    "   <b>Компонента сети</b> - подгруппа сети, в которой все акторы связаны друг с другом прямо или косвенно.<br>\n",
    "   \n",
    "  \n",
    "   <b>Диаметр сети</b> - наибольшая длина любого из кратчайших путей между всеми парами узлов.<br>\n",
    "   \n",
    "   <b>Коэффициент кластеризации</b> - доля закрытых треугольников (триад, где наблюдаются все связи) по отношению к общему количеству треугольников.<br>\n",
    "   \n",
    "   <b>Степень узла</b> - число ребер, инцидентных узлу $n_i$ <br>\n",
    "   \n",
    "   <b>Дисперсия степеней узла:</b> $$S_d^2 = \\frac{1}{g}\\sum_{i=1}^g(d(n_i)-\\bar{d})^2,$$\n",
    "где d - cредняя степень: $$\\bar{d} = \\frac{1}{g}\\sum_{i=1}^gd(n_i)$$\n",
    "\n",
    "   <b>Центральность</b> - мера, характеризующая акторы с большим количеством связей (прямых или косвенных).<br>\n",
    "   \n",
    "   Центральность по степени:     $$C_D^{'}(n_i) =\\frac{d(n_i)}{g-1}$$<br>\n",
    "    \n",
    "   Центральность по близости:    $$C_C^{'}(n_i)=(g-1)(\\sum_{i=1}^gd(n_i,n_j))^{-1}$$\n",
    "    \n",
    "   Центральность по посредничеству:    $$C_B(n_i)=\\sum_{i<k}g_{ik}(n_i)/g_{jk}$$, где $g_{jk}$ расстояние между узлами j и k, а.\n",
    "    \n",
    "$g_{jk}(n_i)$ - количество кратчайших путей между узлами j и k через i.<br>\n",
    "\n",
    "   Центральность по информации:    $$C_I^{'}=\\frac{C_I(n_i)}{\\sum_{i}C_I(n_i)}$$\n",
    "    \n",
    "$$ A = \\{a_{ij}\\}$$\n",
    "\n",
    "$$ a_{ii} = 1 + \\sum_{j=1}^{g}{x_{ij}}$$\n",
    "\n",
    "$$ a_{ij} = 1 \\text{ , if } n_{i} \\text{ and } n_{j} \\text{ are not connected}$$\n",
    "\n",
    "$$ a_{ij} = 1-x_{ij} \\text{ , if } n_{i} \\text{ and } n_{j} \\text{ are connected}$$\n",
    "\n",
    "$$ x_{ij} \\text{- weight of edge between }n_{i} \\text{ and } n_{j}$$\n",
    "\n",
    "$$ C = A^{-1}$$\n",
    "\n",
    "\n",
    "$$C_I(n_{i}) =  \\frac{1}{c_{ii}+(T-2R)/g}$$ $$T = trace(C)$$ $$R = \\sum_{j=1}^{g}c_{ij}$$\n",
    "\n",
    "   <b>Централизация</b> - мера, характеризующая равномерную распределенность центральности акторов в сети.<br>\n",
    "   \n",
    "   Централизация по степени:    $$C_D = \\frac{\\sum_{i=1}^g(C_D(n^{*})-C_D(n_i))}{(g-1)(g-2)}$$\n",
    "   \n",
    "   Централизация по близости:    $$C_C = \\frac{\\sum_{i=1}^g(C_C^{'}(n^{*})-C_C^{'}(n_i))}{(g-1)(g-2)/(2g-3)}$$\n",
    "   \n",
    "   Централизация по посредничеству:     $$C_B = \\frac{\\sum_{i=1}^g(C_B^{'}(n^{*})-C_B^{'}(n_i))}{g-1}$$\n",
    "   \n",
    "   Централизация по информации:    $$C_I =\\frac{1}{g}\\sum_{i=1}^g(C_I^{'}(n^{*})-\\bar{C_I}(n_i))^2$$\n",
    "    \n",
    "$$ \\bar{C_I} = \\sum_iC_I^{'}(n_i)$$\n",
    "\n",
    "   <b>Точка сочленения</b> - узел, при удалении которого увеличивается количество компонент связности.<br>\n",
    "   \n",
    "   <b>Мост</b> - ребро, при удалении которого одна компонента связности разделяется на 2.<br>\n",
    "   \n",
    "   <b>Престиж</b> - мера, характеризующая фктора с большим количеством входящих связей.<br>\n",
    "   \n",
    "   <b>Престиж по степени</b> - входящая степень каждого узла. $$P_D(n_i) = d_I(n_i)=x_{+i}$$\n",
    "   \n",
    "&emsp; <em>Нормированный престиж по степени:</em> $$P_D^{'}(n_i) =\\frac{x_{+i}}{g-1}$$\n",
    "\n",
    "   <b>Престиж по близости</b> - мера, определяющая, насколько все акторы близки к заданному по расстоянию до него.\n",
    "    \n",
    "$$ P_P(n_i) = \\frac{\\#I_i/(g-1)}{\\sum_{j:n_j \\in I_i}(d(n_j,n_i)/\\#I_i)}$$"
   ]
  },
  {
   "cell_type": "markdown",
   "id": "e1c5027c",
   "metadata": {},
   "source": [
    "## Постановка задачи"
   ]
  },
  {
   "cell_type": "markdown",
   "id": "d1a2c29a",
   "metadata": {},
   "source": [
    "С помощью математических пакетов и соответствующих библиотек провести анализ заданных социальных сетей вычислить описательные характеристики. Полученные результаты содержательно проинтерпретировать."
   ]
  },
  {
   "cell_type": "markdown",
   "id": "0fbaa0c5",
   "metadata": {},
   "source": [
    "## Выполнение работы"
   ]
  },
  {
   "cell_type": "markdown",
   "id": "3bf91a2a",
   "metadata": {},
   "source": [
    "Установка и подключение пакета \"igraph\""
   ]
  },
  {
   "cell_type": "code",
   "execution_count": 16,
   "id": "0f7ce4be",
   "metadata": {},
   "outputs": [
    {
     "name": "stderr",
     "output_type": "stream",
     "text": [
      "Warning message:\n",
      "\"пакет ''igraph'' сейчас используется и не будет установлен\"\n"
     ]
    }
   ],
   "source": [
    "install.packages('igraph')\n",
    "library(igraph)"
   ]
  },
  {
   "cell_type": "markdown",
   "id": "68f764bb",
   "metadata": {},
   "source": [
    "1. Из файла florentine_business.csv (для нечётных вариантов) и файла florentine_marital.csv (для чётных вариантов) извлечь социоматрицу с помощью соответствующих функций. Вывести полученную социоматрицу на экран."
   ]
  },
  {
   "cell_type": "code",
   "execution_count": 25,
   "id": "e7c14947",
   "metadata": {},
   "outputs": [
    {
     "data": {
      "text/html": [
       "<table class=\"dataframe\">\n",
       "<caption>A matrix: 16 × 16 of type dbl</caption>\n",
       "<thead>\n",
       "\t<tr><th></th><th scope=col>V1</th><th scope=col>V2</th><th scope=col>V3</th><th scope=col>V4</th><th scope=col>V5</th><th scope=col>V6</th><th scope=col>V7</th><th scope=col>V8</th><th scope=col>V9</th><th scope=col>V10</th><th scope=col>V11</th><th scope=col>V12</th><th scope=col>V13</th><th scope=col>V14</th><th scope=col>V15</th><th scope=col>V16</th></tr>\n",
       "</thead>\n",
       "<tbody>\n",
       "\t<tr><th scope=row>2</th><td>0</td><td>0</td><td>0</td><td>0</td><td>0</td><td>0</td><td>0</td><td>0</td><td>0</td><td>0</td><td>0</td><td>0</td><td>0</td><td>0</td><td>0</td><td>0</td></tr>\n",
       "\t<tr><th scope=row>3</th><td>0</td><td>0</td><td>0</td><td>0</td><td>0</td><td>0</td><td>0</td><td>0</td><td>0</td><td>0</td><td>0</td><td>0</td><td>0</td><td>0</td><td>0</td><td>0</td></tr>\n",
       "\t<tr><th scope=row>4</th><td>0</td><td>0</td><td>0</td><td>0</td><td>1</td><td>1</td><td>0</td><td>0</td><td>1</td><td>0</td><td>1</td><td>0</td><td>0</td><td>0</td><td>0</td><td>0</td></tr>\n",
       "\t<tr><th scope=row>5</th><td>0</td><td>0</td><td>0</td><td>0</td><td>0</td><td>0</td><td>1</td><td>1</td><td>0</td><td>0</td><td>1</td><td>0</td><td>0</td><td>0</td><td>0</td><td>0</td></tr>\n",
       "\t<tr><th scope=row>6</th><td>0</td><td>0</td><td>1</td><td>0</td><td>0</td><td>0</td><td>0</td><td>1</td><td>0</td><td>0</td><td>1</td><td>0</td><td>0</td><td>0</td><td>0</td><td>0</td></tr>\n",
       "\t<tr><th scope=row>7</th><td>0</td><td>0</td><td>1</td><td>0</td><td>0</td><td>0</td><td>0</td><td>0</td><td>1</td><td>0</td><td>0</td><td>0</td><td>0</td><td>0</td><td>0</td><td>0</td></tr>\n",
       "\t<tr><th scope=row>8</th><td>0</td><td>0</td><td>0</td><td>1</td><td>0</td><td>0</td><td>0</td><td>1</td><td>0</td><td>0</td><td>0</td><td>0</td><td>0</td><td>0</td><td>0</td><td>0</td></tr>\n",
       "\t<tr><th scope=row>9</th><td>0</td><td>0</td><td>0</td><td>1</td><td>1</td><td>0</td><td>1</td><td>0</td><td>0</td><td>0</td><td>1</td><td>0</td><td>0</td><td>0</td><td>0</td><td>0</td></tr>\n",
       "\t<tr><th scope=row>10</th><td>0</td><td>0</td><td>1</td><td>0</td><td>0</td><td>1</td><td>0</td><td>0</td><td>0</td><td>1</td><td>0</td><td>0</td><td>0</td><td>1</td><td>0</td><td>1</td></tr>\n",
       "\t<tr><th scope=row>11</th><td>0</td><td>0</td><td>0</td><td>0</td><td>0</td><td>0</td><td>0</td><td>0</td><td>1</td><td>0</td><td>0</td><td>0</td><td>0</td><td>0</td><td>0</td><td>0</td></tr>\n",
       "\t<tr><th scope=row>12</th><td>0</td><td>0</td><td>1</td><td>1</td><td>1</td><td>0</td><td>0</td><td>1</td><td>0</td><td>0</td><td>0</td><td>0</td><td>0</td><td>0</td><td>0</td><td>0</td></tr>\n",
       "\t<tr><th scope=row>13</th><td>0</td><td>0</td><td>0</td><td>0</td><td>0</td><td>0</td><td>0</td><td>0</td><td>0</td><td>0</td><td>0</td><td>0</td><td>0</td><td>0</td><td>0</td><td>0</td></tr>\n",
       "\t<tr><th scope=row>14</th><td>0</td><td>0</td><td>0</td><td>0</td><td>0</td><td>0</td><td>0</td><td>0</td><td>0</td><td>0</td><td>0</td><td>0</td><td>0</td><td>0</td><td>0</td><td>0</td></tr>\n",
       "\t<tr><th scope=row>15</th><td>0</td><td>0</td><td>0</td><td>0</td><td>0</td><td>0</td><td>0</td><td>0</td><td>1</td><td>0</td><td>0</td><td>0</td><td>0</td><td>0</td><td>0</td><td>0</td></tr>\n",
       "\t<tr><th scope=row>16</th><td>0</td><td>0</td><td>0</td><td>0</td><td>0</td><td>0</td><td>0</td><td>0</td><td>0</td><td>0</td><td>0</td><td>0</td><td>0</td><td>0</td><td>0</td><td>0</td></tr>\n",
       "\t<tr><th scope=row>17</th><td>0</td><td>0</td><td>0</td><td>0</td><td>0</td><td>0</td><td>0</td><td>0</td><td>1</td><td>0</td><td>0</td><td>0</td><td>0</td><td>0</td><td>0</td><td>0</td></tr>\n",
       "</tbody>\n",
       "</table>\n"
      ],
      "text/latex": [
       "A matrix: 16 × 16 of type dbl\n",
       "\\begin{tabular}{r|llllllllllllllll}\n",
       "  & V1 & V2 & V3 & V4 & V5 & V6 & V7 & V8 & V9 & V10 & V11 & V12 & V13 & V14 & V15 & V16\\\\\n",
       "\\hline\n",
       "\t2 & 0 & 0 & 0 & 0 & 0 & 0 & 0 & 0 & 0 & 0 & 0 & 0 & 0 & 0 & 0 & 0\\\\\n",
       "\t3 & 0 & 0 & 0 & 0 & 0 & 0 & 0 & 0 & 0 & 0 & 0 & 0 & 0 & 0 & 0 & 0\\\\\n",
       "\t4 & 0 & 0 & 0 & 0 & 1 & 1 & 0 & 0 & 1 & 0 & 1 & 0 & 0 & 0 & 0 & 0\\\\\n",
       "\t5 & 0 & 0 & 0 & 0 & 0 & 0 & 1 & 1 & 0 & 0 & 1 & 0 & 0 & 0 & 0 & 0\\\\\n",
       "\t6 & 0 & 0 & 1 & 0 & 0 & 0 & 0 & 1 & 0 & 0 & 1 & 0 & 0 & 0 & 0 & 0\\\\\n",
       "\t7 & 0 & 0 & 1 & 0 & 0 & 0 & 0 & 0 & 1 & 0 & 0 & 0 & 0 & 0 & 0 & 0\\\\\n",
       "\t8 & 0 & 0 & 0 & 1 & 0 & 0 & 0 & 1 & 0 & 0 & 0 & 0 & 0 & 0 & 0 & 0\\\\\n",
       "\t9 & 0 & 0 & 0 & 1 & 1 & 0 & 1 & 0 & 0 & 0 & 1 & 0 & 0 & 0 & 0 & 0\\\\\n",
       "\t10 & 0 & 0 & 1 & 0 & 0 & 1 & 0 & 0 & 0 & 1 & 0 & 0 & 0 & 1 & 0 & 1\\\\\n",
       "\t11 & 0 & 0 & 0 & 0 & 0 & 0 & 0 & 0 & 1 & 0 & 0 & 0 & 0 & 0 & 0 & 0\\\\\n",
       "\t12 & 0 & 0 & 1 & 1 & 1 & 0 & 0 & 1 & 0 & 0 & 0 & 0 & 0 & 0 & 0 & 0\\\\\n",
       "\t13 & 0 & 0 & 0 & 0 & 0 & 0 & 0 & 0 & 0 & 0 & 0 & 0 & 0 & 0 & 0 & 0\\\\\n",
       "\t14 & 0 & 0 & 0 & 0 & 0 & 0 & 0 & 0 & 0 & 0 & 0 & 0 & 0 & 0 & 0 & 0\\\\\n",
       "\t15 & 0 & 0 & 0 & 0 & 0 & 0 & 0 & 0 & 1 & 0 & 0 & 0 & 0 & 0 & 0 & 0\\\\\n",
       "\t16 & 0 & 0 & 0 & 0 & 0 & 0 & 0 & 0 & 0 & 0 & 0 & 0 & 0 & 0 & 0 & 0\\\\\n",
       "\t17 & 0 & 0 & 0 & 0 & 0 & 0 & 0 & 0 & 1 & 0 & 0 & 0 & 0 & 0 & 0 & 0\\\\\n",
       "\\end{tabular}\n"
      ],
      "text/markdown": [
       "\n",
       "A matrix: 16 × 16 of type dbl\n",
       "\n",
       "| <!--/--> | V1 | V2 | V3 | V4 | V5 | V6 | V7 | V8 | V9 | V10 | V11 | V12 | V13 | V14 | V15 | V16 |\n",
       "|---|---|---|---|---|---|---|---|---|---|---|---|---|---|---|---|---|\n",
       "| 2 | 0 | 0 | 0 | 0 | 0 | 0 | 0 | 0 | 0 | 0 | 0 | 0 | 0 | 0 | 0 | 0 |\n",
       "| 3 | 0 | 0 | 0 | 0 | 0 | 0 | 0 | 0 | 0 | 0 | 0 | 0 | 0 | 0 | 0 | 0 |\n",
       "| 4 | 0 | 0 | 0 | 0 | 1 | 1 | 0 | 0 | 1 | 0 | 1 | 0 | 0 | 0 | 0 | 0 |\n",
       "| 5 | 0 | 0 | 0 | 0 | 0 | 0 | 1 | 1 | 0 | 0 | 1 | 0 | 0 | 0 | 0 | 0 |\n",
       "| 6 | 0 | 0 | 1 | 0 | 0 | 0 | 0 | 1 | 0 | 0 | 1 | 0 | 0 | 0 | 0 | 0 |\n",
       "| 7 | 0 | 0 | 1 | 0 | 0 | 0 | 0 | 0 | 1 | 0 | 0 | 0 | 0 | 0 | 0 | 0 |\n",
       "| 8 | 0 | 0 | 0 | 1 | 0 | 0 | 0 | 1 | 0 | 0 | 0 | 0 | 0 | 0 | 0 | 0 |\n",
       "| 9 | 0 | 0 | 0 | 1 | 1 | 0 | 1 | 0 | 0 | 0 | 1 | 0 | 0 | 0 | 0 | 0 |\n",
       "| 10 | 0 | 0 | 1 | 0 | 0 | 1 | 0 | 0 | 0 | 1 | 0 | 0 | 0 | 1 | 0 | 1 |\n",
       "| 11 | 0 | 0 | 0 | 0 | 0 | 0 | 0 | 0 | 1 | 0 | 0 | 0 | 0 | 0 | 0 | 0 |\n",
       "| 12 | 0 | 0 | 1 | 1 | 1 | 0 | 0 | 1 | 0 | 0 | 0 | 0 | 0 | 0 | 0 | 0 |\n",
       "| 13 | 0 | 0 | 0 | 0 | 0 | 0 | 0 | 0 | 0 | 0 | 0 | 0 | 0 | 0 | 0 | 0 |\n",
       "| 14 | 0 | 0 | 0 | 0 | 0 | 0 | 0 | 0 | 0 | 0 | 0 | 0 | 0 | 0 | 0 | 0 |\n",
       "| 15 | 0 | 0 | 0 | 0 | 0 | 0 | 0 | 0 | 1 | 0 | 0 | 0 | 0 | 0 | 0 | 0 |\n",
       "| 16 | 0 | 0 | 0 | 0 | 0 | 0 | 0 | 0 | 0 | 0 | 0 | 0 | 0 | 0 | 0 | 0 |\n",
       "| 17 | 0 | 0 | 0 | 0 | 0 | 0 | 0 | 0 | 1 | 0 | 0 | 0 | 0 | 0 | 0 | 0 |\n",
       "\n"
      ],
      "text/plain": [
       "   V1 V2 V3 V4 V5 V6 V7 V8 V9 V10 V11 V12 V13 V14 V15 V16\n",
       "2  0  0  0  0  0  0  0  0  0  0   0   0   0   0   0   0  \n",
       "3  0  0  0  0  0  0  0  0  0  0   0   0   0   0   0   0  \n",
       "4  0  0  0  0  1  1  0  0  1  0   1   0   0   0   0   0  \n",
       "5  0  0  0  0  0  0  1  1  0  0   1   0   0   0   0   0  \n",
       "6  0  0  1  0  0  0  0  1  0  0   1   0   0   0   0   0  \n",
       "7  0  0  1  0  0  0  0  0  1  0   0   0   0   0   0   0  \n",
       "8  0  0  0  1  0  0  0  1  0  0   0   0   0   0   0   0  \n",
       "9  0  0  0  1  1  0  1  0  0  0   1   0   0   0   0   0  \n",
       "10 0  0  1  0  0  1  0  0  0  1   0   0   0   1   0   1  \n",
       "11 0  0  0  0  0  0  0  0  1  0   0   0   0   0   0   0  \n",
       "12 0  0  1  1  1  0  0  1  0  0   0   0   0   0   0   0  \n",
       "13 0  0  0  0  0  0  0  0  0  0   0   0   0   0   0   0  \n",
       "14 0  0  0  0  0  0  0  0  0  0   0   0   0   0   0   0  \n",
       "15 0  0  0  0  0  0  0  0  1  0   0   0   0   0   0   0  \n",
       "16 0  0  0  0  0  0  0  0  0  0   0   0   0   0   0   0  \n",
       "17 0  0  0  0  0  0  0  0  1  0   0   0   0   0   0   0  "
      ]
     },
     "metadata": {},
     "output_type": "display_data"
    }
   ],
   "source": [
    "data <- read.csv(\"./task1_data/florentine_business.csv\", header = FALSE)\n",
    "row_name <- head(data,1)\n",
    "data <- tail(data,16)\n",
    "sm <- data.matrix(data)-1\n",
    "sm"
   ]
  },
  {
   "cell_type": "markdown",
   "id": "67df4baa",
   "metadata": {},
   "source": [
    "|   | V1 | V2 | V3 | V4 | V5 | V6 | V7 | V8 | V9 | V10 | V11 | V12 | V13 | V14 | V15 | V16 |\n",
    "|--:|---:|---:|---:|---:|---:|---:|---:|---:|---:|----:|----:|----:|----:|----:|----:|----:|\n",
    "|   |  0 |  0 |  0 |  0 |  0 |  0 |  0 |  0 |  0 |   0 |   0 |   0 |   0 |   0 |   0 |   0 |\n",
    "|   |  0 |  0 |  0 |  0 |  0 |  0 |  0 |  0 |  0 |   0 |   0 |   0 |   0 |   0 |   0 |   0 |\n",
    "|   |  0 |  0 |  0 |  0 |  1 |  1 |  0 |  0 |  1 |   0 |   1 |   0 |   0 |   0 |   0 |   0 |\n",
    "|   |  0 |  0 |  0 |  0 |  0 |  0 |  1 |  1 |  0 |   0 |   1 |   0 |   0 |   0 |   0 |   0 |\n",
    "|   |  0 |  0 |  1 |  0 |  0 |  0 |  0 |  1 |  0 |   0 |   1 |   0 |   0 |   0 |   0 |   0 |\n",
    "|   |  0 |  0 |  1 |  0 |  0 |  0 |  0 |  0 |  1 |   0 |   0 |   0 |   0 |   0 |   0 |   0 |\n",
    "|   |  0 |  0 |  0 |  1 |  0 |  0 |  0 |  1 |  0 |   0 |   0 |   0 |   0 |   0 |   0 |   0 |\n",
    "|   |  0 |  0 |  0 |  1 |  1 |  0 |  1 |  0 |  0 |   0 |   1 |   0 |   0 |   0 |   0 |   0 |\n",
    "|   |  0 |  0 |  1 |  0 |  0 |  1 |  0 |  0 |  0 |   1 |   0 |   0 |   0 |   1 |   0 |   1 |\n",
    "|   |  0 |  0 |  0 |  0 |  0 |  0 |  0 |  0 |  1 |   0 |   0 |   0 |   0 |   0 |   0 |   0 |\n",
    "|   |  0 |  0 |  1 |  1 |  1 |  0 |  0 |  1 |  0 |   0 |   0 |   0 |   0 |   0 |   0 |   0 |\n",
    "|   |  0 |  0 |  0 |  0 |  0 |  0 |  0 |  0 |  0 |   0 |   0 |   0 |   0 |   0 |   0 |   0 |\n",
    "|   |  0 |  0 |  0 |  0 |  0 |  0 |  0 |  0 |  0 |   0 |   0 |   0 |   0 |   0 |   0 |   0 |\n",
    "|   |  0 |  0 |  0 |  0 |  0 |  0 |  0 |  0 |  1 |   0 |   0 |   0 |   0 |   0 |   0 |   0 |\n",
    "|   |  0 |  0 |  0 |  0 |  0 |  0 |  0 |  0 |  0 |   0 |   0 |   0 |   0 |   0 |   0 |   0 |\n",
    "|   |  0 |  0 |  0 |  0 |  0 |  0 |  0 |  0 |  1 |   0 |   0 |   0 |   0 |   0 |   0 |   0 |\n"
   ]
  },
  {
   "cell_type": "markdown",
   "id": "f4f7827b",
   "metadata": {},
   "source": [
    "2. Преобразовать социоматрицу в список рёбер. Вывести первые 5 элементов списка рёбер."
   ]
  },
  {
   "cell_type": "code",
   "execution_count": 22,
   "id": "7ca4b7c9",
   "metadata": {},
   "outputs": [
    {
     "data": {
      "text/html": [
       "<table class=\"dataframe\">\n",
       "<caption>A matrix: 5 × 2 of type chr</caption>\n",
       "<tbody>\n",
       "\t<tr><td>V3</td><td>V5 </td></tr>\n",
       "\t<tr><td>V3</td><td>V6 </td></tr>\n",
       "\t<tr><td>V3</td><td>V9 </td></tr>\n",
       "\t<tr><td>V3</td><td>V11</td></tr>\n",
       "\t<tr><td>V4</td><td>V7 </td></tr>\n",
       "</tbody>\n",
       "</table>\n"
      ],
      "text/latex": [
       "A matrix: 5 × 2 of type chr\n",
       "\\begin{tabular}{ll}\n",
       "\t V3 & V5 \\\\\n",
       "\t V3 & V6 \\\\\n",
       "\t V3 & V9 \\\\\n",
       "\t V3 & V11\\\\\n",
       "\t V4 & V7 \\\\\n",
       "\\end{tabular}\n"
      ],
      "text/markdown": [
       "\n",
       "A matrix: 5 × 2 of type chr\n",
       "\n",
       "| V3 | V5  |\n",
       "| V3 | V6  |\n",
       "| V3 | V9  |\n",
       "| V3 | V11 |\n",
       "| V4 | V7  |\n",
       "\n"
      ],
      "text/plain": [
       "     [,1] [,2]\n",
       "[1,] V3   V5  \n",
       "[2,] V3   V6  \n",
       "[3,] V3   V9  \n",
       "[4,] V3   V11 \n",
       "[5,] V4   V7  "
      ]
     },
     "metadata": {},
     "output_type": "display_data"
    }
   ],
   "source": [
    "g <- graph.adjacency(sm)\n",
    "e <- get.edgelist(g)\n",
    "head(e,5)"
   ]
  },
  {
   "cell_type": "markdown",
   "id": "11ee6500",
   "metadata": {},
   "source": [
    "3. Присвоить имена столбцам и строкам социоматрицы (имена – первая строка в csv-файле после комментариев)."
   ]
  },
  {
   "cell_type": "code",
   "execution_count": 27,
   "id": "3bbc8c85",
   "metadata": {},
   "outputs": [
    {
     "data": {
      "text/html": [
       "<table class=\"dataframe\">\n",
       "<caption>A matrix: 16 × 16 of type dbl</caption>\n",
       "<thead>\n",
       "\t<tr><th></th><th scope=col>Acciaiuoli</th><th scope=col> Albizzi</th><th scope=col> Barbadori</th><th scope=col> Bischeri</th><th scope=col> Castellani</th><th scope=col> Ginori</th><th scope=col> Guadagni</th><th scope=col> Lamberteschi</th><th scope=col> Medici</th><th scope=col> Pazzi</th><th scope=col> Peruzzi</th><th scope=col> Pucci</th><th scope=col> Ridolfi</th><th scope=col> Salviati</th><th scope=col> Strozzi</th><th scope=col> Tornabuoni</th></tr>\n",
       "</thead>\n",
       "<tbody>\n",
       "\t<tr><th scope=row>Acciaiuoli</th><td>0</td><td>0</td><td>0</td><td>0</td><td>0</td><td>0</td><td>0</td><td>0</td><td>0</td><td>0</td><td>0</td><td>0</td><td>0</td><td>0</td><td>0</td><td>0</td></tr>\n",
       "\t<tr><th scope=row> Albizzi</th><td>0</td><td>0</td><td>0</td><td>0</td><td>0</td><td>0</td><td>0</td><td>0</td><td>0</td><td>0</td><td>0</td><td>0</td><td>0</td><td>0</td><td>0</td><td>0</td></tr>\n",
       "\t<tr><th scope=row> Barbadori</th><td>0</td><td>0</td><td>0</td><td>0</td><td>1</td><td>1</td><td>0</td><td>0</td><td>1</td><td>0</td><td>1</td><td>0</td><td>0</td><td>0</td><td>0</td><td>0</td></tr>\n",
       "\t<tr><th scope=row> Bischeri</th><td>0</td><td>0</td><td>0</td><td>0</td><td>0</td><td>0</td><td>1</td><td>1</td><td>0</td><td>0</td><td>1</td><td>0</td><td>0</td><td>0</td><td>0</td><td>0</td></tr>\n",
       "\t<tr><th scope=row> Castellani</th><td>0</td><td>0</td><td>1</td><td>0</td><td>0</td><td>0</td><td>0</td><td>1</td><td>0</td><td>0</td><td>1</td><td>0</td><td>0</td><td>0</td><td>0</td><td>0</td></tr>\n",
       "\t<tr><th scope=row> Ginori</th><td>0</td><td>0</td><td>1</td><td>0</td><td>0</td><td>0</td><td>0</td><td>0</td><td>1</td><td>0</td><td>0</td><td>0</td><td>0</td><td>0</td><td>0</td><td>0</td></tr>\n",
       "\t<tr><th scope=row> Guadagni</th><td>0</td><td>0</td><td>0</td><td>1</td><td>0</td><td>0</td><td>0</td><td>1</td><td>0</td><td>0</td><td>0</td><td>0</td><td>0</td><td>0</td><td>0</td><td>0</td></tr>\n",
       "\t<tr><th scope=row> Lamberteschi</th><td>0</td><td>0</td><td>0</td><td>1</td><td>1</td><td>0</td><td>1</td><td>0</td><td>0</td><td>0</td><td>1</td><td>0</td><td>0</td><td>0</td><td>0</td><td>0</td></tr>\n",
       "\t<tr><th scope=row> Medici</th><td>0</td><td>0</td><td>1</td><td>0</td><td>0</td><td>1</td><td>0</td><td>0</td><td>0</td><td>1</td><td>0</td><td>0</td><td>0</td><td>1</td><td>0</td><td>1</td></tr>\n",
       "\t<tr><th scope=row> Pazzi</th><td>0</td><td>0</td><td>0</td><td>0</td><td>0</td><td>0</td><td>0</td><td>0</td><td>1</td><td>0</td><td>0</td><td>0</td><td>0</td><td>0</td><td>0</td><td>0</td></tr>\n",
       "\t<tr><th scope=row> Peruzzi</th><td>0</td><td>0</td><td>1</td><td>1</td><td>1</td><td>0</td><td>0</td><td>1</td><td>0</td><td>0</td><td>0</td><td>0</td><td>0</td><td>0</td><td>0</td><td>0</td></tr>\n",
       "\t<tr><th scope=row> Pucci</th><td>0</td><td>0</td><td>0</td><td>0</td><td>0</td><td>0</td><td>0</td><td>0</td><td>0</td><td>0</td><td>0</td><td>0</td><td>0</td><td>0</td><td>0</td><td>0</td></tr>\n",
       "\t<tr><th scope=row> Ridolfi</th><td>0</td><td>0</td><td>0</td><td>0</td><td>0</td><td>0</td><td>0</td><td>0</td><td>0</td><td>0</td><td>0</td><td>0</td><td>0</td><td>0</td><td>0</td><td>0</td></tr>\n",
       "\t<tr><th scope=row> Salviati</th><td>0</td><td>0</td><td>0</td><td>0</td><td>0</td><td>0</td><td>0</td><td>0</td><td>1</td><td>0</td><td>0</td><td>0</td><td>0</td><td>0</td><td>0</td><td>0</td></tr>\n",
       "\t<tr><th scope=row> Strozzi</th><td>0</td><td>0</td><td>0</td><td>0</td><td>0</td><td>0</td><td>0</td><td>0</td><td>0</td><td>0</td><td>0</td><td>0</td><td>0</td><td>0</td><td>0</td><td>0</td></tr>\n",
       "\t<tr><th scope=row> Tornabuoni</th><td>0</td><td>0</td><td>0</td><td>0</td><td>0</td><td>0</td><td>0</td><td>0</td><td>1</td><td>0</td><td>0</td><td>0</td><td>0</td><td>0</td><td>0</td><td>0</td></tr>\n",
       "</tbody>\n",
       "</table>\n"
      ],
      "text/latex": [
       "A matrix: 16 × 16 of type dbl\n",
       "\\begin{tabular}{r|llllllllllllllll}\n",
       "  & Acciaiuoli &  Albizzi &  Barbadori &  Bischeri &  Castellani &  Ginori &  Guadagni &  Lamberteschi &  Medici &  Pazzi &  Peruzzi &  Pucci &  Ridolfi &  Salviati &  Strozzi &  Tornabuoni\\\\\n",
       "\\hline\n",
       "\tAcciaiuoli & 0 & 0 & 0 & 0 & 0 & 0 & 0 & 0 & 0 & 0 & 0 & 0 & 0 & 0 & 0 & 0\\\\\n",
       "\t Albizzi & 0 & 0 & 0 & 0 & 0 & 0 & 0 & 0 & 0 & 0 & 0 & 0 & 0 & 0 & 0 & 0\\\\\n",
       "\t Barbadori & 0 & 0 & 0 & 0 & 1 & 1 & 0 & 0 & 1 & 0 & 1 & 0 & 0 & 0 & 0 & 0\\\\\n",
       "\t Bischeri & 0 & 0 & 0 & 0 & 0 & 0 & 1 & 1 & 0 & 0 & 1 & 0 & 0 & 0 & 0 & 0\\\\\n",
       "\t Castellani & 0 & 0 & 1 & 0 & 0 & 0 & 0 & 1 & 0 & 0 & 1 & 0 & 0 & 0 & 0 & 0\\\\\n",
       "\t Ginori & 0 & 0 & 1 & 0 & 0 & 0 & 0 & 0 & 1 & 0 & 0 & 0 & 0 & 0 & 0 & 0\\\\\n",
       "\t Guadagni & 0 & 0 & 0 & 1 & 0 & 0 & 0 & 1 & 0 & 0 & 0 & 0 & 0 & 0 & 0 & 0\\\\\n",
       "\t Lamberteschi & 0 & 0 & 0 & 1 & 1 & 0 & 1 & 0 & 0 & 0 & 1 & 0 & 0 & 0 & 0 & 0\\\\\n",
       "\t Medici & 0 & 0 & 1 & 0 & 0 & 1 & 0 & 0 & 0 & 1 & 0 & 0 & 0 & 1 & 0 & 1\\\\\n",
       "\t Pazzi & 0 & 0 & 0 & 0 & 0 & 0 & 0 & 0 & 1 & 0 & 0 & 0 & 0 & 0 & 0 & 0\\\\\n",
       "\t Peruzzi & 0 & 0 & 1 & 1 & 1 & 0 & 0 & 1 & 0 & 0 & 0 & 0 & 0 & 0 & 0 & 0\\\\\n",
       "\t Pucci & 0 & 0 & 0 & 0 & 0 & 0 & 0 & 0 & 0 & 0 & 0 & 0 & 0 & 0 & 0 & 0\\\\\n",
       "\t Ridolfi & 0 & 0 & 0 & 0 & 0 & 0 & 0 & 0 & 0 & 0 & 0 & 0 & 0 & 0 & 0 & 0\\\\\n",
       "\t Salviati & 0 & 0 & 0 & 0 & 0 & 0 & 0 & 0 & 1 & 0 & 0 & 0 & 0 & 0 & 0 & 0\\\\\n",
       "\t Strozzi & 0 & 0 & 0 & 0 & 0 & 0 & 0 & 0 & 0 & 0 & 0 & 0 & 0 & 0 & 0 & 0\\\\\n",
       "\t Tornabuoni & 0 & 0 & 0 & 0 & 0 & 0 & 0 & 0 & 1 & 0 & 0 & 0 & 0 & 0 & 0 & 0\\\\\n",
       "\\end{tabular}\n"
      ],
      "text/markdown": [
       "\n",
       "A matrix: 16 × 16 of type dbl\n",
       "\n",
       "| <!--/--> | Acciaiuoli |  Albizzi |  Barbadori |  Bischeri |  Castellani |  Ginori |  Guadagni |  Lamberteschi |  Medici |  Pazzi |  Peruzzi |  Pucci |  Ridolfi |  Salviati |  Strozzi |  Tornabuoni |\n",
       "|---|---|---|---|---|---|---|---|---|---|---|---|---|---|---|---|---|\n",
       "| Acciaiuoli | 0 | 0 | 0 | 0 | 0 | 0 | 0 | 0 | 0 | 0 | 0 | 0 | 0 | 0 | 0 | 0 |\n",
       "|  Albizzi | 0 | 0 | 0 | 0 | 0 | 0 | 0 | 0 | 0 | 0 | 0 | 0 | 0 | 0 | 0 | 0 |\n",
       "|  Barbadori | 0 | 0 | 0 | 0 | 1 | 1 | 0 | 0 | 1 | 0 | 1 | 0 | 0 | 0 | 0 | 0 |\n",
       "|  Bischeri | 0 | 0 | 0 | 0 | 0 | 0 | 1 | 1 | 0 | 0 | 1 | 0 | 0 | 0 | 0 | 0 |\n",
       "|  Castellani | 0 | 0 | 1 | 0 | 0 | 0 | 0 | 1 | 0 | 0 | 1 | 0 | 0 | 0 | 0 | 0 |\n",
       "|  Ginori | 0 | 0 | 1 | 0 | 0 | 0 | 0 | 0 | 1 | 0 | 0 | 0 | 0 | 0 | 0 | 0 |\n",
       "|  Guadagni | 0 | 0 | 0 | 1 | 0 | 0 | 0 | 1 | 0 | 0 | 0 | 0 | 0 | 0 | 0 | 0 |\n",
       "|  Lamberteschi | 0 | 0 | 0 | 1 | 1 | 0 | 1 | 0 | 0 | 0 | 1 | 0 | 0 | 0 | 0 | 0 |\n",
       "|  Medici | 0 | 0 | 1 | 0 | 0 | 1 | 0 | 0 | 0 | 1 | 0 | 0 | 0 | 1 | 0 | 1 |\n",
       "|  Pazzi | 0 | 0 | 0 | 0 | 0 | 0 | 0 | 0 | 1 | 0 | 0 | 0 | 0 | 0 | 0 | 0 |\n",
       "|  Peruzzi | 0 | 0 | 1 | 1 | 1 | 0 | 0 | 1 | 0 | 0 | 0 | 0 | 0 | 0 | 0 | 0 |\n",
       "|  Pucci | 0 | 0 | 0 | 0 | 0 | 0 | 0 | 0 | 0 | 0 | 0 | 0 | 0 | 0 | 0 | 0 |\n",
       "|  Ridolfi | 0 | 0 | 0 | 0 | 0 | 0 | 0 | 0 | 0 | 0 | 0 | 0 | 0 | 0 | 0 | 0 |\n",
       "|  Salviati | 0 | 0 | 0 | 0 | 0 | 0 | 0 | 0 | 1 | 0 | 0 | 0 | 0 | 0 | 0 | 0 |\n",
       "|  Strozzi | 0 | 0 | 0 | 0 | 0 | 0 | 0 | 0 | 0 | 0 | 0 | 0 | 0 | 0 | 0 | 0 |\n",
       "|  Tornabuoni | 0 | 0 | 0 | 0 | 0 | 0 | 0 | 0 | 1 | 0 | 0 | 0 | 0 | 0 | 0 | 0 |\n",
       "\n"
      ],
      "text/plain": [
       "              Acciaiuoli  Albizzi  Barbadori  Bischeri  Castellani  Ginori\n",
       "Acciaiuoli    0          0        0          0         0           0      \n",
       " Albizzi      0          0        0          0         0           0      \n",
       " Barbadori    0          0        0          0         1           1      \n",
       " Bischeri     0          0        0          0         0           0      \n",
       " Castellani   0          0        1          0         0           0      \n",
       " Ginori       0          0        1          0         0           0      \n",
       " Guadagni     0          0        0          1         0           0      \n",
       " Lamberteschi 0          0        0          1         1           0      \n",
       " Medici       0          0        1          0         0           1      \n",
       " Pazzi        0          0        0          0         0           0      \n",
       " Peruzzi      0          0        1          1         1           0      \n",
       " Pucci        0          0        0          0         0           0      \n",
       " Ridolfi      0          0        0          0         0           0      \n",
       " Salviati     0          0        0          0         0           0      \n",
       " Strozzi      0          0        0          0         0           0      \n",
       " Tornabuoni   0          0        0          0         0           0      \n",
       "               Guadagni  Lamberteschi  Medici  Pazzi  Peruzzi  Pucci  Ridolfi\n",
       "Acciaiuoli    0         0             0       0      0        0      0       \n",
       " Albizzi      0         0             0       0      0        0      0       \n",
       " Barbadori    0         0             1       0      1        0      0       \n",
       " Bischeri     1         1             0       0      1        0      0       \n",
       " Castellani   0         1             0       0      1        0      0       \n",
       " Ginori       0         0             1       0      0        0      0       \n",
       " Guadagni     0         1             0       0      0        0      0       \n",
       " Lamberteschi 1         0             0       0      1        0      0       \n",
       " Medici       0         0             0       1      0        0      0       \n",
       " Pazzi        0         0             1       0      0        0      0       \n",
       " Peruzzi      0         1             0       0      0        0      0       \n",
       " Pucci        0         0             0       0      0        0      0       \n",
       " Ridolfi      0         0             0       0      0        0      0       \n",
       " Salviati     0         0             1       0      0        0      0       \n",
       " Strozzi      0         0             0       0      0        0      0       \n",
       " Tornabuoni   0         0             1       0      0        0      0       \n",
       "               Salviati  Strozzi  Tornabuoni\n",
       "Acciaiuoli    0         0        0          \n",
       " Albizzi      0         0        0          \n",
       " Barbadori    0         0        0          \n",
       " Bischeri     0         0        0          \n",
       " Castellani   0         0        0          \n",
       " Ginori       0         0        0          \n",
       " Guadagni     0         0        0          \n",
       " Lamberteschi 0         0        0          \n",
       " Medici       1         0        1          \n",
       " Pazzi        0         0        0          \n",
       " Peruzzi      0         0        0          \n",
       " Pucci        0         0        0          \n",
       " Ridolfi      0         0        0          \n",
       " Salviati     0         0        0          \n",
       " Strozzi      0         0        0          \n",
       " Tornabuoni   0         0        0          "
      ]
     },
     "metadata": {},
     "output_type": "display_data"
    }
   ],
   "source": [
    "rownames(sm) <- colnames(sm) <- row_name\n",
    "sm"
   ]
  },
  {
   "cell_type": "markdown",
   "id": "3160ac4b",
   "metadata": {},
   "source": [
    "|   Acciaiuoli | Albizzi | Barbadori | Bischeri | Castellani | Ginori | Guadagni | Lamberteschi | Medici | Pazzi | Peruzzi | Pucci | Ridolfi | Salviati | Strozzi | Tornabuoni | V16 |\n",
    "|-------------:|--------:|----------:|---------:|-----------:|-------:|---------:|-------------:|-------:|------:|--------:|------:|--------:|---------:|--------:|-----------:|----:|\n",
    "|   Acciaiuoli |       0 |         0 |        0 |          0 |      0 |        0 |            0 |      0 |     0 |       0 |     0 |       0 |        0 |       0 |          0 |   0 |\n",
    "|      Albizzi |       0 |         0 |        0 |          0 |      0 |        0 |            0 |      0 |     0 |       0 |     0 |       0 |        0 |       0 |          0 |   0 |\n",
    "|    Barbadori |       0 |         0 |        0 |          0 |      1 |        1 |            0 |      0 |     1 |       0 |     1 |       0 |        0 |       0 |          0 |   0 |\n",
    "|     Bischeri |       0 |         0 |        0 |          0 |      0 |        0 |            1 |      1 |     0 |       0 |     1 |       0 |        0 |       0 |          0 |   0 |\n",
    "|   Castellani |       0 |         0 |        1 |          0 |      0 |        0 |            0 |      1 |     0 |       0 |     1 |       0 |        0 |       0 |          0 |   0 |\n",
    "|       Ginori |       0 |         0 |        1 |          0 |      0 |        0 |            0 |      0 |     1 |       0 |     0 |       0 |        0 |       0 |          0 |   0 |\n",
    "|     Guadagni |       0 |         0 |        0 |          1 |      0 |        0 |            0 |      1 |     0 |       0 |     0 |       0 |        0 |       0 |          0 |   0 |\n",
    "| Lamberteschi |       0 |         0 |        0 |          1 |      1 |        0 |            1 |      0 |     0 |       0 |     1 |       0 |        0 |       0 |          0 |   0 |\n",
    "|       Medici |       0 |         0 |        1 |          0 |      0 |        1 |            0 |      0 |     0 |       1 |     0 |       0 |        0 |       1 |          0 |   1 |\n",
    "|        Pazzi |       0 |         0 |        0 |          0 |      0 |        0 |            0 |      0 |     1 |       0 |     0 |       0 |        0 |       0 |          0 |   0 |\n",
    "|      Peruzzi |       0 |         0 |        1 |          1 |      1 |        0 |            0 |      1 |     0 |       0 |     0 |       0 |        0 |       0 |          0 |   0 |\n",
    "|        Pucci |       0 |         0 |        0 |          0 |      0 |        0 |            0 |      0 |     0 |       0 |     0 |       0 |        0 |       0 |          0 |   0 |\n",
    "|      Ridolfi |       0 |         0 |        0 |          0 |      0 |        0 |            0 |      0 |     0 |       0 |     0 |       0 |        0 |       0 |          0 |   0 |\n",
    "|     Salviati |       0 |         0 |        0 |          0 |      0 |        0 |            0 |      0 |     1 |       0 |     0 |       0 |        0 |       0 |          0 |   0 |\n",
    "|      Strozzi |       0 |         0 |        0 |          0 |      0 |        0 |            0 |      0 |     0 |       0 |     0 |       0 |        0 |       0 |          0 |   0 |\n",
    "|   Tornabuoni |       0 |         0 |        0 |          0 |      0 |        0 |            0 |      0 |     1 |       0 |     0 |       0 |        0 |       0 |          0 |   0 |"
   ]
  },
  {
   "cell_type": "markdown",
   "id": "077b9d86",
   "metadata": {},
   "source": [
    "4. С помощью соответствующих функций по полученной социоматрице построить ненаправленную сеть. Объяснить параметры, передаваемые в функцию."
   ]
  },
  {
   "cell_type": "code",
   "execution_count": 44,
   "id": "a3d98e52",
   "metadata": {},
   "outputs": [
    {
     "data": {
      "text/plain": [
       "IGRAPH 3a06d93 UN-- 16 15 -- \n",
       "+ attr: name (v/c)\n",
       "+ edges from 3a06d93 (vertex names):\n",
       " [1]  Barbadori   -- Castellani    Barbadori   -- Ginori      \n",
       " [3]  Barbadori   -- Medici        Barbadori   -- Peruzzi     \n",
       " [5]  Bischeri    -- Guadagni      Bischeri    -- Lamberteschi\n",
       " [7]  Bischeri    -- Peruzzi       Castellani  -- Lamberteschi\n",
       " [9]  Castellani  -- Peruzzi       Ginori      -- Medici      \n",
       "[11]  Guadagni    -- Lamberteschi  Lamberteschi-- Peruzzi     \n",
       "[13]  Medici      -- Pazzi         Medici      -- Salviati    \n",
       "[15]  Medici      -- Tornabuoni  "
      ]
     },
     "metadata": {},
     "output_type": "display_data"
    }
   ],
   "source": [
    "net <- graph_from_adjacency_matrix(sm, mode = \"undirected\")\n",
    "net"
   ]
  },
  {
   "cell_type": "markdown",
   "id": "fa064f9c",
   "metadata": {},
   "source": [
    "sm: социоматрица\n",
    "\n",
    "mode = \"undirected\" задаёт ненапрвленные ребра."
   ]
  },
  {
   "cell_type": "markdown",
   "id": "95ba10d0",
   "metadata": {},
   "source": [
    "В функцию передаётся матрица и mode устанавливается в undirected (ненаправленная сеть)"
   ]
  },
  {
   "cell_type": "markdown",
   "id": "56d53191",
   "metadata": {},
   "source": [
    "5. Отобразить сеть с помощью алгоритмов укладки ФрюхтерманаРейнгольда и Камада–Каваи. Объяснить, в чём различие между алгоритмами и укладками."
   ]
  },
  {
   "cell_type": "code",
   "execution_count": 45,
   "id": "1b003a99",
   "metadata": {},
   "outputs": [
    {
     "data": {
      "image/png": "[encoded data removed]",
      "text/plain": [
       "Plot with title \"Камада-Каваи\""
      ]
     },
     "metadata": {
      "image/png": {
       "height": 420,
       "width": 420
      }
     },
     "output_type": "display_data"
    },
    {
     "data": {
      "image/png": "[encoded data removed]",
      "text/plain": [
       "Plot with title \"Фрюхтермана Рейнгольда\""
      ]
     },
     "metadata": {
      "image/png": {
       "height": 420,
       "width": 420
      }
     },
     "output_type": "display_data"
    }
   ],
   "source": [
    "plot(n, layout=layout_with_kk, main=\"Камада-Каваи\")\n",
    "plot(n, layout=layout.fruchterman.reingold, main=\"Фрюхтермана Рейнгольда\")"
   ]
  },
  {
   "cell_type": "markdown",
   "id": "4c06c2b8",
   "metadata": {},
   "source": [
    "Алгоритм Камада-Каваи выбирает на каждой итерации одну вершину, применяю наибольшую силу и перемещая её, при этом остальные вершины остаются фиксированными, а алгоритм Фрюхтермана-Рейнгольда применяет силу к каждой вершине."
   ]
  },
  {
   "cell_type": "markdown",
   "id": "5b6eb2e9",
   "metadata": {},
   "source": [
    "6. Вывести «описательную сводку» сети."
   ]
  },
  {
   "cell_type": "code",
   "execution_count": 46,
   "id": "d78a1cfe",
   "metadata": {},
   "outputs": [
    {
     "data": {
      "text/plain": [
       "   Acciaiuoli     Albizzi    Barbadori      Bischeri        Castellani    \n",
       " Min.   :0    Min.   :0   Min.   :0.00   Min.   :0.0000   Min.   :0.0000  \n",
       " 1st Qu.:0    1st Qu.:0   1st Qu.:0.00   1st Qu.:0.0000   1st Qu.:0.0000  \n",
       " Median :0    Median :0   Median :0.00   Median :0.0000   Median :0.0000  \n",
       " Mean   :0    Mean   :0   Mean   :0.25   Mean   :0.1875   Mean   :0.1875  \n",
       " 3rd Qu.:0    3rd Qu.:0   3rd Qu.:0.25   3rd Qu.:0.0000   3rd Qu.:0.0000  \n",
       " Max.   :0    Max.   :0   Max.   :1.00   Max.   :1.0000   Max.   :1.0000  \n",
       "     Ginori         Guadagni      Lamberteschi      Medici      \n",
       " Min.   :0.000   Min.   :0.000   Min.   :0.00   Min.   :0.0000  \n",
       " 1st Qu.:0.000   1st Qu.:0.000   1st Qu.:0.00   1st Qu.:0.0000  \n",
       " Median :0.000   Median :0.000   Median :0.00   Median :0.0000  \n",
       " Mean   :0.125   Mean   :0.125   Mean   :0.25   Mean   :0.3125  \n",
       " 3rd Qu.:0.000   3rd Qu.:0.000   3rd Qu.:0.25   3rd Qu.:1.0000  \n",
       " Max.   :1.000   Max.   :1.000   Max.   :1.00   Max.   :1.0000  \n",
       "      Pazzi           Peruzzi         Pucci      Ridolfi    Salviati     \n",
       " Min.   :0.0000   Min.   :0.00   Min.   :0   Min.   :0   Min.   :0.0000  \n",
       " 1st Qu.:0.0000   1st Qu.:0.00   1st Qu.:0   1st Qu.:0   1st Qu.:0.0000  \n",
       " Median :0.0000   Median :0.00   Median :0   Median :0   Median :0.0000  \n",
       " Mean   :0.0625   Mean   :0.25   Mean   :0   Mean   :0   Mean   :0.0625  \n",
       " 3rd Qu.:0.0000   3rd Qu.:0.25   3rd Qu.:0   3rd Qu.:0   3rd Qu.:0.0000  \n",
       " Max.   :1.0000   Max.   :1.00   Max.   :0   Max.   :0   Max.   :1.0000  \n",
       "     Strozzi   Tornabuoni    \n",
       " Min.   :0   Min.   :0.0000  \n",
       " 1st Qu.:0   1st Qu.:0.0000  \n",
       " Median :0   Median :0.0000  \n",
       " Mean   :0   Mean   :0.0625  \n",
       " 3rd Qu.:0   3rd Qu.:0.0000  \n",
       " Max.   :0   Max.   :1.0000  "
      ]
     },
     "metadata": {},
     "output_type": "display_data"
    }
   ],
   "source": [
    "summary(sm, print.adj = FALSE)"
   ]
  },
  {
   "cell_type": "markdown",
   "id": "f222710c",
   "metadata": {},
   "source": [
    "7. Вычислить «пятичисловую сводку» сети:\n",
    "\n",
    "(a) Вычислить размер сети.\n",
    "\n",
    "(b) Вычислить плотность сети вручную и с помощью соответствующей функции. Сделать выводы.\n",
    "\n",
    "(c) Определить число компонент в сети по графику. Подтвердить свои догадки с помощью соответствующей функции. Сделать выводы.\n",
    "\n",
    "(d) Вычислить диаметр сети. Сделать выводы\n",
    "\n",
    "(e) Вычислить коэффициент кластеризации. Сделать выводы."
   ]
  },
  {
   "cell_type": "code",
   "execution_count": 47,
   "id": "d7d66408",
   "metadata": {},
   "outputs": [
    {
     "name": "stdout",
     "output_type": "stream",
     "text": [
      "Размер сети:  16"
     ]
    }
   ],
   "source": [
    "cat(\"Размер сети: \", gorder(n))"
   ]
  },
  {
   "cell_type": "code",
   "execution_count": 48,
   "id": "74f3d20b",
   "metadata": {},
   "outputs": [
    {
     "name": "stdout",
     "output_type": "stream",
     "text": [
      "\n",
      "Плотность сети 0.125\n",
      "Плотность сети в ручную 0.125"
     ]
    }
   ],
   "source": [
    "cat(\"\\nПлотность сети\", edge_density(n))\n",
    "cat(\"\\nПлотность сети в ручную\", gsize(n)/choose(gorder(n),2))"
   ]
  },
  {
   "cell_type": "markdown",
   "id": "74fb8ca8",
   "metadata": {},
   "source": [
    "Выводы: результаты совпали."
   ]
  },
  {
   "cell_type": "markdown",
   "id": "471b9ca4",
   "metadata": {},
   "source": [
    "В сети 6 компонент связности"
   ]
  },
  {
   "cell_type": "code",
   "execution_count": 49,
   "id": "5a5f568c",
   "metadata": {},
   "outputs": [
    {
     "name": "stdout",
     "output_type": "stream",
     "text": [
      "\n",
      "Число компонент 6"
     ]
    }
   ],
   "source": [
    "cat(\"\\nЧисло компонент\", components(n)$no)"
   ]
  },
  {
   "cell_type": "markdown",
   "id": "8e5960e0",
   "metadata": {},
   "source": [
    "Число совпало с определенным числом."
   ]
  },
  {
   "cell_type": "code",
   "execution_count": 50,
   "id": "2e2fc9a5",
   "metadata": {},
   "outputs": [
    {
     "name": "stdout",
     "output_type": "stream",
     "text": [
      "\n",
      "Диаметр сети 5"
     ]
    }
   ],
   "source": [
    "cat(\"\\nДиаметр сети\", diameter(n))"
   ]
  },
  {
   "cell_type": "markdown",
   "id": "0477db20",
   "metadata": {},
   "source": [
    "По сети видно, что минимально расстояние между двумя максимвльно отдаленных вершин равно 5."
   ]
  },
  {
   "cell_type": "code",
   "execution_count": 51,
   "id": "9317ea7a",
   "metadata": {},
   "outputs": [
    {
     "name": "stdout",
     "output_type": "stream",
     "text": [
      "\n",
      "Коэффициент кластеризации 0.4166667"
     ]
    }
   ],
   "source": [
    "cat(\"\\nКоэффициент кластеризации\", transitivity(n))"
   ]
  },
  {
   "cell_type": "markdown",
   "id": "5adc8ac1",
   "metadata": {},
   "source": [
    "8. Вычислить среднюю степень узлов и дисперсию. Сделать выводы."
   ]
  },
  {
   "cell_type": "code",
   "execution_count": 52,
   "id": "6f6374a6",
   "metadata": {},
   "outputs": [
    {
     "name": "stdout",
     "output_type": "stream",
     "text": [
      "Средняя степень 1.875\n",
      "Дисперсия 3.05"
     ]
    }
   ],
   "source": [
    "cat(\"Средняя степень\", mean(degree(n)))\n",
    "cat(\"\\nДисперсия\", var(degree(n)))"
   ]
  },
  {
   "attachments": {
    "456.png": {
     "image/png": "[encoded data removed]"
    }
   },
   "cell_type": "markdown",
   "id": "95a2a892",
   "metadata": {},
   "source": [
    "9. Заполнить таблицу для различных мер центральности. Примечание: меры центральности вычислить для неизолированных вершин:\n",
    "![456.png](attachment:456.png)\n",
    "Сделать выводы."
   ]
  },
  {
   "cell_type": "code",
   "execution_count": 53,
   "id": "49f47513",
   "metadata": {},
   "outputs": [
    {
     "data": {
      "text/html": [
       "<table class=\"dataframe\">\n",
       "<caption>A data.frame: 11 × 5</caption>\n",
       "<thead>\n",
       "\t<tr><th></th><th scope=col>ni</th><th scope=col>CD</th><th scope=col>CC</th><th scope=col>CB</th><th scope=col>CI</th></tr>\n",
       "\t<tr><th></th><th scope=col>&lt;int&gt;</th><th scope=col>&lt;dbl&gt;</th><th scope=col>&lt;dbl&gt;</th><th scope=col>&lt;dbl&gt;</th><th scope=col>&lt;dbl&gt;</th></tr>\n",
       "</thead>\n",
       "<tbody>\n",
       "\t<tr><th scope=row> Barbadori</th><td> 1</td><td>0.4</td><td>0.5882353</td><td>0.55555556</td><td>0.12446815</td></tr>\n",
       "\t<tr><th scope=row> Bischeri</th><td> 2</td><td>0.3</td><td>0.4000000</td><td>0.05555556</td><td>0.08898359</td></tr>\n",
       "\t<tr><th scope=row> Castellani</th><td> 3</td><td>0.3</td><td>0.5000000</td><td>0.11111111</td><td>0.10457651</td></tr>\n",
       "\t<tr><th scope=row> Ginori</th><td> 4</td><td>0.2</td><td>0.4545455</td><td>0.00000000</td><td>0.09531249</td></tr>\n",
       "\t<tr><th scope=row> Guadagni</th><td> 5</td><td>0.2</td><td>0.3125000</td><td>0.00000000</td><td>0.07656303</td></tr>\n",
       "\t<tr><th scope=row> Lamberteschi</th><td> 6</td><td>0.4</td><td>0.4166667</td><td>0.13333333</td><td>0.09837087</td></tr>\n",
       "\t<tr><th scope=row> Medici</th><td> 7</td><td>0.5</td><td>0.5263158</td><td>0.53333333</td><td>0.11089878</td></tr>\n",
       "\t<tr><th scope=row> Pazzi</th><td> 8</td><td>0.1</td><td>0.3571429</td><td>0.00000000</td><td>0.06388631</td></tr>\n",
       "\t<tr><th scope=row> Peruzzi</th><td> 9</td><td>0.4</td><td>0.5263158</td><td>0.30000000</td><td>0.10916767</td></tr>\n",
       "\t<tr><th scope=row> Salviati</th><td>10</td><td>0.1</td><td>0.3571429</td><td>0.00000000</td><td>0.06388631</td></tr>\n",
       "\t<tr><th scope=row> Tornabuoni</th><td>11</td><td>0.1</td><td>0.3571429</td><td>0.00000000</td><td>0.06388631</td></tr>\n",
       "</tbody>\n",
       "</table>\n"
      ],
      "text/latex": [
       "A data.frame: 11 × 5\n",
       "\\begin{tabular}{r|lllll}\n",
       "  & ni & CD & CC & CB & CI\\\\\n",
       "  & <int> & <dbl> & <dbl> & <dbl> & <dbl>\\\\\n",
       "\\hline\n",
       "\t Barbadori &  1 & 0.4 & 0.5882353 & 0.55555556 & 0.12446815\\\\\n",
       "\t Bischeri &  2 & 0.3 & 0.4000000 & 0.05555556 & 0.08898359\\\\\n",
       "\t Castellani &  3 & 0.3 & 0.5000000 & 0.11111111 & 0.10457651\\\\\n",
       "\t Ginori &  4 & 0.2 & 0.4545455 & 0.00000000 & 0.09531249\\\\\n",
       "\t Guadagni &  5 & 0.2 & 0.3125000 & 0.00000000 & 0.07656303\\\\\n",
       "\t Lamberteschi &  6 & 0.4 & 0.4166667 & 0.13333333 & 0.09837087\\\\\n",
       "\t Medici &  7 & 0.5 & 0.5263158 & 0.53333333 & 0.11089878\\\\\n",
       "\t Pazzi &  8 & 0.1 & 0.3571429 & 0.00000000 & 0.06388631\\\\\n",
       "\t Peruzzi &  9 & 0.4 & 0.5263158 & 0.30000000 & 0.10916767\\\\\n",
       "\t Salviati & 10 & 0.1 & 0.3571429 & 0.00000000 & 0.06388631\\\\\n",
       "\t Tornabuoni & 11 & 0.1 & 0.3571429 & 0.00000000 & 0.06388631\\\\\n",
       "\\end{tabular}\n"
      ],
      "text/markdown": [
       "\n",
       "A data.frame: 11 × 5\n",
       "\n",
       "| <!--/--> | ni &lt;int&gt; | CD &lt;dbl&gt; | CC &lt;dbl&gt; | CB &lt;dbl&gt; | CI &lt;dbl&gt; |\n",
       "|---|---|---|---|---|---|\n",
       "|  Barbadori |  1 | 0.4 | 0.5882353 | 0.55555556 | 0.12446815 |\n",
       "|  Bischeri |  2 | 0.3 | 0.4000000 | 0.05555556 | 0.08898359 |\n",
       "|  Castellani |  3 | 0.3 | 0.5000000 | 0.11111111 | 0.10457651 |\n",
       "|  Ginori |  4 | 0.2 | 0.4545455 | 0.00000000 | 0.09531249 |\n",
       "|  Guadagni |  5 | 0.2 | 0.3125000 | 0.00000000 | 0.07656303 |\n",
       "|  Lamberteschi |  6 | 0.4 | 0.4166667 | 0.13333333 | 0.09837087 |\n",
       "|  Medici |  7 | 0.5 | 0.5263158 | 0.53333333 | 0.11089878 |\n",
       "|  Pazzi |  8 | 0.1 | 0.3571429 | 0.00000000 | 0.06388631 |\n",
       "|  Peruzzi |  9 | 0.4 | 0.5263158 | 0.30000000 | 0.10916767 |\n",
       "|  Salviati | 10 | 0.1 | 0.3571429 | 0.00000000 | 0.06388631 |\n",
       "|  Tornabuoni | 11 | 0.1 | 0.3571429 | 0.00000000 | 0.06388631 |\n",
       "\n"
      ],
      "text/plain": [
       "              ni CD  CC        CB         CI        \n",
       " Barbadori     1 0.4 0.5882353 0.55555556 0.12446815\n",
       " Bischeri      2 0.3 0.4000000 0.05555556 0.08898359\n",
       " Castellani    3 0.3 0.5000000 0.11111111 0.10457651\n",
       " Ginori        4 0.2 0.4545455 0.00000000 0.09531249\n",
       " Guadagni      5 0.2 0.3125000 0.00000000 0.07656303\n",
       " Lamberteschi  6 0.4 0.4166667 0.13333333 0.09837087\n",
       " Medici        7 0.5 0.5263158 0.53333333 0.11089878\n",
       " Pazzi         8 0.1 0.3571429 0.00000000 0.06388631\n",
       " Peruzzi       9 0.4 0.5263158 0.30000000 0.10916767\n",
       " Salviati     10 0.1 0.3571429 0.00000000 0.06388631\n",
       " Tornabuoni   11 0.1 0.3571429 0.00000000 0.06388631"
      ]
     },
     "metadata": {},
     "output_type": "display_data"
    }
   ],
   "source": [
    "nm <- sm[!apply(sm == 0, 1, all), !apply(sm == 0, 1, all)]\n",
    "gn <- graph_from_adjacency_matrix(nm, mode = \"undirected\")\n",
    "\n",
    "ni <- 1:gorder(gn)\n",
    "Cd <- degree(gn)\n",
    "im <- solve(laplacian_matrix(gn) + 1)\n",
    "T <- sum(diag(im))\n",
    "R <- colSums(im)\n",
    "CI <- 1/(diag(im) + (T - 2*R)/gorder(gn))\n",
    "\n",
    "CD <- Cd / (gorder(gn) - 1)\n",
    "CC <- closeness(gn, normalized = TRUE)\n",
    "CB <- betweenness(gn, normalized = TRUE)\n",
    "CI <- CI / sum(CI)\n",
    "\n",
    "center <- data.frame(ni, CD, CC, CB, CI)\n",
    "center"
   ]
  },
  {
   "cell_type": "markdown",
   "id": "11b530fe",
   "metadata": {},
   "source": [
    "|              | ni |  CD |        CC |         CB |         CI |\n",
    "|-------------:|---:|----:|----------:|-----------:|-----------:|\n",
    "|    Barbadori |  1 | 0.4 | 0.5882353 | 0.55555556 | 0.12446815 |\n",
    "|     Bischeri |  2 | 0.3 | 0.4000000 | 0.05555556 | 0.08898359 |\n",
    "|   Castellani |  3 | 0.3 | 0.5000000 | 0.11111111 | 0.10457651 |\n",
    "|       Ginori |  4 | 0.2 | 0.4545455 | 0.00000000 | 0.09531249 |\n",
    "|     Guadagni |  5 | 0.2 | 0.3125000 | 0.00000000 | 0.07656303 |\n",
    "| Lamberteschi |  6 | 0.4 | 0.4166667 | 0.13333333 | 0.09837087 |\n",
    "|       Medici |  7 | 0.5 | 0.5263158 | 0.53333333 | 0.11089878 |\n",
    "|        Pazzi |  8 | 0.1 | 0.3571429 | 0.00000000 | 0.06388631 |\n",
    "|      Peruzzi |  9 | 0.4 | 0.5263158 | 0.30000000 | 0.10916767 |\n",
    "|     Salviati | 10 | 0.1 | 0.3571429 | 0.00000000 | 0.06388631 |\n",
    "|   Tornabuoni | 11 | 0.1 | 0.3571429 | 0.00000000 | 0.06388631 |"
   ]
  },
  {
   "cell_type": "markdown",
   "id": "93d8745d",
   "metadata": {},
   "source": [
    "10. Вычислить значение централизации для каждой меры. Сделать выводы."
   ]
  },
  {
   "cell_type": "code",
   "execution_count": 54,
   "id": "cf4b568e",
   "metadata": {},
   "outputs": [
    {
     "name": "stdout",
     "output_type": "stream",
     "text": [
      "По степени:  0.02777778\n",
      "По близости:  0.3535226\n",
      "По посреднечеству:  0.4422222\n",
      "По информации:  0.000452125"
     ]
    }
   ],
   "source": [
    "cat(\"По степени: \", centralize(CD, (gorder(gn) - 1) * (gorder(gn) - 2)))\n",
    "cat(\"\\nПо близости: \", centralize(CC, (gorder(gn) - 1) * (gorder(gn) - 2) / (2 * gorder(gn) - 3)))\n",
    "cat(\"\\nПо посреднечеству: \", centralize(CB, (gorder(gn) - 1)))\n",
    "cat(\"\\nПо информации: \", var(CI))"
   ]
  },
  {
   "cell_type": "markdown",
   "id": "08454ad9",
   "metadata": {},
   "source": [
    "Значение ценрализации зависит от той меры, относительно которой она считается "
   ]
  },
  {
   "cell_type": "markdown",
   "id": "ff04d09d",
   "metadata": {},
   "source": [
    "11. Выявить точки сочленения и мосты сети. Подтвердить свои догадки с помощью соответствующих функций (если их нет – реализуйте их самостоятельно). Построить график сети, на котором выделены точки сочленения и мосты."
   ]
  },
  {
   "cell_type": "code",
   "execution_count": 60,
   "id": "5b758d9c",
   "metadata": {},
   "outputs": [
    {
     "name": "stdout",
     "output_type": "stream",
     "text": [
      "Точки сочленения"
     ]
    },
    {
     "data": {
      "text/plain": [
       "+ 2/16 vertices, named, from 3a06d93:\n",
       "[1]  Medici     Barbadori"
      ]
     },
     "metadata": {},
     "output_type": "display_data"
    },
    {
     "name": "stdout",
     "output_type": "stream",
     "text": [
      "Мосты"
     ]
    },
    {
     "data": {
      "text/plain": [
       "+ 3/15 edges from 3a06d93 (vertex names):\n",
       "[1]  Medici-- Pazzi       Medici-- Salviati    Medici-- Tornabuoni"
      ]
     },
     "metadata": {},
     "output_type": "display_data"
    },
    {
     "data": {
      "image/png": "[encoded data removed]",
      "text/plain": [
       "Plot with title \"График\""
      ]
     },
     "metadata": {
      "image/png": {
       "height": 420,
       "width": 420
      }
     },
     "output_type": "display_data"
    }
   ],
   "source": [
    "ap <- articulation_points(net)\n",
    "bridges <- bridges(net)\n",
    "cat(\"Точки сочленения\")\n",
    "ap\n",
    "cat(\"Мосты\")\n",
    "bridges\n",
    "\n",
    "vc <- ifelse(is.na(match(V(g), ap)), \"green\", \"blue\")\n",
    "ec <- ifelse(is.na(match(E(g), bridges)), \"green\", \"orange\")\n",
    "\n",
    "plot(net, vertex.size = 8, edge.width = 3, vertex.color = vc, edge.color = ec, vertex.lable.dist = 2, main=\"График\")"
   ]
  },
  {
   "cell_type": "markdown",
   "id": "1b46eb39",
   "metadata": {},
   "source": [
    "12. Выполнить пп. 2–8 для направленной сети из файла krackhardt_advice.csv\n",
    "(для нечётных вариантов) и файла krackhardt_friendship.csv\n",
    "(для чётных вариантов)."
   ]
  },
  {
   "cell_type": "code",
   "execution_count": 72,
   "id": "06b91a00",
   "metadata": {},
   "outputs": [
    {
     "data": {
      "text/html": [
       "<table class=\"dataframe\">\n",
       "<caption>A matrix: 21 × 21 of type int</caption>\n",
       "<thead>\n",
       "\t<tr><th scope=col>V1</th><th scope=col>V2</th><th scope=col>V3</th><th scope=col>V4</th><th scope=col>V5</th><th scope=col>V6</th><th scope=col>V7</th><th scope=col>V8</th><th scope=col>V9</th><th scope=col>V10</th><th scope=col>⋯</th><th scope=col>V12</th><th scope=col>V13</th><th scope=col>V14</th><th scope=col>V15</th><th scope=col>V16</th><th scope=col>V17</th><th scope=col>V18</th><th scope=col>V19</th><th scope=col>V20</th><th scope=col>V21</th></tr>\n",
       "</thead>\n",
       "<tbody>\n",
       "\t<tr><td>0</td><td>1</td><td>0</td><td>1</td><td>0</td><td>0</td><td>0</td><td>1</td><td>0</td><td>0</td><td>⋯</td><td>0</td><td>0</td><td>0</td><td>0</td><td>1</td><td>0</td><td>1</td><td>0</td><td>0</td><td>1</td></tr>\n",
       "\t<tr><td>0</td><td>0</td><td>0</td><td>0</td><td>0</td><td>1</td><td>1</td><td>0</td><td>0</td><td>0</td><td>⋯</td><td>0</td><td>0</td><td>0</td><td>0</td><td>0</td><td>0</td><td>0</td><td>0</td><td>0</td><td>1</td></tr>\n",
       "\t<tr><td>1</td><td>1</td><td>0</td><td>1</td><td>0</td><td>1</td><td>1</td><td>1</td><td>1</td><td>1</td><td>⋯</td><td>1</td><td>0</td><td>1</td><td>0</td><td>0</td><td>1</td><td>1</td><td>0</td><td>1</td><td>1</td></tr>\n",
       "\t<tr><td>1</td><td>1</td><td>0</td><td>0</td><td>0</td><td>1</td><td>0</td><td>1</td><td>0</td><td>1</td><td>⋯</td><td>1</td><td>0</td><td>0</td><td>0</td><td>1</td><td>1</td><td>1</td><td>0</td><td>1</td><td>1</td></tr>\n",
       "\t<tr><td>1</td><td>1</td><td>0</td><td>0</td><td>0</td><td>1</td><td>1</td><td>1</td><td>0</td><td>1</td><td>⋯</td><td>0</td><td>1</td><td>1</td><td>0</td><td>1</td><td>1</td><td>1</td><td>1</td><td>1</td><td>1</td></tr>\n",
       "\t<tr><td>0</td><td>0</td><td>0</td><td>0</td><td>0</td><td>0</td><td>0</td><td>0</td><td>0</td><td>0</td><td>⋯</td><td>0</td><td>0</td><td>0</td><td>0</td><td>0</td><td>0</td><td>0</td><td>0</td><td>0</td><td>1</td></tr>\n",
       "\t<tr><td>0</td><td>1</td><td>0</td><td>0</td><td>0</td><td>1</td><td>0</td><td>0</td><td>0</td><td>0</td><td>⋯</td><td>1</td><td>0</td><td>1</td><td>0</td><td>0</td><td>1</td><td>1</td><td>0</td><td>0</td><td>1</td></tr>\n",
       "\t<tr><td>0</td><td>1</td><td>0</td><td>1</td><td>0</td><td>1</td><td>1</td><td>0</td><td>0</td><td>1</td><td>⋯</td><td>0</td><td>0</td><td>0</td><td>0</td><td>0</td><td>0</td><td>1</td><td>0</td><td>0</td><td>1</td></tr>\n",
       "\t<tr><td>1</td><td>1</td><td>0</td><td>0</td><td>0</td><td>1</td><td>1</td><td>1</td><td>0</td><td>1</td><td>⋯</td><td>1</td><td>0</td><td>1</td><td>0</td><td>1</td><td>1</td><td>1</td><td>0</td><td>0</td><td>1</td></tr>\n",
       "\t<tr><td>1</td><td>1</td><td>1</td><td>1</td><td>1</td><td>0</td><td>0</td><td>1</td><td>0</td><td>0</td><td>⋯</td><td>0</td><td>1</td><td>0</td><td>1</td><td>1</td><td>1</td><td>1</td><td>1</td><td>1</td><td>0</td></tr>\n",
       "\t<tr><td>1</td><td>1</td><td>0</td><td>0</td><td>0</td><td>0</td><td>1</td><td>0</td><td>0</td><td>0</td><td>⋯</td><td>0</td><td>0</td><td>0</td><td>0</td><td>0</td><td>0</td><td>0</td><td>0</td><td>0</td><td>0</td></tr>\n",
       "\t<tr><td>0</td><td>0</td><td>0</td><td>0</td><td>0</td><td>0</td><td>1</td><td>0</td><td>0</td><td>0</td><td>⋯</td><td>0</td><td>0</td><td>0</td><td>0</td><td>0</td><td>0</td><td>0</td><td>0</td><td>0</td><td>1</td></tr>\n",
       "\t<tr><td>1</td><td>1</td><td>0</td><td>0</td><td>1</td><td>0</td><td>0</td><td>0</td><td>1</td><td>0</td><td>⋯</td><td>0</td><td>0</td><td>1</td><td>0</td><td>0</td><td>0</td><td>1</td><td>0</td><td>0</td><td>0</td></tr>\n",
       "\t<tr><td>0</td><td>1</td><td>0</td><td>0</td><td>0</td><td>0</td><td>1</td><td>0</td><td>0</td><td>0</td><td>⋯</td><td>0</td><td>0</td><td>0</td><td>0</td><td>0</td><td>0</td><td>1</td><td>0</td><td>0</td><td>1</td></tr>\n",
       "\t<tr><td>1</td><td>1</td><td>1</td><td>1</td><td>1</td><td>1</td><td>1</td><td>1</td><td>1</td><td>1</td><td>⋯</td><td>1</td><td>1</td><td>1</td><td>0</td><td>1</td><td>1</td><td>1</td><td>1</td><td>1</td><td>1</td></tr>\n",
       "\t<tr><td>1</td><td>1</td><td>0</td><td>0</td><td>0</td><td>0</td><td>0</td><td>0</td><td>0</td><td>1</td><td>⋯</td><td>0</td><td>0</td><td>0</td><td>0</td><td>0</td><td>0</td><td>1</td><td>0</td><td>0</td><td>0</td></tr>\n",
       "\t<tr><td>1</td><td>1</td><td>0</td><td>1</td><td>0</td><td>0</td><td>1</td><td>0</td><td>0</td><td>0</td><td>⋯</td><td>0</td><td>0</td><td>0</td><td>0</td><td>0</td><td>0</td><td>0</td><td>0</td><td>0</td><td>1</td></tr>\n",
       "\t<tr><td>1</td><td>1</td><td>1</td><td>1</td><td>1</td><td>0</td><td>1</td><td>1</td><td>1</td><td>1</td><td>⋯</td><td>0</td><td>1</td><td>1</td><td>1</td><td>1</td><td>0</td><td>0</td><td>1</td><td>1</td><td>1</td></tr>\n",
       "\t<tr><td>1</td><td>1</td><td>1</td><td>0</td><td>1</td><td>0</td><td>1</td><td>0</td><td>0</td><td>1</td><td>⋯</td><td>0</td><td>0</td><td>1</td><td>1</td><td>0</td><td>0</td><td>1</td><td>0</td><td>1</td><td>0</td></tr>\n",
       "\t<tr><td>1</td><td>1</td><td>0</td><td>0</td><td>0</td><td>1</td><td>0</td><td>1</td><td>0</td><td>0</td><td>⋯</td><td>1</td><td>0</td><td>1</td><td>1</td><td>1</td><td>1</td><td>1</td><td>0</td><td>0</td><td>1</td></tr>\n",
       "\t<tr><td>0</td><td>1</td><td>1</td><td>1</td><td>0</td><td>1</td><td>1</td><td>1</td><td>0</td><td>0</td><td>⋯</td><td>1</td><td>0</td><td>1</td><td>0</td><td>0</td><td>1</td><td>1</td><td>0</td><td>1</td><td>0</td></tr>\n",
       "</tbody>\n",
       "</table>\n"
      ],
      "text/latex": [
       "A matrix: 21 × 21 of type int\n",
       "\\begin{tabular}{lllllllllllllllllllll}\n",
       " V1 & V2 & V3 & V4 & V5 & V6 & V7 & V8 & V9 & V10 & ⋯ & V12 & V13 & V14 & V15 & V16 & V17 & V18 & V19 & V20 & V21\\\\\n",
       "\\hline\n",
       "\t 0 & 1 & 0 & 1 & 0 & 0 & 0 & 1 & 0 & 0 & ⋯ & 0 & 0 & 0 & 0 & 1 & 0 & 1 & 0 & 0 & 1\\\\\n",
       "\t 0 & 0 & 0 & 0 & 0 & 1 & 1 & 0 & 0 & 0 & ⋯ & 0 & 0 & 0 & 0 & 0 & 0 & 0 & 0 & 0 & 1\\\\\n",
       "\t 1 & 1 & 0 & 1 & 0 & 1 & 1 & 1 & 1 & 1 & ⋯ & 1 & 0 & 1 & 0 & 0 & 1 & 1 & 0 & 1 & 1\\\\\n",
       "\t 1 & 1 & 0 & 0 & 0 & 1 & 0 & 1 & 0 & 1 & ⋯ & 1 & 0 & 0 & 0 & 1 & 1 & 1 & 0 & 1 & 1\\\\\n",
       "\t 1 & 1 & 0 & 0 & 0 & 1 & 1 & 1 & 0 & 1 & ⋯ & 0 & 1 & 1 & 0 & 1 & 1 & 1 & 1 & 1 & 1\\\\\n",
       "\t 0 & 0 & 0 & 0 & 0 & 0 & 0 & 0 & 0 & 0 & ⋯ & 0 & 0 & 0 & 0 & 0 & 0 & 0 & 0 & 0 & 1\\\\\n",
       "\t 0 & 1 & 0 & 0 & 0 & 1 & 0 & 0 & 0 & 0 & ⋯ & 1 & 0 & 1 & 0 & 0 & 1 & 1 & 0 & 0 & 1\\\\\n",
       "\t 0 & 1 & 0 & 1 & 0 & 1 & 1 & 0 & 0 & 1 & ⋯ & 0 & 0 & 0 & 0 & 0 & 0 & 1 & 0 & 0 & 1\\\\\n",
       "\t 1 & 1 & 0 & 0 & 0 & 1 & 1 & 1 & 0 & 1 & ⋯ & 1 & 0 & 1 & 0 & 1 & 1 & 1 & 0 & 0 & 1\\\\\n",
       "\t 1 & 1 & 1 & 1 & 1 & 0 & 0 & 1 & 0 & 0 & ⋯ & 0 & 1 & 0 & 1 & 1 & 1 & 1 & 1 & 1 & 0\\\\\n",
       "\t 1 & 1 & 0 & 0 & 0 & 0 & 1 & 0 & 0 & 0 & ⋯ & 0 & 0 & 0 & 0 & 0 & 0 & 0 & 0 & 0 & 0\\\\\n",
       "\t 0 & 0 & 0 & 0 & 0 & 0 & 1 & 0 & 0 & 0 & ⋯ & 0 & 0 & 0 & 0 & 0 & 0 & 0 & 0 & 0 & 1\\\\\n",
       "\t 1 & 1 & 0 & 0 & 1 & 0 & 0 & 0 & 1 & 0 & ⋯ & 0 & 0 & 1 & 0 & 0 & 0 & 1 & 0 & 0 & 0\\\\\n",
       "\t 0 & 1 & 0 & 0 & 0 & 0 & 1 & 0 & 0 & 0 & ⋯ & 0 & 0 & 0 & 0 & 0 & 0 & 1 & 0 & 0 & 1\\\\\n",
       "\t 1 & 1 & 1 & 1 & 1 & 1 & 1 & 1 & 1 & 1 & ⋯ & 1 & 1 & 1 & 0 & 1 & 1 & 1 & 1 & 1 & 1\\\\\n",
       "\t 1 & 1 & 0 & 0 & 0 & 0 & 0 & 0 & 0 & 1 & ⋯ & 0 & 0 & 0 & 0 & 0 & 0 & 1 & 0 & 0 & 0\\\\\n",
       "\t 1 & 1 & 0 & 1 & 0 & 0 & 1 & 0 & 0 & 0 & ⋯ & 0 & 0 & 0 & 0 & 0 & 0 & 0 & 0 & 0 & 1\\\\\n",
       "\t 1 & 1 & 1 & 1 & 1 & 0 & 1 & 1 & 1 & 1 & ⋯ & 0 & 1 & 1 & 1 & 1 & 0 & 0 & 1 & 1 & 1\\\\\n",
       "\t 1 & 1 & 1 & 0 & 1 & 0 & 1 & 0 & 0 & 1 & ⋯ & 0 & 0 & 1 & 1 & 0 & 0 & 1 & 0 & 1 & 0\\\\\n",
       "\t 1 & 1 & 0 & 0 & 0 & 1 & 0 & 1 & 0 & 0 & ⋯ & 1 & 0 & 1 & 1 & 1 & 1 & 1 & 0 & 0 & 1\\\\\n",
       "\t 0 & 1 & 1 & 1 & 0 & 1 & 1 & 1 & 0 & 0 & ⋯ & 1 & 0 & 1 & 0 & 0 & 1 & 1 & 0 & 1 & 0\\\\\n",
       "\\end{tabular}\n"
      ],
      "text/markdown": [
       "\n",
       "A matrix: 21 × 21 of type int\n",
       "\n",
       "| V1 | V2 | V3 | V4 | V5 | V6 | V7 | V8 | V9 | V10 | ⋯ | V12 | V13 | V14 | V15 | V16 | V17 | V18 | V19 | V20 | V21 |\n",
       "|---|---|---|---|---|---|---|---|---|---|---|---|---|---|---|---|---|---|---|---|---|\n",
       "| 0 | 1 | 0 | 1 | 0 | 0 | 0 | 1 | 0 | 0 | ⋯ | 0 | 0 | 0 | 0 | 1 | 0 | 1 | 0 | 0 | 1 |\n",
       "| 0 | 0 | 0 | 0 | 0 | 1 | 1 | 0 | 0 | 0 | ⋯ | 0 | 0 | 0 | 0 | 0 | 0 | 0 | 0 | 0 | 1 |\n",
       "| 1 | 1 | 0 | 1 | 0 | 1 | 1 | 1 | 1 | 1 | ⋯ | 1 | 0 | 1 | 0 | 0 | 1 | 1 | 0 | 1 | 1 |\n",
       "| 1 | 1 | 0 | 0 | 0 | 1 | 0 | 1 | 0 | 1 | ⋯ | 1 | 0 | 0 | 0 | 1 | 1 | 1 | 0 | 1 | 1 |\n",
       "| 1 | 1 | 0 | 0 | 0 | 1 | 1 | 1 | 0 | 1 | ⋯ | 0 | 1 | 1 | 0 | 1 | 1 | 1 | 1 | 1 | 1 |\n",
       "| 0 | 0 | 0 | 0 | 0 | 0 | 0 | 0 | 0 | 0 | ⋯ | 0 | 0 | 0 | 0 | 0 | 0 | 0 | 0 | 0 | 1 |\n",
       "| 0 | 1 | 0 | 0 | 0 | 1 | 0 | 0 | 0 | 0 | ⋯ | 1 | 0 | 1 | 0 | 0 | 1 | 1 | 0 | 0 | 1 |\n",
       "| 0 | 1 | 0 | 1 | 0 | 1 | 1 | 0 | 0 | 1 | ⋯ | 0 | 0 | 0 | 0 | 0 | 0 | 1 | 0 | 0 | 1 |\n",
       "| 1 | 1 | 0 | 0 | 0 | 1 | 1 | 1 | 0 | 1 | ⋯ | 1 | 0 | 1 | 0 | 1 | 1 | 1 | 0 | 0 | 1 |\n",
       "| 1 | 1 | 1 | 1 | 1 | 0 | 0 | 1 | 0 | 0 | ⋯ | 0 | 1 | 0 | 1 | 1 | 1 | 1 | 1 | 1 | 0 |\n",
       "| 1 | 1 | 0 | 0 | 0 | 0 | 1 | 0 | 0 | 0 | ⋯ | 0 | 0 | 0 | 0 | 0 | 0 | 0 | 0 | 0 | 0 |\n",
       "| 0 | 0 | 0 | 0 | 0 | 0 | 1 | 0 | 0 | 0 | ⋯ | 0 | 0 | 0 | 0 | 0 | 0 | 0 | 0 | 0 | 1 |\n",
       "| 1 | 1 | 0 | 0 | 1 | 0 | 0 | 0 | 1 | 0 | ⋯ | 0 | 0 | 1 | 0 | 0 | 0 | 1 | 0 | 0 | 0 |\n",
       "| 0 | 1 | 0 | 0 | 0 | 0 | 1 | 0 | 0 | 0 | ⋯ | 0 | 0 | 0 | 0 | 0 | 0 | 1 | 0 | 0 | 1 |\n",
       "| 1 | 1 | 1 | 1 | 1 | 1 | 1 | 1 | 1 | 1 | ⋯ | 1 | 1 | 1 | 0 | 1 | 1 | 1 | 1 | 1 | 1 |\n",
       "| 1 | 1 | 0 | 0 | 0 | 0 | 0 | 0 | 0 | 1 | ⋯ | 0 | 0 | 0 | 0 | 0 | 0 | 1 | 0 | 0 | 0 |\n",
       "| 1 | 1 | 0 | 1 | 0 | 0 | 1 | 0 | 0 | 0 | ⋯ | 0 | 0 | 0 | 0 | 0 | 0 | 0 | 0 | 0 | 1 |\n",
       "| 1 | 1 | 1 | 1 | 1 | 0 | 1 | 1 | 1 | 1 | ⋯ | 0 | 1 | 1 | 1 | 1 | 0 | 0 | 1 | 1 | 1 |\n",
       "| 1 | 1 | 1 | 0 | 1 | 0 | 1 | 0 | 0 | 1 | ⋯ | 0 | 0 | 1 | 1 | 0 | 0 | 1 | 0 | 1 | 0 |\n",
       "| 1 | 1 | 0 | 0 | 0 | 1 | 0 | 1 | 0 | 0 | ⋯ | 1 | 0 | 1 | 1 | 1 | 1 | 1 | 0 | 0 | 1 |\n",
       "| 0 | 1 | 1 | 1 | 0 | 1 | 1 | 1 | 0 | 0 | ⋯ | 1 | 0 | 1 | 0 | 0 | 1 | 1 | 0 | 1 | 0 |\n",
       "\n"
      ],
      "text/plain": [
       "      V1 V2 V3 V4 V5 V6 V7 V8 V9 V10 ⋯ V12 V13 V14 V15 V16 V17 V18 V19 V20 V21\n",
       " [1,] 0  1  0  1  0  0  0  1  0  0   ⋯ 0   0   0   0   1   0   1   0   0   1  \n",
       " [2,] 0  0  0  0  0  1  1  0  0  0   ⋯ 0   0   0   0   0   0   0   0   0   1  \n",
       " [3,] 1  1  0  1  0  1  1  1  1  1   ⋯ 1   0   1   0   0   1   1   0   1   1  \n",
       " [4,] 1  1  0  0  0  1  0  1  0  1   ⋯ 1   0   0   0   1   1   1   0   1   1  \n",
       " [5,] 1  1  0  0  0  1  1  1  0  1   ⋯ 0   1   1   0   1   1   1   1   1   1  \n",
       " [6,] 0  0  0  0  0  0  0  0  0  0   ⋯ 0   0   0   0   0   0   0   0   0   1  \n",
       " [7,] 0  1  0  0  0  1  0  0  0  0   ⋯ 1   0   1   0   0   1   1   0   0   1  \n",
       " [8,] 0  1  0  1  0  1  1  0  0  1   ⋯ 0   0   0   0   0   0   1   0   0   1  \n",
       " [9,] 1  1  0  0  0  1  1  1  0  1   ⋯ 1   0   1   0   1   1   1   0   0   1  \n",
       "[10,] 1  1  1  1  1  0  0  1  0  0   ⋯ 0   1   0   1   1   1   1   1   1   0  \n",
       "[11,] 1  1  0  0  0  0  1  0  0  0   ⋯ 0   0   0   0   0   0   0   0   0   0  \n",
       "[12,] 0  0  0  0  0  0  1  0  0  0   ⋯ 0   0   0   0   0   0   0   0   0   1  \n",
       "[13,] 1  1  0  0  1  0  0  0  1  0   ⋯ 0   0   1   0   0   0   1   0   0   0  \n",
       "[14,] 0  1  0  0  0  0  1  0  0  0   ⋯ 0   0   0   0   0   0   1   0   0   1  \n",
       "[15,] 1  1  1  1  1  1  1  1  1  1   ⋯ 1   1   1   0   1   1   1   1   1   1  \n",
       "[16,] 1  1  0  0  0  0  0  0  0  1   ⋯ 0   0   0   0   0   0   1   0   0   0  \n",
       "[17,] 1  1  0  1  0  0  1  0  0  0   ⋯ 0   0   0   0   0   0   0   0   0   1  \n",
       "[18,] 1  1  1  1  1  0  1  1  1  1   ⋯ 0   1   1   1   1   0   0   1   1   1  \n",
       "[19,] 1  1  1  0  1  0  1  0  0  1   ⋯ 0   0   1   1   0   0   1   0   1   0  \n",
       "[20,] 1  1  0  0  0  1  0  1  0  0   ⋯ 1   0   1   1   1   1   1   0   0   1  \n",
       "[21,] 0  1  1  1  0  1  1  1  0  0   ⋯ 1   0   1   0   0   1   1   0   1   0  "
      ]
     },
     "metadata": {},
     "output_type": "display_data"
    },
    {
     "data": {
      "text/html": [
       "<table class=\"dataframe\">\n",
       "<caption>A matrix: 5 × 2 of type chr</caption>\n",
       "<tbody>\n",
       "\t<tr><td>V1</td><td>V2 </td></tr>\n",
       "\t<tr><td>V1</td><td>V4 </td></tr>\n",
       "\t<tr><td>V1</td><td>V8 </td></tr>\n",
       "\t<tr><td>V1</td><td>V16</td></tr>\n",
       "\t<tr><td>V1</td><td>V18</td></tr>\n",
       "</tbody>\n",
       "</table>\n"
      ],
      "text/latex": [
       "A matrix: 5 × 2 of type chr\n",
       "\\begin{tabular}{ll}\n",
       "\t V1 & V2 \\\\\n",
       "\t V1 & V4 \\\\\n",
       "\t V1 & V8 \\\\\n",
       "\t V1 & V16\\\\\n",
       "\t V1 & V18\\\\\n",
       "\\end{tabular}\n"
      ],
      "text/markdown": [
       "\n",
       "A matrix: 5 × 2 of type chr\n",
       "\n",
       "| V1 | V2  |\n",
       "| V1 | V4  |\n",
       "| V1 | V8  |\n",
       "| V1 | V16 |\n",
       "| V1 | V18 |\n",
       "\n"
      ],
      "text/plain": [
       "     [,1] [,2]\n",
       "[1,] V1   V2  \n",
       "[2,] V1   V4  \n",
       "[3,] V1   V8  \n",
       "[4,] V1   V16 \n",
       "[5,] V1   V18 "
      ]
     },
     "metadata": {},
     "output_type": "display_data"
    },
    {
     "data": {
      "text/plain": [
       "IGRAPH d53bd93 DN-- 21 190 -- \n",
       "+ attr: name (v/c)\n",
       "+ edges from d53bd93 (vertex names):\n",
       " [1] V1->V2  V1->V4  V1->V8  V1->V16 V1->V18 V1->V21 V2->V6  V2->V7  V2->V21\n",
       "[10] V3->V1  V3->V2  V3->V4  V3->V6  V3->V7  V3->V8  V3->V9  V3->V10 V3->V11\n",
       "[19] V3->V12 V3->V14 V3->V17 V3->V18 V3->V20 V3->V21 V4->V1  V4->V2  V4->V6 \n",
       "[28] V4->V8  V4->V10 V4->V11 V4->V12 V4->V16 V4->V17 V4->V18 V4->V20 V4->V21\n",
       "[37] V5->V1  V5->V2  V5->V6  V5->V7  V5->V8  V5->V10 V5->V11 V5->V13 V5->V14\n",
       "[46] V5->V16 V5->V17 V5->V18 V5->V19 V5->V20 V5->V21 V6->V21 V7->V2  V7->V6 \n",
       "[55] V7->V11 V7->V12 V7->V14 V7->V17 V7->V18 V7->V21 V8->V2  V8->V4  V8->V6 \n",
       "[64] V8->V7  V8->V10 V8->V11 V8->V18 V8->V21 V9->V1  V9->V2  V9->V6  V9->V7 \n",
       "+ ... omitted several edges"
      ]
     },
     "metadata": {},
     "output_type": "display_data"
    }
   ],
   "source": [
    "f <- read.table('./task1_data/krackhardt_advice.csv', sep=',')\n",
    "sm_2 <- data.matrix(f)\n",
    "sm_2\n",
    "\n",
    "g_2 <- graph.adjacency(sm_2,mode=\"directed\")\n",
    "e_2 <- get.edgelist(g_2)\n",
    "head(e_2,5)\n",
    "\n",
    "net_2<- graph_from_adjacency_matrix(sm_2,mode=\"directed\")\n",
    "net_2"
   ]
  },
  {
   "cell_type": "code",
   "execution_count": 73,
   "id": "7bb869a7",
   "metadata": {},
   "outputs": [
    {
     "data": {
      "image/png": "[encoded data removed]",
      "text/plain": [
       "Plot with title \"Фрюхтермана Рейнгольда\""
      ]
     },
     "metadata": {
      "image/png": {
       "height": 420,
       "width": 420
      }
     },
     "output_type": "display_data"
    },
    {
     "data": {
      "image/png": "[encoded data removed]",
      "text/plain": [
       "Plot with title \"Камада-Каваи\""
      ]
     },
     "metadata": {
      "image/png": {
       "height": 420,
       "width": 420
      }
     },
     "output_type": "display_data"
    }
   ],
   "source": [
    "plot(net_2,layout = layout.fruchterman.reingold,main=\"Фрюхтермана Рейнгольда\")\n",
    "plot(net_2,layout = layout.kamada.kawai,main=\"Камада-Каваи\")"
   ]
  },
  {
   "cell_type": "code",
   "execution_count": 75,
   "id": "22097967",
   "metadata": {},
   "outputs": [
    {
     "name": "stdout",
     "output_type": "stream",
     "text": [
      "Сводка сети\n"
     ]
    },
    {
     "data": {
      "text/plain": [
       "       V1              V2               V3               V4       \n",
       " Min.   :0.000   Min.   :0.0000   Min.   :0.0000   Min.   :0.000  \n",
       " 1st Qu.:0.000   1st Qu.:1.0000   1st Qu.:0.0000   1st Qu.:0.000  \n",
       " Median :1.000   Median :1.0000   Median :0.0000   Median :0.000  \n",
       " Mean   :0.619   Mean   :0.8571   Mean   :0.2381   Mean   :0.381  \n",
       " 3rd Qu.:1.000   3rd Qu.:1.0000   3rd Qu.:0.0000   3rd Qu.:1.000  \n",
       " Max.   :1.000   Max.   :1.0000   Max.   :1.0000   Max.   :1.000  \n",
       "       V5               V6               V7              V8        \n",
       " Min.   :0.0000   Min.   :0.0000   Min.   :0.000   Min.   :0.0000  \n",
       " 1st Qu.:0.0000   1st Qu.:0.0000   1st Qu.:0.000   1st Qu.:0.0000  \n",
       " Median :0.0000   Median :0.0000   Median :1.000   Median :0.0000  \n",
       " Mean   :0.2381   Mean   :0.4762   Mean   :0.619   Mean   :0.4762  \n",
       " 3rd Qu.:0.0000   3rd Qu.:1.0000   3rd Qu.:1.000   3rd Qu.:1.0000  \n",
       " Max.   :1.0000   Max.   :1.0000   Max.   :1.000   Max.   :1.0000  \n",
       "       V9              V10              V11              V12        \n",
       " Min.   :0.0000   Min.   :0.0000   Min.   :0.0000   Min.   :0.0000  \n",
       " 1st Qu.:0.0000   1st Qu.:0.0000   1st Qu.:0.0000   1st Qu.:0.0000  \n",
       " Median :0.0000   Median :0.0000   Median :1.0000   Median :0.0000  \n",
       " Mean   :0.1905   Mean   :0.4286   Mean   :0.5238   Mean   :0.3333  \n",
       " 3rd Qu.:0.0000   3rd Qu.:1.0000   3rd Qu.:1.0000   3rd Qu.:1.0000  \n",
       " Max.   :1.0000   Max.   :1.0000   Max.   :1.0000   Max.   :1.0000  \n",
       "      V13              V14              V15              V16       \n",
       " Min.   :0.0000   Min.   :0.0000   Min.   :0.0000   Min.   :0.000  \n",
       " 1st Qu.:0.0000   1st Qu.:0.0000   1st Qu.:0.0000   1st Qu.:0.000  \n",
       " Median :0.0000   Median :0.0000   Median :0.0000   Median :0.000  \n",
       " Mean   :0.1905   Mean   :0.4762   Mean   :0.1905   Mean   :0.381  \n",
       " 3rd Qu.:0.0000   3rd Qu.:1.0000   3rd Qu.:0.0000   3rd Qu.:1.000  \n",
       " Max.   :1.0000   Max.   :1.0000   Max.   :1.0000   Max.   :1.000  \n",
       "      V17              V18              V19              V20       \n",
       " Min.   :0.0000   Min.   :0.0000   Min.   :0.0000   Min.   :0.000  \n",
       " 1st Qu.:0.0000   1st Qu.:0.0000   1st Qu.:0.0000   1st Qu.:0.000  \n",
       " Median :0.0000   Median :1.0000   Median :0.0000   Median :0.000  \n",
       " Mean   :0.4286   Mean   :0.7143   Mean   :0.1905   Mean   :0.381  \n",
       " 3rd Qu.:1.0000   3rd Qu.:1.0000   3rd Qu.:0.0000   3rd Qu.:1.000  \n",
       " Max.   :1.0000   Max.   :1.0000   Max.   :1.0000   Max.   :1.000  \n",
       "      V21        \n",
       " Min.   :0.0000  \n",
       " 1st Qu.:0.0000  \n",
       " Median :1.0000  \n",
       " Mean   :0.7143  \n",
       " 3rd Qu.:1.0000  \n",
       " Max.   :1.0000  "
      ]
     },
     "metadata": {},
     "output_type": "display_data"
    },
    {
     "name": "stdout",
     "output_type": "stream",
     "text": [
      "Размер:  21 \n",
      "Плотность:  0.452381 \n",
      "Плотность в ручную:  0.452381 \n",
      "Компоненты:  1 \n",
      "Диаметр  3 \n",
      "Коэффициент кластеризации:  0.7345088 \n",
      "Средняя степень:  18.09524 \n",
      "Средняя степень входящих :  9.047619 \n",
      "Средняя степень исходящих :  9.047619 \n",
      "Дисперсия:  32.19048 \n",
      "Дисперсия входящих:  16.54762 \n",
      "Дисперсия исходящих:  29.74762 \n"
     ]
    }
   ],
   "source": [
    "cat(\"Сводка сети\\n\")\n",
    "summary(sm_2)\n",
    "\n",
    "cat(\"Размер: \",gorder(net_2),\"\\n\")\n",
    "\n",
    "cat(\"Плотность: \",edge_density(net_2),\"\\n\")\n",
    "\n",
    "d_2 <- gsize(net_2)/ (factorial(gorder(net_2)) / factorial(gorder(net_2)-2))\n",
    "cat(\"Плотность в ручную: \",d_2,\"\\n\")\n",
    "\n",
    "cat(\"Компоненты: \",components(net_2)$no,\"\\n\")\n",
    "\n",
    "cat(\"Диаметр \",diameter(net_2),\"\\n\")\n",
    "\n",
    "cat(\"Коэффициент кластеризации: \",transitivity(net_2),\"\\n\" )\n",
    "\n",
    "cat(\"Средняя степень: \",mean(degree(net_2)),\"\\n\")\n",
    "cat(\"Средняя степень входящих : \",mean(degree(net_2,mode = \"in\")),\"\\n\")\n",
    "cat(\"Средняя степень исходящих : \",mean(degree(net_2,mode = \"out\")),\"\\n\")\n",
    "\n",
    "cat(\"Дисперсия: \",var(degree(net_2)),\"\\n\")\n",
    "cat(\"Дисперсия входящих: \",var(degree(net_2,mode = \"in\")),\"\\n\")\n",
    "cat(\"Дисперсия исходящих: \",var(degree(net_2,mode = \"out\")),\"\\n\")"
   ]
  },
  {
   "attachments": {
    "4567.png": {
     "image/png": "[encoded data removed]"
    }
   },
   "cell_type": "markdown",
   "id": "66b031ef",
   "metadata": {},
   "source": [
    "13. Заполнить таблицу для различных мер престижа:\n",
    "![4567.png](attachment:4567.png)\n",
    "Сделать выводы."
   ]
  },
  {
   "cell_type": "code",
   "execution_count": 78,
   "id": "0aa361e8",
   "metadata": {},
   "outputs": [
    {
     "data": {
      "text/html": [
       "<table class=\"dataframe\">\n",
       "<caption>A data.frame: 21 × 3</caption>\n",
       "<thead>\n",
       "\t<tr><th></th><th scope=col>ni</th><th scope=col>Pd</th><th scope=col>Pp</th></tr>\n",
       "\t<tr><th></th><th scope=col>&lt;int&gt;</th><th scope=col>&lt;dbl&gt;</th><th scope=col>&lt;dbl&gt;</th></tr>\n",
       "</thead>\n",
       "<tbody>\n",
       "\t<tr><th scope=row>V1</th><td> 1</td><td>0.65</td><td>0.8333333</td></tr>\n",
       "\t<tr><th scope=row>V2</th><td> 2</td><td>0.90</td><td>0.9523810</td></tr>\n",
       "\t<tr><th scope=row>V3</th><td> 3</td><td>0.25</td><td>0.8695652</td></tr>\n",
       "\t<tr><th scope=row>V4</th><td> 4</td><td>0.40</td><td>0.7692308</td></tr>\n",
       "\t<tr><th scope=row>V5</th><td> 5</td><td>0.25</td><td>0.8333333</td></tr>\n",
       "\t<tr><th scope=row>V6</th><td> 6</td><td>0.50</td><td>0.6666667</td></tr>\n",
       "\t<tr><th scope=row>V7</th><td> 7</td><td>0.65</td><td>0.7692308</td></tr>\n",
       "\t<tr><th scope=row>V8</th><td> 8</td><td>0.50</td><td>0.7692308</td></tr>\n",
       "\t<tr><th scope=row>V9</th><td> 9</td><td>0.20</td><td>0.8333333</td></tr>\n",
       "\t<tr><th scope=row>V10</th><td>10</td><td>0.45</td><td>0.8000000</td></tr>\n",
       "\t<tr><th scope=row>V11</th><td>11</td><td>0.55</td><td>0.7407407</td></tr>\n",
       "\t<tr><th scope=row>V12</th><td>12</td><td>0.35</td><td>0.6060606</td></tr>\n",
       "\t<tr><th scope=row>V13</th><td>13</td><td>0.20</td><td>0.6250000</td></tr>\n",
       "\t<tr><th scope=row>V14</th><td>14</td><td>0.50</td><td>0.6896552</td></tr>\n",
       "\t<tr><th scope=row>V15</th><td>15</td><td>0.20</td><td>1.0000000</td></tr>\n",
       "\t<tr><th scope=row>V16</th><td>16</td><td>0.40</td><td>0.6451613</td></tr>\n",
       "\t<tr><th scope=row>V17</th><td>17</td><td>0.45</td><td>0.6896552</td></tr>\n",
       "\t<tr><th scope=row>V18</th><td>18</td><td>0.75</td><td>0.8695652</td></tr>\n",
       "\t<tr><th scope=row>V19</th><td>19</td><td>0.20</td><td>0.6896552</td></tr>\n",
       "\t<tr><th scope=row>V20</th><td>20</td><td>0.40</td><td>0.8695652</td></tr>\n",
       "\t<tr><th scope=row>V21</th><td>21</td><td>0.75</td><td>0.8000000</td></tr>\n",
       "</tbody>\n",
       "</table>\n"
      ],
      "text/latex": [
       "A data.frame: 21 × 3\n",
       "\\begin{tabular}{r|lll}\n",
       "  & ni & Pd & Pp\\\\\n",
       "  & <int> & <dbl> & <dbl>\\\\\n",
       "\\hline\n",
       "\tV1 &  1 & 0.65 & 0.8333333\\\\\n",
       "\tV2 &  2 & 0.90 & 0.9523810\\\\\n",
       "\tV3 &  3 & 0.25 & 0.8695652\\\\\n",
       "\tV4 &  4 & 0.40 & 0.7692308\\\\\n",
       "\tV5 &  5 & 0.25 & 0.8333333\\\\\n",
       "\tV6 &  6 & 0.50 & 0.6666667\\\\\n",
       "\tV7 &  7 & 0.65 & 0.7692308\\\\\n",
       "\tV8 &  8 & 0.50 & 0.7692308\\\\\n",
       "\tV9 &  9 & 0.20 & 0.8333333\\\\\n",
       "\tV10 & 10 & 0.45 & 0.8000000\\\\\n",
       "\tV11 & 11 & 0.55 & 0.7407407\\\\\n",
       "\tV12 & 12 & 0.35 & 0.6060606\\\\\n",
       "\tV13 & 13 & 0.20 & 0.6250000\\\\\n",
       "\tV14 & 14 & 0.50 & 0.6896552\\\\\n",
       "\tV15 & 15 & 0.20 & 1.0000000\\\\\n",
       "\tV16 & 16 & 0.40 & 0.6451613\\\\\n",
       "\tV17 & 17 & 0.45 & 0.6896552\\\\\n",
       "\tV18 & 18 & 0.75 & 0.8695652\\\\\n",
       "\tV19 & 19 & 0.20 & 0.6896552\\\\\n",
       "\tV20 & 20 & 0.40 & 0.8695652\\\\\n",
       "\tV21 & 21 & 0.75 & 0.8000000\\\\\n",
       "\\end{tabular}\n"
      ],
      "text/markdown": [
       "\n",
       "A data.frame: 21 × 3\n",
       "\n",
       "| <!--/--> | ni &lt;int&gt; | Pd &lt;dbl&gt; | Pp &lt;dbl&gt; |\n",
       "|---|---|---|---|\n",
       "| V1 |  1 | 0.65 | 0.8333333 |\n",
       "| V2 |  2 | 0.90 | 0.9523810 |\n",
       "| V3 |  3 | 0.25 | 0.8695652 |\n",
       "| V4 |  4 | 0.40 | 0.7692308 |\n",
       "| V5 |  5 | 0.25 | 0.8333333 |\n",
       "| V6 |  6 | 0.50 | 0.6666667 |\n",
       "| V7 |  7 | 0.65 | 0.7692308 |\n",
       "| V8 |  8 | 0.50 | 0.7692308 |\n",
       "| V9 |  9 | 0.20 | 0.8333333 |\n",
       "| V10 | 10 | 0.45 | 0.8000000 |\n",
       "| V11 | 11 | 0.55 | 0.7407407 |\n",
       "| V12 | 12 | 0.35 | 0.6060606 |\n",
       "| V13 | 13 | 0.20 | 0.6250000 |\n",
       "| V14 | 14 | 0.50 | 0.6896552 |\n",
       "| V15 | 15 | 0.20 | 1.0000000 |\n",
       "| V16 | 16 | 0.40 | 0.6451613 |\n",
       "| V17 | 17 | 0.45 | 0.6896552 |\n",
       "| V18 | 18 | 0.75 | 0.8695652 |\n",
       "| V19 | 19 | 0.20 | 0.6896552 |\n",
       "| V20 | 20 | 0.40 | 0.8695652 |\n",
       "| V21 | 21 | 0.75 | 0.8000000 |\n",
       "\n"
      ],
      "text/plain": [
       "    ni Pd   Pp       \n",
       "V1   1 0.65 0.8333333\n",
       "V2   2 0.90 0.9523810\n",
       "V3   3 0.25 0.8695652\n",
       "V4   4 0.40 0.7692308\n",
       "V5   5 0.25 0.8333333\n",
       "V6   6 0.50 0.6666667\n",
       "V7   7 0.65 0.7692308\n",
       "V8   8 0.50 0.7692308\n",
       "V9   9 0.20 0.8333333\n",
       "V10 10 0.45 0.8000000\n",
       "V11 11 0.55 0.7407407\n",
       "V12 12 0.35 0.6060606\n",
       "V13 13 0.20 0.6250000\n",
       "V14 14 0.50 0.6896552\n",
       "V15 15 0.20 1.0000000\n",
       "V16 16 0.40 0.6451613\n",
       "V17 17 0.45 0.6896552\n",
       "V18 18 0.75 0.8695652\n",
       "V19 19 0.20 0.6896552\n",
       "V20 20 0.40 0.8695652\n",
       "V21 21 0.75 0.8000000"
      ]
     },
     "metadata": {},
     "output_type": "display_data"
    }
   ],
   "source": [
    "xd <- degree(net_2,mode=\"in\", normalized=\"true\")\n",
    "gord <- gorder(net_2)\n",
    "\n",
    "Pp <- NULL\n",
    "\n",
    "for (v in V(net_2)) {\n",
    "    ii <- (length(subcomponent(net_2,v)) - 1)\n",
    "    ij <- distances(net_2, v=v)\n",
    "    ij[ij==Inf]<-0\n",
    "    Pp <- append(Pp, ii*ii/sum(ij)/(gord-1))\n",
    "    }\n",
    "pres <- data.frame(ni = 1:gord, Pd = xd, Pp)\n",
    "pres"
   ]
  },
  {
   "cell_type": "markdown",
   "id": "2ebb5e49",
   "metadata": {},
   "source": [
    "|     | ni |   Pd |        Pp |\n",
    "|----:|---:|-----:|----------:|\n",
    "|  V1 |  1 | 0.65 | 0.8333333 |\n",
    "|  V2 |  2 | 0.90 | 0.9523810 |\n",
    "|  V3 |  3 | 0.25 | 0.8695652 |\n",
    "|  V4 |  4 | 0.40 | 0.7692308 |\n",
    "|  V5 |  5 | 0.25 | 0.8333333 |\n",
    "|  V6 |  6 | 0.50 | 0.6666667 |\n",
    "|  V7 |  7 | 0.65 | 0.7692308 |\n",
    "|  V8 |  8 | 0.50 | 0.7692308 |\n",
    "|  V9 |  9 | 0.20 | 0.8333333 |\n",
    "| V10 | 10 | 0.45 | 0.8000000 |\n",
    "| V11 | 11 | 0.55 | 0.7407407 |\n",
    "| V12 | 12 | 0.35 | 0.6060606 |\n",
    "| V13 | 13 | 0.20 | 0.6250000 |\n",
    "| V14 | 14 | 0.50 | 0.6896552 |\n",
    "| V15 | 15 | 0.20 | 1.0000000 |\n",
    "| V16 | 16 | 0.40 | 0.6451613 |\n",
    "| V17 | 17 | 0.45 | 0.6896552 |\n",
    "| V18 | 18 | 0.75 | 0.8695652 |\n",
    "| V19 | 19 | 0.20 | 0.6896552 |\n",
    "| V20 | 20 | 0.40 | 0.8695652 |\n",
    "| V21 | 21 | 0.75 | 0.8000000 |"
   ]
  },
  {
   "cell_type": "markdown",
   "id": "c271d818",
   "metadata": {},
   "source": [
    "## Выводы"
   ]
  },
  {
   "cell_type": "markdown",
   "id": "65580e19",
   "metadata": {},
   "source": [
    "В ходе выполнения лабораторной работы получены знания работы с пакетом \"igraph\" для построения, визуализации и анализа сетей. В ходе работы были написаны функции для вычисления престижа по близости и центральности по информации, так как данные функции отсутсвуют в данном пакете."
   ]
  }
 ],
 "metadata": {
  "kernelspec": {
   "display_name": "R",
   "language": "R",
   "name": "ir"
  },
  "language_info": {
   "codemirror_mode": "r",
   "file_extension": ".r",
   "mimetype": "text/x-r-source",
   "name": "R",
   "pygments_lexer": "r",
   "version": "4.2.1"
  }
 },
 "nbformat": 4,
 "nbformat_minor": 5
}
