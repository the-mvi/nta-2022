{
 "cells": [
  {
   "cell_type": "markdown",
   "metadata": {},
   "source": [
    "# Практическая работа №1: Основы анализа и моделирования социальных сетей\n",
    "Выполнил студент гр. 0382 Афанасьев Назар. Вариант №3"
   ]
  },
  {
   "cell_type": "markdown",
   "metadata": {},
   "source": [
    "## Цель работы\n",
    "Овладеть навыками работы с математическими пакетами для моделирования, визуализации и анализа социальных сетей."
   ]
  },
  {
   "cell_type": "markdown",
   "metadata": {},
   "source": [
    "## Основные теоретические положения\n",
    "**Акторы** - дискретные индивидуальные, корпоративные или коллективные социальные елиницы.\n",
    "\n",
    "**Реляционная связь** - свойство, описывающее взаимодействие между двумя акторами.\n",
    "\n",
    "**Подгруппа** - любое подмножество акторов и все связи между ними.\n",
    "\n",
    "**Группа** - совокупность всех акторов, связи между которыми должны быть изучены.\n",
    "\n",
    "**Отношение** - совокупность связей определённого вида между членами группы.\n",
    "\n",
    "**Социальная сеть** - объект, представляющий собой совокупность конечного набора акторов и отношений, определённых на них.\n",
    "\n",
    "<ins>Методы представления сетей</ins>:\n",
    "- Графовое\n",
    "- Социометрическое\n",
    "- Алгебраическое\n",
    "\n",
    "**Граф** - модель социальной сети с направленными дихотомическими отношениями.\n",
    "\n",
    "$\\mathcal{G} = \\mathcal{G}(\\mathcal{N}, \\mathcal{L})$\n",
    "\n",
    "**Социоматрица** - матрица $\\mathcal{X}$ размера $g\\times g$, описывающая смежные узлы.\n",
    "\n",
    "$\\mathcal{X} = \\{\\mathcal{X}_{ij}\\} \\quad i,j=1...g$\n",
    "\n",
    "<ins>Числовые характеристики сети</ins>:\n",
    "- **Размер** - количество акторов\n",
    "- **Плотность** - доля связей по отношению к макимальному возможному\n",
    "  \n",
    "  $\\varDelta = \\frac{L}{A_g^2}$ (ориентированная сеть)\n",
    "\n",
    "  $\\varDelta = \\frac{L}{(_2^g)}$ (неориентированная сеть)\n",
    "- **Число компонент** (связности) - колчиество подгрупп, где все акторы связаны напрямую или косвенно\n",
    "- **Диаметр** - наибольшая длина любого из кратчайших путей между всеми парами узлов\n",
    "- **Коэффициент кластеризации** - тенденция к созданию закрытых треугольников\n",
    "\n",
    "**Степень узла** - число прямых, инцидентных узлу (для ориетированных - входная и выходная степени): $d=deg(n_i)$\n",
    "\n",
    "**Средняя степень**: $\\bar{d}=\\frac{1}{g}\\sum_{i=1}^{g} d(n_i)$\n",
    "\n",
    "**Дисперсия степеней**: $S_D^2=\\frac{1}{g}\\sum_{i=1}^{g} (d(n_i)-\\bar{d})^2$\n",
    "\n",
    "<ins>Силовые алгоритмы укладки сетей</ins>:\n",
    "- Алгоритм Идеса (основан на механической модели пружин)\n",
    "- Алгоритм Фрюхтермана–Рейнгольда (вершины - атомарные частицы или небесные тела, оказывающие друг на друга силы притяжения и отталкивания)\n",
    "- Алгоритм Татта (если грань плоского графа зафиксирована на плоскости, то подходящие положения для других вершин можно найти, решая систему линейных уравнений, где каждая позиция вершины представлена как выпуклая комбинация положений своих соседей)\n",
    "- Алгоритм Камада–Каваи (настройка пружинной системы таким образом, чтобы минимизация энергии системы соответсвовала минимизации разницы между геометрическими и графовыми расстояниями)\n",
    "\n",
    "Актор считается *важным*, если связи актора делают его видимым для других участников сети.\n",
    "\n",
    "**Центральность** - мера, характеризующая актор с большим количеством связей (ненаправленный граф).\n",
    "\n",
    "**Престиж** - мера, характеризующая актор с большим количеством входящих связей (направленный граф).\n",
    "\n",
    "**Индекс централизации**: $C_A=\\frac{\\sum_{i=1}^{g}(C_A(n^\\star)-C_A(n_i))}{max\\sum_{i=1}^{g}(C_A(n^\\star)-C_A(n_i))}$\n",
    "\n",
    "<ins>Меры центральности</ins>:\n",
    "\n",
    "1) **Центральность по степени**: \n",
    "$C_D(n_i)=deg(n_i)$\n",
    "\n",
    "&nbsp;&nbsp;&nbsp;&nbsp;&nbsp;&nbsp;Нормированная центральность: $C_D'(n_i)=\\frac{deg(n_i)}{g-1}$\n",
    "\n",
    "&nbsp;&nbsp;&nbsp;&nbsp;&nbsp;&nbsp;Централизация: $C_D=\\frac{\\sum_{i=1}^{g}(C_D(n^\\star)-C_D(n_i))}{(g-1)(g-2)}$\n",
    "\n",
    "2) **Центральность по близости**:\n",
    "$C_C(n_i)=(\\sum_{j=1}^{g}d(n_i, n_j))^{-1}$\n",
    "\n",
    "&nbsp;&nbsp;&nbsp;&nbsp;&nbsp;&nbsp;Нормированная центральность: $C_C'(n_i)=\\frac{g-1}{\\sum_{j=1}^{g}d(n_i, n_j)}$\n",
    "\n",
    "&nbsp;&nbsp;&nbsp;&nbsp;&nbsp;&nbsp;Централизация: $C_C=\\frac{\\sum_{i=1}^{g}(C_C'(n^\\star)-C_C'(n_i))}{(g-1)(g-2)/(2g-3)}$\n",
    "\n",
    "3) **Центральность по посреднечеству**:\n",
    "$C_B(n_i)=\\sum_{j<k}\\frac{g_{jk}(n_i)}{g_{jk}}$\n",
    "\n",
    "&nbsp;&nbsp;&nbsp;&nbsp;&nbsp;&nbsp;$g_{jk}(n_i)$ - кол-во геодезических расстояний между узлами $j$ и $k$, которые включают $i$\n",
    "\n",
    "&nbsp;&nbsp;&nbsp;&nbsp;&nbsp;&nbsp;$g_{jk}$ - геодезическое расстояние между узлами $j$ и $k$\n",
    "\n",
    "&nbsp;&nbsp;&nbsp;&nbsp;&nbsp;&nbsp;Нормированная центральность: $C_B'(n_i)=\\frac{C_B(n_i)}{(_2^{g-1})}$\n",
    "\n",
    "&nbsp;&nbsp;&nbsp;&nbsp;&nbsp;&nbsp;Централизация: $C_B=\\frac{\\sum_{i=1}^{g}(C_B'(n^\\star)-C_B'(n_i))}{(g-1)}$\n",
    "\n",
    "4) **Центральность по инфорамции**:\n",
    "\n",
    "&nbsp;&nbsp;&nbsp;&nbsp;&nbsp;&nbsp;$A_{g\\times g}$, \n",
    "\n",
    "&nbsp;&nbsp;&nbsp;&nbsp;&nbsp;&nbsp;&nbsp;&nbsp;&nbsp;&nbsp;&nbsp;&nbsp;где $a_{ii}$ - это сумма всех линий, инцидентных с $n_i$ + 1\n",
    "\n",
    "&nbsp;&nbsp;&nbsp;&nbsp;&nbsp;&nbsp;&nbsp;&nbsp;&nbsp;&nbsp;&nbsp;&nbsp;$a_{ij}$ - это $1-x_{ij}$, если $n_i$ и $n_j$ инцидентны, $1$ иначе\n",
    "\n",
    "&nbsp;&nbsp;&nbsp;&nbsp;&nbsp;&nbsp;$C=A^{-1}$\n",
    "\n",
    "&nbsp;&nbsp;&nbsp;&nbsp;&nbsp;&nbsp;$C_I(n_i)=(C_{ii}+(trC-2\\sum_{j=1}^{g}C_{ij})/g)^{-1}$\n",
    "\n",
    "\n",
    "&nbsp;&nbsp;&nbsp;&nbsp;&nbsp;&nbsp;Нормированная центральность: $C_I'(n_i)=\\frac{C_I(n_i)}{\\sum_{j=1}^{g}C_I(n_j)}$\n",
    "\n",
    "&nbsp;&nbsp;&nbsp;&nbsp;&nbsp;&nbsp;Централизация: $C_I^2=\\frac{1}{g}\\sum_{i=1}^{g}(C_I'(n_i)-\\bar{C_I})^2$\n",
    "\n",
    "<ins>Меры престижа</ins>:\n",
    "\n",
    "1) **Престиж по степени**:\n",
    "$P_D(n_i)=d_in(n_i)=X_{+i}$\n",
    "\n",
    "&nbsp;&nbsp;&nbsp;&nbsp;&nbsp;&nbsp;Нормированный престиж: $P_D'(n_i)=\\frac{X_{+i}}{g-1}$\n",
    "\n",
    "2) **Престиж по близости**:\n",
    "$P_P(n_i)=\\frac{\\# l_i/g-1}{\\sum_{j:n_j \\ni l_i}d(n_j, n_i)/\\# l_i}$\n",
    "\n",
    "&nbsp;&nbsp;&nbsp;&nbsp;&nbsp;&nbsp;$l_i$ - область влияния $i$-го актора\n",
    "\n",
    "**Мосты / Точки сочленения** - рёбра/вершины, при удалении из графа которых количество компонент возрастает."
   ]
  },
  {
   "cell_type": "markdown",
   "metadata": {},
   "source": [
    "## Постановка задачи\n",
    "С помощью математических пакетов и соответствующих библиотек провести анализ заданных социальных сетей вычислить описательные характеристики. Полученные результаты содержательно проинтерпретировать."
   ]
  },
  {
   "cell_type": "markdown",
   "metadata": {},
   "source": [
    "## Выполнение работы"
   ]
  },
  {
   "cell_type": "markdown",
   "metadata": {},
   "source": [
    "№1. Из файла `florentine_business.csv` была извлечена социоматрица (в виде таблицы) с помощью функции `read.csv`, которая также по умолчанию читает и заголовки столбцов. Затем заголовки столбцов были назначены и рядам (задание 3). Полученная таблица была преобразована в матрицу и выведена на экран."
   ]
  },
  {
   "cell_type": "code",
   "execution_count": 1,
   "metadata": {
    "vscode": {
     "languageId": "r"
    }
   },
   "outputs": [
    {
     "data": {
      "text/html": [
       "<table class=\"dataframe\">\n",
       "<caption>A matrix: 16 × 16 of type int</caption>\n",
       "<thead>\n",
       "\t<tr><th></th><th scope=col>Acciaiuoli</th><th scope=col>Albizzi</th><th scope=col>Barbadori</th><th scope=col>Bischeri</th><th scope=col>Castellani</th><th scope=col>Ginori</th><th scope=col>Guadagni</th><th scope=col>Lamberteschi</th><th scope=col>Medici</th><th scope=col>Pazzi</th><th scope=col>Peruzzi</th><th scope=col>Pucci</th><th scope=col>Ridolfi</th><th scope=col>Salviati</th><th scope=col>Strozzi</th><th scope=col>Tornabuoni</th></tr>\n",
       "</thead>\n",
       "<tbody>\n",
       "\t<tr><th scope=row>Acciaiuoli</th><td>0</td><td>0</td><td>0</td><td>0</td><td>0</td><td>0</td><td>0</td><td>0</td><td>0</td><td>0</td><td>0</td><td>0</td><td>0</td><td>0</td><td>0</td><td>0</td></tr>\n",
       "\t<tr><th scope=row>Albizzi</th><td>0</td><td>0</td><td>0</td><td>0</td><td>0</td><td>0</td><td>0</td><td>0</td><td>0</td><td>0</td><td>0</td><td>0</td><td>0</td><td>0</td><td>0</td><td>0</td></tr>\n",
       "\t<tr><th scope=row>Barbadori</th><td>0</td><td>0</td><td>0</td><td>0</td><td>1</td><td>1</td><td>0</td><td>0</td><td>1</td><td>0</td><td>1</td><td>0</td><td>0</td><td>0</td><td>0</td><td>0</td></tr>\n",
       "\t<tr><th scope=row>Bischeri</th><td>0</td><td>0</td><td>0</td><td>0</td><td>0</td><td>0</td><td>1</td><td>1</td><td>0</td><td>0</td><td>1</td><td>0</td><td>0</td><td>0</td><td>0</td><td>0</td></tr>\n",
       "\t<tr><th scope=row>Castellani</th><td>0</td><td>0</td><td>1</td><td>0</td><td>0</td><td>0</td><td>0</td><td>1</td><td>0</td><td>0</td><td>1</td><td>0</td><td>0</td><td>0</td><td>0</td><td>0</td></tr>\n",
       "\t<tr><th scope=row>Ginori</th><td>0</td><td>0</td><td>1</td><td>0</td><td>0</td><td>0</td><td>0</td><td>0</td><td>1</td><td>0</td><td>0</td><td>0</td><td>0</td><td>0</td><td>0</td><td>0</td></tr>\n",
       "\t<tr><th scope=row>Guadagni</th><td>0</td><td>0</td><td>0</td><td>1</td><td>0</td><td>0</td><td>0</td><td>1</td><td>0</td><td>0</td><td>0</td><td>0</td><td>0</td><td>0</td><td>0</td><td>0</td></tr>\n",
       "\t<tr><th scope=row>Lamberteschi</th><td>0</td><td>0</td><td>0</td><td>1</td><td>1</td><td>0</td><td>1</td><td>0</td><td>0</td><td>0</td><td>1</td><td>0</td><td>0</td><td>0</td><td>0</td><td>0</td></tr>\n",
       "\t<tr><th scope=row>Medici</th><td>0</td><td>0</td><td>1</td><td>0</td><td>0</td><td>1</td><td>0</td><td>0</td><td>0</td><td>1</td><td>0</td><td>0</td><td>0</td><td>1</td><td>0</td><td>1</td></tr>\n",
       "\t<tr><th scope=row>Pazzi</th><td>0</td><td>0</td><td>0</td><td>0</td><td>0</td><td>0</td><td>0</td><td>0</td><td>1</td><td>0</td><td>0</td><td>0</td><td>0</td><td>0</td><td>0</td><td>0</td></tr>\n",
       "\t<tr><th scope=row>Peruzzi</th><td>0</td><td>0</td><td>1</td><td>1</td><td>1</td><td>0</td><td>0</td><td>1</td><td>0</td><td>0</td><td>0</td><td>0</td><td>0</td><td>0</td><td>0</td><td>0</td></tr>\n",
       "\t<tr><th scope=row>Pucci</th><td>0</td><td>0</td><td>0</td><td>0</td><td>0</td><td>0</td><td>0</td><td>0</td><td>0</td><td>0</td><td>0</td><td>0</td><td>0</td><td>0</td><td>0</td><td>0</td></tr>\n",
       "\t<tr><th scope=row>Ridolfi</th><td>0</td><td>0</td><td>0</td><td>0</td><td>0</td><td>0</td><td>0</td><td>0</td><td>0</td><td>0</td><td>0</td><td>0</td><td>0</td><td>0</td><td>0</td><td>0</td></tr>\n",
       "\t<tr><th scope=row>Salviati</th><td>0</td><td>0</td><td>0</td><td>0</td><td>0</td><td>0</td><td>0</td><td>0</td><td>1</td><td>0</td><td>0</td><td>0</td><td>0</td><td>0</td><td>0</td><td>0</td></tr>\n",
       "\t<tr><th scope=row>Strozzi</th><td>0</td><td>0</td><td>0</td><td>0</td><td>0</td><td>0</td><td>0</td><td>0</td><td>0</td><td>0</td><td>0</td><td>0</td><td>0</td><td>0</td><td>0</td><td>0</td></tr>\n",
       "\t<tr><th scope=row>Tornabuoni</th><td>0</td><td>0</td><td>0</td><td>0</td><td>0</td><td>0</td><td>0</td><td>0</td><td>1</td><td>0</td><td>0</td><td>0</td><td>0</td><td>0</td><td>0</td><td>0</td></tr>\n",
       "</tbody>\n",
       "</table>\n"
      ],
      "text/latex": [
       "A matrix: 16 × 16 of type int\n",
       "\\begin{tabular}{r|llllllllllllllll}\n",
       "  & Acciaiuoli & Albizzi & Barbadori & Bischeri & Castellani & Ginori & Guadagni & Lamberteschi & Medici & Pazzi & Peruzzi & Pucci & Ridolfi & Salviati & Strozzi & Tornabuoni\\\\\n",
       "\\hline\n",
       "\tAcciaiuoli & 0 & 0 & 0 & 0 & 0 & 0 & 0 & 0 & 0 & 0 & 0 & 0 & 0 & 0 & 0 & 0\\\\\n",
       "\tAlbizzi & 0 & 0 & 0 & 0 & 0 & 0 & 0 & 0 & 0 & 0 & 0 & 0 & 0 & 0 & 0 & 0\\\\\n",
       "\tBarbadori & 0 & 0 & 0 & 0 & 1 & 1 & 0 & 0 & 1 & 0 & 1 & 0 & 0 & 0 & 0 & 0\\\\\n",
       "\tBischeri & 0 & 0 & 0 & 0 & 0 & 0 & 1 & 1 & 0 & 0 & 1 & 0 & 0 & 0 & 0 & 0\\\\\n",
       "\tCastellani & 0 & 0 & 1 & 0 & 0 & 0 & 0 & 1 & 0 & 0 & 1 & 0 & 0 & 0 & 0 & 0\\\\\n",
       "\tGinori & 0 & 0 & 1 & 0 & 0 & 0 & 0 & 0 & 1 & 0 & 0 & 0 & 0 & 0 & 0 & 0\\\\\n",
       "\tGuadagni & 0 & 0 & 0 & 1 & 0 & 0 & 0 & 1 & 0 & 0 & 0 & 0 & 0 & 0 & 0 & 0\\\\\n",
       "\tLamberteschi & 0 & 0 & 0 & 1 & 1 & 0 & 1 & 0 & 0 & 0 & 1 & 0 & 0 & 0 & 0 & 0\\\\\n",
       "\tMedici & 0 & 0 & 1 & 0 & 0 & 1 & 0 & 0 & 0 & 1 & 0 & 0 & 0 & 1 & 0 & 1\\\\\n",
       "\tPazzi & 0 & 0 & 0 & 0 & 0 & 0 & 0 & 0 & 1 & 0 & 0 & 0 & 0 & 0 & 0 & 0\\\\\n",
       "\tPeruzzi & 0 & 0 & 1 & 1 & 1 & 0 & 0 & 1 & 0 & 0 & 0 & 0 & 0 & 0 & 0 & 0\\\\\n",
       "\tPucci & 0 & 0 & 0 & 0 & 0 & 0 & 0 & 0 & 0 & 0 & 0 & 0 & 0 & 0 & 0 & 0\\\\\n",
       "\tRidolfi & 0 & 0 & 0 & 0 & 0 & 0 & 0 & 0 & 0 & 0 & 0 & 0 & 0 & 0 & 0 & 0\\\\\n",
       "\tSalviati & 0 & 0 & 0 & 0 & 0 & 0 & 0 & 0 & 1 & 0 & 0 & 0 & 0 & 0 & 0 & 0\\\\\n",
       "\tStrozzi & 0 & 0 & 0 & 0 & 0 & 0 & 0 & 0 & 0 & 0 & 0 & 0 & 0 & 0 & 0 & 0\\\\\n",
       "\tTornabuoni & 0 & 0 & 0 & 0 & 0 & 0 & 0 & 0 & 1 & 0 & 0 & 0 & 0 & 0 & 0 & 0\\\\\n",
       "\\end{tabular}\n"
      ],
      "text/markdown": [
       "\n",
       "A matrix: 16 × 16 of type int\n",
       "\n",
       "| <!--/--> | Acciaiuoli | Albizzi | Barbadori | Bischeri | Castellani | Ginori | Guadagni | Lamberteschi | Medici | Pazzi | Peruzzi | Pucci | Ridolfi | Salviati | Strozzi | Tornabuoni |\n",
       "|---|---|---|---|---|---|---|---|---|---|---|---|---|---|---|---|---|\n",
       "| Acciaiuoli | 0 | 0 | 0 | 0 | 0 | 0 | 0 | 0 | 0 | 0 | 0 | 0 | 0 | 0 | 0 | 0 |\n",
       "| Albizzi | 0 | 0 | 0 | 0 | 0 | 0 | 0 | 0 | 0 | 0 | 0 | 0 | 0 | 0 | 0 | 0 |\n",
       "| Barbadori | 0 | 0 | 0 | 0 | 1 | 1 | 0 | 0 | 1 | 0 | 1 | 0 | 0 | 0 | 0 | 0 |\n",
       "| Bischeri | 0 | 0 | 0 | 0 | 0 | 0 | 1 | 1 | 0 | 0 | 1 | 0 | 0 | 0 | 0 | 0 |\n",
       "| Castellani | 0 | 0 | 1 | 0 | 0 | 0 | 0 | 1 | 0 | 0 | 1 | 0 | 0 | 0 | 0 | 0 |\n",
       "| Ginori | 0 | 0 | 1 | 0 | 0 | 0 | 0 | 0 | 1 | 0 | 0 | 0 | 0 | 0 | 0 | 0 |\n",
       "| Guadagni | 0 | 0 | 0 | 1 | 0 | 0 | 0 | 1 | 0 | 0 | 0 | 0 | 0 | 0 | 0 | 0 |\n",
       "| Lamberteschi | 0 | 0 | 0 | 1 | 1 | 0 | 1 | 0 | 0 | 0 | 1 | 0 | 0 | 0 | 0 | 0 |\n",
       "| Medici | 0 | 0 | 1 | 0 | 0 | 1 | 0 | 0 | 0 | 1 | 0 | 0 | 0 | 1 | 0 | 1 |\n",
       "| Pazzi | 0 | 0 | 0 | 0 | 0 | 0 | 0 | 0 | 1 | 0 | 0 | 0 | 0 | 0 | 0 | 0 |\n",
       "| Peruzzi | 0 | 0 | 1 | 1 | 1 | 0 | 0 | 1 | 0 | 0 | 0 | 0 | 0 | 0 | 0 | 0 |\n",
       "| Pucci | 0 | 0 | 0 | 0 | 0 | 0 | 0 | 0 | 0 | 0 | 0 | 0 | 0 | 0 | 0 | 0 |\n",
       "| Ridolfi | 0 | 0 | 0 | 0 | 0 | 0 | 0 | 0 | 0 | 0 | 0 | 0 | 0 | 0 | 0 | 0 |\n",
       "| Salviati | 0 | 0 | 0 | 0 | 0 | 0 | 0 | 0 | 1 | 0 | 0 | 0 | 0 | 0 | 0 | 0 |\n",
       "| Strozzi | 0 | 0 | 0 | 0 | 0 | 0 | 0 | 0 | 0 | 0 | 0 | 0 | 0 | 0 | 0 | 0 |\n",
       "| Tornabuoni | 0 | 0 | 0 | 0 | 0 | 0 | 0 | 0 | 1 | 0 | 0 | 0 | 0 | 0 | 0 | 0 |\n",
       "\n"
      ],
      "text/plain": [
       "             Acciaiuoli Albizzi Barbadori Bischeri Castellani Ginori Guadagni\n",
       "Acciaiuoli   0          0       0         0        0          0      0       \n",
       "Albizzi      0          0       0         0        0          0      0       \n",
       "Barbadori    0          0       0         0        1          1      0       \n",
       "Bischeri     0          0       0         0        0          0      1       \n",
       "Castellani   0          0       1         0        0          0      0       \n",
       "Ginori       0          0       1         0        0          0      0       \n",
       "Guadagni     0          0       0         1        0          0      0       \n",
       "Lamberteschi 0          0       0         1        1          0      1       \n",
       "Medici       0          0       1         0        0          1      0       \n",
       "Pazzi        0          0       0         0        0          0      0       \n",
       "Peruzzi      0          0       1         1        1          0      0       \n",
       "Pucci        0          0       0         0        0          0      0       \n",
       "Ridolfi      0          0       0         0        0          0      0       \n",
       "Salviati     0          0       0         0        0          0      0       \n",
       "Strozzi      0          0       0         0        0          0      0       \n",
       "Tornabuoni   0          0       0         0        0          0      0       \n",
       "             Lamberteschi Medici Pazzi Peruzzi Pucci Ridolfi Salviati Strozzi\n",
       "Acciaiuoli   0            0      0     0       0     0       0        0      \n",
       "Albizzi      0            0      0     0       0     0       0        0      \n",
       "Barbadori    0            1      0     1       0     0       0        0      \n",
       "Bischeri     1            0      0     1       0     0       0        0      \n",
       "Castellani   1            0      0     1       0     0       0        0      \n",
       "Ginori       0            1      0     0       0     0       0        0      \n",
       "Guadagni     1            0      0     0       0     0       0        0      \n",
       "Lamberteschi 0            0      0     1       0     0       0        0      \n",
       "Medici       0            0      1     0       0     0       1        0      \n",
       "Pazzi        0            1      0     0       0     0       0        0      \n",
       "Peruzzi      1            0      0     0       0     0       0        0      \n",
       "Pucci        0            0      0     0       0     0       0        0      \n",
       "Ridolfi      0            0      0     0       0     0       0        0      \n",
       "Salviati     0            1      0     0       0     0       0        0      \n",
       "Strozzi      0            0      0     0       0     0       0        0      \n",
       "Tornabuoni   0            1      0     0       0     0       0        0      \n",
       "             Tornabuoni\n",
       "Acciaiuoli   0         \n",
       "Albizzi      0         \n",
       "Barbadori    0         \n",
       "Bischeri     0         \n",
       "Castellani   0         \n",
       "Ginori       0         \n",
       "Guadagni     0         \n",
       "Lamberteschi 0         \n",
       "Medici       1         \n",
       "Pazzi        0         \n",
       "Peruzzi      0         \n",
       "Pucci        0         \n",
       "Ridolfi      0         \n",
       "Salviati     0         \n",
       "Strozzi      0         \n",
       "Tornabuoni   0         "
      ]
     },
     "metadata": {},
     "output_type": "display_data"
    }
   ],
   "source": [
    "data <- read.csv('./florentine_business.csv', comment.char='#')\n",
    "rownames(data) <- colnames(data)\n",
    "sociomatrix <- as.matrix(data)\n",
    "sociomatrix"
   ]
  },
  {
   "cell_type": "markdown",
   "metadata": {},
   "source": [
    "№2. Социоматрица была преобразована в объект сети с помощью функции `network` (задание 4). Из полученной сети был построен список рёбер с помощью функции `as.edgelist`, принимающей сеть. Были выведены первые 5 рёбер."
   ]
  },
  {
   "cell_type": "code",
   "execution_count": 3,
   "metadata": {
    "vscode": {
     "languageId": "r"
    }
   },
   "outputs": [
    {
     "data": {
      "text/html": [
       "<table class=\"dataframe\">\n",
       "<caption>A matrix: 5 × 2 of type chr</caption>\n",
       "<tbody>\n",
       "\t<tr><td>Barbadori</td><td>Castellani</td></tr>\n",
       "\t<tr><td>Barbadori</td><td>Ginori    </td></tr>\n",
       "\t<tr><td>Barbadori</td><td>Medici    </td></tr>\n",
       "\t<tr><td>Barbadori</td><td>Peruzzi   </td></tr>\n",
       "\t<tr><td>Bischeri </td><td>Guadagni  </td></tr>\n",
       "</tbody>\n",
       "</table>\n"
      ],
      "text/latex": [
       "A matrix: 5 × 2 of type chr\n",
       "\\begin{tabular}{ll}\n",
       "\t Barbadori & Castellani\\\\\n",
       "\t Barbadori & Ginori    \\\\\n",
       "\t Barbadori & Medici    \\\\\n",
       "\t Barbadori & Peruzzi   \\\\\n",
       "\t Bischeri  & Guadagni  \\\\\n",
       "\\end{tabular}\n"
      ],
      "text/markdown": [
       "\n",
       "A matrix: 5 × 2 of type chr\n",
       "\n",
       "| Barbadori | Castellani |\n",
       "| Barbadori | Ginori     |\n",
       "| Barbadori | Medici     |\n",
       "| Barbadori | Peruzzi    |\n",
       "| Bischeri  | Guadagni   |\n",
       "\n"
      ],
      "text/plain": [
       "     [,1]      [,2]      \n",
       "[1,] Barbadori Castellani\n",
       "[2,] Barbadori Ginori    \n",
       "[3,] Barbadori Medici    \n",
       "[4,] Barbadori Peruzzi   \n",
       "[5,] Bischeri  Guadagni  "
      ]
     },
     "metadata": {},
     "output_type": "display_data"
    }
   ],
   "source": [
    "library(statnet)\n",
    "net <- network(sociomatrix, matrix.type = \"adjacency\", directed=TRUE)\n",
    "edgeList <- matrix(colnames(sociomatrix)[as.edgelist(net)], ncol=2)\n",
    "head(edgeList, 5)"
   ]
  },
  {
   "cell_type": "markdown",
   "metadata": {},
   "source": [
    "№3. В первом задании уже были присвоены имена столбцам и строкам социоматрицы с помощью следующего кода:"
   ]
  },
  {
   "cell_type": "code",
   "execution_count": 4,
   "metadata": {
    "vscode": {
     "languageId": "r"
    }
   },
   "outputs": [
    {
     "data": {
      "text/html": [
       "<style>\n",
       ".list-inline {list-style: none; margin:0; padding: 0}\n",
       ".list-inline>li {display: inline-block}\n",
       ".list-inline>li:not(:last-child)::after {content: \"\\00b7\"; padding: 0 .5ex}\n",
       "</style>\n",
       "<ol class=list-inline><li>'Acciaiuoli'</li><li>'Albizzi'</li><li>'Barbadori'</li><li>'Bischeri'</li><li>'Castellani'</li><li>'Ginori'</li><li>'Guadagni'</li><li>'Lamberteschi'</li><li>'Medici'</li><li>'Pazzi'</li><li>'Peruzzi'</li><li>'Pucci'</li><li>'Ridolfi'</li><li>'Salviati'</li><li>'Strozzi'</li><li>'Tornabuoni'</li></ol>\n"
      ],
      "text/latex": [
       "\\begin{enumerate*}\n",
       "\\item 'Acciaiuoli'\n",
       "\\item 'Albizzi'\n",
       "\\item 'Barbadori'\n",
       "\\item 'Bischeri'\n",
       "\\item 'Castellani'\n",
       "\\item 'Ginori'\n",
       "\\item 'Guadagni'\n",
       "\\item 'Lamberteschi'\n",
       "\\item 'Medici'\n",
       "\\item 'Pazzi'\n",
       "\\item 'Peruzzi'\n",
       "\\item 'Pucci'\n",
       "\\item 'Ridolfi'\n",
       "\\item 'Salviati'\n",
       "\\item 'Strozzi'\n",
       "\\item 'Tornabuoni'\n",
       "\\end{enumerate*}\n"
      ],
      "text/markdown": [
       "1. 'Acciaiuoli'\n",
       "2. 'Albizzi'\n",
       "3. 'Barbadori'\n",
       "4. 'Bischeri'\n",
       "5. 'Castellani'\n",
       "6. 'Ginori'\n",
       "7. 'Guadagni'\n",
       "8. 'Lamberteschi'\n",
       "9. 'Medici'\n",
       "10. 'Pazzi'\n",
       "11. 'Peruzzi'\n",
       "12. 'Pucci'\n",
       "13. 'Ridolfi'\n",
       "14. 'Salviati'\n",
       "15. 'Strozzi'\n",
       "16. 'Tornabuoni'\n",
       "\n",
       "\n"
      ],
      "text/plain": [
       " [1] \"Acciaiuoli\"   \"Albizzi\"      \"Barbadori\"    \"Bischeri\"     \"Castellani\"  \n",
       " [6] \"Ginori\"       \"Guadagni\"     \"Lamberteschi\" \"Medici\"       \"Pazzi\"       \n",
       "[11] \"Peruzzi\"      \"Pucci\"        \"Ridolfi\"      \"Salviati\"     \"Strozzi\"     \n",
       "[16] \"Tornabuoni\"  "
      ]
     },
     "metadata": {},
     "output_type": "display_data"
    }
   ],
   "source": [
    "rownames(data) <- colnames(data) #colnames уже содержит имена благодаря функции read.csv\n",
    "rownames(sociomatrix)"
   ]
  },
  {
   "cell_type": "markdown",
   "metadata": {},
   "source": [
    "№4. Во втором задании уже была построена сеть по социоматрице по следующему коду. Функция `network` принимает матрицу, указывается тип матрицы (матрица смежности) и ненаправленность сети (directed = FALSE)."
   ]
  },
  {
   "cell_type": "code",
   "execution_count": 5,
   "metadata": {
    "vscode": {
     "languageId": "r"
    }
   },
   "outputs": [
    {
     "name": "stdout",
     "output_type": "stream",
     "text": [
      "Граф направленный:  FALSE"
     ]
    }
   ],
   "source": [
    "net <- network(sociomatrix, matrix.type = \"adjacency\", directed = FALSE)\n",
    "cat(\"Граф направленный: \", network::is.directed(net))"
   ]
  },
  {
   "cell_type": "markdown",
   "metadata": {},
   "source": [
    "№5. Сеть была отображена с помощью алгоритмов укладки Фрюхтермана–Рейнгольда и Камада–Каваи. Для этого сначала по социоматрице был создан объект ненаправленного графа, а затем при отрисовке были заданы соответсвующие алгоритмы укладки. В алгоритме Фрюхтермана–Рейнгольда идея состоит в введении сил притяжения и отталкивания для вершин, а в алгоритме Камада–Каваи идея состоит в использовании пружинной системы с учётом геометрических и графиеских расстояний. Полученные укладки зависят от конкретного графа; в данной задаче укладки практически не отличаются (однако разница заметна в задании 12)."
   ]
  },
  {
   "cell_type": "code",
   "execution_count": 7,
   "metadata": {
    "vscode": {
     "languageId": "r"
    }
   },
   "outputs": [
    {
     "data": {
      "image/png": "[encoded data removed]",
      "text/plain": [
       "Plot with title \"Aлгоритм укладки Фрюхтермана–Рейнгольда\""
      ]
     },
     "metadata": {
      "image/png": {
       "height": 420,
       "width": 420
      }
     },
     "output_type": "display_data"
    },
    {
     "data": {
      "image/png": "[encoded data removed]",
      "text/plain": [
       "Plot with title \"Aлгоритм укладки Камада–Каваи\""
      ]
     },
     "metadata": {
      "image/png": {
       "height": 420,
       "width": 420
      }
     },
     "output_type": "display_data"
    }
   ],
   "source": [
    "library(igraph)\n",
    "graph <- graph.adjacency(sociomatrix, mode=\"undirected\")\n",
    "plot(graph, layout=layout_with_fr(graph), main=\"Aлгоритм укладки Фрюхтермана–Рейнгольда\")\n",
    "plot(graph, layout=layout_with_kk(graph), main=\"Aлгоритм укладки Камада–Каваи\")"
   ]
  },
  {
   "cell_type": "markdown",
   "metadata": {},
   "source": [
    "№6. Была выведена «описательная сводка» сети. В ней видно, что в сети 16 акторов, 15 связей, сеть ненаправленная без циклов с плотностью 0.125. Так же выводится и список рёбер."
   ]
  },
  {
   "cell_type": "code",
   "execution_count": 8,
   "metadata": {
    "vscode": {
     "languageId": "r"
    }
   },
   "outputs": [
    {
     "data": {
      "text/plain": [
       "Network attributes:\n",
       "  vertices = 16\n",
       "  directed = FALSE\n",
       "  hyper = FALSE\n",
       "  loops = FALSE\n",
       "  multiple = FALSE\n",
       "  bipartite = FALSE\n",
       " total edges = 15 \n",
       "   missing edges = 0 \n",
       "   non-missing edges = 15 \n",
       " density = 0.125 \n",
       "\n",
       "Vertex attributes:\n",
       "  vertex.names:\n",
       "   character valued attribute\n",
       "   16 valid vertex names\n",
       "\n",
       "No edge attributes\n",
       "\n",
       "Network edgelist matrix:\n",
       "      [,1] [,2]\n",
       " [1,]    5    3\n",
       " [2,]    6    3\n",
       " [3,]    9    3\n",
       " [4,]   11    3\n",
       " [5,]    7    4\n",
       " [6,]    8    4\n",
       " [7,]   11    4\n",
       " [8,]    8    5\n",
       " [9,]   11    5\n",
       "[10,]    9    6\n",
       "[11,]    8    7\n",
       "[12,]   11    8\n",
       "[13,]   10    9\n",
       "[14,]   14    9\n",
       "[15,]   16    9"
      ]
     },
     "metadata": {},
     "output_type": "display_data"
    }
   ],
   "source": [
    "summary(net)"
   ]
  },
  {
   "cell_type": "markdown",
   "metadata": {},
   "source": [
    "№7. Была вычислена «пятичисловая сводка» сети. Размер сети равен количеству вершин ($16$). Для неориентированных сетей плотность равна $\\varDelta = \\frac{L}{(_2^g)} = \\frac{15}{(_2^{16})} = \\frac{15*2}{15*16} = \\frac18 = .125$. В графе есть одна большая компонента связности и $5$ изолированных вершин, поэтому общее число равно $6$. Наибольшее кратчайшее расстояние равно $5$, это легко увидеть на графе (пути из одного конца в противоположный в большей компоненте). Колчиество закрытых треугольников = $5$, а общее количество открытых и закрытых треугольников = $12$, поэтому коэффициент кластеризации равен $\\frac{5}{12} = .41(6)$. Все предположения подтверждаются кодом ниже.\n",
    "\n",
    "Малая плотность показывает, что акторы мало взаимодействуют друг с другом, а относительно большое количество компонент показывает, что есть пары акторов, которые никак не связаны друг с другом. Малую связность подтверждает и диаметр, ведь если бы акторы были более связаны друг с другом, то и максимальное кратчайщее расстояние между парами было бы меньше. Полученный коэффициент кластеризации показывает среднию тенденцию к образованию транзитивных связей между акторами, то есть не факт, что два актора, имеющие связь с третьим, будут связаны друг с другом."
   ]
  },
  {
   "cell_type": "code",
   "execution_count": 9,
   "metadata": {
    "vscode": {
     "languageId": "r"
    }
   },
   "outputs": [
    {
     "name": "stdout",
     "output_type": "stream",
     "text": [
      "Размер:  16 \n",
      "Плотность:  0.125 \n",
      "Число компонент:  6 \n",
      "Диаметр:  5 \n",
      "Коэффициент кластеризации:  0.4166667 \n"
     ]
    }
   ],
   "source": [
    "cat(\"Размер: \", gorder(graph), \"\\n\")\n",
    "cat(\"Плотность: \", gden(sociomatrix), \"\\n\")\n",
    "cat(\"Число компонент: \", components(graph)$no, \"\\n\")\n",
    "cat(\"Диаметр: \", diameter(graph), \"\\n\")\n",
    "cat(\"Коэффициент кластеризации: \", gtrans(sociomatrix), \"\\n\")"
   ]
  },
  {
   "cell_type": "markdown",
   "metadata": {},
   "source": [
    "№8. Была вычислена средняя степень узлов и дисперсия. Из полученных результатов видно, что акторы в сети имеют достаточно различное и неравномерное кол-во связей (в среднем 2, но дисперсия относительно велика), и это действительно так, ведь некоторые акторы изолированы, а некоторые имеют больше двух связей."
   ]
  },
  {
   "cell_type": "code",
   "execution_count": 10,
   "metadata": {
    "vscode": {
     "languageId": "r"
    }
   },
   "outputs": [
    {
     "name": "stdout",
     "output_type": "stream",
     "text": [
      "Средняя степень узлов:  1.875 \n",
      "Дисперсия:  3.05 \n"
     ]
    }
   ],
   "source": [
    "cat(\"Средняя степень узлов: \", mean(degree(graph)), \"\\n\")\n",
    "cat(\"Дисперсия: \", var(degree(graph)), \"\\n\")"
   ]
  },
  {
   "cell_type": "markdown",
   "metadata": {},
   "source": [
    "№9. Были высчитаны нормированные меры центральности для неизолированных вершин графа (таблица ниже). Полученные значения мер различаются друг от друга, что показывает различие в понимании важности того или иного актора в зависимости от выбранной меры, поэтому разные меры могут использоваться в разных ситуациях. Самым важным актором по мере центральности по степени является актор под номером 9 (`Medici`), а по трём другим - актор под номером 3 (`Barbadori`)."
   ]
  },
  {
   "cell_type": "code",
   "execution_count": 11,
   "metadata": {
    "vscode": {
     "languageId": "r"
    }
   },
   "outputs": [],
   "source": [
    "graphNew <- delete.vertices(graph, which(degree(graph) == 0))\n",
    "\n",
    "cTable <- data.frame(ni = match(V(graphNew)$name, V(graph)$name))\n",
    "\n",
    "cTable$Cd <- degree(graphNew, normalized=TRUE)\n",
    "cTable$Cc <- round(closeness(graphNew, normalized=TRUE), 3)\n",
    "cTable$Cb <- round(betweenness(graphNew, normalized=TRUE), 3)\n",
    "\n",
    "netNew <- network::delete.vertices(net, isolates(net))\n",
    "Ci <- infocent(netNew)\n",
    "cTable$Ci <- round(Ci/sum(Ci), 3)"
   ]
  },
  {
   "cell_type": "markdown",
   "metadata": {},
   "source": [
    "Сгенерированная и отформатированная таблица:\n",
    "\n",
    "| $n_i$ | $C_d'$ | $C_c'$ | $C_b'$ | $C_i'$ |\n",
    "|:------|:-------|:-------|:-------|:-------|\n",
    "|  3    | 0.4    | 0.588  | 0.556  | 0.124  |\n",
    "|  4    | 0.3    | 0.400  | 0.056  | 0.089  |\n",
    "|  5    | 0.3    | 0.500  | 0.111  | 0.105  |\n",
    "|  6    | 0.2    | 0.455  | 0.000  | 0.095  |\n",
    "|  7    | 0.2    | 0.312  | 0.000  | 0.077  |\n",
    "|  8    | 0.4    | 0.417  | 0.133  | 0.098  |\n",
    "|  9    | 0.5    | 0.526  | 0.533  | 0.111  |\n",
    "| 10    | 0.1    | 0.357  | 0.000  | 0.064  |\n",
    "| 11    | 0.4    | 0.526  | 0.300  | 0.109  |\n",
    "| 14    | 0.1    | 0.357  | 0.000  | 0.064  |\n",
    "| 16    | 0.1    | 0.357  | 0.000  | 0.064  |"
   ]
  },
  {
   "cell_type": "markdown",
   "metadata": {},
   "source": [
    "№10. Были вычислены значения централизации для каждой меры. Результаты получились разными (по посреднечеству централизована больше всего), что подтверждает вывод, сделанный в прошлом задании, только теперь касательно не одного актора, а всей подгруппы."
   ]
  },
  {
   "cell_type": "code",
   "execution_count": 12,
   "metadata": {
    "vscode": {
     "languageId": "r"
    }
   },
   "outputs": [
    {
     "name": "stdout",
     "output_type": "stream",
     "text": [
      "Централизация по степени:  0.227 \n",
      "Централизация по близости:  0.354 \n",
      "Централизация по посреднечеству:  0.442 \n",
      "Централизация по информации:  0.166 \n"
     ]
    }
   ],
   "source": [
    "cat(\"Централизация по степени: \", round(centr_degree(graphNew)$centralization, 3), \"\\n\")\n",
    "cat(\"Централизация по близости: \", round(centr_clo(graphNew)$centralization, 3), \"\\n\")\n",
    "cat(\"Централизация по посреднечеству: \", round(centr_betw(graphNew)$centralization, 3), \"\\n\")\n",
    "cat(\"Централизация по информации: \", round(centralization(netNew, infocent), 3), \"\\n\")"
   ]
  },
  {
   "cell_type": "markdown",
   "metadata": {},
   "source": [
    "№11. По графику из прошлых заданий можно увидеть, что при удалении вершин `Medici` и `Barbadori`, большая компонента связности разобъётся на 4 и 2 компоненты соответственно, поэтому эти вершины будут точками сочленения. Мосты можно найти по той же логике: ими будут рёбра между `Medici` и `Tornabuoni`, `Pazzi`, `Salviati`. Сделанные выводы подтверждаются кодом и графом ниже (на графе мосты и точки сочленения выделены)."
   ]
  },
  {
   "cell_type": "code",
   "execution_count": 13,
   "metadata": {
    "vscode": {
     "languageId": "r"
    }
   },
   "outputs": [
    {
     "data": {
      "image/png": "[encoded data removed]",
      "text/plain": [
       "Plot with title \"Мосты и точки сочленения\""
      ]
     },
     "metadata": {
      "image/png": {
       "height": 420,
       "width": 420
      }
     },
     "output_type": "display_data"
    }
   ],
   "source": [
    "art_points <- articulation_points(graph)\n",
    "bridges <- bridges(graph)\n",
    "plot(graph, \n",
    "    edge.color = ifelse(E(graph) %in% bridges, 7, 1), \n",
    "    vertex.color = ifelse(V(graph) %in% art_points, 7, 1), \n",
    "    edge.width=4, main='Мосты и точки сочленения')"
   ]
  },
  {
   "cell_type": "markdown",
   "metadata": {},
   "source": [
    "№12.  Действия из пп. 2-8 были выполнены для направленной сети из файла `krackhardt_advice.csv`."
   ]
  },
  {
   "cell_type": "markdown",
   "metadata": {},
   "source": [
    "- Сначала была считана социоматрица (пп. 1), и назначены имена строкам и столбцам (пп. 3)"
   ]
  },
  {
   "cell_type": "code",
   "execution_count": 14,
   "metadata": {
    "vscode": {
     "languageId": "r"
    }
   },
   "outputs": [],
   "source": [
    "data <- read.csv('./krackhardt_advice.csv', comment.char='#', header=FALSE)\n",
    "rownames(data) <- colnames(data)\n",
    "sociomatrix <- as.matrix(data)"
   ]
  },
  {
   "cell_type": "markdown",
   "metadata": {},
   "source": [
    "- Затем была построена сеть (пп. 4). Чтобы сеть была направленной, нужно просто не изменять параметров по умолчанию."
   ]
  },
  {
   "cell_type": "code",
   "execution_count": 15,
   "metadata": {
    "vscode": {
     "languageId": "r"
    }
   },
   "outputs": [
    {
     "name": "stdout",
     "output_type": "stream",
     "text": [
      "Граф направленный:  TRUE"
     ]
    }
   ],
   "source": [
    "net <- network(sociomatrix, matrix.type = \"adjacency\")\n",
    "cat(\"Граф направленный: \", network::is.directed(net))"
   ]
  },
  {
   "cell_type": "markdown",
   "metadata": {},
   "source": [
    "- Далее были выведены первые 5 элементов из списка рёбер (пп. 2)"
   ]
  },
  {
   "cell_type": "code",
   "execution_count": 16,
   "metadata": {
    "vscode": {
     "languageId": "r"
    }
   },
   "outputs": [
    {
     "data": {
      "text/html": [
       "<table class=\"dataframe\">\n",
       "<caption>A matrix: 5 × 2 of type chr</caption>\n",
       "<tbody>\n",
       "\t<tr><td>V1</td><td>V2 </td></tr>\n",
       "\t<tr><td>V1</td><td>V4 </td></tr>\n",
       "\t<tr><td>V1</td><td>V8 </td></tr>\n",
       "\t<tr><td>V1</td><td>V16</td></tr>\n",
       "\t<tr><td>V1</td><td>V18</td></tr>\n",
       "</tbody>\n",
       "</table>\n"
      ],
      "text/latex": [
       "A matrix: 5 × 2 of type chr\n",
       "\\begin{tabular}{ll}\n",
       "\t V1 & V2 \\\\\n",
       "\t V1 & V4 \\\\\n",
       "\t V1 & V8 \\\\\n",
       "\t V1 & V16\\\\\n",
       "\t V1 & V18\\\\\n",
       "\\end{tabular}\n"
      ],
      "text/markdown": [
       "\n",
       "A matrix: 5 × 2 of type chr\n",
       "\n",
       "| V1 | V2  |\n",
       "| V1 | V4  |\n",
       "| V1 | V8  |\n",
       "| V1 | V16 |\n",
       "| V1 | V18 |\n",
       "\n"
      ],
      "text/plain": [
       "     [,1] [,2]\n",
       "[1,] V1   V2  \n",
       "[2,] V1   V4  \n",
       "[3,] V1   V8  \n",
       "[4,] V1   V16 \n",
       "[5,] V1   V18 "
      ]
     },
     "metadata": {},
     "output_type": "display_data"
    }
   ],
   "source": [
    "edgeList <- matrix(colnames(sociomatrix)[as.edgelist(net)], ncol=2)\n",
    "head(edgeList, 5)"
   ]
  },
  {
   "cell_type": "markdown",
   "metadata": {},
   "source": [
    "- Сеть была отображена с помощью алгоритмов укладки Фрюхтермана–Рейнгольда и Камада–Каваи (пп. 5). В этом случае разница в двух укладках видна хорошо: алгоритм Камада-Каваи расположил вершины почти по окружности, в отличии от первого алгоритма."
   ]
  },
  {
   "cell_type": "code",
   "execution_count": 17,
   "metadata": {
    "vscode": {
     "languageId": "r"
    }
   },
   "outputs": [
    {
     "data": {
      "image/png": "[encoded data removed]",
      "text/plain": [
       "Plot with title \"Aлгоритм укладки Фрюхтермана–Рейнгольда\""
      ]
     },
     "metadata": {
      "image/png": {
       "height": 420,
       "width": 420
      }
     },
     "output_type": "display_data"
    },
    {
     "data": {
      "image/png": "[encoded data removed]",
      "text/plain": [
       "Plot with title \"Aлгоритм укладки Камада–Каваи\""
      ]
     },
     "metadata": {
      "image/png": {
       "height": 420,
       "width": 420
      }
     },
     "output_type": "display_data"
    }
   ],
   "source": [
    "graph <- graph.adjacency(sociomatrix)\n",
    "plot(graph, layout=layout_with_fr(graph), edge.width=1, main=\"Aлгоритм укладки Фрюхтермана–Рейнгольда\")\n",
    "plot(graph, layout=layout_with_kk(graph), main=\"Aлгоритм укладки Камада–Каваи\")"
   ]
  },
  {
   "cell_type": "markdown",
   "metadata": {},
   "source": [
    "- Была выведена «описательная сводка» сети (пп. 6). В ней видно, что в сети 21 актор, 190 связей, сеть направленная без циклов с плотностью 0.452381. Так же выводится и список рёбер."
   ]
  },
  {
   "cell_type": "code",
   "execution_count": 18,
   "metadata": {
    "scrolled": false,
    "vscode": {
     "languageId": "r"
    }
   },
   "outputs": [
    {
     "data": {
      "text/plain": [
       "Network attributes:\n",
       "  vertices = 21\n",
       "  directed = TRUE\n",
       "  hyper = FALSE\n",
       "  loops = FALSE\n",
       "  multiple = FALSE\n",
       "  bipartite = FALSE\n",
       " total edges = 190 \n",
       "   missing edges = 0 \n",
       "   non-missing edges = 190 \n",
       " density = 0.452381 \n",
       "\n",
       "Vertex attributes:\n",
       "  vertex.names:\n",
       "   character valued attribute\n",
       "   21 valid vertex names\n",
       "\n",
       "No edge attributes\n",
       "\n",
       "Network edgelist matrix:\n",
       "       [,1] [,2]\n",
       "  [1,]    3    1\n",
       "  [2,]    4    1\n",
       "  [3,]    5    1\n",
       "  [4,]    9    1\n",
       "  [5,]   10    1\n",
       "  [6,]   11    1\n",
       "  [7,]   13    1\n",
       "  [8,]   15    1\n",
       "  [9,]   16    1\n",
       " [10,]   17    1\n",
       " [11,]   18    1\n",
       " [12,]   19    1\n",
       " [13,]   20    1\n",
       " [14,]    1    2\n",
       " [15,]    3    2\n",
       " [16,]    4    2\n",
       " [17,]    5    2\n",
       " [18,]    7    2\n",
       " [19,]    8    2\n",
       " [20,]    9    2\n",
       " [21,]   10    2\n",
       " [22,]   11    2\n",
       " [23,]   13    2\n",
       " [24,]   14    2\n",
       " [25,]   15    2\n",
       " [26,]   16    2\n",
       " [27,]   17    2\n",
       " [28,]   18    2\n",
       " [29,]   19    2\n",
       " [30,]   20    2\n",
       " [31,]   21    2\n",
       " [32,]   10    3\n",
       " [33,]   15    3\n",
       " [34,]   18    3\n",
       " [35,]   19    3\n",
       " [36,]   21    3\n",
       " [37,]    1    4\n",
       " [38,]    3    4\n",
       " [39,]    8    4\n",
       " [40,]   10    4\n",
       " [41,]   15    4\n",
       " [42,]   17    4\n",
       " [43,]   18    4\n",
       " [44,]   21    4\n",
       " [45,]   10    5\n",
       " [46,]   13    5\n",
       " [47,]   15    5\n",
       " [48,]   18    5\n",
       " [49,]   19    5\n",
       " [50,]    2    6\n",
       " [51,]    3    6\n",
       " [52,]    4    6\n",
       " [53,]    5    6\n",
       " [54,]    7    6\n",
       " [55,]    8    6\n",
       " [56,]    9    6\n",
       " [57,]   15    6\n",
       " [58,]   20    6\n",
       " [59,]   21    6\n",
       " [60,]    2    7\n",
       " [61,]    3    7\n",
       " [62,]    5    7\n",
       " [63,]    8    7\n",
       " [64,]    9    7\n",
       " [65,]   11    7\n",
       " [66,]   12    7\n",
       " [67,]   14    7\n",
       " [68,]   15    7\n",
       " [69,]   17    7\n",
       " [70,]   18    7\n",
       " [71,]   19    7\n",
       " [72,]   21    7\n",
       " [73,]    1    8\n",
       " [74,]    3    8\n",
       " [75,]    4    8\n",
       " [76,]    5    8\n",
       " [77,]    9    8\n",
       " [78,]   10    8\n",
       " [79,]   15    8\n",
       " [80,]   18    8\n",
       " [81,]   20    8\n",
       " [82,]   21    8\n",
       " [83,]    3    9\n",
       " [84,]   13    9\n",
       " [85,]   15    9\n",
       " [86,]   18    9\n",
       " [87,]    3   10\n",
       " [88,]    4   10\n",
       " [89,]    5   10\n",
       " [90,]    8   10\n",
       " [91,]    9   10\n",
       " [92,]   15   10\n",
       " [93,]   16   10\n",
       " [94,]   18   10\n",
       " [95,]   19   10\n",
       " [96,]    3   11\n",
       " [97,]    4   11\n",
       " [98,]    5   11\n",
       " [99,]    7   11\n",
       "[100,]    8   11\n",
       "[101,]    9   11\n",
       "[102,]   10   11\n",
       "[103,]   15   11\n",
       "[104,]   18   11\n",
       "[105,]   19   11\n",
       "[106,]   20   11\n",
       "[107,]    3   12\n",
       "[108,]    4   12\n",
       "[109,]    7   12\n",
       "[110,]    9   12\n",
       "[111,]   15   12\n",
       "[112,]   20   12\n",
       "[113,]   21   12\n",
       "[114,]    5   13\n",
       "[115,]   10   13\n",
       "[116,]   15   13\n",
       "[117,]   18   13\n",
       "[118,]    3   14\n",
       "[119,]    5   14\n",
       "[120,]    7   14\n",
       "[121,]    9   14\n",
       "[122,]   13   14\n",
       "[123,]   15   14\n",
       "[124,]   18   14\n",
       "[125,]   19   14\n",
       "[126,]   20   14\n",
       "[127,]   21   14\n",
       "[128,]   10   15\n",
       "[129,]   18   15\n",
       "[130,]   19   15\n",
       "[131,]   20   15\n",
       "[132,]    1   16\n",
       "[133,]    4   16\n",
       "[134,]    5   16\n",
       "[135,]    9   16\n",
       "[136,]   10   16\n",
       "[137,]   15   16\n",
       "[138,]   18   16\n",
       "[139,]   20   16\n",
       "[140,]    3   17\n",
       "[141,]    4   17\n",
       "[142,]    5   17\n",
       "[143,]    7   17\n",
       "[144,]    9   17\n",
       "[145,]   10   17\n",
       "[146,]   15   17\n",
       "[147,]   20   17\n",
       "[148,]   21   17\n",
       "[149,]    1   18\n",
       "[150,]    3   18\n",
       "[151,]    4   18\n",
       "[152,]    5   18\n",
       "[153,]    7   18\n",
       "[154,]    8   18\n",
       "[155,]    9   18\n",
       "[156,]   10   18\n",
       "[157,]   13   18\n",
       "[158,]   14   18\n",
       "[159,]   15   18\n",
       "[160,]   16   18\n",
       "[161,]   19   18\n",
       "[162,]   20   18\n",
       "[163,]   21   18\n",
       "[164,]    5   19\n",
       "[165,]   10   19\n",
       "[166,]   15   19\n",
       "[167,]   18   19\n",
       "[168,]    3   20\n",
       "[169,]    4   20\n",
       "[170,]    5   20\n",
       "[171,]   10   20\n",
       "[172,]   15   20\n",
       "[173,]   18   20\n",
       "[174,]   19   20\n",
       "[175,]   21   20\n",
       "[176,]    1   21\n",
       "[177,]    2   21\n",
       "[178,]    3   21\n",
       "[179,]    4   21\n",
       "[180,]    5   21\n",
       "[181,]    6   21\n",
       "[182,]    7   21\n",
       "[183,]    8   21\n",
       "[184,]    9   21\n",
       "[185,]   12   21\n",
       "[186,]   14   21\n",
       "[187,]   15   21\n",
       "[188,]   17   21\n",
       "[189,]   18   21\n",
       "[190,]   20   21"
      ]
     },
     "metadata": {},
     "output_type": "display_data"
    }
   ],
   "source": [
    "summary(net)"
   ]
  },
  {
   "cell_type": "markdown",
   "metadata": {},
   "source": [
    "- Была вычислена «пятичисловая сводка» сети (пп. 7). Размер сети равен количеству вершин ($21$). Для ориентированных сетей плотность равна $\\varDelta = \\frac{L}{A_g^2} = \\frac{190}{A_21^{2}} = \\frac{190}{20*21} = \\frac{19}{42} = .452...$. В графе есть всего одна компонента связности. Диаметр такой сети на глаз определить тяжело, как и коэффициент кластеризации. Все величины вычисляются ниже.\n",
    "\n",
    "Средняя плотность показывает, что акторы более-менее взаимодействуют друг с другом, а число компонент равное единице показывает, что все акторы связаны друг с другом через цепочку \"рукопожатий\". Относительно среднюю подтверждает и диаметр, ведь для связи люьых двух акторов требуется не больше 3-х \"рукопожатий\". Полученный коэффициент кластеризации показывает среднию тенденцию к образованию транзитивных связей между акторами, то есть не факт, что два актора, имеющие связь с третьим, будут связаны друг с другом."
   ]
  },
  {
   "cell_type": "code",
   "execution_count": 19,
   "metadata": {
    "vscode": {
     "languageId": "r"
    }
   },
   "outputs": [
    {
     "name": "stdout",
     "output_type": "stream",
     "text": [
      "Размер:  21 \n",
      "Плотность:  0.452381 \n",
      "Число компонент:  1 \n",
      "Диаметр:  3 \n",
      "Коэффициент кластеризации:  0.6639785 \n"
     ]
    }
   ],
   "source": [
    "cat(\"Размер: \", gorder(graph), \"\\n\")\n",
    "cat(\"Плотность: \", gden(sociomatrix), \"\\n\")\n",
    "cat(\"Число компонент: \", components(graph)$no, \"\\n\")\n",
    "cat(\"Диаметр: \", diameter(graph), \"\\n\")\n",
    "cat(\"Коэффициент кластеризации: \", gtrans(sociomatrix), \"\\n\")"
   ]
  },
  {
   "cell_type": "markdown",
   "metadata": {},
   "source": [
    "- Была вычислена средняя степень узлов и дисперсия (пп. 8). Так как граф ориентированный, то степени и дисперсию высчитываем для входящих и исходящих ребёр отдельно. Результаты показывают, что в среднем акторы имеют 9 входящих и 9 исходящих связей, но дисперсия показывает, что действительное значение для каждого актора может сильно разниться."
   ]
  },
  {
   "cell_type": "code",
   "execution_count": 20,
   "metadata": {
    "vscode": {
     "languageId": "r"
    }
   },
   "outputs": [
    {
     "name": "stdout",
     "output_type": "stream",
     "text": [
      "Средняя степень узлов (in):  9.047619 \n",
      "Средняя степень узлов (out):  9.047619 \n",
      "Дисперсия (in):  16.54762 \n",
      "Дисперсия (out):  29.74762 \n"
     ]
    }
   ],
   "source": [
    "cat(\"Средняя степень узлов (in): \", mean(degree(graph, mode=\"in\")), \"\\n\")\n",
    "cat(\"Средняя степень узлов (out): \", mean(degree(graph, mode=\"out\")), \"\\n\")\n",
    "cat(\"Дисперсия (in): \", var(degree(graph, mode=\"in\")), \"\\n\")\n",
    "cat(\"Дисперсия (out): \", var(degree(graph, mode=\"out\")), \"\\n\")"
   ]
  },
  {
   "cell_type": "markdown",
   "metadata": {},
   "source": [
    "№13. Были высчитаны меры престижа для направленной сети (таблица ниже). Результаты, как и в прошлых заданиях на центральность, показывают, что разные меры отображают разную в понимании важность акторов, и поэтому определённую меру нужно использовать в зависимости от ситуации. В данном случае самым важным актором по обоим мерам является актор под номером 2."
   ]
  },
  {
   "cell_type": "code",
   "execution_count": 21,
   "metadata": {
    "vscode": {
     "languageId": "r"
    }
   },
   "outputs": [],
   "source": [
    "cTable <- data.frame(ni = 1:gorder(graph))\n",
    "cTable$Pd <- prestige(net, cmode = \"indegree\")/(gorder(graph)-1) \n",
    "cTable$Pp <- round(prestige(net, cmode = \"domain.proximity\"), 3)"
   ]
  },
  {
   "cell_type": "markdown",
   "metadata": {},
   "source": [
    "Полученная и отформатированная таблица:\n",
    "\n",
    "| $n_i'$ | $P_d'$ | $P_p'$ |\n",
    "|:-------|:-------|:-------|\n",
    "|  1     | 0.65   | 0.667  |\n",
    "|  2     | 0.90   | 0.909  |\n",
    "|  3     | 0.25   | 0.556  |\n",
    "|  4     | 0.40   | 0.625  |\n",
    "|  5     | 0.25   | 0.500  |\n",
    "|  6     | 0.50   | 0.667  |\n",
    "|  7     | 0.65   | 0.741  |\n",
    "|  8     | 0.50   | 0.667  |\n",
    "|  9     | 0.20   | 0.488  |\n",
    "| 10     | 0.45   | 0.571  |\n",
    "| 11     | 0.55   | 0.667  |\n",
    "| 12     | 0.35   | 0.588  |\n",
    "| 13     | 0.20   | 0.488  |\n",
    "| 14     | 0.50   | 0.667  |\n",
    "| 15     | 0.20   | 0.488  |\n",
    "| 16     | 0.40   | 0.571  |\n",
    "| 17     | 0.45   | 0.645  |\n",
    "| 18     | 0.75   | 0.800  |\n",
    "| 19     | 0.20   | 0.488  |\n",
    "| 20     | 0.40   | 0.606  |\n",
    "| 21     | 0.75   | 0.800  |"
   ]
  },
  {
   "cell_type": "markdown",
   "metadata": {},
   "source": [
    "## Выводы\n",
    "\n",
    "По результатам практической работы были получены навыки работы с математическими пакетами для моделирования, визуализации и анализа социальных сетей на языке R. Также была повторена теория анализа социальных сетей: представление сетей, анализ характеристик, анализ важности акторов и групп. С помощью математических пакетов на практике была изучена разница между алгоритмами укладки сетей (конкретно Фрюхтермана–Рейнгольда и Камада–Каваи), разница между мерами престижа и центральности, разница между направленными и ненаправленными сетями."
   ]
  }
 ],
 "metadata": {
  "kernelspec": {
   "display_name": "R",
   "language": "R",
   "name": "ir"
  },
  "language_info": {
   "codemirror_mode": "r",
   "file_extension": ".r",
   "mimetype": "text/x-r-source",
   "name": "R",
   "pygments_lexer": "r",
   "version": "4.2.1"
  }
 },
 "nbformat": 4,
 "nbformat_minor": 4
}
