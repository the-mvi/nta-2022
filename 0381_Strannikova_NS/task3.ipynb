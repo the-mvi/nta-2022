{
 "cells": [
  {
   "cell_type": "markdown",
   "metadata": {},
   "source": [
    "### Практическая работа №3: Статистический анализ социальных сетей\n",
    "Выполнила студентка гр. 0381 Странникова Наталья. Вариант №21."
   ]
  },
  {
   "cell_type": "markdown",
   "metadata": {},
   "source": [
    "## Цель работы\n",
    "Овладеть навыками работы с математическими пакетами для статистического анализа социальных сетей."
   ]
  },
  {
   "cell_type": "markdown",
   "metadata": {},
   "source": [
    "## Основные теоретические положения\n",
    "Приводятся основные теоретические положения для данной практической работы: определения, формулы в стиле $ \\LaTeX $ etc. **Данный пункт является обязательным!**\n",
    "\n",
    "<b>Диада</b> - пара акторов и возможная связь между ними\n",
    "$D_{ij}=(x_{ij}, x_{ji}), i \\neq j$\n",
    "\n",
    "<b>Взаимная диада</b> $D_{ij}=(1,1)$\n",
    "\n",
    "<b>Асимметричная диада</b> $D_{ij}=(1,0), D_{ij}=(0,1)$\n",
    "\n",
    "<b>Нулевая диада</b> $D_{ij}=(0,0)$\n",
    "\n",
    "<b>Цензус диад</b> - тройка чисел (M, A, N),\n",
    "где\n",
    "$M=\\sum_{in < j} x_{ij}x_{ji}$\n",
    "\n",
    "$A=X_{++} - 2M$\n",
    "\n",
    "$N=C_{g}^2-A-M$\n",
    "\n",
    "$M=\\frac12tr(XX)$\n",
    "\n",
    "$A=tr(XX^T)-tr(X^TX)$\n",
    "\n",
    "$N=C_g^2 - tr(XX^T) + \\frac12tr(XX)$\n",
    "\n",
    "<b>Индекс взаимности Каца-Пауэлла</b> - характеристика измерения тенденции акторов\n",
    "\n",
    "$-\\infty < p_{kp} \\le 1$\n",
    "\n",
    "Индекс взаимности основан на ожидании количества взаимных диад, предполагая, что выбор делается акторами случайным образом.\n",
    "\n",
    "<b>Фиксированный выбор</b>\n",
    "\n",
    "Предполагается, что каждый актор делает d выборов из $(g - 1)$ акторов, доступных для выбора. Вероятность взаимного выбора между любой парой акторов равна $d^2/(g-1)^2$\n",
    "\n",
    "<b>Математическое ожидание взаимных диад</b>\n",
    "\n",
    "$\\mathbb{E}=\\frac{g(g-1)}{2}=\\frac{d^2}{(g-1)^2}=\\frac{gd^2}{2(g-1)}$\n",
    "\n",
    "Вероятность того, что общая диада, в которой участвуют акторы является взаимной диадой\n",
    "\n",
    "$P(i \\rightarrow j \\wedge j \\rightarrow i)=P(i \\rightarrow j) * P(j \\rightarrow i | i \\rightarrow j )$\n",
    "\n",
    "Условная вероятность \n",
    "\n",
    "$P(j \\rightarrow i | i \\rightarrow j )=P(j \\rightarrow i)+p_{kp}P(j \\not\\rightarrow i)$\n",
    "\n",
    "Таким образом \n",
    "\n",
    "$P(i \\rightarrow j \\wedge j \\rightarrow i)=\\frac{d}{g-1}(\\frac{d}{g-1}+p_{kp}\\frac{g-1-d}{g-1})$\n",
    "\n",
    "Математическое ожидание взаимных диад с учётом данной вероятности\n",
    "\n",
    "$\\mathbb{E}(M|p) = \\frac{gd^2}{2(g-1)}(1-p_{kp}+\\frac{gd}{2}p_{kp}$\n",
    "\n",
    "Оценка $\\hat{p_{kp}}=\\frac{2(g-1)M-gd^2}{gd(g-1-d)}$\n",
    "\n",
    "<b>Свободный выбор</b> \n",
    "\n",
    "Пусть i-ый актор выбирает\n",
    "\n",
    "$d_o(n_i)=x_{i+}$\n",
    "\n",
    "Пусть $L=\\sum{x_{i+}} L=\\sum{x_{i+}^2}$\n",
    "\n",
    "Вероятность, что акторы имеют взаимное отношение, равна \n",
    "$X_i+x_j/(g-1)^2$\n",
    "\n",
    "Математическое ожидание взаимных диад\n",
    "$\\mathbb{E}=\\frac{L^2-L_2}{2(g-1)^2}$\n",
    "\n",
    "Математическое ожидание взаимных диад с учётом вероятности\n",
    "$\\mathbb{E}(M|p^{'})=\\frac{L^2-L_2}{2(g-1)}(1-p_{kp}^{'}+\\frac{L}{2}p_{kp})$\n",
    "\n",
    "Оценка по методу моментов\n",
    "\n",
    "$\\hat{p}_{kp}^{'}=\\frac{2(g-1)^2M-L^2+L_2}{L(g-1)^2-L^2+L_2}$\n",
    "\n",
    "Индекс взаимности Бандиопадхьяйя - основан на минимальном и максимальном значениях количества взаимных диад.\n",
    "Значение индекса:\n",
    "$\\rho_\\beta=\\frac{M-M_{min}}{M_{max}-M_{min}}$\n",
    "\n",
    "$M_{min}=max_{o\\le t \\le g}f(t)$\n",
    "\n",
    "$M_max=\\left\\lfloor\\frac12(\\sum_{i=1}^gx_{i+}-max_{0\\le t \\le g} g(t))\\right\\rfloor$\n",
    "\n",
    "$f(t)=\\sum_{i=1}^tx_{i+}-t(g-1)-C_t^2$\n",
    "\n",
    "$g(t) = \\sum_{i=1}^tx_{i+}-t(t-1)-\\sum_{i=t+1}min(t,x_{i+})$\n",
    "\n",
    "Статистическая гипотеза\n",
    "\n",
    "$H_0: L \\sim B(g(g-1),\\frac12)$\n",
    "\n",
    "Статистика:\n",
    "$z_i=\\frac{I-\\mathbb{E}(L)}{\\sqrt{D(L)}}=\\frac{I-g(g-1)/2}{\\sqrt{g(g-1)}/4}$,\n",
    "\n",
    "где $I=\\sum_{i=1}^g\\sum_{j=1}^gx_ij$\n",
    "Данная статистика является приблизительно стндартным номальным распределением при заданном урове значимости.\n",
    "Оценка вероятности p\n",
    "Число дуг $L \\sim B(g(g-1)P_0)$ Вероятность того, что число дуг в орграфе равно I, $P(L=I)=C_{g(g-1)}p_0^{'}(1-P_0)^{g(g-1)-L}$\n",
    "\n",
    "Математическое ожидание \n",
    "\n",
    "$\\mathbb{E}(L)=P_0g(g-1)$\n",
    "\n",
    "Дисперсия\n",
    "\n",
    "$\\mathbb{D}=P_0(1-P_0)g(g-1)$\n",
    "\n",
    "Нулевая гипотеза $H_0: L \\sim B(g(g-1)P_0)$ \n",
    "\n",
    "$z_i=\\frac{I-\\mathbb{E}(L)}{\\sqrt{D(L)}}=\\frac{I-P_0g(g-1)}{\\sqrt{P_0(1-P_0)g(g-1)}}$\n",
    "\n",
    "Данная статистика является приблизительно стандартным нормальным распределением при заданном уровне значимости.\n",
    "\n",
    "Оценка параметра\n",
    "$\\hat{p}=\\frac{\\sum_{i=1}^g\\sum_{j=1}^gx_{ij}}{g(g-1)}=\\frac{I}{g(g-1)}$\n",
    "\n",
    "Доверительный интервал \n",
    "\n",
    "$\\hat{p}_{lower} \\le p \\le \\hat{p}_{upper}$\n",
    "\n",
    "$\\hat{p}_{lower}=\\hat{p}-z_{\\alpha/2}\\sqrt{\\hat{p}(1-\\hat{p}/g(g-1)}$\n",
    "\n",
    "$\\hat{p}_{upper}=\\hat{p}+z_{\\alpha/2}\\sqrt{\\hat{p}(1-\\hat{p}/g(g-1)}$\n",
    "\n",
    "Здесь $z_{\\alpha/2} : \\Phi(z_{\\alpha/2})=0.5-\\alpha/2$"
   ]
  },
  {
   "cell_type": "markdown",
   "metadata": {},
   "source": [
    "## Постановка задачи\n",
    "С помощью математических пакетов и соответствующих библиотек провести статистический анализ случайно смоделированного ориентированного графа. Полученные результаты содержательно проинтерпретировать."
   ]
  },
  {
   "cell_type": "markdown",
   "metadata": {},
   "source": [
    "## Выполнение работы\n",
    "Каждый пункт работы (*по возможности*) выполняется с помощью кода.\n",
    "Рекомендованные языки программирования – R или Python."
   ]
  },
  {
   "cell_type": "code",
   "execution_count": 1,
   "metadata": {},
   "outputs": [
    {
     "name": "stderr",
     "output_type": "stream",
     "text": [
      "Устанавливаю пакет в 'C:/Users/Оля/AppData/Local/R/win-library/4.2'\n",
      "(потому что 'lib' не определено)\n",
      "\n"
     ]
    },
    {
     "name": "stdout",
     "output_type": "stream",
     "text": [
      "пакет 'igraph' успешно распакован, MD5-суммы проверены\n",
      "\n",
      "Скачанные бинарные пакеты находятся в\n",
      "\tC:\\Users\\Оля\\AppData\\Local\\Temp\\RtmpQBgkgM\\downloaded_packages\n"
     ]
    },
    {
     "name": "stderr",
     "output_type": "stream",
     "text": [
      "Warning message:\n",
      "\"пакет 'igraph' был собран под R версии 4.2.2\"\n",
      "\n",
      "Присоединяю пакет: 'igraph'\n",
      "\n",
      "\n",
      "Следующие объекты скрыты от 'package:stats':\n",
      "\n",
      "    decompose, spectrum\n",
      "\n",
      "\n",
      "Следующий объект скрыт от 'package:base':\n",
      "\n",
      "    union\n",
      "\n",
      "\n"
     ]
    }
   ],
   "source": [
    "install.packages(\"igraph\")\n",
    "library(igraph)"
   ]
  },
  {
   "cell_type": "code",
   "execution_count": 2,
   "metadata": {},
   "outputs": [],
   "source": [
    "# Переменные взяты из варианта 21:\n",
    "g <- 84\n",
    "p <- 0.57\n",
    "P0 <- 0.71\n",
    "alpha <- 0.01"
   ]
  },
  {
   "cell_type": "markdown",
   "metadata": {},
   "source": [
    "### Задание 1\n",
    "С помощью библиотеки igraph смоделировать случайный орграф G𝑑 на основе модели Эрдеша—Реньи: G𝑑 = G (𝑔, 𝑝), где 𝑔 – количество акторов, 𝑝 – вероятность появления дуги между акторами. В R для модели случайного графа Эрдеша—Реньи существует функция erdos.renyi.game(). Ознакомьтесь с данной моделью и опишите её."
   ]
  },
  {
   "cell_type": "code",
   "execution_count": 5,
   "metadata": {},
   "outputs": [
    {
     "data": {
      "text/plain": [
       "IGRAPH 33ca419 D--- 84 3922 -- Erdos-Renyi (gnp) graph\n",
       "+ attr: name (g/c), type (g/c), loops (g/l), p (g/n)\n",
       "+ edges from 33ca419:\n",
       " [1]  1->84  4-> 1  5-> 1 10-> 1 12-> 1 16-> 1 18-> 1 19-> 1 20-> 1 21-> 1\n",
       "[11] 22-> 1 23-> 1 25-> 1 26-> 1 28-> 1 31-> 1 33-> 1 34-> 1 40-> 1 46-> 1\n",
       "[21] 47-> 1 49-> 1 51-> 1 52-> 1 54-> 1 56-> 1 61-> 1 62-> 1 63-> 1 64-> 1\n",
       "[31] 66-> 1 67-> 1 70-> 1 71-> 1 72-> 1 74-> 1 75-> 1 79-> 1 80-> 1 82-> 1\n",
       "[41] 83-> 1 84-> 1  1-> 2  2->84  5-> 2  6-> 2  7-> 2  8-> 2  9-> 2 10-> 2\n",
       "[51] 11-> 2 13-> 2 14-> 2 15-> 2 16-> 2 18-> 2 20-> 2 21-> 2 24-> 2 27-> 2\n",
       "[61] 29-> 2 31-> 2 32-> 2 36-> 2 38-> 2 39-> 2 40-> 2 41-> 2 42-> 2 43-> 2\n",
       "[71] 44-> 2 45-> 2 46-> 2 47-> 2 48-> 2 50-> 2 51-> 2 52-> 2 53-> 2 55-> 2\n",
       "+ ... omitted several edges"
      ]
     },
     "metadata": {},
     "output_type": "display_data"
    }
   ],
   "source": [
    "graph <- erdos.renyi.game(g, p, directed=TRUE)\n",
    "graph"
   ]
  },
  {
   "cell_type": "markdown",
   "metadata": {},
   "source": [
    "### Задание 2\n",
    "Отобразить полученный орграф."
   ]
  },
  {
   "cell_type": "code",
   "execution_count": 6,
   "metadata": {},
   "outputs": [
    {
     "data": {
      "image/png": "[encoded data removed]",
      "text/plain": [
       "Plot with title \"\""
      ]
     },
     "metadata": {
      "image/png": {
       "height": 420,
       "width": 420
      }
     },
     "output_type": "display_data"
    }
   ],
   "source": [
    "plot(graph, layout=layout.fruchterman.reingold)"
   ]
  },
  {
   "cell_type": "markdown",
   "metadata": {},
   "source": [
    "### Задание 3\n",
    "Вычислить «пятичисловую сводку» для графа G𝑑."
   ]
  },
  {
   "cell_type": "code",
   "execution_count": 10,
   "metadata": {},
   "outputs": [
    {
     "name": "stdout",
     "output_type": "stream",
     "text": [
      "Размер сети:  84 \n",
      "Плотность сети:  0.5625359 \n",
      "Число компонент:  1 \n",
      "Диаметр сети:  2 \n",
      "Коэффициент кластеризации:  0.8053713 \n"
     ]
    }
   ],
   "source": [
    "cat(\"Размер сети: \", gorder(graph), \"\\n\")\n",
    "cat(\"Плотность сети: \", edge_density(graph), \"\\n\")\n",
    "cat(\"Число компонент: \", components(graph)$no, \"\\n\")\n",
    "cat(\"Диаметр сети: \", diameter(graph), \"\\n\")\n",
    "cat(\"Коэффициент кластеризации: \", transitivity(graph), \"\\n\")"
   ]
  },
  {
   "cell_type": "markdown",
   "metadata": {},
   "source": [
    "### Задание 4\n",
    "Вычислить цензус диад. Сделать выводы."
   ]
  },
  {
   "cell_type": "code",
   "execution_count": 12,
   "metadata": {},
   "outputs": [
    {
     "data": {
      "text/html": [
       "<dl>\n",
       "\t<dt>$mut</dt>\n",
       "\t\t<dd>1114</dd>\n",
       "\t<dt>$asym</dt>\n",
       "\t\t<dd>1694</dd>\n",
       "\t<dt>$null</dt>\n",
       "\t\t<dd>678</dd>\n",
       "</dl>\n"
      ],
      "text/latex": [
       "\\begin{description}\n",
       "\\item[\\$mut] 1114\n",
       "\\item[\\$asym] 1694\n",
       "\\item[\\$null] 678\n",
       "\\end{description}\n"
      ],
      "text/markdown": [
       "$mut\n",
       ":   1114\n",
       "$asym\n",
       ":   1694\n",
       "$null\n",
       ":   678\n",
       "\n",
       "\n"
      ],
      "text/plain": [
       "$mut\n",
       "[1] 1114\n",
       "\n",
       "$asym\n",
       "[1] 1694\n",
       "\n",
       "$null\n",
       "[1] 678\n"
      ]
     },
     "metadata": {},
     "output_type": "display_data"
    }
   ],
   "source": [
    "census <- dyad_census(graph)\n",
    "census"
   ]
  },
  {
   "cell_type": "markdown",
   "metadata": {},
   "source": [
    "Вывод: цензус диад показывает, что большинство диад в графе имеют взаимную связь."
   ]
  },
  {
   "cell_type": "markdown",
   "metadata": {},
   "source": [
    "### Задание 5\n",
    "Вычислить оценку индекса взаимности Каца—Пауэла при фиксированом выборе акторов 𝑑 и при свободном выборе. Сделать выводы."
   ]
  },
  {
   "cell_type": "code",
   "execution_count": 14,
   "metadata": {},
   "outputs": [
    {
     "name": "stdout",
     "output_type": "stream",
     "text": [
      "При фиксированном выборе:  0.2540512"
     ]
    }
   ],
   "source": [
    "d <- 0.5*g\n",
    "fix_case <- (2*(g-1)*census$mut-g*d*d)/(g*d*(g-1-d))\n",
    "cat(\"При фиксированном выборе: \", fix_case)"
   ]
  },
  {
   "cell_type": "code",
   "execution_count": 16,
   "metadata": {},
   "outputs": [
    {
     "name": "stdout",
     "output_type": "stream",
     "text": [
      "При свободном выборе:  0.01279078"
     ]
    }
   ],
   "source": [
    "matrix <- as.matrix(as_adjacency_matrix(graph))\n",
    "L <- sum(rowSums(matrix))\n",
    "L2 <- sum(rowSums(matrix)^2)\n",
    "flex_case <- (2*(g - 1)^2 * census$mut - L^2 + L2)/(L*(g - 1)^2 - L^2 + L2)\n",
    "cat(\"При свободном выборе: \", flex_case)"
   ]
  },
  {
   "cell_type": "markdown",
   "metadata": {},
   "source": [
    "Выводы: при фиксированном выборе индекс взаимности больше, так как каждый актор выбирает из некоторого числа доступных акторов, а при свободном выборе это число изменяется."
   ]
  },
  {
   "cell_type": "markdown",
   "metadata": {},
   "source": [
    "### Задание 6\n",
    "Вычислить вероятность того, что связь будет взаимной для каждого случая."
   ]
  },
  {
   "cell_type": "code",
   "execution_count": 17,
   "metadata": {},
   "outputs": [
    {
     "name": "stdout",
     "output_type": "stream",
     "text": [
      "Вероятность для фиксированного случая 0.319564"
     ]
    }
   ],
   "source": [
    "fix_prob <- (d / (g-1)) * ((d/(g-1)) + fix_case*(g - 1 - d) / (g - 1))\n",
    "cat(\"Вероятность для фиксированного случая\", fix_prob)"
   ]
  },
  {
   "cell_type": "code",
   "execution_count": 18,
   "metadata": {},
   "outputs": [
    {
     "name": "stdout",
     "output_type": "stream",
     "text": [
      "Вероятность для фиксированного случая 0.31645"
     ]
    }
   ],
   "source": [
    "#Вероятность для свободного выбора\n",
    "flex_prob <- (rowSums(matrix) * colSums(matrix))/(g - 1)^2\n",
    "flex_prob_avg <- sum(flex_prob)/g\n",
    "cat(\"Вероятность для фиксированного случая\", flex_prob_avg)"
   ]
  },
  {
   "cell_type": "markdown",
   "metadata": {},
   "source": [
    "### Задание 7\n",
    "Вычислить индекс взаимности Бандиопадхьяйя. Сделать выводы."
   ]
  },
  {
   "cell_type": "code",
   "execution_count": 19,
   "metadata": {},
   "outputs": [
    {
     "data": {
      "text/html": [
       "0.56821665815023"
      ],
      "text/latex": [
       "0.56821665815023"
      ],
      "text/markdown": [
       "0.56821665815023"
      ],
      "text/plain": [
       "[1] 0.5682167"
      ]
     },
     "metadata": {},
     "output_type": "display_data"
    }
   ],
   "source": [
    "g_func <- function(row_sum, g, t) {\n",
    "    xi_sum <- sum(row_sum[1:t])\n",
    "    min_sum <- 0   \n",
    "    for (i in (t+1):g) {\n",
    "        min_sum <- min_sum + min(c(t, row_sum[i]))\n",
    "    }\n",
    "    res <- xi_sum - t*(t-1) - min_sum\n",
    "    return(res)\n",
    "}\n",
    "\n",
    "f_func <- function(row_sum, g, t) {\n",
    "    xi_sum <- sum(row_sum[1:t])\n",
    "    combination <- factorial(t)/(factorial(2) * factorial(t-2))\n",
    "    res <- xi_sum - t*(g-1) - combination \n",
    "    return(res)\n",
    "}\n",
    "\n",
    "row_sum <- rowSums(matrix)\n",
    "\n",
    "g_res <- rep(2, g - 1)\n",
    "for (t in 2:(g-1)) {\n",
    "    g_res[t] <- g_func(row_sum, g, t)\n",
    "}\n",
    "\n",
    "f_res <- rep(2, g)\n",
    "for (t in 2:g) {\n",
    "    f_res[t] <- f_func(row_sum, g, t)\n",
    "}\n",
    "\n",
    "M_max <- floor(0.5 * sum(row_sum[1:g]) - max(g_res))\n",
    "M_min <- max(f_res)\n",
    "\n",
    "Bandio <- (census$mut - M_min)/(M_max - M_min)\n",
    "Bandio"
   ]
  },
  {
   "cell_type": "markdown",
   "metadata": {},
   "source": [
    "Вывод: индекс взаимности Бандиопадхьяйя позволяет оценить взаимность без использования количества выборов, так как он использует минимальное и максимальное значение взаимных связей."
   ]
  },
  {
   "cell_type": "markdown",
   "metadata": {},
   "source": [
    "### Задание 8\n",
    "Проверить нулевую гипотезу о том, что число дуг 𝐿 в орграфе G𝑑 имеет биномиальное распределение 𝐿 ∼ Bin(𝑔(𝑔 − 1), 1/2) при уровне значимости 𝛼. Определить максимальный уровень значимости при котором нулевая гипотеза не отвергается."
   ]
  },
  {
   "cell_type": "code",
   "execution_count": 20,
   "metadata": {
    "scrolled": true
   },
   "outputs": [
    {
     "data": {
      "text/plain": [
       "\n",
       "\tExact binomial test\n",
       "\n",
       "data:  l and g * (g - 1)\n",
       "number of successes = 3922, number of trials = 6972, p-value < 2.2e-16\n",
       "alternative hypothesis: true probability of success is not equal to 0.5\n",
       "95 percent confidence interval:\n",
       " 0.5507956 0.5742237\n",
       "sample estimates:\n",
       "probability of success \n",
       "             0.5625359 \n"
      ]
     },
     "metadata": {},
     "output_type": "display_data"
    }
   ],
   "source": [
    "l <- sum(matrix)\n",
    "binom.test(l, g*(g-1), 0.5)"
   ]
  },
  {
   "cell_type": "markdown",
   "metadata": {},
   "source": [
    "Вывод: так как максимальный уровень значимости = 2.2e-16 < 𝛼 = 0.01, отвергаем гипотезу."
   ]
  },
  {
   "cell_type": "markdown",
   "metadata": {},
   "source": [
    "### Задание 9\n",
    "Проверить нулевую гипотезу о том, что число дуг 𝐿 в орграфе G𝑑 имеет биномиальное распределение 𝐿 ∼ Bin(𝑔(𝑔−1), 𝑃0) при уровне значимости 𝛼. Определить максимальный уровень значимости при котором нулевая гипотеза не отвергается."
   ]
  },
  {
   "cell_type": "code",
   "execution_count": 22,
   "metadata": {
    "scrolled": false
   },
   "outputs": [
    {
     "data": {
      "text/plain": [
       "\n",
       "\tExact binomial test\n",
       "\n",
       "data:  l and g * (g - 1)\n",
       "number of successes = 3922, number of trials = 6972, p-value < 2.2e-16\n",
       "alternative hypothesis: true probability of success is not equal to 0.71\n",
       "95 percent confidence interval:\n",
       " 0.5507956 0.5742237\n",
       "sample estimates:\n",
       "probability of success \n",
       "             0.5625359 \n"
      ]
     },
     "metadata": {},
     "output_type": "display_data"
    }
   ],
   "source": [
    "binom.test(l, g*(g-1), P0)"
   ]
  },
  {
   "cell_type": "markdown",
   "metadata": {},
   "source": [
    "Вывод: здесь тоже гипотеза отвергается по той же причине."
   ]
  },
  {
   "cell_type": "markdown",
   "metadata": {},
   "source": [
    "### Задание 10\n",
    "Построить доверительный интервал для оценки параметра 𝑝 с до- верительной надёжностью (1 − 𝛼). Сделать выводы."
   ]
  },
  {
   "cell_type": "code",
   "execution_count": 23,
   "metadata": {},
   "outputs": [
    {
     "data": {
      "text/html": [
       "0.562535857716581"
      ],
      "text/latex": [
       "0.562535857716581"
      ],
      "text/markdown": [
       "0.562535857716581"
      ],
      "text/plain": [
       "[1] 0.5625359"
      ]
     },
     "metadata": {},
     "output_type": "display_data"
    },
    {
     "data": {
      "text/html": [
       "0.547232570606829"
      ],
      "text/latex": [
       "0.547232570606829"
      ],
      "text/markdown": [
       "0.547232570606829"
      ],
      "text/plain": [
       "[1] 0.5472326"
      ]
     },
     "metadata": {},
     "output_type": "display_data"
    },
    {
     "data": {
      "text/html": [
       "0.577839144826333"
      ],
      "text/latex": [
       "0.577839144826333"
      ],
      "text/markdown": [
       "0.577839144826333"
      ],
      "text/plain": [
       "[1] 0.5778391"
      ]
     },
     "metadata": {},
     "output_type": "display_data"
    }
   ],
   "source": [
    "p <- (sum(matrix))/(g*(g-1))\n",
    "z_a<-qnorm(1-(alpha/2),0,1)\n",
    "lower <- p - z_a * sqrt((p * (1 - p))/(g * (g - 1)))\n",
    "upper <- p + z_a * sqrt((p * (1 - p))/(g * (g - 1))) \n",
    "p\n",
    "lower\n",
    "upper"
   ]
  },
  {
   "cell_type": "markdown",
   "metadata": {},
   "source": [
    "Вывод: параметр p с вероятностью 99% находится в интервале от 0.547232570606829 до 0.577839144826333."
   ]
  },
  {
   "cell_type": "markdown",
   "metadata": {},
   "source": [
    "## Выводы\n",
    " \n",
    "В ходе данной практической работы был проведён анализ случайно сгенерированного ориентированного графа с использованием библиотеки igraph. Проверена корректность посчитанных значений. Была вычислена пятичисловая сводка для этого графа, вычислен цензус диад и индекс взаимности Каца-Пауэла, также был вичислен индекс взаимности Бандиопадхьяйя. Были проверены гипотезы о распределении числа дуг в графе и построен доверительный интервал для параметра p."
   ]
  }
 ],
 "metadata": {
  "kernelspec": {
   "display_name": "R",
   "language": "R",
   "name": "ir"
  },
  "language_info": {
   "codemirror_mode": "r",
   "file_extension": ".r",
   "mimetype": "text/x-r-source",
   "name": "R",
   "pygments_lexer": "r",
   "version": "4.2.1"
  }
 },
 "nbformat": 4,
 "nbformat_minor": 4
}
