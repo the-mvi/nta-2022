{
 "cells": [
  {
   "cell_type": "markdown",
   "id": "3352ce66",
   "metadata": {},
   "source": [
    "# Практическая работа №1: Основы анализа и моделирования социальных сетей\n",
    "Выполнила студентка гр. 0381 Странникова Наталья. Вариант №21"
   ]
  },
  {
   "cell_type": "markdown",
   "id": "8e1223e9",
   "metadata": {},
   "source": [
    "## Цель работы\n",
    "Овладеть навыками работы с математическими пакетами для моделирования, визуализации и анализа социальных сетей."
   ]
  },
  {
   "cell_type": "markdown",
   "id": "000e1eb6",
   "metadata": {},
   "source": [
    "## Основные теоретические положения\n",
    "\n",
    "* <strong>Сеть</strong> - объект, представляющий собой совокупность конечного набора акторов и отношений, определённых на них.\n",
    "* <strong>Актор</strong> - дискретная индивидуальная корпоративная социальная единица.\n",
    "* <strong>Размер сети</strong> - количество акторов в сети.\n",
    "* <strong>Социоматрица</strong> - матрица <strong>X</strong> размерности g×g, описывающая смежные узлы в сети:<br>\n",
    "$$ X = \\{x_{ij; r}\\} i, j = 1, ..., g,$$ где g - количество акторов. <br>\n",
    "* <strong>Плотность сети</strong> - доля имеющихся связей по отношению к максимально возможному количеству связей в сети с таким же количеством акторов.\n",
    "&emsp; <em>Плотность для ориентированной сети:</em> $$\\Delta = \\frac{L}{A_g^2}$$ <br>\n",
    "&emsp; <em>Плотность для неориентированной сети:</em> $$\\Delta = \\frac{L}{C_g^2}$$ <br>\n",
    "* <strong>Компонента сети</strong> - подгруппа сети, в которой все акторы связаны друг с другом прямо или косвенно.<br>\n",
    "* <strong>Диаметр сети</strong> - наибольшая длина любого из кратчайших путей между всеми парами узлов.<br>\n",
    "* <strong>Коэффициент кластеризации</strong> - доля закрытых треугольников (триад, где наблюдаются все связи) по отношению к общему количеству треугольников.<br>\n",
    "* <strong>Степень узла</strong> - число ребер, инцидентных узлу $n_i$ <br>\n",
    "* <strong>Дисперсия степеней узла:</strong> $$S_d^2 = \\frac{1}{g}\\sum_{i=1}^g(d(n_i)-\\bar{d})^2,$$\n",
    "где d - cредняя степень: $$\\bar{d} = \\frac{1}{g}\\sum_{i=1}^gd(n_i)$$\n",
    "\n",
    "* <strong>Центральность</strong> - мера, характеризующая акторы с большим количеством связей (прямых или косвенных).<br>\n",
    "&emsp; <em>Центральность по степени:</em> $$C_D^{'}(n_i) =\\frac{d(n_i)}{g-1}$$<br>\n",
    "&emsp; <em>Центральность по близости:</em> $$C_C^{'}(n_i)=(g-1)(\\sum_{i=1}^gd(n_i,n_j))^{-1}$$\n",
    "&emsp; <em>Центральность по посредничеству:</em> $$C_B(n_i)=\\sum_{i<k}g_{ik}(n_i)/g_{jk}$$, где $g_{jk}$ расстояние между узлами j и k, а.\n",
    "$g_{jk}(n_i)$ - количество кратчайших путей между узлами j и k через i.<br>\n",
    "&emsp; <em>Центральность по информации:</em> $$C_I^{'}=\\frac{C_I(n_i)}{\\sum_{i}C_I(n_i)}$$\n",
    "$$ A = \\{a_{ij}\\}$$\n",
    "$$ a_{ii} = 1 + \\sum_{j=1}^{g}{x_{ij}}$$\n",
    "$$ a_{ij} = 1 \\text{ , if } n_{i} \\text{ and } n_{j} \\text{ are not connected}$$\n",
    "$$ a_{ij} = 1-x_{ij} \\text{ , if } n_{i} \\text{ and } n_{j} \\text{ are connected}$$\n",
    "$$ x_{ij} \\text{- weight of edge between }n_{i} \\text{ and } n_{j}$$\n",
    "$$ C = A^{-1}$$\n",
    "$$C_I(n_{i}) =  \\frac{1}{c_{ii}+(T-2R)/g}$$ $$T = trace(C)$$ $$R = \\sum_{j=1}^{g}c_{ij}$$\n",
    "* <strong>Централизация</strong> - мера, характеризующая равномерную распределенность центральности акторов в сети.<br>\n",
    "&emsp; <em>Централизация по степени:</em> $$C_D = \\frac{\\sum_{i=1}^g(C_D(n^{*})-C_D(n_i))}{(g-1)(g-2)}$$\n",
    "&emsp; <em>Централизация по близости:</em> $$C_C = \\frac{\\sum_{i=1}^g(C_C^{'}(n^{*})-C_C^{'}(n_i))}{(g-1)(g-2)/(2g-3)}$$\n",
    "&emsp; <em>Централизация по посредничеству:</em> $$C_B = \\frac{\\sum_{i=1}^g(C_B^{'}(n^{*})-C_B^{'}(n_i))}{g-1}$$\n",
    "&emsp; <em>Централизация по информации:</em> $$C_I =\\frac{1}{g}\\sum_{i=1}^g(C_I^{'}(n^{*})-\\bar{C_I}(n_i))^2$$\n",
    "$$ \\bar{C_I} = \\sum_iC_I^{'}(n_i)$$\n",
    "* <strong>Точка сочленения</strong> - узел, при удалении которого увеличивается количество компонент связности.<br>\n",
    "* <strong>Мост</strong> - ребро, при удалении которого одна компонента связности разделяется на 2.<br>\n",
    "* <strong>Престиж</strong> - мера, характеризующая фктора с большим количеством входящих связей.<br>\n",
    "* <strong>Престиж по степени</strong> - входящая степень каждого узла. $$P_D(n_i) = d_I(n_i)=x_{+i}$$\n",
    "&emsp; <em>Нормированный престиж по степени:</em> $$P_D^{'}(n_i) =\\frac{x_{+i}}{g-1}$$\n",
    "* <strong>Престиж по близости</strong> - мера, определяющая, насколько все акторы близки к заданному по расстоянию до него.\n",
    "$$ P_P(n_i) = \\frac{\\#I_i/(g-1)}{\\sum_{j:n_j \\in I_i}(d(n_j,n_i)/\\#I_i)}$$"
   ]
  },
  {
   "cell_type": "markdown",
   "id": "7f6c8e28",
   "metadata": {},
   "source": [
    "## Постановка задачи\n",
    "С помощью математических пакетов и соответствующих библиотек провести анализ заданных социальных сетей вычислить описательные характеристики. Полученные результаты содержательно проинтерпретировать."
   ]
  },
  {
   "cell_type": "markdown",
   "id": "ceb56f0e",
   "metadata": {},
   "source": [
    "## Выполнение работы"
   ]
  },
  {
   "cell_type": "code",
   "execution_count": null,
   "id": "53a15001",
   "metadata": {},
   "outputs": [],
   "source": [
    "install.packages('igraph')\n",
    "install.packages('statnet')\n",
    "library('igraph')\n",
    "library('statnet')"
   ]
  },
  {
   "cell_type": "markdown",
   "id": "14a80b5a",
   "metadata": {},
   "source": [
    "1. Из файла florentine_business.csv (для нечётных вариантов) и файла florentine_marital.csv (для чётных вариантов) извлечь социоматрицу с помощью соответствующих функций. Вывести полученную социоматрицу на экран."
   ]
  },
  {
   "cell_type": "code",
   "execution_count": 3,
   "id": "c8cbca6c",
   "metadata": {},
   "outputs": [
    {
     "data": {
      "text/html": [
       "<table class=\"dataframe\">\n",
       "<caption>A matrix: 16 × 16 of type dbl</caption>\n",
       "<thead>\n",
       "\t<tr><th scope=col>V1</th><th scope=col>V2</th><th scope=col>V3</th><th scope=col>V4</th><th scope=col>V5</th><th scope=col>V6</th><th scope=col>V7</th><th scope=col>V8</th><th scope=col>V9</th><th scope=col>V10</th><th scope=col>V11</th><th scope=col>V12</th><th scope=col>V13</th><th scope=col>V14</th><th scope=col>V15</th><th scope=col>V16</th></tr>\n",
       "</thead>\n",
       "<tbody>\n",
       "\t<tr><td>0</td><td>0</td><td>0</td><td>0</td><td>0</td><td>0</td><td>0</td><td>0</td><td>0</td><td>0</td><td>0</td><td>0</td><td>0</td><td>0</td><td>0</td><td>0</td></tr>\n",
       "\t<tr><td>0</td><td>0</td><td>0</td><td>0</td><td>0</td><td>0</td><td>0</td><td>0</td><td>0</td><td>0</td><td>0</td><td>0</td><td>0</td><td>0</td><td>0</td><td>0</td></tr>\n",
       "\t<tr><td>0</td><td>0</td><td>0</td><td>0</td><td>1</td><td>1</td><td>0</td><td>0</td><td>1</td><td>0</td><td>1</td><td>0</td><td>0</td><td>0</td><td>0</td><td>0</td></tr>\n",
       "\t<tr><td>0</td><td>0</td><td>0</td><td>0</td><td>0</td><td>0</td><td>1</td><td>1</td><td>0</td><td>0</td><td>1</td><td>0</td><td>0</td><td>0</td><td>0</td><td>0</td></tr>\n",
       "\t<tr><td>0</td><td>0</td><td>1</td><td>0</td><td>0</td><td>0</td><td>0</td><td>1</td><td>0</td><td>0</td><td>1</td><td>0</td><td>0</td><td>0</td><td>0</td><td>0</td></tr>\n",
       "\t<tr><td>0</td><td>0</td><td>1</td><td>0</td><td>0</td><td>0</td><td>0</td><td>0</td><td>1</td><td>0</td><td>0</td><td>0</td><td>0</td><td>0</td><td>0</td><td>0</td></tr>\n",
       "\t<tr><td>0</td><td>0</td><td>0</td><td>1</td><td>0</td><td>0</td><td>0</td><td>1</td><td>0</td><td>0</td><td>0</td><td>0</td><td>0</td><td>0</td><td>0</td><td>0</td></tr>\n",
       "\t<tr><td>0</td><td>0</td><td>0</td><td>1</td><td>1</td><td>0</td><td>1</td><td>0</td><td>0</td><td>0</td><td>1</td><td>0</td><td>0</td><td>0</td><td>0</td><td>0</td></tr>\n",
       "\t<tr><td>0</td><td>0</td><td>1</td><td>0</td><td>0</td><td>1</td><td>0</td><td>0</td><td>0</td><td>1</td><td>0</td><td>0</td><td>0</td><td>1</td><td>0</td><td>1</td></tr>\n",
       "\t<tr><td>0</td><td>0</td><td>0</td><td>0</td><td>0</td><td>0</td><td>0</td><td>0</td><td>1</td><td>0</td><td>0</td><td>0</td><td>0</td><td>0</td><td>0</td><td>0</td></tr>\n",
       "\t<tr><td>0</td><td>0</td><td>1</td><td>1</td><td>1</td><td>0</td><td>0</td><td>1</td><td>0</td><td>0</td><td>0</td><td>0</td><td>0</td><td>0</td><td>0</td><td>0</td></tr>\n",
       "\t<tr><td>0</td><td>0</td><td>0</td><td>0</td><td>0</td><td>0</td><td>0</td><td>0</td><td>0</td><td>0</td><td>0</td><td>0</td><td>0</td><td>0</td><td>0</td><td>0</td></tr>\n",
       "\t<tr><td>0</td><td>0</td><td>0</td><td>0</td><td>0</td><td>0</td><td>0</td><td>0</td><td>0</td><td>0</td><td>0</td><td>0</td><td>0</td><td>0</td><td>0</td><td>0</td></tr>\n",
       "\t<tr><td>0</td><td>0</td><td>0</td><td>0</td><td>0</td><td>0</td><td>0</td><td>0</td><td>1</td><td>0</td><td>0</td><td>0</td><td>0</td><td>0</td><td>0</td><td>0</td></tr>\n",
       "\t<tr><td>0</td><td>0</td><td>0</td><td>0</td><td>0</td><td>0</td><td>0</td><td>0</td><td>0</td><td>0</td><td>0</td><td>0</td><td>0</td><td>0</td><td>0</td><td>0</td></tr>\n",
       "\t<tr><td>0</td><td>0</td><td>0</td><td>0</td><td>0</td><td>0</td><td>0</td><td>0</td><td>1</td><td>0</td><td>0</td><td>0</td><td>0</td><td>0</td><td>0</td><td>0</td></tr>\n",
       "</tbody>\n",
       "</table>\n"
      ],
      "text/latex": [
       "A matrix: 16 × 16 of type dbl\n",
       "\\begin{tabular}{llllllllllllllll}\n",
       " V1 & V2 & V3 & V4 & V5 & V6 & V7 & V8 & V9 & V10 & V11 & V12 & V13 & V14 & V15 & V16\\\\\n",
       "\\hline\n",
       "\t 0 & 0 & 0 & 0 & 0 & 0 & 0 & 0 & 0 & 0 & 0 & 0 & 0 & 0 & 0 & 0\\\\\n",
       "\t 0 & 0 & 0 & 0 & 0 & 0 & 0 & 0 & 0 & 0 & 0 & 0 & 0 & 0 & 0 & 0\\\\\n",
       "\t 0 & 0 & 0 & 0 & 1 & 1 & 0 & 0 & 1 & 0 & 1 & 0 & 0 & 0 & 0 & 0\\\\\n",
       "\t 0 & 0 & 0 & 0 & 0 & 0 & 1 & 1 & 0 & 0 & 1 & 0 & 0 & 0 & 0 & 0\\\\\n",
       "\t 0 & 0 & 1 & 0 & 0 & 0 & 0 & 1 & 0 & 0 & 1 & 0 & 0 & 0 & 0 & 0\\\\\n",
       "\t 0 & 0 & 1 & 0 & 0 & 0 & 0 & 0 & 1 & 0 & 0 & 0 & 0 & 0 & 0 & 0\\\\\n",
       "\t 0 & 0 & 0 & 1 & 0 & 0 & 0 & 1 & 0 & 0 & 0 & 0 & 0 & 0 & 0 & 0\\\\\n",
       "\t 0 & 0 & 0 & 1 & 1 & 0 & 1 & 0 & 0 & 0 & 1 & 0 & 0 & 0 & 0 & 0\\\\\n",
       "\t 0 & 0 & 1 & 0 & 0 & 1 & 0 & 0 & 0 & 1 & 0 & 0 & 0 & 1 & 0 & 1\\\\\n",
       "\t 0 & 0 & 0 & 0 & 0 & 0 & 0 & 0 & 1 & 0 & 0 & 0 & 0 & 0 & 0 & 0\\\\\n",
       "\t 0 & 0 & 1 & 1 & 1 & 0 & 0 & 1 & 0 & 0 & 0 & 0 & 0 & 0 & 0 & 0\\\\\n",
       "\t 0 & 0 & 0 & 0 & 0 & 0 & 0 & 0 & 0 & 0 & 0 & 0 & 0 & 0 & 0 & 0\\\\\n",
       "\t 0 & 0 & 0 & 0 & 0 & 0 & 0 & 0 & 0 & 0 & 0 & 0 & 0 & 0 & 0 & 0\\\\\n",
       "\t 0 & 0 & 0 & 0 & 0 & 0 & 0 & 0 & 1 & 0 & 0 & 0 & 0 & 0 & 0 & 0\\\\\n",
       "\t 0 & 0 & 0 & 0 & 0 & 0 & 0 & 0 & 0 & 0 & 0 & 0 & 0 & 0 & 0 & 0\\\\\n",
       "\t 0 & 0 & 0 & 0 & 0 & 0 & 0 & 0 & 1 & 0 & 0 & 0 & 0 & 0 & 0 & 0\\\\\n",
       "\\end{tabular}\n"
      ],
      "text/markdown": [
       "\n",
       "A matrix: 16 × 16 of type dbl\n",
       "\n",
       "| V1 | V2 | V3 | V4 | V5 | V6 | V7 | V8 | V9 | V10 | V11 | V12 | V13 | V14 | V15 | V16 |\n",
       "|---|---|---|---|---|---|---|---|---|---|---|---|---|---|---|---|\n",
       "| 0 | 0 | 0 | 0 | 0 | 0 | 0 | 0 | 0 | 0 | 0 | 0 | 0 | 0 | 0 | 0 |\n",
       "| 0 | 0 | 0 | 0 | 0 | 0 | 0 | 0 | 0 | 0 | 0 | 0 | 0 | 0 | 0 | 0 |\n",
       "| 0 | 0 | 0 | 0 | 1 | 1 | 0 | 0 | 1 | 0 | 1 | 0 | 0 | 0 | 0 | 0 |\n",
       "| 0 | 0 | 0 | 0 | 0 | 0 | 1 | 1 | 0 | 0 | 1 | 0 | 0 | 0 | 0 | 0 |\n",
       "| 0 | 0 | 1 | 0 | 0 | 0 | 0 | 1 | 0 | 0 | 1 | 0 | 0 | 0 | 0 | 0 |\n",
       "| 0 | 0 | 1 | 0 | 0 | 0 | 0 | 0 | 1 | 0 | 0 | 0 | 0 | 0 | 0 | 0 |\n",
       "| 0 | 0 | 0 | 1 | 0 | 0 | 0 | 1 | 0 | 0 | 0 | 0 | 0 | 0 | 0 | 0 |\n",
       "| 0 | 0 | 0 | 1 | 1 | 0 | 1 | 0 | 0 | 0 | 1 | 0 | 0 | 0 | 0 | 0 |\n",
       "| 0 | 0 | 1 | 0 | 0 | 1 | 0 | 0 | 0 | 1 | 0 | 0 | 0 | 1 | 0 | 1 |\n",
       "| 0 | 0 | 0 | 0 | 0 | 0 | 0 | 0 | 1 | 0 | 0 | 0 | 0 | 0 | 0 | 0 |\n",
       "| 0 | 0 | 1 | 1 | 1 | 0 | 0 | 1 | 0 | 0 | 0 | 0 | 0 | 0 | 0 | 0 |\n",
       "| 0 | 0 | 0 | 0 | 0 | 0 | 0 | 0 | 0 | 0 | 0 | 0 | 0 | 0 | 0 | 0 |\n",
       "| 0 | 0 | 0 | 0 | 0 | 0 | 0 | 0 | 0 | 0 | 0 | 0 | 0 | 0 | 0 | 0 |\n",
       "| 0 | 0 | 0 | 0 | 0 | 0 | 0 | 0 | 1 | 0 | 0 | 0 | 0 | 0 | 0 | 0 |\n",
       "| 0 | 0 | 0 | 0 | 0 | 0 | 0 | 0 | 0 | 0 | 0 | 0 | 0 | 0 | 0 | 0 |\n",
       "| 0 | 0 | 0 | 0 | 0 | 0 | 0 | 0 | 1 | 0 | 0 | 0 | 0 | 0 | 0 | 0 |\n",
       "\n"
      ],
      "text/plain": [
       "      V1 V2 V3 V4 V5 V6 V7 V8 V9 V10 V11 V12 V13 V14 V15 V16\n",
       " [1,] 0  0  0  0  0  0  0  0  0  0   0   0   0   0   0   0  \n",
       " [2,] 0  0  0  0  0  0  0  0  0  0   0   0   0   0   0   0  \n",
       " [3,] 0  0  0  0  1  1  0  0  1  0   1   0   0   0   0   0  \n",
       " [4,] 0  0  0  0  0  0  1  1  0  0   1   0   0   0   0   0  \n",
       " [5,] 0  0  1  0  0  0  0  1  0  0   1   0   0   0   0   0  \n",
       " [6,] 0  0  1  0  0  0  0  0  1  0   0   0   0   0   0   0  \n",
       " [7,] 0  0  0  1  0  0  0  1  0  0   0   0   0   0   0   0  \n",
       " [8,] 0  0  0  1  1  0  1  0  0  0   1   0   0   0   0   0  \n",
       " [9,] 0  0  1  0  0  1  0  0  0  1   0   0   0   1   0   1  \n",
       "[10,] 0  0  0  0  0  0  0  0  1  0   0   0   0   0   0   0  \n",
       "[11,] 0  0  1  1  1  0  0  1  0  0   0   0   0   0   0   0  \n",
       "[12,] 0  0  0  0  0  0  0  0  0  0   0   0   0   0   0   0  \n",
       "[13,] 0  0  0  0  0  0  0  0  0  0   0   0   0   0   0   0  \n",
       "[14,] 0  0  0  0  0  0  0  0  1  0   0   0   0   0   0   0  \n",
       "[15,] 0  0  0  0  0  0  0  0  0  0   0   0   0   0   0   0  \n",
       "[16,] 0  0  0  0  0  0  0  0  1  0   0   0   0   0   0   0  "
      ]
     },
     "metadata": {},
     "output_type": "display_data"
    }
   ],
   "source": [
    "file <- \"./florentine_business.csv\"\n",
    "data <- read.table(file, sep=\",\")\n",
    "s_matrix = as.matrix(data)\n",
    "headers <- s_matrix[1, ]\n",
    "s_matrix <- s_matrix[-1, ]\n",
    "class(s_matrix) <- \"numeric\"\n",
    "s_matrix"
   ]
  },
  {
   "cell_type": "markdown",
   "id": "09eda6e9",
   "metadata": {},
   "source": [
    "2. Пеобразовать социоматрицу в список рёбер. Вывести первые 5 элементов списка рёбер."
   ]
  },
  {
   "cell_type": "code",
   "execution_count": 3,
   "id": "b2881af6",
   "metadata": {},
   "outputs": [
    {
     "data": {
      "text/html": [
       "<table class=\"dataframe\">\n",
       "<caption>A matrix: 5 × 2 of type chr</caption>\n",
       "<tbody>\n",
       "\t<tr><td>V3</td><td>V5 </td></tr>\n",
       "\t<tr><td>V3</td><td>V6 </td></tr>\n",
       "\t<tr><td>V3</td><td>V9 </td></tr>\n",
       "\t<tr><td>V3</td><td>V11</td></tr>\n",
       "\t<tr><td>V4</td><td>V7 </td></tr>\n",
       "</tbody>\n",
       "</table>\n"
      ],
      "text/latex": [
       "A matrix: 5 × 2 of type chr\n",
       "\\begin{tabular}{ll}\n",
       "\t V3 & V5 \\\\\n",
       "\t V3 & V6 \\\\\n",
       "\t V3 & V9 \\\\\n",
       "\t V3 & V11\\\\\n",
       "\t V4 & V7 \\\\\n",
       "\\end{tabular}\n"
      ],
      "text/markdown": [
       "\n",
       "A matrix: 5 × 2 of type chr\n",
       "\n",
       "| V3 | V5  |\n",
       "| V3 | V6  |\n",
       "| V3 | V9  |\n",
       "| V3 | V11 |\n",
       "| V4 | V7  |\n",
       "\n"
      ],
      "text/plain": [
       "     [,1] [,2]\n",
       "[1,] V3   V5  \n",
       "[2,] V3   V6  \n",
       "[3,] V3   V9  \n",
       "[4,] V3   V11 \n",
       "[5,] V4   V7  "
      ]
     },
     "metadata": {},
     "output_type": "display_data"
    }
   ],
   "source": [
    "data_graph <- graph.adjacency(s_matrix)\n",
    "edge_list <- get.edgelist(data_graph)\n",
    "head(edge_list, 5)"
   ]
  },
  {
   "cell_type": "markdown",
   "id": "73af7003",
   "metadata": {},
   "source": [
    "3.  Присвоить имена столбцам и строкам социоматрицы (имена – первая строка в csv-файле после комментариев)."
   ]
  },
  {
   "cell_type": "code",
   "execution_count": 4,
   "id": "73b9c6a4",
   "metadata": {},
   "outputs": [
    {
     "data": {
      "text/html": [
       "<table class=\"dataframe\">\n",
       "<caption>A matrix: 16 × 16 of type dbl</caption>\n",
       "<thead>\n",
       "\t<tr><th></th><th scope=col>Acciaiuoli</th><th scope=col> Albizzi</th><th scope=col> Barbadori</th><th scope=col> Bischeri</th><th scope=col> Castellani</th><th scope=col> Ginori</th><th scope=col> Guadagni</th><th scope=col> Lamberteschi</th><th scope=col> Medici</th><th scope=col> Pazzi</th><th scope=col> Peruzzi</th><th scope=col> Pucci</th><th scope=col> Ridolfi</th><th scope=col> Salviati</th><th scope=col> Strozzi</th><th scope=col> Tornabuoni</th></tr>\n",
       "</thead>\n",
       "<tbody>\n",
       "\t<tr><th scope=row>Acciaiuoli</th><td>0</td><td>0</td><td>0</td><td>0</td><td>0</td><td>0</td><td>0</td><td>0</td><td>0</td><td>0</td><td>0</td><td>0</td><td>0</td><td>0</td><td>0</td><td>0</td></tr>\n",
       "\t<tr><th scope=row> Albizzi</th><td>0</td><td>0</td><td>0</td><td>0</td><td>0</td><td>0</td><td>0</td><td>0</td><td>0</td><td>0</td><td>0</td><td>0</td><td>0</td><td>0</td><td>0</td><td>0</td></tr>\n",
       "\t<tr><th scope=row> Barbadori</th><td>0</td><td>0</td><td>0</td><td>0</td><td>1</td><td>1</td><td>0</td><td>0</td><td>1</td><td>0</td><td>1</td><td>0</td><td>0</td><td>0</td><td>0</td><td>0</td></tr>\n",
       "\t<tr><th scope=row> Bischeri</th><td>0</td><td>0</td><td>0</td><td>0</td><td>0</td><td>0</td><td>1</td><td>1</td><td>0</td><td>0</td><td>1</td><td>0</td><td>0</td><td>0</td><td>0</td><td>0</td></tr>\n",
       "\t<tr><th scope=row> Castellani</th><td>0</td><td>0</td><td>1</td><td>0</td><td>0</td><td>0</td><td>0</td><td>1</td><td>0</td><td>0</td><td>1</td><td>0</td><td>0</td><td>0</td><td>0</td><td>0</td></tr>\n",
       "\t<tr><th scope=row> Ginori</th><td>0</td><td>0</td><td>1</td><td>0</td><td>0</td><td>0</td><td>0</td><td>0</td><td>1</td><td>0</td><td>0</td><td>0</td><td>0</td><td>0</td><td>0</td><td>0</td></tr>\n",
       "\t<tr><th scope=row> Guadagni</th><td>0</td><td>0</td><td>0</td><td>1</td><td>0</td><td>0</td><td>0</td><td>1</td><td>0</td><td>0</td><td>0</td><td>0</td><td>0</td><td>0</td><td>0</td><td>0</td></tr>\n",
       "\t<tr><th scope=row> Lamberteschi</th><td>0</td><td>0</td><td>0</td><td>1</td><td>1</td><td>0</td><td>1</td><td>0</td><td>0</td><td>0</td><td>1</td><td>0</td><td>0</td><td>0</td><td>0</td><td>0</td></tr>\n",
       "\t<tr><th scope=row> Medici</th><td>0</td><td>0</td><td>1</td><td>0</td><td>0</td><td>1</td><td>0</td><td>0</td><td>0</td><td>1</td><td>0</td><td>0</td><td>0</td><td>1</td><td>0</td><td>1</td></tr>\n",
       "\t<tr><th scope=row> Pazzi</th><td>0</td><td>0</td><td>0</td><td>0</td><td>0</td><td>0</td><td>0</td><td>0</td><td>1</td><td>0</td><td>0</td><td>0</td><td>0</td><td>0</td><td>0</td><td>0</td></tr>\n",
       "\t<tr><th scope=row> Peruzzi</th><td>0</td><td>0</td><td>1</td><td>1</td><td>1</td><td>0</td><td>0</td><td>1</td><td>0</td><td>0</td><td>0</td><td>0</td><td>0</td><td>0</td><td>0</td><td>0</td></tr>\n",
       "\t<tr><th scope=row> Pucci</th><td>0</td><td>0</td><td>0</td><td>0</td><td>0</td><td>0</td><td>0</td><td>0</td><td>0</td><td>0</td><td>0</td><td>0</td><td>0</td><td>0</td><td>0</td><td>0</td></tr>\n",
       "\t<tr><th scope=row> Ridolfi</th><td>0</td><td>0</td><td>0</td><td>0</td><td>0</td><td>0</td><td>0</td><td>0</td><td>0</td><td>0</td><td>0</td><td>0</td><td>0</td><td>0</td><td>0</td><td>0</td></tr>\n",
       "\t<tr><th scope=row> Salviati</th><td>0</td><td>0</td><td>0</td><td>0</td><td>0</td><td>0</td><td>0</td><td>0</td><td>1</td><td>0</td><td>0</td><td>0</td><td>0</td><td>0</td><td>0</td><td>0</td></tr>\n",
       "\t<tr><th scope=row> Strozzi</th><td>0</td><td>0</td><td>0</td><td>0</td><td>0</td><td>0</td><td>0</td><td>0</td><td>0</td><td>0</td><td>0</td><td>0</td><td>0</td><td>0</td><td>0</td><td>0</td></tr>\n",
       "\t<tr><th scope=row> Tornabuoni</th><td>0</td><td>0</td><td>0</td><td>0</td><td>0</td><td>0</td><td>0</td><td>0</td><td>1</td><td>0</td><td>0</td><td>0</td><td>0</td><td>0</td><td>0</td><td>0</td></tr>\n",
       "</tbody>\n",
       "</table>\n"
      ],
      "text/latex": [
       "A matrix: 16 × 16 of type dbl\n",
       "\\begin{tabular}{r|llllllllllllllll}\n",
       "  & Acciaiuoli &  Albizzi &  Barbadori &  Bischeri &  Castellani &  Ginori &  Guadagni &  Lamberteschi &  Medici &  Pazzi &  Peruzzi &  Pucci &  Ridolfi &  Salviati &  Strozzi &  Tornabuoni\\\\\n",
       "\\hline\n",
       "\tAcciaiuoli & 0 & 0 & 0 & 0 & 0 & 0 & 0 & 0 & 0 & 0 & 0 & 0 & 0 & 0 & 0 & 0\\\\\n",
       "\t Albizzi & 0 & 0 & 0 & 0 & 0 & 0 & 0 & 0 & 0 & 0 & 0 & 0 & 0 & 0 & 0 & 0\\\\\n",
       "\t Barbadori & 0 & 0 & 0 & 0 & 1 & 1 & 0 & 0 & 1 & 0 & 1 & 0 & 0 & 0 & 0 & 0\\\\\n",
       "\t Bischeri & 0 & 0 & 0 & 0 & 0 & 0 & 1 & 1 & 0 & 0 & 1 & 0 & 0 & 0 & 0 & 0\\\\\n",
       "\t Castellani & 0 & 0 & 1 & 0 & 0 & 0 & 0 & 1 & 0 & 0 & 1 & 0 & 0 & 0 & 0 & 0\\\\\n",
       "\t Ginori & 0 & 0 & 1 & 0 & 0 & 0 & 0 & 0 & 1 & 0 & 0 & 0 & 0 & 0 & 0 & 0\\\\\n",
       "\t Guadagni & 0 & 0 & 0 & 1 & 0 & 0 & 0 & 1 & 0 & 0 & 0 & 0 & 0 & 0 & 0 & 0\\\\\n",
       "\t Lamberteschi & 0 & 0 & 0 & 1 & 1 & 0 & 1 & 0 & 0 & 0 & 1 & 0 & 0 & 0 & 0 & 0\\\\\n",
       "\t Medici & 0 & 0 & 1 & 0 & 0 & 1 & 0 & 0 & 0 & 1 & 0 & 0 & 0 & 1 & 0 & 1\\\\\n",
       "\t Pazzi & 0 & 0 & 0 & 0 & 0 & 0 & 0 & 0 & 1 & 0 & 0 & 0 & 0 & 0 & 0 & 0\\\\\n",
       "\t Peruzzi & 0 & 0 & 1 & 1 & 1 & 0 & 0 & 1 & 0 & 0 & 0 & 0 & 0 & 0 & 0 & 0\\\\\n",
       "\t Pucci & 0 & 0 & 0 & 0 & 0 & 0 & 0 & 0 & 0 & 0 & 0 & 0 & 0 & 0 & 0 & 0\\\\\n",
       "\t Ridolfi & 0 & 0 & 0 & 0 & 0 & 0 & 0 & 0 & 0 & 0 & 0 & 0 & 0 & 0 & 0 & 0\\\\\n",
       "\t Salviati & 0 & 0 & 0 & 0 & 0 & 0 & 0 & 0 & 1 & 0 & 0 & 0 & 0 & 0 & 0 & 0\\\\\n",
       "\t Strozzi & 0 & 0 & 0 & 0 & 0 & 0 & 0 & 0 & 0 & 0 & 0 & 0 & 0 & 0 & 0 & 0\\\\\n",
       "\t Tornabuoni & 0 & 0 & 0 & 0 & 0 & 0 & 0 & 0 & 1 & 0 & 0 & 0 & 0 & 0 & 0 & 0\\\\\n",
       "\\end{tabular}\n"
      ],
      "text/markdown": [
       "\n",
       "A matrix: 16 × 16 of type dbl\n",
       "\n",
       "| <!--/--> | Acciaiuoli |  Albizzi |  Barbadori |  Bischeri |  Castellani |  Ginori |  Guadagni |  Lamberteschi |  Medici |  Pazzi |  Peruzzi |  Pucci |  Ridolfi |  Salviati |  Strozzi |  Tornabuoni |\n",
       "|---|---|---|---|---|---|---|---|---|---|---|---|---|---|---|---|---|\n",
       "| Acciaiuoli | 0 | 0 | 0 | 0 | 0 | 0 | 0 | 0 | 0 | 0 | 0 | 0 | 0 | 0 | 0 | 0 |\n",
       "|  Albizzi | 0 | 0 | 0 | 0 | 0 | 0 | 0 | 0 | 0 | 0 | 0 | 0 | 0 | 0 | 0 | 0 |\n",
       "|  Barbadori | 0 | 0 | 0 | 0 | 1 | 1 | 0 | 0 | 1 | 0 | 1 | 0 | 0 | 0 | 0 | 0 |\n",
       "|  Bischeri | 0 | 0 | 0 | 0 | 0 | 0 | 1 | 1 | 0 | 0 | 1 | 0 | 0 | 0 | 0 | 0 |\n",
       "|  Castellani | 0 | 0 | 1 | 0 | 0 | 0 | 0 | 1 | 0 | 0 | 1 | 0 | 0 | 0 | 0 | 0 |\n",
       "|  Ginori | 0 | 0 | 1 | 0 | 0 | 0 | 0 | 0 | 1 | 0 | 0 | 0 | 0 | 0 | 0 | 0 |\n",
       "|  Guadagni | 0 | 0 | 0 | 1 | 0 | 0 | 0 | 1 | 0 | 0 | 0 | 0 | 0 | 0 | 0 | 0 |\n",
       "|  Lamberteschi | 0 | 0 | 0 | 1 | 1 | 0 | 1 | 0 | 0 | 0 | 1 | 0 | 0 | 0 | 0 | 0 |\n",
       "|  Medici | 0 | 0 | 1 | 0 | 0 | 1 | 0 | 0 | 0 | 1 | 0 | 0 | 0 | 1 | 0 | 1 |\n",
       "|  Pazzi | 0 | 0 | 0 | 0 | 0 | 0 | 0 | 0 | 1 | 0 | 0 | 0 | 0 | 0 | 0 | 0 |\n",
       "|  Peruzzi | 0 | 0 | 1 | 1 | 1 | 0 | 0 | 1 | 0 | 0 | 0 | 0 | 0 | 0 | 0 | 0 |\n",
       "|  Pucci | 0 | 0 | 0 | 0 | 0 | 0 | 0 | 0 | 0 | 0 | 0 | 0 | 0 | 0 | 0 | 0 |\n",
       "|  Ridolfi | 0 | 0 | 0 | 0 | 0 | 0 | 0 | 0 | 0 | 0 | 0 | 0 | 0 | 0 | 0 | 0 |\n",
       "|  Salviati | 0 | 0 | 0 | 0 | 0 | 0 | 0 | 0 | 1 | 0 | 0 | 0 | 0 | 0 | 0 | 0 |\n",
       "|  Strozzi | 0 | 0 | 0 | 0 | 0 | 0 | 0 | 0 | 0 | 0 | 0 | 0 | 0 | 0 | 0 | 0 |\n",
       "|  Tornabuoni | 0 | 0 | 0 | 0 | 0 | 0 | 0 | 0 | 1 | 0 | 0 | 0 | 0 | 0 | 0 | 0 |\n",
       "\n"
      ],
      "text/plain": [
       "              Acciaiuoli  Albizzi  Barbadori  Bischeri  Castellani  Ginori\n",
       "Acciaiuoli    0          0        0          0         0           0      \n",
       " Albizzi      0          0        0          0         0           0      \n",
       " Barbadori    0          0        0          0         1           1      \n",
       " Bischeri     0          0        0          0         0           0      \n",
       " Castellani   0          0        1          0         0           0      \n",
       " Ginori       0          0        1          0         0           0      \n",
       " Guadagni     0          0        0          1         0           0      \n",
       " Lamberteschi 0          0        0          1         1           0      \n",
       " Medici       0          0        1          0         0           1      \n",
       " Pazzi        0          0        0          0         0           0      \n",
       " Peruzzi      0          0        1          1         1           0      \n",
       " Pucci        0          0        0          0         0           0      \n",
       " Ridolfi      0          0        0          0         0           0      \n",
       " Salviati     0          0        0          0         0           0      \n",
       " Strozzi      0          0        0          0         0           0      \n",
       " Tornabuoni   0          0        0          0         0           0      \n",
       "               Guadagni  Lamberteschi  Medici  Pazzi  Peruzzi  Pucci  Ridolfi\n",
       "Acciaiuoli    0         0             0       0      0        0      0       \n",
       " Albizzi      0         0             0       0      0        0      0       \n",
       " Barbadori    0         0             1       0      1        0      0       \n",
       " Bischeri     1         1             0       0      1        0      0       \n",
       " Castellani   0         1             0       0      1        0      0       \n",
       " Ginori       0         0             1       0      0        0      0       \n",
       " Guadagni     0         1             0       0      0        0      0       \n",
       " Lamberteschi 1         0             0       0      1        0      0       \n",
       " Medici       0         0             0       1      0        0      0       \n",
       " Pazzi        0         0             1       0      0        0      0       \n",
       " Peruzzi      0         1             0       0      0        0      0       \n",
       " Pucci        0         0             0       0      0        0      0       \n",
       " Ridolfi      0         0             0       0      0        0      0       \n",
       " Salviati     0         0             1       0      0        0      0       \n",
       " Strozzi      0         0             0       0      0        0      0       \n",
       " Tornabuoni   0         0             1       0      0        0      0       \n",
       "               Salviati  Strozzi  Tornabuoni\n",
       "Acciaiuoli    0         0        0          \n",
       " Albizzi      0         0        0          \n",
       " Barbadori    0         0        0          \n",
       " Bischeri     0         0        0          \n",
       " Castellani   0         0        0          \n",
       " Ginori       0         0        0          \n",
       " Guadagni     0         0        0          \n",
       " Lamberteschi 0         0        0          \n",
       " Medici       1         0        1          \n",
       " Pazzi        0         0        0          \n",
       " Peruzzi      0         0        0          \n",
       " Pucci        0         0        0          \n",
       " Ridolfi      0         0        0          \n",
       " Salviati     0         0        0          \n",
       " Strozzi      0         0        0          \n",
       " Tornabuoni   0         0        0          "
      ]
     },
     "metadata": {},
     "output_type": "display_data"
    }
   ],
   "source": [
    "rownames(s_matrix) <- colnames(s_matrix) <- headers\n",
    "s_matrix"
   ]
  },
  {
   "cell_type": "markdown",
   "id": "e790b179",
   "metadata": {},
   "source": [
    "4. С помощью соответствующих функций по полученной социоматрице построить ненаправленную сеть. Объяснить параметры, передаваемые в функцию."
   ]
  },
  {
   "cell_type": "code",
   "execution_count": 5,
   "id": "cde6a7ba",
   "metadata": {},
   "outputs": [
    {
     "data": {
      "text/plain": [
       "IGRAPH f2f9fc1 UN-- 16 15 -- \n",
       "+ attr: name (v/c)\n",
       "+ edges from f2f9fc1 (vertex names):\n",
       " [1]  Barbadori   -- Castellani    Barbadori   -- Ginori      \n",
       " [3]  Barbadori   -- Medici        Barbadori   -- Peruzzi     \n",
       " [5]  Bischeri    -- Guadagni      Bischeri    -- Lamberteschi\n",
       " [7]  Bischeri    -- Peruzzi       Castellani  -- Lamberteschi\n",
       " [9]  Castellani  -- Peruzzi       Ginori      -- Medici      \n",
       "[11]  Guadagni    -- Lamberteschi  Lamberteschi-- Peruzzi     \n",
       "[13]  Medici      -- Pazzi         Medici      -- Salviati    \n",
       "[15]  Medici      -- Tornabuoni  "
      ]
     },
     "metadata": {},
     "output_type": "display_data"
    }
   ],
   "source": [
    "g <- graph_from_adjacency_matrix(s_matrix, mode = \"undirected\")\n",
    "g"
   ]
  },
  {
   "cell_type": "markdown",
   "id": "82bb7c5a",
   "metadata": {},
   "source": [
    "В функцию передаются следующие параметры: \n",
    "- s_matrix: социоматрица, содержащяя названия строк и столбцов,\n",
    "- mode = \"undirected\": параметр задаёт направление рёбер."
   ]
  },
  {
   "cell_type": "markdown",
   "id": "06c48255",
   "metadata": {},
   "source": [
    "5. Отобразить сеть с помощью алгоритмов укладки Фрюхтермана–Рейнгольда и Камада–Каваи. Объяснить, в чём различие между алгоритмами и укладками."
   ]
  },
  {
   "cell_type": "code",
   "execution_count": 8,
   "id": "6c9aabde",
   "metadata": {},
   "outputs": [
    {
     "data": {
      "image/png": "[encoded data removed]",
      "text/plain": [
       "Plot with title \"Алгоритм укладки Фрюхтермана–Рейнгольда\""
      ]
     },
     "metadata": {
      "image/png": {
       "height": 420,
       "width": 420
      }
     },
     "output_type": "display_data"
    },
    {
     "data": {
      "image/png": "[encoded data removed]",
      "text/plain": [
       "Plot with title \"Алгоритм укладки Камада–Каваи\""
      ]
     },
     "metadata": {
      "image/png": {
       "height": 420,
       "width": 420
      }
     },
     "output_type": "display_data"
    }
   ],
   "source": [
    "plot(g, \n",
    "     vertex.size=5, \n",
    "     vertex.color=\"plum\", \n",
    "     vertex.label.dist=1.5, \n",
    "     main=\"Алгоритм укладки Фрюхтермана–Рейнгольда\", \n",
    "     layout=layout.fruchterman.reingold\n",
    "    )\n",
    "plot(g, \n",
    "     vertex.size=5, \n",
    "     vertex.color=\"green\", \n",
    "     vertex.label.dist=1.5, \n",
    "     main=\"Алгоритм укладки Камада–Каваи\", \n",
    "     layout=layout_with_kk\n",
    "    ) "
   ]
  },
  {
   "cell_type": "markdown",
   "id": "6f1ff68b",
   "metadata": {},
   "source": [
    "6. Вывести «описательную сводку» сети."
   ]
  },
  {
   "cell_type": "code",
   "execution_count": 5,
   "id": "2769beda",
   "metadata": {},
   "outputs": [
    {
     "data": {
      "text/plain": [
       "Network attributes:\n",
       "  vertices = 16\n",
       "  directed = FALSE\n",
       "  hyper = FALSE\n",
       "  loops = FALSE\n",
       "  multiple = FALSE\n",
       "  bipartite = FALSE\n",
       " total edges = 15 \n",
       "   missing edges = 0 \n",
       "   non-missing edges = 15 \n",
       " density = 0.125 \n",
       "\n",
       "Vertex attributes:\n",
       "  vertex.names:\n",
       "   character valued attribute\n",
       "   16 valid vertex names\n",
       "\n",
       "No edge attributes\n",
       "\n",
       "Network edgelist matrix:\n",
       "      [,1] [,2]\n",
       " [1,]    5    3\n",
       " [2,]    6    3\n",
       " [3,]    9    3\n",
       " [4,]   11    3\n",
       " [5,]    7    4\n",
       " [6,]    8    4\n",
       " [7,]   11    4\n",
       " [8,]    8    5\n",
       " [9,]   11    5\n",
       "[10,]    9    6\n",
       "[11,]    8    7\n",
       "[12,]   11    8\n",
       "[13,]   10    9\n",
       "[14,]   14    9\n",
       "[15,]   16    9"
      ]
     },
     "metadata": {},
     "output_type": "display_data"
    }
   ],
   "source": [
    "net <- network(s_matrix, matrix.type = \"adjacency\", directed = FALSE)\n",
    "summary(net)"
   ]
  },
  {
   "cell_type": "markdown",
   "id": "4978efe9",
   "metadata": {},
   "source": [
    "7. Вычислить «пятичисловую сводку» сети:"
   ]
  },
  {
   "cell_type": "markdown",
   "id": "6d712b71",
   "metadata": {},
   "source": [
    "(a) Вычислить размер сети."
   ]
  },
  {
   "cell_type": "code",
   "execution_count": 10,
   "id": "46bd52ac",
   "metadata": {},
   "outputs": [
    {
     "name": "stdout",
     "output_type": "stream",
     "text": [
      "Размер сети:  16"
     ]
    }
   ],
   "source": [
    "cat(\"Размер сети: \", gorder(g))"
   ]
  },
  {
   "cell_type": "markdown",
   "id": "a53617b4",
   "metadata": {},
   "source": [
    "(b) Вычислить плотность сети вручную и с помощью соответствующей функции. Сделать выводы."
   ]
  },
  {
   "cell_type": "code",
   "execution_count": 11,
   "id": "4927003f",
   "metadata": {},
   "outputs": [
    {
     "name": "stdout",
     "output_type": "stream",
     "text": [
      "Плотность сети с помощью соответствующей функции:  0.125"
     ]
    }
   ],
   "source": [
    "cat(\"Плотность сети с помощью соответствующей функции: \", edge_density(g))"
   ]
  },
  {
   "cell_type": "code",
   "execution_count": 12,
   "id": "1dfdd81b",
   "metadata": {},
   "outputs": [
    {
     "name": "stdout",
     "output_type": "stream",
     "text": [
      "Плотность сети вручную:  0.125"
     ]
    }
   ],
   "source": [
    "# Количество рёбр / (g, 2) - биномиальный коэффициент из g по 2\n",
    "cat(\"Плотность сети вручную: \", gsize(g)/choose(gorder(g), 2))"
   ]
  },
  {
   "cell_type": "markdown",
   "id": "17896dd1",
   "metadata": {},
   "source": [
    "Выводы: результаты совпали."
   ]
  },
  {
   "cell_type": "markdown",
   "id": "a6cd7aa4",
   "metadata": {},
   "source": [
    "(c) Определить число компонент в сети по графику. Подтвердить свои догадки с помощью соответствующей функции. Сделать выводы."
   ]
  },
  {
   "cell_type": "markdown",
   "id": "008b6de7",
   "metadata": {},
   "source": [
    "Догадки: в графе 6 компонент, 5 компонент состоят из одного актора, 1 компонент состоит из всех остальных."
   ]
  },
  {
   "cell_type": "code",
   "execution_count": 13,
   "id": "b58c0b3e",
   "metadata": {},
   "outputs": [
    {
     "name": "stdout",
     "output_type": "stream",
     "text": [
      "Число компонент в сети:  6"
     ]
    }
   ],
   "source": [
    "cat(\"Число компонент в сети: \", components(g)$no)"
   ]
  },
  {
   "cell_type": "markdown",
   "id": "c17ef2e0",
   "metadata": {},
   "source": [
    "Выводы: результаты совпали."
   ]
  },
  {
   "cell_type": "markdown",
   "id": "0b37c15c",
   "metadata": {},
   "source": [
    "(d) Вычислить диаметр сети. Сделать выводы."
   ]
  },
  {
   "cell_type": "code",
   "execution_count": 14,
   "id": "f53559d7",
   "metadata": {},
   "outputs": [
    {
     "name": "stdout",
     "output_type": "stream",
     "text": [
      "Диаметр сети:  5"
     ]
    }
   ],
   "source": [
    "cat(\"Диаметр сети: \", diameter(g))"
   ]
  },
  {
   "cell_type": "markdown",
   "id": "2a396068",
   "metadata": {},
   "source": [
    "Выводы: диаметр получился верным, так как он описывает максимальное минимальное расстояние между любыми двумя акторами - от Tornabuoni до Guadagni."
   ]
  },
  {
   "cell_type": "markdown",
   "id": "4f27f7ec",
   "metadata": {},
   "source": [
    "(e) Вычислить коэффициент кластеризации. Сделать выводы."
   ]
  },
  {
   "cell_type": "code",
   "execution_count": 15,
   "id": "f69b70d0",
   "metadata": {},
   "outputs": [
    {
     "name": "stdout",
     "output_type": "stream",
     "text": [
      "Коэффициент кластеризации:  0.4166667"
     ]
    }
   ],
   "source": [
    "cat(\"Коэффициент кластеризации: \", transitivity(g))"
   ]
  },
  {
   "cell_type": "markdown",
   "id": "caa46aed",
   "metadata": {},
   "source": [
    "Вывод: коэффициент не столь большой, так как 5 акторов не имеют узлов совсем, что точно влияет на значение."
   ]
  },
  {
   "cell_type": "markdown",
   "id": "7e56c5f2",
   "metadata": {},
   "source": [
    "8. Вычислить среднюю степень узлов и дисперсию. Сделать выводы."
   ]
  },
  {
   "cell_type": "code",
   "execution_count": 16,
   "id": "15ad4b89",
   "metadata": {},
   "outputs": [
    {
     "name": "stdout",
     "output_type": "stream",
     "text": [
      "Средняя степень узлов:  1.875\n",
      "Дисперсия:  3.05"
     ]
    }
   ],
   "source": [
    "cat(\"Средняя степень узлов: \", mean(degree(g)))\n",
    "cat(\"\\nДисперсия: \", varience<-var(degree(g)))"
   ]
  },
  {
   "cell_type": "markdown",
   "id": "c5f46776",
   "metadata": {},
   "source": [
    "Выводы: на значение степени узлов сильно повлияли 5 обособленных акторов, так же как и на дисперсию."
   ]
  },
  {
   "cell_type": "markdown",
   "id": "b1c508aa",
   "metadata": {},
   "source": [
    "9. Заполнить таблицу для различных мер центральности. Примечание: меры центральности вычислить для неизолированных вершин:"
   ]
  },
  {
   "cell_type": "code",
   "execution_count": 41,
   "id": "553747c0",
   "metadata": {},
   "outputs": [
    {
     "data": {
      "text/html": [
       "<table class=\"dataframe\">\n",
       "<caption>A data.frame: 11 × 5</caption>\n",
       "<thead>\n",
       "\t<tr><th></th><th scope=col>ni</th><th scope=col>CD_ni</th><th scope=col>CC_ni</th><th scope=col>CB_ni</th><th scope=col>CI_ni</th></tr>\n",
       "\t<tr><th></th><th scope=col>&lt;int&gt;</th><th scope=col>&lt;dbl&gt;</th><th scope=col>&lt;dbl&gt;</th><th scope=col>&lt;dbl&gt;</th><th scope=col>&lt;dbl&gt;</th></tr>\n",
       "</thead>\n",
       "<tbody>\n",
       "\t<tr><th scope=row> Barbadori</th><td> 1</td><td>0.4</td><td>0.5882353</td><td>0.55555556</td><td>0.12446815</td></tr>\n",
       "\t<tr><th scope=row> Bischeri</th><td> 2</td><td>0.3</td><td>0.4000000</td><td>0.05555556</td><td>0.08898359</td></tr>\n",
       "\t<tr><th scope=row> Castellani</th><td> 3</td><td>0.3</td><td>0.5000000</td><td>0.11111111</td><td>0.10457651</td></tr>\n",
       "\t<tr><th scope=row> Ginori</th><td> 4</td><td>0.2</td><td>0.4545455</td><td>0.00000000</td><td>0.09531249</td></tr>\n",
       "\t<tr><th scope=row> Guadagni</th><td> 5</td><td>0.2</td><td>0.3125000</td><td>0.00000000</td><td>0.07656303</td></tr>\n",
       "\t<tr><th scope=row> Lamberteschi</th><td> 6</td><td>0.4</td><td>0.4166667</td><td>0.13333333</td><td>0.09837087</td></tr>\n",
       "\t<tr><th scope=row> Medici</th><td> 7</td><td>0.5</td><td>0.5263158</td><td>0.53333333</td><td>0.11089878</td></tr>\n",
       "\t<tr><th scope=row> Pazzi</th><td> 8</td><td>0.1</td><td>0.3571429</td><td>0.00000000</td><td>0.06388631</td></tr>\n",
       "\t<tr><th scope=row> Peruzzi</th><td> 9</td><td>0.4</td><td>0.5263158</td><td>0.30000000</td><td>0.10916767</td></tr>\n",
       "\t<tr><th scope=row> Salviati</th><td>10</td><td>0.1</td><td>0.3571429</td><td>0.00000000</td><td>0.06388631</td></tr>\n",
       "\t<tr><th scope=row> Tornabuoni</th><td>11</td><td>0.1</td><td>0.3571429</td><td>0.00000000</td><td>0.06388631</td></tr>\n",
       "</tbody>\n",
       "</table>\n"
      ],
      "text/latex": [
       "A data.frame: 11 × 5\n",
       "\\begin{tabular}{r|lllll}\n",
       "  & ni & CD\\_ni & CC\\_ni & CB\\_ni & CI\\_ni\\\\\n",
       "  & <int> & <dbl> & <dbl> & <dbl> & <dbl>\\\\\n",
       "\\hline\n",
       "\t Barbadori &  1 & 0.4 & 0.5882353 & 0.55555556 & 0.12446815\\\\\n",
       "\t Bischeri &  2 & 0.3 & 0.4000000 & 0.05555556 & 0.08898359\\\\\n",
       "\t Castellani &  3 & 0.3 & 0.5000000 & 0.11111111 & 0.10457651\\\\\n",
       "\t Ginori &  4 & 0.2 & 0.4545455 & 0.00000000 & 0.09531249\\\\\n",
       "\t Guadagni &  5 & 0.2 & 0.3125000 & 0.00000000 & 0.07656303\\\\\n",
       "\t Lamberteschi &  6 & 0.4 & 0.4166667 & 0.13333333 & 0.09837087\\\\\n",
       "\t Medici &  7 & 0.5 & 0.5263158 & 0.53333333 & 0.11089878\\\\\n",
       "\t Pazzi &  8 & 0.1 & 0.3571429 & 0.00000000 & 0.06388631\\\\\n",
       "\t Peruzzi &  9 & 0.4 & 0.5263158 & 0.30000000 & 0.10916767\\\\\n",
       "\t Salviati & 10 & 0.1 & 0.3571429 & 0.00000000 & 0.06388631\\\\\n",
       "\t Tornabuoni & 11 & 0.1 & 0.3571429 & 0.00000000 & 0.06388631\\\\\n",
       "\\end{tabular}\n"
      ],
      "text/markdown": [
       "\n",
       "A data.frame: 11 × 5\n",
       "\n",
       "| <!--/--> | ni &lt;int&gt; | CD_ni &lt;dbl&gt; | CC_ni &lt;dbl&gt; | CB_ni &lt;dbl&gt; | CI_ni &lt;dbl&gt; |\n",
       "|---|---|---|---|---|---|\n",
       "|  Barbadori |  1 | 0.4 | 0.5882353 | 0.55555556 | 0.12446815 |\n",
       "|  Bischeri |  2 | 0.3 | 0.4000000 | 0.05555556 | 0.08898359 |\n",
       "|  Castellani |  3 | 0.3 | 0.5000000 | 0.11111111 | 0.10457651 |\n",
       "|  Ginori |  4 | 0.2 | 0.4545455 | 0.00000000 | 0.09531249 |\n",
       "|  Guadagni |  5 | 0.2 | 0.3125000 | 0.00000000 | 0.07656303 |\n",
       "|  Lamberteschi |  6 | 0.4 | 0.4166667 | 0.13333333 | 0.09837087 |\n",
       "|  Medici |  7 | 0.5 | 0.5263158 | 0.53333333 | 0.11089878 |\n",
       "|  Pazzi |  8 | 0.1 | 0.3571429 | 0.00000000 | 0.06388631 |\n",
       "|  Peruzzi |  9 | 0.4 | 0.5263158 | 0.30000000 | 0.10916767 |\n",
       "|  Salviati | 10 | 0.1 | 0.3571429 | 0.00000000 | 0.06388631 |\n",
       "|  Tornabuoni | 11 | 0.1 | 0.3571429 | 0.00000000 | 0.06388631 |\n",
       "\n"
      ],
      "text/plain": [
       "              ni CD_ni CC_ni     CB_ni      CI_ni     \n",
       " Barbadori     1 0.4   0.5882353 0.55555556 0.12446815\n",
       " Bischeri      2 0.3   0.4000000 0.05555556 0.08898359\n",
       " Castellani    3 0.3   0.5000000 0.11111111 0.10457651\n",
       " Ginori        4 0.2   0.4545455 0.00000000 0.09531249\n",
       " Guadagni      5 0.2   0.3125000 0.00000000 0.07656303\n",
       " Lamberteschi  6 0.4   0.4166667 0.13333333 0.09837087\n",
       " Medici        7 0.5   0.5263158 0.53333333 0.11089878\n",
       " Pazzi         8 0.1   0.3571429 0.00000000 0.06388631\n",
       " Peruzzi       9 0.4   0.5263158 0.30000000 0.10916767\n",
       " Salviati     10 0.1   0.3571429 0.00000000 0.06388631\n",
       " Tornabuoni   11 0.1   0.3571429 0.00000000 0.06388631"
      ]
     },
     "metadata": {},
     "output_type": "display_data"
    }
   ],
   "source": [
    "updated_matrix <- s_matrix[!apply(s_matrix == 0, 1, all), !apply(s_matrix == 0, 1, all)]\n",
    "G <- graph_from_adjacency_matrix(updated_matrix, mode = \"undirected\")\n",
    "\n",
    "G_order <- gorder(G)\n",
    "Cd <- degree(G)\n",
    "\n",
    "inv_matrix <- solve(laplacian_matrix(G) + 1) # Обратная матрица соответсвующего типа\n",
    "T <- sum(diag(inv_matrix)) # След обратной матрицы\n",
    "R <- colSums(inv_matrix) # Сумма диагональных элементов обратной матрицы\n",
    "CI <- 1/(diag(inv_matrix) + (T - 2*R)/G_order)\n",
    "\n",
    "# результаты\n",
    "CD_ni <- Cd / (G_order - 1)\n",
    "CC_ni <- closeness(G, normalized = TRUE)\n",
    "CB_ni <- betweenness(G, normalized = TRUE)\n",
    "CI_ni <- CI / sum(CI)\n",
    "\n",
    "centrality <- data.frame(\n",
    "    ni = 1:G_order, # акторы\n",
    "    CD_ni = CD_ni, # Центральность по степени (нормированная)\n",
    "    CC_ni = CC_ni, # Центральность по близости (нормированная)\n",
    "    CB_ni = CB_ni, # Центральность по посреднечеству (нормированная)\n",
    "    CI_ni = CI_ni # Центральность по информации (нормированная)\n",
    ")\n",
    "centrality"
   ]
  },
  {
   "cell_type": "markdown",
   "id": "50359aae",
   "metadata": {},
   "source": [
    "Результаты таблицы для различных мер центральности:"
   ]
  },
  {
   "cell_type": "markdown",
   "id": "fb339316",
   "metadata": {},
   "source": [
    "| $n_i$ \t| $C_D^{\\prime}(n_i)$ \t| $C_C^{\\prime}(n_i)$ \t| $C_B^{\\prime}(n_i)$ \t| $C_I^{\\prime}(n_i)$ \t|\n",
    "|---\t|---\t|---\t|---\t|---\t|\n",
    "| Barbadori \t| 0.40000 \t| 0.5882353 \t| 0.55555556 \t| 0.12446815 \t|\n",
    "| Bischeri \t| 0.30000 \t| 0.4000000 \t| 0.05555556 \t| 0.08898359 \t|\n",
    "| Castellani \t| 0.30000 \t| 0.5000000 \t| 0.11111111 \t| 0.10457651 \t|\n",
    "| Ginori \t| 0.20000 \t| 0.4545455 \t| 0.00000000 \t| 0.09531249 \t|\n",
    "| Guadagni \t| 0.20000 \t| 0.3125000 \t| 0.00000000 \t| 0.07656303 \t|\n",
    "| Lamberteschi \t| 0.40000 \t| 0.4166667 \t| 0.13333333 \t| 0.09837087 \t|\n",
    "| Medici \t| 0.50000 \t| 0.5263158 \t| 0.53333333 \t| 0.11089878 \t|\n",
    "| Pazzi \t| 0.10000 \t| 0.3571429 \t| 0.00000000 \t| 0.06388631 \t|\n",
    "| Peruzzi \t| 0.40000 \t| 0.5263158 \t| 0.30000000 \t| 0.10916767 \t|\n",
    "| Salviati \t| 0.10000 \t| 0.3571429 \t| 0.00000000 \t| 0.06388631 \t|\n",
    "| Tornabuoni \t| 0.10000 \t| 0.3571429 \t| 0.00000000 \t| 0.06388631 \t|"
   ]
  },
  {
   "cell_type": "markdown",
   "id": "47c00649",
   "metadata": {},
   "source": [
    "Вывод: по мерам центральности можно судить о расположении акторов в сети. Чем больше меры центральности для актора конкретной сети, тем больше связей имеет данный актор с другими акторами. В данном примере актор Medici, если рассматривать граф, имеет больше всего связей - находится в центре, что можно наблюдать по таблице центральности - значения метрик данного актора наибольшие среди всех остальных."
   ]
  },
  {
   "cell_type": "markdown",
   "id": "b5669ec1",
   "metadata": {},
   "source": [
    "10. Вычислить значение централизации для каждой меры. Сделать выводы."
   ]
  },
  {
   "cell_type": "code",
   "execution_count": 58,
   "id": "77f40ab9",
   "metadata": {},
   "outputs": [
    {
     "name": "stdout",
     "output_type": "stream",
     "text": [
      "Централизация по степени:  0.02777778\n",
      "Централизация по близости:  0.3535226\n",
      "Централизация по посреднечеству:  0.4422222\n",
      "Централизация по информации:  0.000452125"
     ]
    }
   ],
   "source": [
    "cat(\"Централизация по степени: \", centralize(CD_ni, (G_order - 1) * (G_order - 2)))\n",
    "cat(\"\\nЦентрализация по близости: \", centralize(CC_ni, (G_order - 1) * (G_order - 2) / (2 * G_order - 3)))\n",
    "cat(\"\\nЦентрализация по посреднечеству: \", centralize(CB_ni, (G_order - 1)))\n",
    "cat(\"\\nЦентрализация по информации: \", var(CI_ni))"
   ]
  },
  {
   "cell_type": "markdown",
   "id": "f7c5adc8",
   "metadata": {},
   "source": [
    "Выводы: значение централизации сильно зависит от той меры, относительно которой она считается."
   ]
  },
  {
   "cell_type": "markdown",
   "id": "2f9f920d",
   "metadata": {},
   "source": [
    "11. Выявить точки сочленения и мосты сети. Подтвердить свои догадки с помощью соответствующих функций (если их нет – реализуйте их самостоятельно). Построить график сети, на котором выделены точки сочленения и мосты."
   ]
  },
  {
   "cell_type": "code",
   "execution_count": 68,
   "id": "28a35b4d",
   "metadata": {},
   "outputs": [
    {
     "name": "stdout",
     "output_type": "stream",
     "text": [
      "Точки сочленения сети: "
     ]
    },
    {
     "data": {
      "text/plain": [
       "+ 2/16 vertices, named, from f2f9fc1:\n",
       "[1]  Medici     Barbadori"
      ]
     },
     "metadata": {},
     "output_type": "display_data"
    },
    {
     "name": "stdout",
     "output_type": "stream",
     "text": [
      "\n",
      "Мосты сети:"
     ]
    },
    {
     "data": {
      "text/plain": [
       "+ 3/15 edges from f2f9fc1 (vertex names):\n",
       "[1]  Medici-- Pazzi       Medici-- Salviati    Medici-- Tornabuoni"
      ]
     },
     "metadata": {},
     "output_type": "display_data"
    },
    {
     "data": {
      "image/png": "[encoded data removed]",
      "text/plain": [
       "Plot with title \"График сети\""
      ]
     },
     "metadata": {
      "image/png": {
       "height": 420,
       "width": 420
      }
     },
     "output_type": "display_data"
    }
   ],
   "source": [
    "artic_points <- articulation_points(g)\n",
    "bridges <- bridges(g)\n",
    "cat(\"Точки сочленения сети: \")\n",
    "artic_points\n",
    "cat(\"\\nМосты сети:\") \n",
    "bridges\n",
    "\n",
    "vertex_color <- ifelse(is.na(match(V(g), artic_points)), \"gray\", \"blue\")\n",
    "edges_color <- ifelse(is.na(match(E(g), bridges)), \"gray\", \"pink\")\n",
    "plot(g, \n",
    "     vertex.size = 10, \n",
    "     edge.width = 5,\n",
    "     vertex.color = vertex_color, \n",
    "     edge.color = edges_color,\n",
    "     vertex.label.dist=2, \n",
    "     main=\"График сети\",\n",
    "     layout=layout.fruchterman.reingold\n",
    "    ) "
   ]
  },
  {
   "cell_type": "markdown",
   "id": "b3e2ada0",
   "metadata": {},
   "source": [
    "12. Выполнить п. 2–8 для сети из файла krackhardt_advice.csv (для нечётных вариантов) и файла krackhardt_friendship.csv (для чётных вариантов)."
   ]
  },
  {
   "cell_type": "code",
   "execution_count": 2,
   "id": "b073533d",
   "metadata": {},
   "outputs": [
    {
     "name": "stdout",
     "output_type": "stream",
     "text": [
      "\n",
      "1. Вывести полученную социоматрицу на экран."
     ]
    },
    {
     "data": {
      "text/html": [
       "<table class=\"dataframe\">\n",
       "<caption>A matrix: 21 × 21 of type int</caption>\n",
       "<thead>\n",
       "\t<tr><th scope=col>V1</th><th scope=col>V2</th><th scope=col>V3</th><th scope=col>V4</th><th scope=col>V5</th><th scope=col>V6</th><th scope=col>V7</th><th scope=col>V8</th><th scope=col>V9</th><th scope=col>V10</th><th scope=col>⋯</th><th scope=col>V12</th><th scope=col>V13</th><th scope=col>V14</th><th scope=col>V15</th><th scope=col>V16</th><th scope=col>V17</th><th scope=col>V18</th><th scope=col>V19</th><th scope=col>V20</th><th scope=col>V21</th></tr>\n",
       "</thead>\n",
       "<tbody>\n",
       "\t<tr><td>0</td><td>1</td><td>0</td><td>1</td><td>0</td><td>0</td><td>0</td><td>1</td><td>0</td><td>0</td><td>⋯</td><td>0</td><td>0</td><td>0</td><td>0</td><td>1</td><td>0</td><td>1</td><td>0</td><td>0</td><td>1</td></tr>\n",
       "\t<tr><td>0</td><td>0</td><td>0</td><td>0</td><td>0</td><td>1</td><td>1</td><td>0</td><td>0</td><td>0</td><td>⋯</td><td>0</td><td>0</td><td>0</td><td>0</td><td>0</td><td>0</td><td>0</td><td>0</td><td>0</td><td>1</td></tr>\n",
       "\t<tr><td>1</td><td>1</td><td>0</td><td>1</td><td>0</td><td>1</td><td>1</td><td>1</td><td>1</td><td>1</td><td>⋯</td><td>1</td><td>0</td><td>1</td><td>0</td><td>0</td><td>1</td><td>1</td><td>0</td><td>1</td><td>1</td></tr>\n",
       "\t<tr><td>1</td><td>1</td><td>0</td><td>0</td><td>0</td><td>1</td><td>0</td><td>1</td><td>0</td><td>1</td><td>⋯</td><td>1</td><td>0</td><td>0</td><td>0</td><td>1</td><td>1</td><td>1</td><td>0</td><td>1</td><td>1</td></tr>\n",
       "\t<tr><td>1</td><td>1</td><td>0</td><td>0</td><td>0</td><td>1</td><td>1</td><td>1</td><td>0</td><td>1</td><td>⋯</td><td>0</td><td>1</td><td>1</td><td>0</td><td>1</td><td>1</td><td>1</td><td>1</td><td>1</td><td>1</td></tr>\n",
       "\t<tr><td>0</td><td>0</td><td>0</td><td>0</td><td>0</td><td>0</td><td>0</td><td>0</td><td>0</td><td>0</td><td>⋯</td><td>0</td><td>0</td><td>0</td><td>0</td><td>0</td><td>0</td><td>0</td><td>0</td><td>0</td><td>1</td></tr>\n",
       "\t<tr><td>0</td><td>1</td><td>0</td><td>0</td><td>0</td><td>1</td><td>0</td><td>0</td><td>0</td><td>0</td><td>⋯</td><td>1</td><td>0</td><td>1</td><td>0</td><td>0</td><td>1</td><td>1</td><td>0</td><td>0</td><td>1</td></tr>\n",
       "\t<tr><td>0</td><td>1</td><td>0</td><td>1</td><td>0</td><td>1</td><td>1</td><td>0</td><td>0</td><td>1</td><td>⋯</td><td>0</td><td>0</td><td>0</td><td>0</td><td>0</td><td>0</td><td>1</td><td>0</td><td>0</td><td>1</td></tr>\n",
       "\t<tr><td>1</td><td>1</td><td>0</td><td>0</td><td>0</td><td>1</td><td>1</td><td>1</td><td>0</td><td>1</td><td>⋯</td><td>1</td><td>0</td><td>1</td><td>0</td><td>1</td><td>1</td><td>1</td><td>0</td><td>0</td><td>1</td></tr>\n",
       "\t<tr><td>1</td><td>1</td><td>1</td><td>1</td><td>1</td><td>0</td><td>0</td><td>1</td><td>0</td><td>0</td><td>⋯</td><td>0</td><td>1</td><td>0</td><td>1</td><td>1</td><td>1</td><td>1</td><td>1</td><td>1</td><td>0</td></tr>\n",
       "\t<tr><td>1</td><td>1</td><td>0</td><td>0</td><td>0</td><td>0</td><td>1</td><td>0</td><td>0</td><td>0</td><td>⋯</td><td>0</td><td>0</td><td>0</td><td>0</td><td>0</td><td>0</td><td>0</td><td>0</td><td>0</td><td>0</td></tr>\n",
       "\t<tr><td>0</td><td>0</td><td>0</td><td>0</td><td>0</td><td>0</td><td>1</td><td>0</td><td>0</td><td>0</td><td>⋯</td><td>0</td><td>0</td><td>0</td><td>0</td><td>0</td><td>0</td><td>0</td><td>0</td><td>0</td><td>1</td></tr>\n",
       "\t<tr><td>1</td><td>1</td><td>0</td><td>0</td><td>1</td><td>0</td><td>0</td><td>0</td><td>1</td><td>0</td><td>⋯</td><td>0</td><td>0</td><td>1</td><td>0</td><td>0</td><td>0</td><td>1</td><td>0</td><td>0</td><td>0</td></tr>\n",
       "\t<tr><td>0</td><td>1</td><td>0</td><td>0</td><td>0</td><td>0</td><td>1</td><td>0</td><td>0</td><td>0</td><td>⋯</td><td>0</td><td>0</td><td>0</td><td>0</td><td>0</td><td>0</td><td>1</td><td>0</td><td>0</td><td>1</td></tr>\n",
       "\t<tr><td>1</td><td>1</td><td>1</td><td>1</td><td>1</td><td>1</td><td>1</td><td>1</td><td>1</td><td>1</td><td>⋯</td><td>1</td><td>1</td><td>1</td><td>0</td><td>1</td><td>1</td><td>1</td><td>1</td><td>1</td><td>1</td></tr>\n",
       "\t<tr><td>1</td><td>1</td><td>0</td><td>0</td><td>0</td><td>0</td><td>0</td><td>0</td><td>0</td><td>1</td><td>⋯</td><td>0</td><td>0</td><td>0</td><td>0</td><td>0</td><td>0</td><td>1</td><td>0</td><td>0</td><td>0</td></tr>\n",
       "\t<tr><td>1</td><td>1</td><td>0</td><td>1</td><td>0</td><td>0</td><td>1</td><td>0</td><td>0</td><td>0</td><td>⋯</td><td>0</td><td>0</td><td>0</td><td>0</td><td>0</td><td>0</td><td>0</td><td>0</td><td>0</td><td>1</td></tr>\n",
       "\t<tr><td>1</td><td>1</td><td>1</td><td>1</td><td>1</td><td>0</td><td>1</td><td>1</td><td>1</td><td>1</td><td>⋯</td><td>0</td><td>1</td><td>1</td><td>1</td><td>1</td><td>0</td><td>0</td><td>1</td><td>1</td><td>1</td></tr>\n",
       "\t<tr><td>1</td><td>1</td><td>1</td><td>0</td><td>1</td><td>0</td><td>1</td><td>0</td><td>0</td><td>1</td><td>⋯</td><td>0</td><td>0</td><td>1</td><td>1</td><td>0</td><td>0</td><td>1</td><td>0</td><td>1</td><td>0</td></tr>\n",
       "\t<tr><td>1</td><td>1</td><td>0</td><td>0</td><td>0</td><td>1</td><td>0</td><td>1</td><td>0</td><td>0</td><td>⋯</td><td>1</td><td>0</td><td>1</td><td>1</td><td>1</td><td>1</td><td>1</td><td>0</td><td>0</td><td>1</td></tr>\n",
       "\t<tr><td>0</td><td>1</td><td>1</td><td>1</td><td>0</td><td>1</td><td>1</td><td>1</td><td>0</td><td>0</td><td>⋯</td><td>1</td><td>0</td><td>1</td><td>0</td><td>0</td><td>1</td><td>1</td><td>0</td><td>1</td><td>0</td></tr>\n",
       "</tbody>\n",
       "</table>\n"
      ],
      "text/latex": [
       "A matrix: 21 × 21 of type int\n",
       "\\begin{tabular}{lllllllllllllllllllll}\n",
       " V1 & V2 & V3 & V4 & V5 & V6 & V7 & V8 & V9 & V10 & ⋯ & V12 & V13 & V14 & V15 & V16 & V17 & V18 & V19 & V20 & V21\\\\\n",
       "\\hline\n",
       "\t 0 & 1 & 0 & 1 & 0 & 0 & 0 & 1 & 0 & 0 & ⋯ & 0 & 0 & 0 & 0 & 1 & 0 & 1 & 0 & 0 & 1\\\\\n",
       "\t 0 & 0 & 0 & 0 & 0 & 1 & 1 & 0 & 0 & 0 & ⋯ & 0 & 0 & 0 & 0 & 0 & 0 & 0 & 0 & 0 & 1\\\\\n",
       "\t 1 & 1 & 0 & 1 & 0 & 1 & 1 & 1 & 1 & 1 & ⋯ & 1 & 0 & 1 & 0 & 0 & 1 & 1 & 0 & 1 & 1\\\\\n",
       "\t 1 & 1 & 0 & 0 & 0 & 1 & 0 & 1 & 0 & 1 & ⋯ & 1 & 0 & 0 & 0 & 1 & 1 & 1 & 0 & 1 & 1\\\\\n",
       "\t 1 & 1 & 0 & 0 & 0 & 1 & 1 & 1 & 0 & 1 & ⋯ & 0 & 1 & 1 & 0 & 1 & 1 & 1 & 1 & 1 & 1\\\\\n",
       "\t 0 & 0 & 0 & 0 & 0 & 0 & 0 & 0 & 0 & 0 & ⋯ & 0 & 0 & 0 & 0 & 0 & 0 & 0 & 0 & 0 & 1\\\\\n",
       "\t 0 & 1 & 0 & 0 & 0 & 1 & 0 & 0 & 0 & 0 & ⋯ & 1 & 0 & 1 & 0 & 0 & 1 & 1 & 0 & 0 & 1\\\\\n",
       "\t 0 & 1 & 0 & 1 & 0 & 1 & 1 & 0 & 0 & 1 & ⋯ & 0 & 0 & 0 & 0 & 0 & 0 & 1 & 0 & 0 & 1\\\\\n",
       "\t 1 & 1 & 0 & 0 & 0 & 1 & 1 & 1 & 0 & 1 & ⋯ & 1 & 0 & 1 & 0 & 1 & 1 & 1 & 0 & 0 & 1\\\\\n",
       "\t 1 & 1 & 1 & 1 & 1 & 0 & 0 & 1 & 0 & 0 & ⋯ & 0 & 1 & 0 & 1 & 1 & 1 & 1 & 1 & 1 & 0\\\\\n",
       "\t 1 & 1 & 0 & 0 & 0 & 0 & 1 & 0 & 0 & 0 & ⋯ & 0 & 0 & 0 & 0 & 0 & 0 & 0 & 0 & 0 & 0\\\\\n",
       "\t 0 & 0 & 0 & 0 & 0 & 0 & 1 & 0 & 0 & 0 & ⋯ & 0 & 0 & 0 & 0 & 0 & 0 & 0 & 0 & 0 & 1\\\\\n",
       "\t 1 & 1 & 0 & 0 & 1 & 0 & 0 & 0 & 1 & 0 & ⋯ & 0 & 0 & 1 & 0 & 0 & 0 & 1 & 0 & 0 & 0\\\\\n",
       "\t 0 & 1 & 0 & 0 & 0 & 0 & 1 & 0 & 0 & 0 & ⋯ & 0 & 0 & 0 & 0 & 0 & 0 & 1 & 0 & 0 & 1\\\\\n",
       "\t 1 & 1 & 1 & 1 & 1 & 1 & 1 & 1 & 1 & 1 & ⋯ & 1 & 1 & 1 & 0 & 1 & 1 & 1 & 1 & 1 & 1\\\\\n",
       "\t 1 & 1 & 0 & 0 & 0 & 0 & 0 & 0 & 0 & 1 & ⋯ & 0 & 0 & 0 & 0 & 0 & 0 & 1 & 0 & 0 & 0\\\\\n",
       "\t 1 & 1 & 0 & 1 & 0 & 0 & 1 & 0 & 0 & 0 & ⋯ & 0 & 0 & 0 & 0 & 0 & 0 & 0 & 0 & 0 & 1\\\\\n",
       "\t 1 & 1 & 1 & 1 & 1 & 0 & 1 & 1 & 1 & 1 & ⋯ & 0 & 1 & 1 & 1 & 1 & 0 & 0 & 1 & 1 & 1\\\\\n",
       "\t 1 & 1 & 1 & 0 & 1 & 0 & 1 & 0 & 0 & 1 & ⋯ & 0 & 0 & 1 & 1 & 0 & 0 & 1 & 0 & 1 & 0\\\\\n",
       "\t 1 & 1 & 0 & 0 & 0 & 1 & 0 & 1 & 0 & 0 & ⋯ & 1 & 0 & 1 & 1 & 1 & 1 & 1 & 0 & 0 & 1\\\\\n",
       "\t 0 & 1 & 1 & 1 & 0 & 1 & 1 & 1 & 0 & 0 & ⋯ & 1 & 0 & 1 & 0 & 0 & 1 & 1 & 0 & 1 & 0\\\\\n",
       "\\end{tabular}\n"
      ],
      "text/markdown": [
       "\n",
       "A matrix: 21 × 21 of type int\n",
       "\n",
       "| V1 | V2 | V3 | V4 | V5 | V6 | V7 | V8 | V9 | V10 | ⋯ | V12 | V13 | V14 | V15 | V16 | V17 | V18 | V19 | V20 | V21 |\n",
       "|---|---|---|---|---|---|---|---|---|---|---|---|---|---|---|---|---|---|---|---|---|\n",
       "| 0 | 1 | 0 | 1 | 0 | 0 | 0 | 1 | 0 | 0 | ⋯ | 0 | 0 | 0 | 0 | 1 | 0 | 1 | 0 | 0 | 1 |\n",
       "| 0 | 0 | 0 | 0 | 0 | 1 | 1 | 0 | 0 | 0 | ⋯ | 0 | 0 | 0 | 0 | 0 | 0 | 0 | 0 | 0 | 1 |\n",
       "| 1 | 1 | 0 | 1 | 0 | 1 | 1 | 1 | 1 | 1 | ⋯ | 1 | 0 | 1 | 0 | 0 | 1 | 1 | 0 | 1 | 1 |\n",
       "| 1 | 1 | 0 | 0 | 0 | 1 | 0 | 1 | 0 | 1 | ⋯ | 1 | 0 | 0 | 0 | 1 | 1 | 1 | 0 | 1 | 1 |\n",
       "| 1 | 1 | 0 | 0 | 0 | 1 | 1 | 1 | 0 | 1 | ⋯ | 0 | 1 | 1 | 0 | 1 | 1 | 1 | 1 | 1 | 1 |\n",
       "| 0 | 0 | 0 | 0 | 0 | 0 | 0 | 0 | 0 | 0 | ⋯ | 0 | 0 | 0 | 0 | 0 | 0 | 0 | 0 | 0 | 1 |\n",
       "| 0 | 1 | 0 | 0 | 0 | 1 | 0 | 0 | 0 | 0 | ⋯ | 1 | 0 | 1 | 0 | 0 | 1 | 1 | 0 | 0 | 1 |\n",
       "| 0 | 1 | 0 | 1 | 0 | 1 | 1 | 0 | 0 | 1 | ⋯ | 0 | 0 | 0 | 0 | 0 | 0 | 1 | 0 | 0 | 1 |\n",
       "| 1 | 1 | 0 | 0 | 0 | 1 | 1 | 1 | 0 | 1 | ⋯ | 1 | 0 | 1 | 0 | 1 | 1 | 1 | 0 | 0 | 1 |\n",
       "| 1 | 1 | 1 | 1 | 1 | 0 | 0 | 1 | 0 | 0 | ⋯ | 0 | 1 | 0 | 1 | 1 | 1 | 1 | 1 | 1 | 0 |\n",
       "| 1 | 1 | 0 | 0 | 0 | 0 | 1 | 0 | 0 | 0 | ⋯ | 0 | 0 | 0 | 0 | 0 | 0 | 0 | 0 | 0 | 0 |\n",
       "| 0 | 0 | 0 | 0 | 0 | 0 | 1 | 0 | 0 | 0 | ⋯ | 0 | 0 | 0 | 0 | 0 | 0 | 0 | 0 | 0 | 1 |\n",
       "| 1 | 1 | 0 | 0 | 1 | 0 | 0 | 0 | 1 | 0 | ⋯ | 0 | 0 | 1 | 0 | 0 | 0 | 1 | 0 | 0 | 0 |\n",
       "| 0 | 1 | 0 | 0 | 0 | 0 | 1 | 0 | 0 | 0 | ⋯ | 0 | 0 | 0 | 0 | 0 | 0 | 1 | 0 | 0 | 1 |\n",
       "| 1 | 1 | 1 | 1 | 1 | 1 | 1 | 1 | 1 | 1 | ⋯ | 1 | 1 | 1 | 0 | 1 | 1 | 1 | 1 | 1 | 1 |\n",
       "| 1 | 1 | 0 | 0 | 0 | 0 | 0 | 0 | 0 | 1 | ⋯ | 0 | 0 | 0 | 0 | 0 | 0 | 1 | 0 | 0 | 0 |\n",
       "| 1 | 1 | 0 | 1 | 0 | 0 | 1 | 0 | 0 | 0 | ⋯ | 0 | 0 | 0 | 0 | 0 | 0 | 0 | 0 | 0 | 1 |\n",
       "| 1 | 1 | 1 | 1 | 1 | 0 | 1 | 1 | 1 | 1 | ⋯ | 0 | 1 | 1 | 1 | 1 | 0 | 0 | 1 | 1 | 1 |\n",
       "| 1 | 1 | 1 | 0 | 1 | 0 | 1 | 0 | 0 | 1 | ⋯ | 0 | 0 | 1 | 1 | 0 | 0 | 1 | 0 | 1 | 0 |\n",
       "| 1 | 1 | 0 | 0 | 0 | 1 | 0 | 1 | 0 | 0 | ⋯ | 1 | 0 | 1 | 1 | 1 | 1 | 1 | 0 | 0 | 1 |\n",
       "| 0 | 1 | 1 | 1 | 0 | 1 | 1 | 1 | 0 | 0 | ⋯ | 1 | 0 | 1 | 0 | 0 | 1 | 1 | 0 | 1 | 0 |\n",
       "\n"
      ],
      "text/plain": [
       "      V1 V2 V3 V4 V5 V6 V7 V8 V9 V10 ⋯ V12 V13 V14 V15 V16 V17 V18 V19 V20 V21\n",
       " [1,] 0  1  0  1  0  0  0  1  0  0   ⋯ 0   0   0   0   1   0   1   0   0   1  \n",
       " [2,] 0  0  0  0  0  1  1  0  0  0   ⋯ 0   0   0   0   0   0   0   0   0   1  \n",
       " [3,] 1  1  0  1  0  1  1  1  1  1   ⋯ 1   0   1   0   0   1   1   0   1   1  \n",
       " [4,] 1  1  0  0  0  1  0  1  0  1   ⋯ 1   0   0   0   1   1   1   0   1   1  \n",
       " [5,] 1  1  0  0  0  1  1  1  0  1   ⋯ 0   1   1   0   1   1   1   1   1   1  \n",
       " [6,] 0  0  0  0  0  0  0  0  0  0   ⋯ 0   0   0   0   0   0   0   0   0   1  \n",
       " [7,] 0  1  0  0  0  1  0  0  0  0   ⋯ 1   0   1   0   0   1   1   0   0   1  \n",
       " [8,] 0  1  0  1  0  1  1  0  0  1   ⋯ 0   0   0   0   0   0   1   0   0   1  \n",
       " [9,] 1  1  0  0  0  1  1  1  0  1   ⋯ 1   0   1   0   1   1   1   0   0   1  \n",
       "[10,] 1  1  1  1  1  0  0  1  0  0   ⋯ 0   1   0   1   1   1   1   1   1   0  \n",
       "[11,] 1  1  0  0  0  0  1  0  0  0   ⋯ 0   0   0   0   0   0   0   0   0   0  \n",
       "[12,] 0  0  0  0  0  0  1  0  0  0   ⋯ 0   0   0   0   0   0   0   0   0   1  \n",
       "[13,] 1  1  0  0  1  0  0  0  1  0   ⋯ 0   0   1   0   0   0   1   0   0   0  \n",
       "[14,] 0  1  0  0  0  0  1  0  0  0   ⋯ 0   0   0   0   0   0   1   0   0   1  \n",
       "[15,] 1  1  1  1  1  1  1  1  1  1   ⋯ 1   1   1   0   1   1   1   1   1   1  \n",
       "[16,] 1  1  0  0  0  0  0  0  0  1   ⋯ 0   0   0   0   0   0   1   0   0   0  \n",
       "[17,] 1  1  0  1  0  0  1  0  0  0   ⋯ 0   0   0   0   0   0   0   0   0   1  \n",
       "[18,] 1  1  1  1  1  0  1  1  1  1   ⋯ 0   1   1   1   1   0   0   1   1   1  \n",
       "[19,] 1  1  1  0  1  0  1  0  0  1   ⋯ 0   0   1   1   0   0   1   0   1   0  \n",
       "[20,] 1  1  0  0  0  1  0  1  0  0   ⋯ 1   0   1   1   1   1   1   0   0   1  \n",
       "[21,] 0  1  1  1  0  1  1  1  0  0   ⋯ 1   0   1   0   0   1   1   0   1   0  "
      ]
     },
     "metadata": {},
     "output_type": "display_data"
    },
    {
     "name": "stdout",
     "output_type": "stream",
     "text": [
      "\n",
      "2. Преобразовать социоматрицу в список рёбер. Вывести первые 5 элементов списка рёбер."
     ]
    },
    {
     "data": {
      "text/html": [
       "<table class=\"dataframe\">\n",
       "<caption>A matrix: 5 × 2 of type chr</caption>\n",
       "<tbody>\n",
       "\t<tr><td>V1</td><td>V2 </td></tr>\n",
       "\t<tr><td>V1</td><td>V4 </td></tr>\n",
       "\t<tr><td>V1</td><td>V8 </td></tr>\n",
       "\t<tr><td>V1</td><td>V16</td></tr>\n",
       "\t<tr><td>V1</td><td>V18</td></tr>\n",
       "</tbody>\n",
       "</table>\n"
      ],
      "text/latex": [
       "A matrix: 5 × 2 of type chr\n",
       "\\begin{tabular}{ll}\n",
       "\t V1 & V2 \\\\\n",
       "\t V1 & V4 \\\\\n",
       "\t V1 & V8 \\\\\n",
       "\t V1 & V16\\\\\n",
       "\t V1 & V18\\\\\n",
       "\\end{tabular}\n"
      ],
      "text/markdown": [
       "\n",
       "A matrix: 5 × 2 of type chr\n",
       "\n",
       "| V1 | V2  |\n",
       "| V1 | V4  |\n",
       "| V1 | V8  |\n",
       "| V1 | V16 |\n",
       "| V1 | V18 |\n",
       "\n"
      ],
      "text/plain": [
       "     [,1] [,2]\n",
       "[1,] V1   V2  \n",
       "[2,] V1   V4  \n",
       "[3,] V1   V8  \n",
       "[4,] V1   V16 \n",
       "[5,] V1   V18 "
      ]
     },
     "metadata": {},
     "output_type": "display_data"
    },
    {
     "name": "stdout",
     "output_type": "stream",
     "text": [
      "\n",
      "3. С помощью соответствующих функций по полученной социоматрице построить ненаправленную сеть."
     ]
    },
    {
     "data": {
      "text/plain": [
       "IGRAPH 87a69a1 DN-- 21 190 -- \n",
       "+ attr: name (v/c)\n",
       "+ edges from 87a69a1 (vertex names):\n",
       " [1] V1->V2  V1->V4  V1->V8  V1->V16 V1->V18 V1->V21 V2->V6  V2->V7  V2->V21\n",
       "[10] V3->V1  V3->V2  V3->V4  V3->V6  V3->V7  V3->V8  V3->V9  V3->V10 V3->V11\n",
       "[19] V3->V12 V3->V14 V3->V17 V3->V18 V3->V20 V3->V21 V4->V1  V4->V2  V4->V6 \n",
       "[28] V4->V8  V4->V10 V4->V11 V4->V12 V4->V16 V4->V17 V4->V18 V4->V20 V4->V21\n",
       "[37] V5->V1  V5->V2  V5->V6  V5->V7  V5->V8  V5->V10 V5->V11 V5->V13 V5->V14\n",
       "[46] V5->V16 V5->V17 V5->V18 V5->V19 V5->V20 V5->V21 V6->V21 V7->V2  V7->V6 \n",
       "[55] V7->V11 V7->V12 V7->V14 V7->V17 V7->V18 V7->V21 V8->V2  V8->V4  V8->V6 \n",
       "[64] V8->V7  V8->V10 V8->V11 V8->V18 V8->V21 V9->V1  V9->V2  V9->V6  V9->V7 \n",
       "+ ... omitted several edges"
      ]
     },
     "metadata": {},
     "output_type": "display_data"
    }
   ],
   "source": [
    "file <- \"./krackhardt_advice.csv\"\n",
    "data <- read.table(file, sep=\",\")\n",
    "s_matrix = as.matrix(data)\n",
    "headers <- s_matrix[1, ]\n",
    "class(s_matrix) <- \"numeric\"\n",
    "cat(\"\\n1. Вывести полученную социоматрицу на экран.\")\n",
    "s_matrix\n",
    "\n",
    "cat(\"\\n2. Преобразовать социоматрицу в список рёбер. Вывести первые 5 элементов списка рёбер.\")\n",
    "data_graph <- graph.adjacency(s_matrix, mode=\"directed\")\n",
    "edge_list <- get.edgelist(data_graph)\n",
    "head(edge_list, 5)\n",
    "\n",
    "cat(\"\\n3. С помощью соответствующих функций по полученной социоматрице построить ненаправленную сеть.\")\n",
    "g <- graph_from_adjacency_matrix(s_matrix, mode = \"directed\")\n",
    "g"
   ]
  },
  {
   "cell_type": "code",
   "execution_count": 7,
   "id": "bc570800",
   "metadata": {},
   "outputs": [
    {
     "name": "stdout",
     "output_type": "stream",
     "text": [
      "\n",
      "5. Вывести «описательную сводку» сети."
     ]
    },
    {
     "data": {
      "text/plain": [
       "Network attributes:\n",
       "  vertices = 21\n",
       "  directed = FALSE\n",
       "  hyper = FALSE\n",
       "  loops = FALSE\n",
       "  multiple = FALSE\n",
       "  bipartite = FALSE\n",
       " total edges = 145 \n",
       "   missing edges = 0 \n",
       "   non-missing edges = 145 \n",
       " density = 0.6904762 \n",
       "\n",
       "Vertex attributes:\n",
       "  vertex.names:\n",
       "   character valued attribute\n",
       "   21 valid vertex names\n",
       "\n",
       "No edge attributes\n",
       "\n",
       "Network edgelist matrix:\n",
       "       [,1] [,2]\n",
       "  [1,]    2    1\n",
       "  [2,]    3    1\n",
       "  [3,]    4    1\n",
       "  [4,]    5    1\n",
       "  [5,]    8    1\n",
       "  [6,]    9    1\n",
       "  [7,]   10    1\n",
       "  [8,]   11    1\n",
       "  [9,]   13    1\n",
       " [10,]   15    1\n",
       " [11,]   16    1\n",
       " [12,]   17    1\n",
       " [13,]   18    1\n",
       " [14,]   19    1\n",
       " [15,]   20    1\n",
       " [16,]   21    1\n",
       " [17,]    3    2\n",
       " [18,]    4    2\n",
       " [19,]    5    2\n",
       " [20,]    6    2\n",
       " [21,]    7    2\n",
       " [22,]    8    2\n",
       " [23,]    9    2\n",
       " [24,]   10    2\n",
       " [25,]   11    2\n",
       " [26,]   13    2\n",
       " [27,]   14    2\n",
       " [28,]   15    2\n",
       " [29,]   16    2\n",
       " [30,]   17    2\n",
       " [31,]   18    2\n",
       " [32,]   19    2\n",
       " [33,]   20    2\n",
       " [34,]   21    2\n",
       " [35,]    4    3\n",
       " [36,]    6    3\n",
       " [37,]    7    3\n",
       " [38,]    8    3\n",
       " [39,]    9    3\n",
       " [40,]   10    3\n",
       " [41,]   11    3\n",
       " [42,]   12    3\n",
       " [43,]   14    3\n",
       " [44,]   15    3\n",
       " [45,]   17    3\n",
       " [46,]   18    3\n",
       " [47,]   19    3\n",
       " [48,]   20    3\n",
       " [49,]   21    3\n",
       " [50,]    6    4\n",
       " [51,]    8    4\n",
       " [52,]   10    4\n",
       " [53,]   11    4\n",
       " [54,]   12    4\n",
       " [55,]   15    4\n",
       " [56,]   16    4\n",
       " [57,]   17    4\n",
       " [58,]   18    4\n",
       " [59,]   20    4\n",
       " [60,]   21    4\n",
       " [61,]    6    5\n",
       " [62,]    7    5\n",
       " [63,]    8    5\n",
       " [64,]   10    5\n",
       " [65,]   11    5\n",
       " [66,]   13    5\n",
       " [67,]   14    5\n",
       " [68,]   15    5\n",
       " [69,]   16    5\n",
       " [70,]   17    5\n",
       " [71,]   18    5\n",
       " [72,]   19    5\n",
       " [73,]   20    5\n",
       " [74,]   21    5\n",
       " [75,]    7    6\n",
       " [76,]    8    6\n",
       " [77,]    9    6\n",
       " [78,]   15    6\n",
       " [79,]   20    6\n",
       " [80,]   21    6\n",
       " [81,]    8    7\n",
       " [82,]    9    7\n",
       " [83,]   11    7\n",
       " [84,]   12    7\n",
       " [85,]   14    7\n",
       " [86,]   15    7\n",
       " [87,]   17    7\n",
       " [88,]   18    7\n",
       " [89,]   19    7\n",
       " [90,]   21    7\n",
       " [91,]    9    8\n",
       " [92,]   10    8\n",
       " [93,]   11    8\n",
       " [94,]   15    8\n",
       " [95,]   18    8\n",
       " [96,]   20    8\n",
       " [97,]   21    8\n",
       " [98,]   10    9\n",
       " [99,]   11    9\n",
       "[100,]   12    9\n",
       "[101,]   13    9\n",
       "[102,]   14    9\n",
       "[103,]   15    9\n",
       "[104,]   16    9\n",
       "[105,]   17    9\n",
       "[106,]   18    9\n",
       "[107,]   21    9\n",
       "[108,]   11   10\n",
       "[109,]   13   10\n",
       "[110,]   15   10\n",
       "[111,]   16   10\n",
       "[112,]   17   10\n",
       "[113,]   18   10\n",
       "[114,]   19   10\n",
       "[115,]   20   10\n",
       "[116,]   15   11\n",
       "[117,]   18   11\n",
       "[118,]   19   11\n",
       "[119,]   20   11\n",
       "[120,]   15   12\n",
       "[121,]   20   12\n",
       "[122,]   21   12\n",
       "[123,]   14   13\n",
       "[124,]   15   13\n",
       "[125,]   18   13\n",
       "[126,]   15   14\n",
       "[127,]   18   14\n",
       "[128,]   19   14\n",
       "[129,]   20   14\n",
       "[130,]   21   14\n",
       "[131,]   16   15\n",
       "[132,]   17   15\n",
       "[133,]   18   15\n",
       "[134,]   19   15\n",
       "[135,]   20   15\n",
       "[136,]   21   15\n",
       "[137,]   18   16\n",
       "[138,]   20   16\n",
       "[139,]   20   17\n",
       "[140,]   21   17\n",
       "[141,]   19   18\n",
       "[142,]   20   18\n",
       "[143,]   21   18\n",
       "[144,]   20   19\n",
       "[145,]   21   20"
      ]
     },
     "metadata": {},
     "output_type": "display_data"
    }
   ],
   "source": [
    "cat(\"\\n5. Вывести «описательную сводку» сети.\")\n",
    "net <- network(s_matrix, matrix.type = \"adjacency\", directed = FALSE)\n",
    "summary(net)"
   ]
  },
  {
   "cell_type": "code",
   "execution_count": 3,
   "id": "0fbc9187",
   "metadata": {},
   "outputs": [
    {
     "name": "stdout",
     "output_type": "stream",
     "text": [
      "\n",
      "6. Вычислить «пятичисловую сводку» сети:\n",
      "\t6.1. Размер сети:  21\n",
      "\t6.2. Плотность сети:  0.452381\n",
      "\t6.3. Число компонент в сети:  1\n",
      "\t6.4. Диаметр сети:  3\n",
      "\t6.5. Коэффициент кластеризации:  0.7345088"
     ]
    }
   ],
   "source": [
    "cat(\"\\n6. Вычислить «пятичисловую сводку» сети:\")\n",
    "cat(\"\\n\\t6.1. Размер сети: \", gorder(g))\n",
    "cat(\"\\n\\t6.2. Плотность сети: \", edge_density(g))\n",
    "cat(\"\\n\\t6.3. Число компонент в сети: \", components(g)$no)\n",
    "cat(\"\\n\\t6.4. Диаметр сети: \", diameter(g))\n",
    "cat(\"\\n\\t6.5. Коэффициент кластеризации: \", transitivity(g))"
   ]
  },
  {
   "cell_type": "code",
   "execution_count": 3,
   "id": "95af0daa",
   "metadata": {},
   "outputs": [
    {
     "name": "stdout",
     "output_type": "stream",
     "text": [
      "\n",
      "4. Отобразить сеть с помощью алгоритмов укладки Фрюхтермана–Рейнгольда и Камада–Каваи. Объяснить, в чём различие междуалгоритмами и укладками."
     ]
    },
    {
     "data": {
      "image/png": "[encoded data removed]",
      "text/plain": [
       "Plot with title \"Алгоритм укладки Фрюхтермана–Рейнгольда\""
      ]
     },
     "metadata": {
      "image/png": {
       "height": 420,
       "width": 420
      }
     },
     "output_type": "display_data"
    },
    {
     "data": {
      "image/png": "[encoded data removed]",
      "text/plain": [
       "Plot with title \"Алгоритм укладки Камада–Каваи\""
      ]
     },
     "metadata": {
      "image/png": {
       "height": 420,
       "width": 420
      }
     },
     "output_type": "display_data"
    }
   ],
   "source": [
    "cat(\"\\n4. Отобразить сеть с помощью алгоритмов укладки Фрюхтермана–Рейнгольда и Камада–Каваи. Объяснить, в чём различие междуалгоритмами и укладками.\")\n",
    "plot(g, \n",
    "     vertex.size=5, \n",
    "     vertex.color=\"plum\", \n",
    "     vertex.label.dist=1.5, \n",
    "     main=\"Алгоритм укладки Фрюхтермана–Рейнгольда\", \n",
    "     layout=layout.fruchterman.reingold\n",
    "    )\n",
    "plot(g, \n",
    "     vertex.size=5, \n",
    "     vertex.color=\"green\", \n",
    "     vertex.label.dist=1.5, \n",
    "     main=\"Алгоритм укладки Камада–Каваи\", \n",
    "     layout=layout_with_kk\n",
    "    ) "
   ]
  },
  {
   "cell_type": "code",
   "execution_count": 8,
   "id": "41e9db99",
   "metadata": {},
   "outputs": [
    {
     "name": "stdout",
     "output_type": "stream",
     "text": [
      "7. Вычислить среднюю степень узлов и дисперсию.\n",
      "\tСредняя степень узлов сети:  18.09524\n",
      "\t\t - для входящих:  9.047619\n",
      "\t\t - для исходящих:  9.047619\n",
      "\tДисперсия:  32.19048\n",
      "\t\t - для входящих:  16.54762\n",
      "\t\t - для исходящих:  29.74762"
     ]
    }
   ],
   "source": [
    "cat(\"7. Вычислить среднюю степень узлов и дисперсию.\")\n",
    "cat(\"\\n\\tСредняя степень узлов сети: \", mean(degree(g)))\n",
    "cat(\"\\n\\t\\t - для входящих: \", mean(degree(g, mode=\"in\")))\n",
    "cat(\"\\n\\t\\t - для исходящих: \", mean(degree(g, mode=\"out\")))\n",
    "cat(\"\\n\\tДисперсия: \", varience<-var(degree(g)))\n",
    "cat(\"\\n\\t\\t - для входящих: \", var(degree(g, mode=\"in\")))\n",
    "cat(\"\\n\\t\\t - для исходящих: \", var(degree(g, mode=\"out\")))"
   ]
  },
  {
   "cell_type": "markdown",
   "id": "3df3151a",
   "metadata": {},
   "source": [
    "13. Заполнить таблицу для различных мер престижа."
   ]
  },
  {
   "cell_type": "code",
   "execution_count": 33,
   "id": "5ec0f022",
   "metadata": {},
   "outputs": [
    {
     "data": {
      "text/html": [
       "<table class=\"dataframe\">\n",
       "<caption>A data.frame: 21 × 3</caption>\n",
       "<thead>\n",
       "\t<tr><th></th><th scope=col>n_i</th><th scope=col>PD_ni</th><th scope=col>PP_ni</th></tr>\n",
       "\t<tr><th></th><th scope=col>&lt;int&gt;</th><th scope=col>&lt;dbl&gt;</th><th scope=col>&lt;dbl&gt;</th></tr>\n",
       "</thead>\n",
       "<tbody>\n",
       "\t<tr><th scope=row>V1</th><td> 1</td><td>0.65</td><td>0.8333333</td></tr>\n",
       "\t<tr><th scope=row>V2</th><td> 2</td><td>0.90</td><td>0.9523810</td></tr>\n",
       "\t<tr><th scope=row>V3</th><td> 3</td><td>0.25</td><td>0.8695652</td></tr>\n",
       "\t<tr><th scope=row>V4</th><td> 4</td><td>0.40</td><td>0.7692308</td></tr>\n",
       "\t<tr><th scope=row>V5</th><td> 5</td><td>0.25</td><td>0.8333333</td></tr>\n",
       "\t<tr><th scope=row>V6</th><td> 6</td><td>0.50</td><td>0.6666667</td></tr>\n",
       "\t<tr><th scope=row>V7</th><td> 7</td><td>0.65</td><td>0.7692308</td></tr>\n",
       "\t<tr><th scope=row>V8</th><td> 8</td><td>0.50</td><td>0.7692308</td></tr>\n",
       "\t<tr><th scope=row>V9</th><td> 9</td><td>0.20</td><td>0.8333333</td></tr>\n",
       "\t<tr><th scope=row>V10</th><td>10</td><td>0.45</td><td>0.8000000</td></tr>\n",
       "\t<tr><th scope=row>V11</th><td>11</td><td>0.55</td><td>0.7407407</td></tr>\n",
       "\t<tr><th scope=row>V12</th><td>12</td><td>0.35</td><td>0.6060606</td></tr>\n",
       "\t<tr><th scope=row>V13</th><td>13</td><td>0.20</td><td>0.6250000</td></tr>\n",
       "\t<tr><th scope=row>V14</th><td>14</td><td>0.50</td><td>0.6896552</td></tr>\n",
       "\t<tr><th scope=row>V15</th><td>15</td><td>0.20</td><td>1.0000000</td></tr>\n",
       "\t<tr><th scope=row>V16</th><td>16</td><td>0.40</td><td>0.6451613</td></tr>\n",
       "\t<tr><th scope=row>V17</th><td>17</td><td>0.45</td><td>0.6896552</td></tr>\n",
       "\t<tr><th scope=row>V18</th><td>18</td><td>0.75</td><td>0.8695652</td></tr>\n",
       "\t<tr><th scope=row>V19</th><td>19</td><td>0.20</td><td>0.6896552</td></tr>\n",
       "\t<tr><th scope=row>V20</th><td>20</td><td>0.40</td><td>0.8695652</td></tr>\n",
       "\t<tr><th scope=row>V21</th><td>21</td><td>0.75</td><td>0.8000000</td></tr>\n",
       "</tbody>\n",
       "</table>\n"
      ],
      "text/latex": [
       "A data.frame: 21 × 3\n",
       "\\begin{tabular}{r|lll}\n",
       "  & n\\_i & PD\\_ni & PP\\_ni\\\\\n",
       "  & <int> & <dbl> & <dbl>\\\\\n",
       "\\hline\n",
       "\tV1 &  1 & 0.65 & 0.8333333\\\\\n",
       "\tV2 &  2 & 0.90 & 0.9523810\\\\\n",
       "\tV3 &  3 & 0.25 & 0.8695652\\\\\n",
       "\tV4 &  4 & 0.40 & 0.7692308\\\\\n",
       "\tV5 &  5 & 0.25 & 0.8333333\\\\\n",
       "\tV6 &  6 & 0.50 & 0.6666667\\\\\n",
       "\tV7 &  7 & 0.65 & 0.7692308\\\\\n",
       "\tV8 &  8 & 0.50 & 0.7692308\\\\\n",
       "\tV9 &  9 & 0.20 & 0.8333333\\\\\n",
       "\tV10 & 10 & 0.45 & 0.8000000\\\\\n",
       "\tV11 & 11 & 0.55 & 0.7407407\\\\\n",
       "\tV12 & 12 & 0.35 & 0.6060606\\\\\n",
       "\tV13 & 13 & 0.20 & 0.6250000\\\\\n",
       "\tV14 & 14 & 0.50 & 0.6896552\\\\\n",
       "\tV15 & 15 & 0.20 & 1.0000000\\\\\n",
       "\tV16 & 16 & 0.40 & 0.6451613\\\\\n",
       "\tV17 & 17 & 0.45 & 0.6896552\\\\\n",
       "\tV18 & 18 & 0.75 & 0.8695652\\\\\n",
       "\tV19 & 19 & 0.20 & 0.6896552\\\\\n",
       "\tV20 & 20 & 0.40 & 0.8695652\\\\\n",
       "\tV21 & 21 & 0.75 & 0.8000000\\\\\n",
       "\\end{tabular}\n"
      ],
      "text/markdown": [
       "\n",
       "A data.frame: 21 × 3\n",
       "\n",
       "| <!--/--> | n_i &lt;int&gt; | PD_ni &lt;dbl&gt; | PP_ni &lt;dbl&gt; |\n",
       "|---|---|---|---|\n",
       "| V1 |  1 | 0.65 | 0.8333333 |\n",
       "| V2 |  2 | 0.90 | 0.9523810 |\n",
       "| V3 |  3 | 0.25 | 0.8695652 |\n",
       "| V4 |  4 | 0.40 | 0.7692308 |\n",
       "| V5 |  5 | 0.25 | 0.8333333 |\n",
       "| V6 |  6 | 0.50 | 0.6666667 |\n",
       "| V7 |  7 | 0.65 | 0.7692308 |\n",
       "| V8 |  8 | 0.50 | 0.7692308 |\n",
       "| V9 |  9 | 0.20 | 0.8333333 |\n",
       "| V10 | 10 | 0.45 | 0.8000000 |\n",
       "| V11 | 11 | 0.55 | 0.7407407 |\n",
       "| V12 | 12 | 0.35 | 0.6060606 |\n",
       "| V13 | 13 | 0.20 | 0.6250000 |\n",
       "| V14 | 14 | 0.50 | 0.6896552 |\n",
       "| V15 | 15 | 0.20 | 1.0000000 |\n",
       "| V16 | 16 | 0.40 | 0.6451613 |\n",
       "| V17 | 17 | 0.45 | 0.6896552 |\n",
       "| V18 | 18 | 0.75 | 0.8695652 |\n",
       "| V19 | 19 | 0.20 | 0.6896552 |\n",
       "| V20 | 20 | 0.40 | 0.8695652 |\n",
       "| V21 | 21 | 0.75 | 0.8000000 |\n",
       "\n"
      ],
      "text/plain": [
       "    n_i PD_ni PP_ni    \n",
       "V1   1  0.65  0.8333333\n",
       "V2   2  0.90  0.9523810\n",
       "V3   3  0.25  0.8695652\n",
       "V4   4  0.40  0.7692308\n",
       "V5   5  0.25  0.8333333\n",
       "V6   6  0.50  0.6666667\n",
       "V7   7  0.65  0.7692308\n",
       "V8   8  0.50  0.7692308\n",
       "V9   9  0.20  0.8333333\n",
       "V10 10  0.45  0.8000000\n",
       "V11 11  0.55  0.7407407\n",
       "V12 12  0.35  0.6060606\n",
       "V13 13  0.20  0.6250000\n",
       "V14 14  0.50  0.6896552\n",
       "V15 15  0.20  1.0000000\n",
       "V16 16  0.40  0.6451613\n",
       "V17 17  0.45  0.6896552\n",
       "V18 18  0.75  0.8695652\n",
       "V19 19  0.20  0.6896552\n",
       "V20 20  0.40  0.8695652\n",
       "V21 21  0.75  0.8000000"
      ]
     },
     "metadata": {},
     "output_type": "display_data"
    }
   ],
   "source": [
    "x_plus_i <- degree(g, mode=\"in\", normalized=\"true\")\n",
    "g_order <- gorder(g)\n",
    "\n",
    "i <- 1\n",
    "l <- list()\n",
    "for(vertex in V(g)) {\n",
    "    num_Ii <- length(subcomponent(g, vertex)) - 1\n",
    "    d_nj_ni <- distances(g, v=vertex)\n",
    "    l[[i]] <- (num_Ii/(g_order - 1))/(sum(d_nj_ni/num_Ii))\n",
    "    i <- i + 1\n",
    "}\n",
    "res <- unlist(l)\n",
    "\n",
    "\n",
    "data.frame(\n",
    "    n_i=1:g_order,\n",
    "    PD_ni=x_plus_i,\n",
    "    PP_ni=res\n",
    ")"
   ]
  },
  {
   "cell_type": "markdown",
   "id": "e2cd798c",
   "metadata": {},
   "source": [
    "Выводы: престиж по степени показывает, как много \"соседей\" имеет текущая вершина, что можно наблюдать в таблице. Престиж по близости показывает, как все остальные вершины связаны с текущей. Так самую сильную связь имеет вершина V15."
   ]
  },
  {
   "cell_type": "markdown",
   "id": "43722dcb",
   "metadata": {},
   "source": [
    "## Выводы\n",
    "Работа позволила познакомиться с библиотекой igraph, которая, как оказалось, имеет большой спектр возможностей. Интересно было визуализировать сети с помощью разных алгоритмов и наблюдать, как по рпзному можно разложить одну и ту же сеть. Сама библиотека igraph содержит много встроенных функций, которые сильно упростили работу, изавив от ручных вычислений. Однако не все необходимые функции удалось найти.\n",
    "\n",
    "В ходе работы были использованы две сети - florentine business и krackhardt advice. По ним были получены следующие результаты:\n",
    "* 5 флорентийских компаний не сотрудничали ни с кем.\n",
    "* Компания Medici имеет больше всего связей с другими компаниями.\n",
    "* Если Medici и Pazzi не сотрудничали бы друг с другом, то Barbadori и Pazzi не имели бы возможности сотрудничества.\n",
    "\n",
    "Также в процессе выполнения лабораторной работы были обретены навыки аккуратного оформления информации для соответсвующего формата (оформление теоретической части).\n",
    "В целом, был получен необходимый опыт работы с математическими пакетами для моделирования, визуализации и анализа социальных сетей. "
   ]
  }
 ],
 "metadata": {
  "kernelspec": {
   "display_name": "R",
   "language": "R",
   "name": "ir"
  },
  "language_info": {
   "codemirror_mode": "r",
   "file_extension": ".r",
   "mimetype": "text/x-r-source",
   "name": "R",
   "pygments_lexer": "r",
   "version": "4.2.1"
  }
 },
 "nbformat": 4,
 "nbformat_minor": 5
}
