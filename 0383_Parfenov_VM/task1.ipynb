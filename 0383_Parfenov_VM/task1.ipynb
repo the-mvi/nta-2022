{
 "cells": [
  {
   "cell_type": "markdown",
   "metadata": {},
   "source": [
    "# Практическая работа №1:  Основы анализа и моделирования социальных сетей\n",
    "Выполнил студент гр. 0383 Парфенов Владислав. Вариант №9"
   ]
  },
  {
   "cell_type": "markdown",
   "metadata": {},
   "source": [
    "## Цель работы\n",
    "Целью данной практической работы является получение навыков работы с языком R, моделирования, визуализацией и анализированием сети."
   ]
  },
  {
   "cell_type": "markdown",
   "metadata": {},
   "source": [
    "## Основные теоретические положения\n",
    "**Социоматрица** - матрица $X$ размерности $g \\times g$, описывающая смежные узлы в сети.\n",
    "\n",
    "**Размер сети** - количество акторов сети.\n",
    "\n",
    "**Плотность сети** - доля имеющихся связей по отношению к макисмально возможному количеству связей.\n",
    "\n",
    "Для ориентированных сетей: $\\Delta = \\displaystyle{\\frac{L}{A_g^2}}$\n",
    "\n",
    "Для неориентированных сетей: $\\Delta = \\displaystyle{\\frac{L}{C^2_g}}$\n",
    "\n",
    "**Компонента** - подгруппа, в котором все акторы связаны друг с другом прямо или косвенно.\n",
    "\n",
    "**Диаметр полной сети** - наибольшая длина любого из кратчайших путей между всеми парами узлов.\n",
    "\n",
    "**Коэффициент кластеризации** -  мера степени, в которой узлы графа стремятся сгруппироваться вместе.\n",
    "\n",
    "**Степень узла** - число рёбер, инцидентных узлу $n_i$.\n",
    "\n",
    "Средняя степень узлов: $\\overline{d} = \\displaystyle{\\frac{1}{g}} \\sum^g_{i = 1} d(n_i)$\n",
    "\n",
    "Дисперсия степени узлов: $S^2_D = \\displaystyle{\\frac{1}{g}} \\sum^g_{i = 1} \\left(d(n_i) - \\overline{d}\\right)^2$\n",
    "\n",
    "**Центральность по степени** - степень каждого актора.\n",
    "\n",
    "Нормированная центральность по степени: $C'_D (n_i) = \\displaystyle{\\frac{d(n_i)}{g-1}}$\n",
    "\n",
    "**Центральность по близости** - более важными узлами считаются узлы, наиболее близкие к остальным узлам сети.\n",
    "\n",
    "Нормированная центральность по близости: $C'_C (n_i) = \\displaystyle{\\frac{g - 1}{\\sum^g_{j = 1} d(n_i, n_j)}}$\n",
    "\n",
    "**Центральность по последовательности** -- характеризует, насколько важную роль данный узел играет на пути \"между\" парами других узлов сети, в том смысле, что пути между другими узлами должны проходить через данный узел.\n",
    "\n",
    "Нормированная центральность по посредничеству: $C'_B = \\displaystyle{\\frac{C_b (n_i)}{C_{g-1}^2}}$\n",
    "\n",
    "**Центральность по информации** - обобщение понятия центральности по посредничеству, в котором все пути, между акторами с весами зависят от их длин, учитываются при подсчёте промежуточности.\n",
    "\n",
    "**Централизация по степени:** $C_D = \\displaystyle{\\frac{\\sum_{i = 1}^g (C'_D (n^*) - C'_D (n_i))}{(g-1)(g-2)}}$\n",
    "\n",
    "**Централизация по близости**: $C_C = \\displaystyle{\\frac{\\sum_{i = 1}^g (C'_C (n^*) - C'_C (n_i))}{(g-1)(g-2)/(2g - 3)}}$\n",
    "\n",
    "**Централизация по посредничеству**: $C_B = \\displaystyle{\\frac{\\sum_{i = 1}^g (C'_B (n^*) - C'_B (n_i))}{(g-1)}}$\n",
    "\n",
    "**Централизация по информации** как дисперсия индексов инф. актора: $S_I^2 = \\displaystyle{\\frac{1}{g}} \\sum^g_{i = 1} \\left( C'_I (n_i) - \\overline{C_I} \\right) ^2$\n",
    "\n",
    "**Точка сочленения** - узел, при удалении которого увеличивается число компонент связности.\n",
    "\n",
    "**Мост** - ребро, при удалении которого одна компонента разделяется на 2.\n",
    "\n",
    "**Престиж** - мера, характеризующая актора с большим количеством входящих связей.\n",
    "\n",
    "**Престиж по степени** - входящая степень каждого узла: $P_D (n_i) = d_I (n_i) = x_{+i}$\n",
    "\n",
    "Нормированный престиж по степени: $P'_D (n_i) = \\displaystyle{\\frac{x_{+i}}{g - 1}}$\n",
    "\n",
    "**Престиж по близости** - определяет, насколько все акторы близки к заданному по расстоянию до него.\n",
    "\n",
    "$P_p (n_i) = \\displaystyle{\\frac{\\# I_i / (g-1)}{\\sum_{j: n_j \\in I_i} \\left( d(n_j, n_i) / \\# I_i\\right)}}$"
   ]
  },
  {
   "cell_type": "markdown",
   "metadata": {},
   "source": [
    "## Постановка задачи\n",
    "С помощью математических пакетов и соответствующих библиотек провести анализ заданных социальных сетей вычислить описательные характеристики. Полученные результаты содержательно проинтерпретировать."
   ]
  },
  {
   "cell_type": "markdown",
   "metadata": {},
   "source": [
    "## Выполнение работы\n",
    "Первым делом необходимо установить igraph."
   ]
  },
  {
   "cell_type": "code",
   "execution_count": 14,
   "metadata": {},
   "outputs": [
    {
     "name": "stderr",
     "output_type": "stream",
     "text": [
      "Warning message:\n",
      "\"пакет ''igraph'' сейчас используется и не будет установлен\"\n",
      "Устанавливаю пакет в 'C:/Users/Владислав/AppData/Local/R/win-library/4.2'\n",
      "(потому что 'lib' не определено)\n",
      "\n"
     ]
    },
    {
     "name": "stdout",
     "output_type": "stream",
     "text": [
      "пакет 'statnet' успешно распакован, MD5-суммы проверены\n",
      "\n",
      "Скачанные бинарные пакеты находятся в\n",
      "\tC:\\Users\\Владислав\\AppData\\Local\\Temp\\RtmpCIFEmH\\downloaded_packages\n"
     ]
    },
    {
     "name": "stderr",
     "output_type": "stream",
     "text": [
      "Загрузка требуемого пакета: tergm\n",
      "\n",
      "Загрузка требуемого пакета: ergm\n",
      "\n",
      "Загрузка требуемого пакета: network\n",
      "\n",
      "\n",
      "'network' 1.18.0 (2022-10-05), part of the Statnet Project\n",
      "* 'news(package=\"network\")' for changes since last version\n",
      "* 'citation(\"network\")' for citation information\n",
      "* 'https://statnet.org' for help, support, and other information\n",
      "\n",
      "\n",
      "\n",
      "Присоединяю пакет: 'network'\n",
      "\n",
      "\n",
      "Следующие объекты скрыты от 'package:igraph':\n",
      "\n",
      "    %c%, %s%, add.edges, add.vertices, delete.edges, delete.vertices,\n",
      "    get.edge.attribute, get.edges, get.vertex.attribute, is.bipartite,\n",
      "    is.directed, list.edge.attributes, list.vertex.attributes,\n",
      "    set.edge.attribute, set.vertex.attribute\n",
      "\n",
      "\n",
      "\n",
      "'ergm' 4.2.3 (2022-10-02), part of the Statnet Project\n",
      "* 'news(package=\"ergm\")' for changes since last version\n",
      "* 'citation(\"ergm\")' for citation information\n",
      "* 'https://statnet.org' for help, support, and other information\n",
      "\n",
      "\n",
      "'ergm' 4 is a major update that introduces some backwards-incompatible\n",
      "changes. Please type 'news(package=\"ergm\")' for a list of major\n",
      "changes.\n",
      "\n",
      "\n",
      "Загрузка требуемого пакета: networkDynamic\n",
      "\n",
      "\n",
      "'networkDynamic' 0.11.2 (2022-05-04), part of the Statnet Project\n",
      "* 'news(package=\"networkDynamic\")' for changes since last version\n",
      "* 'citation(\"networkDynamic\")' for citation information\n",
      "* 'https://statnet.org' for help, support, and other information\n",
      "\n",
      "\n",
      "Registered S3 method overwritten by 'tergm':\n",
      "  method                   from\n",
      "  simulate_formula.network ergm\n",
      "\n",
      "\n",
      "'tergm' 4.1.0 (2022-06-22), part of the Statnet Project\n",
      "* 'news(package=\"tergm\")' for changes since last version\n",
      "* 'citation(\"tergm\")' for citation information\n",
      "* 'https://statnet.org' for help, support, and other information\n",
      "\n",
      "\n",
      "\n",
      "Присоединяю пакет: 'tergm'\n",
      "\n",
      "\n",
      "Следующий объект скрыт от 'package:ergm':\n",
      "\n",
      "    snctrl\n",
      "\n",
      "\n",
      "Загрузка требуемого пакета: ergm.count\n",
      "\n",
      "\n",
      "'ergm.count' 4.1.1 (2022-05-24), part of the Statnet Project\n",
      "* 'news(package=\"ergm.count\")' for changes since last version\n",
      "* 'citation(\"ergm.count\")' for citation information\n",
      "* 'https://statnet.org' for help, support, and other information\n",
      "\n",
      "\n",
      "Загрузка требуемого пакета: sna\n",
      "\n",
      "Загрузка требуемого пакета: statnet.common\n",
      "\n",
      "\n",
      "Присоединяю пакет: 'statnet.common'\n",
      "\n",
      "\n",
      "Следующий объект скрыт от 'package:ergm':\n",
      "\n",
      "    snctrl\n",
      "\n",
      "\n",
      "Следующие объекты скрыты от 'package:base':\n",
      "\n",
      "    attr, order\n",
      "\n",
      "\n",
      "sna: Tools for Social Network Analysis\n",
      "Version 2.7 created on 2022-05-09.\n",
      "copyright (c) 2005, Carter T. Butts, University of California-Irvine\n",
      " For citation information, type citation(\"sna\").\n",
      " Type help(package=\"sna\") to get started.\n",
      "\n",
      "\n",
      "\n",
      "Присоединяю пакет: 'sna'\n",
      "\n",
      "\n",
      "Следующие объекты скрыты от 'package:igraph':\n",
      "\n",
      "    betweenness, bonpow, closeness, components, degree, dyad.census,\n",
      "    evcent, hierarchy, is.connected, neighborhood, triad.census\n",
      "\n",
      "\n",
      "Загрузка требуемого пакета: tsna\n",
      "\n",
      "\n",
      "'statnet' 2019.6 (2019-06-13), part of the Statnet Project\n",
      "* 'news(package=\"statnet\")' for changes since last version\n",
      "* 'citation(\"statnet\")' for citation information\n",
      "* 'https://statnet.org' for help, support, and other information\n",
      "\n",
      "\n"
     ]
    }
   ],
   "source": [
    "install.packages(\"igraph\")\n",
    "install.packages(\"statnet\")\n",
    "library(igraph)\n",
    "library(statnet)"
   ]
  },
  {
   "cell_type": "markdown",
   "metadata": {},
   "source": [
    "1. Из файла florentine_business.csv (для нечётных вариантов)\n",
    "и файла florentine_marital.csv (для чётных вариантов) извлечь социоматрицу с помощью соответствующих функций. Вывести полученную социоматрицу на экран."
   ]
  },
  {
   "cell_type": "code",
   "execution_count": 4,
   "metadata": {},
   "outputs": [
    {
     "data": {
      "text/html": [
       "<table class=\"dataframe\">\n",
       "<caption>A matrix: 16 × 16 of type int</caption>\n",
       "<thead>\n",
       "\t<tr><th scope=col>Acciaiuoli</th><th scope=col>Albizzi</th><th scope=col>Barbadori</th><th scope=col>Bischeri</th><th scope=col>Castellani</th><th scope=col>Ginori</th><th scope=col>Guadagni</th><th scope=col>Lamberteschi</th><th scope=col>Medici</th><th scope=col>Pazzi</th><th scope=col>Peruzzi</th><th scope=col>Pucci</th><th scope=col>Ridolfi</th><th scope=col>Salviati</th><th scope=col>Strozzi</th><th scope=col>Tornabuoni</th></tr>\n",
       "</thead>\n",
       "<tbody>\n",
       "\t<tr><td>0</td><td>0</td><td>0</td><td>0</td><td>0</td><td>0</td><td>0</td><td>0</td><td>0</td><td>0</td><td>0</td><td>0</td><td>0</td><td>0</td><td>0</td><td>0</td></tr>\n",
       "\t<tr><td>0</td><td>0</td><td>0</td><td>0</td><td>0</td><td>0</td><td>0</td><td>0</td><td>0</td><td>0</td><td>0</td><td>0</td><td>0</td><td>0</td><td>0</td><td>0</td></tr>\n",
       "\t<tr><td>0</td><td>0</td><td>0</td><td>0</td><td>1</td><td>1</td><td>0</td><td>0</td><td>1</td><td>0</td><td>1</td><td>0</td><td>0</td><td>0</td><td>0</td><td>0</td></tr>\n",
       "\t<tr><td>0</td><td>0</td><td>0</td><td>0</td><td>0</td><td>0</td><td>1</td><td>1</td><td>0</td><td>0</td><td>1</td><td>0</td><td>0</td><td>0</td><td>0</td><td>0</td></tr>\n",
       "\t<tr><td>0</td><td>0</td><td>1</td><td>0</td><td>0</td><td>0</td><td>0</td><td>1</td><td>0</td><td>0</td><td>1</td><td>0</td><td>0</td><td>0</td><td>0</td><td>0</td></tr>\n",
       "\t<tr><td>0</td><td>0</td><td>1</td><td>0</td><td>0</td><td>0</td><td>0</td><td>0</td><td>1</td><td>0</td><td>0</td><td>0</td><td>0</td><td>0</td><td>0</td><td>0</td></tr>\n",
       "\t<tr><td>0</td><td>0</td><td>0</td><td>1</td><td>0</td><td>0</td><td>0</td><td>1</td><td>0</td><td>0</td><td>0</td><td>0</td><td>0</td><td>0</td><td>0</td><td>0</td></tr>\n",
       "\t<tr><td>0</td><td>0</td><td>0</td><td>1</td><td>1</td><td>0</td><td>1</td><td>0</td><td>0</td><td>0</td><td>1</td><td>0</td><td>0</td><td>0</td><td>0</td><td>0</td></tr>\n",
       "\t<tr><td>0</td><td>0</td><td>1</td><td>0</td><td>0</td><td>1</td><td>0</td><td>0</td><td>0</td><td>1</td><td>0</td><td>0</td><td>0</td><td>1</td><td>0</td><td>1</td></tr>\n",
       "\t<tr><td>0</td><td>0</td><td>0</td><td>0</td><td>0</td><td>0</td><td>0</td><td>0</td><td>1</td><td>0</td><td>0</td><td>0</td><td>0</td><td>0</td><td>0</td><td>0</td></tr>\n",
       "\t<tr><td>0</td><td>0</td><td>1</td><td>1</td><td>1</td><td>0</td><td>0</td><td>1</td><td>0</td><td>0</td><td>0</td><td>0</td><td>0</td><td>0</td><td>0</td><td>0</td></tr>\n",
       "\t<tr><td>0</td><td>0</td><td>0</td><td>0</td><td>0</td><td>0</td><td>0</td><td>0</td><td>0</td><td>0</td><td>0</td><td>0</td><td>0</td><td>0</td><td>0</td><td>0</td></tr>\n",
       "\t<tr><td>0</td><td>0</td><td>0</td><td>0</td><td>0</td><td>0</td><td>0</td><td>0</td><td>0</td><td>0</td><td>0</td><td>0</td><td>0</td><td>0</td><td>0</td><td>0</td></tr>\n",
       "\t<tr><td>0</td><td>0</td><td>0</td><td>0</td><td>0</td><td>0</td><td>0</td><td>0</td><td>1</td><td>0</td><td>0</td><td>0</td><td>0</td><td>0</td><td>0</td><td>0</td></tr>\n",
       "\t<tr><td>0</td><td>0</td><td>0</td><td>0</td><td>0</td><td>0</td><td>0</td><td>0</td><td>0</td><td>0</td><td>0</td><td>0</td><td>0</td><td>0</td><td>0</td><td>0</td></tr>\n",
       "\t<tr><td>0</td><td>0</td><td>0</td><td>0</td><td>0</td><td>0</td><td>0</td><td>0</td><td>1</td><td>0</td><td>0</td><td>0</td><td>0</td><td>0</td><td>0</td><td>0</td></tr>\n",
       "</tbody>\n",
       "</table>\n"
      ],
      "text/latex": [
       "A matrix: 16 × 16 of type int\n",
       "\\begin{tabular}{llllllllllllllll}\n",
       " Acciaiuoli & Albizzi & Barbadori & Bischeri & Castellani & Ginori & Guadagni & Lamberteschi & Medici & Pazzi & Peruzzi & Pucci & Ridolfi & Salviati & Strozzi & Tornabuoni\\\\\n",
       "\\hline\n",
       "\t 0 & 0 & 0 & 0 & 0 & 0 & 0 & 0 & 0 & 0 & 0 & 0 & 0 & 0 & 0 & 0\\\\\n",
       "\t 0 & 0 & 0 & 0 & 0 & 0 & 0 & 0 & 0 & 0 & 0 & 0 & 0 & 0 & 0 & 0\\\\\n",
       "\t 0 & 0 & 0 & 0 & 1 & 1 & 0 & 0 & 1 & 0 & 1 & 0 & 0 & 0 & 0 & 0\\\\\n",
       "\t 0 & 0 & 0 & 0 & 0 & 0 & 1 & 1 & 0 & 0 & 1 & 0 & 0 & 0 & 0 & 0\\\\\n",
       "\t 0 & 0 & 1 & 0 & 0 & 0 & 0 & 1 & 0 & 0 & 1 & 0 & 0 & 0 & 0 & 0\\\\\n",
       "\t 0 & 0 & 1 & 0 & 0 & 0 & 0 & 0 & 1 & 0 & 0 & 0 & 0 & 0 & 0 & 0\\\\\n",
       "\t 0 & 0 & 0 & 1 & 0 & 0 & 0 & 1 & 0 & 0 & 0 & 0 & 0 & 0 & 0 & 0\\\\\n",
       "\t 0 & 0 & 0 & 1 & 1 & 0 & 1 & 0 & 0 & 0 & 1 & 0 & 0 & 0 & 0 & 0\\\\\n",
       "\t 0 & 0 & 1 & 0 & 0 & 1 & 0 & 0 & 0 & 1 & 0 & 0 & 0 & 1 & 0 & 1\\\\\n",
       "\t 0 & 0 & 0 & 0 & 0 & 0 & 0 & 0 & 1 & 0 & 0 & 0 & 0 & 0 & 0 & 0\\\\\n",
       "\t 0 & 0 & 1 & 1 & 1 & 0 & 0 & 1 & 0 & 0 & 0 & 0 & 0 & 0 & 0 & 0\\\\\n",
       "\t 0 & 0 & 0 & 0 & 0 & 0 & 0 & 0 & 0 & 0 & 0 & 0 & 0 & 0 & 0 & 0\\\\\n",
       "\t 0 & 0 & 0 & 0 & 0 & 0 & 0 & 0 & 0 & 0 & 0 & 0 & 0 & 0 & 0 & 0\\\\\n",
       "\t 0 & 0 & 0 & 0 & 0 & 0 & 0 & 0 & 1 & 0 & 0 & 0 & 0 & 0 & 0 & 0\\\\\n",
       "\t 0 & 0 & 0 & 0 & 0 & 0 & 0 & 0 & 0 & 0 & 0 & 0 & 0 & 0 & 0 & 0\\\\\n",
       "\t 0 & 0 & 0 & 0 & 0 & 0 & 0 & 0 & 1 & 0 & 0 & 0 & 0 & 0 & 0 & 0\\\\\n",
       "\\end{tabular}\n"
      ],
      "text/markdown": [
       "\n",
       "A matrix: 16 × 16 of type int\n",
       "\n",
       "| Acciaiuoli | Albizzi | Barbadori | Bischeri | Castellani | Ginori | Guadagni | Lamberteschi | Medici | Pazzi | Peruzzi | Pucci | Ridolfi | Salviati | Strozzi | Tornabuoni |\n",
       "|---|---|---|---|---|---|---|---|---|---|---|---|---|---|---|---|\n",
       "| 0 | 0 | 0 | 0 | 0 | 0 | 0 | 0 | 0 | 0 | 0 | 0 | 0 | 0 | 0 | 0 |\n",
       "| 0 | 0 | 0 | 0 | 0 | 0 | 0 | 0 | 0 | 0 | 0 | 0 | 0 | 0 | 0 | 0 |\n",
       "| 0 | 0 | 0 | 0 | 1 | 1 | 0 | 0 | 1 | 0 | 1 | 0 | 0 | 0 | 0 | 0 |\n",
       "| 0 | 0 | 0 | 0 | 0 | 0 | 1 | 1 | 0 | 0 | 1 | 0 | 0 | 0 | 0 | 0 |\n",
       "| 0 | 0 | 1 | 0 | 0 | 0 | 0 | 1 | 0 | 0 | 1 | 0 | 0 | 0 | 0 | 0 |\n",
       "| 0 | 0 | 1 | 0 | 0 | 0 | 0 | 0 | 1 | 0 | 0 | 0 | 0 | 0 | 0 | 0 |\n",
       "| 0 | 0 | 0 | 1 | 0 | 0 | 0 | 1 | 0 | 0 | 0 | 0 | 0 | 0 | 0 | 0 |\n",
       "| 0 | 0 | 0 | 1 | 1 | 0 | 1 | 0 | 0 | 0 | 1 | 0 | 0 | 0 | 0 | 0 |\n",
       "| 0 | 0 | 1 | 0 | 0 | 1 | 0 | 0 | 0 | 1 | 0 | 0 | 0 | 1 | 0 | 1 |\n",
       "| 0 | 0 | 0 | 0 | 0 | 0 | 0 | 0 | 1 | 0 | 0 | 0 | 0 | 0 | 0 | 0 |\n",
       "| 0 | 0 | 1 | 1 | 1 | 0 | 0 | 1 | 0 | 0 | 0 | 0 | 0 | 0 | 0 | 0 |\n",
       "| 0 | 0 | 0 | 0 | 0 | 0 | 0 | 0 | 0 | 0 | 0 | 0 | 0 | 0 | 0 | 0 |\n",
       "| 0 | 0 | 0 | 0 | 0 | 0 | 0 | 0 | 0 | 0 | 0 | 0 | 0 | 0 | 0 | 0 |\n",
       "| 0 | 0 | 0 | 0 | 0 | 0 | 0 | 0 | 1 | 0 | 0 | 0 | 0 | 0 | 0 | 0 |\n",
       "| 0 | 0 | 0 | 0 | 0 | 0 | 0 | 0 | 0 | 0 | 0 | 0 | 0 | 0 | 0 | 0 |\n",
       "| 0 | 0 | 0 | 0 | 0 | 0 | 0 | 0 | 1 | 0 | 0 | 0 | 0 | 0 | 0 | 0 |\n",
       "\n"
      ],
      "text/plain": [
       "      Acciaiuoli Albizzi Barbadori Bischeri Castellani Ginori Guadagni\n",
       " [1,] 0          0       0         0        0          0      0       \n",
       " [2,] 0          0       0         0        0          0      0       \n",
       " [3,] 0          0       0         0        1          1      0       \n",
       " [4,] 0          0       0         0        0          0      1       \n",
       " [5,] 0          0       1         0        0          0      0       \n",
       " [6,] 0          0       1         0        0          0      0       \n",
       " [7,] 0          0       0         1        0          0      0       \n",
       " [8,] 0          0       0         1        1          0      1       \n",
       " [9,] 0          0       1         0        0          1      0       \n",
       "[10,] 0          0       0         0        0          0      0       \n",
       "[11,] 0          0       1         1        1          0      0       \n",
       "[12,] 0          0       0         0        0          0      0       \n",
       "[13,] 0          0       0         0        0          0      0       \n",
       "[14,] 0          0       0         0        0          0      0       \n",
       "[15,] 0          0       0         0        0          0      0       \n",
       "[16,] 0          0       0         0        0          0      0       \n",
       "      Lamberteschi Medici Pazzi Peruzzi Pucci Ridolfi Salviati Strozzi\n",
       " [1,] 0            0      0     0       0     0       0        0      \n",
       " [2,] 0            0      0     0       0     0       0        0      \n",
       " [3,] 0            1      0     1       0     0       0        0      \n",
       " [4,] 1            0      0     1       0     0       0        0      \n",
       " [5,] 1            0      0     1       0     0       0        0      \n",
       " [6,] 0            1      0     0       0     0       0        0      \n",
       " [7,] 1            0      0     0       0     0       0        0      \n",
       " [8,] 0            0      0     1       0     0       0        0      \n",
       " [9,] 0            0      1     0       0     0       1        0      \n",
       "[10,] 0            1      0     0       0     0       0        0      \n",
       "[11,] 1            0      0     0       0     0       0        0      \n",
       "[12,] 0            0      0     0       0     0       0        0      \n",
       "[13,] 0            0      0     0       0     0       0        0      \n",
       "[14,] 0            1      0     0       0     0       0        0      \n",
       "[15,] 0            0      0     0       0     0       0        0      \n",
       "[16,] 0            1      0     0       0     0       0        0      \n",
       "      Tornabuoni\n",
       " [1,] 0         \n",
       " [2,] 0         \n",
       " [3,] 0         \n",
       " [4,] 0         \n",
       " [5,] 0         \n",
       " [6,] 0         \n",
       " [7,] 0         \n",
       " [8,] 0         \n",
       " [9,] 1         \n",
       "[10,] 0         \n",
       "[11,] 0         \n",
       "[12,] 0         \n",
       "[13,] 0         \n",
       "[14,] 0         \n",
       "[15,] 0         \n",
       "[16,] 0         "
      ]
     },
     "metadata": {},
     "output_type": "display_data"
    }
   ],
   "source": [
    "data <- read.table(\"florentine_business.csv\", header=TRUE, sep = ',')\n",
    "\n",
    "\n",
    "socio.matrix <- as.matrix(data)\n",
    "socio.matrix"
   ]
  },
  {
   "cell_type": "markdown",
   "metadata": {},
   "source": [
    "2. Преобразовать социоматрицу в список рёбер. Вывести первые 5 эле-\n",
    "ментов списка рёбер."
   ]
  },
  {
   "cell_type": "code",
   "execution_count": 5,
   "metadata": {},
   "outputs": [
    {
     "name": "stdout",
     "output_type": "stream",
     "text": [
      "       from         to\n",
      "1 Barbadori Castellani\n",
      "2 Barbadori     Ginori\n",
      "3 Barbadori     Medici\n",
      "4 Barbadori    Peruzzi\n",
      "5  Bischeri   Guadagni\n"
     ]
    }
   ],
   "source": [
    "edges <- get.edgelist(graph.adjacency(socio.matrix))\n",
    "edges <- as_data_frame(simplify(graph_from_data_frame(edges, directed=FALSE)))\n",
    "print(edges[c(1:5), c(1:2)])"
   ]
  },
  {
   "cell_type": "markdown",
   "metadata": {},
   "source": [
    "3. Присвоить имена столбцам и строкам социоматрицы (имена – пер-\n",
    "вая строка в csv-файле после комментариев)."
   ]
  },
  {
   "cell_type": "code",
   "execution_count": 25,
   "metadata": {},
   "outputs": [
    {
     "data": {
      "text/html": [
       "<table class=\"dataframe\">\n",
       "<caption>A matrix: 16 × 16 of type int</caption>\n",
       "<thead>\n",
       "\t<tr><th></th><th scope=col>Acciaiuoli</th><th scope=col>Albizzi</th><th scope=col>Barbadori</th><th scope=col>Bischeri</th><th scope=col>Castellani</th><th scope=col>Ginori</th><th scope=col>Guadagni</th><th scope=col>Lamberteschi</th><th scope=col>Medici</th><th scope=col>Pazzi</th><th scope=col>Peruzzi</th><th scope=col>Pucci</th><th scope=col>Ridolfi</th><th scope=col>Salviati</th><th scope=col>Strozzi</th><th scope=col>Tornabuoni</th></tr>\n",
       "</thead>\n",
       "<tbody>\n",
       "\t<tr><th scope=row>Acciaiuoli</th><td>0</td><td>0</td><td>0</td><td>0</td><td>0</td><td>0</td><td>0</td><td>0</td><td>0</td><td>0</td><td>0</td><td>0</td><td>0</td><td>0</td><td>0</td><td>0</td></tr>\n",
       "\t<tr><th scope=row>Albizzi</th><td>0</td><td>0</td><td>0</td><td>0</td><td>0</td><td>0</td><td>0</td><td>0</td><td>0</td><td>0</td><td>0</td><td>0</td><td>0</td><td>0</td><td>0</td><td>0</td></tr>\n",
       "\t<tr><th scope=row>Barbadori</th><td>0</td><td>0</td><td>0</td><td>0</td><td>1</td><td>1</td><td>0</td><td>0</td><td>1</td><td>0</td><td>1</td><td>0</td><td>0</td><td>0</td><td>0</td><td>0</td></tr>\n",
       "\t<tr><th scope=row>Bischeri</th><td>0</td><td>0</td><td>0</td><td>0</td><td>0</td><td>0</td><td>1</td><td>1</td><td>0</td><td>0</td><td>1</td><td>0</td><td>0</td><td>0</td><td>0</td><td>0</td></tr>\n",
       "\t<tr><th scope=row>Castellani</th><td>0</td><td>0</td><td>1</td><td>0</td><td>0</td><td>0</td><td>0</td><td>1</td><td>0</td><td>0</td><td>1</td><td>0</td><td>0</td><td>0</td><td>0</td><td>0</td></tr>\n",
       "\t<tr><th scope=row>Ginori</th><td>0</td><td>0</td><td>1</td><td>0</td><td>0</td><td>0</td><td>0</td><td>0</td><td>1</td><td>0</td><td>0</td><td>0</td><td>0</td><td>0</td><td>0</td><td>0</td></tr>\n",
       "\t<tr><th scope=row>Guadagni</th><td>0</td><td>0</td><td>0</td><td>1</td><td>0</td><td>0</td><td>0</td><td>1</td><td>0</td><td>0</td><td>0</td><td>0</td><td>0</td><td>0</td><td>0</td><td>0</td></tr>\n",
       "\t<tr><th scope=row>Lamberteschi</th><td>0</td><td>0</td><td>0</td><td>1</td><td>1</td><td>0</td><td>1</td><td>0</td><td>0</td><td>0</td><td>1</td><td>0</td><td>0</td><td>0</td><td>0</td><td>0</td></tr>\n",
       "\t<tr><th scope=row>Medici</th><td>0</td><td>0</td><td>1</td><td>0</td><td>0</td><td>1</td><td>0</td><td>0</td><td>0</td><td>1</td><td>0</td><td>0</td><td>0</td><td>1</td><td>0</td><td>1</td></tr>\n",
       "\t<tr><th scope=row>Pazzi</th><td>0</td><td>0</td><td>0</td><td>0</td><td>0</td><td>0</td><td>0</td><td>0</td><td>1</td><td>0</td><td>0</td><td>0</td><td>0</td><td>0</td><td>0</td><td>0</td></tr>\n",
       "\t<tr><th scope=row>Peruzzi</th><td>0</td><td>0</td><td>1</td><td>1</td><td>1</td><td>0</td><td>0</td><td>1</td><td>0</td><td>0</td><td>0</td><td>0</td><td>0</td><td>0</td><td>0</td><td>0</td></tr>\n",
       "\t<tr><th scope=row>Pucci</th><td>0</td><td>0</td><td>0</td><td>0</td><td>0</td><td>0</td><td>0</td><td>0</td><td>0</td><td>0</td><td>0</td><td>0</td><td>0</td><td>0</td><td>0</td><td>0</td></tr>\n",
       "\t<tr><th scope=row>Ridolfi</th><td>0</td><td>0</td><td>0</td><td>0</td><td>0</td><td>0</td><td>0</td><td>0</td><td>0</td><td>0</td><td>0</td><td>0</td><td>0</td><td>0</td><td>0</td><td>0</td></tr>\n",
       "\t<tr><th scope=row>Salviati</th><td>0</td><td>0</td><td>0</td><td>0</td><td>0</td><td>0</td><td>0</td><td>0</td><td>1</td><td>0</td><td>0</td><td>0</td><td>0</td><td>0</td><td>0</td><td>0</td></tr>\n",
       "\t<tr><th scope=row>Strozzi</th><td>0</td><td>0</td><td>0</td><td>0</td><td>0</td><td>0</td><td>0</td><td>0</td><td>0</td><td>0</td><td>0</td><td>0</td><td>0</td><td>0</td><td>0</td><td>0</td></tr>\n",
       "\t<tr><th scope=row>Tornabuoni</th><td>0</td><td>0</td><td>0</td><td>0</td><td>0</td><td>0</td><td>0</td><td>0</td><td>1</td><td>0</td><td>0</td><td>0</td><td>0</td><td>0</td><td>0</td><td>0</td></tr>\n",
       "</tbody>\n",
       "</table>\n"
      ],
      "text/latex": [
       "A matrix: 16 × 16 of type int\n",
       "\\begin{tabular}{r|llllllllllllllll}\n",
       "  & Acciaiuoli & Albizzi & Barbadori & Bischeri & Castellani & Ginori & Guadagni & Lamberteschi & Medici & Pazzi & Peruzzi & Pucci & Ridolfi & Salviati & Strozzi & Tornabuoni\\\\\n",
       "\\hline\n",
       "\tAcciaiuoli & 0 & 0 & 0 & 0 & 0 & 0 & 0 & 0 & 0 & 0 & 0 & 0 & 0 & 0 & 0 & 0\\\\\n",
       "\tAlbizzi & 0 & 0 & 0 & 0 & 0 & 0 & 0 & 0 & 0 & 0 & 0 & 0 & 0 & 0 & 0 & 0\\\\\n",
       "\tBarbadori & 0 & 0 & 0 & 0 & 1 & 1 & 0 & 0 & 1 & 0 & 1 & 0 & 0 & 0 & 0 & 0\\\\\n",
       "\tBischeri & 0 & 0 & 0 & 0 & 0 & 0 & 1 & 1 & 0 & 0 & 1 & 0 & 0 & 0 & 0 & 0\\\\\n",
       "\tCastellani & 0 & 0 & 1 & 0 & 0 & 0 & 0 & 1 & 0 & 0 & 1 & 0 & 0 & 0 & 0 & 0\\\\\n",
       "\tGinori & 0 & 0 & 1 & 0 & 0 & 0 & 0 & 0 & 1 & 0 & 0 & 0 & 0 & 0 & 0 & 0\\\\\n",
       "\tGuadagni & 0 & 0 & 0 & 1 & 0 & 0 & 0 & 1 & 0 & 0 & 0 & 0 & 0 & 0 & 0 & 0\\\\\n",
       "\tLamberteschi & 0 & 0 & 0 & 1 & 1 & 0 & 1 & 0 & 0 & 0 & 1 & 0 & 0 & 0 & 0 & 0\\\\\n",
       "\tMedici & 0 & 0 & 1 & 0 & 0 & 1 & 0 & 0 & 0 & 1 & 0 & 0 & 0 & 1 & 0 & 1\\\\\n",
       "\tPazzi & 0 & 0 & 0 & 0 & 0 & 0 & 0 & 0 & 1 & 0 & 0 & 0 & 0 & 0 & 0 & 0\\\\\n",
       "\tPeruzzi & 0 & 0 & 1 & 1 & 1 & 0 & 0 & 1 & 0 & 0 & 0 & 0 & 0 & 0 & 0 & 0\\\\\n",
       "\tPucci & 0 & 0 & 0 & 0 & 0 & 0 & 0 & 0 & 0 & 0 & 0 & 0 & 0 & 0 & 0 & 0\\\\\n",
       "\tRidolfi & 0 & 0 & 0 & 0 & 0 & 0 & 0 & 0 & 0 & 0 & 0 & 0 & 0 & 0 & 0 & 0\\\\\n",
       "\tSalviati & 0 & 0 & 0 & 0 & 0 & 0 & 0 & 0 & 1 & 0 & 0 & 0 & 0 & 0 & 0 & 0\\\\\n",
       "\tStrozzi & 0 & 0 & 0 & 0 & 0 & 0 & 0 & 0 & 0 & 0 & 0 & 0 & 0 & 0 & 0 & 0\\\\\n",
       "\tTornabuoni & 0 & 0 & 0 & 0 & 0 & 0 & 0 & 0 & 1 & 0 & 0 & 0 & 0 & 0 & 0 & 0\\\\\n",
       "\\end{tabular}\n"
      ],
      "text/markdown": [
       "\n",
       "A matrix: 16 × 16 of type int\n",
       "\n",
       "| <!--/--> | Acciaiuoli | Albizzi | Barbadori | Bischeri | Castellani | Ginori | Guadagni | Lamberteschi | Medici | Pazzi | Peruzzi | Pucci | Ridolfi | Salviati | Strozzi | Tornabuoni |\n",
       "|---|---|---|---|---|---|---|---|---|---|---|---|---|---|---|---|---|\n",
       "| Acciaiuoli | 0 | 0 | 0 | 0 | 0 | 0 | 0 | 0 | 0 | 0 | 0 | 0 | 0 | 0 | 0 | 0 |\n",
       "| Albizzi | 0 | 0 | 0 | 0 | 0 | 0 | 0 | 0 | 0 | 0 | 0 | 0 | 0 | 0 | 0 | 0 |\n",
       "| Barbadori | 0 | 0 | 0 | 0 | 1 | 1 | 0 | 0 | 1 | 0 | 1 | 0 | 0 | 0 | 0 | 0 |\n",
       "| Bischeri | 0 | 0 | 0 | 0 | 0 | 0 | 1 | 1 | 0 | 0 | 1 | 0 | 0 | 0 | 0 | 0 |\n",
       "| Castellani | 0 | 0 | 1 | 0 | 0 | 0 | 0 | 1 | 0 | 0 | 1 | 0 | 0 | 0 | 0 | 0 |\n",
       "| Ginori | 0 | 0 | 1 | 0 | 0 | 0 | 0 | 0 | 1 | 0 | 0 | 0 | 0 | 0 | 0 | 0 |\n",
       "| Guadagni | 0 | 0 | 0 | 1 | 0 | 0 | 0 | 1 | 0 | 0 | 0 | 0 | 0 | 0 | 0 | 0 |\n",
       "| Lamberteschi | 0 | 0 | 0 | 1 | 1 | 0 | 1 | 0 | 0 | 0 | 1 | 0 | 0 | 0 | 0 | 0 |\n",
       "| Medici | 0 | 0 | 1 | 0 | 0 | 1 | 0 | 0 | 0 | 1 | 0 | 0 | 0 | 1 | 0 | 1 |\n",
       "| Pazzi | 0 | 0 | 0 | 0 | 0 | 0 | 0 | 0 | 1 | 0 | 0 | 0 | 0 | 0 | 0 | 0 |\n",
       "| Peruzzi | 0 | 0 | 1 | 1 | 1 | 0 | 0 | 1 | 0 | 0 | 0 | 0 | 0 | 0 | 0 | 0 |\n",
       "| Pucci | 0 | 0 | 0 | 0 | 0 | 0 | 0 | 0 | 0 | 0 | 0 | 0 | 0 | 0 | 0 | 0 |\n",
       "| Ridolfi | 0 | 0 | 0 | 0 | 0 | 0 | 0 | 0 | 0 | 0 | 0 | 0 | 0 | 0 | 0 | 0 |\n",
       "| Salviati | 0 | 0 | 0 | 0 | 0 | 0 | 0 | 0 | 1 | 0 | 0 | 0 | 0 | 0 | 0 | 0 |\n",
       "| Strozzi | 0 | 0 | 0 | 0 | 0 | 0 | 0 | 0 | 0 | 0 | 0 | 0 | 0 | 0 | 0 | 0 |\n",
       "| Tornabuoni | 0 | 0 | 0 | 0 | 0 | 0 | 0 | 0 | 1 | 0 | 0 | 0 | 0 | 0 | 0 | 0 |\n",
       "\n"
      ],
      "text/plain": [
       "             Acciaiuoli Albizzi Barbadori Bischeri Castellani Ginori Guadagni\n",
       "Acciaiuoli   0          0       0         0        0          0      0       \n",
       "Albizzi      0          0       0         0        0          0      0       \n",
       "Barbadori    0          0       0         0        1          1      0       \n",
       "Bischeri     0          0       0         0        0          0      1       \n",
       "Castellani   0          0       1         0        0          0      0       \n",
       "Ginori       0          0       1         0        0          0      0       \n",
       "Guadagni     0          0       0         1        0          0      0       \n",
       "Lamberteschi 0          0       0         1        1          0      1       \n",
       "Medici       0          0       1         0        0          1      0       \n",
       "Pazzi        0          0       0         0        0          0      0       \n",
       "Peruzzi      0          0       1         1        1          0      0       \n",
       "Pucci        0          0       0         0        0          0      0       \n",
       "Ridolfi      0          0       0         0        0          0      0       \n",
       "Salviati     0          0       0         0        0          0      0       \n",
       "Strozzi      0          0       0         0        0          0      0       \n",
       "Tornabuoni   0          0       0         0        0          0      0       \n",
       "             Lamberteschi Medici Pazzi Peruzzi Pucci Ridolfi Salviati Strozzi\n",
       "Acciaiuoli   0            0      0     0       0     0       0        0      \n",
       "Albizzi      0            0      0     0       0     0       0        0      \n",
       "Barbadori    0            1      0     1       0     0       0        0      \n",
       "Bischeri     1            0      0     1       0     0       0        0      \n",
       "Castellani   1            0      0     1       0     0       0        0      \n",
       "Ginori       0            1      0     0       0     0       0        0      \n",
       "Guadagni     1            0      0     0       0     0       0        0      \n",
       "Lamberteschi 0            0      0     1       0     0       0        0      \n",
       "Medici       0            0      1     0       0     0       1        0      \n",
       "Pazzi        0            1      0     0       0     0       0        0      \n",
       "Peruzzi      1            0      0     0       0     0       0        0      \n",
       "Pucci        0            0      0     0       0     0       0        0      \n",
       "Ridolfi      0            0      0     0       0     0       0        0      \n",
       "Salviati     0            1      0     0       0     0       0        0      \n",
       "Strozzi      0            0      0     0       0     0       0        0      \n",
       "Tornabuoni   0            1      0     0       0     0       0        0      \n",
       "             Tornabuoni\n",
       "Acciaiuoli   0         \n",
       "Albizzi      0         \n",
       "Barbadori    0         \n",
       "Bischeri     0         \n",
       "Castellani   0         \n",
       "Ginori       0         \n",
       "Guadagni     0         \n",
       "Lamberteschi 0         \n",
       "Medici       1         \n",
       "Pazzi        0         \n",
       "Peruzzi      0         \n",
       "Pucci        0         \n",
       "Ridolfi      0         \n",
       "Salviati     0         \n",
       "Strozzi      0         \n",
       "Tornabuoni   0         "
      ]
     },
     "metadata": {},
     "output_type": "display_data"
    }
   ],
   "source": [
    "data <- read.table(\"florentine_business.csv\", header=TRUE, sep = ',')\n",
    "\n",
    "\n",
    "socio.matrix <- as.matrix(data)\n",
    "g <- network(socio.matrix, directed=FALSE)\n",
    "rownames(socio.matrix) <- network.vertex.names(g)\n",
    "socio.matrix"
   ]
  },
  {
   "cell_type": "markdown",
   "metadata": {},
   "source": [
    "4. С помощью соответствующих функций по полученной социоматри-\n",
    "це построить ненаправленную сеть. Объяснить параметры, переда-\n",
    "ваемые в функцию."
   ]
  },
  {
   "cell_type": "code",
   "execution_count": 26,
   "metadata": {},
   "outputs": [],
   "source": [
    "gr <- graph_from_adjacency_matrix(socio.matrix, mode = \"undirected\")"
   ]
  },
  {
   "cell_type": "markdown",
   "metadata": {},
   "source": [
    "Первым параметром передается социоматрица, вторым направленность графа, в данном случае ненаправленный."
   ]
  },
  {
   "cell_type": "markdown",
   "metadata": {},
   "source": [
    "Отобразить сеть с помощью алгоритмов укладки Фрюхтермана–\n",
    "Рейнгольда и Камада–Каваи. Объяснить, в чём различие между\n",
    "алгоритмами и укладками."
   ]
  },
  {
   "cell_type": "code",
   "execution_count": 27,
   "metadata": {},
   "outputs": [
    {
     "data": {
      "image/png": "[encoded data removed]",
      "text/plain": [
       "Plot with title \"Fruchterman-Reingold\""
      ]
     },
     "metadata": {
      "image/png": {
       "height": 420,
       "width": 420
      }
     },
     "output_type": "display_data"
    }
   ],
   "source": [
    "plot.network(g, \n",
    "     mode = \"fruchtermanreingold\",\n",
    "     label = network.vertex.names(g),\n",
    "     main = \"Fruchterman-Reingold\"\n",
    ")"
   ]
  },
  {
   "cell_type": "code",
   "execution_count": 28,
   "metadata": {},
   "outputs": [
    {
     "data": {
      "image/png": "[encoded data removed]",
      "text/plain": [
       "Plot with title \"Kamada-Kawai\""
      ]
     },
     "metadata": {
      "image/png": {
       "height": 420,
       "width": 420
      }
     },
     "output_type": "display_data"
    }
   ],
   "source": [
    "plot.network(g, \n",
    "             mode = \"kamadakawai\",\n",
    "             label = network.vertex.names(g),\n",
    "             main = \"Kamada-Kawai\"\n",
    ")"
   ]
  },
  {
   "cell_type": "markdown",
   "metadata": {},
   "source": [
    "Алгоритм Фрюхтермана–Рейнгольда рассчитывает силы притяжения и отталкивания каждой вершины графа, и пользуется только ими. \n",
    "Алгоритм Камада-Каваи на каждом шаге отталкивается от вершины, на которую действует наибольшая сила, а также сводит к минимуму энергию относительно неё."
   ]
  },
  {
   "cell_type": "markdown",
   "metadata": {},
   "source": [
    "6. Вывести «описательную сводку» сети."
   ]
  },
  {
   "cell_type": "code",
   "execution_count": 30,
   "metadata": {},
   "outputs": [
    {
     "name": "stdout",
     "output_type": "stream",
     "text": [
      "   Acciaiuoli    Albizzi    Barbadori       Bischeri        Castellani    \n",
      " Min.   :0    Min.   :0   Min.   :0.00   Min.   :0.0000   Min.   :0.0000  \n",
      " 1st Qu.:0    1st Qu.:0   1st Qu.:0.00   1st Qu.:0.0000   1st Qu.:0.0000  \n",
      " Median :0    Median :0   Median :0.00   Median :0.0000   Median :0.0000  \n",
      " Mean   :0    Mean   :0   Mean   :0.25   Mean   :0.1875   Mean   :0.1875  \n",
      " 3rd Qu.:0    3rd Qu.:0   3rd Qu.:0.25   3rd Qu.:0.0000   3rd Qu.:0.0000  \n",
      " Max.   :0    Max.   :0   Max.   :1.00   Max.   :1.0000   Max.   :1.0000  \n",
      "     Ginori         Guadagni      Lamberteschi      Medici      \n",
      " Min.   :0.000   Min.   :0.000   Min.   :0.00   Min.   :0.0000  \n",
      " 1st Qu.:0.000   1st Qu.:0.000   1st Qu.:0.00   1st Qu.:0.0000  \n",
      " Median :0.000   Median :0.000   Median :0.00   Median :0.0000  \n",
      " Mean   :0.125   Mean   :0.125   Mean   :0.25   Mean   :0.3125  \n",
      " 3rd Qu.:0.000   3rd Qu.:0.000   3rd Qu.:0.25   3rd Qu.:1.0000  \n",
      " Max.   :1.000   Max.   :1.000   Max.   :1.00   Max.   :1.0000  \n",
      "     Pazzi           Peruzzi         Pucci      Ridolfi     Salviati     \n",
      " Min.   :0.0000   Min.   :0.00   Min.   :0   Min.   :0   Min.   :0.0000  \n",
      " 1st Qu.:0.0000   1st Qu.:0.00   1st Qu.:0   1st Qu.:0   1st Qu.:0.0000  \n",
      " Median :0.0000   Median :0.00   Median :0   Median :0   Median :0.0000  \n",
      " Mean   :0.0625   Mean   :0.25   Mean   :0   Mean   :0   Mean   :0.0625  \n",
      " 3rd Qu.:0.0000   3rd Qu.:0.25   3rd Qu.:0   3rd Qu.:0   3rd Qu.:0.0000  \n",
      " Max.   :1.0000   Max.   :1.00   Max.   :0   Max.   :0   Max.   :1.0000  \n",
      "    Strozzi    Tornabuoni    \n",
      " Min.   :0   Min.   :0.0000  \n",
      " 1st Qu.:0   1st Qu.:0.0000  \n",
      " Median :0   Median :0.0000  \n",
      " Mean   :0   Mean   :0.0625  \n",
      " 3rd Qu.:0   3rd Qu.:0.0000  \n",
      " Max.   :0   Max.   :1.0000  \n"
     ]
    }
   ],
   "source": [
    "print(summary(socio.matrix))"
   ]
  },
  {
   "cell_type": "markdown",
   "metadata": {},
   "source": [
    "7. Вычислить «пятичисловую сводку» сети:"
   ]
  },
  {
   "cell_type": "code",
   "execution_count": 38,
   "metadata": {},
   "outputs": [
    {
     "name": "stdout",
     "output_type": "stream",
     "text": [
      "Размер сети:  16\n",
      "Плотность сети с помощью r функции:  0.125\n",
      "Плотность сети вручную:  0.125\n",
      "Диаметр сети:  5\n",
      "Число компонент в сети:  6\n",
      "Коэффициент кластеризации:  0.4166667"
     ]
    }
   ],
   "source": [
    "gr <- graph_from_adjacency_matrix(socio.matrix, mode = \"undirected\")\n",
    "\n",
    "cat(\"Размер сети: \", gorder(gr))\n",
    "cat(\"\\nПлотность сети с помощью r функции: \", edge_density(gr))\n",
    "cat(\"\\nПлотность сети вручную: \", gsize(gr)/choose(gorder(gr), 2))\n",
    "cat(\"\\nДиаметр сети: \", diameter(gr))\n",
    "cat(\"\\nЧисло компонент в сети: \", components(g))\n",
    "cat(\"\\nКоэффициент кластеризации: \", transitivity(gr))"
   ]
  },
  {
   "cell_type": "markdown",
   "metadata": {},
   "source": [
    "По поводу плотностей. Плотность была вычислена два раза, результат одинаковый, значит все корректно.\n",
    "По взгляду в сети 6 компонент: 5 одиночных акторов и компонент, который содержит все связанные акторы. Результаты программы это подтвердили.\n",
    "Диаметр высчитан правильно, действительно, например, максимальное кратчайщие расстояние - 5, это можно видеть на графике между вершинами Salviati и Guadagni.\n",
    "Коэффициент кластеризации не такой большой, это сказывается из-за наличия изолированных акторов."
   ]
  },
  {
   "cell_type": "markdown",
   "metadata": {},
   "source": [
    "8. Вычислить среднюю степень узлов и дисперсию. Сделать выводы."
   ]
  },
  {
   "cell_type": "code",
   "execution_count": 39,
   "metadata": {},
   "outputs": [
    {
     "name": "stdout",
     "output_type": "stream",
     "text": [
      "Средняя степень узлов:  1.875\n",
      "Дисперсия:  3.05"
     ]
    }
   ],
   "source": [
    "cat(\"Средняя степень узлов: \", mean(igraph::degree(gr)))\n",
    "cat(\"\\nДисперсия: \", varience<-var(igraph::degree(gr)))"
   ]
  },
  {
   "cell_type": "markdown",
   "metadata": {},
   "source": [
    "Изолированные вершины сильно повлияли на среднюю степень узлов, тоже самое касается и дисперсии."
   ]
  },
  {
   "cell_type": "markdown",
   "metadata": {},
   "source": [
    "9. Заполнить таблицу для различных мер центральности. Примечание: меры центральности вычислить для неизолированных вершин:"
   ]
  },
  {
   "cell_type": "code",
   "execution_count": 41,
   "metadata": {},
   "outputs": [
    {
     "data": {
      "text/html": [
       "<table class=\"dataframe\">\n",
       "<caption>A data.frame: 11 × 5</caption>\n",
       "<thead>\n",
       "\t<tr><th></th><th scope=col>ni</th><th scope=col>CD_ni</th><th scope=col>CC_ni</th><th scope=col>CB_ni</th><th scope=col>CI_ni</th></tr>\n",
       "\t<tr><th></th><th scope=col>&lt;int&gt;</th><th scope=col>&lt;dbl&gt;</th><th scope=col>&lt;dbl&gt;</th><th scope=col>&lt;dbl&gt;</th><th scope=col>&lt;dbl&gt;</th></tr>\n",
       "</thead>\n",
       "<tbody>\n",
       "\t<tr><th scope=row>Barbadori</th><td> 1</td><td>0.4</td><td>0.5882353</td><td>0.55555556</td><td>0.12446815</td></tr>\n",
       "\t<tr><th scope=row>Bischeri</th><td> 2</td><td>0.3</td><td>0.4000000</td><td>0.05555556</td><td>0.08898359</td></tr>\n",
       "\t<tr><th scope=row>Castellani</th><td> 3</td><td>0.3</td><td>0.5000000</td><td>0.11111111</td><td>0.10457651</td></tr>\n",
       "\t<tr><th scope=row>Ginori</th><td> 4</td><td>0.2</td><td>0.4545455</td><td>0.00000000</td><td>0.09531249</td></tr>\n",
       "\t<tr><th scope=row>Guadagni</th><td> 5</td><td>0.2</td><td>0.3125000</td><td>0.00000000</td><td>0.07656303</td></tr>\n",
       "\t<tr><th scope=row>Lamberteschi</th><td> 6</td><td>0.4</td><td>0.4166667</td><td>0.13333333</td><td>0.09837087</td></tr>\n",
       "\t<tr><th scope=row>Medici</th><td> 7</td><td>0.5</td><td>0.5263158</td><td>0.53333333</td><td>0.11089878</td></tr>\n",
       "\t<tr><th scope=row>Pazzi</th><td> 8</td><td>0.1</td><td>0.3571429</td><td>0.00000000</td><td>0.06388631</td></tr>\n",
       "\t<tr><th scope=row>Peruzzi</th><td> 9</td><td>0.4</td><td>0.5263158</td><td>0.30000000</td><td>0.10916767</td></tr>\n",
       "\t<tr><th scope=row>Salviati</th><td>10</td><td>0.1</td><td>0.3571429</td><td>0.00000000</td><td>0.06388631</td></tr>\n",
       "\t<tr><th scope=row>Tornabuoni</th><td>11</td><td>0.1</td><td>0.3571429</td><td>0.00000000</td><td>0.06388631</td></tr>\n",
       "</tbody>\n",
       "</table>\n"
      ],
      "text/latex": [
       "A data.frame: 11 × 5\n",
       "\\begin{tabular}{r|lllll}\n",
       "  & ni & CD\\_ni & CC\\_ni & CB\\_ni & CI\\_ni\\\\\n",
       "  & <int> & <dbl> & <dbl> & <dbl> & <dbl>\\\\\n",
       "\\hline\n",
       "\tBarbadori &  1 & 0.4 & 0.5882353 & 0.55555556 & 0.12446815\\\\\n",
       "\tBischeri &  2 & 0.3 & 0.4000000 & 0.05555556 & 0.08898359\\\\\n",
       "\tCastellani &  3 & 0.3 & 0.5000000 & 0.11111111 & 0.10457651\\\\\n",
       "\tGinori &  4 & 0.2 & 0.4545455 & 0.00000000 & 0.09531249\\\\\n",
       "\tGuadagni &  5 & 0.2 & 0.3125000 & 0.00000000 & 0.07656303\\\\\n",
       "\tLamberteschi &  6 & 0.4 & 0.4166667 & 0.13333333 & 0.09837087\\\\\n",
       "\tMedici &  7 & 0.5 & 0.5263158 & 0.53333333 & 0.11089878\\\\\n",
       "\tPazzi &  8 & 0.1 & 0.3571429 & 0.00000000 & 0.06388631\\\\\n",
       "\tPeruzzi &  9 & 0.4 & 0.5263158 & 0.30000000 & 0.10916767\\\\\n",
       "\tSalviati & 10 & 0.1 & 0.3571429 & 0.00000000 & 0.06388631\\\\\n",
       "\tTornabuoni & 11 & 0.1 & 0.3571429 & 0.00000000 & 0.06388631\\\\\n",
       "\\end{tabular}\n"
      ],
      "text/markdown": [
       "\n",
       "A data.frame: 11 × 5\n",
       "\n",
       "| <!--/--> | ni &lt;int&gt; | CD_ni &lt;dbl&gt; | CC_ni &lt;dbl&gt; | CB_ni &lt;dbl&gt; | CI_ni &lt;dbl&gt; |\n",
       "|---|---|---|---|---|---|\n",
       "| Barbadori |  1 | 0.4 | 0.5882353 | 0.55555556 | 0.12446815 |\n",
       "| Bischeri |  2 | 0.3 | 0.4000000 | 0.05555556 | 0.08898359 |\n",
       "| Castellani |  3 | 0.3 | 0.5000000 | 0.11111111 | 0.10457651 |\n",
       "| Ginori |  4 | 0.2 | 0.4545455 | 0.00000000 | 0.09531249 |\n",
       "| Guadagni |  5 | 0.2 | 0.3125000 | 0.00000000 | 0.07656303 |\n",
       "| Lamberteschi |  6 | 0.4 | 0.4166667 | 0.13333333 | 0.09837087 |\n",
       "| Medici |  7 | 0.5 | 0.5263158 | 0.53333333 | 0.11089878 |\n",
       "| Pazzi |  8 | 0.1 | 0.3571429 | 0.00000000 | 0.06388631 |\n",
       "| Peruzzi |  9 | 0.4 | 0.5263158 | 0.30000000 | 0.10916767 |\n",
       "| Salviati | 10 | 0.1 | 0.3571429 | 0.00000000 | 0.06388631 |\n",
       "| Tornabuoni | 11 | 0.1 | 0.3571429 | 0.00000000 | 0.06388631 |\n",
       "\n"
      ],
      "text/plain": [
       "             ni CD_ni CC_ni     CB_ni      CI_ni     \n",
       "Barbadori     1 0.4   0.5882353 0.55555556 0.12446815\n",
       "Bischeri      2 0.3   0.4000000 0.05555556 0.08898359\n",
       "Castellani    3 0.3   0.5000000 0.11111111 0.10457651\n",
       "Ginori        4 0.2   0.4545455 0.00000000 0.09531249\n",
       "Guadagni      5 0.2   0.3125000 0.00000000 0.07656303\n",
       "Lamberteschi  6 0.4   0.4166667 0.13333333 0.09837087\n",
       "Medici        7 0.5   0.5263158 0.53333333 0.11089878\n",
       "Pazzi         8 0.1   0.3571429 0.00000000 0.06388631\n",
       "Peruzzi       9 0.4   0.5263158 0.30000000 0.10916767\n",
       "Salviati     10 0.1   0.3571429 0.00000000 0.06388631\n",
       "Tornabuoni   11 0.1   0.3571429 0.00000000 0.06388631"
      ]
     },
     "metadata": {},
     "output_type": "display_data"
    }
   ],
   "source": [
    "#удалили изолированные вершины\n",
    "new_matrix <- socio.matrix[!apply(socio.matrix == 0, 1, all), !apply(socio.matrix == 0, 1, all)]\n",
    "e <- graph_from_adjacency_matrix(new_matrix, mode = \"undirected\")\n",
    "\n",
    "e_order <- gorder(e)\n",
    "Cd <- igraph::degree(e)\n",
    "\n",
    "inverted_matrix <- solve(laplacian_matrix(e) + 1) \n",
    "trace <- sum(diag(inverted_matrix)) \n",
    "diag_elem_sum <- colSums(inverted_matrix) \n",
    "CI <- 1/(diag(inverted_matrix) + (trace - 2*diag_elem_sum)/e_order)\n",
    "\n",
    "# результаты\n",
    "CD_ni <- Cd / (e_order - 1)\n",
    "CC_ni <- igraph::closeness(e, normalized = TRUE)\n",
    "CB_ni <- igraph::betweenness(e, normalized = TRUE)\n",
    "CI_ni <- CI / sum(CI)\n",
    "\n",
    "\n",
    "centrality_table <- data.frame(\n",
    "  ni = 1:e_order, # акторы\n",
    "  CD_ni = CD_ni, # по степени \n",
    "  CC_ni = CC_ni, # по близости \n",
    "  CB_ni = CB_ni, # по посреднечеству \n",
    "  CI_ni = CI_ni # по информации\n",
    ")\n",
    "\n",
    "centrality_table\n"
   ]
  },
  {
   "cell_type": "markdown",
   "metadata": {},
   "source": [
    "Выводы: по мерам централизации можно судить о расположение вершины в графе. Как видно из таблицы, Medici обладает самыми большими показателями меры центральности, а это значит, что она является наиболее влиятельная в графе."
   ]
  },
  {
   "cell_type": "markdown",
   "metadata": {},
   "source": [
    "10. Вычислить значение централизации для каждой меры. Сделать выводы."
   ]
  },
  {
   "cell_type": "code",
   "execution_count": 55,
   "metadata": {
    "scrolled": true
   },
   "outputs": [
    {
     "name": "stdout",
     "output_type": "stream",
     "text": [
      "Централизация по степени:  0.02777778\n",
      "Централизация по близости:  0.3535226\n",
      "Централизация по посреднечеству:  0.4422222\n",
      "Централизация по информации:  0.000452125"
     ]
    }
   ],
   "source": [
    "cat(\"Централизация по степени: \", centralize(CD_ni, (e_order - 1) * (e_order - 2)))\n",
    "\n",
    "cat(\"\\nЦентрализация по близости: \", centralize(CC_ni, (e_order - 1) * (e_order - 2) / (2 * e_order - 3)))\n",
    "\n",
    "cat(\"\\nЦентрализация по посреднечеству: \", centralize(CB_ni, (e_order - 1)))\n",
    "\n",
    "cat(\"\\nЦентрализация по информации: \", var(CI_ni))"
   ]
  },
  {
   "cell_type": "markdown",
   "metadata": {},
   "source": [
    "Выводы: значение централизации сильно зависит от той меры, относительно которой она считается."
   ]
  },
  {
   "cell_type": "markdown",
   "metadata": {},
   "source": [
    "11. Выявить точки сочленения и мосты сети. Подтвердить свои догад-\n",
    "ки с помощью соответствующих функций (если их нет – реализуйте\n",
    "их самостоятельно). Построить график сети, на котором выделены\n",
    "точки сочленения и мосты."
   ]
  },
  {
   "cell_type": "code",
   "execution_count": 60,
   "metadata": {},
   "outputs": [
    {
     "data": {
      "image/png": "[encoded data removed]",
      "text/plain": [
       "plot without title"
      ]
     },
     "metadata": {
      "image/png": {
       "height": 420,
       "width": 420
      }
     },
     "output_type": "display_data"
    }
   ],
   "source": [
    "data <- read.table(\"florentine_business.csv\", header=TRUE, sep = ',')\n",
    "\n",
    "\n",
    "socio.matrix <- as.matrix(data)\n",
    "\n",
    "gr <- graph_from_adjacency_matrix(socio.matrix, mode = \"undirected\")\n",
    "\n",
    "art_points <- igraph::articulation_points(gr)\n",
    "brg <- igraph::bridges(gr)\n",
    "\n",
    "V(gr)$color <- \"white\"\n",
    "E(gr)$color <- \"grey\"\n",
    "E(gr)$color[brg] <- \"blue\"\n",
    "V(gr)$color[art_points] <- \"red\"\n",
    "\n",
    "plot(g, mode = \"fruchtermanreingold\", \n",
    "     label = network.vertex.names(g),\n",
    "     vertex.col= V(gr)$color,\n",
    "     label.col = \"black\", \n",
    "     edge.col = E(gr)$color)"
   ]
  },
  {
   "cell_type": "markdown",
   "metadata": {},
   "source": [
    "Мосты выделены синим цветом, точки сочленения красным."
   ]
  },
  {
   "cell_type": "markdown",
   "metadata": {},
   "source": [
    "12. Выполнить пп. 2–8 для направленной сети из файла krackhardt_advice.csv\n",
    "(для нечётных вариантов) и файла krackhardt_friendship.csv\n",
    "(для чётных вариантов)."
   ]
  },
  {
   "cell_type": "code",
   "execution_count": 42,
   "metadata": {},
   "outputs": [
    {
     "data": {
      "text/html": [
       "<table class=\"dataframe\">\n",
       "<caption>A matrix: 21 × 21 of type int</caption>\n",
       "<thead>\n",
       "\t<tr><th scope=col>V1</th><th scope=col>V2</th><th scope=col>V3</th><th scope=col>V4</th><th scope=col>V5</th><th scope=col>V6</th><th scope=col>V7</th><th scope=col>V8</th><th scope=col>V9</th><th scope=col>V10</th><th scope=col>⋯</th><th scope=col>V12</th><th scope=col>V13</th><th scope=col>V14</th><th scope=col>V15</th><th scope=col>V16</th><th scope=col>V17</th><th scope=col>V18</th><th scope=col>V19</th><th scope=col>V20</th><th scope=col>V21</th></tr>\n",
       "</thead>\n",
       "<tbody>\n",
       "\t<tr><td>0</td><td>1</td><td>0</td><td>1</td><td>0</td><td>0</td><td>0</td><td>1</td><td>0</td><td>0</td><td>⋯</td><td>0</td><td>0</td><td>0</td><td>0</td><td>1</td><td>0</td><td>1</td><td>0</td><td>0</td><td>1</td></tr>\n",
       "\t<tr><td>0</td><td>0</td><td>0</td><td>0</td><td>0</td><td>1</td><td>1</td><td>0</td><td>0</td><td>0</td><td>⋯</td><td>0</td><td>0</td><td>0</td><td>0</td><td>0</td><td>0</td><td>0</td><td>0</td><td>0</td><td>1</td></tr>\n",
       "\t<tr><td>1</td><td>1</td><td>0</td><td>1</td><td>0</td><td>1</td><td>1</td><td>1</td><td>1</td><td>1</td><td>⋯</td><td>1</td><td>0</td><td>1</td><td>0</td><td>0</td><td>1</td><td>1</td><td>0</td><td>1</td><td>1</td></tr>\n",
       "\t<tr><td>1</td><td>1</td><td>0</td><td>0</td><td>0</td><td>1</td><td>0</td><td>1</td><td>0</td><td>1</td><td>⋯</td><td>1</td><td>0</td><td>0</td><td>0</td><td>1</td><td>1</td><td>1</td><td>0</td><td>1</td><td>1</td></tr>\n",
       "\t<tr><td>1</td><td>1</td><td>0</td><td>0</td><td>0</td><td>1</td><td>1</td><td>1</td><td>0</td><td>1</td><td>⋯</td><td>0</td><td>1</td><td>1</td><td>0</td><td>1</td><td>1</td><td>1</td><td>1</td><td>1</td><td>1</td></tr>\n",
       "\t<tr><td>0</td><td>0</td><td>0</td><td>0</td><td>0</td><td>0</td><td>0</td><td>0</td><td>0</td><td>0</td><td>⋯</td><td>0</td><td>0</td><td>0</td><td>0</td><td>0</td><td>0</td><td>0</td><td>0</td><td>0</td><td>1</td></tr>\n",
       "\t<tr><td>0</td><td>1</td><td>0</td><td>0</td><td>0</td><td>1</td><td>0</td><td>0</td><td>0</td><td>0</td><td>⋯</td><td>1</td><td>0</td><td>1</td><td>0</td><td>0</td><td>1</td><td>1</td><td>0</td><td>0</td><td>1</td></tr>\n",
       "\t<tr><td>0</td><td>1</td><td>0</td><td>1</td><td>0</td><td>1</td><td>1</td><td>0</td><td>0</td><td>1</td><td>⋯</td><td>0</td><td>0</td><td>0</td><td>0</td><td>0</td><td>0</td><td>1</td><td>0</td><td>0</td><td>1</td></tr>\n",
       "\t<tr><td>1</td><td>1</td><td>0</td><td>0</td><td>0</td><td>1</td><td>1</td><td>1</td><td>0</td><td>1</td><td>⋯</td><td>1</td><td>0</td><td>1</td><td>0</td><td>1</td><td>1</td><td>1</td><td>0</td><td>0</td><td>1</td></tr>\n",
       "\t<tr><td>1</td><td>1</td><td>1</td><td>1</td><td>1</td><td>0</td><td>0</td><td>1</td><td>0</td><td>0</td><td>⋯</td><td>0</td><td>1</td><td>0</td><td>1</td><td>1</td><td>1</td><td>1</td><td>1</td><td>1</td><td>0</td></tr>\n",
       "\t<tr><td>1</td><td>1</td><td>0</td><td>0</td><td>0</td><td>0</td><td>1</td><td>0</td><td>0</td><td>0</td><td>⋯</td><td>0</td><td>0</td><td>0</td><td>0</td><td>0</td><td>0</td><td>0</td><td>0</td><td>0</td><td>0</td></tr>\n",
       "\t<tr><td>0</td><td>0</td><td>0</td><td>0</td><td>0</td><td>0</td><td>1</td><td>0</td><td>0</td><td>0</td><td>⋯</td><td>0</td><td>0</td><td>0</td><td>0</td><td>0</td><td>0</td><td>0</td><td>0</td><td>0</td><td>1</td></tr>\n",
       "\t<tr><td>1</td><td>1</td><td>0</td><td>0</td><td>1</td><td>0</td><td>0</td><td>0</td><td>1</td><td>0</td><td>⋯</td><td>0</td><td>0</td><td>1</td><td>0</td><td>0</td><td>0</td><td>1</td><td>0</td><td>0</td><td>0</td></tr>\n",
       "\t<tr><td>0</td><td>1</td><td>0</td><td>0</td><td>0</td><td>0</td><td>1</td><td>0</td><td>0</td><td>0</td><td>⋯</td><td>0</td><td>0</td><td>0</td><td>0</td><td>0</td><td>0</td><td>1</td><td>0</td><td>0</td><td>1</td></tr>\n",
       "\t<tr><td>1</td><td>1</td><td>1</td><td>1</td><td>1</td><td>1</td><td>1</td><td>1</td><td>1</td><td>1</td><td>⋯</td><td>1</td><td>1</td><td>1</td><td>0</td><td>1</td><td>1</td><td>1</td><td>1</td><td>1</td><td>1</td></tr>\n",
       "\t<tr><td>1</td><td>1</td><td>0</td><td>0</td><td>0</td><td>0</td><td>0</td><td>0</td><td>0</td><td>1</td><td>⋯</td><td>0</td><td>0</td><td>0</td><td>0</td><td>0</td><td>0</td><td>1</td><td>0</td><td>0</td><td>0</td></tr>\n",
       "\t<tr><td>1</td><td>1</td><td>0</td><td>1</td><td>0</td><td>0</td><td>1</td><td>0</td><td>0</td><td>0</td><td>⋯</td><td>0</td><td>0</td><td>0</td><td>0</td><td>0</td><td>0</td><td>0</td><td>0</td><td>0</td><td>1</td></tr>\n",
       "\t<tr><td>1</td><td>1</td><td>1</td><td>1</td><td>1</td><td>0</td><td>1</td><td>1</td><td>1</td><td>1</td><td>⋯</td><td>0</td><td>1</td><td>1</td><td>1</td><td>1</td><td>0</td><td>0</td><td>1</td><td>1</td><td>1</td></tr>\n",
       "\t<tr><td>1</td><td>1</td><td>1</td><td>0</td><td>1</td><td>0</td><td>1</td><td>0</td><td>0</td><td>1</td><td>⋯</td><td>0</td><td>0</td><td>1</td><td>1</td><td>0</td><td>0</td><td>1</td><td>0</td><td>1</td><td>0</td></tr>\n",
       "\t<tr><td>1</td><td>1</td><td>0</td><td>0</td><td>0</td><td>1</td><td>0</td><td>1</td><td>0</td><td>0</td><td>⋯</td><td>1</td><td>0</td><td>1</td><td>1</td><td>1</td><td>1</td><td>1</td><td>0</td><td>0</td><td>1</td></tr>\n",
       "\t<tr><td>0</td><td>1</td><td>1</td><td>1</td><td>0</td><td>1</td><td>1</td><td>1</td><td>0</td><td>0</td><td>⋯</td><td>1</td><td>0</td><td>1</td><td>0</td><td>0</td><td>1</td><td>1</td><td>0</td><td>1</td><td>0</td></tr>\n",
       "</tbody>\n",
       "</table>\n"
      ],
      "text/latex": [
       "A matrix: 21 × 21 of type int\n",
       "\\begin{tabular}{lllllllllllllllllllll}\n",
       " V1 & V2 & V3 & V4 & V5 & V6 & V7 & V8 & V9 & V10 & ⋯ & V12 & V13 & V14 & V15 & V16 & V17 & V18 & V19 & V20 & V21\\\\\n",
       "\\hline\n",
       "\t 0 & 1 & 0 & 1 & 0 & 0 & 0 & 1 & 0 & 0 & ⋯ & 0 & 0 & 0 & 0 & 1 & 0 & 1 & 0 & 0 & 1\\\\\n",
       "\t 0 & 0 & 0 & 0 & 0 & 1 & 1 & 0 & 0 & 0 & ⋯ & 0 & 0 & 0 & 0 & 0 & 0 & 0 & 0 & 0 & 1\\\\\n",
       "\t 1 & 1 & 0 & 1 & 0 & 1 & 1 & 1 & 1 & 1 & ⋯ & 1 & 0 & 1 & 0 & 0 & 1 & 1 & 0 & 1 & 1\\\\\n",
       "\t 1 & 1 & 0 & 0 & 0 & 1 & 0 & 1 & 0 & 1 & ⋯ & 1 & 0 & 0 & 0 & 1 & 1 & 1 & 0 & 1 & 1\\\\\n",
       "\t 1 & 1 & 0 & 0 & 0 & 1 & 1 & 1 & 0 & 1 & ⋯ & 0 & 1 & 1 & 0 & 1 & 1 & 1 & 1 & 1 & 1\\\\\n",
       "\t 0 & 0 & 0 & 0 & 0 & 0 & 0 & 0 & 0 & 0 & ⋯ & 0 & 0 & 0 & 0 & 0 & 0 & 0 & 0 & 0 & 1\\\\\n",
       "\t 0 & 1 & 0 & 0 & 0 & 1 & 0 & 0 & 0 & 0 & ⋯ & 1 & 0 & 1 & 0 & 0 & 1 & 1 & 0 & 0 & 1\\\\\n",
       "\t 0 & 1 & 0 & 1 & 0 & 1 & 1 & 0 & 0 & 1 & ⋯ & 0 & 0 & 0 & 0 & 0 & 0 & 1 & 0 & 0 & 1\\\\\n",
       "\t 1 & 1 & 0 & 0 & 0 & 1 & 1 & 1 & 0 & 1 & ⋯ & 1 & 0 & 1 & 0 & 1 & 1 & 1 & 0 & 0 & 1\\\\\n",
       "\t 1 & 1 & 1 & 1 & 1 & 0 & 0 & 1 & 0 & 0 & ⋯ & 0 & 1 & 0 & 1 & 1 & 1 & 1 & 1 & 1 & 0\\\\\n",
       "\t 1 & 1 & 0 & 0 & 0 & 0 & 1 & 0 & 0 & 0 & ⋯ & 0 & 0 & 0 & 0 & 0 & 0 & 0 & 0 & 0 & 0\\\\\n",
       "\t 0 & 0 & 0 & 0 & 0 & 0 & 1 & 0 & 0 & 0 & ⋯ & 0 & 0 & 0 & 0 & 0 & 0 & 0 & 0 & 0 & 1\\\\\n",
       "\t 1 & 1 & 0 & 0 & 1 & 0 & 0 & 0 & 1 & 0 & ⋯ & 0 & 0 & 1 & 0 & 0 & 0 & 1 & 0 & 0 & 0\\\\\n",
       "\t 0 & 1 & 0 & 0 & 0 & 0 & 1 & 0 & 0 & 0 & ⋯ & 0 & 0 & 0 & 0 & 0 & 0 & 1 & 0 & 0 & 1\\\\\n",
       "\t 1 & 1 & 1 & 1 & 1 & 1 & 1 & 1 & 1 & 1 & ⋯ & 1 & 1 & 1 & 0 & 1 & 1 & 1 & 1 & 1 & 1\\\\\n",
       "\t 1 & 1 & 0 & 0 & 0 & 0 & 0 & 0 & 0 & 1 & ⋯ & 0 & 0 & 0 & 0 & 0 & 0 & 1 & 0 & 0 & 0\\\\\n",
       "\t 1 & 1 & 0 & 1 & 0 & 0 & 1 & 0 & 0 & 0 & ⋯ & 0 & 0 & 0 & 0 & 0 & 0 & 0 & 0 & 0 & 1\\\\\n",
       "\t 1 & 1 & 1 & 1 & 1 & 0 & 1 & 1 & 1 & 1 & ⋯ & 0 & 1 & 1 & 1 & 1 & 0 & 0 & 1 & 1 & 1\\\\\n",
       "\t 1 & 1 & 1 & 0 & 1 & 0 & 1 & 0 & 0 & 1 & ⋯ & 0 & 0 & 1 & 1 & 0 & 0 & 1 & 0 & 1 & 0\\\\\n",
       "\t 1 & 1 & 0 & 0 & 0 & 1 & 0 & 1 & 0 & 0 & ⋯ & 1 & 0 & 1 & 1 & 1 & 1 & 1 & 0 & 0 & 1\\\\\n",
       "\t 0 & 1 & 1 & 1 & 0 & 1 & 1 & 1 & 0 & 0 & ⋯ & 1 & 0 & 1 & 0 & 0 & 1 & 1 & 0 & 1 & 0\\\\\n",
       "\\end{tabular}\n"
      ],
      "text/markdown": [
       "\n",
       "A matrix: 21 × 21 of type int\n",
       "\n",
       "| V1 | V2 | V3 | V4 | V5 | V6 | V7 | V8 | V9 | V10 | ⋯ | V12 | V13 | V14 | V15 | V16 | V17 | V18 | V19 | V20 | V21 |\n",
       "|---|---|---|---|---|---|---|---|---|---|---|---|---|---|---|---|---|---|---|---|---|\n",
       "| 0 | 1 | 0 | 1 | 0 | 0 | 0 | 1 | 0 | 0 | ⋯ | 0 | 0 | 0 | 0 | 1 | 0 | 1 | 0 | 0 | 1 |\n",
       "| 0 | 0 | 0 | 0 | 0 | 1 | 1 | 0 | 0 | 0 | ⋯ | 0 | 0 | 0 | 0 | 0 | 0 | 0 | 0 | 0 | 1 |\n",
       "| 1 | 1 | 0 | 1 | 0 | 1 | 1 | 1 | 1 | 1 | ⋯ | 1 | 0 | 1 | 0 | 0 | 1 | 1 | 0 | 1 | 1 |\n",
       "| 1 | 1 | 0 | 0 | 0 | 1 | 0 | 1 | 0 | 1 | ⋯ | 1 | 0 | 0 | 0 | 1 | 1 | 1 | 0 | 1 | 1 |\n",
       "| 1 | 1 | 0 | 0 | 0 | 1 | 1 | 1 | 0 | 1 | ⋯ | 0 | 1 | 1 | 0 | 1 | 1 | 1 | 1 | 1 | 1 |\n",
       "| 0 | 0 | 0 | 0 | 0 | 0 | 0 | 0 | 0 | 0 | ⋯ | 0 | 0 | 0 | 0 | 0 | 0 | 0 | 0 | 0 | 1 |\n",
       "| 0 | 1 | 0 | 0 | 0 | 1 | 0 | 0 | 0 | 0 | ⋯ | 1 | 0 | 1 | 0 | 0 | 1 | 1 | 0 | 0 | 1 |\n",
       "| 0 | 1 | 0 | 1 | 0 | 1 | 1 | 0 | 0 | 1 | ⋯ | 0 | 0 | 0 | 0 | 0 | 0 | 1 | 0 | 0 | 1 |\n",
       "| 1 | 1 | 0 | 0 | 0 | 1 | 1 | 1 | 0 | 1 | ⋯ | 1 | 0 | 1 | 0 | 1 | 1 | 1 | 0 | 0 | 1 |\n",
       "| 1 | 1 | 1 | 1 | 1 | 0 | 0 | 1 | 0 | 0 | ⋯ | 0 | 1 | 0 | 1 | 1 | 1 | 1 | 1 | 1 | 0 |\n",
       "| 1 | 1 | 0 | 0 | 0 | 0 | 1 | 0 | 0 | 0 | ⋯ | 0 | 0 | 0 | 0 | 0 | 0 | 0 | 0 | 0 | 0 |\n",
       "| 0 | 0 | 0 | 0 | 0 | 0 | 1 | 0 | 0 | 0 | ⋯ | 0 | 0 | 0 | 0 | 0 | 0 | 0 | 0 | 0 | 1 |\n",
       "| 1 | 1 | 0 | 0 | 1 | 0 | 0 | 0 | 1 | 0 | ⋯ | 0 | 0 | 1 | 0 | 0 | 0 | 1 | 0 | 0 | 0 |\n",
       "| 0 | 1 | 0 | 0 | 0 | 0 | 1 | 0 | 0 | 0 | ⋯ | 0 | 0 | 0 | 0 | 0 | 0 | 1 | 0 | 0 | 1 |\n",
       "| 1 | 1 | 1 | 1 | 1 | 1 | 1 | 1 | 1 | 1 | ⋯ | 1 | 1 | 1 | 0 | 1 | 1 | 1 | 1 | 1 | 1 |\n",
       "| 1 | 1 | 0 | 0 | 0 | 0 | 0 | 0 | 0 | 1 | ⋯ | 0 | 0 | 0 | 0 | 0 | 0 | 1 | 0 | 0 | 0 |\n",
       "| 1 | 1 | 0 | 1 | 0 | 0 | 1 | 0 | 0 | 0 | ⋯ | 0 | 0 | 0 | 0 | 0 | 0 | 0 | 0 | 0 | 1 |\n",
       "| 1 | 1 | 1 | 1 | 1 | 0 | 1 | 1 | 1 | 1 | ⋯ | 0 | 1 | 1 | 1 | 1 | 0 | 0 | 1 | 1 | 1 |\n",
       "| 1 | 1 | 1 | 0 | 1 | 0 | 1 | 0 | 0 | 1 | ⋯ | 0 | 0 | 1 | 1 | 0 | 0 | 1 | 0 | 1 | 0 |\n",
       "| 1 | 1 | 0 | 0 | 0 | 1 | 0 | 1 | 0 | 0 | ⋯ | 1 | 0 | 1 | 1 | 1 | 1 | 1 | 0 | 0 | 1 |\n",
       "| 0 | 1 | 1 | 1 | 0 | 1 | 1 | 1 | 0 | 0 | ⋯ | 1 | 0 | 1 | 0 | 0 | 1 | 1 | 0 | 1 | 0 |\n",
       "\n"
      ],
      "text/plain": [
       "      V1 V2 V3 V4 V5 V6 V7 V8 V9 V10 ⋯ V12 V13 V14 V15 V16 V17 V18 V19 V20 V21\n",
       " [1,] 0  1  0  1  0  0  0  1  0  0   ⋯ 0   0   0   0   1   0   1   0   0   1  \n",
       " [2,] 0  0  0  0  0  1  1  0  0  0   ⋯ 0   0   0   0   0   0   0   0   0   1  \n",
       " [3,] 1  1  0  1  0  1  1  1  1  1   ⋯ 1   0   1   0   0   1   1   0   1   1  \n",
       " [4,] 1  1  0  0  0  1  0  1  0  1   ⋯ 1   0   0   0   1   1   1   0   1   1  \n",
       " [5,] 1  1  0  0  0  1  1  1  0  1   ⋯ 0   1   1   0   1   1   1   1   1   1  \n",
       " [6,] 0  0  0  0  0  0  0  0  0  0   ⋯ 0   0   0   0   0   0   0   0   0   1  \n",
       " [7,] 0  1  0  0  0  1  0  0  0  0   ⋯ 1   0   1   0   0   1   1   0   0   1  \n",
       " [8,] 0  1  0  1  0  1  1  0  0  1   ⋯ 0   0   0   0   0   0   1   0   0   1  \n",
       " [9,] 1  1  0  0  0  1  1  1  0  1   ⋯ 1   0   1   0   1   1   1   0   0   1  \n",
       "[10,] 1  1  1  1  1  0  0  1  0  0   ⋯ 0   1   0   1   1   1   1   1   1   0  \n",
       "[11,] 1  1  0  0  0  0  1  0  0  0   ⋯ 0   0   0   0   0   0   0   0   0   0  \n",
       "[12,] 0  0  0  0  0  0  1  0  0  0   ⋯ 0   0   0   0   0   0   0   0   0   1  \n",
       "[13,] 1  1  0  0  1  0  0  0  1  0   ⋯ 0   0   1   0   0   0   1   0   0   0  \n",
       "[14,] 0  1  0  0  0  0  1  0  0  0   ⋯ 0   0   0   0   0   0   1   0   0   1  \n",
       "[15,] 1  1  1  1  1  1  1  1  1  1   ⋯ 1   1   1   0   1   1   1   1   1   1  \n",
       "[16,] 1  1  0  0  0  0  0  0  0  1   ⋯ 0   0   0   0   0   0   1   0   0   0  \n",
       "[17,] 1  1  0  1  0  0  1  0  0  0   ⋯ 0   0   0   0   0   0   0   0   0   1  \n",
       "[18,] 1  1  1  1  1  0  1  1  1  1   ⋯ 0   1   1   1   1   0   0   1   1   1  \n",
       "[19,] 1  1  1  0  1  0  1  0  0  1   ⋯ 0   0   1   1   0   0   1   0   1   0  \n",
       "[20,] 1  1  0  0  0  1  0  1  0  0   ⋯ 1   0   1   1   1   1   1   0   0   1  \n",
       "[21,] 0  1  1  1  0  1  1  1  0  0   ⋯ 1   0   1   0   0   1   1   0   1   0  "
      ]
     },
     "metadata": {},
     "output_type": "display_data"
    }
   ],
   "source": [
    "data <- read.table(\"krackhardt_advice.csv\", sep = ',')\n",
    "\n",
    "\n",
    "socio.matrix <- as.matrix(data)\n",
    "socio.matrix"
   ]
  },
  {
   "cell_type": "markdown",
   "metadata": {},
   "source": [
    "Присвоить имена столбцам и строкам социоматрицы (имена – пер-\n",
    "вая строка в csv-файле после комментариев)."
   ]
  },
  {
   "cell_type": "code",
   "execution_count": 44,
   "metadata": {},
   "outputs": [
    {
     "data": {
      "text/html": [
       "<table class=\"dataframe\">\n",
       "<caption>A matrix: 21 × 21 of type int</caption>\n",
       "<thead>\n",
       "\t<tr><th></th><th scope=col>V1</th><th scope=col>V2</th><th scope=col>V3</th><th scope=col>V4</th><th scope=col>V5</th><th scope=col>V6</th><th scope=col>V7</th><th scope=col>V8</th><th scope=col>V9</th><th scope=col>V10</th><th scope=col>⋯</th><th scope=col>V12</th><th scope=col>V13</th><th scope=col>V14</th><th scope=col>V15</th><th scope=col>V16</th><th scope=col>V17</th><th scope=col>V18</th><th scope=col>V19</th><th scope=col>V20</th><th scope=col>V21</th></tr>\n",
       "</thead>\n",
       "<tbody>\n",
       "\t<tr><th scope=row>V1</th><td>0</td><td>1</td><td>0</td><td>1</td><td>0</td><td>0</td><td>0</td><td>1</td><td>0</td><td>0</td><td>⋯</td><td>0</td><td>0</td><td>0</td><td>0</td><td>1</td><td>0</td><td>1</td><td>0</td><td>0</td><td>1</td></tr>\n",
       "\t<tr><th scope=row>V2</th><td>0</td><td>0</td><td>0</td><td>0</td><td>0</td><td>1</td><td>1</td><td>0</td><td>0</td><td>0</td><td>⋯</td><td>0</td><td>0</td><td>0</td><td>0</td><td>0</td><td>0</td><td>0</td><td>0</td><td>0</td><td>1</td></tr>\n",
       "\t<tr><th scope=row>V3</th><td>1</td><td>1</td><td>0</td><td>1</td><td>0</td><td>1</td><td>1</td><td>1</td><td>1</td><td>1</td><td>⋯</td><td>1</td><td>0</td><td>1</td><td>0</td><td>0</td><td>1</td><td>1</td><td>0</td><td>1</td><td>1</td></tr>\n",
       "\t<tr><th scope=row>V4</th><td>1</td><td>1</td><td>0</td><td>0</td><td>0</td><td>1</td><td>0</td><td>1</td><td>0</td><td>1</td><td>⋯</td><td>1</td><td>0</td><td>0</td><td>0</td><td>1</td><td>1</td><td>1</td><td>0</td><td>1</td><td>1</td></tr>\n",
       "\t<tr><th scope=row>V5</th><td>1</td><td>1</td><td>0</td><td>0</td><td>0</td><td>1</td><td>1</td><td>1</td><td>0</td><td>1</td><td>⋯</td><td>0</td><td>1</td><td>1</td><td>0</td><td>1</td><td>1</td><td>1</td><td>1</td><td>1</td><td>1</td></tr>\n",
       "\t<tr><th scope=row>V6</th><td>0</td><td>0</td><td>0</td><td>0</td><td>0</td><td>0</td><td>0</td><td>0</td><td>0</td><td>0</td><td>⋯</td><td>0</td><td>0</td><td>0</td><td>0</td><td>0</td><td>0</td><td>0</td><td>0</td><td>0</td><td>1</td></tr>\n",
       "\t<tr><th scope=row>V7</th><td>0</td><td>1</td><td>0</td><td>0</td><td>0</td><td>1</td><td>0</td><td>0</td><td>0</td><td>0</td><td>⋯</td><td>1</td><td>0</td><td>1</td><td>0</td><td>0</td><td>1</td><td>1</td><td>0</td><td>0</td><td>1</td></tr>\n",
       "\t<tr><th scope=row>V8</th><td>0</td><td>1</td><td>0</td><td>1</td><td>0</td><td>1</td><td>1</td><td>0</td><td>0</td><td>1</td><td>⋯</td><td>0</td><td>0</td><td>0</td><td>0</td><td>0</td><td>0</td><td>1</td><td>0</td><td>0</td><td>1</td></tr>\n",
       "\t<tr><th scope=row>V9</th><td>1</td><td>1</td><td>0</td><td>0</td><td>0</td><td>1</td><td>1</td><td>1</td><td>0</td><td>1</td><td>⋯</td><td>1</td><td>0</td><td>1</td><td>0</td><td>1</td><td>1</td><td>1</td><td>0</td><td>0</td><td>1</td></tr>\n",
       "\t<tr><th scope=row>V10</th><td>1</td><td>1</td><td>1</td><td>1</td><td>1</td><td>0</td><td>0</td><td>1</td><td>0</td><td>0</td><td>⋯</td><td>0</td><td>1</td><td>0</td><td>1</td><td>1</td><td>1</td><td>1</td><td>1</td><td>1</td><td>0</td></tr>\n",
       "\t<tr><th scope=row>V11</th><td>1</td><td>1</td><td>0</td><td>0</td><td>0</td><td>0</td><td>1</td><td>0</td><td>0</td><td>0</td><td>⋯</td><td>0</td><td>0</td><td>0</td><td>0</td><td>0</td><td>0</td><td>0</td><td>0</td><td>0</td><td>0</td></tr>\n",
       "\t<tr><th scope=row>V12</th><td>0</td><td>0</td><td>0</td><td>0</td><td>0</td><td>0</td><td>1</td><td>0</td><td>0</td><td>0</td><td>⋯</td><td>0</td><td>0</td><td>0</td><td>0</td><td>0</td><td>0</td><td>0</td><td>0</td><td>0</td><td>1</td></tr>\n",
       "\t<tr><th scope=row>V13</th><td>1</td><td>1</td><td>0</td><td>0</td><td>1</td><td>0</td><td>0</td><td>0</td><td>1</td><td>0</td><td>⋯</td><td>0</td><td>0</td><td>1</td><td>0</td><td>0</td><td>0</td><td>1</td><td>0</td><td>0</td><td>0</td></tr>\n",
       "\t<tr><th scope=row>V14</th><td>0</td><td>1</td><td>0</td><td>0</td><td>0</td><td>0</td><td>1</td><td>0</td><td>0</td><td>0</td><td>⋯</td><td>0</td><td>0</td><td>0</td><td>0</td><td>0</td><td>0</td><td>1</td><td>0</td><td>0</td><td>1</td></tr>\n",
       "\t<tr><th scope=row>V15</th><td>1</td><td>1</td><td>1</td><td>1</td><td>1</td><td>1</td><td>1</td><td>1</td><td>1</td><td>1</td><td>⋯</td><td>1</td><td>1</td><td>1</td><td>0</td><td>1</td><td>1</td><td>1</td><td>1</td><td>1</td><td>1</td></tr>\n",
       "\t<tr><th scope=row>V16</th><td>1</td><td>1</td><td>0</td><td>0</td><td>0</td><td>0</td><td>0</td><td>0</td><td>0</td><td>1</td><td>⋯</td><td>0</td><td>0</td><td>0</td><td>0</td><td>0</td><td>0</td><td>1</td><td>0</td><td>0</td><td>0</td></tr>\n",
       "\t<tr><th scope=row>V17</th><td>1</td><td>1</td><td>0</td><td>1</td><td>0</td><td>0</td><td>1</td><td>0</td><td>0</td><td>0</td><td>⋯</td><td>0</td><td>0</td><td>0</td><td>0</td><td>0</td><td>0</td><td>0</td><td>0</td><td>0</td><td>1</td></tr>\n",
       "\t<tr><th scope=row>V18</th><td>1</td><td>1</td><td>1</td><td>1</td><td>1</td><td>0</td><td>1</td><td>1</td><td>1</td><td>1</td><td>⋯</td><td>0</td><td>1</td><td>1</td><td>1</td><td>1</td><td>0</td><td>0</td><td>1</td><td>1</td><td>1</td></tr>\n",
       "\t<tr><th scope=row>V19</th><td>1</td><td>1</td><td>1</td><td>0</td><td>1</td><td>0</td><td>1</td><td>0</td><td>0</td><td>1</td><td>⋯</td><td>0</td><td>0</td><td>1</td><td>1</td><td>0</td><td>0</td><td>1</td><td>0</td><td>1</td><td>0</td></tr>\n",
       "\t<tr><th scope=row>V20</th><td>1</td><td>1</td><td>0</td><td>0</td><td>0</td><td>1</td><td>0</td><td>1</td><td>0</td><td>0</td><td>⋯</td><td>1</td><td>0</td><td>1</td><td>1</td><td>1</td><td>1</td><td>1</td><td>0</td><td>0</td><td>1</td></tr>\n",
       "\t<tr><th scope=row>V21</th><td>0</td><td>1</td><td>1</td><td>1</td><td>0</td><td>1</td><td>1</td><td>1</td><td>0</td><td>0</td><td>⋯</td><td>1</td><td>0</td><td>1</td><td>0</td><td>0</td><td>1</td><td>1</td><td>0</td><td>1</td><td>0</td></tr>\n",
       "</tbody>\n",
       "</table>\n"
      ],
      "text/latex": [
       "A matrix: 21 × 21 of type int\n",
       "\\begin{tabular}{r|lllllllllllllllllllll}\n",
       "  & V1 & V2 & V3 & V4 & V5 & V6 & V7 & V8 & V9 & V10 & ⋯ & V12 & V13 & V14 & V15 & V16 & V17 & V18 & V19 & V20 & V21\\\\\n",
       "\\hline\n",
       "\tV1 & 0 & 1 & 0 & 1 & 0 & 0 & 0 & 1 & 0 & 0 & ⋯ & 0 & 0 & 0 & 0 & 1 & 0 & 1 & 0 & 0 & 1\\\\\n",
       "\tV2 & 0 & 0 & 0 & 0 & 0 & 1 & 1 & 0 & 0 & 0 & ⋯ & 0 & 0 & 0 & 0 & 0 & 0 & 0 & 0 & 0 & 1\\\\\n",
       "\tV3 & 1 & 1 & 0 & 1 & 0 & 1 & 1 & 1 & 1 & 1 & ⋯ & 1 & 0 & 1 & 0 & 0 & 1 & 1 & 0 & 1 & 1\\\\\n",
       "\tV4 & 1 & 1 & 0 & 0 & 0 & 1 & 0 & 1 & 0 & 1 & ⋯ & 1 & 0 & 0 & 0 & 1 & 1 & 1 & 0 & 1 & 1\\\\\n",
       "\tV5 & 1 & 1 & 0 & 0 & 0 & 1 & 1 & 1 & 0 & 1 & ⋯ & 0 & 1 & 1 & 0 & 1 & 1 & 1 & 1 & 1 & 1\\\\\n",
       "\tV6 & 0 & 0 & 0 & 0 & 0 & 0 & 0 & 0 & 0 & 0 & ⋯ & 0 & 0 & 0 & 0 & 0 & 0 & 0 & 0 & 0 & 1\\\\\n",
       "\tV7 & 0 & 1 & 0 & 0 & 0 & 1 & 0 & 0 & 0 & 0 & ⋯ & 1 & 0 & 1 & 0 & 0 & 1 & 1 & 0 & 0 & 1\\\\\n",
       "\tV8 & 0 & 1 & 0 & 1 & 0 & 1 & 1 & 0 & 0 & 1 & ⋯ & 0 & 0 & 0 & 0 & 0 & 0 & 1 & 0 & 0 & 1\\\\\n",
       "\tV9 & 1 & 1 & 0 & 0 & 0 & 1 & 1 & 1 & 0 & 1 & ⋯ & 1 & 0 & 1 & 0 & 1 & 1 & 1 & 0 & 0 & 1\\\\\n",
       "\tV10 & 1 & 1 & 1 & 1 & 1 & 0 & 0 & 1 & 0 & 0 & ⋯ & 0 & 1 & 0 & 1 & 1 & 1 & 1 & 1 & 1 & 0\\\\\n",
       "\tV11 & 1 & 1 & 0 & 0 & 0 & 0 & 1 & 0 & 0 & 0 & ⋯ & 0 & 0 & 0 & 0 & 0 & 0 & 0 & 0 & 0 & 0\\\\\n",
       "\tV12 & 0 & 0 & 0 & 0 & 0 & 0 & 1 & 0 & 0 & 0 & ⋯ & 0 & 0 & 0 & 0 & 0 & 0 & 0 & 0 & 0 & 1\\\\\n",
       "\tV13 & 1 & 1 & 0 & 0 & 1 & 0 & 0 & 0 & 1 & 0 & ⋯ & 0 & 0 & 1 & 0 & 0 & 0 & 1 & 0 & 0 & 0\\\\\n",
       "\tV14 & 0 & 1 & 0 & 0 & 0 & 0 & 1 & 0 & 0 & 0 & ⋯ & 0 & 0 & 0 & 0 & 0 & 0 & 1 & 0 & 0 & 1\\\\\n",
       "\tV15 & 1 & 1 & 1 & 1 & 1 & 1 & 1 & 1 & 1 & 1 & ⋯ & 1 & 1 & 1 & 0 & 1 & 1 & 1 & 1 & 1 & 1\\\\\n",
       "\tV16 & 1 & 1 & 0 & 0 & 0 & 0 & 0 & 0 & 0 & 1 & ⋯ & 0 & 0 & 0 & 0 & 0 & 0 & 1 & 0 & 0 & 0\\\\\n",
       "\tV17 & 1 & 1 & 0 & 1 & 0 & 0 & 1 & 0 & 0 & 0 & ⋯ & 0 & 0 & 0 & 0 & 0 & 0 & 0 & 0 & 0 & 1\\\\\n",
       "\tV18 & 1 & 1 & 1 & 1 & 1 & 0 & 1 & 1 & 1 & 1 & ⋯ & 0 & 1 & 1 & 1 & 1 & 0 & 0 & 1 & 1 & 1\\\\\n",
       "\tV19 & 1 & 1 & 1 & 0 & 1 & 0 & 1 & 0 & 0 & 1 & ⋯ & 0 & 0 & 1 & 1 & 0 & 0 & 1 & 0 & 1 & 0\\\\\n",
       "\tV20 & 1 & 1 & 0 & 0 & 0 & 1 & 0 & 1 & 0 & 0 & ⋯ & 1 & 0 & 1 & 1 & 1 & 1 & 1 & 0 & 0 & 1\\\\\n",
       "\tV21 & 0 & 1 & 1 & 1 & 0 & 1 & 1 & 1 & 0 & 0 & ⋯ & 1 & 0 & 1 & 0 & 0 & 1 & 1 & 0 & 1 & 0\\\\\n",
       "\\end{tabular}\n"
      ],
      "text/markdown": [
       "\n",
       "A matrix: 21 × 21 of type int\n",
       "\n",
       "| <!--/--> | V1 | V2 | V3 | V4 | V5 | V6 | V7 | V8 | V9 | V10 | ⋯ | V12 | V13 | V14 | V15 | V16 | V17 | V18 | V19 | V20 | V21 |\n",
       "|---|---|---|---|---|---|---|---|---|---|---|---|---|---|---|---|---|---|---|---|---|---|\n",
       "| V1 | 0 | 1 | 0 | 1 | 0 | 0 | 0 | 1 | 0 | 0 | ⋯ | 0 | 0 | 0 | 0 | 1 | 0 | 1 | 0 | 0 | 1 |\n",
       "| V2 | 0 | 0 | 0 | 0 | 0 | 1 | 1 | 0 | 0 | 0 | ⋯ | 0 | 0 | 0 | 0 | 0 | 0 | 0 | 0 | 0 | 1 |\n",
       "| V3 | 1 | 1 | 0 | 1 | 0 | 1 | 1 | 1 | 1 | 1 | ⋯ | 1 | 0 | 1 | 0 | 0 | 1 | 1 | 0 | 1 | 1 |\n",
       "| V4 | 1 | 1 | 0 | 0 | 0 | 1 | 0 | 1 | 0 | 1 | ⋯ | 1 | 0 | 0 | 0 | 1 | 1 | 1 | 0 | 1 | 1 |\n",
       "| V5 | 1 | 1 | 0 | 0 | 0 | 1 | 1 | 1 | 0 | 1 | ⋯ | 0 | 1 | 1 | 0 | 1 | 1 | 1 | 1 | 1 | 1 |\n",
       "| V6 | 0 | 0 | 0 | 0 | 0 | 0 | 0 | 0 | 0 | 0 | ⋯ | 0 | 0 | 0 | 0 | 0 | 0 | 0 | 0 | 0 | 1 |\n",
       "| V7 | 0 | 1 | 0 | 0 | 0 | 1 | 0 | 0 | 0 | 0 | ⋯ | 1 | 0 | 1 | 0 | 0 | 1 | 1 | 0 | 0 | 1 |\n",
       "| V8 | 0 | 1 | 0 | 1 | 0 | 1 | 1 | 0 | 0 | 1 | ⋯ | 0 | 0 | 0 | 0 | 0 | 0 | 1 | 0 | 0 | 1 |\n",
       "| V9 | 1 | 1 | 0 | 0 | 0 | 1 | 1 | 1 | 0 | 1 | ⋯ | 1 | 0 | 1 | 0 | 1 | 1 | 1 | 0 | 0 | 1 |\n",
       "| V10 | 1 | 1 | 1 | 1 | 1 | 0 | 0 | 1 | 0 | 0 | ⋯ | 0 | 1 | 0 | 1 | 1 | 1 | 1 | 1 | 1 | 0 |\n",
       "| V11 | 1 | 1 | 0 | 0 | 0 | 0 | 1 | 0 | 0 | 0 | ⋯ | 0 | 0 | 0 | 0 | 0 | 0 | 0 | 0 | 0 | 0 |\n",
       "| V12 | 0 | 0 | 0 | 0 | 0 | 0 | 1 | 0 | 0 | 0 | ⋯ | 0 | 0 | 0 | 0 | 0 | 0 | 0 | 0 | 0 | 1 |\n",
       "| V13 | 1 | 1 | 0 | 0 | 1 | 0 | 0 | 0 | 1 | 0 | ⋯ | 0 | 0 | 1 | 0 | 0 | 0 | 1 | 0 | 0 | 0 |\n",
       "| V14 | 0 | 1 | 0 | 0 | 0 | 0 | 1 | 0 | 0 | 0 | ⋯ | 0 | 0 | 0 | 0 | 0 | 0 | 1 | 0 | 0 | 1 |\n",
       "| V15 | 1 | 1 | 1 | 1 | 1 | 1 | 1 | 1 | 1 | 1 | ⋯ | 1 | 1 | 1 | 0 | 1 | 1 | 1 | 1 | 1 | 1 |\n",
       "| V16 | 1 | 1 | 0 | 0 | 0 | 0 | 0 | 0 | 0 | 1 | ⋯ | 0 | 0 | 0 | 0 | 0 | 0 | 1 | 0 | 0 | 0 |\n",
       "| V17 | 1 | 1 | 0 | 1 | 0 | 0 | 1 | 0 | 0 | 0 | ⋯ | 0 | 0 | 0 | 0 | 0 | 0 | 0 | 0 | 0 | 1 |\n",
       "| V18 | 1 | 1 | 1 | 1 | 1 | 0 | 1 | 1 | 1 | 1 | ⋯ | 0 | 1 | 1 | 1 | 1 | 0 | 0 | 1 | 1 | 1 |\n",
       "| V19 | 1 | 1 | 1 | 0 | 1 | 0 | 1 | 0 | 0 | 1 | ⋯ | 0 | 0 | 1 | 1 | 0 | 0 | 1 | 0 | 1 | 0 |\n",
       "| V20 | 1 | 1 | 0 | 0 | 0 | 1 | 0 | 1 | 0 | 0 | ⋯ | 1 | 0 | 1 | 1 | 1 | 1 | 1 | 0 | 0 | 1 |\n",
       "| V21 | 0 | 1 | 1 | 1 | 0 | 1 | 1 | 1 | 0 | 0 | ⋯ | 1 | 0 | 1 | 0 | 0 | 1 | 1 | 0 | 1 | 0 |\n",
       "\n"
      ],
      "text/plain": [
       "    V1 V2 V3 V4 V5 V6 V7 V8 V9 V10 ⋯ V12 V13 V14 V15 V16 V17 V18 V19 V20 V21\n",
       "V1  0  1  0  1  0  0  0  1  0  0   ⋯ 0   0   0   0   1   0   1   0   0   1  \n",
       "V2  0  0  0  0  0  1  1  0  0  0   ⋯ 0   0   0   0   0   0   0   0   0   1  \n",
       "V3  1  1  0  1  0  1  1  1  1  1   ⋯ 1   0   1   0   0   1   1   0   1   1  \n",
       "V4  1  1  0  0  0  1  0  1  0  1   ⋯ 1   0   0   0   1   1   1   0   1   1  \n",
       "V5  1  1  0  0  0  1  1  1  0  1   ⋯ 0   1   1   0   1   1   1   1   1   1  \n",
       "V6  0  0  0  0  0  0  0  0  0  0   ⋯ 0   0   0   0   0   0   0   0   0   1  \n",
       "V7  0  1  0  0  0  1  0  0  0  0   ⋯ 1   0   1   0   0   1   1   0   0   1  \n",
       "V8  0  1  0  1  0  1  1  0  0  1   ⋯ 0   0   0   0   0   0   1   0   0   1  \n",
       "V9  1  1  0  0  0  1  1  1  0  1   ⋯ 1   0   1   0   1   1   1   0   0   1  \n",
       "V10 1  1  1  1  1  0  0  1  0  0   ⋯ 0   1   0   1   1   1   1   1   1   0  \n",
       "V11 1  1  0  0  0  0  1  0  0  0   ⋯ 0   0   0   0   0   0   0   0   0   0  \n",
       "V12 0  0  0  0  0  0  1  0  0  0   ⋯ 0   0   0   0   0   0   0   0   0   1  \n",
       "V13 1  1  0  0  1  0  0  0  1  0   ⋯ 0   0   1   0   0   0   1   0   0   0  \n",
       "V14 0  1  0  0  0  0  1  0  0  0   ⋯ 0   0   0   0   0   0   1   0   0   1  \n",
       "V15 1  1  1  1  1  1  1  1  1  1   ⋯ 1   1   1   0   1   1   1   1   1   1  \n",
       "V16 1  1  0  0  0  0  0  0  0  1   ⋯ 0   0   0   0   0   0   1   0   0   0  \n",
       "V17 1  1  0  1  0  0  1  0  0  0   ⋯ 0   0   0   0   0   0   0   0   0   1  \n",
       "V18 1  1  1  1  1  0  1  1  1  1   ⋯ 0   1   1   1   1   0   0   1   1   1  \n",
       "V19 1  1  1  0  1  0  1  0  0  1   ⋯ 0   0   1   1   0   0   1   0   1   0  \n",
       "V20 1  1  0  0  0  1  0  1  0  0   ⋯ 1   0   1   1   1   1   1   0   0   1  \n",
       "V21 0  1  1  1  0  1  1  1  0  0   ⋯ 1   0   1   0   0   1   1   0   1   0  "
      ]
     },
     "metadata": {},
     "output_type": "display_data"
    }
   ],
   "source": [
    "data <- read.table(\"krackhardt_advice.csv\", header=FALSE, sep = ',')\n",
    "\n",
    "\n",
    "socio.matrix <- as.matrix(data)\n",
    "g <- network(socio.matrix, directed=TRUE)\n",
    "rownames(socio.matrix) <- network.vertex.names(g)\n",
    "socio.matrix"
   ]
  },
  {
   "cell_type": "markdown",
   "metadata": {},
   "source": [
    "С помощью соответствующих функций по полученной социоматрице построить направленную сеть. Объяснить параметры, передаваемые в функцию."
   ]
  },
  {
   "cell_type": "code",
   "execution_count": 45,
   "metadata": {},
   "outputs": [],
   "source": [
    "gr <- graph_from_adjacency_matrix(socio.matrix, mode = \"directed\")"
   ]
  },
  {
   "cell_type": "markdown",
   "metadata": {},
   "source": [
    "Принимает на вход социоматрицу и направленность графа, в данном случае направленный."
   ]
  },
  {
   "cell_type": "markdown",
   "metadata": {},
   "source": [
    "Отобразить сеть с помощью алгоритмов укладки Фрюхтермана–Рейнгольда и Камада–Каваи. Объяснить, в чём различие между\n",
    "алгоритмами и укладками."
   ]
  },
  {
   "cell_type": "code",
   "execution_count": 46,
   "metadata": {},
   "outputs": [
    {
     "data": {
      "image/png": "[encoded data removed]",
      "text/plain": [
       "Plot with title \"Fruchterman-Reingold\""
      ]
     },
     "metadata": {
      "image/png": {
       "height": 420,
       "width": 420
      }
     },
     "output_type": "display_data"
    },
    {
     "data": {
      "image/png": "[encoded data removed]",
      "text/plain": [
       "Plot with title \"Kamada-Kawai\""
      ]
     },
     "metadata": {
      "image/png": {
       "height": 420,
       "width": 420
      }
     },
     "output_type": "display_data"
    }
   ],
   "source": [
    "plot.network(g, \n",
    "             mode = \"fruchtermanreingold\",\n",
    "             label = network.vertex.names(g),\n",
    "             main = \"Fruchterman-Reingold\"\n",
    ")\n",
    "\n",
    "plot.network(g, \n",
    "             mode = \"kamadakawai\",\n",
    "             label = network.vertex.names(g),\n",
    "             main = \"Kamada-Kawai\"\n",
    ")"
   ]
  },
  {
   "cell_type": "code",
   "execution_count": null,
   "metadata": {},
   "outputs": [],
   "source": [
    "Вывести «описательную сводку» сети."
   ]
  },
  {
   "cell_type": "code",
   "execution_count": 47,
   "metadata": {},
   "outputs": [
    {
     "name": "stdout",
     "output_type": "stream",
     "text": [
      "       V1              V2               V3               V4       \n",
      " Min.   :0.000   Min.   :0.0000   Min.   :0.0000   Min.   :0.000  \n",
      " 1st Qu.:0.000   1st Qu.:1.0000   1st Qu.:0.0000   1st Qu.:0.000  \n",
      " Median :1.000   Median :1.0000   Median :0.0000   Median :0.000  \n",
      " Mean   :0.619   Mean   :0.8571   Mean   :0.2381   Mean   :0.381  \n",
      " 3rd Qu.:1.000   3rd Qu.:1.0000   3rd Qu.:0.0000   3rd Qu.:1.000  \n",
      " Max.   :1.000   Max.   :1.0000   Max.   :1.0000   Max.   :1.000  \n",
      "       V5               V6               V7              V8        \n",
      " Min.   :0.0000   Min.   :0.0000   Min.   :0.000   Min.   :0.0000  \n",
      " 1st Qu.:0.0000   1st Qu.:0.0000   1st Qu.:0.000   1st Qu.:0.0000  \n",
      " Median :0.0000   Median :0.0000   Median :1.000   Median :0.0000  \n",
      " Mean   :0.2381   Mean   :0.4762   Mean   :0.619   Mean   :0.4762  \n",
      " 3rd Qu.:0.0000   3rd Qu.:1.0000   3rd Qu.:1.000   3rd Qu.:1.0000  \n",
      " Max.   :1.0000   Max.   :1.0000   Max.   :1.000   Max.   :1.0000  \n",
      "       V9              V10              V11              V12        \n",
      " Min.   :0.0000   Min.   :0.0000   Min.   :0.0000   Min.   :0.0000  \n",
      " 1st Qu.:0.0000   1st Qu.:0.0000   1st Qu.:0.0000   1st Qu.:0.0000  \n",
      " Median :0.0000   Median :0.0000   Median :1.0000   Median :0.0000  \n",
      " Mean   :0.1905   Mean   :0.4286   Mean   :0.5238   Mean   :0.3333  \n",
      " 3rd Qu.:0.0000   3rd Qu.:1.0000   3rd Qu.:1.0000   3rd Qu.:1.0000  \n",
      " Max.   :1.0000   Max.   :1.0000   Max.   :1.0000   Max.   :1.0000  \n",
      "      V13              V14              V15              V16       \n",
      " Min.   :0.0000   Min.   :0.0000   Min.   :0.0000   Min.   :0.000  \n",
      " 1st Qu.:0.0000   1st Qu.:0.0000   1st Qu.:0.0000   1st Qu.:0.000  \n",
      " Median :0.0000   Median :0.0000   Median :0.0000   Median :0.000  \n",
      " Mean   :0.1905   Mean   :0.4762   Mean   :0.1905   Mean   :0.381  \n",
      " 3rd Qu.:0.0000   3rd Qu.:1.0000   3rd Qu.:0.0000   3rd Qu.:1.000  \n",
      " Max.   :1.0000   Max.   :1.0000   Max.   :1.0000   Max.   :1.000  \n",
      "      V17              V18              V19              V20       \n",
      " Min.   :0.0000   Min.   :0.0000   Min.   :0.0000   Min.   :0.000  \n",
      " 1st Qu.:0.0000   1st Qu.:0.0000   1st Qu.:0.0000   1st Qu.:0.000  \n",
      " Median :0.0000   Median :1.0000   Median :0.0000   Median :0.000  \n",
      " Mean   :0.4286   Mean   :0.7143   Mean   :0.1905   Mean   :0.381  \n",
      " 3rd Qu.:1.0000   3rd Qu.:1.0000   3rd Qu.:0.0000   3rd Qu.:1.000  \n",
      " Max.   :1.0000   Max.   :1.0000   Max.   :1.0000   Max.   :1.000  \n",
      "      V21        \n",
      " Min.   :0.0000  \n",
      " 1st Qu.:0.0000  \n",
      " Median :1.0000  \n",
      " Mean   :0.7143  \n",
      " 3rd Qu.:1.0000  \n",
      " Max.   :1.0000  \n"
     ]
    }
   ],
   "source": [
    "print(summary(socio.matrix))"
   ]
  },
  {
   "cell_type": "code",
   "execution_count": 49,
   "metadata": {},
   "outputs": [
    {
     "name": "stdout",
     "output_type": "stream",
     "text": [
      "\n",
      "Размер сети:  21\n",
      "Плотность сети  0.452381\n",
      "Диаметр сети:  3\n",
      " Число компонент в сети:  1\n",
      "Коэффициент кластеризации:  0.7345088"
     ]
    }
   ],
   "source": [
    "cat(\"\\nРазмер сети: \", gorder(gr))\n",
    "cat(\"\\nПлотность сети \", edge_density(gr))\n",
    "cat(\"\\nДиаметр сети: \", diameter(gr))\n",
    "cat(\"\\n Число компонент в сети: \", components(g))\n",
    "cat(\"\\nКоэффициент кластеризации: \", transitivity(gr))"
   ]
  },
  {
   "cell_type": "markdown",
   "metadata": {},
   "source": [
    "Вычислить среднюю степень узлов и дисперсию. "
   ]
  },
  {
   "cell_type": "code",
   "execution_count": 53,
   "metadata": {},
   "outputs": [
    {
     "name": "stdout",
     "output_type": "stream",
     "text": [
      "7. Вычислить среднюю степень узлов и дисперсию.\n",
      "Средняя степень узлов сети:  18.09524\n",
      " - in:  9.047619\n",
      " - out  9.047619\n",
      "\tДисперсия:  32.19048\n",
      " - in:  16.54762\n",
      " - out:  29.74762"
     ]
    }
   ],
   "source": [
    "cat(\"7. Вычислить среднюю степень узлов и дисперсию.\")\n",
    "cat(\"\\nСредняя степень узлов сети: \", mean(igraph::degree(gr)))\n",
    "cat(\"\\n - in: \", mean(igraph::degree(gr, mode=\"in\")))\n",
    "cat(\"\\n - out \", mean(igraph::degree(gr, mode=\"out\")))\n",
    "cat(\"\\n\\tДисперсия: \", varience<-var(igraph::degree(gr)))\n",
    "cat(\"\\n - in: \", var(igraph::degree(gr, mode=\"in\")))\n",
    "cat(\"\\n - out: \", var(igraph::degree(gr, mode=\"out\")))"
   ]
  },
  {
   "cell_type": "markdown",
   "metadata": {},
   "source": [
    "Также можно (и нужно) вставлять таблицы. [Удобный сайт для создания Markdown-таблиц.](https://www.tablesgenerator.com/markdown_tables \"Markdown Tables generator\")\n",
    "\n",
    "Не забывайте проанализировать полученные результаты."
   ]
  },
  {
   "cell_type": "markdown",
   "metadata": {},
   "source": [
    "Заполнить таблицу для различных мер престижа"
   ]
  },
  {
   "cell_type": "code",
   "execution_count": 54,
   "metadata": {},
   "outputs": [
    {
     "data": {
      "text/html": [
       "<table class=\"dataframe\">\n",
       "<caption>A data.frame: 21 × 3</caption>\n",
       "<thead>\n",
       "\t<tr><th></th><th scope=col>n_i</th><th scope=col>PD_ni</th><th scope=col>PP_ni</th></tr>\n",
       "\t<tr><th></th><th scope=col>&lt;int&gt;</th><th scope=col>&lt;dbl&gt;</th><th scope=col>&lt;dbl&gt;</th></tr>\n",
       "</thead>\n",
       "<tbody>\n",
       "\t<tr><th scope=row>V1</th><td> 1</td><td>0.65</td><td>0.8333333</td></tr>\n",
       "\t<tr><th scope=row>V2</th><td> 2</td><td>0.90</td><td>0.9523810</td></tr>\n",
       "\t<tr><th scope=row>V3</th><td> 3</td><td>0.25</td><td>0.8695652</td></tr>\n",
       "\t<tr><th scope=row>V4</th><td> 4</td><td>0.40</td><td>0.7692308</td></tr>\n",
       "\t<tr><th scope=row>V5</th><td> 5</td><td>0.25</td><td>0.8333333</td></tr>\n",
       "\t<tr><th scope=row>V6</th><td> 6</td><td>0.50</td><td>0.6666667</td></tr>\n",
       "\t<tr><th scope=row>V7</th><td> 7</td><td>0.65</td><td>0.7692308</td></tr>\n",
       "\t<tr><th scope=row>V8</th><td> 8</td><td>0.50</td><td>0.7692308</td></tr>\n",
       "\t<tr><th scope=row>V9</th><td> 9</td><td>0.20</td><td>0.8333333</td></tr>\n",
       "\t<tr><th scope=row>V10</th><td>10</td><td>0.45</td><td>0.8000000</td></tr>\n",
       "\t<tr><th scope=row>V11</th><td>11</td><td>0.55</td><td>0.7407407</td></tr>\n",
       "\t<tr><th scope=row>V12</th><td>12</td><td>0.35</td><td>0.6060606</td></tr>\n",
       "\t<tr><th scope=row>V13</th><td>13</td><td>0.20</td><td>0.6250000</td></tr>\n",
       "\t<tr><th scope=row>V14</th><td>14</td><td>0.50</td><td>0.6896552</td></tr>\n",
       "\t<tr><th scope=row>V15</th><td>15</td><td>0.20</td><td>1.0000000</td></tr>\n",
       "\t<tr><th scope=row>V16</th><td>16</td><td>0.40</td><td>0.6451613</td></tr>\n",
       "\t<tr><th scope=row>V17</th><td>17</td><td>0.45</td><td>0.6896552</td></tr>\n",
       "\t<tr><th scope=row>V18</th><td>18</td><td>0.75</td><td>0.8695652</td></tr>\n",
       "\t<tr><th scope=row>V19</th><td>19</td><td>0.20</td><td>0.6896552</td></tr>\n",
       "\t<tr><th scope=row>V20</th><td>20</td><td>0.40</td><td>0.8695652</td></tr>\n",
       "\t<tr><th scope=row>V21</th><td>21</td><td>0.75</td><td>0.8000000</td></tr>\n",
       "</tbody>\n",
       "</table>\n"
      ],
      "text/latex": [
       "A data.frame: 21 × 3\n",
       "\\begin{tabular}{r|lll}\n",
       "  & n\\_i & PD\\_ni & PP\\_ni\\\\\n",
       "  & <int> & <dbl> & <dbl>\\\\\n",
       "\\hline\n",
       "\tV1 &  1 & 0.65 & 0.8333333\\\\\n",
       "\tV2 &  2 & 0.90 & 0.9523810\\\\\n",
       "\tV3 &  3 & 0.25 & 0.8695652\\\\\n",
       "\tV4 &  4 & 0.40 & 0.7692308\\\\\n",
       "\tV5 &  5 & 0.25 & 0.8333333\\\\\n",
       "\tV6 &  6 & 0.50 & 0.6666667\\\\\n",
       "\tV7 &  7 & 0.65 & 0.7692308\\\\\n",
       "\tV8 &  8 & 0.50 & 0.7692308\\\\\n",
       "\tV9 &  9 & 0.20 & 0.8333333\\\\\n",
       "\tV10 & 10 & 0.45 & 0.8000000\\\\\n",
       "\tV11 & 11 & 0.55 & 0.7407407\\\\\n",
       "\tV12 & 12 & 0.35 & 0.6060606\\\\\n",
       "\tV13 & 13 & 0.20 & 0.6250000\\\\\n",
       "\tV14 & 14 & 0.50 & 0.6896552\\\\\n",
       "\tV15 & 15 & 0.20 & 1.0000000\\\\\n",
       "\tV16 & 16 & 0.40 & 0.6451613\\\\\n",
       "\tV17 & 17 & 0.45 & 0.6896552\\\\\n",
       "\tV18 & 18 & 0.75 & 0.8695652\\\\\n",
       "\tV19 & 19 & 0.20 & 0.6896552\\\\\n",
       "\tV20 & 20 & 0.40 & 0.8695652\\\\\n",
       "\tV21 & 21 & 0.75 & 0.8000000\\\\\n",
       "\\end{tabular}\n"
      ],
      "text/markdown": [
       "\n",
       "A data.frame: 21 × 3\n",
       "\n",
       "| <!--/--> | n_i &lt;int&gt; | PD_ni &lt;dbl&gt; | PP_ni &lt;dbl&gt; |\n",
       "|---|---|---|---|\n",
       "| V1 |  1 | 0.65 | 0.8333333 |\n",
       "| V2 |  2 | 0.90 | 0.9523810 |\n",
       "| V3 |  3 | 0.25 | 0.8695652 |\n",
       "| V4 |  4 | 0.40 | 0.7692308 |\n",
       "| V5 |  5 | 0.25 | 0.8333333 |\n",
       "| V6 |  6 | 0.50 | 0.6666667 |\n",
       "| V7 |  7 | 0.65 | 0.7692308 |\n",
       "| V8 |  8 | 0.50 | 0.7692308 |\n",
       "| V9 |  9 | 0.20 | 0.8333333 |\n",
       "| V10 | 10 | 0.45 | 0.8000000 |\n",
       "| V11 | 11 | 0.55 | 0.7407407 |\n",
       "| V12 | 12 | 0.35 | 0.6060606 |\n",
       "| V13 | 13 | 0.20 | 0.6250000 |\n",
       "| V14 | 14 | 0.50 | 0.6896552 |\n",
       "| V15 | 15 | 0.20 | 1.0000000 |\n",
       "| V16 | 16 | 0.40 | 0.6451613 |\n",
       "| V17 | 17 | 0.45 | 0.6896552 |\n",
       "| V18 | 18 | 0.75 | 0.8695652 |\n",
       "| V19 | 19 | 0.20 | 0.6896552 |\n",
       "| V20 | 20 | 0.40 | 0.8695652 |\n",
       "| V21 | 21 | 0.75 | 0.8000000 |\n",
       "\n"
      ],
      "text/plain": [
       "    n_i PD_ni PP_ni    \n",
       "V1   1  0.65  0.8333333\n",
       "V2   2  0.90  0.9523810\n",
       "V3   3  0.25  0.8695652\n",
       "V4   4  0.40  0.7692308\n",
       "V5   5  0.25  0.8333333\n",
       "V6   6  0.50  0.6666667\n",
       "V7   7  0.65  0.7692308\n",
       "V8   8  0.50  0.7692308\n",
       "V9   9  0.20  0.8333333\n",
       "V10 10  0.45  0.8000000\n",
       "V11 11  0.55  0.7407407\n",
       "V12 12  0.35  0.6060606\n",
       "V13 13  0.20  0.6250000\n",
       "V14 14  0.50  0.6896552\n",
       "V15 15  0.20  1.0000000\n",
       "V16 16  0.40  0.6451613\n",
       "V17 17  0.45  0.6896552\n",
       "V18 18  0.75  0.8695652\n",
       "V19 19  0.20  0.6896552\n",
       "V20 20  0.40  0.8695652\n",
       "V21 21  0.75  0.8000000"
      ]
     },
     "metadata": {},
     "output_type": "display_data"
    }
   ],
   "source": [
    "x_plus_i <- igraph::degree(gr, mode=\"in\", normalized=\"true\")\n",
    "gr_order <- gorder(gr)\n",
    "\n",
    "i <- 1\n",
    "ls <- list()\n",
    "\n",
    "for(vertex in V(gr)) {\n",
    "  num_Ii <- length(subcomponent(gr, vertex)) - 1\n",
    "  d_nj_ni <- distances(gr, v=vertex)\n",
    "  ls[[i]] <- (num_Ii/(gr_order - 1))/(sum(d_nj_ni/num_Ii))\n",
    "  i <- i + 1\n",
    "}\n",
    "result <- unlist(ls)\n",
    "\n",
    "\n",
    "b <- data.frame(\n",
    "  n_i = 1:gr_order,\n",
    "  PD_ni = x_plus_i,\n",
    "  PP_ni = result \n",
    ")\n",
    "\n",
    "b"
   ]
  },
  {
   "cell_type": "markdown",
   "metadata": {},
   "source": [
    "Престиж по степени показывает, насколько много соседних вершин имеет вершина. Престиж по близости показывает, как все остальные вершины связаны с ней."
   ]
  },
  {
   "cell_type": "markdown",
   "metadata": {},
   "source": [
    "## Выводы\n",
    "\n",
    "В ходе данной практической работы были получены практические знания по работе с сетями. Был изучен процесс моделирования, визуализации и анализа сетей. Были использованы пакеты igraph и statnet, что позволило упростить работу с сетями. Также были закреплены базовые навыки работы с языком R."
   ]
  },
  {
   "cell_type": "code",
   "execution_count": null,
   "metadata": {},
   "outputs": [],
   "source": []
  }
 ],
 "metadata": {
  "kernelspec": {
   "display_name": "R",
   "language": "R",
   "name": "ir"
  },
  "language_info": {
   "codemirror_mode": "r",
   "file_extension": ".r",
   "mimetype": "text/x-r-source",
   "name": "R",
   "pygments_lexer": "r",
   "version": "4.2.1"
  }
 },
 "nbformat": 4,
 "nbformat_minor": 4
}
