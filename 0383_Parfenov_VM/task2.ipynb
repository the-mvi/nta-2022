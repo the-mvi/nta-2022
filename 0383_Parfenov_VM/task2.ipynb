{
 "cells": [
  {
   "cell_type": "markdown",
   "metadata": {},
   "source": [
    "# Практическая работа №2: Исследование подгрупп сетей. Сети аффилированности.\n",
    "Выполнил студент гр. 0383 Парфенов Владислав. Вариант №58"
   ]
  },
  {
   "cell_type": "markdown",
   "metadata": {},
   "source": [
    "## Цель работы\n",
    "Овладеть навыками работы с математическими пакетами для исследова-\n",
    "ния подгрупп в социальных сетях, а также моделирования, отображения\n",
    "и анализа сетей аффилированности."
   ]
  },
  {
   "cell_type": "markdown",
   "metadata": {},
   "source": [
    "## Основные теоретические положения\n",
    "n-клика - максимальный подграф, в котором наибольшее геодезическое расстояние между любыми двумя узлами не превышает n.\n",
    "\n",
    "n-клан - n-клика, в которой геодезическое расстояние между всеми узлами в подграфе не превышает n для путей внутри подграфа.\n",
    "\n",
    "n-клуб - максимальный подграф диаметра меньше либо равно n.\n",
    "\n",
    "k-ядро - максимальный подграф, в котором каждая вершина связана минимум с k другими вершинами этого же подграфа.\n",
    "\n",
    "k-плекс - максимальный подграф, содержащий $g_s$ узлов, в котором каждый узел смежен с не менее чем с $g_s - k$ узлами подграфа.\n",
    "\n",
    "Полупуть от узла i до узла j - последовательность различных узлов, где все последовательные пары узлов соединены дугой от первого ко второму или наоборот.\n",
    "\n",
    "Модулярность - характеристика структуры сети, в частности степень кластеризации узлов, когда внутри кластера наблюдается много узлов, а между кластерами мало узлов. показатель модулярности определяется как разница между долей связей внутри группы и ожидаемой доли связей, если бы связи были размещены случайно.\n",
    "\n",
    "Сеть аффилированности - сеть, в которой участники аффилированы друг с другом на основе сотрудничества в рамках какой-то группы или совместного участия в определенном событии. Сеть состоит из двух измерений.\n",
    "\n",
    "Гиперграф - обобщение понятия графа: гиперграф состоит из множества объектов и множества подмножеств объектов, в котором каждый объект принадлежит хотя бы одному подмножеству, причем ни одно подмножество не является пустым.\n",
    "\n",
    "$\\cal {H = H(A, B)}$, где $\\cal{A} = \\{a_1, ..., a_n\\}$ - множество объектов; $\\cal{B} = \\{b_1, ..., b_n\\}$ - множество ребер\n",
    "\n",
    "Двойственный гипеграф для гипперграфа $\\cal {H = H(A, B)}$:\n",
    "\n",
    "$\\cal {H* = H(B, A)}$, где $\\cal{A} = \\{a_1, ..., a_n\\}$ - множество ребер; $\\cal{B} = \\{b_1, ..., b_n\\}$ - множество объектов\n",
    "\n",
    "Матрица соучастия акторов:\n",
    "$X^{\\cal{N}} = \\{x_{ij}^{\\cal{N}} \\}$\n",
    "\n",
    "$x_{ij}^{\\cal{N}} = \\sum_{k = 1}^{h} a_{ik}a_{jk}$\n",
    "\n",
    "Матрица перекрытия событий:\n",
    "$X^{\\cal{M}} = \\{x_{kl}^{\\cal{M}} \\}$\n",
    "\n",
    "$x_{kl}^{\\cal{M}} = \\sum_{i = 1}^{g} a_{ik}a_{jl}$\n",
    "\n",
    "Степень участия - количество событий, с которым связан каждый актор.\n",
    "\n",
    "$a_{i+} = \\sum_{j = 1}^{h} a_{ij} = x_{ii}^{\\cal{N}}$\n",
    "\n",
    "Размер событий:\n",
    "\n",
    "$a_{+j} = \\sum_{i = 1}^{g} a_{ij} = x_{ii}^{\\cal{M}}$\n",
    "\n",
    "Средний размер событий - среднее количество акторов в каждом событии или средняя степень узлов, прндставляющих события в двудольном графе.\n",
    "\n",
    "$\\overline {a}_{ij} = \\frac{1}{h} \\sum_{j = 1}^{h} x_{jj}^{\\cal{M}}$\n",
    "\n",
    "Связная сеть аффилированности - сеть, в которой все пары узлов достижимы.\n",
    "\n",
    "Диаметр аффилированной сети - длина самого длинного пути между любой парой акторов и/или событий.\n",
    "\n",
    "Клика уровня с в взвешенном графе - максимальный полный подграф из трех или более узлов, все из которых являются смежными на уровне c, то есть между всеми парами узлов есть ребра со значениями, большими или равными c.\n",
    "\n",
    "Клика уровня с для отношения соучастия - подграф, в котором все пары акторов совместно участвуют не менее чем в c событиях.\n",
    "\n",
    "Клика уровня с для отношения перекрытия - подграф, в котором все пары событий имеют не менее с общих членов.\n",
    "\n",
    "Свойства сетей аффилированности:\n",
    "\n",
    "* Количество перекрывающихся связей между событиями частично зависит от количества событий, к которым принадлежат акторы.\n",
    "\n",
    "* Количество связей соучастия между акторами частично зависит от размера событий.\n",
    "\n",
    "* Актор, принадлежащий $a_{i+}$ событиям, создает $C_{a_{i+}}^2$ парных связей между событиями.\n",
    "\n",
    "* Событие с участиеми $a_{+j}$ участников создает $C_{a_{+о}}^2$ связей между парами акторов.\n",
    "\n",
    "* Плотность для дихотомического отношения - доля присутствующих связей.\n",
    "\n",
    "* Плоность для ценностных отношений - среднее значение связей."
   ]
  },
  {
   "cell_type": "markdown",
   "metadata": {},
   "source": [
    "## Постановка задачи\n",
    "Данный пункт оформляется в соответствии с указаниями к практической работе."
   ]
  },
  {
   "cell_type": "code",
   "execution_count": null,
   "metadata": {
    "vscode": {
     "languageId": "r"
    }
   },
   "outputs": [
    {
     "ename": "",
     "evalue": "",
     "output_type": "error",
     "traceback": [
      "\u001b[1;31mFailed to start the Kernel. \n",
      "\u001b[1;31mThe kernel 'R' was not started as it is located in an insecure location 'c:\\ProgramData\\jupyter\\kernels\\ir\\kernel.json'.  \n",
      "\u001b[1;31mClick <a href='https://aka.ms/JupyterTrustedKernelPaths'>here</a> for further details, optionally update the setting <a href='command:workbench.action.openSettings?[\"jupyter.kernels.trusted\"]'>jupyter.kernels.trusted</a> to trust the kernel."
     ]
    }
   ],
   "source": [
    "install.packages('HyperG')\n",
    "library(igraph)\n",
    "library(HyperG)\n",
    "\n",
    "install.packages(\"statnet\", ,dependencies=TRUE);\n",
    "library(statnet)"
   ]
  },
  {
   "cell_type": "markdown",
   "metadata": {},
   "source": [
    "## Выполнение работы"
   ]
  },
  {
   "cell_type": "markdown",
   "metadata": {},
   "source": [
    "1. Из файла florentine_business.csv (для нечётных вариантов) и файла  florentine_marital.csv (для чётных вариантов) извлечь социоматрицу с помощью соответствующих функций. Отобразить сеть с помощью одного из алгоритмов укладки."
   ]
  },
  {
   "cell_type": "code",
   "execution_count": null,
   "metadata": {
    "vscode": {
     "languageId": "r"
    }
   },
   "outputs": [
    {
     "ename": "",
     "evalue": "",
     "output_type": "error",
     "traceback": [
      "\u001b[1;31mFailed to start the Kernel. \n",
      "\u001b[1;31mThe kernel 'R' was not started as it is located in an insecure location 'c:\\ProgramData\\jupyter\\kernels\\ir\\kernel.json'.  \n",
      "\u001b[1;31mClick <a href='https://aka.ms/JupyterTrustedKernelPaths'>here</a> for further details, optionally update the setting <a href='command:workbench.action.openSettings?[\"jupyter.kernels.trusted\"]'>jupyter.kernels.trusted</a> to trust the kernel."
     ]
    }
   ],
   "source": [
    "matrix <- read.csv(\"./florentine_marital.csv\", header = T, skip = 1)\n",
    "\n",
    "matrix_names <- matrix\n",
    "rownames(matrix_names) <- colnames(matrix_names) \n",
    "\n",
    "\n",
    "net1 <- network(as.matrix(matrix_names), matrix.type = \"adjacency\", directed = FALSE) #матрица, тип матрицы, направленность\n",
    "\n",
    "gplot(net1, mode = \"fruchtermanreingold\", gmode = \"graph\", displaylabels = T) #параметры: сеть, алгоритм, тип графа(ненаправленные ребра), показать имена акторов\n",
    "\n"
   ]
  },
  {
   "cell_type": "markdown",
   "metadata": {},
   "source": [
    "2. Исследовать данную сеть на предмет подгрупп с помощью:\n",
    "* 𝑛-клик;\n",
    "* 𝑛-кланов;\n",
    "* 𝑛-клубов;\n",
    "* 𝑘-ядер;\n",
    "* 𝑘-плексов\n",
    "\n",
    "Указать какие подгруппы плучились. Сделать выводы."
   ]
  },
  {
   "cell_type": "code",
   "execution_count": null,
   "metadata": {
    "vscode": {
     "languageId": "r"
    }
   },
   "outputs": [
    {
     "ename": "",
     "evalue": "",
     "output_type": "error",
     "traceback": [
      "\u001b[1;31mFailed to start the Kernel. \n",
      "\u001b[1;31mThe kernel 'R' was not started as it is located in an insecure location 'c:\\ProgramData\\jupyter\\kernels\\ir\\kernel.json'.  \n",
      "\u001b[1;31mClick <a href='https://aka.ms/JupyterTrustedKernelPaths'>here</a> for further details, optionally update the setting <a href='command:workbench.action.openSettings?[\"jupyter.kernels.trusted\"]'>jupyter.kernels.trusted</a> to trust the kernel."
     ]
    }
   ],
   "source": [
    "\n",
    "gr <- graph.adjacency(as.matrix(net1), mode=\"undirected\") #граф\n",
    "\n",
    "print(\"1-клики\")\n",
    "\n",
    "click_1 <- max_cliques(gr, min = 3) #функция, которая ищет 1-клики\n",
    "print(click_1) \n",
    "\n",
    "print(\":::\")\n",
    "print(\"2-клики\")\n",
    "\n",
    "gr3 <- connect(graph = gr, order = 2) #соединение вершин с расстоянием 2\n",
    "\n",
    "click_2 <- max_cliques(gr3, min = 3)\n",
    "print(click_2) \n",
    "\n",
    "print(\":::\")\n",
    "print(\"3-клики\")\n",
    "\n",
    "gr4 <- connect(graph = gr, order = 3)\n",
    "\n",
    "click_3 <- max_cliques(gr4, min = 3)\n",
    "print(click_3) \n",
    "\n",
    "print(\":::\")\n",
    "print(\"4-клики\")\n",
    "\n",
    "gr5 <- connect(graph = gr, order = 4)\n",
    "\n",
    "click_4 <- max_cliques(gr5, min = 3)\n",
    "print(click_4) \n",
    "\n",
    "print(\":::\")\n",
    "print(\"5-клики\")\n",
    "\n",
    "gr6 <- connect(graph = gr, order = 5)\n",
    "\n",
    "click_5 <- max_cliques(gr6, min = 3)\n",
    "print(click_5) \n",
    "\n",
    "print(\":::\")\n",
    "print(\"6-клики\")\n",
    "\n",
    "gr7 <- connect(graph = gr, order = 6)\n",
    "\n",
    "print(max_cliques(gr7, min = 3)) \n",
    "\n",
    "grn <- graph.adjacency(as.matrix(gr), mode=\"undirected\")\n",
    "res <- lapply(1:max(as.integer(coreness(grn, mode= \"all\"))), function(x) names(coreness(grn, mode= \"all\"))[which(as.integer(coreness(grn, mode= \"all\")) >= x)])\n",
    "\n",
    "print(\"1-ядро\")\n",
    "print(res[[1]])\n",
    "print(\":::\")\n",
    "print(\"2-ядро\")\n",
    "print(res[[2]])\n",
    "     \n",
    "\n"
   ]
  },
  {
   "cell_type": "markdown",
   "metadata": {},
   "source": [
    "Каждый элемент списка - n-клан\n",
    "\n",
    "Выводы:\n",
    "5-кланы и далее совпадают, потому что геодезические расстояния в графе между двумя вершинами больше либо равны 5.\n",
    "\n",
    "Выводы по ядрам\n",
    "0-ядро - вырожденный случай.\n",
    "3-ядро и более - для данного графа не существует."
   ]
  },
  {
   "cell_type": "markdown",
   "metadata": {},
   "source": [
    "С помощью библиотеки igraph исследовать алгоритмы обноружения сообществ в зависимости от номера варианта:\n",
    "* (1) Edge-betweenness, Leading eigenvector, Fast-greedy;\n",
    "* (2) Spinglass, Walktrap, Label propagation;\n",
    "*( 3) InfoMAP, Louvain, Optimal.\n",
    "\n",
    "Кратко объяснить суть каждого алгоритма. Вывести значение модулярности и отобразить полученные сообщества. Сделать выводы."
   ]
  },
  {
   "cell_type": "code",
   "execution_count": null,
   "metadata": {
    "vscode": {
     "languageId": "r"
    }
   },
   "outputs": [
    {
     "ename": "",
     "evalue": "",
     "output_type": "error",
     "traceback": [
      "\u001b[1;31mFailed to start the Kernel. \n",
      "\u001b[1;31mThe kernel 'R' was not started as it is located in an insecure location 'c:\\ProgramData\\jupyter\\kernels\\ir\\kernel.json'.  \n",
      "\u001b[1;31mClick <a href='https://aka.ms/JupyterTrustedKernelPaths'>here</a> for further details, optionally update the setting <a href='command:workbench.action.openSettings?[\"jupyter.kernels.trusted\"]'>jupyter.kernels.trusted</a> to trust the kernel."
     ]
    }
   ],
   "source": [
    "gra <- cluster_infomap(graph.adjacency(as.matrix(gr), mode = \"undirected\"))\n",
    "print(\"InfoMAP:\")\n",
    "print(modularity(gra))\n",
    "print(groups(gra))\n",
    "print(\":::\")\n",
    "\n",
    "grb <- cluster_louvain(graph.adjacency(as.matrix(gr), mode = \"undirected\"))\n",
    "print(\"Louvain:\")\n",
    "print(modularity(grb))\n",
    "print(groups(grb))\n",
    "print(\":::\")\n",
    "\n",
    "grc <- cluster_optimal(graph.adjacency(as.matrix(gr), mode = \"undirected\"))\n",
    "print(\"Optimal:\")\n",
    "print(modularity(grc))\n",
    "print(groups(grc))"
   ]
  },
  {
   "cell_type": "markdown",
   "metadata": {},
   "source": [
    "4. Из файла ceo.csv извлечь матрицу инцидентности с помощью соответствующих функций. Отобразить полученную матрицу."
   ]
  },
  {
   "cell_type": "code",
   "execution_count": null,
   "metadata": {
    "vscode": {
     "languageId": "r"
    }
   },
   "outputs": [
    {
     "ename": "",
     "evalue": "",
     "output_type": "error",
     "traceback": [
      "\u001b[1;31mFailed to start the Kernel. \n",
      "\u001b[1;31mThe kernel 'R' was not started as it is located in an insecure location 'c:\\ProgramData\\jupyter\\kernels\\ir\\kernel.json'.  \n",
      "\u001b[1;31mClick <a href='https://aka.ms/JupyterTrustedKernelPaths'>here</a> for further details, optionally update the setting <a href='command:workbench.action.openSettings?[\"jupyter.kernels.trusted\"]'>jupyter.kernels.trusted</a> to trust the kernel."
     ]
    }
   ],
   "source": [
    "second_matrix <- data.matrix(read.csv('ceo.csv', header = FALSE, skip = 9))\n",
    "second_matrix"
   ]
  },
  {
   "cell_type": "markdown",
   "metadata": {},
   "source": [
    "5. Отобразить сеть в виде биграфа."
   ]
  },
  {
   "cell_type": "code",
   "execution_count": null,
   "metadata": {
    "vscode": {
     "languageId": "r"
    }
   },
   "outputs": [
    {
     "ename": "",
     "evalue": "",
     "output_type": "error",
     "traceback": [
      "\u001b[1;31mFailed to start the Kernel. \n",
      "\u001b[1;31mThe kernel 'R' was not started as it is located in an insecure location 'c:\\ProgramData\\jupyter\\kernels\\ir\\kernel.json'.  \n",
      "\u001b[1;31mClick <a href='https://aka.ms/JupyterTrustedKernelPaths'>here</a> for further details, optionally update the setting <a href='command:workbench.action.openSettings?[\"jupyter.kernels.trusted\"]'>jupyter.kernels.trusted</a> to trust the kernel."
     ]
    }
   ],
   "source": [
    "g5 <- graph.incidence(second_matrix, mode = \"all\")\n",
    "V(g5)$type\n",
    "edgeList <-get.edgelist(g5)\n",
    "bigraph<-make_bipartite_graph(V(g5)$type, E(g5)$edges)\n",
    "plot(g5, edge.arrow.size = 1, layout=layout_as_bipartite)\n"
   ]
  },
  {
   "cell_type": "markdown",
   "metadata": {},
   "source": [
    "6. Отобразить сеть в виде гиперграфа и двойственного гиперграфа\n",
    "(по желанию)."
   ]
  },
  {
   "cell_type": "code",
   "execution_count": null,
   "metadata": {
    "vscode": {
     "languageId": "r"
    }
   },
   "outputs": [
    {
     "ename": "",
     "evalue": "",
     "output_type": "error",
     "traceback": [
      "\u001b[1;31mFailed to start the Kernel. \n",
      "\u001b[1;31mThe kernel 'R' was not started as it is located in an insecure location 'c:\\ProgramData\\jupyter\\kernels\\ir\\kernel.json'.  \n",
      "\u001b[1;31mClick <a href='https://aka.ms/JupyterTrustedKernelPaths'>here</a> for further details, optionally update the setting <a href='command:workbench.action.openSettings?[\"jupyter.kernels.trusted\"]'>jupyter.kernels.trusted</a> to trust the kernel."
     ]
    }
   ],
   "source": [
    "ceoHyperGraph <- as.hypergraph(second_matrix)\n",
    "ceoDualHyperGraph <- dual_hypergraph(ceoHyperGraph)\n",
    "plot(ceoHyperGraph, main = \"Гиперграф\")\n",
    "plot(ceoDualHyperGraph, main = \"Двойственный гиперграф\")"
   ]
  },
  {
   "cell_type": "markdown",
   "metadata": {},
   "source": [
    "7. Представить сеть аффилированности в виде двух одномодальных сетей: сеть соучастия и сеть перекрытия событий. Представить полученные сети в виде ценностных матриц и взвешенных графов.\n",
    "Сделать выводы."
   ]
  },
  {
   "cell_type": "code",
   "execution_count": null,
   "metadata": {
    "vscode": {
     "languageId": "r"
    }
   },
   "outputs": [
    {
     "ename": "",
     "evalue": "",
     "output_type": "error",
     "traceback": [
      "\u001b[1;31mFailed to start the Kernel. \n",
      "\u001b[1;31mThe kernel 'R' was not started as it is located in an insecure location 'c:\\ProgramData\\jupyter\\kernels\\ir\\kernel.json'.  \n",
      "\u001b[1;31mClick <a href='https://aka.ms/JupyterTrustedKernelPaths'>here</a> for further details, optionally update the setting <a href='command:workbench.action.openSettings?[\"jupyter.kernels.trusted\"]'>jupyter.kernels.trusted</a> to trust the kernel."
     ]
    }
   ],
   "source": [
    "\n",
    "complicityNet <- second_martix %*% t(second_matrix)\n",
    "complicityNetGraph = graph.incidence(complicityNet, weighted = TRUE)\n",
    "\n",
    "plot(complicityNetGraph, edge.label = E(complicityNetGraph)$weight)\n",
    "\n",
    "\n",
    "eventNet <- t(second_matrix) %*% second_matrix\n",
    "eventNet\n",
    "eventNetGraph = graph.incidence(eventNet, weighted = TRUE)\n",
    "\n",
    "plot(eventNetGraph, edge.label = E(eventNetGraph)$weight)\n"
   ]
  },
  {
   "cell_type": "markdown",
   "metadata": {},
   "source": [
    "8. Вычислить степень участия для каждого актора, а также среднее\n",
    "количество событий, с которыми актор аффилирован. Сделать выводы."
   ]
  },
  {
   "cell_type": "code",
   "execution_count": null,
   "metadata": {
    "vscode": {
     "languageId": "r"
    }
   },
   "outputs": [
    {
     "ename": "",
     "evalue": "",
     "output_type": "error",
     "traceback": [
      "\u001b[1;31mFailed to start the Kernel. \n",
      "\u001b[1;31mThe kernel 'R' was not started as it is located in an insecure location 'c:\\ProgramData\\jupyter\\kernels\\ir\\kernel.json'.  \n",
      "\u001b[1;31mClick <a href='https://aka.ms/JupyterTrustedKernelPaths'>here</a> for further details, optionally update the setting <a href='command:workbench.action.openSettings?[\"jupyter.kernels.trusted\"]'>jupyter.kernels.trusted</a> to trust the kernel."
     ]
    }
   ],
   "source": [
    "participationDegree <- complicityNet[row(complicityNet) == col(complicityNet)]\n",
    "\n",
    "for(i in 1:length(participationDegree)){\n",
    "    cat(i, \"Актор имеет связь с \", participationDegree[i], \"событиями\\n\")\n",
    "}\n",
    "\n",
    "m_mean <- sum(participationDegree)/length(participationDegree)\n",
    "m_mean\n",
    "     "
   ]
  },
  {
   "cell_type": "markdown",
   "metadata": {},
   "source": [
    "9. Вычислить размер и средний размер для каждого события. Сделать выводы."
   ]
  },
  {
   "cell_type": "code",
   "execution_count": null,
   "metadata": {
    "vscode": {
     "languageId": "r"
    }
   },
   "outputs": [
    {
     "ename": "",
     "evalue": "",
     "output_type": "error",
     "traceback": [
      "\u001b[1;31mFailed to start the Kernel. \n",
      "\u001b[1;31mThe kernel 'R' was not started as it is located in an insecure location 'c:\\ProgramData\\jupyter\\kernels\\ir\\kernel.json'.  \n",
      "\u001b[1;31mClick <a href='https://aka.ms/JupyterTrustedKernelPaths'>here</a> for further details, optionally update the setting <a href='command:workbench.action.openSettings?[\"jupyter.kernels.trusted\"]'>jupyter.kernels.trusted</a> to trust the kernel."
     ]
    }
   ],
   "source": [
    "\n",
    "\n",
    "eventNetSize <- eventNet[row(eventNet)==col(eventNet)]\n",
    "for(i in 1:length(eventNetSize)){\n",
    "    cat(i, \"Событие имеет размер\", eventNetSize[i], \"\\n\")\n",
    "}\n",
    "\n",
    "meanSize <- sum(eventNetSize)/ length(eventNetSize)\n",
    "meanSize\n",
    "     "
   ]
  },
  {
   "cell_type": "markdown",
   "metadata": {},
   "source": [
    "10. Вычислить плотность для соотношения соучастия и отношения перекрытия. Проинтерпретируйте полученные значения."
   ]
  },
  {
   "cell_type": "code",
   "execution_count": null,
   "metadata": {
    "vscode": {
     "languageId": "r"
    }
   },
   "outputs": [
    {
     "ename": "",
     "evalue": "",
     "output_type": "error",
     "traceback": [
      "\u001b[1;31mFailed to start the Kernel. \n",
      "\u001b[1;31mThe kernel 'R' was not started as it is located in an insecure location 'c:\\ProgramData\\jupyter\\kernels\\ir\\kernel.json'.  \n",
      "\u001b[1;31mClick <a href='https://aka.ms/JupyterTrustedKernelPaths'>here</a> for further details, optionally update the setting <a href='command:workbench.action.openSettings?[\"jupyter.kernels.trusted\"]'>jupyter.kernels.trusted</a> to trust the kernel."
     ]
    }
   ],
   "source": [
    "complicityDensity<-sum(complicityNet)/(length(participationDegree)*(length(participationDegree) - 1))\n",
    "cat(\"Плотность для соотношения соучастия:\", complicityDensity, '\\n')\n",
    "\n",
    "\n",
    "eventDensity <- sum(eventNet)/(length(eventNetSize)*(length(eventNetSize) - 1))\n",
    "cat(\"Плотность для соотношения перекрытия:\",eventDensity, '\\n')\n"
   ]
  },
  {
   "cell_type": "markdown",
   "metadata": {},
   "source": [
    "11. Определить диаметр сети аффилированности."
   ]
  },
  {
   "cell_type": "code",
   "execution_count": null,
   "metadata": {
    "vscode": {
     "languageId": "r"
    }
   },
   "outputs": [
    {
     "ename": "",
     "evalue": "",
     "output_type": "error",
     "traceback": [
      "\u001b[1;31mFailed to start the Kernel. \n",
      "\u001b[1;31mThe kernel 'R' was not started as it is located in an insecure location 'c:\\ProgramData\\jupyter\\kernels\\ir\\kernel.json'.  \n",
      "\u001b[1;31mClick <a href='https://aka.ms/JupyterTrustedKernelPaths'>here</a> for further details, optionally update the setting <a href='command:workbench.action.openSettings?[\"jupyter.kernels.trusted\"]'>jupyter.kernels.trusted</a> to trust the kernel."
     ]
    }
   ],
   "source": [
    "diameter(g5)"
   ]
  },
  {
   "cell_type": "markdown",
   "metadata": {},
   "source": [
    "12. Определить клики уровня 𝑐 = {4, 3} для отношения соучастия и\n",
    "клики уровня 𝑐 = {6, 5, 4, 3, 2} для отношения перекрытия событий.\n",
    "Сделать выводы."
   ]
  },
  {
   "cell_type": "code",
   "execution_count": null,
   "metadata": {
    "vscode": {
     "languageId": "r"
    }
   },
   "outputs": [
    {
     "ename": "",
     "evalue": "",
     "output_type": "error",
     "traceback": [
      "\u001b[1;31mFailed to start the Kernel. \n",
      "\u001b[1;31mThe kernel 'R' was not started as it is located in an insecure location 'c:\\ProgramData\\jupyter\\kernels\\ir\\kernel.json'.  \n",
      "\u001b[1;31mClick <a href='https://aka.ms/JupyterTrustedKernelPaths'>here</a> for further details, optionally update the setting <a href='command:workbench.action.openSettings?[\"jupyter.kernels.trusted\"]'>jupyter.kernels.trusted</a> to trust the kernel."
     ]
    }
   ],
   "source": [
    "comembership_m <- tcrossprod(second_matrix)\n",
    "comembership_g <- graph.adjacency(comembership_m, mode = 'undirected', weighted = T)\n",
    "\n",
    "cat(\"1\\n\")\n",
    "temp <- delete_edges(comembership_g,  E(comembership_g)[E(comembership_g)$weight < 3])\n",
    "max_cliques(temp, min = 3)\n",
    "cat(\"2\\n\")\n",
    "temp <- delete_edges(comembership_g,  E(comembership_g)[E(comembership_g)$weight < 3])\n",
    "max_cliques(temp, min = 3)"
   ]
  },
  {
   "cell_type": "markdown",
   "metadata": {},
   "source": [
    "13. Для каждых пар событий определить отношение шансов. Сделать\n",
    "выводы."
   ]
  },
  {
   "cell_type": "code",
   "execution_count": 73,
   "metadata": {
    "vscode": {
     "languageId": "r"
    }
   },
   "outputs": [
    {
     "name": "stdout",
     "output_type": "stream",
     "text": [
      "θ(M1, M2) = 0\n",
      "θ(M1, M3) = 0.3\n",
      "θ(M1, M4) = Inf\n",
      "θ(M1, M5) = 0\n",
      "θ(M1, M6) = 3.333333\n",
      "θ(M1, M7) = 3.333333\n",
      "θ(M1, M8) = 3.333333\n",
      "θ(M1, M9) = 1.8\n",
      "θ(M1, M10) = 5.25\n",
      "θ(M1, M11) = 0\n",
      "θ(M1, M12) = 0\n",
      "θ(M1, M13) = 0\n",
      "θ(M1, M14) = 0\n",
      "θ(M1, M15) = 0.9375\n",
      "θ(M2, M3) = Inf\n",
      "θ(M2, M4) = 0.1111111\n",
      "θ(M2, M5) = 0.65\n",
      "θ(M2, M6) = 5.25\n",
      "θ(M2, M7) = 0\n",
      "θ(M2, M8) = 0.4\n",
      "θ(M2, M9) = 0.2\n",
      "θ(M2, M10) = 0\n",
      "θ(M2, M11) = 5.25\n",
      "θ(M2, M12) = 2.4375\n",
      "θ(M2, M13) = 2.4375\n",
      "θ(M2, M14) = 3.111111\n",
      "θ(M2, M15) = 4.8\n",
      "θ(M3, M4) = 0\n",
      "θ(M3, M5) = Inf\n",
      "θ(M3, M6) = Inf\n",
      "θ(M3, M7) = 0.1\n",
      "θ(M3, M8) = 0.4736842\n",
      "θ(M3, M9) = 0.8823529\n",
      "θ(M3, M10) = 0.04761905\n",
      "θ(M3, M11) = Inf\n",
      "θ(M3, M12) = 0.6666667\n",
      "θ(M3, M13) = 0.6666667\n",
      "θ(M3, M14) = Inf\n",
      "θ(M3, M15) = 1.714286\n",
      "θ(M4, M5) = 0.5454545\n",
      "θ(M4, M6) = 0.3333333\n",
      "θ(M4, M7) = 4.333333\n",
      "θ(M4, M8) = 1.2\n",
      "θ(M4, M9) = 3\n",
      "θ(M4, M10) = Inf\n",
      "θ(M4, M11) = 4.333333\n",
      "θ(M4, M12) = 0.7333333\n",
      "θ(M4, M13) = 0.7333333\n",
      "θ(M4, M14) = 0\n",
      "θ(M4, M15) = 0.9\n",
      "θ(M5, M6) = 0\n",
      "θ(M5, M7) = 3.333333\n",
      "θ(M5, M8) = 0\n",
      "θ(M5, M9) = 1.8\n",
      "θ(M5, M10) = 0\n",
      "θ(M5, M11) = 3.333333\n",
      "θ(M5, M12) = 2.375\n",
      "θ(M5, M13) = 0\n",
      "θ(M5, M14) = 0\n",
      "θ(M5, M15) = 0.9375\n",
      "θ(M6, M7) = 0\n",
      "θ(M6, M8) = 2.111111\n",
      "θ(M6, M9) = 0\n",
      "θ(M6, M10) = 0\n",
      "θ(M6, M11) = 0\n",
      "θ(M6, M12) = 0\n",
      "θ(M6, M13) = 1.5\n",
      "θ(M6, M14) = 3.333333\n",
      "θ(M6, M15) = 8\n",
      "θ(M7, M8) = 0\n",
      "θ(M7, M9) = 1.133333\n",
      "θ(M7, M10) = 3.333333\n",
      "θ(M7, M11) = 0\n",
      "θ(M7, M12) = 0\n",
      "θ(M7, M13) = 0\n",
      "θ(M7, M14) = 0\n",
      "θ(M7, M15) = 0\n",
      "θ(M8, M9) = 0\n",
      "θ(M8, M10) = 3.333333\n",
      "θ(M8, M11) = 0\n",
      "θ(M8, M12) = 0\n",
      "θ(M8, M13) = 0\n",
      "θ(M8, M14) = 3.333333\n",
      "θ(M8, M15) = 0.5833333\n",
      "θ(M9, M10) = 0\n",
      "θ(M9, M11) = 0\n",
      "θ(M9, M12) = 0.8\n",
      "θ(M9, M13) = 0.8\n",
      "θ(M9, M14) = 0\n",
      "θ(M9, M15) = 0.3\n",
      "θ(M10, M11) = 3.333333\n",
      "θ(M10, M12) = 0\n",
      "θ(M10, M13) = 0\n",
      "θ(M10, M14) = 0\n",
      "θ(M10, M15) = 0\n",
      "θ(M11, M12) = 6.333333\n",
      "θ(M11, M13) = 1.5\n",
      "θ(M11, M14) = 0\n",
      "θ(M11, M15) = 8\n",
      "θ(M12, M13) = 4\n",
      "θ(M12, M14) = 0\n",
      "θ(M12, M15) = 3.75\n",
      "θ(M13, M14) = 2.375\n",
      "θ(M13, M15) = 3.75\n",
      "θ(M14, M15) = 0\n",
      "Ненулевые значений: 65 \n",
      "Ненулевые значения (%): 61.90476 \n",
      "Бесконечные значения: 7 \n",
      "Бесконечных значения (%): 6.666667 \n"
     ]
    }
   ],
   "source": [
    "zeros <- 0\n",
    "infos <- 0\n",
    "for(i in 1:(length(eventNetSize) - 1)){\n",
    "    for(l in (i + 1):length(eventNetSize)){\n",
    "        a <- second_matrix[, c(i, l)]\n",
    "        result <- sum(colSums(t(a) == c(1, 1)) == ncol(a))*\n",
    "        sum(colSums(t(a) == c(0, 0)) == ncol(a))/\n",
    "        sum(colSums(t(a) == c(0, 1)) == ncol(a))/\n",
    "        sum(colSums(t(a) == c(1, 0)) == ncol(a))   \n",
    "        cat('θ(M', i, ', M', l, ') = ', result, '\\n', sep=\"\")\n",
    "        zeros <- zeros + (result != 0)\n",
    "        infos <- infos + (result == Inf)\n",
    "    }\n",
    "}\n",
    "\n",
    "cat('Ненулевые значений:', zeros, '\\n')\n",
    "cat('Ненулевые значения (%):', zeros/(length(eventNetSize)*(length(eventNetSize)-1)/2)*100, '\\n')\n",
    "cat('Бесконечные значения:', infos, '\\n')\n",
    "cat('Бесконечных значения (%):', infos/(length(eventNetSize)*(length(eventNetSize)-1)/2)*100, '\\n')\n",
    "\n",
    "     "
   ]
  },
  {
   "cell_type": "markdown",
   "metadata": {},
   "source": [
    "## Выводы\n",
    "\n",
    "\n",
    "В ходе данной практической работы были получены навыки работы с математическими пакетами для исследования подгрупп в социальных сетях, а также моделирования, отображения и анализ сетей аффилированности. Получены практические навыки в написании программ на языке R, также были вовлечены в ход решения данной практической работы знания, полученные на предыдущей практической работе, а также на практике. Также стоит отменить, что были изучены способы визуализации биграфа, гиперграфа и двойственного гиперграфа. В ходе работы была проанализированная каждая сеть, данная в задании."
   ]
  },
  {
   "cell_type": "code",
   "execution_count": null,
   "metadata": {
    "vscode": {
     "languageId": "r"
    }
   },
   "outputs": [],
   "source": []
  }
 ],
 "metadata": {
  "kernelspec": {
   "display_name": "R",
   "language": "R",
   "name": "ir"
  },
  "language_info": {
   "codemirror_mode": "r",
   "file_extension": ".r",
   "mimetype": "text/x-r-source",
   "name": "R",
   "pygments_lexer": "r",
   "version": "4.2.1"
  }
 },
 "nbformat": 4,
 "nbformat_minor": 4
}
