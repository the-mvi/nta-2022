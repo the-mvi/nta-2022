{
 "cells": [
  {
   "attachments": {},
   "cell_type": "markdown",
   "metadata": {},
   "source": [
    "# Практическая работа №3: Статистический анализ социальных сетей.\n",
    "Выполнил студент гр. 0383 Подопригора Иван. Вариант №61"
   ]
  },
  {
   "attachments": {},
   "cell_type": "markdown",
   "metadata": {},
   "source": [
    "## Цель работы\n",
    "Овладеть навыками работы с математическими пакетами для статистического анализа социальных сетей."
   ]
  },
  {
   "attachments": {},
   "cell_type": "markdown",
   "metadata": {},
   "source": [
    "## Основные теоретические положения\n",
    "**Диада** - элемент сети, представляющий собой пару акторов и возможнную связь между ними.\n",
    "\n",
    "Взаимная диада: $D_{i,j} = (1, 1)$\n",
    "\n",
    "Асимметричная диада: $D_{i,j} = (0, 1)$ или $D_{i,j} = (1, 0)$\n",
    "\n",
    "Нулевая диада: $D_{i,j} = (0, 0)$\n",
    "\n",
    "**Цензус диад** - это тройка чисел (M,A,N):\n",
    "- M = $\\sum_{i<j}X_{ij}X_{ji}$\n",
    "- A = $X_{++}-2M$\n",
    "- N = $\\binom{g}{2}-A-M$\n",
    "\n",
    "**Индекс взаимности Каца-Пауэлла** - характеристика измерения тенденции акторов в группе: $-\\infty < \\rho_{kp} \\leq 1$\n",
    "\n",
    "Индекс взаимности Каца-Пауэлла на ожидании количества взаимных диад, предполгая, что выбор делается акторами случайным образом.\n",
    "\n",
    "При свободном выборе:\n",
    "\n",
    "- Оценка $p_{kp}$ по методу моментов.\n",
    "${\\rho{'}_{kp} = \\frac {2(g-1)^2M-L^2+L_2}{L(g-1)^2-L^2+L_2}},$\n",
    "где $L = \\sum_i x_{i+}$, $L_2 = \\sum_i x^2_{i+}$\n",
    "\n",
    "- Вероятность того, что акторы имеют взаимные отношения.\n",
    "$\\frac {x_{i+}x_{j+}}{(g-1)^2}$\n",
    "\n",
    "При фиксированном выборе:\n",
    "\n",
    "- Каждый актор делает $d$ выборов из $(g-1)$ акторов, доступных для выбора.\n",
    "\n",
    "- Оценка $\\rho_{kp}$ по методу моментов.\n",
    "$\\hat \\rho_{kp} = \\frac {2(g-1)M-gd^2}{gd(g-1-d)}$\n",
    "\n",
    "- Вероятность взаимного выбора между любой произвольной парой акторов.\n",
    "$\\frac {d^2}{(g-1)^2}$\n",
    "\n",
    "**Индекс взаимности Бандиопадхьяйя** - основан на минимальном и максимальном значениях количества взаимных диад.\n",
    "$\\rho_{B} = \\frac{M - M_{min}}{M_{max} - M_{min}},$$\n",
    "Где:\n",
    "- $M_{min} = max_{0 \\leq t \\leq g}f(t)$\n",
    "\n",
    "- $M_{max} = \\lfloor \\frac{1}{2}(\\sum_{i=1}^g - max_{0 \\leq t \\leq g}g(t)) \\rfloor$\n",
    "\n",
    "- $f(t) = \\sum_{i=1}^tx_{i+} - t(g-1) - \\binom{t}{2}$ \n",
    "\n",
    "- $g(t) = \\sum_{i=1}^tx_{i+} - t(t-1) - \\sum_{i=t+1}^gmin(t, x_{i+})$\n",
    "\n",
    "$|G_d(\\cal {N})| = 2^{g(g - 1)}$, где $G_d(\\cal {N})$ - множество всех возможных орграфов без петель с g узлами\n",
    "\n",
    "Вероятность получить социоматрицу $x$: $P(X = x) = 2^{g(g - 1)}$\n",
    "\n",
    "Вероятность появления дуги между акторами для равномерного распределения: \n",
    "$P(X_{ij} = 1) = \\begin{cases}\n",
    "    \\frac{1}{2}, i \\ne j\\\\\n",
    "    0, i = j\n",
    "\\end{cases}$\n",
    "\n",
    "Вероятность появления дуги между акторами для распределения Бернулли:\n",
    "$P(X_{ij} = 1) = \\begin{cases}\n",
    "    p_{ij}, i \\ne j\\\\\n",
    "    0, i = j\n",
    "\\end{cases}$\n",
    "\n",
    "**Статистические гипотезы для распределения Бернулли**:\n",
    "\n",
    "Нулевая гипотеза $H_0$: \n",
    "$L \\sim B(g(g - 1), P_0)$\n",
    "\n",
    "Статистика: \n",
    "$z_l = \\frac{l - E(L)}{\\sqrt {D(L)}} = \\frac {l-P_0g(g-1)}{\\sqrt {P_0(1-P_0)g(g-1)}},$\n",
    "где $l = \\sum_{i = 1}^g\\sum_{j = 1}^gx_{ij}$\n",
    "\n",
    "Такая статистика является приблизительно стандартным нормальным распределением при заданном уровне значимости.\n",
    "\n",
    "**Доверительный интервал для оценки $P$:**\n",
    "\n",
    "Оценка параметра $P$: $\\hat {P} = \\frac{l}{g(g - 1)}$\n",
    "\n",
    "Доверительный интервал:\n",
    "\n",
    "$\\hat {P}_{lower} \\leq P \\leq  \\hat {P}_{upper}$\n",
    "\n",
    "$\\hat {P}_{lower} = \\hat {P} - z_{\\frac {\\alpha}{2}} \\sqrt {\\frac {\\hat {P}(1 - \\hat{P})}{g(g - 1)}}$\n",
    "\n",
    "$\\hat {P}_{upper} = \\hat {P} + z_{\\frac {\\alpha}{2}} \\sqrt {\\frac {\\hat {P}(1 - \\hat{P})}{g(g - 1)}}$\n",
    "\n",
    "$z_{\\frac{\\alpha}{2}}$: $\\Phi(z_{\\frac{\\alpha}{2}}) = 0.5 - \\frac{\\alpha}{2}$\n",
    "\n",
    "**Оценка вероятности $P$ для распределения Бернулли:**\n",
    "\n",
    "Количество дуг: $L \\sim B(g(g - 1), P_0)$\n",
    "\n",
    "Вероятность, что количество дуг равно $l$: $P(L = l) = \\binom {g(g - 1)}{l} = P_0^l(1 - P_0)^{g(g - 1) - l}$\n",
    "\n",
    "Математическое ожидание: $E(L) = P_0g(g - 1)$\n",
    "\n",
    "Дисперсия: $D(L) = P_0(1 - P_0)g(g - 1)$\n"
   ]
  },
  {
   "attachments": {},
   "cell_type": "markdown",
   "metadata": {},
   "source": [
    "## Постановка задачи\n",
    "С помощью математических пакетов и соответствующих библиотек провести статистический анализ случайно смоделированного ориентированного графа. Полученные результаты содержательно проинтерпретировать"
   ]
  },
  {
   "cell_type": "markdown",
   "metadata": {},
   "source": [
    "## Выполнение работы\n"
   ]
  },
  {
   "cell_type": "code",
   "execution_count": 3,
   "metadata": {
    "vscode": {
     "languageId": "r"
    }
   },
   "outputs": [],
   "source": [
    "library(statnet)\n",
    "library(igraph)"
   ]
  },
  {
   "attachments": {},
   "cell_type": "markdown",
   "metadata": {},
   "source": [
    "Задача 1. С помощью библиотеки igraph был смоделирован случайный орграф на основе модели Эрдеша—Реньи."
   ]
  },
  {
   "cell_type": "code",
   "execution_count": 10,
   "metadata": {
    "vscode": {
     "languageId": "r"
    }
   },
   "outputs": [],
   "source": [
    "g <- 91\n",
    "p <- 0.69\n",
    "P0 <- 0.74\n",
    "a <- 0.05\n",
    "graph <- erdos.renyi.game(g, p, directed = TRUE)"
   ]
  },
  {
   "attachments": {},
   "cell_type": "markdown",
   "metadata": {},
   "source": [
    "Модель Эрдеша-Реньи состоит в том, что каждое возможное ребро добавляется в граф с константной вероятностью P. (Описание из документации: This model is very simple, every possible edge is created with the same constant probability.)"
   ]
  },
  {
   "attachments": {},
   "cell_type": "markdown",
   "metadata": {},
   "source": [
    "Задача 2. Сгенерированный орграф был отображен на экране."
   ]
  },
  {
   "cell_type": "code",
   "execution_count": 11,
   "metadata": {
    "vscode": {
     "languageId": "r"
    }
   },
   "outputs": [
    {
     "data": {
      "image/png": "[encoded data removed]",
      "text/plain": [
       "Plot with title \"Сгенерированный орграф\""
      ]
     },
     "metadata": {
      "image/png": {
       "height": 420,
       "width": 420
      }
     },
     "output_type": "display_data"
    }
   ],
   "source": [
    "plot(graph, layout = layout_with_fr(graph), main = \"Сгенерированный орграф\")\n"
   ]
  },
  {
   "attachments": {},
   "cell_type": "markdown",
   "metadata": {},
   "source": [
    "Задача 3. Была вычислена пятичисловая сводка сети."
   ]
  },
  {
   "cell_type": "code",
   "execution_count": 99,
   "metadata": {
    "vscode": {
     "languageId": "r"
    }
   },
   "outputs": [
    {
     "name": "stdout",
     "output_type": "stream",
     "text": [
      "(a) Размер сети:  91 \n",
      "(b) Плотность сети:  0.6855922 \n",
      "(с) Число компонент:  1 \n",
      "(d) Диаметр сети:  2 \n",
      "(e) Коэффициент кластеризации:  0.9025482 \n"
     ]
    }
   ],
   "source": [
    "cat(\"(a) Размер сети: \", gorder(graph), \"\\n\")\n",
    "cat(\"(b) Плотность сети: \", edge_density(graph), \"\\n\")\n",
    "cat(\"(с) Число компонент: \", components(graph)$no, \"\\n\")\n",
    "cat(\"(d) Диаметр сети: \", diameter(graph), '\\n')\n",
    "cat(\"(e) Коэффициент кластеризации: \", transitivity(graph), '\\n')"
   ]
  },
  {
   "attachments": {},
   "cell_type": "markdown",
   "metadata": {},
   "source": [
    "Задача 4. Был вычислен цензус диад."
   ]
  },
  {
   "cell_type": "code",
   "execution_count": 100,
   "metadata": {
    "vscode": {
     "languageId": "r"
    }
   },
   "outputs": [
    {
     "name": "stdout",
     "output_type": "stream",
     "text": [
      "Количество взаимных диад:  1920 \n",
      "Количество асимметричных диад:  1775 \n",
      "Количество нулевых диад:  400 \n"
     ]
    }
   ],
   "source": [
    "census <- dyad_census(graph)\n",
    "cat(\"Количество взаимных диад: \", census$mut, \"\\n\")\n",
    "cat(\"Количество асимметричных диад: \", census$asym, \"\\n\")\n",
    "cat(\"Количество нулевых диад: \", census$null, \"\\n\")"
   ]
  },
  {
   "attachments": {},
   "cell_type": "markdown",
   "metadata": {},
   "source": [
    "Вывод: в сгенерированном графе больше всего взаимных диад и меньше всего нулевых, т.к. вероятность появления ребра между двумя вершинами во время генерации была довольно высока."
   ]
  },
  {
   "attachments": {},
   "cell_type": "markdown",
   "metadata": {},
   "source": [
    "Задача 5. Была вычислена оценка индекса взаимности Каца—Пауэла при фиксированом выборе акторов 𝑑 и при свободном выборе."
   ]
  },
  {
   "cell_type": "code",
   "execution_count": 101,
   "metadata": {
    "vscode": {
     "languageId": "r"
    }
   },
   "outputs": [
    {
     "name": "stdout",
     "output_type": "stream",
     "text": [
      "Оценка при фиксированном выборе:  0.8754579 \n",
      "Оценка при свободном выборе:  -0.005355884 \n"
     ]
    }
   ],
   "source": [
    "d <- 45 # фиксированное число\n",
    "cat(\"Оценка при фиксированном выборе: \", (2*(g-1)*census$mut - g * d^2)/(g*d*(g - 1 - d)), \"\\n\")\n",
    "X <- as.matrix(as_adjacency_matrix(graph)) # матрица смежности\n",
    "L <- sum(rowSums(X))\n",
    "L2 <- sum(rowSums(X)^2)\n",
    "cat(\"Оценка при свободном выборе: \",(2*(g - 1)^2 * census$mut - L^2 + L2)/(L*(g - 1)^2 - L^2 + L2), \"\\n\")"
   ]
  },
  {
   "attachments": {},
   "cell_type": "markdown",
   "metadata": {},
   "source": [
    "Вывод: при свободном выборе акторы имеют большую тенденцию к образованию асимметричных и нулевых диад, чем при фиксированном выборе."
   ]
  },
  {
   "attachments": {},
   "cell_type": "markdown",
   "metadata": {},
   "source": [
    "Задача 6. Была вычислена вероятность того, что связь будет взаимной для каждого случая."
   ]
  },
  {
   "cell_type": "code",
   "execution_count": 104,
   "metadata": {
    "vscode": {
     "languageId": "r"
    }
   },
   "outputs": [
    {
     "name": "stdout",
     "output_type": "stream",
     "text": [
      "Вероятность того, что связь будет взаимной для фиксированного выбора:  0.4688645 \n",
      "Вероятность того, что связь будет взаимной для свободного выбора:  0.4702211 \n"
     ]
    }
   ],
   "source": [
    "tmp<-(d / (g-1)) * ((d/(g-1)) + ((2*(g-1)*census$mut - g * d^2)/(g*d*(g - 1 - d)))*(g - 1 - d) / (g - 1))\n",
    "cat(\"Вероятность того, что связь будет взаимной для фиксированного выбора: \", tmp, \"\\n\")\n",
    "tmp <- mean((rowSums(X) * colSums(X))/(g - 1)^2)\n",
    "cat(\"Вероятность того, что связь будет взаимной для свободного выбора: \", tmp, \"\\n\")\n"
   ]
  },
  {
   "attachments": {},
   "cell_type": "markdown",
   "metadata": {},
   "source": [
    "Задача 7. Был вычислен индекс взаимности Бандиопадхьяйя."
   ]
  },
  {
   "cell_type": "code",
   "execution_count": 106,
   "metadata": {
    "vscode": {
     "languageId": "r"
    }
   },
   "outputs": [
    {
     "name": "stdout",
     "output_type": "stream",
     "text": [
      "Индекс взаимности Бандиопадхьяйя:  0.6966121 \n"
     ]
    }
   ],
   "source": [
    "f_t <- function(t){\n",
    "    return(sum(rowSums(X)[1:t]) - t * (g - 1) - choose(t, 2))\n",
    "} \n",
    "g_t <- function(t){\n",
    "    min_sum <- 0\n",
    "    for (i in (t+1):g){\n",
    "        min_sum <- min_sum + min(t, rowSums(X)[i])\n",
    "    }\n",
    "    return(sum(rowSums(X)[1:t]) - t * (t - 1) - min_sum)\n",
    "}\n",
    "\n",
    "g_res <- (1:g-1)\n",
    "for (t in 1:(g-1)) {\n",
    "    g_res[t] <- g_t(t)\n",
    "}\n",
    "\n",
    "f_res <- (1:g-1)\n",
    "for (t in 1:(g-1)) {\n",
    "    f_res[t] <- f_t(t)\n",
    "}\n",
    "\n",
    "M_max <- floor(0.5 * sum(rowSums(X)[1:g]) - max(g_res))\n",
    "M_min <- max(f_res)\n",
    "\n",
    "cat(\"Индекс взаимности Бандиопадхьяйя: \", (census$mut - M_min)/(M_max - M_min), \"\\n\")"
   ]
  },
  {
   "attachments": {},
   "cell_type": "markdown",
   "metadata": {},
   "source": [
    "Вывод: полученный индекс взаимности примерно равен p."
   ]
  },
  {
   "attachments": {},
   "cell_type": "markdown",
   "metadata": {},
   "source": [
    "Задача 8. Была проверена нулевая гипотеза о том, что число дуг $L$ в орграфе $\\mathscr{G}_d$ имеет биномиальное распределение $L ∼ Bin(g(g − 1),\\frac{1}{2})$ при уровне значимости $\\alpha = 0.05$. Был определён максимальный уровень значимости, при котором нулевая гипотеза не отвергается."
   ]
  },
  {
   "cell_type": "code",
   "execution_count": 107,
   "metadata": {
    "vscode": {
     "languageId": "r"
    }
   },
   "outputs": [
    {
     "data": {
      "text/plain": [
       "\n",
       "\tExact binomial test\n",
       "\n",
       "data:  sum(X) and g * (g - 1)\n",
       "number of successes = 5615, number of trials = 8190, p-value < 2.2e-16\n",
       "alternative hypothesis: true probability of success is not equal to 0.5\n",
       "95 percent confidence interval:\n",
       " 0.6754113 0.6956408\n",
       "sample estimates:\n",
       "probability of success \n",
       "             0.6855922 \n"
      ]
     },
     "metadata": {},
     "output_type": "display_data"
    }
   ],
   "source": [
    "binom.test(sum(X), g*(g-1), p = 0.5)"
   ]
  },
  {
   "attachments": {},
   "cell_type": "markdown",
   "metadata": {},
   "source": [
    "Вывод: p-value во много раз меньше $\\alpha$ => нулевая гипотеза не выполняется; p-value, близкий к нулю, является максимальным уровнем значимости, при котором гипотеза не отвергается."
   ]
  },
  {
   "attachments": {},
   "cell_type": "markdown",
   "metadata": {},
   "source": [
    "Задача 9.  Была проверена нулевая гипотеза о том, что число дуг $L$ в орграфе $\\mathscr{G}_d$ имеет биномиальное распределение $L ∼ Bin(g(g − 1),\\frac{1}{2})$ при уровне значимости $\\alpha = 0.05$. Был определён максимальный уровень значимости, при котором нулевая гипотеза не отвергается."
   ]
  },
  {
   "cell_type": "code",
   "execution_count": 108,
   "metadata": {
    "vscode": {
     "languageId": "r"
    }
   },
   "outputs": [
    {
     "data": {
      "text/plain": [
       "\n",
       "\tExact binomial test\n",
       "\n",
       "data:  sum(X) and g * (g - 1)\n",
       "number of successes = 5615, number of trials = 8190, p-value < 2.2e-16\n",
       "alternative hypothesis: true probability of success is not equal to 0.74\n",
       "95 percent confidence interval:\n",
       " 0.6754113 0.6956408\n",
       "sample estimates:\n",
       "probability of success \n",
       "             0.6855922 \n"
      ]
     },
     "metadata": {},
     "output_type": "display_data"
    }
   ],
   "source": [
    "binom.test(sum(X), g*(g-1), p = P0)"
   ]
  },
  {
   "attachments": {},
   "cell_type": "markdown",
   "metadata": {},
   "source": [
    "Вывод: p-value во много раз меньше $\\alpha$ => нулевая гипотеза не выполняется; p-value, близкий к нулю, является максимальным уровнем значимости, при котором гипотеза не отвергается."
   ]
  },
  {
   "attachments": {},
   "cell_type": "markdown",
   "metadata": {},
   "source": [
    "Задача 10. Был построен доверительный интервал для оценки параметра 𝑝 с доверительной надёжностью (1 − 𝛼)."
   ]
  },
  {
   "cell_type": "code",
   "execution_count": 109,
   "metadata": {
    "vscode": {
     "languageId": "r"
    }
   },
   "outputs": [
    {
     "name": "stdout",
     "output_type": "stream",
     "text": [
      "Доверительный интервал: [ 0.6755369 , 0.6956475 ]"
     ]
    }
   ],
   "source": [
    "z <- 1.96 # по таблице значений функции Лапласа (Ф(z) = 0.5 - (0.5/2))\n",
    "estimation <- gsize(graph)/(g*(g-1))\n",
    "p_lower <- estimation - z * sqrt((estimation * (1 - estimation))/(g * (g - 1)))\n",
    "p_upper <- estimation + z * sqrt((estimation * (1 - estimation))/(g * (g - 1)))\n",
    "cat(\"Доверительный интервал: [\", p_lower, \",\", p_upper, \"]\")"
   ]
  },
  {
   "attachments": {},
   "cell_type": "markdown",
   "metadata": {},
   "source": [
    "Вывод: p = 0.69 попадает в доверительный интервал, значит доверительный интервал вычислен верно."
   ]
  },
  {
   "attachments": {},
   "cell_type": "markdown",
   "metadata": {},
   "source": [
    "## Выводы\n",
    "\n",
    "В ходе выполнения данной лабораторной работы были получены навыки работы с математическими пакетами для статистического анализа социальных сетей; был проведен анализ случайно сгенерированного орграфа на 91 вершине с вероятностью направленого ребра для каждой упорядоченой пары вершин равной 0.69; была вычислена пятичисловая сводка для этого графа, вычислен цензус диад, взаимности Каца-Пауэла, индекс взаимности Бандиопадхьяйя, были проверены гипотезы о биномиальном распределении рёбер в графе, был построен доверительный интервал, в который попала вероятность p=0.69."
   ]
  }
 ],
 "metadata": {
  "kernelspec": {
   "display_name": "R",
   "language": "R",
   "name": "ir"
  },
  "language_info": {
   "codemirror_mode": "r",
   "file_extension": ".r",
   "mimetype": "text/x-r-source",
   "name": "R",
   "pygments_lexer": "r",
   "version": "4.2.1"
  },
  "vscode": {
   "interpreter": {
    "hash": "c149fc0de0885611b468a0cc37d69aa5a86a4dd00b4e9702a10e3c4cb95c4c6c"
   }
  }
 },
 "nbformat": 4,
 "nbformat_minor": 4
}
