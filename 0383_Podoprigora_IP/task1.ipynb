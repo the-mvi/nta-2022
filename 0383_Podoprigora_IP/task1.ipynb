{
 "cells": [
  {
   "cell_type": "markdown",
   "metadata": {},
   "source": [
    "# Практическая работа №1: Основы анализа и моделирования социальных сетей\n",
    "Выполнил студент гр. 0383 Подопригора Иван. Вариант №12"
   ]
  },
  {
   "cell_type": "markdown",
   "metadata": {},
   "source": [
    "## Цель работы\n",
    "Овладеть навыками работы с математическими пакетами для моделирования, визуализации и анализа социальных сетей."
   ]
  },
  {
   "cell_type": "markdown",
   "metadata": {},
   "source": [
    "## Основные теоретические положения\n",
    "**Актор** - дискретная социальная единица.\n",
    "\n",
    "**Реляционная связь** - свойство, описывающее связь между двумя акторами.\n",
    "\n",
    "**Подгруппа** - любое подмножество акторов и все связи между ними.\n",
    "\n",
    "**Группа** - совокупность акторов, связи между которыми должны быть изучены.\n",
    "\n",
    "**Сеть** - совокупность конечного набора (или наборов) акторов и отношения (или отношений), определенных на них.\n",
    "\n",
    "**Граф** - модель сети с направленным дихотомическим отношением $\\mathcal{G} = \\mathcal{G}(\\mathcal{N}, \\mathcal{L})$, где $\\mathcal{N}$ - узлы $\\mathcal{L}$ - связи\n",
    "\n",
    "**Степень узла** - число инцидентных узлу связей. Обозначение: $deg(n_i)$\n",
    "\n",
    "**Мосты** - связи, удаление которых ведет к увеличению числа компонент.\n",
    "\n",
    "**Точки сочленения** - узлы, удаление которых вместе с относящимися к ним связям ведет к увеличению числа компонент.\n",
    "\n",
    "**Социоматрица** - матрица смежности узлов сети\n",
    "\n",
    "**Числовые характеристики сети:**\n",
    "1. **Размер** - количество акторов в сети\n",
    "2. **Плотность** - доля имеющихся связей к максимально возможному числу связей. Для ориентированного случая - $\\frac{l}{A_g^2}$, для неориентированного - $\\frac{l}{\\binom{g}{2}}$, где $l$ - число имеющихся связей.\n",
    "3. **Количество компонент**, компонента - подгруппа, в которой акторы связаны прямо или косвенно.\n",
    "4. **Диаметр** - наибольшая длина из кратчайших путей между парами узлов.\n",
    "5. **Коэффициент кластеризации(транзитивность)** - доля закрытых треугольников(троек акторов, в которых каждый актор связан с каждым) по отношению к общему числу треугольников (троек акторов, в которых 2 или 3 связзи)\n",
    "6. **Средняя степень узлов** - $\\frac{\\sum_{i=1}^g deg(n_i)}{g}$, $g$ - число акторов в сети. \n",
    "7. **Дисперсия степени узлов** - $S_D^2=\\sum_{i=1}^g(deg(n_i)-\\overline{deg})^2$, где $\\overline{deg}$ - средняя степень узлов.\n",
    "\n",
    "**Центральность** - мера, характеризующая актор с большим количеством связей. Обозначение: $C_A(n_i)$ $i = 1, ..., g$ \n",
    "\n",
    "**Индекс централизации** - $C_A=\\frac{\\sum_{i=1}^{g}(C_A(n^*)-C_A(n_i))}{max_{network}(\\sum_{i=1}^{g}(C_A(n^\\star)-C_A(n_i)))}$, где $C_A(n^*)=max(C_A(n_i))$,  $max_{network}$ - максимальное значение данной суммы среди всех возможных сетей с числом узлов $g$.\n",
    "\n",
    "**Центральность по степени** - $C_D(n_i)=deg(n_i)$; **нормированная центральность по степени** - $C_D'(n_i)=\\frac{deg(n_i)}{g-1}$\n",
    "\n",
    "**Централизация по степени** - $C_D=\\frac{\\sum_{i=1}^{g}(C_D(n^*)-C_D(n_i))}{(g-1)(g-2)}$\n",
    "\n",
    "**Центральность по близости** - $C_C(n_i)=(\\sum_{i=1}^{g}(d(n_i,n_j)))^{-1}$,  где $d(n_i,n_j)$ - расстояние между узлами в графе; **нормированная центральность по близости** - $C_C'(n_i)=(g-1)C_C(n_i)$\n",
    "\n",
    "**Централизация по близости** -  $C_С=\\frac{\\sum_{i=1}^{g}(C_С(n^*)-C_С(n_i))}{\\frac{(g-1)(g-2)}{2g-3}}$\n",
    "\n",
    "**Центральность по посредничеству** - $C_B(n_i) = \\frac{\\sum_{j<k}(g_{jk}(n_i))}{g_{jk}}$,  где $g_{jk}(n_i)$ - количество геодезических расстояний между узлами $j$ и $k$, проходящих через узел $n_i$,  $g_{jk}$ - кратчайшее расстояние между узлами $j$ и $k$; **нормированная центральность по посредничеству** - $C_B'(n_i) = \\frac{C_B(n_i)}{\\binom{g-1}{2}}$\n",
    "\n",
    "**Центральность по информации** - $C_I(n_i)$ вычисляется с помощью матрицы $A$  размера $g\\times g$ c элементами:<br>\n",
    "    $\\quad a_{ii}=$ 1 + сумма значений всех линий, инцидентных с $n_i$\n",
    "    $\\\\\\quad a_{ij}= \\begin{cases}1,\\quad \\nexists e=(n_i,n_j)\\in E \\\\ 1-x_{ij},\\quad \\exists e=(n_i,n_j)\\in E\\end{cases}$\n",
    "$\\\\ C_I(n_i)=\\frac{1}{c_{ii}+\\frac{T-2R}{g}}$, где $c_{ii}$ - элементы матрицы $C=A^{-1},\\quad T=Tr C,\\quad R=\\sum_{j=1}^g(c_{ij})$\n",
    "\n",
    "**Нормированная центральность по информацции** - $C_I'(n_i)=\\frac{C_I(n_i)}{\\sum_{i=1}^gC_I(n_i)}$\n",
    "\n",
    "**Престиж** - мера, характеризующая актор с большим количеством входных связей.\n",
    "\n",
    "**Престиж по степени** - $P_D(n_i)=din(n_i)$, где $din(n_i)$ - входящая степень вершины; **нормированный престиж по степени** - $P_D'(n_i)=\\frac{din(n_i)}{g-1}$\n",
    "\n",
    "**Область влияния актора $I_i$** - это множество акторов, прямо или косвенно связанных с указанным актором.\n",
    "\n",
    "**Престиж по близости** - $P_P(n_i)=\\frac{|I_i|^2}{(g-1)\\sum_{j: n_j∈I_i}d(n_j,n_i)}$, где $d(n_j,n_i)$ - расстояние от $n_j$ до $n_i$, $I_i$ - область влияния актора $n_i$, $g$ - число узлов в сети. \n",
    "\n"
   ]
  },
  {
   "cell_type": "markdown",
   "metadata": {},
   "source": [
    "## Постановка задачи\n",
    "С помощью математических пакетов и соответствующих библиотек провести анализ заданных социальных сетей вычислить описательные характеристики. Полученные результаты содержательно проинтерпретировать."
   ]
  },
  {
   "cell_type": "markdown",
   "metadata": {},
   "source": [
    "## Выполнение работы\n"
   ]
  },
  {
   "cell_type": "code",
   "execution_count": 2,
   "metadata": {
    "vscode": {
     "languageId": "r"
    }
   },
   "outputs": [],
   "source": [
    "library(statnet)\n",
    "library(igraph)"
   ]
  },
  {
   "cell_type": "markdown",
   "metadata": {},
   "source": [
    "Задача 1.  Из файла florentine_marital.csv была извлечена социоматрица и выведена на экран:"
   ]
  },
  {
   "cell_type": "code",
   "execution_count": 3,
   "metadata": {
    "vscode": {
     "languageId": "r"
    }
   },
   "outputs": [
    {
     "data": {
      "text/html": [
       "<table class=\"dataframe\">\n",
       "<caption>A matrix: 16 × 16 of type int</caption>\n",
       "<thead>\n",
       "\t<tr><th scope=col>Acciaiuoli</th><th scope=col>Albizzi</th><th scope=col>Barbadori</th><th scope=col>Bischeri</th><th scope=col>Castellani</th><th scope=col>Ginori</th><th scope=col>Guadagni</th><th scope=col>Lamberteschi</th><th scope=col>Medici</th><th scope=col>Pazzi</th><th scope=col>Peruzzi</th><th scope=col>Pucci</th><th scope=col>Ridolfi</th><th scope=col>Salviati</th><th scope=col>Strozzi</th><th scope=col>Tornabuoni</th></tr>\n",
       "</thead>\n",
       "<tbody>\n",
       "\t<tr><td>0</td><td>0</td><td>0</td><td>0</td><td>0</td><td>0</td><td>0</td><td>0</td><td>1</td><td>0</td><td>0</td><td>0</td><td>0</td><td>0</td><td>0</td><td>0</td></tr>\n",
       "\t<tr><td>0</td><td>0</td><td>0</td><td>0</td><td>0</td><td>1</td><td>1</td><td>0</td><td>1</td><td>0</td><td>0</td><td>0</td><td>0</td><td>0</td><td>0</td><td>0</td></tr>\n",
       "\t<tr><td>0</td><td>0</td><td>0</td><td>0</td><td>1</td><td>0</td><td>0</td><td>0</td><td>1</td><td>0</td><td>0</td><td>0</td><td>0</td><td>0</td><td>0</td><td>0</td></tr>\n",
       "\t<tr><td>0</td><td>0</td><td>0</td><td>0</td><td>0</td><td>0</td><td>1</td><td>0</td><td>0</td><td>0</td><td>1</td><td>0</td><td>0</td><td>0</td><td>1</td><td>0</td></tr>\n",
       "\t<tr><td>0</td><td>0</td><td>1</td><td>0</td><td>0</td><td>0</td><td>0</td><td>0</td><td>0</td><td>0</td><td>1</td><td>0</td><td>0</td><td>0</td><td>1</td><td>0</td></tr>\n",
       "\t<tr><td>0</td><td>1</td><td>0</td><td>0</td><td>0</td><td>0</td><td>0</td><td>0</td><td>0</td><td>0</td><td>0</td><td>0</td><td>0</td><td>0</td><td>0</td><td>0</td></tr>\n",
       "\t<tr><td>0</td><td>1</td><td>0</td><td>1</td><td>0</td><td>0</td><td>0</td><td>1</td><td>0</td><td>0</td><td>0</td><td>0</td><td>0</td><td>0</td><td>0</td><td>1</td></tr>\n",
       "\t<tr><td>0</td><td>0</td><td>0</td><td>0</td><td>0</td><td>0</td><td>1</td><td>0</td><td>0</td><td>0</td><td>0</td><td>0</td><td>0</td><td>0</td><td>0</td><td>0</td></tr>\n",
       "\t<tr><td>1</td><td>1</td><td>1</td><td>0</td><td>0</td><td>0</td><td>0</td><td>0</td><td>0</td><td>0</td><td>0</td><td>0</td><td>1</td><td>1</td><td>0</td><td>1</td></tr>\n",
       "\t<tr><td>0</td><td>0</td><td>0</td><td>0</td><td>0</td><td>0</td><td>0</td><td>0</td><td>0</td><td>0</td><td>0</td><td>0</td><td>0</td><td>1</td><td>0</td><td>0</td></tr>\n",
       "\t<tr><td>0</td><td>0</td><td>0</td><td>1</td><td>1</td><td>0</td><td>0</td><td>0</td><td>0</td><td>0</td><td>0</td><td>0</td><td>0</td><td>0</td><td>1</td><td>0</td></tr>\n",
       "\t<tr><td>0</td><td>0</td><td>0</td><td>0</td><td>0</td><td>0</td><td>0</td><td>0</td><td>0</td><td>0</td><td>0</td><td>0</td><td>0</td><td>0</td><td>0</td><td>0</td></tr>\n",
       "\t<tr><td>0</td><td>0</td><td>0</td><td>0</td><td>0</td><td>0</td><td>0</td><td>0</td><td>1</td><td>0</td><td>0</td><td>0</td><td>0</td><td>0</td><td>1</td><td>1</td></tr>\n",
       "\t<tr><td>0</td><td>0</td><td>0</td><td>0</td><td>0</td><td>0</td><td>0</td><td>0</td><td>1</td><td>1</td><td>0</td><td>0</td><td>0</td><td>0</td><td>0</td><td>0</td></tr>\n",
       "\t<tr><td>0</td><td>0</td><td>0</td><td>1</td><td>1</td><td>0</td><td>0</td><td>0</td><td>0</td><td>0</td><td>1</td><td>0</td><td>1</td><td>0</td><td>0</td><td>0</td></tr>\n",
       "\t<tr><td>0</td><td>0</td><td>0</td><td>0</td><td>0</td><td>0</td><td>1</td><td>0</td><td>1</td><td>0</td><td>0</td><td>0</td><td>1</td><td>0</td><td>0</td><td>0</td></tr>\n",
       "</tbody>\n",
       "</table>\n"
      ],
      "text/latex": [
       "A matrix: 16 × 16 of type int\n",
       "\\begin{tabular}{llllllllllllllll}\n",
       " Acciaiuoli & Albizzi & Barbadori & Bischeri & Castellani & Ginori & Guadagni & Lamberteschi & Medici & Pazzi & Peruzzi & Pucci & Ridolfi & Salviati & Strozzi & Tornabuoni\\\\\n",
       "\\hline\n",
       "\t 0 & 0 & 0 & 0 & 0 & 0 & 0 & 0 & 1 & 0 & 0 & 0 & 0 & 0 & 0 & 0\\\\\n",
       "\t 0 & 0 & 0 & 0 & 0 & 1 & 1 & 0 & 1 & 0 & 0 & 0 & 0 & 0 & 0 & 0\\\\\n",
       "\t 0 & 0 & 0 & 0 & 1 & 0 & 0 & 0 & 1 & 0 & 0 & 0 & 0 & 0 & 0 & 0\\\\\n",
       "\t 0 & 0 & 0 & 0 & 0 & 0 & 1 & 0 & 0 & 0 & 1 & 0 & 0 & 0 & 1 & 0\\\\\n",
       "\t 0 & 0 & 1 & 0 & 0 & 0 & 0 & 0 & 0 & 0 & 1 & 0 & 0 & 0 & 1 & 0\\\\\n",
       "\t 0 & 1 & 0 & 0 & 0 & 0 & 0 & 0 & 0 & 0 & 0 & 0 & 0 & 0 & 0 & 0\\\\\n",
       "\t 0 & 1 & 0 & 1 & 0 & 0 & 0 & 1 & 0 & 0 & 0 & 0 & 0 & 0 & 0 & 1\\\\\n",
       "\t 0 & 0 & 0 & 0 & 0 & 0 & 1 & 0 & 0 & 0 & 0 & 0 & 0 & 0 & 0 & 0\\\\\n",
       "\t 1 & 1 & 1 & 0 & 0 & 0 & 0 & 0 & 0 & 0 & 0 & 0 & 1 & 1 & 0 & 1\\\\\n",
       "\t 0 & 0 & 0 & 0 & 0 & 0 & 0 & 0 & 0 & 0 & 0 & 0 & 0 & 1 & 0 & 0\\\\\n",
       "\t 0 & 0 & 0 & 1 & 1 & 0 & 0 & 0 & 0 & 0 & 0 & 0 & 0 & 0 & 1 & 0\\\\\n",
       "\t 0 & 0 & 0 & 0 & 0 & 0 & 0 & 0 & 0 & 0 & 0 & 0 & 0 & 0 & 0 & 0\\\\\n",
       "\t 0 & 0 & 0 & 0 & 0 & 0 & 0 & 0 & 1 & 0 & 0 & 0 & 0 & 0 & 1 & 1\\\\\n",
       "\t 0 & 0 & 0 & 0 & 0 & 0 & 0 & 0 & 1 & 1 & 0 & 0 & 0 & 0 & 0 & 0\\\\\n",
       "\t 0 & 0 & 0 & 1 & 1 & 0 & 0 & 0 & 0 & 0 & 1 & 0 & 1 & 0 & 0 & 0\\\\\n",
       "\t 0 & 0 & 0 & 0 & 0 & 0 & 1 & 0 & 1 & 0 & 0 & 0 & 1 & 0 & 0 & 0\\\\\n",
       "\\end{tabular}\n"
      ],
      "text/markdown": [
       "\n",
       "A matrix: 16 × 16 of type int\n",
       "\n",
       "| Acciaiuoli | Albizzi | Barbadori | Bischeri | Castellani | Ginori | Guadagni | Lamberteschi | Medici | Pazzi | Peruzzi | Pucci | Ridolfi | Salviati | Strozzi | Tornabuoni |\n",
       "|---|---|---|---|---|---|---|---|---|---|---|---|---|---|---|---|\n",
       "| 0 | 0 | 0 | 0 | 0 | 0 | 0 | 0 | 1 | 0 | 0 | 0 | 0 | 0 | 0 | 0 |\n",
       "| 0 | 0 | 0 | 0 | 0 | 1 | 1 | 0 | 1 | 0 | 0 | 0 | 0 | 0 | 0 | 0 |\n",
       "| 0 | 0 | 0 | 0 | 1 | 0 | 0 | 0 | 1 | 0 | 0 | 0 | 0 | 0 | 0 | 0 |\n",
       "| 0 | 0 | 0 | 0 | 0 | 0 | 1 | 0 | 0 | 0 | 1 | 0 | 0 | 0 | 1 | 0 |\n",
       "| 0 | 0 | 1 | 0 | 0 | 0 | 0 | 0 | 0 | 0 | 1 | 0 | 0 | 0 | 1 | 0 |\n",
       "| 0 | 1 | 0 | 0 | 0 | 0 | 0 | 0 | 0 | 0 | 0 | 0 | 0 | 0 | 0 | 0 |\n",
       "| 0 | 1 | 0 | 1 | 0 | 0 | 0 | 1 | 0 | 0 | 0 | 0 | 0 | 0 | 0 | 1 |\n",
       "| 0 | 0 | 0 | 0 | 0 | 0 | 1 | 0 | 0 | 0 | 0 | 0 | 0 | 0 | 0 | 0 |\n",
       "| 1 | 1 | 1 | 0 | 0 | 0 | 0 | 0 | 0 | 0 | 0 | 0 | 1 | 1 | 0 | 1 |\n",
       "| 0 | 0 | 0 | 0 | 0 | 0 | 0 | 0 | 0 | 0 | 0 | 0 | 0 | 1 | 0 | 0 |\n",
       "| 0 | 0 | 0 | 1 | 1 | 0 | 0 | 0 | 0 | 0 | 0 | 0 | 0 | 0 | 1 | 0 |\n",
       "| 0 | 0 | 0 | 0 | 0 | 0 | 0 | 0 | 0 | 0 | 0 | 0 | 0 | 0 | 0 | 0 |\n",
       "| 0 | 0 | 0 | 0 | 0 | 0 | 0 | 0 | 1 | 0 | 0 | 0 | 0 | 0 | 1 | 1 |\n",
       "| 0 | 0 | 0 | 0 | 0 | 0 | 0 | 0 | 1 | 1 | 0 | 0 | 0 | 0 | 0 | 0 |\n",
       "| 0 | 0 | 0 | 1 | 1 | 0 | 0 | 0 | 0 | 0 | 1 | 0 | 1 | 0 | 0 | 0 |\n",
       "| 0 | 0 | 0 | 0 | 0 | 0 | 1 | 0 | 1 | 0 | 0 | 0 | 1 | 0 | 0 | 0 |\n",
       "\n"
      ],
      "text/plain": [
       "      Acciaiuoli Albizzi Barbadori Bischeri Castellani Ginori Guadagni\n",
       " [1,] 0          0       0         0        0          0      0       \n",
       " [2,] 0          0       0         0        0          1      1       \n",
       " [3,] 0          0       0         0        1          0      0       \n",
       " [4,] 0          0       0         0        0          0      1       \n",
       " [5,] 0          0       1         0        0          0      0       \n",
       " [6,] 0          1       0         0        0          0      0       \n",
       " [7,] 0          1       0         1        0          0      0       \n",
       " [8,] 0          0       0         0        0          0      1       \n",
       " [9,] 1          1       1         0        0          0      0       \n",
       "[10,] 0          0       0         0        0          0      0       \n",
       "[11,] 0          0       0         1        1          0      0       \n",
       "[12,] 0          0       0         0        0          0      0       \n",
       "[13,] 0          0       0         0        0          0      0       \n",
       "[14,] 0          0       0         0        0          0      0       \n",
       "[15,] 0          0       0         1        1          0      0       \n",
       "[16,] 0          0       0         0        0          0      1       \n",
       "      Lamberteschi Medici Pazzi Peruzzi Pucci Ridolfi Salviati Strozzi\n",
       " [1,] 0            1      0     0       0     0       0        0      \n",
       " [2,] 0            1      0     0       0     0       0        0      \n",
       " [3,] 0            1      0     0       0     0       0        0      \n",
       " [4,] 0            0      0     1       0     0       0        1      \n",
       " [5,] 0            0      0     1       0     0       0        1      \n",
       " [6,] 0            0      0     0       0     0       0        0      \n",
       " [7,] 1            0      0     0       0     0       0        0      \n",
       " [8,] 0            0      0     0       0     0       0        0      \n",
       " [9,] 0            0      0     0       0     1       1        0      \n",
       "[10,] 0            0      0     0       0     0       1        0      \n",
       "[11,] 0            0      0     0       0     0       0        1      \n",
       "[12,] 0            0      0     0       0     0       0        0      \n",
       "[13,] 0            1      0     0       0     0       0        1      \n",
       "[14,] 0            1      1     0       0     0       0        0      \n",
       "[15,] 0            0      0     1       0     1       0        0      \n",
       "[16,] 0            1      0     0       0     1       0        0      \n",
       "      Tornabuoni\n",
       " [1,] 0         \n",
       " [2,] 0         \n",
       " [3,] 0         \n",
       " [4,] 0         \n",
       " [5,] 0         \n",
       " [6,] 0         \n",
       " [7,] 1         \n",
       " [8,] 0         \n",
       " [9,] 1         \n",
       "[10,] 0         \n",
       "[11,] 0         \n",
       "[12,] 0         \n",
       "[13,] 1         \n",
       "[14,] 0         \n",
       "[15,] 0         \n",
       "[16,] 0         "
      ]
     },
     "metadata": {},
     "output_type": "display_data"
    }
   ],
   "source": [
    "data<-as.matrix(read.csv(\"./florentine_marital.csv\", comment.char=\"#\"))\n",
    "data"
   ]
  },
  {
   "cell_type": "markdown",
   "metadata": {},
   "source": [
    "Задача 2. Социоматрица была преобразована в список рёбер. Были выведены первые 5 элементов списка рёбер:"
   ]
  },
  {
   "cell_type": "code",
   "execution_count": 74,
   "metadata": {
    "vscode": {
     "languageId": "r"
    }
   },
   "outputs": [
    {
     "data": {
      "text/html": [
       "<table class=\"dataframe\">\n",
       "<caption>A matrix: 5 × 2 of type int</caption>\n",
       "<tbody>\n",
       "\t<tr><td>1</td><td>9</td></tr>\n",
       "\t<tr><td>2</td><td>6</td></tr>\n",
       "\t<tr><td>2</td><td>7</td></tr>\n",
       "\t<tr><td>2</td><td>9</td></tr>\n",
       "\t<tr><td>3</td><td>5</td></tr>\n",
       "</tbody>\n",
       "</table>\n"
      ],
      "text/latex": [
       "A matrix: 5 × 2 of type int\n",
       "\\begin{tabular}{ll}\n",
       "\t 1 & 9\\\\\n",
       "\t 2 & 6\\\\\n",
       "\t 2 & 7\\\\\n",
       "\t 2 & 9\\\\\n",
       "\t 3 & 5\\\\\n",
       "\\end{tabular}\n"
      ],
      "text/markdown": [
       "\n",
       "A matrix: 5 × 2 of type int\n",
       "\n",
       "| 1 | 9 |\n",
       "| 2 | 6 |\n",
       "| 2 | 7 |\n",
       "| 2 | 9 |\n",
       "| 3 | 5 |\n",
       "\n"
      ],
      "text/plain": [
       "     [,1] [,2]\n",
       "[1,] 1    9   \n",
       "[2,] 2    6   \n",
       "[3,] 2    7   \n",
       "[4,] 2    9   \n",
       "[5,] 3    5   "
      ]
     },
     "metadata": {},
     "output_type": "display_data"
    }
   ],
   "source": [
    "net <- as.network(data, matrix.type = \"adjacency\")\n",
    "head(as.edgelist(net), 5)"
   ]
  },
  {
   "cell_type": "markdown",
   "metadata": {},
   "source": [
    "Задача 3. Столбцам и строкам социоматрицы были присвоены имена:"
   ]
  },
  {
   "cell_type": "code",
   "execution_count": 75,
   "metadata": {
    "vscode": {
     "languageId": "r"
    }
   },
   "outputs": [
    {
     "data": {
      "text/html": [
       "<table class=\"dataframe\">\n",
       "<caption>A matrix: 16 × 16 of type int</caption>\n",
       "<thead>\n",
       "\t<tr><th></th><th scope=col>Acciaiuoli</th><th scope=col>Albizzi</th><th scope=col>Barbadori</th><th scope=col>Bischeri</th><th scope=col>Castellani</th><th scope=col>Ginori</th><th scope=col>Guadagni</th><th scope=col>Lamberteschi</th><th scope=col>Medici</th><th scope=col>Pazzi</th><th scope=col>Peruzzi</th><th scope=col>Pucci</th><th scope=col>Ridolfi</th><th scope=col>Salviati</th><th scope=col>Strozzi</th><th scope=col>Tornabuoni</th></tr>\n",
       "</thead>\n",
       "<tbody>\n",
       "\t<tr><th scope=row>Acciaiuoli</th><td>0</td><td>0</td><td>0</td><td>0</td><td>0</td><td>0</td><td>0</td><td>0</td><td>1</td><td>0</td><td>0</td><td>0</td><td>0</td><td>0</td><td>0</td><td>0</td></tr>\n",
       "\t<tr><th scope=row>Albizzi</th><td>0</td><td>0</td><td>0</td><td>0</td><td>0</td><td>1</td><td>1</td><td>0</td><td>1</td><td>0</td><td>0</td><td>0</td><td>0</td><td>0</td><td>0</td><td>0</td></tr>\n",
       "\t<tr><th scope=row>Barbadori</th><td>0</td><td>0</td><td>0</td><td>0</td><td>1</td><td>0</td><td>0</td><td>0</td><td>1</td><td>0</td><td>0</td><td>0</td><td>0</td><td>0</td><td>0</td><td>0</td></tr>\n",
       "\t<tr><th scope=row>Bischeri</th><td>0</td><td>0</td><td>0</td><td>0</td><td>0</td><td>0</td><td>1</td><td>0</td><td>0</td><td>0</td><td>1</td><td>0</td><td>0</td><td>0</td><td>1</td><td>0</td></tr>\n",
       "\t<tr><th scope=row>Castellani</th><td>0</td><td>0</td><td>1</td><td>0</td><td>0</td><td>0</td><td>0</td><td>0</td><td>0</td><td>0</td><td>1</td><td>0</td><td>0</td><td>0</td><td>1</td><td>0</td></tr>\n",
       "\t<tr><th scope=row>Ginori</th><td>0</td><td>1</td><td>0</td><td>0</td><td>0</td><td>0</td><td>0</td><td>0</td><td>0</td><td>0</td><td>0</td><td>0</td><td>0</td><td>0</td><td>0</td><td>0</td></tr>\n",
       "\t<tr><th scope=row>Guadagni</th><td>0</td><td>1</td><td>0</td><td>1</td><td>0</td><td>0</td><td>0</td><td>1</td><td>0</td><td>0</td><td>0</td><td>0</td><td>0</td><td>0</td><td>0</td><td>1</td></tr>\n",
       "\t<tr><th scope=row>Lamberteschi</th><td>0</td><td>0</td><td>0</td><td>0</td><td>0</td><td>0</td><td>1</td><td>0</td><td>0</td><td>0</td><td>0</td><td>0</td><td>0</td><td>0</td><td>0</td><td>0</td></tr>\n",
       "\t<tr><th scope=row>Medici</th><td>1</td><td>1</td><td>1</td><td>0</td><td>0</td><td>0</td><td>0</td><td>0</td><td>0</td><td>0</td><td>0</td><td>0</td><td>1</td><td>1</td><td>0</td><td>1</td></tr>\n",
       "\t<tr><th scope=row>Pazzi</th><td>0</td><td>0</td><td>0</td><td>0</td><td>0</td><td>0</td><td>0</td><td>0</td><td>0</td><td>0</td><td>0</td><td>0</td><td>0</td><td>1</td><td>0</td><td>0</td></tr>\n",
       "\t<tr><th scope=row>Peruzzi</th><td>0</td><td>0</td><td>0</td><td>1</td><td>1</td><td>0</td><td>0</td><td>0</td><td>0</td><td>0</td><td>0</td><td>0</td><td>0</td><td>0</td><td>1</td><td>0</td></tr>\n",
       "\t<tr><th scope=row>Pucci</th><td>0</td><td>0</td><td>0</td><td>0</td><td>0</td><td>0</td><td>0</td><td>0</td><td>0</td><td>0</td><td>0</td><td>0</td><td>0</td><td>0</td><td>0</td><td>0</td></tr>\n",
       "\t<tr><th scope=row>Ridolfi</th><td>0</td><td>0</td><td>0</td><td>0</td><td>0</td><td>0</td><td>0</td><td>0</td><td>1</td><td>0</td><td>0</td><td>0</td><td>0</td><td>0</td><td>1</td><td>1</td></tr>\n",
       "\t<tr><th scope=row>Salviati</th><td>0</td><td>0</td><td>0</td><td>0</td><td>0</td><td>0</td><td>0</td><td>0</td><td>1</td><td>1</td><td>0</td><td>0</td><td>0</td><td>0</td><td>0</td><td>0</td></tr>\n",
       "\t<tr><th scope=row>Strozzi</th><td>0</td><td>0</td><td>0</td><td>1</td><td>1</td><td>0</td><td>0</td><td>0</td><td>0</td><td>0</td><td>1</td><td>0</td><td>1</td><td>0</td><td>0</td><td>0</td></tr>\n",
       "\t<tr><th scope=row>Tornabuoni</th><td>0</td><td>0</td><td>0</td><td>0</td><td>0</td><td>0</td><td>1</td><td>0</td><td>1</td><td>0</td><td>0</td><td>0</td><td>1</td><td>0</td><td>0</td><td>0</td></tr>\n",
       "</tbody>\n",
       "</table>\n"
      ],
      "text/latex": [
       "A matrix: 16 × 16 of type int\n",
       "\\begin{tabular}{r|llllllllllllllll}\n",
       "  & Acciaiuoli & Albizzi & Barbadori & Bischeri & Castellani & Ginori & Guadagni & Lamberteschi & Medici & Pazzi & Peruzzi & Pucci & Ridolfi & Salviati & Strozzi & Tornabuoni\\\\\n",
       "\\hline\n",
       "\tAcciaiuoli & 0 & 0 & 0 & 0 & 0 & 0 & 0 & 0 & 1 & 0 & 0 & 0 & 0 & 0 & 0 & 0\\\\\n",
       "\tAlbizzi & 0 & 0 & 0 & 0 & 0 & 1 & 1 & 0 & 1 & 0 & 0 & 0 & 0 & 0 & 0 & 0\\\\\n",
       "\tBarbadori & 0 & 0 & 0 & 0 & 1 & 0 & 0 & 0 & 1 & 0 & 0 & 0 & 0 & 0 & 0 & 0\\\\\n",
       "\tBischeri & 0 & 0 & 0 & 0 & 0 & 0 & 1 & 0 & 0 & 0 & 1 & 0 & 0 & 0 & 1 & 0\\\\\n",
       "\tCastellani & 0 & 0 & 1 & 0 & 0 & 0 & 0 & 0 & 0 & 0 & 1 & 0 & 0 & 0 & 1 & 0\\\\\n",
       "\tGinori & 0 & 1 & 0 & 0 & 0 & 0 & 0 & 0 & 0 & 0 & 0 & 0 & 0 & 0 & 0 & 0\\\\\n",
       "\tGuadagni & 0 & 1 & 0 & 1 & 0 & 0 & 0 & 1 & 0 & 0 & 0 & 0 & 0 & 0 & 0 & 1\\\\\n",
       "\tLamberteschi & 0 & 0 & 0 & 0 & 0 & 0 & 1 & 0 & 0 & 0 & 0 & 0 & 0 & 0 & 0 & 0\\\\\n",
       "\tMedici & 1 & 1 & 1 & 0 & 0 & 0 & 0 & 0 & 0 & 0 & 0 & 0 & 1 & 1 & 0 & 1\\\\\n",
       "\tPazzi & 0 & 0 & 0 & 0 & 0 & 0 & 0 & 0 & 0 & 0 & 0 & 0 & 0 & 1 & 0 & 0\\\\\n",
       "\tPeruzzi & 0 & 0 & 0 & 1 & 1 & 0 & 0 & 0 & 0 & 0 & 0 & 0 & 0 & 0 & 1 & 0\\\\\n",
       "\tPucci & 0 & 0 & 0 & 0 & 0 & 0 & 0 & 0 & 0 & 0 & 0 & 0 & 0 & 0 & 0 & 0\\\\\n",
       "\tRidolfi & 0 & 0 & 0 & 0 & 0 & 0 & 0 & 0 & 1 & 0 & 0 & 0 & 0 & 0 & 1 & 1\\\\\n",
       "\tSalviati & 0 & 0 & 0 & 0 & 0 & 0 & 0 & 0 & 1 & 1 & 0 & 0 & 0 & 0 & 0 & 0\\\\\n",
       "\tStrozzi & 0 & 0 & 0 & 1 & 1 & 0 & 0 & 0 & 0 & 0 & 1 & 0 & 1 & 0 & 0 & 0\\\\\n",
       "\tTornabuoni & 0 & 0 & 0 & 0 & 0 & 0 & 1 & 0 & 1 & 0 & 0 & 0 & 1 & 0 & 0 & 0\\\\\n",
       "\\end{tabular}\n"
      ],
      "text/markdown": [
       "\n",
       "A matrix: 16 × 16 of type int\n",
       "\n",
       "| <!--/--> | Acciaiuoli | Albizzi | Barbadori | Bischeri | Castellani | Ginori | Guadagni | Lamberteschi | Medici | Pazzi | Peruzzi | Pucci | Ridolfi | Salviati | Strozzi | Tornabuoni |\n",
       "|---|---|---|---|---|---|---|---|---|---|---|---|---|---|---|---|---|\n",
       "| Acciaiuoli | 0 | 0 | 0 | 0 | 0 | 0 | 0 | 0 | 1 | 0 | 0 | 0 | 0 | 0 | 0 | 0 |\n",
       "| Albizzi | 0 | 0 | 0 | 0 | 0 | 1 | 1 | 0 | 1 | 0 | 0 | 0 | 0 | 0 | 0 | 0 |\n",
       "| Barbadori | 0 | 0 | 0 | 0 | 1 | 0 | 0 | 0 | 1 | 0 | 0 | 0 | 0 | 0 | 0 | 0 |\n",
       "| Bischeri | 0 | 0 | 0 | 0 | 0 | 0 | 1 | 0 | 0 | 0 | 1 | 0 | 0 | 0 | 1 | 0 |\n",
       "| Castellani | 0 | 0 | 1 | 0 | 0 | 0 | 0 | 0 | 0 | 0 | 1 | 0 | 0 | 0 | 1 | 0 |\n",
       "| Ginori | 0 | 1 | 0 | 0 | 0 | 0 | 0 | 0 | 0 | 0 | 0 | 0 | 0 | 0 | 0 | 0 |\n",
       "| Guadagni | 0 | 1 | 0 | 1 | 0 | 0 | 0 | 1 | 0 | 0 | 0 | 0 | 0 | 0 | 0 | 1 |\n",
       "| Lamberteschi | 0 | 0 | 0 | 0 | 0 | 0 | 1 | 0 | 0 | 0 | 0 | 0 | 0 | 0 | 0 | 0 |\n",
       "| Medici | 1 | 1 | 1 | 0 | 0 | 0 | 0 | 0 | 0 | 0 | 0 | 0 | 1 | 1 | 0 | 1 |\n",
       "| Pazzi | 0 | 0 | 0 | 0 | 0 | 0 | 0 | 0 | 0 | 0 | 0 | 0 | 0 | 1 | 0 | 0 |\n",
       "| Peruzzi | 0 | 0 | 0 | 1 | 1 | 0 | 0 | 0 | 0 | 0 | 0 | 0 | 0 | 0 | 1 | 0 |\n",
       "| Pucci | 0 | 0 | 0 | 0 | 0 | 0 | 0 | 0 | 0 | 0 | 0 | 0 | 0 | 0 | 0 | 0 |\n",
       "| Ridolfi | 0 | 0 | 0 | 0 | 0 | 0 | 0 | 0 | 1 | 0 | 0 | 0 | 0 | 0 | 1 | 1 |\n",
       "| Salviati | 0 | 0 | 0 | 0 | 0 | 0 | 0 | 0 | 1 | 1 | 0 | 0 | 0 | 0 | 0 | 0 |\n",
       "| Strozzi | 0 | 0 | 0 | 1 | 1 | 0 | 0 | 0 | 0 | 0 | 1 | 0 | 1 | 0 | 0 | 0 |\n",
       "| Tornabuoni | 0 | 0 | 0 | 0 | 0 | 0 | 1 | 0 | 1 | 0 | 0 | 0 | 1 | 0 | 0 | 0 |\n",
       "\n"
      ],
      "text/plain": [
       "             Acciaiuoli Albizzi Barbadori Bischeri Castellani Ginori Guadagni\n",
       "Acciaiuoli   0          0       0         0        0          0      0       \n",
       "Albizzi      0          0       0         0        0          1      1       \n",
       "Barbadori    0          0       0         0        1          0      0       \n",
       "Bischeri     0          0       0         0        0          0      1       \n",
       "Castellani   0          0       1         0        0          0      0       \n",
       "Ginori       0          1       0         0        0          0      0       \n",
       "Guadagni     0          1       0         1        0          0      0       \n",
       "Lamberteschi 0          0       0         0        0          0      1       \n",
       "Medici       1          1       1         0        0          0      0       \n",
       "Pazzi        0          0       0         0        0          0      0       \n",
       "Peruzzi      0          0       0         1        1          0      0       \n",
       "Pucci        0          0       0         0        0          0      0       \n",
       "Ridolfi      0          0       0         0        0          0      0       \n",
       "Salviati     0          0       0         0        0          0      0       \n",
       "Strozzi      0          0       0         1        1          0      0       \n",
       "Tornabuoni   0          0       0         0        0          0      1       \n",
       "             Lamberteschi Medici Pazzi Peruzzi Pucci Ridolfi Salviati Strozzi\n",
       "Acciaiuoli   0            1      0     0       0     0       0        0      \n",
       "Albizzi      0            1      0     0       0     0       0        0      \n",
       "Barbadori    0            1      0     0       0     0       0        0      \n",
       "Bischeri     0            0      0     1       0     0       0        1      \n",
       "Castellani   0            0      0     1       0     0       0        1      \n",
       "Ginori       0            0      0     0       0     0       0        0      \n",
       "Guadagni     1            0      0     0       0     0       0        0      \n",
       "Lamberteschi 0            0      0     0       0     0       0        0      \n",
       "Medici       0            0      0     0       0     1       1        0      \n",
       "Pazzi        0            0      0     0       0     0       1        0      \n",
       "Peruzzi      0            0      0     0       0     0       0        1      \n",
       "Pucci        0            0      0     0       0     0       0        0      \n",
       "Ridolfi      0            1      0     0       0     0       0        1      \n",
       "Salviati     0            1      1     0       0     0       0        0      \n",
       "Strozzi      0            0      0     1       0     1       0        0      \n",
       "Tornabuoni   0            1      0     0       0     1       0        0      \n",
       "             Tornabuoni\n",
       "Acciaiuoli   0         \n",
       "Albizzi      0         \n",
       "Barbadori    0         \n",
       "Bischeri     0         \n",
       "Castellani   0         \n",
       "Ginori       0         \n",
       "Guadagni     1         \n",
       "Lamberteschi 0         \n",
       "Medici       1         \n",
       "Pazzi        0         \n",
       "Peruzzi      0         \n",
       "Pucci        0         \n",
       "Ridolfi      1         \n",
       "Salviati     0         \n",
       "Strozzi      0         \n",
       "Tornabuoni   0         "
      ]
     },
     "metadata": {},
     "output_type": "display_data"
    }
   ],
   "source": [
    "rownames(data) <- colnames(data)\n",
    "data"
   ]
  },
  {
   "cell_type": "markdown",
   "metadata": {},
   "source": [
    "Задача 4. По полученной социоматрице была построена ненаправленная сеть. Параметр directed = FALSE означает, что сеть ненаправленная."
   ]
  },
  {
   "cell_type": "code",
   "execution_count": 76,
   "metadata": {
    "vscode": {
     "languageId": "r"
    }
   },
   "outputs": [],
   "source": [
    "net <- as.network(data, matrix.type = \"adjacency\", directed = FALSE)"
   ]
  },
  {
   "cell_type": "markdown",
   "metadata": {},
   "source": [
    "Задача 5. Cеть была отображена с помощью алгоритмов укладки Фрюхтермана–\n",
    "Рейнгольда и Камада–Каваи. Суть укладки Фрюхтермана–\n",
    "Рейнгольда заключается в том, что сеть рассматривается как физическая модель, где вершины определяются как тела системы, между которыми действуют силы отталкивания и притяжения(сила притяжения действует только между смежными вершинами), и состоит необходимость в том, чтобы минимизировать энергию системы. Суть укладки Камада–Каваи также состоит в том, чтобы минимизировать энергию физической системы, но за основу берется пружинная физическая модель, где вершины определяются как тела системы, а ребра как пружины."
   ]
  },
  {
   "cell_type": "code",
   "execution_count": 77,
   "metadata": {
    "vscode": {
     "languageId": "r"
    }
   },
   "outputs": [
    {
     "data": {
      "image/png": "[encoded data removed]",
      "text/plain": [
       "Plot with title \"укладка Фрюхтермана–\n",
       "Рейнгольда\""
      ]
     },
     "metadata": {
      "image/png": {
       "height": 420,
       "width": 420
      }
     },
     "output_type": "display_data"
    },
    {
     "data": {
      "image/png": "[encoded data removed]",
      "text/plain": [
       "Plot with title \"укладка Камада–Каваи\""
      ]
     },
     "metadata": {
      "image/png": {
       "height": 420,
       "width": 420
      }
     },
     "output_type": "display_data"
    }
   ],
   "source": [
    "graph<-graph_from_adjacency_matrix(data, mode = \"undirected\")\n",
    "plot(graph, layout = layout_with_fr(graph), main = \"укладка Фрюхтермана–\n",
    "Рейнгольда\")\n",
    "plot(graph, layout = layout_with_kk(graph), main = \"укладка Камада–Каваи\")"
   ]
  },
  {
   "cell_type": "markdown",
   "metadata": {},
   "source": [
    "Задача 6. На экран была выведена «описательная сводка» сети"
   ]
  },
  {
   "cell_type": "code",
   "execution_count": 78,
   "metadata": {
    "vscode": {
     "languageId": "r"
    }
   },
   "outputs": [
    {
     "data": {
      "text/plain": [
       "Network attributes:\n",
       "  vertices = 16\n",
       "  directed = FALSE\n",
       "  hyper = FALSE\n",
       "  loops = FALSE\n",
       "  multiple = FALSE\n",
       "  bipartite = FALSE\n",
       " total edges = 20 \n",
       "   missing edges = 0 \n",
       "   non-missing edges = 20 \n",
       " density = 0.1666667 \n",
       "\n",
       "Vertex attributes:\n",
       "  vertex.names:\n",
       "   character valued attribute\n",
       "   16 valid vertex names\n",
       "\n",
       "No edge attributes\n",
       "\n",
       "Network edgelist matrix:\n",
       "      [,1] [,2]\n",
       " [1,]    9    1\n",
       " [2,]    6    2\n",
       " [3,]    7    2\n",
       " [4,]    9    2\n",
       " [5,]    5    3\n",
       " [6,]    9    3\n",
       " [7,]    7    4\n",
       " [8,]   11    4\n",
       " [9,]   15    4\n",
       "[10,]   11    5\n",
       "[11,]   15    5\n",
       "[12,]    8    7\n",
       "[13,]   16    7\n",
       "[14,]   13    9\n",
       "[15,]   14    9\n",
       "[16,]   16    9\n",
       "[17,]   14   10\n",
       "[18,]   15   11\n",
       "[19,]   15   13\n",
       "[20,]   16   13"
      ]
     },
     "metadata": {},
     "output_type": "display_data"
    }
   ],
   "source": [
    "summary(net)"
   ]
  },
  {
   "cell_type": "markdown",
   "metadata": {},
   "source": [
    "Задача 7.  Была вычислена «пятичисловая сводка» сети:\n",
    "\n",
    "(a) Размер сети\n",
    "\n",
    "(b) Плотность сети. Вычислена вручную и с помощью соответствующей функции, значения совпали, следовательно реализация функции вычисления плотности из библиотеки sna совпадает с теоретическими сведеньями.\n",
    "\n",
    "(c) Число компонент в сети. По графику было видно, что в сети 2 компоненты, это подтвердилось с помощью соответствующей функции. Вывод: в сети имеется две группы узлов, каждая никак не связана с другой.\n",
    "\n",
    "(d) Диаметр сети оказался равным 5. Вывод: максимальный из кратчайших путей между парами вершин равен 5.\n",
    "\n",
    "(e) Коэффициент кластеризации оказался равен 0.1914894 . Вывод: сеть имеет малую тенденцию к созданию закрытых треугольников, то есть вероятность того, что наугад выбранный треугольник в сети - закрытый равна примерно 1/5 "
   ]
  },
  {
   "cell_type": "code",
   "execution_count": 79,
   "metadata": {
    "vscode": {
     "languageId": "r"
    }
   },
   "outputs": [
    {
     "name": "stdout",
     "output_type": "stream",
     "text": [
      "(a) Размер сети:  16 \n",
      "(b) Плотность сети, вычисленная вручную:  0.1666667 С помощью функций:  0.1666667 \n",
      "(с) Число компонент:  2 \n",
      "(d) Диаметр сети:  5 \n",
      "(e) Коэффициент кластеризации:  0.1914894 \n"
     ]
    }
   ],
   "source": [
    "net_size<-gorder(graph)\n",
    "my_density = gsize(graph) / choose(net_size, 2)\n",
    "density = gden(as.sociomatrix(net))\n",
    "\n",
    "cat(\"(a) Размер сети: \", net_size, \"\\n\")\n",
    "cat(\"(b) Плотность сети, вычисленная вручную: \", my_density, \"С помощью функций: \", density, \"\\n\")\n",
    "cat(\"(с) Число компонент: \", components(graph)$no, \"\\n\")\n",
    "cat(\"(d) Диаметр сети: \", diameter(graph), '\\n')\n",
    "cat(\"(e) Коэффициент кластеризации: \", gtrans(as.sociomatrix(net)), '\\n')"
   ]
  },
  {
   "cell_type": "markdown",
   "metadata": {},
   "source": [
    "Задача 8.  Была вычислена средняя степень узлов и дисперсия."
   ]
  },
  {
   "cell_type": "code",
   "execution_count": 80,
   "metadata": {
    "vscode": {
     "languageId": "r"
    }
   },
   "outputs": [
    {
     "name": "stdout",
     "output_type": "stream",
     "text": [
      "Средняя степень узлов:  2.5 \n",
      "Дисперсия:  2.266667 \n"
     ]
    }
   ],
   "source": [
    "cat(\"Средняя степень узлов: \", mean(degree(graph)), '\\n')\n",
    "cat(\"Дисперсия: \", var(degree(graph)), '\\n')"
   ]
  },
  {
   "cell_type": "markdown",
   "metadata": {},
   "source": [
    "Задача 9.  Была заполнена таблица для различных мер центральности: \n",
    "\n",
    "|$n_i$|$C_D'(n_i)$ | $C_C'(n_i)$| $C_B'(n_i)$| $C_I'(n_i)$|\n",
    "|-----|------------|-----------|------------|------------|\n",
    "|   1 | 0.07142857 | 0.3684211 | 0.00000000 | 0.04943215 |\n",
    "|   2 | 0.21428571 | 0.4827586 | 0.21245421 | 0.07408484 |\n",
    "|   3 | 0.14285714 | 0.4375000 | 0.09340659 | 0.06816655 |\n",
    "|   4 | 0.21428571 | 0.4000000 | 0.10439560 | 0.07427531 |\n",
    "|   5 | 0.21428571 | 0.3888889 | 0.05494505 | 0.07093098 |\n",
    "|   6 | 0.07142857 | 0.3333333 | 0.00000000 | 0.04309479 |\n",
    "|   7 | 0.28571429 | 0.4666667 | 0.25457875 | 0.08190476 |\n",
    "|   8 | 0.07142857 | 0.3255814 | 0.00000000 | 0.04562892 |\n",
    "|   9 | 0.42857143 | 0.5600000 | 0.52197802 | 0.09502877 |\n",
    "|  10 | 0.07142857 | 0.2857143 | 0.00000000 | 0.03515798 |\n",
    "|  11 | 0.21428571 | 0.3684211 | 0.02197802 | 0.06953773 |\n",
    "|  13 | 0.21428571 | 0.5000000 | 0.11355311 | 0.08040678 |\n",
    "|  14 | 0.14285714 | 0.3888889 | 0.14285714 | 0.05337198 |\n",
    "|  15 | 0.28571429 | 0.4375000 | 0.10256410 | 0.07841151 |\n",
    "|  16 | 0.21428571 | 0.4827586 | 0.09157509 | 0.08056694 |\n",
    "\n",
    "Вывод: самым ваажным актором всем мерам центральности является актор №9"
   ]
  },
  {
   "cell_type": "code",
   "execution_count": 81,
   "metadata": {
    "vscode": {
     "languageId": "r"
    }
   },
   "outputs": [
    {
     "data": {
      "text/html": [
       "<table class=\"dataframe\">\n",
       "<caption>A data.frame: 15 × 5</caption>\n",
       "<thead>\n",
       "\t<tr><th></th><th scope=col>n_i</th><th scope=col>C_D</th><th scope=col>C_C</th><th scope=col>C_B</th><th scope=col>C_I</th></tr>\n",
       "\t<tr><th></th><th scope=col>&lt;int&gt;</th><th scope=col>&lt;dbl&gt;</th><th scope=col>&lt;dbl&gt;</th><th scope=col>&lt;dbl&gt;</th><th scope=col>&lt;dbl&gt;</th></tr>\n",
       "</thead>\n",
       "<tbody>\n",
       "\t<tr><th scope=row>Acciaiuoli</th><td> 1</td><td>0.07142857</td><td>0.3684211</td><td>0.00000000</td><td>0.04943215</td></tr>\n",
       "\t<tr><th scope=row>Albizzi</th><td> 2</td><td>0.21428571</td><td>0.4827586</td><td>0.21245421</td><td>0.07408484</td></tr>\n",
       "\t<tr><th scope=row>Barbadori</th><td> 3</td><td>0.14285714</td><td>0.4375000</td><td>0.09340659</td><td>0.06816655</td></tr>\n",
       "\t<tr><th scope=row>Bischeri</th><td> 4</td><td>0.21428571</td><td>0.4000000</td><td>0.10439560</td><td>0.07427531</td></tr>\n",
       "\t<tr><th scope=row>Castellani</th><td> 5</td><td>0.21428571</td><td>0.3888889</td><td>0.05494505</td><td>0.07093098</td></tr>\n",
       "\t<tr><th scope=row>Ginori</th><td> 6</td><td>0.07142857</td><td>0.3333333</td><td>0.00000000</td><td>0.04309479</td></tr>\n",
       "\t<tr><th scope=row>Guadagni</th><td> 7</td><td>0.28571429</td><td>0.4666667</td><td>0.25457875</td><td>0.08190476</td></tr>\n",
       "\t<tr><th scope=row>Lamberteschi</th><td> 8</td><td>0.07142857</td><td>0.3255814</td><td>0.00000000</td><td>0.04562892</td></tr>\n",
       "\t<tr><th scope=row>Medici</th><td> 9</td><td>0.42857143</td><td>0.5600000</td><td>0.52197802</td><td>0.09502877</td></tr>\n",
       "\t<tr><th scope=row>Pazzi</th><td>10</td><td>0.07142857</td><td>0.2857143</td><td>0.00000000</td><td>0.03515798</td></tr>\n",
       "\t<tr><th scope=row>Peruzzi</th><td>11</td><td>0.21428571</td><td>0.3684211</td><td>0.02197802</td><td>0.06953773</td></tr>\n",
       "\t<tr><th scope=row>Ridolfi</th><td>13</td><td>0.21428571</td><td>0.5000000</td><td>0.11355311</td><td>0.08040678</td></tr>\n",
       "\t<tr><th scope=row>Salviati</th><td>14</td><td>0.14285714</td><td>0.3888889</td><td>0.14285714</td><td>0.05337198</td></tr>\n",
       "\t<tr><th scope=row>Strozzi</th><td>15</td><td>0.28571429</td><td>0.4375000</td><td>0.10256410</td><td>0.07841151</td></tr>\n",
       "\t<tr><th scope=row>Tornabuoni</th><td>16</td><td>0.21428571</td><td>0.4827586</td><td>0.09157509</td><td>0.08056694</td></tr>\n",
       "</tbody>\n",
       "</table>\n"
      ],
      "text/latex": [
       "A data.frame: 15 × 5\n",
       "\\begin{tabular}{r|lllll}\n",
       "  & n\\_i & C\\_D & C\\_C & C\\_B & C\\_I\\\\\n",
       "  & <int> & <dbl> & <dbl> & <dbl> & <dbl>\\\\\n",
       "\\hline\n",
       "\tAcciaiuoli &  1 & 0.07142857 & 0.3684211 & 0.00000000 & 0.04943215\\\\\n",
       "\tAlbizzi &  2 & 0.21428571 & 0.4827586 & 0.21245421 & 0.07408484\\\\\n",
       "\tBarbadori &  3 & 0.14285714 & 0.4375000 & 0.09340659 & 0.06816655\\\\\n",
       "\tBischeri &  4 & 0.21428571 & 0.4000000 & 0.10439560 & 0.07427531\\\\\n",
       "\tCastellani &  5 & 0.21428571 & 0.3888889 & 0.05494505 & 0.07093098\\\\\n",
       "\tGinori &  6 & 0.07142857 & 0.3333333 & 0.00000000 & 0.04309479\\\\\n",
       "\tGuadagni &  7 & 0.28571429 & 0.4666667 & 0.25457875 & 0.08190476\\\\\n",
       "\tLamberteschi &  8 & 0.07142857 & 0.3255814 & 0.00000000 & 0.04562892\\\\\n",
       "\tMedici &  9 & 0.42857143 & 0.5600000 & 0.52197802 & 0.09502877\\\\\n",
       "\tPazzi & 10 & 0.07142857 & 0.2857143 & 0.00000000 & 0.03515798\\\\\n",
       "\tPeruzzi & 11 & 0.21428571 & 0.3684211 & 0.02197802 & 0.06953773\\\\\n",
       "\tRidolfi & 13 & 0.21428571 & 0.5000000 & 0.11355311 & 0.08040678\\\\\n",
       "\tSalviati & 14 & 0.14285714 & 0.3888889 & 0.14285714 & 0.05337198\\\\\n",
       "\tStrozzi & 15 & 0.28571429 & 0.4375000 & 0.10256410 & 0.07841151\\\\\n",
       "\tTornabuoni & 16 & 0.21428571 & 0.4827586 & 0.09157509 & 0.08056694\\\\\n",
       "\\end{tabular}\n"
      ],
      "text/markdown": [
       "\n",
       "A data.frame: 15 × 5\n",
       "\n",
       "| <!--/--> | n_i &lt;int&gt; | C_D &lt;dbl&gt; | C_C &lt;dbl&gt; | C_B &lt;dbl&gt; | C_I &lt;dbl&gt; |\n",
       "|---|---|---|---|---|---|\n",
       "| Acciaiuoli |  1 | 0.07142857 | 0.3684211 | 0.00000000 | 0.04943215 |\n",
       "| Albizzi |  2 | 0.21428571 | 0.4827586 | 0.21245421 | 0.07408484 |\n",
       "| Barbadori |  3 | 0.14285714 | 0.4375000 | 0.09340659 | 0.06816655 |\n",
       "| Bischeri |  4 | 0.21428571 | 0.4000000 | 0.10439560 | 0.07427531 |\n",
       "| Castellani |  5 | 0.21428571 | 0.3888889 | 0.05494505 | 0.07093098 |\n",
       "| Ginori |  6 | 0.07142857 | 0.3333333 | 0.00000000 | 0.04309479 |\n",
       "| Guadagni |  7 | 0.28571429 | 0.4666667 | 0.25457875 | 0.08190476 |\n",
       "| Lamberteschi |  8 | 0.07142857 | 0.3255814 | 0.00000000 | 0.04562892 |\n",
       "| Medici |  9 | 0.42857143 | 0.5600000 | 0.52197802 | 0.09502877 |\n",
       "| Pazzi | 10 | 0.07142857 | 0.2857143 | 0.00000000 | 0.03515798 |\n",
       "| Peruzzi | 11 | 0.21428571 | 0.3684211 | 0.02197802 | 0.06953773 |\n",
       "| Ridolfi | 13 | 0.21428571 | 0.5000000 | 0.11355311 | 0.08040678 |\n",
       "| Salviati | 14 | 0.14285714 | 0.3888889 | 0.14285714 | 0.05337198 |\n",
       "| Strozzi | 15 | 0.28571429 | 0.4375000 | 0.10256410 | 0.07841151 |\n",
       "| Tornabuoni | 16 | 0.21428571 | 0.4827586 | 0.09157509 | 0.08056694 |\n",
       "\n"
      ],
      "text/plain": [
       "             n_i C_D        C_C       C_B        C_I       \n",
       "Acciaiuoli    1  0.07142857 0.3684211 0.00000000 0.04943215\n",
       "Albizzi       2  0.21428571 0.4827586 0.21245421 0.07408484\n",
       "Barbadori     3  0.14285714 0.4375000 0.09340659 0.06816655\n",
       "Bischeri      4  0.21428571 0.4000000 0.10439560 0.07427531\n",
       "Castellani    5  0.21428571 0.3888889 0.05494505 0.07093098\n",
       "Ginori        6  0.07142857 0.3333333 0.00000000 0.04309479\n",
       "Guadagni      7  0.28571429 0.4666667 0.25457875 0.08190476\n",
       "Lamberteschi  8  0.07142857 0.3255814 0.00000000 0.04562892\n",
       "Medici        9  0.42857143 0.5600000 0.52197802 0.09502877\n",
       "Pazzi        10  0.07142857 0.2857143 0.00000000 0.03515798\n",
       "Peruzzi      11  0.21428571 0.3684211 0.02197802 0.06953773\n",
       "Ridolfi      13  0.21428571 0.5000000 0.11355311 0.08040678\n",
       "Salviati     14  0.14285714 0.3888889 0.14285714 0.05337198\n",
       "Strozzi      15  0.28571429 0.4375000 0.10256410 0.07841151\n",
       "Tornabuoni   16  0.21428571 0.4827586 0.09157509 0.08056694"
      ]
     },
     "metadata": {},
     "output_type": "display_data"
    }
   ],
   "source": [
    "cent_graph <- delete.vertices(graph, which(degree(graph)==0)) # граф без изолированных вершин\n",
    "cent_net <- network::delete.vertices(net, isolates(net)) # сеть без изолированных вершин\n",
    "info_table<-data.frame(\n",
    "    n_i = match(V(cent_graph)$name, V(graph)$name),\n",
    "    C_D = degree(cent_graph, normalized = TRUE),\n",
    "    C_C = closeness(cent_graph, normalized = TRUE),\n",
    "    C_B = betweenness(cent_graph, normalized = TRUE),\n",
    "    C_I = infocent(cent_net) / sum(infocent(cent_net))\n",
    ")\n",
    "info_table"
   ]
  },
  {
   "cell_type": "markdown",
   "metadata": {},
   "source": [
    "Задача 10. Было вычислено значение централизации для каждой меры."
   ]
  },
  {
   "cell_type": "code",
   "execution_count": 82,
   "metadata": {
    "vscode": {
     "languageId": "r"
    }
   },
   "outputs": [
    {
     "name": "stdout",
     "output_type": "stream",
     "text": [
      "Централизация по степени:  0.2380952 \n",
      "Централизация по близости:  0.3224523 \n",
      "Централизация по посредничеству:  0.4368132 \n",
      "Централизация по информации:  0.1832619 \n"
     ]
    }
   ],
   "source": [
    "cat(\"Централизация по степени: \", centralization.degree(cent_graph)$centralization, \"\\n\")\n",
    "cat(\"Централизация по близости: \", centralization.closeness(cent_graph)$centralization, \"\\n\")\n",
    "cat(\"Централизация по посредничеству: \", centralization.betweenness(cent_graph)$centralization, \"\\n\")\n",
    "cat(\"Централизация по информации: \", centralization(cent_net, infocent), \"\\n\")"
   ]
  },
  {
   "cell_type": "markdown",
   "metadata": {},
   "source": [
    "Вывод: сеть больше всего централизована по посредничеству и меньше всего по информации."
   ]
  },
  {
   "cell_type": "markdown",
   "metadata": {},
   "source": [
    "Задача 11.  Были выявлены точки сочленения и мосты в сети.  На графике мосты изображены красным цветом, точки сочленения - зеленым."
   ]
  },
  {
   "cell_type": "code",
   "execution_count": 83,
   "metadata": {
    "vscode": {
     "languageId": "r"
    }
   },
   "outputs": [
    {
     "data": {
      "image/png": "[encoded data removed]",
      "text/plain": [
       "Plot with title \"\""
      ]
     },
     "metadata": {
      "image/png": {
       "height": 420,
       "width": 420
      }
     },
     "output_type": "display_data"
    }
   ],
   "source": [
    "bridges <- bridges(graph)\n",
    "artpoints <- articulation.points(graph)\n",
    "vcol <- rep('orange', vcount(graph))\n",
    "ecol <- rep('gray', ecount(graph))\n",
    "vcol[artpoints] <- 'green'\n",
    "ecol[bridges] <- 'red'\n",
    "plot(graph, edge.color=ecol, vertex.color=vcol)"
   ]
  },
  {
   "cell_type": "markdown",
   "metadata": {},
   "source": [
    "Задача 12.1 Из файла krackhardt_friendship.csv была извлечена социоматрица."
   ]
  },
  {
   "cell_type": "code",
   "execution_count": 84,
   "metadata": {
    "vscode": {
     "languageId": "r"
    }
   },
   "outputs": [],
   "source": [
    "data2<-as.matrix(read.csv(\"./krackhardt_friendship.csv\", comment.char=\"#\", header=FALSE))"
   ]
  },
  {
   "cell_type": "markdown",
   "metadata": {},
   "source": [
    "Задача 12.2 Социоматрица была преобразована в список рёбер. Были выведены первые 5 элементов списка рёбер:\n"
   ]
  },
  {
   "cell_type": "code",
   "execution_count": 85,
   "metadata": {
    "vscode": {
     "languageId": "r"
    }
   },
   "outputs": [
    {
     "data": {
      "text/html": [
       "<table class=\"dataframe\">\n",
       "<caption>A matrix: 5 × 2 of type int</caption>\n",
       "<tbody>\n",
       "\t<tr><td>1</td><td> 2</td></tr>\n",
       "\t<tr><td>1</td><td> 4</td></tr>\n",
       "\t<tr><td>1</td><td> 8</td></tr>\n",
       "\t<tr><td>1</td><td>12</td></tr>\n",
       "\t<tr><td>1</td><td>16</td></tr>\n",
       "</tbody>\n",
       "</table>\n"
      ],
      "text/latex": [
       "A matrix: 5 × 2 of type int\n",
       "\\begin{tabular}{ll}\n",
       "\t 1 &  2\\\\\n",
       "\t 1 &  4\\\\\n",
       "\t 1 &  8\\\\\n",
       "\t 1 & 12\\\\\n",
       "\t 1 & 16\\\\\n",
       "\\end{tabular}\n"
      ],
      "text/markdown": [
       "\n",
       "A matrix: 5 × 2 of type int\n",
       "\n",
       "| 1 |  2 |\n",
       "| 1 |  4 |\n",
       "| 1 |  8 |\n",
       "| 1 | 12 |\n",
       "| 1 | 16 |\n",
       "\n"
      ],
      "text/plain": [
       "     [,1] [,2]\n",
       "[1,] 1     2  \n",
       "[2,] 1     4  \n",
       "[3,] 1     8  \n",
       "[4,] 1    12  \n",
       "[5,] 1    16  "
      ]
     },
     "metadata": {},
     "output_type": "display_data"
    }
   ],
   "source": [
    "net2 <- as.network(data2, matrix.type = \"adjacency\")\n",
    "head(as.edgelist(net2), 5)"
   ]
  },
  {
   "cell_type": "markdown",
   "metadata": {},
   "source": [
    "Задача 12.3 Столбцам и строкам социоматрицы были присвоены имена:"
   ]
  },
  {
   "cell_type": "code",
   "execution_count": 86,
   "metadata": {
    "vscode": {
     "languageId": "r"
    }
   },
   "outputs": [
    {
     "data": {
      "text/html": [
       "<table class=\"dataframe\">\n",
       "<caption>A matrix: 21 × 21 of type int</caption>\n",
       "<thead>\n",
       "\t<tr><th></th><th scope=col>V1</th><th scope=col>V2</th><th scope=col>V3</th><th scope=col>V4</th><th scope=col>V5</th><th scope=col>V6</th><th scope=col>V7</th><th scope=col>V8</th><th scope=col>V9</th><th scope=col>V10</th><th scope=col>⋯</th><th scope=col>V12</th><th scope=col>V13</th><th scope=col>V14</th><th scope=col>V15</th><th scope=col>V16</th><th scope=col>V17</th><th scope=col>V18</th><th scope=col>V19</th><th scope=col>V20</th><th scope=col>V21</th></tr>\n",
       "</thead>\n",
       "<tbody>\n",
       "\t<tr><th scope=row>V1</th><td>0</td><td>1</td><td>0</td><td>1</td><td>0</td><td>0</td><td>0</td><td>1</td><td>0</td><td>0</td><td>⋯</td><td>1</td><td>0</td><td>0</td><td>0</td><td>1</td><td>0</td><td>0</td><td>0</td><td>0</td><td>0</td></tr>\n",
       "\t<tr><th scope=row>V2</th><td>1</td><td>0</td><td>0</td><td>0</td><td>0</td><td>0</td><td>0</td><td>0</td><td>0</td><td>0</td><td>⋯</td><td>0</td><td>0</td><td>0</td><td>0</td><td>0</td><td>0</td><td>1</td><td>0</td><td>0</td><td>1</td></tr>\n",
       "\t<tr><th scope=row>V3</th><td>0</td><td>0</td><td>0</td><td>0</td><td>0</td><td>0</td><td>0</td><td>0</td><td>0</td><td>0</td><td>⋯</td><td>0</td><td>0</td><td>1</td><td>0</td><td>0</td><td>0</td><td>0</td><td>1</td><td>0</td><td>0</td></tr>\n",
       "\t<tr><th scope=row>V4</th><td>1</td><td>1</td><td>0</td><td>0</td><td>0</td><td>0</td><td>0</td><td>1</td><td>0</td><td>0</td><td>⋯</td><td>1</td><td>0</td><td>0</td><td>0</td><td>1</td><td>1</td><td>0</td><td>0</td><td>0</td><td>0</td></tr>\n",
       "\t<tr><th scope=row>V5</th><td>0</td><td>1</td><td>0</td><td>0</td><td>0</td><td>0</td><td>0</td><td>0</td><td>1</td><td>0</td><td>⋯</td><td>0</td><td>0</td><td>1</td><td>0</td><td>0</td><td>1</td><td>0</td><td>1</td><td>0</td><td>1</td></tr>\n",
       "\t<tr><th scope=row>V6</th><td>0</td><td>1</td><td>0</td><td>0</td><td>0</td><td>0</td><td>1</td><td>0</td><td>1</td><td>0</td><td>⋯</td><td>1</td><td>0</td><td>0</td><td>0</td><td>0</td><td>1</td><td>0</td><td>0</td><td>0</td><td>1</td></tr>\n",
       "\t<tr><th scope=row>V7</th><td>0</td><td>0</td><td>0</td><td>0</td><td>0</td><td>0</td><td>0</td><td>0</td><td>0</td><td>0</td><td>⋯</td><td>0</td><td>0</td><td>0</td><td>0</td><td>0</td><td>0</td><td>0</td><td>0</td><td>0</td><td>0</td></tr>\n",
       "\t<tr><th scope=row>V8</th><td>0</td><td>0</td><td>0</td><td>1</td><td>0</td><td>0</td><td>0</td><td>0</td><td>0</td><td>0</td><td>⋯</td><td>0</td><td>0</td><td>0</td><td>0</td><td>0</td><td>0</td><td>0</td><td>0</td><td>0</td><td>0</td></tr>\n",
       "\t<tr><th scope=row>V9</th><td>0</td><td>0</td><td>0</td><td>0</td><td>0</td><td>0</td><td>0</td><td>0</td><td>0</td><td>0</td><td>⋯</td><td>0</td><td>0</td><td>0</td><td>0</td><td>0</td><td>0</td><td>0</td><td>0</td><td>0</td><td>0</td></tr>\n",
       "\t<tr><th scope=row>V10</th><td>0</td><td>0</td><td>1</td><td>0</td><td>1</td><td>0</td><td>0</td><td>1</td><td>1</td><td>0</td><td>⋯</td><td>1</td><td>0</td><td>0</td><td>0</td><td>1</td><td>0</td><td>0</td><td>0</td><td>1</td><td>0</td></tr>\n",
       "\t<tr><th scope=row>V11</th><td>1</td><td>1</td><td>1</td><td>1</td><td>1</td><td>0</td><td>0</td><td>1</td><td>1</td><td>0</td><td>⋯</td><td>1</td><td>1</td><td>0</td><td>1</td><td>0</td><td>1</td><td>1</td><td>1</td><td>0</td><td>0</td></tr>\n",
       "\t<tr><th scope=row>V12</th><td>1</td><td>0</td><td>0</td><td>1</td><td>0</td><td>0</td><td>0</td><td>0</td><td>0</td><td>0</td><td>⋯</td><td>0</td><td>0</td><td>0</td><td>0</td><td>0</td><td>1</td><td>0</td><td>0</td><td>0</td><td>1</td></tr>\n",
       "\t<tr><th scope=row>V13</th><td>0</td><td>0</td><td>0</td><td>0</td><td>1</td><td>0</td><td>0</td><td>0</td><td>0</td><td>0</td><td>⋯</td><td>0</td><td>0</td><td>0</td><td>0</td><td>0</td><td>0</td><td>0</td><td>0</td><td>0</td><td>0</td></tr>\n",
       "\t<tr><th scope=row>V14</th><td>0</td><td>0</td><td>0</td><td>0</td><td>0</td><td>0</td><td>1</td><td>0</td><td>0</td><td>0</td><td>⋯</td><td>0</td><td>0</td><td>0</td><td>1</td><td>0</td><td>0</td><td>0</td><td>0</td><td>0</td><td>0</td></tr>\n",
       "\t<tr><th scope=row>V15</th><td>1</td><td>0</td><td>1</td><td>0</td><td>1</td><td>1</td><td>0</td><td>0</td><td>1</td><td>0</td><td>⋯</td><td>0</td><td>0</td><td>1</td><td>0</td><td>0</td><td>0</td><td>0</td><td>1</td><td>0</td><td>0</td></tr>\n",
       "\t<tr><th scope=row>V16</th><td>1</td><td>1</td><td>0</td><td>0</td><td>0</td><td>0</td><td>0</td><td>0</td><td>0</td><td>0</td><td>⋯</td><td>0</td><td>0</td><td>0</td><td>0</td><td>0</td><td>0</td><td>0</td><td>0</td><td>0</td><td>0</td></tr>\n",
       "\t<tr><th scope=row>V17</th><td>1</td><td>1</td><td>1</td><td>1</td><td>1</td><td>1</td><td>1</td><td>1</td><td>1</td><td>1</td><td>⋯</td><td>1</td><td>0</td><td>1</td><td>1</td><td>1</td><td>0</td><td>0</td><td>1</td><td>1</td><td>1</td></tr>\n",
       "\t<tr><th scope=row>V18</th><td>0</td><td>1</td><td>0</td><td>0</td><td>0</td><td>0</td><td>0</td><td>0</td><td>0</td><td>0</td><td>⋯</td><td>0</td><td>0</td><td>0</td><td>0</td><td>0</td><td>0</td><td>0</td><td>0</td><td>0</td><td>0</td></tr>\n",
       "\t<tr><th scope=row>V19</th><td>1</td><td>1</td><td>1</td><td>0</td><td>1</td><td>0</td><td>0</td><td>0</td><td>0</td><td>0</td><td>⋯</td><td>1</td><td>0</td><td>1</td><td>1</td><td>0</td><td>0</td><td>0</td><td>0</td><td>1</td><td>0</td></tr>\n",
       "\t<tr><th scope=row>V20</th><td>0</td><td>0</td><td>0</td><td>0</td><td>0</td><td>0</td><td>0</td><td>0</td><td>0</td><td>0</td><td>⋯</td><td>0</td><td>0</td><td>0</td><td>0</td><td>0</td><td>0</td><td>1</td><td>0</td><td>0</td><td>0</td></tr>\n",
       "\t<tr><th scope=row>V21</th><td>0</td><td>1</td><td>0</td><td>0</td><td>0</td><td>0</td><td>0</td><td>0</td><td>0</td><td>0</td><td>⋯</td><td>1</td><td>0</td><td>0</td><td>0</td><td>0</td><td>1</td><td>1</td><td>0</td><td>0</td><td>0</td></tr>\n",
       "</tbody>\n",
       "</table>\n"
      ],
      "text/latex": [
       "A matrix: 21 × 21 of type int\n",
       "\\begin{tabular}{r|lllllllllllllllllllll}\n",
       "  & V1 & V2 & V3 & V4 & V5 & V6 & V7 & V8 & V9 & V10 & ⋯ & V12 & V13 & V14 & V15 & V16 & V17 & V18 & V19 & V20 & V21\\\\\n",
       "\\hline\n",
       "\tV1 & 0 & 1 & 0 & 1 & 0 & 0 & 0 & 1 & 0 & 0 & ⋯ & 1 & 0 & 0 & 0 & 1 & 0 & 0 & 0 & 0 & 0\\\\\n",
       "\tV2 & 1 & 0 & 0 & 0 & 0 & 0 & 0 & 0 & 0 & 0 & ⋯ & 0 & 0 & 0 & 0 & 0 & 0 & 1 & 0 & 0 & 1\\\\\n",
       "\tV3 & 0 & 0 & 0 & 0 & 0 & 0 & 0 & 0 & 0 & 0 & ⋯ & 0 & 0 & 1 & 0 & 0 & 0 & 0 & 1 & 0 & 0\\\\\n",
       "\tV4 & 1 & 1 & 0 & 0 & 0 & 0 & 0 & 1 & 0 & 0 & ⋯ & 1 & 0 & 0 & 0 & 1 & 1 & 0 & 0 & 0 & 0\\\\\n",
       "\tV5 & 0 & 1 & 0 & 0 & 0 & 0 & 0 & 0 & 1 & 0 & ⋯ & 0 & 0 & 1 & 0 & 0 & 1 & 0 & 1 & 0 & 1\\\\\n",
       "\tV6 & 0 & 1 & 0 & 0 & 0 & 0 & 1 & 0 & 1 & 0 & ⋯ & 1 & 0 & 0 & 0 & 0 & 1 & 0 & 0 & 0 & 1\\\\\n",
       "\tV7 & 0 & 0 & 0 & 0 & 0 & 0 & 0 & 0 & 0 & 0 & ⋯ & 0 & 0 & 0 & 0 & 0 & 0 & 0 & 0 & 0 & 0\\\\\n",
       "\tV8 & 0 & 0 & 0 & 1 & 0 & 0 & 0 & 0 & 0 & 0 & ⋯ & 0 & 0 & 0 & 0 & 0 & 0 & 0 & 0 & 0 & 0\\\\\n",
       "\tV9 & 0 & 0 & 0 & 0 & 0 & 0 & 0 & 0 & 0 & 0 & ⋯ & 0 & 0 & 0 & 0 & 0 & 0 & 0 & 0 & 0 & 0\\\\\n",
       "\tV10 & 0 & 0 & 1 & 0 & 1 & 0 & 0 & 1 & 1 & 0 & ⋯ & 1 & 0 & 0 & 0 & 1 & 0 & 0 & 0 & 1 & 0\\\\\n",
       "\tV11 & 1 & 1 & 1 & 1 & 1 & 0 & 0 & 1 & 1 & 0 & ⋯ & 1 & 1 & 0 & 1 & 0 & 1 & 1 & 1 & 0 & 0\\\\\n",
       "\tV12 & 1 & 0 & 0 & 1 & 0 & 0 & 0 & 0 & 0 & 0 & ⋯ & 0 & 0 & 0 & 0 & 0 & 1 & 0 & 0 & 0 & 1\\\\\n",
       "\tV13 & 0 & 0 & 0 & 0 & 1 & 0 & 0 & 0 & 0 & 0 & ⋯ & 0 & 0 & 0 & 0 & 0 & 0 & 0 & 0 & 0 & 0\\\\\n",
       "\tV14 & 0 & 0 & 0 & 0 & 0 & 0 & 1 & 0 & 0 & 0 & ⋯ & 0 & 0 & 0 & 1 & 0 & 0 & 0 & 0 & 0 & 0\\\\\n",
       "\tV15 & 1 & 0 & 1 & 0 & 1 & 1 & 0 & 0 & 1 & 0 & ⋯ & 0 & 0 & 1 & 0 & 0 & 0 & 0 & 1 & 0 & 0\\\\\n",
       "\tV16 & 1 & 1 & 0 & 0 & 0 & 0 & 0 & 0 & 0 & 0 & ⋯ & 0 & 0 & 0 & 0 & 0 & 0 & 0 & 0 & 0 & 0\\\\\n",
       "\tV17 & 1 & 1 & 1 & 1 & 1 & 1 & 1 & 1 & 1 & 1 & ⋯ & 1 & 0 & 1 & 1 & 1 & 0 & 0 & 1 & 1 & 1\\\\\n",
       "\tV18 & 0 & 1 & 0 & 0 & 0 & 0 & 0 & 0 & 0 & 0 & ⋯ & 0 & 0 & 0 & 0 & 0 & 0 & 0 & 0 & 0 & 0\\\\\n",
       "\tV19 & 1 & 1 & 1 & 0 & 1 & 0 & 0 & 0 & 0 & 0 & ⋯ & 1 & 0 & 1 & 1 & 0 & 0 & 0 & 0 & 1 & 0\\\\\n",
       "\tV20 & 0 & 0 & 0 & 0 & 0 & 0 & 0 & 0 & 0 & 0 & ⋯ & 0 & 0 & 0 & 0 & 0 & 0 & 1 & 0 & 0 & 0\\\\\n",
       "\tV21 & 0 & 1 & 0 & 0 & 0 & 0 & 0 & 0 & 0 & 0 & ⋯ & 1 & 0 & 0 & 0 & 0 & 1 & 1 & 0 & 0 & 0\\\\\n",
       "\\end{tabular}\n"
      ],
      "text/markdown": [
       "\n",
       "A matrix: 21 × 21 of type int\n",
       "\n",
       "| <!--/--> | V1 | V2 | V3 | V4 | V5 | V6 | V7 | V8 | V9 | V10 | ⋯ | V12 | V13 | V14 | V15 | V16 | V17 | V18 | V19 | V20 | V21 |\n",
       "|---|---|---|---|---|---|---|---|---|---|---|---|---|---|---|---|---|---|---|---|---|---|\n",
       "| V1 | 0 | 1 | 0 | 1 | 0 | 0 | 0 | 1 | 0 | 0 | ⋯ | 1 | 0 | 0 | 0 | 1 | 0 | 0 | 0 | 0 | 0 |\n",
       "| V2 | 1 | 0 | 0 | 0 | 0 | 0 | 0 | 0 | 0 | 0 | ⋯ | 0 | 0 | 0 | 0 | 0 | 0 | 1 | 0 | 0 | 1 |\n",
       "| V3 | 0 | 0 | 0 | 0 | 0 | 0 | 0 | 0 | 0 | 0 | ⋯ | 0 | 0 | 1 | 0 | 0 | 0 | 0 | 1 | 0 | 0 |\n",
       "| V4 | 1 | 1 | 0 | 0 | 0 | 0 | 0 | 1 | 0 | 0 | ⋯ | 1 | 0 | 0 | 0 | 1 | 1 | 0 | 0 | 0 | 0 |\n",
       "| V5 | 0 | 1 | 0 | 0 | 0 | 0 | 0 | 0 | 1 | 0 | ⋯ | 0 | 0 | 1 | 0 | 0 | 1 | 0 | 1 | 0 | 1 |\n",
       "| V6 | 0 | 1 | 0 | 0 | 0 | 0 | 1 | 0 | 1 | 0 | ⋯ | 1 | 0 | 0 | 0 | 0 | 1 | 0 | 0 | 0 | 1 |\n",
       "| V7 | 0 | 0 | 0 | 0 | 0 | 0 | 0 | 0 | 0 | 0 | ⋯ | 0 | 0 | 0 | 0 | 0 | 0 | 0 | 0 | 0 | 0 |\n",
       "| V8 | 0 | 0 | 0 | 1 | 0 | 0 | 0 | 0 | 0 | 0 | ⋯ | 0 | 0 | 0 | 0 | 0 | 0 | 0 | 0 | 0 | 0 |\n",
       "| V9 | 0 | 0 | 0 | 0 | 0 | 0 | 0 | 0 | 0 | 0 | ⋯ | 0 | 0 | 0 | 0 | 0 | 0 | 0 | 0 | 0 | 0 |\n",
       "| V10 | 0 | 0 | 1 | 0 | 1 | 0 | 0 | 1 | 1 | 0 | ⋯ | 1 | 0 | 0 | 0 | 1 | 0 | 0 | 0 | 1 | 0 |\n",
       "| V11 | 1 | 1 | 1 | 1 | 1 | 0 | 0 | 1 | 1 | 0 | ⋯ | 1 | 1 | 0 | 1 | 0 | 1 | 1 | 1 | 0 | 0 |\n",
       "| V12 | 1 | 0 | 0 | 1 | 0 | 0 | 0 | 0 | 0 | 0 | ⋯ | 0 | 0 | 0 | 0 | 0 | 1 | 0 | 0 | 0 | 1 |\n",
       "| V13 | 0 | 0 | 0 | 0 | 1 | 0 | 0 | 0 | 0 | 0 | ⋯ | 0 | 0 | 0 | 0 | 0 | 0 | 0 | 0 | 0 | 0 |\n",
       "| V14 | 0 | 0 | 0 | 0 | 0 | 0 | 1 | 0 | 0 | 0 | ⋯ | 0 | 0 | 0 | 1 | 0 | 0 | 0 | 0 | 0 | 0 |\n",
       "| V15 | 1 | 0 | 1 | 0 | 1 | 1 | 0 | 0 | 1 | 0 | ⋯ | 0 | 0 | 1 | 0 | 0 | 0 | 0 | 1 | 0 | 0 |\n",
       "| V16 | 1 | 1 | 0 | 0 | 0 | 0 | 0 | 0 | 0 | 0 | ⋯ | 0 | 0 | 0 | 0 | 0 | 0 | 0 | 0 | 0 | 0 |\n",
       "| V17 | 1 | 1 | 1 | 1 | 1 | 1 | 1 | 1 | 1 | 1 | ⋯ | 1 | 0 | 1 | 1 | 1 | 0 | 0 | 1 | 1 | 1 |\n",
       "| V18 | 0 | 1 | 0 | 0 | 0 | 0 | 0 | 0 | 0 | 0 | ⋯ | 0 | 0 | 0 | 0 | 0 | 0 | 0 | 0 | 0 | 0 |\n",
       "| V19 | 1 | 1 | 1 | 0 | 1 | 0 | 0 | 0 | 0 | 0 | ⋯ | 1 | 0 | 1 | 1 | 0 | 0 | 0 | 0 | 1 | 0 |\n",
       "| V20 | 0 | 0 | 0 | 0 | 0 | 0 | 0 | 0 | 0 | 0 | ⋯ | 0 | 0 | 0 | 0 | 0 | 0 | 1 | 0 | 0 | 0 |\n",
       "| V21 | 0 | 1 | 0 | 0 | 0 | 0 | 0 | 0 | 0 | 0 | ⋯ | 1 | 0 | 0 | 0 | 0 | 1 | 1 | 0 | 0 | 0 |\n",
       "\n"
      ],
      "text/plain": [
       "    V1 V2 V3 V4 V5 V6 V7 V8 V9 V10 ⋯ V12 V13 V14 V15 V16 V17 V18 V19 V20 V21\n",
       "V1  0  1  0  1  0  0  0  1  0  0   ⋯ 1   0   0   0   1   0   0   0   0   0  \n",
       "V2  1  0  0  0  0  0  0  0  0  0   ⋯ 0   0   0   0   0   0   1   0   0   1  \n",
       "V3  0  0  0  0  0  0  0  0  0  0   ⋯ 0   0   1   0   0   0   0   1   0   0  \n",
       "V4  1  1  0  0  0  0  0  1  0  0   ⋯ 1   0   0   0   1   1   0   0   0   0  \n",
       "V5  0  1  0  0  0  0  0  0  1  0   ⋯ 0   0   1   0   0   1   0   1   0   1  \n",
       "V6  0  1  0  0  0  0  1  0  1  0   ⋯ 1   0   0   0   0   1   0   0   0   1  \n",
       "V7  0  0  0  0  0  0  0  0  0  0   ⋯ 0   0   0   0   0   0   0   0   0   0  \n",
       "V8  0  0  0  1  0  0  0  0  0  0   ⋯ 0   0   0   0   0   0   0   0   0   0  \n",
       "V9  0  0  0  0  0  0  0  0  0  0   ⋯ 0   0   0   0   0   0   0   0   0   0  \n",
       "V10 0  0  1  0  1  0  0  1  1  0   ⋯ 1   0   0   0   1   0   0   0   1   0  \n",
       "V11 1  1  1  1  1  0  0  1  1  0   ⋯ 1   1   0   1   0   1   1   1   0   0  \n",
       "V12 1  0  0  1  0  0  0  0  0  0   ⋯ 0   0   0   0   0   1   0   0   0   1  \n",
       "V13 0  0  0  0  1  0  0  0  0  0   ⋯ 0   0   0   0   0   0   0   0   0   0  \n",
       "V14 0  0  0  0  0  0  1  0  0  0   ⋯ 0   0   0   1   0   0   0   0   0   0  \n",
       "V15 1  0  1  0  1  1  0  0  1  0   ⋯ 0   0   1   0   0   0   0   1   0   0  \n",
       "V16 1  1  0  0  0  0  0  0  0  0   ⋯ 0   0   0   0   0   0   0   0   0   0  \n",
       "V17 1  1  1  1  1  1  1  1  1  1   ⋯ 1   0   1   1   1   0   0   1   1   1  \n",
       "V18 0  1  0  0  0  0  0  0  0  0   ⋯ 0   0   0   0   0   0   0   0   0   0  \n",
       "V19 1  1  1  0  1  0  0  0  0  0   ⋯ 1   0   1   1   0   0   0   0   1   0  \n",
       "V20 0  0  0  0  0  0  0  0  0  0   ⋯ 0   0   0   0   0   0   1   0   0   0  \n",
       "V21 0  1  0  0  0  0  0  0  0  0   ⋯ 1   0   0   0   0   1   1   0   0   0  "
      ]
     },
     "metadata": {},
     "output_type": "display_data"
    }
   ],
   "source": [
    "rownames(data2) <- colnames(data2)\n",
    "data2"
   ]
  },
  {
   "cell_type": "markdown",
   "metadata": {},
   "source": [
    "Задача 12.4 По полученной социоматрице была построена направленная сеть. Параметр directed = TRUE означает, что сеть направленная."
   ]
  },
  {
   "cell_type": "code",
   "execution_count": 87,
   "metadata": {
    "vscode": {
     "languageId": "r"
    }
   },
   "outputs": [
    {
     "data": {
      "text/plain": [
       " Network attributes:\n",
       "  vertices = 21 \n",
       "  directed = TRUE \n",
       "  hyper = FALSE \n",
       "  loops = FALSE \n",
       "  multiple = FALSE \n",
       "  bipartite = FALSE \n",
       "  total edges= 102 \n",
       "    missing edges= 0 \n",
       "    non-missing edges= 102 \n",
       "\n",
       " Vertex attribute names: \n",
       "    vertex.names \n",
       "\n",
       "No edge attributes"
      ]
     },
     "metadata": {},
     "output_type": "display_data"
    }
   ],
   "source": [
    "net2 <- as.network(data2, matrix.type = \"adjacency\", directed = TRUE)\n",
    "net2"
   ]
  },
  {
   "cell_type": "markdown",
   "metadata": {},
   "source": [
    "Задача 12.5 Cеть была отображена с помощью алгоритмов укладки Фрюхтермана–\n",
    "Рейнгольда и Камада–Каваи."
   ]
  },
  {
   "cell_type": "code",
   "execution_count": 88,
   "metadata": {
    "vscode": {
     "languageId": "r"
    }
   },
   "outputs": [
    {
     "data": {
      "image/png": "[encoded data removed]",
      "text/plain": [
       "Plot with title \"укладка Фрюхтермана–\n",
       "Рейнгольда\""
      ]
     },
     "metadata": {
      "image/png": {
       "height": 420,
       "width": 420
      }
     },
     "output_type": "display_data"
    },
    {
     "data": {
      "image/png": "[encoded data removed]",
      "text/plain": [
       "Plot with title \"укладка Камада–Каваи\""
      ]
     },
     "metadata": {
      "image/png": {
       "height": 420,
       "width": 420
      }
     },
     "output_type": "display_data"
    }
   ],
   "source": [
    "graph2<-graph_from_adjacency_matrix(data2, mode = \"directed\")\n",
    "plot(graph2, layout = layout_with_fr(graph2), main = \"укладка Фрюхтермана–\n",
    "Рейнгольда\")\n",
    "plot(graph2, layout = layout_with_kk(graph2), main = \"укладка Камада–Каваи\")"
   ]
  },
  {
   "cell_type": "markdown",
   "metadata": {},
   "source": [
    "Задача 12.6 На экран была выведена «описательная сводка» сети"
   ]
  },
  {
   "cell_type": "code",
   "execution_count": 89,
   "metadata": {
    "vscode": {
     "languageId": "r"
    }
   },
   "outputs": [
    {
     "data": {
      "text/plain": [
       "Network attributes:\n",
       "  vertices = 21\n",
       "  directed = TRUE\n",
       "  hyper = FALSE\n",
       "  loops = FALSE\n",
       "  multiple = FALSE\n",
       "  bipartite = FALSE\n",
       " total edges = 102 \n",
       "   missing edges = 0 \n",
       "   non-missing edges = 102 \n",
       " density = 0.2428571 \n",
       "\n",
       "Vertex attributes:\n",
       "  vertex.names:\n",
       "   character valued attribute\n",
       "   21 valid vertex names\n",
       "\n",
       "No edge attributes\n",
       "\n",
       "Network edgelist matrix:\n",
       "       [,1] [,2]\n",
       "  [1,]    2    1\n",
       "  [2,]    4    1\n",
       "  [3,]   11    1\n",
       "  [4,]   12    1\n",
       "  [5,]   15    1\n",
       "  [6,]   16    1\n",
       "  [7,]   17    1\n",
       "  [8,]   19    1\n",
       "  [9,]    1    2\n",
       " [10,]    4    2\n",
       " [11,]    5    2\n",
       " [12,]    6    2\n",
       " [13,]   11    2\n",
       " [14,]   16    2\n",
       " [15,]   17    2\n",
       " [16,]   18    2\n",
       " [17,]   19    2\n",
       " [18,]   21    2\n",
       " [19,]   10    3\n",
       " [20,]   11    3\n",
       " [21,]   15    3\n",
       " [22,]   17    3\n",
       " [23,]   19    3\n",
       " [24,]    1    4\n",
       " [25,]    8    4\n",
       " [26,]   11    4\n",
       " [27,]   12    4\n",
       " [28,]   17    4\n",
       " [29,]   10    5\n",
       " [30,]   11    5\n",
       " [31,]   13    5\n",
       " [32,]   15    5\n",
       " [33,]   17    5\n",
       " [34,]   19    5\n",
       " [35,]   15    6\n",
       " [36,]   17    6\n",
       " [37,]    6    7\n",
       " [38,]   14    7\n",
       " [39,]   17    7\n",
       " [40,]    1    8\n",
       " [41,]    4    8\n",
       " [42,]   10    8\n",
       " [43,]   11    8\n",
       " [44,]   17    8\n",
       " [45,]    5    9\n",
       " [46,]    6    9\n",
       " [47,]   10    9\n",
       " [48,]   11    9\n",
       " [49,]   15    9\n",
       " [50,]   17    9\n",
       " [51,]   17   10\n",
       " [52,]    5   11\n",
       " [53,]   13   11\n",
       " [54,]   15   11\n",
       " [55,]   17   11\n",
       " [56,]   19   11\n",
       " [57,]   20   11\n",
       " [58,]    1   12\n",
       " [59,]    4   12\n",
       " [60,]    6   12\n",
       " [61,]   10   12\n",
       " [62,]   11   12\n",
       " [63,]   17   12\n",
       " [64,]   19   12\n",
       " [65,]   21   12\n",
       " [66,]   11   13\n",
       " [67,]    3   14\n",
       " [68,]    5   14\n",
       " [69,]   15   14\n",
       " [70,]   17   14\n",
       " [71,]   19   14\n",
       " [72,]   11   15\n",
       " [73,]   14   15\n",
       " [74,]   17   15\n",
       " [75,]   19   15\n",
       " [76,]    1   16\n",
       " [77,]    4   16\n",
       " [78,]   10   16\n",
       " [79,]   17   16\n",
       " [80,]    4   17\n",
       " [81,]    5   17\n",
       " [82,]    6   17\n",
       " [83,]   11   17\n",
       " [84,]   12   17\n",
       " [85,]   21   17\n",
       " [86,]    2   18\n",
       " [87,]   11   18\n",
       " [88,]   20   18\n",
       " [89,]   21   18\n",
       " [90,]    3   19\n",
       " [91,]    5   19\n",
       " [92,]   11   19\n",
       " [93,]   15   19\n",
       " [94,]   17   19\n",
       " [95,]   10   20\n",
       " [96,]   17   20\n",
       " [97,]   19   20\n",
       " [98,]    2   21\n",
       " [99,]    5   21\n",
       "[100,]    6   21\n",
       "[101,]   12   21\n",
       "[102,]   17   21"
      ]
     },
     "metadata": {},
     "output_type": "display_data"
    }
   ],
   "source": [
    "summary(net2)"
   ]
  },
  {
   "cell_type": "markdown",
   "metadata": {},
   "source": [
    "Задача 12.7 Была вычислена «пятичисловая сводка» сети:\n",
    "\n",
    "(a) Размер сети\n",
    "\n",
    "(b) Плотность сети. Вычислена вручную и с помощью соответствующей функции, значения совпали, следовательно реализация функции вычисления плотности из библиотеки sna совпадает с теоретическими сведеньями.\n",
    "\n",
    "(c) Число компонент в сети. По графику было видно, что в сети 1 компонента, это подтвердилось с помощью соответствующей функции. Вывод: все акторы косвенно связаны друг с другом.\n",
    "\n",
    "(d) Диаметр сети оказался равным 5. Вывод: максимальный из кратчайших путей между парами узлов в сети равен 5.\n",
    "\n",
    "(e) Коэффициент кластеризации оказался равен 0.4610526. Вывод: сеть имеет среднюю тенденцию к созданию закрытых треугольников, то есть вероятность того, что наугад выбранный треугольник в сети - закрытый равна примерно 1/2 "
   ]
  },
  {
   "cell_type": "code",
   "execution_count": 90,
   "metadata": {
    "vscode": {
     "languageId": "r"
    }
   },
   "outputs": [
    {
     "name": "stdout",
     "output_type": "stream",
     "text": [
      "(a) Размер сети:  21 \n",
      "(b) Плотность сети, вычисленная вручную:  0.2428571 С помощью функций:  0.2428571 \n",
      "(с) Число компонент:  1 \n",
      "(d) Диаметр сети:  5 \n",
      "(e) Коэффициент кластеризации:  0.4610526 \n"
     ]
    }
   ],
   "source": [
    "net2_size<-gorder(graph2)\n",
    "my_density2 = gsize(graph2) / (choose(net2_size, 2) * 2)\n",
    "density2 = gden(as.sociomatrix(net2))\n",
    "\n",
    "cat(\"(a) Размер сети: \", net2_size, \"\\n\")\n",
    "cat(\"(b) Плотность сети, вычисленная вручную: \", my_density2, \"С помощью функций: \", density2, \"\\n\")\n",
    "cat(\"(с) Число компонент: \", components(graph2)$no, \"\\n\")\n",
    "cat(\"(d) Диаметр сети: \", diameter(graph2), '\\n')\n",
    "cat(\"(e) Коэффициент кластеризации: \", gtrans(as.sociomatrix(net2)), '\\n')"
   ]
  },
  {
   "cell_type": "markdown",
   "metadata": {},
   "source": [
    "Задача 12.8 Были вычислены средние входящая и исходящая степени вершин и дисперсии по ним."
   ]
  },
  {
   "cell_type": "code",
   "execution_count": 91,
   "metadata": {
    "vscode": {
     "languageId": "r"
    }
   },
   "outputs": [
    {
     "name": "stdout",
     "output_type": "stream",
     "text": [
      "Средняя входящая степень узлов:  4.857143 \n",
      "Средняя исходящая степень узлов:  4.857143 \n",
      "Дисперсия по входящим степениям:  4.928571 \n",
      "Дисперсия по исходящим степениям:  20.02857 \n"
     ]
    }
   ],
   "source": [
    "cat(\"Средняя входящая степень узлов: \", mean(degree(graph2, mode=\"in\")), '\\n')\n",
    "cat(\"Средняя исходящая степень узлов: \", mean(degree(graph2, mode=\"out\")), '\\n')\n",
    "cat(\"Дисперсия по входящим степениям: \", var(degree(graph2, mode=\"in\")), '\\n')\n",
    "cat(\"Дисперсия по исходящим степениям: \", var(degree(graph2, mode=\"out\")), '\\n')"
   ]
  },
  {
   "cell_type": "markdown",
   "metadata": {},
   "source": [
    "Вывод: дисперсия исходящих степеней оказалась больше дисперсии входящих степеней, следовательно входящие степени распределены более равномерно."
   ]
  },
  {
   "cell_type": "markdown",
   "metadata": {},
   "source": [
    "Задача 13.  Была заполнена таблица для различных мер престижа:\n",
    "\n",
    "| $n_i$ | $P_D'(n_i)$ | $P_P'(n_i)$ |\n",
    "|-------|-------------|-------------|\n",
    "|     1 |        0.40 |   0.6451613 |\n",
    "|     2 |        0.50 |   0.6666667 |\n",
    "|     3 |        0.25 |   0.5882353 |\n",
    "|     4 |        0.25 |   0.6060606 |\n",
    "|     5 |        0.30 |   0.6666667 |\n",
    "|     6 |        0.10 |   0.5882353 |\n",
    "|     7 |        0.15 |   0.5128205 |\n",
    "|     8 |        0.25 |   0.5714286 |\n",
    "|     9 |        0.30 |   0.5882353 |\n",
    "|    10 |        0.05 |   0.6250000 |\n",
    "|    11 |        0.30 |   0.7692308 |\n",
    "|    12 |        0.40 |   0.6250000 |\n",
    "|    13 |        0.05 |   0.4878049 |\n",
    "|    14 |        0.25 |   0.5714286 |\n",
    "|    15 |        0.20 |   0.6451613 |\n",
    "|    16 |        0.20 |   0.5555556 |\n",
    "|    17 |        0.30 |   0.9090909 |\n",
    "|    18 |        0.20 |   0.5263158 |\n",
    "|    19 |        0.25 |   0.6666667 |\n",
    "|    20 |        0.15 |   0.5714286 |\n",
    "|    21 |        0.25 |   0.5882353 |\n",
    "\n",
    "Вывод по таблице: актор №2 является самым важным, если рассматривать значение престижа по степени, если же рассматривать значение престижа по близости, то самым важным актором в сети является актор №17."
   ]
  },
  {
   "cell_type": "code",
   "execution_count": 93,
   "metadata": {
    "vscode": {
     "languageId": "r"
    }
   },
   "outputs": [
    {
     "data": {
      "text/html": [
       "<table class=\"dataframe\">\n",
       "<caption>A data.frame: 21 × 3</caption>\n",
       "<thead>\n",
       "\t<tr><th scope=col>n_i</th><th scope=col>P_D</th><th scope=col>P_P</th></tr>\n",
       "\t<tr><th scope=col>&lt;int&gt;</th><th scope=col>&lt;dbl&gt;</th><th scope=col>&lt;dbl&gt;</th></tr>\n",
       "</thead>\n",
       "<tbody>\n",
       "\t<tr><td> 1</td><td>0.40</td><td>0.5225806</td></tr>\n",
       "\t<tr><td> 2</td><td>0.50</td><td>0.5400000</td></tr>\n",
       "\t<tr><td> 3</td><td>0.25</td><td>0.4764706</td></tr>\n",
       "\t<tr><td> 4</td><td>0.25</td><td>0.4909091</td></tr>\n",
       "\t<tr><td> 5</td><td>0.30</td><td>0.5400000</td></tr>\n",
       "\t<tr><td> 6</td><td>0.10</td><td>0.4764706</td></tr>\n",
       "\t<tr><td> 7</td><td>0.15</td><td>0.4628205</td></tr>\n",
       "\t<tr><td> 8</td><td>0.25</td><td>0.4628571</td></tr>\n",
       "\t<tr><td> 9</td><td>0.30</td><td>0.5308824</td></tr>\n",
       "\t<tr><td>10</td><td>0.05</td><td>0.5062500</td></tr>\n",
       "\t<tr><td>11</td><td>0.30</td><td>0.6230769</td></tr>\n",
       "\t<tr><td>12</td><td>0.40</td><td>0.5062500</td></tr>\n",
       "\t<tr><td>13</td><td>0.05</td><td>0.3951220</td></tr>\n",
       "\t<tr><td>14</td><td>0.25</td><td>0.4628571</td></tr>\n",
       "\t<tr><td>15</td><td>0.20</td><td>0.5225806</td></tr>\n",
       "\t<tr><td>16</td><td>0.20</td><td>0.4500000</td></tr>\n",
       "\t<tr><td>17</td><td>0.30</td><td>0.7363636</td></tr>\n",
       "\t<tr><td>18</td><td>0.20</td><td>0.4263158</td></tr>\n",
       "\t<tr><td>19</td><td>0.25</td><td>0.5400000</td></tr>\n",
       "\t<tr><td>20</td><td>0.15</td><td>0.4628571</td></tr>\n",
       "\t<tr><td>21</td><td>0.25</td><td>0.4764706</td></tr>\n",
       "</tbody>\n",
       "</table>\n"
      ],
      "text/latex": [
       "A data.frame: 21 × 3\n",
       "\\begin{tabular}{lll}\n",
       " n\\_i & P\\_D & P\\_P\\\\\n",
       " <int> & <dbl> & <dbl>\\\\\n",
       "\\hline\n",
       "\t  1 & 0.40 & 0.5225806\\\\\n",
       "\t  2 & 0.50 & 0.5400000\\\\\n",
       "\t  3 & 0.25 & 0.4764706\\\\\n",
       "\t  4 & 0.25 & 0.4909091\\\\\n",
       "\t  5 & 0.30 & 0.5400000\\\\\n",
       "\t  6 & 0.10 & 0.4764706\\\\\n",
       "\t  7 & 0.15 & 0.4628205\\\\\n",
       "\t  8 & 0.25 & 0.4628571\\\\\n",
       "\t  9 & 0.30 & 0.5308824\\\\\n",
       "\t 10 & 0.05 & 0.5062500\\\\\n",
       "\t 11 & 0.30 & 0.6230769\\\\\n",
       "\t 12 & 0.40 & 0.5062500\\\\\n",
       "\t 13 & 0.05 & 0.3951220\\\\\n",
       "\t 14 & 0.25 & 0.4628571\\\\\n",
       "\t 15 & 0.20 & 0.5225806\\\\\n",
       "\t 16 & 0.20 & 0.4500000\\\\\n",
       "\t 17 & 0.30 & 0.7363636\\\\\n",
       "\t 18 & 0.20 & 0.4263158\\\\\n",
       "\t 19 & 0.25 & 0.5400000\\\\\n",
       "\t 20 & 0.15 & 0.4628571\\\\\n",
       "\t 21 & 0.25 & 0.4764706\\\\\n",
       "\\end{tabular}\n"
      ],
      "text/markdown": [
       "\n",
       "A data.frame: 21 × 3\n",
       "\n",
       "| n_i &lt;int&gt; | P_D &lt;dbl&gt; | P_P &lt;dbl&gt; |\n",
       "|---|---|---|\n",
       "|  1 | 0.40 | 0.5225806 |\n",
       "|  2 | 0.50 | 0.5400000 |\n",
       "|  3 | 0.25 | 0.4764706 |\n",
       "|  4 | 0.25 | 0.4909091 |\n",
       "|  5 | 0.30 | 0.5400000 |\n",
       "|  6 | 0.10 | 0.4764706 |\n",
       "|  7 | 0.15 | 0.4628205 |\n",
       "|  8 | 0.25 | 0.4628571 |\n",
       "|  9 | 0.30 | 0.5308824 |\n",
       "| 10 | 0.05 | 0.5062500 |\n",
       "| 11 | 0.30 | 0.6230769 |\n",
       "| 12 | 0.40 | 0.5062500 |\n",
       "| 13 | 0.05 | 0.3951220 |\n",
       "| 14 | 0.25 | 0.4628571 |\n",
       "| 15 | 0.20 | 0.5225806 |\n",
       "| 16 | 0.20 | 0.4500000 |\n",
       "| 17 | 0.30 | 0.7363636 |\n",
       "| 18 | 0.20 | 0.4263158 |\n",
       "| 19 | 0.25 | 0.5400000 |\n",
       "| 20 | 0.15 | 0.4628571 |\n",
       "| 21 | 0.25 | 0.4764706 |\n",
       "\n"
      ],
      "text/plain": [
       "   n_i P_D  P_P      \n",
       "1   1  0.40 0.5225806\n",
       "2   2  0.50 0.5400000\n",
       "3   3  0.25 0.4764706\n",
       "4   4  0.25 0.4909091\n",
       "5   5  0.30 0.5400000\n",
       "6   6  0.10 0.4764706\n",
       "7   7  0.15 0.4628205\n",
       "8   8  0.25 0.4628571\n",
       "9   9  0.30 0.5308824\n",
       "10 10  0.05 0.5062500\n",
       "11 11  0.30 0.6230769\n",
       "12 12  0.40 0.5062500\n",
       "13 13  0.05 0.3951220\n",
       "14 14  0.25 0.4628571\n",
       "15 15  0.20 0.5225806\n",
       "16 16  0.20 0.4500000\n",
       "17 17  0.30 0.7363636\n",
       "18 18  0.20 0.4263158\n",
       "19 19  0.25 0.5400000\n",
       "20 20  0.15 0.4628571\n",
       "21 21  0.25 0.4764706"
      ]
     },
     "metadata": {},
     "output_type": "display_data"
    }
   ],
   "source": [
    "info_table2<-data.frame(\n",
    "    n_i = match(V(graph2)$name, V(graph2)$name),\n",
    "    P_D = prestige(net2, cmode=\"indegree\")/(gorder(graph2)-1),\n",
    "    P_P = unlist(lapply(seq(1, gorder(graph2)), function(x){((length(subcomponent(graph2, V(graph2)[x], mode=\"in\")) - 1)^2) / (sum(distances(graph2,v=V(graph2)[x]))*(gorder(graph2)-1))}))\n",
    ")\n",
    "info_table2"
   ]
  },
  {
   "cell_type": "markdown",
   "metadata": {},
   "source": [
    "## Выводы\n",
    "\n",
    "В ходе выполнения данной практической работы была изучена работы с математическими пакетами для моделирования, визуализации и анализа социальных сетей. Рассмотрены алгоритмы укладки сетей Фрюхтермана–Рейнгольда и Камада–Каваи. Были рассчитаны числовые характеристики для конкретных сетей."
   ]
  }
 ],
 "metadata": {
  "kernelspec": {
   "display_name": "R",
   "language": "R",
   "name": "ir"
  },
  "language_info": {
   "codemirror_mode": "r",
   "file_extension": ".r",
   "mimetype": "text/x-r-source",
   "name": "R",
   "pygments_lexer": "r",
   "version": "4.2.1"
  }
 },
 "nbformat": 4,
 "nbformat_minor": 4
}
