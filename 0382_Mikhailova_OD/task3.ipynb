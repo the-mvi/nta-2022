{
 "cells": [
  {
   "cell_type": "markdown",
   "metadata": {},
   "source": [
    "# Практическая работа №3: Статистический анализ социальных сетей.\n",
    "\n",
    "Выполнила студентка гр. 0382 Михайлова Оксана. Вариант №40"
   ]
  },
  {
   "cell_type": "markdown",
   "metadata": {},
   "source": [
    "## Цель работы\n",
    "Овладеть навыками работы с математическими пакетами для статистического анализа социальных сетей."
   ]
  },
  {
   "attachments": {},
   "cell_type": "markdown",
   "metadata": {},
   "source": [
    "## Основные теоретические положения\n",
    "_Диада_ - элемент сети, представляющий собой пару акторов и возможнную связь между ними.\n",
    "\n",
    "Виды диад:\n",
    "* Взаимная диада: $D_{i,j} = (1, 1)$\n",
    "\n",
    "* Ассиметричная диада: $D_{i,j} = (1, 0)$, $D_{i,j} = (0, 1)$\n",
    "\n",
    "* Нулевая диада:  $D_{i,j} = (0, 0)$\n",
    "\n",
    "_Цензус диад_ - тройка чисел $<M, A, N>$, где:\n",
    "* $M = \\sum_{i < j}(x_{ij}x_{ji})$\n",
    "\n",
    "* $A = x_{++} - 2M$\n",
    "\n",
    "* $N = C^2_g - A - M$\n",
    "\n",
    "_Индекс взаимности Каца-Пауэлла_ - характеристика измерения тенденции акторов в группе:\n",
    "\n",
    "$$-\\infty < \\rho_{kp} \\leq 1$$\n",
    "\n",
    "Индекс взаимности основан на ожидании количества взаимных диад, предполгая, что выбор делается акторами случайным образом.\n",
    "\n",
    "При фиксированном выборе:\n",
    "\n",
    "* Каждый актор делает $d$ выборов из $(g-1)$ акторов, доступных для выбора\n",
    "\n",
    "* Оценка $\\rho_{kp}$ по методу моментов:\n",
    "$$\\hat \\rho_{kp} = \\frac {2(g-1)M-gd^2}{gd(g-1-d)}$$\n",
    "\n",
    "* Вероятность того, что общая диада, в которой участвуют акторы, является взаимной:\n",
    "$$P(i->j\\wedge j->i) = \\frac {d}{g-1}(\\frac {d}{g-1}+\\rho_{kp}\\frac {g-1-d}{g-1})$$\n",
    "\n",
    "При свободном выборе:\n",
    "\n",
    "* Оценка $p_{kp}$ по методу моментов:\n",
    "$${\\rho{'}_{kp} = \\frac {2(g-1)^2M-L^2+L_2}{L(g-1)^2-L^2+L_2}},$$\n",
    "где $L = \\sum_i x_{i+}$, $L_2 = \\sum_i x^2_{i+}$\n",
    "\n",
    "* Вероятность того, что акторы имеют взаимные отношения:\n",
    "$$\\frac {x_{i+}x_{j+}}{(g-1)^2}$$\n",
    "\n",
    "_Индекс взаимности Бандиопадхьяйя_ - данный индекс основан на минимальном и максимальном значениях количества взаимных диад. Значение индекса: \n",
    "$$\\rho_{B} = \\frac{M - M_{min}}{M_{max} - M_{min}},$$\n",
    "где:\n",
    "* $M_{min} = max_{0 \\leq t \\leq g}f(t)$\n",
    "\n",
    "* $M_{max} = [\\frac{1}{2}(\\sum_{i=1}^g - max_{0 \\leq t \\leq g}g(t))]$\n",
    "\n",
    "* $f(t) = \\sum_{i=1}^tx_{i+} - t(g-1) - C^2_t$ \n",
    "\n",
    "* $g(t) = \\sum_{i=1}^tx_{i+} - t(t-1) - \\sum_{i=t+1}^gmin(t, x_{i+})$\n",
    "\n",
    "##### Распределения на графах:\n",
    "* $\\#G_d(\\cal {N}) = 2^{g(g - 1)}$, где $G_d(\\cal {N})$ - множество всех возможных орграфов без петель с g узлами\n",
    "\n",
    "* Вероятность получить социоматрицу $x$:\n",
    "$$P(X = x) = 2^{g(g - 1)}$$\n",
    "\n",
    "* Вероятность появления дуги между акторами для равномерного распределения:\n",
    "$$P(X_{ij} = 1) = \\begin{cases}\n",
    "    \\frac{1}{2}, i \\ne j\\\\\n",
    "    0, i = j\n",
    "\\end{cases}$$\n",
    "\n",
    "* Вероятность появления дуги между акторами для распределения Бернулли:\n",
    "$$P(X_{ij} = 1) = \\begin{cases}\n",
    "    p_{ij}, i \\ne j\\\\\n",
    "    0, i = j\n",
    "\\end{cases}$$\n",
    "\n",
    "##### Статистический анализ количества дуг для равномерного распределения:\n",
    "* Число дуг: \n",
    "$$L \\sim B(g(g - 1), \\frac{1}{2})$$\n",
    "\n",
    "* Вероятность, что число дуг равно $l$:\n",
    "$$P(L = l) = \\binom {g(g - 1)}{l} \\cdot  2^{g(1 - g)}$$\n",
    "\n",
    "* Математическое ожидание:\n",
    "$$E(L) = \\binom {g}{2}$$\n",
    "\n",
    "* Дисперсия:\n",
    "$$D(L) = \\frac{1}{2} \\binom {g}{2}$$\n",
    "\n",
    "##### Статические гипотезы для равномерного распределения:\n",
    "* Нулевая гипотеза $H_0$: \n",
    "$$L \\sim B(g(g - 1), \\frac{1}{2})$$\n",
    "\n",
    "* Статистика:\n",
    "$$z_l = \\frac{l - E(L)}{\\sqrt {D(L)}} = \\frac {l-\\frac {g(g-1)}{2}}{\\sqrt {\\frac {g(g-1)}{4}}},$$\n",
    "\n",
    "где $l = \\sum_{i = 1}^g\\sum_{j = 1}^gx_{ij}$\n",
    "\n",
    "* Данная статистика является приблизительно стандартным нормальным распределением при заданном уровне значимости.\n",
    "\n",
    "##### Оценка вероятности $P$ для распределения Бернулли:\n",
    "* Число дуг:\n",
    "$$L \\sim B(g(g - 1), P_0)$$\n",
    "\n",
    "* Вероятность, что количество дуг равно $l$:\n",
    "$$P(L = l) = \\binom {g(g - 1)}{l} = P_0^l(1 - P_0)^{g(g - 1) - l}$$\n",
    "\n",
    "* Математическое ожидание:\n",
    "$$E(L) = P_0g(g - 1)$$\n",
    "\n",
    "* Дисперсия:\n",
    "$$D(L) = P_0(1 - P_0)g(g - 1)$$\n",
    "\n",
    "##### Статистические гипотезы для распределения Бернулли:\n",
    "* Нулевая гипотеза $H_0$:\n",
    "$$L \\sim B(g(g - 1), P_0)$$\n",
    "\n",
    "* Статистика:\n",
    "$$z_l = \\frac{l - E(L)}{\\sqrt {D(L)}} = \\frac {l-P_0g(g-1)}{\\sqrt {P_0(1-P_0)g(g-1)}},$$\n",
    "где $l = \\sum_{i = 1}^g\\sum_{j = 1}^gx_{ij}$\n",
    "\n",
    "* Данная статистика является приблизительно стандартным нормальным распределением при заданном уровне значимости.\n",
    "\n",
    "##### Доверительный интервал для оценки $P$:\n",
    "* Оценка параметра $P$:\n",
    "$$\\hat {P} = \\frac{l}{g(g - 1)}$$\n",
    "\n",
    "* Доверительный интервал:\n",
    "$$\\hat {P}_{lower} \\leq P \\leq  \\hat {P}_{upper}$$\n",
    "\n",
    "* $\\hat {P}_{lower} = \\hat {P} - z_{\\frac {\\alpha}{2}} \\sqrt {\\frac {\\hat {P}(1 - \\hat{P})}{g(g - 1)}}$\n",
    "\n",
    "* $\\hat {P}_{upper} = \\hat {P} + z_{\\frac {\\alpha}{2}} \\sqrt {\\frac {\\hat {P}(1 - \\hat{P})}{g(g - 1)}}$\n",
    "\n",
    "* Здесь $z_{\\frac{\\alpha}{2}}$: $\\Phi(z_{\\frac{\\alpha}{2}}) = 0.5 - \\frac{\\alpha}{2}$\n"
   ]
  },
  {
   "cell_type": "markdown",
   "metadata": {},
   "source": [
    "## Постановка задачи\n",
    "С помощью математических пакетов и соответствующих библиотек провести статистический анализ случайно смоделированного ориентированного графа. Полученные результаты содержательно проинтерпретировать."
   ]
  },
  {
   "cell_type": "markdown",
   "metadata": {},
   "source": [
    "## Выполнение работы"
   ]
  },
  {
   "cell_type": "code",
   "execution_count": 173,
   "metadata": {
    "vscode": {
     "languageId": "r"
    }
   },
   "outputs": [],
   "source": [
    "library(igraph)\n",
    "library(statnet)\n",
    "library(network)\n",
    "library(intergraph)\n",
    "library(VGAM)"
   ]
  },
  {
   "attachments": {},
   "cell_type": "markdown",
   "metadata": {},
   "source": [
    "##### Пункт 1.\n",
    "С помощью библиотеки igraph смоделировать случайный орграф $\\cal G_d$ на основе модели Эрдеша—Реньи: $\\cal G_𝑑 = \\cal {G}(𝑔, 𝑝)$, где 𝑔 – количество акторов, 𝑝 – вероятность появления дуги между акторами. В R для модели случайного графа Эрдеша—Реньи существует функция erdos.renyi.game(). Ознакомьтесь с данной моделью и опишите её.\n",
    "\n",
    "Вариант 40: $g$ = 58, $p$ = 0.77"
   ]
  },
  {
   "cell_type": "markdown",
   "metadata": {},
   "source": [
    "В модели $G(n,p)$ граф строится путём случайного добавления рёбер. Каждое ребро включается в граф с вероятностью p независимо от остальных рёбер. Эквивалентно, все графы с n узлами и M рёбрами имеют одинаковую вероятность:\n",
    "\n",
    "${p^{M}(1-p)^{{n \\choose 2}-M}}$"
   ]
  },
  {
   "cell_type": "code",
   "execution_count": 174,
   "metadata": {
    "vscode": {
     "languageId": "r"
    }
   },
   "outputs": [
    {
     "data": {
      "text/plain": [
       "IGRAPH b0d6fb2 D--- 58 2534 -- Erdos-Renyi (gnp) graph\n",
       "+ attr: name (g/c), type (g/c), loops (g/l), p (g/n)\n",
       "+ edges from b0d6fb2:\n",
       " [1]  1->58  2-> 1  3-> 1  4-> 1  5-> 1  6-> 1  7-> 1  9-> 1 10-> 1 11-> 1\n",
       "[11] 13-> 1 14-> 1 15-> 1 16-> 1 17-> 1 18-> 1 19-> 1 20-> 1 22-> 1 23-> 1\n",
       "[21] 26-> 1 27-> 1 28-> 1 29-> 1 31-> 1 32-> 1 33-> 1 34-> 1 36-> 1 37-> 1\n",
       "[31] 39-> 1 40-> 1 41-> 1 42-> 1 43-> 1 44-> 1 45-> 1 46-> 1 47-> 1 51-> 1\n",
       "[41] 52-> 1 53-> 1 56-> 1 57-> 1 58-> 1  1-> 2  2->58  3-> 2  4-> 2  5-> 2\n",
       "[51]  6-> 2  7-> 2  8-> 2  9-> 2 10-> 2 11-> 2 13-> 2 14-> 2 15-> 2 16-> 2\n",
       "[61] 17-> 2 19-> 2 20-> 2 21-> 2 22-> 2 23-> 2 24-> 2 25-> 2 26-> 2 27-> 2\n",
       "[71] 28-> 2 29-> 2 31-> 2 32-> 2 33-> 2 34-> 2 35-> 2 36-> 2 37-> 2 38-> 2\n",
       "+ ... omitted several edges"
      ]
     },
     "metadata": {},
     "output_type": "display_data"
    }
   ],
   "source": [
    "#1\n",
    "g <- 58\n",
    "p <- 0.77\n",
    "gr <-erdos.renyi.game(g, p, type ='gnp', directed = TRUE)\n",
    "gr"
   ]
  },
  {
   "cell_type": "markdown",
   "metadata": {},
   "source": [
    "##### Пункт 2.\n",
    "Отобразить полученный орграф."
   ]
  },
  {
   "cell_type": "code",
   "execution_count": 175,
   "metadata": {
    "vscode": {
     "languageId": "r"
    }
   },
   "outputs": [
    {
     "data": {
      "image/png": "[encoded data removed]",
      "text/plain": [
       "Plot with title \"Случайный орграф на основе модели Эрдеша—Реньи\""
      ]
     },
     "metadata": {
      "image/png": {
       "height": 420,
       "width": 420
      }
     },
     "output_type": "display_data"
    }
   ],
   "source": [
    "#2\n",
    "plot(gr, layout = layout_with_fr, main = 'Случайный орграф на основе модели Эрдеша—Реньи')"
   ]
  },
  {
   "cell_type": "markdown",
   "metadata": {},
   "source": [
    "##### Пункт 3.\n",
    " Вычислить «пятичисловую сводку» для графа $\\cal {G}_d$."
   ]
  },
  {
   "cell_type": "code",
   "execution_count": 184,
   "metadata": {
    "vscode": {
     "languageId": "r"
    }
   },
   "outputs": [
    {
     "name": "stdout",
     "output_type": "stream",
     "text": [
      "1) Размер: 58\n",
      "2) Плотность: 0.7664852\n",
      "3) Число компонент:  1\n",
      "4) Диаметр: 2\n",
      "5) Коэффициент кластеризации: 0.7678422"
     ]
    }
   ],
   "source": [
    "#3\n",
    "net <- asNetwork(gr)\n",
    "\n",
    "cat(\"1) Размер:\", network.size(net))\n",
    "\n",
    "cat(\"\\n2) Плотность:\", gden(net))\n",
    "\n",
    "cat(\"\\n3) Число компонент: \", igraph::components(gr)$no)\n",
    "\n",
    "comp <- component.largest(net,result=\"graph\") #находим наибольшую компоненту связности\n",
    "gd <- geodist(comp) #находим геодезические расстояния\n",
    "cat(\"\\n4) Диаметр:\", max(gd$gdist))\n",
    "\n",
    "cat(\"\\n5) Коэффициент кластеризации:\", gtrans(net))"
   ]
  },
  {
   "cell_type": "markdown",
   "metadata": {},
   "source": [
    "##### Пункт 4.\n",
    "Вычислить цензус диад. Сделать выводы."
   ]
  },
  {
   "cell_type": "code",
   "execution_count": 185,
   "metadata": {
    "vscode": {
     "languageId": "r"
    }
   },
   "outputs": [
    {
     "name": "stdout",
     "output_type": "stream",
     "text": [
      "Цензус диад:"
     ]
    },
    {
     "data": {
      "text/html": [
       "<dl>\n",
       "\t<dt>$mut</dt>\n",
       "\t\t<dd>968</dd>\n",
       "\t<dt>$asym</dt>\n",
       "\t\t<dd>598</dd>\n",
       "\t<dt>$null</dt>\n",
       "\t\t<dd>87</dd>\n",
       "</dl>\n"
      ],
      "text/latex": [
       "\\begin{description}\n",
       "\\item[\\$mut] 968\n",
       "\\item[\\$asym] 598\n",
       "\\item[\\$null] 87\n",
       "\\end{description}\n"
      ],
      "text/markdown": [
       "$mut\n",
       ":   968\n",
       "$asym\n",
       ":   598\n",
       "$null\n",
       ":   87\n",
       "\n",
       "\n"
      ],
      "text/plain": [
       "$mut\n",
       "[1] 968\n",
       "\n",
       "$asym\n",
       "[1] 598\n",
       "\n",
       "$null\n",
       "[1] 87\n"
      ]
     },
     "metadata": {},
     "output_type": "display_data"
    }
   ],
   "source": [
    "cat(\"Цензус диад:\")\n",
    "census <- dyad_census(gr)\n",
    "census"
   ]
  },
  {
   "attachments": {},
   "cell_type": "markdown",
   "metadata": {},
   "source": [
    "Выводы:\n",
    "\n",
    "Число взаимных диад в графе: M = 968\n",
    "\n",
    "Число асимметричных диад в графе: А = 598 \n",
    "\n",
    "Число нулевых диад в графе: N = 87"
   ]
  },
  {
   "attachments": {},
   "cell_type": "markdown",
   "metadata": {},
   "source": [
    "##### Пункт 5.\n",
    "Вычислить оценку индекса взаимности Каца—Пауэла при фиксированом выборе акторов 𝑑 и при свободном выборе. Сделать выводы.\n",
    "\n",
    "Пусть $d=44$"
   ]
  },
  {
   "cell_type": "code",
   "execution_count": 186,
   "metadata": {
    "vscode": {
     "languageId": "r"
    }
   },
   "outputs": [
    {
     "data": {
      "text/html": [
       "-0.0583554376657825"
      ],
      "text/latex": [
       "-0.0583554376657825"
      ],
      "text/markdown": [
       "-0.0583554376657825"
      ],
      "text/plain": [
       "[1] -0.05835544"
      ]
     },
     "metadata": {},
     "output_type": "display_data"
    },
    {
     "data": {
      "text/html": [
       "-0.0109734922180254"
      ],
      "text/latex": [
       "-0.0109734922180254"
      ],
      "text/markdown": [
       "-0.0109734922180254"
      ],
      "text/plain": [
       "[1] -0.01097349"
      ]
     },
     "metadata": {},
     "output_type": "display_data"
    }
   ],
   "source": [
    "#5\n",
    "#фиксированный выбор, d = 44\n",
    "d <- 44\n",
    "M <- census$mut\n",
    "P_kp1 <- (2*M*(g-1) - g*(d**2))/(g*d*(g-1-d))\n",
    "P_kp1\n",
    "\n",
    "#свободный выбор\n",
    "L <- length(E(gr))\n",
    "L2 <- sum((rowSums(matr))^2)\n",
    "P_kp2 <- (2*M*((g-1)**2)-L**2 + L2)/(L*((g-1)**2)-L**2+L2)\n",
    "P_kp2\n"
   ]
  },
  {
   "attachments": {},
   "cell_type": "markdown",
   "metadata": {},
   "source": [
    "Выводы:\n",
    "\n",
    "Так как полученные значения близки к 0, можно сделать вывод о том, что в обоих случаях акторы больше склонны образовывать односторонние связи, чем взаимные."
   ]
  },
  {
   "cell_type": "markdown",
   "metadata": {},
   "source": [
    "##### Пункт 6.\n",
    "Вычислить вероятность того, что связь будет взаимной для каждого случая."
   ]
  },
  {
   "cell_type": "code",
   "execution_count": 187,
   "metadata": {
    "vscode": {
     "languageId": "r"
    }
   },
   "outputs": [
    {
     "name": "stdout",
     "output_type": "stream",
     "text": [
      "При фиксированном выборе:  0.5856019\n",
      "При свободном выборе: 0.5795629 \n"
     ]
    }
   ],
   "source": [
    "#6\n",
    "#при выборе d\n",
    "p1 <- (d/(g-1))*(d/(g-1) + P_kp1*((g-1-d)/(g-1)))\n",
    "cat('При фиксированном выборе: ', p1)\n",
    "\n",
    "#при свободном выборе\n",
    "p2 <- (rowSums(matr) * colSums(matr))/(g - 1)^2\n",
    "p2 <- sum(p2)/g\n",
    "cat('\\nПри свободном выборе:', p2, \"\\n\")\n"
   ]
  },
  {
   "cell_type": "markdown",
   "metadata": {},
   "source": [
    "##### Пункт 7.\n",
    "Вычислить индекс взаимности Бандиопадхьяйя. Сделать выводы."
   ]
  },
  {
   "cell_type": "code",
   "execution_count": 188,
   "metadata": {
    "vscode": {
     "languageId": "r"
    }
   },
   "outputs": [
    {
     "data": {
      "text/html": [
       "0.768864177918983"
      ],
      "text/latex": [
       "0.768864177918983"
      ],
      "text/markdown": [
       "0.768864177918983"
      ],
      "text/plain": [
       "[1] 0.7688642"
      ]
     },
     "metadata": {},
     "output_type": "display_data"
    }
   ],
   "source": [
    "#7\n",
    "\n",
    "vec <- c()\n",
    "vec2 <- c()\n",
    "for(t in 0:g){\n",
    "    #находим значение f(t)\n",
    "    s <- 0\n",
    "    if (t>0){\n",
    "        for(i in 1:t){\n",
    "            s <- s + sum(matr[i, ])\n",
    "        }\n",
    "    }\n",
    "    f_t <- s - t*(g-1) - choose(t, 2)\n",
    "    vec <- append(vec, f_t)\n",
    "    #находим значение g(t)\n",
    "    s2 <- 0\n",
    "    if (t+1 <= g){\n",
    "        for(i in (t+1):g){\n",
    "            s2 <- s2 + min(t, sum(matr[i, ]))\n",
    "        }\n",
    "    }\n",
    "    g_t <- s - t*(t-1)-s2\n",
    "    vec2 <- append(vec2, g_t)\n",
    "}\n",
    "M_min <- max(vec)\n",
    "M_max <- floor(0.5*(sum(matr)-max(vec2)))\n",
    "P_B <- (M - M_min)/(M_max - M_min)\n",
    "P_B"
   ]
  },
  {
   "attachments": {},
   "cell_type": "markdown",
   "metadata": {},
   "source": [
    "Выводы:\n",
    "\n",
    "В данном графe количество взаимных диад составляет примерно 77%."
   ]
  },
  {
   "attachments": {},
   "cell_type": "markdown",
   "metadata": {},
   "source": [
    "##### Пункт 8.\n",
    "Проверить нулевую гипотезу о том, что число дуг $𝐿$ в орграфе $\\cal G_𝑑$ имеет биномиальное распределение $L$~$Bin(g(g-1), 1/2)$  при\n",
    "уровне значимости $\\alpha$. Определить максимальный уровень значимости при котором нулевая гипотеза не отвергается."
   ]
  },
  {
   "cell_type": "code",
   "execution_count": 189,
   "metadata": {
    "vscode": {
     "languageId": "r"
    }
   },
   "outputs": [
    {
     "data": {
      "text/plain": [
       "\n",
       "\tExact binomial test\n",
       "\n",
       "data:  L and g * (g - 1)\n",
       "number of successes = 2534, number of trials = 3306, p-value < 2.2e-16\n",
       "alternative hypothesis: true probability of success is not equal to 0.5\n",
       "95 percent confidence interval:\n",
       " 0.7516805 0.7808171\n",
       "sample estimates:\n",
       "probability of success \n",
       "             0.7664852 \n"
      ]
     },
     "metadata": {},
     "output_type": "display_data"
    }
   ],
   "source": [
    "#8\n",
    "binom.test(L, g*(g-1), p = 0.5)"
   ]
  },
  {
   "attachments": {},
   "cell_type": "markdown",
   "metadata": {},
   "source": [
    "Выводы:\n",
    "\n",
    "По сравнению с $\\alpha$ p-value очень мало, значит, нулевая гипотеза отвергается. Принимается альтернативная: вероятность построения ребра между любыми двумя акторами не равна 0.5. Тогда максимальный уровень значимости - $p-value < 2.2 \\cdot 10^{(-16)}$."
   ]
  },
  {
   "attachments": {},
   "cell_type": "markdown",
   "metadata": {},
   "source": [
    "##### Пункт 9.\n",
    "Проверить нулевую гипотезу о том, что число дуг $L$ в орграфе $\\cal G_𝑑$ имеет биномиальное распределение $L$~$Bin(g(g-1), P_0)$  при\n",
    "уровне значимости $\\alpha$. Определить максимальный уровень значимости при котором нулевая гипотеза не отвергается.\n",
    "\n",
    "Вариант 40: $P_0 = 0.52$"
   ]
  },
  {
   "cell_type": "code",
   "execution_count": 190,
   "metadata": {
    "vscode": {
     "languageId": "r"
    }
   },
   "outputs": [
    {
     "data": {
      "text/plain": [
       "\n",
       "\tExact binomial test\n",
       "\n",
       "data:  L and g * (g - 1)\n",
       "number of successes = 2534, number of trials = 3306, p-value < 2.2e-16\n",
       "alternative hypothesis: true probability of success is not equal to 0.52\n",
       "95 percent confidence interval:\n",
       " 0.7516805 0.7808171\n",
       "sample estimates:\n",
       "probability of success \n",
       "             0.7664852 \n"
      ]
     },
     "metadata": {},
     "output_type": "display_data"
    }
   ],
   "source": [
    "#9\n",
    "P0 <- 0.52\n",
    "binom.test(L, g*(g-1), p = P0)"
   ]
  },
  {
   "attachments": {},
   "cell_type": "markdown",
   "metadata": {},
   "source": [
    "Выводы:\n",
    "\n",
    "По сравнению с $\\alpha$ p-value очень мало, значит, нулевая гипотеза отвергается. Принимается альтернативная: вероятность построения ребра между любыми двумя акторами не равна 0.52. Тогда максимальный уровень значимости - $p-value < 2.2 \\cdot 10^{(-16)}$."
   ]
  },
  {
   "attachments": {},
   "cell_type": "markdown",
   "metadata": {},
   "source": [
    "##### Пункт 10.\n",
    "Построить доверительный интервал для оценки параметра $p$ с доверительной надёжностью $(1 - \\alpha)$. Сделать выводы.\n",
    "\n",
    "Вариант 40: $\\alpha = 0.04$"
   ]
  },
  {
   "cell_type": "code",
   "execution_count": 193,
   "metadata": {
    "vscode": {
     "languageId": "r"
    }
   },
   "outputs": [
    {
     "name": "stdout",
     "output_type": "stream",
     "text": [
      "Значение функции Лапласа: 0.48 => z_a/2 ~ 2.06\n",
      "Доверительный интервал: [ 0.7513278 , 0.7816426 ]"
     ]
    }
   ],
   "source": [
    "#10\n",
    "L <- length(E(gr))\n",
    "P_hat <- L/(g*(g-1))\n",
    "a <- 0.04\n",
    "F <- 0.5-a/2\n",
    "cat('Значение функции Лапласа:', F, '=> z_a/2 ~ 2.06')\n",
    "z_a2 <- 2.06\n",
    "P_lower <- P_hat-z_a2*sqrt((P_hat*(1-P_hat))/(g*(g-1)))\n",
    "P_upper <- P_hat+z_a2*sqrt((P_hat*(1-P_hat))/(g*(g-1)))\n",
    "cat('\\nДоверительный интервал: [', P_lower, ',', P_upper, ']')\n"
   ]
  },
  {
   "attachments": {},
   "cell_type": "markdown",
   "metadata": {},
   "source": [
    "Выводы:\n",
    "\n",
    "Так как $p=0.77$ и это значение попадает в полученный интервал, то можно сделать вывод о том, что доверительный интервал был рассчитан верно."
   ]
  },
  {
   "attachments": {},
   "cell_type": "markdown",
   "metadata": {},
   "source": [
    "## Выводы\n",
    "В ходе выполнения практической работы был построен и исследован случайный орграф на основе модели Эрдеша—Реньи. Для него была вычислена \"пятичисловая сводка\", цензус диад и индексы взаимности Каца—Пауэла и Бандиопадхьяйя. Полученные значения были проанализированы, и результаты были представлены в отчете. Были проверены нулевые гипотезы о том, что число дуг в орграфе имеет биномиальное распределение, а также был построен доверительный интервал для оценки параметра $p$. "
   ]
  }
 ],
 "metadata": {
  "kernelspec": {
   "display_name": "R",
   "language": "R",
   "name": "ir"
  },
  "language_info": {
   "codemirror_mode": "r",
   "file_extension": ".r",
   "mimetype": "text/x-r-source",
   "name": "R",
   "pygments_lexer": "r",
   "version": "4.2.1"
  },
  "orig_nbformat": 4,
  "vscode": {
   "interpreter": {
    "hash": "53e85dd5c5a6a55d2c821bb7d2fa608b7383e2fc07f8377f495bbe90efc15ea8"
   }
  }
 },
 "nbformat": 4,
 "nbformat_minor": 2
}
