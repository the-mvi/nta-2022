{
 "cells": [
  {
   "cell_type": "markdown",
   "metadata": {},
   "source": [
    "# Практическая работа №3: Статический анализ социальных сетей\n",
    "Выполнил студент гр. 0382 Литягин Семён. Вариант №39"
   ]
  },
  {
   "cell_type": "markdown",
   "metadata": {},
   "source": [
    "## Цель работы\n",
    "Овладеть навыками работы с математическими пакетами для статистического анализа социальных сетей."
   ]
  },
  {
   "cell_type": "markdown",
   "metadata": {},
   "source": [
    "## Основные теоретические положения\n",
    "\n",
    "**Диада** $-$ элемент сети, представляющий собой пару акторов и (возможную) связь между ними: $D_{ij}=(X_{ij}, X_{ji}), i\\neq j$.\n",
    "\n",
    "**Цензус диад** $-$ тройка чисел $M, A, N$, где:\n",
    "\n",
    "Вычисление цензуса:  \n",
    "$M = \\frac{1}{2} trace(𝐗𝐗)$  \n",
    "$A = trace(𝐗𝐗^{T}) - 2M$  \n",
    "$N = C_g^2 - A - M$  \n",
    "\n",
    "**Индекс взаимности Каца-Пауэлла** (Reciprocity of Katz and Powell) $-$ характеристика измерения тенденции акторов в группе. Данный индекс оценивает тенденцию акторов в группе к взаимному выбору друг друга. \n",
    "\n",
    "$-\\infty < \\rho_{кр} \\leqslant 1$.\n",
    "\n",
    "Индекс взаимности основан на ожидании количества взаимных диад, предполагая, что выбор делается акторами случайным образом. Выбор может быть фиксированным или свободным.\n",
    "\n",
    "Для фиксированного выбора из $d$ акторов:\n",
    "\n",
    "$\\hat{\\rho}_{кр} = \\displaystyle{\\frac{2(g-1)M - gd^2}{gd(g - d - 1)}}$.\n",
    "\n",
    "Вероятность того, что связь будет взаимной для двух акторов:\n",
    "\n",
    "$\\displaystyle{P(i \\rightarrow j \\wedge j \\rightarrow i) = \\frac{d}{g - 1}\\left( \\frac{d}{g - 1} + \\rho_{кр} \\frac{g - 1 - d}{g - 1} \\right)}.$\n",
    "\n",
    "Для свободного выбора:\n",
    "\n",
    "$\\hat{\\rho}_{кр} = \\displaystyle{\\frac{2(g-1)^2M - L^2 + L_2}{L(g - 1)^2 - L^2 - L_2}}$.\n",
    "\n",
    "Вероятность того, что связь будет взаимной для двух акторов (для каждого из акторов):\n",
    "\n",
    "$P = \\displaystyle{\\frac{x_{i+}x_{j+}}{(g - 1)^2}}$.\n",
    "\n",
    "**Индекс взаимности Бандиопадхьяйя** - индекс, основанный на максимальной и минимальной значениях количества диад в сети. \n",
    "\n",
    "$\\rho_B = \\displaystyle{\\frac{M - M_{\\min}}{M_{\\max} - M_{\\min}}}$,\n",
    "\n",
    "где $M_{\\min} = \\max f(t), 0 \\leqslant t \\leqslant g$, \n",
    "\n",
    "$M_{\\max} = \\lfloor 0.5 \\sum^g_{i = 1} x_{i+} - \\max g(t)\\rfloor, 0 \\leqslant t \\leqslant g$,\n",
    "\n",
    "$f(t) = \\sum^t_{i=1} x_{i+} - t(g - 1) - C^2_g$,\n",
    "\n",
    "$g(t) = \\sum^t_{i=1} x_{i+} - t(t - 1) - \\sum^g_{i=t+1} \\min (t, x_{i+})$.\n",
    "\n",
    "**Вычисление доверительного интервала для оценки P:**\n",
    "\n",
    "Оценка параметра $P$:\n",
    "\n",
    "$\\hat{P} = \\displaystyle{\\frac{\\sum_{i = 1}^g \\sum_{j = 1}^g x_{ij}}{g(g-1)} = \\frac{l}{g(g - 1)}}$.\n",
    "\n",
    "ДИ: $\\hat{P}_{lower} \\leqslant P \\leqslant \\hat{P}_{upper}$.\n",
    "\n",
    "$\\hat{P}_{lower} = \\displaystyle{\\hat{P} - z_{\\alpha/2} \\sqrt\\frac{\\hat{P}(1- \\hat{P})}{g(g-1)}}$\n",
    "\n",
    "$\\hat{P}_{upper} = \\displaystyle{\\hat{P} + z_{\\alpha/2} \\sqrt\\frac{\\hat{P}(1- \\hat{P})}{g(g-1)}}$\n",
    "\n",
    "$z_{\\alpha/2}$ вычисляется из $\\Phi(z_{\\alpha/2}) = 0.5 - 0.5 \\alpha$, где $\\alpha$ - некоторый уровень значимости, $(1 - \\alpha)$ - доверительная надёжность. "
   ]
  },
  {
   "cell_type": "markdown",
   "metadata": {},
   "source": [
    "## Постановка задачи\n",
    "С помощью математических пакетов и соответствующих библиотек провести статистический анализ случайно смоделированного ориентированного графа. Полученные результаты содержательно проинтерпретировать."
   ]
  },
  {
   "cell_type": "markdown",
   "metadata": {},
   "source": [
    "## Выполнение работы\n",
    "Каждый пункт работы (*по возможности*) выполняется с помощью кода.\n",
    "Рекомендованные языки программирования – R или Python."
   ]
  },
  {
   "cell_type": "code",
   "execution_count": 1,
   "metadata": {},
   "outputs": [
    {
     "name": "stderr",
     "output_type": "stream",
     "text": [
      "Warning message:\n",
      "\"package 'igraph' was built under R version 3.6.3\"\n",
      "Attaching package: 'igraph'\n",
      "\n",
      "The following objects are masked from 'package:stats':\n",
      "\n",
      "    decompose, spectrum\n",
      "\n",
      "The following object is masked from 'package:base':\n",
      "\n",
      "    union\n",
      "\n"
     ]
    }
   ],
   "source": [
    "library(igraph)"
   ]
  },
  {
   "cell_type": "code",
   "execution_count": 197,
   "metadata": {},
   "outputs": [],
   "source": [
    "#consts\n",
    "g <- 86\n",
    "p <- 0.75\n",
    "P_0 <- 0.51\n",
    "alpha <- 0.04"
   ]
  },
  {
   "cell_type": "markdown",
   "metadata": {},
   "source": [
    " 1.  Моделирование случайного орграфа $G_𝑑$ на основе модели Эрдеша—Реньи: $G_𝑑 = G (𝑔, 𝑝)$, где $𝑔$ – количество акторов, $𝑝$ – вероятность появления дуги между акторами. Ознакомьтесь с данной моделью и опишите её."
   ]
  },
  {
   "cell_type": "code",
   "execution_count": 198,
   "metadata": {},
   "outputs": [],
   "source": [
    "graph <- erdos.renyi.game(g, p, directed=TRUE)"
   ]
  },
  {
   "cell_type": "markdown",
   "metadata": {},
   "source": [
    "Данная модель генерирует граф с $g$ вершинами, связи между которыми генерируются с вероятностью $p$."
   ]
  },
  {
   "cell_type": "markdown",
   "metadata": {},
   "source": [
    "2. Отобразить полученный орграф."
   ]
  },
  {
   "cell_type": "code",
   "execution_count": 89,
   "metadata": {},
   "outputs": [
    {
     "data": {
      "image/png": "[encoded data removed]",
      "text/plain": [
       "Plot with title \"\""
      ]
     },
     "metadata": {},
     "output_type": "display_data"
    }
   ],
   "source": [
    "plot(graph, layout=layout_with_kk, label=colnames(graph))"
   ]
  },
  {
   "cell_type": "markdown",
   "metadata": {},
   "source": [
    "Как можно заметить, в данном графе довольно много ребер, поскольку заданная вероятность создания ребра довольно высока."
   ]
  },
  {
   "cell_type": "markdown",
   "metadata": {},
   "source": [
    "3. Вычислить «пятичисловую сводку» для графа $G_𝑑$."
   ]
  },
  {
   "cell_type": "code",
   "execution_count": 199,
   "metadata": {},
   "outputs": [
    {
     "name": "stdout",
     "output_type": "stream",
     "text": [
      "Network size: 86 \n",
      "\n",
      "My density: 1.499316 \n",
      "\n",
      "Components:  1 \n",
      "\n",
      "Diameter: 2 \n",
      "\n",
      "Clustering coefficient: 0.9325265 \n"
     ]
    }
   ],
   "source": [
    "#размер\n",
    "s <- length(V(graph))\n",
    "cat(\"Network size:\", s, \"\\n\\n\")\n",
    "\n",
    "#плотность\n",
    "cat(\"My density:\", length(E(graph))/choose(s,2), \"\\n\\n\")\n",
    "\n",
    "#компоненты\n",
    "cat(\"Components: \", count_components(graph, mode = \"strong\"), \"\\n\\n\") \n",
    " \n",
    "#диаметр сети\n",
    "cat(\"Diameter:\", diameter(graph), \"\\n\\n\")\n",
    "\n",
    "#коэффициент кластеризации\n",
    "cat(\"Clustering coefficient:\", transitivity(graph), \"\\n\")"
   ]
  },
  {
   "cell_type": "markdown",
   "metadata": {},
   "source": [
    "4. Вычислить цензус диад. Сделать выводы"
   ]
  },
  {
   "cell_type": "code",
   "execution_count": 200,
   "metadata": {},
   "outputs": [
    {
     "data": {
      "text/html": [
       "<dl>\n",
       "\t<dt>$mut</dt>\n",
       "\t\t<dd>2071</dd>\n",
       "\t<dt>$asym</dt>\n",
       "\t\t<dd>1338</dd>\n",
       "\t<dt>$null</dt>\n",
       "\t\t<dd>246</dd>\n",
       "</dl>\n"
      ],
      "text/latex": [
       "\\begin{description}\n",
       "\\item[\\$mut] 2071\n",
       "\\item[\\$asym] 1338\n",
       "\\item[\\$null] 246\n",
       "\\end{description}\n"
      ],
      "text/markdown": [
       "$mut\n",
       ":   2071\n",
       "$asym\n",
       ":   1338\n",
       "$null\n",
       ":   246\n",
       "\n",
       "\n"
      ],
      "text/plain": [
       "$mut\n",
       "[1] 2071\n",
       "\n",
       "$asym\n",
       "[1] 1338\n",
       "\n",
       "$null\n",
       "[1] 246\n"
      ]
     },
     "metadata": {},
     "output_type": "display_data"
    }
   ],
   "source": [
    "cens <- dyad_census(graph)\n",
    "M <- cens$mut\n",
    "A <- cens$asym\n",
    "N <- cens$null\n",
    "cens"
   ]
  },
  {
   "cell_type": "markdown",
   "metadata": {},
   "source": [
    "Вывод: в данной сети преобладает число пар акторов с взаимными связями, а также довольно много односторонних связей, что вполне согласуется с высокой вероятностью создания ребра"
   ]
  },
  {
   "cell_type": "markdown",
   "metadata": {},
   "source": [
    "5. Вычислить оценку индекса взаимности Каца—Пауэла при фиксированом выборе акторов 𝑑 и при свободном выборе. Сделать выводы."
   ]
  },
  {
   "cell_type": "code",
   "execution_count": 234,
   "metadata": {},
   "outputs": [
    {
     "name": "stdout",
     "output_type": "stream",
     "text": [
      "При фиксированном d=80 индекс:  -5.765407"
     ]
    }
   ],
   "source": [
    "d <- 80\n",
    "ind_kp <- (2*(g-1)*cens$mut-g*d*d)/(g*d*(g-1-d))\n",
    "cat(\"При фиксированном d=80 индекс: \", ind_kp)"
   ]
  },
  {
   "cell_type": "code",
   "execution_count": 233,
   "metadata": {},
   "outputs": [
    {
     "name": "stdout",
     "output_type": "stream",
     "text": [
      "При свободном выборе индекс:  0.02481715"
     ]
    }
   ],
   "source": [
    "x <- as.matrix(as_adjacency_matrix(graph))\n",
    "x_plus <- rowSums(x)\n",
    "S_x <- sum(x)\n",
    "S_2_x <- sum(x_plus**2)\n",
    "x_i_plus <- colSums(x)\n",
    "\n",
    "\n",
    "ind_kp_free <- (2*(g - 1)^2 * M - S_x^2 + S_2_x)/(S_x*(g - 1)^2 - S_x^2 + S_2_x)\n",
    "cat(\"При свободном выборе индекс: \", ind_kp_free)"
   ]
  },
  {
   "cell_type": "markdown",
   "metadata": {},
   "source": [
    "Выводы:  \n",
    "при фиксированном выборе 80 акторов они будут более склонны образовывать односторонние связи или не образовывать их вовсе, чем при свободном. В свободном режиме выбора акторы имеют склонность не образовывать связи"
   ]
  },
  {
   "cell_type": "markdown",
   "metadata": {},
   "source": [
    "6. Вычислить вероятность того, что связь будет взаимной для каждого случая."
   ]
  },
  {
   "cell_type": "code",
   "execution_count": 231,
   "metadata": {},
   "outputs": [
    {
     "name": "stdout",
     "output_type": "stream",
     "text": [
      "При фиксированном выборе вероятность:  0.5666211"
     ]
    }
   ],
   "source": [
    "Pij <- (d/(g-1))*(d/(g-1) + p_kp*((g-1-d)/(g-1)))\n",
    "cat(\"При фиксированном выборе вероятность: \", Pij)"
   ]
  },
  {
   "cell_type": "code",
   "execution_count": 211,
   "metadata": {},
   "outputs": [
    {
     "name": "stdout",
     "output_type": "stream",
     "text": [
      "При свободном выборе вероятность:  0.5619522"
     ]
    }
   ],
   "source": [
    "Pij_free <- (x_plus * x_i_plus)/(g - 1)^2\n",
    "Pij_free_avg <- sum(p_kp_free)/g\n",
    "cat(\"При свободном выборе вероятность: \", Pij_free_avg)"
   ]
  },
  {
   "cell_type": "markdown",
   "metadata": {},
   "source": [
    "7. Вычислить индекс взаимности Бандиопадхьяйя. Сделать выводы"
   ]
  },
  {
   "cell_type": "code",
   "execution_count": 157,
   "metadata": {},
   "outputs": [
    {
     "data": {
      "text/html": [
       "0.9763644177052"
      ],
      "text/latex": [
       "0.9763644177052"
      ],
      "text/markdown": [
       "0.9763644177052"
      ],
      "text/plain": [
       "[1] 0.9763644"
      ]
     },
     "metadata": {},
     "output_type": "display_data"
    }
   ],
   "source": [
    "g_func <- function(t) {\n",
    "    return(sum(x_plus[1:t]) -t*(t-1) - if(t>=g) 0 else sum(min(x_plus[(t+1):g], rep(t, (g-t-1+1)))))\n",
    "}\n",
    "\n",
    "f_func <- function(t) {\n",
    "    return(sum(x_plus[1:t]) - t*(g-1)-choose(g,2))\n",
    "}\n",
    "\n",
    "M.min <- f_func(0)\n",
    "for(i in 1:g) {\n",
    "    if(M.min < f_func(i)){\n",
    "        M.min <- f_func(i)\n",
    "    }\n",
    "}\n",
    "\n",
    "g_max <- g_func(0)\n",
    "for(i in 1:g) {\n",
    "    if(g_max < g_func(i)){\n",
    "        g_max <- g_func(i)\n",
    "    }\n",
    "}\n",
    "M.max <- 0.5*(sum(x_plus)-g_max)\n",
    "           \n",
    "p_b <- (M-M.min)/(M.max-M.min)\n",
    "p_b"
   ]
  },
  {
   "cell_type": "markdown",
   "metadata": {},
   "source": [
    "Вывод:\n",
    "согласно полученному значению индекса - акторы довольно склонны образовывать взаимные связи"
   ]
  },
  {
   "cell_type": "markdown",
   "metadata": {},
   "source": [
    " 8. Проверить нулевую гипотезу о том, что число дуг $𝐿$ в орграфе $G_𝑑$ имеет биномиальное распределение $𝐿 ∼ Bin(𝑔(𝑔 − 1), 1/2)$ при уровне значимости $𝛼$. Определить максимальный уровень значимости при котором нулевая гипотеза не отвергается."
   ]
  },
  {
   "cell_type": "code",
   "execution_count": 186,
   "metadata": {},
   "outputs": [
    {
     "name": "stdout",
     "output_type": "stream",
     "text": [
      "Статистика критерия:  43.64987  , max значения уровня значимости:  0  , гипотеза верна:  FALSE \n"
     ]
    }
   ],
   "source": [
    "I <- sum(x)\n",
    "zI <- (I - g * (g - 1) / 2) / (g * (g - 1) / 4) ** (1 / 2)\n",
    "p_value <- 0.5 - 0.5*pnorm(zI)\n",
    "cat(\"Статистика критерия: \", zI, \" , max значения уровня значимости: \", p_value, \" , гипотеза верна: \", p_value >= alpha/2,\"\\n\")"
   ]
  },
  {
   "cell_type": "markdown",
   "metadata": {},
   "source": [
    "Вывод:  \n",
    "согласно проверке гипотезы, число дуг не имеет данного биномиального распределения при уровне значимости $\\alpha = 0.04$"
   ]
  },
  {
   "cell_type": "markdown",
   "metadata": {},
   "source": [
    " 9. Проверить нулевую гипотезу о том, что число дуг $𝐿$ в орграфе $G_𝑑$ имеет биномиальное распределение $𝐿 ∼ Bin(𝑔(𝑔−1), 𝑃0)$ при уровне значимости $𝛼$. Определить максимальный уровень значимости при котором нулевая гипотеза не отвергается.\n"
   ]
  },
  {
   "cell_type": "code",
   "execution_count": 187,
   "metadata": {},
   "outputs": [
    {
     "name": "stdout",
     "output_type": "stream",
     "text": [
      "Статистика критерия:  41.94829  , max значения уровня значимости:  0  , гипотеза верна:  FALSE \n"
     ]
    }
   ],
   "source": [
    "I <- sum(x)\n",
    "zI <- (I - P_0*g * (g - 1)) / (g * (g - 1)*P_0*(1-P_0)) ** (1 / 2)\n",
    "p_value <- 0.5 - 0.5*pnorm(zI)Вывод:  \n",
    "согласно проверке гипотезы, число дуг не имеет данного биномиального распределения при уровне значимости $\\alpha = 0.04$\n",
    "cat(\"Статистика критерия: \", zI, \" , max значения уровня значимости: \", p_value, \" , гипотеза верна: \", p_value >= alpha/2,\"\\n\")"
   ]
  },
  {
   "cell_type": "markdown",
   "metadata": {},
   "source": [
    "Вывод:  \n",
    "согласно проверке гипотезы, число дуг не имеет данного биномиального распределения при уровне значимости $\\alpha = 0.04$"
   ]
  },
  {
   "cell_type": "markdown",
   "metadata": {},
   "source": [
    " 10. Построить доверительный интервал для оценки параметра $𝑝$ с доверительной надёжностью $(1 − 𝛼)$. Сделать выводы."
   ]
  },
  {
   "cell_type": "code",
   "execution_count": 230,
   "metadata": {},
   "outputs": [
    {
     "name": "stdout",
     "output_type": "stream",
     "text": [
      "Оценка параметра P:  0.7552668 \n",
      "Доверительный интервал для параметра P: [ 0.7449395 ,  0.765594 ]"
     ]
    }
   ],
   "source": [
    "p_ocenka <- I/(g*(g-1))\n",
    "cat(\"Оценка параметра P: \", p_ocenka, \"\\n\")\n",
    "\n",
    "zA <- abs(qnorm(alpha/2))\n",
    "p_low <- p_ocenka - zA*sqrt(p_ocenka*(1-p_ocenka)/(g*(g-1)))\n",
    "p_upp <- p_ocenka + zA*sqrt(p_ocenka*(1-p_ocenka)/(g*(g-1)))\n",
    "cat(\"Доверительный интервал для параметра P: [\",p_low,\", \",p_upp,\"]\")"
   ]
  },
  {
   "cell_type": "markdown",
   "metadata": {},
   "source": [
    "Вывод:  \n",
    "можно заметить, что заданное по условию $p=0.75$ входит в полученный доверительный интервал, что говорит о верной оценке"
   ]
  },
  {
   "cell_type": "markdown",
   "metadata": {},
   "source": [
    "## Выводы\n",
    "\n",
    "В ходе практической работы был проведен статистический анализ случайно смоделированного ориентированного графа на основе модели Эрдеша—Реньи с использованием библиотек igraph. По полученным расчетам было отмечено, что при заданных параметрах модели коэффициент кластеризации близок к 1, количество взаимных и односторонних диад довольно высоко, что вполне согласуется с заданным параметром $p$ для генерации ребер. Также были расчитаны индексы взаимности Каца—Пауэла и Бандиопадхьяйя. Согласно индексам взаимности Каца-Пауэла, для фиксированного выбора $d=80$ акторы склонны к образованию односторонник связей или не образовывать их вовсе, для случайного выбора - склонны не выбирать друг друга взаимно. Согласно же индексу взаимности Бандиопадхъяйя, актора склонны взаимно выбирать друг друга. Были также проверены гипотезы о принадлежности числа дуг к биномиальным распределениям, причем оказалось, что при заданном уровне значимости они неверны. Еще был построен доверительный интервал для параметра модели $p$, причем он входит в расчитанный ДИ, что говорит о верной оценке."
   ]
  }
 ],
 "metadata": {
  "kernelspec": {
   "display_name": "R",
   "language": "R",
   "name": "ir"
  },
  "language_info": {
   "codemirror_mode": "r",
   "file_extension": ".r",
   "mimetype": "text/x-r-source",
   "name": "R",
   "pygments_lexer": "r",
   "version": "3.6.1"
  }
 },
 "nbformat": 4,
 "nbformat_minor": 4
}
