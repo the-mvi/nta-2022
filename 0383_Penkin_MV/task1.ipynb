{
 "cells": [
  {
   "cell_type": "markdown",
   "metadata": {},
   "source": [
    "# Практическая работа №1: Основы анализа и моделирования социальных сетей\n",
    "Выполнил студент гр. 0383 Пенкин Михаил. Вариант №10"
   ]
  },
  {
   "cell_type": "markdown",
   "metadata": {},
   "source": [
    "## Цель работы\n",
    "Овладеть навыками работы с математическими пакетами для моделирования, визуализации и анализа социальных сетей."
   ]
  },
  {
   "cell_type": "markdown",
   "metadata": {},
   "source": [
    "## Основные теоретические положения\n",
    "**Актор** - дискретная индивидуальная, корпоративная или коллективная социальная елиница.\n",
    "\n",
    "**Реляционная связь** - свойство, описывающее взаимодействие между двумя акторами.\n",
    "\n",
    "**Подгруппа** - любое подмножество акторов и все связи между ними.\n",
    "\n",
    "**Группа** - совокупность всех акторов, связи между которыми должны быть изучены.\n",
    "\n",
    "**Отношение** - совокупность связей определённого вида между членами группы.\n",
    "\n",
    "**Сеть** - объект, представляющий собой совокупность конечного набора акторов и отношений, определённых на них.\n",
    "\n",
    "**Методы представления сетей**:\n",
    "- Графовое\n",
    "- Социометрическое\n",
    "- Алгебраическое\n",
    "\n",
    "**Мосты** - рёбра, при удалении из графа которых количество компонент возрастает.\n",
    "\n",
    "**Точки сочленения** - вершины, при удалении из графа которых количество компонент возрастает.\n",
    "\n",
    "**Граф** - модель социальной сети с направленными дихотомическими отношениями.  \n",
    "\n",
    "$\\mathcal{G} = \\mathcal{G}(\\mathcal{N}, \\mathcal{L})$\n",
    "\n",
    "**Социоматрица** - матрица $\\mathcal{X}$ размера $g\\times g$, описывающая смежные узлы.\n",
    "\n",
    "$\\mathcal{X} = \\{\\mathcal{X}_{ij}\\} \\quad i,j=1...g$\n",
    "\n",
    "**Числовые характеристики сети**:\n",
    "- **Размер** - количество акторов\n",
    "- **Плотность** - доля связей по отношению к макимальному возможному\n",
    "  \n",
    "  $\\varDelta = \\frac{L}{A_g^2}$ (ориентированная сеть)\n",
    "\n",
    "  $\\varDelta = \\frac{L}{(_2^g)}$ (неориентированная сеть)\n",
    "- **Число компонент** (связности) - колчиество подгрупп, где все акторы связаны напрямую или косвенно\n",
    "- **Диаметр** - наибольшая длина любого из кратчайших путей между всеми парами узлов\n",
    "- **Коэффициент кластеризации** - тенденция к созданию закрытых треугольников\n",
    "\n",
    "**Степень узла** - число прямых, инцидентных узлу (для ориетированных - входная и выходная степени): $d=deg(n_i)$\n",
    "\n",
    "**Средняя степень**: $\\bar{d}=\\frac{1}{g}\\sum_{i=1}^{g} d(n_i)$\n",
    "\n",
    "**Дисперсия степеней**: $S_D^2=\\frac{1}{g}\\sum_{i=1}^{g} (d(n_i)-\\bar{d})^2$\n",
    "\n",
    "**Силовые алгоритмы укладки сетей**:\n",
    "- Алгоритм Фрюхтермана–Рейнгольда (вершины - атомарные частицы или небесные тела, оказывающие друг на друга силы притяжения и отталкивания)\n",
    "- Алгоритм Камада–Каваи (настройка пружинной системы таким образом, чтобы минимизация энергии системы соответсвовала минимизации разницы между геометрическими и графовыми расстояниями)\n",
    "\n",
    "Актор считается *важным*, если связи актора делают его видимым для других участников сети.\n",
    "\n",
    "**Центральность** - мера, характеризующая актор с большим количеством связей (ненаправленный граф).\n",
    "\n",
    "**Престиж** - мера, характеризующая актор с большим количеством входящих связей (направленный граф).\n",
    "\n",
    "**Индекс централизации**: $C_A=\\frac{\\sum_{i=1}^{g}(C_A(n^\\star)-C_A(n_i))}{max\\sum_{i=1}^{g}(C_A(n^\\star)-C_A(n_i))}$\n",
    "\n",
    "**Меры центральности**:\n",
    "\n",
    "1) **Центральность по степени**: \n",
    "$C_D(n_i)=deg(n_i)$\n",
    "\n",
    "&nbsp;&nbsp;&nbsp;&nbsp;&nbsp;&nbsp;Нормированная центральность: $C_D'(n_i)=\\frac{deg(n_i)}{g-1}$\n",
    "\n",
    "&nbsp;&nbsp;&nbsp;&nbsp;&nbsp;&nbsp;Централизация: $C_D=\\frac{\\sum_{i=1}^{g}(C_D(n^\\star)-C_D(n_i))}{(g-1)(g-2)}$\n",
    "\n",
    "2) **Центральность по близости**:\n",
    "$C_C(n_i)=(\\sum_{j=1}^{g}d(n_i, n_j))^{-1}$\n",
    "\n",
    "&nbsp;&nbsp;&nbsp;&nbsp;&nbsp;&nbsp;Нормированная центральность: $C_C'(n_i)=\\frac{g-1}{\\sum_{j=1}^{g}d(n_i, n_j)}$\n",
    "\n",
    "&nbsp;&nbsp;&nbsp;&nbsp;&nbsp;&nbsp;Централизация: $C_C=\\frac{\\sum_{i=1}^{g}(C_C'(n^\\star)-C_C'(n_i))}{(g-1)(g-2)/(2g-3)}$\n",
    "\n",
    "3) **Центральность по посреднечеству**:\n",
    "$C_B(n_i)=\\sum_{j<k}\\frac{g_{jk}(n_i)}{g_{jk}}$\n",
    "\n",
    "&nbsp;&nbsp;&nbsp;&nbsp;&nbsp;&nbsp;$g_{jk}(n_i)$ - кол-во геодезических расстояний между узлами $j$ и $k$, которые включают $i$\n",
    "\n",
    "&nbsp;&nbsp;&nbsp;&nbsp;&nbsp;&nbsp;$g_{jk}$ - геодезическое расстояние между узлами $j$ и $k$\n",
    "\n",
    "&nbsp;&nbsp;&nbsp;&nbsp;&nbsp;&nbsp;Нормированная центральность: $C_B'(n_i)=\\frac{C_B(n_i)}{(_2^{g-1})}$\n",
    "\n",
    "&nbsp;&nbsp;&nbsp;&nbsp;&nbsp;&nbsp;Централизация: $C_B=\\frac{\\sum_{i=1}^{g}(C_B'(n^\\star)-C_B'(n_i))}{(g-1)}$\n",
    "\n",
    "4) **Центральность по инфорамции**:\n",
    "\n",
    "&nbsp;&nbsp;&nbsp;&nbsp;&nbsp;&nbsp;$A_{g\\times g}$, \n",
    "\n",
    "&nbsp;&nbsp;&nbsp;&nbsp;&nbsp;&nbsp;&nbsp;&nbsp;&nbsp;&nbsp;&nbsp;&nbsp;где $a_{ii}$ - это сумма всех линий, инцидентных с $n_i$ + 1\n",
    "\n",
    "&nbsp;&nbsp;&nbsp;&nbsp;&nbsp;&nbsp;&nbsp;&nbsp;&nbsp;&nbsp;&nbsp;&nbsp;$a_{ij}$ - это $1-x_{ij}$, если $n_i$ и $n_j$ инцидентны, $1$ иначе\n",
    "\n",
    "&nbsp;&nbsp;&nbsp;&nbsp;&nbsp;&nbsp;$C=A^{-1}$\n",
    "\n",
    "&nbsp;&nbsp;&nbsp;&nbsp;&nbsp;&nbsp;$C_I(n_i)=(C_{ii}+(trC-2\\sum_{j=1}^{g}C_{ij})/g)^{-1}$\n",
    "\n",
    "\n",
    "&nbsp;&nbsp;&nbsp;&nbsp;&nbsp;&nbsp;Нормированная центральность: $C_I'(n_i)=\\frac{C_I(n_i)}{\\sum_{j=1}^{g}C_I(n_j)}$\n",
    "\n",
    "&nbsp;&nbsp;&nbsp;&nbsp;&nbsp;&nbsp;Централизация: $C_I^2=\\frac{1}{g}\\sum_{i=1}^{g}(C_I'(n_i)-\\bar{C_I})^2$\n",
    "\n",
    "**Меры престижа**:\n",
    "\n",
    "1) **Престиж по степени**:\n",
    "$P_D(n_i)=d_in(n_i)=X_{+i}$\n",
    "\n",
    "&nbsp;&nbsp;&nbsp;&nbsp;&nbsp;&nbsp;Нормированный престиж: $P_D'(n_i)=\\frac{X_{+i}}{g-1}$\n",
    "\n",
    "2) **Престиж по близости**:\n",
    "$P_P(n_i)=\\frac{\\# l_i/g-1}{\\sum_{j:n_j \\ni l_i}d(n_j, n_i)/\\# l_i}$\n",
    "\n",
    "&nbsp;&nbsp;&nbsp;&nbsp;&nbsp;&nbsp;$l_i$ - область влияния $i$-го актора"
   ]
  },
  {
   "cell_type": "markdown",
   "metadata": {},
   "source": [
    "## Постановка задачи\n",
    "С помощью математических пакетов и соответствующих библиотек провести анализ заданных социальных сетей вычислить описательные характеристики. Полученные результаты содержательно проинтерпретировать."
   ]
  },
  {
   "cell_type": "markdown",
   "metadata": {},
   "source": [
    "## Выполнение работы"
   ]
  },
  {
   "cell_type": "markdown",
   "metadata": {},
   "source": [
    "№1. Из файла `florentine_marital.csv`(т.к. четный вариант) была извлечена социоматрица с помощью функции `read.csv`. Полученная социоматрица была выведена на экран."
   ]
  },
  {
   "cell_type": "code",
   "execution_count": 68,
   "metadata": {
    "vscode": {
     "languageId": "r"
    }
   },
   "outputs": [
    {
     "data": {
      "text/html": [
       "<table class=\"dataframe\">\n",
       "<caption>A matrix: 16 × 16 of type int</caption>\n",
       "<thead>\n",
       "\t<tr><th scope=col>Acciaiuoli</th><th scope=col>Albizzi</th><th scope=col>Barbadori</th><th scope=col>Bischeri</th><th scope=col>Castellani</th><th scope=col>Ginori</th><th scope=col>Guadagni</th><th scope=col>Lamberteschi</th><th scope=col>Medici</th><th scope=col>Pazzi</th><th scope=col>Peruzzi</th><th scope=col>Pucci</th><th scope=col>Ridolfi</th><th scope=col>Salviati</th><th scope=col>Strozzi</th><th scope=col>Tornabuoni</th></tr>\n",
       "</thead>\n",
       "<tbody>\n",
       "\t<tr><td>0</td><td>0</td><td>0</td><td>0</td><td>0</td><td>0</td><td>0</td><td>0</td><td>1</td><td>0</td><td>0</td><td>0</td><td>0</td><td>0</td><td>0</td><td>0</td></tr>\n",
       "\t<tr><td>0</td><td>0</td><td>0</td><td>0</td><td>0</td><td>1</td><td>1</td><td>0</td><td>1</td><td>0</td><td>0</td><td>0</td><td>0</td><td>0</td><td>0</td><td>0</td></tr>\n",
       "\t<tr><td>0</td><td>0</td><td>0</td><td>0</td><td>1</td><td>0</td><td>0</td><td>0</td><td>1</td><td>0</td><td>0</td><td>0</td><td>0</td><td>0</td><td>0</td><td>0</td></tr>\n",
       "\t<tr><td>0</td><td>0</td><td>0</td><td>0</td><td>0</td><td>0</td><td>1</td><td>0</td><td>0</td><td>0</td><td>1</td><td>0</td><td>0</td><td>0</td><td>1</td><td>0</td></tr>\n",
       "\t<tr><td>0</td><td>0</td><td>1</td><td>0</td><td>0</td><td>0</td><td>0</td><td>0</td><td>0</td><td>0</td><td>1</td><td>0</td><td>0</td><td>0</td><td>1</td><td>0</td></tr>\n",
       "\t<tr><td>0</td><td>1</td><td>0</td><td>0</td><td>0</td><td>0</td><td>0</td><td>0</td><td>0</td><td>0</td><td>0</td><td>0</td><td>0</td><td>0</td><td>0</td><td>0</td></tr>\n",
       "\t<tr><td>0</td><td>1</td><td>0</td><td>1</td><td>0</td><td>0</td><td>0</td><td>1</td><td>0</td><td>0</td><td>0</td><td>0</td><td>0</td><td>0</td><td>0</td><td>1</td></tr>\n",
       "\t<tr><td>0</td><td>0</td><td>0</td><td>0</td><td>0</td><td>0</td><td>1</td><td>0</td><td>0</td><td>0</td><td>0</td><td>0</td><td>0</td><td>0</td><td>0</td><td>0</td></tr>\n",
       "\t<tr><td>1</td><td>1</td><td>1</td><td>0</td><td>0</td><td>0</td><td>0</td><td>0</td><td>0</td><td>0</td><td>0</td><td>0</td><td>1</td><td>1</td><td>0</td><td>1</td></tr>\n",
       "\t<tr><td>0</td><td>0</td><td>0</td><td>0</td><td>0</td><td>0</td><td>0</td><td>0</td><td>0</td><td>0</td><td>0</td><td>0</td><td>0</td><td>1</td><td>0</td><td>0</td></tr>\n",
       "\t<tr><td>0</td><td>0</td><td>0</td><td>1</td><td>1</td><td>0</td><td>0</td><td>0</td><td>0</td><td>0</td><td>0</td><td>0</td><td>0</td><td>0</td><td>1</td><td>0</td></tr>\n",
       "\t<tr><td>0</td><td>0</td><td>0</td><td>0</td><td>0</td><td>0</td><td>0</td><td>0</td><td>0</td><td>0</td><td>0</td><td>0</td><td>0</td><td>0</td><td>0</td><td>0</td></tr>\n",
       "\t<tr><td>0</td><td>0</td><td>0</td><td>0</td><td>0</td><td>0</td><td>0</td><td>0</td><td>1</td><td>0</td><td>0</td><td>0</td><td>0</td><td>0</td><td>1</td><td>1</td></tr>\n",
       "\t<tr><td>0</td><td>0</td><td>0</td><td>0</td><td>0</td><td>0</td><td>0</td><td>0</td><td>1</td><td>1</td><td>0</td><td>0</td><td>0</td><td>0</td><td>0</td><td>0</td></tr>\n",
       "\t<tr><td>0</td><td>0</td><td>0</td><td>1</td><td>1</td><td>0</td><td>0</td><td>0</td><td>0</td><td>0</td><td>1</td><td>0</td><td>1</td><td>0</td><td>0</td><td>0</td></tr>\n",
       "\t<tr><td>0</td><td>0</td><td>0</td><td>0</td><td>0</td><td>0</td><td>1</td><td>0</td><td>1</td><td>0</td><td>0</td><td>0</td><td>1</td><td>0</td><td>0</td><td>0</td></tr>\n",
       "</tbody>\n",
       "</table>\n"
      ],
      "text/latex": [
       "A matrix: 16 × 16 of type int\n",
       "\\begin{tabular}{llllllllllllllll}\n",
       " Acciaiuoli & Albizzi & Barbadori & Bischeri & Castellani & Ginori & Guadagni & Lamberteschi & Medici & Pazzi & Peruzzi & Pucci & Ridolfi & Salviati & Strozzi & Tornabuoni\\\\\n",
       "\\hline\n",
       "\t 0 & 0 & 0 & 0 & 0 & 0 & 0 & 0 & 1 & 0 & 0 & 0 & 0 & 0 & 0 & 0\\\\\n",
       "\t 0 & 0 & 0 & 0 & 0 & 1 & 1 & 0 & 1 & 0 & 0 & 0 & 0 & 0 & 0 & 0\\\\\n",
       "\t 0 & 0 & 0 & 0 & 1 & 0 & 0 & 0 & 1 & 0 & 0 & 0 & 0 & 0 & 0 & 0\\\\\n",
       "\t 0 & 0 & 0 & 0 & 0 & 0 & 1 & 0 & 0 & 0 & 1 & 0 & 0 & 0 & 1 & 0\\\\\n",
       "\t 0 & 0 & 1 & 0 & 0 & 0 & 0 & 0 & 0 & 0 & 1 & 0 & 0 & 0 & 1 & 0\\\\\n",
       "\t 0 & 1 & 0 & 0 & 0 & 0 & 0 & 0 & 0 & 0 & 0 & 0 & 0 & 0 & 0 & 0\\\\\n",
       "\t 0 & 1 & 0 & 1 & 0 & 0 & 0 & 1 & 0 & 0 & 0 & 0 & 0 & 0 & 0 & 1\\\\\n",
       "\t 0 & 0 & 0 & 0 & 0 & 0 & 1 & 0 & 0 & 0 & 0 & 0 & 0 & 0 & 0 & 0\\\\\n",
       "\t 1 & 1 & 1 & 0 & 0 & 0 & 0 & 0 & 0 & 0 & 0 & 0 & 1 & 1 & 0 & 1\\\\\n",
       "\t 0 & 0 & 0 & 0 & 0 & 0 & 0 & 0 & 0 & 0 & 0 & 0 & 0 & 1 & 0 & 0\\\\\n",
       "\t 0 & 0 & 0 & 1 & 1 & 0 & 0 & 0 & 0 & 0 & 0 & 0 & 0 & 0 & 1 & 0\\\\\n",
       "\t 0 & 0 & 0 & 0 & 0 & 0 & 0 & 0 & 0 & 0 & 0 & 0 & 0 & 0 & 0 & 0\\\\\n",
       "\t 0 & 0 & 0 & 0 & 0 & 0 & 0 & 0 & 1 & 0 & 0 & 0 & 0 & 0 & 1 & 1\\\\\n",
       "\t 0 & 0 & 0 & 0 & 0 & 0 & 0 & 0 & 1 & 1 & 0 & 0 & 0 & 0 & 0 & 0\\\\\n",
       "\t 0 & 0 & 0 & 1 & 1 & 0 & 0 & 0 & 0 & 0 & 1 & 0 & 1 & 0 & 0 & 0\\\\\n",
       "\t 0 & 0 & 0 & 0 & 0 & 0 & 1 & 0 & 1 & 0 & 0 & 0 & 1 & 0 & 0 & 0\\\\\n",
       "\\end{tabular}\n"
      ],
      "text/markdown": [
       "\n",
       "A matrix: 16 × 16 of type int\n",
       "\n",
       "| Acciaiuoli | Albizzi | Barbadori | Bischeri | Castellani | Ginori | Guadagni | Lamberteschi | Medici | Pazzi | Peruzzi | Pucci | Ridolfi | Salviati | Strozzi | Tornabuoni |\n",
       "|---|---|---|---|---|---|---|---|---|---|---|---|---|---|---|---|\n",
       "| 0 | 0 | 0 | 0 | 0 | 0 | 0 | 0 | 1 | 0 | 0 | 0 | 0 | 0 | 0 | 0 |\n",
       "| 0 | 0 | 0 | 0 | 0 | 1 | 1 | 0 | 1 | 0 | 0 | 0 | 0 | 0 | 0 | 0 |\n",
       "| 0 | 0 | 0 | 0 | 1 | 0 | 0 | 0 | 1 | 0 | 0 | 0 | 0 | 0 | 0 | 0 |\n",
       "| 0 | 0 | 0 | 0 | 0 | 0 | 1 | 0 | 0 | 0 | 1 | 0 | 0 | 0 | 1 | 0 |\n",
       "| 0 | 0 | 1 | 0 | 0 | 0 | 0 | 0 | 0 | 0 | 1 | 0 | 0 | 0 | 1 | 0 |\n",
       "| 0 | 1 | 0 | 0 | 0 | 0 | 0 | 0 | 0 | 0 | 0 | 0 | 0 | 0 | 0 | 0 |\n",
       "| 0 | 1 | 0 | 1 | 0 | 0 | 0 | 1 | 0 | 0 | 0 | 0 | 0 | 0 | 0 | 1 |\n",
       "| 0 | 0 | 0 | 0 | 0 | 0 | 1 | 0 | 0 | 0 | 0 | 0 | 0 | 0 | 0 | 0 |\n",
       "| 1 | 1 | 1 | 0 | 0 | 0 | 0 | 0 | 0 | 0 | 0 | 0 | 1 | 1 | 0 | 1 |\n",
       "| 0 | 0 | 0 | 0 | 0 | 0 | 0 | 0 | 0 | 0 | 0 | 0 | 0 | 1 | 0 | 0 |\n",
       "| 0 | 0 | 0 | 1 | 1 | 0 | 0 | 0 | 0 | 0 | 0 | 0 | 0 | 0 | 1 | 0 |\n",
       "| 0 | 0 | 0 | 0 | 0 | 0 | 0 | 0 | 0 | 0 | 0 | 0 | 0 | 0 | 0 | 0 |\n",
       "| 0 | 0 | 0 | 0 | 0 | 0 | 0 | 0 | 1 | 0 | 0 | 0 | 0 | 0 | 1 | 1 |\n",
       "| 0 | 0 | 0 | 0 | 0 | 0 | 0 | 0 | 1 | 1 | 0 | 0 | 0 | 0 | 0 | 0 |\n",
       "| 0 | 0 | 0 | 1 | 1 | 0 | 0 | 0 | 0 | 0 | 1 | 0 | 1 | 0 | 0 | 0 |\n",
       "| 0 | 0 | 0 | 0 | 0 | 0 | 1 | 0 | 1 | 0 | 0 | 0 | 1 | 0 | 0 | 0 |\n",
       "\n"
      ],
      "text/plain": [
       "      Acciaiuoli Albizzi Barbadori Bischeri Castellani Ginori Guadagni\n",
       " [1,] 0          0       0         0        0          0      0       \n",
       " [2,] 0          0       0         0        0          1      1       \n",
       " [3,] 0          0       0         0        1          0      0       \n",
       " [4,] 0          0       0         0        0          0      1       \n",
       " [5,] 0          0       1         0        0          0      0       \n",
       " [6,] 0          1       0         0        0          0      0       \n",
       " [7,] 0          1       0         1        0          0      0       \n",
       " [8,] 0          0       0         0        0          0      1       \n",
       " [9,] 1          1       1         0        0          0      0       \n",
       "[10,] 0          0       0         0        0          0      0       \n",
       "[11,] 0          0       0         1        1          0      0       \n",
       "[12,] 0          0       0         0        0          0      0       \n",
       "[13,] 0          0       0         0        0          0      0       \n",
       "[14,] 0          0       0         0        0          0      0       \n",
       "[15,] 0          0       0         1        1          0      0       \n",
       "[16,] 0          0       0         0        0          0      1       \n",
       "      Lamberteschi Medici Pazzi Peruzzi Pucci Ridolfi Salviati Strozzi\n",
       " [1,] 0            1      0     0       0     0       0        0      \n",
       " [2,] 0            1      0     0       0     0       0        0      \n",
       " [3,] 0            1      0     0       0     0       0        0      \n",
       " [4,] 0            0      0     1       0     0       0        1      \n",
       " [5,] 0            0      0     1       0     0       0        1      \n",
       " [6,] 0            0      0     0       0     0       0        0      \n",
       " [7,] 1            0      0     0       0     0       0        0      \n",
       " [8,] 0            0      0     0       0     0       0        0      \n",
       " [9,] 0            0      0     0       0     1       1        0      \n",
       "[10,] 0            0      0     0       0     0       1        0      \n",
       "[11,] 0            0      0     0       0     0       0        1      \n",
       "[12,] 0            0      0     0       0     0       0        0      \n",
       "[13,] 0            1      0     0       0     0       0        1      \n",
       "[14,] 0            1      1     0       0     0       0        0      \n",
       "[15,] 0            0      0     1       0     1       0        0      \n",
       "[16,] 0            1      0     0       0     1       0        0      \n",
       "      Tornabuoni\n",
       " [1,] 0         \n",
       " [2,] 0         \n",
       " [3,] 0         \n",
       " [4,] 0         \n",
       " [5,] 0         \n",
       " [6,] 0         \n",
       " [7,] 1         \n",
       " [8,] 0         \n",
       " [9,] 1         \n",
       "[10,] 0         \n",
       "[11,] 0         \n",
       "[12,] 0         \n",
       "[13,] 1         \n",
       "[14,] 0         \n",
       "[15,] 0         \n",
       "[16,] 0         "
      ]
     },
     "metadata": {},
     "output_type": "display_data"
    }
   ],
   "source": [
    "smatrix<-as.matrix(read.csv(\"./florentine_marital.csv\", comment.char=\"#\"))\n",
    "smatrix"
   ]
  },
  {
   "cell_type": "markdown",
   "metadata": {},
   "source": [
    "№2. Социоматрица была преобразована в список рёбер. Были выведены первые пять элементов списка рёбер."
   ]
  },
  {
   "cell_type": "code",
   "execution_count": 69,
   "metadata": {
    "vscode": {
     "languageId": "r"
    }
   },
   "outputs": [
    {
     "data": {
      "text/html": [
       "<table class=\"dataframe\">\n",
       "<caption>A matrix: 5 × 2 of type int</caption>\n",
       "<tbody>\n",
       "\t<tr><td>1</td><td>9</td></tr>\n",
       "\t<tr><td>2</td><td>6</td></tr>\n",
       "\t<tr><td>2</td><td>7</td></tr>\n",
       "\t<tr><td>2</td><td>9</td></tr>\n",
       "\t<tr><td>3</td><td>5</td></tr>\n",
       "</tbody>\n",
       "</table>\n"
      ],
      "text/latex": [
       "A matrix: 5 × 2 of type int\n",
       "\\begin{tabular}{ll}\n",
       "\t 1 & 9\\\\\n",
       "\t 2 & 6\\\\\n",
       "\t 2 & 7\\\\\n",
       "\t 2 & 9\\\\\n",
       "\t 3 & 5\\\\\n",
       "\\end{tabular}\n"
      ],
      "text/markdown": [
       "\n",
       "A matrix: 5 × 2 of type int\n",
       "\n",
       "| 1 | 9 |\n",
       "| 2 | 6 |\n",
       "| 2 | 7 |\n",
       "| 2 | 9 |\n",
       "| 3 | 5 |\n",
       "\n"
      ],
      "text/plain": [
       "     [,1] [,2]\n",
       "[1,] 1    9   \n",
       "[2,] 2    6   \n",
       "[3,] 2    7   \n",
       "[4,] 2    9   \n",
       "[5,] 3    5   "
      ]
     },
     "metadata": {},
     "output_type": "display_data"
    }
   ],
   "source": [
    "library(statnet)\n",
    "net <- network(smatrix, matrix.type = \"adjacency\")\n",
    "head(as.edgelist(net), 5)"
   ]
  },
  {
   "cell_type": "markdown",
   "metadata": {},
   "source": [
    "№3. Были присвоены имена столбцам и строкам социоматрицы."
   ]
  },
  {
   "cell_type": "code",
   "execution_count": 70,
   "metadata": {
    "vscode": {
     "languageId": "r"
    }
   },
   "outputs": [
    {
     "data": {
      "text/html": [
       "<table class=\"dataframe\">\n",
       "<caption>A matrix: 16 × 16 of type int</caption>\n",
       "<thead>\n",
       "\t<tr><th></th><th scope=col>Acciaiuoli</th><th scope=col>Albizzi</th><th scope=col>Barbadori</th><th scope=col>Bischeri</th><th scope=col>Castellani</th><th scope=col>Ginori</th><th scope=col>Guadagni</th><th scope=col>Lamberteschi</th><th scope=col>Medici</th><th scope=col>Pazzi</th><th scope=col>Peruzzi</th><th scope=col>Pucci</th><th scope=col>Ridolfi</th><th scope=col>Salviati</th><th scope=col>Strozzi</th><th scope=col>Tornabuoni</th></tr>\n",
       "</thead>\n",
       "<tbody>\n",
       "\t<tr><th scope=row>Acciaiuoli</th><td>0</td><td>0</td><td>0</td><td>0</td><td>0</td><td>0</td><td>0</td><td>0</td><td>1</td><td>0</td><td>0</td><td>0</td><td>0</td><td>0</td><td>0</td><td>0</td></tr>\n",
       "\t<tr><th scope=row>Albizzi</th><td>0</td><td>0</td><td>0</td><td>0</td><td>0</td><td>1</td><td>1</td><td>0</td><td>1</td><td>0</td><td>0</td><td>0</td><td>0</td><td>0</td><td>0</td><td>0</td></tr>\n",
       "\t<tr><th scope=row>Barbadori</th><td>0</td><td>0</td><td>0</td><td>0</td><td>1</td><td>0</td><td>0</td><td>0</td><td>1</td><td>0</td><td>0</td><td>0</td><td>0</td><td>0</td><td>0</td><td>0</td></tr>\n",
       "\t<tr><th scope=row>Bischeri</th><td>0</td><td>0</td><td>0</td><td>0</td><td>0</td><td>0</td><td>1</td><td>0</td><td>0</td><td>0</td><td>1</td><td>0</td><td>0</td><td>0</td><td>1</td><td>0</td></tr>\n",
       "\t<tr><th scope=row>Castellani</th><td>0</td><td>0</td><td>1</td><td>0</td><td>0</td><td>0</td><td>0</td><td>0</td><td>0</td><td>0</td><td>1</td><td>0</td><td>0</td><td>0</td><td>1</td><td>0</td></tr>\n",
       "\t<tr><th scope=row>Ginori</th><td>0</td><td>1</td><td>0</td><td>0</td><td>0</td><td>0</td><td>0</td><td>0</td><td>0</td><td>0</td><td>0</td><td>0</td><td>0</td><td>0</td><td>0</td><td>0</td></tr>\n",
       "\t<tr><th scope=row>Guadagni</th><td>0</td><td>1</td><td>0</td><td>1</td><td>0</td><td>0</td><td>0</td><td>1</td><td>0</td><td>0</td><td>0</td><td>0</td><td>0</td><td>0</td><td>0</td><td>1</td></tr>\n",
       "\t<tr><th scope=row>Lamberteschi</th><td>0</td><td>0</td><td>0</td><td>0</td><td>0</td><td>0</td><td>1</td><td>0</td><td>0</td><td>0</td><td>0</td><td>0</td><td>0</td><td>0</td><td>0</td><td>0</td></tr>\n",
       "\t<tr><th scope=row>Medici</th><td>1</td><td>1</td><td>1</td><td>0</td><td>0</td><td>0</td><td>0</td><td>0</td><td>0</td><td>0</td><td>0</td><td>0</td><td>1</td><td>1</td><td>0</td><td>1</td></tr>\n",
       "\t<tr><th scope=row>Pazzi</th><td>0</td><td>0</td><td>0</td><td>0</td><td>0</td><td>0</td><td>0</td><td>0</td><td>0</td><td>0</td><td>0</td><td>0</td><td>0</td><td>1</td><td>0</td><td>0</td></tr>\n",
       "\t<tr><th scope=row>Peruzzi</th><td>0</td><td>0</td><td>0</td><td>1</td><td>1</td><td>0</td><td>0</td><td>0</td><td>0</td><td>0</td><td>0</td><td>0</td><td>0</td><td>0</td><td>1</td><td>0</td></tr>\n",
       "\t<tr><th scope=row>Pucci</th><td>0</td><td>0</td><td>0</td><td>0</td><td>0</td><td>0</td><td>0</td><td>0</td><td>0</td><td>0</td><td>0</td><td>0</td><td>0</td><td>0</td><td>0</td><td>0</td></tr>\n",
       "\t<tr><th scope=row>Ridolfi</th><td>0</td><td>0</td><td>0</td><td>0</td><td>0</td><td>0</td><td>0</td><td>0</td><td>1</td><td>0</td><td>0</td><td>0</td><td>0</td><td>0</td><td>1</td><td>1</td></tr>\n",
       "\t<tr><th scope=row>Salviati</th><td>0</td><td>0</td><td>0</td><td>0</td><td>0</td><td>0</td><td>0</td><td>0</td><td>1</td><td>1</td><td>0</td><td>0</td><td>0</td><td>0</td><td>0</td><td>0</td></tr>\n",
       "\t<tr><th scope=row>Strozzi</th><td>0</td><td>0</td><td>0</td><td>1</td><td>1</td><td>0</td><td>0</td><td>0</td><td>0</td><td>0</td><td>1</td><td>0</td><td>1</td><td>0</td><td>0</td><td>0</td></tr>\n",
       "\t<tr><th scope=row>Tornabuoni</th><td>0</td><td>0</td><td>0</td><td>0</td><td>0</td><td>0</td><td>1</td><td>0</td><td>1</td><td>0</td><td>0</td><td>0</td><td>1</td><td>0</td><td>0</td><td>0</td></tr>\n",
       "</tbody>\n",
       "</table>\n"
      ],
      "text/latex": [
       "A matrix: 16 × 16 of type int\n",
       "\\begin{tabular}{r|llllllllllllllll}\n",
       "  & Acciaiuoli & Albizzi & Barbadori & Bischeri & Castellani & Ginori & Guadagni & Lamberteschi & Medici & Pazzi & Peruzzi & Pucci & Ridolfi & Salviati & Strozzi & Tornabuoni\\\\\n",
       "\\hline\n",
       "\tAcciaiuoli & 0 & 0 & 0 & 0 & 0 & 0 & 0 & 0 & 1 & 0 & 0 & 0 & 0 & 0 & 0 & 0\\\\\n",
       "\tAlbizzi & 0 & 0 & 0 & 0 & 0 & 1 & 1 & 0 & 1 & 0 & 0 & 0 & 0 & 0 & 0 & 0\\\\\n",
       "\tBarbadori & 0 & 0 & 0 & 0 & 1 & 0 & 0 & 0 & 1 & 0 & 0 & 0 & 0 & 0 & 0 & 0\\\\\n",
       "\tBischeri & 0 & 0 & 0 & 0 & 0 & 0 & 1 & 0 & 0 & 0 & 1 & 0 & 0 & 0 & 1 & 0\\\\\n",
       "\tCastellani & 0 & 0 & 1 & 0 & 0 & 0 & 0 & 0 & 0 & 0 & 1 & 0 & 0 & 0 & 1 & 0\\\\\n",
       "\tGinori & 0 & 1 & 0 & 0 & 0 & 0 & 0 & 0 & 0 & 0 & 0 & 0 & 0 & 0 & 0 & 0\\\\\n",
       "\tGuadagni & 0 & 1 & 0 & 1 & 0 & 0 & 0 & 1 & 0 & 0 & 0 & 0 & 0 & 0 & 0 & 1\\\\\n",
       "\tLamberteschi & 0 & 0 & 0 & 0 & 0 & 0 & 1 & 0 & 0 & 0 & 0 & 0 & 0 & 0 & 0 & 0\\\\\n",
       "\tMedici & 1 & 1 & 1 & 0 & 0 & 0 & 0 & 0 & 0 & 0 & 0 & 0 & 1 & 1 & 0 & 1\\\\\n",
       "\tPazzi & 0 & 0 & 0 & 0 & 0 & 0 & 0 & 0 & 0 & 0 & 0 & 0 & 0 & 1 & 0 & 0\\\\\n",
       "\tPeruzzi & 0 & 0 & 0 & 1 & 1 & 0 & 0 & 0 & 0 & 0 & 0 & 0 & 0 & 0 & 1 & 0\\\\\n",
       "\tPucci & 0 & 0 & 0 & 0 & 0 & 0 & 0 & 0 & 0 & 0 & 0 & 0 & 0 & 0 & 0 & 0\\\\\n",
       "\tRidolfi & 0 & 0 & 0 & 0 & 0 & 0 & 0 & 0 & 1 & 0 & 0 & 0 & 0 & 0 & 1 & 1\\\\\n",
       "\tSalviati & 0 & 0 & 0 & 0 & 0 & 0 & 0 & 0 & 1 & 1 & 0 & 0 & 0 & 0 & 0 & 0\\\\\n",
       "\tStrozzi & 0 & 0 & 0 & 1 & 1 & 0 & 0 & 0 & 0 & 0 & 1 & 0 & 1 & 0 & 0 & 0\\\\\n",
       "\tTornabuoni & 0 & 0 & 0 & 0 & 0 & 0 & 1 & 0 & 1 & 0 & 0 & 0 & 1 & 0 & 0 & 0\\\\\n",
       "\\end{tabular}\n"
      ],
      "text/markdown": [
       "\n",
       "A matrix: 16 × 16 of type int\n",
       "\n",
       "| <!--/--> | Acciaiuoli | Albizzi | Barbadori | Bischeri | Castellani | Ginori | Guadagni | Lamberteschi | Medici | Pazzi | Peruzzi | Pucci | Ridolfi | Salviati | Strozzi | Tornabuoni |\n",
       "|---|---|---|---|---|---|---|---|---|---|---|---|---|---|---|---|---|\n",
       "| Acciaiuoli | 0 | 0 | 0 | 0 | 0 | 0 | 0 | 0 | 1 | 0 | 0 | 0 | 0 | 0 | 0 | 0 |\n",
       "| Albizzi | 0 | 0 | 0 | 0 | 0 | 1 | 1 | 0 | 1 | 0 | 0 | 0 | 0 | 0 | 0 | 0 |\n",
       "| Barbadori | 0 | 0 | 0 | 0 | 1 | 0 | 0 | 0 | 1 | 0 | 0 | 0 | 0 | 0 | 0 | 0 |\n",
       "| Bischeri | 0 | 0 | 0 | 0 | 0 | 0 | 1 | 0 | 0 | 0 | 1 | 0 | 0 | 0 | 1 | 0 |\n",
       "| Castellani | 0 | 0 | 1 | 0 | 0 | 0 | 0 | 0 | 0 | 0 | 1 | 0 | 0 | 0 | 1 | 0 |\n",
       "| Ginori | 0 | 1 | 0 | 0 | 0 | 0 | 0 | 0 | 0 | 0 | 0 | 0 | 0 | 0 | 0 | 0 |\n",
       "| Guadagni | 0 | 1 | 0 | 1 | 0 | 0 | 0 | 1 | 0 | 0 | 0 | 0 | 0 | 0 | 0 | 1 |\n",
       "| Lamberteschi | 0 | 0 | 0 | 0 | 0 | 0 | 1 | 0 | 0 | 0 | 0 | 0 | 0 | 0 | 0 | 0 |\n",
       "| Medici | 1 | 1 | 1 | 0 | 0 | 0 | 0 | 0 | 0 | 0 | 0 | 0 | 1 | 1 | 0 | 1 |\n",
       "| Pazzi | 0 | 0 | 0 | 0 | 0 | 0 | 0 | 0 | 0 | 0 | 0 | 0 | 0 | 1 | 0 | 0 |\n",
       "| Peruzzi | 0 | 0 | 0 | 1 | 1 | 0 | 0 | 0 | 0 | 0 | 0 | 0 | 0 | 0 | 1 | 0 |\n",
       "| Pucci | 0 | 0 | 0 | 0 | 0 | 0 | 0 | 0 | 0 | 0 | 0 | 0 | 0 | 0 | 0 | 0 |\n",
       "| Ridolfi | 0 | 0 | 0 | 0 | 0 | 0 | 0 | 0 | 1 | 0 | 0 | 0 | 0 | 0 | 1 | 1 |\n",
       "| Salviati | 0 | 0 | 0 | 0 | 0 | 0 | 0 | 0 | 1 | 1 | 0 | 0 | 0 | 0 | 0 | 0 |\n",
       "| Strozzi | 0 | 0 | 0 | 1 | 1 | 0 | 0 | 0 | 0 | 0 | 1 | 0 | 1 | 0 | 0 | 0 |\n",
       "| Tornabuoni | 0 | 0 | 0 | 0 | 0 | 0 | 1 | 0 | 1 | 0 | 0 | 0 | 1 | 0 | 0 | 0 |\n",
       "\n"
      ],
      "text/plain": [
       "             Acciaiuoli Albizzi Barbadori Bischeri Castellani Ginori Guadagni\n",
       "Acciaiuoli   0          0       0         0        0          0      0       \n",
       "Albizzi      0          0       0         0        0          1      1       \n",
       "Barbadori    0          0       0         0        1          0      0       \n",
       "Bischeri     0          0       0         0        0          0      1       \n",
       "Castellani   0          0       1         0        0          0      0       \n",
       "Ginori       0          1       0         0        0          0      0       \n",
       "Guadagni     0          1       0         1        0          0      0       \n",
       "Lamberteschi 0          0       0         0        0          0      1       \n",
       "Medici       1          1       1         0        0          0      0       \n",
       "Pazzi        0          0       0         0        0          0      0       \n",
       "Peruzzi      0          0       0         1        1          0      0       \n",
       "Pucci        0          0       0         0        0          0      0       \n",
       "Ridolfi      0          0       0         0        0          0      0       \n",
       "Salviati     0          0       0         0        0          0      0       \n",
       "Strozzi      0          0       0         1        1          0      0       \n",
       "Tornabuoni   0          0       0         0        0          0      1       \n",
       "             Lamberteschi Medici Pazzi Peruzzi Pucci Ridolfi Salviati Strozzi\n",
       "Acciaiuoli   0            1      0     0       0     0       0        0      \n",
       "Albizzi      0            1      0     0       0     0       0        0      \n",
       "Barbadori    0            1      0     0       0     0       0        0      \n",
       "Bischeri     0            0      0     1       0     0       0        1      \n",
       "Castellani   0            0      0     1       0     0       0        1      \n",
       "Ginori       0            0      0     0       0     0       0        0      \n",
       "Guadagni     1            0      0     0       0     0       0        0      \n",
       "Lamberteschi 0            0      0     0       0     0       0        0      \n",
       "Medici       0            0      0     0       0     1       1        0      \n",
       "Pazzi        0            0      0     0       0     0       1        0      \n",
       "Peruzzi      0            0      0     0       0     0       0        1      \n",
       "Pucci        0            0      0     0       0     0       0        0      \n",
       "Ridolfi      0            1      0     0       0     0       0        1      \n",
       "Salviati     0            1      1     0       0     0       0        0      \n",
       "Strozzi      0            0      0     1       0     1       0        0      \n",
       "Tornabuoni   0            1      0     0       0     1       0        0      \n",
       "             Tornabuoni\n",
       "Acciaiuoli   0         \n",
       "Albizzi      0         \n",
       "Barbadori    0         \n",
       "Bischeri     0         \n",
       "Castellani   0         \n",
       "Ginori       0         \n",
       "Guadagni     1         \n",
       "Lamberteschi 0         \n",
       "Medici       1         \n",
       "Pazzi        0         \n",
       "Peruzzi      0         \n",
       "Pucci        0         \n",
       "Ridolfi      1         \n",
       "Salviati     0         \n",
       "Strozzi      0         \n",
       "Tornabuoni   0         "
      ]
     },
     "metadata": {},
     "output_type": "display_data"
    }
   ],
   "source": [
    "rownames(smatrix) <- colnames(smatrix)\n",
    "smatrix"
   ]
  },
  {
   "cell_type": "markdown",
   "metadata": {},
   "source": [
    "№4. Была построена ненаправленная сеть по полученной социоматрице с помощью функции `network`, которая принимает нашу матрицу, тип этой матрицы и булевый параметр направленности сети `directed = FALSE`(сеть ненаправленная)."
   ]
  },
  {
   "cell_type": "code",
   "execution_count": 71,
   "metadata": {
    "vscode": {
     "languageId": "r"
    }
   },
   "outputs": [],
   "source": [
    "net <- network(smatrix, matrix.type = \"adjacency\", directed = FALSE)"
   ]
  },
  {
   "cell_type": "markdown",
   "metadata": {},
   "source": [
    "№5. Сеть была отображена с помощью алгоритмов укладки Фрюхтермана–Рейнгольда и Камада–Каваи. Идея алгоритма Фрюхтермана–Рейнгольда состоит в том, чтобы ввести силы притяжения и отталкивания для вершин. Идея алгоритма Камада–Каваи состоит в использовании пружинной системы с учётом геометрических и графических расстояний. Укладки зависят от определенного графа, однако в данной задаче укладки отличаются не так сильно."
   ]
  },
  {
   "cell_type": "code",
   "execution_count": 72,
   "metadata": {
    "vscode": {
     "languageId": "r"
    }
   },
   "outputs": [
    {
     "data": {
      "image/png": "[encoded data removed]",
      "text/plain": [
       "Plot with title \"Укладка Фрюхтермана–Рейнгольда\""
      ]
     },
     "metadata": {
      "image/png": {
       "height": 420,
       "width": 420
      }
     },
     "output_type": "display_data"
    },
    {
     "data": {
      "image/png": "[encoded data removed]",
      "text/plain": [
       "Plot with title \"Укладка  Камада–Каваи\""
      ]
     },
     "metadata": {
      "image/png": {
       "height": 420,
       "width": 420
      }
     },
     "output_type": "display_data"
    }
   ],
   "source": [
    "library(igraph)\n",
    "graph <- graph.adjacency(smatrix, mode=\"undirected\")\n",
    "plot(graph, layout=layout_with_fr(graph), main=\"Укладка Фрюхтермана–Рейнгольда\")\n",
    "plot(graph, layout=layout_with_kk(graph), main=\"Укладка  Камада–Каваи\")"
   ]
  },
  {
   "cell_type": "markdown",
   "metadata": {},
   "source": [
    "№6. Была выведена «описательная сводка» сети."
   ]
  },
  {
   "cell_type": "code",
   "execution_count": 73,
   "metadata": {
    "vscode": {
     "languageId": "r"
    }
   },
   "outputs": [
    {
     "data": {
      "text/plain": [
       "Network attributes:\n",
       "  vertices = 16\n",
       "  directed = FALSE\n",
       "  hyper = FALSE\n",
       "  loops = FALSE\n",
       "  multiple = FALSE\n",
       "  bipartite = FALSE\n",
       " total edges = 20 \n",
       "   missing edges = 0 \n",
       "   non-missing edges = 20 \n",
       " density = 0.1666667 \n",
       "\n",
       "Vertex attributes:\n",
       "  vertex.names:\n",
       "   character valued attribute\n",
       "   16 valid vertex names\n",
       "\n",
       "No edge attributes\n",
       "\n",
       "Network edgelist matrix:\n",
       "      [,1] [,2]\n",
       " [1,]    9    1\n",
       " [2,]    6    2\n",
       " [3,]    7    2\n",
       " [4,]    9    2\n",
       " [5,]    5    3\n",
       " [6,]    9    3\n",
       " [7,]    7    4\n",
       " [8,]   11    4\n",
       " [9,]   15    4\n",
       "[10,]   11    5\n",
       "[11,]   15    5\n",
       "[12,]    8    7\n",
       "[13,]   16    7\n",
       "[14,]   13    9\n",
       "[15,]   14    9\n",
       "[16,]   16    9\n",
       "[17,]   14   10\n",
       "[18,]   15   11\n",
       "[19,]   15   13\n",
       "[20,]   16   13"
      ]
     },
     "metadata": {},
     "output_type": "display_data"
    }
   ],
   "source": [
    "summary(net)"
   ]
  },
  {
   "cell_type": "markdown",
   "metadata": {},
   "source": [
    "№7. Была вычислена «пятичисловая сводка» сети. \n",
    "a). Был вычислен размер сети.\n",
    "b). Была вычислена вручную плотность сети: $\\varDelta = \\frac{L}{(_2^g)} = \\frac{20}{(_2^{16})} = \\frac{20*2}{15*16} = \\frac16 = .1666667$, которая совпала с плотностью, вычисленной с помощью функции `gden`.\n",
    "c). Было определено число комнонет сети по графику(по графику видно, что компоненты у графа две). С помощью функции `components` догадка подтвердилась.\n",
    "d). Был вычислен диаметр сети(получилось 5). Это значит, что максимальный из кратчайших путей между парами вершин равен 5.\n",
    "e). Был вычислен коэффициент кластеризации. Можно сделать вывод, что существует довольно небольшая вероятность того, что случайно выбранный треугольник в сети окажется закрытым(вероятность равна примерно 20%)."
   ]
  },
  {
   "cell_type": "code",
   "execution_count": 74,
   "metadata": {
    "vscode": {
     "languageId": "r"
    }
   },
   "outputs": [
    {
     "name": "stdout",
     "output_type": "stream",
     "text": [
      "Размер сети:  16 \n",
      "Плотность сети:  0.1666667 \n",
      "Число компонент:  2 \n",
      "Диаметр сети:  5 \n",
      "Коэффициент кластеризации:  0.1914894 \n"
     ]
    }
   ],
   "source": [
    "cat(\"Размер сети: \", gorder(graph), \"\\n\")\n",
    "cat(\"Плотность сети: \", gden(smatrix), \"\\n\")\n",
    "cat(\"Число компонент: \", components(graph)$no, \"\\n\")\n",
    "cat(\"Диаметр сети: \", diameter(graph), \"\\n\")\n",
    "cat(\"Коэффициент кластеризации: \", gtrans(smatrix), \"\\n\")"
   ]
  },
  {
   "cell_type": "markdown",
   "metadata": {},
   "source": [
    "№8. Была вычислена средняя степень узлов и дисперсия. Вывод: оказалось, что в среднем каждый актор в сети обладает прямой связью с двумя-тремя акторами, а по значению дисперсии можем сделать вывод о том, что в сети есть акторы, обладающие 0-1 связями, и акторы, обладающие 4-5 связями."
   ]
  },
  {
   "cell_type": "code",
   "execution_count": 75,
   "metadata": {
    "vscode": {
     "languageId": "r"
    }
   },
   "outputs": [
    {
     "name": "stdout",
     "output_type": "stream",
     "text": [
      "Средняя степень узлов:  2.5 \n",
      "Дисперсия:  2.266667 \n"
     ]
    }
   ],
   "source": [
    "cat(\"Средняя степень узлов: \", mean(degree(graph)), \"\\n\")\n",
    "cat(\"Дисперсия: \", var(degree(graph)), \"\\n\")"
   ]
  },
  {
   "cell_type": "markdown",
   "metadata": {},
   "source": [
    "№9. Была заполнена таблица для различных мер центральности. Вывод: оказалось, что самый важный актор - 9(по всем мерам центральности)."
   ]
  },
  {
   "cell_type": "code",
   "execution_count": 76,
   "metadata": {
    "vscode": {
     "languageId": "r"
    }
   },
   "outputs": [
    {
     "data": {
      "text/html": [
       "<table class=\"dataframe\">\n",
       "<caption>A data.frame: 15 × 5</caption>\n",
       "<thead>\n",
       "\t<tr><th></th><th scope=col>ni</th><th scope=col>CD</th><th scope=col>CC</th><th scope=col>CB</th><th scope=col>CI</th></tr>\n",
       "\t<tr><th></th><th scope=col>&lt;int&gt;</th><th scope=col>&lt;dbl&gt;</th><th scope=col>&lt;dbl&gt;</th><th scope=col>&lt;dbl&gt;</th><th scope=col>&lt;dbl&gt;</th></tr>\n",
       "</thead>\n",
       "<tbody>\n",
       "\t<tr><th scope=row>Acciaiuoli</th><td> 1</td><td>0.07142857</td><td>0.3684211</td><td>0.00000000</td><td>0.04943215</td></tr>\n",
       "\t<tr><th scope=row>Albizzi</th><td> 2</td><td>0.21428571</td><td>0.4827586</td><td>0.21245421</td><td>0.07408484</td></tr>\n",
       "\t<tr><th scope=row>Barbadori</th><td> 3</td><td>0.14285714</td><td>0.4375000</td><td>0.09340659</td><td>0.06816655</td></tr>\n",
       "\t<tr><th scope=row>Bischeri</th><td> 4</td><td>0.21428571</td><td>0.4000000</td><td>0.10439560</td><td>0.07427531</td></tr>\n",
       "\t<tr><th scope=row>Castellani</th><td> 5</td><td>0.21428571</td><td>0.3888889</td><td>0.05494505</td><td>0.07093098</td></tr>\n",
       "\t<tr><th scope=row>Ginori</th><td> 6</td><td>0.07142857</td><td>0.3333333</td><td>0.00000000</td><td>0.04309479</td></tr>\n",
       "\t<tr><th scope=row>Guadagni</th><td> 7</td><td>0.28571429</td><td>0.4666667</td><td>0.25457875</td><td>0.08190476</td></tr>\n",
       "\t<tr><th scope=row>Lamberteschi</th><td> 8</td><td>0.07142857</td><td>0.3255814</td><td>0.00000000</td><td>0.04562892</td></tr>\n",
       "\t<tr><th scope=row>Medici</th><td> 9</td><td>0.42857143</td><td>0.5600000</td><td>0.52197802</td><td>0.09502877</td></tr>\n",
       "\t<tr><th scope=row>Pazzi</th><td>10</td><td>0.07142857</td><td>0.2857143</td><td>0.00000000</td><td>0.03515798</td></tr>\n",
       "\t<tr><th scope=row>Peruzzi</th><td>11</td><td>0.21428571</td><td>0.3684211</td><td>0.02197802</td><td>0.06953773</td></tr>\n",
       "\t<tr><th scope=row>Ridolfi</th><td>13</td><td>0.21428571</td><td>0.5000000</td><td>0.11355311</td><td>0.08040678</td></tr>\n",
       "\t<tr><th scope=row>Salviati</th><td>14</td><td>0.14285714</td><td>0.3888889</td><td>0.14285714</td><td>0.05337198</td></tr>\n",
       "\t<tr><th scope=row>Strozzi</th><td>15</td><td>0.28571429</td><td>0.4375000</td><td>0.10256410</td><td>0.07841151</td></tr>\n",
       "\t<tr><th scope=row>Tornabuoni</th><td>16</td><td>0.21428571</td><td>0.4827586</td><td>0.09157509</td><td>0.08056694</td></tr>\n",
       "</tbody>\n",
       "</table>\n"
      ],
      "text/latex": [
       "A data.frame: 15 × 5\n",
       "\\begin{tabular}{r|lllll}\n",
       "  & ni & CD & CC & CB & CI\\\\\n",
       "  & <int> & <dbl> & <dbl> & <dbl> & <dbl>\\\\\n",
       "\\hline\n",
       "\tAcciaiuoli &  1 & 0.07142857 & 0.3684211 & 0.00000000 & 0.04943215\\\\\n",
       "\tAlbizzi &  2 & 0.21428571 & 0.4827586 & 0.21245421 & 0.07408484\\\\\n",
       "\tBarbadori &  3 & 0.14285714 & 0.4375000 & 0.09340659 & 0.06816655\\\\\n",
       "\tBischeri &  4 & 0.21428571 & 0.4000000 & 0.10439560 & 0.07427531\\\\\n",
       "\tCastellani &  5 & 0.21428571 & 0.3888889 & 0.05494505 & 0.07093098\\\\\n",
       "\tGinori &  6 & 0.07142857 & 0.3333333 & 0.00000000 & 0.04309479\\\\\n",
       "\tGuadagni &  7 & 0.28571429 & 0.4666667 & 0.25457875 & 0.08190476\\\\\n",
       "\tLamberteschi &  8 & 0.07142857 & 0.3255814 & 0.00000000 & 0.04562892\\\\\n",
       "\tMedici &  9 & 0.42857143 & 0.5600000 & 0.52197802 & 0.09502877\\\\\n",
       "\tPazzi & 10 & 0.07142857 & 0.2857143 & 0.00000000 & 0.03515798\\\\\n",
       "\tPeruzzi & 11 & 0.21428571 & 0.3684211 & 0.02197802 & 0.06953773\\\\\n",
       "\tRidolfi & 13 & 0.21428571 & 0.5000000 & 0.11355311 & 0.08040678\\\\\n",
       "\tSalviati & 14 & 0.14285714 & 0.3888889 & 0.14285714 & 0.05337198\\\\\n",
       "\tStrozzi & 15 & 0.28571429 & 0.4375000 & 0.10256410 & 0.07841151\\\\\n",
       "\tTornabuoni & 16 & 0.21428571 & 0.4827586 & 0.09157509 & 0.08056694\\\\\n",
       "\\end{tabular}\n"
      ],
      "text/markdown": [
       "\n",
       "A data.frame: 15 × 5\n",
       "\n",
       "| <!--/--> | ni &lt;int&gt; | CD &lt;dbl&gt; | CC &lt;dbl&gt; | CB &lt;dbl&gt; | CI &lt;dbl&gt; |\n",
       "|---|---|---|---|---|---|\n",
       "| Acciaiuoli |  1 | 0.07142857 | 0.3684211 | 0.00000000 | 0.04943215 |\n",
       "| Albizzi |  2 | 0.21428571 | 0.4827586 | 0.21245421 | 0.07408484 |\n",
       "| Barbadori |  3 | 0.14285714 | 0.4375000 | 0.09340659 | 0.06816655 |\n",
       "| Bischeri |  4 | 0.21428571 | 0.4000000 | 0.10439560 | 0.07427531 |\n",
       "| Castellani |  5 | 0.21428571 | 0.3888889 | 0.05494505 | 0.07093098 |\n",
       "| Ginori |  6 | 0.07142857 | 0.3333333 | 0.00000000 | 0.04309479 |\n",
       "| Guadagni |  7 | 0.28571429 | 0.4666667 | 0.25457875 | 0.08190476 |\n",
       "| Lamberteschi |  8 | 0.07142857 | 0.3255814 | 0.00000000 | 0.04562892 |\n",
       "| Medici |  9 | 0.42857143 | 0.5600000 | 0.52197802 | 0.09502877 |\n",
       "| Pazzi | 10 | 0.07142857 | 0.2857143 | 0.00000000 | 0.03515798 |\n",
       "| Peruzzi | 11 | 0.21428571 | 0.3684211 | 0.02197802 | 0.06953773 |\n",
       "| Ridolfi | 13 | 0.21428571 | 0.5000000 | 0.11355311 | 0.08040678 |\n",
       "| Salviati | 14 | 0.14285714 | 0.3888889 | 0.14285714 | 0.05337198 |\n",
       "| Strozzi | 15 | 0.28571429 | 0.4375000 | 0.10256410 | 0.07841151 |\n",
       "| Tornabuoni | 16 | 0.21428571 | 0.4827586 | 0.09157509 | 0.08056694 |\n",
       "\n"
      ],
      "text/plain": [
       "             ni CD         CC        CB         CI        \n",
       "Acciaiuoli    1 0.07142857 0.3684211 0.00000000 0.04943215\n",
       "Albizzi       2 0.21428571 0.4827586 0.21245421 0.07408484\n",
       "Barbadori     3 0.14285714 0.4375000 0.09340659 0.06816655\n",
       "Bischeri      4 0.21428571 0.4000000 0.10439560 0.07427531\n",
       "Castellani    5 0.21428571 0.3888889 0.05494505 0.07093098\n",
       "Ginori        6 0.07142857 0.3333333 0.00000000 0.04309479\n",
       "Guadagni      7 0.28571429 0.4666667 0.25457875 0.08190476\n",
       "Lamberteschi  8 0.07142857 0.3255814 0.00000000 0.04562892\n",
       "Medici        9 0.42857143 0.5600000 0.52197802 0.09502877\n",
       "Pazzi        10 0.07142857 0.2857143 0.00000000 0.03515798\n",
       "Peruzzi      11 0.21428571 0.3684211 0.02197802 0.06953773\n",
       "Ridolfi      13 0.21428571 0.5000000 0.11355311 0.08040678\n",
       "Salviati     14 0.14285714 0.3888889 0.14285714 0.05337198\n",
       "Strozzi      15 0.28571429 0.4375000 0.10256410 0.07841151\n",
       "Tornabuoni   16 0.21428571 0.4827586 0.09157509 0.08056694"
      ]
     },
     "metadata": {},
     "output_type": "display_data"
    }
   ],
   "source": [
    "net_cent <- network::delete.vertices(net, isolates(net))\n",
    "graph_cent <- delete.vertices(graph, which(degree(graph)==0))\n",
    "\n",
    "table <- data.frame(\n",
    "    ni = match(V(graph_cent)$name, V(graph)$name),\n",
    "    CD = degree(graph_cent, normalized = TRUE),\n",
    "    CC = closeness(graph_cent, normalized = TRUE),\n",
    "    CB = betweenness(graph_cent, normalized = TRUE),\n",
    "    CI = infocent(net_cent) / sum(infocent(net_cent))\n",
    ")\n",
    "table"
   ]
  },
  {
   "cell_type": "markdown",
   "metadata": {},
   "source": [
    "Сгенерированная и отформатированная таблица:\n",
    "\n",
    "| $n_i$ | $C_d'$ | $C_c'$ | $C_b'$ | $C_i'$ |\n",
    "|:------|:-------|:-------|:-------|:-------|\n",
    "|  1 | 0.07142857 | 0.3684211 | 0.00000000 | 0.04943215 |\n",
    "|  2 | 0.21428571 | 0.4827586 | 0.21245421 | 0.07408484 |\n",
    "|  3 | 0.14285714 | 0.4375000 | 0.09340659 | 0.06816655 |\n",
    "|  4 | 0.21428571 | 0.4000000 | 0.10439560 | 0.07427531 |\n",
    "|  5 | 0.21428571 | 0.3888889 | 0.05494505 | 0.07093098 |\n",
    "|  6 | 0.07142857 | 0.3333333 | 0.00000000 | 0.04309479 |\n",
    "|  7 | 0.28571429 | 0.4666667 | 0.25457875 | 0.08190476 |\n",
    "|  8 | 0.07142857 | 0.3255814 | 0.00000000 | 0.04562892 |\n",
    "|  9 | 0.42857143 | 0.5600000 | 0.52197802 | 0.09502877 |\n",
    "| 10 | 0.07142857 | 0.2857143 | 0.00000000 | 0.03515798 |\n",
    "| 11 | 0.21428571 | 0.3684211 | 0.02197802 | 0.06953773 |\n",
    "| 13 | 0.21428571 | 0.5000000 | 0.11355311 | 0.08040678 |\n",
    "| 14 | 0.14285714 | 0.3888889 | 0.14285714 | 0.05337198 |\n",
    "| 15 | 0.28571429 | 0.4375000 | 0.10256410 | 0.07841151 |\n",
    "| 16 | 0.21428571 | 0.4827586 | 0.09157509 | 0.08056694 |"
   ]
  },
  {
   "cell_type": "markdown",
   "metadata": {},
   "source": [
    "№10. Были вычислены значения централизации для каждой меры. Вывод: можно увидеть, что больше всего сеть централизована по посредничеству, а меньше всего по информации."
   ]
  },
  {
   "cell_type": "code",
   "execution_count": 77,
   "metadata": {
    "vscode": {
     "languageId": "r"
    }
   },
   "outputs": [
    {
     "name": "stdout",
     "output_type": "stream",
     "text": [
      "Централизация по степени:  0.2380952 \n",
      "Централизация по близости:  0.3224523 \n",
      "Централизация по посреднечеству:  0.4368132 \n",
      "Централизация по информации:  0.1832619 \n"
     ]
    }
   ],
   "source": [
    "cat(\"Централизация по степени: \", centr_degree(graph_cent)$centralization, \"\\n\")\n",
    "cat(\"Централизация по близости: \", centr_clo(graph_cent)$centralization, \"\\n\")\n",
    "cat(\"Централизация по посреднечеству: \", centr_betw(graph_cent)$centralization, \"\\n\")\n",
    "cat(\"Централизация по информации: \", centralization(net_cent, infocent), \"\\n\")"
   ]
  },
  {
   "cell_type": "markdown",
   "metadata": {},
   "source": [
    "№11.  Были выявлены точки сочленения и мосты в сети. На графике мосты изображены синим цветом, а зеленым изображены точки сочленения."
   ]
  },
  {
   "cell_type": "code",
   "execution_count": 78,
   "metadata": {
    "vscode": {
     "languageId": "r"
    }
   },
   "outputs": [
    {
     "data": {
      "image/png": "[encoded data removed]",
      "text/plain": [
       "Plot with title \"\""
      ]
     },
     "metadata": {
      "image/png": {
       "height": 420,
       "width": 420
      }
     },
     "output_type": "display_data"
    }
   ],
   "source": [
    "artic_points <- articulation_points(graph)\n",
    "bridges <- bridges(graph)\n",
    "plot(graph, edge.color = ifelse(E(graph) %in% bridges, \"blue\", \"green\"), vertex.color = ifelse(V(graph) %in% artic_points, \"blue\", \"green\"), \n",
    "    edge.width=5)"
   ]
  },
  {
   "cell_type": "markdown",
   "metadata": {},
   "source": [
    "№12.  Были выполнены действия из пп. 2-8 для направленной сети из файла `krackhardt_friendship.csv`."
   ]
  },
  {
   "cell_type": "markdown",
   "metadata": {},
   "source": [
    "- Из файла `krackhardt_friendship.csv`(т.к. четный вариант) была извлечена социоматрица с помощью функции `read.csv`. Полученная социоматрица была выведена на экран."
   ]
  },
  {
   "cell_type": "code",
   "execution_count": 79,
   "metadata": {
    "vscode": {
     "languageId": "r"
    }
   },
   "outputs": [
    {
     "data": {
      "text/html": [
       "<table class=\"dataframe\">\n",
       "<caption>A matrix: 21 × 21 of type int</caption>\n",
       "<thead>\n",
       "\t<tr><th scope=col>V1</th><th scope=col>V2</th><th scope=col>V3</th><th scope=col>V4</th><th scope=col>V5</th><th scope=col>V6</th><th scope=col>V7</th><th scope=col>V8</th><th scope=col>V9</th><th scope=col>V10</th><th scope=col>⋯</th><th scope=col>V12</th><th scope=col>V13</th><th scope=col>V14</th><th scope=col>V15</th><th scope=col>V16</th><th scope=col>V17</th><th scope=col>V18</th><th scope=col>V19</th><th scope=col>V20</th><th scope=col>V21</th></tr>\n",
       "</thead>\n",
       "<tbody>\n",
       "\t<tr><td>0</td><td>1</td><td>0</td><td>1</td><td>0</td><td>0</td><td>0</td><td>1</td><td>0</td><td>0</td><td>⋯</td><td>1</td><td>0</td><td>0</td><td>0</td><td>1</td><td>0</td><td>0</td><td>0</td><td>0</td><td>0</td></tr>\n",
       "\t<tr><td>1</td><td>0</td><td>0</td><td>0</td><td>0</td><td>0</td><td>0</td><td>0</td><td>0</td><td>0</td><td>⋯</td><td>0</td><td>0</td><td>0</td><td>0</td><td>0</td><td>0</td><td>1</td><td>0</td><td>0</td><td>1</td></tr>\n",
       "\t<tr><td>0</td><td>0</td><td>0</td><td>0</td><td>0</td><td>0</td><td>0</td><td>0</td><td>0</td><td>0</td><td>⋯</td><td>0</td><td>0</td><td>1</td><td>0</td><td>0</td><td>0</td><td>0</td><td>1</td><td>0</td><td>0</td></tr>\n",
       "\t<tr><td>1</td><td>1</td><td>0</td><td>0</td><td>0</td><td>0</td><td>0</td><td>1</td><td>0</td><td>0</td><td>⋯</td><td>1</td><td>0</td><td>0</td><td>0</td><td>1</td><td>1</td><td>0</td><td>0</td><td>0</td><td>0</td></tr>\n",
       "\t<tr><td>0</td><td>1</td><td>0</td><td>0</td><td>0</td><td>0</td><td>0</td><td>0</td><td>1</td><td>0</td><td>⋯</td><td>0</td><td>0</td><td>1</td><td>0</td><td>0</td><td>1</td><td>0</td><td>1</td><td>0</td><td>1</td></tr>\n",
       "\t<tr><td>0</td><td>1</td><td>0</td><td>0</td><td>0</td><td>0</td><td>1</td><td>0</td><td>1</td><td>0</td><td>⋯</td><td>1</td><td>0</td><td>0</td><td>0</td><td>0</td><td>1</td><td>0</td><td>0</td><td>0</td><td>1</td></tr>\n",
       "\t<tr><td>0</td><td>0</td><td>0</td><td>0</td><td>0</td><td>0</td><td>0</td><td>0</td><td>0</td><td>0</td><td>⋯</td><td>0</td><td>0</td><td>0</td><td>0</td><td>0</td><td>0</td><td>0</td><td>0</td><td>0</td><td>0</td></tr>\n",
       "\t<tr><td>0</td><td>0</td><td>0</td><td>1</td><td>0</td><td>0</td><td>0</td><td>0</td><td>0</td><td>0</td><td>⋯</td><td>0</td><td>0</td><td>0</td><td>0</td><td>0</td><td>0</td><td>0</td><td>0</td><td>0</td><td>0</td></tr>\n",
       "\t<tr><td>0</td><td>0</td><td>0</td><td>0</td><td>0</td><td>0</td><td>0</td><td>0</td><td>0</td><td>0</td><td>⋯</td><td>0</td><td>0</td><td>0</td><td>0</td><td>0</td><td>0</td><td>0</td><td>0</td><td>0</td><td>0</td></tr>\n",
       "\t<tr><td>0</td><td>0</td><td>1</td><td>0</td><td>1</td><td>0</td><td>0</td><td>1</td><td>1</td><td>0</td><td>⋯</td><td>1</td><td>0</td><td>0</td><td>0</td><td>1</td><td>0</td><td>0</td><td>0</td><td>1</td><td>0</td></tr>\n",
       "\t<tr><td>1</td><td>1</td><td>1</td><td>1</td><td>1</td><td>0</td><td>0</td><td>1</td><td>1</td><td>0</td><td>⋯</td><td>1</td><td>1</td><td>0</td><td>1</td><td>0</td><td>1</td><td>1</td><td>1</td><td>0</td><td>0</td></tr>\n",
       "\t<tr><td>1</td><td>0</td><td>0</td><td>1</td><td>0</td><td>0</td><td>0</td><td>0</td><td>0</td><td>0</td><td>⋯</td><td>0</td><td>0</td><td>0</td><td>0</td><td>0</td><td>1</td><td>0</td><td>0</td><td>0</td><td>1</td></tr>\n",
       "\t<tr><td>0</td><td>0</td><td>0</td><td>0</td><td>1</td><td>0</td><td>0</td><td>0</td><td>0</td><td>0</td><td>⋯</td><td>0</td><td>0</td><td>0</td><td>0</td><td>0</td><td>0</td><td>0</td><td>0</td><td>0</td><td>0</td></tr>\n",
       "\t<tr><td>0</td><td>0</td><td>0</td><td>0</td><td>0</td><td>0</td><td>1</td><td>0</td><td>0</td><td>0</td><td>⋯</td><td>0</td><td>0</td><td>0</td><td>1</td><td>0</td><td>0</td><td>0</td><td>0</td><td>0</td><td>0</td></tr>\n",
       "\t<tr><td>1</td><td>0</td><td>1</td><td>0</td><td>1</td><td>1</td><td>0</td><td>0</td><td>1</td><td>0</td><td>⋯</td><td>0</td><td>0</td><td>1</td><td>0</td><td>0</td><td>0</td><td>0</td><td>1</td><td>0</td><td>0</td></tr>\n",
       "\t<tr><td>1</td><td>1</td><td>0</td><td>0</td><td>0</td><td>0</td><td>0</td><td>0</td><td>0</td><td>0</td><td>⋯</td><td>0</td><td>0</td><td>0</td><td>0</td><td>0</td><td>0</td><td>0</td><td>0</td><td>0</td><td>0</td></tr>\n",
       "\t<tr><td>1</td><td>1</td><td>1</td><td>1</td><td>1</td><td>1</td><td>1</td><td>1</td><td>1</td><td>1</td><td>⋯</td><td>1</td><td>0</td><td>1</td><td>1</td><td>1</td><td>0</td><td>0</td><td>1</td><td>1</td><td>1</td></tr>\n",
       "\t<tr><td>0</td><td>1</td><td>0</td><td>0</td><td>0</td><td>0</td><td>0</td><td>0</td><td>0</td><td>0</td><td>⋯</td><td>0</td><td>0</td><td>0</td><td>0</td><td>0</td><td>0</td><td>0</td><td>0</td><td>0</td><td>0</td></tr>\n",
       "\t<tr><td>1</td><td>1</td><td>1</td><td>0</td><td>1</td><td>0</td><td>0</td><td>0</td><td>0</td><td>0</td><td>⋯</td><td>1</td><td>0</td><td>1</td><td>1</td><td>0</td><td>0</td><td>0</td><td>0</td><td>1</td><td>0</td></tr>\n",
       "\t<tr><td>0</td><td>0</td><td>0</td><td>0</td><td>0</td><td>0</td><td>0</td><td>0</td><td>0</td><td>0</td><td>⋯</td><td>0</td><td>0</td><td>0</td><td>0</td><td>0</td><td>0</td><td>1</td><td>0</td><td>0</td><td>0</td></tr>\n",
       "\t<tr><td>0</td><td>1</td><td>0</td><td>0</td><td>0</td><td>0</td><td>0</td><td>0</td><td>0</td><td>0</td><td>⋯</td><td>1</td><td>0</td><td>0</td><td>0</td><td>0</td><td>1</td><td>1</td><td>0</td><td>0</td><td>0</td></tr>\n",
       "</tbody>\n",
       "</table>\n"
      ],
      "text/latex": [
       "A matrix: 21 × 21 of type int\n",
       "\\begin{tabular}{lllllllllllllllllllll}\n",
       " V1 & V2 & V3 & V4 & V5 & V6 & V7 & V8 & V9 & V10 & ⋯ & V12 & V13 & V14 & V15 & V16 & V17 & V18 & V19 & V20 & V21\\\\\n",
       "\\hline\n",
       "\t 0 & 1 & 0 & 1 & 0 & 0 & 0 & 1 & 0 & 0 & ⋯ & 1 & 0 & 0 & 0 & 1 & 0 & 0 & 0 & 0 & 0\\\\\n",
       "\t 1 & 0 & 0 & 0 & 0 & 0 & 0 & 0 & 0 & 0 & ⋯ & 0 & 0 & 0 & 0 & 0 & 0 & 1 & 0 & 0 & 1\\\\\n",
       "\t 0 & 0 & 0 & 0 & 0 & 0 & 0 & 0 & 0 & 0 & ⋯ & 0 & 0 & 1 & 0 & 0 & 0 & 0 & 1 & 0 & 0\\\\\n",
       "\t 1 & 1 & 0 & 0 & 0 & 0 & 0 & 1 & 0 & 0 & ⋯ & 1 & 0 & 0 & 0 & 1 & 1 & 0 & 0 & 0 & 0\\\\\n",
       "\t 0 & 1 & 0 & 0 & 0 & 0 & 0 & 0 & 1 & 0 & ⋯ & 0 & 0 & 1 & 0 & 0 & 1 & 0 & 1 & 0 & 1\\\\\n",
       "\t 0 & 1 & 0 & 0 & 0 & 0 & 1 & 0 & 1 & 0 & ⋯ & 1 & 0 & 0 & 0 & 0 & 1 & 0 & 0 & 0 & 1\\\\\n",
       "\t 0 & 0 & 0 & 0 & 0 & 0 & 0 & 0 & 0 & 0 & ⋯ & 0 & 0 & 0 & 0 & 0 & 0 & 0 & 0 & 0 & 0\\\\\n",
       "\t 0 & 0 & 0 & 1 & 0 & 0 & 0 & 0 & 0 & 0 & ⋯ & 0 & 0 & 0 & 0 & 0 & 0 & 0 & 0 & 0 & 0\\\\\n",
       "\t 0 & 0 & 0 & 0 & 0 & 0 & 0 & 0 & 0 & 0 & ⋯ & 0 & 0 & 0 & 0 & 0 & 0 & 0 & 0 & 0 & 0\\\\\n",
       "\t 0 & 0 & 1 & 0 & 1 & 0 & 0 & 1 & 1 & 0 & ⋯ & 1 & 0 & 0 & 0 & 1 & 0 & 0 & 0 & 1 & 0\\\\\n",
       "\t 1 & 1 & 1 & 1 & 1 & 0 & 0 & 1 & 1 & 0 & ⋯ & 1 & 1 & 0 & 1 & 0 & 1 & 1 & 1 & 0 & 0\\\\\n",
       "\t 1 & 0 & 0 & 1 & 0 & 0 & 0 & 0 & 0 & 0 & ⋯ & 0 & 0 & 0 & 0 & 0 & 1 & 0 & 0 & 0 & 1\\\\\n",
       "\t 0 & 0 & 0 & 0 & 1 & 0 & 0 & 0 & 0 & 0 & ⋯ & 0 & 0 & 0 & 0 & 0 & 0 & 0 & 0 & 0 & 0\\\\\n",
       "\t 0 & 0 & 0 & 0 & 0 & 0 & 1 & 0 & 0 & 0 & ⋯ & 0 & 0 & 0 & 1 & 0 & 0 & 0 & 0 & 0 & 0\\\\\n",
       "\t 1 & 0 & 1 & 0 & 1 & 1 & 0 & 0 & 1 & 0 & ⋯ & 0 & 0 & 1 & 0 & 0 & 0 & 0 & 1 & 0 & 0\\\\\n",
       "\t 1 & 1 & 0 & 0 & 0 & 0 & 0 & 0 & 0 & 0 & ⋯ & 0 & 0 & 0 & 0 & 0 & 0 & 0 & 0 & 0 & 0\\\\\n",
       "\t 1 & 1 & 1 & 1 & 1 & 1 & 1 & 1 & 1 & 1 & ⋯ & 1 & 0 & 1 & 1 & 1 & 0 & 0 & 1 & 1 & 1\\\\\n",
       "\t 0 & 1 & 0 & 0 & 0 & 0 & 0 & 0 & 0 & 0 & ⋯ & 0 & 0 & 0 & 0 & 0 & 0 & 0 & 0 & 0 & 0\\\\\n",
       "\t 1 & 1 & 1 & 0 & 1 & 0 & 0 & 0 & 0 & 0 & ⋯ & 1 & 0 & 1 & 1 & 0 & 0 & 0 & 0 & 1 & 0\\\\\n",
       "\t 0 & 0 & 0 & 0 & 0 & 0 & 0 & 0 & 0 & 0 & ⋯ & 0 & 0 & 0 & 0 & 0 & 0 & 1 & 0 & 0 & 0\\\\\n",
       "\t 0 & 1 & 0 & 0 & 0 & 0 & 0 & 0 & 0 & 0 & ⋯ & 1 & 0 & 0 & 0 & 0 & 1 & 1 & 0 & 0 & 0\\\\\n",
       "\\end{tabular}\n"
      ],
      "text/markdown": [
       "\n",
       "A matrix: 21 × 21 of type int\n",
       "\n",
       "| V1 | V2 | V3 | V4 | V5 | V6 | V7 | V8 | V9 | V10 | ⋯ | V12 | V13 | V14 | V15 | V16 | V17 | V18 | V19 | V20 | V21 |\n",
       "|---|---|---|---|---|---|---|---|---|---|---|---|---|---|---|---|---|---|---|---|---|\n",
       "| 0 | 1 | 0 | 1 | 0 | 0 | 0 | 1 | 0 | 0 | ⋯ | 1 | 0 | 0 | 0 | 1 | 0 | 0 | 0 | 0 | 0 |\n",
       "| 1 | 0 | 0 | 0 | 0 | 0 | 0 | 0 | 0 | 0 | ⋯ | 0 | 0 | 0 | 0 | 0 | 0 | 1 | 0 | 0 | 1 |\n",
       "| 0 | 0 | 0 | 0 | 0 | 0 | 0 | 0 | 0 | 0 | ⋯ | 0 | 0 | 1 | 0 | 0 | 0 | 0 | 1 | 0 | 0 |\n",
       "| 1 | 1 | 0 | 0 | 0 | 0 | 0 | 1 | 0 | 0 | ⋯ | 1 | 0 | 0 | 0 | 1 | 1 | 0 | 0 | 0 | 0 |\n",
       "| 0 | 1 | 0 | 0 | 0 | 0 | 0 | 0 | 1 | 0 | ⋯ | 0 | 0 | 1 | 0 | 0 | 1 | 0 | 1 | 0 | 1 |\n",
       "| 0 | 1 | 0 | 0 | 0 | 0 | 1 | 0 | 1 | 0 | ⋯ | 1 | 0 | 0 | 0 | 0 | 1 | 0 | 0 | 0 | 1 |\n",
       "| 0 | 0 | 0 | 0 | 0 | 0 | 0 | 0 | 0 | 0 | ⋯ | 0 | 0 | 0 | 0 | 0 | 0 | 0 | 0 | 0 | 0 |\n",
       "| 0 | 0 | 0 | 1 | 0 | 0 | 0 | 0 | 0 | 0 | ⋯ | 0 | 0 | 0 | 0 | 0 | 0 | 0 | 0 | 0 | 0 |\n",
       "| 0 | 0 | 0 | 0 | 0 | 0 | 0 | 0 | 0 | 0 | ⋯ | 0 | 0 | 0 | 0 | 0 | 0 | 0 | 0 | 0 | 0 |\n",
       "| 0 | 0 | 1 | 0 | 1 | 0 | 0 | 1 | 1 | 0 | ⋯ | 1 | 0 | 0 | 0 | 1 | 0 | 0 | 0 | 1 | 0 |\n",
       "| 1 | 1 | 1 | 1 | 1 | 0 | 0 | 1 | 1 | 0 | ⋯ | 1 | 1 | 0 | 1 | 0 | 1 | 1 | 1 | 0 | 0 |\n",
       "| 1 | 0 | 0 | 1 | 0 | 0 | 0 | 0 | 0 | 0 | ⋯ | 0 | 0 | 0 | 0 | 0 | 1 | 0 | 0 | 0 | 1 |\n",
       "| 0 | 0 | 0 | 0 | 1 | 0 | 0 | 0 | 0 | 0 | ⋯ | 0 | 0 | 0 | 0 | 0 | 0 | 0 | 0 | 0 | 0 |\n",
       "| 0 | 0 | 0 | 0 | 0 | 0 | 1 | 0 | 0 | 0 | ⋯ | 0 | 0 | 0 | 1 | 0 | 0 | 0 | 0 | 0 | 0 |\n",
       "| 1 | 0 | 1 | 0 | 1 | 1 | 0 | 0 | 1 | 0 | ⋯ | 0 | 0 | 1 | 0 | 0 | 0 | 0 | 1 | 0 | 0 |\n",
       "| 1 | 1 | 0 | 0 | 0 | 0 | 0 | 0 | 0 | 0 | ⋯ | 0 | 0 | 0 | 0 | 0 | 0 | 0 | 0 | 0 | 0 |\n",
       "| 1 | 1 | 1 | 1 | 1 | 1 | 1 | 1 | 1 | 1 | ⋯ | 1 | 0 | 1 | 1 | 1 | 0 | 0 | 1 | 1 | 1 |\n",
       "| 0 | 1 | 0 | 0 | 0 | 0 | 0 | 0 | 0 | 0 | ⋯ | 0 | 0 | 0 | 0 | 0 | 0 | 0 | 0 | 0 | 0 |\n",
       "| 1 | 1 | 1 | 0 | 1 | 0 | 0 | 0 | 0 | 0 | ⋯ | 1 | 0 | 1 | 1 | 0 | 0 | 0 | 0 | 1 | 0 |\n",
       "| 0 | 0 | 0 | 0 | 0 | 0 | 0 | 0 | 0 | 0 | ⋯ | 0 | 0 | 0 | 0 | 0 | 0 | 1 | 0 | 0 | 0 |\n",
       "| 0 | 1 | 0 | 0 | 0 | 0 | 0 | 0 | 0 | 0 | ⋯ | 1 | 0 | 0 | 0 | 0 | 1 | 1 | 0 | 0 | 0 |\n",
       "\n"
      ],
      "text/plain": [
       "      V1 V2 V3 V4 V5 V6 V7 V8 V9 V10 ⋯ V12 V13 V14 V15 V16 V17 V18 V19 V20 V21\n",
       " [1,] 0  1  0  1  0  0  0  1  0  0   ⋯ 1   0   0   0   1   0   0   0   0   0  \n",
       " [2,] 1  0  0  0  0  0  0  0  0  0   ⋯ 0   0   0   0   0   0   1   0   0   1  \n",
       " [3,] 0  0  0  0  0  0  0  0  0  0   ⋯ 0   0   1   0   0   0   0   1   0   0  \n",
       " [4,] 1  1  0  0  0  0  0  1  0  0   ⋯ 1   0   0   0   1   1   0   0   0   0  \n",
       " [5,] 0  1  0  0  0  0  0  0  1  0   ⋯ 0   0   1   0   0   1   0   1   0   1  \n",
       " [6,] 0  1  0  0  0  0  1  0  1  0   ⋯ 1   0   0   0   0   1   0   0   0   1  \n",
       " [7,] 0  0  0  0  0  0  0  0  0  0   ⋯ 0   0   0   0   0   0   0   0   0   0  \n",
       " [8,] 0  0  0  1  0  0  0  0  0  0   ⋯ 0   0   0   0   0   0   0   0   0   0  \n",
       " [9,] 0  0  0  0  0  0  0  0  0  0   ⋯ 0   0   0   0   0   0   0   0   0   0  \n",
       "[10,] 0  0  1  0  1  0  0  1  1  0   ⋯ 1   0   0   0   1   0   0   0   1   0  \n",
       "[11,] 1  1  1  1  1  0  0  1  1  0   ⋯ 1   1   0   1   0   1   1   1   0   0  \n",
       "[12,] 1  0  0  1  0  0  0  0  0  0   ⋯ 0   0   0   0   0   1   0   0   0   1  \n",
       "[13,] 0  0  0  0  1  0  0  0  0  0   ⋯ 0   0   0   0   0   0   0   0   0   0  \n",
       "[14,] 0  0  0  0  0  0  1  0  0  0   ⋯ 0   0   0   1   0   0   0   0   0   0  \n",
       "[15,] 1  0  1  0  1  1  0  0  1  0   ⋯ 0   0   1   0   0   0   0   1   0   0  \n",
       "[16,] 1  1  0  0  0  0  0  0  0  0   ⋯ 0   0   0   0   0   0   0   0   0   0  \n",
       "[17,] 1  1  1  1  1  1  1  1  1  1   ⋯ 1   0   1   1   1   0   0   1   1   1  \n",
       "[18,] 0  1  0  0  0  0  0  0  0  0   ⋯ 0   0   0   0   0   0   0   0   0   0  \n",
       "[19,] 1  1  1  0  1  0  0  0  0  0   ⋯ 1   0   1   1   0   0   0   0   1   0  \n",
       "[20,] 0  0  0  0  0  0  0  0  0  0   ⋯ 0   0   0   0   0   0   1   0   0   0  \n",
       "[21,] 0  1  0  0  0  0  0  0  0  0   ⋯ 1   0   0   0   0   1   1   0   0   0  "
      ]
     },
     "metadata": {},
     "output_type": "display_data"
    }
   ],
   "source": [
    "smatrix_2<-as.matrix(read.csv(\"./krackhardt_friendship.csv\", comment.char=\"#\", header=FALSE))\n",
    "smatrix_2\n"
   ]
  },
  {
   "cell_type": "markdown",
   "metadata": {},
   "source": [
    "- Социоматрица была преобразована в список рёбер. Были выведены первые пять элементов списка рёбер."
   ]
  },
  {
   "cell_type": "code",
   "execution_count": 80,
   "metadata": {
    "vscode": {
     "languageId": "r"
    }
   },
   "outputs": [
    {
     "data": {
      "text/html": [
       "<table class=\"dataframe\">\n",
       "<caption>A matrix: 5 × 2 of type int</caption>\n",
       "<tbody>\n",
       "\t<tr><td>1</td><td> 2</td></tr>\n",
       "\t<tr><td>1</td><td> 4</td></tr>\n",
       "\t<tr><td>1</td><td> 8</td></tr>\n",
       "\t<tr><td>1</td><td>12</td></tr>\n",
       "\t<tr><td>1</td><td>16</td></tr>\n",
       "</tbody>\n",
       "</table>\n"
      ],
      "text/latex": [
       "A matrix: 5 × 2 of type int\n",
       "\\begin{tabular}{ll}\n",
       "\t 1 &  2\\\\\n",
       "\t 1 &  4\\\\\n",
       "\t 1 &  8\\\\\n",
       "\t 1 & 12\\\\\n",
       "\t 1 & 16\\\\\n",
       "\\end{tabular}\n"
      ],
      "text/markdown": [
       "\n",
       "A matrix: 5 × 2 of type int\n",
       "\n",
       "| 1 |  2 |\n",
       "| 1 |  4 |\n",
       "| 1 |  8 |\n",
       "| 1 | 12 |\n",
       "| 1 | 16 |\n",
       "\n"
      ],
      "text/plain": [
       "     [,1] [,2]\n",
       "[1,] 1     2  \n",
       "[2,] 1     4  \n",
       "[3,] 1     8  \n",
       "[4,] 1    12  \n",
       "[5,] 1    16  "
      ]
     },
     "metadata": {},
     "output_type": "display_data"
    }
   ],
   "source": [
    "net_2 <- network(smatrix_2, matrix.type = \"adjacency\")\n",
    "head(as.edgelist(net_2), 5)"
   ]
  },
  {
   "cell_type": "markdown",
   "metadata": {},
   "source": [
    "- Были присвоены имена столбцам и строкам социоматрицы."
   ]
  },
  {
   "cell_type": "code",
   "execution_count": 81,
   "metadata": {
    "vscode": {
     "languageId": "r"
    }
   },
   "outputs": [
    {
     "data": {
      "text/html": [
       "<table class=\"dataframe\">\n",
       "<caption>A matrix: 21 × 21 of type int</caption>\n",
       "<thead>\n",
       "\t<tr><th></th><th scope=col>V1</th><th scope=col>V2</th><th scope=col>V3</th><th scope=col>V4</th><th scope=col>V5</th><th scope=col>V6</th><th scope=col>V7</th><th scope=col>V8</th><th scope=col>V9</th><th scope=col>V10</th><th scope=col>⋯</th><th scope=col>V12</th><th scope=col>V13</th><th scope=col>V14</th><th scope=col>V15</th><th scope=col>V16</th><th scope=col>V17</th><th scope=col>V18</th><th scope=col>V19</th><th scope=col>V20</th><th scope=col>V21</th></tr>\n",
       "</thead>\n",
       "<tbody>\n",
       "\t<tr><th scope=row>V1</th><td>0</td><td>1</td><td>0</td><td>1</td><td>0</td><td>0</td><td>0</td><td>1</td><td>0</td><td>0</td><td>⋯</td><td>1</td><td>0</td><td>0</td><td>0</td><td>1</td><td>0</td><td>0</td><td>0</td><td>0</td><td>0</td></tr>\n",
       "\t<tr><th scope=row>V2</th><td>1</td><td>0</td><td>0</td><td>0</td><td>0</td><td>0</td><td>0</td><td>0</td><td>0</td><td>0</td><td>⋯</td><td>0</td><td>0</td><td>0</td><td>0</td><td>0</td><td>0</td><td>1</td><td>0</td><td>0</td><td>1</td></tr>\n",
       "\t<tr><th scope=row>V3</th><td>0</td><td>0</td><td>0</td><td>0</td><td>0</td><td>0</td><td>0</td><td>0</td><td>0</td><td>0</td><td>⋯</td><td>0</td><td>0</td><td>1</td><td>0</td><td>0</td><td>0</td><td>0</td><td>1</td><td>0</td><td>0</td></tr>\n",
       "\t<tr><th scope=row>V4</th><td>1</td><td>1</td><td>0</td><td>0</td><td>0</td><td>0</td><td>0</td><td>1</td><td>0</td><td>0</td><td>⋯</td><td>1</td><td>0</td><td>0</td><td>0</td><td>1</td><td>1</td><td>0</td><td>0</td><td>0</td><td>0</td></tr>\n",
       "\t<tr><th scope=row>V5</th><td>0</td><td>1</td><td>0</td><td>0</td><td>0</td><td>0</td><td>0</td><td>0</td><td>1</td><td>0</td><td>⋯</td><td>0</td><td>0</td><td>1</td><td>0</td><td>0</td><td>1</td><td>0</td><td>1</td><td>0</td><td>1</td></tr>\n",
       "\t<tr><th scope=row>V6</th><td>0</td><td>1</td><td>0</td><td>0</td><td>0</td><td>0</td><td>1</td><td>0</td><td>1</td><td>0</td><td>⋯</td><td>1</td><td>0</td><td>0</td><td>0</td><td>0</td><td>1</td><td>0</td><td>0</td><td>0</td><td>1</td></tr>\n",
       "\t<tr><th scope=row>V7</th><td>0</td><td>0</td><td>0</td><td>0</td><td>0</td><td>0</td><td>0</td><td>0</td><td>0</td><td>0</td><td>⋯</td><td>0</td><td>0</td><td>0</td><td>0</td><td>0</td><td>0</td><td>0</td><td>0</td><td>0</td><td>0</td></tr>\n",
       "\t<tr><th scope=row>V8</th><td>0</td><td>0</td><td>0</td><td>1</td><td>0</td><td>0</td><td>0</td><td>0</td><td>0</td><td>0</td><td>⋯</td><td>0</td><td>0</td><td>0</td><td>0</td><td>0</td><td>0</td><td>0</td><td>0</td><td>0</td><td>0</td></tr>\n",
       "\t<tr><th scope=row>V9</th><td>0</td><td>0</td><td>0</td><td>0</td><td>0</td><td>0</td><td>0</td><td>0</td><td>0</td><td>0</td><td>⋯</td><td>0</td><td>0</td><td>0</td><td>0</td><td>0</td><td>0</td><td>0</td><td>0</td><td>0</td><td>0</td></tr>\n",
       "\t<tr><th scope=row>V10</th><td>0</td><td>0</td><td>1</td><td>0</td><td>1</td><td>0</td><td>0</td><td>1</td><td>1</td><td>0</td><td>⋯</td><td>1</td><td>0</td><td>0</td><td>0</td><td>1</td><td>0</td><td>0</td><td>0</td><td>1</td><td>0</td></tr>\n",
       "\t<tr><th scope=row>V11</th><td>1</td><td>1</td><td>1</td><td>1</td><td>1</td><td>0</td><td>0</td><td>1</td><td>1</td><td>0</td><td>⋯</td><td>1</td><td>1</td><td>0</td><td>1</td><td>0</td><td>1</td><td>1</td><td>1</td><td>0</td><td>0</td></tr>\n",
       "\t<tr><th scope=row>V12</th><td>1</td><td>0</td><td>0</td><td>1</td><td>0</td><td>0</td><td>0</td><td>0</td><td>0</td><td>0</td><td>⋯</td><td>0</td><td>0</td><td>0</td><td>0</td><td>0</td><td>1</td><td>0</td><td>0</td><td>0</td><td>1</td></tr>\n",
       "\t<tr><th scope=row>V13</th><td>0</td><td>0</td><td>0</td><td>0</td><td>1</td><td>0</td><td>0</td><td>0</td><td>0</td><td>0</td><td>⋯</td><td>0</td><td>0</td><td>0</td><td>0</td><td>0</td><td>0</td><td>0</td><td>0</td><td>0</td><td>0</td></tr>\n",
       "\t<tr><th scope=row>V14</th><td>0</td><td>0</td><td>0</td><td>0</td><td>0</td><td>0</td><td>1</td><td>0</td><td>0</td><td>0</td><td>⋯</td><td>0</td><td>0</td><td>0</td><td>1</td><td>0</td><td>0</td><td>0</td><td>0</td><td>0</td><td>0</td></tr>\n",
       "\t<tr><th scope=row>V15</th><td>1</td><td>0</td><td>1</td><td>0</td><td>1</td><td>1</td><td>0</td><td>0</td><td>1</td><td>0</td><td>⋯</td><td>0</td><td>0</td><td>1</td><td>0</td><td>0</td><td>0</td><td>0</td><td>1</td><td>0</td><td>0</td></tr>\n",
       "\t<tr><th scope=row>V16</th><td>1</td><td>1</td><td>0</td><td>0</td><td>0</td><td>0</td><td>0</td><td>0</td><td>0</td><td>0</td><td>⋯</td><td>0</td><td>0</td><td>0</td><td>0</td><td>0</td><td>0</td><td>0</td><td>0</td><td>0</td><td>0</td></tr>\n",
       "\t<tr><th scope=row>V17</th><td>1</td><td>1</td><td>1</td><td>1</td><td>1</td><td>1</td><td>1</td><td>1</td><td>1</td><td>1</td><td>⋯</td><td>1</td><td>0</td><td>1</td><td>1</td><td>1</td><td>0</td><td>0</td><td>1</td><td>1</td><td>1</td></tr>\n",
       "\t<tr><th scope=row>V18</th><td>0</td><td>1</td><td>0</td><td>0</td><td>0</td><td>0</td><td>0</td><td>0</td><td>0</td><td>0</td><td>⋯</td><td>0</td><td>0</td><td>0</td><td>0</td><td>0</td><td>0</td><td>0</td><td>0</td><td>0</td><td>0</td></tr>\n",
       "\t<tr><th scope=row>V19</th><td>1</td><td>1</td><td>1</td><td>0</td><td>1</td><td>0</td><td>0</td><td>0</td><td>0</td><td>0</td><td>⋯</td><td>1</td><td>0</td><td>1</td><td>1</td><td>0</td><td>0</td><td>0</td><td>0</td><td>1</td><td>0</td></tr>\n",
       "\t<tr><th scope=row>V20</th><td>0</td><td>0</td><td>0</td><td>0</td><td>0</td><td>0</td><td>0</td><td>0</td><td>0</td><td>0</td><td>⋯</td><td>0</td><td>0</td><td>0</td><td>0</td><td>0</td><td>0</td><td>1</td><td>0</td><td>0</td><td>0</td></tr>\n",
       "\t<tr><th scope=row>V21</th><td>0</td><td>1</td><td>0</td><td>0</td><td>0</td><td>0</td><td>0</td><td>0</td><td>0</td><td>0</td><td>⋯</td><td>1</td><td>0</td><td>0</td><td>0</td><td>0</td><td>1</td><td>1</td><td>0</td><td>0</td><td>0</td></tr>\n",
       "</tbody>\n",
       "</table>\n"
      ],
      "text/latex": [
       "A matrix: 21 × 21 of type int\n",
       "\\begin{tabular}{r|lllllllllllllllllllll}\n",
       "  & V1 & V2 & V3 & V4 & V5 & V6 & V7 & V8 & V9 & V10 & ⋯ & V12 & V13 & V14 & V15 & V16 & V17 & V18 & V19 & V20 & V21\\\\\n",
       "\\hline\n",
       "\tV1 & 0 & 1 & 0 & 1 & 0 & 0 & 0 & 1 & 0 & 0 & ⋯ & 1 & 0 & 0 & 0 & 1 & 0 & 0 & 0 & 0 & 0\\\\\n",
       "\tV2 & 1 & 0 & 0 & 0 & 0 & 0 & 0 & 0 & 0 & 0 & ⋯ & 0 & 0 & 0 & 0 & 0 & 0 & 1 & 0 & 0 & 1\\\\\n",
       "\tV3 & 0 & 0 & 0 & 0 & 0 & 0 & 0 & 0 & 0 & 0 & ⋯ & 0 & 0 & 1 & 0 & 0 & 0 & 0 & 1 & 0 & 0\\\\\n",
       "\tV4 & 1 & 1 & 0 & 0 & 0 & 0 & 0 & 1 & 0 & 0 & ⋯ & 1 & 0 & 0 & 0 & 1 & 1 & 0 & 0 & 0 & 0\\\\\n",
       "\tV5 & 0 & 1 & 0 & 0 & 0 & 0 & 0 & 0 & 1 & 0 & ⋯ & 0 & 0 & 1 & 0 & 0 & 1 & 0 & 1 & 0 & 1\\\\\n",
       "\tV6 & 0 & 1 & 0 & 0 & 0 & 0 & 1 & 0 & 1 & 0 & ⋯ & 1 & 0 & 0 & 0 & 0 & 1 & 0 & 0 & 0 & 1\\\\\n",
       "\tV7 & 0 & 0 & 0 & 0 & 0 & 0 & 0 & 0 & 0 & 0 & ⋯ & 0 & 0 & 0 & 0 & 0 & 0 & 0 & 0 & 0 & 0\\\\\n",
       "\tV8 & 0 & 0 & 0 & 1 & 0 & 0 & 0 & 0 & 0 & 0 & ⋯ & 0 & 0 & 0 & 0 & 0 & 0 & 0 & 0 & 0 & 0\\\\\n",
       "\tV9 & 0 & 0 & 0 & 0 & 0 & 0 & 0 & 0 & 0 & 0 & ⋯ & 0 & 0 & 0 & 0 & 0 & 0 & 0 & 0 & 0 & 0\\\\\n",
       "\tV10 & 0 & 0 & 1 & 0 & 1 & 0 & 0 & 1 & 1 & 0 & ⋯ & 1 & 0 & 0 & 0 & 1 & 0 & 0 & 0 & 1 & 0\\\\\n",
       "\tV11 & 1 & 1 & 1 & 1 & 1 & 0 & 0 & 1 & 1 & 0 & ⋯ & 1 & 1 & 0 & 1 & 0 & 1 & 1 & 1 & 0 & 0\\\\\n",
       "\tV12 & 1 & 0 & 0 & 1 & 0 & 0 & 0 & 0 & 0 & 0 & ⋯ & 0 & 0 & 0 & 0 & 0 & 1 & 0 & 0 & 0 & 1\\\\\n",
       "\tV13 & 0 & 0 & 0 & 0 & 1 & 0 & 0 & 0 & 0 & 0 & ⋯ & 0 & 0 & 0 & 0 & 0 & 0 & 0 & 0 & 0 & 0\\\\\n",
       "\tV14 & 0 & 0 & 0 & 0 & 0 & 0 & 1 & 0 & 0 & 0 & ⋯ & 0 & 0 & 0 & 1 & 0 & 0 & 0 & 0 & 0 & 0\\\\\n",
       "\tV15 & 1 & 0 & 1 & 0 & 1 & 1 & 0 & 0 & 1 & 0 & ⋯ & 0 & 0 & 1 & 0 & 0 & 0 & 0 & 1 & 0 & 0\\\\\n",
       "\tV16 & 1 & 1 & 0 & 0 & 0 & 0 & 0 & 0 & 0 & 0 & ⋯ & 0 & 0 & 0 & 0 & 0 & 0 & 0 & 0 & 0 & 0\\\\\n",
       "\tV17 & 1 & 1 & 1 & 1 & 1 & 1 & 1 & 1 & 1 & 1 & ⋯ & 1 & 0 & 1 & 1 & 1 & 0 & 0 & 1 & 1 & 1\\\\\n",
       "\tV18 & 0 & 1 & 0 & 0 & 0 & 0 & 0 & 0 & 0 & 0 & ⋯ & 0 & 0 & 0 & 0 & 0 & 0 & 0 & 0 & 0 & 0\\\\\n",
       "\tV19 & 1 & 1 & 1 & 0 & 1 & 0 & 0 & 0 & 0 & 0 & ⋯ & 1 & 0 & 1 & 1 & 0 & 0 & 0 & 0 & 1 & 0\\\\\n",
       "\tV20 & 0 & 0 & 0 & 0 & 0 & 0 & 0 & 0 & 0 & 0 & ⋯ & 0 & 0 & 0 & 0 & 0 & 0 & 1 & 0 & 0 & 0\\\\\n",
       "\tV21 & 0 & 1 & 0 & 0 & 0 & 0 & 0 & 0 & 0 & 0 & ⋯ & 1 & 0 & 0 & 0 & 0 & 1 & 1 & 0 & 0 & 0\\\\\n",
       "\\end{tabular}\n"
      ],
      "text/markdown": [
       "\n",
       "A matrix: 21 × 21 of type int\n",
       "\n",
       "| <!--/--> | V1 | V2 | V3 | V4 | V5 | V6 | V7 | V8 | V9 | V10 | ⋯ | V12 | V13 | V14 | V15 | V16 | V17 | V18 | V19 | V20 | V21 |\n",
       "|---|---|---|---|---|---|---|---|---|---|---|---|---|---|---|---|---|---|---|---|---|---|\n",
       "| V1 | 0 | 1 | 0 | 1 | 0 | 0 | 0 | 1 | 0 | 0 | ⋯ | 1 | 0 | 0 | 0 | 1 | 0 | 0 | 0 | 0 | 0 |\n",
       "| V2 | 1 | 0 | 0 | 0 | 0 | 0 | 0 | 0 | 0 | 0 | ⋯ | 0 | 0 | 0 | 0 | 0 | 0 | 1 | 0 | 0 | 1 |\n",
       "| V3 | 0 | 0 | 0 | 0 | 0 | 0 | 0 | 0 | 0 | 0 | ⋯ | 0 | 0 | 1 | 0 | 0 | 0 | 0 | 1 | 0 | 0 |\n",
       "| V4 | 1 | 1 | 0 | 0 | 0 | 0 | 0 | 1 | 0 | 0 | ⋯ | 1 | 0 | 0 | 0 | 1 | 1 | 0 | 0 | 0 | 0 |\n",
       "| V5 | 0 | 1 | 0 | 0 | 0 | 0 | 0 | 0 | 1 | 0 | ⋯ | 0 | 0 | 1 | 0 | 0 | 1 | 0 | 1 | 0 | 1 |\n",
       "| V6 | 0 | 1 | 0 | 0 | 0 | 0 | 1 | 0 | 1 | 0 | ⋯ | 1 | 0 | 0 | 0 | 0 | 1 | 0 | 0 | 0 | 1 |\n",
       "| V7 | 0 | 0 | 0 | 0 | 0 | 0 | 0 | 0 | 0 | 0 | ⋯ | 0 | 0 | 0 | 0 | 0 | 0 | 0 | 0 | 0 | 0 |\n",
       "| V8 | 0 | 0 | 0 | 1 | 0 | 0 | 0 | 0 | 0 | 0 | ⋯ | 0 | 0 | 0 | 0 | 0 | 0 | 0 | 0 | 0 | 0 |\n",
       "| V9 | 0 | 0 | 0 | 0 | 0 | 0 | 0 | 0 | 0 | 0 | ⋯ | 0 | 0 | 0 | 0 | 0 | 0 | 0 | 0 | 0 | 0 |\n",
       "| V10 | 0 | 0 | 1 | 0 | 1 | 0 | 0 | 1 | 1 | 0 | ⋯ | 1 | 0 | 0 | 0 | 1 | 0 | 0 | 0 | 1 | 0 |\n",
       "| V11 | 1 | 1 | 1 | 1 | 1 | 0 | 0 | 1 | 1 | 0 | ⋯ | 1 | 1 | 0 | 1 | 0 | 1 | 1 | 1 | 0 | 0 |\n",
       "| V12 | 1 | 0 | 0 | 1 | 0 | 0 | 0 | 0 | 0 | 0 | ⋯ | 0 | 0 | 0 | 0 | 0 | 1 | 0 | 0 | 0 | 1 |\n",
       "| V13 | 0 | 0 | 0 | 0 | 1 | 0 | 0 | 0 | 0 | 0 | ⋯ | 0 | 0 | 0 | 0 | 0 | 0 | 0 | 0 | 0 | 0 |\n",
       "| V14 | 0 | 0 | 0 | 0 | 0 | 0 | 1 | 0 | 0 | 0 | ⋯ | 0 | 0 | 0 | 1 | 0 | 0 | 0 | 0 | 0 | 0 |\n",
       "| V15 | 1 | 0 | 1 | 0 | 1 | 1 | 0 | 0 | 1 | 0 | ⋯ | 0 | 0 | 1 | 0 | 0 | 0 | 0 | 1 | 0 | 0 |\n",
       "| V16 | 1 | 1 | 0 | 0 | 0 | 0 | 0 | 0 | 0 | 0 | ⋯ | 0 | 0 | 0 | 0 | 0 | 0 | 0 | 0 | 0 | 0 |\n",
       "| V17 | 1 | 1 | 1 | 1 | 1 | 1 | 1 | 1 | 1 | 1 | ⋯ | 1 | 0 | 1 | 1 | 1 | 0 | 0 | 1 | 1 | 1 |\n",
       "| V18 | 0 | 1 | 0 | 0 | 0 | 0 | 0 | 0 | 0 | 0 | ⋯ | 0 | 0 | 0 | 0 | 0 | 0 | 0 | 0 | 0 | 0 |\n",
       "| V19 | 1 | 1 | 1 | 0 | 1 | 0 | 0 | 0 | 0 | 0 | ⋯ | 1 | 0 | 1 | 1 | 0 | 0 | 0 | 0 | 1 | 0 |\n",
       "| V20 | 0 | 0 | 0 | 0 | 0 | 0 | 0 | 0 | 0 | 0 | ⋯ | 0 | 0 | 0 | 0 | 0 | 0 | 1 | 0 | 0 | 0 |\n",
       "| V21 | 0 | 1 | 0 | 0 | 0 | 0 | 0 | 0 | 0 | 0 | ⋯ | 1 | 0 | 0 | 0 | 0 | 1 | 1 | 0 | 0 | 0 |\n",
       "\n"
      ],
      "text/plain": [
       "    V1 V2 V3 V4 V5 V6 V7 V8 V9 V10 ⋯ V12 V13 V14 V15 V16 V17 V18 V19 V20 V21\n",
       "V1  0  1  0  1  0  0  0  1  0  0   ⋯ 1   0   0   0   1   0   0   0   0   0  \n",
       "V2  1  0  0  0  0  0  0  0  0  0   ⋯ 0   0   0   0   0   0   1   0   0   1  \n",
       "V3  0  0  0  0  0  0  0  0  0  0   ⋯ 0   0   1   0   0   0   0   1   0   0  \n",
       "V4  1  1  0  0  0  0  0  1  0  0   ⋯ 1   0   0   0   1   1   0   0   0   0  \n",
       "V5  0  1  0  0  0  0  0  0  1  0   ⋯ 0   0   1   0   0   1   0   1   0   1  \n",
       "V6  0  1  0  0  0  0  1  0  1  0   ⋯ 1   0   0   0   0   1   0   0   0   1  \n",
       "V7  0  0  0  0  0  0  0  0  0  0   ⋯ 0   0   0   0   0   0   0   0   0   0  \n",
       "V8  0  0  0  1  0  0  0  0  0  0   ⋯ 0   0   0   0   0   0   0   0   0   0  \n",
       "V9  0  0  0  0  0  0  0  0  0  0   ⋯ 0   0   0   0   0   0   0   0   0   0  \n",
       "V10 0  0  1  0  1  0  0  1  1  0   ⋯ 1   0   0   0   1   0   0   0   1   0  \n",
       "V11 1  1  1  1  1  0  0  1  1  0   ⋯ 1   1   0   1   0   1   1   1   0   0  \n",
       "V12 1  0  0  1  0  0  0  0  0  0   ⋯ 0   0   0   0   0   1   0   0   0   1  \n",
       "V13 0  0  0  0  1  0  0  0  0  0   ⋯ 0   0   0   0   0   0   0   0   0   0  \n",
       "V14 0  0  0  0  0  0  1  0  0  0   ⋯ 0   0   0   1   0   0   0   0   0   0  \n",
       "V15 1  0  1  0  1  1  0  0  1  0   ⋯ 0   0   1   0   0   0   0   1   0   0  \n",
       "V16 1  1  0  0  0  0  0  0  0  0   ⋯ 0   0   0   0   0   0   0   0   0   0  \n",
       "V17 1  1  1  1  1  1  1  1  1  1   ⋯ 1   0   1   1   1   0   0   1   1   1  \n",
       "V18 0  1  0  0  0  0  0  0  0  0   ⋯ 0   0   0   0   0   0   0   0   0   0  \n",
       "V19 1  1  1  0  1  0  0  0  0  0   ⋯ 1   0   1   1   0   0   0   0   1   0  \n",
       "V20 0  0  0  0  0  0  0  0  0  0   ⋯ 0   0   0   0   0   0   1   0   0   0  \n",
       "V21 0  1  0  0  0  0  0  0  0  0   ⋯ 1   0   0   0   0   1   1   0   0   0  "
      ]
     },
     "metadata": {},
     "output_type": "display_data"
    }
   ],
   "source": [
    "rownames(smatrix_2) <- colnames(smatrix_2)\n",
    "smatrix_2"
   ]
  },
  {
   "cell_type": "markdown",
   "metadata": {},
   "source": [
    "- Была построена ненаправленная сеть по полученной социоматрице с помощью функции `network`, которая принимает нашу матрицу, тип этой матрицы и булевый параметр направленности сети `directed = FALSE`(сеть ненаправленная)."
   ]
  },
  {
   "cell_type": "code",
   "execution_count": 82,
   "metadata": {
    "vscode": {
     "languageId": "r"
    }
   },
   "outputs": [],
   "source": [
    "net_2 <- network(smatrix_2, matrix.type = \"adjacency\", directed = FALSE)"
   ]
  },
  {
   "cell_type": "markdown",
   "metadata": {},
   "source": [
    "- Сеть была отображена с помощью алгоритмов укладки Фрюхтермана–Рейнгольда и Камада–Каваи."
   ]
  },
  {
   "cell_type": "code",
   "execution_count": 83,
   "metadata": {
    "vscode": {
     "languageId": "r"
    }
   },
   "outputs": [
    {
     "data": {
      "image/png": "[encoded data removed]",
      "text/plain": [
       "Plot with title \"Укладка Фрюхтермана–Рейнгольда\""
      ]
     },
     "metadata": {
      "image/png": {
       "height": 420,
       "width": 420
      }
     },
     "output_type": "display_data"
    },
    {
     "data": {
      "image/png": "[encoded data removed]",
      "text/plain": [
       "Plot with title \"Укладка  Камада–Каваи\""
      ]
     },
     "metadata": {
      "image/png": {
       "height": 420,
       "width": 420
      }
     },
     "output_type": "display_data"
    }
   ],
   "source": [
    "graph_2 <- graph.adjacency(smatrix_2, mode=\"directed\")\n",
    "plot(graph_2, layout=layout_with_fr(graph_2), main=\"Укладка Фрюхтермана–Рейнгольда\")\n",
    "plot(graph_2, layout=layout_with_kk(graph_2), main=\"Укладка  Камада–Каваи\")"
   ]
  },
  {
   "cell_type": "markdown",
   "metadata": {},
   "source": [
    "- Была выведена «описательная сводка» сети (пп. 6)"
   ]
  },
  {
   "cell_type": "code",
   "execution_count": 84,
   "metadata": {
    "scrolled": true,
    "vscode": {
     "languageId": "r"
    }
   },
   "outputs": [
    {
     "data": {
      "text/plain": [
       "Network attributes:\n",
       "  vertices = 21\n",
       "  directed = FALSE\n",
       "  hyper = FALSE\n",
       "  loops = FALSE\n",
       "  multiple = FALSE\n",
       "  bipartite = FALSE\n",
       " total edges = 79 \n",
       "   missing edges = 0 \n",
       "   non-missing edges = 79 \n",
       " density = 0.3761905 \n",
       "\n",
       "Vertex attributes:\n",
       "  vertex.names:\n",
       "   character valued attribute\n",
       "   21 valid vertex names\n",
       "\n",
       "No edge attributes\n",
       "\n",
       "Network edgelist matrix:\n",
       "      [,1] [,2]\n",
       " [1,]    2    1\n",
       " [2,]    4    1\n",
       " [3,]    8    1\n",
       " [4,]   11    1\n",
       " [5,]   12    1\n",
       " [6,]   15    1\n",
       " [7,]   16    1\n",
       " [8,]   17    1\n",
       " [9,]   19    1\n",
       "[10,]    4    2\n",
       "[11,]    5    2\n",
       "[12,]    6    2\n",
       "[13,]   11    2\n",
       "[14,]   16    2\n",
       "[15,]   17    2\n",
       "[16,]   18    2\n",
       "[17,]   19    2\n",
       "[18,]   21    2\n",
       "[19,]   10    3\n",
       "[20,]   11    3\n",
       "[21,]   14    3\n",
       "[22,]   15    3\n",
       "[23,]   17    3\n",
       "[24,]   19    3\n",
       "[25,]    8    4\n",
       "[26,]   11    4\n",
       "[27,]   12    4\n",
       "[28,]   16    4\n",
       "[29,]   17    4\n",
       "[30,]    9    5\n",
       "[31,]   10    5\n",
       "[32,]   11    5\n",
       "[33,]   13    5\n",
       "[34,]   14    5\n",
       "[35,]   15    5\n",
       "[36,]   17    5\n",
       "[37,]   19    5\n",
       "[38,]   21    5\n",
       "[39,]    7    6\n",
       "[40,]    9    6\n",
       "[41,]   12    6\n",
       "[42,]   15    6\n",
       "[43,]   17    6\n",
       "[44,]   21    6\n",
       "[45,]   14    7\n",
       "[46,]   17    7\n",
       "[47,]   10    8\n",
       "[48,]   11    8\n",
       "[49,]   17    8\n",
       "[50,]   10    9\n",
       "[51,]   11    9\n",
       "[52,]   15    9\n",
       "[53,]   17    9\n",
       "[54,]   12   10\n",
       "[55,]   16   10\n",
       "[56,]   17   10\n",
       "[57,]   20   10\n",
       "[58,]   12   11\n",
       "[59,]   13   11\n",
       "[60,]   15   11\n",
       "[61,]   17   11\n",
       "[62,]   18   11\n",
       "[63,]   19   11\n",
       "[64,]   20   11\n",
       "[65,]   17   12\n",
       "[66,]   19   12\n",
       "[67,]   21   12\n",
       "[68,]   15   14\n",
       "[69,]   17   14\n",
       "[70,]   19   14\n",
       "[71,]   17   15\n",
       "[72,]   19   15\n",
       "[73,]   17   16\n",
       "[74,]   19   17\n",
       "[75,]   20   17\n",
       "[76,]   21   17\n",
       "[77,]   20   18\n",
       "[78,]   21   18\n",
       "[79,]   20   19"
      ]
     },
     "metadata": {},
     "output_type": "display_data"
    }
   ],
   "source": [
    "summary(net_2)"
   ]
  },
  {
   "cell_type": "markdown",
   "metadata": {},
   "source": [
    "- Была вычислена «пятичисловая сводка» сети. \n",
    "a). Был вычислен размер сети.\n",
    "b). Была вычислена вручную плотность сети: $\\varDelta = \\frac{L}{A_g^2} = \\frac{102}{A_21^{2}} = \\frac{102}{20*21} = .2428571$, которая совпала с плотностью, вычисленной с помощью функции `gden`.\n",
    "c). Было определено число комнонет сети по графику(по графику видно, что компонента у графа одна). С помощью функции `components` догадка подтвердилась.\n",
    "d). Был вычислен диаметр сети(получилось 5). Это значит, что максимальный из кратчайших путей между парами вершин равен 5.\n",
    "e). Был вычислен коэффициент кластеризации. Можно сделать вывод, что существует средняя вероятность того, что случайно выбранный треугольник в сети окажется закрытым(вероятность равна примерно 46%)."
   ]
  },
  {
   "cell_type": "code",
   "execution_count": 85,
   "metadata": {
    "vscode": {
     "languageId": "r"
    }
   },
   "outputs": [
    {
     "name": "stdout",
     "output_type": "stream",
     "text": [
      "Размер сети:  21 \n",
      "Плотность сети:  0.2428571 \n",
      "Число компонент:  1 \n",
      "Диаметр сети:  5 \n",
      "Коэффициент кластеризации:  0.4610526 \n"
     ]
    }
   ],
   "source": [
    "cat(\"Размер сети: \", gorder(graph_2), \"\\n\")\n",
    "cat(\"Плотность сети: \", gden(smatrix_2), \"\\n\")\n",
    "cat(\"Число компонент: \", components(graph_2)$no, \"\\n\")\n",
    "cat(\"Диаметр сети: \", diameter(graph_2), \"\\n\")\n",
    "cat(\"Коэффициент кластеризации: \", gtrans(smatrix_2), \"\\n\")"
   ]
  },
  {
   "cell_type": "markdown",
   "metadata": {},
   "source": [
    "- Были вычислены средние степени узлов(входящая и исходящая) и дисперсии. Можем сделать следующий вывод: оказалось, что дисперсия исходящих степеней больше дисперсии входящих степеней, следовательно входящие степени распределены более равномерно.\n",
    "\n"
   ]
  },
  {
   "cell_type": "code",
   "execution_count": 86,
   "metadata": {
    "vscode": {
     "languageId": "r"
    }
   },
   "outputs": [
    {
     "name": "stdout",
     "output_type": "stream",
     "text": [
      "Средняя степень узлов входящая:  4.857143 \n",
      "Средняя степень узлов исходящая:  4.857143 \n",
      "Дисперсия входящая:  4.928571 \n",
      "Дисперсия исходящая:  20.02857 \n"
     ]
    }
   ],
   "source": [
    "cat(\"Средняя степень узлов входящая: \", mean(degree(graph_2, mode=\"in\")), \"\\n\")\n",
    "cat(\"Средняя степень узлов исходящая: \", mean(degree(graph_2, mode=\"out\")), \"\\n\")\n",
    "cat(\"Дисперсия входящая: \", var(degree(graph_2, mode=\"in\")), \"\\n\")\n",
    "cat(\"Дисперсия исходящая: \", var(degree(graph_2, mode=\"out\")), \"\\n\")"
   ]
  },
  {
   "cell_type": "markdown",
   "metadata": {},
   "source": [
    "№13. Была заполнена таблица для различных мер престижа. Вывод: если рассматривать значение престижа по степени, то актор №2 является самым важным, если же рассматривать значение престижа по близости, то самым важным актором в сети является актор №17."
   ]
  },
  {
   "cell_type": "code",
   "execution_count": 87,
   "metadata": {
    "vscode": {
     "languageId": "r"
    }
   },
   "outputs": [
    {
     "data": {
      "text/html": [
       "<table class=\"dataframe\">\n",
       "<caption>A data.frame: 21 × 3</caption>\n",
       "<thead>\n",
       "\t<tr><th scope=col>ni</th><th scope=col>PD</th><th scope=col>PP</th></tr>\n",
       "\t<tr><th scope=col>&lt;int&gt;</th><th scope=col>&lt;dbl&gt;</th><th scope=col>&lt;dbl&gt;</th></tr>\n",
       "</thead>\n",
       "<tbody>\n",
       "\t<tr><td> 1</td><td>0.45</td><td>0.5225806</td></tr>\n",
       "\t<tr><td> 2</td><td>0.50</td><td>0.5400000</td></tr>\n",
       "\t<tr><td> 3</td><td>0.30</td><td>0.4764706</td></tr>\n",
       "\t<tr><td> 4</td><td>0.35</td><td>0.4909091</td></tr>\n",
       "\t<tr><td> 5</td><td>0.50</td><td>0.5400000</td></tr>\n",
       "\t<tr><td> 6</td><td>0.35</td><td>0.4764706</td></tr>\n",
       "\t<tr><td> 7</td><td>0.15</td><td>0.4628205</td></tr>\n",
       "\t<tr><td> 8</td><td>0.25</td><td>0.4628571</td></tr>\n",
       "\t<tr><td> 9</td><td>0.30</td><td>0.5308824</td></tr>\n",
       "\t<tr><td>10</td><td>0.40</td><td>0.5062500</td></tr>\n",
       "\t<tr><td>11</td><td>0.70</td><td>0.6230769</td></tr>\n",
       "\t<tr><td>12</td><td>0.40</td><td>0.5062500</td></tr>\n",
       "\t<tr><td>13</td><td>0.10</td><td>0.3951220</td></tr>\n",
       "\t<tr><td>14</td><td>0.30</td><td>0.4628571</td></tr>\n",
       "\t<tr><td>15</td><td>0.45</td><td>0.5225806</td></tr>\n",
       "\t<tr><td>16</td><td>0.25</td><td>0.4500000</td></tr>\n",
       "\t<tr><td>17</td><td>0.90</td><td>0.7363636</td></tr>\n",
       "\t<tr><td>18</td><td>0.20</td><td>0.4263158</td></tr>\n",
       "\t<tr><td>19</td><td>0.50</td><td>0.5400000</td></tr>\n",
       "\t<tr><td>20</td><td>0.25</td><td>0.4628571</td></tr>\n",
       "\t<tr><td>21</td><td>0.30</td><td>0.4764706</td></tr>\n",
       "</tbody>\n",
       "</table>\n"
      ],
      "text/latex": [
       "A data.frame: 21 × 3\n",
       "\\begin{tabular}{lll}\n",
       " ni & PD & PP\\\\\n",
       " <int> & <dbl> & <dbl>\\\\\n",
       "\\hline\n",
       "\t  1 & 0.45 & 0.5225806\\\\\n",
       "\t  2 & 0.50 & 0.5400000\\\\\n",
       "\t  3 & 0.30 & 0.4764706\\\\\n",
       "\t  4 & 0.35 & 0.4909091\\\\\n",
       "\t  5 & 0.50 & 0.5400000\\\\\n",
       "\t  6 & 0.35 & 0.4764706\\\\\n",
       "\t  7 & 0.15 & 0.4628205\\\\\n",
       "\t  8 & 0.25 & 0.4628571\\\\\n",
       "\t  9 & 0.30 & 0.5308824\\\\\n",
       "\t 10 & 0.40 & 0.5062500\\\\\n",
       "\t 11 & 0.70 & 0.6230769\\\\\n",
       "\t 12 & 0.40 & 0.5062500\\\\\n",
       "\t 13 & 0.10 & 0.3951220\\\\\n",
       "\t 14 & 0.30 & 0.4628571\\\\\n",
       "\t 15 & 0.45 & 0.5225806\\\\\n",
       "\t 16 & 0.25 & 0.4500000\\\\\n",
       "\t 17 & 0.90 & 0.7363636\\\\\n",
       "\t 18 & 0.20 & 0.4263158\\\\\n",
       "\t 19 & 0.50 & 0.5400000\\\\\n",
       "\t 20 & 0.25 & 0.4628571\\\\\n",
       "\t 21 & 0.30 & 0.4764706\\\\\n",
       "\\end{tabular}\n"
      ],
      "text/markdown": [
       "\n",
       "A data.frame: 21 × 3\n",
       "\n",
       "| ni &lt;int&gt; | PD &lt;dbl&gt; | PP &lt;dbl&gt; |\n",
       "|---|---|---|\n",
       "|  1 | 0.45 | 0.5225806 |\n",
       "|  2 | 0.50 | 0.5400000 |\n",
       "|  3 | 0.30 | 0.4764706 |\n",
       "|  4 | 0.35 | 0.4909091 |\n",
       "|  5 | 0.50 | 0.5400000 |\n",
       "|  6 | 0.35 | 0.4764706 |\n",
       "|  7 | 0.15 | 0.4628205 |\n",
       "|  8 | 0.25 | 0.4628571 |\n",
       "|  9 | 0.30 | 0.5308824 |\n",
       "| 10 | 0.40 | 0.5062500 |\n",
       "| 11 | 0.70 | 0.6230769 |\n",
       "| 12 | 0.40 | 0.5062500 |\n",
       "| 13 | 0.10 | 0.3951220 |\n",
       "| 14 | 0.30 | 0.4628571 |\n",
       "| 15 | 0.45 | 0.5225806 |\n",
       "| 16 | 0.25 | 0.4500000 |\n",
       "| 17 | 0.90 | 0.7363636 |\n",
       "| 18 | 0.20 | 0.4263158 |\n",
       "| 19 | 0.50 | 0.5400000 |\n",
       "| 20 | 0.25 | 0.4628571 |\n",
       "| 21 | 0.30 | 0.4764706 |\n",
       "\n"
      ],
      "text/plain": [
       "   ni PD   PP       \n",
       "1   1 0.45 0.5225806\n",
       "2   2 0.50 0.5400000\n",
       "3   3 0.30 0.4764706\n",
       "4   4 0.35 0.4909091\n",
       "5   5 0.50 0.5400000\n",
       "6   6 0.35 0.4764706\n",
       "7   7 0.15 0.4628205\n",
       "8   8 0.25 0.4628571\n",
       "9   9 0.30 0.5308824\n",
       "10 10 0.40 0.5062500\n",
       "11 11 0.70 0.6230769\n",
       "12 12 0.40 0.5062500\n",
       "13 13 0.10 0.3951220\n",
       "14 14 0.30 0.4628571\n",
       "15 15 0.45 0.5225806\n",
       "16 16 0.25 0.4500000\n",
       "17 17 0.90 0.7363636\n",
       "18 18 0.20 0.4263158\n",
       "19 19 0.50 0.5400000\n",
       "20 20 0.25 0.4628571\n",
       "21 21 0.30 0.4764706"
      ]
     },
     "metadata": {},
     "output_type": "display_data"
    }
   ],
   "source": [
    "table_prestige <- data.frame(\n",
    "    ni = match(V(graph_2)$name, V(graph_2)$name),\n",
    "    PD = prestige(net_2, cmode=\"indegree\")/(gorder(graph_2)-1),\n",
    "    PP = unlist(lapply(seq(1, gorder(graph_2)), function(x){((length(subcomponent(graph_2, V(graph_2)[x], mode=\"in\")) - 1)^2) / (sum(distances(graph_2,v=V(graph_2)[x]))*(gorder(graph_2)-1))}))\n",
    ")\n",
    "table_prestige"
   ]
  },
  {
   "cell_type": "markdown",
   "metadata": {},
   "source": [
    "Mark-down таблица:\n",
    "\n",
    "| $n_i'$ | $P_d'$ | $P_p'$ |\n",
    "|:-------|:-------|:-------|\n",
    "|     1 |  0.45 | 0.5225806 |\n",
    "|     2 |  0.50 | 0.5400000 |\n",
    "|     3 |  0.30 | 0.4764706 |\n",
    "|     4 |  0.35 | 0.4909091 |\n",
    "|     5 |  0.50 | 0.5400000 |\n",
    "|     6 |  0.35 | 0.4764706 |\n",
    "|     7 |  0.15 | 0.4628205 |\n",
    "|     8 |  0.25 | 0.4628571 |\n",
    "|     9 |  0.30 | 0.5308824 |\n",
    "|    10 |  0.40 | 0.5062500 |\n",
    "|    11 |  0.70 | 0.6230769 |\n",
    "|    12 |  0.40 | 0.5062500 |\n",
    "|    13 |  0.10 | 0.3951220 |\n",
    "|    14 |  0.30 | 0.4628571 |\n",
    "|    15 |  0.45 | 0.5225806 |\n",
    "|    16 |  0.25 | 0.4500000 |\n",
    "|    17 |  0.90 | 0.7363636 |\n",
    "|    18 |  0.20 | 0.4263158 |\n",
    "|    19 |  0.50 | 0.5400000 |\n",
    "|    20 |  0.25 | 0.4628571 |\n",
    "|    21 |  0.30 | 0.4764706 |"
   ]
  },
  {
   "cell_type": "markdown",
   "metadata": {},
   "source": [
    "## Выводы\n",
    "\n",
    "В процессе выполнения текущей практической работы были освоены навыки работы с математическими пакетами для моделирования, визуализации и анализа социальных сетей на языке R. Также была повторена теория анализа социальных сетей: представление сетей, анализ характеристик, анализ важности акторов и групп. С помощью математических пакетов на практике была изучена разница между алгоритмами укладки сетей (Фрюхтермана–Рейнгольда и Камада–Каваи), разница между мерами престижа и центральности, разница между направленными и ненаправленными сетями. Для двух разных сетей были расчитанны числовые характеристики."
   ]
  }
 ],
 "metadata": {
  "kernelspec": {
   "display_name": "R",
   "language": "R",
   "name": "ir"
  },
  "language_info": {
   "codemirror_mode": "r",
   "file_extension": ".r",
   "mimetype": "text/x-r-source",
   "name": "R",
   "pygments_lexer": "r",
   "version": "4.2.1"
  }
 },
 "nbformat": 4,
 "nbformat_minor": 4
}
