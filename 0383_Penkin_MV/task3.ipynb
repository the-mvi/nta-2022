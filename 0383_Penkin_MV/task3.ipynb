{
 "cells": [
  {
   "cell_type": "markdown",
   "metadata": {},
   "source": [
    "# Практическая работа №2: Статистический анализ социальных сетей.\n",
    "Выполнил студент гр. 0383 Пенкин Михаил. Вариант №59"
   ]
  },
  {
   "cell_type": "markdown",
   "metadata": {},
   "source": [
    "## Цель работы\n",
    "Овладеть навыками работы с математическими пакетами для статистического анализа социальных сетей."
   ]
  },
  {
   "cell_type": "markdown",
   "metadata": {},
   "source": [
    "## Основные теоретические положения\n",
    "\n",
    "**Диада** - элемент сети, представляющий собой пару акторов и (возможную) связь между ними.\n",
    "\n",
    "**Различные виды диад:**\n",
    "- Взамная диада - $D_{ij}=(1, 1)$\n",
    "- Асимметричная диада - $D_{ij}=(0, 1)$ или $D_{ij}=(1, 0)$\n",
    "- Нулевая диада - $D_{ij}=(0, 0)$\n",
    "\n",
    "**Цензус диад** - тройка чисел $(M, A, N)$, где\n",
    "- $M = \\sum_{i<j}X_{ij}X_{ji}$ - число взаимных диад\n",
    "- $A = X_{++}-2M$ - число асимметричных диад\n",
    "- $N = (_2^g)-A-M$ - число нулевых диад\n",
    "\n",
    "**Индекс взаимности Каца-Пауэлла** - характеристика измерения тенденции акторов в группе к взаимному выбору друг друга. $(-\\infty < \\rho_{KP} \\le 1)$\n",
    "\n",
    "**Индекс взаимности Бандиопадхьяйя** - индекс, основанный на максимальной и минимальной значениях количества взаимных диад в сети. \n",
    "\n",
    "$\\rho_B = \\displaystyle{\\frac{M - M_{\\min}}{M_{\\max} - M_{\\min}}},$ \n",
    "\n",
    "где $M_{\\min} = \\max f(t), 0 \\le t \\le g$, \n",
    "\n",
    "$M_{\\max} = \\lfloor 0.5 \\sum^g_{i = 1} X_{i+} - \\max g(t)\\rfloor, 0 \\le t \\le g,$\n",
    "\n",
    "$f(t) = \\sum^t_{i=1} X_{i+} - t(g - 1) - (^t_2),$\n",
    "\n",
    "$g(t) = \\sum^t_{i=1} X_{i+} - t(t - 1) - \\sum^g_{i=t+1} \\min (t, X_{i+}).$\n",
    "\n",
    "**Вычисление доверительного интервала для оценки параметра P**:\n",
    "\n",
    "Оценка P: $\\hat{P} = \\displaystyle{\\frac{\\sum_{i = 1}^g \\sum_{j = 1}^g x_{ij}}{g(g-1)} = \\frac{l}{g(g - 1)}}.$\n",
    "\n",
    "Доверительный интервал: $\\hat{P}_{lower} \\le P \\le \\hat{P}_{upper}$.\n",
    "\n",
    "$\\hat{P}_{lower} = \\displaystyle{\\hat{P} - z_{\\alpha/2} \\sqrt\\frac{\\hat{P}(1- \\hat{P})}{g(g-1)}}$\n",
    "\n",
    "$\\hat{P}_{lower} = \\displaystyle{\\hat{P} + z_{\\alpha/2} \\sqrt\\frac{\\hat{P}(1- \\hat{P})}{g(g-1)}}$\n",
    "\n",
    "$\\Phi(z_{\\alpha/2}) = 0.5 - \\frac{\\alpha}2$, где $\\alpha - $ уровень значимости, $(1 - \\alpha) - $ доверительная надёжность. "
   ]
  },
  {
   "cell_type": "markdown",
   "metadata": {},
   "source": [
    "## Постановка задачи\n",
    "С помощью математических пакетов и соответствующих библиотек провести статистический анализ случайно смоделированного ориентированного графа. Полученные результаты содержательно проинтерпретировать."
   ]
  },
  {
   "cell_type": "markdown",
   "metadata": {},
   "source": [
    "## Выполнение работы"
   ]
  },
  {
   "cell_type": "markdown",
   "metadata": {},
   "source": [
    "№1. Вариант 59: 76, 0.63, 0.69, 0.01.\n",
    "С помощью библиотеки igraph был смоделирован случайный орграф $\\mathscr{G}_d$ на основе модели Эрдеша-Реньи: $\\mathscr{G}_d = \\mathscr{G}(g, p)$, где $g$ - количество акторов, $p$ - вероятность появления дуги между акторами. \n",
    "Описание модели:\n",
    "В графе $\\mathcal{G} (g, p)$ имеется 𝑔 вершин, и для каждого ребра вероятность того, что оно присутствует в графе, будет равна 𝑝."
   ]
  },
  {
   "cell_type": "code",
   "execution_count": 32,
   "metadata": {
    "vscode": {
     "languageId": "r"
    }
   },
   "outputs": [
    {
     "name": "stderr",
     "output_type": "stream",
     "text": [
      "<sparse>[ <logic> ] : .M.sub.i.logical() maybe inefficient\n",
      "\n"
     ]
    }
   ],
   "source": [
    "library(igraph)\n",
    "library(statnet)\n",
    "\n",
    "g <- 76\n",
    "p <- 0.63\n",
    "p0 <- 0.69\n",
    "alpha <- 0.01\n",
    "graph <- erdos.renyi.game(g, p, directed = T)\n",
    "net <- network(as_adjacency_matrix(graph), directed = T)"
   ]
  },
  {
   "cell_type": "markdown",
   "metadata": {},
   "source": [
    "№2. Полученный орграф был отображен."
   ]
  },
  {
   "cell_type": "code",
   "execution_count": 33,
   "metadata": {
    "vscode": {
     "languageId": "r"
    }
   },
   "outputs": [
    {
     "data": {
      "image/png": "[encoded data removed]",
      "text/plain": [
       "Plot with title \"\""
      ]
     },
     "metadata": {
      "image/png": {
       "height": 420,
       "width": 420
      }
     },
     "output_type": "display_data"
    }
   ],
   "source": [
    "plot(graph, layout=layout_with_fr(graph))"
   ]
  },
  {
   "cell_type": "markdown",
   "metadata": {},
   "source": [
    "№3. Была вычислена «пятичисловая сводка» графа."
   ]
  },
  {
   "cell_type": "code",
   "execution_count": 34,
   "metadata": {
    "vscode": {
     "languageId": "r"
    }
   },
   "outputs": [
    {
     "name": "stdout",
     "output_type": "stream",
     "text": [
      "Размер:  76 \n",
      "Плотность:  0.6201754 \n",
      "Число компонент:  1 \n",
      "Диаметр:  2 \n",
      "Коэффициент кластеризации:  0.8557676 \n"
     ]
    }
   ],
   "source": [
    "cat(\"Размер: \", gorder(graph), \"\\n\")\n",
    "cat(\"Плотность: \", edge_density(graph), \"\\n\")\n",
    "cat(\"Число компонент: \", igraph::components(graph)$no, \"\\n\")\n",
    "cat(\"Диаметр: \", diameter(graph), \"\\n\")\n",
    "cat(\"Коэффициент кластеризации: \", transitivity(graph), \"\\n\")"
   ]
  },
  {
   "cell_type": "markdown",
   "metadata": {},
   "source": [
    "№4. Был вычислен цензус диад.\n",
    "Вывод: число взаимных диад $M$ = 1136,ч исло ассиметричных диад $A$ = 1329, число пар акторов $N$, между которыми нет связи, = 385."
   ]
  },
  {
   "cell_type": "code",
   "execution_count": 14,
   "metadata": {
    "vscode": {
     "languageId": "r"
    }
   },
   "outputs": [
    {
     "data": {
      "text/html": [
       "<dl>\n",
       "\t<dt>$mut</dt>\n",
       "\t\t<dd>1136</dd>\n",
       "\t<dt>$asym</dt>\n",
       "\t\t<dd>1329</dd>\n",
       "\t<dt>$null</dt>\n",
       "\t\t<dd>385</dd>\n",
       "</dl>\n"
      ],
      "text/latex": [
       "\\begin{description}\n",
       "\\item[\\$mut] 1136\n",
       "\\item[\\$asym] 1329\n",
       "\\item[\\$null] 385\n",
       "\\end{description}\n"
      ],
      "text/markdown": [
       "$mut\n",
       ":   1136\n",
       "$asym\n",
       ":   1329\n",
       "$null\n",
       ":   385\n",
       "\n",
       "\n"
      ],
      "text/plain": [
       "$mut\n",
       "[1] 1136\n",
       "\n",
       "$asym\n",
       "[1] 1329\n",
       "\n",
       "$null\n",
       "[1] 385\n"
      ]
     },
     "metadata": {},
     "output_type": "display_data"
    }
   ],
   "source": [
    "census <- dyad_census(graph)\n",
    "census"
   ]
  },
  {
   "cell_type": "markdown",
   "metadata": {},
   "source": [
    "№5. Была вычислена оценка индекса взаимности Каца-Пауэла при фиксированом выборе акторов $d = 35$ \n",
    "Вывод: можем увидеть, что при фиксированном выборе акторы больше склоняются к образованию взаимных диад, но не так сильно при свободном выборе."
   ]
  },
  {
   "cell_type": "code",
   "execution_count": 37,
   "metadata": {
    "vscode": {
     "languageId": "r"
    }
   },
   "outputs": [
    {
     "name": "stdout",
     "output_type": "stream",
     "text": [
      "Оценка при фиксированном выборе d = 35: 0.7265038 \n",
      "Оценка при свободном выборе: 0.05948546 \n"
     ]
    }
   ],
   "source": [
    "M <- census$mut\n",
    "d <- 35\n",
    "fix <- (2*(g-1)*M-g*d^2)/(g*d*(g-1-d))\n",
    "\n",
    "x <- as_adj(graph, sparse=F)\n",
    "L <- sum(rowSums(x))\n",
    "L2 <- sum(rowSums(x)^2)\n",
    "free <- (2*(g-1)^2*M-L^2+L2)/(L*(g-1)^2-L^2+L2)\n",
    "\n",
    "cat(\"Оценка при фиксированном выборе d = 35:\", fix, \"\\n\")\n",
    "cat(\"Оценка при свободном выборе:\", free, \"\\n\")"
   ]
  },
  {
   "cell_type": "markdown",
   "metadata": {},
   "source": [
    "№6. Была вычислена вероятноcть того, что связь будет взаимной для каждого случая. "
   ]
  },
  {
   "cell_type": "code",
   "execution_count": 40,
   "metadata": {
    "vscode": {
     "languageId": "r"
    }
   },
   "outputs": [
    {
     "name": "stdout",
     "output_type": "stream",
     "text": [
      "Вероятность для фиксированного выбора 0.3985965 \n",
      "Вероятность для свободного выбора: min = 0.2696889, max = 0.5258667, avg = 0.3988982\n"
     ]
    }
   ],
   "source": [
    "p_fix <- (d/(g-1))*((d/(g-1))+fix*(g-1-d)/(g-1))\n",
    "p_free <- (rowSums(adj_matrix)*colSums(adj_matrix))/(g - 1)^2\n",
    "cat('Вероятность для фиксированного выбора', p_fix, '\\n')\n",
    "cat('Вероятность для свободного выбора: min = ', min(p_free), ', max = ', max(p_free), ', avg = ', mean(p_free), '\\n', sep='')"
   ]
  },
  {
   "cell_type": "markdown",
   "metadata": {},
   "source": [
    "№7."
   ]
  },
  {
   "cell_type": "code",
   "execution_count": 41,
   "metadata": {
    "vscode": {
     "languageId": "r"
    }
   },
   "outputs": [
    {
     "ename": "ERROR",
     "evalue": "Error in eval(expr, envir, enclos): объект 'g_res' не найден\n",
     "output_type": "error",
     "traceback": [
      "Error in eval(expr, envir, enclos): объект 'g_res' не найден\nTraceback:\n"
     ]
    }
   ],
   "source": []
  },
  {
   "cell_type": "markdown",
   "metadata": {},
   "source": [
    "№8. Была проверена гипотеза $H_0: L ∼ Bin(g(g − 1), 1/2)$ при уровне значимости $\\alpha=0.05$.\n",
    "Вывод: максимальный уровень значимости при котором нулевая гипотеза не отвергается очень мал (< 2.2e-16). Уровень значимости $\\alpha=0.01$ ниже $p=0.6201754$."
   ]
  },
  {
   "cell_type": "code",
   "execution_count": 43,
   "metadata": {
    "vscode": {
     "languageId": "r"
    }
   },
   "outputs": [
    {
     "data": {
      "text/plain": [
       "\n",
       "\tExact binomial test\n",
       "\n",
       "data:  sum(x) and g * (g - 1)\n",
       "number of successes = 3535, number of trials = 5700, p-value < 2.2e-16\n",
       "alternative hypothesis: true probability of success is not equal to 0.5\n",
       "95 percent confidence interval:\n",
       " 0.6074291 0.6327986\n",
       "sample estimates:\n",
       "probability of success \n",
       "             0.6201754 \n"
      ]
     },
     "metadata": {},
     "output_type": "display_data"
    }
   ],
   "source": [
    "binom.test(sum(x), g*(g-1), p = 0.5)"
   ]
  },
  {
   "cell_type": "markdown",
   "metadata": {},
   "source": [
    "№9. Была проверена гипотеза $H_0: L ∼ Bin(g(g − 1), P_0)$ при уровне значимости $\\alpha=0.01$."
   ]
  },
  {
   "cell_type": "code",
   "execution_count": 44,
   "metadata": {
    "vscode": {
     "languageId": "r"
    }
   },
   "outputs": [
    {
     "data": {
      "text/plain": [
       "\n",
       "\tExact binomial test\n",
       "\n",
       "data:  sum(x) and g * (g - 1)\n",
       "number of successes = 3535, number of trials = 5700, p-value = 1\n",
       "alternative hypothesis: true probability of success is not equal to 0.6201754\n",
       "95 percent confidence interval:\n",
       " 0.6074291 0.6327986\n",
       "sample estimates:\n",
       "probability of success \n",
       "             0.6201754 \n"
      ]
     },
     "metadata": {},
     "output_type": "display_data"
    }
   ],
   "source": [
    "binom.test(sum(x), g*(g-1), p = 0.6201754)"
   ]
  },
  {
   "cell_type": "markdown",
   "metadata": {},
   "source": [
    "№10. Был построен доверительный интервал для оценки параметра 𝑝 с доверительной надёжностью $(1 − \\alpha) = 0.99$.отвергнутым гипотезам с $p=0.5$ и $p=0.69$."
   ]
  },
  {
   "cell_type": "code",
   "execution_count": null,
   "metadata": {
    "vscode": {
     "languageId": "r"
    }
   },
   "outputs": [],
   "source": []
  },
  {
   "cell_type": "markdown",
   "metadata": {},
   "source": [
    "## Выводы\n",
    "\n",
    "В ходе выполнения данной практической работы были получены практичесие навыки работы с математическими пакетами для статистического анализа социальных сетей. Научились определять тенденцию создания парных связей в диадах графа через вычисление цензуса диад и подсчёта с помощью него индексов взаимности Каца-Пауэла и Бандиопадхьяйя, а также определять вероятность появления рёбер и число рёбер через проверку гипотез о принадлежности числа рёбер в графе биномиальному распределению."
   ]
  }
 ],
 "metadata": {
  "kernelspec": {
   "display_name": "R",
   "language": "R",
   "name": "ir"
  },
  "language_info": {
   "codemirror_mode": "r",
   "file_extension": ".r",
   "mimetype": "text/x-r-source",
   "name": "R",
   "pygments_lexer": "r",
   "version": "4.2.1"
  }
 },
 "nbformat": 4,
 "nbformat_minor": 4
}
