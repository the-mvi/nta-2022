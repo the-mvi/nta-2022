{
 "cells": [
  {
   "cell_type": "markdown",
   "metadata": {},
   "source": [
    "# Практическая работа №2: Исследование подгрупп сетей. Сети аффилированности.\n",
    "Выполнил студент гр. 0383 Пенкин Михаил. Вариант №59"
   ]
  },
  {
   "cell_type": "markdown",
   "metadata": {},
   "source": [
    "## Цель работы\n",
    "Овладеть навыками работы с математическими пакетами для исследования подгрупп в социальных сетях, а также моделирования, отображения и анализа сетей аффилированности."
   ]
  },
  {
   "cell_type": "markdown",
   "metadata": {},
   "source": [
    "## Основные теоретические положения\n",
    "**Подгруппа** - любое подмножество акторов и все связи между ними.\n",
    "\n",
    "**Группа** - совокупность акторов, связи между которыми должны быть изучены.\n",
    "\n",
    "**Сплоченные подгруппы** - множества акторов, которые соединены между собой многочисленными сильными прямыми связями.\n",
    "\n",
    "**Клика** - максимальный полный подграф с 3 и более вершинами.\n",
    "\n",
    "**n-Клика** - максимальный подграф, в котором наибольшие геодезические расстояния между узлами не больше чем n.\n",
    "\n",
    "**n-Клан** - n-клика, в которой геодезические расстояния между узлами не превышают n для путей внутри подграфа.\n",
    "\n",
    "**n-Клуб** - максимальный подграф диаметра не больше n\n",
    "\n",
    "**k-Ядро** - максимальный подграф, в котором каждая вершина связана с не менее чем k вершинами этого подграфа\n",
    "\n",
    "**k-Плекс** - максимальный подграф, содержащий $g_S$ узлов, в котором каждый узел смежен с не менее чем $g_S-k$ узлами.\n",
    "\n",
    "**LS-множество** - это множество узлов $N_S$ подграфа $G_S$, такое что любое собственное подмножество $L\\subset N_S$ имеет больше линий к узлам $N_S\\backslash L$, чем к $N\\backslash N_S$ \n",
    "\n",
    "**$\\lambda$-множество** - множество узлов в $N_S$, такое что любая пара узлов в нём имеет большее линейное соединение, чем любая пара узлов, состоящая из одного узла из $\\lambda$-множества и одного извне.\n",
    "\n",
    "**Модулярность** - характеристика структуры сети, разница долей связей внутри группы и ожидаемой долей связей, если бы связи были размещены случайно\n",
    "\n",
    "**Сеть аффилированности** - сеть, в которой участники аффилированы друг с другом на основе сотрудничества в рамках какой-то группы. Состоит из множества акторов $\\mathcal{N}$ и множества событий $\\mathcal{M}$. Может быть представлена с помощью матрицы инцидентности X размера $g\\times h$ (g - число акторов, h - число событий), в которой элемент $a_{ij}$ равен 1, если актор i связан с актором j, и равен 0 иначе.\n",
    "\n",
    "**Представление сетей аффилированности:**\n",
    "\n",
    "* Матрица инцидентности $A_{g\\times h}$\n",
    "* Двудольный граф\n",
    "* Прелставление биграфа в виде социоматрицы размера $(g+h)\\times (g+h)$ и вида $(^{0_g A}_{A^T 0_h})$\n",
    "* Гиперграф ($\\mathcal{H}=\\mathcal{H}(\\mathcal{A}, \\mathcal{B})$, где $\\mathcal{A}$ - множество объектов, $\\mathcal{B}$ - множество событий)\n",
    "* Двойственный гиперграф\n",
    "\n",
    "**Степень участия** - количество событий, с которыми связан актор\n",
    "\n",
    "**Размер события** - число акторов, связанных с данным событием\n",
    "\n",
    "**Матрица соучастия акторов** - $X^{\\mathcal{N}}=XX^T$ - на диагонали - сколько событий посетил актор.\n",
    "\n",
    "**Матрица перекрытия событий** - $X^{\\mathcal{M}}=X^TX$ - на диагонали - сколько акторов посетило каждое событие.\n",
    "\n",
    "**Плотность для отношения соучастия** - $\\Delta_\\mathcal{N}=\\frac{1}{g(g-1)}\\sum^g_{i=1}\\sum^g_{j=1}X^{\\mathcal{N}}_{ij}$\n",
    "\n",
    "**Плотность для отношения перекрытия** - $\\Delta_\\mathcal{M}=\\frac{1}{h(h-1)}\\sum^h_{k=1}\\sum^k_{i=1}X^{\\mathcal{M}}_{ki}$\n",
    "\n",
    "**Диаметр сети аффилированности** - максимальная длина пути между всеми парами акторов или событий.\n",
    "\n",
    "**Клика уровня $c$** - для взвешенного графа - клика, в которой веса всех рёбер не меньше $c$; для отношения соучастия - подграф, в котором все пары акторов участвуют не менее чем в $c$ событиях; для отношения перекрытия - подграф, в котором все пары событий имеют не менее $c$ общих членов.\n",
    "\n",
    "**Отношение шансов** - мера перекрытия между событиями, которая не зависит от размера событий $\\Theta_{kl}=\\frac{X^{\\mathcal{M}}_{kl}X^{\\mathcal{M}}_{\\overline{kl}}}{X^{\\mathcal{M}}_{\\overline{k}l}X^{\\mathcal{M}}_{k\\overline{l}}}$, \n",
    "\n",
    "где $X^{\\mathcal{M}}_{kl}$ - число акторов, аффилированных с событиями $k$ и $l$, \n",
    "\n",
    "$X^{\\mathcal{M}}_{\\overline{kl}}$ - число акторов, не аффилированных ни с событием $k$ ни с событием $l$, \n",
    "\n",
    "$X^{\\mathcal{M}}_{\\overline{k}l}$ - число акторов, аффилированных с событием $l$ но не с событием $k$, <br>$X^{\\mathcal{M}}_{k\\overline{l}}$ - число акторов, аффилированных с событием $k$ но не с событием $l$\n",
    "\n"
   ]
  },
  {
   "cell_type": "markdown",
   "metadata": {},
   "source": [
    "## Постановка задачи\n",
    "С помощью математических пакетов и соответствующих библиотек провести анализ заданных социальных сетей на предмет подгрупп. Провести исследование сети аффилированности CEO. Полученные результаты содержательно проинтерпретировать."
   ]
  },
  {
   "cell_type": "markdown",
   "metadata": {},
   "source": [
    "## Выполнение работы"
   ]
  },
  {
   "cell_type": "markdown",
   "metadata": {},
   "source": [
    "№1. Из файла `florentine_business.csv`(т.к. нечетный вариант) была извлечена социоматрица с помощью функции `read.csv`. Полученная сеть была отображена на экран с помощью алгоритма укладки Камада–Каваи."
   ]
  },
  {
   "cell_type": "code",
   "execution_count": 37,
   "metadata": {
    "vscode": {
     "languageId": "r"
    }
   },
   "outputs": [
    {
     "data": {
      "text/html": [
       "<table class=\"dataframe\">\n",
       "<caption>A matrix: 16 × 16 of type int</caption>\n",
       "<thead>\n",
       "\t<tr><th scope=col>Acciaiuoli</th><th scope=col>Albizzi</th><th scope=col>Barbadori</th><th scope=col>Bischeri</th><th scope=col>Castellani</th><th scope=col>Ginori</th><th scope=col>Guadagni</th><th scope=col>Lamberteschi</th><th scope=col>Medici</th><th scope=col>Pazzi</th><th scope=col>Peruzzi</th><th scope=col>Pucci</th><th scope=col>Ridolfi</th><th scope=col>Salviati</th><th scope=col>Strozzi</th><th scope=col>Tornabuoni</th></tr>\n",
       "</thead>\n",
       "<tbody>\n",
       "\t<tr><td>0</td><td>0</td><td>0</td><td>0</td><td>0</td><td>0</td><td>0</td><td>0</td><td>0</td><td>0</td><td>0</td><td>0</td><td>0</td><td>0</td><td>0</td><td>0</td></tr>\n",
       "\t<tr><td>0</td><td>0</td><td>0</td><td>0</td><td>0</td><td>0</td><td>0</td><td>0</td><td>0</td><td>0</td><td>0</td><td>0</td><td>0</td><td>0</td><td>0</td><td>0</td></tr>\n",
       "\t<tr><td>0</td><td>0</td><td>0</td><td>0</td><td>1</td><td>1</td><td>0</td><td>0</td><td>1</td><td>0</td><td>1</td><td>0</td><td>0</td><td>0</td><td>0</td><td>0</td></tr>\n",
       "\t<tr><td>0</td><td>0</td><td>0</td><td>0</td><td>0</td><td>0</td><td>1</td><td>1</td><td>0</td><td>0</td><td>1</td><td>0</td><td>0</td><td>0</td><td>0</td><td>0</td></tr>\n",
       "\t<tr><td>0</td><td>0</td><td>1</td><td>0</td><td>0</td><td>0</td><td>0</td><td>1</td><td>0</td><td>0</td><td>1</td><td>0</td><td>0</td><td>0</td><td>0</td><td>0</td></tr>\n",
       "\t<tr><td>0</td><td>0</td><td>1</td><td>0</td><td>0</td><td>0</td><td>0</td><td>0</td><td>1</td><td>0</td><td>0</td><td>0</td><td>0</td><td>0</td><td>0</td><td>0</td></tr>\n",
       "\t<tr><td>0</td><td>0</td><td>0</td><td>1</td><td>0</td><td>0</td><td>0</td><td>1</td><td>0</td><td>0</td><td>0</td><td>0</td><td>0</td><td>0</td><td>0</td><td>0</td></tr>\n",
       "\t<tr><td>0</td><td>0</td><td>0</td><td>1</td><td>1</td><td>0</td><td>1</td><td>0</td><td>0</td><td>0</td><td>1</td><td>0</td><td>0</td><td>0</td><td>0</td><td>0</td></tr>\n",
       "\t<tr><td>0</td><td>0</td><td>1</td><td>0</td><td>0</td><td>1</td><td>0</td><td>0</td><td>0</td><td>1</td><td>0</td><td>0</td><td>0</td><td>1</td><td>0</td><td>1</td></tr>\n",
       "\t<tr><td>0</td><td>0</td><td>0</td><td>0</td><td>0</td><td>0</td><td>0</td><td>0</td><td>1</td><td>0</td><td>0</td><td>0</td><td>0</td><td>0</td><td>0</td><td>0</td></tr>\n",
       "\t<tr><td>0</td><td>0</td><td>1</td><td>1</td><td>1</td><td>0</td><td>0</td><td>1</td><td>0</td><td>0</td><td>0</td><td>0</td><td>0</td><td>0</td><td>0</td><td>0</td></tr>\n",
       "\t<tr><td>0</td><td>0</td><td>0</td><td>0</td><td>0</td><td>0</td><td>0</td><td>0</td><td>0</td><td>0</td><td>0</td><td>0</td><td>0</td><td>0</td><td>0</td><td>0</td></tr>\n",
       "\t<tr><td>0</td><td>0</td><td>0</td><td>0</td><td>0</td><td>0</td><td>0</td><td>0</td><td>0</td><td>0</td><td>0</td><td>0</td><td>0</td><td>0</td><td>0</td><td>0</td></tr>\n",
       "\t<tr><td>0</td><td>0</td><td>0</td><td>0</td><td>0</td><td>0</td><td>0</td><td>0</td><td>1</td><td>0</td><td>0</td><td>0</td><td>0</td><td>0</td><td>0</td><td>0</td></tr>\n",
       "\t<tr><td>0</td><td>0</td><td>0</td><td>0</td><td>0</td><td>0</td><td>0</td><td>0</td><td>0</td><td>0</td><td>0</td><td>0</td><td>0</td><td>0</td><td>0</td><td>0</td></tr>\n",
       "\t<tr><td>0</td><td>0</td><td>0</td><td>0</td><td>0</td><td>0</td><td>0</td><td>0</td><td>1</td><td>0</td><td>0</td><td>0</td><td>0</td><td>0</td><td>0</td><td>0</td></tr>\n",
       "</tbody>\n",
       "</table>\n"
      ],
      "text/latex": [
       "A matrix: 16 × 16 of type int\n",
       "\\begin{tabular}{llllllllllllllll}\n",
       " Acciaiuoli & Albizzi & Barbadori & Bischeri & Castellani & Ginori & Guadagni & Lamberteschi & Medici & Pazzi & Peruzzi & Pucci & Ridolfi & Salviati & Strozzi & Tornabuoni\\\\\n",
       "\\hline\n",
       "\t 0 & 0 & 0 & 0 & 0 & 0 & 0 & 0 & 0 & 0 & 0 & 0 & 0 & 0 & 0 & 0\\\\\n",
       "\t 0 & 0 & 0 & 0 & 0 & 0 & 0 & 0 & 0 & 0 & 0 & 0 & 0 & 0 & 0 & 0\\\\\n",
       "\t 0 & 0 & 0 & 0 & 1 & 1 & 0 & 0 & 1 & 0 & 1 & 0 & 0 & 0 & 0 & 0\\\\\n",
       "\t 0 & 0 & 0 & 0 & 0 & 0 & 1 & 1 & 0 & 0 & 1 & 0 & 0 & 0 & 0 & 0\\\\\n",
       "\t 0 & 0 & 1 & 0 & 0 & 0 & 0 & 1 & 0 & 0 & 1 & 0 & 0 & 0 & 0 & 0\\\\\n",
       "\t 0 & 0 & 1 & 0 & 0 & 0 & 0 & 0 & 1 & 0 & 0 & 0 & 0 & 0 & 0 & 0\\\\\n",
       "\t 0 & 0 & 0 & 1 & 0 & 0 & 0 & 1 & 0 & 0 & 0 & 0 & 0 & 0 & 0 & 0\\\\\n",
       "\t 0 & 0 & 0 & 1 & 1 & 0 & 1 & 0 & 0 & 0 & 1 & 0 & 0 & 0 & 0 & 0\\\\\n",
       "\t 0 & 0 & 1 & 0 & 0 & 1 & 0 & 0 & 0 & 1 & 0 & 0 & 0 & 1 & 0 & 1\\\\\n",
       "\t 0 & 0 & 0 & 0 & 0 & 0 & 0 & 0 & 1 & 0 & 0 & 0 & 0 & 0 & 0 & 0\\\\\n",
       "\t 0 & 0 & 1 & 1 & 1 & 0 & 0 & 1 & 0 & 0 & 0 & 0 & 0 & 0 & 0 & 0\\\\\n",
       "\t 0 & 0 & 0 & 0 & 0 & 0 & 0 & 0 & 0 & 0 & 0 & 0 & 0 & 0 & 0 & 0\\\\\n",
       "\t 0 & 0 & 0 & 0 & 0 & 0 & 0 & 0 & 0 & 0 & 0 & 0 & 0 & 0 & 0 & 0\\\\\n",
       "\t 0 & 0 & 0 & 0 & 0 & 0 & 0 & 0 & 1 & 0 & 0 & 0 & 0 & 0 & 0 & 0\\\\\n",
       "\t 0 & 0 & 0 & 0 & 0 & 0 & 0 & 0 & 0 & 0 & 0 & 0 & 0 & 0 & 0 & 0\\\\\n",
       "\t 0 & 0 & 0 & 0 & 0 & 0 & 0 & 0 & 1 & 0 & 0 & 0 & 0 & 0 & 0 & 0\\\\\n",
       "\\end{tabular}\n"
      ],
      "text/markdown": [
       "\n",
       "A matrix: 16 × 16 of type int\n",
       "\n",
       "| Acciaiuoli | Albizzi | Barbadori | Bischeri | Castellani | Ginori | Guadagni | Lamberteschi | Medici | Pazzi | Peruzzi | Pucci | Ridolfi | Salviati | Strozzi | Tornabuoni |\n",
       "|---|---|---|---|---|---|---|---|---|---|---|---|---|---|---|---|\n",
       "| 0 | 0 | 0 | 0 | 0 | 0 | 0 | 0 | 0 | 0 | 0 | 0 | 0 | 0 | 0 | 0 |\n",
       "| 0 | 0 | 0 | 0 | 0 | 0 | 0 | 0 | 0 | 0 | 0 | 0 | 0 | 0 | 0 | 0 |\n",
       "| 0 | 0 | 0 | 0 | 1 | 1 | 0 | 0 | 1 | 0 | 1 | 0 | 0 | 0 | 0 | 0 |\n",
       "| 0 | 0 | 0 | 0 | 0 | 0 | 1 | 1 | 0 | 0 | 1 | 0 | 0 | 0 | 0 | 0 |\n",
       "| 0 | 0 | 1 | 0 | 0 | 0 | 0 | 1 | 0 | 0 | 1 | 0 | 0 | 0 | 0 | 0 |\n",
       "| 0 | 0 | 1 | 0 | 0 | 0 | 0 | 0 | 1 | 0 | 0 | 0 | 0 | 0 | 0 | 0 |\n",
       "| 0 | 0 | 0 | 1 | 0 | 0 | 0 | 1 | 0 | 0 | 0 | 0 | 0 | 0 | 0 | 0 |\n",
       "| 0 | 0 | 0 | 1 | 1 | 0 | 1 | 0 | 0 | 0 | 1 | 0 | 0 | 0 | 0 | 0 |\n",
       "| 0 | 0 | 1 | 0 | 0 | 1 | 0 | 0 | 0 | 1 | 0 | 0 | 0 | 1 | 0 | 1 |\n",
       "| 0 | 0 | 0 | 0 | 0 | 0 | 0 | 0 | 1 | 0 | 0 | 0 | 0 | 0 | 0 | 0 |\n",
       "| 0 | 0 | 1 | 1 | 1 | 0 | 0 | 1 | 0 | 0 | 0 | 0 | 0 | 0 | 0 | 0 |\n",
       "| 0 | 0 | 0 | 0 | 0 | 0 | 0 | 0 | 0 | 0 | 0 | 0 | 0 | 0 | 0 | 0 |\n",
       "| 0 | 0 | 0 | 0 | 0 | 0 | 0 | 0 | 0 | 0 | 0 | 0 | 0 | 0 | 0 | 0 |\n",
       "| 0 | 0 | 0 | 0 | 0 | 0 | 0 | 0 | 1 | 0 | 0 | 0 | 0 | 0 | 0 | 0 |\n",
       "| 0 | 0 | 0 | 0 | 0 | 0 | 0 | 0 | 0 | 0 | 0 | 0 | 0 | 0 | 0 | 0 |\n",
       "| 0 | 0 | 0 | 0 | 0 | 0 | 0 | 0 | 1 | 0 | 0 | 0 | 0 | 0 | 0 | 0 |\n",
       "\n"
      ],
      "text/plain": [
       "      Acciaiuoli Albizzi Barbadori Bischeri Castellani Ginori Guadagni\n",
       " [1,] 0          0       0         0        0          0      0       \n",
       " [2,] 0          0       0         0        0          0      0       \n",
       " [3,] 0          0       0         0        1          1      0       \n",
       " [4,] 0          0       0         0        0          0      1       \n",
       " [5,] 0          0       1         0        0          0      0       \n",
       " [6,] 0          0       1         0        0          0      0       \n",
       " [7,] 0          0       0         1        0          0      0       \n",
       " [8,] 0          0       0         1        1          0      1       \n",
       " [9,] 0          0       1         0        0          1      0       \n",
       "[10,] 0          0       0         0        0          0      0       \n",
       "[11,] 0          0       1         1        1          0      0       \n",
       "[12,] 0          0       0         0        0          0      0       \n",
       "[13,] 0          0       0         0        0          0      0       \n",
       "[14,] 0          0       0         0        0          0      0       \n",
       "[15,] 0          0       0         0        0          0      0       \n",
       "[16,] 0          0       0         0        0          0      0       \n",
       "      Lamberteschi Medici Pazzi Peruzzi Pucci Ridolfi Salviati Strozzi\n",
       " [1,] 0            0      0     0       0     0       0        0      \n",
       " [2,] 0            0      0     0       0     0       0        0      \n",
       " [3,] 0            1      0     1       0     0       0        0      \n",
       " [4,] 1            0      0     1       0     0       0        0      \n",
       " [5,] 1            0      0     1       0     0       0        0      \n",
       " [6,] 0            1      0     0       0     0       0        0      \n",
       " [7,] 1            0      0     0       0     0       0        0      \n",
       " [8,] 0            0      0     1       0     0       0        0      \n",
       " [9,] 0            0      1     0       0     0       1        0      \n",
       "[10,] 0            1      0     0       0     0       0        0      \n",
       "[11,] 1            0      0     0       0     0       0        0      \n",
       "[12,] 0            0      0     0       0     0       0        0      \n",
       "[13,] 0            0      0     0       0     0       0        0      \n",
       "[14,] 0            1      0     0       0     0       0        0      \n",
       "[15,] 0            0      0     0       0     0       0        0      \n",
       "[16,] 0            1      0     0       0     0       0        0      \n",
       "      Tornabuoni\n",
       " [1,] 0         \n",
       " [2,] 0         \n",
       " [3,] 0         \n",
       " [4,] 0         \n",
       " [5,] 0         \n",
       " [6,] 0         \n",
       " [7,] 0         \n",
       " [8,] 0         \n",
       " [9,] 1         \n",
       "[10,] 0         \n",
       "[11,] 0         \n",
       "[12,] 0         \n",
       "[13,] 0         \n",
       "[14,] 0         \n",
       "[15,] 0         \n",
       "[16,] 0         "
      ]
     },
     "metadata": {},
     "output_type": "display_data"
    },
    {
     "data": {
      "image/png": "[encoded data removed]",
      "text/plain": [
       "Plot with title \"укладка Камада-Каваи\""
      ]
     },
     "metadata": {
      "image/png": {
       "height": 420,
       "width": 420
      }
     },
     "output_type": "display_data"
    }
   ],
   "source": [
    "library(igraph)\n",
    "library(statnet)\n",
    "\n",
    "smatrix <- as.matrix(read.csv(\"./florentine_business.csv\", comment.char=\"#\"))\n",
    "smatrix\n",
    "net <- graph_from_adjacency_matrix(smatrix, mode = \"undirected\")\n",
    "plot(net, layout=layout_with_fr(net), main = \"укладка Камада-Каваи\")"
   ]
  },
  {
   "cell_type": "markdown",
   "metadata": {},
   "source": [
    "№2. Сеть была исследована на предмет подгрупп с помощью n-клик, n-кланов и k-ядер."
   ]
  },
  {
   "cell_type": "code",
   "execution_count": null,
   "metadata": {
    "vscode": {
     "languageId": "r"
    }
   },
   "outputs": [],
   "source": []
  },
  {
   "cell_type": "markdown",
   "metadata": {},
   "source": [
    "№3. С помощью библиотеки igraph были исследованы алгоритмы обноружения сообществ в зависимости от номера варианта(вариант 59, вариант в данной задаче брал как 59%3+1) Вариант: 3). InfoMAP, Louvain, Optimal.\n",
    "\n",
    "Infomap - алгоритм пытается минимизировать функцию стоимости. Разделение основано на потоке, вызванном шаблоном соединений в данной сети.\n",
    "\n",
    "Louvain - алгоритм представляет собой жадный метод оптимизации, который выполняется за время O(n\\cdot\\log n), где n — количество узлов в сети.\n",
    "\n",
    "Optimal - алгоритм вычисляет оптимальную структуру сообщества для графа с точки зрения максимальной оценки модулярности. Расчет выполняется путем преобразования задачи максимизации модулярности в задачу целочисленного программирования и последующего вызова библиотеки GLPK для ее решения.\n",
    "\n",
    "Вывод: алгоритмы показали очень схожие результаты, даже не смотря на различие в методах нахождения сообществ."
   ]
  },
  {
   "cell_type": "code",
   "execution_count": 38,
   "metadata": {
    "vscode": {
     "languageId": "r"
    }
   },
   "outputs": [
    {
     "data": {
      "image/png": "[encoded data removed]",
      "text/plain": [
       "Plot with title \"InfoMAP-алгоритм\""
      ]
     },
     "metadata": {
      "image/png": {
       "height": 420,
       "width": 420
      }
     },
     "output_type": "display_data"
    },
    {
     "data": {
      "image/png": "[encoded data removed]",
      "text/plain": [
       "Plot with title \"Louvain-алгоритм\""
      ]
     },
     "metadata": {
      "image/png": {
       "height": 420,
       "width": 420
      }
     },
     "output_type": "display_data"
    },
    {
     "data": {
      "image/png": "[encoded data removed]",
      "text/plain": [
       "Plot with title \"Optimal-алгоритм\""
      ]
     },
     "metadata": {
      "image/png": {
       "height": 420,
       "width": 420
      }
     },
     "output_type": "display_data"
    }
   ],
   "source": [
    "alg_infomap <- cluster_infomap(net)\n",
    "alg_louvain <- cluster_louvain(net)\n",
    "alg_optimal <- cluster_optimal(net)\n",
    "\n",
    "plot(alg_infomap, net, layout=layout_with_fr(net), main=\"InfoMAP-алгоритм\")\n",
    "plot(alg_louvain, net, layout=layout_with_fr(net), main=\"Louvain-алгоритм\")\n",
    "plot(alg_optimal, net, layout=layout_with_fr(net), main=\"Optimal-алгоритм\")"
   ]
  },
  {
   "cell_type": "markdown",
   "metadata": {},
   "source": [
    "№4. Из файла `сeo.csv` была извлечена матрица инцидентности с помощью функции `read.csv`. Полученная сеть была отображена на экран."
   ]
  },
  {
   "cell_type": "code",
   "execution_count": 39,
   "metadata": {
    "vscode": {
     "languageId": "r"
    }
   },
   "outputs": [
    {
     "data": {
      "text/html": [
       "<table class=\"dataframe\">\n",
       "<caption>A matrix: 26 × 15 of type int</caption>\n",
       "<thead>\n",
       "\t<tr><th scope=col>V1</th><th scope=col>V2</th><th scope=col>V3</th><th scope=col>V4</th><th scope=col>V5</th><th scope=col>V6</th><th scope=col>V7</th><th scope=col>V8</th><th scope=col>V9</th><th scope=col>V10</th><th scope=col>V11</th><th scope=col>V12</th><th scope=col>V13</th><th scope=col>V14</th><th scope=col>V15</th></tr>\n",
       "</thead>\n",
       "<tbody>\n",
       "\t<tr><td>0</td><td>0</td><td>1</td><td>1</td><td>0</td><td>0</td><td>0</td><td>0</td><td>1</td><td>0</td><td>0</td><td>0</td><td>0</td><td>0</td><td>0</td></tr>\n",
       "\t<tr><td>0</td><td>0</td><td>1</td><td>0</td><td>1</td><td>0</td><td>1</td><td>0</td><td>0</td><td>0</td><td>0</td><td>0</td><td>0</td><td>0</td><td>0</td></tr>\n",
       "\t<tr><td>0</td><td>0</td><td>1</td><td>0</td><td>0</td><td>0</td><td>0</td><td>0</td><td>0</td><td>0</td><td>0</td><td>1</td><td>0</td><td>0</td><td>0</td></tr>\n",
       "\t<tr><td>0</td><td>1</td><td>1</td><td>0</td><td>0</td><td>0</td><td>0</td><td>0</td><td>0</td><td>0</td><td>0</td><td>0</td><td>0</td><td>0</td><td>1</td></tr>\n",
       "\t<tr><td>0</td><td>0</td><td>1</td><td>0</td><td>0</td><td>0</td><td>0</td><td>0</td><td>0</td><td>0</td><td>0</td><td>0</td><td>1</td><td>1</td><td>0</td></tr>\n",
       "\t<tr><td>0</td><td>1</td><td>1</td><td>0</td><td>0</td><td>0</td><td>0</td><td>0</td><td>0</td><td>0</td><td>0</td><td>0</td><td>0</td><td>1</td><td>0</td></tr>\n",
       "\t<tr><td>0</td><td>0</td><td>1</td><td>1</td><td>0</td><td>0</td><td>0</td><td>0</td><td>0</td><td>1</td><td>1</td><td>0</td><td>0</td><td>0</td><td>0</td></tr>\n",
       "\t<tr><td>0</td><td>0</td><td>0</td><td>1</td><td>0</td><td>0</td><td>1</td><td>0</td><td>0</td><td>1</td><td>0</td><td>0</td><td>0</td><td>0</td><td>0</td></tr>\n",
       "\t<tr><td>1</td><td>0</td><td>0</td><td>1</td><td>0</td><td>0</td><td>0</td><td>1</td><td>0</td><td>1</td><td>0</td><td>0</td><td>0</td><td>0</td><td>0</td></tr>\n",
       "\t<tr><td>0</td><td>0</td><td>1</td><td>0</td><td>0</td><td>0</td><td>0</td><td>0</td><td>1</td><td>0</td><td>0</td><td>0</td><td>0</td><td>0</td><td>0</td></tr>\n",
       "\t<tr><td>0</td><td>1</td><td>1</td><td>0</td><td>0</td><td>0</td><td>0</td><td>0</td><td>1</td><td>0</td><td>0</td><td>0</td><td>0</td><td>0</td><td>0</td></tr>\n",
       "\t<tr><td>0</td><td>0</td><td>0</td><td>1</td><td>0</td><td>0</td><td>1</td><td>0</td><td>0</td><td>0</td><td>0</td><td>0</td><td>0</td><td>0</td><td>0</td></tr>\n",
       "\t<tr><td>0</td><td>0</td><td>1</td><td>1</td><td>1</td><td>0</td><td>0</td><td>0</td><td>1</td><td>0</td><td>0</td><td>0</td><td>0</td><td>0</td><td>0</td></tr>\n",
       "\t<tr><td>0</td><td>1</td><td>1</td><td>1</td><td>0</td><td>0</td><td>0</td><td>0</td><td>0</td><td>0</td><td>1</td><td>1</td><td>1</td><td>0</td><td>1</td></tr>\n",
       "\t<tr><td>0</td><td>1</td><td>1</td><td>0</td><td>0</td><td>1</td><td>0</td><td>0</td><td>0</td><td>0</td><td>0</td><td>0</td><td>1</td><td>0</td><td>1</td></tr>\n",
       "\t<tr><td>0</td><td>1</td><td>1</td><td>0</td><td>0</td><td>1</td><td>0</td><td>1</td><td>0</td><td>0</td><td>0</td><td>0</td><td>0</td><td>1</td><td>0</td></tr>\n",
       "\t<tr><td>0</td><td>1</td><td>1</td><td>0</td><td>1</td><td>0</td><td>0</td><td>0</td><td>0</td><td>0</td><td>1</td><td>1</td><td>0</td><td>0</td><td>1</td></tr>\n",
       "\t<tr><td>0</td><td>0</td><td>0</td><td>1</td><td>0</td><td>0</td><td>0</td><td>0</td><td>1</td><td>0</td><td>0</td><td>1</td><td>1</td><td>0</td><td>1</td></tr>\n",
       "\t<tr><td>1</td><td>0</td><td>1</td><td>1</td><td>0</td><td>0</td><td>1</td><td>0</td><td>1</td><td>0</td><td>0</td><td>0</td><td>0</td><td>0</td><td>0</td></tr>\n",
       "\t<tr><td>0</td><td>1</td><td>1</td><td>1</td><td>0</td><td>0</td><td>0</td><td>0</td><td>0</td><td>0</td><td>1</td><td>0</td><td>0</td><td>0</td><td>1</td></tr>\n",
       "\t<tr><td>0</td><td>0</td><td>1</td><td>1</td><td>0</td><td>0</td><td>0</td><td>1</td><td>0</td><td>0</td><td>0</td><td>0</td><td>0</td><td>0</td><td>0</td></tr>\n",
       "\t<tr><td>0</td><td>0</td><td>1</td><td>0</td><td>0</td><td>0</td><td>0</td><td>1</td><td>0</td><td>0</td><td>0</td><td>0</td><td>0</td><td>0</td><td>1</td></tr>\n",
       "\t<tr><td>0</td><td>1</td><td>1</td><td>0</td><td>0</td><td>1</td><td>0</td><td>0</td><td>0</td><td>0</td><td>0</td><td>0</td><td>0</td><td>0</td><td>1</td></tr>\n",
       "\t<tr><td>1</td><td>0</td><td>1</td><td>1</td><td>0</td><td>1</td><td>0</td><td>0</td><td>0</td><td>0</td><td>0</td><td>0</td><td>0</td><td>0</td><td>1</td></tr>\n",
       "\t<tr><td>0</td><td>1</td><td>1</td><td>0</td><td>0</td><td>0</td><td>0</td><td>0</td><td>0</td><td>0</td><td>0</td><td>0</td><td>1</td><td>0</td><td>0</td></tr>\n",
       "\t<tr><td>0</td><td>1</td><td>1</td><td>0</td><td>0</td><td>0</td><td>0</td><td>0</td><td>0</td><td>0</td><td>0</td><td>1</td><td>0</td><td>0</td><td>0</td></tr>\n",
       "</tbody>\n",
       "</table>\n"
      ],
      "text/latex": [
       "A matrix: 26 × 15 of type int\n",
       "\\begin{tabular}{lllllllllllllll}\n",
       " V1 & V2 & V3 & V4 & V5 & V6 & V7 & V8 & V9 & V10 & V11 & V12 & V13 & V14 & V15\\\\\n",
       "\\hline\n",
       "\t 0 & 0 & 1 & 1 & 0 & 0 & 0 & 0 & 1 & 0 & 0 & 0 & 0 & 0 & 0\\\\\n",
       "\t 0 & 0 & 1 & 0 & 1 & 0 & 1 & 0 & 0 & 0 & 0 & 0 & 0 & 0 & 0\\\\\n",
       "\t 0 & 0 & 1 & 0 & 0 & 0 & 0 & 0 & 0 & 0 & 0 & 1 & 0 & 0 & 0\\\\\n",
       "\t 0 & 1 & 1 & 0 & 0 & 0 & 0 & 0 & 0 & 0 & 0 & 0 & 0 & 0 & 1\\\\\n",
       "\t 0 & 0 & 1 & 0 & 0 & 0 & 0 & 0 & 0 & 0 & 0 & 0 & 1 & 1 & 0\\\\\n",
       "\t 0 & 1 & 1 & 0 & 0 & 0 & 0 & 0 & 0 & 0 & 0 & 0 & 0 & 1 & 0\\\\\n",
       "\t 0 & 0 & 1 & 1 & 0 & 0 & 0 & 0 & 0 & 1 & 1 & 0 & 0 & 0 & 0\\\\\n",
       "\t 0 & 0 & 0 & 1 & 0 & 0 & 1 & 0 & 0 & 1 & 0 & 0 & 0 & 0 & 0\\\\\n",
       "\t 1 & 0 & 0 & 1 & 0 & 0 & 0 & 1 & 0 & 1 & 0 & 0 & 0 & 0 & 0\\\\\n",
       "\t 0 & 0 & 1 & 0 & 0 & 0 & 0 & 0 & 1 & 0 & 0 & 0 & 0 & 0 & 0\\\\\n",
       "\t 0 & 1 & 1 & 0 & 0 & 0 & 0 & 0 & 1 & 0 & 0 & 0 & 0 & 0 & 0\\\\\n",
       "\t 0 & 0 & 0 & 1 & 0 & 0 & 1 & 0 & 0 & 0 & 0 & 0 & 0 & 0 & 0\\\\\n",
       "\t 0 & 0 & 1 & 1 & 1 & 0 & 0 & 0 & 1 & 0 & 0 & 0 & 0 & 0 & 0\\\\\n",
       "\t 0 & 1 & 1 & 1 & 0 & 0 & 0 & 0 & 0 & 0 & 1 & 1 & 1 & 0 & 1\\\\\n",
       "\t 0 & 1 & 1 & 0 & 0 & 1 & 0 & 0 & 0 & 0 & 0 & 0 & 1 & 0 & 1\\\\\n",
       "\t 0 & 1 & 1 & 0 & 0 & 1 & 0 & 1 & 0 & 0 & 0 & 0 & 0 & 1 & 0\\\\\n",
       "\t 0 & 1 & 1 & 0 & 1 & 0 & 0 & 0 & 0 & 0 & 1 & 1 & 0 & 0 & 1\\\\\n",
       "\t 0 & 0 & 0 & 1 & 0 & 0 & 0 & 0 & 1 & 0 & 0 & 1 & 1 & 0 & 1\\\\\n",
       "\t 1 & 0 & 1 & 1 & 0 & 0 & 1 & 0 & 1 & 0 & 0 & 0 & 0 & 0 & 0\\\\\n",
       "\t 0 & 1 & 1 & 1 & 0 & 0 & 0 & 0 & 0 & 0 & 1 & 0 & 0 & 0 & 1\\\\\n",
       "\t 0 & 0 & 1 & 1 & 0 & 0 & 0 & 1 & 0 & 0 & 0 & 0 & 0 & 0 & 0\\\\\n",
       "\t 0 & 0 & 1 & 0 & 0 & 0 & 0 & 1 & 0 & 0 & 0 & 0 & 0 & 0 & 1\\\\\n",
       "\t 0 & 1 & 1 & 0 & 0 & 1 & 0 & 0 & 0 & 0 & 0 & 0 & 0 & 0 & 1\\\\\n",
       "\t 1 & 0 & 1 & 1 & 0 & 1 & 0 & 0 & 0 & 0 & 0 & 0 & 0 & 0 & 1\\\\\n",
       "\t 0 & 1 & 1 & 0 & 0 & 0 & 0 & 0 & 0 & 0 & 0 & 0 & 1 & 0 & 0\\\\\n",
       "\t 0 & 1 & 1 & 0 & 0 & 0 & 0 & 0 & 0 & 0 & 0 & 1 & 0 & 0 & 0\\\\\n",
       "\\end{tabular}\n"
      ],
      "text/markdown": [
       "\n",
       "A matrix: 26 × 15 of type int\n",
       "\n",
       "| V1 | V2 | V3 | V4 | V5 | V6 | V7 | V8 | V9 | V10 | V11 | V12 | V13 | V14 | V15 |\n",
       "|---|---|---|---|---|---|---|---|---|---|---|---|---|---|---|\n",
       "| 0 | 0 | 1 | 1 | 0 | 0 | 0 | 0 | 1 | 0 | 0 | 0 | 0 | 0 | 0 |\n",
       "| 0 | 0 | 1 | 0 | 1 | 0 | 1 | 0 | 0 | 0 | 0 | 0 | 0 | 0 | 0 |\n",
       "| 0 | 0 | 1 | 0 | 0 | 0 | 0 | 0 | 0 | 0 | 0 | 1 | 0 | 0 | 0 |\n",
       "| 0 | 1 | 1 | 0 | 0 | 0 | 0 | 0 | 0 | 0 | 0 | 0 | 0 | 0 | 1 |\n",
       "| 0 | 0 | 1 | 0 | 0 | 0 | 0 | 0 | 0 | 0 | 0 | 0 | 1 | 1 | 0 |\n",
       "| 0 | 1 | 1 | 0 | 0 | 0 | 0 | 0 | 0 | 0 | 0 | 0 | 0 | 1 | 0 |\n",
       "| 0 | 0 | 1 | 1 | 0 | 0 | 0 | 0 | 0 | 1 | 1 | 0 | 0 | 0 | 0 |\n",
       "| 0 | 0 | 0 | 1 | 0 | 0 | 1 | 0 | 0 | 1 | 0 | 0 | 0 | 0 | 0 |\n",
       "| 1 | 0 | 0 | 1 | 0 | 0 | 0 | 1 | 0 | 1 | 0 | 0 | 0 | 0 | 0 |\n",
       "| 0 | 0 | 1 | 0 | 0 | 0 | 0 | 0 | 1 | 0 | 0 | 0 | 0 | 0 | 0 |\n",
       "| 0 | 1 | 1 | 0 | 0 | 0 | 0 | 0 | 1 | 0 | 0 | 0 | 0 | 0 | 0 |\n",
       "| 0 | 0 | 0 | 1 | 0 | 0 | 1 | 0 | 0 | 0 | 0 | 0 | 0 | 0 | 0 |\n",
       "| 0 | 0 | 1 | 1 | 1 | 0 | 0 | 0 | 1 | 0 | 0 | 0 | 0 | 0 | 0 |\n",
       "| 0 | 1 | 1 | 1 | 0 | 0 | 0 | 0 | 0 | 0 | 1 | 1 | 1 | 0 | 1 |\n",
       "| 0 | 1 | 1 | 0 | 0 | 1 | 0 | 0 | 0 | 0 | 0 | 0 | 1 | 0 | 1 |\n",
       "| 0 | 1 | 1 | 0 | 0 | 1 | 0 | 1 | 0 | 0 | 0 | 0 | 0 | 1 | 0 |\n",
       "| 0 | 1 | 1 | 0 | 1 | 0 | 0 | 0 | 0 | 0 | 1 | 1 | 0 | 0 | 1 |\n",
       "| 0 | 0 | 0 | 1 | 0 | 0 | 0 | 0 | 1 | 0 | 0 | 1 | 1 | 0 | 1 |\n",
       "| 1 | 0 | 1 | 1 | 0 | 0 | 1 | 0 | 1 | 0 | 0 | 0 | 0 | 0 | 0 |\n",
       "| 0 | 1 | 1 | 1 | 0 | 0 | 0 | 0 | 0 | 0 | 1 | 0 | 0 | 0 | 1 |\n",
       "| 0 | 0 | 1 | 1 | 0 | 0 | 0 | 1 | 0 | 0 | 0 | 0 | 0 | 0 | 0 |\n",
       "| 0 | 0 | 1 | 0 | 0 | 0 | 0 | 1 | 0 | 0 | 0 | 0 | 0 | 0 | 1 |\n",
       "| 0 | 1 | 1 | 0 | 0 | 1 | 0 | 0 | 0 | 0 | 0 | 0 | 0 | 0 | 1 |\n",
       "| 1 | 0 | 1 | 1 | 0 | 1 | 0 | 0 | 0 | 0 | 0 | 0 | 0 | 0 | 1 |\n",
       "| 0 | 1 | 1 | 0 | 0 | 0 | 0 | 0 | 0 | 0 | 0 | 0 | 1 | 0 | 0 |\n",
       "| 0 | 1 | 1 | 0 | 0 | 0 | 0 | 0 | 0 | 0 | 0 | 1 | 0 | 0 | 0 |\n",
       "\n"
      ],
      "text/plain": [
       "      V1 V2 V3 V4 V5 V6 V7 V8 V9 V10 V11 V12 V13 V14 V15\n",
       " [1,] 0  0  1  1  0  0  0  0  1  0   0   0   0   0   0  \n",
       " [2,] 0  0  1  0  1  0  1  0  0  0   0   0   0   0   0  \n",
       " [3,] 0  0  1  0  0  0  0  0  0  0   0   1   0   0   0  \n",
       " [4,] 0  1  1  0  0  0  0  0  0  0   0   0   0   0   1  \n",
       " [5,] 0  0  1  0  0  0  0  0  0  0   0   0   1   1   0  \n",
       " [6,] 0  1  1  0  0  0  0  0  0  0   0   0   0   1   0  \n",
       " [7,] 0  0  1  1  0  0  0  0  0  1   1   0   0   0   0  \n",
       " [8,] 0  0  0  1  0  0  1  0  0  1   0   0   0   0   0  \n",
       " [9,] 1  0  0  1  0  0  0  1  0  1   0   0   0   0   0  \n",
       "[10,] 0  0  1  0  0  0  0  0  1  0   0   0   0   0   0  \n",
       "[11,] 0  1  1  0  0  0  0  0  1  0   0   0   0   0   0  \n",
       "[12,] 0  0  0  1  0  0  1  0  0  0   0   0   0   0   0  \n",
       "[13,] 0  0  1  1  1  0  0  0  1  0   0   0   0   0   0  \n",
       "[14,] 0  1  1  1  0  0  0  0  0  0   1   1   1   0   1  \n",
       "[15,] 0  1  1  0  0  1  0  0  0  0   0   0   1   0   1  \n",
       "[16,] 0  1  1  0  0  1  0  1  0  0   0   0   0   1   0  \n",
       "[17,] 0  1  1  0  1  0  0  0  0  0   1   1   0   0   1  \n",
       "[18,] 0  0  0  1  0  0  0  0  1  0   0   1   1   0   1  \n",
       "[19,] 1  0  1  1  0  0  1  0  1  0   0   0   0   0   0  \n",
       "[20,] 0  1  1  1  0  0  0  0  0  0   1   0   0   0   1  \n",
       "[21,] 0  0  1  1  0  0  0  1  0  0   0   0   0   0   0  \n",
       "[22,] 0  0  1  0  0  0  0  1  0  0   0   0   0   0   1  \n",
       "[23,] 0  1  1  0  0  1  0  0  0  0   0   0   0   0   1  \n",
       "[24,] 1  0  1  1  0  1  0  0  0  0   0   0   0   0   1  \n",
       "[25,] 0  1  1  0  0  0  0  0  0  0   0   0   1   0   0  \n",
       "[26,] 0  1  1  0  0  0  0  0  0  0   0   1   0   0   0  "
      ]
     },
     "metadata": {},
     "output_type": "display_data"
    }
   ],
   "source": [
    "smatrix_2 <- as.matrix(read.csv(\"./ceo.csv\", comment.char=\"#\", header = FALSE))\n",
    "smatrix_2"
   ]
  },
  {
   "cell_type": "markdown",
   "metadata": {},
   "source": [
    "№5. Сеть была отображена в виде биграфа."
   ]
  },
  {
   "cell_type": "code",
   "execution_count": 40,
   "metadata": {
    "vscode": {
     "languageId": "r"
    }
   },
   "outputs": [
    {
     "data": {
      "image/png": "[encoded data removed]",
      "text/plain": [
       "Plot with title \"\""
      ]
     },
     "metadata": {
      "image/png": {
       "height": 420,
       "width": 420
      }
     },
     "output_type": "display_data"
    }
   ],
   "source": [
    "ceo <- 26\n",
    "clubs <- 15\n",
    "zeros <- matrix(0, nrow=ceo, ncol=ceo)\n",
    "result <- cbind(zeros, smatrix_2)\n",
    "zeros <- matrix(0, nrow=clubs, ncol=clubs)\n",
    "z <- cbind(t(smatrix_2), zeros)\n",
    "result <- rbind(result, z)\n",
    "\n",
    "clubs_names <- paste(rep('club ', clubs), 1:clubs)\n",
    "ceo_names<-paste(rep('ceo ', ceo), 1:ceo)\n",
    "colnames(result) <- c(ceo_names, clubs_names)\n",
    "rownames(result) <- c(ceo_names, clubs_names)\n",
    "\n",
    "bi_net<-graph_from_adjacency_matrix(result, mode = \"undirected\")\n",
    "V(bi_net)$x<-c(rep(0, ceo), rep(0.01, clubs))\n",
    "V(bi_net)$y<-c(1:ceo, (1:clubs)*1.4)\n",
    "V(bi_net)$color<-c(rep('green', ceo), rep('yellow', clubs))\n",
    "\n",
    "plot(bi_net)"
   ]
  },
  {
   "cell_type": "markdown",
   "metadata": {},
   "source": [
    "№7. Сеть аффилированности была представлена в виде двух одномодальных сетей: сеть соучастия и сеть перекрытия событий. Полученные сети были представлены в виде ценностных матриц и взвешенных графов. Вывод: второй и третий клубы содержат наибольшее число общих участников среди всех пар клубов, а также можем увидеть, что каждый директор состоит в одном и том же клубе с большинством других директоров. "
   ]
  },
  {
   "cell_type": "code",
   "execution_count": 41,
   "metadata": {
    "vscode": {
     "languageId": "r"
    }
   },
   "outputs": [
    {
     "name": "stdout",
     "output_type": "stream",
     "text": [
      "[1] \"Матрица соучастия акторов:\"\n"
     ]
    },
    {
     "data": {
      "text/html": [
       "<table class=\"dataframe\">\n",
       "<caption>A matrix: 26 × 26 of type dbl</caption>\n",
       "<tbody>\n",
       "\t<tr><td>3</td><td>1</td><td>1</td><td>1</td><td>1</td><td>1</td><td>2</td><td>1</td><td>1</td><td>2</td><td>⋯</td><td>1</td><td>2</td><td>3</td><td>2</td><td>2</td><td>1</td><td>1</td><td>2</td><td>1</td><td>1</td></tr>\n",
       "\t<tr><td>1</td><td>3</td><td>1</td><td>1</td><td>1</td><td>1</td><td>1</td><td>1</td><td>0</td><td>1</td><td>⋯</td><td>2</td><td>0</td><td>2</td><td>1</td><td>1</td><td>1</td><td>1</td><td>1</td><td>1</td><td>1</td></tr>\n",
       "\t<tr><td>1</td><td>1</td><td>2</td><td>1</td><td>1</td><td>1</td><td>1</td><td>0</td><td>0</td><td>1</td><td>⋯</td><td>2</td><td>1</td><td>1</td><td>1</td><td>1</td><td>1</td><td>1</td><td>1</td><td>1</td><td>2</td></tr>\n",
       "\t<tr><td>1</td><td>1</td><td>1</td><td>3</td><td>1</td><td>2</td><td>1</td><td>0</td><td>0</td><td>1</td><td>⋯</td><td>3</td><td>1</td><td>1</td><td>3</td><td>1</td><td>2</td><td>3</td><td>2</td><td>2</td><td>2</td></tr>\n",
       "\t<tr><td>1</td><td>1</td><td>1</td><td>1</td><td>3</td><td>2</td><td>1</td><td>0</td><td>0</td><td>1</td><td>⋯</td><td>1</td><td>1</td><td>1</td><td>1</td><td>1</td><td>1</td><td>1</td><td>1</td><td>2</td><td>1</td></tr>\n",
       "\t<tr><td>1</td><td>1</td><td>1</td><td>2</td><td>2</td><td>3</td><td>1</td><td>0</td><td>0</td><td>1</td><td>⋯</td><td>2</td><td>0</td><td>1</td><td>2</td><td>1</td><td>1</td><td>2</td><td>1</td><td>2</td><td>2</td></tr>\n",
       "\t<tr><td>2</td><td>1</td><td>1</td><td>1</td><td>1</td><td>1</td><td>4</td><td>2</td><td>2</td><td>1</td><td>⋯</td><td>2</td><td>1</td><td>2</td><td>3</td><td>2</td><td>1</td><td>1</td><td>2</td><td>1</td><td>1</td></tr>\n",
       "\t<tr><td>1</td><td>1</td><td>0</td><td>0</td><td>0</td><td>0</td><td>2</td><td>3</td><td>2</td><td>0</td><td>⋯</td><td>0</td><td>1</td><td>2</td><td>1</td><td>1</td><td>0</td><td>0</td><td>1</td><td>0</td><td>0</td></tr>\n",
       "\t<tr><td>1</td><td>0</td><td>0</td><td>0</td><td>0</td><td>0</td><td>2</td><td>2</td><td>4</td><td>0</td><td>⋯</td><td>0</td><td>1</td><td>2</td><td>1</td><td>2</td><td>1</td><td>0</td><td>2</td><td>0</td><td>0</td></tr>\n",
       "\t<tr><td>2</td><td>1</td><td>1</td><td>1</td><td>1</td><td>1</td><td>1</td><td>0</td><td>0</td><td>2</td><td>⋯</td><td>1</td><td>1</td><td>2</td><td>1</td><td>1</td><td>1</td><td>1</td><td>1</td><td>1</td><td>1</td></tr>\n",
       "\t<tr><td>2</td><td>1</td><td>1</td><td>2</td><td>1</td><td>2</td><td>1</td><td>0</td><td>0</td><td>2</td><td>⋯</td><td>2</td><td>1</td><td>2</td><td>2</td><td>1</td><td>1</td><td>2</td><td>1</td><td>2</td><td>2</td></tr>\n",
       "\t<tr><td>1</td><td>1</td><td>0</td><td>0</td><td>0</td><td>0</td><td>1</td><td>2</td><td>1</td><td>0</td><td>⋯</td><td>0</td><td>1</td><td>2</td><td>1</td><td>1</td><td>0</td><td>0</td><td>1</td><td>0</td><td>0</td></tr>\n",
       "\t<tr><td>3</td><td>2</td><td>1</td><td>1</td><td>1</td><td>1</td><td>2</td><td>1</td><td>1</td><td>2</td><td>⋯</td><td>2</td><td>2</td><td>3</td><td>2</td><td>2</td><td>1</td><td>1</td><td>2</td><td>1</td><td>1</td></tr>\n",
       "\t<tr><td>2</td><td>1</td><td>2</td><td>3</td><td>2</td><td>2</td><td>3</td><td>1</td><td>1</td><td>1</td><td>⋯</td><td>5</td><td>4</td><td>2</td><td>5</td><td>2</td><td>2</td><td>3</td><td>3</td><td>3</td><td>3</td></tr>\n",
       "\t<tr><td>1</td><td>1</td><td>1</td><td>3</td><td>2</td><td>2</td><td>1</td><td>0</td><td>0</td><td>1</td><td>⋯</td><td>3</td><td>2</td><td>1</td><td>3</td><td>1</td><td>2</td><td>4</td><td>3</td><td>3</td><td>2</td></tr>\n",
       "\t<tr><td>1</td><td>1</td><td>1</td><td>2</td><td>2</td><td>3</td><td>1</td><td>0</td><td>1</td><td>1</td><td>⋯</td><td>2</td><td>0</td><td>1</td><td>2</td><td>2</td><td>2</td><td>3</td><td>2</td><td>2</td><td>2</td></tr>\n",
       "\t<tr><td>1</td><td>2</td><td>2</td><td>3</td><td>1</td><td>2</td><td>2</td><td>0</td><td>0</td><td>1</td><td>⋯</td><td>6</td><td>2</td><td>1</td><td>4</td><td>1</td><td>2</td><td>3</td><td>2</td><td>2</td><td>3</td></tr>\n",
       "\t<tr><td>2</td><td>0</td><td>1</td><td>1</td><td>1</td><td>0</td><td>1</td><td>1</td><td>1</td><td>1</td><td>⋯</td><td>2</td><td>5</td><td>2</td><td>2</td><td>1</td><td>1</td><td>1</td><td>2</td><td>1</td><td>1</td></tr>\n",
       "\t<tr><td>3</td><td>2</td><td>1</td><td>1</td><td>1</td><td>1</td><td>2</td><td>2</td><td>2</td><td>2</td><td>⋯</td><td>1</td><td>2</td><td>5</td><td>2</td><td>2</td><td>1</td><td>1</td><td>3</td><td>1</td><td>1</td></tr>\n",
       "\t<tr><td>2</td><td>1</td><td>1</td><td>3</td><td>1</td><td>2</td><td>3</td><td>1</td><td>1</td><td>1</td><td>⋯</td><td>4</td><td>2</td><td>2</td><td>5</td><td>2</td><td>2</td><td>3</td><td>3</td><td>2</td><td>2</td></tr>\n",
       "\t<tr><td>2</td><td>1</td><td>1</td><td>1</td><td>1</td><td>1</td><td>2</td><td>1</td><td>2</td><td>1</td><td>⋯</td><td>1</td><td>1</td><td>2</td><td>2</td><td>3</td><td>2</td><td>1</td><td>2</td><td>1</td><td>1</td></tr>\n",
       "\t<tr><td>1</td><td>1</td><td>1</td><td>2</td><td>1</td><td>1</td><td>1</td><td>0</td><td>1</td><td>1</td><td>⋯</td><td>2</td><td>1</td><td>1</td><td>2</td><td>2</td><td>3</td><td>2</td><td>2</td><td>1</td><td>1</td></tr>\n",
       "\t<tr><td>1</td><td>1</td><td>1</td><td>3</td><td>1</td><td>2</td><td>1</td><td>0</td><td>0</td><td>1</td><td>⋯</td><td>3</td><td>1</td><td>1</td><td>3</td><td>1</td><td>2</td><td>4</td><td>3</td><td>2</td><td>2</td></tr>\n",
       "\t<tr><td>2</td><td>1</td><td>1</td><td>2</td><td>1</td><td>1</td><td>2</td><td>1</td><td>2</td><td>1</td><td>⋯</td><td>2</td><td>2</td><td>3</td><td>3</td><td>2</td><td>2</td><td>3</td><td>5</td><td>1</td><td>1</td></tr>\n",
       "\t<tr><td>1</td><td>1</td><td>1</td><td>2</td><td>2</td><td>2</td><td>1</td><td>0</td><td>0</td><td>1</td><td>⋯</td><td>2</td><td>1</td><td>1</td><td>2</td><td>1</td><td>1</td><td>2</td><td>1</td><td>3</td><td>2</td></tr>\n",
       "\t<tr><td>1</td><td>1</td><td>2</td><td>2</td><td>1</td><td>2</td><td>1</td><td>0</td><td>0</td><td>1</td><td>⋯</td><td>3</td><td>1</td><td>1</td><td>2</td><td>1</td><td>1</td><td>2</td><td>1</td><td>2</td><td>3</td></tr>\n",
       "</tbody>\n",
       "</table>\n"
      ],
      "text/latex": [
       "A matrix: 26 × 26 of type dbl\n",
       "\\begin{tabular}{lllllllllllllllllllll}\n",
       "\t 3 & 1 & 1 & 1 & 1 & 1 & 2 & 1 & 1 & 2 & ⋯ & 1 & 2 & 3 & 2 & 2 & 1 & 1 & 2 & 1 & 1\\\\\n",
       "\t 1 & 3 & 1 & 1 & 1 & 1 & 1 & 1 & 0 & 1 & ⋯ & 2 & 0 & 2 & 1 & 1 & 1 & 1 & 1 & 1 & 1\\\\\n",
       "\t 1 & 1 & 2 & 1 & 1 & 1 & 1 & 0 & 0 & 1 & ⋯ & 2 & 1 & 1 & 1 & 1 & 1 & 1 & 1 & 1 & 2\\\\\n",
       "\t 1 & 1 & 1 & 3 & 1 & 2 & 1 & 0 & 0 & 1 & ⋯ & 3 & 1 & 1 & 3 & 1 & 2 & 3 & 2 & 2 & 2\\\\\n",
       "\t 1 & 1 & 1 & 1 & 3 & 2 & 1 & 0 & 0 & 1 & ⋯ & 1 & 1 & 1 & 1 & 1 & 1 & 1 & 1 & 2 & 1\\\\\n",
       "\t 1 & 1 & 1 & 2 & 2 & 3 & 1 & 0 & 0 & 1 & ⋯ & 2 & 0 & 1 & 2 & 1 & 1 & 2 & 1 & 2 & 2\\\\\n",
       "\t 2 & 1 & 1 & 1 & 1 & 1 & 4 & 2 & 2 & 1 & ⋯ & 2 & 1 & 2 & 3 & 2 & 1 & 1 & 2 & 1 & 1\\\\\n",
       "\t 1 & 1 & 0 & 0 & 0 & 0 & 2 & 3 & 2 & 0 & ⋯ & 0 & 1 & 2 & 1 & 1 & 0 & 0 & 1 & 0 & 0\\\\\n",
       "\t 1 & 0 & 0 & 0 & 0 & 0 & 2 & 2 & 4 & 0 & ⋯ & 0 & 1 & 2 & 1 & 2 & 1 & 0 & 2 & 0 & 0\\\\\n",
       "\t 2 & 1 & 1 & 1 & 1 & 1 & 1 & 0 & 0 & 2 & ⋯ & 1 & 1 & 2 & 1 & 1 & 1 & 1 & 1 & 1 & 1\\\\\n",
       "\t 2 & 1 & 1 & 2 & 1 & 2 & 1 & 0 & 0 & 2 & ⋯ & 2 & 1 & 2 & 2 & 1 & 1 & 2 & 1 & 2 & 2\\\\\n",
       "\t 1 & 1 & 0 & 0 & 0 & 0 & 1 & 2 & 1 & 0 & ⋯ & 0 & 1 & 2 & 1 & 1 & 0 & 0 & 1 & 0 & 0\\\\\n",
       "\t 3 & 2 & 1 & 1 & 1 & 1 & 2 & 1 & 1 & 2 & ⋯ & 2 & 2 & 3 & 2 & 2 & 1 & 1 & 2 & 1 & 1\\\\\n",
       "\t 2 & 1 & 2 & 3 & 2 & 2 & 3 & 1 & 1 & 1 & ⋯ & 5 & 4 & 2 & 5 & 2 & 2 & 3 & 3 & 3 & 3\\\\\n",
       "\t 1 & 1 & 1 & 3 & 2 & 2 & 1 & 0 & 0 & 1 & ⋯ & 3 & 2 & 1 & 3 & 1 & 2 & 4 & 3 & 3 & 2\\\\\n",
       "\t 1 & 1 & 1 & 2 & 2 & 3 & 1 & 0 & 1 & 1 & ⋯ & 2 & 0 & 1 & 2 & 2 & 2 & 3 & 2 & 2 & 2\\\\\n",
       "\t 1 & 2 & 2 & 3 & 1 & 2 & 2 & 0 & 0 & 1 & ⋯ & 6 & 2 & 1 & 4 & 1 & 2 & 3 & 2 & 2 & 3\\\\\n",
       "\t 2 & 0 & 1 & 1 & 1 & 0 & 1 & 1 & 1 & 1 & ⋯ & 2 & 5 & 2 & 2 & 1 & 1 & 1 & 2 & 1 & 1\\\\\n",
       "\t 3 & 2 & 1 & 1 & 1 & 1 & 2 & 2 & 2 & 2 & ⋯ & 1 & 2 & 5 & 2 & 2 & 1 & 1 & 3 & 1 & 1\\\\\n",
       "\t 2 & 1 & 1 & 3 & 1 & 2 & 3 & 1 & 1 & 1 & ⋯ & 4 & 2 & 2 & 5 & 2 & 2 & 3 & 3 & 2 & 2\\\\\n",
       "\t 2 & 1 & 1 & 1 & 1 & 1 & 2 & 1 & 2 & 1 & ⋯ & 1 & 1 & 2 & 2 & 3 & 2 & 1 & 2 & 1 & 1\\\\\n",
       "\t 1 & 1 & 1 & 2 & 1 & 1 & 1 & 0 & 1 & 1 & ⋯ & 2 & 1 & 1 & 2 & 2 & 3 & 2 & 2 & 1 & 1\\\\\n",
       "\t 1 & 1 & 1 & 3 & 1 & 2 & 1 & 0 & 0 & 1 & ⋯ & 3 & 1 & 1 & 3 & 1 & 2 & 4 & 3 & 2 & 2\\\\\n",
       "\t 2 & 1 & 1 & 2 & 1 & 1 & 2 & 1 & 2 & 1 & ⋯ & 2 & 2 & 3 & 3 & 2 & 2 & 3 & 5 & 1 & 1\\\\\n",
       "\t 1 & 1 & 1 & 2 & 2 & 2 & 1 & 0 & 0 & 1 & ⋯ & 2 & 1 & 1 & 2 & 1 & 1 & 2 & 1 & 3 & 2\\\\\n",
       "\t 1 & 1 & 2 & 2 & 1 & 2 & 1 & 0 & 0 & 1 & ⋯ & 3 & 1 & 1 & 2 & 1 & 1 & 2 & 1 & 2 & 3\\\\\n",
       "\\end{tabular}\n"
      ],
      "text/markdown": [
       "\n",
       "A matrix: 26 × 26 of type dbl\n",
       "\n",
       "| 3 | 1 | 1 | 1 | 1 | 1 | 2 | 1 | 1 | 2 | ⋯ | 1 | 2 | 3 | 2 | 2 | 1 | 1 | 2 | 1 | 1 |\n",
       "| 1 | 3 | 1 | 1 | 1 | 1 | 1 | 1 | 0 | 1 | ⋯ | 2 | 0 | 2 | 1 | 1 | 1 | 1 | 1 | 1 | 1 |\n",
       "| 1 | 1 | 2 | 1 | 1 | 1 | 1 | 0 | 0 | 1 | ⋯ | 2 | 1 | 1 | 1 | 1 | 1 | 1 | 1 | 1 | 2 |\n",
       "| 1 | 1 | 1 | 3 | 1 | 2 | 1 | 0 | 0 | 1 | ⋯ | 3 | 1 | 1 | 3 | 1 | 2 | 3 | 2 | 2 | 2 |\n",
       "| 1 | 1 | 1 | 1 | 3 | 2 | 1 | 0 | 0 | 1 | ⋯ | 1 | 1 | 1 | 1 | 1 | 1 | 1 | 1 | 2 | 1 |\n",
       "| 1 | 1 | 1 | 2 | 2 | 3 | 1 | 0 | 0 | 1 | ⋯ | 2 | 0 | 1 | 2 | 1 | 1 | 2 | 1 | 2 | 2 |\n",
       "| 2 | 1 | 1 | 1 | 1 | 1 | 4 | 2 | 2 | 1 | ⋯ | 2 | 1 | 2 | 3 | 2 | 1 | 1 | 2 | 1 | 1 |\n",
       "| 1 | 1 | 0 | 0 | 0 | 0 | 2 | 3 | 2 | 0 | ⋯ | 0 | 1 | 2 | 1 | 1 | 0 | 0 | 1 | 0 | 0 |\n",
       "| 1 | 0 | 0 | 0 | 0 | 0 | 2 | 2 | 4 | 0 | ⋯ | 0 | 1 | 2 | 1 | 2 | 1 | 0 | 2 | 0 | 0 |\n",
       "| 2 | 1 | 1 | 1 | 1 | 1 | 1 | 0 | 0 | 2 | ⋯ | 1 | 1 | 2 | 1 | 1 | 1 | 1 | 1 | 1 | 1 |\n",
       "| 2 | 1 | 1 | 2 | 1 | 2 | 1 | 0 | 0 | 2 | ⋯ | 2 | 1 | 2 | 2 | 1 | 1 | 2 | 1 | 2 | 2 |\n",
       "| 1 | 1 | 0 | 0 | 0 | 0 | 1 | 2 | 1 | 0 | ⋯ | 0 | 1 | 2 | 1 | 1 | 0 | 0 | 1 | 0 | 0 |\n",
       "| 3 | 2 | 1 | 1 | 1 | 1 | 2 | 1 | 1 | 2 | ⋯ | 2 | 2 | 3 | 2 | 2 | 1 | 1 | 2 | 1 | 1 |\n",
       "| 2 | 1 | 2 | 3 | 2 | 2 | 3 | 1 | 1 | 1 | ⋯ | 5 | 4 | 2 | 5 | 2 | 2 | 3 | 3 | 3 | 3 |\n",
       "| 1 | 1 | 1 | 3 | 2 | 2 | 1 | 0 | 0 | 1 | ⋯ | 3 | 2 | 1 | 3 | 1 | 2 | 4 | 3 | 3 | 2 |\n",
       "| 1 | 1 | 1 | 2 | 2 | 3 | 1 | 0 | 1 | 1 | ⋯ | 2 | 0 | 1 | 2 | 2 | 2 | 3 | 2 | 2 | 2 |\n",
       "| 1 | 2 | 2 | 3 | 1 | 2 | 2 | 0 | 0 | 1 | ⋯ | 6 | 2 | 1 | 4 | 1 | 2 | 3 | 2 | 2 | 3 |\n",
       "| 2 | 0 | 1 | 1 | 1 | 0 | 1 | 1 | 1 | 1 | ⋯ | 2 | 5 | 2 | 2 | 1 | 1 | 1 | 2 | 1 | 1 |\n",
       "| 3 | 2 | 1 | 1 | 1 | 1 | 2 | 2 | 2 | 2 | ⋯ | 1 | 2 | 5 | 2 | 2 | 1 | 1 | 3 | 1 | 1 |\n",
       "| 2 | 1 | 1 | 3 | 1 | 2 | 3 | 1 | 1 | 1 | ⋯ | 4 | 2 | 2 | 5 | 2 | 2 | 3 | 3 | 2 | 2 |\n",
       "| 2 | 1 | 1 | 1 | 1 | 1 | 2 | 1 | 2 | 1 | ⋯ | 1 | 1 | 2 | 2 | 3 | 2 | 1 | 2 | 1 | 1 |\n",
       "| 1 | 1 | 1 | 2 | 1 | 1 | 1 | 0 | 1 | 1 | ⋯ | 2 | 1 | 1 | 2 | 2 | 3 | 2 | 2 | 1 | 1 |\n",
       "| 1 | 1 | 1 | 3 | 1 | 2 | 1 | 0 | 0 | 1 | ⋯ | 3 | 1 | 1 | 3 | 1 | 2 | 4 | 3 | 2 | 2 |\n",
       "| 2 | 1 | 1 | 2 | 1 | 1 | 2 | 1 | 2 | 1 | ⋯ | 2 | 2 | 3 | 3 | 2 | 2 | 3 | 5 | 1 | 1 |\n",
       "| 1 | 1 | 1 | 2 | 2 | 2 | 1 | 0 | 0 | 1 | ⋯ | 2 | 1 | 1 | 2 | 1 | 1 | 2 | 1 | 3 | 2 |\n",
       "| 1 | 1 | 2 | 2 | 1 | 2 | 1 | 0 | 0 | 1 | ⋯ | 3 | 1 | 1 | 2 | 1 | 1 | 2 | 1 | 2 | 3 |\n",
       "\n"
      ],
      "text/plain": [
       "      [,1] [,2] [,3] [,4] [,5] [,6] [,7] [,8] [,9] [,10] [,11] [,12] [,13]\n",
       " [1,] 3    1    1    1    1    1    2    1    1    2     ⋯     1     2    \n",
       " [2,] 1    3    1    1    1    1    1    1    0    1     ⋯     2     0    \n",
       " [3,] 1    1    2    1    1    1    1    0    0    1     ⋯     2     1    \n",
       " [4,] 1    1    1    3    1    2    1    0    0    1     ⋯     3     1    \n",
       " [5,] 1    1    1    1    3    2    1    0    0    1     ⋯     1     1    \n",
       " [6,] 1    1    1    2    2    3    1    0    0    1     ⋯     2     0    \n",
       " [7,] 2    1    1    1    1    1    4    2    2    1     ⋯     2     1    \n",
       " [8,] 1    1    0    0    0    0    2    3    2    0     ⋯     0     1    \n",
       " [9,] 1    0    0    0    0    0    2    2    4    0     ⋯     0     1    \n",
       "[10,] 2    1    1    1    1    1    1    0    0    2     ⋯     1     1    \n",
       "[11,] 2    1    1    2    1    2    1    0    0    2     ⋯     2     1    \n",
       "[12,] 1    1    0    0    0    0    1    2    1    0     ⋯     0     1    \n",
       "[13,] 3    2    1    1    1    1    2    1    1    2     ⋯     2     2    \n",
       "[14,] 2    1    2    3    2    2    3    1    1    1     ⋯     5     4    \n",
       "[15,] 1    1    1    3    2    2    1    0    0    1     ⋯     3     2    \n",
       "[16,] 1    1    1    2    2    3    1    0    1    1     ⋯     2     0    \n",
       "[17,] 1    2    2    3    1    2    2    0    0    1     ⋯     6     2    \n",
       "[18,] 2    0    1    1    1    0    1    1    1    1     ⋯     2     5    \n",
       "[19,] 3    2    1    1    1    1    2    2    2    2     ⋯     1     2    \n",
       "[20,] 2    1    1    3    1    2    3    1    1    1     ⋯     4     2    \n",
       "[21,] 2    1    1    1    1    1    2    1    2    1     ⋯     1     1    \n",
       "[22,] 1    1    1    2    1    1    1    0    1    1     ⋯     2     1    \n",
       "[23,] 1    1    1    3    1    2    1    0    0    1     ⋯     3     1    \n",
       "[24,] 2    1    1    2    1    1    2    1    2    1     ⋯     2     2    \n",
       "[25,] 1    1    1    2    2    2    1    0    0    1     ⋯     2     1    \n",
       "[26,] 1    1    2    2    1    2    1    0    0    1     ⋯     3     1    \n",
       "      [,14] [,15] [,16] [,17] [,18] [,19] [,20] [,21]\n",
       " [1,] 3     2     2     1     1     2     1     1    \n",
       " [2,] 2     1     1     1     1     1     1     1    \n",
       " [3,] 1     1     1     1     1     1     1     2    \n",
       " [4,] 1     3     1     2     3     2     2     2    \n",
       " [5,] 1     1     1     1     1     1     2     1    \n",
       " [6,] 1     2     1     1     2     1     2     2    \n",
       " [7,] 2     3     2     1     1     2     1     1    \n",
       " [8,] 2     1     1     0     0     1     0     0    \n",
       " [9,] 2     1     2     1     0     2     0     0    \n",
       "[10,] 2     1     1     1     1     1     1     1    \n",
       "[11,] 2     2     1     1     2     1     2     2    \n",
       "[12,] 2     1     1     0     0     1     0     0    \n",
       "[13,] 3     2     2     1     1     2     1     1    \n",
       "[14,] 2     5     2     2     3     3     3     3    \n",
       "[15,] 1     3     1     2     4     3     3     2    \n",
       "[16,] 1     2     2     2     3     2     2     2    \n",
       "[17,] 1     4     1     2     3     2     2     3    \n",
       "[18,] 2     2     1     1     1     2     1     1    \n",
       "[19,] 5     2     2     1     1     3     1     1    \n",
       "[20,] 2     5     2     2     3     3     2     2    \n",
       "[21,] 2     2     3     2     1     2     1     1    \n",
       "[22,] 1     2     2     3     2     2     1     1    \n",
       "[23,] 1     3     1     2     4     3     2     2    \n",
       "[24,] 3     3     2     2     3     5     1     1    \n",
       "[25,] 1     2     1     1     2     1     3     2    \n",
       "[26,] 1     2     1     1     2     1     2     3    "
      ]
     },
     "metadata": {},
     "output_type": "display_data"
    },
    {
     "name": "stdout",
     "output_type": "stream",
     "text": [
      "[1] \"Матрица перекрытия событий:\"\n"
     ]
    },
    {
     "data": {
      "text/html": [
       "<table class=\"dataframe\">\n",
       "<caption>A matrix: 15 × 15 of type dbl</caption>\n",
       "<thead>\n",
       "\t<tr><th></th><th scope=col>V1</th><th scope=col>V2</th><th scope=col>V3</th><th scope=col>V4</th><th scope=col>V5</th><th scope=col>V6</th><th scope=col>V7</th><th scope=col>V8</th><th scope=col>V9</th><th scope=col>V10</th><th scope=col>V11</th><th scope=col>V12</th><th scope=col>V13</th><th scope=col>V14</th><th scope=col>V15</th></tr>\n",
       "</thead>\n",
       "<tbody>\n",
       "\t<tr><th scope=row>V1</th><td>3</td><td> 0</td><td> 2</td><td> 3</td><td>0</td><td>1</td><td>1</td><td>1</td><td>1</td><td>1</td><td>0</td><td>0</td><td>0</td><td>0</td><td>1</td></tr>\n",
       "\t<tr><th scope=row>V2</th><td>0</td><td>11</td><td>11</td><td> 2</td><td>1</td><td>3</td><td>0</td><td>1</td><td>1</td><td>0</td><td>3</td><td>3</td><td>3</td><td>2</td><td>6</td></tr>\n",
       "\t<tr><th scope=row>V3</th><td>2</td><td>11</td><td>22</td><td> 8</td><td>3</td><td>4</td><td>2</td><td>3</td><td>5</td><td>1</td><td>4</td><td>4</td><td>4</td><td>3</td><td>8</td></tr>\n",
       "\t<tr><th scope=row>V4</th><td>3</td><td> 2</td><td> 8</td><td>12</td><td>1</td><td>1</td><td>3</td><td>2</td><td>4</td><td>3</td><td>3</td><td>2</td><td>2</td><td>0</td><td>4</td></tr>\n",
       "\t<tr><th scope=row>V5</th><td>0</td><td> 1</td><td> 3</td><td> 1</td><td>3</td><td>0</td><td>1</td><td>0</td><td>1</td><td>0</td><td>1</td><td>1</td><td>0</td><td>0</td><td>1</td></tr>\n",
       "\t<tr><th scope=row>V6</th><td>1</td><td> 3</td><td> 4</td><td> 1</td><td>0</td><td>4</td><td>0</td><td>1</td><td>0</td><td>0</td><td>0</td><td>0</td><td>1</td><td>1</td><td>3</td></tr>\n",
       "\t<tr><th scope=row>V7</th><td>1</td><td> 0</td><td> 2</td><td> 3</td><td>1</td><td>0</td><td>4</td><td>0</td><td>1</td><td>1</td><td>0</td><td>0</td><td>0</td><td>0</td><td>0</td></tr>\n",
       "\t<tr><th scope=row>V8</th><td>1</td><td> 1</td><td> 3</td><td> 2</td><td>0</td><td>1</td><td>0</td><td>4</td><td>0</td><td>1</td><td>0</td><td>0</td><td>0</td><td>1</td><td>1</td></tr>\n",
       "\t<tr><th scope=row>V9</th><td>1</td><td> 1</td><td> 5</td><td> 4</td><td>1</td><td>0</td><td>1</td><td>0</td><td>6</td><td>0</td><td>0</td><td>1</td><td>1</td><td>0</td><td>1</td></tr>\n",
       "\t<tr><th scope=row>V10</th><td>1</td><td> 0</td><td> 1</td><td> 3</td><td>0</td><td>0</td><td>1</td><td>1</td><td>0</td><td>3</td><td>1</td><td>0</td><td>0</td><td>0</td><td>0</td></tr>\n",
       "\t<tr><th scope=row>V11</th><td>0</td><td> 3</td><td> 4</td><td> 3</td><td>1</td><td>0</td><td>0</td><td>0</td><td>0</td><td>1</td><td>4</td><td>2</td><td>1</td><td>0</td><td>3</td></tr>\n",
       "\t<tr><th scope=row>V12</th><td>0</td><td> 3</td><td> 4</td><td> 2</td><td>1</td><td>0</td><td>0</td><td>0</td><td>1</td><td>0</td><td>2</td><td>5</td><td>2</td><td>0</td><td>3</td></tr>\n",
       "\t<tr><th scope=row>V13</th><td>0</td><td> 3</td><td> 4</td><td> 2</td><td>0</td><td>1</td><td>0</td><td>0</td><td>1</td><td>0</td><td>1</td><td>2</td><td>5</td><td>1</td><td>3</td></tr>\n",
       "\t<tr><th scope=row>V14</th><td>0</td><td> 2</td><td> 3</td><td> 0</td><td>0</td><td>1</td><td>0</td><td>1</td><td>0</td><td>0</td><td>0</td><td>0</td><td>1</td><td>3</td><td>0</td></tr>\n",
       "\t<tr><th scope=row>V15</th><td>1</td><td> 6</td><td> 8</td><td> 4</td><td>1</td><td>3</td><td>0</td><td>1</td><td>1</td><td>0</td><td>3</td><td>3</td><td>3</td><td>0</td><td>9</td></tr>\n",
       "</tbody>\n",
       "</table>\n"
      ],
      "text/latex": [
       "A matrix: 15 × 15 of type dbl\n",
       "\\begin{tabular}{r|lllllllllllllll}\n",
       "  & V1 & V2 & V3 & V4 & V5 & V6 & V7 & V8 & V9 & V10 & V11 & V12 & V13 & V14 & V15\\\\\n",
       "\\hline\n",
       "\tV1 & 3 &  0 &  2 &  3 & 0 & 1 & 1 & 1 & 1 & 1 & 0 & 0 & 0 & 0 & 1\\\\\n",
       "\tV2 & 0 & 11 & 11 &  2 & 1 & 3 & 0 & 1 & 1 & 0 & 3 & 3 & 3 & 2 & 6\\\\\n",
       "\tV3 & 2 & 11 & 22 &  8 & 3 & 4 & 2 & 3 & 5 & 1 & 4 & 4 & 4 & 3 & 8\\\\\n",
       "\tV4 & 3 &  2 &  8 & 12 & 1 & 1 & 3 & 2 & 4 & 3 & 3 & 2 & 2 & 0 & 4\\\\\n",
       "\tV5 & 0 &  1 &  3 &  1 & 3 & 0 & 1 & 0 & 1 & 0 & 1 & 1 & 0 & 0 & 1\\\\\n",
       "\tV6 & 1 &  3 &  4 &  1 & 0 & 4 & 0 & 1 & 0 & 0 & 0 & 0 & 1 & 1 & 3\\\\\n",
       "\tV7 & 1 &  0 &  2 &  3 & 1 & 0 & 4 & 0 & 1 & 1 & 0 & 0 & 0 & 0 & 0\\\\\n",
       "\tV8 & 1 &  1 &  3 &  2 & 0 & 1 & 0 & 4 & 0 & 1 & 0 & 0 & 0 & 1 & 1\\\\\n",
       "\tV9 & 1 &  1 &  5 &  4 & 1 & 0 & 1 & 0 & 6 & 0 & 0 & 1 & 1 & 0 & 1\\\\\n",
       "\tV10 & 1 &  0 &  1 &  3 & 0 & 0 & 1 & 1 & 0 & 3 & 1 & 0 & 0 & 0 & 0\\\\\n",
       "\tV11 & 0 &  3 &  4 &  3 & 1 & 0 & 0 & 0 & 0 & 1 & 4 & 2 & 1 & 0 & 3\\\\\n",
       "\tV12 & 0 &  3 &  4 &  2 & 1 & 0 & 0 & 0 & 1 & 0 & 2 & 5 & 2 & 0 & 3\\\\\n",
       "\tV13 & 0 &  3 &  4 &  2 & 0 & 1 & 0 & 0 & 1 & 0 & 1 & 2 & 5 & 1 & 3\\\\\n",
       "\tV14 & 0 &  2 &  3 &  0 & 0 & 1 & 0 & 1 & 0 & 0 & 0 & 0 & 1 & 3 & 0\\\\\n",
       "\tV15 & 1 &  6 &  8 &  4 & 1 & 3 & 0 & 1 & 1 & 0 & 3 & 3 & 3 & 0 & 9\\\\\n",
       "\\end{tabular}\n"
      ],
      "text/markdown": [
       "\n",
       "A matrix: 15 × 15 of type dbl\n",
       "\n",
       "| <!--/--> | V1 | V2 | V3 | V4 | V5 | V6 | V7 | V8 | V9 | V10 | V11 | V12 | V13 | V14 | V15 |\n",
       "|---|---|---|---|---|---|---|---|---|---|---|---|---|---|---|---|\n",
       "| V1 | 3 |  0 |  2 |  3 | 0 | 1 | 1 | 1 | 1 | 1 | 0 | 0 | 0 | 0 | 1 |\n",
       "| V2 | 0 | 11 | 11 |  2 | 1 | 3 | 0 | 1 | 1 | 0 | 3 | 3 | 3 | 2 | 6 |\n",
       "| V3 | 2 | 11 | 22 |  8 | 3 | 4 | 2 | 3 | 5 | 1 | 4 | 4 | 4 | 3 | 8 |\n",
       "| V4 | 3 |  2 |  8 | 12 | 1 | 1 | 3 | 2 | 4 | 3 | 3 | 2 | 2 | 0 | 4 |\n",
       "| V5 | 0 |  1 |  3 |  1 | 3 | 0 | 1 | 0 | 1 | 0 | 1 | 1 | 0 | 0 | 1 |\n",
       "| V6 | 1 |  3 |  4 |  1 | 0 | 4 | 0 | 1 | 0 | 0 | 0 | 0 | 1 | 1 | 3 |\n",
       "| V7 | 1 |  0 |  2 |  3 | 1 | 0 | 4 | 0 | 1 | 1 | 0 | 0 | 0 | 0 | 0 |\n",
       "| V8 | 1 |  1 |  3 |  2 | 0 | 1 | 0 | 4 | 0 | 1 | 0 | 0 | 0 | 1 | 1 |\n",
       "| V9 | 1 |  1 |  5 |  4 | 1 | 0 | 1 | 0 | 6 | 0 | 0 | 1 | 1 | 0 | 1 |\n",
       "| V10 | 1 |  0 |  1 |  3 | 0 | 0 | 1 | 1 | 0 | 3 | 1 | 0 | 0 | 0 | 0 |\n",
       "| V11 | 0 |  3 |  4 |  3 | 1 | 0 | 0 | 0 | 0 | 1 | 4 | 2 | 1 | 0 | 3 |\n",
       "| V12 | 0 |  3 |  4 |  2 | 1 | 0 | 0 | 0 | 1 | 0 | 2 | 5 | 2 | 0 | 3 |\n",
       "| V13 | 0 |  3 |  4 |  2 | 0 | 1 | 0 | 0 | 1 | 0 | 1 | 2 | 5 | 1 | 3 |\n",
       "| V14 | 0 |  2 |  3 |  0 | 0 | 1 | 0 | 1 | 0 | 0 | 0 | 0 | 1 | 3 | 0 |\n",
       "| V15 | 1 |  6 |  8 |  4 | 1 | 3 | 0 | 1 | 1 | 0 | 3 | 3 | 3 | 0 | 9 |\n",
       "\n"
      ],
      "text/plain": [
       "    V1 V2 V3 V4 V5 V6 V7 V8 V9 V10 V11 V12 V13 V14 V15\n",
       "V1  3   0  2  3 0  1  1  1  1  1   0   0   0   0   1  \n",
       "V2  0  11 11  2 1  3  0  1  1  0   3   3   3   2   6  \n",
       "V3  2  11 22  8 3  4  2  3  5  1   4   4   4   3   8  \n",
       "V4  3   2  8 12 1  1  3  2  4  3   3   2   2   0   4  \n",
       "V5  0   1  3  1 3  0  1  0  1  0   1   1   0   0   1  \n",
       "V6  1   3  4  1 0  4  0  1  0  0   0   0   1   1   3  \n",
       "V7  1   0  2  3 1  0  4  0  1  1   0   0   0   0   0  \n",
       "V8  1   1  3  2 0  1  0  4  0  1   0   0   0   1   1  \n",
       "V9  1   1  5  4 1  0  1  0  6  0   0   1   1   0   1  \n",
       "V10 1   0  1  3 0  0  1  1  0  3   1   0   0   0   0  \n",
       "V11 0   3  4  3 1  0  0  0  0  1   4   2   1   0   3  \n",
       "V12 0   3  4  2 1  0  0  0  1  0   2   5   2   0   3  \n",
       "V13 0   3  4  2 0  1  0  0  1  0   1   2   5   1   3  \n",
       "V14 0   2  3  0 0  1  0  1  0  0   0   0   1   3   0  \n",
       "V15 1   6  8  4 1  3  0  1  1  0   3   3   3   0   9  "
      ]
     },
     "metadata": {},
     "output_type": "display_data"
    },
    {
     "data": {
      "image/png": "[encoded data removed]",
      "text/plain": [
       "Plot with title \"Сеть соучастия акторов\""
      ]
     },
     "metadata": {
      "image/png": {
       "height": 420,
       "width": 420
      }
     },
     "output_type": "display_data"
    },
    {
     "data": {
      "image/png": "[encoded data removed]",
      "text/plain": [
       "Plot with title \"Сеть перекрытия событий\""
      ]
     },
     "metadata": {
      "image/png": {
       "height": 420,
       "width": 420
      }
     },
     "output_type": "display_data"
    }
   ],
   "source": [
    "x <- smatrix_2\n",
    "\n",
    "x_n <- x %*% t(x)\n",
    "print(\"Матрица соучастия акторов:\")\n",
    "x_n\n",
    "\n",
    "net <- graph_from_adjacency_matrix(x_n, mode = \"undirected\", weighted = TRUE)\n",
    "plot(net, edge.label=E(net)$weight, layout=layout_with_kk(net), main='Сеть соучастия акторов')\n",
    "\n",
    "x_m <- t(x) %*% x\n",
    "print(\"Матрица перекрытия событий:\")\n",
    "x_m\n",
    "\n",
    "net <- graph_from_adjacency_matrix(x_m, mode=\"undirected\", weighted=TRUE)\n",
    "plot(net, edge.label=E(net)$weight, layout=layout_with_kk(net), main='Сеть перекрытия событий')"
   ]
  },
  {
   "cell_type": "markdown",
   "metadata": {},
   "source": [
    "№8. Были вычислены степень участия для каждого актора, а также среднее количество событий, с которыми актор аффилирован.\n",
    "Вывод: директор под номером 14 - это директор, состоящий в наибольшем количестве клубов, а в среднем все директора посещают 3-4 клуба."
   ]
  },
  {
   "cell_type": "code",
   "execution_count": 42,
   "metadata": {
    "vscode": {
     "languageId": "r"
    }
   },
   "outputs": [
    {
     "name": "stdout",
     "output_type": "stream",
     "text": [
      "               N1 N2 N3 N4 N5 N6 N7 N8 N9 N10 N11 N12 N13 N14 N15 N16 N17 N18\n",
      "Степени узлов:  3  3  2  3  3  3  4  3  4   2   3   2   4   7   5   5   6   5\n",
      "               N19 N20 N21 N22 N23 N24 N25 N26\n",
      "Степени узлов:   5   5   3   3   4   5   3   3\n",
      "Cреднее количество событий, с которыми актор аффилирован:  3.769231 \n"
     ]
    }
   ],
   "source": [
    "print(matrix(diag(x_n), nrow = 1, dimnames = list(\"Степени узлов:\", paste('N', 1:ceo, sep=''))))\n",
    "cat(\"Cреднее количество событий, с которыми актор аффилирован: \", sum(diag(x_n))/ceo , '\\n')"
   ]
  },
  {
   "cell_type": "markdown",
   "metadata": {},
   "source": [
    "№9. Были вычислены размер и средний размер для каждого события. Вывод: чаще всего директоры посещают клуб под номером 3, а в среднем каждый клуб посещают 6-7 директоров."
   ]
  },
  {
   "cell_type": "code",
   "execution_count": 43,
   "metadata": {
    "vscode": {
     "languageId": "r"
    }
   },
   "outputs": [
    {
     "data": {
      "text/html": [
       "<table class=\"dataframe\">\n",
       "<caption>A matrix: 1 × 15 of type dbl</caption>\n",
       "<thead>\n",
       "\t<tr><th></th><th scope=col>M1</th><th scope=col>M2</th><th scope=col>M3</th><th scope=col>M4</th><th scope=col>M5</th><th scope=col>M6</th><th scope=col>M7</th><th scope=col>M8</th><th scope=col>M9</th><th scope=col>M10</th><th scope=col>M11</th><th scope=col>M12</th><th scope=col>M13</th><th scope=col>M14</th><th scope=col>M15</th></tr>\n",
       "</thead>\n",
       "<tbody>\n",
       "\t<tr><th scope=row>Размер события:</th><td>3</td><td>11</td><td>22</td><td>12</td><td>3</td><td>4</td><td>4</td><td>4</td><td>6</td><td>3</td><td>4</td><td>5</td><td>5</td><td>3</td><td>9</td></tr>\n",
       "</tbody>\n",
       "</table>\n"
      ],
      "text/latex": [
       "A matrix: 1 × 15 of type dbl\n",
       "\\begin{tabular}{r|lllllllllllllll}\n",
       "  & M1 & M2 & M3 & M4 & M5 & M6 & M7 & M8 & M9 & M10 & M11 & M12 & M13 & M14 & M15\\\\\n",
       "\\hline\n",
       "\tРазмер события: & 3 & 11 & 22 & 12 & 3 & 4 & 4 & 4 & 6 & 3 & 4 & 5 & 5 & 3 & 9\\\\\n",
       "\\end{tabular}\n"
      ],
      "text/markdown": [
       "\n",
       "A matrix: 1 × 15 of type dbl\n",
       "\n",
       "| <!--/--> | M1 | M2 | M3 | M4 | M5 | M6 | M7 | M8 | M9 | M10 | M11 | M12 | M13 | M14 | M15 |\n",
       "|---|---|---|---|---|---|---|---|---|---|---|---|---|---|---|---|\n",
       "| Размер события: | 3 | 11 | 22 | 12 | 3 | 4 | 4 | 4 | 6 | 3 | 4 | 5 | 5 | 3 | 9 |\n",
       "\n"
      ],
      "text/plain": [
       "                M1 M2 M3 M4 M5 M6 M7 M8 M9 M10 M11 M12 M13 M14 M15\n",
       "Размер события: 3  11 22 12 3  4  4  4  6  3   4   5   5   3   9  "
      ]
     },
     "metadata": {},
     "output_type": "display_data"
    },
    {
     "name": "stdout",
     "output_type": "stream",
     "text": [
      "Cредний размер:  6.533333 \n"
     ]
    }
   ],
   "source": [
    "matrix(diag(x_m), nrow = 1, dimnames = list(\"Размер события:\", paste('M', 1:clubs, sep='')))\n",
    "cat(\"Cредний размер: \", sum(diag(x_m))/clubs , '\\n')"
   ]
  },
  {
   "cell_type": "markdown",
   "metadata": {},
   "source": [
    "Сгенерированная и отформатированная таблица:\n",
    "\n",
    "| $n_i$ | $C_d'$ | $C_c'$ | $C_b'$ | $C_i'$ |\n",
    "|:------|:-------|:-------|:-------|:-------|\n",
    "|  1 | 0.07142857 | 0.3684211 | 0.00000000 | 0.04943215 |\n",
    "|  2 | 0.21428571 | 0.4827586 | 0.21245421 | 0.07408484 |\n",
    "|  3 | 0.14285714 | 0.4375000 | 0.09340659 | 0.06816655 |\n",
    "|  4 | 0.21428571 | 0.4000000 | 0.10439560 | 0.07427531 |\n",
    "|  5 | 0.21428571 | 0.3888889 | 0.05494505 | 0.07093098 |\n",
    "|  6 | 0.07142857 | 0.3333333 | 0.00000000 | 0.04309479 |\n",
    "|  7 | 0.28571429 | 0.4666667 | 0.25457875 | 0.08190476 |\n",
    "|  8 | 0.07142857 | 0.3255814 | 0.00000000 | 0.04562892 |\n",
    "|  9 | 0.42857143 | 0.5600000 | 0.52197802 | 0.09502877 |\n",
    "| 10 | 0.07142857 | 0.2857143 | 0.00000000 | 0.03515798 |\n",
    "| 11 | 0.21428571 | 0.3684211 | 0.02197802 | 0.06953773 |\n",
    "| 13 | 0.21428571 | 0.5000000 | 0.11355311 | 0.08040678 |\n",
    "| 14 | 0.14285714 | 0.3888889 | 0.14285714 | 0.05337198 |\n",
    "| 15 | 0.28571429 | 0.4375000 | 0.10256410 | 0.07841151 |\n",
    "| 16 | 0.21428571 | 0.4827586 | 0.09157509 | 0.08056694 |"
   ]
  },
  {
   "cell_type": "markdown",
   "metadata": {},
   "source": [
    "№10. Были вычислены плотность для соотношения соучастия и отношения перекрытия. Вывод: в среднем, каждая пара различных директоров имеет 1-2 общих клуба, а также в среднем, каждая пара различных клубов имеет 1-2 общих директоров."
   ]
  },
  {
   "cell_type": "code",
   "execution_count": 44,
   "metadata": {
    "vscode": {
     "languageId": "r"
    }
   },
   "outputs": [
    {
     "name": "stdout",
     "output_type": "stream",
     "text": [
      "Плотность для отношения соучастия:  1.412308 \n",
      "Плотность для отношения перекрытия:  1.485714 \n"
     ]
    }
   ],
   "source": [
    "cat(\"Плотность для отношения соучастия: \", (1/(ceo*(ceo-1))*(sum(x_n)-sum(diag(x_n)))), '\\n')\n",
    "cat(\"Плотность для отношения перекрытия: \", (1/(clubs*(clubs-1))*(sum(x_m)-sum(diag(x_m)))), '\\n')"
   ]
  },
  {
   "cell_type": "markdown",
   "metadata": {},
   "source": [
    "№11.  Был определён диаметр сети аффилированности."
   ]
  },
  {
   "cell_type": "code",
   "execution_count": 45,
   "metadata": {
    "vscode": {
     "languageId": "r"
    }
   },
   "outputs": [
    {
     "name": "stdout",
     "output_type": "stream",
     "text": [
      "Диаметр сети аффилированности:  2 \n"
     ]
    }
   ],
   "source": [
    "net_x_n<-graph_from_adjacency_matrix(x_n, mode = \"undirected\")\n",
    "net_x_m<-graph_from_adjacency_matrix(x_m, mode = \"undirected\")\n",
    "cat(\"Диаметр сети аффилированности: \", max(diameter(net_x_n), diameter(net_x_m)), '\\n')"
   ]
  },
  {
   "cell_type": "markdown",
   "metadata": {},
   "source": [
    "№12.  Были определены клики уровня 𝑐 = {4, 3} для отношения соучастия и клики уровня 𝑐 = {6, 5, 4, 3, 2} для отношения перекрытия событий.\n",
    "Вывод: в сети есть 7 сообществ, в каждом из которых каждая пара директоров состоит в не менее чем 3 общих клубах, наибольшее из этих сообществ состоит из 6 директоров под номерами 14, 4, 23, 20, 17, 15, и есть всего одно сообщество, такое что все пары директоров состоят не менее чем в 4 общих клубах; в сети существует по одной подгруппе клубов, таких что каждая пара клубов имеет соответственно минимум 5 и 6 общих участников и существует 8, 6, 3 подгрупп клубов, в каждой из которых каждая пара клубов имеет соответственно минимум 2, 3, 4 общих участников."
   ]
  },
  {
   "cell_type": "code",
   "execution_count": 46,
   "metadata": {
    "vscode": {
     "languageId": "r"
    }
   },
   "outputs": [
    {
     "name": "stdout",
     "output_type": "stream",
     "text": [
      "Клики уровня 3 в отношении соучастия:\n"
     ]
    },
    {
     "data": {
      "text/plain": [
       "[[1]]\n",
       "+ 3/26 vertices, from 5bf8eff:\n",
       "[1]  1 13 19\n",
       "\n",
       "[[2]]\n",
       "+ 3/26 vertices, from 5bf8eff:\n",
       "[1]  7 14 20\n",
       "\n",
       "[[3]]\n",
       "+ 3/26 vertices, from 5bf8eff:\n",
       "[1] 16 15 23\n",
       "\n",
       "[[4]]\n",
       "+ 3/26 vertices, from 5bf8eff:\n",
       "[1] 25 14 15\n",
       "\n",
       "[[5]]\n",
       "+ 3/26 vertices, from 5bf8eff:\n",
       "[1] 26 14 17\n",
       "\n",
       "[[6]]\n",
       "+ 5/26 vertices, from 5bf8eff:\n",
       "[1] 24 14 23 20 15\n",
       "\n",
       "[[7]]\n",
       "+ 6/26 vertices, from 5bf8eff:\n",
       "[1] 14  4 23 20 17 15\n"
      ]
     },
     "metadata": {},
     "output_type": "display_data"
    },
    {
     "name": "stdout",
     "output_type": "stream",
     "text": [
      "Клики уровня 4 в отношении соучастия:\n"
     ]
    },
    {
     "data": {
      "text/plain": [
       "[[1]]\n",
       "+ 3/26 vertices, from 5bfc8b2:\n",
       "[1] 20 14 17\n"
      ]
     },
     "metadata": {},
     "output_type": "display_data"
    },
    {
     "name": "stdout",
     "output_type": "stream",
     "text": [
      "Клики уровня 2 в отношении перекрытия событий:\n"
     ]
    },
    {
     "data": {
      "text/plain": [
       "[[1]]\n",
       "+ 3/15 vertices, named, from 5bfebc2:\n",
       "[1] V1 V3 V4\n",
       "\n",
       "[[2]]\n",
       "+ 3/15 vertices, named, from 5bfebc2:\n",
       "[1] V7 V3 V4\n",
       "\n",
       "[[3]]\n",
       "+ 3/15 vertices, named, from 5bfebc2:\n",
       "[1] V8 V3 V4\n",
       "\n",
       "[[4]]\n",
       "+ 3/15 vertices, named, from 5bfebc2:\n",
       "[1] V9 V3 V4\n",
       "\n",
       "[[5]]\n",
       "+ 3/15 vertices, named, from 5bfebc2:\n",
       "[1] V14 V2  V3 \n",
       "\n",
       "[[6]]\n",
       "+ 4/15 vertices, named, from 5bfebc2:\n",
       "[1] V6  V2  V15 V3 \n",
       "\n",
       "[[7]]\n",
       "+ 6/15 vertices, named, from 5bfebc2:\n",
       "[1] V15 V2  V12 V4  V3  V11\n",
       "\n",
       "[[8]]\n",
       "+ 6/15 vertices, named, from 5bfebc2:\n",
       "[1] V15 V2  V12 V4  V3  V13\n"
      ]
     },
     "metadata": {},
     "output_type": "display_data"
    },
    {
     "name": "stdout",
     "output_type": "stream",
     "text": [
      "Клики уровня 3 в отношении перекрытия событий:\n"
     ]
    },
    {
     "data": {
      "text/plain": [
       "[[1]]\n",
       "+ 3/15 vertices, named, from 5c01327:\n",
       "[1] V9 V3 V4\n",
       "\n",
       "[[2]]\n",
       "+ 4/15 vertices, named, from 5c01327:\n",
       "[1] V13 V2  V15 V3 \n",
       "\n",
       "[[3]]\n",
       "+ 4/15 vertices, named, from 5c01327:\n",
       "[1] V15 V3  V2  V6 \n",
       "\n",
       "[[4]]\n",
       "+ 4/15 vertices, named, from 5c01327:\n",
       "[1] V15 V3  V2  V11\n",
       "\n",
       "[[5]]\n",
       "+ 4/15 vertices, named, from 5c01327:\n",
       "[1] V15 V3  V2  V12\n",
       "\n",
       "[[6]]\n",
       "+ 4/15 vertices, named, from 5c01327:\n",
       "[1] V15 V3  V4  V11\n"
      ]
     },
     "metadata": {},
     "output_type": "display_data"
    },
    {
     "name": "stdout",
     "output_type": "stream",
     "text": [
      "Клики уровня 4 в отношении перекрытия событий:\n"
     ]
    },
    {
     "data": {
      "text/plain": [
       "[[1]]\n",
       "+ 3/15 vertices, named, from 5c03940:\n",
       "[1] V15 V3  V2 \n",
       "\n",
       "[[2]]\n",
       "+ 3/15 vertices, named, from 5c03940:\n",
       "[1] V15 V3  V4 \n",
       "\n",
       "[[3]]\n",
       "+ 3/15 vertices, named, from 5c03940:\n",
       "[1] V4 V3 V9\n"
      ]
     },
     "metadata": {},
     "output_type": "display_data"
    },
    {
     "name": "stdout",
     "output_type": "stream",
     "text": [
      "Клики уровня 5 в отношении перекрытия событий:\n"
     ]
    },
    {
     "data": {
      "text/plain": [
       "[[1]]\n",
       "+ 3/15 vertices, named, from 5c05adb:\n",
       "[1] V2  V3  V15\n"
      ]
     },
     "metadata": {},
     "output_type": "display_data"
    },
    {
     "name": "stdout",
     "output_type": "stream",
     "text": [
      "Клики уровня 6 в отношении перекрытия событий:\n"
     ]
    },
    {
     "data": {
      "text/plain": [
       "[[1]]\n",
       "+ 3/15 vertices, named, from 5c077fb:\n",
       "[1] V2  V3  V15\n"
      ]
     },
     "metadata": {},
     "output_type": "display_data"
    }
   ],
   "source": [
    "netN<-graph_from_adjacency_matrix(x_n, mode = \"undirected\", weighted = TRUE)\n",
    "netM<-graph_from_adjacency_matrix(x_m, mode = \"undirected\", weighted = TRUE)\n",
    "cat(\"Клики уровня 3 в отношении соучастия:\\n\")\n",
    "graphWithoutLightEdges <- igraph::delete.edges(netN, E(netN)[E(netN)$weight < 3])\n",
    "max_cliques(graphWithoutLightEdges, min=3) \n",
    "cat(\"Клики уровня 4 в отношении соучастия:\\n\")\n",
    "graphWithoutLightEdges <- igraph::delete.edges(netN, E(netN)[E(netN)$weight < 4])\n",
    "max_cliques(graphWithoutLightEdges, min=3) \n",
    "cat(\"Клики уровня 2 в отношении перекрытия событий:\\n\")\n",
    "graphWithoutLightEdges <- igraph::delete.edges(netM, E(netM)[E(netM)$weight < 2])\n",
    "max_cliques(graphWithoutLightEdges, min=3) \n",
    "cat(\"Клики уровня 3 в отношении перекрытия событий:\\n\")\n",
    "graphWithoutLightEdges <- igraph::delete.edges(netM, E(netM)[E(netM)$weight < 3])\n",
    "max_cliques(graphWithoutLightEdges, min=3)\n",
    "cat(\"Клики уровня 4 в отношении перекрытия событий:\\n\")\n",
    "graphWithoutLightEdges <- igraph::delete.edges(netM, E(netM)[E(netM)$weight < 4])\n",
    "max_cliques(graphWithoutLightEdges, min=3)\n",
    "cat(\"Клики уровня 5 в отношении перекрытия событий:\\n\")\n",
    "graphWithoutLightEdges <- igraph::delete.edges(netM, E(netM)[E(netM)$weight < 5])\n",
    "max_cliques(graphWithoutLightEdges, min=3)\n",
    "cat(\"Клики уровня 6 в отношении перекрытия событий:\\n\")\n",
    "graphWithoutLightEdges <- igraph::delete.edges(netM, E(netM)[E(netM)$weight < 6])\n",
    "max_cliques(graphWithoutLightEdges, min=3)"
   ]
  },
  {
   "cell_type": "markdown",
   "metadata": {},
   "source": [
    "№13. Для каждой пары событий было определено отношение шансов.  $\\Theta_{kl}$.\n",
    "Вывод: есть такие клубы, в которых общих участников нет, потому что среди полученных значений имеются нули, а значения с нулевым знаменателем, равные бесконечности, говорят о том, что если какой-то директор является участником одного клуба из пары, то он точно будет являться участником второго клуба из пары."
   ]
  },
  {
   "cell_type": "code",
   "execution_count": 47,
   "metadata": {
    "vscode": {
     "languageId": "r"
    }
   },
   "outputs": [
    {
     "name": "stdout",
     "output_type": "stream",
     "text": [
      "Theta(M1, M2) = 0\n",
      "Theta(M1, M3) = 0.3\n",
      "Theta(M1, M4) = Inf\n",
      "Theta(M1, M5) = 0\n",
      "Theta(M1, M6) = 3.333333\n",
      "Theta(M1, M7) = 3.333333\n",
      "Theta(M1, M8) = 3.333333\n",
      "Theta(M1, M9) = 1.8\n",
      "Theta(M1, M10) = 5.25\n",
      "Theta(M1, M11) = 0\n",
      "Theta(M1, M12) = 0\n",
      "Theta(M1, M13) = 0\n",
      "Theta(M1, M14) = 0\n",
      "Theta(M1, M15) = 0.9375\n",
      "Theta(M2, M3) = Inf\n",
      "Theta(M2, M4) = 0.1111111\n",
      "Theta(M2, M5) = 0.65\n",
      "Theta(M2, M6) = 5.25\n",
      "Theta(M2, M7) = 0\n",
      "Theta(M2, M8) = 0.4\n",
      "Theta(M2, M9) = 0.2\n",
      "Theta(M2, M10) = 0\n",
      "Theta(M2, M11) = 5.25\n",
      "Theta(M2, M12) = 2.4375\n",
      "Theta(M2, M13) = 2.4375\n",
      "Theta(M2, M14) = 3.111111\n",
      "Theta(M2, M15) = 4.8\n",
      "Theta(M3, M4) = 0\n",
      "Theta(M3, M5) = Inf\n",
      "Theta(M3, M6) = Inf\n",
      "Theta(M3, M7) = 0.1\n",
      "Theta(M3, M8) = 0.4736842\n",
      "Theta(M3, M9) = 0.8823529\n",
      "Theta(M3, M10) = 0.04761905\n",
      "Theta(M3, M11) = Inf\n",
      "Theta(M3, M12) = 0.6666667\n",
      "Theta(M3, M13) = 0.6666667\n",
      "Theta(M3, M14) = Inf\n",
      "Theta(M3, M15) = 1.714286\n",
      "Theta(M4, M5) = 0.5454545\n",
      "Theta(M4, M6) = 0.3333333\n",
      "Theta(M4, M7) = 4.333333\n",
      "Theta(M4, M8) = 1.2\n",
      "Theta(M4, M9) = 3\n",
      "Theta(M4, M10) = Inf\n",
      "Theta(M4, M11) = 4.333333\n",
      "Theta(M4, M12) = 0.7333333\n",
      "Theta(M4, M13) = 0.7333333\n",
      "Theta(M4, M14) = 0\n",
      "Theta(M4, M15) = 0.9\n",
      "Theta(M5, M6) = 0\n",
      "Theta(M5, M7) = 3.333333\n",
      "Theta(M5, M8) = 0\n",
      "Theta(M5, M9) = 1.8\n",
      "Theta(M5, M10) = 0\n",
      "Theta(M5, M11) = 3.333333\n",
      "Theta(M5, M12) = 2.375\n",
      "Theta(M5, M13) = 0\n",
      "Theta(M5, M14) = 0\n",
      "Theta(M5, M15) = 0.9375\n",
      "Theta(M6, M7) = 0\n",
      "Theta(M6, M8) = 2.111111\n",
      "Theta(M6, M9) = 0\n",
      "Theta(M6, M10) = 0\n",
      "Theta(M6, M11) = 0\n",
      "Theta(M6, M12) = 0\n",
      "Theta(M6, M13) = 1.5\n",
      "Theta(M6, M14) = 3.333333\n",
      "Theta(M6, M15) = 8\n",
      "Theta(M7, M8) = 0\n",
      "Theta(M7, M9) = 1.133333\n",
      "Theta(M7, M10) = 3.333333\n",
      "Theta(M7, M11) = 0\n",
      "Theta(M7, M12) = 0\n",
      "Theta(M7, M13) = 0\n",
      "Theta(M7, M14) = 0\n",
      "Theta(M7, M15) = 0\n",
      "Theta(M8, M9) = 0\n",
      "Theta(M8, M10) = 3.333333\n",
      "Theta(M8, M11) = 0\n",
      "Theta(M8, M12) = 0\n",
      "Theta(M8, M13) = 0\n",
      "Theta(M8, M14) = 3.333333\n",
      "Theta(M8, M15) = 0.5833333\n",
      "Theta(M9, M10) = 0\n",
      "Theta(M9, M11) = 0\n",
      "Theta(M9, M12) = 0.8\n",
      "Theta(M9, M13) = 0.8\n",
      "Theta(M9, M14) = 0\n",
      "Theta(M9, M15) = 0.3\n",
      "Theta(M10, M11) = 3.333333\n",
      "Theta(M10, M12) = 0\n",
      "Theta(M10, M13) = 0\n",
      "Theta(M10, M14) = 0\n",
      "Theta(M10, M15) = 0\n",
      "Theta(M11, M12) = 6.333333\n",
      "Theta(M11, M13) = 1.5\n",
      "Theta(M11, M14) = 0\n",
      "Theta(M11, M15) = 8\n",
      "Theta(M12, M13) = 4\n",
      "Theta(M12, M14) = 0\n",
      "Theta(M12, M15) = 3.75\n",
      "Theta(M13, M14) = 2.375\n",
      "Theta(M13, M15) = 3.75\n",
      "Theta(M14, M15) = 0\n",
      "Количество ненулевых значений: 65 \n",
      "Количество ненулевых значений (%): 61.90476 \n",
      "Количество бесконечных значений: 7 \n",
      "Количество бесконечных значений (%): 6.666667 \n"
     ]
    }
   ],
   "source": [
    "zeroes <- 0\n",
    "infs <- 0\n",
    "for(k in 1:(h-1)){\n",
    "    for(l in (k+1):h){\n",
    "        a <- x[, c(k, l)]\n",
    "        res <- sum(colSums(t(a) == c(1, 1)) == ncol(a))*\n",
    "        sum(colSums(t(a) == c(0, 0)) == ncol(a))/\n",
    "        sum(colSums(t(a) == c(0, 1)) == ncol(a))/\n",
    "        sum(colSums(t(a) == c(1, 0)) == ncol(a))   \n",
    "        cat('Theta(M', k, ', M', l, ') = ', res, '\\n', sep=\"\")\n",
    "        zeroes <- zeroes + (res!=0)\n",
    "        infs <- infs + (res == Inf)\n",
    "    }\n",
    "}\n",
    "cat('Количество ненулевых значений:', zeroes, '\\n')\n",
    "cat('Количество ненулевых значений (%):', zeroes/(clubs*(clubs-1)/2)*100, '\\n')\n",
    "cat('Количество бесконечных значений:', infs, '\\n')\n",
    "cat('Количество бесконечных значений (%):', infs/(clubs*(clubs-1)/2)*100, '\\n')"
   ]
  },
  {
   "cell_type": "markdown",
   "metadata": {},
   "source": [
    "## Выводы\n",
    "\n",
    "В процессе выполнения текущей практической работы были получены навыки работы с математическими пакетами для исследования подгрупп в социальных сетях, а также навыки моделирования, отображения и анализа сетей аффилированности. C помощью данной в задании сети исследовано разделение сети на подгруппы: клики, кланы и и т.д, были проанализированы алгоритмы нахождения сообществ, также конкретная сеть аффилированности была представлена в виде двух одномодальных сетей: сеть соучастия и сеть перекрытия событий, для которых были определены плотности и клики различных уровней; для сети аффилированности были найдены диаметр и значения отношений шансов для пар событий."
   ]
  }
 ],
 "metadata": {
  "kernelspec": {
   "display_name": "R",
   "language": "R",
   "name": "ir"
  },
  "language_info": {
   "codemirror_mode": "r",
   "file_extension": ".r",
   "mimetype": "text/x-r-source",
   "name": "R",
   "pygments_lexer": "r",
   "version": "4.2.1"
  }
 },
 "nbformat": 4,
 "nbformat_minor": 4
}
