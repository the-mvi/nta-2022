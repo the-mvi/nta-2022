{
 "cells": [
  {
   "cell_type": "markdown",
   "metadata": {},
   "source": [
    "# Практическая работа №3: Статистический анализ социальных сетей.\n",
    "Выполнил студент гр. 0382 Гудов Никита. Вариант №28"
   ]
  },
  {
   "cell_type": "markdown",
   "metadata": {},
   "source": [
    "## Цель работы\n",
    "Овладеть навыками работы с математическими пакетами для статистического анализа социальных сетей"
   ]
  },
  {
   "cell_type": "markdown",
   "metadata": {},
   "source": [
    "## Основные теоретические положения\n"
   ]
  },
  {
   "cell_type": "markdown",
   "metadata": {},
   "source": [
    "    Диада - элемент сети, представляющий собой пару акторов и (возможную) связь между ними.\n",
    "    \n",
    "- Взаимная диада: $D_{ij} = (1, 1)$\n",
    "- Асимметричная диада $D_{ij} = (1, 0), D_{ij} = (0, 1)$\n",
    "- Нулевая диада $D_{ij} = (0, 0)$\n",
    "- Цензус диад(dyad census) - тройка <M, A, N>, где:\n",
    "    - $M = \\sum_{i<j} X_{ij} X_{ji}$\n",
    "    - $A = X_{++} - 2M$\n",
    "    - $N = \\binom{g}{2} - A - M$\n",
    "    "
   ]
  },
  {
   "cell_type": "markdown",
   "metadata": {},
   "source": [
    "- Индекс взаимности Каца-Пауэлла - характеристи изменения тенденции акторов в группу:\n",
    "    \n",
    "    $$\n",
    "    - \\inf < \\rho _{KP} ≤ 1\n",
    "    $$\n",
    "    \n",
    "    Индекс взаимности основан на ожидании количества взаимных диад, предполагая, что выбор делается акторами случайным образом\n",
    "    \n",
    "    - Предполагается, что каждый актор делает d выборов из (g-1) акторов, доступных для выбора\n",
    "    - Вероятность взаимного выбора между любой произвольной парой акторов равна $d^2/(g-1)^2$\n",
    "    - Математическое ожидание взаимных диад $EM = g(g-1)/2  d^2/(g-1)^2 = gd^2 /2(g-1)$\n",
    "    - Вероятность того, что общая диада, в которой участвуют акторы является взаимной диадой"
   ]
  },
  {
   "cell_type": "markdown",
   "metadata": {},
   "source": [
    " Индекс взаимности Бандиопадхьяйя \n",
    "\n",
    "- Данный индекс  основан на минимальном и максимальном значениях количества взаимных диад\n",
    "- Значение индекса:\n",
    "\n",
    "$$\n",
    "\\rho_B = \\frac{M-M{min}}{M{max}-M{min}}\n",
    "$$\n",
    "\n",
    "- $M_min = max_{0≤t≤g} f(t)$\n",
    "- $M_{max} = \\lfloor 1/2(\\sum_{i=1}^g x_{i+} -  max_{0≤t≤g} f(t)) \\rfloor$\n",
    "\n",
    "- Функция f(t)\n",
    "\n",
    "\n",
    "$$\n",
    "f(t) = \\sum_{i=1}^t x_{i+} - t(g-1) - \\binom{t}{2}\n",
    "$$\n",
    "\n",
    "- Функция g(t):\n",
    "\n",
    "$$\n",
    "g(t) = \\sum_{i=1}^t x_{i+}- t(t-1) - \\sum_{i=t+1}^g min(t, x_{i+})\n",
    "$$\n"
   ]
  },
  {
   "cell_type": "markdown",
   "metadata": {},
   "source": [
    "Доверительный интервал для оценки P\n",
    "\n",
    "- Оценка парметра P:\n",
    "\n",
    "$$\n",
    "\\hat P = \\frac{\\sum_{i=1}^g \\sum_{j=1}^g x_{ij}}{g(g-1)} = \\frac{l}{g(g-1)}\n",
    "$$\n",
    "\n",
    "- Доверительный интервал:\n",
    "\n",
    "$$\n",
    " \\hat P_{lower} ≤ P ≤ \\hat P_{upper}\n",
    "$$\n",
    "\n",
    "- $\\hat P_{lower}  = \\hat P - z_{\\alpha / 2} \\sqrt{\\hat P ( 1- \\hat P) /g(g - 1) }$\n",
    "- $\\hat P_{upper}  = \\hat P + z_{\\alpha / 2} \\sqrt{\\hat P ( 1- \\hat P) /g(g - 1) }$\n",
    "- Здесь $z_{\\alpha / 2} : Ф(z_{\\alpha / 2} ) = 0.5 - \\alpha / 2$"
   ]
  },
  {
   "cell_type": "markdown",
   "metadata": {},
   "source": [
    "## Постановка задачи\n",
    "С помощью математических пакетов и соответствующих библиотек провести статистический анализ случайно смоделированного ориентированного графа. Полученные результаты содержательно проинтерпретировать"
   ]
  },
  {
   "cell_type": "markdown",
   "metadata": {},
   "source": [
    "## Выполнение работы\n",
    "Каждый пункт работы (*по возможности*) выполняется с помощью кода.\n",
    "Рекомендованные языки программирования – R или Python."
   ]
  },
  {
   "cell_type": "code",
   "execution_count": 2,
   "metadata": {},
   "outputs": [],
   "source": [
    "library(igraph)"
   ]
  },
  {
   "cell_type": "code",
   "execution_count": 92,
   "metadata": {},
   "outputs": [],
   "source": [
    "g <- 71\n",
    "p <- 0.63\n",
    "P0 <- 0.72\n",
    "a <- 0.01"
   ]
  },
  {
   "cell_type": "markdown",
   "metadata": {},
   "source": [
    "##### 1. С помощью библиотеки igraph смоделировать случайный орграф G𝑑 на основе модели Эрдеша—Реньи: G𝑑 = G (𝑔, 𝑝), где 𝑔 – количество акторов, 𝑝 – вероятность появления дуги между акторами. В R для модели случайного графа Эрдеша—Реньи существует функцияerdos.renyi.game(). Ознакомьтесь с данной моделью и опишите её."
   ]
  },
  {
   "cell_type": "markdown",
   "metadata": {},
   "source": [
    "Модель графа подразумевает наличие g вершин и вероятность появления ребра между ними равная p"
   ]
  },
  {
   "cell_type": "code",
   "execution_count": 93,
   "metadata": {},
   "outputs": [],
   "source": [
    "graph <- erdos.renyi.game(g, p, directed = T)"
   ]
  },
  {
   "cell_type": "markdown",
   "metadata": {},
   "source": [
    "##### 2. Отобразить полученный орграф"
   ]
  },
  {
   "cell_type": "markdown",
   "metadata": {},
   "source": [
    "Полученный граф имеет множество ребер, так как вероятность появления каждого из них состовляет 0.63"
   ]
  },
  {
   "cell_type": "code",
   "execution_count": 94,
   "metadata": {},
   "outputs": [
    {
     "data": {
      "image/png": "[encoded data removed]",
      "text/plain": [
       "Plot with title \"\""
      ]
     },
     "metadata": {
      "image/png": {
       "height": 420,
       "width": 420
      }
     },
     "output_type": "display_data"
    }
   ],
   "source": [
    "plot(graph)"
   ]
  },
  {
   "cell_type": "markdown",
   "metadata": {},
   "source": [
    "##### 3. Вычислить «пятичисловую сводку» для графа G𝑑."
   ]
  },
  {
   "cell_type": "markdown",
   "metadata": {},
   "source": [
    "Так как p - вероятность появления ребра, то ожидаемо, что плотность такого графа будет близка к этому значению, что и показано ниже."
   ]
  },
  {
   "cell_type": "code",
   "execution_count": 95,
   "metadata": {},
   "outputs": [
    {
     "name": "stdout",
     "output_type": "stream",
     "text": [
      "Размер графа:  71 \n",
      "Плотность графа:  0.6404427 \n",
      "Кол-во компонент в графе:  1 \n",
      "Диаметр графа:  2 \n",
      "Коэффициент кластеризации графа:  0.8713697 \n"
     ]
    }
   ],
   "source": [
    "cat(\"Размер графа: \", g, \"\\n\")\n",
    "cat(\"Плотность графа: \", edge_density(graph), \"\\n\")\n",
    "cat(\"Кол-во компонент в графе: \", components(graph)$no, \"\\n\")\n",
    "cat(\"Диаметр графа: \", diameter(graph), \"\\n\")\n",
    "cat(\"Коэффициент кластеризации графа: \", transitivity(graph), \"\\n\")"
   ]
  },
  {
   "cell_type": "markdown",
   "metadata": {},
   "source": [
    "##### 4. Вычислить цензус диад. Сделать выводы."
   ]
  },
  {
   "cell_type": "markdown",
   "metadata": {},
   "source": [
    "Из всех возможных диад: 40% - взаимных, 46% - асимметричных, 14% - нулевых диад. Практические результаты соотвтествуют теоретическим в соответствии с заданой вероятностью p."
   ]
  },
  {
   "cell_type": "code",
   "execution_count": 96,
   "metadata": {},
   "outputs": [
    {
     "name": "stdout",
     "output_type": "stream",
     "text": [
      "Кол-во взаимных диад:  1017 \n",
      "Кол-во асимметричных диад:  1149 \n",
      "Кол-во нулевых диад:  319 \n"
     ]
    }
   ],
   "source": [
    "cat(\"Кол-во взаимных диад: \", dyad_census(graph)$mut, \"\\n\")\n",
    "cat(\"Кол-во асимметричных диад: \", dyad_census(graph)$asym, \"\\n\")\n",
    "cat(\"Кол-во нулевых диад: \", dyad_census(graph)$null, \"\\n\")"
   ]
  },
  {
   "cell_type": "markdown",
   "metadata": {},
   "source": [
    "##### 5. Вычислить оценку индекса взаимности Каца—Пауэла при фиксированом выборе акторов 𝑑 и при свободном выборе. Сделать выводы."
   ]
  },
  {
   "cell_type": "markdown",
   "metadata": {},
   "source": [
    "При фиксированном наборе тенденция к образованию взаимных пар сильно выше, чем при свободном выборе."
   ]
  },
  {
   "cell_type": "code",
   "execution_count": 97,
   "metadata": {},
   "outputs": [
    {
     "name": "stdout",
     "output_type": "stream",
     "text": [
      "Fix: 0.3377934 \n",
      "Free: -0.003721369 \n"
     ]
    }
   ],
   "source": [
    "mut <- dyad_census(graph)$mut\n",
    "d <- 40\n",
    "fix <- (2*(g-1)*mut-g*d^2)/(g*d*(g-1-d))\n",
    "\n",
    "X <- as_adj(graph, sparse=F)\n",
    "L <- sum(rowSums(X))\n",
    "L2 <- sum(rowSums(X)^2)\n",
    "free <- (2*(g-1)^2*mut-L^2+L2)/(L*(g-1)^2-L^2+L2)\n",
    "\n",
    "cat(\"Fix:\", fix, \"\\n\")\n",
    "cat(\"Free:\", free, \"\\n\")"
   ]
  },
  {
   "cell_type": "markdown",
   "metadata": {},
   "source": [
    "##### 6. Вычислить вероятность того, что связь будет взаимной для каждого случая."
   ]
  },
  {
   "cell_type": "markdown",
   "metadata": {},
   "source": [
    "Теоретическая вероятность для фиксированного набора совпадает со средней вероятностью при свободном выборе"
   ]
  },
  {
   "cell_type": "code",
   "execution_count": 98,
   "metadata": {},
   "outputs": [
    {
     "name": "stdout",
     "output_type": "stream",
     "text": [
      "P фиксированного выбора 0.4092555 \n",
      "P средняя свободного выбора:  0.4096493 \n"
     ]
    }
   ],
   "source": [
    "fix_p <- (d/(g-1))*((d/(g-1))+fix*(g-1-d)/(g-1))\n",
    "free_p <- (rowSums(X)*colSums(X))/(g - 1)^2\n",
    "\n",
    "cat('P фиксированного выбора', fix_p, '\\n')\n",
    "cat('P средняя свободного выбора: ', mean(free_p), '\\n')"
   ]
  },
  {
   "cell_type": "markdown",
   "metadata": {},
   "source": [
    "##### 7. Вычислить индекс взаимности Бандиопадхьяйя. Сделать выводы."
   ]
  },
  {
   "cell_type": "markdown",
   "metadata": {},
   "source": [
    "Исходя из полученного значения, имеется тенденция к образованию взаимных пар"
   ]
  },
  {
   "cell_type": "code",
   "execution_count": 99,
   "metadata": {},
   "outputs": [
    {
     "name": "stdout",
     "output_type": "stream",
     "text": [
      "\n",
      "Индекс взаимности Бандиопадхьяйя: 0.7502895"
     ]
    }
   ],
   "source": [
    "row_sum <- rowSums(X)\n",
    "\n",
    "f.func <- function(t) {\n",
    "  return (sum(row_sum[1:t]) - t*(g-1) - choose(t, 2))\n",
    "}\n",
    "\n",
    "m_min <- f.func(0)\n",
    "for (i in 1:g) {\n",
    "  if (m_min < f.func(i)) {\n",
    "    m_min <- f.func(i)\n",
    "  }\n",
    "}\n",
    "\n",
    "g.func <- function(t) {\n",
    "  return (sum(row_sum[1:t]) - t*(t-1) - if (t==g) 0 else sum(min(row_sum[(t+1):g], rep(t, (g-t-1+1)))))\n",
    "}\n",
    "\n",
    "m_max <- g.func(0)\n",
    "for (i in 1:g) {\n",
    "  if (m_max < g.func(i)) {\n",
    "    m_max <- g.func(i)\n",
    "  }\n",
    "}\n",
    "m_max <- 1/2 * (sum(row_sum) - m_max)\n",
    "\n",
    "\n",
    "cat(\"\\nИндекс взаимности Бандиопадхьяйя:\",(mut - m_min) / (m_max - m_min))\n"
   ]
  },
  {
   "cell_type": "markdown",
   "metadata": {},
   "source": [
    "##### 8. Проверить нулевую гипотезу о том, что число дуг 𝐿 в орграфе G𝑑 имеет биномиальное распределение 𝐿 ∼ Bin(𝑔(𝑔 − 1), 1/2) при уровне значимости 𝛼. Определить максимальный уровень значимости при котором нулевая гипотеза не отвергается.\n"
   ]
  },
  {
   "cell_type": "markdown",
   "metadata": {},
   "source": [
    "p-value = 2.2e-16. Так как a=0.01>2.2e-16 => гипотеза отвергается"
   ]
  },
  {
   "cell_type": "code",
   "execution_count": 101,
   "metadata": {},
   "outputs": [
    {
     "data": {
      "text/plain": [
       "\n",
       "\tExact binomial test\n",
       "\n",
       "data:  sum(X) and g * (g - 1)\n",
       "number of successes = 3183, number of trials = 4970, p-value < 2.2e-16\n",
       "alternative hypothesis: true probability of success is not equal to 0.5\n",
       "95 percent confidence interval:\n",
       " 0.6269215 0.6537987\n",
       "sample estimates:\n",
       "probability of success \n",
       "             0.6404427 \n"
      ]
     },
     "metadata": {},
     "output_type": "display_data"
    }
   ],
   "source": [
    "binom.test(sum(X), g*(g-1), p = 0.5)"
   ]
  },
  {
   "cell_type": "markdown",
   "metadata": {},
   "source": [
    "##### 9. Проверить нулевую гипотезу о том, что число дуг 𝐿 в орграфе G𝑑 имеет биномиальное распределение 𝐿 ∼ Bin(𝑔(𝑔−1), 𝑃0) при уровне значимости 𝛼. Определить максимальный уровень значимости при котором нулевая гипотеза не отвергается."
   ]
  },
  {
   "cell_type": "markdown",
   "metadata": {},
   "source": [
    "p-value = 2.2e-16. Так как a=0.01>2.2e-16 => гипотеза отвергается"
   ]
  },
  {
   "cell_type": "code",
   "execution_count": 102,
   "metadata": {},
   "outputs": [
    {
     "data": {
      "text/plain": [
       "\n",
       "\tExact binomial test\n",
       "\n",
       "data:  sum(X) and g * (g - 1)\n",
       "number of successes = 3183, number of trials = 4970, p-value < 2.2e-16\n",
       "alternative hypothesis: true probability of success is not equal to 0.72\n",
       "95 percent confidence interval:\n",
       " 0.6269215 0.6537987\n",
       "sample estimates:\n",
       "probability of success \n",
       "             0.6404427 \n"
      ]
     },
     "metadata": {},
     "output_type": "display_data"
    }
   ],
   "source": [
    "binom.test(sum(X), g*(g-1), p = P0)"
   ]
  },
  {
   "cell_type": "markdown",
   "metadata": {},
   "source": [
    "##### 10. Построить доверительный интервал для оценки параметра 𝑝 с доверительной надёжностью (1 − 𝛼) = 0.99. Сделать выводы."
   ]
  },
  {
   "cell_type": "markdown",
   "metadata": {},
   "source": [
    "Выявлено, что параметр p с вероятностью 0.99 лежит в 0.6229094 <= p <= 0.6579759, что соответствует действительности."
   ]
  },
  {
   "cell_type": "code",
   "execution_count": 112,
   "metadata": {},
   "outputs": [
    {
     "name": "stdout",
     "output_type": "stream",
     "text": [
      "0.6229094 <= p <= 0.6579759"
     ]
    }
   ],
   "source": [
    "val <- sum(X)/(g*(g-1))\n",
    "z_a2 <- qnorm(a/2)\n",
    "cat(val + z_alpha*sqrt(val*(1-val)/(g*(g-1))),\"<= p <=\",val - z_a2*sqrt(val*(1-val)/(g*(g-1))))"
   ]
  },
  {
   "cell_type": "markdown",
   "metadata": {},
   "source": [
    "## Выводы"
   ]
  },
  {
   "cell_type": "markdown",
   "metadata": {},
   "source": [
    "В ходе практической работы был проведен статистический анализ социальных сетей. Получены навыки работы с математическими пакетами, обеспечивающими необходимые для расчета функции. На конкретном примере исследована тенденция к образованию взаимных пар. Построен доверительный интервал для параметра p."
   ]
  },
  {
   "cell_type": "code",
   "execution_count": null,
   "metadata": {},
   "outputs": [],
   "source": []
  }
 ],
 "metadata": {
  "kernelspec": {
   "display_name": "R",
   "language": "R",
   "name": "ir"
  },
  "language_info": {
   "codemirror_mode": "r",
   "file_extension": ".r",
   "mimetype": "text/x-r-source",
   "name": "R",
   "pygments_lexer": "r",
   "version": "4.2.1"
  }
 },
 "nbformat": 4,
 "nbformat_minor": 4
}
