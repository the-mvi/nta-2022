{
 "cells": [
  {
   "cell_type": "markdown",
   "metadata": {},
   "source": [
    "## Практическая работа №1: Основы анализа и моделирования социальных сетей\n",
    "Выполнил студент гр. 0382 Гудов Никита. Вариант №29"
   ]
  },
  {
   "cell_type": "markdown",
   "metadata": {},
   "source": [
    "## Цель работы\n",
    "Овладеть навыками работы с математическими пакетами для моделирования, визуализации и анализа социальных сетей."
   ]
  },
  {
   "cell_type": "markdown",
   "metadata": {},
   "source": [
    "## Основные теоретические положения\n",
    "- **Акторы**(actors) - это дискретные индивидуальные, корпоративные или коллективные социальные единицы.\n",
    "- **Реляционная связь**(relational ties) - свойство, описывающее взаимодействие между двумя акторами.\n",
    "- **Подгруппа**(subgroup) - любое подмножество акторов и все связи между ними.\n",
    "- **Группа** (group) - это совокупность всех акторов, связи между которыми должны быть изучены. (Рассматривается одно отношение)\n",
    "- **Отношение** (relation) - совокупность связей определенного вида между членами группы.\n",
    "- **Социальная сеть** (social network) - объект, представляющий собой совокупность конечного набора (или наборов) акторов и отношения (или отношений), определенных на них.\n",
    "- **Граф** - это модель социальной сети с ненаправленным дихотомическим отношением; т.е. связь либо присутствует, либо отсутствует между каждой парой акторов\n",
    "- **Путь** (*path*) - это маршрут, в котором все узлы и линии различны.\n",
    "- **Социоматрица** (*sociomatrix*) - матрица X размерности g x g, описывающая смежные узлы в сети\n",
    "- **Размер сети** (*network size*) - количество акторов сети.\n",
    "- **Плотность**(*density*) - доля имеющихся связей по отношению к максимально возможному количеству связей\n",
    "    - Для ориентированный сетей:\n",
    "        \n",
    "        $\\triangle$ = $L/A$$^2_g$\n",
    "        \n",
    "    - Для неориентированных сетей\n",
    "        \n",
    "        $\\triangle$ =  $L/\\binom{g}{2}$    \n",
    "- **Компонента** (*component*) - подгруппа, в которой все акторы связаны друг с другом прямо или косвенно    \n",
    "- **Диаметр** (*diametr*) - наибольшая длина любого из кратчайших путей между всеми парами узлов.    \n",
    "- **Степень узла** (*nodal degree)* d(ni) - число прямых, инцидентных узлу ni\n",
    "- **Средняя степень узлов**:\n",
    "    \n",
    "    $\\bar d$ = 1/g $\\sum _{i=1}^{g}d(n_i)$\n",
    "    \n",
    "- **Дисперсия степеней узлов**:\n",
    "    \n",
    "    $S^2$= $1/g \\sum^{g}_{i=1}$ $(d_i(n_i)- \\bar d)^2$\n",
    "        \n",
    "- **Тразитивность, коэф. кластеризации** (transitivity) - доля закрытых треугольников (триад где наблюдаются все три связи) по отношению к общему количеству открытых и закрытых теругольников (триад, где наблюдаются либо две, либо все три связи)\n",
    "- **Центральность**(centrality) - мера, характеризующая актор с большим количеством связей(прямых или косвенных).\n",
    "    \n",
    "    Обозначение: $C_A(n_i),\\:i=1,...,g$\n",
    "    \n",
    "- **Престиж** (prestige) - мера, характеризующая актор с большим количеством входящих связей.\n",
    "    \n",
    "    Обозначение: $P_A(n_i),\\:i=1,...,g$\n",
    "    \n",
    "- **Индекс централизации** (centralization index):\n",
    "    \n",
    "    $$\n",
    "    C_A = \\dfrac{\\sum_{i=1}^g[C_A(n^*)-C_A(n_i)]}{max\\sum_{i=1}^g[C_A(n^*)-C_A(n_i)]},\n",
    "    $$\n",
    "    \n",
    "    где $С_A(n^*) = max_i C_A(n_i)$\n",
    "    \n",
    "- **Центральность по степени**(degree centrality) - степень каждого актора:\n",
    "    \n",
    "    $$\n",
    "    С_D(n_i)=d(n_i)\n",
    "    $$\n",
    "    \n",
    "- **Нормированная центральность по степени**:\n",
    "\n",
    "$$\n",
    "C^`_D(n_i)=\\dfrac{d(n_i)}{g-1}\n",
    "$$\n",
    "\n",
    "- **Централизация по степени**:\n",
    "\n",
    "$$\n",
    "C_D = \\dfrac{\\sum_{i=1}^g[C_D(n^*)-C_D(n_i)]}{max\\sum_{i=1}^g[C_D(n^*)-C_D(n_i)]} = \\dfrac{\\sum_{i=1}^g[C_D(n^*)-C_D(n_i)]}{{(g-1)(g-2)}}\n",
    "$$\n",
    "\n",
    "- В качестве **централизации по степеням** также можно использовать дисперсию:\n",
    "    \n",
    "    $$\n",
    "    S^2_D= 1/g \\sum_{i=1}^g(C^`_D(n_i)-\\bar C_D)^2\n",
    "    $$\n",
    "    \n",
    "- **Центральность по близости**(closeness centrality) - более важными узлами считаются узлы, наиболее близкие к остальным узлам сети:\n",
    "\n",
    "$С_с(n_i) = (\\sum_{j=1}^g d(n_i, n_j))^{-1}$\n",
    "\n",
    "- **Нормированная центральность по близости**:\n",
    "\n",
    "$$\n",
    "C^`_C(n_i) = \\dfrac{g-1}{\\sum_{j=1}^gd(n_i, n_j)} = (g-1)C_c(n_i)\n",
    "$$\n",
    "\n",
    "- **Централизация по близости**:\n",
    "    \n",
    "    $$\n",
    "    C_С = \\dfrac{\\sum_{i=1}^g[C^`_C(n^*)-C_C^`(n_i)]}{(g-1)(g-2)/(2g-3)}\n",
    "    $$\n",
    "    \n",
    "- В качестве **централизации по степеням** также можно использовать дисперсию:\n",
    "    \n",
    "    $$\n",
    "    S^2_C = 1/g \\sum_{i=1}^g(C^`_C(n_i)-\\bar C_C)^2\n",
    "    $$\n",
    "    \n",
    "- **Центральность по посредничеству**(*betweenness centrality*) характеризует, насколько важную роль данный узел играет на пути “между” парами других узлов сети, в том смысле, что пути между другими узлами должны проходить через данный узел:\n",
    "    \n",
    "    $$\n",
    "    C_B(n_i) = \\sum_{j<k}( g_{jk}(n_i)/g_{jk})\n",
    "    $$\n",
    "    \n",
    "    где:\n",
    "    \n",
    "    - $g_{jk}(n_i)$ - количество геодезических расстояний между узлами j и k, которые включают узел i\n",
    "    - $g_{jk}$ - геодезическое расстояние между узлами j и k\n",
    "- **Нормированная центральность по посредничеству**:\n",
    "    \n",
    "    $$\n",
    "    C^`_B(n_i) = \\dfrac{C_b(n_i)}{\\binom{g-1}{2}}\n",
    "    $$\n",
    "    \n",
    "- **Точка сочленения** (*cutpoint*) - это узел, при удалении которого увеличивается число компонент связанности.\n",
    "- **Мост** (*bridge*) - это ребро, при удалении которого одна компонента разделяется на две\n",
    "- **Централизация по посредничеству**:\n",
    "    \n",
    "    $$\n",
    "    С_B = \\dfrac{2\\sum_{i=1}^g[C_B(n^*)-C_B(n_i)]}{(g-1)^2(g-2)} =\\dfrac{ \\sum_{i=1}^g[C_B^`(n^*) - C_B^`(n_i)]}{g-1}\n",
    "    $$\n",
    "    \n",
    "    ---\n",
    "    \n",
    "- **Центральность по информации** можно вычислить как дисперсию индексов информации актора:\n",
    "\n",
    "$$\n",
    "S_i^2=\\dfrac{1}{g}(C_I^{'}(n_i)-\\bar C_I)^2,\n",
    "$$\n",
    "\n",
    "где $\\barС_i$ $= \\sum_i C_I(n_i)$"
   ]
  },
  {
   "cell_type": "markdown",
   "metadata": {},
   "source": [
    "## Постановка задачи\n",
    "С помощью математических пакетов и соответствующих библиотек провести анализ заданных социальных сетей вычислить описательные характеристики. Полученные результаты содержательно проинтерпретировать."
   ]
  },
  {
   "cell_type": "markdown",
   "metadata": {},
   "source": [
    "## Выполнение работы"
   ]
  },
  {
   "cell_type": "code",
   "execution_count": 6,
   "metadata": {},
   "outputs": [
    {
     "name": "stderr",
     "output_type": "stream",
     "text": [
      "Warning message:\n",
      "\"пакет ''sna'' сейчас используется и не будет установлен\"\n",
      "Warning message:\n",
      "\"пакет ''network'' сейчас используется и не будет установлен\"\n",
      "Warning message:\n",
      "\"пакет ''igraph'' сейчас используется и не будет установлен\"\n"
     ]
    }
   ],
   "source": [
    "install.packages(\"sna\")\n",
    "install.packages(\"network\")\n",
    "install.packages(\"igraph\")\n",
    "library(\"sna\")\n",
    "library(\"network\")\n",
    "library(\"igraph\")"
   ]
  },
  {
   "cell_type": "markdown",
   "metadata": {},
   "source": [
    "#### _пункт 1_\n",
    "Информация из файла было представлена как социоматрица"
   ]
  },
  {
   "cell_type": "code",
   "execution_count": 16,
   "metadata": {},
   "outputs": [],
   "source": [
    "#пункт 1\n",
    "object <- read.csv(\"./florentine_business.csv\", comment.char = '#', sep = ',')\n",
    "matrix <- as.matrix(object)"
   ]
  },
  {
   "cell_type": "markdown",
   "metadata": {},
   "source": [
    "#### _пункт 2_\n",
    "Из полученной социоматрицы получаем сеть и список ребер"
   ]
  },
  {
   "cell_type": "code",
   "execution_count": 17,
   "metadata": {
    "scrolled": true
   },
   "outputs": [
    {
     "data": {
      "text/html": [
       "<table class=\"dataframe\">\n",
       "<caption>A matrix: 5 × 2 of type chr</caption>\n",
       "<tbody>\n",
       "\t<tr><td>Barbadori</td><td>Castellani</td></tr>\n",
       "\t<tr><td>Barbadori</td><td>Ginori    </td></tr>\n",
       "\t<tr><td>Barbadori</td><td>Medici    </td></tr>\n",
       "\t<tr><td>Barbadori</td><td>Peruzzi   </td></tr>\n",
       "\t<tr><td>Bischeri </td><td>Guadagni  </td></tr>\n",
       "</tbody>\n",
       "</table>\n"
      ],
      "text/latex": [
       "A matrix: 5 × 2 of type chr\n",
       "\\begin{tabular}{ll}\n",
       "\t Barbadori & Castellani\\\\\n",
       "\t Barbadori & Ginori    \\\\\n",
       "\t Barbadori & Medici    \\\\\n",
       "\t Barbadori & Peruzzi   \\\\\n",
       "\t Bischeri  & Guadagni  \\\\\n",
       "\\end{tabular}\n"
      ],
      "text/markdown": [
       "\n",
       "A matrix: 5 × 2 of type chr\n",
       "\n",
       "| Barbadori | Castellani |\n",
       "| Barbadori | Ginori     |\n",
       "| Barbadori | Medici     |\n",
       "| Barbadori | Peruzzi    |\n",
       "| Bischeri  | Guadagni   |\n",
       "\n"
      ],
      "text/plain": [
       "     [,1]      [,2]      \n",
       "[1,] Barbadori Castellani\n",
       "[2,] Barbadori Ginori    \n",
       "[3,] Barbadori Medici    \n",
       "[4,] Barbadori Peruzzi   \n",
       "[5,] Bischeri  Guadagni  "
      ]
     },
     "metadata": {},
     "output_type": "display_data"
    }
   ],
   "source": [
    "#пункт 2\n",
    "net <- graph_from_adjacency_matrix(matrix , mode='undirected')\n",
    "edges <- as_edgelist(net, names = TRUE)\n",
    "edges[1:5,]"
   ]
  },
  {
   "cell_type": "markdown",
   "metadata": {},
   "source": [
    "#### _пункт 3_\n",
    "Задается одинаковое имя для столбцов и колонок социоматрицы. Матрица выводится"
   ]
  },
  {
   "cell_type": "code",
   "execution_count": 18,
   "metadata": {
    "scrolled": false
   },
   "outputs": [
    {
     "data": {
      "text/html": [
       "<table class=\"dataframe\">\n",
       "<caption>A matrix: 16 × 16 of type int</caption>\n",
       "<thead>\n",
       "\t<tr><th></th><th scope=col>Acciaiuoli</th><th scope=col>Albizzi</th><th scope=col>Barbadori</th><th scope=col>Bischeri</th><th scope=col>Castellani</th><th scope=col>Ginori</th><th scope=col>Guadagni</th><th scope=col>Lamberteschi</th><th scope=col>Medici</th><th scope=col>Pazzi</th><th scope=col>Peruzzi</th><th scope=col>Pucci</th><th scope=col>Ridolfi</th><th scope=col>Salviati</th><th scope=col>Strozzi</th><th scope=col>Tornabuoni</th></tr>\n",
       "</thead>\n",
       "<tbody>\n",
       "\t<tr><th scope=row>Acciaiuoli</th><td>0</td><td>0</td><td>0</td><td>0</td><td>0</td><td>0</td><td>0</td><td>0</td><td>0</td><td>0</td><td>0</td><td>0</td><td>0</td><td>0</td><td>0</td><td>0</td></tr>\n",
       "\t<tr><th scope=row>Albizzi</th><td>0</td><td>0</td><td>0</td><td>0</td><td>0</td><td>0</td><td>0</td><td>0</td><td>0</td><td>0</td><td>0</td><td>0</td><td>0</td><td>0</td><td>0</td><td>0</td></tr>\n",
       "\t<tr><th scope=row>Barbadori</th><td>0</td><td>0</td><td>0</td><td>0</td><td>1</td><td>1</td><td>0</td><td>0</td><td>1</td><td>0</td><td>1</td><td>0</td><td>0</td><td>0</td><td>0</td><td>0</td></tr>\n",
       "\t<tr><th scope=row>Bischeri</th><td>0</td><td>0</td><td>0</td><td>0</td><td>0</td><td>0</td><td>1</td><td>1</td><td>0</td><td>0</td><td>1</td><td>0</td><td>0</td><td>0</td><td>0</td><td>0</td></tr>\n",
       "\t<tr><th scope=row>Castellani</th><td>0</td><td>0</td><td>1</td><td>0</td><td>0</td><td>0</td><td>0</td><td>1</td><td>0</td><td>0</td><td>1</td><td>0</td><td>0</td><td>0</td><td>0</td><td>0</td></tr>\n",
       "\t<tr><th scope=row>Ginori</th><td>0</td><td>0</td><td>1</td><td>0</td><td>0</td><td>0</td><td>0</td><td>0</td><td>1</td><td>0</td><td>0</td><td>0</td><td>0</td><td>0</td><td>0</td><td>0</td></tr>\n",
       "\t<tr><th scope=row>Guadagni</th><td>0</td><td>0</td><td>0</td><td>1</td><td>0</td><td>0</td><td>0</td><td>1</td><td>0</td><td>0</td><td>0</td><td>0</td><td>0</td><td>0</td><td>0</td><td>0</td></tr>\n",
       "\t<tr><th scope=row>Lamberteschi</th><td>0</td><td>0</td><td>0</td><td>1</td><td>1</td><td>0</td><td>1</td><td>0</td><td>0</td><td>0</td><td>1</td><td>0</td><td>0</td><td>0</td><td>0</td><td>0</td></tr>\n",
       "\t<tr><th scope=row>Medici</th><td>0</td><td>0</td><td>1</td><td>0</td><td>0</td><td>1</td><td>0</td><td>0</td><td>0</td><td>1</td><td>0</td><td>0</td><td>0</td><td>1</td><td>0</td><td>1</td></tr>\n",
       "\t<tr><th scope=row>Pazzi</th><td>0</td><td>0</td><td>0</td><td>0</td><td>0</td><td>0</td><td>0</td><td>0</td><td>1</td><td>0</td><td>0</td><td>0</td><td>0</td><td>0</td><td>0</td><td>0</td></tr>\n",
       "\t<tr><th scope=row>Peruzzi</th><td>0</td><td>0</td><td>1</td><td>1</td><td>1</td><td>0</td><td>0</td><td>1</td><td>0</td><td>0</td><td>0</td><td>0</td><td>0</td><td>0</td><td>0</td><td>0</td></tr>\n",
       "\t<tr><th scope=row>Pucci</th><td>0</td><td>0</td><td>0</td><td>0</td><td>0</td><td>0</td><td>0</td><td>0</td><td>0</td><td>0</td><td>0</td><td>0</td><td>0</td><td>0</td><td>0</td><td>0</td></tr>\n",
       "\t<tr><th scope=row>Ridolfi</th><td>0</td><td>0</td><td>0</td><td>0</td><td>0</td><td>0</td><td>0</td><td>0</td><td>0</td><td>0</td><td>0</td><td>0</td><td>0</td><td>0</td><td>0</td><td>0</td></tr>\n",
       "\t<tr><th scope=row>Salviati</th><td>0</td><td>0</td><td>0</td><td>0</td><td>0</td><td>0</td><td>0</td><td>0</td><td>1</td><td>0</td><td>0</td><td>0</td><td>0</td><td>0</td><td>0</td><td>0</td></tr>\n",
       "\t<tr><th scope=row>Strozzi</th><td>0</td><td>0</td><td>0</td><td>0</td><td>0</td><td>0</td><td>0</td><td>0</td><td>0</td><td>0</td><td>0</td><td>0</td><td>0</td><td>0</td><td>0</td><td>0</td></tr>\n",
       "\t<tr><th scope=row>Tornabuoni</th><td>0</td><td>0</td><td>0</td><td>0</td><td>0</td><td>0</td><td>0</td><td>0</td><td>1</td><td>0</td><td>0</td><td>0</td><td>0</td><td>0</td><td>0</td><td>0</td></tr>\n",
       "</tbody>\n",
       "</table>\n"
      ],
      "text/latex": [
       "A matrix: 16 × 16 of type int\n",
       "\\begin{tabular}{r|llllllllllllllll}\n",
       "  & Acciaiuoli & Albizzi & Barbadori & Bischeri & Castellani & Ginori & Guadagni & Lamberteschi & Medici & Pazzi & Peruzzi & Pucci & Ridolfi & Salviati & Strozzi & Tornabuoni\\\\\n",
       "\\hline\n",
       "\tAcciaiuoli & 0 & 0 & 0 & 0 & 0 & 0 & 0 & 0 & 0 & 0 & 0 & 0 & 0 & 0 & 0 & 0\\\\\n",
       "\tAlbizzi & 0 & 0 & 0 & 0 & 0 & 0 & 0 & 0 & 0 & 0 & 0 & 0 & 0 & 0 & 0 & 0\\\\\n",
       "\tBarbadori & 0 & 0 & 0 & 0 & 1 & 1 & 0 & 0 & 1 & 0 & 1 & 0 & 0 & 0 & 0 & 0\\\\\n",
       "\tBischeri & 0 & 0 & 0 & 0 & 0 & 0 & 1 & 1 & 0 & 0 & 1 & 0 & 0 & 0 & 0 & 0\\\\\n",
       "\tCastellani & 0 & 0 & 1 & 0 & 0 & 0 & 0 & 1 & 0 & 0 & 1 & 0 & 0 & 0 & 0 & 0\\\\\n",
       "\tGinori & 0 & 0 & 1 & 0 & 0 & 0 & 0 & 0 & 1 & 0 & 0 & 0 & 0 & 0 & 0 & 0\\\\\n",
       "\tGuadagni & 0 & 0 & 0 & 1 & 0 & 0 & 0 & 1 & 0 & 0 & 0 & 0 & 0 & 0 & 0 & 0\\\\\n",
       "\tLamberteschi & 0 & 0 & 0 & 1 & 1 & 0 & 1 & 0 & 0 & 0 & 1 & 0 & 0 & 0 & 0 & 0\\\\\n",
       "\tMedici & 0 & 0 & 1 & 0 & 0 & 1 & 0 & 0 & 0 & 1 & 0 & 0 & 0 & 1 & 0 & 1\\\\\n",
       "\tPazzi & 0 & 0 & 0 & 0 & 0 & 0 & 0 & 0 & 1 & 0 & 0 & 0 & 0 & 0 & 0 & 0\\\\\n",
       "\tPeruzzi & 0 & 0 & 1 & 1 & 1 & 0 & 0 & 1 & 0 & 0 & 0 & 0 & 0 & 0 & 0 & 0\\\\\n",
       "\tPucci & 0 & 0 & 0 & 0 & 0 & 0 & 0 & 0 & 0 & 0 & 0 & 0 & 0 & 0 & 0 & 0\\\\\n",
       "\tRidolfi & 0 & 0 & 0 & 0 & 0 & 0 & 0 & 0 & 0 & 0 & 0 & 0 & 0 & 0 & 0 & 0\\\\\n",
       "\tSalviati & 0 & 0 & 0 & 0 & 0 & 0 & 0 & 0 & 1 & 0 & 0 & 0 & 0 & 0 & 0 & 0\\\\\n",
       "\tStrozzi & 0 & 0 & 0 & 0 & 0 & 0 & 0 & 0 & 0 & 0 & 0 & 0 & 0 & 0 & 0 & 0\\\\\n",
       "\tTornabuoni & 0 & 0 & 0 & 0 & 0 & 0 & 0 & 0 & 1 & 0 & 0 & 0 & 0 & 0 & 0 & 0\\\\\n",
       "\\end{tabular}\n"
      ],
      "text/markdown": [
       "\n",
       "A matrix: 16 × 16 of type int\n",
       "\n",
       "| <!--/--> | Acciaiuoli | Albizzi | Barbadori | Bischeri | Castellani | Ginori | Guadagni | Lamberteschi | Medici | Pazzi | Peruzzi | Pucci | Ridolfi | Salviati | Strozzi | Tornabuoni |\n",
       "|---|---|---|---|---|---|---|---|---|---|---|---|---|---|---|---|---|\n",
       "| Acciaiuoli | 0 | 0 | 0 | 0 | 0 | 0 | 0 | 0 | 0 | 0 | 0 | 0 | 0 | 0 | 0 | 0 |\n",
       "| Albizzi | 0 | 0 | 0 | 0 | 0 | 0 | 0 | 0 | 0 | 0 | 0 | 0 | 0 | 0 | 0 | 0 |\n",
       "| Barbadori | 0 | 0 | 0 | 0 | 1 | 1 | 0 | 0 | 1 | 0 | 1 | 0 | 0 | 0 | 0 | 0 |\n",
       "| Bischeri | 0 | 0 | 0 | 0 | 0 | 0 | 1 | 1 | 0 | 0 | 1 | 0 | 0 | 0 | 0 | 0 |\n",
       "| Castellani | 0 | 0 | 1 | 0 | 0 | 0 | 0 | 1 | 0 | 0 | 1 | 0 | 0 | 0 | 0 | 0 |\n",
       "| Ginori | 0 | 0 | 1 | 0 | 0 | 0 | 0 | 0 | 1 | 0 | 0 | 0 | 0 | 0 | 0 | 0 |\n",
       "| Guadagni | 0 | 0 | 0 | 1 | 0 | 0 | 0 | 1 | 0 | 0 | 0 | 0 | 0 | 0 | 0 | 0 |\n",
       "| Lamberteschi | 0 | 0 | 0 | 1 | 1 | 0 | 1 | 0 | 0 | 0 | 1 | 0 | 0 | 0 | 0 | 0 |\n",
       "| Medici | 0 | 0 | 1 | 0 | 0 | 1 | 0 | 0 | 0 | 1 | 0 | 0 | 0 | 1 | 0 | 1 |\n",
       "| Pazzi | 0 | 0 | 0 | 0 | 0 | 0 | 0 | 0 | 1 | 0 | 0 | 0 | 0 | 0 | 0 | 0 |\n",
       "| Peruzzi | 0 | 0 | 1 | 1 | 1 | 0 | 0 | 1 | 0 | 0 | 0 | 0 | 0 | 0 | 0 | 0 |\n",
       "| Pucci | 0 | 0 | 0 | 0 | 0 | 0 | 0 | 0 | 0 | 0 | 0 | 0 | 0 | 0 | 0 | 0 |\n",
       "| Ridolfi | 0 | 0 | 0 | 0 | 0 | 0 | 0 | 0 | 0 | 0 | 0 | 0 | 0 | 0 | 0 | 0 |\n",
       "| Salviati | 0 | 0 | 0 | 0 | 0 | 0 | 0 | 0 | 1 | 0 | 0 | 0 | 0 | 0 | 0 | 0 |\n",
       "| Strozzi | 0 | 0 | 0 | 0 | 0 | 0 | 0 | 0 | 0 | 0 | 0 | 0 | 0 | 0 | 0 | 0 |\n",
       "| Tornabuoni | 0 | 0 | 0 | 0 | 0 | 0 | 0 | 0 | 1 | 0 | 0 | 0 | 0 | 0 | 0 | 0 |\n",
       "\n"
      ],
      "text/plain": [
       "             Acciaiuoli Albizzi Barbadori Bischeri Castellani Ginori Guadagni\n",
       "Acciaiuoli   0          0       0         0        0          0      0       \n",
       "Albizzi      0          0       0         0        0          0      0       \n",
       "Barbadori    0          0       0         0        1          1      0       \n",
       "Bischeri     0          0       0         0        0          0      1       \n",
       "Castellani   0          0       1         0        0          0      0       \n",
       "Ginori       0          0       1         0        0          0      0       \n",
       "Guadagni     0          0       0         1        0          0      0       \n",
       "Lamberteschi 0          0       0         1        1          0      1       \n",
       "Medici       0          0       1         0        0          1      0       \n",
       "Pazzi        0          0       0         0        0          0      0       \n",
       "Peruzzi      0          0       1         1        1          0      0       \n",
       "Pucci        0          0       0         0        0          0      0       \n",
       "Ridolfi      0          0       0         0        0          0      0       \n",
       "Salviati     0          0       0         0        0          0      0       \n",
       "Strozzi      0          0       0         0        0          0      0       \n",
       "Tornabuoni   0          0       0         0        0          0      0       \n",
       "             Lamberteschi Medici Pazzi Peruzzi Pucci Ridolfi Salviati Strozzi\n",
       "Acciaiuoli   0            0      0     0       0     0       0        0      \n",
       "Albizzi      0            0      0     0       0     0       0        0      \n",
       "Barbadori    0            1      0     1       0     0       0        0      \n",
       "Bischeri     1            0      0     1       0     0       0        0      \n",
       "Castellani   1            0      0     1       0     0       0        0      \n",
       "Ginori       0            1      0     0       0     0       0        0      \n",
       "Guadagni     1            0      0     0       0     0       0        0      \n",
       "Lamberteschi 0            0      0     1       0     0       0        0      \n",
       "Medici       0            0      1     0       0     0       1        0      \n",
       "Pazzi        0            1      0     0       0     0       0        0      \n",
       "Peruzzi      1            0      0     0       0     0       0        0      \n",
       "Pucci        0            0      0     0       0     0       0        0      \n",
       "Ridolfi      0            0      0     0       0     0       0        0      \n",
       "Salviati     0            1      0     0       0     0       0        0      \n",
       "Strozzi      0            0      0     0       0     0       0        0      \n",
       "Tornabuoni   0            1      0     0       0     0       0        0      \n",
       "             Tornabuoni\n",
       "Acciaiuoli   0         \n",
       "Albizzi      0         \n",
       "Barbadori    0         \n",
       "Bischeri     0         \n",
       "Castellani   0         \n",
       "Ginori       0         \n",
       "Guadagni     0         \n",
       "Lamberteschi 0         \n",
       "Medici       1         \n",
       "Pazzi        0         \n",
       "Peruzzi      0         \n",
       "Pucci        0         \n",
       "Ridolfi      0         \n",
       "Salviati     0         \n",
       "Strozzi      0         \n",
       "Tornabuoni   0         "
      ]
     },
     "metadata": {},
     "output_type": "display_data"
    }
   ],
   "source": [
    "#пункт3\n",
    "rownames(matrix) <- colnames(matrix)\n",
    "matrix"
   ]
  },
  {
   "cell_type": "markdown",
   "metadata": {},
   "source": [
    "#### _пункт 4_\n",
    "Происходит построение графа по заданной сети с рандомной укладкой."
   ]
  },
  {
   "cell_type": "code",
   "execution_count": 19,
   "metadata": {
    "scrolled": false
   },
   "outputs": [
    {
     "data": {
      "image/png": "[encoded data removed]",
      "text/plain": [
       "Plot with title \"\""
      ]
     },
     "metadata": {
      "image/png": {
       "height": 420,
       "width": 420
      }
     },
     "output_type": "display_data"
    }
   ],
   "source": [
    "#пункт 4\n",
    "plot(net, layout=layout.random, vertex.size=15)"
   ]
  },
  {
   "cell_type": "markdown",
   "metadata": {},
   "source": [
    "#### _пункт 5_\n",
    "Происходит построение графа по заданной сети с укладкой Фрюхтермана–\n",
    "Рейнгольда и Камада–Каваи.  \n",
    "В данной сети отличия незаметны"
   ]
  },
  {
   "cell_type": "code",
   "execution_count": 20,
   "metadata": {},
   "outputs": [
    {
     "data": {
      "image/png": "[encoded data removed]",
      "text/plain": [
       "Plot with title \"Fruchterman-Reingold\""
      ]
     },
     "metadata": {
      "image/png": {
       "height": 420,
       "width": 420
      }
     },
     "output_type": "display_data"
    }
   ],
   "source": [
    "#пункт 5.1\n",
    "plot(net, layout=layout.fruchterman.reingold, main=\"Fruchterman-Reingold\", vertex.size=15)"
   ]
  },
  {
   "cell_type": "code",
   "execution_count": 21,
   "metadata": {},
   "outputs": [
    {
     "data": {
      "image/png": "[encoded data removed]",
      "text/plain": [
       "Plot with title \"Kamada-Kawai\""
      ]
     },
     "metadata": {
      "image/png": {
       "height": 420,
       "width": 420
      }
     },
     "output_type": "display_data"
    }
   ],
   "source": [
    "#пункт 5.2\n",
    "plot(net, layout=layout.kamada.kawai, main=\"Kamada-Kawai\", vertex.size=15)"
   ]
  },
  {
   "cell_type": "markdown",
   "metadata": {},
   "source": [
    "#### _пункт 6_\n",
    "Выводится описательная сводка сети: неориентированный; именованный;16 акторов; 15 связей; "
   ]
  },
  {
   "cell_type": "code",
   "execution_count": 22,
   "metadata": {},
   "outputs": [
    {
     "data": {
      "text/plain": [
       "Network attributes:\n",
       "  vertices = 16\n",
       "  directed = FALSE\n",
       "  hyper = FALSE\n",
       "  loops = FALSE\n",
       "  multiple = FALSE\n",
       "  bipartite = FALSE\n",
       " total edges = 15 \n",
       "   missing edges = 0 \n",
       "   non-missing edges = 15 \n",
       " density = 0.125 \n",
       "\n",
       "Vertex attributes:\n",
       "  vertex.names:\n",
       "   character valued attribute\n",
       "   16 valid vertex names\n",
       "\n",
       "No edge attributes\n",
       "\n",
       "Network edgelist matrix:\n",
       "      [,1] [,2]\n",
       " [1,]    5    3\n",
       " [2,]    6    3\n",
       " [3,]    9    3\n",
       " [4,]   11    3\n",
       " [5,]    7    4\n",
       " [6,]    8    4\n",
       " [7,]   11    4\n",
       " [8,]    8    5\n",
       " [9,]   11    5\n",
       "[10,]    9    6\n",
       "[11,]    8    7\n",
       "[12,]   11    8\n",
       "[13,]   10    9\n",
       "[14,]   14    9\n",
       "[15,]   16    9"
      ]
     },
     "metadata": {},
     "output_type": "display_data"
    }
   ],
   "source": [
    "#пункт 6\n",
    "summary(network(matrix, matrix.type = \"adjacency\", directed = FALSE))"
   ]
  },
  {
   "cell_type": "markdown",
   "metadata": {},
   "source": [
    "#### _пункт 7_\n",
    "Размер сети - количество вершин  \n",
    "Плотность сети - 15/(16x15/2)=0.125  \n",
    "Компоненты - 6: 5 изолированных вершин, оставшиеся в одной компоненте  \n",
    "Диаметр - 5  по графу\n",
    "Коэф кластеризации 5/12=0.41666: 5 закрытыъ треугольников и 12 в общем\n"
   ]
  },
  {
   "cell_type": "code",
   "execution_count": 23,
   "metadata": {},
   "outputs": [
    {
     "data": {
      "text/html": [
       "16"
      ],
      "text/latex": [
       "16"
      ],
      "text/markdown": [
       "16"
      ],
      "text/plain": [
       "[1] 16"
      ]
     },
     "metadata": {},
     "output_type": "display_data"
    }
   ],
   "source": [
    "#пункт 7.1\n",
    "nrow(matrix) #размер сети."
   ]
  },
  {
   "cell_type": "code",
   "execution_count": 24,
   "metadata": {},
   "outputs": [
    {
     "data": {
      "text/html": [
       "0.125"
      ],
      "text/latex": [
       "0.125"
      ],
      "text/markdown": [
       "0.125"
      ],
      "text/plain": [
       "[1] 0.125"
      ]
     },
     "metadata": {},
     "output_type": "display_data"
    }
   ],
   "source": [
    "#пункт 7.2\n",
    "gden(matrix)#плотность сети 15/(16x15/2)=0.125"
   ]
  },
  {
   "cell_type": "code",
   "execution_count": 25,
   "metadata": {},
   "outputs": [
    {
     "data": {
      "text/html": [
       "<dl>\n",
       "\t<dt>$membership</dt>\n",
       "\t\t<dd><style>\n",
       ".dl-inline {width: auto; margin:0; padding: 0}\n",
       ".dl-inline>dt, .dl-inline>dd {float: none; width: auto; display: inline-block}\n",
       ".dl-inline>dt::after {content: \":\\0020\"; padding-right: .5ex}\n",
       ".dl-inline>dt:not(:first-of-type) {padding-left: .5ex}\n",
       "</style><dl class=dl-inline><dt>Acciaiuoli</dt><dd>1</dd><dt>Albizzi</dt><dd>2</dd><dt>Barbadori</dt><dd>3</dd><dt>Bischeri</dt><dd>3</dd><dt>Castellani</dt><dd>3</dd><dt>Ginori</dt><dd>3</dd><dt>Guadagni</dt><dd>3</dd><dt>Lamberteschi</dt><dd>3</dd><dt>Medici</dt><dd>3</dd><dt>Pazzi</dt><dd>3</dd><dt>Peruzzi</dt><dd>3</dd><dt>Pucci</dt><dd>4</dd><dt>Ridolfi</dt><dd>5</dd><dt>Salviati</dt><dd>3</dd><dt>Strozzi</dt><dd>6</dd><dt>Tornabuoni</dt><dd>3</dd></dl>\n",
       "</dd>\n",
       "\t<dt>$csize</dt>\n",
       "\t\t<dd><style>\n",
       ".list-inline {list-style: none; margin:0; padding: 0}\n",
       ".list-inline>li {display: inline-block}\n",
       ".list-inline>li:not(:last-child)::after {content: \"\\00b7\"; padding: 0 .5ex}\n",
       "</style>\n",
       "<ol class=list-inline><li>1</li><li>1</li><li>11</li><li>1</li><li>1</li><li>1</li></ol>\n",
       "</dd>\n",
       "\t<dt>$no</dt>\n",
       "\t\t<dd>6</dd>\n",
       "</dl>\n"
      ],
      "text/latex": [
       "\\begin{description}\n",
       "\\item[\\$membership] \\begin{description*}\n",
       "\\item[Acciaiuoli] 1\n",
       "\\item[Albizzi] 2\n",
       "\\item[Barbadori] 3\n",
       "\\item[Bischeri] 3\n",
       "\\item[Castellani] 3\n",
       "\\item[Ginori] 3\n",
       "\\item[Guadagni] 3\n",
       "\\item[Lamberteschi] 3\n",
       "\\item[Medici] 3\n",
       "\\item[Pazzi] 3\n",
       "\\item[Peruzzi] 3\n",
       "\\item[Pucci] 4\n",
       "\\item[Ridolfi] 5\n",
       "\\item[Salviati] 3\n",
       "\\item[Strozzi] 6\n",
       "\\item[Tornabuoni] 3\n",
       "\\end{description*}\n",
       "\n",
       "\\item[\\$csize] \\begin{enumerate*}\n",
       "\\item 1\n",
       "\\item 1\n",
       "\\item 11\n",
       "\\item 1\n",
       "\\item 1\n",
       "\\item 1\n",
       "\\end{enumerate*}\n",
       "\n",
       "\\item[\\$no] 6\n",
       "\\end{description}\n"
      ],
      "text/markdown": [
       "$membership\n",
       ":   Acciaiuoli\n",
       ":   1Albizzi\n",
       ":   2Barbadori\n",
       ":   3Bischeri\n",
       ":   3Castellani\n",
       ":   3Ginori\n",
       ":   3Guadagni\n",
       ":   3Lamberteschi\n",
       ":   3Medici\n",
       ":   3Pazzi\n",
       ":   3Peruzzi\n",
       ":   3Pucci\n",
       ":   4Ridolfi\n",
       ":   5Salviati\n",
       ":   3Strozzi\n",
       ":   6Tornabuoni\n",
       ":   3\n",
       "\n",
       "\n",
       "$csize\n",
       ":   1. 1\n",
       "2. 1\n",
       "3. 11\n",
       "4. 1\n",
       "5. 1\n",
       "6. 1\n",
       "\n",
       "\n",
       "\n",
       "$no\n",
       ":   6\n",
       "\n",
       "\n"
      ],
      "text/plain": [
       "$membership\n",
       "  Acciaiuoli      Albizzi    Barbadori     Bischeri   Castellani       Ginori \n",
       "           1            2            3            3            3            3 \n",
       "    Guadagni Lamberteschi       Medici        Pazzi      Peruzzi        Pucci \n",
       "           3            3            3            3            3            4 \n",
       "     Ridolfi     Salviati      Strozzi   Tornabuoni \n",
       "           5            3            6            3 \n",
       "\n",
       "$csize\n",
       "[1]  1  1 11  1  1  1\n",
       "\n",
       "$no\n",
       "[1] 6\n"
      ]
     },
     "metadata": {},
     "output_type": "display_data"
    }
   ],
   "source": [
    "#пункт 7.3\n",
    "components(net)#число компонент - 6"
   ]
  },
  {
   "cell_type": "code",
   "execution_count": 26,
   "metadata": {},
   "outputs": [
    {
     "data": {
      "text/html": [
       "5"
      ],
      "text/latex": [
       "5"
      ],
      "text/markdown": [
       "5"
      ],
      "text/plain": [
       "[1] 5"
      ]
     },
     "metadata": {},
     "output_type": "display_data"
    }
   ],
   "source": [
    "#пункт 7.4\n",
    "diameter(net)#диаметр"
   ]
  },
  {
   "cell_type": "code",
   "execution_count": 27,
   "metadata": {},
   "outputs": [
    {
     "data": {
      "text/html": [
       "0.416666666666667"
      ],
      "text/latex": [
       "0.416666666666667"
      ],
      "text/markdown": [
       "0.416666666666667"
      ],
      "text/plain": [
       "[1] 0.4166667"
      ]
     },
     "metadata": {},
     "output_type": "display_data"
    }
   ],
   "source": [
    "#пункт 7.5\n",
    "transitivity(net)#коэф кластеризации"
   ]
  },
  {
   "cell_type": "markdown",
   "metadata": {},
   "source": [
    "#### _пункт 8_\n",
    "Вычислены средняя степень узлов как среднее от степеней узлов и дисперсия по формуле из раздела теоретические положения.  \n",
    "Так как некоторые вершины не имеют связей средняя степень получается около 1.9"
   ]
  },
  {
   "cell_type": "code",
   "execution_count": 28,
   "metadata": {},
   "outputs": [
    {
     "data": {
      "text/html": [
       "<style>\n",
       ".list-inline {list-style: none; margin:0; padding: 0}\n",
       ".list-inline>li {display: inline-block}\n",
       ".list-inline>li:not(:last-child)::after {content: \"\\00b7\"; padding: 0 .5ex}\n",
       "</style>\n",
       "<ol class=list-inline><li>1.875</li><li>3.05</li></ol>\n"
      ],
      "text/latex": [
       "\\begin{enumerate*}\n",
       "\\item 1.875\n",
       "\\item 3.05\n",
       "\\end{enumerate*}\n"
      ],
      "text/markdown": [
       "1. 1.875\n",
       "2. 3.05\n",
       "\n",
       "\n"
      ],
      "text/plain": [
       "[1] 1.875 3.050"
      ]
     },
     "metadata": {},
     "output_type": "display_data"
    }
   ],
   "source": [
    "#пункт 8\n",
    "c(mean(degree(net)),var(degree(net)))#средняя степень и дисперсия "
   ]
  },
  {
   "cell_type": "markdown",
   "metadata": {},
   "source": [
    "#### _пункт 9_\n",
    "Получены значения меры центральности.  \n",
    "Полученные значения мер различаются друг от друга, что показывает различие в понимании важности того или иного актора в зависимости от выбранной меры, поэтому разные меры могут использоваться в разных ситуациях."
   ]
  },
  {
   "cell_type": "code",
   "execution_count": 29,
   "metadata": {
    "scrolled": true
   },
   "outputs": [
    {
     "data": {
      "text/html": [
       "<table class=\"dataframe\">\n",
       "<caption>A data.frame: 11 × 5</caption>\n",
       "<thead>\n",
       "\t<tr><th scope=col>ni</th><th scope=col>Cd</th><th scope=col>Cc</th><th scope=col>Cb</th><th scope=col>Ci</th></tr>\n",
       "\t<tr><th scope=col>&lt;int&gt;</th><th scope=col>&lt;dbl&gt;</th><th scope=col>&lt;dbl&gt;</th><th scope=col>&lt;dbl&gt;</th><th scope=col>&lt;dbl&gt;</th></tr>\n",
       "</thead>\n",
       "<tbody>\n",
       "\t<tr><td> 3</td><td>0.4</td><td>0.588</td><td>0.556</td><td>0.124</td></tr>\n",
       "\t<tr><td> 4</td><td>0.3</td><td>0.400</td><td>0.056</td><td>0.089</td></tr>\n",
       "\t<tr><td> 5</td><td>0.3</td><td>0.500</td><td>0.111</td><td>0.105</td></tr>\n",
       "\t<tr><td> 6</td><td>0.2</td><td>0.455</td><td>0.000</td><td>0.095</td></tr>\n",
       "\t<tr><td> 7</td><td>0.2</td><td>0.312</td><td>0.000</td><td>0.077</td></tr>\n",
       "\t<tr><td> 8</td><td>0.4</td><td>0.417</td><td>0.133</td><td>0.098</td></tr>\n",
       "\t<tr><td> 9</td><td>0.5</td><td>0.526</td><td>0.533</td><td>0.111</td></tr>\n",
       "\t<tr><td>10</td><td>0.1</td><td>0.357</td><td>0.000</td><td>0.064</td></tr>\n",
       "\t<tr><td>11</td><td>0.4</td><td>0.526</td><td>0.300</td><td>0.109</td></tr>\n",
       "\t<tr><td>14</td><td>0.1</td><td>0.357</td><td>0.000</td><td>0.064</td></tr>\n",
       "\t<tr><td>16</td><td>0.1</td><td>0.357</td><td>0.000</td><td>0.064</td></tr>\n",
       "</tbody>\n",
       "</table>\n"
      ],
      "text/latex": [
       "A data.frame: 11 × 5\n",
       "\\begin{tabular}{lllll}\n",
       " ni & Cd & Cc & Cb & Ci\\\\\n",
       " <int> & <dbl> & <dbl> & <dbl> & <dbl>\\\\\n",
       "\\hline\n",
       "\t  3 & 0.4 & 0.588 & 0.556 & 0.124\\\\\n",
       "\t  4 & 0.3 & 0.400 & 0.056 & 0.089\\\\\n",
       "\t  5 & 0.3 & 0.500 & 0.111 & 0.105\\\\\n",
       "\t  6 & 0.2 & 0.455 & 0.000 & 0.095\\\\\n",
       "\t  7 & 0.2 & 0.312 & 0.000 & 0.077\\\\\n",
       "\t  8 & 0.4 & 0.417 & 0.133 & 0.098\\\\\n",
       "\t  9 & 0.5 & 0.526 & 0.533 & 0.111\\\\\n",
       "\t 10 & 0.1 & 0.357 & 0.000 & 0.064\\\\\n",
       "\t 11 & 0.4 & 0.526 & 0.300 & 0.109\\\\\n",
       "\t 14 & 0.1 & 0.357 & 0.000 & 0.064\\\\\n",
       "\t 16 & 0.1 & 0.357 & 0.000 & 0.064\\\\\n",
       "\\end{tabular}\n"
      ],
      "text/markdown": [
       "\n",
       "A data.frame: 11 × 5\n",
       "\n",
       "| ni &lt;int&gt; | Cd &lt;dbl&gt; | Cc &lt;dbl&gt; | Cb &lt;dbl&gt; | Ci &lt;dbl&gt; |\n",
       "|---|---|---|---|---|\n",
       "|  3 | 0.4 | 0.588 | 0.556 | 0.124 |\n",
       "|  4 | 0.3 | 0.400 | 0.056 | 0.089 |\n",
       "|  5 | 0.3 | 0.500 | 0.111 | 0.105 |\n",
       "|  6 | 0.2 | 0.455 | 0.000 | 0.095 |\n",
       "|  7 | 0.2 | 0.312 | 0.000 | 0.077 |\n",
       "|  8 | 0.4 | 0.417 | 0.133 | 0.098 |\n",
       "|  9 | 0.5 | 0.526 | 0.533 | 0.111 |\n",
       "| 10 | 0.1 | 0.357 | 0.000 | 0.064 |\n",
       "| 11 | 0.4 | 0.526 | 0.300 | 0.109 |\n",
       "| 14 | 0.1 | 0.357 | 0.000 | 0.064 |\n",
       "| 16 | 0.1 | 0.357 | 0.000 | 0.064 |\n",
       "\n"
      ],
      "text/plain": [
       "   ni Cd  Cc    Cb    Ci   \n",
       "1   3 0.4 0.588 0.556 0.124\n",
       "2   4 0.3 0.400 0.056 0.089\n",
       "3   5 0.3 0.500 0.111 0.105\n",
       "4   6 0.2 0.455 0.000 0.095\n",
       "5   7 0.2 0.312 0.000 0.077\n",
       "6   8 0.4 0.417 0.133 0.098\n",
       "7   9 0.5 0.526 0.533 0.111\n",
       "8  10 0.1 0.357 0.000 0.064\n",
       "9  11 0.4 0.526 0.300 0.109\n",
       "10 14 0.1 0.357 0.000 0.064\n",
       "11 16 0.1 0.357 0.000 0.064"
      ]
     },
     "metadata": {},
     "output_type": "display_data"
    }
   ],
   "source": [
    "#пункт 9\n",
    "new_grapg <- delete.vertices(net, which(degree(net) == 0))\n",
    "\n",
    "cTable <- data.frame(ni = match(V(new_grapg)$name, V(net)$name))\n",
    "\n",
    "cTable$Cd <- degree(new_grapg, normalized=TRUE)\n",
    "cTable$Cc <- round(closeness(new_grapg, normalized=TRUE), 3)\n",
    "cTable$Cb <- round(betweenness(new_grapg, normalized=TRUE), 3)\n",
    "\n",
    "new_net <- network::delete.vertices(network(matrix, matrix.type = \"adjacency\", directed = FALSE), isolates(network(matrix, matrix.type = \"adjacency\", directed = FALSE)))\n",
    "Ci <- infocent(new_net)\n",
    "cTable$Ci <- round(Ci/sum(Ci), 3)\n",
    "cTable"
   ]
  },
  {
   "cell_type": "markdown",
   "metadata": {},
   "source": [
    "#### _пункт 10_\n",
    "Вычислены значения централизации для каждой меры. Результаты подтверждают вывод, сделанный в прошлом пункте."
   ]
  },
  {
   "cell_type": "code",
   "execution_count": 30,
   "metadata": {},
   "outputs": [
    {
     "data": {
      "text/html": [
       "0.227"
      ],
      "text/latex": [
       "0.227"
      ],
      "text/markdown": [
       "0.227"
      ],
      "text/plain": [
       "[1] 0.227"
      ]
     },
     "metadata": {},
     "output_type": "display_data"
    },
    {
     "data": {
      "text/html": [
       "0.354"
      ],
      "text/latex": [
       "0.354"
      ],
      "text/markdown": [
       "0.354"
      ],
      "text/plain": [
       "[1] 0.354"
      ]
     },
     "metadata": {},
     "output_type": "display_data"
    },
    {
     "data": {
      "text/html": [
       "0.442"
      ],
      "text/latex": [
       "0.442"
      ],
      "text/markdown": [
       "0.442"
      ],
      "text/plain": [
       "[1] 0.442"
      ]
     },
     "metadata": {},
     "output_type": "display_data"
    },
    {
     "data": {
      "text/html": [
       "0.166"
      ],
      "text/latex": [
       "0.166"
      ],
      "text/markdown": [
       "0.166"
      ],
      "text/plain": [
       "[1] 0.166"
      ]
     },
     "metadata": {},
     "output_type": "display_data"
    }
   ],
   "source": [
    "#пункт 10\n",
    "round(centr_degree(new_grapg)$centralization, 3) #по степени\n",
    "round(centr_clo(new_grapg)$centralization, 3) #по близости\n",
    "round(centr_betw(new_grapg)$centralization, 3) #по посредничеству\n",
    "round(centralization(new_net, infocent), 3) #по информации"
   ]
  },
  {
   "cell_type": "markdown",
   "metadata": {},
   "source": [
    "#### _пункт 11_\n",
    "По графу видно, что удаление голубых вершин и ребер ведет к распаду графа на большее количество частей."
   ]
  },
  {
   "cell_type": "code",
   "execution_count": 31,
   "metadata": {},
   "outputs": [
    {
     "data": {
      "image/png": "[encoded data removed]",
      "text/plain": [
       "Plot with title \"Мосты и точки сочленения\""
      ]
     },
     "metadata": {
      "image/png": {
       "height": 420,
       "width": 420
      }
     },
     "output_type": "display_data"
    }
   ],
   "source": [
    "#пункт 11\n",
    "art_points <- articulation_points(net)\n",
    "bridges <- bridges(net)\n",
    "plot(net, \n",
    "    edge.color = ifelse(E(net) %in% bridges, 10, 1), \n",
    "    vertex.color = ifelse(V(net) %in% art_points, 10, 1), \n",
    "    edge.width=4, main='Мосты и точки сочленения')"
   ]
  },
  {
   "cell_type": "markdown",
   "metadata": {},
   "source": [
    "#### _пункт 12_\n",
    "Производится повторение пунктов 2-8 для другой сети, имеющей ориентацию.  \n",
    "Выполнение первых пунктов аналогично выполненым выше.  \n",
    "В пункте 5 заметны изменения, тк алгоритм Камада-Каваи расположил вершины почти по окружности.  \n",
    "Граф - именованный, направленный 21 вершина, 190 ребер.\n",
    "Вычислена пятичисловая сводка; имеется одна компонента связности, диаметр 3.\n",
    "Средняя степень вершин - 18\n"
   ]
  },
  {
   "cell_type": "code",
   "execution_count": 32,
   "metadata": {},
   "outputs": [],
   "source": [
    "#пункт 12.1\n",
    "object <- read.csv(\"./krackhardt_advice.csv\", comment.char = '#', sep = ',', header=FALSE)\n",
    "matrix <- as.matrix(object)"
   ]
  },
  {
   "cell_type": "code",
   "execution_count": 33,
   "metadata": {},
   "outputs": [
    {
     "data": {
      "text/html": [
       "<table class=\"dataframe\">\n",
       "<caption>A matrix: 5 × 2 of type chr</caption>\n",
       "<tbody>\n",
       "\t<tr><td>V1</td><td>V2 </td></tr>\n",
       "\t<tr><td>V1</td><td>V4 </td></tr>\n",
       "\t<tr><td>V1</td><td>V8 </td></tr>\n",
       "\t<tr><td>V1</td><td>V16</td></tr>\n",
       "\t<tr><td>V1</td><td>V18</td></tr>\n",
       "</tbody>\n",
       "</table>\n"
      ],
      "text/latex": [
       "A matrix: 5 × 2 of type chr\n",
       "\\begin{tabular}{ll}\n",
       "\t V1 & V2 \\\\\n",
       "\t V1 & V4 \\\\\n",
       "\t V1 & V8 \\\\\n",
       "\t V1 & V16\\\\\n",
       "\t V1 & V18\\\\\n",
       "\\end{tabular}\n"
      ],
      "text/markdown": [
       "\n",
       "A matrix: 5 × 2 of type chr\n",
       "\n",
       "| V1 | V2  |\n",
       "| V1 | V4  |\n",
       "| V1 | V8  |\n",
       "| V1 | V16 |\n",
       "| V1 | V18 |\n",
       "\n"
      ],
      "text/plain": [
       "     [,1] [,2]\n",
       "[1,] V1   V2  \n",
       "[2,] V1   V4  \n",
       "[3,] V1   V8  \n",
       "[4,] V1   V16 \n",
       "[5,] V1   V18 "
      ]
     },
     "metadata": {},
     "output_type": "display_data"
    }
   ],
   "source": [
    "#пункт 12.2\n",
    "net <- graph_from_adjacency_matrix(matrix , mode='directed')\n",
    "edges <- as_edgelist(net, names = TRUE)\n",
    "edges[1:5,]"
   ]
  },
  {
   "cell_type": "code",
   "execution_count": 34,
   "metadata": {},
   "outputs": [
    {
     "data": {
      "text/html": [
       "<table class=\"dataframe\">\n",
       "<caption>A matrix: 21 × 21 of type int</caption>\n",
       "<thead>\n",
       "\t<tr><th></th><th scope=col>V1</th><th scope=col>V2</th><th scope=col>V3</th><th scope=col>V4</th><th scope=col>V5</th><th scope=col>V6</th><th scope=col>V7</th><th scope=col>V8</th><th scope=col>V9</th><th scope=col>V10</th><th scope=col>⋯</th><th scope=col>V12</th><th scope=col>V13</th><th scope=col>V14</th><th scope=col>V15</th><th scope=col>V16</th><th scope=col>V17</th><th scope=col>V18</th><th scope=col>V19</th><th scope=col>V20</th><th scope=col>V21</th></tr>\n",
       "</thead>\n",
       "<tbody>\n",
       "\t<tr><th scope=row>V1</th><td>0</td><td>1</td><td>0</td><td>1</td><td>0</td><td>0</td><td>0</td><td>1</td><td>0</td><td>0</td><td>⋯</td><td>0</td><td>0</td><td>0</td><td>0</td><td>1</td><td>0</td><td>1</td><td>0</td><td>0</td><td>1</td></tr>\n",
       "\t<tr><th scope=row>V2</th><td>0</td><td>0</td><td>0</td><td>0</td><td>0</td><td>1</td><td>1</td><td>0</td><td>0</td><td>0</td><td>⋯</td><td>0</td><td>0</td><td>0</td><td>0</td><td>0</td><td>0</td><td>0</td><td>0</td><td>0</td><td>1</td></tr>\n",
       "\t<tr><th scope=row>V3</th><td>1</td><td>1</td><td>0</td><td>1</td><td>0</td><td>1</td><td>1</td><td>1</td><td>1</td><td>1</td><td>⋯</td><td>1</td><td>0</td><td>1</td><td>0</td><td>0</td><td>1</td><td>1</td><td>0</td><td>1</td><td>1</td></tr>\n",
       "\t<tr><th scope=row>V4</th><td>1</td><td>1</td><td>0</td><td>0</td><td>0</td><td>1</td><td>0</td><td>1</td><td>0</td><td>1</td><td>⋯</td><td>1</td><td>0</td><td>0</td><td>0</td><td>1</td><td>1</td><td>1</td><td>0</td><td>1</td><td>1</td></tr>\n",
       "\t<tr><th scope=row>V5</th><td>1</td><td>1</td><td>0</td><td>0</td><td>0</td><td>1</td><td>1</td><td>1</td><td>0</td><td>1</td><td>⋯</td><td>0</td><td>1</td><td>1</td><td>0</td><td>1</td><td>1</td><td>1</td><td>1</td><td>1</td><td>1</td></tr>\n",
       "\t<tr><th scope=row>V6</th><td>0</td><td>0</td><td>0</td><td>0</td><td>0</td><td>0</td><td>0</td><td>0</td><td>0</td><td>0</td><td>⋯</td><td>0</td><td>0</td><td>0</td><td>0</td><td>0</td><td>0</td><td>0</td><td>0</td><td>0</td><td>1</td></tr>\n",
       "\t<tr><th scope=row>V7</th><td>0</td><td>1</td><td>0</td><td>0</td><td>0</td><td>1</td><td>0</td><td>0</td><td>0</td><td>0</td><td>⋯</td><td>1</td><td>0</td><td>1</td><td>0</td><td>0</td><td>1</td><td>1</td><td>0</td><td>0</td><td>1</td></tr>\n",
       "\t<tr><th scope=row>V8</th><td>0</td><td>1</td><td>0</td><td>1</td><td>0</td><td>1</td><td>1</td><td>0</td><td>0</td><td>1</td><td>⋯</td><td>0</td><td>0</td><td>0</td><td>0</td><td>0</td><td>0</td><td>1</td><td>0</td><td>0</td><td>1</td></tr>\n",
       "\t<tr><th scope=row>V9</th><td>1</td><td>1</td><td>0</td><td>0</td><td>0</td><td>1</td><td>1</td><td>1</td><td>0</td><td>1</td><td>⋯</td><td>1</td><td>0</td><td>1</td><td>0</td><td>1</td><td>1</td><td>1</td><td>0</td><td>0</td><td>1</td></tr>\n",
       "\t<tr><th scope=row>V10</th><td>1</td><td>1</td><td>1</td><td>1</td><td>1</td><td>0</td><td>0</td><td>1</td><td>0</td><td>0</td><td>⋯</td><td>0</td><td>1</td><td>0</td><td>1</td><td>1</td><td>1</td><td>1</td><td>1</td><td>1</td><td>0</td></tr>\n",
       "\t<tr><th scope=row>V11</th><td>1</td><td>1</td><td>0</td><td>0</td><td>0</td><td>0</td><td>1</td><td>0</td><td>0</td><td>0</td><td>⋯</td><td>0</td><td>0</td><td>0</td><td>0</td><td>0</td><td>0</td><td>0</td><td>0</td><td>0</td><td>0</td></tr>\n",
       "\t<tr><th scope=row>V12</th><td>0</td><td>0</td><td>0</td><td>0</td><td>0</td><td>0</td><td>1</td><td>0</td><td>0</td><td>0</td><td>⋯</td><td>0</td><td>0</td><td>0</td><td>0</td><td>0</td><td>0</td><td>0</td><td>0</td><td>0</td><td>1</td></tr>\n",
       "\t<tr><th scope=row>V13</th><td>1</td><td>1</td><td>0</td><td>0</td><td>1</td><td>0</td><td>0</td><td>0</td><td>1</td><td>0</td><td>⋯</td><td>0</td><td>0</td><td>1</td><td>0</td><td>0</td><td>0</td><td>1</td><td>0</td><td>0</td><td>0</td></tr>\n",
       "\t<tr><th scope=row>V14</th><td>0</td><td>1</td><td>0</td><td>0</td><td>0</td><td>0</td><td>1</td><td>0</td><td>0</td><td>0</td><td>⋯</td><td>0</td><td>0</td><td>0</td><td>0</td><td>0</td><td>0</td><td>1</td><td>0</td><td>0</td><td>1</td></tr>\n",
       "\t<tr><th scope=row>V15</th><td>1</td><td>1</td><td>1</td><td>1</td><td>1</td><td>1</td><td>1</td><td>1</td><td>1</td><td>1</td><td>⋯</td><td>1</td><td>1</td><td>1</td><td>0</td><td>1</td><td>1</td><td>1</td><td>1</td><td>1</td><td>1</td></tr>\n",
       "\t<tr><th scope=row>V16</th><td>1</td><td>1</td><td>0</td><td>0</td><td>0</td><td>0</td><td>0</td><td>0</td><td>0</td><td>1</td><td>⋯</td><td>0</td><td>0</td><td>0</td><td>0</td><td>0</td><td>0</td><td>1</td><td>0</td><td>0</td><td>0</td></tr>\n",
       "\t<tr><th scope=row>V17</th><td>1</td><td>1</td><td>0</td><td>1</td><td>0</td><td>0</td><td>1</td><td>0</td><td>0</td><td>0</td><td>⋯</td><td>0</td><td>0</td><td>0</td><td>0</td><td>0</td><td>0</td><td>0</td><td>0</td><td>0</td><td>1</td></tr>\n",
       "\t<tr><th scope=row>V18</th><td>1</td><td>1</td><td>1</td><td>1</td><td>1</td><td>0</td><td>1</td><td>1</td><td>1</td><td>1</td><td>⋯</td><td>0</td><td>1</td><td>1</td><td>1</td><td>1</td><td>0</td><td>0</td><td>1</td><td>1</td><td>1</td></tr>\n",
       "\t<tr><th scope=row>V19</th><td>1</td><td>1</td><td>1</td><td>0</td><td>1</td><td>0</td><td>1</td><td>0</td><td>0</td><td>1</td><td>⋯</td><td>0</td><td>0</td><td>1</td><td>1</td><td>0</td><td>0</td><td>1</td><td>0</td><td>1</td><td>0</td></tr>\n",
       "\t<tr><th scope=row>V20</th><td>1</td><td>1</td><td>0</td><td>0</td><td>0</td><td>1</td><td>0</td><td>1</td><td>0</td><td>0</td><td>⋯</td><td>1</td><td>0</td><td>1</td><td>1</td><td>1</td><td>1</td><td>1</td><td>0</td><td>0</td><td>1</td></tr>\n",
       "\t<tr><th scope=row>V21</th><td>0</td><td>1</td><td>1</td><td>1</td><td>0</td><td>1</td><td>1</td><td>1</td><td>0</td><td>0</td><td>⋯</td><td>1</td><td>0</td><td>1</td><td>0</td><td>0</td><td>1</td><td>1</td><td>0</td><td>1</td><td>0</td></tr>\n",
       "</tbody>\n",
       "</table>\n"
      ],
      "text/latex": [
       "A matrix: 21 × 21 of type int\n",
       "\\begin{tabular}{r|lllllllllllllllllllll}\n",
       "  & V1 & V2 & V3 & V4 & V5 & V6 & V7 & V8 & V9 & V10 & ⋯ & V12 & V13 & V14 & V15 & V16 & V17 & V18 & V19 & V20 & V21\\\\\n",
       "\\hline\n",
       "\tV1 & 0 & 1 & 0 & 1 & 0 & 0 & 0 & 1 & 0 & 0 & ⋯ & 0 & 0 & 0 & 0 & 1 & 0 & 1 & 0 & 0 & 1\\\\\n",
       "\tV2 & 0 & 0 & 0 & 0 & 0 & 1 & 1 & 0 & 0 & 0 & ⋯ & 0 & 0 & 0 & 0 & 0 & 0 & 0 & 0 & 0 & 1\\\\\n",
       "\tV3 & 1 & 1 & 0 & 1 & 0 & 1 & 1 & 1 & 1 & 1 & ⋯ & 1 & 0 & 1 & 0 & 0 & 1 & 1 & 0 & 1 & 1\\\\\n",
       "\tV4 & 1 & 1 & 0 & 0 & 0 & 1 & 0 & 1 & 0 & 1 & ⋯ & 1 & 0 & 0 & 0 & 1 & 1 & 1 & 0 & 1 & 1\\\\\n",
       "\tV5 & 1 & 1 & 0 & 0 & 0 & 1 & 1 & 1 & 0 & 1 & ⋯ & 0 & 1 & 1 & 0 & 1 & 1 & 1 & 1 & 1 & 1\\\\\n",
       "\tV6 & 0 & 0 & 0 & 0 & 0 & 0 & 0 & 0 & 0 & 0 & ⋯ & 0 & 0 & 0 & 0 & 0 & 0 & 0 & 0 & 0 & 1\\\\\n",
       "\tV7 & 0 & 1 & 0 & 0 & 0 & 1 & 0 & 0 & 0 & 0 & ⋯ & 1 & 0 & 1 & 0 & 0 & 1 & 1 & 0 & 0 & 1\\\\\n",
       "\tV8 & 0 & 1 & 0 & 1 & 0 & 1 & 1 & 0 & 0 & 1 & ⋯ & 0 & 0 & 0 & 0 & 0 & 0 & 1 & 0 & 0 & 1\\\\\n",
       "\tV9 & 1 & 1 & 0 & 0 & 0 & 1 & 1 & 1 & 0 & 1 & ⋯ & 1 & 0 & 1 & 0 & 1 & 1 & 1 & 0 & 0 & 1\\\\\n",
       "\tV10 & 1 & 1 & 1 & 1 & 1 & 0 & 0 & 1 & 0 & 0 & ⋯ & 0 & 1 & 0 & 1 & 1 & 1 & 1 & 1 & 1 & 0\\\\\n",
       "\tV11 & 1 & 1 & 0 & 0 & 0 & 0 & 1 & 0 & 0 & 0 & ⋯ & 0 & 0 & 0 & 0 & 0 & 0 & 0 & 0 & 0 & 0\\\\\n",
       "\tV12 & 0 & 0 & 0 & 0 & 0 & 0 & 1 & 0 & 0 & 0 & ⋯ & 0 & 0 & 0 & 0 & 0 & 0 & 0 & 0 & 0 & 1\\\\\n",
       "\tV13 & 1 & 1 & 0 & 0 & 1 & 0 & 0 & 0 & 1 & 0 & ⋯ & 0 & 0 & 1 & 0 & 0 & 0 & 1 & 0 & 0 & 0\\\\\n",
       "\tV14 & 0 & 1 & 0 & 0 & 0 & 0 & 1 & 0 & 0 & 0 & ⋯ & 0 & 0 & 0 & 0 & 0 & 0 & 1 & 0 & 0 & 1\\\\\n",
       "\tV15 & 1 & 1 & 1 & 1 & 1 & 1 & 1 & 1 & 1 & 1 & ⋯ & 1 & 1 & 1 & 0 & 1 & 1 & 1 & 1 & 1 & 1\\\\\n",
       "\tV16 & 1 & 1 & 0 & 0 & 0 & 0 & 0 & 0 & 0 & 1 & ⋯ & 0 & 0 & 0 & 0 & 0 & 0 & 1 & 0 & 0 & 0\\\\\n",
       "\tV17 & 1 & 1 & 0 & 1 & 0 & 0 & 1 & 0 & 0 & 0 & ⋯ & 0 & 0 & 0 & 0 & 0 & 0 & 0 & 0 & 0 & 1\\\\\n",
       "\tV18 & 1 & 1 & 1 & 1 & 1 & 0 & 1 & 1 & 1 & 1 & ⋯ & 0 & 1 & 1 & 1 & 1 & 0 & 0 & 1 & 1 & 1\\\\\n",
       "\tV19 & 1 & 1 & 1 & 0 & 1 & 0 & 1 & 0 & 0 & 1 & ⋯ & 0 & 0 & 1 & 1 & 0 & 0 & 1 & 0 & 1 & 0\\\\\n",
       "\tV20 & 1 & 1 & 0 & 0 & 0 & 1 & 0 & 1 & 0 & 0 & ⋯ & 1 & 0 & 1 & 1 & 1 & 1 & 1 & 0 & 0 & 1\\\\\n",
       "\tV21 & 0 & 1 & 1 & 1 & 0 & 1 & 1 & 1 & 0 & 0 & ⋯ & 1 & 0 & 1 & 0 & 0 & 1 & 1 & 0 & 1 & 0\\\\\n",
       "\\end{tabular}\n"
      ],
      "text/markdown": [
       "\n",
       "A matrix: 21 × 21 of type int\n",
       "\n",
       "| <!--/--> | V1 | V2 | V3 | V4 | V5 | V6 | V7 | V8 | V9 | V10 | ⋯ | V12 | V13 | V14 | V15 | V16 | V17 | V18 | V19 | V20 | V21 |\n",
       "|---|---|---|---|---|---|---|---|---|---|---|---|---|---|---|---|---|---|---|---|---|---|\n",
       "| V1 | 0 | 1 | 0 | 1 | 0 | 0 | 0 | 1 | 0 | 0 | ⋯ | 0 | 0 | 0 | 0 | 1 | 0 | 1 | 0 | 0 | 1 |\n",
       "| V2 | 0 | 0 | 0 | 0 | 0 | 1 | 1 | 0 | 0 | 0 | ⋯ | 0 | 0 | 0 | 0 | 0 | 0 | 0 | 0 | 0 | 1 |\n",
       "| V3 | 1 | 1 | 0 | 1 | 0 | 1 | 1 | 1 | 1 | 1 | ⋯ | 1 | 0 | 1 | 0 | 0 | 1 | 1 | 0 | 1 | 1 |\n",
       "| V4 | 1 | 1 | 0 | 0 | 0 | 1 | 0 | 1 | 0 | 1 | ⋯ | 1 | 0 | 0 | 0 | 1 | 1 | 1 | 0 | 1 | 1 |\n",
       "| V5 | 1 | 1 | 0 | 0 | 0 | 1 | 1 | 1 | 0 | 1 | ⋯ | 0 | 1 | 1 | 0 | 1 | 1 | 1 | 1 | 1 | 1 |\n",
       "| V6 | 0 | 0 | 0 | 0 | 0 | 0 | 0 | 0 | 0 | 0 | ⋯ | 0 | 0 | 0 | 0 | 0 | 0 | 0 | 0 | 0 | 1 |\n",
       "| V7 | 0 | 1 | 0 | 0 | 0 | 1 | 0 | 0 | 0 | 0 | ⋯ | 1 | 0 | 1 | 0 | 0 | 1 | 1 | 0 | 0 | 1 |\n",
       "| V8 | 0 | 1 | 0 | 1 | 0 | 1 | 1 | 0 | 0 | 1 | ⋯ | 0 | 0 | 0 | 0 | 0 | 0 | 1 | 0 | 0 | 1 |\n",
       "| V9 | 1 | 1 | 0 | 0 | 0 | 1 | 1 | 1 | 0 | 1 | ⋯ | 1 | 0 | 1 | 0 | 1 | 1 | 1 | 0 | 0 | 1 |\n",
       "| V10 | 1 | 1 | 1 | 1 | 1 | 0 | 0 | 1 | 0 | 0 | ⋯ | 0 | 1 | 0 | 1 | 1 | 1 | 1 | 1 | 1 | 0 |\n",
       "| V11 | 1 | 1 | 0 | 0 | 0 | 0 | 1 | 0 | 0 | 0 | ⋯ | 0 | 0 | 0 | 0 | 0 | 0 | 0 | 0 | 0 | 0 |\n",
       "| V12 | 0 | 0 | 0 | 0 | 0 | 0 | 1 | 0 | 0 | 0 | ⋯ | 0 | 0 | 0 | 0 | 0 | 0 | 0 | 0 | 0 | 1 |\n",
       "| V13 | 1 | 1 | 0 | 0 | 1 | 0 | 0 | 0 | 1 | 0 | ⋯ | 0 | 0 | 1 | 0 | 0 | 0 | 1 | 0 | 0 | 0 |\n",
       "| V14 | 0 | 1 | 0 | 0 | 0 | 0 | 1 | 0 | 0 | 0 | ⋯ | 0 | 0 | 0 | 0 | 0 | 0 | 1 | 0 | 0 | 1 |\n",
       "| V15 | 1 | 1 | 1 | 1 | 1 | 1 | 1 | 1 | 1 | 1 | ⋯ | 1 | 1 | 1 | 0 | 1 | 1 | 1 | 1 | 1 | 1 |\n",
       "| V16 | 1 | 1 | 0 | 0 | 0 | 0 | 0 | 0 | 0 | 1 | ⋯ | 0 | 0 | 0 | 0 | 0 | 0 | 1 | 0 | 0 | 0 |\n",
       "| V17 | 1 | 1 | 0 | 1 | 0 | 0 | 1 | 0 | 0 | 0 | ⋯ | 0 | 0 | 0 | 0 | 0 | 0 | 0 | 0 | 0 | 1 |\n",
       "| V18 | 1 | 1 | 1 | 1 | 1 | 0 | 1 | 1 | 1 | 1 | ⋯ | 0 | 1 | 1 | 1 | 1 | 0 | 0 | 1 | 1 | 1 |\n",
       "| V19 | 1 | 1 | 1 | 0 | 1 | 0 | 1 | 0 | 0 | 1 | ⋯ | 0 | 0 | 1 | 1 | 0 | 0 | 1 | 0 | 1 | 0 |\n",
       "| V20 | 1 | 1 | 0 | 0 | 0 | 1 | 0 | 1 | 0 | 0 | ⋯ | 1 | 0 | 1 | 1 | 1 | 1 | 1 | 0 | 0 | 1 |\n",
       "| V21 | 0 | 1 | 1 | 1 | 0 | 1 | 1 | 1 | 0 | 0 | ⋯ | 1 | 0 | 1 | 0 | 0 | 1 | 1 | 0 | 1 | 0 |\n",
       "\n"
      ],
      "text/plain": [
       "    V1 V2 V3 V4 V5 V6 V7 V8 V9 V10 <U+22EF>        V12 V13 V14 V15 V16 V17 V18 V19 V20\n",
       "V1  0  1  0  1  0  0  0  1  0  0   <U+22EF> 0   0   0   0   1   0   1   0   0  \n",
       "V2  0  0  0  0  0  1  1  0  0  0   <U+22EF> 0   0   0   0   0   0   0   0   0  \n",
       "V3  1  1  0  1  0  1  1  1  1  1   <U+22EF> 1   0   1   0   0   1   1   0   1  \n",
       "V4  1  1  0  0  0  1  0  1  0  1   <U+22EF> 1   0   0   0   1   1   1   0   1  \n",
       "V5  1  1  0  0  0  1  1  1  0  1   <U+22EF> 0   1   1   0   1   1   1   1   1  \n",
       "V6  0  0  0  0  0  0  0  0  0  0   <U+22EF> 0   0   0   0   0   0   0   0   0  \n",
       "V7  0  1  0  0  0  1  0  0  0  0   <U+22EF> 1   0   1   0   0   1   1   0   0  \n",
       "V8  0  1  0  1  0  1  1  0  0  1   <U+22EF> 0   0   0   0   0   0   1   0   0  \n",
       "V9  1  1  0  0  0  1  1  1  0  1   <U+22EF> 1   0   1   0   1   1   1   0   0  \n",
       "V10 1  1  1  1  1  0  0  1  0  0   <U+22EF> 0   1   0   1   1   1   1   1   1  \n",
       "V11 1  1  0  0  0  0  1  0  0  0   <U+22EF> 0   0   0   0   0   0   0   0   0  \n",
       "V12 0  0  0  0  0  0  1  0  0  0   <U+22EF> 0   0   0   0   0   0   0   0   0  \n",
       "V13 1  1  0  0  1  0  0  0  1  0   <U+22EF> 0   0   1   0   0   0   1   0   0  \n",
       "V14 0  1  0  0  0  0  1  0  0  0   <U+22EF> 0   0   0   0   0   0   1   0   0  \n",
       "V15 1  1  1  1  1  1  1  1  1  1   <U+22EF> 1   1   1   0   1   1   1   1   1  \n",
       "V16 1  1  0  0  0  0  0  0  0  1   <U+22EF> 0   0   0   0   0   0   1   0   0  \n",
       "V17 1  1  0  1  0  0  1  0  0  0   <U+22EF> 0   0   0   0   0   0   0   0   0  \n",
       "V18 1  1  1  1  1  0  1  1  1  1   <U+22EF> 0   1   1   1   1   0   0   1   1  \n",
       "V19 1  1  1  0  1  0  1  0  0  1   <U+22EF> 0   0   1   1   0   0   1   0   1  \n",
       "V20 1  1  0  0  0  1  0  1  0  0   <U+22EF> 1   0   1   1   1   1   1   0   0  \n",
       "V21 0  1  1  1  0  1  1  1  0  0   <U+22EF> 1   0   1   0   0   1   1   0   1  \n",
       "    V21\n",
       "V1  1  \n",
       "V2  1  \n",
       "V3  1  \n",
       "V4  1  \n",
       "V5  1  \n",
       "V6  1  \n",
       "V7  1  \n",
       "V8  1  \n",
       "V9  1  \n",
       "V10 0  \n",
       "V11 0  \n",
       "V12 1  \n",
       "V13 0  \n",
       "V14 1  \n",
       "V15 1  \n",
       "V16 0  \n",
       "V17 1  \n",
       "V18 1  \n",
       "V19 0  \n",
       "V20 1  \n",
       "V21 0  "
      ]
     },
     "metadata": {},
     "output_type": "display_data"
    }
   ],
   "source": [
    "#пункт 12.3\n",
    "rownames(matrix) <- colnames(matrix)\n",
    "matrix"
   ]
  },
  {
   "cell_type": "code",
   "execution_count": 35,
   "metadata": {},
   "outputs": [
    {
     "data": {
      "image/png": "[encoded data removed]",
      "text/plain": [
       "Plot with title \"\""
      ]
     },
     "metadata": {
      "image/png": {
       "height": 420,
       "width": 420
      }
     },
     "output_type": "display_data"
    }
   ],
   "source": [
    "#пункт 12.4\n",
    "plot(net, layout=layout.random, vertex.size=15)"
   ]
  },
  {
   "cell_type": "code",
   "execution_count": 36,
   "metadata": {},
   "outputs": [
    {
     "data": {
      "image/png": "[encoded data removed]",
      "text/plain": [
       "Plot with title \"Fruchterman-Reingold\""
      ]
     },
     "metadata": {
      "image/png": {
       "height": 420,
       "width": 420
      }
     },
     "output_type": "display_data"
    }
   ],
   "source": [
    "#пункт 12.5.1\n",
    "plot(net, layout=layout.fruchterman.reingold, main=\"Fruchterman-Reingold\", vertex.size=15)"
   ]
  },
  {
   "cell_type": "code",
   "execution_count": 37,
   "metadata": {},
   "outputs": [
    {
     "data": {
      "image/png": "[encoded data removed]",
      "text/plain": [
       "Plot with title \"Kamada-Kawai\""
      ]
     },
     "metadata": {
      "image/png": {
       "height": 420,
       "width": 420
      }
     },
     "output_type": "display_data"
    }
   ],
   "source": [
    "#пункт 12.5.2\n",
    "plot(net, layout=layout.kamada.kawai, main=\"Kamada-Kawai\", vertex.size=15)"
   ]
  },
  {
   "cell_type": "code",
   "execution_count": 38,
   "metadata": {},
   "outputs": [
    {
     "data": {
      "text/plain": [
       "Network attributes:\n",
       "  vertices = 21\n",
       "  directed = TRUE\n",
       "  hyper = FALSE\n",
       "  loops = FALSE\n",
       "  multiple = FALSE\n",
       "  bipartite = FALSE\n",
       " total edges = 190 \n",
       "   missing edges = 0 \n",
       "   non-missing edges = 190 \n",
       " density = 0.452381 \n",
       "\n",
       "Vertex attributes:\n",
       "  vertex.names:\n",
       "   character valued attribute\n",
       "   21 valid vertex names\n",
       "\n",
       "No edge attributes\n",
       "\n",
       "Network edgelist matrix:\n",
       "       [,1] [,2]\n",
       "  [1,]    3    1\n",
       "  [2,]    4    1\n",
       "  [3,]    5    1\n",
       "  [4,]    9    1\n",
       "  [5,]   10    1\n",
       "  [6,]   11    1\n",
       "  [7,]   13    1\n",
       "  [8,]   15    1\n",
       "  [9,]   16    1\n",
       " [10,]   17    1\n",
       " [11,]   18    1\n",
       " [12,]   19    1\n",
       " [13,]   20    1\n",
       " [14,]    1    2\n",
       " [15,]    3    2\n",
       " [16,]    4    2\n",
       " [17,]    5    2\n",
       " [18,]    7    2\n",
       " [19,]    8    2\n",
       " [20,]    9    2\n",
       " [21,]   10    2\n",
       " [22,]   11    2\n",
       " [23,]   13    2\n",
       " [24,]   14    2\n",
       " [25,]   15    2\n",
       " [26,]   16    2\n",
       " [27,]   17    2\n",
       " [28,]   18    2\n",
       " [29,]   19    2\n",
       " [30,]   20    2\n",
       " [31,]   21    2\n",
       " [32,]   10    3\n",
       " [33,]   15    3\n",
       " [34,]   18    3\n",
       " [35,]   19    3\n",
       " [36,]   21    3\n",
       " [37,]    1    4\n",
       " [38,]    3    4\n",
       " [39,]    8    4\n",
       " [40,]   10    4\n",
       " [41,]   15    4\n",
       " [42,]   17    4\n",
       " [43,]   18    4\n",
       " [44,]   21    4\n",
       " [45,]   10    5\n",
       " [46,]   13    5\n",
       " [47,]   15    5\n",
       " [48,]   18    5\n",
       " [49,]   19    5\n",
       " [50,]    2    6\n",
       " [51,]    3    6\n",
       " [52,]    4    6\n",
       " [53,]    5    6\n",
       " [54,]    7    6\n",
       " [55,]    8    6\n",
       " [56,]    9    6\n",
       " [57,]   15    6\n",
       " [58,]   20    6\n",
       " [59,]   21    6\n",
       " [60,]    2    7\n",
       " [61,]    3    7\n",
       " [62,]    5    7\n",
       " [63,]    8    7\n",
       " [64,]    9    7\n",
       " [65,]   11    7\n",
       " [66,]   12    7\n",
       " [67,]   14    7\n",
       " [68,]   15    7\n",
       " [69,]   17    7\n",
       " [70,]   18    7\n",
       " [71,]   19    7\n",
       " [72,]   21    7\n",
       " [73,]    1    8\n",
       " [74,]    3    8\n",
       " [75,]    4    8\n",
       " [76,]    5    8\n",
       " [77,]    9    8\n",
       " [78,]   10    8\n",
       " [79,]   15    8\n",
       " [80,]   18    8\n",
       " [81,]   20    8\n",
       " [82,]   21    8\n",
       " [83,]    3    9\n",
       " [84,]   13    9\n",
       " [85,]   15    9\n",
       " [86,]   18    9\n",
       " [87,]    3   10\n",
       " [88,]    4   10\n",
       " [89,]    5   10\n",
       " [90,]    8   10\n",
       " [91,]    9   10\n",
       " [92,]   15   10\n",
       " [93,]   16   10\n",
       " [94,]   18   10\n",
       " [95,]   19   10\n",
       " [96,]    3   11\n",
       " [97,]    4   11\n",
       " [98,]    5   11\n",
       " [99,]    7   11\n",
       "[100,]    8   11\n",
       "[101,]    9   11\n",
       "[102,]   10   11\n",
       "[103,]   15   11\n",
       "[104,]   18   11\n",
       "[105,]   19   11\n",
       "[106,]   20   11\n",
       "[107,]    3   12\n",
       "[108,]    4   12\n",
       "[109,]    7   12\n",
       "[110,]    9   12\n",
       "[111,]   15   12\n",
       "[112,]   20   12\n",
       "[113,]   21   12\n",
       "[114,]    5   13\n",
       "[115,]   10   13\n",
       "[116,]   15   13\n",
       "[117,]   18   13\n",
       "[118,]    3   14\n",
       "[119,]    5   14\n",
       "[120,]    7   14\n",
       "[121,]    9   14\n",
       "[122,]   13   14\n",
       "[123,]   15   14\n",
       "[124,]   18   14\n",
       "[125,]   19   14\n",
       "[126,]   20   14\n",
       "[127,]   21   14\n",
       "[128,]   10   15\n",
       "[129,]   18   15\n",
       "[130,]   19   15\n",
       "[131,]   20   15\n",
       "[132,]    1   16\n",
       "[133,]    4   16\n",
       "[134,]    5   16\n",
       "[135,]    9   16\n",
       "[136,]   10   16\n",
       "[137,]   15   16\n",
       "[138,]   18   16\n",
       "[139,]   20   16\n",
       "[140,]    3   17\n",
       "[141,]    4   17\n",
       "[142,]    5   17\n",
       "[143,]    7   17\n",
       "[144,]    9   17\n",
       "[145,]   10   17\n",
       "[146,]   15   17\n",
       "[147,]   20   17\n",
       "[148,]   21   17\n",
       "[149,]    1   18\n",
       "[150,]    3   18\n",
       "[151,]    4   18\n",
       "[152,]    5   18\n",
       "[153,]    7   18\n",
       "[154,]    8   18\n",
       "[155,]    9   18\n",
       "[156,]   10   18\n",
       "[157,]   13   18\n",
       "[158,]   14   18\n",
       "[159,]   15   18\n",
       "[160,]   16   18\n",
       "[161,]   19   18\n",
       "[162,]   20   18\n",
       "[163,]   21   18\n",
       "[164,]    5   19\n",
       "[165,]   10   19\n",
       "[166,]   15   19\n",
       "[167,]   18   19\n",
       "[168,]    3   20\n",
       "[169,]    4   20\n",
       "[170,]    5   20\n",
       "[171,]   10   20\n",
       "[172,]   15   20\n",
       "[173,]   18   20\n",
       "[174,]   19   20\n",
       "[175,]   21   20\n",
       "[176,]    1   21\n",
       "[177,]    2   21\n",
       "[178,]    3   21\n",
       "[179,]    4   21\n",
       "[180,]    5   21\n",
       "[181,]    6   21\n",
       "[182,]    7   21\n",
       "[183,]    8   21\n",
       "[184,]    9   21\n",
       "[185,]   12   21\n",
       "[186,]   14   21\n",
       "[187,]   15   21\n",
       "[188,]   17   21\n",
       "[189,]   18   21\n",
       "[190,]   20   21"
      ]
     },
     "metadata": {},
     "output_type": "display_data"
    }
   ],
   "source": [
    "#пункт 12.6\n",
    "summary(network(matrix, matrix.type = \"adjacency\", directed = TRUE))"
   ]
  },
  {
   "cell_type": "code",
   "execution_count": 39,
   "metadata": {},
   "outputs": [
    {
     "data": {
      "text/html": [
       "21"
      ],
      "text/latex": [
       "21"
      ],
      "text/markdown": [
       "21"
      ],
      "text/plain": [
       "[1] 21"
      ]
     },
     "metadata": {},
     "output_type": "display_data"
    }
   ],
   "source": [
    "#пункт 12.7.1\n",
    "nrow(matrix) #размер сети."
   ]
  },
  {
   "cell_type": "code",
   "execution_count": 40,
   "metadata": {},
   "outputs": [
    {
     "data": {
      "text/html": [
       "0.452380952380952"
      ],
      "text/latex": [
       "0.452380952380952"
      ],
      "text/markdown": [
       "0.452380952380952"
      ],
      "text/plain": [
       "[1] 0.452381"
      ]
     },
     "metadata": {},
     "output_type": "display_data"
    }
   ],
   "source": [
    "#пункт 12.7.2\n",
    "gden(matrix)#плотность сети"
   ]
  },
  {
   "cell_type": "code",
   "execution_count": 41,
   "metadata": {},
   "outputs": [
    {
     "data": {
      "text/html": [
       "<dl>\n",
       "\t<dt>$membership</dt>\n",
       "\t\t<dd><style>\n",
       ".dl-inline {width: auto; margin:0; padding: 0}\n",
       ".dl-inline>dt, .dl-inline>dd {float: none; width: auto; display: inline-block}\n",
       ".dl-inline>dt::after {content: \":\\0020\"; padding-right: .5ex}\n",
       ".dl-inline>dt:not(:first-of-type) {padding-left: .5ex}\n",
       "</style><dl class=dl-inline><dt>V1</dt><dd>1</dd><dt>V2</dt><dd>1</dd><dt>V3</dt><dd>1</dd><dt>V4</dt><dd>1</dd><dt>V5</dt><dd>1</dd><dt>V6</dt><dd>1</dd><dt>V7</dt><dd>1</dd><dt>V8</dt><dd>1</dd><dt>V9</dt><dd>1</dd><dt>V10</dt><dd>1</dd><dt>V11</dt><dd>1</dd><dt>V12</dt><dd>1</dd><dt>V13</dt><dd>1</dd><dt>V14</dt><dd>1</dd><dt>V15</dt><dd>1</dd><dt>V16</dt><dd>1</dd><dt>V17</dt><dd>1</dd><dt>V18</dt><dd>1</dd><dt>V19</dt><dd>1</dd><dt>V20</dt><dd>1</dd><dt>V21</dt><dd>1</dd></dl>\n",
       "</dd>\n",
       "\t<dt>$csize</dt>\n",
       "\t\t<dd>21</dd>\n",
       "\t<dt>$no</dt>\n",
       "\t\t<dd>1</dd>\n",
       "</dl>\n"
      ],
      "text/latex": [
       "\\begin{description}\n",
       "\\item[\\$membership] \\begin{description*}\n",
       "\\item[V1] 1\n",
       "\\item[V2] 1\n",
       "\\item[V3] 1\n",
       "\\item[V4] 1\n",
       "\\item[V5] 1\n",
       "\\item[V6] 1\n",
       "\\item[V7] 1\n",
       "\\item[V8] 1\n",
       "\\item[V9] 1\n",
       "\\item[V10] 1\n",
       "\\item[V11] 1\n",
       "\\item[V12] 1\n",
       "\\item[V13] 1\n",
       "\\item[V14] 1\n",
       "\\item[V15] 1\n",
       "\\item[V16] 1\n",
       "\\item[V17] 1\n",
       "\\item[V18] 1\n",
       "\\item[V19] 1\n",
       "\\item[V20] 1\n",
       "\\item[V21] 1\n",
       "\\end{description*}\n",
       "\n",
       "\\item[\\$csize] 21\n",
       "\\item[\\$no] 1\n",
       "\\end{description}\n"
      ],
      "text/markdown": [
       "$membership\n",
       ":   V1\n",
       ":   1V2\n",
       ":   1V3\n",
       ":   1V4\n",
       ":   1V5\n",
       ":   1V6\n",
       ":   1V7\n",
       ":   1V8\n",
       ":   1V9\n",
       ":   1V10\n",
       ":   1V11\n",
       ":   1V12\n",
       ":   1V13\n",
       ":   1V14\n",
       ":   1V15\n",
       ":   1V16\n",
       ":   1V17\n",
       ":   1V18\n",
       ":   1V19\n",
       ":   1V20\n",
       ":   1V21\n",
       ":   1\n",
       "\n",
       "\n",
       "$csize\n",
       ":   21\n",
       "$no\n",
       ":   1\n",
       "\n",
       "\n"
      ],
      "text/plain": [
       "$membership\n",
       " V1  V2  V3  V4  V5  V6  V7  V8  V9 V10 V11 V12 V13 V14 V15 V16 V17 V18 V19 V20 \n",
       "  1   1   1   1   1   1   1   1   1   1   1   1   1   1   1   1   1   1   1   1 \n",
       "V21 \n",
       "  1 \n",
       "\n",
       "$csize\n",
       "[1] 21\n",
       "\n",
       "$no\n",
       "[1] 1\n"
      ]
     },
     "metadata": {},
     "output_type": "display_data"
    }
   ],
   "source": [
    "#пункт 12.7.3\n",
    "components(net)#число компонент"
   ]
  },
  {
   "cell_type": "code",
   "execution_count": 42,
   "metadata": {},
   "outputs": [
    {
     "data": {
      "text/html": [
       "3"
      ],
      "text/latex": [
       "3"
      ],
      "text/markdown": [
       "3"
      ],
      "text/plain": [
       "[1] 3"
      ]
     },
     "metadata": {},
     "output_type": "display_data"
    }
   ],
   "source": [
    "#пункт 12.7.4\n",
    "diameter(net)#диаметр"
   ]
  },
  {
   "cell_type": "code",
   "execution_count": 43,
   "metadata": {},
   "outputs": [
    {
     "data": {
      "text/html": [
       "0.734508816120907"
      ],
      "text/latex": [
       "0.734508816120907"
      ],
      "text/markdown": [
       "0.734508816120907"
      ],
      "text/plain": [
       "[1] 0.7345088"
      ]
     },
     "metadata": {},
     "output_type": "display_data"
    }
   ],
   "source": [
    "#пункт 12.7.5\n",
    "transitivity(net)#коэф кластеризации"
   ]
  },
  {
   "cell_type": "code",
   "execution_count": 44,
   "metadata": {},
   "outputs": [
    {
     "data": {
      "text/html": [
       "<style>\n",
       ".list-inline {list-style: none; margin:0; padding: 0}\n",
       ".list-inline>li {display: inline-block}\n",
       ".list-inline>li:not(:last-child)::after {content: \"\\00b7\"; padding: 0 .5ex}\n",
       "</style>\n",
       "<ol class=list-inline><li>18.0952380952381</li><li>32.1904761904762</li></ol>\n"
      ],
      "text/latex": [
       "\\begin{enumerate*}\n",
       "\\item 18.0952380952381\n",
       "\\item 32.1904761904762\n",
       "\\end{enumerate*}\n"
      ],
      "text/markdown": [
       "1. 18.0952380952381\n",
       "2. 32.1904761904762\n",
       "\n",
       "\n"
      ],
      "text/plain": [
       "[1] 18.09524 32.19048"
      ]
     },
     "metadata": {},
     "output_type": "display_data"
    }
   ],
   "source": [
    "#пункт 12.8\n",
    "c(mean(degree(net)),var(degree(net)))#средняя степень и дисперсия "
   ]
  },
  {
   "cell_type": "markdown",
   "metadata": {},
   "source": [
    "#### _пункт 13_\n",
    "Высчитаны меры пристижа. Разные меры показывают разную оценку, указывая, что различные меры пристижа применимы в различных случаях. "
   ]
  },
  {
   "cell_type": "code",
   "execution_count": 45,
   "metadata": {},
   "outputs": [
    {
     "data": {
      "text/html": [
       "<table class=\"dataframe\">\n",
       "<caption>A data.frame: 21 × 3</caption>\n",
       "<thead>\n",
       "\t<tr><th scope=col>ni</th><th scope=col>Pd</th><th scope=col>Pp</th></tr>\n",
       "\t<tr><th scope=col>&lt;int&gt;</th><th scope=col>&lt;dbl&gt;</th><th scope=col>&lt;dbl&gt;</th></tr>\n",
       "</thead>\n",
       "<tbody>\n",
       "\t<tr><td> 1</td><td>0.80</td><td>0.042</td></tr>\n",
       "\t<tr><td> 2</td><td>0.95</td><td>0.048</td></tr>\n",
       "\t<tr><td> 3</td><td>0.85</td><td>0.043</td></tr>\n",
       "\t<tr><td> 4</td><td>0.70</td><td>0.038</td></tr>\n",
       "\t<tr><td> 5</td><td>0.80</td><td>0.042</td></tr>\n",
       "\t<tr><td> 6</td><td>0.50</td><td>0.033</td></tr>\n",
       "\t<tr><td> 7</td><td>0.70</td><td>0.038</td></tr>\n",
       "\t<tr><td> 8</td><td>0.70</td><td>0.038</td></tr>\n",
       "\t<tr><td> 9</td><td>0.80</td><td>0.042</td></tr>\n",
       "\t<tr><td>10</td><td>0.75</td><td>0.040</td></tr>\n",
       "\t<tr><td>11</td><td>0.65</td><td>0.037</td></tr>\n",
       "\t<tr><td>12</td><td>0.35</td><td>0.030</td></tr>\n",
       "\t<tr><td>13</td><td>0.40</td><td>0.031</td></tr>\n",
       "\t<tr><td>14</td><td>0.55</td><td>0.034</td></tr>\n",
       "\t<tr><td>15</td><td>1.00</td><td>0.050</td></tr>\n",
       "\t<tr><td>16</td><td>0.45</td><td>0.032</td></tr>\n",
       "\t<tr><td>17</td><td>0.55</td><td>0.034</td></tr>\n",
       "\t<tr><td>18</td><td>0.85</td><td>0.043</td></tr>\n",
       "\t<tr><td>19</td><td>0.55</td><td>0.034</td></tr>\n",
       "\t<tr><td>20</td><td>0.85</td><td>0.043</td></tr>\n",
       "\t<tr><td>21</td><td>0.75</td><td>0.040</td></tr>\n",
       "</tbody>\n",
       "</table>\n"
      ],
      "text/latex": [
       "A data.frame: 21 × 3\n",
       "\\begin{tabular}{lll}\n",
       " ni & Pd & Pp\\\\\n",
       " <int> & <dbl> & <dbl>\\\\\n",
       "\\hline\n",
       "\t  1 & 0.80 & 0.042\\\\\n",
       "\t  2 & 0.95 & 0.048\\\\\n",
       "\t  3 & 0.85 & 0.043\\\\\n",
       "\t  4 & 0.70 & 0.038\\\\\n",
       "\t  5 & 0.80 & 0.042\\\\\n",
       "\t  6 & 0.50 & 0.033\\\\\n",
       "\t  7 & 0.70 & 0.038\\\\\n",
       "\t  8 & 0.70 & 0.038\\\\\n",
       "\t  9 & 0.80 & 0.042\\\\\n",
       "\t 10 & 0.75 & 0.040\\\\\n",
       "\t 11 & 0.65 & 0.037\\\\\n",
       "\t 12 & 0.35 & 0.030\\\\\n",
       "\t 13 & 0.40 & 0.031\\\\\n",
       "\t 14 & 0.55 & 0.034\\\\\n",
       "\t 15 & 1.00 & 0.050\\\\\n",
       "\t 16 & 0.45 & 0.032\\\\\n",
       "\t 17 & 0.55 & 0.034\\\\\n",
       "\t 18 & 0.85 & 0.043\\\\\n",
       "\t 19 & 0.55 & 0.034\\\\\n",
       "\t 20 & 0.85 & 0.043\\\\\n",
       "\t 21 & 0.75 & 0.040\\\\\n",
       "\\end{tabular}\n"
      ],
      "text/markdown": [
       "\n",
       "A data.frame: 21 × 3\n",
       "\n",
       "| ni &lt;int&gt; | Pd &lt;dbl&gt; | Pp &lt;dbl&gt; |\n",
       "|---|---|---|\n",
       "|  1 | 0.80 | 0.042 |\n",
       "|  2 | 0.95 | 0.048 |\n",
       "|  3 | 0.85 | 0.043 |\n",
       "|  4 | 0.70 | 0.038 |\n",
       "|  5 | 0.80 | 0.042 |\n",
       "|  6 | 0.50 | 0.033 |\n",
       "|  7 | 0.70 | 0.038 |\n",
       "|  8 | 0.70 | 0.038 |\n",
       "|  9 | 0.80 | 0.042 |\n",
       "| 10 | 0.75 | 0.040 |\n",
       "| 11 | 0.65 | 0.037 |\n",
       "| 12 | 0.35 | 0.030 |\n",
       "| 13 | 0.40 | 0.031 |\n",
       "| 14 | 0.55 | 0.034 |\n",
       "| 15 | 1.00 | 0.050 |\n",
       "| 16 | 0.45 | 0.032 |\n",
       "| 17 | 0.55 | 0.034 |\n",
       "| 18 | 0.85 | 0.043 |\n",
       "| 19 | 0.55 | 0.034 |\n",
       "| 20 | 0.85 | 0.043 |\n",
       "| 21 | 0.75 | 0.040 |\n",
       "\n"
      ],
      "text/plain": [
       "   ni Pd   Pp   \n",
       "1   1 0.80 0.042\n",
       "2   2 0.95 0.048\n",
       "3   3 0.85 0.043\n",
       "4   4 0.70 0.038\n",
       "5   5 0.80 0.042\n",
       "6   6 0.50 0.033\n",
       "7   7 0.70 0.038\n",
       "8   8 0.70 0.038\n",
       "9   9 0.80 0.042\n",
       "10 10 0.75 0.040\n",
       "11 11 0.65 0.037\n",
       "12 12 0.35 0.030\n",
       "13 13 0.40 0.031\n",
       "14 14 0.55 0.034\n",
       "15 15 1.00 0.050\n",
       "16 16 0.45 0.032\n",
       "17 17 0.55 0.034\n",
       "18 18 0.85 0.043\n",
       "19 19 0.55 0.034\n",
       "20 20 0.85 0.043\n",
       "21 21 0.75 0.040"
      ]
     },
     "metadata": {},
     "output_type": "display_data"
    }
   ],
   "source": [
    "cTable <- data.frame(ni = 1:gorder(net))\n",
    "cTable$Pd <- prestige(network(matrix, matrix.type = \"adjacency\", directed = FALSE), cmode = \"indegree\")/(gorder(net)-1) \n",
    "cTable$Pp <- round(prestige(network(matrix, matrix.type = \"adjacency\", directed = FALSE), cmode = \"domain.proximity\")/(gorder(net)-1), 3)\n",
    "cTable"
   ]
  },
  {
   "cell_type": "markdown",
   "metadata": {},
   "source": [
    "## Выводы\n",
    "\n",
    "В ходе практической работы были получены навыки работы с математическими пакетами и произведен анализ сетей на языке R.  \n",
    "Использована теория анализа социальных сетей. Исследованы характеристики сетей. Изучена разница алгоритмов укладки сетей, мер престижа и центральности."
   ]
  },
  {
   "cell_type": "code",
   "execution_count": null,
   "metadata": {},
   "outputs": [],
   "source": []
  }
 ],
 "metadata": {
  "kernelspec": {
   "display_name": "R",
   "language": "R",
   "name": "ir"
  },
  "language_info": {
   "codemirror_mode": "r",
   "file_extension": ".r",
   "mimetype": "text/x-r-source",
   "name": "R",
   "pygments_lexer": "r",
   "version": "4.2.1"
  }
 },
 "nbformat": 4,
 "nbformat_minor": 4
}
