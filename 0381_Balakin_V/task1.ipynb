{
  "cells": [
    {
      "cell_type": "markdown",
      "metadata": {
        "id": "ndtzpBrH2qb2"
      },
      "source": [
        "# Практическая работа №1: Основы анализа и моделирования социальных сетей\n",
        "Выполнил студент гр. 0381 Балакин Владислав. Вариант №1"
      ]
    },
    {
      "cell_type": "markdown",
      "metadata": {
        "id": "lcyJlBF_2qb5"
      },
      "source": [
        "## Цель работы\n",
        "Овладеть навыками работы с математическими пакетами для моделирования, визуализации и анализа социальных сетей."
      ]
    },
    {
      "cell_type": "markdown",
      "metadata": {
        "id": "FNXcrUiS2qb7"
      },
      "source": [
        "## Основные теоретические положения\n",
        "**Сеть** - объект, представляющий собой совокупность конечного набора акторов и их отношения, определенного на них.\n",
        "\n",
        "**Актор** - дискретная индивидуальная, корпоративная или коллективная единица.\n",
        "\n",
        "**Размер сети** - количество акторов в сети.\n",
        "\n",
        "**Социоматрица** - матрица X арзмером gxg, описывающая смежные узлы в сети. Используется для представления сети.\n",
        "\n",
        "**Плотность сети** - доля имеющихся связей по отношению к максимально возможному количеству связей. \n",
        "\n",
        "Для неориентированных сетей:\n",
        "$$\\Delta=\\frac{L}{\\binom{g}{2}}$$\n",
        "\n",
        "**Компонента сети** - подгруппа, в которой все акторы связаны друг с другом прямо или косвенно.\n",
        "\n",
        "**Диаметр полной сети** - наибольшая длина любого из кратчайших путей между всеми парами узлов.\n",
        "\n",
        "**Степень узла** - число прямых, инцидентных данному узлу. \n",
        "\n",
        "Дисперсия степеней узлов:\n",
        "$$S_{D}^{2}=\\frac{1}{g}\\sum_{i=1}^{g} (d(n_i) - \\overline{d})^2$$\n",
        "\n",
        "А также средняя степень узлов:\n",
        "$$\\overline{d}=\\frac{1}{g}\\sum_{i=1}^{g} d(n_i)$$\n",
        "\n",
        "**Престиж** - мера, характеризующая актор с большим количеством входящих связей\n",
        "$$P_{A}(n_{i}), i=1...g$$\n",
        "\n",
        "**Центральность** - мера, характеризующая актор с большим количеством связей (прямых или косвенных)\n",
        "\n",
        "**Центральность по степени** - степень каждого актора.\n",
        "$$C_{D}(n_{i})=d(n_{i})$$\n",
        "\n",
        "**Центральность по близости** - более важными узлами считаются узлы, наиболее близкие к остальным узлам, если:\n",
        "$$C_{C}(n_{i})=(\\sum_{i=1}^{g}{d(n_{i}, n_{j}})^{-1},$$\n",
        "\n",
        "**Центральность по посредничеству** характеризует, насколько важную роль данный узел играет на пути между парами других узлов сети, в том смысле, что пути между другими узлами должны проходить через данный узел.\n",
        "$$C_{B}(n_{i})=\\sum_{j<k}{g_{jk}(n_{i})/g_{jk}}$$\n",
        "\n",
        "\n",
        "**Индекс централизации**:\n",
        "$$C_{A}=\\frac{\\sum_{i=1}^{g}[C_{A}(n^{*} - C_{A}(n_{i}]}{max \\sum_{i=1}^{g}[C_{A}(n^{*} - C_{A}(N_{i}]}$$\n",
        "\n",
        "**Нормированная центральность по степени**:\n",
        "$$C'_{D}(n_{i})=\\frac{d(n_{i})}{g-1}$$\n",
        "\n",
        "**Централизация по степени**:\n",
        "$$C_{D}=\\frac{\\sum_{i=1}^{g}[C_{D}(n^{*} - C_{D}(n_{i}]}{(g-1)(g-2)}$$\n",
        "\n",
        "**Централизация по близости**:\n",
        "$$C_{C}=\\frac{\\sum_{i=1}^{g}[C_{C}'(n^{*}) - C_{C}'(n_{i})]}{(g-1)(g-2)/(2g-3)}$$\n",
        "\n",
        "**Централизация по посредничеству**:\n",
        "$$C_{B}=\\frac{\\sum_{i=1}^{g}[C_{B}'(n^{*} - C_{B}'(n_{i}]}{(g-1)}$$\n",
        "\n",
        "**Централизация по информации**:\n",
        "$$S_{I}^2=\\frac{1}{g}\\sum_{i=1}{g}(C_{I}^{`}(n_{i})-\\overline{C_{I}})^2$$\n",
        "\n",
        "\n",
        "**Нормированная центральность по близости**:\n",
        "$$C_{C}'(n_{i})=\\frac{g-1}{\\sum_{i=1}^{g}{d(n_{i}, n_{j})}},$$\n",
        "\n",
        "**Нормированная центральность по посредничеству**:\n",
        "$$C_{B}'(n_{i})=\\frac{C_{B}(n_{i})}{\\binom{g-1}{2}},$$\n",
        "\n",
        "\n",
        "\n",
        "\n",
        "\n"
      ]
    },
    {
      "cell_type": "markdown",
      "metadata": {
        "id": "PQEq3rCh2qb7"
      },
      "source": [
        "## Постановка задачи\n",
        "С помощью математических пакетов и соответствующих библиотек провести анализ заданных социальных сетей, вычислить описатлеьные характеристики. Полученные результаты содержательно проинтерпретировать."
      ]
    },
    {
      "cell_type": "markdown",
      "metadata": {
        "id": "FNhcwRtU2qb9",
        "tags": []
      },
      "source": [
        "## Выполнение работы\n",
        "1. Из файла florentine_business.csv извлечь социоматрицу с помощью соответствующих функций. Вывести полученную социоматрицу на экран."
      ]
    },
    {
      "cell_type": "code",
      "execution_count": 12,
      "metadata": {
        "colab": {
          "base_uri": "https://localhost:8080/"
        },
        "id": "67kipsd12qb9",
        "outputId": "598de6ad-bf8d-4185-ea72-e8c400a823d7",
        "trusted": true,
        "vscode": {
          "languageId": "r"
        }
      },
      "outputs": [
        {
          "name": "stderr",
          "output_type": "stream",
          "text": [
            "Warning message:\n",
            "\"пакет ''network'' сейчас используется и не будет установлен\"\n",
            "Warning message:\n",
            "\"пакет ''sna'' сейчас используется и не будет установлен\"\n",
            "Warning message:\n",
            "\"пакет ''igraph'' сейчас используется и не будет установлен\"\n"
          ]
        }
      ],
      "source": [
        "#подключение библиотек для работы с графами языка R\n",
        "install.packages('network')\n",
        "install.packages('sna')\n",
        "install.packages('igraph')\n",
        "library(network)\n",
        "library(igraph)\n",
        "library(sna)"
      ]
    },
    {
      "cell_type": "code",
      "execution_count": 13,
      "metadata": {
        "colab": {
          "base_uri": "https://localhost:8080/",
          "height": 588
        },
        "id": "nX_2o9-Z2qb_",
        "outputId": "2b33009d-6927-4cc5-c9ef-42eace3d8039",
        "trusted": true,
        "vscode": {
          "languageId": "r"
        }
      },
      "outputs": [
        {
          "data": {
            "text/html": [
              "<table class=\"dataframe\">\n",
              "<caption>A matrix: 16 × 16 of type int</caption>\n",
              "<thead>\n",
              "\t<tr><th scope=col>Acciaiuoli</th><th scope=col>Albizzi</th><th scope=col>Barbadori</th><th scope=col>Bischeri</th><th scope=col>Castellani</th><th scope=col>Ginori</th><th scope=col>Guadagni</th><th scope=col>Lamberteschi</th><th scope=col>Medici</th><th scope=col>Pazzi</th><th scope=col>Peruzzi</th><th scope=col>Pucci</th><th scope=col>Ridolfi</th><th scope=col>Salviati</th><th scope=col>Strozzi</th><th scope=col>Tornabuoni</th></tr>\n",
              "</thead>\n",
              "<tbody>\n",
              "\t<tr><td>0</td><td>0</td><td>0</td><td>0</td><td>0</td><td>0</td><td>0</td><td>0</td><td>0</td><td>0</td><td>0</td><td>0</td><td>0</td><td>0</td><td>0</td><td>0</td></tr>\n",
              "\t<tr><td>0</td><td>0</td><td>0</td><td>0</td><td>0</td><td>0</td><td>0</td><td>0</td><td>0</td><td>0</td><td>0</td><td>0</td><td>0</td><td>0</td><td>0</td><td>0</td></tr>\n",
              "\t<tr><td>0</td><td>0</td><td>0</td><td>0</td><td>1</td><td>1</td><td>0</td><td>0</td><td>1</td><td>0</td><td>1</td><td>0</td><td>0</td><td>0</td><td>0</td><td>0</td></tr>\n",
              "\t<tr><td>0</td><td>0</td><td>0</td><td>0</td><td>0</td><td>0</td><td>1</td><td>1</td><td>0</td><td>0</td><td>1</td><td>0</td><td>0</td><td>0</td><td>0</td><td>0</td></tr>\n",
              "\t<tr><td>0</td><td>0</td><td>1</td><td>0</td><td>0</td><td>0</td><td>0</td><td>1</td><td>0</td><td>0</td><td>1</td><td>0</td><td>0</td><td>0</td><td>0</td><td>0</td></tr>\n",
              "\t<tr><td>0</td><td>0</td><td>1</td><td>0</td><td>0</td><td>0</td><td>0</td><td>0</td><td>1</td><td>0</td><td>0</td><td>0</td><td>0</td><td>0</td><td>0</td><td>0</td></tr>\n",
              "\t<tr><td>0</td><td>0</td><td>0</td><td>1</td><td>0</td><td>0</td><td>0</td><td>1</td><td>0</td><td>0</td><td>0</td><td>0</td><td>0</td><td>0</td><td>0</td><td>0</td></tr>\n",
              "\t<tr><td>0</td><td>0</td><td>0</td><td>1</td><td>1</td><td>0</td><td>1</td><td>0</td><td>0</td><td>0</td><td>1</td><td>0</td><td>0</td><td>0</td><td>0</td><td>0</td></tr>\n",
              "\t<tr><td>0</td><td>0</td><td>1</td><td>0</td><td>0</td><td>1</td><td>0</td><td>0</td><td>0</td><td>1</td><td>0</td><td>0</td><td>0</td><td>1</td><td>0</td><td>1</td></tr>\n",
              "\t<tr><td>0</td><td>0</td><td>0</td><td>0</td><td>0</td><td>0</td><td>0</td><td>0</td><td>1</td><td>0</td><td>0</td><td>0</td><td>0</td><td>0</td><td>0</td><td>0</td></tr>\n",
              "\t<tr><td>0</td><td>0</td><td>1</td><td>1</td><td>1</td><td>0</td><td>0</td><td>1</td><td>0</td><td>0</td><td>0</td><td>0</td><td>0</td><td>0</td><td>0</td><td>0</td></tr>\n",
              "\t<tr><td>0</td><td>0</td><td>0</td><td>0</td><td>0</td><td>0</td><td>0</td><td>0</td><td>0</td><td>0</td><td>0</td><td>0</td><td>0</td><td>0</td><td>0</td><td>0</td></tr>\n",
              "\t<tr><td>0</td><td>0</td><td>0</td><td>0</td><td>0</td><td>0</td><td>0</td><td>0</td><td>0</td><td>0</td><td>0</td><td>0</td><td>0</td><td>0</td><td>0</td><td>0</td></tr>\n",
              "\t<tr><td>0</td><td>0</td><td>0</td><td>0</td><td>0</td><td>0</td><td>0</td><td>0</td><td>1</td><td>0</td><td>0</td><td>0</td><td>0</td><td>0</td><td>0</td><td>0</td></tr>\n",
              "\t<tr><td>0</td><td>0</td><td>0</td><td>0</td><td>0</td><td>0</td><td>0</td><td>0</td><td>0</td><td>0</td><td>0</td><td>0</td><td>0</td><td>0</td><td>0</td><td>0</td></tr>\n",
              "\t<tr><td>0</td><td>0</td><td>0</td><td>0</td><td>0</td><td>0</td><td>0</td><td>0</td><td>1</td><td>0</td><td>0</td><td>0</td><td>0</td><td>0</td><td>0</td><td>0</td></tr>\n",
              "</tbody>\n",
              "</table>\n"
            ],
            "text/latex": [
              "A matrix: 16 × 16 of type int\n",
              "\\begin{tabular}{llllllllllllllll}\n",
              " Acciaiuoli & Albizzi & Barbadori & Bischeri & Castellani & Ginori & Guadagni & Lamberteschi & Medici & Pazzi & Peruzzi & Pucci & Ridolfi & Salviati & Strozzi & Tornabuoni\\\\\n",
              "\\hline\n",
              "\t 0 & 0 & 0 & 0 & 0 & 0 & 0 & 0 & 0 & 0 & 0 & 0 & 0 & 0 & 0 & 0\\\\\n",
              "\t 0 & 0 & 0 & 0 & 0 & 0 & 0 & 0 & 0 & 0 & 0 & 0 & 0 & 0 & 0 & 0\\\\\n",
              "\t 0 & 0 & 0 & 0 & 1 & 1 & 0 & 0 & 1 & 0 & 1 & 0 & 0 & 0 & 0 & 0\\\\\n",
              "\t 0 & 0 & 0 & 0 & 0 & 0 & 1 & 1 & 0 & 0 & 1 & 0 & 0 & 0 & 0 & 0\\\\\n",
              "\t 0 & 0 & 1 & 0 & 0 & 0 & 0 & 1 & 0 & 0 & 1 & 0 & 0 & 0 & 0 & 0\\\\\n",
              "\t 0 & 0 & 1 & 0 & 0 & 0 & 0 & 0 & 1 & 0 & 0 & 0 & 0 & 0 & 0 & 0\\\\\n",
              "\t 0 & 0 & 0 & 1 & 0 & 0 & 0 & 1 & 0 & 0 & 0 & 0 & 0 & 0 & 0 & 0\\\\\n",
              "\t 0 & 0 & 0 & 1 & 1 & 0 & 1 & 0 & 0 & 0 & 1 & 0 & 0 & 0 & 0 & 0\\\\\n",
              "\t 0 & 0 & 1 & 0 & 0 & 1 & 0 & 0 & 0 & 1 & 0 & 0 & 0 & 1 & 0 & 1\\\\\n",
              "\t 0 & 0 & 0 & 0 & 0 & 0 & 0 & 0 & 1 & 0 & 0 & 0 & 0 & 0 & 0 & 0\\\\\n",
              "\t 0 & 0 & 1 & 1 & 1 & 0 & 0 & 1 & 0 & 0 & 0 & 0 & 0 & 0 & 0 & 0\\\\\n",
              "\t 0 & 0 & 0 & 0 & 0 & 0 & 0 & 0 & 0 & 0 & 0 & 0 & 0 & 0 & 0 & 0\\\\\n",
              "\t 0 & 0 & 0 & 0 & 0 & 0 & 0 & 0 & 0 & 0 & 0 & 0 & 0 & 0 & 0 & 0\\\\\n",
              "\t 0 & 0 & 0 & 0 & 0 & 0 & 0 & 0 & 1 & 0 & 0 & 0 & 0 & 0 & 0 & 0\\\\\n",
              "\t 0 & 0 & 0 & 0 & 0 & 0 & 0 & 0 & 0 & 0 & 0 & 0 & 0 & 0 & 0 & 0\\\\\n",
              "\t 0 & 0 & 0 & 0 & 0 & 0 & 0 & 0 & 1 & 0 & 0 & 0 & 0 & 0 & 0 & 0\\\\\n",
              "\\end{tabular}\n"
            ],
            "text/markdown": [
              "\n",
              "A matrix: 16 × 16 of type int\n",
              "\n",
              "| Acciaiuoli | Albizzi | Barbadori | Bischeri | Castellani | Ginori | Guadagni | Lamberteschi | Medici | Pazzi | Peruzzi | Pucci | Ridolfi | Salviati | Strozzi | Tornabuoni |\n",
              "|---|---|---|---|---|---|---|---|---|---|---|---|---|---|---|---|\n",
              "| 0 | 0 | 0 | 0 | 0 | 0 | 0 | 0 | 0 | 0 | 0 | 0 | 0 | 0 | 0 | 0 |\n",
              "| 0 | 0 | 0 | 0 | 0 | 0 | 0 | 0 | 0 | 0 | 0 | 0 | 0 | 0 | 0 | 0 |\n",
              "| 0 | 0 | 0 | 0 | 1 | 1 | 0 | 0 | 1 | 0 | 1 | 0 | 0 | 0 | 0 | 0 |\n",
              "| 0 | 0 | 0 | 0 | 0 | 0 | 1 | 1 | 0 | 0 | 1 | 0 | 0 | 0 | 0 | 0 |\n",
              "| 0 | 0 | 1 | 0 | 0 | 0 | 0 | 1 | 0 | 0 | 1 | 0 | 0 | 0 | 0 | 0 |\n",
              "| 0 | 0 | 1 | 0 | 0 | 0 | 0 | 0 | 1 | 0 | 0 | 0 | 0 | 0 | 0 | 0 |\n",
              "| 0 | 0 | 0 | 1 | 0 | 0 | 0 | 1 | 0 | 0 | 0 | 0 | 0 | 0 | 0 | 0 |\n",
              "| 0 | 0 | 0 | 1 | 1 | 0 | 1 | 0 | 0 | 0 | 1 | 0 | 0 | 0 | 0 | 0 |\n",
              "| 0 | 0 | 1 | 0 | 0 | 1 | 0 | 0 | 0 | 1 | 0 | 0 | 0 | 1 | 0 | 1 |\n",
              "| 0 | 0 | 0 | 0 | 0 | 0 | 0 | 0 | 1 | 0 | 0 | 0 | 0 | 0 | 0 | 0 |\n",
              "| 0 | 0 | 1 | 1 | 1 | 0 | 0 | 1 | 0 | 0 | 0 | 0 | 0 | 0 | 0 | 0 |\n",
              "| 0 | 0 | 0 | 0 | 0 | 0 | 0 | 0 | 0 | 0 | 0 | 0 | 0 | 0 | 0 | 0 |\n",
              "| 0 | 0 | 0 | 0 | 0 | 0 | 0 | 0 | 0 | 0 | 0 | 0 | 0 | 0 | 0 | 0 |\n",
              "| 0 | 0 | 0 | 0 | 0 | 0 | 0 | 0 | 1 | 0 | 0 | 0 | 0 | 0 | 0 | 0 |\n",
              "| 0 | 0 | 0 | 0 | 0 | 0 | 0 | 0 | 0 | 0 | 0 | 0 | 0 | 0 | 0 | 0 |\n",
              "| 0 | 0 | 0 | 0 | 0 | 0 | 0 | 0 | 1 | 0 | 0 | 0 | 0 | 0 | 0 | 0 |\n",
              "\n"
            ],
            "text/plain": [
              "      Acciaiuoli Albizzi Barbadori Bischeri Castellani Ginori Guadagni\n",
              " [1,] 0          0       0         0        0          0      0       \n",
              " [2,] 0          0       0         0        0          0      0       \n",
              " [3,] 0          0       0         0        1          1      0       \n",
              " [4,] 0          0       0         0        0          0      1       \n",
              " [5,] 0          0       1         0        0          0      0       \n",
              " [6,] 0          0       1         0        0          0      0       \n",
              " [7,] 0          0       0         1        0          0      0       \n",
              " [8,] 0          0       0         1        1          0      1       \n",
              " [9,] 0          0       1         0        0          1      0       \n",
              "[10,] 0          0       0         0        0          0      0       \n",
              "[11,] 0          0       1         1        1          0      0       \n",
              "[12,] 0          0       0         0        0          0      0       \n",
              "[13,] 0          0       0         0        0          0      0       \n",
              "[14,] 0          0       0         0        0          0      0       \n",
              "[15,] 0          0       0         0        0          0      0       \n",
              "[16,] 0          0       0         0        0          0      0       \n",
              "      Lamberteschi Medici Pazzi Peruzzi Pucci Ridolfi Salviati Strozzi\n",
              " [1,] 0            0      0     0       0     0       0        0      \n",
              " [2,] 0            0      0     0       0     0       0        0      \n",
              " [3,] 0            1      0     1       0     0       0        0      \n",
              " [4,] 1            0      0     1       0     0       0        0      \n",
              " [5,] 1            0      0     1       0     0       0        0      \n",
              " [6,] 0            1      0     0       0     0       0        0      \n",
              " [7,] 1            0      0     0       0     0       0        0      \n",
              " [8,] 0            0      0     1       0     0       0        0      \n",
              " [9,] 0            0      1     0       0     0       1        0      \n",
              "[10,] 0            1      0     0       0     0       0        0      \n",
              "[11,] 1            0      0     0       0     0       0        0      \n",
              "[12,] 0            0      0     0       0     0       0        0      \n",
              "[13,] 0            0      0     0       0     0       0        0      \n",
              "[14,] 0            1      0     0       0     0       0        0      \n",
              "[15,] 0            0      0     0       0     0       0        0      \n",
              "[16,] 0            1      0     0       0     0       0        0      \n",
              "      Tornabuoni\n",
              " [1,] 0         \n",
              " [2,] 0         \n",
              " [3,] 0         \n",
              " [4,] 0         \n",
              " [5,] 0         \n",
              " [6,] 0         \n",
              " [7,] 0         \n",
              " [8,] 0         \n",
              " [9,] 1         \n",
              "[10,] 0         \n",
              "[11,] 0         \n",
              "[12,] 0         \n",
              "[13,] 0         \n",
              "[14,] 0         \n",
              "[15,] 0         \n",
              "[16,] 0         "
            ]
          },
          "metadata": {},
          "output_type": "display_data"
        }
      ],
      "source": [
        "#извлечение социоматрицы и её вывод\n",
        "my_data <- read.csv(\"./odd/florentine_business.csv\", skip=1, sep=\",\")\n",
        "sociomatrix <-data.matrix(my_data) #считывание социоматрицы\n",
        "sociomatrix"
      ]
    },
    {
      "cell_type": "markdown",
      "metadata": {
        "id": "HMHiqpV8BHQl"
      },
      "source": [
        "2. Преобразовать социоматрицу в список рёбер. Вывести первые 5 элементов списка рёбер."
      ]
    },
    {
      "cell_type": "code",
      "execution_count": 14,
      "metadata": {
        "colab": {
          "base_uri": "https://localhost:8080/",
          "height": 209
        },
        "id": "slttnoNd2qcA",
        "outputId": "ffaedc7e-5afd-4b30-988c-f1d1468d8120",
        "trusted": true,
        "vscode": {
          "languageId": "r"
        }
      },
      "outputs": [
        {
          "data": {
            "text/html": [
              "<table class=\"dataframe\">\n",
              "<caption>A matrix: 5 × 2 of type chr</caption>\n",
              "<tbody>\n",
              "\t<tr><td>Barbadori</td><td>Castellani</td></tr>\n",
              "\t<tr><td>Barbadori</td><td>Ginori    </td></tr>\n",
              "\t<tr><td>Barbadori</td><td>Medici    </td></tr>\n",
              "\t<tr><td>Barbadori</td><td>Peruzzi   </td></tr>\n",
              "\t<tr><td>Bischeri </td><td>Guadagni  </td></tr>\n",
              "</tbody>\n",
              "</table>\n"
            ],
            "text/latex": [
              "A matrix: 5 × 2 of type chr\n",
              "\\begin{tabular}{ll}\n",
              "\t Barbadori & Castellani\\\\\n",
              "\t Barbadori & Ginori    \\\\\n",
              "\t Barbadori & Medici    \\\\\n",
              "\t Barbadori & Peruzzi   \\\\\n",
              "\t Bischeri  & Guadagni  \\\\\n",
              "\\end{tabular}\n"
            ],
            "text/markdown": [
              "\n",
              "A matrix: 5 × 2 of type chr\n",
              "\n",
              "| Barbadori | Castellani |\n",
              "| Barbadori | Ginori     |\n",
              "| Barbadori | Medici     |\n",
              "| Barbadori | Peruzzi    |\n",
              "| Bischeri  | Guadagni   |\n",
              "\n"
            ],
            "text/plain": [
              "     [,1]      [,2]      \n",
              "[1,] Barbadori Castellani\n",
              "[2,] Barbadori Ginori    \n",
              "[3,] Barbadori Medici    \n",
              "[4,] Barbadori Peruzzi   \n",
              "[5,] Bischeri  Guadagni  "
            ]
          },
          "metadata": {},
          "output_type": "display_data"
        }
      ],
      "source": [
        "v <- graph.adjacency(sociomatrix, mode=\"undirected\")\n",
        "edge <- get.edgelist(v) \n",
        "head(edge, 5) "
      ]
    },
    {
      "cell_type": "markdown",
      "metadata": {
        "id": "rm2Rd0N8D6rv"
      },
      "source": [
        "3. Присвоить имена столбцам и строкам социоматрицы."
      ]
    },
    {
      "cell_type": "code",
      "execution_count": 15,
      "metadata": {
        "colab": {
          "base_uri": "https://localhost:8080/",
          "height": 588
        },
        "id": "zdiA6EMb2qcB",
        "outputId": "04f0ec81-79e2-485e-b8fc-e2c88a38ec53",
        "trusted": true,
        "vscode": {
          "languageId": "r"
        }
      },
      "outputs": [
        {
          "data": {
            "text/html": [
              "<table class=\"dataframe\">\n",
              "<caption>A matrix: 16 × 16 of type int</caption>\n",
              "<thead>\n",
              "\t<tr><th></th><th scope=col>Acciaiuoli</th><th scope=col>Albizzi</th><th scope=col>Barbadori</th><th scope=col>Bischeri</th><th scope=col>Castellani</th><th scope=col>Ginori</th><th scope=col>Guadagni</th><th scope=col>Lamberteschi</th><th scope=col>Medici</th><th scope=col>Pazzi</th><th scope=col>Peruzzi</th><th scope=col>Pucci</th><th scope=col>Ridolfi</th><th scope=col>Salviati</th><th scope=col>Strozzi</th><th scope=col>Tornabuoni</th></tr>\n",
              "</thead>\n",
              "<tbody>\n",
              "\t<tr><th scope=row>Acciaiuoli</th><td>0</td><td>0</td><td>0</td><td>0</td><td>0</td><td>0</td><td>0</td><td>0</td><td>0</td><td>0</td><td>0</td><td>0</td><td>0</td><td>0</td><td>0</td><td>0</td></tr>\n",
              "\t<tr><th scope=row>Albizzi</th><td>0</td><td>0</td><td>0</td><td>0</td><td>0</td><td>0</td><td>0</td><td>0</td><td>0</td><td>0</td><td>0</td><td>0</td><td>0</td><td>0</td><td>0</td><td>0</td></tr>\n",
              "\t<tr><th scope=row>Barbadori</th><td>0</td><td>0</td><td>0</td><td>0</td><td>1</td><td>1</td><td>0</td><td>0</td><td>1</td><td>0</td><td>1</td><td>0</td><td>0</td><td>0</td><td>0</td><td>0</td></tr>\n",
              "\t<tr><th scope=row>Bischeri</th><td>0</td><td>0</td><td>0</td><td>0</td><td>0</td><td>0</td><td>1</td><td>1</td><td>0</td><td>0</td><td>1</td><td>0</td><td>0</td><td>0</td><td>0</td><td>0</td></tr>\n",
              "\t<tr><th scope=row>Castellani</th><td>0</td><td>0</td><td>1</td><td>0</td><td>0</td><td>0</td><td>0</td><td>1</td><td>0</td><td>0</td><td>1</td><td>0</td><td>0</td><td>0</td><td>0</td><td>0</td></tr>\n",
              "\t<tr><th scope=row>Ginori</th><td>0</td><td>0</td><td>1</td><td>0</td><td>0</td><td>0</td><td>0</td><td>0</td><td>1</td><td>0</td><td>0</td><td>0</td><td>0</td><td>0</td><td>0</td><td>0</td></tr>\n",
              "\t<tr><th scope=row>Guadagni</th><td>0</td><td>0</td><td>0</td><td>1</td><td>0</td><td>0</td><td>0</td><td>1</td><td>0</td><td>0</td><td>0</td><td>0</td><td>0</td><td>0</td><td>0</td><td>0</td></tr>\n",
              "\t<tr><th scope=row>Lamberteschi</th><td>0</td><td>0</td><td>0</td><td>1</td><td>1</td><td>0</td><td>1</td><td>0</td><td>0</td><td>0</td><td>1</td><td>0</td><td>0</td><td>0</td><td>0</td><td>0</td></tr>\n",
              "\t<tr><th scope=row>Medici</th><td>0</td><td>0</td><td>1</td><td>0</td><td>0</td><td>1</td><td>0</td><td>0</td><td>0</td><td>1</td><td>0</td><td>0</td><td>0</td><td>1</td><td>0</td><td>1</td></tr>\n",
              "\t<tr><th scope=row>Pazzi</th><td>0</td><td>0</td><td>0</td><td>0</td><td>0</td><td>0</td><td>0</td><td>0</td><td>1</td><td>0</td><td>0</td><td>0</td><td>0</td><td>0</td><td>0</td><td>0</td></tr>\n",
              "\t<tr><th scope=row>Peruzzi</th><td>0</td><td>0</td><td>1</td><td>1</td><td>1</td><td>0</td><td>0</td><td>1</td><td>0</td><td>0</td><td>0</td><td>0</td><td>0</td><td>0</td><td>0</td><td>0</td></tr>\n",
              "\t<tr><th scope=row>Pucci</th><td>0</td><td>0</td><td>0</td><td>0</td><td>0</td><td>0</td><td>0</td><td>0</td><td>0</td><td>0</td><td>0</td><td>0</td><td>0</td><td>0</td><td>0</td><td>0</td></tr>\n",
              "\t<tr><th scope=row>Ridolfi</th><td>0</td><td>0</td><td>0</td><td>0</td><td>0</td><td>0</td><td>0</td><td>0</td><td>0</td><td>0</td><td>0</td><td>0</td><td>0</td><td>0</td><td>0</td><td>0</td></tr>\n",
              "\t<tr><th scope=row>Salviati</th><td>0</td><td>0</td><td>0</td><td>0</td><td>0</td><td>0</td><td>0</td><td>0</td><td>1</td><td>0</td><td>0</td><td>0</td><td>0</td><td>0</td><td>0</td><td>0</td></tr>\n",
              "\t<tr><th scope=row>Strozzi</th><td>0</td><td>0</td><td>0</td><td>0</td><td>0</td><td>0</td><td>0</td><td>0</td><td>0</td><td>0</td><td>0</td><td>0</td><td>0</td><td>0</td><td>0</td><td>0</td></tr>\n",
              "\t<tr><th scope=row>Tornabuoni</th><td>0</td><td>0</td><td>0</td><td>0</td><td>0</td><td>0</td><td>0</td><td>0</td><td>1</td><td>0</td><td>0</td><td>0</td><td>0</td><td>0</td><td>0</td><td>0</td></tr>\n",
              "</tbody>\n",
              "</table>\n"
            ],
            "text/latex": [
              "A matrix: 16 × 16 of type int\n",
              "\\begin{tabular}{r|llllllllllllllll}\n",
              "  & Acciaiuoli & Albizzi & Barbadori & Bischeri & Castellani & Ginori & Guadagni & Lamberteschi & Medici & Pazzi & Peruzzi & Pucci & Ridolfi & Salviati & Strozzi & Tornabuoni\\\\\n",
              "\\hline\n",
              "\tAcciaiuoli & 0 & 0 & 0 & 0 & 0 & 0 & 0 & 0 & 0 & 0 & 0 & 0 & 0 & 0 & 0 & 0\\\\\n",
              "\tAlbizzi & 0 & 0 & 0 & 0 & 0 & 0 & 0 & 0 & 0 & 0 & 0 & 0 & 0 & 0 & 0 & 0\\\\\n",
              "\tBarbadori & 0 & 0 & 0 & 0 & 1 & 1 & 0 & 0 & 1 & 0 & 1 & 0 & 0 & 0 & 0 & 0\\\\\n",
              "\tBischeri & 0 & 0 & 0 & 0 & 0 & 0 & 1 & 1 & 0 & 0 & 1 & 0 & 0 & 0 & 0 & 0\\\\\n",
              "\tCastellani & 0 & 0 & 1 & 0 & 0 & 0 & 0 & 1 & 0 & 0 & 1 & 0 & 0 & 0 & 0 & 0\\\\\n",
              "\tGinori & 0 & 0 & 1 & 0 & 0 & 0 & 0 & 0 & 1 & 0 & 0 & 0 & 0 & 0 & 0 & 0\\\\\n",
              "\tGuadagni & 0 & 0 & 0 & 1 & 0 & 0 & 0 & 1 & 0 & 0 & 0 & 0 & 0 & 0 & 0 & 0\\\\\n",
              "\tLamberteschi & 0 & 0 & 0 & 1 & 1 & 0 & 1 & 0 & 0 & 0 & 1 & 0 & 0 & 0 & 0 & 0\\\\\n",
              "\tMedici & 0 & 0 & 1 & 0 & 0 & 1 & 0 & 0 & 0 & 1 & 0 & 0 & 0 & 1 & 0 & 1\\\\\n",
              "\tPazzi & 0 & 0 & 0 & 0 & 0 & 0 & 0 & 0 & 1 & 0 & 0 & 0 & 0 & 0 & 0 & 0\\\\\n",
              "\tPeruzzi & 0 & 0 & 1 & 1 & 1 & 0 & 0 & 1 & 0 & 0 & 0 & 0 & 0 & 0 & 0 & 0\\\\\n",
              "\tPucci & 0 & 0 & 0 & 0 & 0 & 0 & 0 & 0 & 0 & 0 & 0 & 0 & 0 & 0 & 0 & 0\\\\\n",
              "\tRidolfi & 0 & 0 & 0 & 0 & 0 & 0 & 0 & 0 & 0 & 0 & 0 & 0 & 0 & 0 & 0 & 0\\\\\n",
              "\tSalviati & 0 & 0 & 0 & 0 & 0 & 0 & 0 & 0 & 1 & 0 & 0 & 0 & 0 & 0 & 0 & 0\\\\\n",
              "\tStrozzi & 0 & 0 & 0 & 0 & 0 & 0 & 0 & 0 & 0 & 0 & 0 & 0 & 0 & 0 & 0 & 0\\\\\n",
              "\tTornabuoni & 0 & 0 & 0 & 0 & 0 & 0 & 0 & 0 & 1 & 0 & 0 & 0 & 0 & 0 & 0 & 0\\\\\n",
              "\\end{tabular}\n"
            ],
            "text/markdown": [
              "\n",
              "A matrix: 16 × 16 of type int\n",
              "\n",
              "| <!--/--> | Acciaiuoli | Albizzi | Barbadori | Bischeri | Castellani | Ginori | Guadagni | Lamberteschi | Medici | Pazzi | Peruzzi | Pucci | Ridolfi | Salviati | Strozzi | Tornabuoni |\n",
              "|---|---|---|---|---|---|---|---|---|---|---|---|---|---|---|---|---|\n",
              "| Acciaiuoli | 0 | 0 | 0 | 0 | 0 | 0 | 0 | 0 | 0 | 0 | 0 | 0 | 0 | 0 | 0 | 0 |\n",
              "| Albizzi | 0 | 0 | 0 | 0 | 0 | 0 | 0 | 0 | 0 | 0 | 0 | 0 | 0 | 0 | 0 | 0 |\n",
              "| Barbadori | 0 | 0 | 0 | 0 | 1 | 1 | 0 | 0 | 1 | 0 | 1 | 0 | 0 | 0 | 0 | 0 |\n",
              "| Bischeri | 0 | 0 | 0 | 0 | 0 | 0 | 1 | 1 | 0 | 0 | 1 | 0 | 0 | 0 | 0 | 0 |\n",
              "| Castellani | 0 | 0 | 1 | 0 | 0 | 0 | 0 | 1 | 0 | 0 | 1 | 0 | 0 | 0 | 0 | 0 |\n",
              "| Ginori | 0 | 0 | 1 | 0 | 0 | 0 | 0 | 0 | 1 | 0 | 0 | 0 | 0 | 0 | 0 | 0 |\n",
              "| Guadagni | 0 | 0 | 0 | 1 | 0 | 0 | 0 | 1 | 0 | 0 | 0 | 0 | 0 | 0 | 0 | 0 |\n",
              "| Lamberteschi | 0 | 0 | 0 | 1 | 1 | 0 | 1 | 0 | 0 | 0 | 1 | 0 | 0 | 0 | 0 | 0 |\n",
              "| Medici | 0 | 0 | 1 | 0 | 0 | 1 | 0 | 0 | 0 | 1 | 0 | 0 | 0 | 1 | 0 | 1 |\n",
              "| Pazzi | 0 | 0 | 0 | 0 | 0 | 0 | 0 | 0 | 1 | 0 | 0 | 0 | 0 | 0 | 0 | 0 |\n",
              "| Peruzzi | 0 | 0 | 1 | 1 | 1 | 0 | 0 | 1 | 0 | 0 | 0 | 0 | 0 | 0 | 0 | 0 |\n",
              "| Pucci | 0 | 0 | 0 | 0 | 0 | 0 | 0 | 0 | 0 | 0 | 0 | 0 | 0 | 0 | 0 | 0 |\n",
              "| Ridolfi | 0 | 0 | 0 | 0 | 0 | 0 | 0 | 0 | 0 | 0 | 0 | 0 | 0 | 0 | 0 | 0 |\n",
              "| Salviati | 0 | 0 | 0 | 0 | 0 | 0 | 0 | 0 | 1 | 0 | 0 | 0 | 0 | 0 | 0 | 0 |\n",
              "| Strozzi | 0 | 0 | 0 | 0 | 0 | 0 | 0 | 0 | 0 | 0 | 0 | 0 | 0 | 0 | 0 | 0 |\n",
              "| Tornabuoni | 0 | 0 | 0 | 0 | 0 | 0 | 0 | 0 | 1 | 0 | 0 | 0 | 0 | 0 | 0 | 0 |\n",
              "\n"
            ],
            "text/plain": [
              "             Acciaiuoli Albizzi Barbadori Bischeri Castellani Ginori Guadagni\n",
              "Acciaiuoli   0          0       0         0        0          0      0       \n",
              "Albizzi      0          0       0         0        0          0      0       \n",
              "Barbadori    0          0       0         0        1          1      0       \n",
              "Bischeri     0          0       0         0        0          0      1       \n",
              "Castellani   0          0       1         0        0          0      0       \n",
              "Ginori       0          0       1         0        0          0      0       \n",
              "Guadagni     0          0       0         1        0          0      0       \n",
              "Lamberteschi 0          0       0         1        1          0      1       \n",
              "Medici       0          0       1         0        0          1      0       \n",
              "Pazzi        0          0       0         0        0          0      0       \n",
              "Peruzzi      0          0       1         1        1          0      0       \n",
              "Pucci        0          0       0         0        0          0      0       \n",
              "Ridolfi      0          0       0         0        0          0      0       \n",
              "Salviati     0          0       0         0        0          0      0       \n",
              "Strozzi      0          0       0         0        0          0      0       \n",
              "Tornabuoni   0          0       0         0        0          0      0       \n",
              "             Lamberteschi Medici Pazzi Peruzzi Pucci Ridolfi Salviati Strozzi\n",
              "Acciaiuoli   0            0      0     0       0     0       0        0      \n",
              "Albizzi      0            0      0     0       0     0       0        0      \n",
              "Barbadori    0            1      0     1       0     0       0        0      \n",
              "Bischeri     1            0      0     1       0     0       0        0      \n",
              "Castellani   1            0      0     1       0     0       0        0      \n",
              "Ginori       0            1      0     0       0     0       0        0      \n",
              "Guadagni     1            0      0     0       0     0       0        0      \n",
              "Lamberteschi 0            0      0     1       0     0       0        0      \n",
              "Medici       0            0      1     0       0     0       1        0      \n",
              "Pazzi        0            1      0     0       0     0       0        0      \n",
              "Peruzzi      1            0      0     0       0     0       0        0      \n",
              "Pucci        0            0      0     0       0     0       0        0      \n",
              "Ridolfi      0            0      0     0       0     0       0        0      \n",
              "Salviati     0            1      0     0       0     0       0        0      \n",
              "Strozzi      0            0      0     0       0     0       0        0      \n",
              "Tornabuoni   0            1      0     0       0     0       0        0      \n",
              "             Tornabuoni\n",
              "Acciaiuoli   0         \n",
              "Albizzi      0         \n",
              "Barbadori    0         \n",
              "Bischeri     0         \n",
              "Castellani   0         \n",
              "Ginori       0         \n",
              "Guadagni     0         \n",
              "Lamberteschi 0         \n",
              "Medici       1         \n",
              "Pazzi        0         \n",
              "Peruzzi      0         \n",
              "Pucci        0         \n",
              "Ridolfi      0         \n",
              "Salviati     0         \n",
              "Strozzi      0         \n",
              "Tornabuoni   0         "
            ]
          },
          "metadata": {},
          "output_type": "display_data"
        }
      ],
      "source": [
        "#Присвоение имени сначала столбцам после строкам\n",
        "colnames(sociomatrix) <- colnames(my_data)\n",
        "rownames(sociomatrix) <- colnames(my_data) \n",
        "sociomatrix"
      ]
    },
    {
      "cell_type": "markdown",
      "metadata": {
        "id": "e2LLn84AGoCK"
      },
      "source": [
        "4. С помощью соответстующих функций по полученной социоматрице построить ненаправленную сеть. Объяснить парамерты, передаваемые в функцию."
      ]
    },
    {
      "cell_type": "code",
      "execution_count": 16,
      "metadata": {
        "colab": {
          "base_uri": "https://localhost:8080/",
          "height": 437
        },
        "id": "GBXTTy9d2qcC",
        "outputId": "aa4eb747-36ea-4ce5-a728-2f1d9e927e85",
        "trusted": true,
        "vscode": {
          "languageId": "r"
        }
      },
      "outputs": [
        {
          "data": {
            "image/png": "[encoded data removed]",
            "text/plain": [
              "plot without title"
            ]
          },
          "metadata": {
            "image/png": {
              "height": 420,
              "width": 420
            }
          },
          "output_type": "display_data"
        }
      ],
      "source": [
        "#Аргументами Выражена социоматрица и значение directedFALSE=, для ненаправлености гр-фа\n",
        "new_network <- as.network(sociomatrix, directed=FALSE)\n",
        "\n",
        "plot(new_network, vertex.col = 3, displaylabels = TRUE)"
      ]
    },
    {
      "cell_type": "markdown",
      "metadata": {
        "id": "QNUTx6WhJNYN"
      },
      "source": [
        "5. Отобразить сеть с помощью алгоритмов укладки Фрюхтермана-Рейнгольда и Каманда-Каваи. Объяснить, в чём разница между алгоритмами и укладками. "
      ]
    },
    {
      "cell_type": "code",
      "execution_count": 17,
      "metadata": {
        "colab": {
          "base_uri": "https://localhost:8080/",
          "height": 857
        },
        "id": "qQ5rdMpN2qcD",
        "outputId": "a7984c90-f70b-419d-b945-5f8d6f84ac43",
        "trusted": true,
        "vscode": {
          "languageId": "r"
        }
      },
      "outputs": [
        {
          "data": {
            "image/png": "[encoded data removed]",
            "text/plain": [
              "Plot with title \"\""
            ]
          },
          "metadata": {
            "image/png": {
              "height": 420,
              "width": 420
            }
          },
          "output_type": "display_data"
        },
        {
          "data": {
            "image/png": "[encoded data removed]",
            "text/plain": [
              "Plot with title \"\""
            ]
          },
          "metadata": {
            "image/png": {
              "height": 420,
              "width": 420
            }
          },
          "output_type": "display_data"
        }
      ],
      "source": [
        "L = layout.fruchterman.reingold(v)\n",
        "v1 <- L\n",
        "plot(v, layout=v1, displaylabels = TRUE)\n",
        "v2 <- layout.kamada.kawai(v)\n",
        "plot(v, layout=v2, displaylabels = TRUE)"
      ]
    },
    {
      "cell_type": "markdown",
      "metadata": {
        "id": "SZrOg0YOtvxb"
      },
      "source": [
        "6. Вывести \"описательную сводку\" сети."
      ]
    },
    {
      "cell_type": "code",
      "execution_count": 11,
      "metadata": {
        "colab": {
          "base_uri": "https://localhost:8080/",
          "height": 330
        },
        "id": "UBF_PNBat1gC",
        "outputId": "6dc11a9f-1a93-4839-b8e7-08d453ed48cd",
        "vscode": {
          "languageId": "r"
        }
      },
      "outputs": [
        {
          "data": {
            "text/plain": [
              "Network attributes:\n",
              "  vertices = 16\n",
              "  directed = FALSE\n",
              "  hyper = FALSE\n",
              "  loops = FALSE\n",
              "  multiple = FALSE\n",
              "  bipartite = FALSE\n",
              " total edges = 15 \n",
              "   missing edges = 0 \n",
              "   non-missing edges = 15 \n",
              " density = 0.125 \n",
              "\n",
              "Vertex attributes:\n",
              "  vertex.names:\n",
              "   character valued attribute\n",
              "   16 valid vertex names\n",
              "\n",
              "No edge attributes"
            ]
          },
          "metadata": {},
          "output_type": "display_data"
        }
      ],
      "source": [
        "summary(new_network, print.adj = FALSE)"
      ]
    },
    {
      "cell_type": "markdown",
      "metadata": {
        "id": "ceWS15fKuTSE"
      },
      "source": [
        "7. Вычислить \"пятичисловую сводку\" сети."
      ]
    },
    {
      "cell_type": "markdown",
      "metadata": {
        "id": "NK1upR5I5Wpz"
      },
      "source": [
        "Расчёт плотности сети: $$\\frac{15}{\\binom{16}{2}} = 0.125$$\n",
        "Вывод: расчёты были проведены верно, т.к. ответ совпадает с результатом вычислений функции.\n",
        "Число компонент связности: 6, т.к. есть 5 одиночных вершин и дополнительная компонента. Результат подтверждён с помощью функции.\n",
        "Вывод: диаметр равен 5.\n",
        "Вывод: коэффициент кластеризации равен 0.417"
      ]
    },
    {
      "cell_type": "code",
      "execution_count": 12,
      "metadata": {
        "colab": {
          "base_uri": "https://localhost:8080/"
        },
        "id": "ieYAcs23ycqU",
        "outputId": "6a74fec6-cc6f-4d69-a37b-7cbe45c1d88b",
        "vscode": {
          "languageId": "r"
        }
      },
      "outputs": [
        {
          "name": "stdout",
          "output_type": "stream",
          "text": [
            "[1] \"Размер сети:\"\n",
            "[1] 16\n",
            "[1] \"Плотность сети:\"\n",
            "[1] 0.125\n",
            "[1] \"Компоненты сети:\"\n",
            "[1] 6\n",
            "[1] \"Диаметр:\"\n",
            "[1] 5\n",
            "[1] \"Коэффициент кластеризации:\"\n",
            "[1] 0.4166667\n"
          ]
        }
      ],
      "source": [
        "print('Размер сети:')\n",
        "print(network.size(new_network))\n",
        "print('Плотность сети:')\n",
        "print(gden(new_network))\n",
        "print('Компоненты сети:') \n",
        "print(components(new_network))\n",
        "LC <- component.largest(new_network, result = \"graph\") \n",
        "GD <- geodist(LC) \n",
        "print('Диаметр:')\n",
        "print(max(GD$gdist))\n",
        "print('Коэффициент кластеризации:')\n",
        "print(gtrans(new_network))"
      ]
    },
    {
      "cell_type": "markdown",
      "metadata": {
        "id": "will2nq163t5"
      },
      "source": [
        "8. Вычислить среднюю степень узлов и дисперсию."
      ]
    },
    {
      "cell_type": "code",
      "execution_count": 18,
      "metadata": {
        "colab": {
          "base_uri": "https://localhost:8080/"
        },
        "id": "_LRHt47E68v7",
        "outputId": "796301c5-1e39-4fdb-8956-d25dd8149b70",
        "vscode": {
          "languageId": "r"
        }
      },
      "outputs": [
        {
          "name": "stdout",
          "output_type": "stream",
          "text": [
            "[1] \"Средняя степень узлов:\"\n",
            "[1] 3.75\n",
            "[1] \"Дисперсия степеней узлов:\"\n",
            "[1] 12.2\n"
          ]
        }
      ],
      "source": [
        "print('Средняя степень узлов:') \n",
        "print(mean(degree(new_network)))\n",
        "print('Дисперсия степеней узлов:')\n",
        "print(var(degree(new_network)))"
      ]
    },
    {
      "cell_type": "markdown",
      "metadata": {
        "id": "iytGCy9h8_WG"
      },
      "source": [
        "9. Заполнить таблицу для различных мер центральности.\n",
        "\n",
        "Вывод: Чем больше значение меры центральности для актора, тем больше связей он имеет с другими акторами. Поэтому по вычислениям можно сделать вывод, что Medici имеет больше всего связей."
      ]
    },
    {
      "cell_type": "code",
      "execution_count": null,
      "metadata": {
        "colab": {
          "base_uri": "https://localhost:8080/",
          "height": 460
        },
        "id": "DFohzWnm9_AM",
        "outputId": "c885c374-1ecd-41c3-d575-2853d5ab54e4",
        "vscode": {
          "languageId": "r"
        }
      },
      "outputs": [
        {
          "data": {
            "text/html": [
              "<style>\n",
              ".list-inline {list-style: none; margin:0; padding: 0}\n",
              ".list-inline>li {display: inline-block}\n",
              ".list-inline>li:not(:last-child)::after {content: \"\\00b7\"; padding: 0 .5ex}\n",
              "</style>\n",
              "<ol class=list-inline><li>'Acciaiuoli'</li><li>'Albizzi'</li><li>'Pucci'</li><li>'Ridolfi'</li><li>'Strozzi'</li></ol>\n"
            ],
            "text/latex": [
              "\\begin{enumerate*}\n",
              "\\item 'Acciaiuoli'\n",
              "\\item 'Albizzi'\n",
              "\\item 'Pucci'\n",
              "\\item 'Ridolfi'\n",
              "\\item 'Strozzi'\n",
              "\\end{enumerate*}\n"
            ],
            "text/markdown": [
              "1. 'Acciaiuoli'\n",
              "2. 'Albizzi'\n",
              "3. 'Pucci'\n",
              "4. 'Ridolfi'\n",
              "5. 'Strozzi'\n",
              "\n",
              "\n"
            ],
            "text/plain": [
              "[1] \"Acciaiuoli\" \"Albizzi\"    \"Pucci\"      \"Ridolfi\"    \"Strozzi\"   "
            ]
          },
          "metadata": {},
          "output_type": "display_data"
        },
        {
          "data": {
            "text/html": [
              "<table class=\"dataframe\">\n",
              "<caption>A data.frame: 11 × 4</caption>\n",
              "<thead>\n",
              "\t<tr><th></th><th scope=col>CD</th><th scope=col>CB</th><th scope=col>CC</th><th scope=col>CI</th></tr>\n",
              "\t<tr><th></th><th scope=col>&lt;dbl&gt;</th><th scope=col>&lt;dbl&gt;</th><th scope=col>&lt;dbl&gt;</th><th scope=col>&lt;dbl&gt;</th></tr>\n",
              "</thead>\n",
              "<tbody>\n",
              "\t<tr><th scope=row>Barbadori</th><td>0.4</td><td>0.55555556</td><td>0.5882353</td><td>0.12446815</td></tr>\n",
              "\t<tr><th scope=row>Bischeri</th><td>0.3</td><td>0.05555556</td><td>0.4000000</td><td>0.08898359</td></tr>\n",
              "\t<tr><th scope=row>Castellani</th><td>0.3</td><td>0.11111111</td><td>0.5000000</td><td>0.10457651</td></tr>\n",
              "\t<tr><th scope=row>Ginori</th><td>0.2</td><td>0.00000000</td><td>0.4545455</td><td>0.09531249</td></tr>\n",
              "\t<tr><th scope=row>Guadagni</th><td>0.2</td><td>0.00000000</td><td>0.3125000</td><td>0.07656303</td></tr>\n",
              "\t<tr><th scope=row>Lamberteschi</th><td>0.4</td><td>0.13333333</td><td>0.4166667</td><td>0.09837087</td></tr>\n",
              "\t<tr><th scope=row>Medici</th><td>0.5</td><td>0.53333333</td><td>0.5263158</td><td>0.11089878</td></tr>\n",
              "\t<tr><th scope=row>Pazzi</th><td>0.1</td><td>0.00000000</td><td>0.3571429</td><td>0.06388631</td></tr>\n",
              "\t<tr><th scope=row>Peruzzi</th><td>0.4</td><td>0.30000000</td><td>0.5263158</td><td>0.10916767</td></tr>\n",
              "\t<tr><th scope=row>Salviati</th><td>0.1</td><td>0.00000000</td><td>0.3571429</td><td>0.06388631</td></tr>\n",
              "\t<tr><th scope=row>Tornabuoni</th><td>0.1</td><td>0.00000000</td><td>0.3571429</td><td>0.06388631</td></tr>\n",
              "</tbody>\n",
              "</table>\n"
            ],
            "text/latex": [
              "A data.frame: 11 × 4\n",
              "\\begin{tabular}{r|llll}\n",
              "  & CD & CB & CC & CI\\\\\n",
              "  & <dbl> & <dbl> & <dbl> & <dbl>\\\\\n",
              "\\hline\n",
              "\tBarbadori & 0.4 & 0.55555556 & 0.5882353 & 0.12446815\\\\\n",
              "\tBischeri & 0.3 & 0.05555556 & 0.4000000 & 0.08898359\\\\\n",
              "\tCastellani & 0.3 & 0.11111111 & 0.5000000 & 0.10457651\\\\\n",
              "\tGinori & 0.2 & 0.00000000 & 0.4545455 & 0.09531249\\\\\n",
              "\tGuadagni & 0.2 & 0.00000000 & 0.3125000 & 0.07656303\\\\\n",
              "\tLamberteschi & 0.4 & 0.13333333 & 0.4166667 & 0.09837087\\\\\n",
              "\tMedici & 0.5 & 0.53333333 & 0.5263158 & 0.11089878\\\\\n",
              "\tPazzi & 0.1 & 0.00000000 & 0.3571429 & 0.06388631\\\\\n",
              "\tPeruzzi & 0.4 & 0.30000000 & 0.5263158 & 0.10916767\\\\\n",
              "\tSalviati & 0.1 & 0.00000000 & 0.3571429 & 0.06388631\\\\\n",
              "\tTornabuoni & 0.1 & 0.00000000 & 0.3571429 & 0.06388631\\\\\n",
              "\\end{tabular}\n"
            ],
            "text/markdown": [
              "\n",
              "A data.frame: 11 × 4\n",
              "\n",
              "| <!--/--> | CD &lt;dbl&gt; | CB &lt;dbl&gt; | CC &lt;dbl&gt; | CI &lt;dbl&gt; |\n",
              "|---|---|---|---|---|\n",
              "| Barbadori | 0.4 | 0.55555556 | 0.5882353 | 0.12446815 |\n",
              "| Bischeri | 0.3 | 0.05555556 | 0.4000000 | 0.08898359 |\n",
              "| Castellani | 0.3 | 0.11111111 | 0.5000000 | 0.10457651 |\n",
              "| Ginori | 0.2 | 0.00000000 | 0.4545455 | 0.09531249 |\n",
              "| Guadagni | 0.2 | 0.00000000 | 0.3125000 | 0.07656303 |\n",
              "| Lamberteschi | 0.4 | 0.13333333 | 0.4166667 | 0.09837087 |\n",
              "| Medici | 0.5 | 0.53333333 | 0.5263158 | 0.11089878 |\n",
              "| Pazzi | 0.1 | 0.00000000 | 0.3571429 | 0.06388631 |\n",
              "| Peruzzi | 0.4 | 0.30000000 | 0.5263158 | 0.10916767 |\n",
              "| Salviati | 0.1 | 0.00000000 | 0.3571429 | 0.06388631 |\n",
              "| Tornabuoni | 0.1 | 0.00000000 | 0.3571429 | 0.06388631 |\n",
              "\n"
            ],
            "text/plain": [
              "             CD  CB         CC        CI        \n",
              "Barbadori    0.4 0.55555556 0.5882353 0.12446815\n",
              "Bischeri     0.3 0.05555556 0.4000000 0.08898359\n",
              "Castellani   0.3 0.11111111 0.5000000 0.10457651\n",
              "Ginori       0.2 0.00000000 0.4545455 0.09531249\n",
              "Guadagni     0.2 0.00000000 0.3125000 0.07656303\n",
              "Lamberteschi 0.4 0.13333333 0.4166667 0.09837087\n",
              "Medici       0.5 0.53333333 0.5263158 0.11089878\n",
              "Pazzi        0.1 0.00000000 0.3571429 0.06388631\n",
              "Peruzzi      0.4 0.30000000 0.5263158 0.10916767\n",
              "Salviati     0.1 0.00000000 0.3571429 0.06388631\n",
              "Tornabuoni   0.1 0.00000000 0.3571429 0.06388631"
            ]
          },
          "metadata": {},
          "output_type": "display_data"
        }
      ],
      "source": [
        "membership <- igraph::components(v, mode=\"strong\")$membership  \n",
        "single_ver <- membership[counts[membership] == 1] \n",
        "names(single_ver)\n",
        "upgrade_network <- delete_vertices(v, names(single_ver)) \n",
        "v_dop <- gorder(upgrade_network) \n",
        "\n",
        "CD <- igraph::degree(upgrade_network) / (v_dop - 1)\n",
        "CC <- igraph::closeness(upgrade_network, normalized = TRUE)\n",
        "CB <- igraph::betweenness(upgrade_network, directed=FALSE, normalized=TRUE)\n",
        "CI <- infocent(matrix(as_adjacency_matrix(upgrade_network)), rescale=TRUE)\n",
        "\n",
        "table <- data.frame(CD=actor_degree_centrality,\n",
        "                        CB=actor_betweenness_centrality,\n",
        "                        CC=actor_closeness_centrality,\n",
        "                        CI=actor_inf_centrality)\n",
        "table"
      ]
    },
    {
      "cell_type": "markdown",
      "metadata": {
        "id": "rTu3iWKCADXN"
      },
      "source": [
        "10. Вычилить значения централизации для каждой меры.\n",
        "\n",
        "Вывод: На вычисленное значение оказывает большое влияение мера, относительно которой производились вычисления."
      ]
    },
    {
      "cell_type": "code",
      "execution_count": null,
      "metadata": {
        "colab": {
          "base_uri": "https://localhost:8080/"
        },
        "id": "YuFVV0XdAMgT",
        "outputId": "0864475b-0b16-4046-90a9-8b88e38855e6",
        "vscode": {
          "languageId": "r"
        }
      },
      "outputs": [
        {
          "name": "stdout",
          "output_type": "stream",
          "text": [
            "[1] 0.2777778\n",
            "[1] 0.3535226\n",
            "[1] 0.4422222\n",
            "[1] 10.91291\n"
          ]
        }
      ],
      "source": [
        "netw_CD <- (sum(max(CD) - CD)) / (g_dop - 2)\n",
        "netw_CC <- (sum(max(CC) - CC)) / ((g_dop - 2) * (g_dop - 1) / (2 * g_dop - 3))\n",
        "netw_CB <- (sum(max(CB) - CB)) / (g_dop - 1)\n",
        "netw_CI <- (1/g_dop) * sum((CI - sum(CI))^2)\n",
        "\n",
        "print(netw_CD)\n",
        "print(netw_CC)\n",
        "print(netw_CB)\n",
        "print(netw_CI)\n",
        "\n"
      ]
    },
    {
      "cell_type": "markdown",
      "metadata": {},
      "source": [
        "11. Выявить точки сочленения и мосты сети."
      ]
    },
    {
      "cell_type": "code",
      "execution_count": 19,
      "metadata": {
        "colab": {
          "base_uri": "https://localhost:8080/",
          "height": 437
        },
        "id": "QocYj3MgELNL",
        "outputId": "bb905dbd-6669-47aa-bbc7-dc2114e694a1",
        "vscode": {
          "languageId": "r"
        }
      },
      "outputs": [
        {
          "data": {
            "image/png": "[encoded data removed]",
            "text/plain": [
              "Plot with title \"\""
            ]
          },
          "metadata": {
            "image/png": {
              "height": 420,
              "width": 420
            }
          },
          "output_type": "display_data"
        }
      ],
      "source": [
        "coll_v <- graph_from_adjacency_matrix(sociomatrix, mode=\"undirected\", weighted=TRUE)\n",
        "V(coll_v)$color <- \"green\"\n",
        "E(coll_v)$color <- \"black\"\n",
        "V(coll_v)$color[articulation.points(v)] <- \"red\"\n",
        "E(coll_v)$color[bridges(v)] <- \"red\"\n",
        "plot(coll_v)"
      ]
    },
    {
      "cell_type": "markdown",
      "metadata": {
        "id": "PBXCsN7dELwV"
      },
      "source": [
        "12. Выполнить пункты 2-8 для направленной сети из файла krackhardt_advice.csv."
      ]
    },
    {
      "cell_type": "markdown",
      "metadata": {
        "id": "oNVAQfGYEbig"
      },
      "source": [
        "12.2. Преобразовать социоматрицу в список рёбер."
      ]
    },
    {
      "cell_type": "code",
      "execution_count": 20,
      "metadata": {
        "colab": {
          "base_uri": "https://localhost:8080/",
          "height": 934
        },
        "id": "h_JtYPeQEiZA",
        "outputId": "7fa18ce0-f4ae-4d6f-9367-c14c4b10918a",
        "vscode": {
          "languageId": "r"
        }
      },
      "outputs": [
        {
          "data": {
            "text/html": [
              "<table class=\"dataframe\">\n",
              "<caption>A matrix: 21 × 21 of type int</caption>\n",
              "<thead>\n",
              "\t<tr><th scope=col>V1</th><th scope=col>V2</th><th scope=col>V3</th><th scope=col>V4</th><th scope=col>V5</th><th scope=col>V6</th><th scope=col>V7</th><th scope=col>V8</th><th scope=col>V9</th><th scope=col>V10</th><th scope=col>⋯</th><th scope=col>V12</th><th scope=col>V13</th><th scope=col>V14</th><th scope=col>V15</th><th scope=col>V16</th><th scope=col>V17</th><th scope=col>V18</th><th scope=col>V19</th><th scope=col>V20</th><th scope=col>V21</th></tr>\n",
              "</thead>\n",
              "<tbody>\n",
              "\t<tr><td>0</td><td>1</td><td>0</td><td>1</td><td>0</td><td>0</td><td>0</td><td>1</td><td>0</td><td>0</td><td>⋯</td><td>0</td><td>0</td><td>0</td><td>0</td><td>1</td><td>0</td><td>1</td><td>0</td><td>0</td><td>1</td></tr>\n",
              "\t<tr><td>0</td><td>0</td><td>0</td><td>0</td><td>0</td><td>1</td><td>1</td><td>0</td><td>0</td><td>0</td><td>⋯</td><td>0</td><td>0</td><td>0</td><td>0</td><td>0</td><td>0</td><td>0</td><td>0</td><td>0</td><td>1</td></tr>\n",
              "\t<tr><td>1</td><td>1</td><td>0</td><td>1</td><td>0</td><td>1</td><td>1</td><td>1</td><td>1</td><td>1</td><td>⋯</td><td>1</td><td>0</td><td>1</td><td>0</td><td>0</td><td>1</td><td>1</td><td>0</td><td>1</td><td>1</td></tr>\n",
              "\t<tr><td>1</td><td>1</td><td>0</td><td>0</td><td>0</td><td>1</td><td>0</td><td>1</td><td>0</td><td>1</td><td>⋯</td><td>1</td><td>0</td><td>0</td><td>0</td><td>1</td><td>1</td><td>1</td><td>0</td><td>1</td><td>1</td></tr>\n",
              "\t<tr><td>1</td><td>1</td><td>0</td><td>0</td><td>0</td><td>1</td><td>1</td><td>1</td><td>0</td><td>1</td><td>⋯</td><td>0</td><td>1</td><td>1</td><td>0</td><td>1</td><td>1</td><td>1</td><td>1</td><td>1</td><td>1</td></tr>\n",
              "\t<tr><td>0</td><td>0</td><td>0</td><td>0</td><td>0</td><td>0</td><td>0</td><td>0</td><td>0</td><td>0</td><td>⋯</td><td>0</td><td>0</td><td>0</td><td>0</td><td>0</td><td>0</td><td>0</td><td>0</td><td>0</td><td>1</td></tr>\n",
              "\t<tr><td>0</td><td>1</td><td>0</td><td>0</td><td>0</td><td>1</td><td>0</td><td>0</td><td>0</td><td>0</td><td>⋯</td><td>1</td><td>0</td><td>1</td><td>0</td><td>0</td><td>1</td><td>1</td><td>0</td><td>0</td><td>1</td></tr>\n",
              "\t<tr><td>0</td><td>1</td><td>0</td><td>1</td><td>0</td><td>1</td><td>1</td><td>0</td><td>0</td><td>1</td><td>⋯</td><td>0</td><td>0</td><td>0</td><td>0</td><td>0</td><td>0</td><td>1</td><td>0</td><td>0</td><td>1</td></tr>\n",
              "\t<tr><td>1</td><td>1</td><td>0</td><td>0</td><td>0</td><td>1</td><td>1</td><td>1</td><td>0</td><td>1</td><td>⋯</td><td>1</td><td>0</td><td>1</td><td>0</td><td>1</td><td>1</td><td>1</td><td>0</td><td>0</td><td>1</td></tr>\n",
              "\t<tr><td>1</td><td>1</td><td>1</td><td>1</td><td>1</td><td>0</td><td>0</td><td>1</td><td>0</td><td>0</td><td>⋯</td><td>0</td><td>1</td><td>0</td><td>1</td><td>1</td><td>1</td><td>1</td><td>1</td><td>1</td><td>0</td></tr>\n",
              "\t<tr><td>1</td><td>1</td><td>0</td><td>0</td><td>0</td><td>0</td><td>1</td><td>0</td><td>0</td><td>0</td><td>⋯</td><td>0</td><td>0</td><td>0</td><td>0</td><td>0</td><td>0</td><td>0</td><td>0</td><td>0</td><td>0</td></tr>\n",
              "\t<tr><td>0</td><td>0</td><td>0</td><td>0</td><td>0</td><td>0</td><td>1</td><td>0</td><td>0</td><td>0</td><td>⋯</td><td>0</td><td>0</td><td>0</td><td>0</td><td>0</td><td>0</td><td>0</td><td>0</td><td>0</td><td>1</td></tr>\n",
              "\t<tr><td>1</td><td>1</td><td>0</td><td>0</td><td>1</td><td>0</td><td>0</td><td>0</td><td>1</td><td>0</td><td>⋯</td><td>0</td><td>0</td><td>1</td><td>0</td><td>0</td><td>0</td><td>1</td><td>0</td><td>0</td><td>0</td></tr>\n",
              "\t<tr><td>0</td><td>1</td><td>0</td><td>0</td><td>0</td><td>0</td><td>1</td><td>0</td><td>0</td><td>0</td><td>⋯</td><td>0</td><td>0</td><td>0</td><td>0</td><td>0</td><td>0</td><td>1</td><td>0</td><td>0</td><td>1</td></tr>\n",
              "\t<tr><td>1</td><td>1</td><td>1</td><td>1</td><td>1</td><td>1</td><td>1</td><td>1</td><td>1</td><td>1</td><td>⋯</td><td>1</td><td>1</td><td>1</td><td>0</td><td>1</td><td>1</td><td>1</td><td>1</td><td>1</td><td>1</td></tr>\n",
              "\t<tr><td>1</td><td>1</td><td>0</td><td>0</td><td>0</td><td>0</td><td>0</td><td>0</td><td>0</td><td>1</td><td>⋯</td><td>0</td><td>0</td><td>0</td><td>0</td><td>0</td><td>0</td><td>1</td><td>0</td><td>0</td><td>0</td></tr>\n",
              "\t<tr><td>1</td><td>1</td><td>0</td><td>1</td><td>0</td><td>0</td><td>1</td><td>0</td><td>0</td><td>0</td><td>⋯</td><td>0</td><td>0</td><td>0</td><td>0</td><td>0</td><td>0</td><td>0</td><td>0</td><td>0</td><td>1</td></tr>\n",
              "\t<tr><td>1</td><td>1</td><td>1</td><td>1</td><td>1</td><td>0</td><td>1</td><td>1</td><td>1</td><td>1</td><td>⋯</td><td>0</td><td>1</td><td>1</td><td>1</td><td>1</td><td>0</td><td>0</td><td>1</td><td>1</td><td>1</td></tr>\n",
              "\t<tr><td>1</td><td>1</td><td>1</td><td>0</td><td>1</td><td>0</td><td>1</td><td>0</td><td>0</td><td>1</td><td>⋯</td><td>0</td><td>0</td><td>1</td><td>1</td><td>0</td><td>0</td><td>1</td><td>0</td><td>1</td><td>0</td></tr>\n",
              "\t<tr><td>1</td><td>1</td><td>0</td><td>0</td><td>0</td><td>1</td><td>0</td><td>1</td><td>0</td><td>0</td><td>⋯</td><td>1</td><td>0</td><td>1</td><td>1</td><td>1</td><td>1</td><td>1</td><td>0</td><td>0</td><td>1</td></tr>\n",
              "\t<tr><td>0</td><td>1</td><td>1</td><td>1</td><td>0</td><td>1</td><td>1</td><td>1</td><td>0</td><td>0</td><td>⋯</td><td>1</td><td>0</td><td>1</td><td>0</td><td>0</td><td>1</td><td>1</td><td>0</td><td>1</td><td>0</td></tr>\n",
              "</tbody>\n",
              "</table>\n"
            ],
            "text/latex": [
              "A matrix: 21 × 21 of type int\n",
              "\\begin{tabular}{lllllllllllllllllllll}\n",
              " V1 & V2 & V3 & V4 & V5 & V6 & V7 & V8 & V9 & V10 & ⋯ & V12 & V13 & V14 & V15 & V16 & V17 & V18 & V19 & V20 & V21\\\\\n",
              "\\hline\n",
              "\t 0 & 1 & 0 & 1 & 0 & 0 & 0 & 1 & 0 & 0 & ⋯ & 0 & 0 & 0 & 0 & 1 & 0 & 1 & 0 & 0 & 1\\\\\n",
              "\t 0 & 0 & 0 & 0 & 0 & 1 & 1 & 0 & 0 & 0 & ⋯ & 0 & 0 & 0 & 0 & 0 & 0 & 0 & 0 & 0 & 1\\\\\n",
              "\t 1 & 1 & 0 & 1 & 0 & 1 & 1 & 1 & 1 & 1 & ⋯ & 1 & 0 & 1 & 0 & 0 & 1 & 1 & 0 & 1 & 1\\\\\n",
              "\t 1 & 1 & 0 & 0 & 0 & 1 & 0 & 1 & 0 & 1 & ⋯ & 1 & 0 & 0 & 0 & 1 & 1 & 1 & 0 & 1 & 1\\\\\n",
              "\t 1 & 1 & 0 & 0 & 0 & 1 & 1 & 1 & 0 & 1 & ⋯ & 0 & 1 & 1 & 0 & 1 & 1 & 1 & 1 & 1 & 1\\\\\n",
              "\t 0 & 0 & 0 & 0 & 0 & 0 & 0 & 0 & 0 & 0 & ⋯ & 0 & 0 & 0 & 0 & 0 & 0 & 0 & 0 & 0 & 1\\\\\n",
              "\t 0 & 1 & 0 & 0 & 0 & 1 & 0 & 0 & 0 & 0 & ⋯ & 1 & 0 & 1 & 0 & 0 & 1 & 1 & 0 & 0 & 1\\\\\n",
              "\t 0 & 1 & 0 & 1 & 0 & 1 & 1 & 0 & 0 & 1 & ⋯ & 0 & 0 & 0 & 0 & 0 & 0 & 1 & 0 & 0 & 1\\\\\n",
              "\t 1 & 1 & 0 & 0 & 0 & 1 & 1 & 1 & 0 & 1 & ⋯ & 1 & 0 & 1 & 0 & 1 & 1 & 1 & 0 & 0 & 1\\\\\n",
              "\t 1 & 1 & 1 & 1 & 1 & 0 & 0 & 1 & 0 & 0 & ⋯ & 0 & 1 & 0 & 1 & 1 & 1 & 1 & 1 & 1 & 0\\\\\n",
              "\t 1 & 1 & 0 & 0 & 0 & 0 & 1 & 0 & 0 & 0 & ⋯ & 0 & 0 & 0 & 0 & 0 & 0 & 0 & 0 & 0 & 0\\\\\n",
              "\t 0 & 0 & 0 & 0 & 0 & 0 & 1 & 0 & 0 & 0 & ⋯ & 0 & 0 & 0 & 0 & 0 & 0 & 0 & 0 & 0 & 1\\\\\n",
              "\t 1 & 1 & 0 & 0 & 1 & 0 & 0 & 0 & 1 & 0 & ⋯ & 0 & 0 & 1 & 0 & 0 & 0 & 1 & 0 & 0 & 0\\\\\n",
              "\t 0 & 1 & 0 & 0 & 0 & 0 & 1 & 0 & 0 & 0 & ⋯ & 0 & 0 & 0 & 0 & 0 & 0 & 1 & 0 & 0 & 1\\\\\n",
              "\t 1 & 1 & 1 & 1 & 1 & 1 & 1 & 1 & 1 & 1 & ⋯ & 1 & 1 & 1 & 0 & 1 & 1 & 1 & 1 & 1 & 1\\\\\n",
              "\t 1 & 1 & 0 & 0 & 0 & 0 & 0 & 0 & 0 & 1 & ⋯ & 0 & 0 & 0 & 0 & 0 & 0 & 1 & 0 & 0 & 0\\\\\n",
              "\t 1 & 1 & 0 & 1 & 0 & 0 & 1 & 0 & 0 & 0 & ⋯ & 0 & 0 & 0 & 0 & 0 & 0 & 0 & 0 & 0 & 1\\\\\n",
              "\t 1 & 1 & 1 & 1 & 1 & 0 & 1 & 1 & 1 & 1 & ⋯ & 0 & 1 & 1 & 1 & 1 & 0 & 0 & 1 & 1 & 1\\\\\n",
              "\t 1 & 1 & 1 & 0 & 1 & 0 & 1 & 0 & 0 & 1 & ⋯ & 0 & 0 & 1 & 1 & 0 & 0 & 1 & 0 & 1 & 0\\\\\n",
              "\t 1 & 1 & 0 & 0 & 0 & 1 & 0 & 1 & 0 & 0 & ⋯ & 1 & 0 & 1 & 1 & 1 & 1 & 1 & 0 & 0 & 1\\\\\n",
              "\t 0 & 1 & 1 & 1 & 0 & 1 & 1 & 1 & 0 & 0 & ⋯ & 1 & 0 & 1 & 0 & 0 & 1 & 1 & 0 & 1 & 0\\\\\n",
              "\\end{tabular}\n"
            ],
            "text/markdown": [
              "\n",
              "A matrix: 21 × 21 of type int\n",
              "\n",
              "| V1 | V2 | V3 | V4 | V5 | V6 | V7 | V8 | V9 | V10 | ⋯ | V12 | V13 | V14 | V15 | V16 | V17 | V18 | V19 | V20 | V21 |\n",
              "|---|---|---|---|---|---|---|---|---|---|---|---|---|---|---|---|---|---|---|---|---|\n",
              "| 0 | 1 | 0 | 1 | 0 | 0 | 0 | 1 | 0 | 0 | ⋯ | 0 | 0 | 0 | 0 | 1 | 0 | 1 | 0 | 0 | 1 |\n",
              "| 0 | 0 | 0 | 0 | 0 | 1 | 1 | 0 | 0 | 0 | ⋯ | 0 | 0 | 0 | 0 | 0 | 0 | 0 | 0 | 0 | 1 |\n",
              "| 1 | 1 | 0 | 1 | 0 | 1 | 1 | 1 | 1 | 1 | ⋯ | 1 | 0 | 1 | 0 | 0 | 1 | 1 | 0 | 1 | 1 |\n",
              "| 1 | 1 | 0 | 0 | 0 | 1 | 0 | 1 | 0 | 1 | ⋯ | 1 | 0 | 0 | 0 | 1 | 1 | 1 | 0 | 1 | 1 |\n",
              "| 1 | 1 | 0 | 0 | 0 | 1 | 1 | 1 | 0 | 1 | ⋯ | 0 | 1 | 1 | 0 | 1 | 1 | 1 | 1 | 1 | 1 |\n",
              "| 0 | 0 | 0 | 0 | 0 | 0 | 0 | 0 | 0 | 0 | ⋯ | 0 | 0 | 0 | 0 | 0 | 0 | 0 | 0 | 0 | 1 |\n",
              "| 0 | 1 | 0 | 0 | 0 | 1 | 0 | 0 | 0 | 0 | ⋯ | 1 | 0 | 1 | 0 | 0 | 1 | 1 | 0 | 0 | 1 |\n",
              "| 0 | 1 | 0 | 1 | 0 | 1 | 1 | 0 | 0 | 1 | ⋯ | 0 | 0 | 0 | 0 | 0 | 0 | 1 | 0 | 0 | 1 |\n",
              "| 1 | 1 | 0 | 0 | 0 | 1 | 1 | 1 | 0 | 1 | ⋯ | 1 | 0 | 1 | 0 | 1 | 1 | 1 | 0 | 0 | 1 |\n",
              "| 1 | 1 | 1 | 1 | 1 | 0 | 0 | 1 | 0 | 0 | ⋯ | 0 | 1 | 0 | 1 | 1 | 1 | 1 | 1 | 1 | 0 |\n",
              "| 1 | 1 | 0 | 0 | 0 | 0 | 1 | 0 | 0 | 0 | ⋯ | 0 | 0 | 0 | 0 | 0 | 0 | 0 | 0 | 0 | 0 |\n",
              "| 0 | 0 | 0 | 0 | 0 | 0 | 1 | 0 | 0 | 0 | ⋯ | 0 | 0 | 0 | 0 | 0 | 0 | 0 | 0 | 0 | 1 |\n",
              "| 1 | 1 | 0 | 0 | 1 | 0 | 0 | 0 | 1 | 0 | ⋯ | 0 | 0 | 1 | 0 | 0 | 0 | 1 | 0 | 0 | 0 |\n",
              "| 0 | 1 | 0 | 0 | 0 | 0 | 1 | 0 | 0 | 0 | ⋯ | 0 | 0 | 0 | 0 | 0 | 0 | 1 | 0 | 0 | 1 |\n",
              "| 1 | 1 | 1 | 1 | 1 | 1 | 1 | 1 | 1 | 1 | ⋯ | 1 | 1 | 1 | 0 | 1 | 1 | 1 | 1 | 1 | 1 |\n",
              "| 1 | 1 | 0 | 0 | 0 | 0 | 0 | 0 | 0 | 1 | ⋯ | 0 | 0 | 0 | 0 | 0 | 0 | 1 | 0 | 0 | 0 |\n",
              "| 1 | 1 | 0 | 1 | 0 | 0 | 1 | 0 | 0 | 0 | ⋯ | 0 | 0 | 0 | 0 | 0 | 0 | 0 | 0 | 0 | 1 |\n",
              "| 1 | 1 | 1 | 1 | 1 | 0 | 1 | 1 | 1 | 1 | ⋯ | 0 | 1 | 1 | 1 | 1 | 0 | 0 | 1 | 1 | 1 |\n",
              "| 1 | 1 | 1 | 0 | 1 | 0 | 1 | 0 | 0 | 1 | ⋯ | 0 | 0 | 1 | 1 | 0 | 0 | 1 | 0 | 1 | 0 |\n",
              "| 1 | 1 | 0 | 0 | 0 | 1 | 0 | 1 | 0 | 0 | ⋯ | 1 | 0 | 1 | 1 | 1 | 1 | 1 | 0 | 0 | 1 |\n",
              "| 0 | 1 | 1 | 1 | 0 | 1 | 1 | 1 | 0 | 0 | ⋯ | 1 | 0 | 1 | 0 | 0 | 1 | 1 | 0 | 1 | 0 |\n",
              "\n"
            ],
            "text/plain": [
              "      V1 V2 V3 V4 V5 V6 V7 V8 V9 V10 ⋯ V12 V13 V14 V15 V16 V17 V18 V19 V20 V21\n",
              " [1,] 0  1  0  1  0  0  0  1  0  0   ⋯ 0   0   0   0   1   0   1   0   0   1  \n",
              " [2,] 0  0  0  0  0  1  1  0  0  0   ⋯ 0   0   0   0   0   0   0   0   0   1  \n",
              " [3,] 1  1  0  1  0  1  1  1  1  1   ⋯ 1   0   1   0   0   1   1   0   1   1  \n",
              " [4,] 1  1  0  0  0  1  0  1  0  1   ⋯ 1   0   0   0   1   1   1   0   1   1  \n",
              " [5,] 1  1  0  0  0  1  1  1  0  1   ⋯ 0   1   1   0   1   1   1   1   1   1  \n",
              " [6,] 0  0  0  0  0  0  0  0  0  0   ⋯ 0   0   0   0   0   0   0   0   0   1  \n",
              " [7,] 0  1  0  0  0  1  0  0  0  0   ⋯ 1   0   1   0   0   1   1   0   0   1  \n",
              " [8,] 0  1  0  1  0  1  1  0  0  1   ⋯ 0   0   0   0   0   0   1   0   0   1  \n",
              " [9,] 1  1  0  0  0  1  1  1  0  1   ⋯ 1   0   1   0   1   1   1   0   0   1  \n",
              "[10,] 1  1  1  1  1  0  0  1  0  0   ⋯ 0   1   0   1   1   1   1   1   1   0  \n",
              "[11,] 1  1  0  0  0  0  1  0  0  0   ⋯ 0   0   0   0   0   0   0   0   0   0  \n",
              "[12,] 0  0  0  0  0  0  1  0  0  0   ⋯ 0   0   0   0   0   0   0   0   0   1  \n",
              "[13,] 1  1  0  0  1  0  0  0  1  0   ⋯ 0   0   1   0   0   0   1   0   0   0  \n",
              "[14,] 0  1  0  0  0  0  1  0  0  0   ⋯ 0   0   0   0   0   0   1   0   0   1  \n",
              "[15,] 1  1  1  1  1  1  1  1  1  1   ⋯ 1   1   1   0   1   1   1   1   1   1  \n",
              "[16,] 1  1  0  0  0  0  0  0  0  1   ⋯ 0   0   0   0   0   0   1   0   0   0  \n",
              "[17,] 1  1  0  1  0  0  1  0  0  0   ⋯ 0   0   0   0   0   0   0   0   0   1  \n",
              "[18,] 1  1  1  1  1  0  1  1  1  1   ⋯ 0   1   1   1   1   0   0   1   1   1  \n",
              "[19,] 1  1  1  0  1  0  1  0  0  1   ⋯ 0   0   1   1   0   0   1   0   1   0  \n",
              "[20,] 1  1  0  0  0  1  0  1  0  0   ⋯ 1   0   1   1   1   1   1   0   0   1  \n",
              "[21,] 0  1  1  1  0  1  1  1  0  0   ⋯ 1   0   1   0   0   1   1   0   1   0  "
            ]
          },
          "metadata": {},
          "output_type": "display_data"
        },
        {
          "data": {
            "text/html": [
              "<table class=\"dataframe\">\n",
              "<caption>A matrix: 5 × 2 of type chr</caption>\n",
              "<tbody>\n",
              "\t<tr><td>V1</td><td>V2 </td></tr>\n",
              "\t<tr><td>V1</td><td>V4 </td></tr>\n",
              "\t<tr><td>V1</td><td>V8 </td></tr>\n",
              "\t<tr><td>V1</td><td>V16</td></tr>\n",
              "\t<tr><td>V1</td><td>V18</td></tr>\n",
              "</tbody>\n",
              "</table>\n"
            ],
            "text/latex": [
              "A matrix: 5 × 2 of type chr\n",
              "\\begin{tabular}{ll}\n",
              "\t V1 & V2 \\\\\n",
              "\t V1 & V4 \\\\\n",
              "\t V1 & V8 \\\\\n",
              "\t V1 & V16\\\\\n",
              "\t V1 & V18\\\\\n",
              "\\end{tabular}\n"
            ],
            "text/markdown": [
              "\n",
              "A matrix: 5 × 2 of type chr\n",
              "\n",
              "| V1 | V2  |\n",
              "| V1 | V4  |\n",
              "| V1 | V8  |\n",
              "| V1 | V16 |\n",
              "| V1 | V18 |\n",
              "\n"
            ],
            "text/plain": [
              "     [,1] [,2]\n",
              "[1,] V1   V2  \n",
              "[2,] V1   V4  \n",
              "[3,] V1   V8  \n",
              "[4,] V1   V16 \n",
              "[5,] V1   V18 "
            ]
          },
          "metadata": {},
          "output_type": "display_data"
        }
      ],
      "source": [
        "my_datas <- read.csv(\"./odd/krackhardt_advice.csv\", skip=2, header=FALSE, sep=\",\")\n",
        "sociomatrix2<- data.matrix(my_datas)\n",
        "sociomatrix2\n",
        "v2 <- graph.adjacency(sociomatrix2)\n",
        "edgesek <- get.edgelist(v2) \n",
        "head(edgesek, 5) "
      ]
    },
    {
      "cell_type": "markdown",
      "metadata": {
        "id": "JQert4WhIvZy"
      },
      "source": [
        "12.3. Присвоить имена столбцам и строкам социоматрицы."
      ]
    },
    {
      "cell_type": "code",
      "execution_count": 21,
      "metadata": {
        "colab": {
          "base_uri": "https://localhost:8080/",
          "height": 725
        },
        "id": "oppB3MjdJLez",
        "outputId": "4a9957ad-acdf-492e-c1b0-8e3c3381d1a0",
        "vscode": {
          "languageId": "r"
        }
      },
      "outputs": [
        {
          "data": {
            "text/html": [
              "<table class=\"dataframe\">\n",
              "<caption>A matrix: 21 × 21 of type int</caption>\n",
              "<thead>\n",
              "\t<tr><th></th><th scope=col>V1</th><th scope=col>V2</th><th scope=col>V3</th><th scope=col>V4</th><th scope=col>V5</th><th scope=col>V6</th><th scope=col>V7</th><th scope=col>V8</th><th scope=col>V9</th><th scope=col>V10</th><th scope=col>⋯</th><th scope=col>V12</th><th scope=col>V13</th><th scope=col>V14</th><th scope=col>V15</th><th scope=col>V16</th><th scope=col>V17</th><th scope=col>V18</th><th scope=col>V19</th><th scope=col>V20</th><th scope=col>V21</th></tr>\n",
              "</thead>\n",
              "<tbody>\n",
              "\t<tr><th scope=row>V1</th><td>0</td><td>1</td><td>0</td><td>1</td><td>0</td><td>0</td><td>0</td><td>1</td><td>0</td><td>0</td><td>⋯</td><td>0</td><td>0</td><td>0</td><td>0</td><td>1</td><td>0</td><td>1</td><td>0</td><td>0</td><td>1</td></tr>\n",
              "\t<tr><th scope=row>V2</th><td>0</td><td>0</td><td>0</td><td>0</td><td>0</td><td>1</td><td>1</td><td>0</td><td>0</td><td>0</td><td>⋯</td><td>0</td><td>0</td><td>0</td><td>0</td><td>0</td><td>0</td><td>0</td><td>0</td><td>0</td><td>1</td></tr>\n",
              "\t<tr><th scope=row>V3</th><td>1</td><td>1</td><td>0</td><td>1</td><td>0</td><td>1</td><td>1</td><td>1</td><td>1</td><td>1</td><td>⋯</td><td>1</td><td>0</td><td>1</td><td>0</td><td>0</td><td>1</td><td>1</td><td>0</td><td>1</td><td>1</td></tr>\n",
              "\t<tr><th scope=row>V4</th><td>1</td><td>1</td><td>0</td><td>0</td><td>0</td><td>1</td><td>0</td><td>1</td><td>0</td><td>1</td><td>⋯</td><td>1</td><td>0</td><td>0</td><td>0</td><td>1</td><td>1</td><td>1</td><td>0</td><td>1</td><td>1</td></tr>\n",
              "\t<tr><th scope=row>V5</th><td>1</td><td>1</td><td>0</td><td>0</td><td>0</td><td>1</td><td>1</td><td>1</td><td>0</td><td>1</td><td>⋯</td><td>0</td><td>1</td><td>1</td><td>0</td><td>1</td><td>1</td><td>1</td><td>1</td><td>1</td><td>1</td></tr>\n",
              "\t<tr><th scope=row>V6</th><td>0</td><td>0</td><td>0</td><td>0</td><td>0</td><td>0</td><td>0</td><td>0</td><td>0</td><td>0</td><td>⋯</td><td>0</td><td>0</td><td>0</td><td>0</td><td>0</td><td>0</td><td>0</td><td>0</td><td>0</td><td>1</td></tr>\n",
              "\t<tr><th scope=row>V7</th><td>0</td><td>1</td><td>0</td><td>0</td><td>0</td><td>1</td><td>0</td><td>0</td><td>0</td><td>0</td><td>⋯</td><td>1</td><td>0</td><td>1</td><td>0</td><td>0</td><td>1</td><td>1</td><td>0</td><td>0</td><td>1</td></tr>\n",
              "\t<tr><th scope=row>V8</th><td>0</td><td>1</td><td>0</td><td>1</td><td>0</td><td>1</td><td>1</td><td>0</td><td>0</td><td>1</td><td>⋯</td><td>0</td><td>0</td><td>0</td><td>0</td><td>0</td><td>0</td><td>1</td><td>0</td><td>0</td><td>1</td></tr>\n",
              "\t<tr><th scope=row>V9</th><td>1</td><td>1</td><td>0</td><td>0</td><td>0</td><td>1</td><td>1</td><td>1</td><td>0</td><td>1</td><td>⋯</td><td>1</td><td>0</td><td>1</td><td>0</td><td>1</td><td>1</td><td>1</td><td>0</td><td>0</td><td>1</td></tr>\n",
              "\t<tr><th scope=row>V10</th><td>1</td><td>1</td><td>1</td><td>1</td><td>1</td><td>0</td><td>0</td><td>1</td><td>0</td><td>0</td><td>⋯</td><td>0</td><td>1</td><td>0</td><td>1</td><td>1</td><td>1</td><td>1</td><td>1</td><td>1</td><td>0</td></tr>\n",
              "\t<tr><th scope=row>V11</th><td>1</td><td>1</td><td>0</td><td>0</td><td>0</td><td>0</td><td>1</td><td>0</td><td>0</td><td>0</td><td>⋯</td><td>0</td><td>0</td><td>0</td><td>0</td><td>0</td><td>0</td><td>0</td><td>0</td><td>0</td><td>0</td></tr>\n",
              "\t<tr><th scope=row>V12</th><td>0</td><td>0</td><td>0</td><td>0</td><td>0</td><td>0</td><td>1</td><td>0</td><td>0</td><td>0</td><td>⋯</td><td>0</td><td>0</td><td>0</td><td>0</td><td>0</td><td>0</td><td>0</td><td>0</td><td>0</td><td>1</td></tr>\n",
              "\t<tr><th scope=row>V13</th><td>1</td><td>1</td><td>0</td><td>0</td><td>1</td><td>0</td><td>0</td><td>0</td><td>1</td><td>0</td><td>⋯</td><td>0</td><td>0</td><td>1</td><td>0</td><td>0</td><td>0</td><td>1</td><td>0</td><td>0</td><td>0</td></tr>\n",
              "\t<tr><th scope=row>V14</th><td>0</td><td>1</td><td>0</td><td>0</td><td>0</td><td>0</td><td>1</td><td>0</td><td>0</td><td>0</td><td>⋯</td><td>0</td><td>0</td><td>0</td><td>0</td><td>0</td><td>0</td><td>1</td><td>0</td><td>0</td><td>1</td></tr>\n",
              "\t<tr><th scope=row>V15</th><td>1</td><td>1</td><td>1</td><td>1</td><td>1</td><td>1</td><td>1</td><td>1</td><td>1</td><td>1</td><td>⋯</td><td>1</td><td>1</td><td>1</td><td>0</td><td>1</td><td>1</td><td>1</td><td>1</td><td>1</td><td>1</td></tr>\n",
              "\t<tr><th scope=row>V16</th><td>1</td><td>1</td><td>0</td><td>0</td><td>0</td><td>0</td><td>0</td><td>0</td><td>0</td><td>1</td><td>⋯</td><td>0</td><td>0</td><td>0</td><td>0</td><td>0</td><td>0</td><td>1</td><td>0</td><td>0</td><td>0</td></tr>\n",
              "\t<tr><th scope=row>V17</th><td>1</td><td>1</td><td>0</td><td>1</td><td>0</td><td>0</td><td>1</td><td>0</td><td>0</td><td>0</td><td>⋯</td><td>0</td><td>0</td><td>0</td><td>0</td><td>0</td><td>0</td><td>0</td><td>0</td><td>0</td><td>1</td></tr>\n",
              "\t<tr><th scope=row>V18</th><td>1</td><td>1</td><td>1</td><td>1</td><td>1</td><td>0</td><td>1</td><td>1</td><td>1</td><td>1</td><td>⋯</td><td>0</td><td>1</td><td>1</td><td>1</td><td>1</td><td>0</td><td>0</td><td>1</td><td>1</td><td>1</td></tr>\n",
              "\t<tr><th scope=row>V19</th><td>1</td><td>1</td><td>1</td><td>0</td><td>1</td><td>0</td><td>1</td><td>0</td><td>0</td><td>1</td><td>⋯</td><td>0</td><td>0</td><td>1</td><td>1</td><td>0</td><td>0</td><td>1</td><td>0</td><td>1</td><td>0</td></tr>\n",
              "\t<tr><th scope=row>V20</th><td>1</td><td>1</td><td>0</td><td>0</td><td>0</td><td>1</td><td>0</td><td>1</td><td>0</td><td>0</td><td>⋯</td><td>1</td><td>0</td><td>1</td><td>1</td><td>1</td><td>1</td><td>1</td><td>0</td><td>0</td><td>1</td></tr>\n",
              "\t<tr><th scope=row>V21</th><td>0</td><td>1</td><td>1</td><td>1</td><td>0</td><td>1</td><td>1</td><td>1</td><td>0</td><td>0</td><td>⋯</td><td>1</td><td>0</td><td>1</td><td>0</td><td>0</td><td>1</td><td>1</td><td>0</td><td>1</td><td>0</td></tr>\n",
              "</tbody>\n",
              "</table>\n"
            ],
            "text/latex": [
              "A matrix: 21 × 21 of type int\n",
              "\\begin{tabular}{r|lllllllllllllllllllll}\n",
              "  & V1 & V2 & V3 & V4 & V5 & V6 & V7 & V8 & V9 & V10 & ⋯ & V12 & V13 & V14 & V15 & V16 & V17 & V18 & V19 & V20 & V21\\\\\n",
              "\\hline\n",
              "\tV1 & 0 & 1 & 0 & 1 & 0 & 0 & 0 & 1 & 0 & 0 & ⋯ & 0 & 0 & 0 & 0 & 1 & 0 & 1 & 0 & 0 & 1\\\\\n",
              "\tV2 & 0 & 0 & 0 & 0 & 0 & 1 & 1 & 0 & 0 & 0 & ⋯ & 0 & 0 & 0 & 0 & 0 & 0 & 0 & 0 & 0 & 1\\\\\n",
              "\tV3 & 1 & 1 & 0 & 1 & 0 & 1 & 1 & 1 & 1 & 1 & ⋯ & 1 & 0 & 1 & 0 & 0 & 1 & 1 & 0 & 1 & 1\\\\\n",
              "\tV4 & 1 & 1 & 0 & 0 & 0 & 1 & 0 & 1 & 0 & 1 & ⋯ & 1 & 0 & 0 & 0 & 1 & 1 & 1 & 0 & 1 & 1\\\\\n",
              "\tV5 & 1 & 1 & 0 & 0 & 0 & 1 & 1 & 1 & 0 & 1 & ⋯ & 0 & 1 & 1 & 0 & 1 & 1 & 1 & 1 & 1 & 1\\\\\n",
              "\tV6 & 0 & 0 & 0 & 0 & 0 & 0 & 0 & 0 & 0 & 0 & ⋯ & 0 & 0 & 0 & 0 & 0 & 0 & 0 & 0 & 0 & 1\\\\\n",
              "\tV7 & 0 & 1 & 0 & 0 & 0 & 1 & 0 & 0 & 0 & 0 & ⋯ & 1 & 0 & 1 & 0 & 0 & 1 & 1 & 0 & 0 & 1\\\\\n",
              "\tV8 & 0 & 1 & 0 & 1 & 0 & 1 & 1 & 0 & 0 & 1 & ⋯ & 0 & 0 & 0 & 0 & 0 & 0 & 1 & 0 & 0 & 1\\\\\n",
              "\tV9 & 1 & 1 & 0 & 0 & 0 & 1 & 1 & 1 & 0 & 1 & ⋯ & 1 & 0 & 1 & 0 & 1 & 1 & 1 & 0 & 0 & 1\\\\\n",
              "\tV10 & 1 & 1 & 1 & 1 & 1 & 0 & 0 & 1 & 0 & 0 & ⋯ & 0 & 1 & 0 & 1 & 1 & 1 & 1 & 1 & 1 & 0\\\\\n",
              "\tV11 & 1 & 1 & 0 & 0 & 0 & 0 & 1 & 0 & 0 & 0 & ⋯ & 0 & 0 & 0 & 0 & 0 & 0 & 0 & 0 & 0 & 0\\\\\n",
              "\tV12 & 0 & 0 & 0 & 0 & 0 & 0 & 1 & 0 & 0 & 0 & ⋯ & 0 & 0 & 0 & 0 & 0 & 0 & 0 & 0 & 0 & 1\\\\\n",
              "\tV13 & 1 & 1 & 0 & 0 & 1 & 0 & 0 & 0 & 1 & 0 & ⋯ & 0 & 0 & 1 & 0 & 0 & 0 & 1 & 0 & 0 & 0\\\\\n",
              "\tV14 & 0 & 1 & 0 & 0 & 0 & 0 & 1 & 0 & 0 & 0 & ⋯ & 0 & 0 & 0 & 0 & 0 & 0 & 1 & 0 & 0 & 1\\\\\n",
              "\tV15 & 1 & 1 & 1 & 1 & 1 & 1 & 1 & 1 & 1 & 1 & ⋯ & 1 & 1 & 1 & 0 & 1 & 1 & 1 & 1 & 1 & 1\\\\\n",
              "\tV16 & 1 & 1 & 0 & 0 & 0 & 0 & 0 & 0 & 0 & 1 & ⋯ & 0 & 0 & 0 & 0 & 0 & 0 & 1 & 0 & 0 & 0\\\\\n",
              "\tV17 & 1 & 1 & 0 & 1 & 0 & 0 & 1 & 0 & 0 & 0 & ⋯ & 0 & 0 & 0 & 0 & 0 & 0 & 0 & 0 & 0 & 1\\\\\n",
              "\tV18 & 1 & 1 & 1 & 1 & 1 & 0 & 1 & 1 & 1 & 1 & ⋯ & 0 & 1 & 1 & 1 & 1 & 0 & 0 & 1 & 1 & 1\\\\\n",
              "\tV19 & 1 & 1 & 1 & 0 & 1 & 0 & 1 & 0 & 0 & 1 & ⋯ & 0 & 0 & 1 & 1 & 0 & 0 & 1 & 0 & 1 & 0\\\\\n",
              "\tV20 & 1 & 1 & 0 & 0 & 0 & 1 & 0 & 1 & 0 & 0 & ⋯ & 1 & 0 & 1 & 1 & 1 & 1 & 1 & 0 & 0 & 1\\\\\n",
              "\tV21 & 0 & 1 & 1 & 1 & 0 & 1 & 1 & 1 & 0 & 0 & ⋯ & 1 & 0 & 1 & 0 & 0 & 1 & 1 & 0 & 1 & 0\\\\\n",
              "\\end{tabular}\n"
            ],
            "text/markdown": [
              "\n",
              "A matrix: 21 × 21 of type int\n",
              "\n",
              "| <!--/--> | V1 | V2 | V3 | V4 | V5 | V6 | V7 | V8 | V9 | V10 | ⋯ | V12 | V13 | V14 | V15 | V16 | V17 | V18 | V19 | V20 | V21 |\n",
              "|---|---|---|---|---|---|---|---|---|---|---|---|---|---|---|---|---|---|---|---|---|---|\n",
              "| V1 | 0 | 1 | 0 | 1 | 0 | 0 | 0 | 1 | 0 | 0 | ⋯ | 0 | 0 | 0 | 0 | 1 | 0 | 1 | 0 | 0 | 1 |\n",
              "| V2 | 0 | 0 | 0 | 0 | 0 | 1 | 1 | 0 | 0 | 0 | ⋯ | 0 | 0 | 0 | 0 | 0 | 0 | 0 | 0 | 0 | 1 |\n",
              "| V3 | 1 | 1 | 0 | 1 | 0 | 1 | 1 | 1 | 1 | 1 | ⋯ | 1 | 0 | 1 | 0 | 0 | 1 | 1 | 0 | 1 | 1 |\n",
              "| V4 | 1 | 1 | 0 | 0 | 0 | 1 | 0 | 1 | 0 | 1 | ⋯ | 1 | 0 | 0 | 0 | 1 | 1 | 1 | 0 | 1 | 1 |\n",
              "| V5 | 1 | 1 | 0 | 0 | 0 | 1 | 1 | 1 | 0 | 1 | ⋯ | 0 | 1 | 1 | 0 | 1 | 1 | 1 | 1 | 1 | 1 |\n",
              "| V6 | 0 | 0 | 0 | 0 | 0 | 0 | 0 | 0 | 0 | 0 | ⋯ | 0 | 0 | 0 | 0 | 0 | 0 | 0 | 0 | 0 | 1 |\n",
              "| V7 | 0 | 1 | 0 | 0 | 0 | 1 | 0 | 0 | 0 | 0 | ⋯ | 1 | 0 | 1 | 0 | 0 | 1 | 1 | 0 | 0 | 1 |\n",
              "| V8 | 0 | 1 | 0 | 1 | 0 | 1 | 1 | 0 | 0 | 1 | ⋯ | 0 | 0 | 0 | 0 | 0 | 0 | 1 | 0 | 0 | 1 |\n",
              "| V9 | 1 | 1 | 0 | 0 | 0 | 1 | 1 | 1 | 0 | 1 | ⋯ | 1 | 0 | 1 | 0 | 1 | 1 | 1 | 0 | 0 | 1 |\n",
              "| V10 | 1 | 1 | 1 | 1 | 1 | 0 | 0 | 1 | 0 | 0 | ⋯ | 0 | 1 | 0 | 1 | 1 | 1 | 1 | 1 | 1 | 0 |\n",
              "| V11 | 1 | 1 | 0 | 0 | 0 | 0 | 1 | 0 | 0 | 0 | ⋯ | 0 | 0 | 0 | 0 | 0 | 0 | 0 | 0 | 0 | 0 |\n",
              "| V12 | 0 | 0 | 0 | 0 | 0 | 0 | 1 | 0 | 0 | 0 | ⋯ | 0 | 0 | 0 | 0 | 0 | 0 | 0 | 0 | 0 | 1 |\n",
              "| V13 | 1 | 1 | 0 | 0 | 1 | 0 | 0 | 0 | 1 | 0 | ⋯ | 0 | 0 | 1 | 0 | 0 | 0 | 1 | 0 | 0 | 0 |\n",
              "| V14 | 0 | 1 | 0 | 0 | 0 | 0 | 1 | 0 | 0 | 0 | ⋯ | 0 | 0 | 0 | 0 | 0 | 0 | 1 | 0 | 0 | 1 |\n",
              "| V15 | 1 | 1 | 1 | 1 | 1 | 1 | 1 | 1 | 1 | 1 | ⋯ | 1 | 1 | 1 | 0 | 1 | 1 | 1 | 1 | 1 | 1 |\n",
              "| V16 | 1 | 1 | 0 | 0 | 0 | 0 | 0 | 0 | 0 | 1 | ⋯ | 0 | 0 | 0 | 0 | 0 | 0 | 1 | 0 | 0 | 0 |\n",
              "| V17 | 1 | 1 | 0 | 1 | 0 | 0 | 1 | 0 | 0 | 0 | ⋯ | 0 | 0 | 0 | 0 | 0 | 0 | 0 | 0 | 0 | 1 |\n",
              "| V18 | 1 | 1 | 1 | 1 | 1 | 0 | 1 | 1 | 1 | 1 | ⋯ | 0 | 1 | 1 | 1 | 1 | 0 | 0 | 1 | 1 | 1 |\n",
              "| V19 | 1 | 1 | 1 | 0 | 1 | 0 | 1 | 0 | 0 | 1 | ⋯ | 0 | 0 | 1 | 1 | 0 | 0 | 1 | 0 | 1 | 0 |\n",
              "| V20 | 1 | 1 | 0 | 0 | 0 | 1 | 0 | 1 | 0 | 0 | ⋯ | 1 | 0 | 1 | 1 | 1 | 1 | 1 | 0 | 0 | 1 |\n",
              "| V21 | 0 | 1 | 1 | 1 | 0 | 1 | 1 | 1 | 0 | 0 | ⋯ | 1 | 0 | 1 | 0 | 0 | 1 | 1 | 0 | 1 | 0 |\n",
              "\n"
            ],
            "text/plain": [
              "    V1 V2 V3 V4 V5 V6 V7 V8 V9 V10 ⋯ V12 V13 V14 V15 V16 V17 V18 V19 V20 V21\n",
              "V1  0  1  0  1  0  0  0  1  0  0   ⋯ 0   0   0   0   1   0   1   0   0   1  \n",
              "V2  0  0  0  0  0  1  1  0  0  0   ⋯ 0   0   0   0   0   0   0   0   0   1  \n",
              "V3  1  1  0  1  0  1  1  1  1  1   ⋯ 1   0   1   0   0   1   1   0   1   1  \n",
              "V4  1  1  0  0  0  1  0  1  0  1   ⋯ 1   0   0   0   1   1   1   0   1   1  \n",
              "V5  1  1  0  0  0  1  1  1  0  1   ⋯ 0   1   1   0   1   1   1   1   1   1  \n",
              "V6  0  0  0  0  0  0  0  0  0  0   ⋯ 0   0   0   0   0   0   0   0   0   1  \n",
              "V7  0  1  0  0  0  1  0  0  0  0   ⋯ 1   0   1   0   0   1   1   0   0   1  \n",
              "V8  0  1  0  1  0  1  1  0  0  1   ⋯ 0   0   0   0   0   0   1   0   0   1  \n",
              "V9  1  1  0  0  0  1  1  1  0  1   ⋯ 1   0   1   0   1   1   1   0   0   1  \n",
              "V10 1  1  1  1  1  0  0  1  0  0   ⋯ 0   1   0   1   1   1   1   1   1   0  \n",
              "V11 1  1  0  0  0  0  1  0  0  0   ⋯ 0   0   0   0   0   0   0   0   0   0  \n",
              "V12 0  0  0  0  0  0  1  0  0  0   ⋯ 0   0   0   0   0   0   0   0   0   1  \n",
              "V13 1  1  0  0  1  0  0  0  1  0   ⋯ 0   0   1   0   0   0   1   0   0   0  \n",
              "V14 0  1  0  0  0  0  1  0  0  0   ⋯ 0   0   0   0   0   0   1   0   0   1  \n",
              "V15 1  1  1  1  1  1  1  1  1  1   ⋯ 1   1   1   0   1   1   1   1   1   1  \n",
              "V16 1  1  0  0  0  0  0  0  0  1   ⋯ 0   0   0   0   0   0   1   0   0   0  \n",
              "V17 1  1  0  1  0  0  1  0  0  0   ⋯ 0   0   0   0   0   0   0   0   0   1  \n",
              "V18 1  1  1  1  1  0  1  1  1  1   ⋯ 0   1   1   1   1   0   0   1   1   1  \n",
              "V19 1  1  1  0  1  0  1  0  0  1   ⋯ 0   0   1   1   0   0   1   0   1   0  \n",
              "V20 1  1  0  0  0  1  0  1  0  0   ⋯ 1   0   1   1   1   1   1   0   0   1  \n",
              "V21 0  1  1  1  0  1  1  1  0  0   ⋯ 1   0   1   0   0   1   1   0   1   0  "
            ]
          },
          "metadata": {},
          "output_type": "display_data"
        }
      ],
      "source": [
        "colnames(sociomatrix2) <- colnames(my_datas)\n",
        "rownames(sociomatrix2) <- colnames(my_datas) \n",
        "sociomatrix2"
      ]
    },
    {
      "cell_type": "markdown",
      "metadata": {
        "id": "EmNcCq3TJTuz"
      },
      "source": [
        "12.4. С помощью соответстующих функций по полученной социоматрице посроить направленную сеть.\n"
      ]
    },
    {
      "cell_type": "code",
      "execution_count": 24,
      "metadata": {
        "colab": {
          "base_uri": "https://localhost:8080/",
          "height": 437
        },
        "id": "HE_jGT3WJd0S",
        "outputId": "95b72270-2916-40ec-8818-5cb3e6b1e4b9",
        "vscode": {
          "languageId": "r"
        }
      },
      "outputs": [
        {
          "data": {
            "image/png": "[encoded data removed]",
            "text/plain": [
              "plot without title"
            ]
          },
          "metadata": {
            "image/png": {
              "height": 420,
              "width": 420
            }
          },
          "output_type": "display_data"
        }
      ],
      "source": [
        "new_network2 <- as.network(sociomatrix2, directed=TRUE)\n",
        "\n",
        "plot(new_network2, vertex.col = 3, displaylabels = TRUE)"
      ]
    },
    {
      "cell_type": "markdown",
      "metadata": {
        "id": "Ywbb_GYWJtfW"
      },
      "source": [
        "12.5. Отобразить сеть с помощью алгоритмов укладки Фрюхтермана-Рейнгольда и Каманда-Каваи."
      ]
    },
    {
      "cell_type": "code",
      "execution_count": 25,
      "metadata": {
        "colab": {
          "base_uri": "https://localhost:8080/",
          "height": 857
        },
        "id": "YOI62TwHJ6MC",
        "outputId": "012dd770-8df8-4aff-8cd7-378394930a41",
        "vscode": {
          "languageId": "r"
        }
      },
      "outputs": [
        {
          "data": {
            "image/png": "[encoded data removed]",
            "text/plain": [
              "Plot with title \"\""
            ]
          },
          "metadata": {
            "image/png": {
              "height": 420,
              "width": 420
            }
          },
          "output_type": "display_data"
        },
        {
          "data": {
            "image/png": "[encoded data removed]",
            "text/plain": [
              "Plot with title \"\""
            ]
          },
          "metadata": {
            "image/png": {
              "height": 420,
              "width": 420
            }
          },
          "output_type": "display_data"
        }
      ],
      "source": [
        "v11 <- layout.fruchterman.reingold(v2)\n",
        "plot(v2, layout=v11, displaylabels = TRUE)\n",
        "v12 <- layout.kamada.kawai(v2)\n",
        "plot(v2, layout=v12, displaylabels = TRUE)"
      ]
    },
    {
      "cell_type": "markdown",
      "metadata": {
        "id": "mpjjIK0mKJHK"
      },
      "source": [
        "12.6. Вывести \"описательную сводку сети\"."
      ]
    },
    {
      "cell_type": "code",
      "execution_count": 26,
      "metadata": {
        "colab": {
          "base_uri": "https://localhost:8080/",
          "height": 330
        },
        "id": "tihGM4QZKOrI",
        "outputId": "c46d7c68-9be6-4949-f16e-7be1ffd39b72",
        "vscode": {
          "languageId": "r"
        }
      },
      "outputs": [
        {
          "data": {
            "text/plain": [
              "Network attributes:\n",
              "  vertices = 21\n",
              "  directed = TRUE\n",
              "  hyper = FALSE\n",
              "  loops = FALSE\n",
              "  multiple = FALSE\n",
              "  bipartite = FALSE\n",
              " total edges = 190 \n",
              "   missing edges = 0 \n",
              "   non-missing edges = 190 \n",
              " density = 0.452381 \n",
              "\n",
              "Vertex attributes:\n",
              "  vertex.names:\n",
              "   character valued attribute\n",
              "   21 valid vertex names\n",
              "\n",
              "No edge attributes"
            ]
          },
          "metadata": {},
          "output_type": "display_data"
        }
      ],
      "source": [
        "summary(new_network2, print.adj = FALSE)"
      ]
    },
    {
      "cell_type": "markdown",
      "metadata": {
        "id": "QQ27CA5WKVDO"
      },
      "source": [
        "12.7. Вычислить \"пятичисловую сводку\" сети."
      ]
    },
    {
      "cell_type": "code",
      "execution_count": 27,
      "metadata": {
        "colab": {
          "base_uri": "https://localhost:8080/"
        },
        "id": "aNcXvmvnKkvH",
        "outputId": "2c3aac0a-d19f-42e9-f791-151e1bc6d023",
        "vscode": {
          "languageId": "r"
        }
      },
      "outputs": [
        {
          "name": "stdout",
          "output_type": "stream",
          "text": [
            "[1] \"Размер сети:\"\n",
            "[1] 21\n",
            "[1] \"Плотность сети:\"\n",
            "[1] 0.452381\n",
            "[1] \"Компоненты сети:\"\n",
            "[1] 1\n",
            "[1] \"Диаметр:\"\n",
            "[1] 3\n",
            "[1] \"Коэффициент кластеризации:\"\n",
            "[1] 0.6639785\n"
          ]
        }
      ],
      "source": [
        "print('Размер сети:')\n",
        "print(network.size(new_network2))\n",
        "print('Плотность сети:')\n",
        "print(gden(new_network2))\n",
        "print('Компоненты сети:') \n",
        "print(components(new_network2))\n",
        "LC <- component.largest(new_network2, result = \"graph\") \n",
        "GD <- geodist(LC) \n",
        "print('Диаметр:')\n",
        "print(max(GD$gdist))\n",
        "print('Коэффициент кластеризации:')\n",
        "print(gtrans(new_network2))"
      ]
    },
    {
      "cell_type": "markdown",
      "metadata": {
        "id": "XDctGchVKbrS"
      },
      "source": [
        "12.8. Вычислить среднюю степень узлов и дисперсию."
      ]
    },
    {
      "cell_type": "code",
      "execution_count": 28,
      "metadata": {
        "colab": {
          "base_uri": "https://localhost:8080/"
        },
        "id": "YHLfDSY3KgPe",
        "outputId": "e84184e7-aace-4909-ce80-6bbbf4923d03",
        "vscode": {
          "languageId": "r"
        }
      },
      "outputs": [
        {
          "name": "stdout",
          "output_type": "stream",
          "text": [
            "[1] \"Средняя степень узлов:\"\n",
            "[1] 18.09524\n",
            "[1] \"Дисперсия степеней узлов:\"\n",
            "[1] 32.19048\n"
          ]
        }
      ],
      "source": [
        "print('Средняя степень узлов:') \n",
        "print(mean(degree(new_network2)))\n",
        "print('Дисперсия степеней узлов:')\n",
        "print(var(degree(new_network2)))"
      ]
    },
    {
      "cell_type": "markdown",
      "metadata": {
        "id": "nxsZmYvDQsqd"
      },
      "source": [
        "13. Заполните таблицу для различных мер престижа."
      ]
    },
    {
      "cell_type": "code",
      "execution_count": 30,
      "metadata": {
        "colab": {
          "base_uri": "https://localhost:8080/",
          "height": 34
        },
        "id": "0BkXEv05VhuV",
        "outputId": "4715c298-21b7-4b54-bd1a-c02e146d2f89",
        "vscode": {
          "languageId": "r"
        }
      },
      "outputs": [
        {
          "data": {
            "text/html": [
              "<table class=\"dataframe\">\n",
              "<caption>A data.frame: 21 × 3</caption>\n",
              "<thead>\n",
              "\t<tr><th scope=col>i</th><th scope=col>PD</th><th scope=col>PP</th></tr>\n",
              "\t<tr><th scope=col>&lt;int&gt;</th><th scope=col>&lt;dbl&gt;</th><th scope=col>&lt;dbl&gt;</th></tr>\n",
              "</thead>\n",
              "<tbody>\n",
              "\t<tr><td> 1</td><td>0.65</td><td>0.7000000</td></tr>\n",
              "\t<tr><td> 2</td><td>0.90</td><td>0.9545455</td></tr>\n",
              "\t<tr><td> 3</td><td>0.25</td><td>0.5833333</td></tr>\n",
              "\t<tr><td> 4</td><td>0.40</td><td>0.6562500</td></tr>\n",
              "\t<tr><td> 5</td><td>0.25</td><td>0.5250000</td></tr>\n",
              "\t<tr><td> 6</td><td>0.50</td><td>0.7000000</td></tr>\n",
              "\t<tr><td> 7</td><td>0.65</td><td>0.7777778</td></tr>\n",
              "\t<tr><td> 8</td><td>0.50</td><td>0.7000000</td></tr>\n",
              "\t<tr><td> 9</td><td>0.20</td><td>0.5121951</td></tr>\n",
              "\t<tr><td>10</td><td>0.45</td><td>0.6000000</td></tr>\n",
              "\t<tr><td>11</td><td>0.55</td><td>0.7000000</td></tr>\n",
              "\t<tr><td>12</td><td>0.35</td><td>0.6176471</td></tr>\n",
              "\t<tr><td>13</td><td>0.20</td><td>0.5121951</td></tr>\n",
              "\t<tr><td>14</td><td>0.50</td><td>0.7000000</td></tr>\n",
              "\t<tr><td>15</td><td>0.20</td><td>0.5121951</td></tr>\n",
              "\t<tr><td>16</td><td>0.40</td><td>0.6000000</td></tr>\n",
              "\t<tr><td>17</td><td>0.45</td><td>0.6774194</td></tr>\n",
              "\t<tr><td>18</td><td>0.75</td><td>0.8400000</td></tr>\n",
              "\t<tr><td>19</td><td>0.20</td><td>0.5121951</td></tr>\n",
              "\t<tr><td>20</td><td>0.40</td><td>0.6363636</td></tr>\n",
              "\t<tr><td>21</td><td>0.75</td><td>0.8400000</td></tr>\n",
              "</tbody>\n",
              "</table>\n"
            ],
            "text/latex": [
              "A data.frame: 21 × 3\n",
              "\\begin{tabular}{lll}\n",
              " i & PD & PP\\\\\n",
              " <int> & <dbl> & <dbl>\\\\\n",
              "\\hline\n",
              "\t  1 & 0.65 & 0.7000000\\\\\n",
              "\t  2 & 0.90 & 0.9545455\\\\\n",
              "\t  3 & 0.25 & 0.5833333\\\\\n",
              "\t  4 & 0.40 & 0.6562500\\\\\n",
              "\t  5 & 0.25 & 0.5250000\\\\\n",
              "\t  6 & 0.50 & 0.7000000\\\\\n",
              "\t  7 & 0.65 & 0.7777778\\\\\n",
              "\t  8 & 0.50 & 0.7000000\\\\\n",
              "\t  9 & 0.20 & 0.5121951\\\\\n",
              "\t 10 & 0.45 & 0.6000000\\\\\n",
              "\t 11 & 0.55 & 0.7000000\\\\\n",
              "\t 12 & 0.35 & 0.6176471\\\\\n",
              "\t 13 & 0.20 & 0.5121951\\\\\n",
              "\t 14 & 0.50 & 0.7000000\\\\\n",
              "\t 15 & 0.20 & 0.5121951\\\\\n",
              "\t 16 & 0.40 & 0.6000000\\\\\n",
              "\t 17 & 0.45 & 0.6774194\\\\\n",
              "\t 18 & 0.75 & 0.8400000\\\\\n",
              "\t 19 & 0.20 & 0.5121951\\\\\n",
              "\t 20 & 0.40 & 0.6363636\\\\\n",
              "\t 21 & 0.75 & 0.8400000\\\\\n",
              "\\end{tabular}\n"
            ],
            "text/markdown": [
              "\n",
              "A data.frame: 21 × 3\n",
              "\n",
              "| i &lt;int&gt; | PD &lt;dbl&gt; | PP &lt;dbl&gt; |\n",
              "|---|---|---|\n",
              "|  1 | 0.65 | 0.7000000 |\n",
              "|  2 | 0.90 | 0.9545455 |\n",
              "|  3 | 0.25 | 0.5833333 |\n",
              "|  4 | 0.40 | 0.6562500 |\n",
              "|  5 | 0.25 | 0.5250000 |\n",
              "|  6 | 0.50 | 0.7000000 |\n",
              "|  7 | 0.65 | 0.7777778 |\n",
              "|  8 | 0.50 | 0.7000000 |\n",
              "|  9 | 0.20 | 0.5121951 |\n",
              "| 10 | 0.45 | 0.6000000 |\n",
              "| 11 | 0.55 | 0.7000000 |\n",
              "| 12 | 0.35 | 0.6176471 |\n",
              "| 13 | 0.20 | 0.5121951 |\n",
              "| 14 | 0.50 | 0.7000000 |\n",
              "| 15 | 0.20 | 0.5121951 |\n",
              "| 16 | 0.40 | 0.6000000 |\n",
              "| 17 | 0.45 | 0.6774194 |\n",
              "| 18 | 0.75 | 0.8400000 |\n",
              "| 19 | 0.20 | 0.5121951 |\n",
              "| 20 | 0.40 | 0.6363636 |\n",
              "| 21 | 0.75 | 0.8400000 |\n",
              "\n"
            ],
            "text/plain": [
              "   i  PD   PP       \n",
              "1   1 0.65 0.7000000\n",
              "2   2 0.90 0.9545455\n",
              "3   3 0.25 0.5833333\n",
              "4   4 0.40 0.6562500\n",
              "5   5 0.25 0.5250000\n",
              "6   6 0.50 0.7000000\n",
              "7   7 0.65 0.7777778\n",
              "8   8 0.50 0.7000000\n",
              "9   9 0.20 0.5121951\n",
              "10 10 0.45 0.6000000\n",
              "11 11 0.55 0.7000000\n",
              "12 12 0.35 0.6176471\n",
              "13 13 0.20 0.5121951\n",
              "14 14 0.50 0.7000000\n",
              "15 15 0.20 0.5121951\n",
              "16 16 0.40 0.6000000\n",
              "17 17 0.45 0.6774194\n",
              "18 18 0.75 0.8400000\n",
              "19 19 0.20 0.5121951\n",
              "20 20 0.40 0.6363636\n",
              "21 21 0.75 0.8400000"
            ]
          },
          "metadata": {},
          "output_type": "display_data"
        }
      ],
      "source": [
        "norm <- degree(new_network2, cmode = \"indegree\")/(network.size(new_network2)-1)\n",
        "vect = c()\n",
        "for (v in V(v2)){\n",
        "  I<-length(subcomponent(v2,v, mode=\"in\"))\n",
        "  dist <- shortest.paths(v2, v, mode=\"in\")\n",
        "  dist[dist==Inf]<-0\n",
        "  vect <- c(vect, (((I/(network.size(new_network2)))/(sum(dist)/I))))\n",
        "}\n",
        "\n",
        "data.frame(\n",
        "  i = 1:21,\n",
        "  PD = norm,\n",
        "  PP = vect\n",
        ")"
      ]
    },
    {
      "cell_type": "markdown",
      "metadata": {
        "id": "1dOsahdG2qcE"
      },
      "source": [
        "## Выводы\n",
        "\n",
        "Были изучены библиотеки и методы для моделирования, визуализации и анализа социальных сетей.Работа позволила познакомиться с библиотеками, которые имеет большой спектр возможностей. Интересно было визуализировать сети с помощью разных алгоритмов и наблюдать, как по разному можно разложить одну и ту же сеть. Сами библиотеки содержат много встроенных функций, которые сильно упростили работу, изавив от ручных вычислений. Однако не все необходимые функции удалось найти."
      ]
    }
  ],
  "metadata": {
    "colab": {
      "provenance": []
    },
    "kernelspec": {
      "display_name": "R",
      "language": "R",
      "name": "ir"
    },
    "language_info": {
      "codemirror_mode": "r",
      "file_extension": ".r",
      "mimetype": "text/x-r-source",
      "name": "R",
      "pygments_lexer": "r",
      "version": "4.2.1"
    }
  },
  "nbformat": 4,
  "nbformat_minor": 0
}
