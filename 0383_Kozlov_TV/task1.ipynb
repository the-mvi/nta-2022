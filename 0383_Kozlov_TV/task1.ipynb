{
 "cells": [
  {
   "cell_type": "markdown",
   "metadata": {},
   "source": [
    "# Практическая работа №1: Теория \n",
    "Выполнил студент гр. 0383 Козлов Тимофей. Вариант №7"
   ]
  },
  {
   "cell_type": "markdown",
   "metadata": {},
   "source": [
    "## Цель работы\n",
    "Овладеть навыками работы с математическими пакетами для моделирования, визуализации и анализа социальных сетей."
   ]
  },
  {
   "cell_type": "markdown",
   "metadata": {},
   "source": [
    "## Основные теоретические положения\n",
    "\n",
    "**Актор** - дискретная, индивидуальная социальная единица.\n",
    "\n",
    "**Подгруппа** - любое подмножество акторов и все связи между ними.\n",
    "\n",
    "**Группа** - совокупность всех акторов, связи между которыми должны быть изучены.\n",
    "\n",
    "**Отношение** - совокупность связей определённого вида между акторами.\n",
    "\n",
    "**Социоматрица** - матрица $X$ размерности $g \\times g$, описывающая смежные узлы в сети.\n",
    "\n",
    "**Размер сети** - количество акторов сети.\n",
    "\n",
    "**Плотность сети** - доля имеющихся связей по отношению к макисмально возможному количеству связей.\n",
    "\n",
    "Для ориентированных сетей: $\\Delta = \\displaystyle{\\frac{L}{A_g^2}}$\n",
    "\n",
    "Для неориентированных сетей: $\\Delta = \\displaystyle{\\frac{L}{C^2_g}}$\n",
    "\n",
    "**Компонента** - подгруппа, в котором все акторы связаны друг с другом прямо или косвенно.\n",
    "\n",
    "**Диаметр полной сети** - наибольшая длина любого из кратчайших путей между всеми парами узлов.\n",
    "\n",
    "**Коэффициент кластеризации** -  мера степени, в которой узлы графа стремятся сгруппироваться вместе.\n",
    "\n",
    "**Степень узла** - число рёбер, инцидентных узлу $n_i$.\n",
    "\n",
    "Средняя степень узлов: $\\overline{d} = \\displaystyle{\\frac{1}{g}} \\sum^g_{i = 1} d(n_i)$\n",
    "\n",
    "Дисперсия степени узлов: $S^2_D = \\displaystyle{\\frac{1}{g}} \\sum^g_{i = 1} \\left(d(n_i) - \\overline{d}\\right)^2$\n",
    "\n",
    "**Центральность** - мера, характеризующая актор с большим количеством связей.\n",
    "\n",
    "\n",
    "**Центральность по степени** - степень каждого актора.\n",
    "\n",
    "Нормированная центральность по степени: $C'_D (n_i) = \\displaystyle{\\frac{d(n_i)}{g-1}}$\n",
    "\n",
    "**Центральность по близости** - более важными узлами считаются узлы, наиболее близкие к остальным узлам сети.\n",
    "\n",
    "Нормированная центральность по близости: $C'_C (n_i) = \\displaystyle{\\frac{g - 1}{\\sum^g_{j = 1} d(n_i, n_j)}}$\n",
    "\n",
    "**Центральность по последовательности** - характеризует, насколько важную роль данный узел играет на пути \"между\" парами других узлов сети, в том смысле, что пути между другими узлами должны проходить через данный узел.\n",
    "\n",
    "Нормированная центральность по посредничеству: $C'_B = \\displaystyle{\\frac{C_b (n_i)}{C_{g-1}^2}}$\n",
    "\n",
    "**Центральность по информации** - обобщение понятия центральности по посредничеству, в котором все пути, между акторами с весами зависят от их длин, учитываются при подсчёте промежуточности.\n",
    "\n",
    "**Централизация по степени:** $C_D = \\displaystyle{\\frac{\\sum_{i = 1}^g (C'_D (n^*) - C'_D (n_i))}{(g-1)(g-2)}}$\n",
    "\n",
    "**Централизация по близости**: $C_C = \\displaystyle{\\frac{\\sum_{i = 1}^g (C'_C (n^*) - C'_C (n_i))}{(g-1)(g-2)/(2g - 3)}}$\n",
    "\n",
    "**Централизация по посредничеству**: $C_B = \\displaystyle{\\frac{\\sum_{i = 1}^g (C'_B (n^*) - C'_B (n_i))}{(g-1)}}$\n",
    "\n",
    "**Централизация по информации** как дисперсия индексов инф. актора: $S_I^2 = \\displaystyle{\\frac{1}{g}} \\sum^g_{i = 1} \\left( C'_I (n_i) - \\overline{C_I} \\right) ^2$\n",
    "\n",
    "**Силовые алгоритмы** - итеративные алгоритмы, основанные на уменьшении общей энергии сети, где энергия может быть распределена различными способами.\n",
    "\n",
    "**Алгоритм Фрюхтермана-Рейнгольда** - силовой алгоритм укладки графа, в котором вершины представляются в виде атомных частиц или небесных тел, которые оказывают друг на друга силы притяжения и отталкивания, а процессом смещения вершин (на каждой итерации алгоритма) управляет температура (чем меньше температура - тем стабильнее сеть)\n",
    "\n",
    "**Алгоритм Камада-Кавай** - силовой алгоритм укладки графа, в котором рёбра определяются как пружины. Пружинная система настраивается таким образом, чтобы минимизация энергии системы соответствовала минимизации разницы между геометрическими и графовыми расстояниями.\n",
    "\n",
    "**Точка сочленения** - узел, при удалении которого появялется еще одна компонента связности.\n",
    "\n",
    "**Мост** - ребро, при удалении которого появялется еще одна компонента связности.\n",
    "\n",
    "**Престиж** - мера, характеризующая актора с большим количеством входящих связей.\n",
    "\n",
    "**Престиж по степени** - входящая степень каждого узла: $P_D (n_i) = d_I (n_i) = x_{+i}$\n",
    "\n",
    "Нормированный престиж по степени: $P'_D (n_i) = \\displaystyle{\\frac{x_{+i}}{g - 1}}$\n",
    "\n",
    "**Престиж по близости** - определяет, насколько все акторы близки к заданному по расстоянию до него.\n",
    "\n",
    "$P_p (n_i) = \\displaystyle{\\frac{\\# I_i / (g-1)}{\\sum_{j: n_j \\in I_i} \\left( d(n_j, n_i) / \\# I_i\\right)}}$"
   ]
  },
  {
   "cell_type": "markdown",
   "metadata": {},
   "source": [
    "## Постановка задачи\n",
    "С помощью математических пакетов и соответствующих библиотек провести анализ заданных социальных сетей вычислить описательные характеристики. Полученные результаты содержательно проинтерпретировать."
   ]
  },
  {
   "cell_type": "markdown",
   "metadata": {},
   "source": [
    "## Выполнение работы\n",
    "0. Подключение библиотек:"
   ]
  },
  {
   "cell_type": "code",
   "execution_count": null,
   "metadata": {},
   "outputs": [],
   "source": [
    "library(igraph)\n",
    "library(network)\n",
    "library(statnet)"
   ]
  },
  {
   "cell_type": "markdown",
   "metadata": {},
   "source": [
    "1. Из файла florentine_business.csv была извлечена социоматрица и выведена в виде таблицы"
   ]
  },
  {
   "cell_type": "code",
   "execution_count": 2,
   "metadata": {},
   "outputs": [
    {
     "data": {
      "text/html": [
       "<table>\n",
       "<tbody>\n",
       "\t<tr><td>0</td><td>0</td><td>0</td><td>0</td><td>0</td><td>0</td><td>0</td><td>0</td><td>0</td><td>0</td><td>0</td><td>0</td><td>0</td><td>0</td><td>0</td><td>0</td></tr>\n",
       "\t<tr><td>0</td><td>0</td><td>0</td><td>0</td><td>0</td><td>0</td><td>0</td><td>0</td><td>0</td><td>0</td><td>0</td><td>0</td><td>0</td><td>0</td><td>0</td><td>0</td></tr>\n",
       "\t<tr><td>0</td><td>0</td><td>0</td><td>0</td><td>1</td><td>1</td><td>0</td><td>0</td><td>1</td><td>0</td><td>1</td><td>0</td><td>0</td><td>0</td><td>0</td><td>0</td></tr>\n",
       "\t<tr><td>0</td><td>0</td><td>0</td><td>0</td><td>0</td><td>0</td><td>1</td><td>1</td><td>0</td><td>0</td><td>1</td><td>0</td><td>0</td><td>0</td><td>0</td><td>0</td></tr>\n",
       "\t<tr><td>0</td><td>0</td><td>1</td><td>0</td><td>0</td><td>0</td><td>0</td><td>1</td><td>0</td><td>0</td><td>1</td><td>0</td><td>0</td><td>0</td><td>0</td><td>0</td></tr>\n",
       "\t<tr><td>0</td><td>0</td><td>1</td><td>0</td><td>0</td><td>0</td><td>0</td><td>0</td><td>1</td><td>0</td><td>0</td><td>0</td><td>0</td><td>0</td><td>0</td><td>0</td></tr>\n",
       "\t<tr><td>0</td><td>0</td><td>0</td><td>1</td><td>0</td><td>0</td><td>0</td><td>1</td><td>0</td><td>0</td><td>0</td><td>0</td><td>0</td><td>0</td><td>0</td><td>0</td></tr>\n",
       "\t<tr><td>0</td><td>0</td><td>0</td><td>1</td><td>1</td><td>0</td><td>1</td><td>0</td><td>0</td><td>0</td><td>1</td><td>0</td><td>0</td><td>0</td><td>0</td><td>0</td></tr>\n",
       "\t<tr><td>0</td><td>0</td><td>1</td><td>0</td><td>0</td><td>1</td><td>0</td><td>0</td><td>0</td><td>1</td><td>0</td><td>0</td><td>0</td><td>1</td><td>0</td><td>1</td></tr>\n",
       "\t<tr><td>0</td><td>0</td><td>0</td><td>0</td><td>0</td><td>0</td><td>0</td><td>0</td><td>1</td><td>0</td><td>0</td><td>0</td><td>0</td><td>0</td><td>0</td><td>0</td></tr>\n",
       "\t<tr><td>0</td><td>0</td><td>1</td><td>1</td><td>1</td><td>0</td><td>0</td><td>1</td><td>0</td><td>0</td><td>0</td><td>0</td><td>0</td><td>0</td><td>0</td><td>0</td></tr>\n",
       "\t<tr><td>0</td><td>0</td><td>0</td><td>0</td><td>0</td><td>0</td><td>0</td><td>0</td><td>0</td><td>0</td><td>0</td><td>0</td><td>0</td><td>0</td><td>0</td><td>0</td></tr>\n",
       "\t<tr><td>0</td><td>0</td><td>0</td><td>0</td><td>0</td><td>0</td><td>0</td><td>0</td><td>0</td><td>0</td><td>0</td><td>0</td><td>0</td><td>0</td><td>0</td><td>0</td></tr>\n",
       "\t<tr><td>0</td><td>0</td><td>0</td><td>0</td><td>0</td><td>0</td><td>0</td><td>0</td><td>1</td><td>0</td><td>0</td><td>0</td><td>0</td><td>0</td><td>0</td><td>0</td></tr>\n",
       "\t<tr><td>0</td><td>0</td><td>0</td><td>0</td><td>0</td><td>0</td><td>0</td><td>0</td><td>0</td><td>0</td><td>0</td><td>0</td><td>0</td><td>0</td><td>0</td><td>0</td></tr>\n",
       "\t<tr><td>0</td><td>0</td><td>0</td><td>0</td><td>0</td><td>0</td><td>0</td><td>0</td><td>1</td><td>0</td><td>0</td><td>0</td><td>0</td><td>0</td><td>0</td><td>0</td></tr>\n",
       "</tbody>\n",
       "</table>\n"
      ],
      "text/latex": [
       "\\begin{tabular}{llllllllllllllll}\n",
       "\t 0 & 0 & 0 & 0 & 0 & 0 & 0 & 0 & 0 & 0 & 0 & 0 & 0 & 0 & 0 & 0\\\\\n",
       "\t 0 & 0 & 0 & 0 & 0 & 0 & 0 & 0 & 0 & 0 & 0 & 0 & 0 & 0 & 0 & 0\\\\\n",
       "\t 0 & 0 & 0 & 0 & 1 & 1 & 0 & 0 & 1 & 0 & 1 & 0 & 0 & 0 & 0 & 0\\\\\n",
       "\t 0 & 0 & 0 & 0 & 0 & 0 & 1 & 1 & 0 & 0 & 1 & 0 & 0 & 0 & 0 & 0\\\\\n",
       "\t 0 & 0 & 1 & 0 & 0 & 0 & 0 & 1 & 0 & 0 & 1 & 0 & 0 & 0 & 0 & 0\\\\\n",
       "\t 0 & 0 & 1 & 0 & 0 & 0 & 0 & 0 & 1 & 0 & 0 & 0 & 0 & 0 & 0 & 0\\\\\n",
       "\t 0 & 0 & 0 & 1 & 0 & 0 & 0 & 1 & 0 & 0 & 0 & 0 & 0 & 0 & 0 & 0\\\\\n",
       "\t 0 & 0 & 0 & 1 & 1 & 0 & 1 & 0 & 0 & 0 & 1 & 0 & 0 & 0 & 0 & 0\\\\\n",
       "\t 0 & 0 & 1 & 0 & 0 & 1 & 0 & 0 & 0 & 1 & 0 & 0 & 0 & 1 & 0 & 1\\\\\n",
       "\t 0 & 0 & 0 & 0 & 0 & 0 & 0 & 0 & 1 & 0 & 0 & 0 & 0 & 0 & 0 & 0\\\\\n",
       "\t 0 & 0 & 1 & 1 & 1 & 0 & 0 & 1 & 0 & 0 & 0 & 0 & 0 & 0 & 0 & 0\\\\\n",
       "\t 0 & 0 & 0 & 0 & 0 & 0 & 0 & 0 & 0 & 0 & 0 & 0 & 0 & 0 & 0 & 0\\\\\n",
       "\t 0 & 0 & 0 & 0 & 0 & 0 & 0 & 0 & 0 & 0 & 0 & 0 & 0 & 0 & 0 & 0\\\\\n",
       "\t 0 & 0 & 0 & 0 & 0 & 0 & 0 & 0 & 1 & 0 & 0 & 0 & 0 & 0 & 0 & 0\\\\\n",
       "\t 0 & 0 & 0 & 0 & 0 & 0 & 0 & 0 & 0 & 0 & 0 & 0 & 0 & 0 & 0 & 0\\\\\n",
       "\t 0 & 0 & 0 & 0 & 0 & 0 & 0 & 0 & 1 & 0 & 0 & 0 & 0 & 0 & 0 & 0\\\\\n",
       "\\end{tabular}\n"
      ],
      "text/markdown": [
       "\n",
       "| 0 | 0 | 0 | 0 | 0 | 0 | 0 | 0 | 0 | 0 | 0 | 0 | 0 | 0 | 0 | 0 |\n",
       "| 0 | 0 | 0 | 0 | 0 | 0 | 0 | 0 | 0 | 0 | 0 | 0 | 0 | 0 | 0 | 0 |\n",
       "| 0 | 0 | 0 | 0 | 1 | 1 | 0 | 0 | 1 | 0 | 1 | 0 | 0 | 0 | 0 | 0 |\n",
       "| 0 | 0 | 0 | 0 | 0 | 0 | 1 | 1 | 0 | 0 | 1 | 0 | 0 | 0 | 0 | 0 |\n",
       "| 0 | 0 | 1 | 0 | 0 | 0 | 0 | 1 | 0 | 0 | 1 | 0 | 0 | 0 | 0 | 0 |\n",
       "| 0 | 0 | 1 | 0 | 0 | 0 | 0 | 0 | 1 | 0 | 0 | 0 | 0 | 0 | 0 | 0 |\n",
       "| 0 | 0 | 0 | 1 | 0 | 0 | 0 | 1 | 0 | 0 | 0 | 0 | 0 | 0 | 0 | 0 |\n",
       "| 0 | 0 | 0 | 1 | 1 | 0 | 1 | 0 | 0 | 0 | 1 | 0 | 0 | 0 | 0 | 0 |\n",
       "| 0 | 0 | 1 | 0 | 0 | 1 | 0 | 0 | 0 | 1 | 0 | 0 | 0 | 1 | 0 | 1 |\n",
       "| 0 | 0 | 0 | 0 | 0 | 0 | 0 | 0 | 1 | 0 | 0 | 0 | 0 | 0 | 0 | 0 |\n",
       "| 0 | 0 | 1 | 1 | 1 | 0 | 0 | 1 | 0 | 0 | 0 | 0 | 0 | 0 | 0 | 0 |\n",
       "| 0 | 0 | 0 | 0 | 0 | 0 | 0 | 0 | 0 | 0 | 0 | 0 | 0 | 0 | 0 | 0 |\n",
       "| 0 | 0 | 0 | 0 | 0 | 0 | 0 | 0 | 0 | 0 | 0 | 0 | 0 | 0 | 0 | 0 |\n",
       "| 0 | 0 | 0 | 0 | 0 | 0 | 0 | 0 | 1 | 0 | 0 | 0 | 0 | 0 | 0 | 0 |\n",
       "| 0 | 0 | 0 | 0 | 0 | 0 | 0 | 0 | 0 | 0 | 0 | 0 | 0 | 0 | 0 | 0 |\n",
       "| 0 | 0 | 0 | 0 | 0 | 0 | 0 | 0 | 1 | 0 | 0 | 0 | 0 | 0 | 0 | 0 |\n",
       "\n"
      ],
      "text/plain": [
       "      [,1] [,2] [,3] [,4] [,5] [,6] [,7] [,8] [,9] [,10] [,11] [,12] [,13]\n",
       " [1,] 0    0    0    0    0    0    0    0    0    0     0     0     0    \n",
       " [2,] 0    0    0    0    0    0    0    0    0    0     0     0     0    \n",
       " [3,] 0    0    0    0    1    1    0    0    1    0     1     0     0    \n",
       " [4,] 0    0    0    0    0    0    1    1    0    0     1     0     0    \n",
       " [5,] 0    0    1    0    0    0    0    1    0    0     1     0     0    \n",
       " [6,] 0    0    1    0    0    0    0    0    1    0     0     0     0    \n",
       " [7,] 0    0    0    1    0    0    0    1    0    0     0     0     0    \n",
       " [8,] 0    0    0    1    1    0    1    0    0    0     1     0     0    \n",
       " [9,] 0    0    1    0    0    1    0    0    0    1     0     0     0    \n",
       "[10,] 0    0    0    0    0    0    0    0    1    0     0     0     0    \n",
       "[11,] 0    0    1    1    1    0    0    1    0    0     0     0     0    \n",
       "[12,] 0    0    0    0    0    0    0    0    0    0     0     0     0    \n",
       "[13,] 0    0    0    0    0    0    0    0    0    0     0     0     0    \n",
       "[14,] 0    0    0    0    0    0    0    0    1    0     0     0     0    \n",
       "[15,] 0    0    0    0    0    0    0    0    0    0     0     0     0    \n",
       "[16,] 0    0    0    0    0    0    0    0    1    0     0     0     0    \n",
       "      [,14] [,15] [,16]\n",
       " [1,] 0     0     0    \n",
       " [2,] 0     0     0    \n",
       " [3,] 0     0     0    \n",
       " [4,] 0     0     0    \n",
       " [5,] 0     0     0    \n",
       " [6,] 0     0     0    \n",
       " [7,] 0     0     0    \n",
       " [8,] 0     0     0    \n",
       " [9,] 1     0     1    \n",
       "[10,] 0     0     0    \n",
       "[11,] 0     0     0    \n",
       "[12,] 0     0     0    \n",
       "[13,] 0     0     0    \n",
       "[14,] 0     0     0    \n",
       "[15,] 0     0     0    \n",
       "[16,] 0     0     0    "
      ]
     },
     "metadata": {},
     "output_type": "display_data"
    }
   ],
   "source": [
    "socialmatrix <- data.matrix(read.csv(\"florentine_business.csv\", skip = 1)) #пропуск коммента в файле\n",
    "colnames(socialmatrix) <- NULL #убраны названия столбцов\n",
    "socialmatrix"
   ]
  },
  {
   "cell_type": "markdown",
   "metadata": {},
   "source": [
    "2. С помощью метода adjacency из библиотеки igraph получили информацию о смежных элементах социоматрицы, с помощью get.edgelist(g) получили список ребер и вывели первые 5 элементов"
   ]
  },
  {
   "cell_type": "code",
   "execution_count": 3,
   "metadata": {},
   "outputs": [
    {
     "data": {
      "text/html": [
       "<table>\n",
       "<tbody>\n",
       "\t<tr><td>3 </td><td> 5</td></tr>\n",
       "\t<tr><td>3 </td><td> 6</td></tr>\n",
       "\t<tr><td>3 </td><td> 9</td></tr>\n",
       "\t<tr><td>3 </td><td>11</td></tr>\n",
       "\t<tr><td>4 </td><td> 7</td></tr>\n",
       "</tbody>\n",
       "</table>\n"
      ],
      "text/latex": [
       "\\begin{tabular}{ll}\n",
       "\t 3  &  5\\\\\n",
       "\t 3  &  6\\\\\n",
       "\t 3  &  9\\\\\n",
       "\t 3  & 11\\\\\n",
       "\t 4  &  7\\\\\n",
       "\\end{tabular}\n"
      ],
      "text/markdown": [
       "\n",
       "| 3  |  5 |\n",
       "| 3  |  6 |\n",
       "| 3  |  9 |\n",
       "| 3  | 11 |\n",
       "| 4  |  7 |\n",
       "\n"
      ],
      "text/plain": [
       "     [,1] [,2]\n",
       "[1,] 3     5  \n",
       "[2,] 3     6  \n",
       "[3,] 3     9  \n",
       "[4,] 3    11  \n",
       "[5,] 4     7  "
      ]
     },
     "metadata": {},
     "output_type": "display_data"
    }
   ],
   "source": [
    "g <- graph.adjacency(socialmatrix) \n",
    "get.edgelist(g)[1:5, ]"
   ]
  },
  {
   "cell_type": "markdown",
   "metadata": {},
   "source": [
    "3. Снова считали файл, но в этот раз не убирая названия столбцов и назначив названия строк"
   ]
  },
  {
   "cell_type": "code",
   "execution_count": 4,
   "metadata": {},
   "outputs": [
    {
     "data": {
      "text/html": [
       "<table>\n",
       "<thead><tr><th></th><th scope=col>Acciaiuoli</th><th scope=col>Albizzi</th><th scope=col>Barbadori</th><th scope=col>Bischeri</th><th scope=col>Castellani</th><th scope=col>Ginori</th><th scope=col>Guadagni</th><th scope=col>Lamberteschi</th><th scope=col>Medici</th><th scope=col>Pazzi</th><th scope=col>Peruzzi</th><th scope=col>Pucci</th><th scope=col>Ridolfi</th><th scope=col>Salviati</th><th scope=col>Strozzi</th><th scope=col>Tornabuoni</th></tr></thead>\n",
       "<tbody>\n",
       "\t<tr><th scope=row>Acciaiuoli</th><td>0</td><td>0</td><td>0</td><td>0</td><td>0</td><td>0</td><td>0</td><td>0</td><td>0</td><td>0</td><td>0</td><td>0</td><td>0</td><td>0</td><td>0</td><td>0</td></tr>\n",
       "\t<tr><th scope=row>Albizzi</th><td>0</td><td>0</td><td>0</td><td>0</td><td>0</td><td>0</td><td>0</td><td>0</td><td>0</td><td>0</td><td>0</td><td>0</td><td>0</td><td>0</td><td>0</td><td>0</td></tr>\n",
       "\t<tr><th scope=row>Barbadori</th><td>0</td><td>0</td><td>0</td><td>0</td><td>1</td><td>1</td><td>0</td><td>0</td><td>1</td><td>0</td><td>1</td><td>0</td><td>0</td><td>0</td><td>0</td><td>0</td></tr>\n",
       "\t<tr><th scope=row>Bischeri</th><td>0</td><td>0</td><td>0</td><td>0</td><td>0</td><td>0</td><td>1</td><td>1</td><td>0</td><td>0</td><td>1</td><td>0</td><td>0</td><td>0</td><td>0</td><td>0</td></tr>\n",
       "\t<tr><th scope=row>Castellani</th><td>0</td><td>0</td><td>1</td><td>0</td><td>0</td><td>0</td><td>0</td><td>1</td><td>0</td><td>0</td><td>1</td><td>0</td><td>0</td><td>0</td><td>0</td><td>0</td></tr>\n",
       "\t<tr><th scope=row>Ginori</th><td>0</td><td>0</td><td>1</td><td>0</td><td>0</td><td>0</td><td>0</td><td>0</td><td>1</td><td>0</td><td>0</td><td>0</td><td>0</td><td>0</td><td>0</td><td>0</td></tr>\n",
       "\t<tr><th scope=row>Guadagni</th><td>0</td><td>0</td><td>0</td><td>1</td><td>0</td><td>0</td><td>0</td><td>1</td><td>0</td><td>0</td><td>0</td><td>0</td><td>0</td><td>0</td><td>0</td><td>0</td></tr>\n",
       "\t<tr><th scope=row>Lamberteschi</th><td>0</td><td>0</td><td>0</td><td>1</td><td>1</td><td>0</td><td>1</td><td>0</td><td>0</td><td>0</td><td>1</td><td>0</td><td>0</td><td>0</td><td>0</td><td>0</td></tr>\n",
       "\t<tr><th scope=row>Medici</th><td>0</td><td>0</td><td>1</td><td>0</td><td>0</td><td>1</td><td>0</td><td>0</td><td>0</td><td>1</td><td>0</td><td>0</td><td>0</td><td>1</td><td>0</td><td>1</td></tr>\n",
       "\t<tr><th scope=row>Pazzi</th><td>0</td><td>0</td><td>0</td><td>0</td><td>0</td><td>0</td><td>0</td><td>0</td><td>1</td><td>0</td><td>0</td><td>0</td><td>0</td><td>0</td><td>0</td><td>0</td></tr>\n",
       "\t<tr><th scope=row>Peruzzi</th><td>0</td><td>0</td><td>1</td><td>1</td><td>1</td><td>0</td><td>0</td><td>1</td><td>0</td><td>0</td><td>0</td><td>0</td><td>0</td><td>0</td><td>0</td><td>0</td></tr>\n",
       "\t<tr><th scope=row>Pucci</th><td>0</td><td>0</td><td>0</td><td>0</td><td>0</td><td>0</td><td>0</td><td>0</td><td>0</td><td>0</td><td>0</td><td>0</td><td>0</td><td>0</td><td>0</td><td>0</td></tr>\n",
       "\t<tr><th scope=row>Ridolfi</th><td>0</td><td>0</td><td>0</td><td>0</td><td>0</td><td>0</td><td>0</td><td>0</td><td>0</td><td>0</td><td>0</td><td>0</td><td>0</td><td>0</td><td>0</td><td>0</td></tr>\n",
       "\t<tr><th scope=row>Salviati</th><td>0</td><td>0</td><td>0</td><td>0</td><td>0</td><td>0</td><td>0</td><td>0</td><td>1</td><td>0</td><td>0</td><td>0</td><td>0</td><td>0</td><td>0</td><td>0</td></tr>\n",
       "\t<tr><th scope=row>Strozzi</th><td>0</td><td>0</td><td>0</td><td>0</td><td>0</td><td>0</td><td>0</td><td>0</td><td>0</td><td>0</td><td>0</td><td>0</td><td>0</td><td>0</td><td>0</td><td>0</td></tr>\n",
       "\t<tr><th scope=row>Tornabuoni</th><td>0</td><td>0</td><td>0</td><td>0</td><td>0</td><td>0</td><td>0</td><td>0</td><td>1</td><td>0</td><td>0</td><td>0</td><td>0</td><td>0</td><td>0</td><td>0</td></tr>\n",
       "</tbody>\n",
       "</table>\n"
      ],
      "text/latex": [
       "\\begin{tabular}{r|llllllllllllllll}\n",
       "  & Acciaiuoli & Albizzi & Barbadori & Bischeri & Castellani & Ginori & Guadagni & Lamberteschi & Medici & Pazzi & Peruzzi & Pucci & Ridolfi & Salviati & Strozzi & Tornabuoni\\\\\n",
       "\\hline\n",
       "\tAcciaiuoli & 0 & 0 & 0 & 0 & 0 & 0 & 0 & 0 & 0 & 0 & 0 & 0 & 0 & 0 & 0 & 0\\\\\n",
       "\tAlbizzi & 0 & 0 & 0 & 0 & 0 & 0 & 0 & 0 & 0 & 0 & 0 & 0 & 0 & 0 & 0 & 0\\\\\n",
       "\tBarbadori & 0 & 0 & 0 & 0 & 1 & 1 & 0 & 0 & 1 & 0 & 1 & 0 & 0 & 0 & 0 & 0\\\\\n",
       "\tBischeri & 0 & 0 & 0 & 0 & 0 & 0 & 1 & 1 & 0 & 0 & 1 & 0 & 0 & 0 & 0 & 0\\\\\n",
       "\tCastellani & 0 & 0 & 1 & 0 & 0 & 0 & 0 & 1 & 0 & 0 & 1 & 0 & 0 & 0 & 0 & 0\\\\\n",
       "\tGinori & 0 & 0 & 1 & 0 & 0 & 0 & 0 & 0 & 1 & 0 & 0 & 0 & 0 & 0 & 0 & 0\\\\\n",
       "\tGuadagni & 0 & 0 & 0 & 1 & 0 & 0 & 0 & 1 & 0 & 0 & 0 & 0 & 0 & 0 & 0 & 0\\\\\n",
       "\tLamberteschi & 0 & 0 & 0 & 1 & 1 & 0 & 1 & 0 & 0 & 0 & 1 & 0 & 0 & 0 & 0 & 0\\\\\n",
       "\tMedici & 0 & 0 & 1 & 0 & 0 & 1 & 0 & 0 & 0 & 1 & 0 & 0 & 0 & 1 & 0 & 1\\\\\n",
       "\tPazzi & 0 & 0 & 0 & 0 & 0 & 0 & 0 & 0 & 1 & 0 & 0 & 0 & 0 & 0 & 0 & 0\\\\\n",
       "\tPeruzzi & 0 & 0 & 1 & 1 & 1 & 0 & 0 & 1 & 0 & 0 & 0 & 0 & 0 & 0 & 0 & 0\\\\\n",
       "\tPucci & 0 & 0 & 0 & 0 & 0 & 0 & 0 & 0 & 0 & 0 & 0 & 0 & 0 & 0 & 0 & 0\\\\\n",
       "\tRidolfi & 0 & 0 & 0 & 0 & 0 & 0 & 0 & 0 & 0 & 0 & 0 & 0 & 0 & 0 & 0 & 0\\\\\n",
       "\tSalviati & 0 & 0 & 0 & 0 & 0 & 0 & 0 & 0 & 1 & 0 & 0 & 0 & 0 & 0 & 0 & 0\\\\\n",
       "\tStrozzi & 0 & 0 & 0 & 0 & 0 & 0 & 0 & 0 & 0 & 0 & 0 & 0 & 0 & 0 & 0 & 0\\\\\n",
       "\tTornabuoni & 0 & 0 & 0 & 0 & 0 & 0 & 0 & 0 & 1 & 0 & 0 & 0 & 0 & 0 & 0 & 0\\\\\n",
       "\\end{tabular}\n"
      ],
      "text/markdown": [
       "\n",
       "| <!--/--> | Acciaiuoli | Albizzi | Barbadori | Bischeri | Castellani | Ginori | Guadagni | Lamberteschi | Medici | Pazzi | Peruzzi | Pucci | Ridolfi | Salviati | Strozzi | Tornabuoni |\n",
       "|---|---|---|---|---|---|---|---|---|---|---|---|---|---|---|---|---|\n",
       "| Acciaiuoli | 0 | 0 | 0 | 0 | 0 | 0 | 0 | 0 | 0 | 0 | 0 | 0 | 0 | 0 | 0 | 0 |\n",
       "| Albizzi | 0 | 0 | 0 | 0 | 0 | 0 | 0 | 0 | 0 | 0 | 0 | 0 | 0 | 0 | 0 | 0 |\n",
       "| Barbadori | 0 | 0 | 0 | 0 | 1 | 1 | 0 | 0 | 1 | 0 | 1 | 0 | 0 | 0 | 0 | 0 |\n",
       "| Bischeri | 0 | 0 | 0 | 0 | 0 | 0 | 1 | 1 | 0 | 0 | 1 | 0 | 0 | 0 | 0 | 0 |\n",
       "| Castellani | 0 | 0 | 1 | 0 | 0 | 0 | 0 | 1 | 0 | 0 | 1 | 0 | 0 | 0 | 0 | 0 |\n",
       "| Ginori | 0 | 0 | 1 | 0 | 0 | 0 | 0 | 0 | 1 | 0 | 0 | 0 | 0 | 0 | 0 | 0 |\n",
       "| Guadagni | 0 | 0 | 0 | 1 | 0 | 0 | 0 | 1 | 0 | 0 | 0 | 0 | 0 | 0 | 0 | 0 |\n",
       "| Lamberteschi | 0 | 0 | 0 | 1 | 1 | 0 | 1 | 0 | 0 | 0 | 1 | 0 | 0 | 0 | 0 | 0 |\n",
       "| Medici | 0 | 0 | 1 | 0 | 0 | 1 | 0 | 0 | 0 | 1 | 0 | 0 | 0 | 1 | 0 | 1 |\n",
       "| Pazzi | 0 | 0 | 0 | 0 | 0 | 0 | 0 | 0 | 1 | 0 | 0 | 0 | 0 | 0 | 0 | 0 |\n",
       "| Peruzzi | 0 | 0 | 1 | 1 | 1 | 0 | 0 | 1 | 0 | 0 | 0 | 0 | 0 | 0 | 0 | 0 |\n",
       "| Pucci | 0 | 0 | 0 | 0 | 0 | 0 | 0 | 0 | 0 | 0 | 0 | 0 | 0 | 0 | 0 | 0 |\n",
       "| Ridolfi | 0 | 0 | 0 | 0 | 0 | 0 | 0 | 0 | 0 | 0 | 0 | 0 | 0 | 0 | 0 | 0 |\n",
       "| Salviati | 0 | 0 | 0 | 0 | 0 | 0 | 0 | 0 | 1 | 0 | 0 | 0 | 0 | 0 | 0 | 0 |\n",
       "| Strozzi | 0 | 0 | 0 | 0 | 0 | 0 | 0 | 0 | 0 | 0 | 0 | 0 | 0 | 0 | 0 | 0 |\n",
       "| Tornabuoni | 0 | 0 | 0 | 0 | 0 | 0 | 0 | 0 | 1 | 0 | 0 | 0 | 0 | 0 | 0 | 0 |\n",
       "\n"
      ],
      "text/plain": [
       "             Acciaiuoli Albizzi Barbadori Bischeri Castellani Ginori Guadagni\n",
       "Acciaiuoli   0          0       0         0        0          0      0       \n",
       "Albizzi      0          0       0         0        0          0      0       \n",
       "Barbadori    0          0       0         0        1          1      0       \n",
       "Bischeri     0          0       0         0        0          0      1       \n",
       "Castellani   0          0       1         0        0          0      0       \n",
       "Ginori       0          0       1         0        0          0      0       \n",
       "Guadagni     0          0       0         1        0          0      0       \n",
       "Lamberteschi 0          0       0         1        1          0      1       \n",
       "Medici       0          0       1         0        0          1      0       \n",
       "Pazzi        0          0       0         0        0          0      0       \n",
       "Peruzzi      0          0       1         1        1          0      0       \n",
       "Pucci        0          0       0         0        0          0      0       \n",
       "Ridolfi      0          0       0         0        0          0      0       \n",
       "Salviati     0          0       0         0        0          0      0       \n",
       "Strozzi      0          0       0         0        0          0      0       \n",
       "Tornabuoni   0          0       0         0        0          0      0       \n",
       "             Lamberteschi Medici Pazzi Peruzzi Pucci Ridolfi Salviati Strozzi\n",
       "Acciaiuoli   0            0      0     0       0     0       0        0      \n",
       "Albizzi      0            0      0     0       0     0       0        0      \n",
       "Barbadori    0            1      0     1       0     0       0        0      \n",
       "Bischeri     1            0      0     1       0     0       0        0      \n",
       "Castellani   1            0      0     1       0     0       0        0      \n",
       "Ginori       0            1      0     0       0     0       0        0      \n",
       "Guadagni     1            0      0     0       0     0       0        0      \n",
       "Lamberteschi 0            0      0     1       0     0       0        0      \n",
       "Medici       0            0      1     0       0     0       1        0      \n",
       "Pazzi        0            1      0     0       0     0       0        0      \n",
       "Peruzzi      1            0      0     0       0     0       0        0      \n",
       "Pucci        0            0      0     0       0     0       0        0      \n",
       "Ridolfi      0            0      0     0       0     0       0        0      \n",
       "Salviati     0            1      0     0       0     0       0        0      \n",
       "Strozzi      0            0      0     0       0     0       0        0      \n",
       "Tornabuoni   0            1      0     0       0     0       0        0      \n",
       "             Tornabuoni\n",
       "Acciaiuoli   0         \n",
       "Albizzi      0         \n",
       "Barbadori    0         \n",
       "Bischeri     0         \n",
       "Castellani   0         \n",
       "Ginori       0         \n",
       "Guadagni     0         \n",
       "Lamberteschi 0         \n",
       "Medici       1         \n",
       "Pazzi        0         \n",
       "Peruzzi      0         \n",
       "Pucci        0         \n",
       "Ridolfi      0         \n",
       "Salviati     0         \n",
       "Strozzi      0         \n",
       "Tornabuoni   0         "
      ]
     },
     "metadata": {},
     "output_type": "display_data"
    }
   ],
   "source": [
    "socialmatrix <- data.matrix(read.csv(\"florentine_business.csv\", skip = 1)) #пропуск коммента в файле\n",
    "rownames(socialmatrix) <- colnames(socialmatrix)\n",
    "socialmatrix"
   ]
  },
  {
   "cell_type": "markdown",
   "metadata": {},
   "source": [
    "4. С помощью функции network была построена ненаправленная сеть. В качестве параметров функции передается матрица, выбран ее тип \"смежная\" и в качестве флага \"направленная\" был переданн FALSE"
   ]
  },
  {
   "cell_type": "code",
   "execution_count": 5,
   "metadata": {},
   "outputs": [],
   "source": [
    "library(network)\n",
    "n <- network(socialmatrix, matrix.type = \"adjacency\", directed = FALSE)"
   ]
  },
  {
   "cell_type": "markdown",
   "metadata": {},
   "source": [
    "5. Сеть была отображена двумя способами: с помощью алгоритма укладки Камада-Каваи и Фрюхтермана–Рейнгольда. Оба алгоритма относятся к силовым алгоритмам (типу интеративных алгоритмов, основанных на уменьшении общей энергии сети), но алгоритм Камада-Каваи для минимизации энергии минимизирует разницу между геом. и графовыми расстояниями, а в алгоритме Фрюхтермана–Рейнгольда вершины представляются в виде атомных частиц или небесных тел, которые оказывают друг на друга силы притяжения и отталкивания, а процессом смещения вершин (на каждой итерации алгоритма) управляет температура (чем меньше температура - тем стабильнее сеть).\n",
    "Внешне разнциа между укладками малозметна (на данном примере), однако все же видно, что в алг. К-К вершины более плотно расположены друг к другу."
   ]
  },
  {
   "cell_type": "code",
   "execution_count": 6,
   "metadata": {},
   "outputs": [
    {
     "data": {
      "image/png": "[encoded data removed]",
      "text/plain": [
       "Plot with title \"Алгоритм Камада-Каваи\""
      ]
     },
     "metadata": {},
     "output_type": "display_data"
    },
    {
     "data": {
      "image/png": "[encoded data removed]",
      "text/plain": [
       "Plot with title \"Фрюхтермана–Рейнгольда\""
      ]
     },
     "metadata": {},
     "output_type": "display_data"
    }
   ],
   "source": [
    "g <- graph_from_adjacency_matrix(socialmatrix, mode = \"undirected\")\n",
    "plot(g, layout=layout_with_kk(g), main = \"Алгоритм Камада-Каваи\")\n",
    "plot(g, layout=layout.fruchterman.reingold(g), main = \"Фрюхтермана–Рейнгольда\")"
   ]
  },
  {
   "cell_type": "markdown",
   "metadata": {},
   "source": [
    "6. Описательная сводка сети была выведена с помощью стандартной функции summary():"
   ]
  },
  {
   "cell_type": "code",
   "execution_count": 7,
   "metadata": {},
   "outputs": [
    {
     "data": {
      "text/plain": [
       "Network attributes:\n",
       "  vertices = 16\n",
       "  directed = FALSE\n",
       "  hyper = FALSE\n",
       "  loops = FALSE\n",
       "  multiple = FALSE\n",
       "  bipartite = FALSE\n",
       " total edges = 15 \n",
       "   missing edges = 0 \n",
       "   non-missing edges = 15 \n",
       " density = 0.125 \n",
       "\n",
       "Vertex attributes:\n",
       "  vertex.names:\n",
       "   character valued attribute\n",
       "   16 valid vertex names\n",
       "\n",
       "No edge attributes\n",
       "\n",
       "Network edgelist matrix:\n",
       "      [,1] [,2]\n",
       " [1,]    5    3\n",
       " [2,]    6    3\n",
       " [3,]    9    3\n",
       " [4,]   11    3\n",
       " [5,]    7    4\n",
       " [6,]    8    4\n",
       " [7,]   11    4\n",
       " [8,]    8    5\n",
       " [9,]   11    5\n",
       "[10,]    9    6\n",
       "[11,]    8    7\n",
       "[12,]   11    8\n",
       "[13,]   10    9\n",
       "[14,]   14    9\n",
       "[15,]   16    9"
      ]
     },
     "metadata": {},
     "output_type": "display_data"
    }
   ],
   "source": [
    "summary(n)"
   ]
  },
  {
   "cell_type": "markdown",
   "metadata": {},
   "source": [
    "7. Вычисление \"пятичисловой сводки\" сети:\n",
    "b) Значение плотности по формуле и с помощью функции совпали.\n",
    "c) По графику видно, что в сети 5 изолированных вершин и + одна компонента связности, итого: 5 + 1 = 6. Результат совпал с посчитанным по функции.\n",
    "d) Из графика так же видно, что наиболшее кратчайшее расстояние (диаметр) равен 5, что так же совпадает с результатом, посчитанным по функции.\n",
    "e) Коэф. кластеризации вычисляется по формуле с = close_triangles/all_triangles (где close_triangles - # закрытых треугольников, all_triangles - общее # треугольников), в данном графе раассчитано: close_triangles = 5, all_triangles = 12, тогда результат $ 5/12 = 4.1(6) $ - что совпадает с результатом функции\n"
   ]
  },
  {
   "cell_type": "code",
   "execution_count": 8,
   "metadata": {},
   "outputs": [
    {
     "name": "stdout",
     "output_type": "stream",
     "text": [
      "Размер:  16 \n",
      "Плотность по формуле:  0.125 \n",
      "Плотность, вычисленная по функцией: 0.125 \n",
      "Компоненты: 6 \n",
      "Диаметр: 5 \n",
      "Кластеризация:  0.4166667 \n"
     ]
    }
   ],
   "source": [
    "cat(\"Размер: \", gorder(g), \"\\n\")\n",
    "cat(\"Плотность по формуле: \", gsize(g)/choose(gorder(g), 2), \"\\n\")\n",
    "cat(\"Плотность, вычисленная по функцией:\",edge_density(g),\"\\n\")\n",
    "cat(\"Компоненты:\", igraph::components(g)$no, \"\\n\")\n",
    "cat(\"Диаметр:\", diameter(g), \"\\n\")\n",
    "cat(\"Кластеризация: \", transitivity(g), \"\\n\")"
   ]
  },
  {
   "cell_type": "markdown",
   "metadata": {},
   "source": [
    "8. Вычисление средней степени узлов и дисперсии:"
   ]
  },
  {
   "cell_type": "code",
   "execution_count": 9,
   "metadata": {},
   "outputs": [
    {
     "name": "stdout",
     "output_type": "stream",
     "text": [
      "Средняя степень узлов:  1.875 \n",
      "Дисперсия:  3.05 \n"
     ]
    }
   ],
   "source": [
    "cat(\"Средняя степень узлов: \", mean(igraph::degree(g)), \"\\n\")\n",
    "cat(\"Дисперсия: \", var(igraph::degree(g)), \"\\n\")"
   ]
  },
  {
   "cell_type": "markdown",
   "metadata": {},
   "source": [
    "Дисперсия довольно большая, т.к. в сети 5 изолированных вершин."
   ]
  },
  {
   "cell_type": "markdown",
   "metadata": {},
   "source": [
    "9. Таблица мер центральности (для неизолированных вершин):"
   ]
  },
  {
   "cell_type": "code",
   "execution_count": 10,
   "metadata": {
    "scrolled": true
   },
   "outputs": [
    {
     "data": {
      "text/html": [
       "<table>\n",
       "<thead><tr><th scope=col>actor</th><th scope=col>C_Degree</th><th scope=col>C_Сloseness</th><th scope=col>C_Mediation</th><th scope=col>С_Info</th></tr></thead>\n",
       "<tbody>\n",
       "\t<tr><td> 3        </td><td>0.4       </td><td>0.5882353 </td><td>0.55555556</td><td>0.12446815</td></tr>\n",
       "\t<tr><td> 4        </td><td>0.3       </td><td>0.4000000 </td><td>0.05555556</td><td>0.08898359</td></tr>\n",
       "\t<tr><td> 5        </td><td>0.3       </td><td>0.5000000 </td><td>0.11111111</td><td>0.10457651</td></tr>\n",
       "\t<tr><td> 6        </td><td>0.2       </td><td>0.4545455 </td><td>0.00000000</td><td>0.09531249</td></tr>\n",
       "\t<tr><td> 7        </td><td>0.2       </td><td>0.3125000 </td><td>0.00000000</td><td>0.07656303</td></tr>\n",
       "\t<tr><td> 8        </td><td>0.4       </td><td>0.4166667 </td><td>0.13333333</td><td>0.09837087</td></tr>\n",
       "\t<tr><td> 9        </td><td>0.5       </td><td>0.5263158 </td><td>0.53333333</td><td>0.11089878</td></tr>\n",
       "\t<tr><td>10        </td><td>0.1       </td><td>0.3571429 </td><td>0.00000000</td><td>0.06388631</td></tr>\n",
       "\t<tr><td>11        </td><td>0.4       </td><td>0.5263158 </td><td>0.30000000</td><td>0.10916767</td></tr>\n",
       "\t<tr><td>14        </td><td>0.1       </td><td>0.3571429 </td><td>0.00000000</td><td>0.06388631</td></tr>\n",
       "\t<tr><td>16        </td><td>0.1       </td><td>0.3571429 </td><td>0.00000000</td><td>0.06388631</td></tr>\n",
       "</tbody>\n",
       "</table>\n"
      ],
      "text/latex": [
       "\\begin{tabular}{r|lllll}\n",
       " actor & C\\_Degree & C\\_Сloseness & C\\_Mediation & С\\_Info\\\\\n",
       "\\hline\n",
       "\t  3         & 0.4        & 0.5882353  & 0.55555556 & 0.12446815\\\\\n",
       "\t  4         & 0.3        & 0.4000000  & 0.05555556 & 0.08898359\\\\\n",
       "\t  5         & 0.3        & 0.5000000  & 0.11111111 & 0.10457651\\\\\n",
       "\t  6         & 0.2        & 0.4545455  & 0.00000000 & 0.09531249\\\\\n",
       "\t  7         & 0.2        & 0.3125000  & 0.00000000 & 0.07656303\\\\\n",
       "\t  8         & 0.4        & 0.4166667  & 0.13333333 & 0.09837087\\\\\n",
       "\t  9         & 0.5        & 0.5263158  & 0.53333333 & 0.11089878\\\\\n",
       "\t 10         & 0.1        & 0.3571429  & 0.00000000 & 0.06388631\\\\\n",
       "\t 11         & 0.4        & 0.5263158  & 0.30000000 & 0.10916767\\\\\n",
       "\t 14         & 0.1        & 0.3571429  & 0.00000000 & 0.06388631\\\\\n",
       "\t 16         & 0.1        & 0.3571429  & 0.00000000 & 0.06388631\\\\\n",
       "\\end{tabular}\n"
      ],
      "text/markdown": [
       "\n",
       "| actor | C_Degree | C_Сloseness | C_Mediation | С_Info |\n",
       "|---|---|---|---|---|\n",
       "|  3         | 0.4        | 0.5882353  | 0.55555556 | 0.12446815 |\n",
       "|  4         | 0.3        | 0.4000000  | 0.05555556 | 0.08898359 |\n",
       "|  5         | 0.3        | 0.5000000  | 0.11111111 | 0.10457651 |\n",
       "|  6         | 0.2        | 0.4545455  | 0.00000000 | 0.09531249 |\n",
       "|  7         | 0.2        | 0.3125000  | 0.00000000 | 0.07656303 |\n",
       "|  8         | 0.4        | 0.4166667  | 0.13333333 | 0.09837087 |\n",
       "|  9         | 0.5        | 0.5263158  | 0.53333333 | 0.11089878 |\n",
       "| 10         | 0.1        | 0.3571429  | 0.00000000 | 0.06388631 |\n",
       "| 11         | 0.4        | 0.5263158  | 0.30000000 | 0.10916767 |\n",
       "| 14         | 0.1        | 0.3571429  | 0.00000000 | 0.06388631 |\n",
       "| 16         | 0.1        | 0.3571429  | 0.00000000 | 0.06388631 |\n",
       "\n"
      ],
      "text/plain": [
       "   actor C_Degree C_Сloseness C_Mediation С_Info    \n",
       "1   3    0.4      0.5882353   0.55555556  0.12446815\n",
       "2   4    0.3      0.4000000   0.05555556  0.08898359\n",
       "3   5    0.3      0.5000000   0.11111111  0.10457651\n",
       "4   6    0.2      0.4545455   0.00000000  0.09531249\n",
       "5   7    0.2      0.3125000   0.00000000  0.07656303\n",
       "6   8    0.4      0.4166667   0.13333333  0.09837087\n",
       "7   9    0.5      0.5263158   0.53333333  0.11089878\n",
       "8  10    0.1      0.3571429   0.00000000  0.06388631\n",
       "9  11    0.4      0.5263158   0.30000000  0.10916767\n",
       "10 14    0.1      0.3571429   0.00000000  0.06388631\n",
       "11 16    0.1      0.3571429   0.00000000  0.06388631"
      ]
     },
     "metadata": {},
     "output_type": "display_data"
    }
   ],
   "source": [
    "additionalGraph <- igraph::delete.vertices(g, which(igraph::degree(g) == 0))\n",
    "\n",
    "centrality <- data.frame(actor=match(V(additionalGraph)$name, V(g)$name))\n",
    "additionalNet <- network::delete.vertices(n, isolates(n))\n",
    "СInfo <- infocent(additionalNet)\n",
    "\n",
    "#По степени\n",
    "centrality$C_Degree <- igraph::degree(additionalGraph, normalized=T) \n",
    "#По близости\n",
    "centrality$C_Сloseness <- igraph::closeness(additionalGraph, normalized=T)\n",
    "#По посредничеству\n",
    "centrality$C_Mediation <- igraph::betweenness(additionalGraph, normalized=T)\n",
    "#По информации\n",
    "centrality$С_Info <- СInfo / sum(СInfo)\n",
    "\n",
    "centrality"
   ]
  },
  {
   "cell_type": "markdown",
   "metadata": {},
   "source": [
    "Каждая из центральностей по своему характеризует важность актора. Из таблицы видно, что одного актора с наибольшим значением по всем трем центральностям нет."
   ]
  },
  {
   "cell_type": "markdown",
   "metadata": {},
   "source": [
    "10. Рассчитана центральность для каждой меры:"
   ]
  },
  {
   "cell_type": "code",
   "execution_count": 11,
   "metadata": {},
   "outputs": [
    {
     "name": "stdout",
     "output_type": "stream",
     "text": [
      "По степени:  0.2272727 \n",
      "По близости:  0.3535226 \n",
      "По посреднечеству:  0.4422222 \n",
      "По информации:  0.1663254 \n"
     ]
    }
   ],
   "source": [
    "cat(\"По степени: \", centr_degree(additionalGraph)$centralization, \"\\n\")\n",
    "cat(\"По близости: \", centr_clo(additionalGraph)$centralization, \"\\n\")\n",
    "cat(\"По посреднечеству: \", centr_betw(additionalGraph)$centralization, \"\\n\")\n",
    "cat(\"По информации: \", centralization(additionalNet, infocent), \"\\n\")"
   ]
  },
  {
   "cell_type": "markdown",
   "metadata": {},
   "source": [
    "Данная сеть имеет наибольшую центральность по посредничеству и наименьшую по информации"
   ]
  },
  {
   "cell_type": "markdown",
   "metadata": {},
   "source": [
    "11. Выявление точек сочленения и мостов в данном случае можно произвести как на глаз, по графическому представению графа, так и с помощью стадартного алгоритма поиска мостов. Такие прикидки полностью совпали с результатом, представленным ниже, где:\n",
    "-Точки сочленения выделены красным\n",
    "-Мосты - синим\n",
    "-Все остальное - серым цветом"
   ]
  },
  {
   "cell_type": "code",
   "execution_count": null,
   "metadata": {},
   "outputs": [],
   "source": [
    "#Точки сочленения\n",
    "dots <- articulation_points(g) \n",
    "dots\n",
    "\n",
    "#Мосты\n",
    "bridges <- igraph::bridges(g)\n",
    "bridges\n",
    "\n",
    "V(g)$color <- \"gray\"\n",
    "V(g)$color[dots] <- \"red\"\n",
    "E(g)$color <- \"gray\"\n",
    "E(g)$color[bridges] <- \"blue\"\n",
    "\n",
    "plot(g, layout=layout_with_kk(g))"
   ]
  },
  {
   "cell_type": "markdown",
   "metadata": {},
   "source": [
    "12. Повторение пунктов 2-8 для направленной сети:\n",
    "\n",
    "12.2 Преобразование социоматрицы в список ребер и вывод первых 5:"
   ]
  },
  {
   "cell_type": "code",
   "execution_count": 33,
   "metadata": {},
   "outputs": [
    {
     "data": {
      "text/html": [
       "<table>\n",
       "<tbody>\n",
       "\t<tr><td>0  </td><td>1  </td><td>0  </td><td>1  </td><td>0  </td><td>0  </td><td>0  </td><td>1  </td><td>0  </td><td>0  </td><td>...</td><td>0  </td><td>0  </td><td>0  </td><td>0  </td><td>1  </td><td>0  </td><td>1  </td><td>0  </td><td>0  </td><td>1  </td></tr>\n",
       "\t<tr><td>0  </td><td>0  </td><td>0  </td><td>0  </td><td>0  </td><td>1  </td><td>1  </td><td>0  </td><td>0  </td><td>0  </td><td>...</td><td>0  </td><td>0  </td><td>0  </td><td>0  </td><td>0  </td><td>0  </td><td>0  </td><td>0  </td><td>0  </td><td>1  </td></tr>\n",
       "\t<tr><td>1  </td><td>1  </td><td>0  </td><td>1  </td><td>0  </td><td>1  </td><td>1  </td><td>1  </td><td>1  </td><td>1  </td><td>...</td><td>1  </td><td>0  </td><td>1  </td><td>0  </td><td>0  </td><td>1  </td><td>1  </td><td>0  </td><td>1  </td><td>1  </td></tr>\n",
       "\t<tr><td>1  </td><td>1  </td><td>0  </td><td>0  </td><td>0  </td><td>1  </td><td>0  </td><td>1  </td><td>0  </td><td>1  </td><td>...</td><td>1  </td><td>0  </td><td>0  </td><td>0  </td><td>1  </td><td>1  </td><td>1  </td><td>0  </td><td>1  </td><td>1  </td></tr>\n",
       "\t<tr><td>1  </td><td>1  </td><td>0  </td><td>0  </td><td>0  </td><td>1  </td><td>1  </td><td>1  </td><td>0  </td><td>1  </td><td>...</td><td>0  </td><td>1  </td><td>1  </td><td>0  </td><td>1  </td><td>1  </td><td>1  </td><td>1  </td><td>1  </td><td>1  </td></tr>\n",
       "\t<tr><td>0  </td><td>0  </td><td>0  </td><td>0  </td><td>0  </td><td>0  </td><td>0  </td><td>0  </td><td>0  </td><td>0  </td><td>...</td><td>0  </td><td>0  </td><td>0  </td><td>0  </td><td>0  </td><td>0  </td><td>0  </td><td>0  </td><td>0  </td><td>1  </td></tr>\n",
       "\t<tr><td>0  </td><td>1  </td><td>0  </td><td>0  </td><td>0  </td><td>1  </td><td>0  </td><td>0  </td><td>0  </td><td>0  </td><td>...</td><td>1  </td><td>0  </td><td>1  </td><td>0  </td><td>0  </td><td>1  </td><td>1  </td><td>0  </td><td>0  </td><td>1  </td></tr>\n",
       "\t<tr><td>0  </td><td>1  </td><td>0  </td><td>1  </td><td>0  </td><td>1  </td><td>1  </td><td>0  </td><td>0  </td><td>1  </td><td>...</td><td>0  </td><td>0  </td><td>0  </td><td>0  </td><td>0  </td><td>0  </td><td>1  </td><td>0  </td><td>0  </td><td>1  </td></tr>\n",
       "\t<tr><td>1  </td><td>1  </td><td>0  </td><td>0  </td><td>0  </td><td>1  </td><td>1  </td><td>1  </td><td>0  </td><td>1  </td><td>...</td><td>1  </td><td>0  </td><td>1  </td><td>0  </td><td>1  </td><td>1  </td><td>1  </td><td>0  </td><td>0  </td><td>1  </td></tr>\n",
       "\t<tr><td>1  </td><td>1  </td><td>1  </td><td>1  </td><td>1  </td><td>0  </td><td>0  </td><td>1  </td><td>0  </td><td>0  </td><td>...</td><td>0  </td><td>1  </td><td>0  </td><td>1  </td><td>1  </td><td>1  </td><td>1  </td><td>1  </td><td>1  </td><td>0  </td></tr>\n",
       "\t<tr><td>1  </td><td>1  </td><td>0  </td><td>0  </td><td>0  </td><td>0  </td><td>1  </td><td>0  </td><td>0  </td><td>0  </td><td>...</td><td>0  </td><td>0  </td><td>0  </td><td>0  </td><td>0  </td><td>0  </td><td>0  </td><td>0  </td><td>0  </td><td>0  </td></tr>\n",
       "\t<tr><td>0  </td><td>0  </td><td>0  </td><td>0  </td><td>0  </td><td>0  </td><td>1  </td><td>0  </td><td>0  </td><td>0  </td><td>...</td><td>0  </td><td>0  </td><td>0  </td><td>0  </td><td>0  </td><td>0  </td><td>0  </td><td>0  </td><td>0  </td><td>1  </td></tr>\n",
       "\t<tr><td>1  </td><td>1  </td><td>0  </td><td>0  </td><td>1  </td><td>0  </td><td>0  </td><td>0  </td><td>1  </td><td>0  </td><td>...</td><td>0  </td><td>0  </td><td>1  </td><td>0  </td><td>0  </td><td>0  </td><td>1  </td><td>0  </td><td>0  </td><td>0  </td></tr>\n",
       "\t<tr><td>0  </td><td>1  </td><td>0  </td><td>0  </td><td>0  </td><td>0  </td><td>1  </td><td>0  </td><td>0  </td><td>0  </td><td>...</td><td>0  </td><td>0  </td><td>0  </td><td>0  </td><td>0  </td><td>0  </td><td>1  </td><td>0  </td><td>0  </td><td>1  </td></tr>\n",
       "\t<tr><td>1  </td><td>1  </td><td>1  </td><td>1  </td><td>1  </td><td>1  </td><td>1  </td><td>1  </td><td>1  </td><td>1  </td><td>...</td><td>1  </td><td>1  </td><td>1  </td><td>0  </td><td>1  </td><td>1  </td><td>1  </td><td>1  </td><td>1  </td><td>1  </td></tr>\n",
       "\t<tr><td>1  </td><td>1  </td><td>0  </td><td>0  </td><td>0  </td><td>0  </td><td>0  </td><td>0  </td><td>0  </td><td>1  </td><td>...</td><td>0  </td><td>0  </td><td>0  </td><td>0  </td><td>0  </td><td>0  </td><td>1  </td><td>0  </td><td>0  </td><td>0  </td></tr>\n",
       "\t<tr><td>1  </td><td>1  </td><td>0  </td><td>1  </td><td>0  </td><td>0  </td><td>1  </td><td>0  </td><td>0  </td><td>0  </td><td>...</td><td>0  </td><td>0  </td><td>0  </td><td>0  </td><td>0  </td><td>0  </td><td>0  </td><td>0  </td><td>0  </td><td>1  </td></tr>\n",
       "\t<tr><td>1  </td><td>1  </td><td>1  </td><td>1  </td><td>1  </td><td>0  </td><td>1  </td><td>1  </td><td>1  </td><td>1  </td><td>...</td><td>0  </td><td>1  </td><td>1  </td><td>1  </td><td>1  </td><td>0  </td><td>0  </td><td>1  </td><td>1  </td><td>1  </td></tr>\n",
       "\t<tr><td>1  </td><td>1  </td><td>1  </td><td>0  </td><td>1  </td><td>0  </td><td>1  </td><td>0  </td><td>0  </td><td>1  </td><td>...</td><td>0  </td><td>0  </td><td>1  </td><td>1  </td><td>0  </td><td>0  </td><td>1  </td><td>0  </td><td>1  </td><td>0  </td></tr>\n",
       "\t<tr><td>1  </td><td>1  </td><td>0  </td><td>0  </td><td>0  </td><td>1  </td><td>0  </td><td>1  </td><td>0  </td><td>0  </td><td>...</td><td>1  </td><td>0  </td><td>1  </td><td>1  </td><td>1  </td><td>1  </td><td>1  </td><td>0  </td><td>0  </td><td>1  </td></tr>\n",
       "\t<tr><td>0  </td><td>1  </td><td>1  </td><td>1  </td><td>0  </td><td>1  </td><td>1  </td><td>1  </td><td>0  </td><td>0  </td><td>...</td><td>1  </td><td>0  </td><td>1  </td><td>0  </td><td>0  </td><td>1  </td><td>1  </td><td>0  </td><td>1  </td><td>0  </td></tr>\n",
       "</tbody>\n",
       "</table>\n"
      ],
      "text/latex": [
       "\\begin{tabular}{lllllllllllllllllllll}\n",
       "\t 0   & 1   & 0   & 1   & 0   & 0   & 0   & 1   & 0   & 0   & ... & 0   & 0   & 0   & 0   & 1   & 0   & 1   & 0   & 0   & 1  \\\\\n",
       "\t 0   & 0   & 0   & 0   & 0   & 1   & 1   & 0   & 0   & 0   & ... & 0   & 0   & 0   & 0   & 0   & 0   & 0   & 0   & 0   & 1  \\\\\n",
       "\t 1   & 1   & 0   & 1   & 0   & 1   & 1   & 1   & 1   & 1   & ... & 1   & 0   & 1   & 0   & 0   & 1   & 1   & 0   & 1   & 1  \\\\\n",
       "\t 1   & 1   & 0   & 0   & 0   & 1   & 0   & 1   & 0   & 1   & ... & 1   & 0   & 0   & 0   & 1   & 1   & 1   & 0   & 1   & 1  \\\\\n",
       "\t 1   & 1   & 0   & 0   & 0   & 1   & 1   & 1   & 0   & 1   & ... & 0   & 1   & 1   & 0   & 1   & 1   & 1   & 1   & 1   & 1  \\\\\n",
       "\t 0   & 0   & 0   & 0   & 0   & 0   & 0   & 0   & 0   & 0   & ... & 0   & 0   & 0   & 0   & 0   & 0   & 0   & 0   & 0   & 1  \\\\\n",
       "\t 0   & 1   & 0   & 0   & 0   & 1   & 0   & 0   & 0   & 0   & ... & 1   & 0   & 1   & 0   & 0   & 1   & 1   & 0   & 0   & 1  \\\\\n",
       "\t 0   & 1   & 0   & 1   & 0   & 1   & 1   & 0   & 0   & 1   & ... & 0   & 0   & 0   & 0   & 0   & 0   & 1   & 0   & 0   & 1  \\\\\n",
       "\t 1   & 1   & 0   & 0   & 0   & 1   & 1   & 1   & 0   & 1   & ... & 1   & 0   & 1   & 0   & 1   & 1   & 1   & 0   & 0   & 1  \\\\\n",
       "\t 1   & 1   & 1   & 1   & 1   & 0   & 0   & 1   & 0   & 0   & ... & 0   & 1   & 0   & 1   & 1   & 1   & 1   & 1   & 1   & 0  \\\\\n",
       "\t 1   & 1   & 0   & 0   & 0   & 0   & 1   & 0   & 0   & 0   & ... & 0   & 0   & 0   & 0   & 0   & 0   & 0   & 0   & 0   & 0  \\\\\n",
       "\t 0   & 0   & 0   & 0   & 0   & 0   & 1   & 0   & 0   & 0   & ... & 0   & 0   & 0   & 0   & 0   & 0   & 0   & 0   & 0   & 1  \\\\\n",
       "\t 1   & 1   & 0   & 0   & 1   & 0   & 0   & 0   & 1   & 0   & ... & 0   & 0   & 1   & 0   & 0   & 0   & 1   & 0   & 0   & 0  \\\\\n",
       "\t 0   & 1   & 0   & 0   & 0   & 0   & 1   & 0   & 0   & 0   & ... & 0   & 0   & 0   & 0   & 0   & 0   & 1   & 0   & 0   & 1  \\\\\n",
       "\t 1   & 1   & 1   & 1   & 1   & 1   & 1   & 1   & 1   & 1   & ... & 1   & 1   & 1   & 0   & 1   & 1   & 1   & 1   & 1   & 1  \\\\\n",
       "\t 1   & 1   & 0   & 0   & 0   & 0   & 0   & 0   & 0   & 1   & ... & 0   & 0   & 0   & 0   & 0   & 0   & 1   & 0   & 0   & 0  \\\\\n",
       "\t 1   & 1   & 0   & 1   & 0   & 0   & 1   & 0   & 0   & 0   & ... & 0   & 0   & 0   & 0   & 0   & 0   & 0   & 0   & 0   & 1  \\\\\n",
       "\t 1   & 1   & 1   & 1   & 1   & 0   & 1   & 1   & 1   & 1   & ... & 0   & 1   & 1   & 1   & 1   & 0   & 0   & 1   & 1   & 1  \\\\\n",
       "\t 1   & 1   & 1   & 0   & 1   & 0   & 1   & 0   & 0   & 1   & ... & 0   & 0   & 1   & 1   & 0   & 0   & 1   & 0   & 1   & 0  \\\\\n",
       "\t 1   & 1   & 0   & 0   & 0   & 1   & 0   & 1   & 0   & 0   & ... & 1   & 0   & 1   & 1   & 1   & 1   & 1   & 0   & 0   & 1  \\\\\n",
       "\t 0   & 1   & 1   & 1   & 0   & 1   & 1   & 1   & 0   & 0   & ... & 1   & 0   & 1   & 0   & 0   & 1   & 1   & 0   & 1   & 0  \\\\\n",
       "\\end{tabular}\n"
      ],
      "text/markdown": [
       "\n",
       "| 0   | 1   | 0   | 1   | 0   | 0   | 0   | 1   | 0   | 0   | ... | 0   | 0   | 0   | 0   | 1   | 0   | 1   | 0   | 0   | 1   |\n",
       "| 0   | 0   | 0   | 0   | 0   | 1   | 1   | 0   | 0   | 0   | ... | 0   | 0   | 0   | 0   | 0   | 0   | 0   | 0   | 0   | 1   |\n",
       "| 1   | 1   | 0   | 1   | 0   | 1   | 1   | 1   | 1   | 1   | ... | 1   | 0   | 1   | 0   | 0   | 1   | 1   | 0   | 1   | 1   |\n",
       "| 1   | 1   | 0   | 0   | 0   | 1   | 0   | 1   | 0   | 1   | ... | 1   | 0   | 0   | 0   | 1   | 1   | 1   | 0   | 1   | 1   |\n",
       "| 1   | 1   | 0   | 0   | 0   | 1   | 1   | 1   | 0   | 1   | ... | 0   | 1   | 1   | 0   | 1   | 1   | 1   | 1   | 1   | 1   |\n",
       "| 0   | 0   | 0   | 0   | 0   | 0   | 0   | 0   | 0   | 0   | ... | 0   | 0   | 0   | 0   | 0   | 0   | 0   | 0   | 0   | 1   |\n",
       "| 0   | 1   | 0   | 0   | 0   | 1   | 0   | 0   | 0   | 0   | ... | 1   | 0   | 1   | 0   | 0   | 1   | 1   | 0   | 0   | 1   |\n",
       "| 0   | 1   | 0   | 1   | 0   | 1   | 1   | 0   | 0   | 1   | ... | 0   | 0   | 0   | 0   | 0   | 0   | 1   | 0   | 0   | 1   |\n",
       "| 1   | 1   | 0   | 0   | 0   | 1   | 1   | 1   | 0   | 1   | ... | 1   | 0   | 1   | 0   | 1   | 1   | 1   | 0   | 0   | 1   |\n",
       "| 1   | 1   | 1   | 1   | 1   | 0   | 0   | 1   | 0   | 0   | ... | 0   | 1   | 0   | 1   | 1   | 1   | 1   | 1   | 1   | 0   |\n",
       "| 1   | 1   | 0   | 0   | 0   | 0   | 1   | 0   | 0   | 0   | ... | 0   | 0   | 0   | 0   | 0   | 0   | 0   | 0   | 0   | 0   |\n",
       "| 0   | 0   | 0   | 0   | 0   | 0   | 1   | 0   | 0   | 0   | ... | 0   | 0   | 0   | 0   | 0   | 0   | 0   | 0   | 0   | 1   |\n",
       "| 1   | 1   | 0   | 0   | 1   | 0   | 0   | 0   | 1   | 0   | ... | 0   | 0   | 1   | 0   | 0   | 0   | 1   | 0   | 0   | 0   |\n",
       "| 0   | 1   | 0   | 0   | 0   | 0   | 1   | 0   | 0   | 0   | ... | 0   | 0   | 0   | 0   | 0   | 0   | 1   | 0   | 0   | 1   |\n",
       "| 1   | 1   | 1   | 1   | 1   | 1   | 1   | 1   | 1   | 1   | ... | 1   | 1   | 1   | 0   | 1   | 1   | 1   | 1   | 1   | 1   |\n",
       "| 1   | 1   | 0   | 0   | 0   | 0   | 0   | 0   | 0   | 1   | ... | 0   | 0   | 0   | 0   | 0   | 0   | 1   | 0   | 0   | 0   |\n",
       "| 1   | 1   | 0   | 1   | 0   | 0   | 1   | 0   | 0   | 0   | ... | 0   | 0   | 0   | 0   | 0   | 0   | 0   | 0   | 0   | 1   |\n",
       "| 1   | 1   | 1   | 1   | 1   | 0   | 1   | 1   | 1   | 1   | ... | 0   | 1   | 1   | 1   | 1   | 0   | 0   | 1   | 1   | 1   |\n",
       "| 1   | 1   | 1   | 0   | 1   | 0   | 1   | 0   | 0   | 1   | ... | 0   | 0   | 1   | 1   | 0   | 0   | 1   | 0   | 1   | 0   |\n",
       "| 1   | 1   | 0   | 0   | 0   | 1   | 0   | 1   | 0   | 0   | ... | 1   | 0   | 1   | 1   | 1   | 1   | 1   | 0   | 0   | 1   |\n",
       "| 0   | 1   | 1   | 1   | 0   | 1   | 1   | 1   | 0   | 0   | ... | 1   | 0   | 1   | 0   | 0   | 1   | 1   | 0   | 1   | 0   |\n",
       "\n"
      ],
      "text/plain": [
       "      [,1] [,2] [,3] [,4] [,5] [,6] [,7] [,8] [,9] [,10] [,11] [,12] [,13]\n",
       " [1,] 0    1    0    1    0    0    0    1    0    0     ...   0     0    \n",
       " [2,] 0    0    0    0    0    1    1    0    0    0     ...   0     0    \n",
       " [3,] 1    1    0    1    0    1    1    1    1    1     ...   1     0    \n",
       " [4,] 1    1    0    0    0    1    0    1    0    1     ...   1     0    \n",
       " [5,] 1    1    0    0    0    1    1    1    0    1     ...   0     1    \n",
       " [6,] 0    0    0    0    0    0    0    0    0    0     ...   0     0    \n",
       " [7,] 0    1    0    0    0    1    0    0    0    0     ...   1     0    \n",
       " [8,] 0    1    0    1    0    1    1    0    0    1     ...   0     0    \n",
       " [9,] 1    1    0    0    0    1    1    1    0    1     ...   1     0    \n",
       "[10,] 1    1    1    1    1    0    0    1    0    0     ...   0     1    \n",
       "[11,] 1    1    0    0    0    0    1    0    0    0     ...   0     0    \n",
       "[12,] 0    0    0    0    0    0    1    0    0    0     ...   0     0    \n",
       "[13,] 1    1    0    0    1    0    0    0    1    0     ...   0     0    \n",
       "[14,] 0    1    0    0    0    0    1    0    0    0     ...   0     0    \n",
       "[15,] 1    1    1    1    1    1    1    1    1    1     ...   1     1    \n",
       "[16,] 1    1    0    0    0    0    0    0    0    1     ...   0     0    \n",
       "[17,] 1    1    0    1    0    0    1    0    0    0     ...   0     0    \n",
       "[18,] 1    1    1    1    1    0    1    1    1    1     ...   0     1    \n",
       "[19,] 1    1    1    0    1    0    1    0    0    1     ...   0     0    \n",
       "[20,] 1    1    0    0    0    1    0    1    0    0     ...   1     0    \n",
       "[21,] 0    1    1    1    0    1    1    1    0    0     ...   1     0    \n",
       "      [,14] [,15] [,16] [,17] [,18] [,19] [,20] [,21]\n",
       " [1,] 0     0     1     0     1     0     0     1    \n",
       " [2,] 0     0     0     0     0     0     0     1    \n",
       " [3,] 1     0     0     1     1     0     1     1    \n",
       " [4,] 0     0     1     1     1     0     1     1    \n",
       " [5,] 1     0     1     1     1     1     1     1    \n",
       " [6,] 0     0     0     0     0     0     0     1    \n",
       " [7,] 1     0     0     1     1     0     0     1    \n",
       " [8,] 0     0     0     0     1     0     0     1    \n",
       " [9,] 1     0     1     1     1     0     0     1    \n",
       "[10,] 0     1     1     1     1     1     1     0    \n",
       "[11,] 0     0     0     0     0     0     0     0    \n",
       "[12,] 0     0     0     0     0     0     0     1    \n",
       "[13,] 1     0     0     0     1     0     0     0    \n",
       "[14,] 0     0     0     0     1     0     0     1    \n",
       "[15,] 1     0     1     1     1     1     1     1    \n",
       "[16,] 0     0     0     0     1     0     0     0    \n",
       "[17,] 0     0     0     0     0     0     0     1    \n",
       "[18,] 1     1     1     0     0     1     1     1    \n",
       "[19,] 1     1     0     0     1     0     1     0    \n",
       "[20,] 1     1     1     1     1     0     0     1    \n",
       "[21,] 1     0     0     1     1     0     1     0    "
      ]
     },
     "metadata": {},
     "output_type": "display_data"
    },
    {
     "name": "stdout",
     "output_type": "stream",
     "text": [
      "[1] \"Первые 5 элементов списка ребер\"\n"
     ]
    },
    {
     "data": {
      "text/html": [
       "<table>\n",
       "<tbody>\n",
       "\t<tr><td>1 </td><td> 2</td></tr>\n",
       "\t<tr><td>1 </td><td> 4</td></tr>\n",
       "\t<tr><td>1 </td><td> 8</td></tr>\n",
       "\t<tr><td>1 </td><td>16</td></tr>\n",
       "\t<tr><td>1 </td><td>18</td></tr>\n",
       "</tbody>\n",
       "</table>\n"
      ],
      "text/latex": [
       "\\begin{tabular}{ll}\n",
       "\t 1  &  2\\\\\n",
       "\t 1  &  4\\\\\n",
       "\t 1  &  8\\\\\n",
       "\t 1  & 16\\\\\n",
       "\t 1  & 18\\\\\n",
       "\\end{tabular}\n"
      ],
      "text/markdown": [
       "\n",
       "| 1  |  2 |\n",
       "| 1  |  4 |\n",
       "| 1  |  8 |\n",
       "| 1  | 16 |\n",
       "| 1  | 18 |\n",
       "\n"
      ],
      "text/plain": [
       "     [,1] [,2]\n",
       "[1,] 1     2  \n",
       "[2,] 1     4  \n",
       "[3,] 1     8  \n",
       "[4,] 1    16  \n",
       "[5,] 1    18  "
      ]
     },
     "metadata": {},
     "output_type": "display_data"
    }
   ],
   "source": [
    "socialmatrix <- data.matrix(read.csv(\"krackhardt_advice.csv\", skip = 2, header=F, sep=\",\")) #пропуск коммента в файле\n",
    "colnames(socialmatrix) <- NULL #убраны названия столбцов\n",
    "socialmatrix\n",
    "\n",
    "print(\"Первые 5 элементов списка ребер\")\n",
    "g <- graph.adjacency(socialmatrix, mode=\"directed\") \n",
    "get.edgelist(g)[1:5, ]"
   ]
  },
  {
   "cell_type": "markdown",
   "metadata": {},
   "source": [
    "12.3 Присвоение дефолтных имен столбцам и строкам:"
   ]
  },
  {
   "cell_type": "code",
   "execution_count": 21,
   "metadata": {},
   "outputs": [
    {
     "data": {
      "text/html": [
       "<table>\n",
       "<thead><tr><th></th><th scope=col>V1</th><th scope=col>V2</th><th scope=col>V3</th><th scope=col>V4</th><th scope=col>V5</th><th scope=col>V6</th><th scope=col>V7</th><th scope=col>V8</th><th scope=col>V9</th><th scope=col>V10</th><th scope=col>...</th><th scope=col>V12</th><th scope=col>V13</th><th scope=col>V14</th><th scope=col>V15</th><th scope=col>V16</th><th scope=col>V17</th><th scope=col>V18</th><th scope=col>V19</th><th scope=col>V20</th><th scope=col>V21</th></tr></thead>\n",
       "<tbody>\n",
       "\t<tr><th scope=row>V1</th><td>0  </td><td>1  </td><td>0  </td><td>1  </td><td>0  </td><td>0  </td><td>0  </td><td>1  </td><td>0  </td><td>0  </td><td>...</td><td>0  </td><td>0  </td><td>0  </td><td>0  </td><td>1  </td><td>0  </td><td>1  </td><td>0  </td><td>0  </td><td>1  </td></tr>\n",
       "\t<tr><th scope=row>V2</th><td>0  </td><td>0  </td><td>0  </td><td>0  </td><td>0  </td><td>1  </td><td>1  </td><td>0  </td><td>0  </td><td>0  </td><td>...</td><td>0  </td><td>0  </td><td>0  </td><td>0  </td><td>0  </td><td>0  </td><td>0  </td><td>0  </td><td>0  </td><td>1  </td></tr>\n",
       "\t<tr><th scope=row>V3</th><td>1  </td><td>1  </td><td>0  </td><td>1  </td><td>0  </td><td>1  </td><td>1  </td><td>1  </td><td>1  </td><td>1  </td><td>...</td><td>1  </td><td>0  </td><td>1  </td><td>0  </td><td>0  </td><td>1  </td><td>1  </td><td>0  </td><td>1  </td><td>1  </td></tr>\n",
       "\t<tr><th scope=row>V4</th><td>1  </td><td>1  </td><td>0  </td><td>0  </td><td>0  </td><td>1  </td><td>0  </td><td>1  </td><td>0  </td><td>1  </td><td>...</td><td>1  </td><td>0  </td><td>0  </td><td>0  </td><td>1  </td><td>1  </td><td>1  </td><td>0  </td><td>1  </td><td>1  </td></tr>\n",
       "\t<tr><th scope=row>V5</th><td>1  </td><td>1  </td><td>0  </td><td>0  </td><td>0  </td><td>1  </td><td>1  </td><td>1  </td><td>0  </td><td>1  </td><td>...</td><td>0  </td><td>1  </td><td>1  </td><td>0  </td><td>1  </td><td>1  </td><td>1  </td><td>1  </td><td>1  </td><td>1  </td></tr>\n",
       "\t<tr><th scope=row>V6</th><td>0  </td><td>0  </td><td>0  </td><td>0  </td><td>0  </td><td>0  </td><td>0  </td><td>0  </td><td>0  </td><td>0  </td><td>...</td><td>0  </td><td>0  </td><td>0  </td><td>0  </td><td>0  </td><td>0  </td><td>0  </td><td>0  </td><td>0  </td><td>1  </td></tr>\n",
       "\t<tr><th scope=row>V7</th><td>0  </td><td>1  </td><td>0  </td><td>0  </td><td>0  </td><td>1  </td><td>0  </td><td>0  </td><td>0  </td><td>0  </td><td>...</td><td>1  </td><td>0  </td><td>1  </td><td>0  </td><td>0  </td><td>1  </td><td>1  </td><td>0  </td><td>0  </td><td>1  </td></tr>\n",
       "\t<tr><th scope=row>V8</th><td>0  </td><td>1  </td><td>0  </td><td>1  </td><td>0  </td><td>1  </td><td>1  </td><td>0  </td><td>0  </td><td>1  </td><td>...</td><td>0  </td><td>0  </td><td>0  </td><td>0  </td><td>0  </td><td>0  </td><td>1  </td><td>0  </td><td>0  </td><td>1  </td></tr>\n",
       "\t<tr><th scope=row>V9</th><td>1  </td><td>1  </td><td>0  </td><td>0  </td><td>0  </td><td>1  </td><td>1  </td><td>1  </td><td>0  </td><td>1  </td><td>...</td><td>1  </td><td>0  </td><td>1  </td><td>0  </td><td>1  </td><td>1  </td><td>1  </td><td>0  </td><td>0  </td><td>1  </td></tr>\n",
       "\t<tr><th scope=row>V10</th><td>1  </td><td>1  </td><td>1  </td><td>1  </td><td>1  </td><td>0  </td><td>0  </td><td>1  </td><td>0  </td><td>0  </td><td>...</td><td>0  </td><td>1  </td><td>0  </td><td>1  </td><td>1  </td><td>1  </td><td>1  </td><td>1  </td><td>1  </td><td>0  </td></tr>\n",
       "\t<tr><th scope=row>V11</th><td>1  </td><td>1  </td><td>0  </td><td>0  </td><td>0  </td><td>0  </td><td>1  </td><td>0  </td><td>0  </td><td>0  </td><td>...</td><td>0  </td><td>0  </td><td>0  </td><td>0  </td><td>0  </td><td>0  </td><td>0  </td><td>0  </td><td>0  </td><td>0  </td></tr>\n",
       "\t<tr><th scope=row>V12</th><td>0  </td><td>0  </td><td>0  </td><td>0  </td><td>0  </td><td>0  </td><td>1  </td><td>0  </td><td>0  </td><td>0  </td><td>...</td><td>0  </td><td>0  </td><td>0  </td><td>0  </td><td>0  </td><td>0  </td><td>0  </td><td>0  </td><td>0  </td><td>1  </td></tr>\n",
       "\t<tr><th scope=row>V13</th><td>1  </td><td>1  </td><td>0  </td><td>0  </td><td>1  </td><td>0  </td><td>0  </td><td>0  </td><td>1  </td><td>0  </td><td>...</td><td>0  </td><td>0  </td><td>1  </td><td>0  </td><td>0  </td><td>0  </td><td>1  </td><td>0  </td><td>0  </td><td>0  </td></tr>\n",
       "\t<tr><th scope=row>V14</th><td>0  </td><td>1  </td><td>0  </td><td>0  </td><td>0  </td><td>0  </td><td>1  </td><td>0  </td><td>0  </td><td>0  </td><td>...</td><td>0  </td><td>0  </td><td>0  </td><td>0  </td><td>0  </td><td>0  </td><td>1  </td><td>0  </td><td>0  </td><td>1  </td></tr>\n",
       "\t<tr><th scope=row>V15</th><td>1  </td><td>1  </td><td>1  </td><td>1  </td><td>1  </td><td>1  </td><td>1  </td><td>1  </td><td>1  </td><td>1  </td><td>...</td><td>1  </td><td>1  </td><td>1  </td><td>0  </td><td>1  </td><td>1  </td><td>1  </td><td>1  </td><td>1  </td><td>1  </td></tr>\n",
       "\t<tr><th scope=row>V16</th><td>1  </td><td>1  </td><td>0  </td><td>0  </td><td>0  </td><td>0  </td><td>0  </td><td>0  </td><td>0  </td><td>1  </td><td>...</td><td>0  </td><td>0  </td><td>0  </td><td>0  </td><td>0  </td><td>0  </td><td>1  </td><td>0  </td><td>0  </td><td>0  </td></tr>\n",
       "\t<tr><th scope=row>V17</th><td>1  </td><td>1  </td><td>0  </td><td>1  </td><td>0  </td><td>0  </td><td>1  </td><td>0  </td><td>0  </td><td>0  </td><td>...</td><td>0  </td><td>0  </td><td>0  </td><td>0  </td><td>0  </td><td>0  </td><td>0  </td><td>0  </td><td>0  </td><td>1  </td></tr>\n",
       "\t<tr><th scope=row>V18</th><td>1  </td><td>1  </td><td>1  </td><td>1  </td><td>1  </td><td>0  </td><td>1  </td><td>1  </td><td>1  </td><td>1  </td><td>...</td><td>0  </td><td>1  </td><td>1  </td><td>1  </td><td>1  </td><td>0  </td><td>0  </td><td>1  </td><td>1  </td><td>1  </td></tr>\n",
       "\t<tr><th scope=row>V19</th><td>1  </td><td>1  </td><td>1  </td><td>0  </td><td>1  </td><td>0  </td><td>1  </td><td>0  </td><td>0  </td><td>1  </td><td>...</td><td>0  </td><td>0  </td><td>1  </td><td>1  </td><td>0  </td><td>0  </td><td>1  </td><td>0  </td><td>1  </td><td>0  </td></tr>\n",
       "\t<tr><th scope=row>V20</th><td>1  </td><td>1  </td><td>0  </td><td>0  </td><td>0  </td><td>1  </td><td>0  </td><td>1  </td><td>0  </td><td>0  </td><td>...</td><td>1  </td><td>0  </td><td>1  </td><td>1  </td><td>1  </td><td>1  </td><td>1  </td><td>0  </td><td>0  </td><td>1  </td></tr>\n",
       "\t<tr><th scope=row>V21</th><td>0  </td><td>1  </td><td>1  </td><td>1  </td><td>0  </td><td>1  </td><td>1  </td><td>1  </td><td>0  </td><td>0  </td><td>...</td><td>1  </td><td>0  </td><td>1  </td><td>0  </td><td>0  </td><td>1  </td><td>1  </td><td>0  </td><td>1  </td><td>0  </td></tr>\n",
       "</tbody>\n",
       "</table>\n"
      ],
      "text/latex": [
       "\\begin{tabular}{r|lllllllllllllllllllll}\n",
       "  & V1 & V2 & V3 & V4 & V5 & V6 & V7 & V8 & V9 & V10 & ... & V12 & V13 & V14 & V15 & V16 & V17 & V18 & V19 & V20 & V21\\\\\n",
       "\\hline\n",
       "\tV1 & 0   & 1   & 0   & 1   & 0   & 0   & 0   & 1   & 0   & 0   & ... & 0   & 0   & 0   & 0   & 1   & 0   & 1   & 0   & 0   & 1  \\\\\n",
       "\tV2 & 0   & 0   & 0   & 0   & 0   & 1   & 1   & 0   & 0   & 0   & ... & 0   & 0   & 0   & 0   & 0   & 0   & 0   & 0   & 0   & 1  \\\\\n",
       "\tV3 & 1   & 1   & 0   & 1   & 0   & 1   & 1   & 1   & 1   & 1   & ... & 1   & 0   & 1   & 0   & 0   & 1   & 1   & 0   & 1   & 1  \\\\\n",
       "\tV4 & 1   & 1   & 0   & 0   & 0   & 1   & 0   & 1   & 0   & 1   & ... & 1   & 0   & 0   & 0   & 1   & 1   & 1   & 0   & 1   & 1  \\\\\n",
       "\tV5 & 1   & 1   & 0   & 0   & 0   & 1   & 1   & 1   & 0   & 1   & ... & 0   & 1   & 1   & 0   & 1   & 1   & 1   & 1   & 1   & 1  \\\\\n",
       "\tV6 & 0   & 0   & 0   & 0   & 0   & 0   & 0   & 0   & 0   & 0   & ... & 0   & 0   & 0   & 0   & 0   & 0   & 0   & 0   & 0   & 1  \\\\\n",
       "\tV7 & 0   & 1   & 0   & 0   & 0   & 1   & 0   & 0   & 0   & 0   & ... & 1   & 0   & 1   & 0   & 0   & 1   & 1   & 0   & 0   & 1  \\\\\n",
       "\tV8 & 0   & 1   & 0   & 1   & 0   & 1   & 1   & 0   & 0   & 1   & ... & 0   & 0   & 0   & 0   & 0   & 0   & 1   & 0   & 0   & 1  \\\\\n",
       "\tV9 & 1   & 1   & 0   & 0   & 0   & 1   & 1   & 1   & 0   & 1   & ... & 1   & 0   & 1   & 0   & 1   & 1   & 1   & 0   & 0   & 1  \\\\\n",
       "\tV10 & 1   & 1   & 1   & 1   & 1   & 0   & 0   & 1   & 0   & 0   & ... & 0   & 1   & 0   & 1   & 1   & 1   & 1   & 1   & 1   & 0  \\\\\n",
       "\tV11 & 1   & 1   & 0   & 0   & 0   & 0   & 1   & 0   & 0   & 0   & ... & 0   & 0   & 0   & 0   & 0   & 0   & 0   & 0   & 0   & 0  \\\\\n",
       "\tV12 & 0   & 0   & 0   & 0   & 0   & 0   & 1   & 0   & 0   & 0   & ... & 0   & 0   & 0   & 0   & 0   & 0   & 0   & 0   & 0   & 1  \\\\\n",
       "\tV13 & 1   & 1   & 0   & 0   & 1   & 0   & 0   & 0   & 1   & 0   & ... & 0   & 0   & 1   & 0   & 0   & 0   & 1   & 0   & 0   & 0  \\\\\n",
       "\tV14 & 0   & 1   & 0   & 0   & 0   & 0   & 1   & 0   & 0   & 0   & ... & 0   & 0   & 0   & 0   & 0   & 0   & 1   & 0   & 0   & 1  \\\\\n",
       "\tV15 & 1   & 1   & 1   & 1   & 1   & 1   & 1   & 1   & 1   & 1   & ... & 1   & 1   & 1   & 0   & 1   & 1   & 1   & 1   & 1   & 1  \\\\\n",
       "\tV16 & 1   & 1   & 0   & 0   & 0   & 0   & 0   & 0   & 0   & 1   & ... & 0   & 0   & 0   & 0   & 0   & 0   & 1   & 0   & 0   & 0  \\\\\n",
       "\tV17 & 1   & 1   & 0   & 1   & 0   & 0   & 1   & 0   & 0   & 0   & ... & 0   & 0   & 0   & 0   & 0   & 0   & 0   & 0   & 0   & 1  \\\\\n",
       "\tV18 & 1   & 1   & 1   & 1   & 1   & 0   & 1   & 1   & 1   & 1   & ... & 0   & 1   & 1   & 1   & 1   & 0   & 0   & 1   & 1   & 1  \\\\\n",
       "\tV19 & 1   & 1   & 1   & 0   & 1   & 0   & 1   & 0   & 0   & 1   & ... & 0   & 0   & 1   & 1   & 0   & 0   & 1   & 0   & 1   & 0  \\\\\n",
       "\tV20 & 1   & 1   & 0   & 0   & 0   & 1   & 0   & 1   & 0   & 0   & ... & 1   & 0   & 1   & 1   & 1   & 1   & 1   & 0   & 0   & 1  \\\\\n",
       "\tV21 & 0   & 1   & 1   & 1   & 0   & 1   & 1   & 1   & 0   & 0   & ... & 1   & 0   & 1   & 0   & 0   & 1   & 1   & 0   & 1   & 0  \\\\\n",
       "\\end{tabular}\n"
      ],
      "text/markdown": [
       "\n",
       "| <!--/--> | V1 | V2 | V3 | V4 | V5 | V6 | V7 | V8 | V9 | V10 | ... | V12 | V13 | V14 | V15 | V16 | V17 | V18 | V19 | V20 | V21 |\n",
       "|---|---|---|---|---|---|---|---|---|---|---|---|---|---|---|---|---|---|---|---|---|---|\n",
       "| V1 | 0   | 1   | 0   | 1   | 0   | 0   | 0   | 1   | 0   | 0   | ... | 0   | 0   | 0   | 0   | 1   | 0   | 1   | 0   | 0   | 1   |\n",
       "| V2 | 0   | 0   | 0   | 0   | 0   | 1   | 1   | 0   | 0   | 0   | ... | 0   | 0   | 0   | 0   | 0   | 0   | 0   | 0   | 0   | 1   |\n",
       "| V3 | 1   | 1   | 0   | 1   | 0   | 1   | 1   | 1   | 1   | 1   | ... | 1   | 0   | 1   | 0   | 0   | 1   | 1   | 0   | 1   | 1   |\n",
       "| V4 | 1   | 1   | 0   | 0   | 0   | 1   | 0   | 1   | 0   | 1   | ... | 1   | 0   | 0   | 0   | 1   | 1   | 1   | 0   | 1   | 1   |\n",
       "| V5 | 1   | 1   | 0   | 0   | 0   | 1   | 1   | 1   | 0   | 1   | ... | 0   | 1   | 1   | 0   | 1   | 1   | 1   | 1   | 1   | 1   |\n",
       "| V6 | 0   | 0   | 0   | 0   | 0   | 0   | 0   | 0   | 0   | 0   | ... | 0   | 0   | 0   | 0   | 0   | 0   | 0   | 0   | 0   | 1   |\n",
       "| V7 | 0   | 1   | 0   | 0   | 0   | 1   | 0   | 0   | 0   | 0   | ... | 1   | 0   | 1   | 0   | 0   | 1   | 1   | 0   | 0   | 1   |\n",
       "| V8 | 0   | 1   | 0   | 1   | 0   | 1   | 1   | 0   | 0   | 1   | ... | 0   | 0   | 0   | 0   | 0   | 0   | 1   | 0   | 0   | 1   |\n",
       "| V9 | 1   | 1   | 0   | 0   | 0   | 1   | 1   | 1   | 0   | 1   | ... | 1   | 0   | 1   | 0   | 1   | 1   | 1   | 0   | 0   | 1   |\n",
       "| V10 | 1   | 1   | 1   | 1   | 1   | 0   | 0   | 1   | 0   | 0   | ... | 0   | 1   | 0   | 1   | 1   | 1   | 1   | 1   | 1   | 0   |\n",
       "| V11 | 1   | 1   | 0   | 0   | 0   | 0   | 1   | 0   | 0   | 0   | ... | 0   | 0   | 0   | 0   | 0   | 0   | 0   | 0   | 0   | 0   |\n",
       "| V12 | 0   | 0   | 0   | 0   | 0   | 0   | 1   | 0   | 0   | 0   | ... | 0   | 0   | 0   | 0   | 0   | 0   | 0   | 0   | 0   | 1   |\n",
       "| V13 | 1   | 1   | 0   | 0   | 1   | 0   | 0   | 0   | 1   | 0   | ... | 0   | 0   | 1   | 0   | 0   | 0   | 1   | 0   | 0   | 0   |\n",
       "| V14 | 0   | 1   | 0   | 0   | 0   | 0   | 1   | 0   | 0   | 0   | ... | 0   | 0   | 0   | 0   | 0   | 0   | 1   | 0   | 0   | 1   |\n",
       "| V15 | 1   | 1   | 1   | 1   | 1   | 1   | 1   | 1   | 1   | 1   | ... | 1   | 1   | 1   | 0   | 1   | 1   | 1   | 1   | 1   | 1   |\n",
       "| V16 | 1   | 1   | 0   | 0   | 0   | 0   | 0   | 0   | 0   | 1   | ... | 0   | 0   | 0   | 0   | 0   | 0   | 1   | 0   | 0   | 0   |\n",
       "| V17 | 1   | 1   | 0   | 1   | 0   | 0   | 1   | 0   | 0   | 0   | ... | 0   | 0   | 0   | 0   | 0   | 0   | 0   | 0   | 0   | 1   |\n",
       "| V18 | 1   | 1   | 1   | 1   | 1   | 0   | 1   | 1   | 1   | 1   | ... | 0   | 1   | 1   | 1   | 1   | 0   | 0   | 1   | 1   | 1   |\n",
       "| V19 | 1   | 1   | 1   | 0   | 1   | 0   | 1   | 0   | 0   | 1   | ... | 0   | 0   | 1   | 1   | 0   | 0   | 1   | 0   | 1   | 0   |\n",
       "| V20 | 1   | 1   | 0   | 0   | 0   | 1   | 0   | 1   | 0   | 0   | ... | 1   | 0   | 1   | 1   | 1   | 1   | 1   | 0   | 0   | 1   |\n",
       "| V21 | 0   | 1   | 1   | 1   | 0   | 1   | 1   | 1   | 0   | 0   | ... | 1   | 0   | 1   | 0   | 0   | 1   | 1   | 0   | 1   | 0   |\n",
       "\n"
      ],
      "text/plain": [
       "    V1 V2 V3 V4 V5 V6 V7 V8 V9 V10 ... V12 V13 V14 V15 V16 V17 V18 V19 V20 V21\n",
       "V1  0  1  0  1  0  0  0  1  0  0   ... 0   0   0   0   1   0   1   0   0   1  \n",
       "V2  0  0  0  0  0  1  1  0  0  0   ... 0   0   0   0   0   0   0   0   0   1  \n",
       "V3  1  1  0  1  0  1  1  1  1  1   ... 1   0   1   0   0   1   1   0   1   1  \n",
       "V4  1  1  0  0  0  1  0  1  0  1   ... 1   0   0   0   1   1   1   0   1   1  \n",
       "V5  1  1  0  0  0  1  1  1  0  1   ... 0   1   1   0   1   1   1   1   1   1  \n",
       "V6  0  0  0  0  0  0  0  0  0  0   ... 0   0   0   0   0   0   0   0   0   1  \n",
       "V7  0  1  0  0  0  1  0  0  0  0   ... 1   0   1   0   0   1   1   0   0   1  \n",
       "V8  0  1  0  1  0  1  1  0  0  1   ... 0   0   0   0   0   0   1   0   0   1  \n",
       "V9  1  1  0  0  0  1  1  1  0  1   ... 1   0   1   0   1   1   1   0   0   1  \n",
       "V10 1  1  1  1  1  0  0  1  0  0   ... 0   1   0   1   1   1   1   1   1   0  \n",
       "V11 1  1  0  0  0  0  1  0  0  0   ... 0   0   0   0   0   0   0   0   0   0  \n",
       "V12 0  0  0  0  0  0  1  0  0  0   ... 0   0   0   0   0   0   0   0   0   1  \n",
       "V13 1  1  0  0  1  0  0  0  1  0   ... 0   0   1   0   0   0   1   0   0   0  \n",
       "V14 0  1  0  0  0  0  1  0  0  0   ... 0   0   0   0   0   0   1   0   0   1  \n",
       "V15 1  1  1  1  1  1  1  1  1  1   ... 1   1   1   0   1   1   1   1   1   1  \n",
       "V16 1  1  0  0  0  0  0  0  0  1   ... 0   0   0   0   0   0   1   0   0   0  \n",
       "V17 1  1  0  1  0  0  1  0  0  0   ... 0   0   0   0   0   0   0   0   0   1  \n",
       "V18 1  1  1  1  1  0  1  1  1  1   ... 0   1   1   1   1   0   0   1   1   1  \n",
       "V19 1  1  1  0  1  0  1  0  0  1   ... 0   0   1   1   0   0   1   0   1   0  \n",
       "V20 1  1  0  0  0  1  0  1  0  0   ... 1   0   1   1   1   1   1   0   0   1  \n",
       "V21 0  1  1  1  0  1  1  1  0  0   ... 1   0   1   0   0   1   1   0   1   0  "
      ]
     },
     "metadata": {},
     "output_type": "display_data"
    }
   ],
   "source": [
    "socialmatrix <- data.matrix(read.csv(\"krackhardt_advice.csv\", skip = 2, header=F, sep=\",\")) #пропуск коммента в файле\n",
    "rownames(socialmatrix) <- colnames(socialmatrix)\n",
    "socialmatrix"
   ]
  },
  {
   "cell_type": "markdown",
   "metadata": {},
   "source": [
    "12.4. Построение сети. В функцию переданы параметры: socialmatrix - сама соц.матрица, matrix.type = \"adjacency\" - о том, что это матрица смежности, directed = T - о том, что это направленная сеть"
   ]
  },
  {
   "cell_type": "code",
   "execution_count": 24,
   "metadata": {},
   "outputs": [],
   "source": [
    "n <- network(socialmatrix, matrix.type = \"adjacency\", directed = T)"
   ]
  },
  {
   "cell_type": "markdown",
   "metadata": {},
   "source": [
    "12.5. Разница алгоритмов описана в 5 пункте, а так же информацию об этом можно найти в теоретических положениях."
   ]
  },
  {
   "cell_type": "code",
   "execution_count": 22,
   "metadata": {},
   "outputs": [
    {
     "data": {
      "image/png": "[encoded data removed]",
      "text/plain": [
       "Plot with title \"Алгоритм Камада-Каваи\""
      ]
     },
     "metadata": {},
     "output_type": "display_data"
    },
    {
     "data": {
      "image/png": "[encoded data removed]",
      "text/plain": [
       "Plot with title \"Фрюхтермана–Рейнгольда\""
      ]
     },
     "metadata": {},
     "output_type": "display_data"
    }
   ],
   "source": [
    "g <- graph_from_adjacency_matrix(socialmatrix, mode = \"undirected\")\n",
    "plot(g, layout=layout_with_kk(g), main = \"Алгоритм Камада-Каваи\")\n",
    "plot(g, layout=layout.fruchterman.reingold(g), main = \"Фрюхтермана–Рейнгольда\")"
   ]
  },
  {
   "cell_type": "markdown",
   "metadata": {},
   "source": [
    "12.6. Описательная сводка сети:"
   ]
  },
  {
   "cell_type": "code",
   "execution_count": 25,
   "metadata": {},
   "outputs": [
    {
     "data": {
      "text/plain": [
       "Network attributes:\n",
       "  vertices = 21\n",
       "  directed = TRUE\n",
       "  hyper = FALSE\n",
       "  loops = FALSE\n",
       "  multiple = FALSE\n",
       "  bipartite = FALSE\n",
       " total edges = 190 \n",
       "   missing edges = 0 \n",
       "   non-missing edges = 190 \n",
       " density = 0.452381 \n",
       "\n",
       "Vertex attributes:\n",
       "  vertex.names:\n",
       "   character valued attribute\n",
       "   21 valid vertex names\n",
       "\n",
       "No edge attributes\n",
       "\n",
       "Network edgelist matrix:\n",
       "       [,1] [,2]\n",
       "  [1,]    3    1\n",
       "  [2,]    4    1\n",
       "  [3,]    5    1\n",
       "  [4,]    9    1\n",
       "  [5,]   10    1\n",
       "  [6,]   11    1\n",
       "  [7,]   13    1\n",
       "  [8,]   15    1\n",
       "  [9,]   16    1\n",
       " [10,]   17    1\n",
       " [11,]   18    1\n",
       " [12,]   19    1\n",
       " [13,]   20    1\n",
       " [14,]    1    2\n",
       " [15,]    3    2\n",
       " [16,]    4    2\n",
       " [17,]    5    2\n",
       " [18,]    7    2\n",
       " [19,]    8    2\n",
       " [20,]    9    2\n",
       " [21,]   10    2\n",
       " [22,]   11    2\n",
       " [23,]   13    2\n",
       " [24,]   14    2\n",
       " [25,]   15    2\n",
       " [26,]   16    2\n",
       " [27,]   17    2\n",
       " [28,]   18    2\n",
       " [29,]   19    2\n",
       " [30,]   20    2\n",
       " [31,]   21    2\n",
       " [32,]   10    3\n",
       " [33,]   15    3\n",
       " [34,]   18    3\n",
       " [35,]   19    3\n",
       " [36,]   21    3\n",
       " [37,]    1    4\n",
       " [38,]    3    4\n",
       " [39,]    8    4\n",
       " [40,]   10    4\n",
       " [41,]   15    4\n",
       " [42,]   17    4\n",
       " [43,]   18    4\n",
       " [44,]   21    4\n",
       " [45,]   10    5\n",
       " [46,]   13    5\n",
       " [47,]   15    5\n",
       " [48,]   18    5\n",
       " [49,]   19    5\n",
       " [50,]    2    6\n",
       " [51,]    3    6\n",
       " [52,]    4    6\n",
       " [53,]    5    6\n",
       " [54,]    7    6\n",
       " [55,]    8    6\n",
       " [56,]    9    6\n",
       " [57,]   15    6\n",
       " [58,]   20    6\n",
       " [59,]   21    6\n",
       " [60,]    2    7\n",
       " [61,]    3    7\n",
       " [62,]    5    7\n",
       " [63,]    8    7\n",
       " [64,]    9    7\n",
       " [65,]   11    7\n",
       " [66,]   12    7\n",
       " [67,]   14    7\n",
       " [68,]   15    7\n",
       " [69,]   17    7\n",
       " [70,]   18    7\n",
       " [71,]   19    7\n",
       " [72,]   21    7\n",
       " [73,]    1    8\n",
       " [74,]    3    8\n",
       " [75,]    4    8\n",
       " [76,]    5    8\n",
       " [77,]    9    8\n",
       " [78,]   10    8\n",
       " [79,]   15    8\n",
       " [80,]   18    8\n",
       " [81,]   20    8\n",
       " [82,]   21    8\n",
       " [83,]    3    9\n",
       " [84,]   13    9\n",
       " [85,]   15    9\n",
       " [86,]   18    9\n",
       " [87,]    3   10\n",
       " [88,]    4   10\n",
       " [89,]    5   10\n",
       " [90,]    8   10\n",
       " [91,]    9   10\n",
       " [92,]   15   10\n",
       " [93,]   16   10\n",
       " [94,]   18   10\n",
       " [95,]   19   10\n",
       " [96,]    3   11\n",
       " [97,]    4   11\n",
       " [98,]    5   11\n",
       " [99,]    7   11\n",
       "[100,]    8   11\n",
       "[101,]    9   11\n",
       "[102,]   10   11\n",
       "[103,]   15   11\n",
       "[104,]   18   11\n",
       "[105,]   19   11\n",
       "[106,]   20   11\n",
       "[107,]    3   12\n",
       "[108,]    4   12\n",
       "[109,]    7   12\n",
       "[110,]    9   12\n",
       "[111,]   15   12\n",
       "[112,]   20   12\n",
       "[113,]   21   12\n",
       "[114,]    5   13\n",
       "[115,]   10   13\n",
       "[116,]   15   13\n",
       "[117,]   18   13\n",
       "[118,]    3   14\n",
       "[119,]    5   14\n",
       "[120,]    7   14\n",
       "[121,]    9   14\n",
       "[122,]   13   14\n",
       "[123,]   15   14\n",
       "[124,]   18   14\n",
       "[125,]   19   14\n",
       "[126,]   20   14\n",
       "[127,]   21   14\n",
       "[128,]   10   15\n",
       "[129,]   18   15\n",
       "[130,]   19   15\n",
       "[131,]   20   15\n",
       "[132,]    1   16\n",
       "[133,]    4   16\n",
       "[134,]    5   16\n",
       "[135,]    9   16\n",
       "[136,]   10   16\n",
       "[137,]   15   16\n",
       "[138,]   18   16\n",
       "[139,]   20   16\n",
       "[140,]    3   17\n",
       "[141,]    4   17\n",
       "[142,]    5   17\n",
       "[143,]    7   17\n",
       "[144,]    9   17\n",
       "[145,]   10   17\n",
       "[146,]   15   17\n",
       "[147,]   20   17\n",
       "[148,]   21   17\n",
       "[149,]    1   18\n",
       "[150,]    3   18\n",
       "[151,]    4   18\n",
       "[152,]    5   18\n",
       "[153,]    7   18\n",
       "[154,]    8   18\n",
       "[155,]    9   18\n",
       "[156,]   10   18\n",
       "[157,]   13   18\n",
       "[158,]   14   18\n",
       "[159,]   15   18\n",
       "[160,]   16   18\n",
       "[161,]   19   18\n",
       "[162,]   20   18\n",
       "[163,]   21   18\n",
       "[164,]    5   19\n",
       "[165,]   10   19\n",
       "[166,]   15   19\n",
       "[167,]   18   19\n",
       "[168,]    3   20\n",
       "[169,]    4   20\n",
       "[170,]    5   20\n",
       "[171,]   10   20\n",
       "[172,]   15   20\n",
       "[173,]   18   20\n",
       "[174,]   19   20\n",
       "[175,]   21   20\n",
       "[176,]    1   21\n",
       "[177,]    2   21\n",
       "[178,]    3   21\n",
       "[179,]    4   21\n",
       "[180,]    5   21\n",
       "[181,]    6   21\n",
       "[182,]    7   21\n",
       "[183,]    8   21\n",
       "[184,]    9   21\n",
       "[185,]   12   21\n",
       "[186,]   14   21\n",
       "[187,]   15   21\n",
       "[188,]   17   21\n",
       "[189,]   18   21\n",
       "[190,]   20   21"
      ]
     },
     "metadata": {},
     "output_type": "display_data"
    }
   ],
   "source": [
    "summary(n)"
   ]
  },
  {
   "cell_type": "markdown",
   "metadata": {},
   "source": [
    "12.7. Вычисление пятичисловой сводки:"
   ]
  },
  {
   "cell_type": "code",
   "execution_count": 26,
   "metadata": {},
   "outputs": [
    {
     "name": "stdout",
     "output_type": "stream",
     "text": [
      "Размер:  21 \n",
      "Плотность по формуле:  0.6904762 \n",
      "Плотность, вычисленная по функцией: 0.6904762 \n",
      "Компоненты: 1 \n",
      "Диаметр: 2 \n",
      "Кластеризация:  0.7345088 \n"
     ]
    }
   ],
   "source": [
    "cat(\"Размер: \", gorder(g), \"\\n\")\n",
    "cat(\"Плотность по формуле: \", gsize(g)/choose(gorder(g), 2), \"\\n\")\n",
    "cat(\"Плотность, вычисленная по функцией:\",edge_density(g),\"\\n\")\n",
    "cat(\"Компоненты:\", igraph::components(g)$no, \"\\n\")\n",
    "cat(\"Диаметр:\", diameter(g), \"\\n\")\n",
    "cat(\"Кластеризация: \", transitivity(g), \"\\n\")"
   ]
  },
  {
   "cell_type": "markdown",
   "metadata": {},
   "source": [
    "12.8. В отличии от п.8 для направленной сети степень и дисперсия будут иметь два значения, для входящих и исходящих ребер"
   ]
  },
  {
   "cell_type": "code",
   "execution_count": 27,
   "metadata": {},
   "outputs": [
    {
     "name": "stdout",
     "output_type": "stream",
     "text": [
      "Средняя степень узлов (учет входящих ребер)  13.80952 \n",
      "Средняя степень узлов (учет исходящих ребер)  13.80952 \n",
      "Дисперсия (учет входящих ребер)  12.7619 \n",
      "Дисперсия (учет исходящих ребер) :  12.7619 \n"
     ]
    }
   ],
   "source": [
    "cat(\"Средняя степень узлов (учет входящих ребер) \", mean(igraph::degree(g, mode=\"in\")), \"\\n\")\n",
    "cat(\"Средняя степень узлов (учет исходящих ребер) \", mean(igraph::degree(g, mode=\"out\")), \"\\n\")\n",
    "cat(\"Дисперсия (учет входящих ребер) \", var(igraph::degree(g, mode=\"in\")), \"\\n\")\n",
    "cat(\"Дисперсия (учет исходящих ребер) : \", var(igraph::degree(g, mode=\"out\")), \"\\n\")"
   ]
  },
  {
   "cell_type": "markdown",
   "metadata": {},
   "source": [
    "13. Для расчета престижа была использована функция prestige. Результаты представлены в виде таблицы:"
   ]
  },
  {
   "cell_type": "code",
   "execution_count": null,
   "metadata": {},
   "outputs": [],
   "source": [
    "prestige <- data.frame(aktor = 1:gorder(g))\n",
    "prestige$P_Degree <- prestige(n, cmode = \"indegree\") / (gorder(g) - 1)  #Престиж по степени\n",
    "prestige$P_Сloseness <- prestige(n, cmode = \"domain.proximity\") / (gorder(g) - 1) #Престиж по близости\n",
    "prestige"
   ]
  },
  {
   "cell_type": "markdown",
   "metadata": {},
   "source": [
    "Из рассчетов видно, что наиболее ценный актор по престижу, как по степени актора (0.90) так и по близости к нему по расстоянию\n",
    "(0.0(45)) - актор под номером 2"
   ]
  },
  {
   "cell_type": "markdown",
   "metadata": {},
   "source": [
    "## Выводы\n",
    "\n",
    "В ходе выполнения практической работы были закреплены основные понятия и формулы из дисциплины \"Теория и анализ сетей\", изучены методы работы, анализа и визуализации сетей с помощью языка R."
   ]
  }
 ],
 "metadata": {
  "kernelspec": {
   "display_name": "R",
   "language": "R",
   "name": "ir"
  },
  "language_info": {
   "codemirror_mode": "r",
   "file_extension": ".r",
   "mimetype": "text/x-r-source",
   "name": "R",
   "pygments_lexer": "r",
   "version": "3.6.1"
  }
 },
 "nbformat": 4,
 "nbformat_minor": 4
}
