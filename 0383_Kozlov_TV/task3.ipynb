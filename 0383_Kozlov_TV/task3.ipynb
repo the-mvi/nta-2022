{
 "cells": [
  {
   "cell_type": "markdown",
   "metadata": {},
   "source": [
    "# Практическая работа №3: Статистический анализ социальных сетей.\n",
    "Выполнил студент гр. 0383 Козлов Тимофей. Вариант №56"
   ]
  },
  {
   "cell_type": "markdown",
   "metadata": {},
   "source": [
    "## Цель работы\n",
    "Овладеть навыками работы с математическими пакетами для статистического анализа социальных сетей."
   ]
  },
  {
   "cell_type": "markdown",
   "metadata": {},
   "source": [
    "## Основные теоретические положения\n",
    "\n",
    "**Диада** $-$ элемент сети, представляющий собой пару акторов и (возможную) связь между ними: $D_{ij}=(X_{ij}, X_{ji}), i\\neq j$.\n",
    "\n",
    "**Взаимная диада** $D_{ij}=(1,1)$\n",
    "\n",
    "**Асимметричная диада** $D_{ij}=(1,0), D_{ij}=(0,1)$\n",
    "\n",
    "**Нулевая диада** $D_{ij}=(0,0)$\n",
    "\n",
    "**Цензус диад** $-$ тройка чисел $M, A, N$, где:\n",
    "\n",
    "$M = \\sum_{i<j} X_{ij} X_{ji}$\n",
    "\n",
    "$A = X_{++} - 2M$\n",
    "\n",
    "$N = C^2_g - A - M$\n",
    "\n",
    "**Модель Эрдёша — Реньи** — это одна из двух тесно связанных моделей генерации. В ней граф строится путём случайного добавления рёбер. Каждое ребро включается в граф с вероятностью p независимо от остальных рёбер. Эквивалентно, все графы с n узлами и M рёбрами имеют одинаковую вероятность:\n",
    "$p^M (1-p)^{C^2_n - M}$.\n",
    "\n",
    "**Индекс взаимности Каца-Пауэлла** (Reciprocity of Katz and Powell) $-$ характеристика измерения тенденции акторов в группе. Данный индекс оценивает тенденцию акторов в группе к взаимному выбору друг друга. \n",
    "\n",
    "$-\\infty < \\rho_{кр} \\leqslant 1$.\n",
    "\n",
    "Если $\\rho_{кр} = 0$, то акторы не имеют склонности взаимно выбирать друг друга.\n",
    "\n",
    "Если $\\rho_{кр} = 1$, то акторы показывают максимальную тенденцию к взаимному выбору друг друга.\n",
    "\n",
    "Если $\\rho_{кр} < 0$, то акторы склонны образовывать односторонние связи или не образовывать их вообще.\n",
    "\n",
    "Индекс взаимности основан на ожидании количества взаимных диад, предполагая, что выбор делается акторами случайным образом. Выбор может быть фиксированным или свободным.\n",
    "\n",
    "Для фиксированного выбора из $d$ акторов:\n",
    "\n",
    "По методу моментов оценка $\\hat{\\rho}_{кр} = \\displaystyle{\\frac{2(g-1)M - gd^2}{gd(g - d - 1)}}$.\n",
    "\n",
    "Вероятность того, что связь будет взаимной для двух акторов:\n",
    "\n",
    "$\\displaystyle{P(i \\rightarrow j \\wedge j \\rightarrow i) = \\frac{d}{g - 1}\\left( \\frac{d}{g - 1} + \\rho_{кр} \\frac{g - 1 - d}{g - 1} \\right)}.$\n",
    "\n",
    "Для свободного выбора:\n",
    "\n",
    "По методу моментов оценка $\\hat{\\rho}_{кр} = \\displaystyle{\\frac{2(g-1)^2M - L^2 + L_2}{L(g - 1)^2 - L^2 - L_2}}$.\n",
    "\n",
    "Вероятность того, что связь будет взаимной для двух акторов (для каждого из акторов):\n",
    "\n",
    "$P = \\displaystyle{\\frac{x_{i+}x_{j+}}{(g - 1)^2}}.$\n",
    "\n",
    "**Индекс взаимности Бандиопадхьяйя** $-$ индекс, основанный на максимальной и минимальной значениях количества диад в сети. \n",
    "\n",
    "$\\rho_B = \\displaystyle{\\frac{M - M_{\\min}}{M_{\\max} - M_{\\min}}},$\n",
    "\n",
    "где $M_{\\min} = \\max f(t), 0 \\leqslant t \\leqslant g$, \n",
    "\n",
    "$M_{\\max} = \\lfloor 0.5 \\sum^g_{i = 1} x_{i+} - \\max g(t)\\rfloor, 0 \\leqslant t \\leqslant g,$\n",
    "\n",
    "$f(t) = \\sum^t_{i=1} x_{i+} - t(g - 1) - C^2_g,$\n",
    "\n",
    "$g(t) = \\sum^t_{i=1} x_{i+} - t(t - 1) - \\sum^g_{i=t+1} \\min (t, x_{i+}).$\n",
    "\n",
    "**Вычисление доверительного интервала для оценки P.**\n",
    "\n",
    "Оценка параметра $P$:\n",
    "\n",
    "$\\hat{P} = \\displaystyle{\\frac{\\sum_{i = 1}^g \\sum_{j = 1}^g x_{ij}}{g(g-1)} = \\frac{l}{g(g - 1)}}.$\n",
    "\n",
    "Доверительный интервал: $\\hat{P}_{lower} \\leqslant P \\leqslant \\hat{P}_{upper}$.\n",
    "\n",
    "$\\hat{P}_{lower} = \\displaystyle{\\hat{P} - z_{\\alpha/2} \\sqrt\\frac{\\hat{P}(1- \\hat{P})}{g(g-1)}}$\n",
    "\n",
    "$\\hat{P}_{lower} = \\displaystyle{\\hat{P} + z_{\\alpha/2} \\sqrt\\frac{\\hat{P}(1- \\hat{P})}{g(g-1)}}$\n",
    "\n",
    "$z_{\\alpha/2}$ вычисляется из $\\Phi(z_{\\alpha/2}) = 0.5 - 0.5 \\alpha$, где $\\alpha - $ некоторый уровень значимости, $(1 - \\alpha) - $ доверительная надёжность. "
   ]
  },
  {
   "cell_type": "markdown",
   "metadata": {},
   "source": [
    "## Постановка задачи\n",
    "С помощью математических пакетов и соответствующих библиотек провести статистический анализ случайно смоделированного ориентированного графа. Полученные результаты содержательно проинтерпретировать."
   ]
  },
  {
   "cell_type": "markdown",
   "metadata": {},
   "source": [
    "## Выполнение работы\n",
    "#### 0. Загрузка билиотек"
   ]
  },
  {
   "cell_type": "code",
   "execution_count": 75,
   "metadata": {},
   "outputs": [],
   "source": [
    "library(igraph)\n",
    "library(statnet)"
   ]
  },
  {
   "cell_type": "markdown",
   "metadata": {},
   "source": [
    "#### 1. С помощью библиотеки igraph смоделировать случайный орграф G𝑑 на основе модели Эрдеша—Реньи: G𝑑 = G (𝑔, 𝑝), где 𝑔 – количество акторов, 𝑝 – вероятность появления дуги между акторами. В R для модели случайного графа Эрдеша—Реньи существует функция erdos.renyi.game(). Ознакомьтесь с данной моделью и опишите её.\n",
    "\n",
    "Вариант 56: g = 67 p = 0.56"
   ]
  },
  {
   "cell_type": "code",
   "execution_count": 76,
   "metadata": {},
   "outputs": [
    {
     "data": {
      "text/plain": [
       "IGRAPH df0070b D--- 67 2461 -- Erdos-Renyi (gnp) graph\n",
       "+ attr: name (g/c), type (g/c), loops (g/l), p (g/n)\n",
       "+ edges from df0070b:\n",
       " [1]  4-> 1  5-> 1  7-> 1  8-> 1 11-> 1 12-> 1 13-> 1 16-> 1 18-> 1 19-> 1\n",
       "[11] 22-> 1 26-> 1 28-> 1 31-> 1 32-> 1 33-> 1 34-> 1 35-> 1 38-> 1 39-> 1\n",
       "[21] 40-> 1 41-> 1 42-> 1 44-> 1 45-> 1 46-> 1 47-> 1 50-> 1 52-> 1 55-> 1\n",
       "[31] 57-> 1 58-> 1 61-> 1 62-> 1 64-> 1 65-> 1  1-> 2  2->67  3-> 2  5-> 2\n",
       "[41]  7-> 2 10-> 2 13-> 2 14-> 2 15-> 2 17-> 2 21-> 2 24-> 2 25-> 2 26-> 2\n",
       "[51] 27-> 2 29-> 2 31-> 2 35-> 2 37-> 2 38-> 2 39-> 2 40-> 2 41-> 2 42-> 2\n",
       "[61] 44-> 2 45-> 2 46-> 2 47-> 2 48-> 2 51-> 2 52-> 2 53-> 2 54-> 2 55-> 2\n",
       "[71] 56-> 2 60-> 2 65-> 2 66-> 2 67-> 2  2-> 3  3->67  5-> 3  6-> 3 10-> 3\n",
       "+ ... omitted several edges"
      ]
     },
     "metadata": {},
     "output_type": "display_data"
    }
   ],
   "source": [
    "g <- 67\n",
    "p <- 0.56\n",
    "graph <- erdos.renyi.game(g, p, \"gnp\", directed = T)\n",
    "graph"
   ]
  },
  {
   "cell_type": "markdown",
   "metadata": {},
   "source": [
    "В модели Эрдеша—Реньи G𝑑 = G (𝑔, 𝑝) граф строится путём случайного добавления рёбер. Каждое ребро включается в граф с вероятностью p независимо от остальных рёбер. Эквивалентно, все графы с n узлами и M рёбрами имеют одинаковую вероятность:\n",
    "$p^M (1-p)^{C^2_n - M}$."
   ]
  },
  {
   "cell_type": "markdown",
   "metadata": {},
   "source": [
    "#### 2. Отобразить полученный орграф"
   ]
  },
  {
   "cell_type": "code",
   "execution_count": 77,
   "metadata": {},
   "outputs": [
    {
     "data": {
      "image/png": "[encoded data removed]",
      "text/plain": [
       "Plot with title \"Построение осушествлено алгоритмом Фрюхтермана–Рейнгольда\""
      ]
     },
     "metadata": {
      "image/png": {
       "height": 420,
       "width": 420
      }
     },
     "output_type": "display_data"
    }
   ],
   "source": [
    "plot(graph, layout=layout.fruchterman.reingold(graph), main = \"Построение осушествлено алгоритмом Фрюхтермана–Рейнгольда\")"
   ]
  },
  {
   "cell_type": "markdown",
   "metadata": {},
   "source": [
    "#### 3. Вычислить «пятичисловую сводку» для графа G𝑑."
   ]
  },
  {
   "cell_type": "code",
   "execution_count": 78,
   "metadata": {},
   "outputs": [
    {
     "name": "stdout",
     "output_type": "stream",
     "text": [
      "Размер:  67 \n",
      "Плотность 0.5565355 \n",
      "Компоненты: 1 \n",
      "Диаметр: 2 \n",
      "Кластеризация:  0.799811 \n"
     ]
    }
   ],
   "source": [
    "cat(\"Размер: \", gorder(graph), \"\\n\")\n",
    "cat(\"Плотность\",edge_density(graph),\"\\n\")\n",
    "cat(\"Компоненты:\", igraph::components(graph)$no, \"\\n\")\n",
    "cat(\"Диаметр:\", diameter(graph), \"\\n\")\n",
    "cat(\"Кластеризация: \", transitivity(graph), \"\\n\")"
   ]
  },
  {
   "cell_type": "markdown",
   "metadata": {},
   "source": [
    "#### 4. Вычислить цензус диад. Сделать выводы."
   ]
  },
  {
   "cell_type": "code",
   "execution_count": 79,
   "metadata": {},
   "outputs": [
    {
     "data": {
      "text/html": [
       "<dl>\n",
       "\t<dt>$mut</dt>\n",
       "\t\t<dd>691</dd>\n",
       "\t<dt>$asym</dt>\n",
       "\t\t<dd>1079</dd>\n",
       "\t<dt>$null</dt>\n",
       "\t\t<dd>441</dd>\n",
       "</dl>\n"
      ],
      "text/latex": [
       "\\begin{description}\n",
       "\\item[\\$mut] 691\n",
       "\\item[\\$asym] 1079\n",
       "\\item[\\$null] 441\n",
       "\\end{description}\n"
      ],
      "text/markdown": [
       "$mut\n",
       ":   691\n",
       "$asym\n",
       ":   1079\n",
       "$null\n",
       ":   441\n",
       "\n",
       "\n"
      ],
      "text/plain": [
       "$mut\n",
       "[1] 691\n",
       "\n",
       "$asym\n",
       "[1] 1079\n",
       "\n",
       "$null\n",
       "[1] 441\n"
      ]
     },
     "metadata": {},
     "output_type": "display_data"
    }
   ],
   "source": [
    "census <- dyad_census(graph)\n",
    "census"
   ]
  },
  {
   "cell_type": "markdown",
   "metadata": {},
   "source": [
    "Вывод:\n",
    "691 - число взаимных диад\n",
    "1079 - число ассиметричных диад\n",
    "441 - число пар акторов, между которыми нет связи"
   ]
  },
  {
   "cell_type": "markdown",
   "metadata": {},
   "source": [
    "#### 5. Вычислить оценку индекса взаимности Каца—Пауэла при фиксированом выборе акторов 𝑑 и при свободном выборе. Сделать выводы.\n",
    "Фиксированный выбор акторов (d = 56):"
   ]
  },
  {
   "cell_type": "code",
   "execution_count": 80,
   "metadata": {},
   "outputs": [
    {
     "data": {
      "text/html": [
       "-3.16897654584222"
      ],
      "text/latex": [
       "-3.16897654584222"
      ],
      "text/markdown": [
       "-3.16897654584222"
      ],
      "text/plain": [
       "[1] -3.168977"
      ]
     },
     "metadata": {},
     "output_type": "display_data"
    }
   ],
   "source": [
    "d <- 56\n",
    "mut <- census$mut\n",
    "fix <- (2 * (g - 1) * mut - g * d^2) / (g * d * (g - 1 - d))\n",
    "fix"
   ]
  },
  {
   "cell_type": "markdown",
   "metadata": {},
   "source": [
    "Свободный выбор акторов:"
   ]
  },
  {
   "cell_type": "code",
   "execution_count": 81,
   "metadata": {},
   "outputs": [
    {
     "data": {
      "text/html": [
       "0.0115926607433889"
      ],
      "text/latex": [
       "0.0115926607433889"
      ],
      "text/markdown": [
       "0.0115926607433889"
      ],
      "text/plain": [
       "[1] 0.01159266"
      ]
     },
     "metadata": {},
     "output_type": "display_data"
    }
   ],
   "source": [
    "matrix <- as.matrix(as_adjacency_matrix(graph))\n",
    "L <- sum(rowSums(matrix))\n",
    "L2 <- sum(rowSums(matrix)^2)\n",
    "\n",
    "free <- (2 * (g - 1)^2 * mut - L^2 + L2)/(L * (g - 1)^2 - L^2 + L2)\n",
    "free"
   ]
  },
  {
   "cell_type": "markdown",
   "metadata": {},
   "source": [
    "Вывод: \n",
    "При фиксированном выборе акторов акторы склонны образовывать односторонние связи.\n",
    "При свободном выборе акторы показывают тенденцию к взаимному выбору друг друга."
   ]
  },
  {
   "cell_type": "markdown",
   "metadata": {},
   "source": [
    "#### 6. Вычислить вероятность того, что связь будет взаимной для каждого случая.\n",
    "Фиксированный выбор акторов (d = 56):"
   ]
  },
  {
   "cell_type": "code",
   "execution_count": 82,
   "metadata": {},
   "outputs": [
    {
     "data": {
      "text/html": [
       "0.312528267752148"
      ],
      "text/latex": [
       "0.312528267752148"
      ],
      "text/markdown": [
       "0.312528267752148"
      ],
      "text/plain": [
       "[1] 0.3125283"
      ]
     },
     "metadata": {},
     "output_type": "display_data"
    }
   ],
   "source": [
    "fixP <- (d / (g - 1)) * ((d / (g - 1)) + fix * (g - 1 - d) / (g - 1))\n",
    "fixP"
   ]
  },
  {
   "cell_type": "markdown",
   "metadata": {},
   "source": [
    "Свободный выбор акторов:"
   ]
  },
  {
   "cell_type": "code",
   "execution_count": 83,
   "metadata": {},
   "outputs": [
    {
     "data": {
      "text/html": [
       "0.309355426723134"
      ],
      "text/latex": [
       "0.309355426723134"
      ],
      "text/markdown": [
       "0.309355426723134"
      ],
      "text/plain": [
       "[1] 0.3093554"
      ]
     },
     "metadata": {},
     "output_type": "display_data"
    }
   ],
   "source": [
    "p <- (rowSums(matrix) * colSums(matrix)) / (g - 1)^2\n",
    "freeP <- sum(p) / g\n",
    "freeP"
   ]
  },
  {
   "cell_type": "markdown",
   "metadata": {},
   "source": [
    "#### 7. Вычислить индекс взаимности Бандиопадхьяйя. Сделать выводы"
   ]
  },
  {
   "cell_type": "code",
   "execution_count": 88,
   "metadata": {},
   "outputs": [
    {
     "data": {
      "text/html": [
       "0.561990212071778"
      ],
      "text/latex": [
       "0.561990212071778"
      ],
      "text/markdown": [
       "0.561990212071778"
      ],
      "text/plain": [
       "[1] 0.5619902"
      ]
     },
     "metadata": {},
     "output_type": "display_data"
    }
   ],
   "source": [
    "f_t <- function(matrix_row_sum, t) {\n",
    "  x_sum <- sum(matrix_row_sum[1:t])\n",
    "  C <- factorial(t) / (factorial(2) * factorial(t - 2))\n",
    "  res <- x_sum - t * (g - 1) - C \n",
    "  \n",
    "  return(res)\n",
    "}\n",
    "\n",
    "f_res <- rep(2, g)\n",
    "for (t in 2:g) {\n",
    "  f_res[t] <- f_t(rowSums(matrix), t)\n",
    "}\n",
    "\n",
    "g_t <- function(matrix_row_sum, t) {\n",
    "  x_sum <- sum(matrix_row_sum[1:t])\n",
    "  min_sum <- 0   \n",
    "  for (i in (t + 1):g) {\n",
    "    min_sum <- min_sum + min(c(t, matrix_row_sum[i]))\n",
    "  }\n",
    "  \n",
    "  return(x_sum - t * (t - 1) - min_sum)\n",
    "}\n",
    "\n",
    "g_res <- rep(2, g - 1)\n",
    "for (t in 2:(g - 1)) {\n",
    "  g_res[t] <- g_t(rowSums(matrix), t)\n",
    "}\n",
    "\n",
    "\n",
    "M_min <- max(f_res)\n",
    "\n",
    "res <- (mut - M_min) / (floor(0.5 * sum(rowSums(matrix)[1:g]) - max(g_res)) - M_min)\n",
    "res"
   ]
  },
  {
   "cell_type": "markdown",
   "metadata": {},
   "source": [
    "Вывод: количество взаимных диад примерно равно 56% от их максимально количества"
   ]
  },
  {
   "cell_type": "markdown",
   "metadata": {},
   "source": [
    "#### 8. Проверить нулевую гипотезу о том, что число дуг 𝐿 в орграфе G𝑑 имеет биномиальное распределение 𝐿 ∼ Bin(𝑔(𝑔 − 1), 1/2) при уровне значимости 𝛼. Определить максимальный уровень значимости при котором нулевая гипотеза не отвергается.\n",
    "Вариант 56: a = 0.03, P0 = 0.74"
   ]
  },
  {
   "cell_type": "code",
   "execution_count": 85,
   "metadata": {
    "scrolled": true
   },
   "outputs": [
    {
     "data": {
      "text/plain": [
       "\n",
       "\tExact binomial test\n",
       "\n",
       "data:  l and g * (g - 1)\n",
       "number of successes = 2461, number of trials = 4422, p-value =\n",
       "5.831e-14\n",
       "alternative hypothesis: true probability of success is not equal to 0.5\n",
       "95 percent confidence interval:\n",
       " 0.5417466 0.5712496\n",
       "sample estimates:\n",
       "probability of success \n",
       "             0.5565355 \n"
      ]
     },
     "metadata": {},
     "output_type": "display_data"
    }
   ],
   "source": [
    "l <- sum(matrix)\n",
    "binom.test(l, g * (g - 1), p = 0.5)"
   ]
  },
  {
   "cell_type": "markdown",
   "metadata": {},
   "source": [
    "Нулевая гипотеза не выполняется, т.к. p-value много меньше a + вероятность построения ребра между любыми двумя акторами не равняется 0.5.\n",
    "Максимальный уровень значимости, при котором нулевая гипотеза не отвергается - p-value = 5.831e-14)"
   ]
  },
  {
   "cell_type": "markdown",
   "metadata": {},
   "source": [
    "#### 9. Проверить нулевую гипотезу о том, что число дуг 𝐿 в орграфе G𝑑 имеет биномиальное распределение 𝐿 ∼ Bin(𝑔(𝑔−1), 𝑃0) при уровне значимости 𝛼. Определить максимальный уровень значимости при котором нулевая гипотеза не отвергается."
   ]
  },
  {
   "cell_type": "code",
   "execution_count": 86,
   "metadata": {},
   "outputs": [
    {
     "data": {
      "text/plain": [
       "\n",
       "\tExact binomial test\n",
       "\n",
       "data:  l and g * (g - 1)\n",
       "number of successes = 2461, number of trials = 4422, p-value < 2.2e-16\n",
       "alternative hypothesis: true probability of success is not equal to 0.74\n",
       "95 percent confidence interval:\n",
       " 0.5417466 0.5712496\n",
       "sample estimates:\n",
       "probability of success \n",
       "             0.5565355 \n"
      ]
     },
     "metadata": {},
     "output_type": "display_data"
    }
   ],
   "source": [
    "binom.test(l, g * (g - 1), p = 0.74)"
   ]
  },
  {
   "cell_type": "markdown",
   "metadata": {},
   "source": [
    "Нулевая гипотеза не выполняется, т.к. p-value много меньше a + вероятность построения ребра между любыми двумя акторами не равняется 0.74.\n",
    "Максимальный уровень значимости, при котором нулевая гипотеза не отвергается - p-value (p-value < 2.2e-16)"
   ]
  },
  {
   "cell_type": "markdown",
   "metadata": {},
   "source": [
    "#### 10. Построить доверительный интервал для оценки параметра 𝑝 с доверительной надёжностью (1 − 𝛼). Сделать выводы."
   ]
  },
  {
   "cell_type": "code",
   "execution_count": 87,
   "metadata": {},
   "outputs": [
    {
     "name": "stdout",
     "output_type": "stream",
     "text": [
      "Оценка параметра p:"
     ]
    },
    {
     "data": {
      "text/html": [
       "0.556535504296698"
      ],
      "text/latex": [
       "0.556535504296698"
      ],
      "text/markdown": [
       "0.556535504296698"
      ],
      "text/plain": [
       "[1] 0.5565355"
      ]
     },
     "metadata": {},
     "output_type": "display_data"
    },
    {
     "name": "stdout",
     "output_type": "stream",
     "text": [
      "Значение функции Лапласа: "
     ]
    },
    {
     "data": {
      "text/html": [
       "0.485"
      ],
      "text/latex": [
       "0.485"
      ],
      "text/markdown": [
       "0.485"
      ],
      "text/plain": [
       "[1] 0.485"
      ]
     },
     "metadata": {},
     "output_type": "display_data"
    },
    {
     "name": "stdout",
     "output_type": "stream",
     "text": [
      "Доверительный интервал: ( 0.540398599103125 ,  0.572672409490272 )"
     ]
    }
   ],
   "source": [
    "alpha <- 0.03\n",
    "\n",
    "cat(\"Оценка параметра p:\")\n",
    "grade <- (sum(matrix)) / (g * (g - 1))\n",
    "grade\n",
    "\n",
    "cat(\"Значение функции Лапласа: \")\n",
    "lap <- 0.5 - (alpha / 2)\n",
    "lap\n",
    "\n",
    "x <- 2.16\n",
    "\n",
    "cat(\"Доверительный интервал: \")\n",
    "lower <- grade - x * sqrt((grade * (1 - grade))/(g * (g - 1)))\n",
    "upper <- grade + x * sqrt((grade * (1 - grade))/(g * (g - 1)))                      \n",
    "cat(paste(\"(\", lower, \", \", upper, \")\"))"
   ]
  },
  {
   "cell_type": "markdown",
   "metadata": {},
   "source": [
    "Вывод: доверительный интервал рассчитан верно, т.к. p = 0.56 - входит в этот интервал."
   ]
  },
  {
   "cell_type": "markdown",
   "metadata": {},
   "source": [
    "## Выводы\n",
    "\n",
    "В ходе выполнения практической работы с помощью библиотеки igraph на основе модели Эрдёша — Реньи был смоделирован ориентированный граф. Вычислена пятичисловая сводка сети для данного графа. Изучено понятие диады, вычисленна оценка индекса взаимности Каца—Пауэла для фиксированного выбора акторови и свободного. Проверена нулевая гипотеза, вычислен доверительный интервал (в который попало значение p)"
   ]
  }
 ],
 "metadata": {
  "kernelspec": {
   "display_name": "R",
   "language": "R",
   "name": "ir"
  },
  "language_info": {
   "codemirror_mode": "r",
   "file_extension": ".r",
   "mimetype": "text/x-r-source",
   "name": "R",
   "pygments_lexer": "r",
   "version": "4.2.1"
  }
 },
 "nbformat": 4,
 "nbformat_minor": 4
}
