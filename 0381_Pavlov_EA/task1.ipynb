{
  "nbformat": 4,
  "nbformat_minor": 0,
  "metadata": {
    "colab": {
      "private_outputs": true,
      "provenance": [],
      "collapsed_sections": []
    },
    "kernelspec": {
      "name": "python",
      "display_name": "python"
    },
    "language_info": {
      "name": "python"
    }
  },
  "cells": [
    {
      "cell_type": "markdown",
      "source": [
        "# Практическая работа №1: Основы анализа и моделирования социальных сетей\n",
        "Выполнил студент гр. 0381 Павлов Евгений. Вариант №13"
      ],
      "metadata": {
        "id": "58RLXquBCopw"
      }
    },
    {
      "cell_type": "markdown",
      "source": [
        "## Цель работы\n",
        "Овладеть навыками работы с математическими пакетами для моделирования, визуализации и анализа социальных сетей."
      ],
      "metadata": {
        "id": "Kr8b3Lt7C1qI"
      }
    },
    {
      "cell_type": "markdown",
      "source": [
        "## Основные теоретические положения\n",
        "\n",
        "**Актор** - дискретная индивидуальная, корпоративная или коллективная единица.\n",
        "\n",
        "**Социальная сеть** - объект, представляющий собой совокупность конечного набора (наборов) акторов и их отношения (отношений), определенного на них.\n",
        "\n",
        "**Социоматрица** - матрица X арзмером gxg, описывающая смежные узлы в сети. Используется для представления сети.\n",
        "\n",
        "**Размер сети** - количество акторов в сети.\n",
        "\n",
        "**Плотность сети** - доля имеющихся связей по отношению к максимально возможному количеству связей. \n",
        "\n",
        "Для ориентированных сетей:\n",
        "$$\\Delta=\\frac{L}{A\\binom{2}{g}}$$\n",
        "\n",
        "Для неориентированных сетей:\n",
        "$$\\Delta=\\frac{L}{\\binom{g}{2}}$$,\n",
        "\n",
        "где L- имеющиеся связи в сети.\n",
        "\n",
        "**Компонента сети** - подгруппа, в которой все акторы связаны друг с другом прямо или косвенно.\n",
        "\n",
        "**Диаметр полной сети** - наибольшая длина любого из кратчайших путей между всеми парами узлов.\n",
        "\n",
        "**Степень узла** - число прямых, инцидентных данному узлу. Для ориентированных делится на входящую стпень и исходящую степень.\n",
        "\n",
        "Средняя степень узлов:\n",
        "$$\\overline{d}=\\frac{1}{g}\\sum_{i=1}^{g} d(n_i)$$\n",
        "Дисперсия степеней узлов:\n",
        "$$S_{D}^{2}=\\frac{1}{g}\\sum_{i=1}^{g} (d(n_i) - \\overline{d})^2$$\n",
        "\n",
        "\n",
        "**Центральность** - мера, характеризующая актор с большим количеством связей (прямых или косвенных)\n",
        "$$C_{A}(n_{i}), i=1,...g$$\n",
        "\n",
        "**Престиж** - мера, характеризующая актор с большим количеством входящих связей\n",
        "$$P_{A}(n_{i}), i=1...g$$\n",
        "\n",
        "**Индекс централизации**:\n",
        "$$C_{A}=\\frac{\\sum_{i=1}^{g}[C_{A}(n^{*} - C_{A}(n_{i}]}{max \\sum_{i=1}^{g}[C_{A}(n^{*} - C_{A}(N_{i}]}$$\n",
        "\n",
        "**Центральность по степени** - степень каждого актора.\n",
        "$$C_{D}(n_{i})=d(n_{i})$$\n",
        "\n",
        "**Нормированная центральность по степени**:\n",
        "$$C'_{D}(n_{i})=\\frac{d(n_{i})}{g-1}$$\n",
        "\n",
        "**Централизация по степени**:\n",
        "$$C_{D}=\\frac{\\sum_{i=1}^{g}[C_{D}(n^{*} - C_{D}(n_{i}]}{(g-1)(g-2)}$$\n",
        "\n",
        "**Центральность по близости** - более важными узлами считаются узлы, наиболее близкие к остальным узлам, если:\n",
        "$$C_{C}(n_{i})=(\\sum_{i=1}^{g}{d(n_{i}, n_{j}})^{-1},$$\n",
        "\n",
        "**Нормированная центральность по близости**:\n",
        "$$C_{C}'(n_{i})=\\frac{g-1}{\\sum_{i=1}^{g}{d(n_{i}, n_{j})}},$$\n",
        "\n",
        "**Централизация по близости**:\n",
        "$$C_{C}=\\frac{\\sum_{i=1}^{g}[C_{C}'(n^{*}) - C_{C}'(n_{i})]}{(g-1)(g-2)/(2g-3)}$$\n",
        "\n",
        "**Центральность по посредничеству** характеризует, насколько важную роль данный узел играет на пути между парами других узлов сети, в том смысле, что пути между другими узлами должны проходить через данный узел.\n",
        "$$C_{B}(n_{i})=\\sum_{j<k}{g_{jk}(n_{i})/g_{jk}}$$\n",
        "\n",
        "**Нормированная центральность по посредничеству**:\n",
        "$$C_{B}'(n_{i})=\\frac{C_{B}(n_{i})}{\\binom{g-1}{2}},$$\n",
        "\n",
        "**Централизация по посредничеству**:\n",
        "$$C_{B}=\\frac{\\sum_{i=1}^{g}[C_{B}'(n^{*} - C_{B}'(n_{i}]}{(g-1)}$$\n",
        "\n",
        "**Центральность по информации** показывает, сколько информации содержится в путях, которые начинаются и заканчиваются у определенного актора.\n",
        "\n",
        "**Централизация по информации**:\n",
        "$$S_{I}^2=\\frac{1}{g}\\sum_{i=1}{g}(C_{I}^{`}(n_{i})-\\overline{C_{I}})^2$$\n",
        "\n",
        "**Престиж** - мера, характеризующая актора с большим количеством входящих связей.\n",
        "\n",
        "**Престиж по степени** - входящая степень каждого узла.\n",
        "\n",
        "$$P_{D}(n_{i})=d_{in}(n_{i})=x_{+i}$$\n",
        "\n",
        "**Нормированный престиж по степени**:\n",
        "$$P'_{D}(n_{i})=\\frac{x_{+i}}{g-1}$$\n",
        "\n",
        "**Престиж по близости** определяет, насколько все акторы близки к заданному по расстоянию до него.\n",
        "$$P_{p}(n_{i})=\\frac{\\#I_{i}/(g-1)}{\\sum_{j:n_{j}\\in I_{i}}[d(n_{j}, n_{i})/\\#I_{i}]}$$\n",
        "\n",
        "**Мост** - ребро, при удалении которого одна компонента разделяется на две\n",
        "\n",
        "**Точка сочленения** - узел, при удалении которого увеличивается число компонент связности."
      ],
      "metadata": {
        "id": "KjOhxaXkC2M4"
      }
    },
    {
      "cell_type": "markdown",
      "source": [
        "## Постановка задачи\n",
        "С помощью математических пакетов и соответствующих библиотек провести анализ заданных социальных сетей, вычислить описательные характеристики. Полученные результаты содержательно проинтерпретировать."
      ],
      "metadata": {
        "id": "s6ujBWnTC5Xg"
      }
    },
    {
      "cell_type": "markdown",
      "source": [
        "## Выполнение работы"
      ],
      "metadata": {
        "id": "SxNco4QuC7x8"
      }
    },
    {
      "cell_type": "code",
      "source": [
        "  !wget --load-cookies /tmp/cookies.txt \"https://docs.google.com/uc?export=download&confirm=$(wget --quiet --save-cookies /tmp/cookies.txt --keep-session-cookies --no-check-certificate 'https://docs.google.com/uc?export=download&id=1daSOLxSIow_Av41qgj27VDxtGWKavUCW' -O- | sed -rn 's/.*confirm=([0-9A-Za-z_]+).*/\\1\\n/p')&id=1daSOLxSIow_Av41qgj27VDxtGWKavUCW\" -O data.zip && rm -rf /tmp/cookies.txt"
      ],
      "metadata": {
        "id": "2YUfrmD3_ewu"
      },
      "execution_count": null,
      "outputs": []
    },
    {
      "cell_type": "code",
      "execution_count": null,
      "metadata": {
        "id": "kvVAFRNZ_Wk9"
      },
      "outputs": [],
      "source": [
        "!unzip ./data.zip"
      ]
    },
    {
      "cell_type": "code",
      "source": [
        "import pandas as pd\n",
        "import numpy as np\n",
        "import networkx as nx\n",
        "import matplotlib.pyplot as plt"
      ],
      "metadata": {
        "id": "Ob2lyMzl_YOq"
      },
      "execution_count": null,
      "outputs": []
    },
    {
      "cell_type": "markdown",
      "source": [
        "Из файла florentine_business.csv (для нечётных вариантов)\n",
        "и файла florentine_marital.csv (для чётных вариантов) извлечь социоматрицу с помощью соответствующих функций. Вывести полученную социоматрицу на экран."
      ],
      "metadata": {
        "id": "Zgt2v1pgD4cB"
      }
    },
    {
      "cell_type": "code",
      "source": [
        "data = pd.read_csv(\"./task1/odd/florentine_business.csv\", comment=\"#\")\n",
        "data.index = data.columns"
      ],
      "metadata": {
        "id": "3QJfF11C_zgm"
      },
      "execution_count": null,
      "outputs": []
    },
    {
      "cell_type": "code",
      "source": [
        "data"
      ],
      "metadata": {
        "id": "Q0ug40GmABcv"
      },
      "execution_count": null,
      "outputs": []
    },
    {
      "cell_type": "markdown",
      "source": [
        "Преобразовать социоматрицу в список рёбер. Вывести первые 5 элементов списка рёбер."
      ],
      "metadata": {
        "id": "ZEo3Y5oHD7z5"
      }
    },
    {
      "cell_type": "code",
      "source": [
        "nx.to_pandas_edgelist(nx.from_pandas_adjacency(data)).head()"
      ],
      "metadata": {
        "id": "qzLVJE6UACDm"
      },
      "execution_count": null,
      "outputs": []
    },
    {
      "cell_type": "markdown",
      "source": [
        "Присвоить имена столбцам и строкам социоматрицы (имена – первая строка в csv-файле после комментариев).\n",
        "\n",
        "**Уже сделано**"
      ],
      "metadata": {
        "id": "KdIDTfeLECWZ"
      }
    },
    {
      "cell_type": "code",
      "source": [
        "net = nx.from_pandas_adjacency(data)"
      ],
      "metadata": {
        "id": "KBOrRDjhAZx3"
      },
      "execution_count": null,
      "outputs": []
    },
    {
      "cell_type": "markdown",
      "source": [
        "Отобразить сеть с помощью алгоритмов укладки Фрюхтермана– Рейнгольда и Камада–Каваи. Объяснить, в чём различие между алгоритмами и укладками."
      ],
      "metadata": {
        "id": "i-PWfcKwDmJv"
      }
    },
    {
      "cell_type": "code",
      "source": [
        "plt.figure(figsize=(8,8)) \n",
        "nx.draw_spring(net, with_labels=True, node_size=500)\n",
        "plt.show()"
      ],
      "metadata": {
        "id": "3a4KoPNmBjNa"
      },
      "execution_count": null,
      "outputs": []
    },
    {
      "cell_type": "code",
      "source": [
        "plt.figure(figsize=(8,8)) \n",
        "nx.draw_kamada_kawai(net, with_labels=True, node_size=500)\n",
        "plt.show()"
      ],
      "metadata": {
        "id": "Vs4fr1QGC8S_"
      },
      "execution_count": null,
      "outputs": []
    },
    {
      "cell_type": "markdown",
      "source": [
        " Вывести «описательную сводку» сети."
      ],
      "metadata": {
        "id": "gDDpJT3REYY6"
      }
    },
    {
      "cell_type": "code",
      "source": [
        "print(nx.info(net), '\\n' + '-' * 30 + '\\n')\n",
        "for name in data.columns:\n",
        "  print(nx.info(net, name), '\\n')"
      ],
      "metadata": {
        "id": "9zgm_hxqDy78"
      },
      "execution_count": null,
      "outputs": []
    },
    {
      "cell_type": "markdown",
      "source": [
        "Вычислить «пятичисловую сводку» сети:"
      ],
      "metadata": {
        "id": "9Cr4kJkmE1FX"
      }
    },
    {
      "cell_type": "code",
      "source": [
        "print(f\"размер {net.size()}\")\n",
        "print(f\"плотность через функцию {nx.density(net)}\")\n",
        "print(f\"кол-во компонент {nx.number_connected_components(net)}\")\n",
        "\n",
        "components = [net.subgraph(p).copy() for p in nx.connected_components(net)]\n",
        "diameters = []\n",
        "for comp in components:\n",
        "  print(f\"диаметр для компоненты из вершин: {' '.join(comp.nodes)} \\n{nx.diameter(comp)}\")\n",
        "  diameters.append(nx.diameter(comp))\n",
        "print(f\"диаметр {max(diameters)}\")\n",
        "print(f\"коэффициент кластеризации {nx.transitivity(net)}\")"
      ],
      "metadata": {
        "id": "M9Ko4ZPfEc0K"
      },
      "execution_count": null,
      "outputs": []
    },
    {
      "cell_type": "markdown",
      "source": [
        " Вычислить среднюю степень узлов и дисперсию"
      ],
      "metadata": {
        "id": "XeyX_u_dIy4y"
      }
    },
    {
      "cell_type": "code",
      "source": [
        "degree_values = [v for k, v in net.degree()]\n",
        "mean_degree = sum(degree_values) / len(net)\n",
        "disp = sum([(degree - mean_degree) ** 2 for degree in degree_values]) / len(degree_values)\n",
        "print(f\"средняя степень узла: {mean_degree}\\nдисперсия: {disp}\")"
      ],
      "metadata": {
        "id": "DMUhv7wOGYVA"
      },
      "execution_count": null,
      "outputs": []
    },
    {
      "cell_type": "markdown",
      "source": [
        "Заполнить таблицу для различных мер центральности"
      ],
      "metadata": {
        "id": "RBB3WivNLZwE"
      }
    },
    {
      "cell_type": "code",
      "source": [
        "components = [net.subgraph(p).copy() for p in nx.connected_components(net)]\n",
        "components = list(filter(lambda x: len(x.nodes) > 1, components))\n",
        "\n",
        "for component in components:\n",
        "  data_mat = np.vstack([\n",
        "      list(nx.degree_centrality(component).values()),\n",
        "      list(nx.closeness_centrality(component).values()),\n",
        "      list(nx.betweenness_centrality(component).values()),\n",
        "      list(nx.information_centrality(component).values())\n",
        "                        ])\n",
        "  centrality = pd.DataFrame(data=data_mat.T, index=component.nodes, columns=['c_d', 'c_c', 'c_b', 'c_i'])\n",
        "print(centrality)"
      ],
      "metadata": {
        "id": "35KfntolJS_e"
      },
      "execution_count": null,
      "outputs": []
    },
    {
      "cell_type": "markdown",
      "source": [
        "Вычислить значение централизации для каждой меры. Сделать выводы"
      ],
      "metadata": {
        "id": "JIAJAdBy6cTi"
      }
    },
    {
      "cell_type": "code",
      "source": [
        "cnt_nodes = net.number_of_nodes()\n",
        "C_d = sum(max(centrality['c_d']) - centrality['c_d']) / (cnt_nodes - 1) / (cnt_nodes - 2)\n",
        "C_c = sum(max(centrality['c_c']) - centrality['c_c']) / (cnt_nodes - 1) / (cnt_nodes - 2) * (2 * cnt_nodes - 3)\n",
        "C_b = sum(max(centrality['c_b']) - centrality['c_b']) / (cnt_nodes - 1)\n",
        "C_i = sum((centrality['c_i'] - sum(centrality['c_i'])) ** 2) / cnt_nodes\n",
        "print(f\"degree centrality: {C_d}\")\n",
        "print(f\"closeness_centrality: {C_c}\")\n",
        "print(f\"betweenness_centrality: {C_b}\")\n",
        "print(f\"information_centrality: {C_i}\")"
      ],
      "metadata": {
        "id": "jnl8EU4MONyc"
      },
      "execution_count": null,
      "outputs": []
    },
    {
      "cell_type": "markdown",
      "source": [
        "Выявить точки сочленения и мосты сети. Подтвердить свои догадки с помощью соответствующих функций (если их нет – реализуйте\n",
        "их самостоятельно). Построить график сети, на котором выделены\n",
        "точки сочленения и мосты"
      ],
      "metadata": {
        "id": "3tQ4T7FL8TnH"
      }
    },
    {
      "cell_type": "code",
      "source": [
        "plt.figure(figsize=(10,10)) \n",
        "art_points = [x for x in nx.articulation_points(net)]\n",
        "bridges = [x for x in nx.bridges(net)]\n",
        "pos = nx.kamada_kawai_layout(net)\n",
        "nx.draw_networkx_nodes(net, pos)\n",
        "nx.draw_networkx_edges(net, pos)\n",
        "nx.draw_networkx_nodes(net, pos, nodelist=art_points, node_color=\"red\")\n",
        "nx.draw_networkx_edges(net, pos, edgelist=bridges, edge_color=\"green\")\n",
        "nx.draw_networkx_labels(net, pos, {name: name for name in data.columns})\n",
        "plt.legend(labels=[\"вершина\", \"точка сочленения\", \"ребро\", \"мост\"], fontsize=12)\n",
        "plt.show()"
      ],
      "metadata": {
        "id": "Amo4h2di8PIm"
      },
      "execution_count": null,
      "outputs": []
    },
    {
      "cell_type": "markdown",
      "source": [
        "Выполнить пп. 2–8 для направленной сети из файла krackhardt_advice.csv\n",
        "(для нечётных вариантов) и файла krackhardt_friendship.csv\n",
        "(для чётных вариантов)."
      ],
      "metadata": {
        "id": "sjz9xQHa-qzs"
      }
    },
    {
      "cell_type": "code",
      "source": [
        "data_1 = pd.read_csv(\"./task1/odd/krackhardt_advice.csv\", names=list(range(21)), comment=\"#\")"
      ],
      "metadata": {
        "id": "VNievtoX-p84"
      },
      "execution_count": null,
      "outputs": []
    },
    {
      "cell_type": "code",
      "source": [
        "data_1"
      ],
      "metadata": {
        "id": "eIOO47t-830_"
      },
      "execution_count": null,
      "outputs": []
    },
    {
      "cell_type": "markdown",
      "source": [
        "Преобразовать социоматрицу в список рёбер. Вывести первые 5 элементов списка рёбер."
      ],
      "metadata": {
        "id": "8zrzRnizBBRP"
      }
    },
    {
      "cell_type": "code",
      "source": [
        "nx.to_pandas_edgelist(nx.from_pandas_adjacency(data_1)).head()"
      ],
      "metadata": {
        "id": "Q-nn9ccd_Ini"
      },
      "execution_count": null,
      "outputs": []
    },
    {
      "cell_type": "markdown",
      "source": [
        "Присвоить имена столбцам и строкам социоматрицы (имена – первая строка в csv-файле после комментариев).\n",
        "\n",
        "**Имена отсуствуют**"
      ],
      "metadata": {
        "id": "F0rjZLjKBH9M"
      }
    },
    {
      "cell_type": "markdown",
      "source": [
        "Отобразить сеть с помощью алгоритмов укладки Фрюхтермана– Рейнгольда и Камада–Каваи. Объяснить, в чём различие между алгоритмами и укладками."
      ],
      "metadata": {
        "id": "32XJoCwABRmA"
      }
    },
    {
      "cell_type": "code",
      "source": [
        "net_1 = nx.DiGraph(nx.from_pandas_adjacency(data_1))"
      ],
      "metadata": {
        "id": "MrF-B8_lA5ls"
      },
      "execution_count": null,
      "outputs": []
    },
    {
      "cell_type": "code",
      "source": [
        "plt.figure(figsize=(8,8)) \n",
        "nx.draw_spring(net_1, with_labels=True, node_size=500)\n",
        "plt.show()"
      ],
      "metadata": {
        "id": "b3Gi66_gBa_I"
      },
      "execution_count": null,
      "outputs": []
    },
    {
      "cell_type": "code",
      "source": [
        "plt.figure(figsize=(8,8)) \n",
        "nx.draw_kamada_kawai(net_1, with_labels=True, node_size=500)\n",
        "plt.show()"
      ],
      "metadata": {
        "id": "JnEbntr8BcB7"
      },
      "execution_count": null,
      "outputs": []
    },
    {
      "cell_type": "markdown",
      "source": [
        " Вывести «описательную сводку» сети."
      ],
      "metadata": {
        "id": "oY_qWV8LBrXW"
      }
    },
    {
      "cell_type": "code",
      "source": [
        "print(nx.info(net_1), '\\n' + '-' * 30 + '\\n')\n",
        "for name in data_1.columns:\n",
        "  print(f\"Node {name} has the following properties:\")\n",
        "  print(f\"Входящая степень: {net_1.in_degree(name)}\")\n",
        "  print(f\"Исходящая степень: {net_1.out_degree(name)}\")\n",
        "  print(f\"Предки: {list(net_1.predecessors(name))}\")\n",
        "  print(f\"Потомки: {list(net_1.successors(name))}\")\n",
        "  print(\"\\n\")"
      ],
      "metadata": {
        "id": "XVFJv0F0BnO7"
      },
      "execution_count": null,
      "outputs": []
    },
    {
      "cell_type": "markdown",
      "source": [
        "Вычислить «пятичисловую сводку» сети:"
      ],
      "metadata": {
        "id": "TBiMfW8NByIB"
      }
    },
    {
      "cell_type": "code",
      "source": [
        "print(f\"размер {net_1.size()}\")\n",
        "print(f\"плотность через функцию {nx.density(net_1)}\")\n",
        "print(f\"кол-во компонент {nx.number_connected_components(net_1)}\")\n",
        "\n",
        "components = [net_1.subgraph(p).copy() for p in nx.connected_components(net_1)]\n",
        "diameters = []\n",
        "for comp in components:\n",
        "  print(f\"диаметр для компоненты из вершин: {' '.join(list(map(str, comp.nodes)))} \\n{nx.diameter(comp)}\")\n",
        "  diameters.append(nx.diameter(comp))\n",
        "print(f\"диаметр {max(diameters)}\")\n",
        "print(f\"коэффициент кластеризации {nx.transitivity(net_1)}\")"
      ],
      "metadata": {
        "id": "_oqTDzgtBwZj"
      },
      "execution_count": null,
      "outputs": []
    },
    {
      "cell_type": "markdown",
      "source": [
        "Вычислить среднюю степень узлов и дисперсию. Сделать выводы"
      ],
      "metadata": {
        "id": "ZFNJ1XmBCR_E"
      }
    },
    {
      "cell_type": "code",
      "source": [
        "degree_values_in = [v for k, v in net_1.in_degree()]\n",
        "degree_values_out = [v for k, v in net_1.out_degree()]\n",
        "mean_degree_in = sum(degree_values_in) / len(net_1)\n",
        "mean_degree_out = sum(degree_values_out) / len(net_1)\n",
        "disp_in = sum([(degree - mean_degree_in) ** 2 for degree in degree_values_in]) / len(degree_values_in)\n",
        "disp_out = sum([(degree - mean_degree_out) ** 2 for degree in degree_values_out]) / len(degree_values_out)\n",
        "print(f\"средняя входящая степень узла: {mean_degree_in}\\nдисперсия: {disp_in}\")\n",
        "print(f\"средняя исходящая степень узла: {mean_degree_out}\\nдисперсия: {disp_out}\")"
      ],
      "metadata": {
        "id": "ug8KFMxHCDjR"
      },
      "execution_count": null,
      "outputs": []
    },
    {
      "cell_type": "markdown",
      "source": [
        "Заполнить таблицу для различных мер престижа"
      ],
      "metadata": {
        "id": "OJqFaj1QHzq9"
      }
    },
    {
      "cell_type": "code",
      "source": [
        "P_d = {node: 0 for node in net_1.nodes}\n",
        "for v in net_1.nodes():\n",
        "  P_d[v] = len(net_1.in_edges(v)) / net_1.number_of_nodes()\n",
        "\n",
        "P_p = {node: 0 for node in net_1.nodes}\n",
        "for n_i in net_1.nodes:\n",
        "    I = list(filter(lambda x: nx.has_path(net_1, x, n_i), net_1.nodes()))\n",
        "    P_p[n_i] = len(I) ** 2 / (net_1.number_of_nodes() - 1) / sum(nx.shortest_path_length(net_1, n_j, n_i) for n_j in I)\n",
        "\n",
        "data = np.vstack([list(P_d.values()), list(P_p.values())])\n",
        "df_prestige = pd.DataFrame(data=data.T, columns=[\"P_d\", \"P_p\"])"
      ],
      "metadata": {
        "id": "-D7-SMr8Cb0b"
      },
      "execution_count": null,
      "outputs": []
    },
    {
      "cell_type": "code",
      "source": [
        "df_prestige"
      ],
      "metadata": {
        "id": "Lat3tIe9IQnk"
      },
      "execution_count": null,
      "outputs": []
    },
    {
      "cell_type": "markdown",
      "source": [
        "**Выводы**\n",
        "\n",
        "Работа выполнялась при помощи языка Python с использованием библиотек Pandas и NetworkX.\n",
        "\n",
        "В итоге были получены навыки работы с математическими пакетами для моделирования, визуализации и анализа социальных сетей."
      ],
      "metadata": {
        "id": "_ZLyskcqMyu1"
      }
    }
  ]
}
