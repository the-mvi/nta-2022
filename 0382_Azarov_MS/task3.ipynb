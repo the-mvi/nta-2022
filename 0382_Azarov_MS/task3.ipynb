{
 "cells": [
  {
   "cell_type": "markdown",
   "metadata": {},
   "source": [
    "# Практическая работа  №3: Статистический анализ социальных сетей.\n",
    "Выполнил студент гр. 0382 Азаров Максим. Вариант №24"
   ]
  },
  {
   "cell_type": "markdown",
   "metadata": {},
   "source": [
    "## Цель работы\n",
    "Овладеть навыками работы с математическими пакетами для статистического анализа социальных сетей."
   ]
  },
  {
   "cell_type": "markdown",
   "metadata": {},
   "source": [
    "## Основные теоретические положения\n",
    "## Основные теоретические положения\n",
    "\n",
    "1. **Диада** $-$ элемент сети, представляющий собой пару акторов и (возможную) связь между ними: \n",
    "$D_{ij}=(X_{ij}, X_{ji}), i\\neq j$.\n",
    "\n",
    "2. **Цензус диад** $-$ тройка чисел $M, A, N$, где:\n",
    "\n",
    "$M = \\sum_{i<j} X_{ij} X_{ji}$\n",
    "\n",
    "$A = X_{++} - 2M$\n",
    "\n",
    "$N = C^2_g - A - M$\n",
    "\n",
    "3. **Индекс взаимности Каца-Пауэлла** (Reciprocity of Katz and Powell) $-$ характеристика измерения тенденции акторов в группе. Данный индекс оценивает тенденцию акторов в группе к взаимному выбору друг друга. \n",
    "\n",
    "$-\\infty < \\rho_{кр} \\leqslant 1$.\n",
    "\n",
    "Если $\\rho_{кр} = 0$, то акторы не имеют склонности взаимно выбирать друг друга.\n",
    "\n",
    "Если $\\rho_{кр} = 1$, то акторы показывают максимальную тенденцию к взаимному выбору друг друга.\n",
    "\n",
    "Если $\\rho_{кр} < 0$, то акторы склонны образовывать односторонние связи или не образовывать их вообще.\n",
    "\n",
    "Индекс взаимности основан на ожидании количества взаимных диад, предполагая, что выбор делается акторами случайным образом. Выбор может быть фиксированным или свободным.\n",
    "\n",
    "Для фиксированного выбора из $d$ акторов:\n",
    "\n",
    "По методу моментов оценка $\\hat{\\rho}_{кр} = \\displaystyle{\\frac{2(g-1)M - gd^2}{gd(g - d - 1)}}$.\n",
    "\n",
    "Вероятность того, что связь будет взаимной для двух акторов:\n",
    "\n",
    "$\\displaystyle{P(i \\rightarrow j \\wedge j \\rightarrow i) = \\frac{d}{g - 1}\\left( \\frac{d}{g - 1} + \\rho_{кр} \\frac{g - 1 - d}{g - 1} \\right)}.$\n",
    "\n",
    "Для свободного выбора:\n",
    "\n",
    "По методу моментов оценка $\\hat{\\rho}_{кр} = \\displaystyle{\\frac{2(g-1)^2M - L^2 + L_2}{L(g - 1)^2 - L^2 - L_2}}$.\n",
    "\n",
    "Вероятность того, что связь будет взаимной для двух акторов (для каждого из акторов):\n",
    "\n",
    "$P = \\displaystyle{\\frac{x_{i+}x_{j+}}{(g - 1)^2}}.$\n",
    "\n",
    "4. **Индекс взаимности Бандиопадхьяйя** $-$ индекс, основанный на максимальной и минимальной значениях количества диад в сети. \n",
    "\n",
    "$\\rho_B = \\displaystyle{\\frac{M - M_{\\min}}{M_{\\max} - M_{\\min}}},$\n",
    "\n",
    "где $M_{\\min} = \\max f(t), 0 \\leqslant t \\leqslant g$, \n",
    "\n",
    "$M_{\\max} = \\lfloor 0.5 \\sum^g_{i = 1} x_{i+} - \\max g(t)\\rfloor, 0 \\leqslant t \\leqslant g,$\n",
    "\n",
    "$f(t) = \\sum^t_{i=1} x_{i+} - t(g - 1) - C^2_g,$\n",
    "\n",
    "$g(t) = \\sum^t_{i=1} x_{i+} - t(t - 1) - \\sum^g_{i=t+1} \\min (t, x_{i+}).$\n",
    "\n",
    "5. **Вычисление доверительного интервала для оценки P.**\n",
    "\n",
    "Оценка параметра $P$:\n",
    "\n",
    "$\\hat{P} = \\displaystyle{\\frac{\\sum_{i = 1}^g \\sum_{j = 1}^g x_{ij}}{g(g-1)} = \\frac{l}{g(g - 1)}}.$\n",
    "\n",
    "Доверительный интервал: $\\hat{P}_{lower} \\leqslant P \\leqslant \\hat{P}_{upper}$.\n",
    "\n",
    "$\\hat{P}_{lower} = \\displaystyle{\\hat{P} - z_{\\alpha/2} \\sqrt\\frac{\\hat{P}(1- \\hat{P})}{g(g-1)}}$\n",
    "\n",
    "$\\hat{P}_{lower} = \\displaystyle{\\hat{P} + z_{\\alpha/2} \\sqrt\\frac{\\hat{P}(1- \\hat{P})}{g(g-1)}}$\n",
    "\n",
    "$z_{\\alpha/2}$ вычисляется из $\\Phi(z_{\\alpha/2}) = 0.5 - 0.5 \\alpha$, где $\\alpha - $ некоторый уровень значимости, $(1 - \\alpha) - $ доверительная надёжность. "
   ]
  },
  {
   "cell_type": "markdown",
   "metadata": {},
   "source": [
    "## Постановка задачи\n",
    "С помощью математических пакетов и соответствующих библиотек провести статистический анализ случайно смоделированного ориентированного графа. Полученные результаты содержательно проинтерпретировать."
   ]
  },
  {
   "cell_type": "markdown",
   "metadata": {},
   "source": [
    "## Выполнение работы\n"
   ]
  },
  {
   "cell_type": "code",
   "execution_count": 55,
   "metadata": {},
   "outputs": [
    {
     "name": "stderr",
     "output_type": "stream",
     "text": [
      "Warning message:\n",
      "\"пакет ''statnet'' сейчас используется и не будет установлен\"\n",
      "устанавливаю также зависимости 'ellipsis', 'sys', 'rematch', 'hms', 'prettyunits', 'askpass', 'rootSolve', 'e1071', 'lmom', 'cellranger', 'cpp11', 'progress', 'curl', 'mime', 'openssl', 'R6', 'mvtnorm', 'expm', 'rstudioapi', 'Exact', 'gld', 'data.table', 'readxl', 'httr'\n",
      "\n",
      "\n"
     ]
    },
    {
     "name": "stdout",
     "output_type": "stream",
     "text": [
      "пакет 'ellipsis' успешно распакован, MD5-суммы проверены\n",
      "пакет 'sys' успешно распакован, MD5-суммы проверены\n",
      "пакет 'rematch' успешно распакован, MD5-суммы проверены\n",
      "пакет 'hms' успешно распакован, MD5-суммы проверены\n",
      "пакет 'prettyunits' успешно распакован, MD5-суммы проверены\n",
      "пакет 'askpass' успешно распакован, MD5-суммы проверены\n",
      "пакет 'rootSolve' успешно распакован, MD5-суммы проверены\n",
      "пакет 'e1071' успешно распакован, MD5-суммы проверены\n",
      "пакет 'lmom' успешно распакован, MD5-суммы проверены\n",
      "пакет 'cellranger' успешно распакован, MD5-суммы проверены\n",
      "пакет 'cpp11' успешно распакован, MD5-суммы проверены\n",
      "пакет 'progress' успешно распакован, MD5-суммы проверены\n",
      "пакет 'curl' успешно распакован, MD5-суммы проверены\n",
      "пакет 'mime' успешно распакован, MD5-суммы проверены\n",
      "пакет 'openssl' успешно распакован, MD5-суммы проверены\n",
      "пакет 'R6' успешно распакован, MD5-суммы проверены\n",
      "пакет 'mvtnorm' успешно распакован, MD5-суммы проверены\n",
      "пакет 'expm' успешно распакован, MD5-суммы проверены\n",
      "пакет 'rstudioapi' успешно распакован, MD5-суммы проверены\n",
      "пакет 'Exact' успешно распакован, MD5-суммы проверены\n",
      "пакет 'gld' успешно распакован, MD5-суммы проверены\n",
      "пакет 'data.table' успешно распакован, MD5-суммы проверены\n",
      "пакет 'readxl' успешно распакован, MD5-суммы проверены\n",
      "пакет 'httr' успешно распакован, MD5-суммы проверены\n",
      "пакет 'DescTools' успешно распакован, MD5-суммы проверены\n",
      "\n",
      "Скачанные бинарные пакеты находятся в\n",
      "\tC:\\Users\\Leo_D_Neo\\AppData\\Local\\Temp\\RtmpUxLIwe\\downloaded_packages\n"
     ]
    }
   ],
   "source": [
    "install.packages('statnet')\n",
    "install.packages(\"DescTools\")"
   ]
  },
  {
   "cell_type": "code",
   "execution_count": 56,
   "metadata": {},
   "outputs": [
    {
     "name": "stderr",
     "output_type": "stream",
     "text": [
      "Warning message:\n",
      "\"пакет 'DescTools' был собран под R версии 4.2.2\"\n",
      "\n",
      "Присоединяю пакет: 'DescTools'\n",
      "\n",
      "\n",
      "Следующий объект скрыт от 'package:network':\n",
      "\n",
      "    %c%\n",
      "\n",
      "\n",
      "Следующий объект скрыт от 'package:igraph':\n",
      "\n",
      "    %c%\n",
      "\n",
      "\n"
     ]
    }
   ],
   "source": [
    "library(igraph)\n",
    "library(statnet)\n",
    "library(DescTools)\n",
    "#Вариант 24\n",
    "g <- 68 \n",
    "p <- 0.58\n",
    "P_0 <- 0.54 \n",
    "alpha <- 0.04"
   ]
  },
  {
   "cell_type": "markdown",
   "metadata": {},
   "source": [
    "### Задание 1 \n",
    "С помощью библиотеки igraph смоделировать случайный орграф\n",
    "$\\mathscr G_d$ на основе модели Эрдеша—Реньи: $\\mathscr G_𝑑 = \\mathscr G (𝑔, 𝑝)$, где 𝑔 – количество акторов, 𝑝 – вероятность появления дуги между акторами. В R\n",
    "для модели случайного графа Эрдеша—Реньи существует функция\n",
    "erdos.renyi.game(). Ознакомьтесь с данной моделью и опишите\n",
    "её.\n"
   ]
  },
  {
   "cell_type": "code",
   "execution_count": 4,
   "metadata": {},
   "outputs": [],
   "source": [
    "graph <- erdos.renyi.game(g, p, \"gnp\", directed = T)"
   ]
  },
  {
   "cell_type": "markdown",
   "metadata": {},
   "source": [
    "Существует два тесно связанных варианта модели случайного графа Эрдеша–Реньи:\n",
    "- В $G(g,m)$ модели граф выбирается равномерно случайным образом из набора всех графов, имеющих $g$ узлов и $m$ ребер. Узлы считаются помеченными, что означает, что графы, полученные друг из друга путем перестановки вершин, считаются различными. Например, в $ G(3,2)$ модели есть три двухреберных графа на трех помеченных вершинах (по одному для каждого выбора средней вершины в пути с двумя ребрами), и каждый из этих трех графов включен с вероятностью $\\frac {1}{3}$. \n",
    "- В  $G(g,p)$ модели граф строится путем случайного соединения помеченных узлов. Каждое ребро включено в граф с вероятностью $p$, независимо от любого другого ребра. Эквивалентно, вероятность генерации каждого графа, имеющего $p$ узлов и $m$ ребер, равна\n",
    "$$ p^{m}(1-p)^{\\binom{n}{2}-m}$$\n",
    "Параметр $p$ в этой модели можно рассматривать как весовую функцию; при $p$ увеличении от  0 до 1 модель с большей вероятностью будет включать графики с большим количеством ребер и с меньшей вероятностью будет включать графики с меньшим количеством ребер. В частности, случай $ p= \\frac {1}{2}$ соответствует случаю, когда все $ 2^{\\binom {n}{2}}$графы на $g$ вершинах выбираются с равной вероятностью."
   ]
  },
  {
   "cell_type": "markdown",
   "metadata": {},
   "source": [
    "### Задание 2\n",
    "Отобразить полученный орграф."
   ]
  },
  {
   "cell_type": "code",
   "execution_count": 18,
   "metadata": {},
   "outputs": [
    {
     "data": {
      "image/png": "[encoded data removed]",
      "text/plain": [
       "Plot with title \"\""
      ]
     },
     "metadata": {
      "image/png": {
       "height": 420,
       "width": 420
      }
     },
     "output_type": "display_data"
    }
   ],
   "source": [
    "plot(graph, \n",
    "     vertex.size = 15, \n",
    "     edge.arrow.size=.5)"
   ]
  },
  {
   "cell_type": "markdown",
   "metadata": {},
   "source": [
    "### Задание 3\n",
    "Вычислить «пятичисловую сводку» для графа $\\mathscr G_𝑑$."
   ]
  },
  {
   "cell_type": "code",
   "execution_count": 24,
   "metadata": {},
   "outputs": [
    {
     "name": "stderr",
     "output_type": "stream",
     "text": [
      "<sparse>[ <logic> ] : .M.sub.i.logical() maybe inefficient\n",
      "\n"
     ]
    },
    {
     "name": "stdout",
     "output_type": "stream",
     "text": [
      "Размер сети:  68 \n",
      "Плотность сети:  0.5735294 \n",
      "Число компонент:  1 \n",
      "Диаметр сети:  2 \n",
      "Коэффициент кластеризации:  0.573159 \n"
     ]
    }
   ],
   "source": [
    "net <- network(as_adjacency_matrix(graph), directed = T)\n",
    "\n",
    "cat(\"Размер сети: \", network.size(net), \"\\n\")\n",
    "\n",
    "cat(\"Плотность сети: \", gden(net), \"\\n\")\n",
    "\n",
    "cat(\"Число компонент: \", components(net), \"\\n\")\n",
    "\n",
    "cat(\"Диаметр сети: \", diameter(graph), \"\\n\")\n",
    "\n",
    "cat(\"Коэффициент кластеризации: \", gtrans(net, mode = \"graph\"), \"\\n\")"
   ]
  },
  {
   "cell_type": "markdown",
   "metadata": {},
   "source": [
    "### Задание 4\n",
    "Вычислить цензус диад. Сделать выводы."
   ]
  },
  {
   "cell_type": "code",
   "execution_count": 27,
   "metadata": {},
   "outputs": [
    {
     "data": {
      "text/html": [
       "<dl>\n",
       "\t<dt>$mut</dt>\n",
       "\t\t<dd>761</dd>\n",
       "\t<dt>$asym</dt>\n",
       "\t\t<dd>1091</dd>\n",
       "\t<dt>$null</dt>\n",
       "\t\t<dd>426</dd>\n",
       "</dl>\n"
      ],
      "text/latex": [
       "\\begin{description}\n",
       "\\item[\\$mut] 761\n",
       "\\item[\\$asym] 1091\n",
       "\\item[\\$null] 426\n",
       "\\end{description}\n"
      ],
      "text/markdown": [
       "$mut\n",
       ":   761\n",
       "$asym\n",
       ":   1091\n",
       "$null\n",
       ":   426\n",
       "\n",
       "\n"
      ],
      "text/plain": [
       "$mut\n",
       "[1] 761\n",
       "\n",
       "$asym\n",
       "[1] 1091\n",
       "\n",
       "$null\n",
       "[1] 426\n"
      ]
     },
     "metadata": {},
     "output_type": "display_data"
    }
   ],
   "source": [
    "dyad_census(graph)"
   ]
  },
  {
   "cell_type": "markdown",
   "metadata": {},
   "source": [
    "**Вывод:** \n",
    "- Количество пар с взаимными соединениями 𝑀  равно 761.\n",
    "\n",
    "- Количество однонаправленных соединений 𝐴  равно 1091.\n",
    "\n",
    "- Количество пар, между которыми нет соединений  𝑁  равно 426.\n",
    "\n",
    "Отсюда следует что больше всего пар с однонаправлеными соединениями, а меньше всего пар между которыми связей нет."
   ]
  },
  {
   "cell_type": "markdown",
   "metadata": {},
   "source": [
    "### Задание 5\n",
    "Вычислить оценку индекса взаимности Каца—Пауэла при фиксированом выборе акторов 𝑑 и при свободном выборе. Сделать выводы.\n"
   ]
  },
  {
   "cell_type": "code",
   "execution_count": 34,
   "metadata": {},
   "outputs": [
    {
     "name": "stdout",
     "output_type": "stream",
     "text": [
      "При фиксированном d = 30: 0.5401961 \n",
      "При свободном выборе: 0.02123369"
     ]
    }
   ],
   "source": [
    "d <- 30 \n",
    "m <- dyad_census(graph)$mut\n",
    "rho <- (2*(g-1)*m - g * d^2)/(g*d*(g - 1 - d))\n",
    "cat(\"При фиксированном d = 30:\",rho, \"\\n\")\n",
    "\n",
    "adj_matrix <- as.matrix(as_adjacency_matrix(graph))\n",
    "L <- sum(rowSums(adj_matrix))\n",
    "L2 <- sum(rowSums(adj_matrix)^2)\n",
    "rho2 <- (2*(g - 1)^2 * m - L^2 + L2)/(L*(g - 1)^2 - L^2 + L2)\n",
    "cat(\"При свободном выборе:\",rho2)"
   ]
  },
  {
   "cell_type": "markdown",
   "metadata": {},
   "source": [
    "**Вывод:** \n",
    "- для фиксированого выбора акторов (d = 30),  акторы  склонны образовывать взаимные связи.\n",
    "- для свободного выбора ,  акторы не имеют склонности взаимно выбирать друг друга."
   ]
  },
  {
   "cell_type": "markdown",
   "metadata": {},
   "source": [
    "### Задание 6\n",
    "Вычислить вероятность того, что связь будет взаимной для каждого случая."
   ]
  },
  {
   "cell_type": "code",
   "execution_count": 36,
   "metadata": {},
   "outputs": [
    {
     "name": "stdout",
     "output_type": "stream",
     "text": [
      "Вероятность взаимной связм для фиксированного выбора: 0.334065 \n",
      "Вероятность взаимной связм для свободного выбора: 0.3284467"
     ]
    }
   ],
   "source": [
    "p_fix <- (d / (g-1)) * ((d/(g-1)) + rho*(g - 1 - d) / (g - 1))\n",
    "cat(\"Вероятность взаимной связм для фиксированного выбора:\",p_fix, \"\\n\")\n",
    "\n",
    "p_free <- (rowSums(adj_matrix) * colSums(adj_matrix))/(g - 1)^2\n",
    "p_free_avg <- sum(p_free)/g\n",
    "cat(\"Вероятность взаимной связм для свободного выбора:\",p_free_avg)"
   ]
  },
  {
   "cell_type": "markdown",
   "metadata": {},
   "source": [
    "### Задание 7\n",
    "Вычислить индекс взаимности Бандиопадхьяйя. Сделать выводы.\n"
   ]
  },
  {
   "cell_type": "code",
   "execution_count": 41,
   "metadata": {},
   "outputs": [
    {
     "name": "stdout",
     "output_type": "stream",
     "text": [
      "Индекс взаимности Бандиопадхьяйя: 0.5829493"
     ]
    }
   ],
   "source": [
    "g_func <- function(row_sum, g, t) {\n",
    "    xi_sum <- sum(row_sum[1:t])\n",
    "    min_sum <- 0   \n",
    "    for (i in (t+1):g) {\n",
    "        min_sum <- min_sum + min(c(t, row_sum[i]))\n",
    "    }\n",
    "    res <- xi_sum - t*(t-1) - min_sum\n",
    "    return(res)\n",
    "}\n",
    "\n",
    "f_func <- function(row_sum, g, t) {\n",
    "    xi_sum <- sum(row_sum[1:t])\n",
    "    combination <- factorial(t)/(factorial(2) * factorial(t-2))\n",
    "    res <- xi_sum - t*(g-1) - combination \n",
    "    return(res)\n",
    "}\n",
    "\n",
    "row_sum <- rowSums(adj_matrix)\n",
    "\n",
    "g_res <- rep(2, g - 1)\n",
    "for (t in 2:(g-1)) {\n",
    "    g_res[t] <- g_func(row_sum, g, t)\n",
    "}\n",
    "\n",
    "f_res <- rep(2, g)\n",
    "for (t in 2:g) {\n",
    "    f_res[t] <- f_func(row_sum, g, t)\n",
    "}\n",
    "\n",
    "m_max <- floor(0.5 * sum(row_sum[1:g]) - max(g_res))\n",
    "m_min <- max(f_res)\n",
    "\n",
    "Ban_index <- (m - m_min)/(m_max - m_min)\n",
    "cat(\"Индекс взаимности Бандиопадхьяйя:\",Ban_index)"
   ]
  },
  {
   "cell_type": "markdown",
   "metadata": {},
   "source": [
    "**Вывод**: Можем заметить что индекс взаимности Бандиопадхьяйя примерно равен значению $p$"
   ]
  },
  {
   "cell_type": "markdown",
   "metadata": {},
   "source": [
    "### Задание 8\n",
    "Проверить нулевую гипотезу о том, что число дуг $𝐿$ в орграфе $\\mathscr G_𝑑$ имеет биномиальное распределение $𝐿 ∼ Bin(𝑔(𝑔 − 1), 1/2)$ при уровне значимости $𝛼$. Определить максимальный уровень значимости при котором нулевая гипотеза не отвергается.\n"
   ]
  },
  {
   "cell_type": "code",
   "execution_count": 51,
   "metadata": {},
   "outputs": [
    {
     "name": "stdout",
     "output_type": "stream",
     "text": [
      "Привдива ли нулевая гипотеза: FALSE \n",
      "Максимальный уровень значимости при котором нулевая гипотеза не отвергается: 3.10898e-23"
     ]
    }
   ],
   "source": [
    "l <- sum(adj_matrix)\n",
    "b_test <- binom.test(l, g*(g-1), p = 0.5)\n",
    "\n",
    "cat(\"Привдива ли нулевая гипотеза:\",b_test$p.value >= 0.05, \"\\n\")\n",
    "cat(\"Максимальный уровень значимости при котором нулевая гипотеза не отвергается:\", b_test$p.value)"
   ]
  },
  {
   "cell_type": "markdown",
   "metadata": {},
   "source": [
    "### Задание 9\n",
    "Проверить нулевую гипотезу о том, что число дуг $𝐿$ в орграфе $\\mathscr G_𝑑$\n",
    "имеет биномиальное распределение $𝐿 ∼ Bin(𝑔(𝑔−1), 𝑃_0)$ при уровне\n",
    "значимости $𝛼$. Определить максимальный уровень значимости при\n",
    "котором нулевая гипотеза не отвергается."
   ]
  },
  {
   "cell_type": "code",
   "execution_count": 68,
   "metadata": {},
   "outputs": [
    {
     "name": "stdout",
     "output_type": "stream",
     "text": [
      "Привдива ли нулевая гипотеза: FALSE \n",
      "Максимальный уровень значимости при котором нулевая гипотеза не отвергается: 5.765674e-06"
     ]
    }
   ],
   "source": [
    "l <- sum(adj_matrix)\n",
    "b_test <- binom.test(l, g*(g-1), p = P_0)\n",
    "\n",
    "cat(\"Привдива ли нулевая гипотеза:\",b_test$p.value >= 0.05, \"\\n\")\n",
    "cat(\"Максимальный уровень значимости при котором нулевая гипотеза не отвергается:\", b_test$p.value)"
   ]
  },
  {
   "cell_type": "markdown",
   "metadata": {},
   "source": [
    "### Задание 10\n",
    "Построить доверительный интервал для оценки параметра $𝑝$ с доверительной надёжностью $1 − 𝛼$. Сделать выводы"
   ]
  },
  {
   "cell_type": "code",
   "execution_count": 67,
   "metadata": {},
   "outputs": [
    {
     "name": "stdout",
     "output_type": "stream",
     "text": [
      "Значение оценки параметра p: 0.5735294 \n",
      "Доверительный интервал: [ 0.5584202 ;  0.5885026 ]\n"
     ]
    }
   ],
   "source": [
    "l <- sum(adj_matrix)\n",
    "ans <- BinomCI(l,  g*(g-1), conf.level = 1-alpha)\n",
    "\n",
    "cat(\"Значение оценки параметра p:\",ans[1],\"\\n\")\n",
    "cat(\"Доверительный интервал: [\",ans[2],\"; \",ans[3],\"]\\n\")"
   ]
  },
  {
   "cell_type": "markdown",
   "metadata": {},
   "source": [
    "**Вывод:** Учитывая тот факт, что мы знаем истинное значение  $𝑝 = 0.58$ , можно утверждать, что доверительный интервал вычислен верно."
   ]
  },
  {
   "cell_type": "markdown",
   "metadata": {},
   "source": [
    "## Выводы\n",
    "\n",
    "В ходе выполнения данной практической работы был проведен статистический анализ случайно смоделированного ориентированного графа с использованием средств и библиотек языка R. А именно был визуализирован сгенерированный граф , была посчитана его пятичисловая сводка, вычислены  цензус диад, оценка индекса взаимности Каца—Пауэла, индекс взаимности Бандиопадхьяйя, проверены гипотезы о биномиальном распределении числе дуг и построен доверительный интервал. Где необхожимо , был сделан содержательный вывод.\n"
   ]
  }
 ],
 "metadata": {
  "kernelspec": {
   "display_name": "R",
   "language": "R",
   "name": "ir"
  },
  "language_info": {
   "codemirror_mode": "r",
   "file_extension": ".r",
   "mimetype": "text/x-r-source",
   "name": "R",
   "pygments_lexer": "r",
   "version": "4.2.1"
  }
 },
 "nbformat": 4,
 "nbformat_minor": 4
}
