{
 "cells": [
  {
   "cell_type": "markdown",
   "metadata": {
    "id": "jR1__c7BI3TP"
   },
   "source": [
    "# Практическая работа №1: Основы анализа и моделирования социальных сетей\n",
    "\n",
    "Выполнил студент гр. 0382 Азаров Максим. Вариант №1"
   ]
  },
  {
   "cell_type": "markdown",
   "metadata": {
    "id": "0smsk9_tI3TR"
   },
   "source": [
    "## Цель работы\n",
    "Овладеть навыками работы с математическими пакетами для моделирования, визуализации и анализа социальных сетей.\n"
   ]
  },
  {
   "cell_type": "markdown",
   "metadata": {
    "id": "28tMUGsgI3TS"
   },
   "source": [
    "## Основные теоретические положения\n",
    "### Определения\n",
    "**Социоматрица** - матрица размера gxg, описывающая смежные узлы сети.\n",
    "\n",
    "**Актор** - это дискретные индивидуальные , корпоративные или колективные социальные единицы. \n",
    "\n",
    "**Размер сети** - количество акторов в сети.\n",
    "\n",
    "**Плотность сети** - отношение количества ребер в сети к теоретически возможному при данном количестве акторов.\n",
    "\n",
    "**Диаметр сети** - величина максимального кратчайшего пути между двумя акторами.\n",
    "\n",
    "**Коэффициент кластеризации** - доля закрытых триад к общему количеству триад.\n",
    "\n",
    "**Дисперсия степени узла:**<br>\n",
    "$S_D = \\frac{1}{g}\\sum_{i=1}^{g}(d(n_i) - \\bar{d})^2$ <br>\n",
    ", где <br>\n",
    "  $g$ - количество акторов <br>\n",
    "  $d(n_i)$ - степень актора $n_i$ <br>\n",
    "  $\\bar{d}$ - средняя степень акторов <br>\n",
    "  \n",
    "**Мера центральности** - показатель центральности или близости к центру в теории графов и анализе сетей; определяет наиболее важные вершины графа. \n",
    "\n",
    "**Центральность по степени:**\n",
    "$C_D^{\\prime}(n_i)=d(n_i)$\n",
    "\n",
    "**Нормализированная центральность по степени:**\n",
    "$C_D^{\\prime}(n_i)=\\frac{d(n_i)}{g - 1}$\n",
    "\n",
    "**Центральность по близости:**\n",
    "$C_C^{\\prime}(n_i)=(\\sum_{j=1}^{g}d(n_i, n_j))^{-1}$, <br>\n",
    "где $d(n_i, n_j)$ - расстояние между акторами $n_i$ и $n_j$\n",
    "  \n",
    "**Нормализированная центральность по близости**\n",
    "$C_C^{\\prime}(n_i)=(g - 1)* C_C(n_i)$\n",
    "  \n",
    "**Центральность по посредничеству**\n",
    "$$C_B(n_i)=\\sum_{j < k}\\frac{g_{jk}(n_i)}{g_{jk}}$$, \n",
    "  где <br>\n",
    "  $g_{jk}(n_i)$ - количество кратчайших путей между акторами с индексами $j$ и $k$, содержащих актор $n_i$ <br>\n",
    "  $g_{jk}$ - количество кратчайших путей между акторами с индексами $j$ и $k$\n",
    "  \n",
    "**Нормализированная центральность по посредничеству**\n",
    "$$C_B^{\\prime}(n_i)= \\frac{C_B(n_i)}{C_2^{g-1}}$$\n",
    "\n",
    "**Центральность по информации** <br>\n",
    "$$C_I(n_i)=\\frac{1}{c_{ii} + \\frac{(\\textbf{T} - \\textbf{2R})}{g}}$$\n",
    "\n",
    " Переменные $c_{ii}, T, R$ вычисляются следующим образом: <br>\n",
    " Создается матрица $A$. \n",
    " $a_{ii} = 1 + $ сумма линий, инцедентных актору $n_i$\n",
    "$\n",
    "  a_{ij} =\n",
    "    \\begin{cases}\n",
    "      1 & \\text{if nodes $n_i$ and $n_j$ are not adjacent}\\\\\n",
    "      {1 - x_{ij}} & \\text{if nodes $n_i$ and $n_j$ are adjacent. }\\\\\n",
    "    \\end{cases}       \n",
    "$ <br>\n",
    "$C = A^{-1}$ <br>\n",
    "$T = \\sum_{i=1}^{g}c_{ii}$ <br>\n",
    "$R = \\sum_{j=1}^{g}c_{ij}$ <br>\n",
    "\n",
    "**Нормализированная центральность по информации**\n",
    "$$C_I^{\\prime}(n_i)=\\frac{C_I(n_i)}{\\sum_{i}C_I(n_i)}$$\n",
    "\n",
    "**Централизации по степени**\n",
    "$$C_D = \\frac{\\sum_{i=1}^{g}[C_D(n^{*}) - C_D(n_i)]}{(g-1)(g-2)}$$ \n",
    "где, $C_D(n^{*})$ - максимум среди всех значений центральности\n",
    "\n",
    "\n",
    "**Централизация по близости**\n",
    "$$C_C=\\frac{(2g-3)\\sum_{i=1}^{g}[C_C^{\\prime}(n^{*}) - C_C^{\\prime}(n_i)]}{(g-1)(g-2)}$$\n",
    "\n",
    "**Централизация по посредничеству**\n",
    "$$C_B = \\frac{\\sum_{i=1}^{g}[C_B^{\\prime}(n^{*}) - C_B^{\\prime}(n_i)]}{(g-1)}$$\n",
    "\n",
    "**Централизация по информации** \n",
    "$$S_I = \\frac{1}{g}\\sum_{i=1}^{g}(C_I^{\\prime}(n_i) - \\bar{C_I})^2$$ \n",
    "где, $\\bar{C_I} = \\sum_{i=1}^{g} C_I(n_i)$\n",
    "\n",
    "**Престиж актора** - мера , характеризующая актор с большим количеством входных связей.\n",
    "\n",
    "**Престиж по степени** <br>\n",
    "$$P_D^{\\prime}(n_i) = d_I(n_i)$$\n",
    "\n",
    "$d_I(n_i)$ - количество входящих ребер\n",
    "\n",
    "**Номрализованный престиж по степени** <br>\n",
    "$$P_D^{\\prime}(n_i) = \\frac{d_I(n_i)}{g-1}$$\n",
    "\n",
    "\n",
    "\n",
    "**Престиж по близости** \n",
    "$$P_P(n_i) = \\frac{I_i/(g-1)}{\\sum d(n_j, n_i) / I_i}$$ \n",
    "$I_i$ - количество акторов, из которых актор $i$ достижим\n",
    "\n",
    "**Престиж по рангу**\n",
    "$$(I - X^{T})p = 0$$\n",
    "$I$ - единичная матрица <br>\n",
    "$X$ - социоматрица <br>\n",
    "$p$ - вектор значений престижа\n",
    "\n"
   ]
  },
  {
   "cell_type": "markdown",
   "metadata": {
    "id": "py03tmiVI3TS"
   },
   "source": [
    "## Постановка задачи\n",
    "С помощью математических пакетов и соответствующих библиотек провести анализ заданных социальных сетей вычислить описательные характеристики. Полученные результаты содержательно проинтерпретировать.\n"
   ]
  },
  {
   "cell_type": "markdown",
   "metadata": {
    "id": "2wsCkxtVI3TT"
   },
   "source": [
    "## Выполнение работы\n",
    "Каждый пункт работы (*по возможности*) выполняется с помощью кода.\n",
    "Рекомендованные языки программирования – R или Python."
   ]
  },
  {
   "cell_type": "code",
   "execution_count": 3,
   "metadata": {
    "colab": {
     "base_uri": "https://localhost:8080/"
    },
    "id": "3l2b0n6ehAWh",
    "outputId": "bac5e7bf-09a4-4402-b713-9633076bd0a0"
   },
   "outputs": [
    {
     "name": "stdout",
     "output_type": "stream",
     "text": [
      "[1] \"C:/Home/Вуз/5_сем/МатПак/Практические работы/task1\"\n"
     ]
    }
   ],
   "source": [
    "print(getwd())"
   ]
  },
  {
   "cell_type": "markdown",
   "metadata": {
    "id": "n4TVnCXglImT"
   },
   "source": [
    "#### **1.** Извлечь социоматрици с помощью соответствующих функций. Вывести полученной социоматрици на экран.\n"
   ]
  },
  {
   "cell_type": "code",
   "execution_count": 54,
   "metadata": {
    "colab": {
     "base_uri": "https://localhost:8080/"
    },
    "id": "ARRW-_3thMqa",
    "outputId": "0f5794cb-5301-4db4-ec8a-46a655a72926"
   },
   "outputs": [
    {
     "name": "stdout",
     "output_type": "stream",
     "text": [
      "   Acciaiuoli Albizzi Barbadori Bischeri Castellani Ginori Guadagni\n",
      "1           0       0         0        0          0      0        0\n",
      "2           0       0         0        0          0      0        0\n",
      "3           0       0         0        0          1      1        0\n",
      "4           0       0         0        0          0      0        1\n",
      "5           0       0         1        0          0      0        0\n",
      "6           0       0         1        0          0      0        0\n",
      "7           0       0         0        1          0      0        0\n",
      "8           0       0         0        1          1      0        1\n",
      "9           0       0         1        0          0      1        0\n",
      "10          0       0         0        0          0      0        0\n",
      "11          0       0         1        1          1      0        0\n",
      "12          0       0         0        0          0      0        0\n",
      "13          0       0         0        0          0      0        0\n",
      "14          0       0         0        0          0      0        0\n",
      "15          0       0         0        0          0      0        0\n",
      "16          0       0         0        0          0      0        0\n",
      "   Lamberteschi Medici Pazzi Peruzzi Pucci Ridolfi Salviati Strozzi Tornabuoni\n",
      "1             0      0     0       0     0       0        0       0          0\n",
      "2             0      0     0       0     0       0        0       0          0\n",
      "3             0      1     0       1     0       0        0       0          0\n",
      "4             1      0     0       1     0       0        0       0          0\n",
      "5             1      0     0       1     0       0        0       0          0\n",
      "6             0      1     0       0     0       0        0       0          0\n",
      "7             1      0     0       0     0       0        0       0          0\n",
      "8             0      0     0       1     0       0        0       0          0\n",
      "9             0      0     1       0     0       0        1       0          1\n",
      "10            0      1     0       0     0       0        0       0          0\n",
      "11            1      0     0       0     0       0        0       0          0\n",
      "12            0      0     0       0     0       0        0       0          0\n",
      "13            0      0     0       0     0       0        0       0          0\n",
      "14            0      1     0       0     0       0        0       0          0\n",
      "15            0      0     0       0     0       0        0       0          0\n",
      "16            0      1     0       0     0       0        0       0          0\n"
     ]
    }
   ],
   "source": [
    "df <- read.csv(\"./odd/florentine_business.csv\", comment.char = \"#\")\n",
    "print(df)"
   ]
  },
  {
   "cell_type": "markdown",
   "metadata": {
    "id": "jIiA1TCQlTC6"
   },
   "source": [
    "#### 2.Преобразовать социоматрици в список рёбер. Вывести первые 5 элементов списка рёбер."
   ]
  },
  {
   "cell_type": "code",
   "execution_count": 5,
   "metadata": {
    "colab": {
     "base_uri": "https://localhost:8080/"
    },
    "id": "dVWHiGZjhMsh",
    "outputId": "276438e1-f1a7-411a-e9e1-ae13b52e2606"
   },
   "outputs": [
    {
     "name": "stderr",
     "output_type": "stream",
     "text": [
      "Warning message in install.packages(\"igraph\"):\n",
      "\"'lib = \"C:/Program Files/R/R-4.2.1/library\"' не для записи\"\n"
     ]
    },
    {
     "ename": "ERROR",
     "evalue": "Error in install.packages(\"igraph\"): не могу установить пакеты\n",
     "output_type": "error",
     "traceback": [
      "Error in install.packages(\"igraph\"): не могу установить пакеты\nTraceback:\n",
      "1. install.packages(\"igraph\")",
      "2. stop(\"unable to install packages\")"
     ]
    }
   ],
   "source": [
    "install.packages(\"igraph\")"
   ]
  },
  {
   "cell_type": "code",
   "execution_count": 6,
   "metadata": {
    "colab": {
     "base_uri": "https://localhost:8080/"
    },
    "id": "vCVe2VcPhMvi",
    "outputId": "a7bdbb33-176a-4779-f8c2-565dee585ce7"
   },
   "outputs": [
    {
     "name": "stderr",
     "output_type": "stream",
     "text": [
      "\n",
      "Присоединяю пакет: 'igraph'\n",
      "\n",
      "\n",
      "Следующие объекты скрыты от 'package:stats':\n",
      "\n",
      "    decompose, spectrum\n",
      "\n",
      "\n",
      "Следующий объект скрыт от 'package:base':\n",
      "\n",
      "    union\n",
      "\n",
      "\n"
     ]
    }
   ],
   "source": [
    "library(igraph)"
   ]
  },
  {
   "cell_type": "code",
   "execution_count": 55,
   "metadata": {
    "colab": {
     "base_uri": "https://localhost:8080/",
     "height": 286
    },
    "id": "h4eOqNUKhM0a",
    "outputId": "82372225-4117-48be-e312-def49716427c"
   },
   "outputs": [
    {
     "data": {
      "text/html": [
       "<table class=\"dataframe\">\n",
       "<caption>A data.frame: 5 × 2</caption>\n",
       "<thead>\n",
       "\t<tr><th></th><th scope=col>from</th><th scope=col>to</th></tr>\n",
       "\t<tr><th></th><th scope=col>&lt;chr&gt;</th><th scope=col>&lt;chr&gt;</th></tr>\n",
       "</thead>\n",
       "<tbody>\n",
       "\t<tr><th scope=row>1</th><td>Barbadori</td><td>Castellani</td></tr>\n",
       "\t<tr><th scope=row>2</th><td>Barbadori</td><td>Ginori    </td></tr>\n",
       "\t<tr><th scope=row>3</th><td>Barbadori</td><td>Medici    </td></tr>\n",
       "\t<tr><th scope=row>4</th><td>Barbadori</td><td>Peruzzi   </td></tr>\n",
       "\t<tr><th scope=row>5</th><td>Bischeri </td><td>Guadagni  </td></tr>\n",
       "</tbody>\n",
       "</table>\n"
      ],
      "text/latex": [
       "A data.frame: 5 × 2\n",
       "\\begin{tabular}{r|ll}\n",
       "  & from & to\\\\\n",
       "  & <chr> & <chr>\\\\\n",
       "\\hline\n",
       "\t1 & Barbadori & Castellani\\\\\n",
       "\t2 & Barbadori & Ginori    \\\\\n",
       "\t3 & Barbadori & Medici    \\\\\n",
       "\t4 & Barbadori & Peruzzi   \\\\\n",
       "\t5 & Bischeri  & Guadagni  \\\\\n",
       "\\end{tabular}\n"
      ],
      "text/markdown": [
       "\n",
       "A data.frame: 5 × 2\n",
       "\n",
       "| <!--/--> | from &lt;chr&gt; | to &lt;chr&gt; |\n",
       "|---|---|---|\n",
       "| 1 | Barbadori | Castellani |\n",
       "| 2 | Barbadori | Ginori     |\n",
       "| 3 | Barbadori | Medici     |\n",
       "| 4 | Barbadori | Peruzzi    |\n",
       "| 5 | Bischeri  | Guadagni   |\n",
       "\n"
      ],
      "text/plain": [
       "  from      to        \n",
       "1 Barbadori Castellani\n",
       "2 Barbadori Ginori    \n",
       "3 Barbadori Medici    \n",
       "4 Barbadori Peruzzi   \n",
       "5 Bischeri  Guadagni  "
      ]
     },
     "metadata": {},
     "output_type": "display_data"
    }
   ],
   "source": [
    "mat <- data.matrix(df)\n",
    "graph_data <- graph.adjacency(mat, mode=\"undirected\") # создаем ненаправленный граф\n",
    "\n",
    "edgelist <- get.data.frame(graph_data)\n",
    "head(edgelist,5)"
   ]
  },
  {
   "cell_type": "markdown",
   "metadata": {
    "id": "xQTqZzn-sYKi"
   },
   "source": [
    "#### 3.Присвоить имен столбцам и строкам социоматрицы."
   ]
  },
  {
   "cell_type": "code",
   "execution_count": 8,
   "metadata": {
    "colab": {
     "base_uri": "https://localhost:8080/",
     "height": 620
    },
    "id": "_cRBiT-qhM2q",
    "outputId": "97ffdac5-2feb-4551-b7cf-74a14a56d306"
   },
   "outputs": [
    {
     "data": {
      "text/html": [
       "<table class=\"dataframe\">\n",
       "<caption>A data.frame: 16 × 16</caption>\n",
       "<thead>\n",
       "\t<tr><th></th><th scope=col>Acciaiuoli</th><th scope=col>Albizzi</th><th scope=col>Barbadori</th><th scope=col>Bischeri</th><th scope=col>Castellani</th><th scope=col>Ginori</th><th scope=col>Guadagni</th><th scope=col>Lamberteschi</th><th scope=col>Medici</th><th scope=col>Pazzi</th><th scope=col>Peruzzi</th><th scope=col>Pucci</th><th scope=col>Ridolfi</th><th scope=col>Salviati</th><th scope=col>Strozzi</th><th scope=col>Tornabuoni</th></tr>\n",
       "\t<tr><th></th><th scope=col>&lt;int&gt;</th><th scope=col>&lt;int&gt;</th><th scope=col>&lt;int&gt;</th><th scope=col>&lt;int&gt;</th><th scope=col>&lt;int&gt;</th><th scope=col>&lt;int&gt;</th><th scope=col>&lt;int&gt;</th><th scope=col>&lt;int&gt;</th><th scope=col>&lt;int&gt;</th><th scope=col>&lt;int&gt;</th><th scope=col>&lt;int&gt;</th><th scope=col>&lt;int&gt;</th><th scope=col>&lt;int&gt;</th><th scope=col>&lt;int&gt;</th><th scope=col>&lt;int&gt;</th><th scope=col>&lt;int&gt;</th></tr>\n",
       "</thead>\n",
       "<tbody>\n",
       "\t<tr><th scope=row>Acciaiuoli</th><td>0</td><td>0</td><td>0</td><td>0</td><td>0</td><td>0</td><td>0</td><td>0</td><td>0</td><td>0</td><td>0</td><td>0</td><td>0</td><td>0</td><td>0</td><td>0</td></tr>\n",
       "\t<tr><th scope=row>Albizzi</th><td>0</td><td>0</td><td>0</td><td>0</td><td>0</td><td>0</td><td>0</td><td>0</td><td>0</td><td>0</td><td>0</td><td>0</td><td>0</td><td>0</td><td>0</td><td>0</td></tr>\n",
       "\t<tr><th scope=row>Barbadori</th><td>0</td><td>0</td><td>0</td><td>0</td><td>1</td><td>1</td><td>0</td><td>0</td><td>1</td><td>0</td><td>1</td><td>0</td><td>0</td><td>0</td><td>0</td><td>0</td></tr>\n",
       "\t<tr><th scope=row>Bischeri</th><td>0</td><td>0</td><td>0</td><td>0</td><td>0</td><td>0</td><td>1</td><td>1</td><td>0</td><td>0</td><td>1</td><td>0</td><td>0</td><td>0</td><td>0</td><td>0</td></tr>\n",
       "\t<tr><th scope=row>Castellani</th><td>0</td><td>0</td><td>1</td><td>0</td><td>0</td><td>0</td><td>0</td><td>1</td><td>0</td><td>0</td><td>1</td><td>0</td><td>0</td><td>0</td><td>0</td><td>0</td></tr>\n",
       "\t<tr><th scope=row>Ginori</th><td>0</td><td>0</td><td>1</td><td>0</td><td>0</td><td>0</td><td>0</td><td>0</td><td>1</td><td>0</td><td>0</td><td>0</td><td>0</td><td>0</td><td>0</td><td>0</td></tr>\n",
       "\t<tr><th scope=row>Guadagni</th><td>0</td><td>0</td><td>0</td><td>1</td><td>0</td><td>0</td><td>0</td><td>1</td><td>0</td><td>0</td><td>0</td><td>0</td><td>0</td><td>0</td><td>0</td><td>0</td></tr>\n",
       "\t<tr><th scope=row>Lamberteschi</th><td>0</td><td>0</td><td>0</td><td>1</td><td>1</td><td>0</td><td>1</td><td>0</td><td>0</td><td>0</td><td>1</td><td>0</td><td>0</td><td>0</td><td>0</td><td>0</td></tr>\n",
       "\t<tr><th scope=row>Medici</th><td>0</td><td>0</td><td>1</td><td>0</td><td>0</td><td>1</td><td>0</td><td>0</td><td>0</td><td>1</td><td>0</td><td>0</td><td>0</td><td>1</td><td>0</td><td>1</td></tr>\n",
       "\t<tr><th scope=row>Pazzi</th><td>0</td><td>0</td><td>0</td><td>0</td><td>0</td><td>0</td><td>0</td><td>0</td><td>1</td><td>0</td><td>0</td><td>0</td><td>0</td><td>0</td><td>0</td><td>0</td></tr>\n",
       "\t<tr><th scope=row>Peruzzi</th><td>0</td><td>0</td><td>1</td><td>1</td><td>1</td><td>0</td><td>0</td><td>1</td><td>0</td><td>0</td><td>0</td><td>0</td><td>0</td><td>0</td><td>0</td><td>0</td></tr>\n",
       "\t<tr><th scope=row>Pucci</th><td>0</td><td>0</td><td>0</td><td>0</td><td>0</td><td>0</td><td>0</td><td>0</td><td>0</td><td>0</td><td>0</td><td>0</td><td>0</td><td>0</td><td>0</td><td>0</td></tr>\n",
       "\t<tr><th scope=row>Ridolfi</th><td>0</td><td>0</td><td>0</td><td>0</td><td>0</td><td>0</td><td>0</td><td>0</td><td>0</td><td>0</td><td>0</td><td>0</td><td>0</td><td>0</td><td>0</td><td>0</td></tr>\n",
       "\t<tr><th scope=row>Salviati</th><td>0</td><td>0</td><td>0</td><td>0</td><td>0</td><td>0</td><td>0</td><td>0</td><td>1</td><td>0</td><td>0</td><td>0</td><td>0</td><td>0</td><td>0</td><td>0</td></tr>\n",
       "\t<tr><th scope=row>Strozzi</th><td>0</td><td>0</td><td>0</td><td>0</td><td>0</td><td>0</td><td>0</td><td>0</td><td>0</td><td>0</td><td>0</td><td>0</td><td>0</td><td>0</td><td>0</td><td>0</td></tr>\n",
       "\t<tr><th scope=row>Tornabuoni</th><td>0</td><td>0</td><td>0</td><td>0</td><td>0</td><td>0</td><td>0</td><td>0</td><td>1</td><td>0</td><td>0</td><td>0</td><td>0</td><td>0</td><td>0</td><td>0</td></tr>\n",
       "</tbody>\n",
       "</table>\n"
      ],
      "text/latex": [
       "A data.frame: 16 × 16\n",
       "\\begin{tabular}{r|llllllllllllllll}\n",
       "  & Acciaiuoli & Albizzi & Barbadori & Bischeri & Castellani & Ginori & Guadagni & Lamberteschi & Medici & Pazzi & Peruzzi & Pucci & Ridolfi & Salviati & Strozzi & Tornabuoni\\\\\n",
       "  & <int> & <int> & <int> & <int> & <int> & <int> & <int> & <int> & <int> & <int> & <int> & <int> & <int> & <int> & <int> & <int>\\\\\n",
       "\\hline\n",
       "\tAcciaiuoli & 0 & 0 & 0 & 0 & 0 & 0 & 0 & 0 & 0 & 0 & 0 & 0 & 0 & 0 & 0 & 0\\\\\n",
       "\tAlbizzi & 0 & 0 & 0 & 0 & 0 & 0 & 0 & 0 & 0 & 0 & 0 & 0 & 0 & 0 & 0 & 0\\\\\n",
       "\tBarbadori & 0 & 0 & 0 & 0 & 1 & 1 & 0 & 0 & 1 & 0 & 1 & 0 & 0 & 0 & 0 & 0\\\\\n",
       "\tBischeri & 0 & 0 & 0 & 0 & 0 & 0 & 1 & 1 & 0 & 0 & 1 & 0 & 0 & 0 & 0 & 0\\\\\n",
       "\tCastellani & 0 & 0 & 1 & 0 & 0 & 0 & 0 & 1 & 0 & 0 & 1 & 0 & 0 & 0 & 0 & 0\\\\\n",
       "\tGinori & 0 & 0 & 1 & 0 & 0 & 0 & 0 & 0 & 1 & 0 & 0 & 0 & 0 & 0 & 0 & 0\\\\\n",
       "\tGuadagni & 0 & 0 & 0 & 1 & 0 & 0 & 0 & 1 & 0 & 0 & 0 & 0 & 0 & 0 & 0 & 0\\\\\n",
       "\tLamberteschi & 0 & 0 & 0 & 1 & 1 & 0 & 1 & 0 & 0 & 0 & 1 & 0 & 0 & 0 & 0 & 0\\\\\n",
       "\tMedici & 0 & 0 & 1 & 0 & 0 & 1 & 0 & 0 & 0 & 1 & 0 & 0 & 0 & 1 & 0 & 1\\\\\n",
       "\tPazzi & 0 & 0 & 0 & 0 & 0 & 0 & 0 & 0 & 1 & 0 & 0 & 0 & 0 & 0 & 0 & 0\\\\\n",
       "\tPeruzzi & 0 & 0 & 1 & 1 & 1 & 0 & 0 & 1 & 0 & 0 & 0 & 0 & 0 & 0 & 0 & 0\\\\\n",
       "\tPucci & 0 & 0 & 0 & 0 & 0 & 0 & 0 & 0 & 0 & 0 & 0 & 0 & 0 & 0 & 0 & 0\\\\\n",
       "\tRidolfi & 0 & 0 & 0 & 0 & 0 & 0 & 0 & 0 & 0 & 0 & 0 & 0 & 0 & 0 & 0 & 0\\\\\n",
       "\tSalviati & 0 & 0 & 0 & 0 & 0 & 0 & 0 & 0 & 1 & 0 & 0 & 0 & 0 & 0 & 0 & 0\\\\\n",
       "\tStrozzi & 0 & 0 & 0 & 0 & 0 & 0 & 0 & 0 & 0 & 0 & 0 & 0 & 0 & 0 & 0 & 0\\\\\n",
       "\tTornabuoni & 0 & 0 & 0 & 0 & 0 & 0 & 0 & 0 & 1 & 0 & 0 & 0 & 0 & 0 & 0 & 0\\\\\n",
       "\\end{tabular}\n"
      ],
      "text/markdown": [
       "\n",
       "A data.frame: 16 × 16\n",
       "\n",
       "| <!--/--> | Acciaiuoli &lt;int&gt; | Albizzi &lt;int&gt; | Barbadori &lt;int&gt; | Bischeri &lt;int&gt; | Castellani &lt;int&gt; | Ginori &lt;int&gt; | Guadagni &lt;int&gt; | Lamberteschi &lt;int&gt; | Medici &lt;int&gt; | Pazzi &lt;int&gt; | Peruzzi &lt;int&gt; | Pucci &lt;int&gt; | Ridolfi &lt;int&gt; | Salviati &lt;int&gt; | Strozzi &lt;int&gt; | Tornabuoni &lt;int&gt; |\n",
       "|---|---|---|---|---|---|---|---|---|---|---|---|---|---|---|---|---|\n",
       "| Acciaiuoli | 0 | 0 | 0 | 0 | 0 | 0 | 0 | 0 | 0 | 0 | 0 | 0 | 0 | 0 | 0 | 0 |\n",
       "| Albizzi | 0 | 0 | 0 | 0 | 0 | 0 | 0 | 0 | 0 | 0 | 0 | 0 | 0 | 0 | 0 | 0 |\n",
       "| Barbadori | 0 | 0 | 0 | 0 | 1 | 1 | 0 | 0 | 1 | 0 | 1 | 0 | 0 | 0 | 0 | 0 |\n",
       "| Bischeri | 0 | 0 | 0 | 0 | 0 | 0 | 1 | 1 | 0 | 0 | 1 | 0 | 0 | 0 | 0 | 0 |\n",
       "| Castellani | 0 | 0 | 1 | 0 | 0 | 0 | 0 | 1 | 0 | 0 | 1 | 0 | 0 | 0 | 0 | 0 |\n",
       "| Ginori | 0 | 0 | 1 | 0 | 0 | 0 | 0 | 0 | 1 | 0 | 0 | 0 | 0 | 0 | 0 | 0 |\n",
       "| Guadagni | 0 | 0 | 0 | 1 | 0 | 0 | 0 | 1 | 0 | 0 | 0 | 0 | 0 | 0 | 0 | 0 |\n",
       "| Lamberteschi | 0 | 0 | 0 | 1 | 1 | 0 | 1 | 0 | 0 | 0 | 1 | 0 | 0 | 0 | 0 | 0 |\n",
       "| Medici | 0 | 0 | 1 | 0 | 0 | 1 | 0 | 0 | 0 | 1 | 0 | 0 | 0 | 1 | 0 | 1 |\n",
       "| Pazzi | 0 | 0 | 0 | 0 | 0 | 0 | 0 | 0 | 1 | 0 | 0 | 0 | 0 | 0 | 0 | 0 |\n",
       "| Peruzzi | 0 | 0 | 1 | 1 | 1 | 0 | 0 | 1 | 0 | 0 | 0 | 0 | 0 | 0 | 0 | 0 |\n",
       "| Pucci | 0 | 0 | 0 | 0 | 0 | 0 | 0 | 0 | 0 | 0 | 0 | 0 | 0 | 0 | 0 | 0 |\n",
       "| Ridolfi | 0 | 0 | 0 | 0 | 0 | 0 | 0 | 0 | 0 | 0 | 0 | 0 | 0 | 0 | 0 | 0 |\n",
       "| Salviati | 0 | 0 | 0 | 0 | 0 | 0 | 0 | 0 | 1 | 0 | 0 | 0 | 0 | 0 | 0 | 0 |\n",
       "| Strozzi | 0 | 0 | 0 | 0 | 0 | 0 | 0 | 0 | 0 | 0 | 0 | 0 | 0 | 0 | 0 | 0 |\n",
       "| Tornabuoni | 0 | 0 | 0 | 0 | 0 | 0 | 0 | 0 | 1 | 0 | 0 | 0 | 0 | 0 | 0 | 0 |\n",
       "\n"
      ],
      "text/plain": [
       "             Acciaiuoli Albizzi Barbadori Bischeri Castellani Ginori Guadagni\n",
       "Acciaiuoli   0          0       0         0        0          0      0       \n",
       "Albizzi      0          0       0         0        0          0      0       \n",
       "Barbadori    0          0       0         0        1          1      0       \n",
       "Bischeri     0          0       0         0        0          0      1       \n",
       "Castellani   0          0       1         0        0          0      0       \n",
       "Ginori       0          0       1         0        0          0      0       \n",
       "Guadagni     0          0       0         1        0          0      0       \n",
       "Lamberteschi 0          0       0         1        1          0      1       \n",
       "Medici       0          0       1         0        0          1      0       \n",
       "Pazzi        0          0       0         0        0          0      0       \n",
       "Peruzzi      0          0       1         1        1          0      0       \n",
       "Pucci        0          0       0         0        0          0      0       \n",
       "Ridolfi      0          0       0         0        0          0      0       \n",
       "Salviati     0          0       0         0        0          0      0       \n",
       "Strozzi      0          0       0         0        0          0      0       \n",
       "Tornabuoni   0          0       0         0        0          0      0       \n",
       "             Lamberteschi Medici Pazzi Peruzzi Pucci Ridolfi Salviati Strozzi\n",
       "Acciaiuoli   0            0      0     0       0     0       0        0      \n",
       "Albizzi      0            0      0     0       0     0       0        0      \n",
       "Barbadori    0            1      0     1       0     0       0        0      \n",
       "Bischeri     1            0      0     1       0     0       0        0      \n",
       "Castellani   1            0      0     1       0     0       0        0      \n",
       "Ginori       0            1      0     0       0     0       0        0      \n",
       "Guadagni     1            0      0     0       0     0       0        0      \n",
       "Lamberteschi 0            0      0     1       0     0       0        0      \n",
       "Medici       0            0      1     0       0     0       1        0      \n",
       "Pazzi        0            1      0     0       0     0       0        0      \n",
       "Peruzzi      1            0      0     0       0     0       0        0      \n",
       "Pucci        0            0      0     0       0     0       0        0      \n",
       "Ridolfi      0            0      0     0       0     0       0        0      \n",
       "Salviati     0            1      0     0       0     0       0        0      \n",
       "Strozzi      0            0      0     0       0     0       0        0      \n",
       "Tornabuoni   0            1      0     0       0     0       0        0      \n",
       "             Tornabuoni\n",
       "Acciaiuoli   0         \n",
       "Albizzi      0         \n",
       "Barbadori    0         \n",
       "Bischeri     0         \n",
       "Castellani   0         \n",
       "Ginori       0         \n",
       "Guadagni     0         \n",
       "Lamberteschi 0         \n",
       "Medici       1         \n",
       "Pazzi        0         \n",
       "Peruzzi      0         \n",
       "Pucci        0         \n",
       "Ridolfi      0         \n",
       "Salviati     0         \n",
       "Strozzi      0         \n",
       "Tornabuoni   0         "
      ]
     },
     "metadata": {},
     "output_type": "display_data"
    }
   ],
   "source": [
    "rownames(df) <- colnames(df)\n",
    "df"
   ]
  },
  {
   "cell_type": "markdown",
   "metadata": {
    "id": "xiDianabtNvZ"
   },
   "source": [
    "#### 4.Построить ненаправленную сеть. Объяснить параметры, передаваемые в функцию."
   ]
  },
  {
   "cell_type": "code",
   "execution_count": 9,
   "metadata": {
    "colab": {
     "base_uri": "https://localhost:8080/",
     "height": 437
    },
    "id": "YtWkI0D8hM4q",
    "outputId": "d8d70e83-306b-4424-9051-3bad47a0155d"
   },
   "outputs": [
    {
     "data": {
      "image/png": "[encoded data removed]",
      "text/plain": [
       "Plot with title \"\""
      ]
     },
     "metadata": {
      "image/png": {
       "height": 420,
       "width": 420
      }
     },
     "output_type": "display_data"
    }
   ],
   "source": [
    "plot(graph_data) # выше уже был создан ненаправленый граф"
   ]
  },
  {
   "cell_type": "markdown",
   "metadata": {
    "id": "redQ3ju0vcsJ"
   },
   "source": [
    "#### 5.Отобразить сеть с помощью алгоритмов укладки Фрюхтермана–Рейнгольда и Камада–Каваи. Объяснить, в чём различие между алгоритмами и укладками.\n",
    "\n",
    "Оба алгоритма укладки являются силовыми , то есть используется пружинная физическая модель, где вершины определяются как тела системы, а ребра как пружины. Силы могут действовать только на вершины, вес пружин при этом не учитывается. Отличие заключается в том что алгоритм Фрюхтермана–Рейнгольда старается держать смежные вершины (связанные ребром), на одинаковом идеальном  расстоянии, а алг. Камада-Каваи рассматривает в качестве идеального расстояния между **любыми** вершинами соответствующее расстояние между ними по графу, вычисляемое как кратчайший путь между всеми парами вершин."
   ]
  },
  {
   "cell_type": "code",
   "execution_count": 10,
   "metadata": {
    "id": "gpLMLCqOwo_5"
   },
   "outputs": [],
   "source": [
    "layout_FR <- layout_with_fr(graph_data) # укладка Фрюхтермана–Рейнгольда \n",
    "layout_KK <- layout_with_kk(graph_data) # укладка Камада–Каваи"
   ]
  },
  {
   "cell_type": "code",
   "execution_count": 11,
   "metadata": {
    "colab": {
     "base_uri": "https://localhost:8080/",
     "height": 437
    },
    "id": "Gu0bYczXhM68",
    "outputId": "18548370-5e7e-4c23-ed19-28da284fc0c8"
   },
   "outputs": [
    {
     "data": {
      "image/png": "[encoded data removed]",
      "text/plain": [
       "Plot with title \"\""
      ]
     },
     "metadata": {
      "image/png": {
       "height": 420,
       "width": 420
      }
     },
     "output_type": "display_data"
    }
   ],
   "source": [
    "plot(graph_data, layout=layout_FR)"
   ]
  },
  {
   "cell_type": "code",
   "execution_count": 12,
   "metadata": {
    "colab": {
     "base_uri": "https://localhost:8080/",
     "height": 437
    },
    "id": "QpulJeCCvfUw",
    "outputId": "4aa825d2-bd70-45ff-f9f2-b572cd415338"
   },
   "outputs": [
    {
     "data": {
      "image/png": "[encoded data removed]",
      "text/plain": [
       "Plot with title \"\""
      ]
     },
     "metadata": {
      "image/png": {
       "height": 420,
       "width": 420
      }
     },
     "output_type": "display_data"
    }
   ],
   "source": [
    "plot(graph_data, layout=layout_KK)"
   ]
  },
  {
   "cell_type": "markdown",
   "metadata": {
    "id": "KSeKA2cty1FB"
   },
   "source": [
    "#### 6.Вывести «описательную сводку» сети."
   ]
  },
  {
   "cell_type": "code",
   "execution_count": 73,
   "metadata": {
    "colab": {
     "base_uri": "https://localhost:8080/"
    },
    "id": "K-fPC0YtvfXI",
    "outputId": "1bd3d404-c55e-45b2-a585-7d4c68059925"
   },
   "outputs": [
    {
     "name": "stdout",
     "output_type": "stream",
     "text": [
      "IGRAPH 2d2e136 UN-- 16 15 -- \n",
      "+ attr: name (v/c)\n",
      "IGRAPH 2d2e136 UN-- 16 15 -- \n",
      "+ attr: name (v/c)\n",
      "+ edges from 2d2e136 (vertex names):\n",
      " [1] Barbadori   --Castellani   Barbadori   --Ginori      \n",
      " [3] Barbadori   --Medici       Barbadori   --Peruzzi     \n",
      " [5] Bischeri    --Guadagni     Bischeri    --Lamberteschi\n",
      " [7] Bischeri    --Peruzzi      Castellani  --Lamberteschi\n",
      " [9] Castellani  --Peruzzi      Ginori      --Medici      \n",
      "[11] Guadagni    --Lamberteschi Lamberteschi--Peruzzi     \n",
      "[13] Medici      --Pazzi        Medici      --Salviati    \n",
      "[15] Medici      --Tornabuoni  \n"
     ]
    }
   ],
   "source": [
    "print(summary(graph_data))"
   ]
  },
  {
   "cell_type": "markdown",
   "metadata": {
    "id": "CPRRyHOEzuM5"
   },
   "source": [
    "#### 7.Вычислить «пятичисловую сводку» сети"
   ]
  },
  {
   "cell_type": "markdown",
   "metadata": {},
   "source": [
    " **7.1 Размер сети**"
   ]
  },
  {
   "cell_type": "code",
   "execution_count": 14,
   "metadata": {
    "colab": {
     "base_uri": "https://localhost:8080/",
     "height": 34
    },
    "id": "VrhebkeEvfZw",
    "outputId": "667f2960-95a8-45e7-f53e-755a4171f6a9"
   },
   "outputs": [
    {
     "data": {
      "text/html": [
       "'Размер сети: 16'"
      ],
      "text/latex": [
       "'Размер сети: 16'"
      ],
      "text/markdown": [
       "'Размер сети: 16'"
      ],
      "text/plain": [
       "[1] \"Размер сети: 16\""
      ]
     },
     "metadata": {},
     "output_type": "display_data"
    }
   ],
   "source": [
    "network_size <- gorder(graph_data) \n",
    "sprintf(\"Размер сети: %i\", network_size)"
   ]
  },
  {
   "cell_type": "markdown",
   "metadata": {},
   "source": [
    "**7.2 Плотность сети**"
   ]
  },
  {
   "cell_type": "code",
   "execution_count": 15,
   "metadata": {
    "colab": {
     "base_uri": "https://localhost:8080/",
     "height": 34
    },
    "id": "xgBQPExsvfcI",
    "outputId": "223224b2-394a-4b38-b07a-42e5d55e4d89",
    "scrolled": true
   },
   "outputs": [
    {
     "data": {
      "text/html": [
       "'Плотность сети в ручную: 0.125000'"
      ],
      "text/latex": [
       "'Плотность сети в ручную: 0.125000'"
      ],
      "text/markdown": [
       "'Плотность сети в ручную: 0.125000'"
      ],
      "text/plain": [
       "[1] \"Плотность сети в ручную: 0.125000\""
      ]
     },
     "metadata": {},
     "output_type": "display_data"
    },
    {
     "data": {
      "text/html": [
       "'Плотность сети с помощью фун.: 0.125000'"
      ],
      "text/latex": [
       "'Плотность сети с помощью фун.: 0.125000'"
      ],
      "text/markdown": [
       "'Плотность сети с помощью фун.: 0.125000'"
      ],
      "text/plain": [
       "[1] \"Плотность сети с помощью фун.: 0.125000\""
      ]
     },
     "metadata": {},
     "output_type": "display_data"
    }
   ],
   "source": [
    "density <- 2 * gsize(graph_data) / ((network_size) * (network_size - 1))\n",
    "sprintf(\"Плотность сети в ручную: %f\", density)\n",
    "sprintf(\"Плотность сети с помощью фун.: %f\", graph.density(graph_data))"
   ]
  },
  {
   "cell_type": "markdown",
   "metadata": {},
   "source": [
    "**Вывод**: Как видим резултат одинаковый"
   ]
  },
  {
   "cell_type": "markdown",
   "metadata": {},
   "source": [
    "**7.3 Число компонент в сети**"
   ]
  },
  {
   "cell_type": "markdown",
   "metadata": {
    "id": "D-EBM85UwbSV"
   },
   "source": [
    "По графику видно(см . п5), что компонент связности **6**"
   ]
  },
  {
   "cell_type": "code",
   "execution_count": 16,
   "metadata": {
    "colab": {
     "base_uri": "https://localhost:8080/",
     "height": 34
    },
    "id": "N07-wBNXvg0w",
    "outputId": "3fbcd000-c6ee-419e-d1a5-eec9994cb235"
   },
   "outputs": [
    {
     "data": {
      "text/html": [
       "'Число компонент в сети с помощью фун.: 6'"
      ],
      "text/latex": [
       "'Число компонент в сети с помощью фун.: 6'"
      ],
      "text/markdown": [
       "'Число компонент в сети с помощью фун.: 6'"
      ],
      "text/plain": [
       "[1] \"Число компонент в сети с помощью фун.: 6\""
      ]
     },
     "metadata": {},
     "output_type": "display_data"
    }
   ],
   "source": [
    "num_components <- count_components(graph_data, mode='weak')\n",
    "sprintf(\"Число компонент в сети с помощью фун.: %i\", num_components)"
   ]
  },
  {
   "cell_type": "markdown",
   "metadata": {},
   "source": [
    "**Вывод**: Как видим резултат одинаковый"
   ]
  },
  {
   "cell_type": "markdown",
   "metadata": {},
   "source": [
    "**7.4 Диаметр сети**"
   ]
  },
  {
   "cell_type": "code",
   "execution_count": 17,
   "metadata": {
    "colab": {
     "base_uri": "https://localhost:8080/",
     "height": 34
    },
    "id": "Zgf3afD9vg6Q",
    "outputId": "92da4711-2ba8-4c35-ffff-ea4ba03cceef"
   },
   "outputs": [
    {
     "data": {
      "text/html": [
       "'Диаметр сети: 5'"
      ],
      "text/latex": [
       "'Диаметр сети: 5'"
      ],
      "text/markdown": [
       "'Диаметр сети: 5'"
      ],
      "text/plain": [
       "[1] \"Диаметр сети: 5\""
      ]
     },
     "metadata": {},
     "output_type": "display_data"
    }
   ],
   "source": [
    "diam <- diameter(graph_data, directed=FALSE)\n",
    "sprintf(\"Диаметр сети: %i\", diam)"
   ]
  },
  {
   "cell_type": "markdown",
   "metadata": {},
   "source": [
    "**Вывод**: Диаметр сети равен 5"
   ]
  },
  {
   "cell_type": "markdown",
   "metadata": {},
   "source": [
    "**7.5 Коэффициент кластеризации**"
   ]
  },
  {
   "cell_type": "code",
   "execution_count": 18,
   "metadata": {
    "colab": {
     "base_uri": "https://localhost:8080/",
     "height": 34
    },
    "id": "m6J7os73hNBU",
    "outputId": "28c2c627-36d2-461e-f18e-c5fc24416e14"
   },
   "outputs": [
    {
     "data": {
      "text/html": [
       "'Коэффициент кластеризации сети: 0.416667'"
      ],
      "text/latex": [
       "'Коэффициент кластеризации сети: 0.416667'"
      ],
      "text/markdown": [
       "'Коэффициент кластеризации сети: 0.416667'"
      ],
      "text/plain": [
       "[1] \"Коэффициент кластеризации сети: 0.416667\""
      ]
     },
     "metadata": {},
     "output_type": "display_data"
    }
   ],
   "source": [
    "clust_coefficient <- transitivity(graph_data)\n",
    "sprintf(\"Коэффициент кластеризации сети: %f\", clust_coefficient)"
   ]
  },
  {
   "cell_type": "markdown",
   "metadata": {},
   "source": [
    "**Вывод**: Коэффициент кластеризации сети равен 0.416667"
   ]
  },
  {
   "cell_type": "markdown",
   "metadata": {
    "id": "HUEkS4bRWidj"
   },
   "source": [
    "#### 8.Вычислить среднюю степень узлов и дисперсию. Сделать выводы."
   ]
  },
  {
   "cell_type": "code",
   "execution_count": 19,
   "metadata": {
    "colab": {
     "base_uri": "https://localhost:8080/",
     "height": 34
    },
    "id": "XPv9EuLKhNDS",
    "outputId": "6c84ae5c-e794-4797-d7ab-45119b10d459"
   },
   "outputs": [
    {
     "data": {
      "text/html": [
       "'Средняя степень узлов: 1.875000'"
      ],
      "text/latex": [
       "'Средняя степень узлов: 1.875000'"
      ],
      "text/markdown": [
       "'Средняя степень узлов: 1.875000'"
      ],
      "text/plain": [
       "[1] \"Средняя степень узлов: 1.875000\""
      ]
     },
     "metadata": {},
     "output_type": "display_data"
    }
   ],
   "source": [
    "average_degree <- mean(igraph::degree(graph_data))\n",
    "sprintf(\"Средняя степень узлов: %f\",average_degree)"
   ]
  },
  {
   "cell_type": "code",
   "execution_count": 20,
   "metadata": {
    "colab": {
     "base_uri": "https://localhost:8080/",
     "height": 34
    },
    "id": "kl1c0IsAWks6",
    "outputId": "55ec82ce-eb7e-4564-a689-cc3737aa203e"
   },
   "outputs": [
    {
     "data": {
      "text/html": [
       "<span style=white-space:pre-wrap>'Дисперсия сепени узла  : 2.859375'</span>"
      ],
      "text/latex": [
       "'Дисперсия сепени узла  : 2.859375'"
      ],
      "text/markdown": [
       "<span style=white-space:pre-wrap>'Дисперсия сепени узла  : 2.859375'</span>"
      ],
      "text/plain": [
       "[1] \"Дисперсия сепени узла  : 2.859375\""
      ]
     },
     "metadata": {},
     "output_type": "display_data"
    }
   ],
   "source": [
    "dispersion <- mean((igraph::degree(graph_data) - average_degree) ** 2)\n",
    "sprintf(\"Дисперсия сепени узла  : %f\",dispersion)"
   ]
  },
  {
   "cell_type": "markdown",
   "metadata": {},
   "source": [
    "**Вывод**: 'Средняя степень узлов равна 1.875000. Дисперсия сепени узла  равна 2.859375"
   ]
  },
  {
   "cell_type": "markdown",
   "metadata": {
    "id": "ziBAKBEiYaVj"
   },
   "source": [
    "#### 9.Заполнить таблицу для различных мер центральности"
   ]
  },
  {
   "cell_type": "code",
   "execution_count": 21,
   "metadata": {
    "colab": {
     "base_uri": "https://localhost:8080/",
     "height": 34
    },
    "id": "aEEoCRDfjvNY",
    "outputId": "d7ac7505-343d-4dd0-ceab-a0992d46388a"
   },
   "outputs": [
    {
     "data": {
      "text/html": [
       "<style>\n",
       ".list-inline {list-style: none; margin:0; padding: 0}\n",
       ".list-inline>li {display: inline-block}\n",
       ".list-inline>li:not(:last-child)::after {content: \"\\00b7\"; padding: 0 .5ex}\n",
       "</style>\n",
       "<ol class=list-inline><li>'Acciaiuoli'</li><li>'Albizzi'</li><li>'Pucci'</li><li>'Ridolfi'</li><li>'Strozzi'</li></ol>\n"
      ],
      "text/latex": [
       "\\begin{enumerate*}\n",
       "\\item 'Acciaiuoli'\n",
       "\\item 'Albizzi'\n",
       "\\item 'Pucci'\n",
       "\\item 'Ridolfi'\n",
       "\\item 'Strozzi'\n",
       "\\end{enumerate*}\n"
      ],
      "text/markdown": [
       "1. 'Acciaiuoli'\n",
       "2. 'Albizzi'\n",
       "3. 'Pucci'\n",
       "4. 'Ridolfi'\n",
       "5. 'Strozzi'\n",
       "\n",
       "\n"
      ],
      "text/plain": [
       "[1] \"Acciaiuoli\" \"Albizzi\"    \"Pucci\"      \"Ridolfi\"    \"Strozzi\"   "
      ]
     },
     "metadata": {},
     "output_type": "display_data"
    }
   ],
   "source": [
    "membership <- igraph::components(graph_data, mode=\"strong\")$membership  #список принадлежности верш к комп связаности \n",
    "counts <- igraph::components(graph_data, mode=\"strong\")$csize  # размер компоненты связанности \n",
    "isolated <- membership[counts[membership] == 1]  # изолированные вершы\n",
    "names(isolated)\n",
    "graph_drop_isolated <- delete_vertices(graph_data, names(isolated)) #удаление изолированных вершин"
   ]
  },
  {
   "cell_type": "code",
   "execution_count": 22,
   "metadata": {
    "colab": {
     "base_uri": "https://localhost:8080/",
     "height": 34
    },
    "id": "uhvd7dULwb29",
    "outputId": "dd16a564-75df-4af6-e5cd-293aaca56d17"
   },
   "outputs": [
    {
     "data": {
      "text/html": [
       "11"
      ],
      "text/latex": [
       "11"
      ],
      "text/markdown": [
       "11"
      ],
      "text/plain": [
       "[1] 11"
      ]
     },
     "metadata": {},
     "output_type": "display_data"
    }
   ],
   "source": [
    "g <- gorder(graph_drop_isolated) \n",
    "g # кол-во верш в графе"
   ]
  },
  {
   "cell_type": "code",
   "execution_count": 23,
   "metadata": {
    "id": "PW1jqN7yWkvh"
   },
   "outputs": [],
   "source": [
    "actor_degree_centrality <- igraph::degree(graph_drop_isolated) / (g - 1)  # C'_D"
   ]
  },
  {
   "cell_type": "code",
   "execution_count": 24,
   "metadata": {
    "id": "qwUH-h5PqnpI"
   },
   "outputs": [],
   "source": [
    "actor_closeness_centrality <- igraph::closeness(graph_drop_isolated, normalized = TRUE) # C'_C"
   ]
  },
  {
   "cell_type": "code",
   "execution_count": 25,
   "metadata": {
    "id": "TTG31plXqnrm"
   },
   "outputs": [],
   "source": [
    "actor_betweenness_centrality <- igraph::betweenness(graph_drop_isolated, directed=FALSE, normalized=TRUE) # C'_B"
   ]
  },
  {
   "cell_type": "code",
   "execution_count": 26,
   "metadata": {
    "colab": {
     "base_uri": "https://localhost:8080/"
    },
    "id": "QghPyGZM2hv3",
    "outputId": "807629c1-b606-40bd-9af2-73a17ee65744"
   },
   "outputs": [
    {
     "name": "stderr",
     "output_type": "stream",
     "text": [
      "Warning message in install.packages(\"sna\"):\n",
      "\"'lib = \"C:/Program Files/R/R-4.2.1/library\"' не для записи\"\n"
     ]
    },
    {
     "ename": "ERROR",
     "evalue": "Error in install.packages(\"sna\"): не могу установить пакеты\n",
     "output_type": "error",
     "traceback": [
      "Error in install.packages(\"sna\"): не могу установить пакеты\nTraceback:\n",
      "1. install.packages(\"sna\")",
      "2. stop(\"unable to install packages\")"
     ]
    }
   ],
   "source": [
    "install.packages(\"sna\")"
   ]
  },
  {
   "cell_type": "code",
   "execution_count": 27,
   "metadata": {
    "colab": {
     "base_uri": "https://localhost:8080/"
    },
    "id": "kQMtxsT-2htN",
    "outputId": "206a221a-946d-4a48-ecb6-c2fdc00cd7db"
   },
   "outputs": [
    {
     "name": "stderr",
     "output_type": "stream",
     "text": [
      "Загрузка требуемого пакета: statnet.common\n",
      "\n",
      "\n",
      "Присоединяю пакет: 'statnet.common'\n",
      "\n",
      "\n",
      "Следующие объекты скрыты от 'package:base':\n",
      "\n",
      "    attr, order\n",
      "\n",
      "\n",
      "Загрузка требуемого пакета: network\n",
      "\n",
      "\n",
      "'network' 1.18.0 (2022-10-05), part of the Statnet Project\n",
      "* 'news(package=\"network\")' for changes since last version\n",
      "* 'citation(\"network\")' for citation information\n",
      "* 'https://statnet.org' for help, support, and other information\n",
      "\n",
      "\n",
      "\n",
      "Присоединяю пакет: 'network'\n",
      "\n",
      "\n",
      "Следующие объекты скрыты от 'package:igraph':\n",
      "\n",
      "    %c%, %s%, add.edges, add.vertices, delete.edges, delete.vertices,\n",
      "    get.edge.attribute, get.edges, get.vertex.attribute, is.bipartite,\n",
      "    is.directed, list.edge.attributes, list.vertex.attributes,\n",
      "    set.edge.attribute, set.vertex.attribute\n",
      "\n",
      "\n",
      "sna: Tools for Social Network Analysis\n",
      "Version 2.7 created on 2022-05-09.\n",
      "copyright (c) 2005, Carter T. Butts, University of California-Irvine\n",
      " For citation information, type citation(\"sna\").\n",
      " Type help(package=\"sna\") to get started.\n",
      "\n",
      "\n",
      "\n",
      "Присоединяю пакет: 'sna'\n",
      "\n",
      "\n",
      "Следующие объекты скрыты от 'package:igraph':\n",
      "\n",
      "    betweenness, bonpow, closeness, components, degree, dyad.census,\n",
      "    evcent, hierarchy, is.connected, neighborhood, triad.census\n",
      "\n",
      "\n"
     ]
    }
   ],
   "source": [
    "library(sna)"
   ]
  },
  {
   "cell_type": "code",
   "execution_count": 28,
   "metadata": {
    "id": "zAaSbdas2hyu"
   },
   "outputs": [],
   "source": [
    "actor_inf_centrality <- infocent(as.matrix(as_adjacency_matrix(graph_drop_isolated)), rescale=TRUE) # C'_I"
   ]
  },
  {
   "cell_type": "code",
   "execution_count": 29,
   "metadata": {
    "colab": {
     "base_uri": "https://localhost:8080/",
     "height": 588
    },
    "id": "ZQ-MvHPASmZy",
    "outputId": "8d8daf59-1c8c-4ce8-ad43-75886d38e939"
   },
   "outputs": [
    {
     "data": {
      "text/html": [
       "<table class=\"dataframe\">\n",
       "<caption>A data.frame: 11 × 4</caption>\n",
       "<thead>\n",
       "\t<tr><th></th><th scope=col>degree_centrality</th><th scope=col>betweenness_centrality</th><th scope=col>closeness_centrality</th><th scope=col>inf_centrality</th></tr>\n",
       "\t<tr><th></th><th scope=col>&lt;dbl&gt;</th><th scope=col>&lt;dbl&gt;</th><th scope=col>&lt;dbl&gt;</th><th scope=col>&lt;dbl&gt;</th></tr>\n",
       "</thead>\n",
       "<tbody>\n",
       "\t<tr><th scope=row>Barbadori</th><td>0.4</td><td>0.55555556</td><td>0.5882353</td><td>0.12446815</td></tr>\n",
       "\t<tr><th scope=row>Bischeri</th><td>0.3</td><td>0.05555556</td><td>0.4000000</td><td>0.08898359</td></tr>\n",
       "\t<tr><th scope=row>Castellani</th><td>0.3</td><td>0.11111111</td><td>0.5000000</td><td>0.10457651</td></tr>\n",
       "\t<tr><th scope=row>Ginori</th><td>0.2</td><td>0.00000000</td><td>0.4545455</td><td>0.09531249</td></tr>\n",
       "\t<tr><th scope=row>Guadagni</th><td>0.2</td><td>0.00000000</td><td>0.3125000</td><td>0.07656303</td></tr>\n",
       "\t<tr><th scope=row>Lamberteschi</th><td>0.4</td><td>0.13333333</td><td>0.4166667</td><td>0.09837087</td></tr>\n",
       "\t<tr><th scope=row>Medici</th><td>0.5</td><td>0.53333333</td><td>0.5263158</td><td>0.11089878</td></tr>\n",
       "\t<tr><th scope=row>Pazzi</th><td>0.1</td><td>0.00000000</td><td>0.3571429</td><td>0.06388631</td></tr>\n",
       "\t<tr><th scope=row>Peruzzi</th><td>0.4</td><td>0.30000000</td><td>0.5263158</td><td>0.10916767</td></tr>\n",
       "\t<tr><th scope=row>Salviati</th><td>0.1</td><td>0.00000000</td><td>0.3571429</td><td>0.06388631</td></tr>\n",
       "\t<tr><th scope=row>Tornabuoni</th><td>0.1</td><td>0.00000000</td><td>0.3571429</td><td>0.06388631</td></tr>\n",
       "</tbody>\n",
       "</table>\n"
      ],
      "text/latex": [
       "A data.frame: 11 × 4\n",
       "\\begin{tabular}{r|llll}\n",
       "  & degree\\_centrality & betweenness\\_centrality & closeness\\_centrality & inf\\_centrality\\\\\n",
       "  & <dbl> & <dbl> & <dbl> & <dbl>\\\\\n",
       "\\hline\n",
       "\tBarbadori & 0.4 & 0.55555556 & 0.5882353 & 0.12446815\\\\\n",
       "\tBischeri & 0.3 & 0.05555556 & 0.4000000 & 0.08898359\\\\\n",
       "\tCastellani & 0.3 & 0.11111111 & 0.5000000 & 0.10457651\\\\\n",
       "\tGinori & 0.2 & 0.00000000 & 0.4545455 & 0.09531249\\\\\n",
       "\tGuadagni & 0.2 & 0.00000000 & 0.3125000 & 0.07656303\\\\\n",
       "\tLamberteschi & 0.4 & 0.13333333 & 0.4166667 & 0.09837087\\\\\n",
       "\tMedici & 0.5 & 0.53333333 & 0.5263158 & 0.11089878\\\\\n",
       "\tPazzi & 0.1 & 0.00000000 & 0.3571429 & 0.06388631\\\\\n",
       "\tPeruzzi & 0.4 & 0.30000000 & 0.5263158 & 0.10916767\\\\\n",
       "\tSalviati & 0.1 & 0.00000000 & 0.3571429 & 0.06388631\\\\\n",
       "\tTornabuoni & 0.1 & 0.00000000 & 0.3571429 & 0.06388631\\\\\n",
       "\\end{tabular}\n"
      ],
      "text/markdown": [
       "\n",
       "A data.frame: 11 × 4\n",
       "\n",
       "| <!--/--> | degree_centrality &lt;dbl&gt; | betweenness_centrality &lt;dbl&gt; | closeness_centrality &lt;dbl&gt; | inf_centrality &lt;dbl&gt; |\n",
       "|---|---|---|---|---|\n",
       "| Barbadori | 0.4 | 0.55555556 | 0.5882353 | 0.12446815 |\n",
       "| Bischeri | 0.3 | 0.05555556 | 0.4000000 | 0.08898359 |\n",
       "| Castellani | 0.3 | 0.11111111 | 0.5000000 | 0.10457651 |\n",
       "| Ginori | 0.2 | 0.00000000 | 0.4545455 | 0.09531249 |\n",
       "| Guadagni | 0.2 | 0.00000000 | 0.3125000 | 0.07656303 |\n",
       "| Lamberteschi | 0.4 | 0.13333333 | 0.4166667 | 0.09837087 |\n",
       "| Medici | 0.5 | 0.53333333 | 0.5263158 | 0.11089878 |\n",
       "| Pazzi | 0.1 | 0.00000000 | 0.3571429 | 0.06388631 |\n",
       "| Peruzzi | 0.4 | 0.30000000 | 0.5263158 | 0.10916767 |\n",
       "| Salviati | 0.1 | 0.00000000 | 0.3571429 | 0.06388631 |\n",
       "| Tornabuoni | 0.1 | 0.00000000 | 0.3571429 | 0.06388631 |\n",
       "\n"
      ],
      "text/plain": [
       "             degree_centrality betweenness_centrality closeness_centrality\n",
       "Barbadori    0.4               0.55555556             0.5882353           \n",
       "Bischeri     0.3               0.05555556             0.4000000           \n",
       "Castellani   0.3               0.11111111             0.5000000           \n",
       "Ginori       0.2               0.00000000             0.4545455           \n",
       "Guadagni     0.2               0.00000000             0.3125000           \n",
       "Lamberteschi 0.4               0.13333333             0.4166667           \n",
       "Medici       0.5               0.53333333             0.5263158           \n",
       "Pazzi        0.1               0.00000000             0.3571429           \n",
       "Peruzzi      0.4               0.30000000             0.5263158           \n",
       "Salviati     0.1               0.00000000             0.3571429           \n",
       "Tornabuoni   0.1               0.00000000             0.3571429           \n",
       "             inf_centrality\n",
       "Barbadori    0.12446815    \n",
       "Bischeri     0.08898359    \n",
       "Castellani   0.10457651    \n",
       "Ginori       0.09531249    \n",
       "Guadagni     0.07656303    \n",
       "Lamberteschi 0.09837087    \n",
       "Medici       0.11089878    \n",
       "Pazzi        0.06388631    \n",
       "Peruzzi      0.10916767    \n",
       "Salviati     0.06388631    \n",
       "Tornabuoni   0.06388631    "
      ]
     },
     "metadata": {},
     "output_type": "display_data"
    }
   ],
   "source": [
    "measures <- data.frame(degree_centrality=actor_degree_centrality,\n",
    "                        betweenness_centrality=actor_betweenness_centrality,\n",
    "                        closeness_centrality=actor_closeness_centrality,\n",
    "                        inf_centrality=actor_inf_centrality)\n",
    "measures"
   ]
  },
  {
   "cell_type": "markdown",
   "metadata": {},
   "source": [
    "**Вывод**:с помощью специальных фун. были посчитанные требуемые нормализованные меры центральности."
   ]
  },
  {
   "cell_type": "markdown",
   "metadata": {
    "id": "Ao3TrLrVSBf3"
   },
   "source": [
    "#### 10.Вычислить значение централизации для каждой меры."
   ]
  },
  {
   "cell_type": "code",
   "execution_count": 30,
   "metadata": {
    "colab": {
     "base_uri": "https://localhost:8080/"
    },
    "id": "ejwQrMrU2iJs",
    "outputId": "1e57fd23-3468-44fb-c074-6e31fcf4062b"
   },
   "outputs": [
    {
     "name": "stdout",
     "output_type": "stream",
     "text": [
      "[1] 0.2777778\n",
      "[1] 0.3535226\n",
      "[1] 0.4422222\n",
      "[1] 0.8268573\n"
     ]
    }
   ],
   "source": [
    "netw_degree_centralisation <- (sum(max(actor_degree_centrality) - actor_degree_centrality)) / (g - 2)\n",
    "netw_closeness_centralisation <- (sum(max(actor_closeness_centrality) - actor_closeness_centrality)) / ((g - 2) * (g - 1) / (2 * g - 3))\n",
    "netw_betweenness_centralisation <- (sum(max(actor_betweenness_centrality) - actor_betweenness_centrality)) / (g - 1)\n",
    "netw_inf_centralisation <- (1/g) * sum((actor_inf_centrality - sum(actor_inf_centrality))^2)\n",
    "\n",
    "print(netw_degree_centralisation)\n",
    "print(netw_closeness_centralisation)\n",
    "print(netw_betweenness_centralisation)\n",
    "print(netw_inf_centralisation)"
   ]
  },
  {
   "cell_type": "markdown",
   "metadata": {},
   "source": [
    "**Вывод**:с помощью известных формул и средств языка R , были высчитаны централизации для разный мер"
   ]
  },
  {
   "cell_type": "markdown",
   "metadata": {
    "id": "C5gPQZOhxGRD"
   },
   "source": [
    "#### 11.Выявить точки сочленения и мосты сети"
   ]
  },
  {
   "cell_type": "markdown",
   "metadata": {},
   "source": [
    "Из п.5 видно, что компонент связанности станет больше только при удалении вершин Medici  и Barbadori, значит они вляются точками сочленения .\n",
    "\n",
    "Из п.5 видно, что компонент связанности станет больше только при удалении ребер между Medici и тремя вершинами со степенью узла 1."
   ]
  },
  {
   "cell_type": "code",
   "execution_count": 31,
   "metadata": {
    "id": "cQ5yfk2HW-I-"
   },
   "outputs": [],
   "source": [
    "# articulation points\n",
    "mask <- V(graph_data) %in% articulation_points(graph_data)\n",
    "colors <- replace(mask, mask, \"red\")\n",
    "colors <- replace(colors, !mask, \"green\")\n",
    "V(graph_data)$color <- colors\n"
   ]
  },
  {
   "cell_type": "code",
   "execution_count": 32,
   "metadata": {
    "id": "dorWkYeaW-Lm"
   },
   "outputs": [],
   "source": [
    "# bridges\n",
    "mask <- E(graph_data) %in% bridges(graph_data)\n",
    "colors <- replace(mask, mask, \"red\")\n",
    "colors <- replace(colors, !mask, \"green\")\n",
    "E(graph_data)$color <- colors\n"
   ]
  },
  {
   "cell_type": "code",
   "execution_count": 33,
   "metadata": {
    "colab": {
     "base_uri": "https://localhost:8080/",
     "height": 437
    },
    "id": "XFJ8etbGW-Cn",
    "outputId": "0dd64660-c18b-4898-8222-0d03f3b0d390"
   },
   "outputs": [
    {
     "data": {
      "image/png": "[encoded data removed]",
      "text/plain": [
       "Plot with title \"\""
      ]
     },
     "metadata": {
      "image/png": {
       "height": 420,
       "width": 420
      }
     },
     "output_type": "display_data"
    }
   ],
   "source": [
    "plot(graph_data)"
   ]
  },
  {
   "cell_type": "markdown",
   "metadata": {},
   "source": [
    "**Вывод**: соответствующие функции подтвердили логические рассуждения."
   ]
  },
  {
   "cell_type": "markdown",
   "metadata": {
    "id": "2xYcUFhG4EVv"
   },
   "source": [
    "#### 12.Выполнить пп. 2–8 для направленной сети из файла krackhardt_advice.csv"
   ]
  },
  {
   "cell_type": "markdown",
   "metadata": {
    "id": "n4TVnCXglImT"
   },
   "source": [
    "#### 12.1. Извлечь социоматрици с помощью соответствующих функций. Вывести полученной социоматрици на экран.\n"
   ]
  },
  {
   "cell_type": "code",
   "execution_count": 34,
   "metadata": {
    "colab": {
     "base_uri": "https://localhost:8080/"
    },
    "id": "tGWtEoreW-Oe",
    "outputId": "f339f8fc-3ca7-4217-8556-ea60129a0953"
   },
   "outputs": [
    {
     "name": "stdout",
     "output_type": "stream",
     "text": [
      "   V1 V2 V3 V4 V5 V6 V7 V8 V9 V10 V11 V12 V13 V14 V15 V16 V17 V18 V19 V20 V21\n",
      "1   0  1  0  1  0  0  0  1  0   0   0   0   0   0   0   1   0   1   0   0   1\n",
      "2   0  0  0  0  0  1  1  0  0   0   0   0   0   0   0   0   0   0   0   0   1\n",
      "3   1  1  0  1  0  1  1  1  1   1   1   1   0   1   0   0   1   1   0   1   1\n",
      "4   1  1  0  0  0  1  0  1  0   1   1   1   0   0   0   1   1   1   0   1   1\n",
      "5   1  1  0  0  0  1  1  1  0   1   1   0   1   1   0   1   1   1   1   1   1\n",
      "6   0  0  0  0  0  0  0  0  0   0   0   0   0   0   0   0   0   0   0   0   1\n",
      "7   0  1  0  0  0  1  0  0  0   0   1   1   0   1   0   0   1   1   0   0   1\n",
      "8   0  1  0  1  0  1  1  0  0   1   1   0   0   0   0   0   0   1   0   0   1\n",
      "9   1  1  0  0  0  1  1  1  0   1   1   1   0   1   0   1   1   1   0   0   1\n",
      "10  1  1  1  1  1  0  0  1  0   0   1   0   1   0   1   1   1   1   1   1   0\n",
      "11  1  1  0  0  0  0  1  0  0   0   0   0   0   0   0   0   0   0   0   0   0\n",
      "12  0  0  0  0  0  0  1  0  0   0   0   0   0   0   0   0   0   0   0   0   1\n",
      "13  1  1  0  0  1  0  0  0  1   0   0   0   0   1   0   0   0   1   0   0   0\n",
      "14  0  1  0  0  0  0  1  0  0   0   0   0   0   0   0   0   0   1   0   0   1\n",
      "15  1  1  1  1  1  1  1  1  1   1   1   1   1   1   0   1   1   1   1   1   1\n",
      "16  1  1  0  0  0  0  0  0  0   1   0   0   0   0   0   0   0   1   0   0   0\n",
      "17  1  1  0  1  0  0  1  0  0   0   0   0   0   0   0   0   0   0   0   0   1\n",
      "18  1  1  1  1  1  0  1  1  1   1   1   0   1   1   1   1   0   0   1   1   1\n",
      "19  1  1  1  0  1  0  1  0  0   1   1   0   0   1   1   0   0   1   0   1   0\n",
      "20  1  1  0  0  0  1  0  1  0   0   1   1   0   1   1   1   1   1   0   0   1\n",
      "21  0  1  1  1  0  1  1  1  0   0   0   1   0   1   0   0   1   1   0   1   0\n"
     ]
    }
   ],
   "source": [
    "df <- readLines()\n",
    "df <- read.csv(\"./odd/krackhardt_advice.csv\", comment.char = \"#\", header=FALSE)\n",
    "print(df)"
   ]
  },
  {
   "cell_type": "markdown",
   "metadata": {
    "id": "jIiA1TCQlTC6"
   },
   "source": [
    "#### 12.2.Преобразовать социоматрици в список рёбер. Вывести первые 5 элементов списка рёбер."
   ]
  },
  {
   "cell_type": "code",
   "execution_count": 35,
   "metadata": {
    "colab": {
     "base_uri": "https://localhost:8080/",
     "height": 286
    },
    "id": "ScluciSmIb8X",
    "outputId": "dacbbb00-4c9d-4c17-f392-dd808e66da0d"
   },
   "outputs": [
    {
     "data": {
      "text/html": [
       "<table class=\"dataframe\">\n",
       "<caption>A data.frame: 5 × 2</caption>\n",
       "<thead>\n",
       "\t<tr><th></th><th scope=col>from</th><th scope=col>to</th></tr>\n",
       "\t<tr><th></th><th scope=col>&lt;chr&gt;</th><th scope=col>&lt;chr&gt;</th></tr>\n",
       "</thead>\n",
       "<tbody>\n",
       "\t<tr><th scope=row>1</th><td>V1</td><td>V2 </td></tr>\n",
       "\t<tr><th scope=row>2</th><td>V1</td><td>V4 </td></tr>\n",
       "\t<tr><th scope=row>3</th><td>V1</td><td>V8 </td></tr>\n",
       "\t<tr><th scope=row>4</th><td>V1</td><td>V16</td></tr>\n",
       "\t<tr><th scope=row>5</th><td>V1</td><td>V18</td></tr>\n",
       "</tbody>\n",
       "</table>\n"
      ],
      "text/latex": [
       "A data.frame: 5 × 2\n",
       "\\begin{tabular}{r|ll}\n",
       "  & from & to\\\\\n",
       "  & <chr> & <chr>\\\\\n",
       "\\hline\n",
       "\t1 & V1 & V2 \\\\\n",
       "\t2 & V1 & V4 \\\\\n",
       "\t3 & V1 & V8 \\\\\n",
       "\t4 & V1 & V16\\\\\n",
       "\t5 & V1 & V18\\\\\n",
       "\\end{tabular}\n"
      ],
      "text/markdown": [
       "\n",
       "A data.frame: 5 × 2\n",
       "\n",
       "| <!--/--> | from &lt;chr&gt; | to &lt;chr&gt; |\n",
       "|---|---|---|\n",
       "| 1 | V1 | V2  |\n",
       "| 2 | V1 | V4  |\n",
       "| 3 | V1 | V8  |\n",
       "| 4 | V1 | V16 |\n",
       "| 5 | V1 | V18 |\n",
       "\n"
      ],
      "text/plain": [
       "  from to \n",
       "1 V1   V2 \n",
       "2 V1   V4 \n",
       "3 V1   V8 \n",
       "4 V1   V16\n",
       "5 V1   V18"
      ]
     },
     "metadata": {},
     "output_type": "display_data"
    }
   ],
   "source": [
    "df2 <- data.matrix(df)\n",
    "graph_data <- graph.adjacency(df2, mode=\"directed\") # создание направленого графа\n",
    "edgelist <- get.data.frame(graph_data)\n",
    "head(edgelist, 5)"
   ]
  },
  {
   "cell_type": "markdown",
   "metadata": {
    "id": "xQTqZzn-sYKi"
   },
   "source": [
    "#### 12.3.Присвоить имен столбцам и строкам социоматрицы."
   ]
  },
  {
   "cell_type": "code",
   "execution_count": 36,
   "metadata": {},
   "outputs": [
    {
     "data": {
      "text/html": [
       "<table class=\"dataframe\">\n",
       "<caption>A data.frame: 21 × 21</caption>\n",
       "<thead>\n",
       "\t<tr><th></th><th scope=col>V1</th><th scope=col>V2</th><th scope=col>V3</th><th scope=col>V4</th><th scope=col>V5</th><th scope=col>V6</th><th scope=col>V7</th><th scope=col>V8</th><th scope=col>V9</th><th scope=col>V10</th><th scope=col>⋯</th><th scope=col>V12</th><th scope=col>V13</th><th scope=col>V14</th><th scope=col>V15</th><th scope=col>V16</th><th scope=col>V17</th><th scope=col>V18</th><th scope=col>V19</th><th scope=col>V20</th><th scope=col>V21</th></tr>\n",
       "\t<tr><th></th><th scope=col>&lt;int&gt;</th><th scope=col>&lt;int&gt;</th><th scope=col>&lt;int&gt;</th><th scope=col>&lt;int&gt;</th><th scope=col>&lt;int&gt;</th><th scope=col>&lt;int&gt;</th><th scope=col>&lt;int&gt;</th><th scope=col>&lt;int&gt;</th><th scope=col>&lt;int&gt;</th><th scope=col>&lt;int&gt;</th><th scope=col>⋯</th><th scope=col>&lt;int&gt;</th><th scope=col>&lt;int&gt;</th><th scope=col>&lt;int&gt;</th><th scope=col>&lt;int&gt;</th><th scope=col>&lt;int&gt;</th><th scope=col>&lt;int&gt;</th><th scope=col>&lt;int&gt;</th><th scope=col>&lt;int&gt;</th><th scope=col>&lt;int&gt;</th><th scope=col>&lt;int&gt;</th></tr>\n",
       "</thead>\n",
       "<tbody>\n",
       "\t<tr><th scope=row>V1</th><td>0</td><td>1</td><td>0</td><td>1</td><td>0</td><td>0</td><td>0</td><td>1</td><td>0</td><td>0</td><td>⋯</td><td>0</td><td>0</td><td>0</td><td>0</td><td>1</td><td>0</td><td>1</td><td>0</td><td>0</td><td>1</td></tr>\n",
       "\t<tr><th scope=row>V2</th><td>0</td><td>0</td><td>0</td><td>0</td><td>0</td><td>1</td><td>1</td><td>0</td><td>0</td><td>0</td><td>⋯</td><td>0</td><td>0</td><td>0</td><td>0</td><td>0</td><td>0</td><td>0</td><td>0</td><td>0</td><td>1</td></tr>\n",
       "\t<tr><th scope=row>V3</th><td>1</td><td>1</td><td>0</td><td>1</td><td>0</td><td>1</td><td>1</td><td>1</td><td>1</td><td>1</td><td>⋯</td><td>1</td><td>0</td><td>1</td><td>0</td><td>0</td><td>1</td><td>1</td><td>0</td><td>1</td><td>1</td></tr>\n",
       "\t<tr><th scope=row>V4</th><td>1</td><td>1</td><td>0</td><td>0</td><td>0</td><td>1</td><td>0</td><td>1</td><td>0</td><td>1</td><td>⋯</td><td>1</td><td>0</td><td>0</td><td>0</td><td>1</td><td>1</td><td>1</td><td>0</td><td>1</td><td>1</td></tr>\n",
       "\t<tr><th scope=row>V5</th><td>1</td><td>1</td><td>0</td><td>0</td><td>0</td><td>1</td><td>1</td><td>1</td><td>0</td><td>1</td><td>⋯</td><td>0</td><td>1</td><td>1</td><td>0</td><td>1</td><td>1</td><td>1</td><td>1</td><td>1</td><td>1</td></tr>\n",
       "\t<tr><th scope=row>V6</th><td>0</td><td>0</td><td>0</td><td>0</td><td>0</td><td>0</td><td>0</td><td>0</td><td>0</td><td>0</td><td>⋯</td><td>0</td><td>0</td><td>0</td><td>0</td><td>0</td><td>0</td><td>0</td><td>0</td><td>0</td><td>1</td></tr>\n",
       "\t<tr><th scope=row>V7</th><td>0</td><td>1</td><td>0</td><td>0</td><td>0</td><td>1</td><td>0</td><td>0</td><td>0</td><td>0</td><td>⋯</td><td>1</td><td>0</td><td>1</td><td>0</td><td>0</td><td>1</td><td>1</td><td>0</td><td>0</td><td>1</td></tr>\n",
       "\t<tr><th scope=row>V8</th><td>0</td><td>1</td><td>0</td><td>1</td><td>0</td><td>1</td><td>1</td><td>0</td><td>0</td><td>1</td><td>⋯</td><td>0</td><td>0</td><td>0</td><td>0</td><td>0</td><td>0</td><td>1</td><td>0</td><td>0</td><td>1</td></tr>\n",
       "\t<tr><th scope=row>V9</th><td>1</td><td>1</td><td>0</td><td>0</td><td>0</td><td>1</td><td>1</td><td>1</td><td>0</td><td>1</td><td>⋯</td><td>1</td><td>0</td><td>1</td><td>0</td><td>1</td><td>1</td><td>1</td><td>0</td><td>0</td><td>1</td></tr>\n",
       "\t<tr><th scope=row>V10</th><td>1</td><td>1</td><td>1</td><td>1</td><td>1</td><td>0</td><td>0</td><td>1</td><td>0</td><td>0</td><td>⋯</td><td>0</td><td>1</td><td>0</td><td>1</td><td>1</td><td>1</td><td>1</td><td>1</td><td>1</td><td>0</td></tr>\n",
       "\t<tr><th scope=row>V11</th><td>1</td><td>1</td><td>0</td><td>0</td><td>0</td><td>0</td><td>1</td><td>0</td><td>0</td><td>0</td><td>⋯</td><td>0</td><td>0</td><td>0</td><td>0</td><td>0</td><td>0</td><td>0</td><td>0</td><td>0</td><td>0</td></tr>\n",
       "\t<tr><th scope=row>V12</th><td>0</td><td>0</td><td>0</td><td>0</td><td>0</td><td>0</td><td>1</td><td>0</td><td>0</td><td>0</td><td>⋯</td><td>0</td><td>0</td><td>0</td><td>0</td><td>0</td><td>0</td><td>0</td><td>0</td><td>0</td><td>1</td></tr>\n",
       "\t<tr><th scope=row>V13</th><td>1</td><td>1</td><td>0</td><td>0</td><td>1</td><td>0</td><td>0</td><td>0</td><td>1</td><td>0</td><td>⋯</td><td>0</td><td>0</td><td>1</td><td>0</td><td>0</td><td>0</td><td>1</td><td>0</td><td>0</td><td>0</td></tr>\n",
       "\t<tr><th scope=row>V14</th><td>0</td><td>1</td><td>0</td><td>0</td><td>0</td><td>0</td><td>1</td><td>0</td><td>0</td><td>0</td><td>⋯</td><td>0</td><td>0</td><td>0</td><td>0</td><td>0</td><td>0</td><td>1</td><td>0</td><td>0</td><td>1</td></tr>\n",
       "\t<tr><th scope=row>V15</th><td>1</td><td>1</td><td>1</td><td>1</td><td>1</td><td>1</td><td>1</td><td>1</td><td>1</td><td>1</td><td>⋯</td><td>1</td><td>1</td><td>1</td><td>0</td><td>1</td><td>1</td><td>1</td><td>1</td><td>1</td><td>1</td></tr>\n",
       "\t<tr><th scope=row>V16</th><td>1</td><td>1</td><td>0</td><td>0</td><td>0</td><td>0</td><td>0</td><td>0</td><td>0</td><td>1</td><td>⋯</td><td>0</td><td>0</td><td>0</td><td>0</td><td>0</td><td>0</td><td>1</td><td>0</td><td>0</td><td>0</td></tr>\n",
       "\t<tr><th scope=row>V17</th><td>1</td><td>1</td><td>0</td><td>1</td><td>0</td><td>0</td><td>1</td><td>0</td><td>0</td><td>0</td><td>⋯</td><td>0</td><td>0</td><td>0</td><td>0</td><td>0</td><td>0</td><td>0</td><td>0</td><td>0</td><td>1</td></tr>\n",
       "\t<tr><th scope=row>V18</th><td>1</td><td>1</td><td>1</td><td>1</td><td>1</td><td>0</td><td>1</td><td>1</td><td>1</td><td>1</td><td>⋯</td><td>0</td><td>1</td><td>1</td><td>1</td><td>1</td><td>0</td><td>0</td><td>1</td><td>1</td><td>1</td></tr>\n",
       "\t<tr><th scope=row>V19</th><td>1</td><td>1</td><td>1</td><td>0</td><td>1</td><td>0</td><td>1</td><td>0</td><td>0</td><td>1</td><td>⋯</td><td>0</td><td>0</td><td>1</td><td>1</td><td>0</td><td>0</td><td>1</td><td>0</td><td>1</td><td>0</td></tr>\n",
       "\t<tr><th scope=row>V20</th><td>1</td><td>1</td><td>0</td><td>0</td><td>0</td><td>1</td><td>0</td><td>1</td><td>0</td><td>0</td><td>⋯</td><td>1</td><td>0</td><td>1</td><td>1</td><td>1</td><td>1</td><td>1</td><td>0</td><td>0</td><td>1</td></tr>\n",
       "\t<tr><th scope=row>V21</th><td>0</td><td>1</td><td>1</td><td>1</td><td>0</td><td>1</td><td>1</td><td>1</td><td>0</td><td>0</td><td>⋯</td><td>1</td><td>0</td><td>1</td><td>0</td><td>0</td><td>1</td><td>1</td><td>0</td><td>1</td><td>0</td></tr>\n",
       "</tbody>\n",
       "</table>\n"
      ],
      "text/latex": [
       "A data.frame: 21 × 21\n",
       "\\begin{tabular}{r|lllllllllllllllllllll}\n",
       "  & V1 & V2 & V3 & V4 & V5 & V6 & V7 & V8 & V9 & V10 & ⋯ & V12 & V13 & V14 & V15 & V16 & V17 & V18 & V19 & V20 & V21\\\\\n",
       "  & <int> & <int> & <int> & <int> & <int> & <int> & <int> & <int> & <int> & <int> & ⋯ & <int> & <int> & <int> & <int> & <int> & <int> & <int> & <int> & <int> & <int>\\\\\n",
       "\\hline\n",
       "\tV1 & 0 & 1 & 0 & 1 & 0 & 0 & 0 & 1 & 0 & 0 & ⋯ & 0 & 0 & 0 & 0 & 1 & 0 & 1 & 0 & 0 & 1\\\\\n",
       "\tV2 & 0 & 0 & 0 & 0 & 0 & 1 & 1 & 0 & 0 & 0 & ⋯ & 0 & 0 & 0 & 0 & 0 & 0 & 0 & 0 & 0 & 1\\\\\n",
       "\tV3 & 1 & 1 & 0 & 1 & 0 & 1 & 1 & 1 & 1 & 1 & ⋯ & 1 & 0 & 1 & 0 & 0 & 1 & 1 & 0 & 1 & 1\\\\\n",
       "\tV4 & 1 & 1 & 0 & 0 & 0 & 1 & 0 & 1 & 0 & 1 & ⋯ & 1 & 0 & 0 & 0 & 1 & 1 & 1 & 0 & 1 & 1\\\\\n",
       "\tV5 & 1 & 1 & 0 & 0 & 0 & 1 & 1 & 1 & 0 & 1 & ⋯ & 0 & 1 & 1 & 0 & 1 & 1 & 1 & 1 & 1 & 1\\\\\n",
       "\tV6 & 0 & 0 & 0 & 0 & 0 & 0 & 0 & 0 & 0 & 0 & ⋯ & 0 & 0 & 0 & 0 & 0 & 0 & 0 & 0 & 0 & 1\\\\\n",
       "\tV7 & 0 & 1 & 0 & 0 & 0 & 1 & 0 & 0 & 0 & 0 & ⋯ & 1 & 0 & 1 & 0 & 0 & 1 & 1 & 0 & 0 & 1\\\\\n",
       "\tV8 & 0 & 1 & 0 & 1 & 0 & 1 & 1 & 0 & 0 & 1 & ⋯ & 0 & 0 & 0 & 0 & 0 & 0 & 1 & 0 & 0 & 1\\\\\n",
       "\tV9 & 1 & 1 & 0 & 0 & 0 & 1 & 1 & 1 & 0 & 1 & ⋯ & 1 & 0 & 1 & 0 & 1 & 1 & 1 & 0 & 0 & 1\\\\\n",
       "\tV10 & 1 & 1 & 1 & 1 & 1 & 0 & 0 & 1 & 0 & 0 & ⋯ & 0 & 1 & 0 & 1 & 1 & 1 & 1 & 1 & 1 & 0\\\\\n",
       "\tV11 & 1 & 1 & 0 & 0 & 0 & 0 & 1 & 0 & 0 & 0 & ⋯ & 0 & 0 & 0 & 0 & 0 & 0 & 0 & 0 & 0 & 0\\\\\n",
       "\tV12 & 0 & 0 & 0 & 0 & 0 & 0 & 1 & 0 & 0 & 0 & ⋯ & 0 & 0 & 0 & 0 & 0 & 0 & 0 & 0 & 0 & 1\\\\\n",
       "\tV13 & 1 & 1 & 0 & 0 & 1 & 0 & 0 & 0 & 1 & 0 & ⋯ & 0 & 0 & 1 & 0 & 0 & 0 & 1 & 0 & 0 & 0\\\\\n",
       "\tV14 & 0 & 1 & 0 & 0 & 0 & 0 & 1 & 0 & 0 & 0 & ⋯ & 0 & 0 & 0 & 0 & 0 & 0 & 1 & 0 & 0 & 1\\\\\n",
       "\tV15 & 1 & 1 & 1 & 1 & 1 & 1 & 1 & 1 & 1 & 1 & ⋯ & 1 & 1 & 1 & 0 & 1 & 1 & 1 & 1 & 1 & 1\\\\\n",
       "\tV16 & 1 & 1 & 0 & 0 & 0 & 0 & 0 & 0 & 0 & 1 & ⋯ & 0 & 0 & 0 & 0 & 0 & 0 & 1 & 0 & 0 & 0\\\\\n",
       "\tV17 & 1 & 1 & 0 & 1 & 0 & 0 & 1 & 0 & 0 & 0 & ⋯ & 0 & 0 & 0 & 0 & 0 & 0 & 0 & 0 & 0 & 1\\\\\n",
       "\tV18 & 1 & 1 & 1 & 1 & 1 & 0 & 1 & 1 & 1 & 1 & ⋯ & 0 & 1 & 1 & 1 & 1 & 0 & 0 & 1 & 1 & 1\\\\\n",
       "\tV19 & 1 & 1 & 1 & 0 & 1 & 0 & 1 & 0 & 0 & 1 & ⋯ & 0 & 0 & 1 & 1 & 0 & 0 & 1 & 0 & 1 & 0\\\\\n",
       "\tV20 & 1 & 1 & 0 & 0 & 0 & 1 & 0 & 1 & 0 & 0 & ⋯ & 1 & 0 & 1 & 1 & 1 & 1 & 1 & 0 & 0 & 1\\\\\n",
       "\tV21 & 0 & 1 & 1 & 1 & 0 & 1 & 1 & 1 & 0 & 0 & ⋯ & 1 & 0 & 1 & 0 & 0 & 1 & 1 & 0 & 1 & 0\\\\\n",
       "\\end{tabular}\n"
      ],
      "text/markdown": [
       "\n",
       "A data.frame: 21 × 21\n",
       "\n",
       "| <!--/--> | V1 &lt;int&gt; | V2 &lt;int&gt; | V3 &lt;int&gt; | V4 &lt;int&gt; | V5 &lt;int&gt; | V6 &lt;int&gt; | V7 &lt;int&gt; | V8 &lt;int&gt; | V9 &lt;int&gt; | V10 &lt;int&gt; | ⋯ ⋯ | V12 &lt;int&gt; | V13 &lt;int&gt; | V14 &lt;int&gt; | V15 &lt;int&gt; | V16 &lt;int&gt; | V17 &lt;int&gt; | V18 &lt;int&gt; | V19 &lt;int&gt; | V20 &lt;int&gt; | V21 &lt;int&gt; |\n",
       "|---|---|---|---|---|---|---|---|---|---|---|---|---|---|---|---|---|---|---|---|---|---|\n",
       "| V1 | 0 | 1 | 0 | 1 | 0 | 0 | 0 | 1 | 0 | 0 | ⋯ | 0 | 0 | 0 | 0 | 1 | 0 | 1 | 0 | 0 | 1 |\n",
       "| V2 | 0 | 0 | 0 | 0 | 0 | 1 | 1 | 0 | 0 | 0 | ⋯ | 0 | 0 | 0 | 0 | 0 | 0 | 0 | 0 | 0 | 1 |\n",
       "| V3 | 1 | 1 | 0 | 1 | 0 | 1 | 1 | 1 | 1 | 1 | ⋯ | 1 | 0 | 1 | 0 | 0 | 1 | 1 | 0 | 1 | 1 |\n",
       "| V4 | 1 | 1 | 0 | 0 | 0 | 1 | 0 | 1 | 0 | 1 | ⋯ | 1 | 0 | 0 | 0 | 1 | 1 | 1 | 0 | 1 | 1 |\n",
       "| V5 | 1 | 1 | 0 | 0 | 0 | 1 | 1 | 1 | 0 | 1 | ⋯ | 0 | 1 | 1 | 0 | 1 | 1 | 1 | 1 | 1 | 1 |\n",
       "| V6 | 0 | 0 | 0 | 0 | 0 | 0 | 0 | 0 | 0 | 0 | ⋯ | 0 | 0 | 0 | 0 | 0 | 0 | 0 | 0 | 0 | 1 |\n",
       "| V7 | 0 | 1 | 0 | 0 | 0 | 1 | 0 | 0 | 0 | 0 | ⋯ | 1 | 0 | 1 | 0 | 0 | 1 | 1 | 0 | 0 | 1 |\n",
       "| V8 | 0 | 1 | 0 | 1 | 0 | 1 | 1 | 0 | 0 | 1 | ⋯ | 0 | 0 | 0 | 0 | 0 | 0 | 1 | 0 | 0 | 1 |\n",
       "| V9 | 1 | 1 | 0 | 0 | 0 | 1 | 1 | 1 | 0 | 1 | ⋯ | 1 | 0 | 1 | 0 | 1 | 1 | 1 | 0 | 0 | 1 |\n",
       "| V10 | 1 | 1 | 1 | 1 | 1 | 0 | 0 | 1 | 0 | 0 | ⋯ | 0 | 1 | 0 | 1 | 1 | 1 | 1 | 1 | 1 | 0 |\n",
       "| V11 | 1 | 1 | 0 | 0 | 0 | 0 | 1 | 0 | 0 | 0 | ⋯ | 0 | 0 | 0 | 0 | 0 | 0 | 0 | 0 | 0 | 0 |\n",
       "| V12 | 0 | 0 | 0 | 0 | 0 | 0 | 1 | 0 | 0 | 0 | ⋯ | 0 | 0 | 0 | 0 | 0 | 0 | 0 | 0 | 0 | 1 |\n",
       "| V13 | 1 | 1 | 0 | 0 | 1 | 0 | 0 | 0 | 1 | 0 | ⋯ | 0 | 0 | 1 | 0 | 0 | 0 | 1 | 0 | 0 | 0 |\n",
       "| V14 | 0 | 1 | 0 | 0 | 0 | 0 | 1 | 0 | 0 | 0 | ⋯ | 0 | 0 | 0 | 0 | 0 | 0 | 1 | 0 | 0 | 1 |\n",
       "| V15 | 1 | 1 | 1 | 1 | 1 | 1 | 1 | 1 | 1 | 1 | ⋯ | 1 | 1 | 1 | 0 | 1 | 1 | 1 | 1 | 1 | 1 |\n",
       "| V16 | 1 | 1 | 0 | 0 | 0 | 0 | 0 | 0 | 0 | 1 | ⋯ | 0 | 0 | 0 | 0 | 0 | 0 | 1 | 0 | 0 | 0 |\n",
       "| V17 | 1 | 1 | 0 | 1 | 0 | 0 | 1 | 0 | 0 | 0 | ⋯ | 0 | 0 | 0 | 0 | 0 | 0 | 0 | 0 | 0 | 1 |\n",
       "| V18 | 1 | 1 | 1 | 1 | 1 | 0 | 1 | 1 | 1 | 1 | ⋯ | 0 | 1 | 1 | 1 | 1 | 0 | 0 | 1 | 1 | 1 |\n",
       "| V19 | 1 | 1 | 1 | 0 | 1 | 0 | 1 | 0 | 0 | 1 | ⋯ | 0 | 0 | 1 | 1 | 0 | 0 | 1 | 0 | 1 | 0 |\n",
       "| V20 | 1 | 1 | 0 | 0 | 0 | 1 | 0 | 1 | 0 | 0 | ⋯ | 1 | 0 | 1 | 1 | 1 | 1 | 1 | 0 | 0 | 1 |\n",
       "| V21 | 0 | 1 | 1 | 1 | 0 | 1 | 1 | 1 | 0 | 0 | ⋯ | 1 | 0 | 1 | 0 | 0 | 1 | 1 | 0 | 1 | 0 |\n",
       "\n"
      ],
      "text/plain": [
       "    V1 V2 V3 V4 V5 V6 V7 V8 V9 V10 ⋯ V12 V13 V14 V15 V16 V17 V18 V19 V20 V21\n",
       "V1  0  1  0  1  0  0  0  1  0  0   ⋯ 0   0   0   0   1   0   1   0   0   1  \n",
       "V2  0  0  0  0  0  1  1  0  0  0   ⋯ 0   0   0   0   0   0   0   0   0   1  \n",
       "V3  1  1  0  1  0  1  1  1  1  1   ⋯ 1   0   1   0   0   1   1   0   1   1  \n",
       "V4  1  1  0  0  0  1  0  1  0  1   ⋯ 1   0   0   0   1   1   1   0   1   1  \n",
       "V5  1  1  0  0  0  1  1  1  0  1   ⋯ 0   1   1   0   1   1   1   1   1   1  \n",
       "V6  0  0  0  0  0  0  0  0  0  0   ⋯ 0   0   0   0   0   0   0   0   0   1  \n",
       "V7  0  1  0  0  0  1  0  0  0  0   ⋯ 1   0   1   0   0   1   1   0   0   1  \n",
       "V8  0  1  0  1  0  1  1  0  0  1   ⋯ 0   0   0   0   0   0   1   0   0   1  \n",
       "V9  1  1  0  0  0  1  1  1  0  1   ⋯ 1   0   1   0   1   1   1   0   0   1  \n",
       "V10 1  1  1  1  1  0  0  1  0  0   ⋯ 0   1   0   1   1   1   1   1   1   0  \n",
       "V11 1  1  0  0  0  0  1  0  0  0   ⋯ 0   0   0   0   0   0   0   0   0   0  \n",
       "V12 0  0  0  0  0  0  1  0  0  0   ⋯ 0   0   0   0   0   0   0   0   0   1  \n",
       "V13 1  1  0  0  1  0  0  0  1  0   ⋯ 0   0   1   0   0   0   1   0   0   0  \n",
       "V14 0  1  0  0  0  0  1  0  0  0   ⋯ 0   0   0   0   0   0   1   0   0   1  \n",
       "V15 1  1  1  1  1  1  1  1  1  1   ⋯ 1   1   1   0   1   1   1   1   1   1  \n",
       "V16 1  1  0  0  0  0  0  0  0  1   ⋯ 0   0   0   0   0   0   1   0   0   0  \n",
       "V17 1  1  0  1  0  0  1  0  0  0   ⋯ 0   0   0   0   0   0   0   0   0   1  \n",
       "V18 1  1  1  1  1  0  1  1  1  1   ⋯ 0   1   1   1   1   0   0   1   1   1  \n",
       "V19 1  1  1  0  1  0  1  0  0  1   ⋯ 0   0   1   1   0   0   1   0   1   0  \n",
       "V20 1  1  0  0  0  1  0  1  0  0   ⋯ 1   0   1   1   1   1   1   0   0   1  \n",
       "V21 0  1  1  1  0  1  1  1  0  0   ⋯ 1   0   1   0   0   1   1   0   1   0  "
      ]
     },
     "metadata": {},
     "output_type": "display_data"
    }
   ],
   "source": [
    "rownames(df) <- colnames(df)\n",
    "df"
   ]
  },
  {
   "cell_type": "markdown",
   "metadata": {
    "id": "xiDianabtNvZ"
   },
   "source": [
    "#### 12.4.Построить направленную сеть. Объяснить параметры, передаваемые в функцию."
   ]
  },
  {
   "cell_type": "code",
   "execution_count": 37,
   "metadata": {
    "colab": {
     "base_uri": "https://localhost:8080/",
     "height": 437
    },
    "id": "ttNXFI2JIcB1",
    "outputId": "6975e54b-4682-4428-ee00-fbf50a9b3406",
    "scrolled": true
   },
   "outputs": [
    {
     "data": {
      "image/png": "[encoded data removed]",
      "text/plain": [
       "Plot with title \"\""
      ]
     },
     "metadata": {
      "image/png": {
       "height": 420,
       "width": 420
      }
     },
     "output_type": "display_data"
    }
   ],
   "source": [
    "plot(graph_data) # выше уже был создан направленый граф"
   ]
  },
  {
   "cell_type": "markdown",
   "metadata": {
    "id": "dBeC1TDiJ1Fd"
   },
   "source": [
    "### 12.5Отобразить сеть с помощью алгоритмов укладки Фрюхтермана–Рейнгольда и Камада–Каваи."
   ]
  },
  {
   "cell_type": "code",
   "execution_count": 38,
   "metadata": {
    "id": "hoqYIy4zIcEs"
   },
   "outputs": [],
   "source": [
    "layout_FR <- layout_with_fr(graph_data)\n",
    "layout_KK <- layout_with_kk(graph_data)"
   ]
  },
  {
   "cell_type": "code",
   "execution_count": 39,
   "metadata": {
    "colab": {
     "base_uri": "https://localhost:8080/",
     "height": 437
    },
    "id": "SGSgZdSYIcHT",
    "outputId": "45c01a35-ff47-436b-a343-bab1ead3b807"
   },
   "outputs": [
    {
     "data": {
      "image/png": "[encoded data removed]",
      "text/plain": [
       "Plot with title \"\""
      ]
     },
     "metadata": {
      "image/png": {
       "height": 420,
       "width": 420
      }
     },
     "output_type": "display_data"
    }
   ],
   "source": [
    "plot(graph_data, layout=layout_FR)"
   ]
  },
  {
   "cell_type": "code",
   "execution_count": 40,
   "metadata": {
    "colab": {
     "base_uri": "https://localhost:8080/",
     "height": 437
    },
    "id": "KsxA3eQ7IcKD",
    "outputId": "444c3ef9-ca5a-4e1d-8f3c-b47546cb7c24"
   },
   "outputs": [
    {
     "data": {
      "image/png": "[encoded data removed]",
      "text/plain": [
       "Plot with title \"\""
      ]
     },
     "metadata": {
      "image/png": {
       "height": 420,
       "width": 420
      }
     },
     "output_type": "display_data"
    }
   ],
   "source": [
    "plot(graph_data, layout=layout_KK)"
   ]
  },
  {
   "cell_type": "markdown",
   "metadata": {
    "id": "Nc_-MPNFKD4D"
   },
   "source": [
    "#### 12.6 Вывести «описательную сводку» сети."
   ]
  },
  {
   "cell_type": "code",
   "execution_count": 41,
   "metadata": {
    "colab": {
     "base_uri": "https://localhost:8080/"
    },
    "id": "XP6ZRovpKC2l",
    "outputId": "e09c7964-6041-477a-9aef-c54e6da761c3"
   },
   "outputs": [
    {
     "name": "stdout",
     "output_type": "stream",
     "text": [
      "IGRAPH 0531037 DN-- 21 190 -- \n",
      "+ attr: name (v/c)\n",
      "+ edges from 0531037 (vertex names):\n",
      " [1] V1->V2  V1->V4  V1->V8  V1->V16 V1->V18 V1->V21 V2->V6  V2->V7  V2->V21\n",
      "[10] V3->V1  V3->V2  V3->V4  V3->V6  V3->V7  V3->V8  V3->V9  V3->V10 V3->V11\n",
      "[19] V3->V12 V3->V14 V3->V17 V3->V18 V3->V20 V3->V21 V4->V1  V4->V2  V4->V6 \n",
      "[28] V4->V8  V4->V10 V4->V11 V4->V12 V4->V16 V4->V17 V4->V18 V4->V20 V4->V21\n",
      "[37] V5->V1  V5->V2  V5->V6  V5->V7  V5->V8  V5->V10 V5->V11 V5->V13 V5->V14\n",
      "[46] V5->V16 V5->V17 V5->V18 V5->V19 V5->V20 V5->V21 V6->V21 V7->V2  V7->V6 \n",
      "[55] V7->V11 V7->V12 V7->V14 V7->V17 V7->V18 V7->V21 V8->V2  V8->V4  V8->V6 \n",
      "[64] V8->V7  V8->V10 V8->V11 V8->V18 V8->V21 V9->V1  V9->V2  V9->V6  V9->V7 \n",
      "+ ... omitted several edges\n"
     ]
    }
   ],
   "source": [
    "print(graph_data)"
   ]
  },
  {
   "cell_type": "markdown",
   "metadata": {
    "id": "CPRRyHOEzuM5"
   },
   "source": [
    "#### 12.7.Вычислить «пятичисловую сводку» сети"
   ]
  },
  {
   "cell_type": "markdown",
   "metadata": {},
   "source": [
    " **12.7.1 Размер сети**"
   ]
  },
  {
   "cell_type": "code",
   "execution_count": 42,
   "metadata": {
    "colab": {
     "base_uri": "https://localhost:8080/",
     "height": 34
    },
    "id": "VrhebkeEvfZw",
    "outputId": "667f2960-95a8-45e7-f53e-755a4171f6a9"
   },
   "outputs": [
    {
     "data": {
      "text/html": [
       "'Размер сети: 21'"
      ],
      "text/latex": [
       "'Размер сети: 21'"
      ],
      "text/markdown": [
       "'Размер сети: 21'"
      ],
      "text/plain": [
       "[1] \"Размер сети: 21\""
      ]
     },
     "metadata": {},
     "output_type": "display_data"
    }
   ],
   "source": [
    "network_size <- gorder(graph_data) \n",
    "sprintf(\"Размер сети: %i\", network_size)"
   ]
  },
  {
   "cell_type": "markdown",
   "metadata": {},
   "source": [
    "**12.7.2 Плотность сети**"
   ]
  },
  {
   "cell_type": "code",
   "execution_count": 43,
   "metadata": {
    "colab": {
     "base_uri": "https://localhost:8080/",
     "height": 34
    },
    "id": "xgBQPExsvfcI",
    "outputId": "223224b2-394a-4b38-b07a-42e5d55e4d89",
    "scrolled": true
   },
   "outputs": [
    {
     "data": {
      "text/html": [
       "'Плотность сети в ручную: 0.452381'"
      ],
      "text/latex": [
       "'Плотность сети в ручную: 0.452381'"
      ],
      "text/markdown": [
       "'Плотность сети в ручную: 0.452381'"
      ],
      "text/plain": [
       "[1] \"Плотность сети в ручную: 0.452381\""
      ]
     },
     "metadata": {},
     "output_type": "display_data"
    },
    {
     "data": {
      "text/html": [
       "'Плотность сети с помощью фун.: 0.452381'"
      ],
      "text/latex": [
       "'Плотность сети с помощью фун.: 0.452381'"
      ],
      "text/markdown": [
       "'Плотность сети с помощью фун.: 0.452381'"
      ],
      "text/plain": [
       "[1] \"Плотность сети с помощью фун.: 0.452381\""
      ]
     },
     "metadata": {},
     "output_type": "display_data"
    }
   ],
   "source": [
    "density <-  gsize(graph_data) / ((network_size) * (network_size - 1))\n",
    "sprintf(\"Плотность сети в ручную: %f\", density)\n",
    "sprintf(\"Плотность сети с помощью фун.: %f\", graph.density(graph_data))"
   ]
  },
  {
   "cell_type": "markdown",
   "metadata": {},
   "source": [
    "**Вывод**: Как видим резултат одинаковый"
   ]
  },
  {
   "cell_type": "markdown",
   "metadata": {},
   "source": [
    "**12.7.3 Число компонент в сети**"
   ]
  },
  {
   "cell_type": "markdown",
   "metadata": {
    "id": "D-EBM85UwbSV"
   },
   "source": [
    "По графику видно(см . п12.5), что компонент связности **1**"
   ]
  },
  {
   "cell_type": "code",
   "execution_count": 44,
   "metadata": {
    "colab": {
     "base_uri": "https://localhost:8080/",
     "height": 34
    },
    "id": "N07-wBNXvg0w",
    "outputId": "3fbcd000-c6ee-419e-d1a5-eec9994cb235"
   },
   "outputs": [
    {
     "data": {
      "text/html": [
       "'Число компонент в сети с помощью фун.: 1'"
      ],
      "text/latex": [
       "'Число компонент в сети с помощью фун.: 1'"
      ],
      "text/markdown": [
       "'Число компонент в сети с помощью фун.: 1'"
      ],
      "text/plain": [
       "[1] \"Число компонент в сети с помощью фун.: 1\""
      ]
     },
     "metadata": {},
     "output_type": "display_data"
    }
   ],
   "source": [
    "num_components <- count_components(graph_data, mode='weak')\n",
    "sprintf(\"Число компонент в сети с помощью фун.: %i\", num_components)"
   ]
  },
  {
   "cell_type": "markdown",
   "metadata": {},
   "source": [
    "**Вывод**: Как видим резултат одинаковый"
   ]
  },
  {
   "cell_type": "markdown",
   "metadata": {},
   "source": [
    "**12.7.4 Диаметр сети**"
   ]
  },
  {
   "cell_type": "code",
   "execution_count": 45,
   "metadata": {
    "colab": {
     "base_uri": "https://localhost:8080/",
     "height": 34
    },
    "id": "Zgf3afD9vg6Q",
    "outputId": "92da4711-2ba8-4c35-ffff-ea4ba03cceef"
   },
   "outputs": [
    {
     "data": {
      "text/html": [
       "'Диаметр сети: 2'"
      ],
      "text/latex": [
       "'Диаметр сети: 2'"
      ],
      "text/markdown": [
       "'Диаметр сети: 2'"
      ],
      "text/plain": [
       "[1] \"Диаметр сети: 2\""
      ]
     },
     "metadata": {},
     "output_type": "display_data"
    }
   ],
   "source": [
    "diam <- diameter(graph_data, directed=FALSE)\n",
    "sprintf(\"Диаметр сети: %i\", diam)"
   ]
  },
  {
   "cell_type": "markdown",
   "metadata": {},
   "source": [
    "**Вывод**: Диаметр сети равен 2"
   ]
  },
  {
   "cell_type": "markdown",
   "metadata": {},
   "source": [
    "**12.7.5 Коэффициент кластеризации**"
   ]
  },
  {
   "cell_type": "code",
   "execution_count": 46,
   "metadata": {
    "colab": {
     "base_uri": "https://localhost:8080/",
     "height": 34
    },
    "id": "m6J7os73hNBU",
    "outputId": "28c2c627-36d2-461e-f18e-c5fc24416e14"
   },
   "outputs": [
    {
     "data": {
      "text/html": [
       "'Коэффициент кластеризации сети: 0.734509'"
      ],
      "text/latex": [
       "'Коэффициент кластеризации сети: 0.734509'"
      ],
      "text/markdown": [
       "'Коэффициент кластеризации сети: 0.734509'"
      ],
      "text/plain": [
       "[1] \"Коэффициент кластеризации сети: 0.734509\""
      ]
     },
     "metadata": {},
     "output_type": "display_data"
    }
   ],
   "source": [
    "clust_coefficient <- transitivity(graph_data)\n",
    "sprintf(\"Коэффициент кластеризации сети: %f\", clust_coefficient)"
   ]
  },
  {
   "cell_type": "markdown",
   "metadata": {},
   "source": [
    "**Вывод**: Коэффициент кластеризации сети равен 0.734509"
   ]
  },
  {
   "cell_type": "markdown",
   "metadata": {
    "id": "iWNppik1SdjS"
   },
   "source": [
    "#### 12.8.Вычислить среднюю степень узлов и дисперсию. Сделать выводы."
   ]
  },
  {
   "cell_type": "code",
   "execution_count": 47,
   "metadata": {
    "colab": {
     "base_uri": "https://localhost:8080/",
     "height": 34
    },
    "id": "0fBRmWH-SeB6",
    "outputId": "0272b342-5d72-4531-f4a1-35bc2f17eec3"
   },
   "outputs": [
    {
     "data": {
      "text/html": [
       "18.0952380952381"
      ],
      "text/latex": [
       "18.0952380952381"
      ],
      "text/markdown": [
       "18.0952380952381"
      ],
      "text/plain": [
       "[1] 18.09524"
      ]
     },
     "metadata": {},
     "output_type": "display_data"
    }
   ],
   "source": [
    "average_degree <- mean(igraph::degree(graph_data, mode=\"all\"))\n",
    "average_degree"
   ]
  },
  {
   "cell_type": "code",
   "execution_count": 48,
   "metadata": {
    "colab": {
     "base_uri": "https://localhost:8080/",
     "height": 34
    },
    "id": "nTWI7PiISeFN",
    "outputId": "1ebe68ca-a19e-45b0-fc34-e9a0de1ebf82"
   },
   "outputs": [
    {
     "data": {
      "text/html": [
       "30.6575963718821"
      ],
      "text/latex": [
       "30.6575963718821"
      ],
      "text/markdown": [
       "30.6575963718821"
      ],
      "text/plain": [
       "[1] 30.6576"
      ]
     },
     "metadata": {},
     "output_type": "display_data"
    }
   ],
   "source": [
    "dispersion <- mean((igraph::degree(graph_data, mode=\"all\") - average_degree) ** 2)\n",
    "dispersion"
   ]
  },
  {
   "cell_type": "markdown",
   "metadata": {},
   "source": [
    "**Вывод**: Средняя степень узлов равна 18.0952380952381. Дисперсия сепени узла  равна 2.859375"
   ]
  },
  {
   "cell_type": "markdown",
   "metadata": {
    "id": "pUkHHLC86Zng"
   },
   "source": [
    "#### 13. Заполнить таблицу для различных мер престижа"
   ]
  },
  {
   "cell_type": "code",
   "execution_count": 49,
   "metadata": {
    "colab": {
     "base_uri": "https://localhost:8080/",
     "height": 34
    },
    "id": "Cq_EGct1338A",
    "outputId": "2c86cb7d-6177-48f8-f9d6-3bf15547e3bc"
   },
   "outputs": [
    {
     "data": {
      "text/html": [
       "21"
      ],
      "text/latex": [
       "21"
      ],
      "text/markdown": [
       "21"
      ],
      "text/plain": [
       "[1] 21"
      ]
     },
     "metadata": {},
     "output_type": "display_data"
    }
   ],
   "source": [
    "g <- gorder(graph_data)\n",
    "g"
   ]
  },
  {
   "cell_type": "code",
   "execution_count": 50,
   "metadata": {
    "colab": {
     "base_uri": "https://localhost:8080/",
     "height": 86
    },
    "id": "M1FenMD433-f",
    "outputId": "ab6c4f13-35f0-4c7f-859d-196f5e63e177"
   },
   "outputs": [],
   "source": [
    "degree_prestige <- igraph::degree(graph_data, mode=\"in\") / (g - 1)\n"
   ]
  },
  {
   "cell_type": "code",
   "execution_count": 51,
   "metadata": {
    "colab": {
     "base_uri": "https://localhost:8080/",
     "height": 138
    },
    "id": "hueCv9dQVIof",
    "outputId": "e863997f-9553-4b4e-9bef-20a9f1707d92"
   },
   "outputs": [],
   "source": [
    "dists <- distances(graph_data, mode=\"out\")\n",
    "\n",
    "count_proximity_prestige <- function(x){\n",
    "  x <- x[is.finite(x)]\n",
    "  I <- length(x)\n",
    "  sum_dists <- sum(x)\n",
    "  return(I ** 2 / (sum_dists * (g - 1)))\n",
    "}\n",
    "\n",
    "proximity_prestige = apply(dists, FUN=count_proximity_prestige, MARGIN=2)\n"
   ]
  },
  {
   "cell_type": "code",
   "execution_count": 52,
   "metadata": {},
   "outputs": [
    {
     "data": {
      "text/html": [
       "<table class=\"dataframe\">\n",
       "<caption>A data.frame: 21 × 3</caption>\n",
       "<thead>\n",
       "\t<tr><th></th><th scope=col>n</th><th scope=col>degree_prestige</th><th scope=col>proximity_prestige</th></tr>\n",
       "\t<tr><th></th><th scope=col>&lt;int&gt;</th><th scope=col>&lt;dbl&gt;</th><th scope=col>&lt;dbl&gt;</th></tr>\n",
       "</thead>\n",
       "<tbody>\n",
       "\t<tr><th scope=row>V1</th><td> 1</td><td>0.65</td><td>0.7350000</td></tr>\n",
       "\t<tr><th scope=row>V2</th><td> 2</td><td>0.90</td><td>1.0022727</td></tr>\n",
       "\t<tr><th scope=row>V3</th><td> 3</td><td>0.25</td><td>0.6125000</td></tr>\n",
       "\t<tr><th scope=row>V4</th><td> 4</td><td>0.40</td><td>0.6890625</td></tr>\n",
       "\t<tr><th scope=row>V5</th><td> 5</td><td>0.25</td><td>0.5512500</td></tr>\n",
       "\t<tr><th scope=row>V6</th><td> 6</td><td>0.50</td><td>0.7350000</td></tr>\n",
       "\t<tr><th scope=row>V7</th><td> 7</td><td>0.65</td><td>0.8166667</td></tr>\n",
       "\t<tr><th scope=row>V8</th><td> 8</td><td>0.50</td><td>0.7350000</td></tr>\n",
       "\t<tr><th scope=row>V9</th><td> 9</td><td>0.20</td><td>0.5378049</td></tr>\n",
       "\t<tr><th scope=row>V10</th><td>10</td><td>0.45</td><td>0.6300000</td></tr>\n",
       "\t<tr><th scope=row>V11</th><td>11</td><td>0.55</td><td>0.7350000</td></tr>\n",
       "\t<tr><th scope=row>V12</th><td>12</td><td>0.35</td><td>0.6485294</td></tr>\n",
       "\t<tr><th scope=row>V13</th><td>13</td><td>0.20</td><td>0.5378049</td></tr>\n",
       "\t<tr><th scope=row>V14</th><td>14</td><td>0.50</td><td>0.7350000</td></tr>\n",
       "\t<tr><th scope=row>V15</th><td>15</td><td>0.20</td><td>0.5378049</td></tr>\n",
       "\t<tr><th scope=row>V16</th><td>16</td><td>0.40</td><td>0.6300000</td></tr>\n",
       "\t<tr><th scope=row>V17</th><td>17</td><td>0.45</td><td>0.7112903</td></tr>\n",
       "\t<tr><th scope=row>V18</th><td>18</td><td>0.75</td><td>0.8820000</td></tr>\n",
       "\t<tr><th scope=row>V19</th><td>19</td><td>0.20</td><td>0.5378049</td></tr>\n",
       "\t<tr><th scope=row>V20</th><td>20</td><td>0.40</td><td>0.6681818</td></tr>\n",
       "\t<tr><th scope=row>V21</th><td>21</td><td>0.75</td><td>0.8820000</td></tr>\n",
       "</tbody>\n",
       "</table>\n"
      ],
      "text/latex": [
       "A data.frame: 21 × 3\n",
       "\\begin{tabular}{r|lll}\n",
       "  & n & degree\\_prestige & proximity\\_prestige\\\\\n",
       "  & <int> & <dbl> & <dbl>\\\\\n",
       "\\hline\n",
       "\tV1 &  1 & 0.65 & 0.7350000\\\\\n",
       "\tV2 &  2 & 0.90 & 1.0022727\\\\\n",
       "\tV3 &  3 & 0.25 & 0.6125000\\\\\n",
       "\tV4 &  4 & 0.40 & 0.6890625\\\\\n",
       "\tV5 &  5 & 0.25 & 0.5512500\\\\\n",
       "\tV6 &  6 & 0.50 & 0.7350000\\\\\n",
       "\tV7 &  7 & 0.65 & 0.8166667\\\\\n",
       "\tV8 &  8 & 0.50 & 0.7350000\\\\\n",
       "\tV9 &  9 & 0.20 & 0.5378049\\\\\n",
       "\tV10 & 10 & 0.45 & 0.6300000\\\\\n",
       "\tV11 & 11 & 0.55 & 0.7350000\\\\\n",
       "\tV12 & 12 & 0.35 & 0.6485294\\\\\n",
       "\tV13 & 13 & 0.20 & 0.5378049\\\\\n",
       "\tV14 & 14 & 0.50 & 0.7350000\\\\\n",
       "\tV15 & 15 & 0.20 & 0.5378049\\\\\n",
       "\tV16 & 16 & 0.40 & 0.6300000\\\\\n",
       "\tV17 & 17 & 0.45 & 0.7112903\\\\\n",
       "\tV18 & 18 & 0.75 & 0.8820000\\\\\n",
       "\tV19 & 19 & 0.20 & 0.5378049\\\\\n",
       "\tV20 & 20 & 0.40 & 0.6681818\\\\\n",
       "\tV21 & 21 & 0.75 & 0.8820000\\\\\n",
       "\\end{tabular}\n"
      ],
      "text/markdown": [
       "\n",
       "A data.frame: 21 × 3\n",
       "\n",
       "| <!--/--> | n &lt;int&gt; | degree_prestige &lt;dbl&gt; | proximity_prestige &lt;dbl&gt; |\n",
       "|---|---|---|---|\n",
       "| V1 |  1 | 0.65 | 0.7350000 |\n",
       "| V2 |  2 | 0.90 | 1.0022727 |\n",
       "| V3 |  3 | 0.25 | 0.6125000 |\n",
       "| V4 |  4 | 0.40 | 0.6890625 |\n",
       "| V5 |  5 | 0.25 | 0.5512500 |\n",
       "| V6 |  6 | 0.50 | 0.7350000 |\n",
       "| V7 |  7 | 0.65 | 0.8166667 |\n",
       "| V8 |  8 | 0.50 | 0.7350000 |\n",
       "| V9 |  9 | 0.20 | 0.5378049 |\n",
       "| V10 | 10 | 0.45 | 0.6300000 |\n",
       "| V11 | 11 | 0.55 | 0.7350000 |\n",
       "| V12 | 12 | 0.35 | 0.6485294 |\n",
       "| V13 | 13 | 0.20 | 0.5378049 |\n",
       "| V14 | 14 | 0.50 | 0.7350000 |\n",
       "| V15 | 15 | 0.20 | 0.5378049 |\n",
       "| V16 | 16 | 0.40 | 0.6300000 |\n",
       "| V17 | 17 | 0.45 | 0.7112903 |\n",
       "| V18 | 18 | 0.75 | 0.8820000 |\n",
       "| V19 | 19 | 0.20 | 0.5378049 |\n",
       "| V20 | 20 | 0.40 | 0.6681818 |\n",
       "| V21 | 21 | 0.75 | 0.8820000 |\n",
       "\n"
      ],
      "text/plain": [
       "    n  degree_prestige proximity_prestige\n",
       "V1   1 0.65            0.7350000         \n",
       "V2   2 0.90            1.0022727         \n",
       "V3   3 0.25            0.6125000         \n",
       "V4   4 0.40            0.6890625         \n",
       "V5   5 0.25            0.5512500         \n",
       "V6   6 0.50            0.7350000         \n",
       "V7   7 0.65            0.8166667         \n",
       "V8   8 0.50            0.7350000         \n",
       "V9   9 0.20            0.5378049         \n",
       "V10 10 0.45            0.6300000         \n",
       "V11 11 0.55            0.7350000         \n",
       "V12 12 0.35            0.6485294         \n",
       "V13 13 0.20            0.5378049         \n",
       "V14 14 0.50            0.7350000         \n",
       "V15 15 0.20            0.5378049         \n",
       "V16 16 0.40            0.6300000         \n",
       "V17 17 0.45            0.7112903         \n",
       "V18 18 0.75            0.8820000         \n",
       "V19 19 0.20            0.5378049         \n",
       "V20 20 0.40            0.6681818         \n",
       "V21 21 0.75            0.8820000         "
      ]
     },
     "metadata": {},
     "output_type": "display_data"
    }
   ],
   "source": [
    "measures_prestige <- data.frame(n=c(1:g),\n",
    "                        degree_prestige=degree_prestige,\n",
    "                        proximity_prestige=proximity_prestige)\n",
    "measures_prestige"
   ]
  },
  {
   "cell_type": "markdown",
   "metadata": {},
   "source": [
    "**Вывод**: Были найдены различные меры престижа"
   ]
  },
  {
   "cell_type": "markdown",
   "metadata": {
    "id": "E3oed0vzI3TW"
   },
   "source": [
    "## Выводы\n",
    "\n",
    "Были проанализированы, смоделеированны и визуализированны предоставленые сети с помощью основных конструкций языка R и библиотеки igraph. Под анализом сети подразумевается нахождение основных характеристик сети (таких как размер , плотность и тп) и различных мер централизации и престижа (по степени , по близости и тп.). Также были использованы различные алгоритмы для укладки и визуализации сети , такие как алгоритм Фрюхтермана–Рейнгольда и алгоритм Камада–Каваи. Таким образом в ходе работы был получен опыт в использовании выше упомянутых инструментов для анализа сетей и решения поставленных задач."
   ]
  }
 ],
 "metadata": {
  "colab": {
   "collapsed_sections": [],
   "provenance": []
  },
  "kernelspec": {
   "display_name": "R",
   "language": "R",
   "name": "ir"
  },
  "language_info": {
   "codemirror_mode": "r",
   "file_extension": ".r",
   "mimetype": "text/x-r-source",
   "name": "R",
   "pygments_lexer": "r",
   "version": "4.2.1"
  }
 },
 "nbformat": 4,
 "nbformat_minor": 1
}
