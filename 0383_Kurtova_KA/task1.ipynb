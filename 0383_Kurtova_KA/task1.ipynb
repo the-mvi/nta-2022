{
 "cells": [
  {
   "cell_type": "markdown",
   "metadata": {},
   "source": [
    "# Практическая работа №1: Основы анализа и моделирования социальных сетей\n",
    "Выполнила студенка гр. 0383 Куртова Карина. Вариант №8"
   ]
  },
  {
   "cell_type": "markdown",
   "metadata": {},
   "source": [
    "## Цель работы\n",
    "Овладеть навыками работы с математическими пакетами для моделирования, визуализации и анализа социальных сетей."
   ]
  },
  {
   "cell_type": "markdown",
   "metadata": {},
   "source": [
    "## Основные теоретические положения\n",
    "**Социоматрица** -- матрица $X$ размерности $g \\times g$, описывающая смежные узлы в сети.\n",
    "\n",
    "**Алгоритм Фрюхтермана-Рейнгольда** -- силовой алгоритм укладки графа (т. е. итеративный алгоритм, основанный на уменьшении общей энергии сети, где энергия может быть определена различными способами), в котором вершины определяются как некие тела, оказывающие друг на друга силы притяжения и отталкивания.\n",
    "\n",
    "**Алгоритм Камада-Кавай** -- силовой алгоритм укладки графа, в котором вершины определяются как тела системы, а рёбра -- как пружины. Пружинная система настраивается таким образом, чтобы минимизация энергии системы соответствовала минимизации разницы между геометрическими и графовыми расстояниями.\n",
    "\n",
    "**Размер сети** -- количество акторов сети.\n",
    "\n",
    "**Плотность сети** -- доля имеющихся связей по отношению к макисмально возможному количеству связей.\n",
    "\n",
    "Для ориентированных сетей: $\\Delta = \\displaystyle{\\frac{L}{A_g^2}}$\n",
    "\n",
    "Для неориентированных сетей: $\\Delta = \\displaystyle{\\frac{L}{C^2_g}}$\n",
    "\n",
    "**Компонента** -- подгруппа, в котором все акторы связаны друг с другом прямо или косвенно.\n",
    "\n",
    "**Диаметр полной сети** -- наибольшая длина любого из кратчайших путей между всеми парами узлов.\n",
    "\n",
    "**Коэффициент кластеризации** --  мера степени, в которой узлы графа стремятся сгруппироваться вместе.\n",
    "\n",
    "**Степень узла** -- число рёбер, инцидентных узлу $n_i$.\n",
    "\n",
    "Средняя степень узлов: $\\overline{d} = \\displaystyle{\\frac{1}{g}} \\sum^g_{i = 1} d(n_i)$\n",
    "\n",
    "Дисперсия степени узлов: $S^2_D = \\displaystyle{\\frac{1}{g}} \\sum^g_{i = 1} \\left(d(n_i) - \\overline{d}\\right)^2$\n",
    "\n",
    "**Центральность по степени** -- степень каждого актора.\n",
    "\n",
    "Нормированная центральность по степени: $C'_D (n_i) = \\displaystyle{\\frac{d(n_i)}{g-1}}$\n",
    "\n",
    "**Центральность по близости** -- более важными узлами считаются узлы, наиболее близкие к остальным узлам сети.\n",
    "\n",
    "Нормированная центральность по близости: $C'_C (n_i) = \\displaystyle{\\frac{g - 1}{\\sum^g_{j = 1} d(n_i, n_j)}}$\n",
    "\n",
    "**Центральность по последовательности** -- характеризует, насколько важную роль данный узел играет на пути \"между\" парами других узлов сети, в том смысле, что пути между другими узлами должны проходить через данный узел.\n",
    "\n",
    "Нормированная центральность по посредничеству: $C'_B = \\displaystyle{\\frac{C_b (n_i)}{C_{g-1}^2}}$\n",
    "\n",
    "**Центральность по информации** -- обобщение понятия центральности по посредничеству, в котором все пути, между акторами с весами зависят от их длин, учитываются при подсчёте промежуточности.\n",
    "\n",
    "**Централизация по степени:** $C_D = \\displaystyle{\\frac{\\sum_{i = 1}^g (C'_D (n^*) - C'_D (n_i))}{(g-1)(g-2)}}$\n",
    "\n",
    "**Централизация по близости**: $C_C = \\displaystyle{\\frac{\\sum_{i = 1}^g (C'_C (n^*) - C'_C (n_i))}{(g-1)(g-2)/(2g - 3)}}$\n",
    "\n",
    "**Централизация по посредничеству**: $C_B = \\displaystyle{\\frac{\\sum_{i = 1}^g (C'_B (n^*) - C'_B (n_i))}{(g-1)}}$\n",
    "\n",
    "**Централизация по информации** как дисперсия индексов инф. актора: $S_I^2 = \\displaystyle{\\frac{1}{g}} \\sum^g_{i = 1} \\left( C'_I (n_i) - \\overline{C_I} \\right) ^2$\n",
    "\n",
    "**Точка сочленения** -- узел, при удалении которого увеличивается число компонент связности.\n",
    "\n",
    "**Мост** -- ребро, при удалении которого одна компонента разделяется на две.\n",
    "\n",
    "**Престиж** -- мера, характеризующая актора с большим количеством входящих связей.\n",
    "\n",
    "**Престиж по степени** -- входящая степень каждого узла: $P_D (n_i) = d_I (n_i) = x_{+i}$\n",
    "\n",
    "Нормированный престиж по степени: $P'_D (n_i) = \\displaystyle{\\frac{x_{+i}}{g - 1}}$\n",
    "\n",
    "**Престиж по близости** -- определяет, насколько все акторы близки к заданному по расстоянию до него.\n",
    "\n",
    "$P_p (n_i) = \\displaystyle{\\frac{\\# I_i / (g-1)}{\\sum_{j: n_j \\in I_i} \\left( d(n_j, n_i) / \\# I_i\\right)}}$"
   ]
  },
  {
   "cell_type": "markdown",
   "metadata": {},
   "source": [
    "## Постановка задачи\n",
    "С помощью математических пакетов и соответствующих библиотек провести анализ заданных социальных сетей вычислить описательные характеристики. Полученные результаты содержательно проинтерпретировать."
   ]
  },
  {
   "cell_type": "markdown",
   "metadata": {},
   "source": [
    "## Выполнение работы"
   ]
  },
  {
   "cell_type": "markdown",
   "metadata": {},
   "source": [
    "Перед началом работы необходимо подключить следующие библиотеки:"
   ]
  },
  {
   "cell_type": "code",
   "execution_count": null,
   "metadata": {},
   "outputs": [],
   "source": [
    "library(igraph)\n",
    "library(statnet)"
   ]
  },
  {
   "cell_type": "markdown",
   "metadata": {},
   "source": [
    "1. Из файла florentine_marital.csv извлечём социоматрицу и выведем её на экран."
   ]
  },
  {
   "cell_type": "code",
   "execution_count": 2,
   "metadata": {
    "scrolled": false,
    "vscode": {
     "languageId": "r"
    }
   },
   "outputs": [
    {
     "data": {
      "text/html": [
       "<table class=\"dataframe\">\n",
       "<caption>A matrix: 16 × 16 of type int</caption>\n",
       "<thead>\n",
       "\t<tr><th scope=col>Acciaiuoli</th><th scope=col>Albizzi</th><th scope=col>Barbadori</th><th scope=col>Bischeri</th><th scope=col>Castellani</th><th scope=col>Ginori</th><th scope=col>Guadagni</th><th scope=col>Lamberteschi</th><th scope=col>Medici</th><th scope=col>Pazzi</th><th scope=col>Peruzzi</th><th scope=col>Pucci</th><th scope=col>Ridolfi</th><th scope=col>Salviati</th><th scope=col>Strozzi</th><th scope=col>Tornabuoni</th></tr>\n",
       "</thead>\n",
       "<tbody>\n",
       "\t<tr><td>0</td><td>0</td><td>0</td><td>0</td><td>0</td><td>0</td><td>0</td><td>0</td><td>1</td><td>0</td><td>0</td><td>0</td><td>0</td><td>0</td><td>0</td><td>0</td></tr>\n",
       "\t<tr><td>0</td><td>0</td><td>0</td><td>0</td><td>0</td><td>1</td><td>1</td><td>0</td><td>1</td><td>0</td><td>0</td><td>0</td><td>0</td><td>0</td><td>0</td><td>0</td></tr>\n",
       "\t<tr><td>0</td><td>0</td><td>0</td><td>0</td><td>1</td><td>0</td><td>0</td><td>0</td><td>1</td><td>0</td><td>0</td><td>0</td><td>0</td><td>0</td><td>0</td><td>0</td></tr>\n",
       "\t<tr><td>0</td><td>0</td><td>0</td><td>0</td><td>0</td><td>0</td><td>1</td><td>0</td><td>0</td><td>0</td><td>1</td><td>0</td><td>0</td><td>0</td><td>1</td><td>0</td></tr>\n",
       "\t<tr><td>0</td><td>0</td><td>1</td><td>0</td><td>0</td><td>0</td><td>0</td><td>0</td><td>0</td><td>0</td><td>1</td><td>0</td><td>0</td><td>0</td><td>1</td><td>0</td></tr>\n",
       "\t<tr><td>0</td><td>1</td><td>0</td><td>0</td><td>0</td><td>0</td><td>0</td><td>0</td><td>0</td><td>0</td><td>0</td><td>0</td><td>0</td><td>0</td><td>0</td><td>0</td></tr>\n",
       "\t<tr><td>0</td><td>1</td><td>0</td><td>1</td><td>0</td><td>0</td><td>0</td><td>1</td><td>0</td><td>0</td><td>0</td><td>0</td><td>0</td><td>0</td><td>0</td><td>1</td></tr>\n",
       "\t<tr><td>0</td><td>0</td><td>0</td><td>0</td><td>0</td><td>0</td><td>1</td><td>0</td><td>0</td><td>0</td><td>0</td><td>0</td><td>0</td><td>0</td><td>0</td><td>0</td></tr>\n",
       "\t<tr><td>1</td><td>1</td><td>1</td><td>0</td><td>0</td><td>0</td><td>0</td><td>0</td><td>0</td><td>0</td><td>0</td><td>0</td><td>1</td><td>1</td><td>0</td><td>1</td></tr>\n",
       "\t<tr><td>0</td><td>0</td><td>0</td><td>0</td><td>0</td><td>0</td><td>0</td><td>0</td><td>0</td><td>0</td><td>0</td><td>0</td><td>0</td><td>1</td><td>0</td><td>0</td></tr>\n",
       "\t<tr><td>0</td><td>0</td><td>0</td><td>1</td><td>1</td><td>0</td><td>0</td><td>0</td><td>0</td><td>0</td><td>0</td><td>0</td><td>0</td><td>0</td><td>1</td><td>0</td></tr>\n",
       "\t<tr><td>0</td><td>0</td><td>0</td><td>0</td><td>0</td><td>0</td><td>0</td><td>0</td><td>0</td><td>0</td><td>0</td><td>0</td><td>0</td><td>0</td><td>0</td><td>0</td></tr>\n",
       "\t<tr><td>0</td><td>0</td><td>0</td><td>0</td><td>0</td><td>0</td><td>0</td><td>0</td><td>1</td><td>0</td><td>0</td><td>0</td><td>0</td><td>0</td><td>1</td><td>1</td></tr>\n",
       "\t<tr><td>0</td><td>0</td><td>0</td><td>0</td><td>0</td><td>0</td><td>0</td><td>0</td><td>1</td><td>1</td><td>0</td><td>0</td><td>0</td><td>0</td><td>0</td><td>0</td></tr>\n",
       "\t<tr><td>0</td><td>0</td><td>0</td><td>1</td><td>1</td><td>0</td><td>0</td><td>0</td><td>0</td><td>0</td><td>1</td><td>0</td><td>1</td><td>0</td><td>0</td><td>0</td></tr>\n",
       "\t<tr><td>0</td><td>0</td><td>0</td><td>0</td><td>0</td><td>0</td><td>1</td><td>0</td><td>1</td><td>0</td><td>0</td><td>0</td><td>1</td><td>0</td><td>0</td><td>0</td></tr>\n",
       "</tbody>\n",
       "</table>\n"
      ],
      "text/latex": [
       "A matrix: 16 × 16 of type int\n",
       "\\begin{tabular}{llllllllllllllll}\n",
       " Acciaiuoli & Albizzi & Barbadori & Bischeri & Castellani & Ginori & Guadagni & Lamberteschi & Medici & Pazzi & Peruzzi & Pucci & Ridolfi & Salviati & Strozzi & Tornabuoni\\\\\n",
       "\\hline\n",
       "\t 0 & 0 & 0 & 0 & 0 & 0 & 0 & 0 & 1 & 0 & 0 & 0 & 0 & 0 & 0 & 0\\\\\n",
       "\t 0 & 0 & 0 & 0 & 0 & 1 & 1 & 0 & 1 & 0 & 0 & 0 & 0 & 0 & 0 & 0\\\\\n",
       "\t 0 & 0 & 0 & 0 & 1 & 0 & 0 & 0 & 1 & 0 & 0 & 0 & 0 & 0 & 0 & 0\\\\\n",
       "\t 0 & 0 & 0 & 0 & 0 & 0 & 1 & 0 & 0 & 0 & 1 & 0 & 0 & 0 & 1 & 0\\\\\n",
       "\t 0 & 0 & 1 & 0 & 0 & 0 & 0 & 0 & 0 & 0 & 1 & 0 & 0 & 0 & 1 & 0\\\\\n",
       "\t 0 & 1 & 0 & 0 & 0 & 0 & 0 & 0 & 0 & 0 & 0 & 0 & 0 & 0 & 0 & 0\\\\\n",
       "\t 0 & 1 & 0 & 1 & 0 & 0 & 0 & 1 & 0 & 0 & 0 & 0 & 0 & 0 & 0 & 1\\\\\n",
       "\t 0 & 0 & 0 & 0 & 0 & 0 & 1 & 0 & 0 & 0 & 0 & 0 & 0 & 0 & 0 & 0\\\\\n",
       "\t 1 & 1 & 1 & 0 & 0 & 0 & 0 & 0 & 0 & 0 & 0 & 0 & 1 & 1 & 0 & 1\\\\\n",
       "\t 0 & 0 & 0 & 0 & 0 & 0 & 0 & 0 & 0 & 0 & 0 & 0 & 0 & 1 & 0 & 0\\\\\n",
       "\t 0 & 0 & 0 & 1 & 1 & 0 & 0 & 0 & 0 & 0 & 0 & 0 & 0 & 0 & 1 & 0\\\\\n",
       "\t 0 & 0 & 0 & 0 & 0 & 0 & 0 & 0 & 0 & 0 & 0 & 0 & 0 & 0 & 0 & 0\\\\\n",
       "\t 0 & 0 & 0 & 0 & 0 & 0 & 0 & 0 & 1 & 0 & 0 & 0 & 0 & 0 & 1 & 1\\\\\n",
       "\t 0 & 0 & 0 & 0 & 0 & 0 & 0 & 0 & 1 & 1 & 0 & 0 & 0 & 0 & 0 & 0\\\\\n",
       "\t 0 & 0 & 0 & 1 & 1 & 0 & 0 & 0 & 0 & 0 & 1 & 0 & 1 & 0 & 0 & 0\\\\\n",
       "\t 0 & 0 & 0 & 0 & 0 & 0 & 1 & 0 & 1 & 0 & 0 & 0 & 1 & 0 & 0 & 0\\\\\n",
       "\\end{tabular}\n"
      ],
      "text/markdown": [
       "\n",
       "A matrix: 16 × 16 of type int\n",
       "\n",
       "| Acciaiuoli | Albizzi | Barbadori | Bischeri | Castellani | Ginori | Guadagni | Lamberteschi | Medici | Pazzi | Peruzzi | Pucci | Ridolfi | Salviati | Strozzi | Tornabuoni |\n",
       "|---|---|---|---|---|---|---|---|---|---|---|---|---|---|---|---|\n",
       "| 0 | 0 | 0 | 0 | 0 | 0 | 0 | 0 | 1 | 0 | 0 | 0 | 0 | 0 | 0 | 0 |\n",
       "| 0 | 0 | 0 | 0 | 0 | 1 | 1 | 0 | 1 | 0 | 0 | 0 | 0 | 0 | 0 | 0 |\n",
       "| 0 | 0 | 0 | 0 | 1 | 0 | 0 | 0 | 1 | 0 | 0 | 0 | 0 | 0 | 0 | 0 |\n",
       "| 0 | 0 | 0 | 0 | 0 | 0 | 1 | 0 | 0 | 0 | 1 | 0 | 0 | 0 | 1 | 0 |\n",
       "| 0 | 0 | 1 | 0 | 0 | 0 | 0 | 0 | 0 | 0 | 1 | 0 | 0 | 0 | 1 | 0 |\n",
       "| 0 | 1 | 0 | 0 | 0 | 0 | 0 | 0 | 0 | 0 | 0 | 0 | 0 | 0 | 0 | 0 |\n",
       "| 0 | 1 | 0 | 1 | 0 | 0 | 0 | 1 | 0 | 0 | 0 | 0 | 0 | 0 | 0 | 1 |\n",
       "| 0 | 0 | 0 | 0 | 0 | 0 | 1 | 0 | 0 | 0 | 0 | 0 | 0 | 0 | 0 | 0 |\n",
       "| 1 | 1 | 1 | 0 | 0 | 0 | 0 | 0 | 0 | 0 | 0 | 0 | 1 | 1 | 0 | 1 |\n",
       "| 0 | 0 | 0 | 0 | 0 | 0 | 0 | 0 | 0 | 0 | 0 | 0 | 0 | 1 | 0 | 0 |\n",
       "| 0 | 0 | 0 | 1 | 1 | 0 | 0 | 0 | 0 | 0 | 0 | 0 | 0 | 0 | 1 | 0 |\n",
       "| 0 | 0 | 0 | 0 | 0 | 0 | 0 | 0 | 0 | 0 | 0 | 0 | 0 | 0 | 0 | 0 |\n",
       "| 0 | 0 | 0 | 0 | 0 | 0 | 0 | 0 | 1 | 0 | 0 | 0 | 0 | 0 | 1 | 1 |\n",
       "| 0 | 0 | 0 | 0 | 0 | 0 | 0 | 0 | 1 | 1 | 0 | 0 | 0 | 0 | 0 | 0 |\n",
       "| 0 | 0 | 0 | 1 | 1 | 0 | 0 | 0 | 0 | 0 | 1 | 0 | 1 | 0 | 0 | 0 |\n",
       "| 0 | 0 | 0 | 0 | 0 | 0 | 1 | 0 | 1 | 0 | 0 | 0 | 1 | 0 | 0 | 0 |\n",
       "\n"
      ],
      "text/plain": [
       "      Acciaiuoli Albizzi Barbadori Bischeri Castellani Ginori Guadagni\n",
       " [1,] 0          0       0         0        0          0      0       \n",
       " [2,] 0          0       0         0        0          1      1       \n",
       " [3,] 0          0       0         0        1          0      0       \n",
       " [4,] 0          0       0         0        0          0      1       \n",
       " [5,] 0          0       1         0        0          0      0       \n",
       " [6,] 0          1       0         0        0          0      0       \n",
       " [7,] 0          1       0         1        0          0      0       \n",
       " [8,] 0          0       0         0        0          0      1       \n",
       " [9,] 1          1       1         0        0          0      0       \n",
       "[10,] 0          0       0         0        0          0      0       \n",
       "[11,] 0          0       0         1        1          0      0       \n",
       "[12,] 0          0       0         0        0          0      0       \n",
       "[13,] 0          0       0         0        0          0      0       \n",
       "[14,] 0          0       0         0        0          0      0       \n",
       "[15,] 0          0       0         1        1          0      0       \n",
       "[16,] 0          0       0         0        0          0      1       \n",
       "      Lamberteschi Medici Pazzi Peruzzi Pucci Ridolfi Salviati Strozzi\n",
       " [1,] 0            1      0     0       0     0       0        0      \n",
       " [2,] 0            1      0     0       0     0       0        0      \n",
       " [3,] 0            1      0     0       0     0       0        0      \n",
       " [4,] 0            0      0     1       0     0       0        1      \n",
       " [5,] 0            0      0     1       0     0       0        1      \n",
       " [6,] 0            0      0     0       0     0       0        0      \n",
       " [7,] 1            0      0     0       0     0       0        0      \n",
       " [8,] 0            0      0     0       0     0       0        0      \n",
       " [9,] 0            0      0     0       0     1       1        0      \n",
       "[10,] 0            0      0     0       0     0       1        0      \n",
       "[11,] 0            0      0     0       0     0       0        1      \n",
       "[12,] 0            0      0     0       0     0       0        0      \n",
       "[13,] 0            1      0     0       0     0       0        1      \n",
       "[14,] 0            1      1     0       0     0       0        0      \n",
       "[15,] 0            0      0     1       0     1       0        0      \n",
       "[16,] 0            1      0     0       0     1       0        0      \n",
       "      Tornabuoni\n",
       " [1,] 0         \n",
       " [2,] 0         \n",
       " [3,] 0         \n",
       " [4,] 0         \n",
       " [5,] 0         \n",
       " [6,] 0         \n",
       " [7,] 1         \n",
       " [8,] 0         \n",
       " [9,] 1         \n",
       "[10,] 0         \n",
       "[11,] 0         \n",
       "[12,] 0         \n",
       "[13,] 1         \n",
       "[14,] 0         \n",
       "[15,] 0         \n",
       "[16,] 0         "
      ]
     },
     "metadata": {},
     "output_type": "display_data"
    }
   ],
   "source": [
    "sm_dataframe <- read.table(\"florentine_marital.csv\", header = TRUE, sep = ',')\n",
    "sm <- data.matrix(sm_dataframe)\n",
    "net <- network(sm, matrix.type = \"adjacency\")\n",
    "sm"
   ]
  },
  {
   "cell_type": "markdown",
   "metadata": {},
   "source": [
    "2. Преобразуем социоматрицу в список рёбер и выведем первые 5 элементов этого списка."
   ]
  },
  {
   "cell_type": "code",
   "execution_count": 3,
   "metadata": {
    "scrolled": false,
    "vscode": {
     "languageId": "r"
    }
   },
   "outputs": [
    {
     "data": {
      "text/html": [
       "<table class=\"dataframe\">\n",
       "<caption>A matrix: 5 × 2 of type chr</caption>\n",
       "<tbody>\n",
       "\t<tr><td>Acciaiuoli</td><td>Medici    </td></tr>\n",
       "\t<tr><td>Albizzi   </td><td>Ginori    </td></tr>\n",
       "\t<tr><td>Albizzi   </td><td>Guadagni  </td></tr>\n",
       "\t<tr><td>Albizzi   </td><td>Medici    </td></tr>\n",
       "\t<tr><td>Barbadori </td><td>Castellani</td></tr>\n",
       "</tbody>\n",
       "</table>\n"
      ],
      "text/latex": [
       "A matrix: 5 × 2 of type chr\n",
       "\\begin{tabular}{ll}\n",
       "\t Acciaiuoli & Medici    \\\\\n",
       "\t Albizzi    & Ginori    \\\\\n",
       "\t Albizzi    & Guadagni  \\\\\n",
       "\t Albizzi    & Medici    \\\\\n",
       "\t Barbadori  & Castellani\\\\\n",
       "\\end{tabular}\n"
      ],
      "text/markdown": [
       "\n",
       "A matrix: 5 × 2 of type chr\n",
       "\n",
       "| Acciaiuoli | Medici     |\n",
       "| Albizzi    | Ginori     |\n",
       "| Albizzi    | Guadagni   |\n",
       "| Albizzi    | Medici     |\n",
       "| Barbadori  | Castellani |\n",
       "\n"
      ],
      "text/plain": [
       "     [,1]       [,2]      \n",
       "[1,] Acciaiuoli Medici    \n",
       "[2,] Albizzi    Ginori    \n",
       "[3,] Albizzi    Guadagni  \n",
       "[4,] Albizzi    Medici    \n",
       "[5,] Barbadori  Castellani"
      ]
     },
     "metadata": {},
     "output_type": "display_data"
    }
   ],
   "source": [
    "g <- graph.adjacency(sm)\n",
    "edge_list <- as_edgelist(g)\n",
    "head(edge_list, 5)"
   ]
  },
  {
   "cell_type": "markdown",
   "metadata": {},
   "source": [
    "3. Присвоим имена столбцам и строкам социоматрицы."
   ]
  },
  {
   "cell_type": "code",
   "execution_count": 4,
   "metadata": {},
   "outputs": [
    {
     "data": {
      "text/html": [
       "<table class=\"dataframe\">\n",
       "<caption>A matrix: 16 × 16 of type int</caption>\n",
       "<thead>\n",
       "\t<tr><th></th><th scope=col>Acciaiuoli</th><th scope=col>Albizzi</th><th scope=col>Barbadori</th><th scope=col>Bischeri</th><th scope=col>Castellani</th><th scope=col>Ginori</th><th scope=col>Guadagni</th><th scope=col>Lamberteschi</th><th scope=col>Medici</th><th scope=col>Pazzi</th><th scope=col>Peruzzi</th><th scope=col>Pucci</th><th scope=col>Ridolfi</th><th scope=col>Salviati</th><th scope=col>Strozzi</th><th scope=col>Tornabuoni</th></tr>\n",
       "</thead>\n",
       "<tbody>\n",
       "\t<tr><th scope=row>Acciaiuoli</th><td>0</td><td>0</td><td>0</td><td>0</td><td>0</td><td>0</td><td>0</td><td>0</td><td>1</td><td>0</td><td>0</td><td>0</td><td>0</td><td>0</td><td>0</td><td>0</td></tr>\n",
       "\t<tr><th scope=row>Albizzi</th><td>0</td><td>0</td><td>0</td><td>0</td><td>0</td><td>1</td><td>1</td><td>0</td><td>1</td><td>0</td><td>0</td><td>0</td><td>0</td><td>0</td><td>0</td><td>0</td></tr>\n",
       "\t<tr><th scope=row>Barbadori</th><td>0</td><td>0</td><td>0</td><td>0</td><td>1</td><td>0</td><td>0</td><td>0</td><td>1</td><td>0</td><td>0</td><td>0</td><td>0</td><td>0</td><td>0</td><td>0</td></tr>\n",
       "\t<tr><th scope=row>Bischeri</th><td>0</td><td>0</td><td>0</td><td>0</td><td>0</td><td>0</td><td>1</td><td>0</td><td>0</td><td>0</td><td>1</td><td>0</td><td>0</td><td>0</td><td>1</td><td>0</td></tr>\n",
       "\t<tr><th scope=row>Castellani</th><td>0</td><td>0</td><td>1</td><td>0</td><td>0</td><td>0</td><td>0</td><td>0</td><td>0</td><td>0</td><td>1</td><td>0</td><td>0</td><td>0</td><td>1</td><td>0</td></tr>\n",
       "\t<tr><th scope=row>Ginori</th><td>0</td><td>1</td><td>0</td><td>0</td><td>0</td><td>0</td><td>0</td><td>0</td><td>0</td><td>0</td><td>0</td><td>0</td><td>0</td><td>0</td><td>0</td><td>0</td></tr>\n",
       "\t<tr><th scope=row>Guadagni</th><td>0</td><td>1</td><td>0</td><td>1</td><td>0</td><td>0</td><td>0</td><td>1</td><td>0</td><td>0</td><td>0</td><td>0</td><td>0</td><td>0</td><td>0</td><td>1</td></tr>\n",
       "\t<tr><th scope=row>Lamberteschi</th><td>0</td><td>0</td><td>0</td><td>0</td><td>0</td><td>0</td><td>1</td><td>0</td><td>0</td><td>0</td><td>0</td><td>0</td><td>0</td><td>0</td><td>0</td><td>0</td></tr>\n",
       "\t<tr><th scope=row>Medici</th><td>1</td><td>1</td><td>1</td><td>0</td><td>0</td><td>0</td><td>0</td><td>0</td><td>0</td><td>0</td><td>0</td><td>0</td><td>1</td><td>1</td><td>0</td><td>1</td></tr>\n",
       "\t<tr><th scope=row>Pazzi</th><td>0</td><td>0</td><td>0</td><td>0</td><td>0</td><td>0</td><td>0</td><td>0</td><td>0</td><td>0</td><td>0</td><td>0</td><td>0</td><td>1</td><td>0</td><td>0</td></tr>\n",
       "\t<tr><th scope=row>Peruzzi</th><td>0</td><td>0</td><td>0</td><td>1</td><td>1</td><td>0</td><td>0</td><td>0</td><td>0</td><td>0</td><td>0</td><td>0</td><td>0</td><td>0</td><td>1</td><td>0</td></tr>\n",
       "\t<tr><th scope=row>Pucci</th><td>0</td><td>0</td><td>0</td><td>0</td><td>0</td><td>0</td><td>0</td><td>0</td><td>0</td><td>0</td><td>0</td><td>0</td><td>0</td><td>0</td><td>0</td><td>0</td></tr>\n",
       "\t<tr><th scope=row>Ridolfi</th><td>0</td><td>0</td><td>0</td><td>0</td><td>0</td><td>0</td><td>0</td><td>0</td><td>1</td><td>0</td><td>0</td><td>0</td><td>0</td><td>0</td><td>1</td><td>1</td></tr>\n",
       "\t<tr><th scope=row>Salviati</th><td>0</td><td>0</td><td>0</td><td>0</td><td>0</td><td>0</td><td>0</td><td>0</td><td>1</td><td>1</td><td>0</td><td>0</td><td>0</td><td>0</td><td>0</td><td>0</td></tr>\n",
       "\t<tr><th scope=row>Strozzi</th><td>0</td><td>0</td><td>0</td><td>1</td><td>1</td><td>0</td><td>0</td><td>0</td><td>0</td><td>0</td><td>1</td><td>0</td><td>1</td><td>0</td><td>0</td><td>0</td></tr>\n",
       "\t<tr><th scope=row>Tornabuoni</th><td>0</td><td>0</td><td>0</td><td>0</td><td>0</td><td>0</td><td>1</td><td>0</td><td>1</td><td>0</td><td>0</td><td>0</td><td>1</td><td>0</td><td>0</td><td>0</td></tr>\n",
       "</tbody>\n",
       "</table>\n"
      ],
      "text/latex": [
       "A matrix: 16 × 16 of type int\n",
       "\\begin{tabular}{r|llllllllllllllll}\n",
       "  & Acciaiuoli & Albizzi & Barbadori & Bischeri & Castellani & Ginori & Guadagni & Lamberteschi & Medici & Pazzi & Peruzzi & Pucci & Ridolfi & Salviati & Strozzi & Tornabuoni\\\\\n",
       "\\hline\n",
       "\tAcciaiuoli & 0 & 0 & 0 & 0 & 0 & 0 & 0 & 0 & 1 & 0 & 0 & 0 & 0 & 0 & 0 & 0\\\\\n",
       "\tAlbizzi & 0 & 0 & 0 & 0 & 0 & 1 & 1 & 0 & 1 & 0 & 0 & 0 & 0 & 0 & 0 & 0\\\\\n",
       "\tBarbadori & 0 & 0 & 0 & 0 & 1 & 0 & 0 & 0 & 1 & 0 & 0 & 0 & 0 & 0 & 0 & 0\\\\\n",
       "\tBischeri & 0 & 0 & 0 & 0 & 0 & 0 & 1 & 0 & 0 & 0 & 1 & 0 & 0 & 0 & 1 & 0\\\\\n",
       "\tCastellani & 0 & 0 & 1 & 0 & 0 & 0 & 0 & 0 & 0 & 0 & 1 & 0 & 0 & 0 & 1 & 0\\\\\n",
       "\tGinori & 0 & 1 & 0 & 0 & 0 & 0 & 0 & 0 & 0 & 0 & 0 & 0 & 0 & 0 & 0 & 0\\\\\n",
       "\tGuadagni & 0 & 1 & 0 & 1 & 0 & 0 & 0 & 1 & 0 & 0 & 0 & 0 & 0 & 0 & 0 & 1\\\\\n",
       "\tLamberteschi & 0 & 0 & 0 & 0 & 0 & 0 & 1 & 0 & 0 & 0 & 0 & 0 & 0 & 0 & 0 & 0\\\\\n",
       "\tMedici & 1 & 1 & 1 & 0 & 0 & 0 & 0 & 0 & 0 & 0 & 0 & 0 & 1 & 1 & 0 & 1\\\\\n",
       "\tPazzi & 0 & 0 & 0 & 0 & 0 & 0 & 0 & 0 & 0 & 0 & 0 & 0 & 0 & 1 & 0 & 0\\\\\n",
       "\tPeruzzi & 0 & 0 & 0 & 1 & 1 & 0 & 0 & 0 & 0 & 0 & 0 & 0 & 0 & 0 & 1 & 0\\\\\n",
       "\tPucci & 0 & 0 & 0 & 0 & 0 & 0 & 0 & 0 & 0 & 0 & 0 & 0 & 0 & 0 & 0 & 0\\\\\n",
       "\tRidolfi & 0 & 0 & 0 & 0 & 0 & 0 & 0 & 0 & 1 & 0 & 0 & 0 & 0 & 0 & 1 & 1\\\\\n",
       "\tSalviati & 0 & 0 & 0 & 0 & 0 & 0 & 0 & 0 & 1 & 1 & 0 & 0 & 0 & 0 & 0 & 0\\\\\n",
       "\tStrozzi & 0 & 0 & 0 & 1 & 1 & 0 & 0 & 0 & 0 & 0 & 1 & 0 & 1 & 0 & 0 & 0\\\\\n",
       "\tTornabuoni & 0 & 0 & 0 & 0 & 0 & 0 & 1 & 0 & 1 & 0 & 0 & 0 & 1 & 0 & 0 & 0\\\\\n",
       "\\end{tabular}\n"
      ],
      "text/markdown": [
       "\n",
       "A matrix: 16 × 16 of type int\n",
       "\n",
       "| <!--/--> | Acciaiuoli | Albizzi | Barbadori | Bischeri | Castellani | Ginori | Guadagni | Lamberteschi | Medici | Pazzi | Peruzzi | Pucci | Ridolfi | Salviati | Strozzi | Tornabuoni |\n",
       "|---|---|---|---|---|---|---|---|---|---|---|---|---|---|---|---|---|\n",
       "| Acciaiuoli | 0 | 0 | 0 | 0 | 0 | 0 | 0 | 0 | 1 | 0 | 0 | 0 | 0 | 0 | 0 | 0 |\n",
       "| Albizzi | 0 | 0 | 0 | 0 | 0 | 1 | 1 | 0 | 1 | 0 | 0 | 0 | 0 | 0 | 0 | 0 |\n",
       "| Barbadori | 0 | 0 | 0 | 0 | 1 | 0 | 0 | 0 | 1 | 0 | 0 | 0 | 0 | 0 | 0 | 0 |\n",
       "| Bischeri | 0 | 0 | 0 | 0 | 0 | 0 | 1 | 0 | 0 | 0 | 1 | 0 | 0 | 0 | 1 | 0 |\n",
       "| Castellani | 0 | 0 | 1 | 0 | 0 | 0 | 0 | 0 | 0 | 0 | 1 | 0 | 0 | 0 | 1 | 0 |\n",
       "| Ginori | 0 | 1 | 0 | 0 | 0 | 0 | 0 | 0 | 0 | 0 | 0 | 0 | 0 | 0 | 0 | 0 |\n",
       "| Guadagni | 0 | 1 | 0 | 1 | 0 | 0 | 0 | 1 | 0 | 0 | 0 | 0 | 0 | 0 | 0 | 1 |\n",
       "| Lamberteschi | 0 | 0 | 0 | 0 | 0 | 0 | 1 | 0 | 0 | 0 | 0 | 0 | 0 | 0 | 0 | 0 |\n",
       "| Medici | 1 | 1 | 1 | 0 | 0 | 0 | 0 | 0 | 0 | 0 | 0 | 0 | 1 | 1 | 0 | 1 |\n",
       "| Pazzi | 0 | 0 | 0 | 0 | 0 | 0 | 0 | 0 | 0 | 0 | 0 | 0 | 0 | 1 | 0 | 0 |\n",
       "| Peruzzi | 0 | 0 | 0 | 1 | 1 | 0 | 0 | 0 | 0 | 0 | 0 | 0 | 0 | 0 | 1 | 0 |\n",
       "| Pucci | 0 | 0 | 0 | 0 | 0 | 0 | 0 | 0 | 0 | 0 | 0 | 0 | 0 | 0 | 0 | 0 |\n",
       "| Ridolfi | 0 | 0 | 0 | 0 | 0 | 0 | 0 | 0 | 1 | 0 | 0 | 0 | 0 | 0 | 1 | 1 |\n",
       "| Salviati | 0 | 0 | 0 | 0 | 0 | 0 | 0 | 0 | 1 | 1 | 0 | 0 | 0 | 0 | 0 | 0 |\n",
       "| Strozzi | 0 | 0 | 0 | 1 | 1 | 0 | 0 | 0 | 0 | 0 | 1 | 0 | 1 | 0 | 0 | 0 |\n",
       "| Tornabuoni | 0 | 0 | 0 | 0 | 0 | 0 | 1 | 0 | 1 | 0 | 0 | 0 | 1 | 0 | 0 | 0 |\n",
       "\n"
      ],
      "text/plain": [
       "             Acciaiuoli Albizzi Barbadori Bischeri Castellani Ginori Guadagni\n",
       "Acciaiuoli   0          0       0         0        0          0      0       \n",
       "Albizzi      0          0       0         0        0          1      1       \n",
       "Barbadori    0          0       0         0        1          0      0       \n",
       "Bischeri     0          0       0         0        0          0      1       \n",
       "Castellani   0          0       1         0        0          0      0       \n",
       "Ginori       0          1       0         0        0          0      0       \n",
       "Guadagni     0          1       0         1        0          0      0       \n",
       "Lamberteschi 0          0       0         0        0          0      1       \n",
       "Medici       1          1       1         0        0          0      0       \n",
       "Pazzi        0          0       0         0        0          0      0       \n",
       "Peruzzi      0          0       0         1        1          0      0       \n",
       "Pucci        0          0       0         0        0          0      0       \n",
       "Ridolfi      0          0       0         0        0          0      0       \n",
       "Salviati     0          0       0         0        0          0      0       \n",
       "Strozzi      0          0       0         1        1          0      0       \n",
       "Tornabuoni   0          0       0         0        0          0      1       \n",
       "             Lamberteschi Medici Pazzi Peruzzi Pucci Ridolfi Salviati Strozzi\n",
       "Acciaiuoli   0            1      0     0       0     0       0        0      \n",
       "Albizzi      0            1      0     0       0     0       0        0      \n",
       "Barbadori    0            1      0     0       0     0       0        0      \n",
       "Bischeri     0            0      0     1       0     0       0        1      \n",
       "Castellani   0            0      0     1       0     0       0        1      \n",
       "Ginori       0            0      0     0       0     0       0        0      \n",
       "Guadagni     1            0      0     0       0     0       0        0      \n",
       "Lamberteschi 0            0      0     0       0     0       0        0      \n",
       "Medici       0            0      0     0       0     1       1        0      \n",
       "Pazzi        0            0      0     0       0     0       1        0      \n",
       "Peruzzi      0            0      0     0       0     0       0        1      \n",
       "Pucci        0            0      0     0       0     0       0        0      \n",
       "Ridolfi      0            1      0     0       0     0       0        1      \n",
       "Salviati     0            1      1     0       0     0       0        0      \n",
       "Strozzi      0            0      0     1       0     1       0        0      \n",
       "Tornabuoni   0            1      0     0       0     1       0        0      \n",
       "             Tornabuoni\n",
       "Acciaiuoli   0         \n",
       "Albizzi      0         \n",
       "Barbadori    0         \n",
       "Bischeri     0         \n",
       "Castellani   0         \n",
       "Ginori       0         \n",
       "Guadagni     1         \n",
       "Lamberteschi 0         \n",
       "Medici       1         \n",
       "Pazzi        0         \n",
       "Peruzzi      0         \n",
       "Pucci        0         \n",
       "Ridolfi      1         \n",
       "Salviati     0         \n",
       "Strozzi      0         \n",
       "Tornabuoni   0         "
      ]
     },
     "metadata": {},
     "output_type": "display_data"
    }
   ],
   "source": [
    "rownames(sm) <- colnames(sm_dataframe)\n",
    "colnames(sm) <- colnames(sm_dataframe)\n",
    "sm"
   ]
  },
  {
   "cell_type": "markdown",
   "metadata": {},
   "source": [
    "4. По полученной социоматрице построим ненаправленную сеть. "
   ]
  },
  {
   "cell_type": "code",
   "execution_count": 5,
   "metadata": {},
   "outputs": [
    {
     "data": {
      "text/plain": [
       "IGRAPH a46c769 UN-- 16 20 -- \n",
       "+ attr: name (v/c)\n",
       "+ edges from a46c769 (vertex names):\n",
       " [1] Acciaiuoli--Medici       Albizzi   --Ginori       Albizzi   --Guadagni    \n",
       " [4] Albizzi   --Medici       Barbadori --Castellani   Barbadori --Medici      \n",
       " [7] Bischeri  --Guadagni     Bischeri  --Peruzzi      Bischeri  --Strozzi     \n",
       "[10] Castellani--Peruzzi      Castellani--Strozzi      Guadagni  --Lamberteschi\n",
       "[13] Guadagni  --Tornabuoni   Medici    --Ridolfi      Medici    --Salviati    \n",
       "[16] Medici    --Tornabuoni   Pazzi     --Salviati     Peruzzi   --Strozzi     \n",
       "[19] Ridolfi   --Strozzi      Ridolfi   --Tornabuoni  "
      ]
     },
     "metadata": {},
     "output_type": "display_data"
    }
   ],
   "source": [
    "g <- graph.adjacency(sm, mode = \"undirected\")\n",
    "#Передаётся матрица смежности (социоматрица) sm, задаётся режим создания графа -- ненаправленный (undirected)\n",
    "g"
   ]
  },
  {
   "cell_type": "markdown",
   "metadata": {},
   "source": [
    "5. Отобразим сеть с помощью алгоритмов укладки Фрюхтермана–Рейнгольда:"
   ]
  },
  {
   "cell_type": "code",
   "execution_count": 6,
   "metadata": {},
   "outputs": [
    {
     "data": {
      "image/png": "[encoded data removed]",
      "text/plain": [
       "Plot with title \"Fruchterman-Reingold\""
      ]
     },
     "metadata": {
      "image/png": {
       "height": 420,
       "width": 420
      }
     },
     "output_type": "display_data"
    }
   ],
   "source": [
    " E(g)$arrow.mode=\"-\" #Так как граф ненаправленный\n",
    "\n",
    "plot(g, layout = layout.fruchterman.reingold, \n",
    "     vertex.label = V(g)$name,\n",
    "     vertex.size = 15, \n",
    "     edge.arrow.size=.5,\n",
    "     vertex.label.color = \"black\",\n",
    "     main = \"Fruchterman-Reingold\")"
   ]
  },
  {
   "cell_type": "markdown",
   "metadata": {},
   "source": [
    "Теперь отобразим сеть с помощью алгоритма укладки Камада-Каваи:"
   ]
  },
  {
   "cell_type": "code",
   "execution_count": 7,
   "metadata": {},
   "outputs": [
    {
     "data": {
      "image/png": "[encoded data removed]",
      "text/plain": [
       "Plot with title \"Kamada-Kawai\""
      ]
     },
     "metadata": {
      "image/png": {
       "height": 420,
       "width": 420
      }
     },
     "output_type": "display_data"
    }
   ],
   "source": [
    "plot(g, layout = layout.kamada.kawai, \n",
    "     vertex.label = V(g)$name,\n",
    "     vertex.size = 15, \n",
    "     edge.arrow.size=.5,\n",
    "     vertex.label.color = \"black\",\n",
    "     main = \"Kamada-Kawai\")"
   ]
  },
  {
   "cell_type": "markdown",
   "metadata": {},
   "source": [
    "Алгоритм Фрюхтермана–Рейнгольда рассчитывает силы притяжения и отталкивания каждой вершины графа, и руководствуется только ими; алгоритм Камада-Каваи на каждом шаге отталкивается от вершины, на которую действует наибольшая сила, и минимизирует энергию относительно неё."
   ]
  },
  {
   "cell_type": "markdown",
   "metadata": {},
   "source": [
    "6. Выведем «описательную сводку» сети."
   ]
  },
  {
   "cell_type": "code",
   "execution_count": 8,
   "metadata": {},
   "outputs": [
    {
     "data": {
      "text/plain": [
       "Network attributes:\n",
       "  vertices = 16\n",
       "  directed = TRUE\n",
       "  hyper = FALSE\n",
       "  loops = FALSE\n",
       "  multiple = FALSE\n",
       "  bipartite = FALSE\n",
       " total edges = 40 \n",
       "   missing edges = 0 \n",
       "   non-missing edges = 40 \n",
       " density = 0.1666667 \n",
       "\n",
       "Vertex attributes:\n",
       "  vertex.names:\n",
       "   character valued attribute\n",
       "   16 valid vertex names\n",
       "\n",
       "No edge attributes"
      ]
     },
     "metadata": {},
     "output_type": "display_data"
    }
   ],
   "source": [
    "summary(net, print.adj = FALSE)"
   ]
  },
  {
   "cell_type": "markdown",
   "metadata": {},
   "source": [
    "7. Выведем «пятичисловую сводку» сети:\n",
    "\n",
    "    1) Размер сети;\n",
    "    \n",
    "    2) Плотность и с помощью соответствующей функции;\n",
    "    \n",
    "    3) Число компонент в сети по графику. Число компонент будет равно 2, так как есть одна изолированная вершина *Pucci*. Все остальные вершины образуют одну компоненту связности.\n",
    "    \n",
    "    4) Диаметр сети;\n",
    "    \n",
    "    5) Коэффициент кластеризации.\n",
    "    \n",
    "    "
   ]
  },
  {
   "cell_type": "code",
   "execution_count": 9,
   "metadata": {},
   "outputs": [
    {
     "name": "stdout",
     "output_type": "stream",
     "text": [
      "Размер сети:  16 \n",
      "Плотность сети, посчитанная 'вручную':  0.1666667 \n",
      "Плотность сети с использованием библиотечной функции:  0.1666667 \n",
      "Число компонент:  2 \n",
      "Диаметр сети:  5 \n",
      "Коэффициент кластеризации:  0.1914894 \n"
     ]
    }
   ],
   "source": [
    "##Пятичисловая сводка\n",
    "##Размер сети\n",
    "cat(\"Размер сети: \", network.size(net), \"\\n\")\n",
    "\n",
    "##Плотность\n",
    "dens <- gsize(g)/choose(gorder(g), 2)\n",
    "cat(\"Плотность сети, посчитанная 'вручную': \", dens, \"\\n\")\n",
    "cat(\"Плотность сети с использованием библиотечной функции: \", gden(net), \"\\n\")\n",
    "\n",
    "##Компоненты\n",
    "cat(\"Число компонент: \", components(net), \"\\n\")\n",
    "\n",
    "##Диаметр сети\n",
    "cat(\"Диаметр сети: \", diameter(g), \"\\n\")\n",
    "\n",
    "##Коэффициент кластеризации\n",
    "cat(\"Коэффициент кластеризации: \", gtrans(net, mode = \"graph\"), \"\\n\")"
   ]
  },
  {
   "cell_type": "markdown",
   "metadata": {},
   "source": [
    "Выводы:\n",
    "\n",
    "    1) Всего в сети 16 семейств.\n",
    "    \n",
    "    2) Доля связей между семьями:  0.1666667\n",
    "\n",
    "    3) Есть только 2 компоненты, в которых все акторы связаны друг с другом. В данном случае, второй компонентой будет изолированная вершина.\n",
    "    \n",
    "    4) Самый длинный из кратчайших путей связи между семьями равен 5.\n",
    "    \n",
    "    5) Доля триад в сети: 0.1914894 "
   ]
  },
  {
   "cell_type": "markdown",
   "metadata": {},
   "source": [
    "8. Вычислим среднюю степень узлов и дисперсию."
   ]
  },
  {
   "cell_type": "code",
   "execution_count": 10,
   "metadata": {},
   "outputs": [
    {
     "data": {
      "text/html": [
       "2.5"
      ],
      "text/latex": [
       "2.5"
      ],
      "text/markdown": [
       "2.5"
      ],
      "text/plain": [
       "[1] 2.5"
      ]
     },
     "metadata": {},
     "output_type": "display_data"
    },
    {
     "data": {
      "text/html": [
       "2.125"
      ],
      "text/latex": [
       "2.125"
      ],
      "text/markdown": [
       "2.125"
      ],
      "text/plain": [
       "[1] 2.125"
      ]
     },
     "metadata": {},
     "output_type": "display_data"
    }
   ],
   "source": [
    "##Средняя степень узлов\n",
    "avg_deg <- sum(igraph::degree(g))/gorder(g)\n",
    "avg_deg\n",
    "\n",
    "##Дисперсия степени узлов\n",
    "deg_variance <- sum((igraph::degree(g) - avg_deg)^2)/gorder(g)\n",
    "deg_variance"
   ]
  },
  {
   "cell_type": "markdown",
   "metadata": {},
   "source": [
    "В среднем каждое из семейств имеет ~2.5 связи с другими с мерой разброса, равной 2.125."
   ]
  },
  {
   "cell_type": "markdown",
   "metadata": {},
   "source": [
    "9. Заполним таблицу для различных мер центральности для неизолированных вершин."
   ]
  },
  {
   "cell_type": "code",
   "execution_count": 11,
   "metadata": {},
   "outputs": [
    {
     "data": {
      "text/html": [
       "<table class=\"dataframe\">\n",
       "<caption>A data.frame: 15 × 5</caption>\n",
       "<thead>\n",
       "\t<tr><th></th><th scope=col>ni</th><th scope=col>C_d</th><th scope=col>C_c</th><th scope=col>C_b</th><th scope=col>C_i</th></tr>\n",
       "\t<tr><th></th><th scope=col>&lt;int&gt;</th><th scope=col>&lt;dbl&gt;</th><th scope=col>&lt;dbl&gt;</th><th scope=col>&lt;dbl&gt;</th><th scope=col>&lt;dbl&gt;</th></tr>\n",
       "</thead>\n",
       "<tbody>\n",
       "\t<tr><th scope=row>Acciaiuoli</th><td> 1</td><td>0.07142857</td><td>0.3684211</td><td>0.00000000</td><td>0.04943215</td></tr>\n",
       "\t<tr><th scope=row>Albizzi</th><td> 2</td><td>0.21428571</td><td>0.4827586</td><td>0.21245421</td><td>0.07408484</td></tr>\n",
       "\t<tr><th scope=row>Barbadori</th><td> 3</td><td>0.14285714</td><td>0.4375000</td><td>0.09340659</td><td>0.06816655</td></tr>\n",
       "\t<tr><th scope=row>Bischeri</th><td> 4</td><td>0.21428571</td><td>0.4000000</td><td>0.10439560</td><td>0.07427531</td></tr>\n",
       "\t<tr><th scope=row>Castellani</th><td> 5</td><td>0.21428571</td><td>0.3888889</td><td>0.05494505</td><td>0.07093098</td></tr>\n",
       "\t<tr><th scope=row>Ginori</th><td> 6</td><td>0.07142857</td><td>0.3333333</td><td>0.00000000</td><td>0.04309479</td></tr>\n",
       "\t<tr><th scope=row>Guadagni</th><td> 7</td><td>0.28571429</td><td>0.4666667</td><td>0.25457875</td><td>0.08190476</td></tr>\n",
       "\t<tr><th scope=row>Lamberteschi</th><td> 8</td><td>0.07142857</td><td>0.3255814</td><td>0.00000000</td><td>0.04562892</td></tr>\n",
       "\t<tr><th scope=row>Medici</th><td> 9</td><td>0.42857143</td><td>0.5600000</td><td>0.52197802</td><td>0.09502877</td></tr>\n",
       "\t<tr><th scope=row>Pazzi</th><td>10</td><td>0.07142857</td><td>0.2857143</td><td>0.00000000</td><td>0.03515798</td></tr>\n",
       "\t<tr><th scope=row>Peruzzi</th><td>11</td><td>0.21428571</td><td>0.3684211</td><td>0.02197802</td><td>0.06953773</td></tr>\n",
       "\t<tr><th scope=row>Ridolfi</th><td>12</td><td>0.21428571</td><td>0.5000000</td><td>0.11355311</td><td>0.08040678</td></tr>\n",
       "\t<tr><th scope=row>Salviati</th><td>13</td><td>0.14285714</td><td>0.3888889</td><td>0.14285714</td><td>0.05337198</td></tr>\n",
       "\t<tr><th scope=row>Strozzi</th><td>14</td><td>0.28571429</td><td>0.4375000</td><td>0.10256410</td><td>0.07841151</td></tr>\n",
       "\t<tr><th scope=row>Tornabuoni</th><td>15</td><td>0.21428571</td><td>0.4827586</td><td>0.09157509</td><td>0.08056694</td></tr>\n",
       "</tbody>\n",
       "</table>\n"
      ],
      "text/latex": [
       "A data.frame: 15 × 5\n",
       "\\begin{tabular}{r|lllll}\n",
       "  & ni & C\\_d & C\\_c & C\\_b & C\\_i\\\\\n",
       "  & <int> & <dbl> & <dbl> & <dbl> & <dbl>\\\\\n",
       "\\hline\n",
       "\tAcciaiuoli &  1 & 0.07142857 & 0.3684211 & 0.00000000 & 0.04943215\\\\\n",
       "\tAlbizzi &  2 & 0.21428571 & 0.4827586 & 0.21245421 & 0.07408484\\\\\n",
       "\tBarbadori &  3 & 0.14285714 & 0.4375000 & 0.09340659 & 0.06816655\\\\\n",
       "\tBischeri &  4 & 0.21428571 & 0.4000000 & 0.10439560 & 0.07427531\\\\\n",
       "\tCastellani &  5 & 0.21428571 & 0.3888889 & 0.05494505 & 0.07093098\\\\\n",
       "\tGinori &  6 & 0.07142857 & 0.3333333 & 0.00000000 & 0.04309479\\\\\n",
       "\tGuadagni &  7 & 0.28571429 & 0.4666667 & 0.25457875 & 0.08190476\\\\\n",
       "\tLamberteschi &  8 & 0.07142857 & 0.3255814 & 0.00000000 & 0.04562892\\\\\n",
       "\tMedici &  9 & 0.42857143 & 0.5600000 & 0.52197802 & 0.09502877\\\\\n",
       "\tPazzi & 10 & 0.07142857 & 0.2857143 & 0.00000000 & 0.03515798\\\\\n",
       "\tPeruzzi & 11 & 0.21428571 & 0.3684211 & 0.02197802 & 0.06953773\\\\\n",
       "\tRidolfi & 12 & 0.21428571 & 0.5000000 & 0.11355311 & 0.08040678\\\\\n",
       "\tSalviati & 13 & 0.14285714 & 0.3888889 & 0.14285714 & 0.05337198\\\\\n",
       "\tStrozzi & 14 & 0.28571429 & 0.4375000 & 0.10256410 & 0.07841151\\\\\n",
       "\tTornabuoni & 15 & 0.21428571 & 0.4827586 & 0.09157509 & 0.08056694\\\\\n",
       "\\end{tabular}\n"
      ],
      "text/markdown": [
       "\n",
       "A data.frame: 15 × 5\n",
       "\n",
       "| <!--/--> | ni &lt;int&gt; | C_d &lt;dbl&gt; | C_c &lt;dbl&gt; | C_b &lt;dbl&gt; | C_i &lt;dbl&gt; |\n",
       "|---|---|---|---|---|---|\n",
       "| Acciaiuoli |  1 | 0.07142857 | 0.3684211 | 0.00000000 | 0.04943215 |\n",
       "| Albizzi |  2 | 0.21428571 | 0.4827586 | 0.21245421 | 0.07408484 |\n",
       "| Barbadori |  3 | 0.14285714 | 0.4375000 | 0.09340659 | 0.06816655 |\n",
       "| Bischeri |  4 | 0.21428571 | 0.4000000 | 0.10439560 | 0.07427531 |\n",
       "| Castellani |  5 | 0.21428571 | 0.3888889 | 0.05494505 | 0.07093098 |\n",
       "| Ginori |  6 | 0.07142857 | 0.3333333 | 0.00000000 | 0.04309479 |\n",
       "| Guadagni |  7 | 0.28571429 | 0.4666667 | 0.25457875 | 0.08190476 |\n",
       "| Lamberteschi |  8 | 0.07142857 | 0.3255814 | 0.00000000 | 0.04562892 |\n",
       "| Medici |  9 | 0.42857143 | 0.5600000 | 0.52197802 | 0.09502877 |\n",
       "| Pazzi | 10 | 0.07142857 | 0.2857143 | 0.00000000 | 0.03515798 |\n",
       "| Peruzzi | 11 | 0.21428571 | 0.3684211 | 0.02197802 | 0.06953773 |\n",
       "| Ridolfi | 12 | 0.21428571 | 0.5000000 | 0.11355311 | 0.08040678 |\n",
       "| Salviati | 13 | 0.14285714 | 0.3888889 | 0.14285714 | 0.05337198 |\n",
       "| Strozzi | 14 | 0.28571429 | 0.4375000 | 0.10256410 | 0.07841151 |\n",
       "| Tornabuoni | 15 | 0.21428571 | 0.4827586 | 0.09157509 | 0.08056694 |\n",
       "\n"
      ],
      "text/plain": [
       "             ni C_d        C_c       C_b        C_i       \n",
       "Acciaiuoli    1 0.07142857 0.3684211 0.00000000 0.04943215\n",
       "Albizzi       2 0.21428571 0.4827586 0.21245421 0.07408484\n",
       "Barbadori     3 0.14285714 0.4375000 0.09340659 0.06816655\n",
       "Bischeri      4 0.21428571 0.4000000 0.10439560 0.07427531\n",
       "Castellani    5 0.21428571 0.3888889 0.05494505 0.07093098\n",
       "Ginori        6 0.07142857 0.3333333 0.00000000 0.04309479\n",
       "Guadagni      7 0.28571429 0.4666667 0.25457875 0.08190476\n",
       "Lamberteschi  8 0.07142857 0.3255814 0.00000000 0.04562892\n",
       "Medici        9 0.42857143 0.5600000 0.52197802 0.09502877\n",
       "Pazzi        10 0.07142857 0.2857143 0.00000000 0.03515798\n",
       "Peruzzi      11 0.21428571 0.3684211 0.02197802 0.06953773\n",
       "Ridolfi      12 0.21428571 0.5000000 0.11355311 0.08040678\n",
       "Salviati     13 0.14285714 0.3888889 0.14285714 0.05337198\n",
       "Strozzi      14 0.28571429 0.4375000 0.10256410 0.07841151\n",
       "Tornabuoni   15 0.21428571 0.4827586 0.09157509 0.08056694"
      ]
     },
     "metadata": {},
     "output_type": "display_data"
    }
   ],
   "source": [
    "##Удаление изолированных вершин из графа\n",
    "g_cent <- delete_vertices(g, V(g)[igraph::degree(g) == 0])\n",
    "\n",
    "##Нормированная центральность по степени\n",
    "Cd <- igraph::degree(g_cent, normalized = T)\n",
    "\n",
    "##Нормированная центральность по близости\n",
    "Cc <- igraph::closeness(g_cent, normalized =  T)\n",
    "\n",
    "##Нормированная центральность по посредничеству\n",
    "Cb <- igraph::betweenness(g_cent, normalized = T)\n",
    "\n",
    "##Нормированная центральность по информации\n",
    "adj <-as_adjacency_matrix(g_cent)\n",
    "adj <- as.matrix(adj)\n",
    "cent_net <- network(adj, matrix.type = \"adjacency\")\n",
    "Ci <- infocent(cent_net)\n",
    "Ci <- Ci/sum(Ci)\n",
    "\n",
    "\n",
    "df <- data.frame(ni = c(1:gorder(g_cent)), \n",
    "                 C_d = Cd,\n",
    "                 C_c = Cc,\n",
    "                 C_b = Cb,\n",
    "                 C_i = Ci)\n",
    "df"
   ]
  },
  {
   "cell_type": "markdown",
   "metadata": {},
   "source": [
    "Как видно из таблицы, наибольшими значениями центральности обладает *Medici*, т. е. *Medici* является наиболее влиятельным актором в социальной сети."
   ]
  },
  {
   "cell_type": "markdown",
   "metadata": {},
   "source": [
    "10. Вычислим значения централизации для каждой меры."
   ]
  },
  {
   "cell_type": "code",
   "execution_count": 12,
   "metadata": {},
   "outputs": [
    {
     "data": {
      "text/html": [
       "<table class=\"dataframe\">\n",
       "<caption>A data.frame: 1 × 4</caption>\n",
       "<thead>\n",
       "\t<tr><th scope=col>Ctz_d</th><th scope=col>Ctz_c</th><th scope=col>Ctz_b</th><th scope=col>Ctz_i</th></tr>\n",
       "\t<tr><th scope=col>&lt;dbl&gt;</th><th scope=col>&lt;dbl&gt;</th><th scope=col>&lt;dbl&gt;</th><th scope=col>&lt;dbl&gt;</th></tr>\n",
       "</thead>\n",
       "<tbody>\n",
       "\t<tr><td>0.2380952</td><td>0.3224523</td><td>0.4368132</td><td>0.00027753</td></tr>\n",
       "</tbody>\n",
       "</table>\n"
      ],
      "text/latex": [
       "A data.frame: 1 × 4\n",
       "\\begin{tabular}{llll}\n",
       " Ctz\\_d & Ctz\\_c & Ctz\\_b & Ctz\\_i\\\\\n",
       " <dbl> & <dbl> & <dbl> & <dbl>\\\\\n",
       "\\hline\n",
       "\t 0.2380952 & 0.3224523 & 0.4368132 & 0.00027753\\\\\n",
       "\\end{tabular}\n"
      ],
      "text/markdown": [
       "\n",
       "A data.frame: 1 × 4\n",
       "\n",
       "| Ctz_d &lt;dbl&gt; | Ctz_c &lt;dbl&gt; | Ctz_b &lt;dbl&gt; | Ctz_i &lt;dbl&gt; |\n",
       "|---|---|---|---|\n",
       "| 0.2380952 | 0.3224523 | 0.4368132 | 0.00027753 |\n",
       "\n"
      ],
      "text/plain": [
       "  Ctz_d     Ctz_c     Ctz_b     Ctz_i     \n",
       "1 0.2380952 0.3224523 0.4368132 0.00027753"
      ]
     },
     "metadata": {},
     "output_type": "display_data"
    }
   ],
   "source": [
    "##Централизация по степени\n",
    "degree_cent <- centr_degree(g_cent)\n",
    "\n",
    "##Централизация по близости\n",
    "closeness_centr <- centr_clo(g_cent)\n",
    "\n",
    "##Централизация по посредничеству\n",
    "betw_centr <- centr_betw(g_cent)\n",
    "\n",
    "##Централизация по информации\n",
    "inf_centr <- (df$C_i - (sum(df$C_i)/gorder(g_cent)))^2\n",
    "inf_centr<- sum(inf_centr)/gorder(g_cent)\n",
    "\n",
    "df_c <- data.frame(Ctz_d = degree_cent$centralization,\n",
    "                   Ctz_c = closeness_centr$centralization,\n",
    "                   Ctz_b = betw_centr$centralization,\n",
    "                   Ctz_i = inf_centr)\n",
    "df_c"
   ]
  },
  {
   "cell_type": "markdown",
   "metadata": {},
   "source": [
    "11. Выявим точки сочленения и мосты сети. Построим график сети, на котором выделены точки сочленения и мосты.\n",
    "\n",
    "Попробуем выделить мосты и точки сочленения, пользуясь любым из представлений графа из пункта 5. Видим, что удаление вершины *Medici* приведёт к возникновению двух новых компонент связности, и рёбра от *Medici* до элементов этих компонент -- *Acciaiuoli* и *Salviati*, будут являться мостами; аналогично, удаление *Albizzi* добавит компоненту, состоящую из одной вершины *Ginori*, а удаление *Guadagni* даст компоненту, состоящую из одной вершины *Lamberteschi*. Тогда *Albizzi*, *Guadagni* -- точки сочленения, *Albizzi* - *Ginori*, *Guadagni* - *Lamberteschi* -- мосты.\n",
    "\n",
    "Проверим данные утверждения с помощью функций пакета igraph:"
   ]
  },
  {
   "cell_type": "code",
   "execution_count": 13,
   "metadata": {},
   "outputs": [
    {
     "data": {
      "image/png": "[encoded data removed]",
      "text/plain": [
       "Plot with title \"\""
      ]
     },
     "metadata": {
      "image/png": {
       "height": 420,
       "width": 420
      }
     },
     "output_type": "display_data"
    }
   ],
   "source": [
    "art_points <- igraph::articulation_points(g)\n",
    "brg <- igraph::bridges(g)\n",
    "\n",
    "V(g)$color <- \"white\"\n",
    "E(g)$color <- \"grey\"\n",
    "E(g)$color[brg] <- \"red\"\n",
    "V(g)$color[art_points] <- \"red\"\n",
    "\n",
    "plot(g, layout = layout.fruchterman.reingold, \n",
    "     vertex.label = V(g)$name,\n",
    "     vertex.size = 15, \n",
    "     edge.arrow.size=.5,\n",
    "     edge.arrow.color = \"grey\", \n",
    "     vertex.color= V(g)$color,\n",
    "     vertex.label.color = \"black\", \n",
    "     edge.color = E(g)$color)"
   ]
  },
  {
   "cell_type": "markdown",
   "metadata": {},
   "source": [
    "Видим, что предположения оказались верными."
   ]
  },
  {
   "cell_type": "markdown",
   "metadata": {},
   "source": [
    "12. Выполнить пп. 2–8 для направленной сети из файла krackhardt_friendship.csv."
   ]
  },
  {
   "cell_type": "code",
   "execution_count": 14,
   "metadata": {},
   "outputs": [
    {
     "data": {
      "text/html": [
       "<table class=\"dataframe\">\n",
       "<caption>A matrix: 21 × 21 of type int</caption>\n",
       "<thead>\n",
       "\t<tr><th scope=col>V1</th><th scope=col>V2</th><th scope=col>V3</th><th scope=col>V4</th><th scope=col>V5</th><th scope=col>V6</th><th scope=col>V7</th><th scope=col>V8</th><th scope=col>V9</th><th scope=col>V10</th><th scope=col>⋯</th><th scope=col>V12</th><th scope=col>V13</th><th scope=col>V14</th><th scope=col>V15</th><th scope=col>V16</th><th scope=col>V17</th><th scope=col>V18</th><th scope=col>V19</th><th scope=col>V20</th><th scope=col>V21</th></tr>\n",
       "</thead>\n",
       "<tbody>\n",
       "\t<tr><td>0</td><td>1</td><td>0</td><td>1</td><td>0</td><td>0</td><td>0</td><td>1</td><td>0</td><td>0</td><td>⋯</td><td>1</td><td>0</td><td>0</td><td>0</td><td>1</td><td>0</td><td>0</td><td>0</td><td>0</td><td>0</td></tr>\n",
       "\t<tr><td>1</td><td>0</td><td>0</td><td>0</td><td>0</td><td>0</td><td>0</td><td>0</td><td>0</td><td>0</td><td>⋯</td><td>0</td><td>0</td><td>0</td><td>0</td><td>0</td><td>0</td><td>1</td><td>0</td><td>0</td><td>1</td></tr>\n",
       "\t<tr><td>0</td><td>0</td><td>0</td><td>0</td><td>0</td><td>0</td><td>0</td><td>0</td><td>0</td><td>0</td><td>⋯</td><td>0</td><td>0</td><td>1</td><td>0</td><td>0</td><td>0</td><td>0</td><td>1</td><td>0</td><td>0</td></tr>\n",
       "\t<tr><td>1</td><td>1</td><td>0</td><td>0</td><td>0</td><td>0</td><td>0</td><td>1</td><td>0</td><td>0</td><td>⋯</td><td>1</td><td>0</td><td>0</td><td>0</td><td>1</td><td>1</td><td>0</td><td>0</td><td>0</td><td>0</td></tr>\n",
       "\t<tr><td>0</td><td>1</td><td>0</td><td>0</td><td>0</td><td>0</td><td>0</td><td>0</td><td>1</td><td>0</td><td>⋯</td><td>0</td><td>0</td><td>1</td><td>0</td><td>0</td><td>1</td><td>0</td><td>1</td><td>0</td><td>1</td></tr>\n",
       "\t<tr><td>0</td><td>1</td><td>0</td><td>0</td><td>0</td><td>0</td><td>1</td><td>0</td><td>1</td><td>0</td><td>⋯</td><td>1</td><td>0</td><td>0</td><td>0</td><td>0</td><td>1</td><td>0</td><td>0</td><td>0</td><td>1</td></tr>\n",
       "\t<tr><td>0</td><td>0</td><td>0</td><td>0</td><td>0</td><td>0</td><td>0</td><td>0</td><td>0</td><td>0</td><td>⋯</td><td>0</td><td>0</td><td>0</td><td>0</td><td>0</td><td>0</td><td>0</td><td>0</td><td>0</td><td>0</td></tr>\n",
       "\t<tr><td>0</td><td>0</td><td>0</td><td>1</td><td>0</td><td>0</td><td>0</td><td>0</td><td>0</td><td>0</td><td>⋯</td><td>0</td><td>0</td><td>0</td><td>0</td><td>0</td><td>0</td><td>0</td><td>0</td><td>0</td><td>0</td></tr>\n",
       "\t<tr><td>0</td><td>0</td><td>0</td><td>0</td><td>0</td><td>0</td><td>0</td><td>0</td><td>0</td><td>0</td><td>⋯</td><td>0</td><td>0</td><td>0</td><td>0</td><td>0</td><td>0</td><td>0</td><td>0</td><td>0</td><td>0</td></tr>\n",
       "\t<tr><td>0</td><td>0</td><td>1</td><td>0</td><td>1</td><td>0</td><td>0</td><td>1</td><td>1</td><td>0</td><td>⋯</td><td>1</td><td>0</td><td>0</td><td>0</td><td>1</td><td>0</td><td>0</td><td>0</td><td>1</td><td>0</td></tr>\n",
       "\t<tr><td>1</td><td>1</td><td>1</td><td>1</td><td>1</td><td>0</td><td>0</td><td>1</td><td>1</td><td>0</td><td>⋯</td><td>1</td><td>1</td><td>0</td><td>1</td><td>0</td><td>1</td><td>1</td><td>1</td><td>0</td><td>0</td></tr>\n",
       "\t<tr><td>1</td><td>0</td><td>0</td><td>1</td><td>0</td><td>0</td><td>0</td><td>0</td><td>0</td><td>0</td><td>⋯</td><td>0</td><td>0</td><td>0</td><td>0</td><td>0</td><td>1</td><td>0</td><td>0</td><td>0</td><td>1</td></tr>\n",
       "\t<tr><td>0</td><td>0</td><td>0</td><td>0</td><td>1</td><td>0</td><td>0</td><td>0</td><td>0</td><td>0</td><td>⋯</td><td>0</td><td>0</td><td>0</td><td>0</td><td>0</td><td>0</td><td>0</td><td>0</td><td>0</td><td>0</td></tr>\n",
       "\t<tr><td>0</td><td>0</td><td>0</td><td>0</td><td>0</td><td>0</td><td>1</td><td>0</td><td>0</td><td>0</td><td>⋯</td><td>0</td><td>0</td><td>0</td><td>1</td><td>0</td><td>0</td><td>0</td><td>0</td><td>0</td><td>0</td></tr>\n",
       "\t<tr><td>1</td><td>0</td><td>1</td><td>0</td><td>1</td><td>1</td><td>0</td><td>0</td><td>1</td><td>0</td><td>⋯</td><td>0</td><td>0</td><td>1</td><td>0</td><td>0</td><td>0</td><td>0</td><td>1</td><td>0</td><td>0</td></tr>\n",
       "\t<tr><td>1</td><td>1</td><td>0</td><td>0</td><td>0</td><td>0</td><td>0</td><td>0</td><td>0</td><td>0</td><td>⋯</td><td>0</td><td>0</td><td>0</td><td>0</td><td>0</td><td>0</td><td>0</td><td>0</td><td>0</td><td>0</td></tr>\n",
       "\t<tr><td>1</td><td>1</td><td>1</td><td>1</td><td>1</td><td>1</td><td>1</td><td>1</td><td>1</td><td>1</td><td>⋯</td><td>1</td><td>0</td><td>1</td><td>1</td><td>1</td><td>0</td><td>0</td><td>1</td><td>1</td><td>1</td></tr>\n",
       "\t<tr><td>0</td><td>1</td><td>0</td><td>0</td><td>0</td><td>0</td><td>0</td><td>0</td><td>0</td><td>0</td><td>⋯</td><td>0</td><td>0</td><td>0</td><td>0</td><td>0</td><td>0</td><td>0</td><td>0</td><td>0</td><td>0</td></tr>\n",
       "\t<tr><td>1</td><td>1</td><td>1</td><td>0</td><td>1</td><td>0</td><td>0</td><td>0</td><td>0</td><td>0</td><td>⋯</td><td>1</td><td>0</td><td>1</td><td>1</td><td>0</td><td>0</td><td>0</td><td>0</td><td>1</td><td>0</td></tr>\n",
       "\t<tr><td>0</td><td>0</td><td>0</td><td>0</td><td>0</td><td>0</td><td>0</td><td>0</td><td>0</td><td>0</td><td>⋯</td><td>0</td><td>0</td><td>0</td><td>0</td><td>0</td><td>0</td><td>1</td><td>0</td><td>0</td><td>0</td></tr>\n",
       "\t<tr><td>0</td><td>1</td><td>0</td><td>0</td><td>0</td><td>0</td><td>0</td><td>0</td><td>0</td><td>0</td><td>⋯</td><td>1</td><td>0</td><td>0</td><td>0</td><td>0</td><td>1</td><td>1</td><td>0</td><td>0</td><td>0</td></tr>\n",
       "</tbody>\n",
       "</table>\n"
      ],
      "text/latex": [
       "A matrix: 21 × 21 of type int\n",
       "\\begin{tabular}{lllllllllllllllllllll}\n",
       " V1 & V2 & V3 & V4 & V5 & V6 & V7 & V8 & V9 & V10 & ⋯ & V12 & V13 & V14 & V15 & V16 & V17 & V18 & V19 & V20 & V21\\\\\n",
       "\\hline\n",
       "\t 0 & 1 & 0 & 1 & 0 & 0 & 0 & 1 & 0 & 0 & ⋯ & 1 & 0 & 0 & 0 & 1 & 0 & 0 & 0 & 0 & 0\\\\\n",
       "\t 1 & 0 & 0 & 0 & 0 & 0 & 0 & 0 & 0 & 0 & ⋯ & 0 & 0 & 0 & 0 & 0 & 0 & 1 & 0 & 0 & 1\\\\\n",
       "\t 0 & 0 & 0 & 0 & 0 & 0 & 0 & 0 & 0 & 0 & ⋯ & 0 & 0 & 1 & 0 & 0 & 0 & 0 & 1 & 0 & 0\\\\\n",
       "\t 1 & 1 & 0 & 0 & 0 & 0 & 0 & 1 & 0 & 0 & ⋯ & 1 & 0 & 0 & 0 & 1 & 1 & 0 & 0 & 0 & 0\\\\\n",
       "\t 0 & 1 & 0 & 0 & 0 & 0 & 0 & 0 & 1 & 0 & ⋯ & 0 & 0 & 1 & 0 & 0 & 1 & 0 & 1 & 0 & 1\\\\\n",
       "\t 0 & 1 & 0 & 0 & 0 & 0 & 1 & 0 & 1 & 0 & ⋯ & 1 & 0 & 0 & 0 & 0 & 1 & 0 & 0 & 0 & 1\\\\\n",
       "\t 0 & 0 & 0 & 0 & 0 & 0 & 0 & 0 & 0 & 0 & ⋯ & 0 & 0 & 0 & 0 & 0 & 0 & 0 & 0 & 0 & 0\\\\\n",
       "\t 0 & 0 & 0 & 1 & 0 & 0 & 0 & 0 & 0 & 0 & ⋯ & 0 & 0 & 0 & 0 & 0 & 0 & 0 & 0 & 0 & 0\\\\\n",
       "\t 0 & 0 & 0 & 0 & 0 & 0 & 0 & 0 & 0 & 0 & ⋯ & 0 & 0 & 0 & 0 & 0 & 0 & 0 & 0 & 0 & 0\\\\\n",
       "\t 0 & 0 & 1 & 0 & 1 & 0 & 0 & 1 & 1 & 0 & ⋯ & 1 & 0 & 0 & 0 & 1 & 0 & 0 & 0 & 1 & 0\\\\\n",
       "\t 1 & 1 & 1 & 1 & 1 & 0 & 0 & 1 & 1 & 0 & ⋯ & 1 & 1 & 0 & 1 & 0 & 1 & 1 & 1 & 0 & 0\\\\\n",
       "\t 1 & 0 & 0 & 1 & 0 & 0 & 0 & 0 & 0 & 0 & ⋯ & 0 & 0 & 0 & 0 & 0 & 1 & 0 & 0 & 0 & 1\\\\\n",
       "\t 0 & 0 & 0 & 0 & 1 & 0 & 0 & 0 & 0 & 0 & ⋯ & 0 & 0 & 0 & 0 & 0 & 0 & 0 & 0 & 0 & 0\\\\\n",
       "\t 0 & 0 & 0 & 0 & 0 & 0 & 1 & 0 & 0 & 0 & ⋯ & 0 & 0 & 0 & 1 & 0 & 0 & 0 & 0 & 0 & 0\\\\\n",
       "\t 1 & 0 & 1 & 0 & 1 & 1 & 0 & 0 & 1 & 0 & ⋯ & 0 & 0 & 1 & 0 & 0 & 0 & 0 & 1 & 0 & 0\\\\\n",
       "\t 1 & 1 & 0 & 0 & 0 & 0 & 0 & 0 & 0 & 0 & ⋯ & 0 & 0 & 0 & 0 & 0 & 0 & 0 & 0 & 0 & 0\\\\\n",
       "\t 1 & 1 & 1 & 1 & 1 & 1 & 1 & 1 & 1 & 1 & ⋯ & 1 & 0 & 1 & 1 & 1 & 0 & 0 & 1 & 1 & 1\\\\\n",
       "\t 0 & 1 & 0 & 0 & 0 & 0 & 0 & 0 & 0 & 0 & ⋯ & 0 & 0 & 0 & 0 & 0 & 0 & 0 & 0 & 0 & 0\\\\\n",
       "\t 1 & 1 & 1 & 0 & 1 & 0 & 0 & 0 & 0 & 0 & ⋯ & 1 & 0 & 1 & 1 & 0 & 0 & 0 & 0 & 1 & 0\\\\\n",
       "\t 0 & 0 & 0 & 0 & 0 & 0 & 0 & 0 & 0 & 0 & ⋯ & 0 & 0 & 0 & 0 & 0 & 0 & 1 & 0 & 0 & 0\\\\\n",
       "\t 0 & 1 & 0 & 0 & 0 & 0 & 0 & 0 & 0 & 0 & ⋯ & 1 & 0 & 0 & 0 & 0 & 1 & 1 & 0 & 0 & 0\\\\\n",
       "\\end{tabular}\n"
      ],
      "text/markdown": [
       "\n",
       "A matrix: 21 × 21 of type int\n",
       "\n",
       "| V1 | V2 | V3 | V4 | V5 | V6 | V7 | V8 | V9 | V10 | ⋯ | V12 | V13 | V14 | V15 | V16 | V17 | V18 | V19 | V20 | V21 |\n",
       "|---|---|---|---|---|---|---|---|---|---|---|---|---|---|---|---|---|---|---|---|---|\n",
       "| 0 | 1 | 0 | 1 | 0 | 0 | 0 | 1 | 0 | 0 | ⋯ | 1 | 0 | 0 | 0 | 1 | 0 | 0 | 0 | 0 | 0 |\n",
       "| 1 | 0 | 0 | 0 | 0 | 0 | 0 | 0 | 0 | 0 | ⋯ | 0 | 0 | 0 | 0 | 0 | 0 | 1 | 0 | 0 | 1 |\n",
       "| 0 | 0 | 0 | 0 | 0 | 0 | 0 | 0 | 0 | 0 | ⋯ | 0 | 0 | 1 | 0 | 0 | 0 | 0 | 1 | 0 | 0 |\n",
       "| 1 | 1 | 0 | 0 | 0 | 0 | 0 | 1 | 0 | 0 | ⋯ | 1 | 0 | 0 | 0 | 1 | 1 | 0 | 0 | 0 | 0 |\n",
       "| 0 | 1 | 0 | 0 | 0 | 0 | 0 | 0 | 1 | 0 | ⋯ | 0 | 0 | 1 | 0 | 0 | 1 | 0 | 1 | 0 | 1 |\n",
       "| 0 | 1 | 0 | 0 | 0 | 0 | 1 | 0 | 1 | 0 | ⋯ | 1 | 0 | 0 | 0 | 0 | 1 | 0 | 0 | 0 | 1 |\n",
       "| 0 | 0 | 0 | 0 | 0 | 0 | 0 | 0 | 0 | 0 | ⋯ | 0 | 0 | 0 | 0 | 0 | 0 | 0 | 0 | 0 | 0 |\n",
       "| 0 | 0 | 0 | 1 | 0 | 0 | 0 | 0 | 0 | 0 | ⋯ | 0 | 0 | 0 | 0 | 0 | 0 | 0 | 0 | 0 | 0 |\n",
       "| 0 | 0 | 0 | 0 | 0 | 0 | 0 | 0 | 0 | 0 | ⋯ | 0 | 0 | 0 | 0 | 0 | 0 | 0 | 0 | 0 | 0 |\n",
       "| 0 | 0 | 1 | 0 | 1 | 0 | 0 | 1 | 1 | 0 | ⋯ | 1 | 0 | 0 | 0 | 1 | 0 | 0 | 0 | 1 | 0 |\n",
       "| 1 | 1 | 1 | 1 | 1 | 0 | 0 | 1 | 1 | 0 | ⋯ | 1 | 1 | 0 | 1 | 0 | 1 | 1 | 1 | 0 | 0 |\n",
       "| 1 | 0 | 0 | 1 | 0 | 0 | 0 | 0 | 0 | 0 | ⋯ | 0 | 0 | 0 | 0 | 0 | 1 | 0 | 0 | 0 | 1 |\n",
       "| 0 | 0 | 0 | 0 | 1 | 0 | 0 | 0 | 0 | 0 | ⋯ | 0 | 0 | 0 | 0 | 0 | 0 | 0 | 0 | 0 | 0 |\n",
       "| 0 | 0 | 0 | 0 | 0 | 0 | 1 | 0 | 0 | 0 | ⋯ | 0 | 0 | 0 | 1 | 0 | 0 | 0 | 0 | 0 | 0 |\n",
       "| 1 | 0 | 1 | 0 | 1 | 1 | 0 | 0 | 1 | 0 | ⋯ | 0 | 0 | 1 | 0 | 0 | 0 | 0 | 1 | 0 | 0 |\n",
       "| 1 | 1 | 0 | 0 | 0 | 0 | 0 | 0 | 0 | 0 | ⋯ | 0 | 0 | 0 | 0 | 0 | 0 | 0 | 0 | 0 | 0 |\n",
       "| 1 | 1 | 1 | 1 | 1 | 1 | 1 | 1 | 1 | 1 | ⋯ | 1 | 0 | 1 | 1 | 1 | 0 | 0 | 1 | 1 | 1 |\n",
       "| 0 | 1 | 0 | 0 | 0 | 0 | 0 | 0 | 0 | 0 | ⋯ | 0 | 0 | 0 | 0 | 0 | 0 | 0 | 0 | 0 | 0 |\n",
       "| 1 | 1 | 1 | 0 | 1 | 0 | 0 | 0 | 0 | 0 | ⋯ | 1 | 0 | 1 | 1 | 0 | 0 | 0 | 0 | 1 | 0 |\n",
       "| 0 | 0 | 0 | 0 | 0 | 0 | 0 | 0 | 0 | 0 | ⋯ | 0 | 0 | 0 | 0 | 0 | 0 | 1 | 0 | 0 | 0 |\n",
       "| 0 | 1 | 0 | 0 | 0 | 0 | 0 | 0 | 0 | 0 | ⋯ | 1 | 0 | 0 | 0 | 0 | 1 | 1 | 0 | 0 | 0 |\n",
       "\n"
      ],
      "text/plain": [
       "      V1 V2 V3 V4 V5 V6 V7 V8 V9 V10 ⋯ V12 V13 V14 V15 V16 V17 V18 V19 V20 V21\n",
       " [1,] 0  1  0  1  0  0  0  1  0  0   ⋯ 1   0   0   0   1   0   0   0   0   0  \n",
       " [2,] 1  0  0  0  0  0  0  0  0  0   ⋯ 0   0   0   0   0   0   1   0   0   1  \n",
       " [3,] 0  0  0  0  0  0  0  0  0  0   ⋯ 0   0   1   0   0   0   0   1   0   0  \n",
       " [4,] 1  1  0  0  0  0  0  1  0  0   ⋯ 1   0   0   0   1   1   0   0   0   0  \n",
       " [5,] 0  1  0  0  0  0  0  0  1  0   ⋯ 0   0   1   0   0   1   0   1   0   1  \n",
       " [6,] 0  1  0  0  0  0  1  0  1  0   ⋯ 1   0   0   0   0   1   0   0   0   1  \n",
       " [7,] 0  0  0  0  0  0  0  0  0  0   ⋯ 0   0   0   0   0   0   0   0   0   0  \n",
       " [8,] 0  0  0  1  0  0  0  0  0  0   ⋯ 0   0   0   0   0   0   0   0   0   0  \n",
       " [9,] 0  0  0  0  0  0  0  0  0  0   ⋯ 0   0   0   0   0   0   0   0   0   0  \n",
       "[10,] 0  0  1  0  1  0  0  1  1  0   ⋯ 1   0   0   0   1   0   0   0   1   0  \n",
       "[11,] 1  1  1  1  1  0  0  1  1  0   ⋯ 1   1   0   1   0   1   1   1   0   0  \n",
       "[12,] 1  0  0  1  0  0  0  0  0  0   ⋯ 0   0   0   0   0   1   0   0   0   1  \n",
       "[13,] 0  0  0  0  1  0  0  0  0  0   ⋯ 0   0   0   0   0   0   0   0   0   0  \n",
       "[14,] 0  0  0  0  0  0  1  0  0  0   ⋯ 0   0   0   1   0   0   0   0   0   0  \n",
       "[15,] 1  0  1  0  1  1  0  0  1  0   ⋯ 0   0   1   0   0   0   0   1   0   0  \n",
       "[16,] 1  1  0  0  0  0  0  0  0  0   ⋯ 0   0   0   0   0   0   0   0   0   0  \n",
       "[17,] 1  1  1  1  1  1  1  1  1  1   ⋯ 1   0   1   1   1   0   0   1   1   1  \n",
       "[18,] 0  1  0  0  0  0  0  0  0  0   ⋯ 0   0   0   0   0   0   0   0   0   0  \n",
       "[19,] 1  1  1  0  1  0  0  0  0  0   ⋯ 1   0   1   1   0   0   0   0   1   0  \n",
       "[20,] 0  0  0  0  0  0  0  0  0  0   ⋯ 0   0   0   0   0   0   1   0   0   0  \n",
       "[21,] 0  1  0  0  0  0  0  0  0  0   ⋯ 1   0   0   0   0   1   1   0   0   0  "
      ]
     },
     "metadata": {},
     "output_type": "display_data"
    }
   ],
   "source": [
    "#Получение матрицы смежности из файла\n",
    "kf_dataframe <- read.table(\"krackhardt_friendship.csv\", header = FALSE, sep = ',')\n",
    "kf <- data.matrix(kf_dataframe)\n",
    "kf"
   ]
  },
  {
   "cell_type": "code",
   "execution_count": 15,
   "metadata": {},
   "outputs": [
    {
     "data": {
      "text/html": [
       "<table class=\"dataframe\">\n",
       "<caption>A matrix: 5 × 2 of type chr</caption>\n",
       "<tbody>\n",
       "\t<tr><td>V1</td><td>V2 </td></tr>\n",
       "\t<tr><td>V1</td><td>V4 </td></tr>\n",
       "\t<tr><td>V1</td><td>V8 </td></tr>\n",
       "\t<tr><td>V1</td><td>V12</td></tr>\n",
       "\t<tr><td>V1</td><td>V16</td></tr>\n",
       "</tbody>\n",
       "</table>\n"
      ],
      "text/latex": [
       "A matrix: 5 × 2 of type chr\n",
       "\\begin{tabular}{ll}\n",
       "\t V1 & V2 \\\\\n",
       "\t V1 & V4 \\\\\n",
       "\t V1 & V8 \\\\\n",
       "\t V1 & V12\\\\\n",
       "\t V1 & V16\\\\\n",
       "\\end{tabular}\n"
      ],
      "text/markdown": [
       "\n",
       "A matrix: 5 × 2 of type chr\n",
       "\n",
       "| V1 | V2  |\n",
       "| V1 | V4  |\n",
       "| V1 | V8  |\n",
       "| V1 | V12 |\n",
       "| V1 | V16 |\n",
       "\n"
      ],
      "text/plain": [
       "     [,1] [,2]\n",
       "[1,] V1   V2  \n",
       "[2,] V1   V4  \n",
       "[3,] V1   V8  \n",
       "[4,] V1   V12 \n",
       "[5,] V1   V16 "
      ]
     },
     "metadata": {},
     "output_type": "display_data"
    }
   ],
   "source": [
    "#Получение списка рёбер и вывод первых 5 \n",
    "g_kf <- graph.adjacency(kf)\n",
    "edge_list_kf <- as_edgelist(g_kf)\n",
    "head(edge_list_kf, 5)"
   ]
  },
  {
   "cell_type": "code",
   "execution_count": 16,
   "metadata": {},
   "outputs": [],
   "source": [
    "#Переименование столбцов и строк матрицы\n",
    "rownames(kf) <- colnames(kf_dataframe)\n",
    "colnames(kf) <- colnames(kf_dataframe)"
   ]
  },
  {
   "cell_type": "code",
   "execution_count": 17,
   "metadata": {},
   "outputs": [],
   "source": [
    "#Представление в виде ненаправленного графа\n",
    "g_kf_undirected <- graph.adjacency(kf, mode = \"undirected\")"
   ]
  },
  {
   "cell_type": "code",
   "execution_count": 18,
   "metadata": {},
   "outputs": [
    {
     "data": {
      "image/png": "[encoded data removed]",
      "text/plain": [
       "Plot with title \"Fruchterman-Reingold\""
      ]
     },
     "metadata": {
      "image/png": {
       "height": 420,
       "width": 420
      }
     },
     "output_type": "display_data"
    },
    {
     "data": {
      "image/png": "[encoded data removed]",
      "text/plain": [
       "Plot with title \"Kamada-Kawai\""
      ]
     },
     "metadata": {
      "image/png": {
       "height": 420,
       "width": 420
      }
     },
     "output_type": "display_data"
    }
   ],
   "source": [
    "#Два способа отображения графа\n",
    "kf_net <-  network(kf, matrix.type = \"adjacency\")\n",
    "plot(g_kf, layout = layout.fruchterman.reingold, \n",
    "     vertex.label = V(g_kf)$name,\n",
    "     vertex.size = 15, \n",
    "     edge.arrow.size =.5,\n",
    "     vertex.label.color = \"black\",\n",
    "     main = \"Fruchterman-Reingold\")\n",
    "\n",
    "plot(g_kf, layout = layout.kamada.kawai, \n",
    "     vertex.label = V(g_kf)$name,\n",
    "     vertex.size = 15, \n",
    "     edge.arrow.size =.5,\n",
    "     vertex.label.color = \"black\",\n",
    "     main = \"Kamada-Kawai\")"
   ]
  },
  {
   "cell_type": "code",
   "execution_count": 19,
   "metadata": {},
   "outputs": [
    {
     "data": {
      "text/plain": [
       "Network attributes:\n",
       "  vertices = 21\n",
       "  directed = TRUE\n",
       "  hyper = FALSE\n",
       "  loops = FALSE\n",
       "  multiple = FALSE\n",
       "  bipartite = FALSE\n",
       " total edges = 102 \n",
       "   missing edges = 0 \n",
       "   non-missing edges = 102 \n",
       " density = 0.2428571 \n",
       "\n",
       "Vertex attributes:\n",
       "  vertex.names:\n",
       "   character valued attribute\n",
       "   21 valid vertex names\n",
       "\n",
       "No edge attributes"
      ]
     },
     "metadata": {},
     "output_type": "display_data"
    }
   ],
   "source": [
    "#Общая сводка\n",
    "summary(kf_net, print.adj = FALSE)"
   ]
  },
  {
   "cell_type": "code",
   "execution_count": 20,
   "metadata": {},
   "outputs": [
    {
     "name": "stdout",
     "output_type": "stream",
     "text": [
      "Размер сети:  21 \n",
      "Плотность сети, посчитанная 'вручную':  0.1666667 \n",
      "Плотность сети с использованием библиотечной функции:  0.2428571 \n",
      "Число компонент:  3 \n",
      "Диаметр сети:  5 \n",
      "Коэффициент кластеризации:  0.4610526 \n"
     ]
    }
   ],
   "source": [
    "##Пятичисловая сводка\n",
    "##Размер сети\n",
    "cat(\"Размер сети: \", network.size(kf_net), \"\\n\")\n",
    "\n",
    "##Плотность\n",
    "dens <- gsize(g)/choose(gorder(g), 2)\n",
    "cat(\"Плотность сети, посчитанная 'вручную': \", dens, \"\\n\")\n",
    "cat(\"Плотность сети с использованием библиотечной функции: \", gden(kf_net), \"\\n\")\n",
    "\n",
    "##Компоненты\n",
    "cat(\"Число компонент: \", components(kf_net), \"\\n\")\n",
    "\n",
    "##Диаметр сети\n",
    "cat(\"Диаметр сети: \", diameter(g_kf), \"\\n\")\n",
    "\n",
    "##Коэффициент кластеризации\n",
    "cat(\"Коэффициент кластеризации: \", gtrans(kf_net, mode = \"graph\"), \"\\n\")"
   ]
  },
  {
   "cell_type": "markdown",
   "metadata": {},
   "source": [
    "Выводы:\n",
    "\n",
    "    1) Всего в сети 21 менеджер.\n",
    "    \n",
    "    2) Доля дружественных связей между менеджерами, т. е. вероятность того, что два случайно взятых менеджера дружат друг с другом:  0.2428571 \n",
    "\n",
    "    3) Есть только 3 компоненты, в которых все акторы связаны друг с другом.\n",
    "    \n",
    "    4) Самый длинный из кратчайших путей связи между менеджерами равен 5.\n",
    "    \n",
    "    5) Доля триад в сети: 0.4610526"
   ]
  },
  {
   "cell_type": "code",
   "execution_count": 21,
   "metadata": {},
   "outputs": [
    {
     "data": {
      "text/html": [
       "4.85714285714286"
      ],
      "text/latex": [
       "4.85714285714286"
      ],
      "text/markdown": [
       "4.85714285714286"
      ],
      "text/plain": [
       "[1] 4.857143"
      ]
     },
     "metadata": {},
     "output_type": "display_data"
    },
    {
     "data": {
      "text/html": [
       "4.85714285714286"
      ],
      "text/latex": [
       "4.85714285714286"
      ],
      "text/markdown": [
       "4.85714285714286"
      ],
      "text/plain": [
       "[1] 4.857143"
      ]
     },
     "metadata": {},
     "output_type": "display_data"
    },
    {
     "data": {
      "text/html": [
       "4.92857142857143"
      ],
      "text/latex": [
       "4.92857142857143"
      ],
      "text/markdown": [
       "4.92857142857143"
      ],
      "text/plain": [
       "[1] 4.928571"
      ]
     },
     "metadata": {},
     "output_type": "display_data"
    },
    {
     "data": {
      "text/html": [
       "20.0285714285714"
      ],
      "text/latex": [
       "20.0285714285714"
      ],
      "text/markdown": [
       "20.0285714285714"
      ],
      "text/plain": [
       "[1] 20.02857"
      ]
     },
     "metadata": {},
     "output_type": "display_data"
    }
   ],
   "source": [
    "##Средняя степень входящих узлов\n",
    "avg_deg_in <- igraph::degree(g_kf, mode = \"in\")\n",
    "mean(avg_deg_in)\n",
    "\n",
    "##Средняя степень исходящих узлов\n",
    "avg_deg_out <- igraph::degree(g_kf, mode = \"out\")\n",
    "mean(avg_deg_out)\n",
    "\n",
    "##Дисперсия степени входящих узлов\n",
    "#deg_variance_in <- sum((igraph::degree(g_kf) - avg_deg_in)^2)/gorder(g_kf)\n",
    "deg_variance_in <- var(avg_deg_in)\n",
    "deg_variance_in\n",
    "\n",
    "##Дисперсия степени исходящих узлов\n",
    "deg_variance_out <- var(avg_deg_out)\n",
    "deg_variance_out"
   ]
  },
  {
   "cell_type": "markdown",
   "metadata": {},
   "source": [
    "13. Заполним таблицу для различных мер престижа."
   ]
  },
  {
   "cell_type": "code",
   "execution_count": 22,
   "metadata": {},
   "outputs": [
    {
     "data": {
      "text/html": [
       "<table class=\"dataframe\">\n",
       "<caption>A data.frame: 21 × 2</caption>\n",
       "<thead>\n",
       "\t<tr><th></th><th scope=col>Pd</th><th scope=col>Pp</th></tr>\n",
       "\t<tr><th></th><th scope=col>&lt;dbl&gt;</th><th scope=col>&lt;dbl&gt;</th></tr>\n",
       "</thead>\n",
       "<tbody>\n",
       "\t<tr><th scope=row>V1</th><td>0.40</td><td>0.6446429</td></tr>\n",
       "\t<tr><th scope=row>V2</th><td>0.50</td><td>0.6685185</td></tr>\n",
       "\t<tr><th scope=row>V3</th><td>0.25</td><td>0.4750000</td></tr>\n",
       "\t<tr><th scope=row>V4</th><td>0.25</td><td>0.5308824</td></tr>\n",
       "\t<tr><th scope=row>V5</th><td>0.30</td><td>0.4878378</td></tr>\n",
       "\t<tr><th scope=row>V6</th><td>0.10</td><td>0.4011111</td></tr>\n",
       "\t<tr><th scope=row>V7</th><td>0.15</td><td>0.4011111</td></tr>\n",
       "\t<tr><th scope=row>V8</th><td>0.25</td><td>0.5308824</td></tr>\n",
       "\t<tr><th scope=row>V9</th><td>0.30</td><td>0.4512500</td></tr>\n",
       "\t<tr><th scope=row>V10</th><td>0.05</td><td>0.3610000</td></tr>\n",
       "\t<tr><th scope=row>V11</th><td>0.30</td><td>0.4878378</td></tr>\n",
       "\t<tr><th scope=row>V12</th><td>0.40</td><td>0.6016667</td></tr>\n",
       "\t<tr><th scope=row>V13</th><td>0.05</td><td>0.3342593</td></tr>\n",
       "\t<tr><th scope=row>V14</th><td>0.25</td><td>0.4628205</td></tr>\n",
       "\t<tr><th scope=row>V15</th><td>0.20</td><td>0.4512500</td></tr>\n",
       "\t<tr><th scope=row>V16</th><td>0.20</td><td>0.4878378</td></tr>\n",
       "\t<tr><th scope=row>V17</th><td>0.30</td><td>0.5308824</td></tr>\n",
       "\t<tr><th scope=row>V18</th><td>0.20</td><td>0.5157143</td></tr>\n",
       "\t<tr><th scope=row>V19</th><td>0.25</td><td>0.4750000</td></tr>\n",
       "\t<tr><th scope=row>V20</th><td>0.15</td><td>0.4297619</td></tr>\n",
       "\t<tr><th scope=row>V21</th><td>0.25</td><td>0.5157143</td></tr>\n",
       "</tbody>\n",
       "</table>\n"
      ],
      "text/latex": [
       "A data.frame: 21 × 2\n",
       "\\begin{tabular}{r|ll}\n",
       "  & Pd & Pp\\\\\n",
       "  & <dbl> & <dbl>\\\\\n",
       "\\hline\n",
       "\tV1 & 0.40 & 0.6446429\\\\\n",
       "\tV2 & 0.50 & 0.6685185\\\\\n",
       "\tV3 & 0.25 & 0.4750000\\\\\n",
       "\tV4 & 0.25 & 0.5308824\\\\\n",
       "\tV5 & 0.30 & 0.4878378\\\\\n",
       "\tV6 & 0.10 & 0.4011111\\\\\n",
       "\tV7 & 0.15 & 0.4011111\\\\\n",
       "\tV8 & 0.25 & 0.5308824\\\\\n",
       "\tV9 & 0.30 & 0.4512500\\\\\n",
       "\tV10 & 0.05 & 0.3610000\\\\\n",
       "\tV11 & 0.30 & 0.4878378\\\\\n",
       "\tV12 & 0.40 & 0.6016667\\\\\n",
       "\tV13 & 0.05 & 0.3342593\\\\\n",
       "\tV14 & 0.25 & 0.4628205\\\\\n",
       "\tV15 & 0.20 & 0.4512500\\\\\n",
       "\tV16 & 0.20 & 0.4878378\\\\\n",
       "\tV17 & 0.30 & 0.5308824\\\\\n",
       "\tV18 & 0.20 & 0.5157143\\\\\n",
       "\tV19 & 0.25 & 0.4750000\\\\\n",
       "\tV20 & 0.15 & 0.4297619\\\\\n",
       "\tV21 & 0.25 & 0.5157143\\\\\n",
       "\\end{tabular}\n"
      ],
      "text/markdown": [
       "\n",
       "A data.frame: 21 × 2\n",
       "\n",
       "| <!--/--> | Pd &lt;dbl&gt; | Pp &lt;dbl&gt; |\n",
       "|---|---|---|\n",
       "| V1 | 0.40 | 0.6446429 |\n",
       "| V2 | 0.50 | 0.6685185 |\n",
       "| V3 | 0.25 | 0.4750000 |\n",
       "| V4 | 0.25 | 0.5308824 |\n",
       "| V5 | 0.30 | 0.4878378 |\n",
       "| V6 | 0.10 | 0.4011111 |\n",
       "| V7 | 0.15 | 0.4011111 |\n",
       "| V8 | 0.25 | 0.5308824 |\n",
       "| V9 | 0.30 | 0.4512500 |\n",
       "| V10 | 0.05 | 0.3610000 |\n",
       "| V11 | 0.30 | 0.4878378 |\n",
       "| V12 | 0.40 | 0.6016667 |\n",
       "| V13 | 0.05 | 0.3342593 |\n",
       "| V14 | 0.25 | 0.4628205 |\n",
       "| V15 | 0.20 | 0.4512500 |\n",
       "| V16 | 0.20 | 0.4878378 |\n",
       "| V17 | 0.30 | 0.5308824 |\n",
       "| V18 | 0.20 | 0.5157143 |\n",
       "| V19 | 0.25 | 0.4750000 |\n",
       "| V20 | 0.15 | 0.4297619 |\n",
       "| V21 | 0.25 | 0.5157143 |\n",
       "\n"
      ],
      "text/plain": [
       "    Pd   Pp       \n",
       "V1  0.40 0.6446429\n",
       "V2  0.50 0.6685185\n",
       "V3  0.25 0.4750000\n",
       "V4  0.25 0.5308824\n",
       "V5  0.30 0.4878378\n",
       "V6  0.10 0.4011111\n",
       "V7  0.15 0.4011111\n",
       "V8  0.25 0.5308824\n",
       "V9  0.30 0.4512500\n",
       "V10 0.05 0.3610000\n",
       "V11 0.30 0.4878378\n",
       "V12 0.40 0.6016667\n",
       "V13 0.05 0.3342593\n",
       "V14 0.25 0.4628205\n",
       "V15 0.20 0.4512500\n",
       "V16 0.20 0.4878378\n",
       "V17 0.30 0.5308824\n",
       "V18 0.20 0.5157143\n",
       "V19 0.25 0.4750000\n",
       "V20 0.15 0.4297619\n",
       "V21 0.25 0.5157143"
      ]
     },
     "metadata": {},
     "output_type": "display_data"
    }
   ],
   "source": [
    "##Престиж по степени\n",
    "deg_prestige <- prestige(kf_net, cmode = \"indegree\")\n",
    "deg_prestige <- deg_prestige/(gorder(g_kf) - 1)\n",
    "\n",
    "##Престиж по информации\n",
    "#Находим геодезические расстояния\n",
    "geo <- geodist(kf_net)$gdist\n",
    "colnames(geo) <- colnames(kf)\n",
    "\n",
    "#Удаляем все строки, обозначающие вершины без исходящих связей, т. е. имеющие значение Inf\n",
    "geo <- geo[!is.infinite(rowSums(geo)), ]\n",
    "\n",
    "I_i <- nrow(geo)\n",
    "clos_prestige <- (I_i/(gorder(g_kf) - 1))/(colSums(geo)/I_i)\n",
    "\n",
    "prestige_df <- data.frame(Pd = deg_prestige,\n",
    "                          Pp = clos_prestige)\n",
    "prestige_df"
   ]
  },
  {
   "cell_type": "markdown",
   "metadata": {},
   "source": [
    "Наибольшим числом входящих связей характеризуется V2, что видно из значений престижа для данного актора. Другими словами, больше всего менеджеров дружит со вторым менеджером."
   ]
  },
  {
   "cell_type": "markdown",
   "metadata": {},
   "source": [
    "## Выводы\n",
    "\n",
    "В ходе данной работы были получены навыки работы с математическими пакетами для моделирования, визуализации и анализа социальных сетей. Был написан код на языке R использованием библиотек igraph, statnet, а также разрешены конфликты именования функций этих двух пакетов путём явного указания области имён использованных функций. "
   ]
  }
 ],
 "metadata": {
  "kernelspec": {
   "display_name": "R",
   "language": "R",
   "name": "ir"
  },
  "language_info": {
   "codemirror_mode": "r",
   "file_extension": ".r",
   "mimetype": "text/x-r-source",
   "name": "R",
   "pygments_lexer": "r",
   "version": "4.2.1"
  }
 },
 "nbformat": 4,
 "nbformat_minor": 4
}
