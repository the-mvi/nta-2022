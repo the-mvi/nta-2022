{
 "cells": [
  {
   "cell_type": "markdown",
   "metadata": {},
   "source": [
    "# Практическая работа №3: Статистический анализ социальных сетей\n",
    "Выполнила студентка гр. 0383 Куртова Карина. Вариант №57"
   ]
  },
  {
   "cell_type": "markdown",
   "metadata": {},
   "source": [
    "## Цель работы\n",
    "Овладеть навыками работы с математическими пакетами для статистического анализа социальных сетей."
   ]
  },
  {
   "cell_type": "markdown",
   "metadata": {},
   "source": [
    "## Основные теоретические положения\n",
    "\n",
    "**Диада** $-$ элемент сети, представляющий собой пару акторов и (возможную) связь между ними: $D_{ij}=(X_{ij}, X_{ji}), i\\neq j$.\n",
    "\n",
    "**Цензус диад** $-$ тройка чисел $M, A, N$, где:\n",
    "\n",
    "$M = \\sum_{i<j} X_{ij} X_{ji}$\n",
    "\n",
    "$A = X_{++} - 2M$\n",
    "\n",
    "$N = C^2_g - A - M$\n",
    "\n",
    "**Индекс взаимности Каца-Пауэлла** (Reciprocity of Katz and Powell) $-$ характеристика измерения тенденции акторов в группе. Данный индекс оценивает тенденцию акторов в группе к взаимному выбору друг друга. \n",
    "\n",
    "$-\\infty < \\rho_{кр} \\leqslant 1$.\n",
    "\n",
    "Если $\\rho_{кр} = 0$, то акторы не имеют склонности взаимно выбирать друг друга.\n",
    "\n",
    "Если $\\rho_{кр} = 1$, то акторы показывают максимальную тенденцию к взаимному выбору друг друга.\n",
    "\n",
    "Если $\\rho_{кр} < 0$, то акторы склонны образовывать односторонние связи или не образовывать их вообще.\n",
    "\n",
    "Индекс взаимности основан на ожидании количества взаимных диад, предполагая, что выбор делается акторами случайным образом. Выбор может быть фиксированным или свободным.\n",
    "\n",
    "Для фиксированного выбора из $d$ акторов:\n",
    "\n",
    "По методу моментов оценка $\\hat{\\rho}_{кр} = \\displaystyle{\\frac{2(g-1)M - gd^2}{gd(g - d - 1)}}$.\n",
    "\n",
    "Вероятность того, что связь будет взаимной для двух акторов:\n",
    "\n",
    "$\\displaystyle{P(i \\rightarrow j \\wedge j \\rightarrow i) = \\frac{d}{g - 1}\\left( \\frac{d}{g - 1} + \\rho_{кр} \\frac{g - 1 - d}{g - 1} \\right)}.$\n",
    "\n",
    "Для свободного выбора:\n",
    "\n",
    "По методу моментов оценка $\\hat{\\rho}_{кр} = \\displaystyle{\\frac{2(g-1)^2M - L^2 + L_2}{L(g - 1)^2 - L^2 - L_2}}$.\n",
    "\n",
    "Вероятность того, что связь будет взаимной для двух акторов (для каждого из акторов):\n",
    "\n",
    "$P = \\displaystyle{\\frac{x_{i+}x_{j+}}{(g - 1)^2}}.$\n",
    "\n",
    "**Индекс взаимности Бандиопадхьяйя** $-$ индекс, основанный на максимальной и минимальной значениях количества диад в сети. \n",
    "\n",
    "$\\rho_B = \\displaystyle{\\frac{M - M_{\\min}}{M_{\\max} - M_{\\min}}},$\n",
    "\n",
    "где $M_{\\min} = \\max f(t), 0 \\leqslant t \\leqslant g$, \n",
    "\n",
    "$M_{\\max} = \\lfloor 0.5 \\sum^g_{i = 1} x_{i+} - \\max g(t)\\rfloor, 0 \\leqslant t \\leqslant g,$\n",
    "\n",
    "$f(t) = \\sum^t_{i=1} x_{i+} - t(g - 1) - C^2_g,$\n",
    "\n",
    "$g(t) = \\sum^t_{i=1} x_{i+} - t(t - 1) - \\sum^g_{i=t+1} \\min (t, x_{i+}).$\n",
    "\n",
    "**Вычисление доверительного интервала для оценки P.**\n",
    "\n",
    "Оценка параметра $P$:\n",
    "\n",
    "$\\hat{P} = \\displaystyle{\\frac{\\sum_{i = 1}^g \\sum_{j = 1}^g x_{ij}}{g(g-1)} = \\frac{l}{g(g - 1)}}.$\n",
    "\n",
    "Доверительный интервал: $\\hat{P}_{lower} \\leqslant P \\leqslant \\hat{P}_{upper}$.\n",
    "\n",
    "$\\hat{P}_{lower} = \\displaystyle{\\hat{P} - z_{\\alpha/2} \\sqrt\\frac{\\hat{P}(1- \\hat{P})}{g(g-1)}}$\n",
    "\n",
    "$\\hat{P}_{lower} = \\displaystyle{\\hat{P} + z_{\\alpha/2} \\sqrt\\frac{\\hat{P}(1- \\hat{P})}{g(g-1)}}$\n",
    "\n",
    "$z_{\\alpha/2}$ вычисляется из $\\Phi(z_{\\alpha/2}) = 0.5 - 0.5 \\alpha$, где $\\alpha - $ некоторый уровень значимости, $(1 - \\alpha) - $ доверительная надёжность. "
   ]
  },
  {
   "cell_type": "markdown",
   "metadata": {},
   "source": [
    "## Постановка задачи\n",
    "С помощью математических пакетов и соответствующих библиотек провести статистический анализ случайно смоделированного ориентированного графа. Полученные результаты содержательно проинтерпретировать."
   ]
  },
  {
   "cell_type": "markdown",
   "metadata": {},
   "source": [
    "## Выполнение работы\n",
    "Перед началом работы загрузим все необходимые пакеты и обозначим используемые библиотеки."
   ]
  },
  {
   "cell_type": "code",
   "execution_count": null,
   "metadata": {},
   "outputs": [],
   "source": [
    "library(igraph)\n",
    "library(statnet)"
   ]
  },
  {
   "cell_type": "markdown",
   "metadata": {},
   "source": [
    "**Задание 1.** С помощью библиотеки igraph смоделировать случайный орграф $\\mathscr{G}_d$ на основе модели Эрдеша-Реньи: $\\mathscr{G}_d = \\mathscr{G}_d(g, p)$, где $g$ - количество акторов, $p$ - вероятность появления дуги между акторами. Входные данные для варианта №57 следующие: $g = 59, p = 0.76$."
   ]
  },
  {
   "cell_type": "code",
   "execution_count": null,
   "metadata": {},
   "outputs": [],
   "source": [
    "set.seed(1) #Для воспроизводимости примера\n",
    "\n",
    "g <- 59\n",
    "p <- 0.76\n",
    "graph <- erdos.renyi.game(g, p, \"gnp\", directed = T)\n",
    "net <- network(as_adjacency_matrix(graph), directed = T)"
   ]
  },
  {
   "cell_type": "markdown",
   "metadata": {},
   "source": [
    "В данном задании используется вариант $\\mathscr{G}(g, p)$, в которой граф строится путём случайного добавления рёбер. Вероятность построить граф с $g$ узлами и $M$ рёбрами равна:\n",
    "\n",
    "$p^M (1-p)^{C^2_n - M}$.\n",
    "\n",
    "По мере роста параметра $p$ от 0 к 1 модель включает с большей вероятностью графы с большим числом рёбер."
   ]
  },
  {
   "cell_type": "markdown",
   "metadata": {},
   "source": [
    "**Задание 2.** Отобразим полученный орграф."
   ]
  },
  {
   "cell_type": "code",
   "execution_count": 3,
   "metadata": {},
   "outputs": [
    {
     "data": {
      "image/png": "[encoded data removed]",
      "text/plain": [
       "Plot with title \"\""
      ]
     },
     "metadata": {
      "image/png": {
       "height": 420,
       "width": 420
      }
     },
     "output_type": "display_data"
    }
   ],
   "source": [
    "plot(graph, layout = layout_with_fr, \n",
    "     vertex.label = V(graph)$name,\n",
    "     vertex.size = 15, \n",
    "     edge.arrow.size=.5,\n",
    "     edge.arrow.color = \"grey\", \n",
    "     vertex.color= \"white\",\n",
    "     vertex.label.color = \"black\", \n",
    "     edge.color = \"grey\")"
   ]
  },
  {
   "cell_type": "markdown",
   "metadata": {},
   "source": [
    "Так как в данном примере значени $p$ достаточно большое, то количество рёбер в графе довольно велико. Для сравнения построим граф с намного меньшим значением $p$:"
   ]
  },
  {
   "cell_type": "code",
   "execution_count": 4,
   "metadata": {},
   "outputs": [
    {
     "data": {
      "image/png": "[encoded data removed]",
      "text/plain": [
       "Plot with title \"\""
      ]
     },
     "metadata": {
      "image/png": {
       "height": 420,
       "width": 420
      }
     },
     "output_type": "display_data"
    }
   ],
   "source": [
    "g_example <- erdos.renyi.game(g, 0.05, \"gnp\", directed = T)\n",
    "\n",
    "plot(g_example, layout = layout_with_fr, \n",
    "     vertex.label = V(g_example)$name,\n",
    "     vertex.size = 15, \n",
    "     edge.arrow.size=.5,\n",
    "     edge.arrow.color = \"grey\", \n",
    "     vertex.color= \"white\",\n",
    "     vertex.label.color = \"black\", \n",
    "     edge.color = \"grey\")"
   ]
  },
  {
   "cell_type": "markdown",
   "metadata": {},
   "source": [
    "Видим, что геренируется граф с намного меньшим количеством рёбер."
   ]
  },
  {
   "cell_type": "markdown",
   "metadata": {},
   "source": [
    "**Задание 3.** Вычислим пятичисловую сводку сети для данного графа."
   ]
  },
  {
   "cell_type": "code",
   "execution_count": 5,
   "metadata": {},
   "outputs": [
    {
     "name": "stdout",
     "output_type": "stream",
     "text": [
      "Размер сети:  59 \n",
      "Плотность сети:  0.7574518 \n",
      "Число компонент:  1 \n",
      "Диаметр сети:  2 \n",
      "Коэффициент кластеризации:  0.7557964 \n"
     ]
    }
   ],
   "source": [
    "##Пятичисловая сводка\n",
    "##Размер сети\n",
    "cat(\"Размер сети: \", network.size(net), \"\\n\")\n",
    "\n",
    "##Плотность\n",
    "cat(\"Плотность сети: \", gden(net), \"\\n\")\n",
    "\n",
    "##Компоненты\n",
    "cat(\"Число компонент: \", components(net), \"\\n\")\n",
    "\n",
    "##Диаметр сети\n",
    "cat(\"Диаметр сети: \", diameter(graph), \"\\n\")\n",
    "\n",
    "##Коэффициент кластеризации\n",
    "cat(\"Коэффициент кластеризации: \", gtrans(net, mode = \"graph\"), \"\\n\")"
   ]
  },
  {
   "cell_type": "markdown",
   "metadata": {},
   "source": [
    "Можно заметить, что плотность сети близка к значению $p = 0.76$."
   ]
  },
  {
   "cell_type": "markdown",
   "metadata": {},
   "source": [
    "**Задание 4.** Вычислим цензус диад для данной модели. "
   ]
  },
  {
   "cell_type": "code",
   "execution_count": 6,
   "metadata": {},
   "outputs": [
    {
     "data": {
      "text/html": [
       "<dl>\n",
       "\t<dt>$mut</dt>\n",
       "\t\t<dd>981</dd>\n",
       "\t<dt>$asym</dt>\n",
       "\t\t<dd>630</dd>\n",
       "\t<dt>$null</dt>\n",
       "\t\t<dd>100</dd>\n",
       "</dl>\n"
      ],
      "text/latex": [
       "\\begin{description}\n",
       "\\item[\\$mut] 981\n",
       "\\item[\\$asym] 630\n",
       "\\item[\\$null] 100\n",
       "\\end{description}\n"
      ],
      "text/markdown": [
       "$mut\n",
       ":   981\n",
       "$asym\n",
       ":   630\n",
       "$null\n",
       ":   100\n",
       "\n",
       "\n"
      ],
      "text/plain": [
       "$mut\n",
       "[1] 981\n",
       "\n",
       "$asym\n",
       "[1] 630\n",
       "\n",
       "$null\n",
       "[1] 100\n"
      ]
     },
     "metadata": {},
     "output_type": "display_data"
    }
   ],
   "source": [
    "census <- dyad_census(graph)\n",
    "census"
   ]
  },
  {
   "cell_type": "markdown",
   "metadata": {},
   "source": [
    "Вывод:\n",
    "\n",
    "Число взаимных диад (двунаправленных отношений) $M$ равно 981.\n",
    "\n",
    "Число ассиметричных диад (однонаправленных отношений) $A$ равно 630.\n",
    "\n",
    "Число пар акторов $N$, между которыми нет связи, равно 100."
   ]
  },
  {
   "cell_type": "markdown",
   "metadata": {},
   "source": [
    "**Задание 5.** Вычислим оценку индекса взаимности Каца-Пауэла при фиксированом количестве выборов 𝑑.\n",
    "\n",
    "Положим $d = 40$. Каждый актор делает выбор из $(g - 1) = 58$ акторов."
   ]
  },
  {
   "cell_type": "code",
   "execution_count": 7,
   "metadata": {},
   "outputs": [
    {
     "data": {
      "text/html": [
       "0.456591337099812"
      ],
      "text/latex": [
       "0.456591337099812"
      ],
      "text/markdown": [
       "0.456591337099812"
      ],
      "text/plain": [
       "[1] 0.4565913"
      ]
     },
     "metadata": {},
     "output_type": "display_data"
    }
   ],
   "source": [
    "d <- 40\n",
    "M <- census$mut\n",
    "rho1 <- (2*(g-1)*M - g * d^2)/(g*d*(g - 1 - d))\n",
    "rho1"
   ]
  },
  {
   "cell_type": "markdown",
   "metadata": {},
   "source": [
    "Видим, что при фиксированном выборе акторы более склонны образовывать взаимные связи. "
   ]
  },
  {
   "cell_type": "markdown",
   "metadata": {},
   "source": [
    "Вычислим оценку при свободном выборе."
   ]
  },
  {
   "cell_type": "code",
   "execution_count": 17,
   "metadata": {},
   "outputs": [
    {
     "data": {
      "text/html": [
       "-0.00180382547137703"
      ],
      "text/latex": [
       "-0.00180382547137703"
      ],
      "text/markdown": [
       "-0.00180382547137703"
      ],
      "text/plain": [
       "[1] -0.001803825"
      ]
     },
     "metadata": {},
     "output_type": "display_data"
    }
   ],
   "source": [
    "adj_matrix <- as.matrix(as_adjacency_matrix(graph))\n",
    "L <- sum(rowSums(adj_matrix))\n",
    "L2 <- sum(rowSums(adj_matrix)^2)\n",
    "\n",
    "rho2 <- (2*(g - 1)^2 * M - L^2 + L2)/(L*(g - 1)^2 - L^2 + L2)\n",
    "rho2"
   ]
  },
  {
   "cell_type": "markdown",
   "metadata": {},
   "source": [
    "Видим, что при свободном выборе акторы склонны образовывать односторонние связи или не образовывать их вообще."
   ]
  },
  {
   "cell_type": "markdown",
   "metadata": {},
   "source": [
    "**Задание 6.** Вычислим вероятность того, что связь будет взаимной для каждого случая."
   ]
  },
  {
   "cell_type": "code",
   "execution_count": 9,
   "metadata": {},
   "outputs": [
    {
     "data": {
      "text/html": [
       "0.573348918760959"
      ],
      "text/latex": [
       "0.573348918760959"
      ],
      "text/markdown": [
       "0.573348918760959"
      ],
      "text/plain": [
       "[1] 0.5733489"
      ]
     },
     "metadata": {},
     "output_type": "display_data"
    }
   ],
   "source": [
    "#Вероятность для фиксированного выбора\n",
    "P_fix <- (d / (g-1)) * ((d/(g-1)) + rho1*(g - 1 - d) / (g - 1))\n",
    "P_fix"
   ]
  },
  {
   "cell_type": "code",
   "execution_count": 10,
   "metadata": {},
   "outputs": [
    {
     "data": {
      "text/html": [
       "0.573797335698019"
      ],
      "text/latex": [
       "0.573797335698019"
      ],
      "text/markdown": [
       "0.573797335698019"
      ],
      "text/plain": [
       "[1] 0.5737973"
      ]
     },
     "metadata": {},
     "output_type": "display_data"
    }
   ],
   "source": [
    "#Вероятность для свободного выбора\n",
    "P_free <- (rowSums(adj_matrix) * colSums(adj_matrix))/(g - 1)^2\n",
    "P_free_avg <- sum(P_free)/g\n",
    "P_free_avg"
   ]
  },
  {
   "cell_type": "markdown",
   "metadata": {},
   "source": [
    "**Задание 7.** Вычислим индекс взаимности Бандиопадхьяйя."
   ]
  },
  {
   "cell_type": "code",
   "execution_count": 11,
   "metadata": {},
   "outputs": [
    {
     "data": {
      "text/html": [
       "0.757739938080495"
      ],
      "text/latex": [
       "0.757739938080495"
      ],
      "text/markdown": [
       "0.757739938080495"
      ],
      "text/plain": [
       "[1] 0.7577399"
      ]
     },
     "metadata": {},
     "output_type": "display_data"
    }
   ],
   "source": [
    "g_func <- function(row_sum, g, t) {\n",
    "    xi_sum <- sum(row_sum[1:t])\n",
    "    min_sum <- 0   \n",
    "    for (i in (t+1):g) {\n",
    "        min_sum <- min_sum + min(c(t, row_sum[i]))\n",
    "    }\n",
    "    res <- xi_sum - t*(t-1) - min_sum\n",
    "    return(res)\n",
    "}\n",
    "\n",
    "f_func <- function(row_sum, g, t) {\n",
    "    xi_sum <- sum(row_sum[1:t])\n",
    "    combination <- factorial(t)/(factorial(2) * factorial(t-2))\n",
    "    res <- xi_sum - t*(g-1) - combination \n",
    "    return(res)\n",
    "}\n",
    "\n",
    "row_sum <- rowSums(adj_matrix)\n",
    "\n",
    "g_res <- rep(2, g - 1)\n",
    "for (t in 2:(g-1)) {\n",
    "    g_res[t] <- g_func(row_sum, g, t)\n",
    "}\n",
    "\n",
    "f_res <- rep(2, g)\n",
    "for (t in 2:g) {\n",
    "    f_res[t] <- f_func(row_sum, g, t)\n",
    "}\n",
    "\n",
    "M_max <- floor(0.5 * sum(row_sum[1:g]) - max(g_res))\n",
    "M_min <- max(f_res)\n",
    "\n",
    "B_index <- (M - M_min)/(M_max - M_min)\n",
    "B_index"
   ]
  },
  {
   "cell_type": "markdown",
   "metadata": {},
   "source": [
    "Видим, что полуенный индекс примерно равен $p = 0.76$. "
   ]
  },
  {
   "cell_type": "markdown",
   "metadata": {},
   "source": [
    "**Задание 8.** Проверим нулевую гипотезу о том, что число дуг $L$ в орграфе $\\mathscr{G}_d$ имеет биномиальное распределение $L ∼ Bin(g(g − 1), \\frac{1}{2})$ при уровне значимости $\\alpha = 0.02$. Определим максимальный уровень значимости, при котором нулевая гипотеза не отвергается."
   ]
  },
  {
   "cell_type": "code",
   "execution_count": 12,
   "metadata": {},
   "outputs": [
    {
     "data": {
      "text/plain": [
       "\n",
       "\tExact binomial test\n",
       "\n",
       "data:  l and g * (g - 1)\n",
       "number of successes = 2592, number of trials = 3422, p-value < 2.2e-16\n",
       "alternative hypothesis: true probability of success is not equal to 0.5\n",
       "95 percent confidence interval:\n",
       " 0.7427283 0.7717341\n",
       "sample estimates:\n",
       "probability of success \n",
       "             0.7574518 \n"
      ]
     },
     "metadata": {},
     "output_type": "display_data"
    }
   ],
   "source": [
    "alpha <- 0.02\n",
    "l <- sum(adj_matrix)\n",
    "binom.test(l, g*(g-1), p = 0.5)"
   ]
  },
  {
   "cell_type": "markdown",
   "metadata": {},
   "source": [
    "Видим, что p-value много меньше $\\alpha$. Значит, нулевая гипотеза не выполняется, и вероятность \"успеха\" (построения ребра между любыми двумя акторами) $p$ не равна 0.5. p-value является максимальным уровнем значимости, при котором гипотеза не отвергается. В данном случае этот уровень значимости очень мал: p-value $< 2.2 \\cdot 10^{-16}$."
   ]
  },
  {
   "cell_type": "markdown",
   "metadata": {},
   "source": [
    "**Задание 9.** Проверим нулевую гипотезу о том, что число дуг $L$ в орграфе $\\mathscr{G}_d$ имеет биномиальное распределение $L ∼ Bin(g(g−1), 𝑃_0), P_0 = 0.77$ при уровне значимости $\\alpha = 0.02$. Определим максимальный уровень значимости, при котором нулевая гипотеза не отвергается."
   ]
  },
  {
   "cell_type": "code",
   "execution_count": 13,
   "metadata": {},
   "outputs": [
    {
     "data": {
      "text/plain": [
       "\n",
       "\tExact binomial test\n",
       "\n",
       "data:  l and g * (g - 1)\n",
       "number of successes = 2592, number of trials = 3422, p-value = 0.08424\n",
       "alternative hypothesis: true probability of success is not equal to 0.77\n",
       "95 percent confidence interval:\n",
       " 0.7427283 0.7717341\n",
       "sample estimates:\n",
       "probability of success \n",
       "             0.7574518 \n"
      ]
     },
     "metadata": {},
     "output_type": "display_data"
    }
   ],
   "source": [
    "P0 <- 0.77\n",
    "binom.test(l, g*(g-1), p = P0)"
   ]
  },
  {
   "cell_type": "markdown",
   "metadata": {},
   "source": [
    "Видим, что p-value > $\\alpha$. Значит, нулевая гипотеза выполняется. Действительно, для построения графа представленной модели положили $p = 0.76 \\cong 0.77$. Максимальный уровень значимости, при котором гиптеза не отвергается: p-value = 0.08424."
   ]
  },
  {
   "cell_type": "markdown",
   "metadata": {},
   "source": [
    "**Задание 10.** Построим доверительный интервал для оценки параметра $p$ с доверительной надёжностью $(1 - \\alpha)$."
   ]
  },
  {
   "cell_type": "code",
   "execution_count": 14,
   "metadata": {},
   "outputs": [
    {
     "data": {
      "text/html": [
       "0.757451782583285"
      ],
      "text/latex": [
       "0.757451782583285"
      ],
      "text/markdown": [
       "0.757451782583285"
      ],
      "text/plain": [
       "[1] 0.7574518"
      ]
     },
     "metadata": {},
     "output_type": "display_data"
    }
   ],
   "source": [
    "#Оценка параметра p\n",
    "p_est <- (sum(adj_matrix))/(g*(g-1))\n",
    "p_est"
   ]
  },
  {
   "cell_type": "markdown",
   "metadata": {},
   "source": [
    "Найдём $z_{\\alpha/2}$. Для этого посчитаем значение функции Лапласа:"
   ]
  },
  {
   "cell_type": "code",
   "execution_count": 15,
   "metadata": {},
   "outputs": [
    {
     "data": {
      "text/html": [
       "0.49"
      ],
      "text/latex": [
       "0.49"
      ],
      "text/markdown": [
       "0.49"
      ],
      "text/plain": [
       "[1] 0.49"
      ]
     },
     "metadata": {},
     "output_type": "display_data"
    }
   ],
   "source": [
    "laplace <- 0.5 - (alpha/2)\n",
    "laplace"
   ]
  },
  {
   "cell_type": "markdown",
   "metadata": {},
   "source": [
    "Воспользуемся таблицей значений функции Лапласа и получим $z_{\\alpha/2} \\approx 2.34$."
   ]
  },
  {
   "cell_type": "code",
   "execution_count": 16,
   "metadata": {},
   "outputs": [
    {
     "data": {
      "text/html": [
       "0.740306194158672"
      ],
      "text/latex": [
       "0.740306194158672"
      ],
      "text/markdown": [
       "0.740306194158672"
      ],
      "text/plain": [
       "[1] 0.7403062"
      ]
     },
     "metadata": {},
     "output_type": "display_data"
    },
    {
     "data": {
      "text/html": [
       "0.774597371007897"
      ],
      "text/latex": [
       "0.774597371007897"
      ],
      "text/markdown": [
       "0.774597371007897"
      ],
      "text/plain": [
       "[1] 0.7745974"
      ]
     },
     "metadata": {},
     "output_type": "display_data"
    }
   ],
   "source": [
    "z_a <- 2.34\n",
    "\n",
    "#Доверительный интервал\n",
    "p_lower <- p_est - z_a * sqrt((p_est * (1 - p_est))/(g * (g - 1)))\n",
    "p_upper <- p_est + z_a * sqrt((p_est * (1 - p_est))/(g * (g - 1)))                      \n",
    "p_lower\n",
    "p_upper"
   ]
  },
  {
   "cell_type": "markdown",
   "metadata": {},
   "source": [
    "Получаем доверительный интервал $0.74 \\leqslant p \\leqslant 0.77$. Зная, что $p = 0.76$, можем сделать вывод, что доверительный интервал вычислен верно с доверительной надёжностью $(1 - \\alpha)$."
   ]
  },
  {
   "cell_type": "markdown",
   "metadata": {},
   "source": [
    "## Выводы\n",
    "\n",
    "В ходе данной практической работы провели статистический анализ случайно смоделированного ориентированного графа с использованием библиотек igraph,  statnet и встроенных функций языка R. Проверена корректность посчитанных значений - большинство из них примерно равно входному значению $p$. Главной сложностью данной работы было то, что некоторые трудоёмкие для подсчёта значения (например, индекс взаимности Бандиопадхьяйя), не реализованы в представленных библиотеках. "
   ]
  }
 ],
 "metadata": {
  "kernelspec": {
   "display_name": "R",
   "language": "R",
   "name": "ir"
  },
  "language_info": {
   "codemirror_mode": "r",
   "file_extension": ".r",
   "mimetype": "text/x-r-source",
   "name": "R",
   "pygments_lexer": "r",
   "version": "4.2.1"
  }
 },
 "nbformat": 4,
 "nbformat_minor": 4
}
