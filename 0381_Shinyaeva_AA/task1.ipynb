{
 "cells": [
  {
   "cell_type": "markdown",
   "metadata": {},
   "source": [
    "# Практическая работа №1: Основы анализа и моделирования социальных сетей\n",
    "Выполнила студентка гр. 0381 Шиняева Анастасия. Вариант №23"
   ]
  },
  {
   "cell_type": "markdown",
   "metadata": {},
   "source": [
    "## Цель работы\n",
    "Овладеть навыками работы с математическими пакетами для моделирования, визуализации и анализа социальных сетей."
   ]
  },
  {
   "cell_type": "markdown",
   "metadata": {},
   "source": [
    "## Основные теоретические положения\n",
    "**Сеть** - объект, представляющий собой совокупность конечного набора акторов и их отношения, определенного на них.\n",
    "\n",
    "**Актор** - дискретная индивидуальная корпоративная единица.\n",
    "\n",
    "**Размер сети** - количество акторов в сети.\n",
    "\n",
    "**Социоматрица** - матрица **X** размерности g×g, описывающая смежные узлы в сети:<br>\n",
    "$$ X = \\{x_{ij; r}\\} i, j = 1, ..., g,$$ где g - количество акторов. <br>\n",
    "\n",
    "**Плотность сети** - доля имеющихся связей по отношению к максимально возможному количеству связей в сети с таким же количеством акторов.\n",
    "\n",
    "<em>Плотность для ориентированной сети:</em> $$\\Delta = \\frac{L}{A_g^2}$$ <br>\n",
    "<em>Плотность для неориентированной сети:</em> $$\\Delta = \\frac{L}{C_g^2}$$ <br>\n",
    "\n",
    "**Компонента сети** - подгруппа, в которой все акторы связаны друг с другом прямо или косвенно.\n",
    "\n",
    "**Диаметр полной сети** - наибольшая длина любого из кратчайших путей между всеми парами узлов.\n",
    "\n",
    "**Степень узла** - число прямых, инцидентных данному узлу. \n",
    "\n",
    "**Дисперсия степеней узлов:**\n",
    "$$S_{D}^{2}=\\frac{1}{g}\\sum_{i=1}^{g} (d(n_i) - \\overline{d})^2$$\n",
    "\n",
    "**Средняя степень узлов:**\n",
    "$$\\overline{d}=\\frac{1}{g}\\sum_{i=1}^{g} d(n_i)$$\n",
    "\n",
    "**Центральность** - мера, характеризующая акторы с большим количеством связей (прямых или косвенных).<br>\n",
    "<em>Центральность по степени:</em> $$C_D^{'}(n_i) =\\frac{d(n_i)}{g-1}$$<br>\n",
    "<em>Центральность по близости:</em> $$C_C^{'}(n_i)=(g-1)(\\sum_{i=1}^gd(n_i,n_j))^{-1}$$<br>\n",
    "<em>Центральность по посредничеству:</em> $$C_B(n_i)=\\sum_{i<k}g_{ik}(n_i)/g_{jk}$$<br>\n",
    "\n",
    "**Индекс централизации**:\n",
    "$$C_{A}=\\frac{\\sum_{i=1}^{g}[C_{A}(n^{*} - C_{A}(n_{i}]}{max \\sum_{i=1}^{g}[C_{A}(n^{*} - C_{A}(N_{i}]}$$\n",
    "\n",
    "**Нормированная центральность по степени**:\n",
    "$$C'_{D}(n_{i})=\\frac{d(n_{i})}{g-1}$$\n",
    "\n",
    "**Централизация** - мера, характеризующая равномерную распределенность центральности акторов в сети.<br>\n",
    "\n",
    "<em>Централизация по степени:</em> $$C_{D}=\\frac{\\sum_{i=1}^{g}[C_{D}(n^{*} - C_{D}(n_{i}]}{(g-1)(g-2)}$$<br>\n",
    "<em>Централизация по близости:</em>$$C_{C}=\\frac{\\sum_{i=1}^{g}[C_{C}'(n^{*}) - C_{C}'(n_{i})]}{(g-1)(g-2)/(2g-3)}$$<br>\n",
    "<em>Централизация по посредничеству:</em>$$C_{B}=\\frac{\\sum_{i=1}^{g}[C_{B}'(n^{*} - C_{B}'(n_{i}]}{(g-1)}$$<br>\n",
    "<em>Централизация по информации:</em>$$S_{I}^2=\\frac{1}{g}\\sum_{i=1}{g}(C_{I}^{`}(n_{i})-\\overline{C_{I}})^2$$<br>\n",
    "\n",
    "**Мост** - ребро, при удалении которого одна компонента связности разделяется на 2.<br>\n",
    "**Престиж** - мера, характеризующая фактора с большим количеством входящих связей.<br>"
   ]
  },
  {
   "cell_type": "markdown",
   "metadata": {},
   "source": [
    "## Постановка задачи\n",
    "С помощью математических пакетов и соответствующих библиотек провести анализ заданных социальных сетей вычислить описательные характеристики. Полученные результаты содержательно проинтерпретировать."
   ]
  },
  {
   "cell_type": "markdown",
   "metadata": {},
   "source": [
    "## Выполнение работы\n",
    "Язык программирования – R.\n",
    "Нечетный вариант."
   ]
  },
  {
   "cell_type": "code",
   "execution_count": 1,
   "metadata": {},
   "outputs": [
    {
     "name": "stderr",
     "output_type": "stream",
     "text": [
      "Устанавливаю пакет в 'C:/Users/Anastasiya/AppData/Local/R/win-library/4.2'\n",
      "(потому что 'lib' не определено)\n",
      "\n"
     ]
    },
    {
     "name": "stdout",
     "output_type": "stream",
     "text": [
      "пакет 'sna' успешно распакован, MD5-суммы проверены\n",
      "\n",
      "Скачанные бинарные пакеты находятся в\n",
      "\tC:\\Users\\Anastasiya\\AppData\\Local\\Temp\\RtmpUVac6U\\downloaded_packages\n"
     ]
    },
    {
     "name": "stderr",
     "output_type": "stream",
     "text": [
      "Устанавливаю пакет в 'C:/Users/Anastasiya/AppData/Local/R/win-library/4.2'\n",
      "(потому что 'lib' не определено)\n",
      "\n"
     ]
    },
    {
     "name": "stdout",
     "output_type": "stream",
     "text": [
      "пакет 'network' успешно распакован, MD5-суммы проверены\n",
      "\n",
      "Скачанные бинарные пакеты находятся в\n",
      "\tC:\\Users\\Anastasiya\\AppData\\Local\\Temp\\RtmpUVac6U\\downloaded_packages\n"
     ]
    },
    {
     "name": "stderr",
     "output_type": "stream",
     "text": [
      "Устанавливаю пакет в 'C:/Users/Anastasiya/AppData/Local/R/win-library/4.2'\n",
      "(потому что 'lib' не определено)\n",
      "\n"
     ]
    },
    {
     "name": "stdout",
     "output_type": "stream",
     "text": [
      "пакет 'igraph' успешно распакован, MD5-суммы проверены\n",
      "\n",
      "Скачанные бинарные пакеты находятся в\n",
      "\tC:\\Users\\Anastasiya\\AppData\\Local\\Temp\\RtmpUVac6U\\downloaded_packages\n"
     ]
    },
    {
     "name": "stderr",
     "output_type": "stream",
     "text": [
      "\n",
      "'network' 1.18.0 (2022-10-05), part of the Statnet Project\n",
      "* 'news(package=\"network\")' for changes since last version\n",
      "* 'citation(\"network\")' for citation information\n",
      "* 'https://statnet.org' for help, support, and other information\n",
      "\n",
      "\n",
      "\n",
      "Присоединяю пакет: 'igraph'\n",
      "\n",
      "\n",
      "Следующие объекты скрыты от 'package:network':\n",
      "\n",
      "    %c%, %s%, add.edges, add.vertices, delete.edges, delete.vertices,\n",
      "    get.edge.attribute, get.edges, get.vertex.attribute, is.bipartite,\n",
      "    is.directed, list.edge.attributes, list.vertex.attributes,\n",
      "    set.edge.attribute, set.vertex.attribute\n",
      "\n",
      "\n",
      "Следующие объекты скрыты от 'package:stats':\n",
      "\n",
      "    decompose, spectrum\n",
      "\n",
      "\n",
      "Следующий объект скрыт от 'package:base':\n",
      "\n",
      "    union\n",
      "\n",
      "\n",
      "Загрузка требуемого пакета: statnet.common\n",
      "\n",
      "\n",
      "Присоединяю пакет: 'statnet.common'\n",
      "\n",
      "\n",
      "Следующие объекты скрыты от 'package:base':\n",
      "\n",
      "    attr, order\n",
      "\n",
      "\n",
      "sna: Tools for Social Network Analysis\n",
      "Version 2.7 created on 2022-05-09.\n",
      "copyright (c) 2005, Carter T. Butts, University of California-Irvine\n",
      " For citation information, type citation(\"sna\").\n",
      " Type help(package=\"sna\") to get started.\n",
      "\n",
      "\n",
      "\n",
      "Присоединяю пакет: 'sna'\n",
      "\n",
      "\n",
      "Следующие объекты скрыты от 'package:igraph':\n",
      "\n",
      "    betweenness, bonpow, closeness, components, degree, dyad.census,\n",
      "    evcent, hierarchy, is.connected, neighborhood, triad.census\n",
      "\n",
      "\n"
     ]
    }
   ],
   "source": [
    "install.packages('sna')\n",
    "install.packages('network')\n",
    "install.packages('igraph')\n",
    "library(network)\n",
    "library(igraph)\n",
    "library(sna)"
   ]
  },
  {
   "cell_type": "markdown",
   "metadata": {},
   "source": [
    "№1. Извлечение социоматрицы в виде таблицы."
   ]
  },
  {
   "cell_type": "code",
   "execution_count": 2,
   "metadata": {
    "vscode": {
     "languageId": "r"
    }
   },
   "outputs": [
    {
     "data": {
      "text/html": [
       "<table class=\"dataframe\">\n",
       "<caption>A matrix: 16 × 16 of type int</caption>\n",
       "<thead>\n",
       "\t<tr><th></th><th scope=col>Acciaiuoli</th><th scope=col>Albizzi</th><th scope=col>Barbadori</th><th scope=col>Bischeri</th><th scope=col>Castellani</th><th scope=col>Ginori</th><th scope=col>Guadagni</th><th scope=col>Lamberteschi</th><th scope=col>Medici</th><th scope=col>Pazzi</th><th scope=col>Peruzzi</th><th scope=col>Pucci</th><th scope=col>Ridolfi</th><th scope=col>Salviati</th><th scope=col>Strozzi</th><th scope=col>Tornabuoni</th></tr>\n",
       "</thead>\n",
       "<tbody>\n",
       "\t<tr><th scope=row>Acciaiuoli</th><td>0</td><td>0</td><td>0</td><td>0</td><td>0</td><td>0</td><td>0</td><td>0</td><td>0</td><td>0</td><td>0</td><td>0</td><td>0</td><td>0</td><td>0</td><td>0</td></tr>\n",
       "\t<tr><th scope=row>Albizzi</th><td>0</td><td>0</td><td>0</td><td>0</td><td>0</td><td>0</td><td>0</td><td>0</td><td>0</td><td>0</td><td>0</td><td>0</td><td>0</td><td>0</td><td>0</td><td>0</td></tr>\n",
       "\t<tr><th scope=row>Barbadori</th><td>0</td><td>0</td><td>0</td><td>0</td><td>1</td><td>1</td><td>0</td><td>0</td><td>1</td><td>0</td><td>1</td><td>0</td><td>0</td><td>0</td><td>0</td><td>0</td></tr>\n",
       "\t<tr><th scope=row>Bischeri</th><td>0</td><td>0</td><td>0</td><td>0</td><td>0</td><td>0</td><td>1</td><td>1</td><td>0</td><td>0</td><td>1</td><td>0</td><td>0</td><td>0</td><td>0</td><td>0</td></tr>\n",
       "\t<tr><th scope=row>Castellani</th><td>0</td><td>0</td><td>1</td><td>0</td><td>0</td><td>0</td><td>0</td><td>1</td><td>0</td><td>0</td><td>1</td><td>0</td><td>0</td><td>0</td><td>0</td><td>0</td></tr>\n",
       "\t<tr><th scope=row>Ginori</th><td>0</td><td>0</td><td>1</td><td>0</td><td>0</td><td>0</td><td>0</td><td>0</td><td>1</td><td>0</td><td>0</td><td>0</td><td>0</td><td>0</td><td>0</td><td>0</td></tr>\n",
       "\t<tr><th scope=row>Guadagni</th><td>0</td><td>0</td><td>0</td><td>1</td><td>0</td><td>0</td><td>0</td><td>1</td><td>0</td><td>0</td><td>0</td><td>0</td><td>0</td><td>0</td><td>0</td><td>0</td></tr>\n",
       "\t<tr><th scope=row>Lamberteschi</th><td>0</td><td>0</td><td>0</td><td>1</td><td>1</td><td>0</td><td>1</td><td>0</td><td>0</td><td>0</td><td>1</td><td>0</td><td>0</td><td>0</td><td>0</td><td>0</td></tr>\n",
       "\t<tr><th scope=row>Medici</th><td>0</td><td>0</td><td>1</td><td>0</td><td>0</td><td>1</td><td>0</td><td>0</td><td>0</td><td>1</td><td>0</td><td>0</td><td>0</td><td>1</td><td>0</td><td>1</td></tr>\n",
       "\t<tr><th scope=row>Pazzi</th><td>0</td><td>0</td><td>0</td><td>0</td><td>0</td><td>0</td><td>0</td><td>0</td><td>1</td><td>0</td><td>0</td><td>0</td><td>0</td><td>0</td><td>0</td><td>0</td></tr>\n",
       "\t<tr><th scope=row>Peruzzi</th><td>0</td><td>0</td><td>1</td><td>1</td><td>1</td><td>0</td><td>0</td><td>1</td><td>0</td><td>0</td><td>0</td><td>0</td><td>0</td><td>0</td><td>0</td><td>0</td></tr>\n",
       "\t<tr><th scope=row>Pucci</th><td>0</td><td>0</td><td>0</td><td>0</td><td>0</td><td>0</td><td>0</td><td>0</td><td>0</td><td>0</td><td>0</td><td>0</td><td>0</td><td>0</td><td>0</td><td>0</td></tr>\n",
       "\t<tr><th scope=row>Ridolfi</th><td>0</td><td>0</td><td>0</td><td>0</td><td>0</td><td>0</td><td>0</td><td>0</td><td>0</td><td>0</td><td>0</td><td>0</td><td>0</td><td>0</td><td>0</td><td>0</td></tr>\n",
       "\t<tr><th scope=row>Salviati</th><td>0</td><td>0</td><td>0</td><td>0</td><td>0</td><td>0</td><td>0</td><td>0</td><td>1</td><td>0</td><td>0</td><td>0</td><td>0</td><td>0</td><td>0</td><td>0</td></tr>\n",
       "\t<tr><th scope=row>Strozzi</th><td>0</td><td>0</td><td>0</td><td>0</td><td>0</td><td>0</td><td>0</td><td>0</td><td>0</td><td>0</td><td>0</td><td>0</td><td>0</td><td>0</td><td>0</td><td>0</td></tr>\n",
       "\t<tr><th scope=row>Tornabuoni</th><td>0</td><td>0</td><td>0</td><td>0</td><td>0</td><td>0</td><td>0</td><td>0</td><td>1</td><td>0</td><td>0</td><td>0</td><td>0</td><td>0</td><td>0</td><td>0</td></tr>\n",
       "</tbody>\n",
       "</table>\n"
      ],
      "text/latex": [
       "A matrix: 16 × 16 of type int\n",
       "\\begin{tabular}{r|llllllllllllllll}\n",
       "  & Acciaiuoli & Albizzi & Barbadori & Bischeri & Castellani & Ginori & Guadagni & Lamberteschi & Medici & Pazzi & Peruzzi & Pucci & Ridolfi & Salviati & Strozzi & Tornabuoni\\\\\n",
       "\\hline\n",
       "\tAcciaiuoli & 0 & 0 & 0 & 0 & 0 & 0 & 0 & 0 & 0 & 0 & 0 & 0 & 0 & 0 & 0 & 0\\\\\n",
       "\tAlbizzi & 0 & 0 & 0 & 0 & 0 & 0 & 0 & 0 & 0 & 0 & 0 & 0 & 0 & 0 & 0 & 0\\\\\n",
       "\tBarbadori & 0 & 0 & 0 & 0 & 1 & 1 & 0 & 0 & 1 & 0 & 1 & 0 & 0 & 0 & 0 & 0\\\\\n",
       "\tBischeri & 0 & 0 & 0 & 0 & 0 & 0 & 1 & 1 & 0 & 0 & 1 & 0 & 0 & 0 & 0 & 0\\\\\n",
       "\tCastellani & 0 & 0 & 1 & 0 & 0 & 0 & 0 & 1 & 0 & 0 & 1 & 0 & 0 & 0 & 0 & 0\\\\\n",
       "\tGinori & 0 & 0 & 1 & 0 & 0 & 0 & 0 & 0 & 1 & 0 & 0 & 0 & 0 & 0 & 0 & 0\\\\\n",
       "\tGuadagni & 0 & 0 & 0 & 1 & 0 & 0 & 0 & 1 & 0 & 0 & 0 & 0 & 0 & 0 & 0 & 0\\\\\n",
       "\tLamberteschi & 0 & 0 & 0 & 1 & 1 & 0 & 1 & 0 & 0 & 0 & 1 & 0 & 0 & 0 & 0 & 0\\\\\n",
       "\tMedici & 0 & 0 & 1 & 0 & 0 & 1 & 0 & 0 & 0 & 1 & 0 & 0 & 0 & 1 & 0 & 1\\\\\n",
       "\tPazzi & 0 & 0 & 0 & 0 & 0 & 0 & 0 & 0 & 1 & 0 & 0 & 0 & 0 & 0 & 0 & 0\\\\\n",
       "\tPeruzzi & 0 & 0 & 1 & 1 & 1 & 0 & 0 & 1 & 0 & 0 & 0 & 0 & 0 & 0 & 0 & 0\\\\\n",
       "\tPucci & 0 & 0 & 0 & 0 & 0 & 0 & 0 & 0 & 0 & 0 & 0 & 0 & 0 & 0 & 0 & 0\\\\\n",
       "\tRidolfi & 0 & 0 & 0 & 0 & 0 & 0 & 0 & 0 & 0 & 0 & 0 & 0 & 0 & 0 & 0 & 0\\\\\n",
       "\tSalviati & 0 & 0 & 0 & 0 & 0 & 0 & 0 & 0 & 1 & 0 & 0 & 0 & 0 & 0 & 0 & 0\\\\\n",
       "\tStrozzi & 0 & 0 & 0 & 0 & 0 & 0 & 0 & 0 & 0 & 0 & 0 & 0 & 0 & 0 & 0 & 0\\\\\n",
       "\tTornabuoni & 0 & 0 & 0 & 0 & 0 & 0 & 0 & 0 & 1 & 0 & 0 & 0 & 0 & 0 & 0 & 0\\\\\n",
       "\\end{tabular}\n"
      ],
      "text/markdown": [
       "\n",
       "A matrix: 16 × 16 of type int\n",
       "\n",
       "| <!--/--> | Acciaiuoli | Albizzi | Barbadori | Bischeri | Castellani | Ginori | Guadagni | Lamberteschi | Medici | Pazzi | Peruzzi | Pucci | Ridolfi | Salviati | Strozzi | Tornabuoni |\n",
       "|---|---|---|---|---|---|---|---|---|---|---|---|---|---|---|---|---|\n",
       "| Acciaiuoli | 0 | 0 | 0 | 0 | 0 | 0 | 0 | 0 | 0 | 0 | 0 | 0 | 0 | 0 | 0 | 0 |\n",
       "| Albizzi | 0 | 0 | 0 | 0 | 0 | 0 | 0 | 0 | 0 | 0 | 0 | 0 | 0 | 0 | 0 | 0 |\n",
       "| Barbadori | 0 | 0 | 0 | 0 | 1 | 1 | 0 | 0 | 1 | 0 | 1 | 0 | 0 | 0 | 0 | 0 |\n",
       "| Bischeri | 0 | 0 | 0 | 0 | 0 | 0 | 1 | 1 | 0 | 0 | 1 | 0 | 0 | 0 | 0 | 0 |\n",
       "| Castellani | 0 | 0 | 1 | 0 | 0 | 0 | 0 | 1 | 0 | 0 | 1 | 0 | 0 | 0 | 0 | 0 |\n",
       "| Ginori | 0 | 0 | 1 | 0 | 0 | 0 | 0 | 0 | 1 | 0 | 0 | 0 | 0 | 0 | 0 | 0 |\n",
       "| Guadagni | 0 | 0 | 0 | 1 | 0 | 0 | 0 | 1 | 0 | 0 | 0 | 0 | 0 | 0 | 0 | 0 |\n",
       "| Lamberteschi | 0 | 0 | 0 | 1 | 1 | 0 | 1 | 0 | 0 | 0 | 1 | 0 | 0 | 0 | 0 | 0 |\n",
       "| Medici | 0 | 0 | 1 | 0 | 0 | 1 | 0 | 0 | 0 | 1 | 0 | 0 | 0 | 1 | 0 | 1 |\n",
       "| Pazzi | 0 | 0 | 0 | 0 | 0 | 0 | 0 | 0 | 1 | 0 | 0 | 0 | 0 | 0 | 0 | 0 |\n",
       "| Peruzzi | 0 | 0 | 1 | 1 | 1 | 0 | 0 | 1 | 0 | 0 | 0 | 0 | 0 | 0 | 0 | 0 |\n",
       "| Pucci | 0 | 0 | 0 | 0 | 0 | 0 | 0 | 0 | 0 | 0 | 0 | 0 | 0 | 0 | 0 | 0 |\n",
       "| Ridolfi | 0 | 0 | 0 | 0 | 0 | 0 | 0 | 0 | 0 | 0 | 0 | 0 | 0 | 0 | 0 | 0 |\n",
       "| Salviati | 0 | 0 | 0 | 0 | 0 | 0 | 0 | 0 | 1 | 0 | 0 | 0 | 0 | 0 | 0 | 0 |\n",
       "| Strozzi | 0 | 0 | 0 | 0 | 0 | 0 | 0 | 0 | 0 | 0 | 0 | 0 | 0 | 0 | 0 | 0 |\n",
       "| Tornabuoni | 0 | 0 | 0 | 0 | 0 | 0 | 0 | 0 | 1 | 0 | 0 | 0 | 0 | 0 | 0 | 0 |\n",
       "\n"
      ],
      "text/plain": [
       "             Acciaiuoli Albizzi Barbadori Bischeri Castellani Ginori Guadagni\n",
       "Acciaiuoli   0          0       0         0        0          0      0       \n",
       "Albizzi      0          0       0         0        0          0      0       \n",
       "Barbadori    0          0       0         0        1          1      0       \n",
       "Bischeri     0          0       0         0        0          0      1       \n",
       "Castellani   0          0       1         0        0          0      0       \n",
       "Ginori       0          0       1         0        0          0      0       \n",
       "Guadagni     0          0       0         1        0          0      0       \n",
       "Lamberteschi 0          0       0         1        1          0      1       \n",
       "Medici       0          0       1         0        0          1      0       \n",
       "Pazzi        0          0       0         0        0          0      0       \n",
       "Peruzzi      0          0       1         1        1          0      0       \n",
       "Pucci        0          0       0         0        0          0      0       \n",
       "Ridolfi      0          0       0         0        0          0      0       \n",
       "Salviati     0          0       0         0        0          0      0       \n",
       "Strozzi      0          0       0         0        0          0      0       \n",
       "Tornabuoni   0          0       0         0        0          0      0       \n",
       "             Lamberteschi Medici Pazzi Peruzzi Pucci Ridolfi Salviati Strozzi\n",
       "Acciaiuoli   0            0      0     0       0     0       0        0      \n",
       "Albizzi      0            0      0     0       0     0       0        0      \n",
       "Barbadori    0            1      0     1       0     0       0        0      \n",
       "Bischeri     1            0      0     1       0     0       0        0      \n",
       "Castellani   1            0      0     1       0     0       0        0      \n",
       "Ginori       0            1      0     0       0     0       0        0      \n",
       "Guadagni     1            0      0     0       0     0       0        0      \n",
       "Lamberteschi 0            0      0     1       0     0       0        0      \n",
       "Medici       0            0      1     0       0     0       1        0      \n",
       "Pazzi        0            1      0     0       0     0       0        0      \n",
       "Peruzzi      1            0      0     0       0     0       0        0      \n",
       "Pucci        0            0      0     0       0     0       0        0      \n",
       "Ridolfi      0            0      0     0       0     0       0        0      \n",
       "Salviati     0            1      0     0       0     0       0        0      \n",
       "Strozzi      0            0      0     0       0     0       0        0      \n",
       "Tornabuoni   0            1      0     0       0     0       0        0      \n",
       "             Tornabuoni\n",
       "Acciaiuoli   0         \n",
       "Albizzi      0         \n",
       "Barbadori    0         \n",
       "Bischeri     0         \n",
       "Castellani   0         \n",
       "Ginori       0         \n",
       "Guadagni     0         \n",
       "Lamberteschi 0         \n",
       "Medici       1         \n",
       "Pazzi        0         \n",
       "Peruzzi      0         \n",
       "Pucci        0         \n",
       "Ridolfi      0         \n",
       "Salviati     0         \n",
       "Strozzi      0         \n",
       "Tornabuoni   0         "
      ]
     },
     "metadata": {},
     "output_type": "display_data"
    }
   ],
   "source": [
    "data <- read.csv('task1/florentine_business.csv', comment.char='#')\n",
    "rownames(data) <- colnames(data)\n",
    "sociomatrix <- as.matrix(data)\n",
    "sociomatrix"
   ]
  },
  {
   "cell_type": "markdown",
   "metadata": {},
   "source": [
    "№2. Преобразование социоматрицы в объект сети, построение списка рёбер, вывод первых пяти."
   ]
  },
  {
   "cell_type": "code",
   "execution_count": 3,
   "metadata": {
    "vscode": {
     "languageId": "r"
    }
   },
   "outputs": [
    {
     "data": {
      "text/html": [
       "<table class=\"dataframe\">\n",
       "<caption>A matrix: 5 × 2 of type chr</caption>\n",
       "<tbody>\n",
       "\t<tr><td>Barbadori</td><td>Castellani</td></tr>\n",
       "\t<tr><td>Barbadori</td><td>Ginori    </td></tr>\n",
       "\t<tr><td>Barbadori</td><td>Medici    </td></tr>\n",
       "\t<tr><td>Barbadori</td><td>Peruzzi   </td></tr>\n",
       "\t<tr><td>Bischeri </td><td>Guadagni  </td></tr>\n",
       "</tbody>\n",
       "</table>\n"
      ],
      "text/latex": [
       "A matrix: 5 × 2 of type chr\n",
       "\\begin{tabular}{ll}\n",
       "\t Barbadori & Castellani\\\\\n",
       "\t Barbadori & Ginori    \\\\\n",
       "\t Barbadori & Medici    \\\\\n",
       "\t Barbadori & Peruzzi   \\\\\n",
       "\t Bischeri  & Guadagni  \\\\\n",
       "\\end{tabular}\n"
      ],
      "text/markdown": [
       "\n",
       "A matrix: 5 × 2 of type chr\n",
       "\n",
       "| Barbadori | Castellani |\n",
       "| Barbadori | Ginori     |\n",
       "| Barbadori | Medici     |\n",
       "| Barbadori | Peruzzi    |\n",
       "| Bischeri  | Guadagni   |\n",
       "\n"
      ],
      "text/plain": [
       "     [,1]      [,2]      \n",
       "[1,] Barbadori Castellani\n",
       "[2,] Barbadori Ginori    \n",
       "[3,] Barbadori Medici    \n",
       "[4,] Barbadori Peruzzi   \n",
       "[5,] Bischeri  Guadagni  "
      ]
     },
     "metadata": {},
     "output_type": "display_data"
    }
   ],
   "source": [
    "library(igraph)\n",
    "g <- graph.adjacency(sociomatrix)\n",
    "head(get.edgelist(g), 5)"
   ]
  },
  {
   "cell_type": "markdown",
   "metadata": {},
   "source": [
    "№3. Выполнено в 1-ом задании."
   ]
  },
  {
   "cell_type": "code",
   "execution_count": 4,
   "metadata": {
    "vscode": {
     "languageId": "r"
    }
   },
   "outputs": [
    {
     "data": {
      "text/html": [
       "<style>\n",
       ".list-inline {list-style: none; margin:0; padding: 0}\n",
       ".list-inline>li {display: inline-block}\n",
       ".list-inline>li:not(:last-child)::after {content: \"\\00b7\"; padding: 0 .5ex}\n",
       "</style>\n",
       "<ol class=list-inline><li>'Acciaiuoli'</li><li>'Albizzi'</li><li>'Barbadori'</li><li>'Bischeri'</li><li>'Castellani'</li><li>'Ginori'</li><li>'Guadagni'</li><li>'Lamberteschi'</li><li>'Medici'</li><li>'Pazzi'</li><li>'Peruzzi'</li><li>'Pucci'</li><li>'Ridolfi'</li><li>'Salviati'</li><li>'Strozzi'</li><li>'Tornabuoni'</li></ol>\n"
      ],
      "text/latex": [
       "\\begin{enumerate*}\n",
       "\\item 'Acciaiuoli'\n",
       "\\item 'Albizzi'\n",
       "\\item 'Barbadori'\n",
       "\\item 'Bischeri'\n",
       "\\item 'Castellani'\n",
       "\\item 'Ginori'\n",
       "\\item 'Guadagni'\n",
       "\\item 'Lamberteschi'\n",
       "\\item 'Medici'\n",
       "\\item 'Pazzi'\n",
       "\\item 'Peruzzi'\n",
       "\\item 'Pucci'\n",
       "\\item 'Ridolfi'\n",
       "\\item 'Salviati'\n",
       "\\item 'Strozzi'\n",
       "\\item 'Tornabuoni'\n",
       "\\end{enumerate*}\n"
      ],
      "text/markdown": [
       "1. 'Acciaiuoli'\n",
       "2. 'Albizzi'\n",
       "3. 'Barbadori'\n",
       "4. 'Bischeri'\n",
       "5. 'Castellani'\n",
       "6. 'Ginori'\n",
       "7. 'Guadagni'\n",
       "8. 'Lamberteschi'\n",
       "9. 'Medici'\n",
       "10. 'Pazzi'\n",
       "11. 'Peruzzi'\n",
       "12. 'Pucci'\n",
       "13. 'Ridolfi'\n",
       "14. 'Salviati'\n",
       "15. 'Strozzi'\n",
       "16. 'Tornabuoni'\n",
       "\n",
       "\n"
      ],
      "text/plain": [
       " [1] \"Acciaiuoli\"   \"Albizzi\"      \"Barbadori\"    \"Bischeri\"     \"Castellani\"  \n",
       " [6] \"Ginori\"       \"Guadagni\"     \"Lamberteschi\" \"Medici\"       \"Pazzi\"       \n",
       "[11] \"Peruzzi\"      \"Pucci\"        \"Ridolfi\"      \"Salviati\"     \"Strozzi\"     \n",
       "[16] \"Tornabuoni\"  "
      ]
     },
     "metadata": {},
     "output_type": "display_data"
    }
   ],
   "source": [
    "rownames(data) <- colnames(data)\n",
    "rownames(sociomatrix)"
   ]
  },
  {
   "cell_type": "markdown",
   "metadata": {},
   "source": [
    "№4. Выполнено во 2-ом задании. Функция `network` принимает матрицу, указывается тип матрицы (матрица смежности) и ненаправленность сети (directed = FALSE)."
   ]
  },
  {
   "cell_type": "code",
   "execution_count": 5,
   "metadata": {
    "vscode": {
     "languageId": "r"
    }
   },
   "outputs": [
    {
     "name": "stdout",
     "output_type": "stream",
     "text": [
      "Граф направленный:  FALSE"
     ]
    }
   ],
   "source": [
    "net <- network(sociomatrix, matrix.type = \"adjacency\", directed = FALSE)\n",
    "cat(\"Граф направленный: \", network::is.directed(net))"
   ]
  },
  {
   "cell_type": "markdown",
   "metadata": {},
   "source": [
    "№5. Отображение сети с помощью алгоритмов укладки Фрюхтермана–Рейнгольда и Камада–Каваи. Идея алгоритма Фрюхтермана–Рейнгольда состоит в введении сил притяжения и отталкивания для вершин, а в алгоритме Камада–Каваи в использовании пружинной системы с учётом геометрических и графиеских расстояний. Укладки практически не отличаются (но разница будет заметна в 12 задании)."
   ]
  },
  {
   "cell_type": "code",
   "execution_count": 6,
   "metadata": {
    "vscode": {
     "languageId": "r"
    }
   },
   "outputs": [
    {
     "data": {
      "image/png": "[encoded data removed]",
      "text/plain": [
       "Plot with title \"Aлгоритм укладки Фрюхтермана–Рейнгольда\""
      ]
     },
     "metadata": {
      "image/png": {
       "height": 420,
       "width": 420
      }
     },
     "output_type": "display_data"
    },
    {
     "data": {
      "image/png": "[encoded data removed]",
      "text/plain": [
       "Plot with title \"Aлгоритм укладки Камада–Каваи\""
      ]
     },
     "metadata": {
      "image/png": {
       "height": 420,
       "width": 420
      }
     },
     "output_type": "display_data"
    }
   ],
   "source": [
    "graph <- igraph::graph.adjacency(sociomatrix, mode=\"undirected\")\n",
    "plot(graph, layout=layout_with_fr(graph), main=\"Aлгоритм укладки Фрюхтермана–Рейнгольда\")\n",
    "plot(graph, layout=layout_with_kk(graph), main=\"Aлгоритм укладки Камада–Каваи\")"
   ]
  },
  {
   "cell_type": "markdown",
   "metadata": {},
   "source": [
    "№6. Вывод «описательной сводки» сети."
   ]
  },
  {
   "cell_type": "code",
   "execution_count": 7,
   "metadata": {
    "vscode": {
     "languageId": "r"
    }
   },
   "outputs": [
    {
     "data": {
      "text/plain": [
       "Network attributes:\n",
       "  vertices = 16\n",
       "  directed = FALSE\n",
       "  hyper = FALSE\n",
       "  loops = FALSE\n",
       "  multiple = FALSE\n",
       "  bipartite = FALSE\n",
       " total edges = 15 \n",
       "   missing edges = 0 \n",
       "   non-missing edges = 15 \n",
       " density = 0.125 \n",
       "\n",
       "Vertex attributes:\n",
       "  vertex.names:\n",
       "   character valued attribute\n",
       "   16 valid vertex names\n",
       "\n",
       "No edge attributes\n",
       "\n",
       "Network edgelist matrix:\n",
       "      [,1] [,2]\n",
       " [1,]    5    3\n",
       " [2,]    6    3\n",
       " [3,]    9    3\n",
       " [4,]   11    3\n",
       " [5,]    7    4\n",
       " [6,]    8    4\n",
       " [7,]   11    4\n",
       " [8,]    8    5\n",
       " [9,]   11    5\n",
       "[10,]    9    6\n",
       "[11,]    8    7\n",
       "[12,]   11    8\n",
       "[13,]   10    9\n",
       "[14,]   14    9\n",
       "[15,]   16    9"
      ]
     },
     "metadata": {},
     "output_type": "display_data"
    }
   ],
   "source": [
    "summary(net)"
   ]
  },
  {
   "cell_type": "markdown",
   "metadata": {},
   "source": [
    "№7. Вычисление «пятичисловой сводки» сети. Размер сети равен количеству вершин ($16$). Для неориентированных сетей плотность равна $\\varDelta = \\frac{L}{(_2^g)} = \\frac{15}{(_2^{16})} = \\frac{15*2}{15*16} = \\frac18 = .125$. В графе есть одна большая компонента связности и $5$ изолированных вершин, общее число равно $6$. Наибольшее кратчайшее расстояние $5$. Количество закрытых треугольников равно $5$, общее количество открытых и закрытых треугольников = $12$, коэффициент кластеризации равен $\\frac{5}{12} = 0.41(6)$."
   ]
  },
  {
   "cell_type": "code",
   "execution_count": 8,
   "metadata": {
    "vscode": {
     "languageId": "r"
    }
   },
   "outputs": [
    {
     "name": "stdout",
     "output_type": "stream",
     "text": [
      "Размер:  16 \n",
      "Плотность:  0.125 \n",
      "Число компонент:  6 \n",
      "Диаметр:  5 \n",
      "Коэффициент кластеризации:  0.4166667 \n"
     ]
    }
   ],
   "source": [
    "cat(\"Размер: \", gorder(graph), \"\\n\")\n",
    "cat(\"Плотность: \", gden(sociomatrix), \"\\n\")\n",
    "cat(\"Число компонент: \", igraph::components(graph)$no, \"\\n\")\n",
    "cat(\"Диаметр: \", diameter(graph), \"\\n\")\n",
    "cat(\"Коэффициент кластеризации: \", gtrans(sociomatrix), \"\\n\")"
   ]
  },
  {
   "cell_type": "markdown",
   "metadata": {},
   "source": [
    "№8. Вычисление средней степени узлов и дисперсии. В среднем степень узлов = 2."
   ]
  },
  {
   "cell_type": "code",
   "execution_count": 9,
   "metadata": {
    "vscode": {
     "languageId": "r"
    }
   },
   "outputs": [
    {
     "name": "stdout",
     "output_type": "stream",
     "text": [
      "Средняя степень узлов:  1.875 \n",
      "Дисперсия:  3.05 \n"
     ]
    }
   ],
   "source": [
    "cat(\"Средняя степень узлов: \", mean(igraph::degree(graph)), \"\\n\")\n",
    "cat(\"Дисперсия: \", var(igraph::degree(graph)), \"\\n\")"
   ]
  },
  {
   "cell_type": "markdown",
   "metadata": {},
   "source": [
    "№9. Высчитаны нормированные меры центральности для неизолированных вершин графа. Самым важным актором по мере центральности по степени является актор под номером 9 (`Medici`), а по трём другим - актор под номером 3 (`Barbadori`)."
   ]
  },
  {
   "cell_type": "code",
   "execution_count": 10,
   "metadata": {
    "vscode": {
     "languageId": "r"
    }
   },
   "outputs": [],
   "source": [
    "graphNew <- delete.vertices(graph, which(igraph::degree(graph) == 0))\n",
    "\n",
    "cTable <- data.frame(ni = match(V(graphNew)$name, V(graph)$name))\n",
    "\n",
    "cTable$Cd <- igraph::degree(graphNew, normalized=TRUE)\n",
    "cTable$Cc <- round(igraph::closeness(graphNew), 3)\n",
    "cTable$Cb <- round(igraph::betweenness(graphNew, normalized=TRUE), 3)\n",
    "\n",
    "netNew <- network::delete.vertices(net, isolates(net))\n",
    "Ci <- infocent(netNew)\n",
    "cTable$Ci <- round(Ci/sum(Ci), 3)"
   ]
  },
  {
   "cell_type": "markdown",
   "metadata": {},
   "source": [
    "Сгенерированная и отформатированная таблица:\n",
    "\n",
    "| $n_i$ | $C_d'$ | $C_c'$ | $C_b'$ | $C_i'$ |\n",
    "|:------|:-------|:-------|:-------|:-------|\n",
    "|  3    | 0.4    | 0.588  | 0.556  | 0.124  |\n",
    "|  4    | 0.3    | 0.400  | 0.056  | 0.089  |\n",
    "|  5    | 0.3    | 0.500  | 0.111  | 0.105  |\n",
    "|  6    | 0.2    | 0.455  | 0.000  | 0.095  |\n",
    "|  7    | 0.2    | 0.312  | 0.000  | 0.077  |\n",
    "|  8    | 0.4    | 0.417  | 0.133  | 0.098  |\n",
    "|  9    | 0.5    | 0.526  | 0.533  | 0.111  |\n",
    "| 10    | 0.1    | 0.357  | 0.000  | 0.064  |\n",
    "| 11    | 0.4    | 0.526  | 0.300  | 0.109  |\n",
    "| 14    | 0.1    | 0.357  | 0.000  | 0.064  |\n",
    "| 16    | 0.1    | 0.357  | 0.000  | 0.064  |"
   ]
  },
  {
   "cell_type": "markdown",
   "metadata": {},
   "source": [
    "№10. Вычислены значения централизации для каждой меры. Результаты получились разными, что подтверждает вывод, сделанный в прошлом задании, только теперь касательно не одного актора, а всей подгруппы."
   ]
  },
  {
   "cell_type": "code",
   "execution_count": 11,
   "metadata": {
    "vscode": {
     "languageId": "r"
    }
   },
   "outputs": [
    {
     "name": "stdout",
     "output_type": "stream",
     "text": [
      "Централизация по степени:  0.227 \n",
      "Централизация по близости:  0.354 \n",
      "Централизация по посреднечеству:  0.442 \n",
      "Централизация по информации:  0.166 \n"
     ]
    }
   ],
   "source": [
    "cat(\"Централизация по степени: \", round(centr_degree(graphNew)$centralization, 3), \"\\n\")\n",
    "cat(\"Централизация по близости: \", round(centr_clo(graphNew)$centralization, 3), \"\\n\")\n",
    "cat(\"Централизация по посреднечеству: \", round(centr_betw(graphNew)$centralization, 3), \"\\n\")\n",
    "cat(\"Централизация по информации: \", round(centralization(netNew, infocent), 3), \"\\n\")"
   ]
  },
  {
   "cell_type": "markdown",
   "metadata": {},
   "source": [
    "№11. Точками сочленения будут вершины `Medici` и `Barbadori`, потому что при их удалении большая компонента связности разобъётся на 4 и 2 компоненты соответственно. Мостами будут рёбра между `Medici` и `Tornabuoni`, `Pazzi`, `Salviati`."
   ]
  },
  {
   "cell_type": "code",
   "execution_count": 12,
   "metadata": {
    "vscode": {
     "languageId": "r"
    }
   },
   "outputs": [
    {
     "data": {
      "image/png": "[encoded data removed]",
      "text/plain": [
       "Plot with title \"Мосты и точки сочленения\""
      ]
     },
     "metadata": {
      "image/png": {
       "height": 420,
       "width": 420
      }
     },
     "output_type": "display_data"
    }
   ],
   "source": [
    "art_points <- articulation_points(graph)\n",
    "bridges <- bridges(graph)\n",
    "plot(graph, \n",
    "    edge.color = ifelse(E(graph) %in% bridges, 7, 1), \n",
    "    vertex.color = ifelse(V(graph) %in% art_points, 7, 1), \n",
    "    edge.width=4, main='Мосты и точки сочленения')"
   ]
  },
  {
   "cell_type": "markdown",
   "metadata": {},
   "source": [
    "№12.  Для направленной сети из файла `krackhardt_advice.csv` были проделаны пункты 2-8."
   ]
  },
  {
   "cell_type": "markdown",
   "metadata": {},
   "source": [
    "Считывание социоматрицы (1), и назначение имен строкам и столбцам (3)"
   ]
  },
  {
   "cell_type": "code",
   "execution_count": 13,
   "metadata": {
    "vscode": {
     "languageId": "r"
    }
   },
   "outputs": [],
   "source": [
    "data <- read.csv('task1/krackhardt_advice.csv', comment.char='#', header=FALSE)\n",
    "rownames(data) <- colnames(data) <- 1:dim(data)[1]\n",
    "sociomatrix <- as.matrix(data)"
   ]
  },
  {
   "cell_type": "markdown",
   "metadata": {},
   "source": [
    "Построение сети (4)."
   ]
  },
  {
   "cell_type": "code",
   "execution_count": 14,
   "metadata": {
    "vscode": {
     "languageId": "r"
    }
   },
   "outputs": [
    {
     "name": "stdout",
     "output_type": "stream",
     "text": [
      "Граф направленный:  TRUE"
     ]
    }
   ],
   "source": [
    "net <- network(sociomatrix, matrix.type = \"adjacency\")\n",
    "cat(\"Граф направленный: \", network::is.directed(net))"
   ]
  },
  {
   "cell_type": "markdown",
   "metadata": {},
   "source": [
    "Вывод первых 5 элементов из списка рёбер (2)"
   ]
  },
  {
   "cell_type": "code",
   "execution_count": 15,
   "metadata": {
    "vscode": {
     "languageId": "r"
    }
   },
   "outputs": [
    {
     "data": {
      "text/html": [
       "<table class=\"dataframe\">\n",
       "<caption>A matrix: 5 × 2 of type int</caption>\n",
       "<tbody>\n",
       "\t<tr><td>1</td><td> 2</td></tr>\n",
       "\t<tr><td>1</td><td> 4</td></tr>\n",
       "\t<tr><td>1</td><td> 8</td></tr>\n",
       "\t<tr><td>1</td><td>16</td></tr>\n",
       "\t<tr><td>1</td><td>18</td></tr>\n",
       "</tbody>\n",
       "</table>\n"
      ],
      "text/latex": [
       "A matrix: 5 × 2 of type int\n",
       "\\begin{tabular}{ll}\n",
       "\t 1 &  2\\\\\n",
       "\t 1 &  4\\\\\n",
       "\t 1 &  8\\\\\n",
       "\t 1 & 16\\\\\n",
       "\t 1 & 18\\\\\n",
       "\\end{tabular}\n"
      ],
      "text/markdown": [
       "\n",
       "A matrix: 5 × 2 of type int\n",
       "\n",
       "| 1 |  2 |\n",
       "| 1 |  4 |\n",
       "| 1 |  8 |\n",
       "| 1 | 16 |\n",
       "| 1 | 18 |\n",
       "\n"
      ],
      "text/plain": [
       "     [,1] [,2]\n",
       "[1,] 1     2  \n",
       "[2,] 1     4  \n",
       "[3,] 1     8  \n",
       "[4,] 1    16  \n",
       "[5,] 1    18  "
      ]
     },
     "metadata": {},
     "output_type": "display_data"
    }
   ],
   "source": [
    "edgeList <- as.edgelist(net)\n",
    "head(edgeList, 5)"
   ]
  },
  {
   "cell_type": "markdown",
   "metadata": {},
   "source": [
    "Отображение сети с помощью алгоритмов укладки Фрюхтермана–Рейнгольда и Камада–Каваи (5). Разница в двух укладках теперь хорошо видна: алгоритм Камада-Каваи расположил вершины почти по окружности, в отличии от первого алгоритма."
   ]
  },
  {
   "cell_type": "code",
   "execution_count": 16,
   "metadata": {
    "vscode": {
     "languageId": "r"
    }
   },
   "outputs": [
    {
     "data": {
      "image/png": "[encoded data removed]",
      "text/plain": [
       "Plot with title \"Aлгоритм укладки Фрюхтермана–Рейнгольда\""
      ]
     },
     "metadata": {
      "image/png": {
       "height": 420,
       "width": 420
      }
     },
     "output_type": "display_data"
    },
    {
     "data": {
      "image/png": "[encoded data removed]",
      "text/plain": [
       "Plot with title \"Aлгоритм укладки Камада–Каваи\""
      ]
     },
     "metadata": {
      "image/png": {
       "height": 420,
       "width": 420
      }
     },
     "output_type": "display_data"
    }
   ],
   "source": [
    "graph <- graph.adjacency(sociomatrix)\n",
    "plot(graph, layout=layout_with_fr(graph), edge.width=1, main=\"Aлгоритм укладки Фрюхтермана–Рейнгольда\")\n",
    "plot(graph, layout=layout_with_kk(graph), main=\"Aлгоритм укладки Камада–Каваи\")"
   ]
  },
  {
   "cell_type": "markdown",
   "metadata": {},
   "source": [
    "Вывод «описательной сводки» сети (6). В сети 21 актор, 190 связей, сеть направленная без циклов с плотностью 0.452381."
   ]
  },
  {
   "cell_type": "code",
   "execution_count": 17,
   "metadata": {
    "scrolled": false,
    "vscode": {
     "languageId": "r"
    }
   },
   "outputs": [
    {
     "data": {
      "text/plain": [
       "Network attributes:\n",
       "  vertices = 21\n",
       "  directed = TRUE\n",
       "  hyper = FALSE\n",
       "  loops = FALSE\n",
       "  multiple = FALSE\n",
       "  bipartite = FALSE\n",
       " total edges = 190 \n",
       "   missing edges = 0 \n",
       "   non-missing edges = 190 \n",
       " density = 0.452381 \n",
       "\n",
       "Vertex attributes:\n",
       "  vertex.names:\n",
       "   character valued attribute\n",
       "   21 valid vertex names\n",
       "\n",
       "No edge attributes\n",
       "\n",
       "Network edgelist matrix:\n",
       "       [,1] [,2]\n",
       "  [1,]    3    1\n",
       "  [2,]    4    1\n",
       "  [3,]    5    1\n",
       "  [4,]    9    1\n",
       "  [5,]   10    1\n",
       "  [6,]   11    1\n",
       "  [7,]   13    1\n",
       "  [8,]   15    1\n",
       "  [9,]   16    1\n",
       " [10,]   17    1\n",
       " [11,]   18    1\n",
       " [12,]   19    1\n",
       " [13,]   20    1\n",
       " [14,]    1    2\n",
       " [15,]    3    2\n",
       " [16,]    4    2\n",
       " [17,]    5    2\n",
       " [18,]    7    2\n",
       " [19,]    8    2\n",
       " [20,]    9    2\n",
       " [21,]   10    2\n",
       " [22,]   11    2\n",
       " [23,]   13    2\n",
       " [24,]   14    2\n",
       " [25,]   15    2\n",
       " [26,]   16    2\n",
       " [27,]   17    2\n",
       " [28,]   18    2\n",
       " [29,]   19    2\n",
       " [30,]   20    2\n",
       " [31,]   21    2\n",
       " [32,]   10    3\n",
       " [33,]   15    3\n",
       " [34,]   18    3\n",
       " [35,]   19    3\n",
       " [36,]   21    3\n",
       " [37,]    1    4\n",
       " [38,]    3    4\n",
       " [39,]    8    4\n",
       " [40,]   10    4\n",
       " [41,]   15    4\n",
       " [42,]   17    4\n",
       " [43,]   18    4\n",
       " [44,]   21    4\n",
       " [45,]   10    5\n",
       " [46,]   13    5\n",
       " [47,]   15    5\n",
       " [48,]   18    5\n",
       " [49,]   19    5\n",
       " [50,]    2    6\n",
       " [51,]    3    6\n",
       " [52,]    4    6\n",
       " [53,]    5    6\n",
       " [54,]    7    6\n",
       " [55,]    8    6\n",
       " [56,]    9    6\n",
       " [57,]   15    6\n",
       " [58,]   20    6\n",
       " [59,]   21    6\n",
       " [60,]    2    7\n",
       " [61,]    3    7\n",
       " [62,]    5    7\n",
       " [63,]    8    7\n",
       " [64,]    9    7\n",
       " [65,]   11    7\n",
       " [66,]   12    7\n",
       " [67,]   14    7\n",
       " [68,]   15    7\n",
       " [69,]   17    7\n",
       " [70,]   18    7\n",
       " [71,]   19    7\n",
       " [72,]   21    7\n",
       " [73,]    1    8\n",
       " [74,]    3    8\n",
       " [75,]    4    8\n",
       " [76,]    5    8\n",
       " [77,]    9    8\n",
       " [78,]   10    8\n",
       " [79,]   15    8\n",
       " [80,]   18    8\n",
       " [81,]   20    8\n",
       " [82,]   21    8\n",
       " [83,]    3    9\n",
       " [84,]   13    9\n",
       " [85,]   15    9\n",
       " [86,]   18    9\n",
       " [87,]    3   10\n",
       " [88,]    4   10\n",
       " [89,]    5   10\n",
       " [90,]    8   10\n",
       " [91,]    9   10\n",
       " [92,]   15   10\n",
       " [93,]   16   10\n",
       " [94,]   18   10\n",
       " [95,]   19   10\n",
       " [96,]    3   11\n",
       " [97,]    4   11\n",
       " [98,]    5   11\n",
       " [99,]    7   11\n",
       "[100,]    8   11\n",
       "[101,]    9   11\n",
       "[102,]   10   11\n",
       "[103,]   15   11\n",
       "[104,]   18   11\n",
       "[105,]   19   11\n",
       "[106,]   20   11\n",
       "[107,]    3   12\n",
       "[108,]    4   12\n",
       "[109,]    7   12\n",
       "[110,]    9   12\n",
       "[111,]   15   12\n",
       "[112,]   20   12\n",
       "[113,]   21   12\n",
       "[114,]    5   13\n",
       "[115,]   10   13\n",
       "[116,]   15   13\n",
       "[117,]   18   13\n",
       "[118,]    3   14\n",
       "[119,]    5   14\n",
       "[120,]    7   14\n",
       "[121,]    9   14\n",
       "[122,]   13   14\n",
       "[123,]   15   14\n",
       "[124,]   18   14\n",
       "[125,]   19   14\n",
       "[126,]   20   14\n",
       "[127,]   21   14\n",
       "[128,]   10   15\n",
       "[129,]   18   15\n",
       "[130,]   19   15\n",
       "[131,]   20   15\n",
       "[132,]    1   16\n",
       "[133,]    4   16\n",
       "[134,]    5   16\n",
       "[135,]    9   16\n",
       "[136,]   10   16\n",
       "[137,]   15   16\n",
       "[138,]   18   16\n",
       "[139,]   20   16\n",
       "[140,]    3   17\n",
       "[141,]    4   17\n",
       "[142,]    5   17\n",
       "[143,]    7   17\n",
       "[144,]    9   17\n",
       "[145,]   10   17\n",
       "[146,]   15   17\n",
       "[147,]   20   17\n",
       "[148,]   21   17\n",
       "[149,]    1   18\n",
       "[150,]    3   18\n",
       "[151,]    4   18\n",
       "[152,]    5   18\n",
       "[153,]    7   18\n",
       "[154,]    8   18\n",
       "[155,]    9   18\n",
       "[156,]   10   18\n",
       "[157,]   13   18\n",
       "[158,]   14   18\n",
       "[159,]   15   18\n",
       "[160,]   16   18\n",
       "[161,]   19   18\n",
       "[162,]   20   18\n",
       "[163,]   21   18\n",
       "[164,]    5   19\n",
       "[165,]   10   19\n",
       "[166,]   15   19\n",
       "[167,]   18   19\n",
       "[168,]    3   20\n",
       "[169,]    4   20\n",
       "[170,]    5   20\n",
       "[171,]   10   20\n",
       "[172,]   15   20\n",
       "[173,]   18   20\n",
       "[174,]   19   20\n",
       "[175,]   21   20\n",
       "[176,]    1   21\n",
       "[177,]    2   21\n",
       "[178,]    3   21\n",
       "[179,]    4   21\n",
       "[180,]    5   21\n",
       "[181,]    6   21\n",
       "[182,]    7   21\n",
       "[183,]    8   21\n",
       "[184,]    9   21\n",
       "[185,]   12   21\n",
       "[186,]   14   21\n",
       "[187,]   15   21\n",
       "[188,]   17   21\n",
       "[189,]   18   21\n",
       "[190,]   20   21"
      ]
     },
     "metadata": {},
     "output_type": "display_data"
    }
   ],
   "source": [
    "summary(net)"
   ]
  },
  {
   "cell_type": "markdown",
   "metadata": {},
   "source": [
    "Вычисление «пятичисловой сводки» сети (7). Размер сети равен количеству вершин ($21$). Для ориентированных сетей плотность равна $\\varDelta = \\frac{L}{A_g^2} = \\frac{190}{A_21^{2}} = \\frac{190}{20*21} = \\frac{19}{42} = .452...$. В графе всего одна компонента связности."
   ]
  },
  {
   "cell_type": "code",
   "execution_count": 18,
   "metadata": {
    "vscode": {
     "languageId": "r"
    }
   },
   "outputs": [
    {
     "name": "stdout",
     "output_type": "stream",
     "text": [
      "Размер:  21 \n",
      "Плотность:  0.452381 \n",
      "Число компонент:  1 \n",
      "Диаметр:  3 \n",
      "Коэффициент кластеризации:  0.6639785 \n"
     ]
    }
   ],
   "source": [
    "cat(\"Размер: \", gorder(graph), \"\\n\")\n",
    "cat(\"Плотность: \", gden(sociomatrix), \"\\n\")\n",
    "cat(\"Число компонент: \", igraph::components(graph)$no, \"\\n\")\n",
    "cat(\"Диаметр: \", diameter(graph), \"\\n\")\n",
    "cat(\"Коэффициент кластеризации: \", gtrans(sociomatrix), \"\\n\")"
   ]
  },
  {
   "cell_type": "markdown",
   "metadata": {},
   "source": [
    "Вычисление средней степени узлов и дисперсии (8)."
   ]
  },
  {
   "cell_type": "code",
   "execution_count": 19,
   "metadata": {
    "vscode": {
     "languageId": "r"
    }
   },
   "outputs": [
    {
     "name": "stdout",
     "output_type": "stream",
     "text": [
      "Средняя степень узлов (in):  9.047619 \n",
      "Средняя степень узлов (out):  9.047619 \n",
      "Дисперсия (in):  16.54762 \n",
      "Дисперсия (out):  29.74762 \n"
     ]
    }
   ],
   "source": [
    "cat(\"Средняя степень узлов (in): \", mean(igraph::degree(graph, mode=\"in\")), \"\\n\")\n",
    "cat(\"Средняя степень узлов (out): \", mean(igraph::degree(graph, mode=\"out\")), \"\\n\")\n",
    "cat(\"Дисперсия (in): \", var(igraph::degree(graph, mode=\"in\")), \"\\n\")\n",
    "cat(\"Дисперсия (out): \", var(igraph::degree(graph, mode=\"out\")), \"\\n\")"
   ]
  },
  {
   "cell_type": "markdown",
   "metadata": {},
   "source": [
    "№13. Высчитывание меры престижа для направленной сети."
   ]
  },
  {
   "cell_type": "code",
   "execution_count": 20,
   "metadata": {
    "vscode": {
     "languageId": "r"
    }
   },
   "outputs": [],
   "source": [
    "cTable <- data.frame(ni = 1:gorder(graph))\n",
    "cTable$Pd <- prestige(net, cmode = \"indegree\")/(gorder(graph)-1) \n",
    "cTable$Pp <- round(prestige(net, cmode = \"domain.proximity\"), 3)"
   ]
  },
  {
   "cell_type": "markdown",
   "metadata": {},
   "source": [
    "Полученная и отформатированная таблица:\n",
    "\n",
    "| $n_i'$ | $P_d'$ | $P_p'$ |\n",
    "|:-------|:-------|:-------|\n",
    "|  1     | 0.65   | 0.667  |\n",
    "|  2     | 0.90   | 0.909  |\n",
    "|  3     | 0.25   | 0.556  |\n",
    "|  4     | 0.40   | 0.625  |\n",
    "|  5     | 0.25   | 0.500  |\n",
    "|  6     | 0.50   | 0.667  |\n",
    "|  7     | 0.65   | 0.741  |\n",
    "|  8     | 0.50   | 0.667  |\n",
    "|  9     | 0.20   | 0.488  |\n",
    "| 10     | 0.45   | 0.571  |\n",
    "| 11     | 0.55   | 0.667  |\n",
    "| 12     | 0.35   | 0.588  |\n",
    "| 13     | 0.20   | 0.488  |\n",
    "| 14     | 0.50   | 0.667  |\n",
    "| 15     | 0.20   | 0.488  |\n",
    "| 16     | 0.40   | 0.571  |\n",
    "| 17     | 0.45   | 0.645  |\n",
    "| 18     | 0.75   | 0.800  |\n",
    "| 19     | 0.20   | 0.488  |\n",
    "| 20     | 0.40   | 0.606  |\n",
    "| 21     | 0.75   | 0.800  |"
   ]
  },
  {
   "cell_type": "markdown",
   "metadata": {},
   "source": [
    "## Выводы\n",
    "\n",
    "В ходе выполнения работы были получены навыками работы с математическими пакетами для моделирования, визуализации и анализа социальных сетей. Был проведен анализ заданных социальных сетей, вычислены описательные характеристики."
   ]
  }
 ],
 "metadata": {
  "kernelspec": {
   "display_name": "R",
   "language": "R",
   "name": "ir"
  },
  "language_info": {
   "codemirror_mode": "r",
   "file_extension": ".r",
   "mimetype": "text/x-r-source",
   "name": "R",
   "pygments_lexer": "r",
   "version": "4.2.1"
  }
 },
 "nbformat": 4,
 "nbformat_minor": 4
}
