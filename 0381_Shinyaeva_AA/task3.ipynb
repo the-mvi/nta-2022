{
 "cells": [
  {
   "cell_type": "markdown",
   "metadata": {
    "id": "RHybZhX6rUIy"
   },
   "source": [
    "# Практическая работа №3: Статистический анализ социальных сетей.\n",
    "Выполнила студентка гр. 0381 Шиняева Анастасия. Вариант №23"
   ]
  },
  {
   "cell_type": "markdown",
   "metadata": {
    "id": "SPGXiQ0_rYPK"
   },
   "source": [
    "## Цель работы\n",
    "\n",
    "Овладеть навыками работы с математическими пакетами для статистического анализа социальных сетей."
   ]
  },
  {
   "cell_type": "markdown",
   "metadata": {
    "id": "9PotqRN_rYRy"
   },
   "source": [
    "## Основные теоретические положения\n",
    "\n",
    "#### Виды диад:\n",
    "\n",
    "1. Взаимная диада: $D_{i,j} = (1, 1)$\n",
    "\n",
    "2. Ассиметричная диада: $D_{i,j} = (1, 0)$,  $D_{i,j} = (0, 1)$\n",
    "\n",
    "3. Нулевая диада:  $D_{i,j} = (0, 0)$\n",
    "\n",
    "#### Определения:\n",
    "\n",
    "_Цензус диад_ - тройка чисел $<M, A, N>$, где $M = \\sum_{i < j}(x_{ij}\\cdot x_{ji})$, $A = x_{++} - 2M$, $N = C^2_g - A - M$\n",
    "\n",
    "_Индекс взаимности Каца-Пауэлла_ - характеристика измерения тенденции акторов в группе:\n",
    "\n",
    "$-\\infty <  \\rho_{kp} \\leq 1$\n",
    "\n",
    "Индекс взаимности основан на ожидании количества взаимных диад, предполгая, что выбор делается акторами случайным образом.\n",
    "\n",
    "_Индекс взаимности Бандиопадхьяйя_ - данный индкс основан на минимальном и максимальном значениях количества взаимных диад.\n",
    "\n",
    "Значение индекса: $\\rho_{b} = \\frac{M - M_{min}}{M_{max} - M_{min}}$\n",
    "\n",
    "#### Анализ k-подгрупп:\n",
    "\n",
    "1. Определить количество классов изоморфизма, то есть количество различных состояний, которые могут принимать k-подграфы.\n",
    "\n",
    "2. Рассмотреть все возможные подмножества из k акторов(k-подграфов) в ориентироанном графе с $g$ узлами.\n",
    "\n",
    "3. Определить каждый k-подграф в правильный класс изоморфизма и определить сколько k-подграфов попадет в каждый класс.\n",
    "\n",
    "4. Изучить статистическими или описательными методами частоту появления k-подграфа в классах изоморфизма.\n",
    "\n",
    "#### Равномерное распределение и распределение Бернулли:\n",
    "\n",
    "* $\\#G_d(\\cal {N}) = 2^{g(g - 1)}$\n",
    "\n",
    "\n",
    "* Вероятность получить социоматрицу $x$:\n",
    "\n",
    "$\\mathbb {P}(X = x) = 2^{g(g - 1)}$\n",
    "\n",
    "* Вероятность появления дуги между акторами:\n",
    "\n",
    "$\\mathbb {P}(X_{ij} = 1) = \\begin{cases}\n",
    "    \\frac{1}{2}, i \\ne j\\\\\n",
    "    0, i = j\n",
    "\\end{cases}$\n",
    "\n",
    "* Вероятность появления дуги между акторами:\n",
    "\n",
    "$\\mathbb {P}(X_{ij} = 1) = \\begin{cases}\n",
    "    p_{ij}, i \\ne j\\\\\n",
    "    0, i = j\n",
    "\\end{cases}$\n",
    "\n",
    "#### Анализ количества дуг:\n",
    "\n",
    "* Число дуг: \n",
    "\n",
    "$L \\sim B((g(g - 1)), \\frac{1}{2})$\n",
    "\n",
    "* Вероятность, что число дуг равно $l$:\n",
    "\n",
    "$\\mathbb {P}(L = l) = \\binom {g(g - 1)}{l} \\cdot  2^{g(1 - g)}$\n",
    "\n",
    "* Матемаическое ожидание:\n",
    "\n",
    "$\\mathbb {E}(L) = \\binom {g}{2}$\n",
    "\n",
    "* Дисперсия:\n",
    "\n",
    "$\\mathbb {D}(L) = \\frac{1}{2} \\binom {g}{2}$\n",
    "\n",
    "* Нулевая гипотеза:\n",
    "\n",
    "$\\mathbb {H}_0$: $L \\sim B((g(g - 1)), \\frac{1}{2})$\n",
    "\n",
    "* Статистика:\n",
    "\n",
    "$z_l = \\frac{l - \\mathbb {E}(L)}{\\sqrt {\\mathbb {D}(L)}}$, где $l = \\sum_{i = 1}^g\\sum_{j = 1}^gx_{ij}$\n",
    "\n",
    "* Данная статистика является приблизительно стандартным нормальным распределением при заданном уровне значимости.\n",
    "\n",
    "#### Оценка вероятности $\\mathbb {P}$:\n",
    "\n",
    "* $L \\sim B((g(g - 1)), \\mathbb {P}_0)$\n",
    "\n",
    "\n",
    "* Вероятность, что количество дуг равно $l$:\n",
    "\n",
    "$\\mathbb {P}(L = l) = \\binom {g(g - 1)}{l} = p_0^l(1 - p_0)^{g(g - 1) - l}$\n",
    "\n",
    "* Математическое ожидание:\n",
    "\n",
    "$\\mathbb {E}(L) = p_0g(g - 1)$\n",
    "\n",
    "* Дисперсия:\n",
    "\n",
    "$\\mathbb {D}(L) = p_0(1 - p_0)g(g - 1)$\n",
    "\n",
    "#### Анализ количества дуг:\n",
    "\n",
    "* Нулевая гипотеза:\n",
    "\n",
    "$\\mathbb {H}_0$: $L \\sim B((g(g - 1)), \\mathbb {P}_0)$\n",
    "\n",
    "* Статистика:\n",
    "\n",
    "$z_l = \\frac{l - \\mathbb {E}(L)}{\\sqrt {\\mathbb {D}(L)}}$, где $l = \\sum_{i = 1}^g\\sum_{j = 1}^gx_{ij}$\n",
    "\n",
    "* Данная статистика является приблизительно стандартным нормальным распределением при заданном уровне значимости.\n",
    "\n",
    "#### Доверительный интервал:\n",
    "\n",
    "* Оценка параметра $p$:\n",
    "\n",
    "$ \\hat {p} = \\frac{l}{g(g - 1)}$\n",
    "\n",
    "* Доверительный интервал:\n",
    "\n",
    "$\\hat {p}_{lower} \\leq p \\leq  \\hat {p}_{upper}$\n",
    "\n",
    "$\\hat {p}_{lower} = \\hat {p} - z_{\\frac {\\alpha}{2}} \\cdot \\sqrt {\\frac {\\hat {p}(1 - \\hat{p})}{g(g - 1)}}$\n",
    "\n",
    "$\\hat {p}_{upper} = \\hat {p} + z_{\\frac {\\alpha}{2}} \\cdot \\sqrt {\\frac {\\hat {p}(1 - \\hat{p})}{g(g - 1)}}$\n",
    "\n",
    "Здесь $z_{\\frac{\\alpha}{2}}$: $\\Phi(\\frac{\\alpha}{2}) = 0.5 - \\frac{\\alpha}{2}$"
   ]
  },
  {
   "cell_type": "markdown",
   "metadata": {
    "id": "X6lSOSROrYlZ"
   },
   "source": [
    "## Постановка задачи\n",
    "С помощью математических пакетов и соответствующих библиотек провести статистический анализ случайно смоделированного ориентированного графа. Полученные результаты содержательно проинтерпретировать."
   ]
  },
  {
   "cell_type": "markdown",
   "metadata": {
    "id": "dldNZgxcrhvb"
   },
   "source": [
    "## Выполнение работы"
   ]
  },
  {
   "cell_type": "code",
   "execution_count": 16,
   "metadata": {
    "colab": {
     "base_uri": "https://localhost:8080/"
    },
    "id": "ZI6R15YXVXbg",
    "outputId": "508ea17b-7e4c-4505-b470-8fcdc91deac6",
    "vscode": {
     "languageId": "r"
    }
   },
   "outputs": [
    {
     "name": "stderr",
     "output_type": "stream",
     "text": [
      "Warning message:\n",
      "\"пакет ''igraph'' сейчас используется и не будет установлен\"\n",
      "Warning message:\n",
      "\"пакет ''statnet'' сейчас используется и не будет установлен\"\n",
      "Warning message:\n",
      "\"пакет ''network'' сейчас используется и не будет установлен\"\n",
      "Warning message:\n",
      "\"пакет ''intergraph'' сейчас используется и не будет установлен\"\n",
      "Warning message:\n",
      "\"пакет ''VGAM'' сейчас используется и не будет установлен\"\n"
     ]
    }
   ],
   "source": [
    "install.packages('igraph')\n",
    "install.packages('statnet')\n",
    "install.packages('network')\n",
    "install.packages('intergraph')\n",
    "install.packages('VGAM')\n",
    "library(igraph)\n",
    "library(statnet)\n",
    "library(network)\n",
    "library(intergraph)\n",
    "library(VGAM)"
   ]
  },
  {
   "cell_type": "markdown",
   "metadata": {
    "id": "5y53Jy6pVXbi"
   },
   "source": [
    "### 1. С помощью библиотеки igraph был смоделирован случайный орграф $\\cal G_d$ на основе модели Эрдеша—Реньи."
   ]
  },
  {
   "cell_type": "code",
   "execution_count": 17,
   "metadata": {
    "colab": {
     "base_uri": "https://localhost:8080/",
     "height": 225
    },
    "id": "y_kHR39wVXbi",
    "outputId": "f1b8a7f8-1a56-4e66-a9b7-3a9dc00141bc",
    "vscode": {
     "languageId": "r"
    }
   },
   "outputs": [],
   "source": [
    "g <- 55\n",
    "p <- 0.55\n",
    "gr <-erdos.renyi.game(g, p, type ='gnp', directed = TRUE)"
   ]
  },
  {
   "cell_type": "markdown",
   "metadata": {
    "id": "HrSYunSrVXbj"
   },
   "source": [
    "### 2. Полученный орграф был отображен."
   ]
  },
  {
   "cell_type": "code",
   "execution_count": 18,
   "metadata": {
    "colab": {
     "base_uri": "https://localhost:8080/",
     "height": 437
    },
    "id": "3Gfs1faOVXbj",
    "outputId": "71332119-7e50-407e-c025-c5e1955eabb2",
    "vscode": {
     "languageId": "r"
    }
   },
   "outputs": [
    {
     "data": {
      "image/png": "[encoded data removed]",
      "text/plain": [
       "Plot with title \" \""
      ]
     },
     "metadata": {
      "image/png": {
       "height": 420,
       "width": 420
      }
     },
     "output_type": "display_data"
    }
   ],
   "source": [
    "plot(gr, main = ' ')"
   ]
  },
  {
   "cell_type": "markdown",
   "metadata": {
    "id": "5bjqk2W4VXbk"
   },
   "source": [
    "### 3. Была вычислена «пятичисловая сводка» для графа $\\cal {G}_d$."
   ]
  },
  {
   "cell_type": "code",
   "execution_count": 19,
   "metadata": {
    "colab": {
     "base_uri": "https://localhost:8080/"
    },
    "id": "CjqvBH3mVXbk",
    "outputId": "bdd35013-009b-4d4e-aca2-9382481a8826",
    "vscode": {
     "languageId": "r"
    }
   },
   "outputs": [
    {
     "name": "stdout",
     "output_type": "stream",
     "text": [
      "Размер: 55\n",
      "Плотность: 0.5538721\n",
      "Компоненты: 1\n",
      "Диаметр: 2\n",
      "Коэффициент кластеризации: 0.5529079"
     ]
    }
   ],
   "source": [
    "grAsNetwork <- asNetwork(gr)\n",
    "\n",
    "cat(\"Размер:\", network.size(grAsNetwork))\n",
    "cat(\"\\nПлотность:\", gden(grAsNetwork))\n",
    "cat(\"\\nКомпоненты:\", igraph::components(gr)$no)\n",
    "\n",
    "components <- component.largest(grAsNetwork,result=\"graph\")\n",
    "gd <- geodist(components)\n",
    "cat(\"\\nДиаметр:\", max(gd$gdist))\n",
    "\n",
    "cat(\"\\nКоэффициент кластеризации:\", gtrans(grAsNetwork))"
   ]
  },
  {
   "cell_type": "markdown",
   "metadata": {
    "id": "lk8jB4KYVXbk"
   },
   "source": [
    "### 4. Был вычислен цензус диад."
   ]
  },
  {
   "cell_type": "code",
   "execution_count": 26,
   "metadata": {
    "colab": {
     "base_uri": "https://localhost:8080/",
     "height": 166
    },
    "id": "U41l_QkdVXbk",
    "outputId": "99be996b-909a-48a2-8e31-e810de34faa7",
    "vscode": {
     "languageId": "r"
    }
   },
   "outputs": [
    {
     "name": "stdout",
     "output_type": "stream",
     "text": [
      "Цензус диад:\n"
     ]
    },
    {
     "data": {
      "text/html": [
       "<dl>\n",
       "\t<dt>$mut</dt>\n",
       "\t\t<dd>454</dd>\n",
       "\t<dt>$asym</dt>\n",
       "\t\t<dd>737</dd>\n",
       "\t<dt>$null</dt>\n",
       "\t\t<dd>294</dd>\n",
       "</dl>\n"
      ],
      "text/latex": [
       "\\begin{description}\n",
       "\\item[\\$mut] 454\n",
       "\\item[\\$asym] 737\n",
       "\\item[\\$null] 294\n",
       "\\end{description}\n"
      ],
      "text/markdown": [
       "$mut\n",
       ":   454\n",
       "$asym\n",
       ":   737\n",
       "$null\n",
       ":   294\n",
       "\n",
       "\n"
      ],
      "text/plain": [
       "$mut\n",
       "[1] 454\n",
       "\n",
       "$asym\n",
       "[1] 737\n",
       "\n",
       "$null\n",
       "[1] 294\n"
      ]
     },
     "metadata": {},
     "output_type": "display_data"
    }
   ],
   "source": [
    "cat(\"Цензус диад:\\n\")\n",
    "census <- dyad_census(gr)\n",
    "census"
   ]
  },
  {
   "cell_type": "markdown",
   "metadata": {
    "id": "bP8okEnUVXbk"
   },
   "source": [
    "#### Вывод: в построенном графе 454 взаимных диад, 737 ассиметричных диад и 294 нулевых диад"
   ]
  },
  {
   "cell_type": "markdown",
   "metadata": {
    "id": "Fi2JTBWYVXbl"
   },
   "source": [
    "### 5. Была вычислена оценка индекса взаимности Каца—Пауэла при фиксированом выборе акторов 𝑑 и при свободном выборе."
   ]
  },
  {
   "cell_type": "code",
   "execution_count": 24,
   "metadata": {
    "colab": {
     "base_uri": "https://localhost:8080/"
    },
    "id": "qtTNJn3sVXbl",
    "outputId": "d79dc116-722c-4e79-cf4f-da33aed90cfb",
    "vscode": {
     "languageId": "r"
    }
   },
   "outputs": [
    {
     "name": "stdout",
     "output_type": "stream",
     "text": [
      "-0.01181818   -0.003899579"
     ]
    }
   ],
   "source": [
    "g <- 55\n",
    "d <- 30\n",
    "M <- census$mut\n",
    "P_fix <- (2*M*(g-1) - g*(d**2))/(g*d*(g-1-d))\n",
    "\n",
    "L <- length(E(gr))\n",
    "L2 <- 0\n",
    "matrix1 <- as.matrix(gr)\n",
    "for(i in 1:nrow(matrix1)){\n",
    "    sum1 <- 0\n",
    "    for (j in 1:ncol(matrix1)){\n",
    "        sum1 <- sum1 + matrix1[i, j]\n",
    "    }\n",
    "    L2 <- L2 + (sum1**2)\n",
    "}\n",
    "P_free <- (2*M*((g-1)**2)-L**2 + L2)/(L*((g-1)**2)-L**2+L2)\n",
    "cat(P_fix, \" \",P_free)\n"
   ]
  },
  {
   "cell_type": "markdown",
   "metadata": {
    "id": "wSy6aXdxl5bd"
   },
   "source": [
    "Выводы: Было выяснено, что оценки и при фиксированом, и при свободном выборе всегда близки к 0."
   ]
  },
  {
   "cell_type": "markdown",
   "metadata": {
    "id": "pMfl85rrVXbl"
   },
   "source": [
    "### 6. Был вычислена вероятность того, что связь будет взаимной для каждого случая."
   ]
  },
  {
   "cell_type": "code",
   "execution_count": 27,
   "metadata": {
    "colab": {
     "base_uri": "https://localhost:8080/",
     "height": 34
    },
    "id": "cKIqVYguVXbl",
    "outputId": "028d7169-780a-4fa2-cb94-3a0d056f79c7",
    "vscode": {
     "languageId": "r"
    }
   },
   "outputs": [
    {
     "data": {
      "text/html": [
       "0.308641975308642"
      ],
      "text/latex": [
       "0.308641975308642"
      ],
      "text/markdown": [
       "0.308641975308642"
      ],
      "text/plain": [
       "[1] 0.308642"
      ]
     },
     "metadata": {},
     "output_type": "display_data"
    }
   ],
   "source": [
    "prob_of_reciprocity <- (d**2)/((g-1)**2)\n",
    "prob_of_reciprocity"
   ]
  },
  {
   "cell_type": "markdown",
   "metadata": {
    "id": "2u0An97wVXbm"
   },
   "source": [
    "### 7. Был вычислен индекс взаимности Бандиопадхьяйя."
   ]
  },
  {
   "cell_type": "code",
   "execution_count": 28,
   "metadata": {
    "colab": {
     "base_uri": "https://localhost:8080/",
     "height": 34
    },
    "id": "lz42e-OnVXbm",
    "outputId": "78a1ef38-413a-4f2a-8a64-417ca199c33f",
    "vscode": {
     "languageId": "r"
    }
   },
   "outputs": [
    {
     "data": {
      "text/html": [
       "0.552311435523114"
      ],
      "text/latex": [
       "0.552311435523114"
      ],
      "text/markdown": [
       "0.552311435523114"
      ],
      "text/plain": [
       "[1] 0.5523114"
      ]
     },
     "metadata": {},
     "output_type": "display_data"
    }
   ],
   "source": [
    "vec <- c()\n",
    "vec2 <- c()\n",
    "for(t in 0:g){\n",
    "    s <- 0\n",
    "    if (t>0){\n",
    "        for(i in 1:t){\n",
    "            s <- s + sum(matrix1[i, ])\n",
    "        }\n",
    "    }\n",
    "    f_t <- s - t*(g-1) - choose(t, 2)\n",
    "    vec <- append(vec, f_t)\n",
    "    s2 <- 0\n",
    "    if (t+1 <= g){\n",
    "        for(i in (t+1):g){\n",
    "            s2 <- s2 + min(t, sum(matrix1[i, ]))\n",
    "        }\n",
    "    }\n",
    "    g_t <- s - t*(t-1)-s2\n",
    "    vec2 <- append(vec2, g_t)\n",
    "}\n",
    "M_min <- max(vec)\n",
    "M_max <- floor(0.5*(sum(matrix1)-max(vec2)))\n",
    "P_B <- (M - M_min)/(M_max - M_min)\n",
    "P_B"
   ]
  },
  {
   "cell_type": "markdown",
   "metadata": {
    "id": "nBkCP0pcVXbn"
   },
   "source": [
    "Вывод: Индекс взаимности Бандиопадхьяйя равен примерно $p = 0.55$."
   ]
  },
  {
   "cell_type": "markdown",
   "metadata": {
    "id": "JYp6u-SBVXbn"
   },
   "source": [
    "### 8. Была проверена нулевая гипотеза о том, что число дуг $𝐿$ в орграфе $\\cal G_𝑑$ имеет биномиальное распределение $L$~$Bin(g(g-1), 1/2)$  при уровне значимости $\\alpha = 0.02$. Был определен максимальный уровень значимости при котором нулевая гипотеза не отвергается."
   ]
  },
  {
   "cell_type": "code",
   "execution_count": 29,
   "metadata": {
    "colab": {
     "base_uri": "https://localhost:8080/",
     "height": 225
    },
    "id": "emeSWx5MVXbn",
    "outputId": "1313572d-2997-40da-cbde-5ee2db209f69",
    "vscode": {
     "languageId": "r"
    }
   },
   "outputs": [
    {
     "name": "stdout",
     "output_type": "stream",
     "text": [
      "alpha =  0.02"
     ]
    },
    {
     "data": {
      "text/plain": [
       "\n",
       "\tExact binomial test\n",
       "\n",
       "data:  L and g * (g - 1)\n",
       "number of successes = 1645, number of trials = 2970, p-value =\n",
       "4.658e-09\n",
       "alternative hypothesis: true probability of success is not equal to 0.5\n",
       "95 percent confidence interval:\n",
       " 0.5357806 0.5718573\n",
       "sample estimates:\n",
       "probability of success \n",
       "             0.5538721 \n"
      ]
     },
     "metadata": {},
     "output_type": "display_data"
    }
   ],
   "source": [
    "cat(\"alpha = \", 0.02)\n",
    "binom.test(L, g*(g-1), p = 0.5)"
   ]
  },
  {
   "cell_type": "markdown",
   "metadata": {
    "id": "gf6t6oa0pwM6"
   },
   "source": [
    "$p-value < 2.2e-16.$\n"
   ]
  },
  {
   "cell_type": "markdown",
   "metadata": {
    "id": "IHeUbY3JVXbn"
   },
   "source": [
    "### 9. Была проверена нулевая гипотеза о том, что число дуг $L$ в орграфе $\\cal G_𝑑$ имеет биномиальное распределение $L$~$Bin(g(g-1), P_0)$  при уровне значимости $\\alpha$. Был определен максимальный уровень значимости при котором нулевая гипотеза не отвергается."
   ]
  },
  {
   "cell_type": "code",
   "execution_count": 30,
   "metadata": {
    "colab": {
     "base_uri": "https://localhost:8080/",
     "height": 208
    },
    "id": "Nlp_hST9VXbn",
    "outputId": "c2ef7cd3-71b7-48d2-fa96-ae582f79c89c",
    "vscode": {
     "languageId": "r"
    }
   },
   "outputs": [
    {
     "data": {
      "text/plain": [
       "\n",
       "\tExact binomial test\n",
       "\n",
       "data:  L and g * (g - 1)\n",
       "number of successes = 1645, number of trials = 2970, p-value =\n",
       "0.0002223\n",
       "alternative hypothesis: true probability of success is not equal to 0.52\n",
       "95 percent confidence interval:\n",
       " 0.5357806 0.5718573\n",
       "sample estimates:\n",
       "probability of success \n",
       "             0.5538721 \n"
      ]
     },
     "metadata": {},
     "output_type": "display_data"
    }
   ],
   "source": [
    "binom.test(L, g*(g-1), p = 0.52)"
   ]
  },
  {
   "cell_type": "markdown",
   "metadata": {
    "id": "YL5_alTmbdyH"
   },
   "source": [
    "$p-value < 2.2e-16.$\n"
   ]
  },
  {
   "cell_type": "markdown",
   "metadata": {
    "id": "DypIfTfAVXbo"
   },
   "source": [
    "### 10. Был построен доверительный интервал для оценки параметра $p$ с доверительной надёжностью $(1 - \\alpha)$."
   ]
  },
  {
   "cell_type": "code",
   "execution_count": 34,
   "metadata": {
    "colab": {
     "base_uri": "https://localhost:8080/"
    },
    "id": "DDJR00OsVXbo",
    "outputId": "a946b685-9797-452a-e2d1-dca70b3f8131",
    "vscode": {
     "languageId": "r"
    }
   },
   "outputs": [
    {
     "name": "stdout",
     "output_type": "stream",
     "text": [
      "[ 0.5325282 , 0.5752159 ]"
     ]
    }
   ],
   "source": [
    "P_hat <- L/(g*(g-1))\n",
    "f_z <- 0.5 - 0.02/2\n",
    "z_a2 <- 2.34\n",
    "P_lower <- P_hat-z_a2*sqrt((P_hat*(1-P_hat))/(g*(g-1)))\n",
    "P_upper <- P_hat+z_a2*sqrt((P_hat*(1-P_hat))/(g*(g-1)))\n",
    "cat('[', P_lower, ',', P_upper, ']')\n"
   ]
  },
  {
   "cell_type": "markdown",
   "metadata": {
    "id": "IJTsNIu-VXbo"
   },
   "source": [
    "Вывод:\n",
    "Доверительный интервал $[ 0.5325282 , 0.5752159 ]$. \n",
    "Так как $p = 0.55$, то доверительный интервал вычислен верно (при доверительной надёжности $1 - \\alpha$)."
   ]
  },
  {
   "cell_type": "markdown",
   "metadata": {
    "id": "OkEYpwkTVXbo"
   },
   "source": [
    "## Выводы\n",
    "В результате выполнения практической работы были получены навыки работы с математическими пакетами для статистического анализа социальных сетей. Благодаря полученным знаниям можно определять тенденцию создания парных связей в диадах графа через вычисление цензуса диад и подсчёта с помощью него индексов взаимности Каца-Пауэла и Бандиопадхьяйя, а также определять вероятность появления рёбер и, соответсвенно, число рёбер через проверку гипотез о принадлежности числа рёбер в графе биномиальному распределению."
   ]
  }
 ],
 "metadata": {
  "colab": {
   "provenance": []
  },
  "kernelspec": {
   "display_name": "R",
   "language": "R",
   "name": "ir"
  },
  "language_info": {
   "codemirror_mode": "r",
   "file_extension": ".r",
   "mimetype": "text/x-r-source",
   "name": "R",
   "pygments_lexer": "r",
   "version": "4.2.1"
  },
  "vscode": {
   "interpreter": {
    "hash": "53e85dd5c5a6a55d2c821bb7d2fa608b7383e2fc07f8377f495bbe90efc15ea8"
   }
  }
 },
 "nbformat": 4,
 "nbformat_minor": 1
}
