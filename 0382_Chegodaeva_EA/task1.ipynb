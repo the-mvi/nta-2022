{
  "cells": [
    {
      "cell_type": "markdown",
      "metadata": {
        "id": "eKh0OYggMqKA"
      },
      "source": [
        "# Практическая работа №1: Основы анализа и моделирования социальных сетей\n",
        "Выполнила студентка гр. 0382 Чегодаева Елизавета. Вариант №25"
      ]
    },
    {
      "cell_type": "markdown",
      "metadata": {
        "id": "IjhL4gPnMqKD"
      },
      "source": [
        "## Цель работы\n",
        "Овладеть навыками работы с математическими пакетами для моделирования, визуализации и анализа социальных сетей."
      ]
    },
    {
      "cell_type": "markdown",
      "metadata": {
        "id": "ydexkEFpMqKE"
      },
      "source": [
        "## Основные теоретические положения\n",
        "**Актор** - дискретная индивидуальная или коллективная социальная елиница.\n",
        "\n",
        "**Реляционная связь** - свойство, описывающее взаимодействие между двумя акторами.\n",
        "\n",
        "**Группа** - совокупность всех акторов, связи между которыми должны быть изучены.\n",
        "\n",
        "**Подгруппа** - любое подмножество акторов и все связи между ними.\n",
        "\n",
        "**Отношение** - совокупность связей определённого вида между членами группы.\n",
        "\n",
        "**Социальная сеть** - объект, представляющий собой совокупность конечного набора (или наборов) акторов и отношения (отношений), определённых на них.\n",
        "\n",
        "<ins>Способы математического представления социальных сетей</ins>:\n",
        "- Графовое\n",
        "- Социометрическое\n",
        "- Алгебраическое\n",
        "\n",
        "**Граф** - модель социальной сети с направленными дихотомическими отношениями.\n",
        "\n",
        "$\\mathcal{G} = \\mathcal{G}(\\mathcal{N}, \\mathcal{L})$\n",
        "\n",
        "**Социоматрица** - матрица смежности $\\mathcal{X}$ размера $g\\times g$, описывающая смежные узлы.\n",
        "\n",
        "$\\mathcal{X} = \\{\\mathcal{X}_{ij}\\} \\quad i,j=1...g$\n",
        "\n",
        "<ins>Числовые характеристики сети</ins>:\n",
        "- **Размер** - количество акторов сети.\n",
        "- **Плотность** - доля имеющихся связей по отношению к максимально возможному число связей.\n",
        "  \n",
        "  $\\varDelta = \\frac{|L|}{A_g^2}$ (ориентированная сеть)\n",
        "\n",
        "  $\\varDelta = \\frac{|L|}{(_2^g)}$ (неориентированная сеть)\n",
        "  (где L - множество связей, k - число узлов сети)\n",
        "- **Число компонент** (связности) - колчиество подгрупп, где все акторы связаны напрямую или косвенно.\n",
        "- **Диаметр** - наибольшая длина любого из кратчайших путей между всеми парами узлов.\n",
        "- **Коэффициент кластеризации** - доля закрытых треугольников (т.е. триад, где присутствую все 3 связи) по отношении к общему количеству закрытых или открытых треугольников (т.е. триад с 2 или 3 связями.\n",
        "\n",
        "**Степень узла** - число прямых, инцидентных узлу (для ориетированных - входная и выходная степени): $d=deg(n_i)$\n",
        "\n",
        "**Средняя степень**: $\\bar{d}=\\frac{1}{g}\\sum_{i=1}^{g} d(n_i)$\n",
        "\n",
        "**Дисперсия степеней**: $S_D^2=\\frac{1}{g}\\sum_{i=1}^{g} (d(n_i)-\\bar{d})^2$\n",
        "\n",
        "<ins>Силовые алгоритмы укладки сетей</ins>:\n",
        "- Алгоритм Идеса (основан на механической модели пружин)\n",
        "- Алгоритм Фрюхтермана–Рейнгольда (вершины - атомарные частицы или небесные тела, оказывающие друг на друга силы притяжения и отталкивания)\n",
        "- Алгоритм Татта (если грань плоского графа зафиксирована на плоскости, то подходящие положения для других вершин можно найти, решая систему линейных уравнений, где каждая позиция вершины представлена как выпуклая комбинация положений своих соседей)\n",
        "- Алгоритм Камада–Каваи (настройка пружинной системы таким образом, чтобы минимизация энергии системы соответсвовала минимизации разницы между геометрическими и графовыми расстояниями)\n",
        "\n",
        "Актор считается *важным*, если связи актора делают его видимым для других участников сети.\n",
        "\n",
        "*Меры важности*:\n",
        "\n",
        "**Центральность** - мера, характеризующая актора с большим количеством связей (ненаправленный граф).\n",
        "\n",
        "**Престиж** - мера, характеризующая актора с большим количеством входящих связей (направленный граф).\n",
        "\n",
        "**Индекс централизации**: $C_A=\\frac{\\sum_{i=1}^{g}(C_A(n^\\star)-C_A(n_i))}{max\\sum_{i=1}^{g}(C_A(n^\\star)-C_A(n_i))}$\n",
        "\n",
        "<ins>Меры центральности</ins>:\n",
        "\n",
        "1) **Центральность по степени**: \n",
        "$C_D(n_i)=deg(n_i)$\n",
        "\n",
        "&nbsp;&nbsp;&nbsp;&nbsp;&nbsp;&nbsp;Нормированная центральность: $C_D'(n_i)=\\frac{deg(n_i)}{g-1}$\n",
        "\n",
        "&nbsp;&nbsp;&nbsp;&nbsp;&nbsp;&nbsp;Централизация: $C_D=\\frac{\\sum_{i=1}^{g}(C_D(n^\\star)-C_D(n_i))}{(g-1)(g-2)}$\n",
        "\n",
        "2) **Центральность по близости**:\n",
        "$C_C(n_i)=(\\sum_{j=1}^{g}d(n_i, n_j))^{-1}$\n",
        "\n",
        "&nbsp;&nbsp;&nbsp;&nbsp;&nbsp;&nbsp;Нормированная центральность: $C_C'(n_i)=\\frac{g-1}{\\sum_{j=1}^{g}d(n_i, n_j)}$\n",
        "\n",
        "&nbsp;&nbsp;&nbsp;&nbsp;&nbsp;&nbsp;Централизация: $C_C=\\frac{\\sum_{i=1}^{g}(C_C'(n^\\star)-C_C'(n_i))}{(g-1)(g-2)/(2g-3)}$\n",
        "\n",
        "3) **Центральность по посреднечеству**:\n",
        "$C_B(n_i)=\\sum_{j<k}\\frac{g_{jk}(n_i)}{g_{jk}}$\n",
        "\n",
        "&nbsp;&nbsp;&nbsp;&nbsp;&nbsp;&nbsp;$g_{jk}(n_i)$ - количество геодезических расстояний между узлами $j$ и $k$, которые включают $i$\n",
        "\n",
        "&nbsp;&nbsp;&nbsp;&nbsp;&nbsp;&nbsp;$g_{jk}$ - геодезическое расстояние между узлами $j$ и $k$\n",
        "\n",
        "&nbsp;&nbsp;&nbsp;&nbsp;&nbsp;&nbsp;Нормированная центральность: $C_B'(n_i)=\\frac{C_B(n_i)}{(_2^{g-1})}$\n",
        "\n",
        "&nbsp;&nbsp;&nbsp;&nbsp;&nbsp;&nbsp;Централизация: $C_B=\\frac{\\sum_{i=1}^{g}(C_B'(n^\\star)-C_B'(n_i))}{(g-1)}$\n",
        "\n",
        "4) **Центральность по инфорамции**:\n",
        "\n",
        "&nbsp;&nbsp;&nbsp;&nbsp;&nbsp;&nbsp;$A_{g\\times g}$, \n",
        "\n",
        "&nbsp;&nbsp;&nbsp;&nbsp;&nbsp;&nbsp;&nbsp;&nbsp;&nbsp;&nbsp;&nbsp;&nbsp;где $a_{ii}$ - это сумма всех линий, инцидентных с $n_i$ + 1\n",
        "\n",
        "&nbsp;&nbsp;&nbsp;&nbsp;&nbsp;&nbsp;&nbsp;&nbsp;&nbsp;&nbsp;&nbsp;&nbsp;$a_{ij}$ - это $1-x_{ij}$, если $n_i$ и $n_j$ инцидентны, $1$ иначе\n",
        "\n",
        "&nbsp;&nbsp;&nbsp;&nbsp;&nbsp;&nbsp;$C=A^{-1}$\n",
        "\n",
        "&nbsp;&nbsp;&nbsp;&nbsp;&nbsp;&nbsp;$C_I(n_i)=(C_{ii}+(trC-2\\sum_{j=1}^{g}C_{ij})/g)^{-1}$\n",
        "\n",
        "\n",
        "&nbsp;&nbsp;&nbsp;&nbsp;&nbsp;&nbsp;Нормированная центральность: $C_I'(n_i)=\\frac{C_I(n_i)}{\\sum_{j=1}^{g}C_I(n_j)}$\n",
        "\n",
        "&nbsp;&nbsp;&nbsp;&nbsp;&nbsp;&nbsp;Централизация: $C_I^2=\\frac{1}{g}\\sum_{i=1}^{g}(C_I'(n_i)-\\bar{C_I})^2$\n",
        "\n",
        "<ins>Меры престижа</ins>:\n",
        "\n",
        "1) **Престиж по степени**:\n",
        "$P_D(n_i)=d_in(n_i)=X_{+i}$\n",
        "\n",
        "&nbsp;&nbsp;&nbsp;&nbsp;&nbsp;&nbsp;Нормированный престиж: $P_D'(n_i)=\\frac{X_{+i}}{g-1}$\n",
        "\n",
        "2) **Престиж по близости**:\n",
        "$P_P(n_i)=\\frac{\\# l_i/g-1}{\\sum_{j:n_j \\ni l_i}d(n_j, n_i)/\\# l_i}$\n",
        "\n",
        "&nbsp;&nbsp;&nbsp;&nbsp;&nbsp;&nbsp;$l_i$ - область влияния $i$-го актора\n",
        "\n",
        "**Мосты / Точки сочленения** - рёбра/вершины, при удалении из графа которых количество компонент возрастает."
      ]
    },
    {
      "cell_type": "markdown",
      "metadata": {
        "id": "Ddc46mDDMqKF"
      },
      "source": [
        "## Постановка задачи\n",
        "С помощью математических пакетов и соответствующих библиотек провести анализ заданных социальных сетей вычислить описательные характеристики. Полученные результаты содержательно проинтерпретировать."
      ]
    },
    {
      "cell_type": "markdown",
      "metadata": {
        "id": "-ysXtm2wMqKF"
      },
      "source": [
        "## Выполнение работы\n",
        "\n",
        "№0\n",
        "\n",
        "Для выполнения поствленных задач были установлены необходимые пакеты и подключены следующие библиотеки:"
      ]
    },
    {
      "cell_type": "code",
      "execution_count": null,
      "metadata": {
        "colab": {
          "base_uri": "https://localhost:8080/"
        },
        "id": "wgN9H-9nMqKH",
        "outputId": "87087a7e-277b-4ce0-d5fa-11c6867828c8"
      },
      "outputs": [
        {
          "output_type": "stream",
          "name": "stderr",
          "text": [
            "Installing package into ‘/usr/local/lib/R/site-library’\n",
            "(as ‘lib’ is unspecified)\n",
            "\n",
            "also installing the dependencies ‘DEoptimR’, ‘robustbase’, ‘coda’, ‘trust’, ‘lpSolveAPI’, ‘rle’, ‘tergm’, ‘ergm.count’, ‘sna’, ‘tsna’, ‘ergm’, ‘network’, ‘networkDynamic’, ‘statnet.common’\n",
            "\n",
            "\n",
            "Installing package into ‘/usr/local/lib/R/site-library’\n",
            "(as ‘lib’ is unspecified)\n",
            "\n"
          ]
        }
      ],
      "source": [
        "install.packages(\"statnet\")\n",
        "install.packages(\"igraph\")\n",
        "library(statnet)\n",
        "library(network)\n",
        "library(igraph)"
      ]
    },
    {
      "cell_type": "markdown",
      "source": [
        "№1\n",
        " \n",
        "Из файла florentine_business.csv была извлечена социоматрица с помощью функции read.csv (которая также обрабатывает заголовки столбцов).\n",
        " Полученная таблица была преобразована в матрицу и выведена на экран."
      ],
      "metadata": {
        "id": "nBtQUDgdM8lt"
      }
    },
    {
      "cell_type": "code",
      "source": [
        "data <- read.csv('florentine_business.csv', comment.char='#')\n",
        "soc_matr <- as.matrix(data)\n",
        "print(soc_matr)"
      ],
      "metadata": {
        "id": "_UF2XOQjNDQc"
      },
      "execution_count": null,
      "outputs": []
    },
    {
      "cell_type": "markdown",
      "source": [
        "№2 \n",
        "\n",
        "Следом, социоматрица была преобразована в список рёбер, первые 5 элементов данного списка выведены."
      ],
      "metadata": {
        "id": "ycRPARNHNEjk"
      }
    },
    {
      "cell_type": "code",
      "source": [
        "g <- graph.adjacency(soc_matr, mode='undirected')\n",
        "list <- get.edgelist(g)\n",
        "colnames(list) <- c('strat', 'ending')\n",
        "print(head(list, 5))"
      ],
      "metadata": {
        "id": "gA1XVWQCNHnU"
      },
      "execution_count": null,
      "outputs": []
    },
    {
      "cell_type": "markdown",
      "source": [
        "№3 \n",
        "\n",
        "Далее строкам социоматрицы были присвоены имена, названия столбцов были определены ранее - в пункте №1.\n",
        "(имена – первая строка в csv-файле после комментариев)"
      ],
      "metadata": {
        "id": "uBs5Ot7NNIx4"
      }
    },
    {
      "cell_type": "code",
      "source": [
        "rownames(soc_matr) <- colnames(soc_matr)"
      ],
      "metadata": {
        "id": "Sc8tm5ZKNKGW"
      },
      "execution_count": null,
      "outputs": []
    },
    {
      "cell_type": "markdown",
      "source": [
        "№4 \n",
        "\n",
        "С помощью функции network по полученной социоматрице была построена ненаправленная сеть (приведена ниже). \n",
        "\n",
        "    Параметры, передаваемые в функцию: \n",
        "\n",
        "    soc_matr - рассматриваемая матрица, \n",
        "\n",
        "    matrix.type - определение типа матрицы, в даноом случае - матрица смежности,\n",
        "\n",
        "    directed - направленность/ненаправленность сети.\n"
      ],
      "metadata": {
        "id": "t_DSl5XVNLVG"
      }
    },
    {
      "cell_type": "code",
      "source": [
        "net <- network(soc_matr, matrix.type = 'adjacency', directed = FALSE)\n",
        "plot(net, label=network.vertex.names(net))"
      ],
      "metadata": {
        "id": "NcQcO_VtNREl"
      },
      "execution_count": null,
      "outputs": []
    },
    {
      "cell_type": "markdown",
      "source": [
        "№5\n",
        "\n",
        "Сеть из пункта №4 отображена с помощью алгоритмов укладки Фрюхтермана–\n",
        "Рейнгольда и Камада–Каваи."
      ],
      "metadata": {
        "id": "JnkOCVxHNR-I"
      }
    },
    {
      "cell_type": "code",
      "source": [
        "## Фрюхтерман-Рейнгольд\n",
        "plot(п,layout = layout_with_fr(g)) "
      ],
      "metadata": {
        "id": "SL6aXejENUZ0"
      },
      "execution_count": null,
      "outputs": []
    },
    {
      "cell_type": "code",
      "source": [
        "## Камада-Каваи\n",
        "plot(g,layout = layout_with_kk(g))"
      ],
      "metadata": {
        "id": "sbuHWazLNZHP"
      },
      "execution_count": null,
      "outputs": []
    },
    {
      "cell_type": "markdown",
      "source": [
        "№6\n",
        "\n",
        "Вывод «описательной сводки» сети:"
      ],
      "metadata": {
        "id": "QtJZQnSNNao0"
      }
    },
    {
      "cell_type": "code",
      "source": [
        "print(summary(net))"
      ],
      "metadata": {
        "id": "tPLrB_iZNcv9"
      },
      "execution_count": null,
      "outputs": []
    },
    {
      "cell_type": "markdown",
      "source": [
        "№7\n",
        "\n",
        "Вычисление «пятичисловой сводки» сети:"
      ],
      "metadata": {
        "id": "yWgcc34vNdn4"
      }
    },
    {
      "cell_type": "markdown",
      "source": [
        "(a) Размер сети:"
      ],
      "metadata": {
        "id": "VU_qfWlcNhVP"
      }
    },
    {
      "cell_type": "code",
      "source": [
        "cat('Размер сети:', network.size(net))"
      ],
      "metadata": {
        "id": "m8F_ImdjNij0"
      },
      "execution_count": null,
      "outputs": []
    },
    {
      "cell_type": "markdown",
      "source": [],
      "metadata": {
        "id": "TFKroUq9Njhd"
      }
    },
    {
      "cell_type": "markdown",
      "source": [
        "(b) Плотность (неориентированной) сети:\n",
        "\n",
        "$\\varDelta = \\frac{L}{(_2^g)} = \\frac{15}{(_2^{16})} = \\frac{15*2}{15*16} = \\frac18 = 0.125$."
      ],
      "metadata": {
        "id": "vIictvWdNlrA"
      }
    },
    {
      "cell_type": "code",
      "source": [
        "cat('Плотность сети: ', gden(net))"
      ],
      "metadata": {
        "id": "ZsdOjOs-NmwV"
      },
      "execution_count": null,
      "outputs": []
    },
    {
      "cell_type": "markdown",
      "source": [
        "=>  Плотность сети, вычисленная вручную и с помощью соответствующей функции - совпадают.\n",
        "\n",
        "\n",
        "(c) Число компонент в сети:\n",
        "\n",
        "Согласно приведённому выше графику - на графе представлены одна большая компонента связности и 5 отдельных вершин, следовательно общее число компонент - 6."
      ],
      "metadata": {
        "id": "4CENFRozNoly"
      }
    },
    {
      "cell_type": "code",
      "source": [
        "cat('Число компонент в сети: ', components(g)$no)"
      ],
      "metadata": {
        "id": "uSnjQ8plNp2g"
      },
      "execution_count": null,
      "outputs": []
    },
    {
      "cell_type": "markdown",
      "source": [
        "=>  Значения совпадают.\n",
        "\n",
        "(d) Диаметр сети:\n",
        "\n",
        "Визуально можно определить, что наибольшее кратчайшее расстояние ( = диаметр) в графе = 5, (пути в большОй компоненте)."
      ],
      "metadata": {
        "id": "eCuYUQojNq7e"
      }
    },
    {
      "cell_type": "code",
      "source": [
        "cat('Диаметр сети: ', diameter(g))"
      ],
      "metadata": {
        "id": "a-lXItykNsJZ"
      },
      "execution_count": null,
      "outputs": []
    },
    {
      "cell_type": "markdown",
      "source": [
        "=>  Значения совпадают.\n",
        "\n",
        "(e) Коэффициент кластеризации:\n",
        "\n",
        "Число закрытых треугольников в графе - 5, \n",
        "\n",
        "Общее количество треугольников - 12, \n",
        "\n",
        "Коэффициент кластеризации  K = $\\frac{5}{12} = 0.41666..$."
      ],
      "metadata": {
        "id": "54UVJhfbNtG3"
      }
    },
    {
      "cell_type": "code",
      "source": [
        "cat('Коэффициент кластеризации: ', gtrans(net))"
      ],
      "metadata": {
        "id": "Qx8sQ-CUNuSG"
      },
      "execution_count": null,
      "outputs": []
    },
    {
      "cell_type": "markdown",
      "source": [
        "=>  Значения совпадают.\n",
        "\n",
        "№8 \n",
        "\n",
        "Средняя степень узлов и дисперсия:"
      ],
      "metadata": {
        "id": "OfnFvDEMNvSq"
      }
    },
    {
      "cell_type": "code",
      "source": [
        "cat('Средняя степень узлов: ', mean(degree(g)), '\\n')\n",
        "cat('Дисперсия: ', var(degree(g)))"
      ],
      "metadata": {
        "id": "ckL14kqeNwTY"
      },
      "execution_count": null,
      "outputs": []
    },
    {
      "cell_type": "markdown",
      "source": [
        "=> Каждый актор состоит примерно в 2-ух связях, а исходя из дисперсии можно заметить, что реальная картина отличается, ведь есть узлы имеющие 0 связей, а есть узлы имеющие больше двух связей"
      ],
      "metadata": {
        "id": "LJ_gaeiLNxW1"
      }
    },
    {
      "cell_type": "markdown",
      "source": [
        "№9\n",
        "\n",
        "Таблица для различных мер центральности (меры центральности вычислины для неизолированных вершин):\n",
        "\n",
        "&nbsp;1) Нормированная центральность по степени: $C_D'(n_i)=\\frac{deg(n_i)}{g-1}$\n",
        "\n",
        "&nbsp;2) Нормированная центральность по близости: $C_C'(n_i)=\\frac{g-1}{\\sum_{j=1}^{g}d(n_i, n_j)}$\n",
        "\n",
        "&nbsp;3) Нормированная центральность по посредничеству: $C_B'(n_i)=\\frac{C_B(n_i)}{(_2^{g-1})}$\n",
        "\n",
        "&nbsp;4) Нормированная центральность по инфорамции: $C_I'(n_i)=\\frac{C_I(n_i)}{\\sum_{j=1}^{g}C_I(n_j)}$"
      ],
      "metadata": {
        "id": "oU_eh8nBNysF"
      }
    },
    {
      "cell_type": "code",
      "source": [
        "new_g <- delete.vertices(g, which(degree(g) == 0))      #Исключаем изолированые вершины\n",
        "t <- data.frame(ni = match(V(new_g)$name, V(g)$name))   #Таблица\n",
        "\n",
        "t$C_D <- degree(new_g, normalized=TRUE)                 #1       \n",
        "t$C_C <- round(closeness(new_g, normalized=TRUE), 3)    #2  \n",
        "t$C_B <- round(betweenness(new_g, normalized=TRUE), 3)  #3\n",
        "new_net <- network::delete.vertices(net, isolates(net))\n",
        "Ci <- infocent(new_net)\n",
        "t$C_I <- round(Ci/sum(Ci), 3)                           #4\n",
        "print(t)"
      ],
      "metadata": {
        "id": "UNtPnLT2Nzwe"
      },
      "execution_count": null,
      "outputs": []
    },
    {
      "cell_type": "markdown",
      "source": [
        "=> Самые важные акторы:\n",
        "\n",
        "По степени: [9] - Medici\n",
        "\n",
        "По близости: [3] - Barbadory\n",
        "\n",
        "По поредничеству: [3] - Barbadory\n",
        "\n",
        "По информации: [3] - Barbadory"
      ],
      "metadata": {
        "id": "yNVeRUKsN1oh"
      }
    },
    {
      "cell_type": "markdown",
      "source": [
        "№10\n",
        "\n",
        "Значение централизации для каждой меры:"
      ],
      "metadata": {
        "id": "WWO-Lt9lN3BU"
      }
    },
    {
      "cell_type": "code",
      "source": [
        "cat('Централизация по степени: ', centr_degree(new_g)$centralization, '\\n')\n",
        "cat('Централизация по близости: ', centr_clo(new_g)$centralization, '\\n')\n",
        "cat('Централизация по посреднечеству: ', centr_betw(new_g)$centralization, '\\n')\n",
        "cat('Централизация по информации: ', centralization(new_net, infocent))"
      ],
      "metadata": {
        "id": "h99KdZWbN5KK"
      },
      "execution_count": null,
      "outputs": []
    },
    {
      "cell_type": "markdown",
      "source": [
        "=> Cеть больше всего централизована по посредничеству и меньше всего - по информации."
      ],
      "metadata": {
        "id": "45wFZEQDN62u"
      }
    },
    {
      "cell_type": "markdown",
      "source": [
        "№11\n",
        "\n",
        "Далее были найдены точки сочленения и мосты сети, а также построен график сети, на котором они выделены."
      ],
      "metadata": {
        "id": "BVNTJPavN8oY"
      }
    },
    {
      "cell_type": "markdown",
      "source": [
        "Вершина Medici соединена с тремя одиночными вершинами, значит при её удалении число компонент увеличится, также при удалении Barbadori связь между нижней пятеркой вершин и верхней пропадёт, значит Bardadori и Medici - точки сочлинения. Так как Medici связана с тремя одиночными вершинами => связи между ними будут мостами."
      ],
      "metadata": {
        "id": "1V_vMS-xN98R"
      }
    },
    {
      "cell_type": "code",
      "source": [
        "cut.points <- articulation.points(g)\n",
        "print(cut.points)\n",
        "bridges <- bridges(g)\n",
        "print(bridges)\n",
        "v.colors <- rep(\"red\",length = gorder(g))\n",
        "v.colors[cut.points] <- \"gold\"\n",
        "b.colors <- rep(\"black\",length = length(E(g)))\n",
        "b.colors[bridges] <- \"green\"\n",
        "plot(g,vertex.color = v.colors,edge.color = b.colors)"
      ],
      "metadata": {
        "id": "sc0CMudkN_k6"
      },
      "execution_count": null,
      "outputs": []
    },
    {
      "cell_type": "markdown",
      "source": [
        "=> Рисунок подтверждает рассуждение, приведённое выше."
      ],
      "metadata": {
        "id": "AW9eMEJvOApN"
      }
    },
    {
      "cell_type": "markdown",
      "source": [
        "№12\n",
        "\n",
        "Рассмотрена направленная сеть из файла krackhardt_advice.csv:"
      ],
      "metadata": {
        "id": "2uExoYe5OBys"
      }
    },
    {
      "cell_type": "markdown",
      "source": [
        "12.1 - Чтение данных\n"
      ],
      "metadata": {
        "id": "8ExOhb2aODGq"
      }
    },
    {
      "cell_type": "code",
      "source": [
        "data2 <- read.csv(\"krackhardt_advice.csv\",comment.char = '#',header = FALSE)\n",
        "soc_matr2<- as.matrix(data2)"
      ],
      "metadata": {
        "id": "oOuKRX6yOEHn"
      },
      "execution_count": null,
      "outputs": []
    },
    {
      "cell_type": "markdown",
      "source": [
        "12.2 - Преобразование в список рёбер"
      ],
      "metadata": {
        "id": "A_4c0DkCOFQF"
      }
    },
    {
      "cell_type": "code",
      "source": [
        "g2 <- graph.adjacency(soc_matr2, mode='directed')\n",
        "list2 <- get.edgelist(g2)\n",
        "colnames(list2) <- c('start', 'ending')\n",
        "print(head(list2, 5))"
      ],
      "metadata": {
        "id": "ArUBPNtOOHCr"
      },
      "execution_count": null,
      "outputs": []
    },
    {
      "cell_type": "markdown",
      "source": [
        "12.3 - Имена столбцам и строкам "
      ],
      "metadata": {
        "id": "30oYT-uZOICF"
      }
    },
    {
      "cell_type": "code",
      "source": [
        "rownames(soc_matr2) <- 1:dim(soc_matr2)[1]\n",
        "colnames(soc_matr2) <- 1:dim(soc_matr2)[1]\n",
        "rownames(soc_matr2) <- colnames(soc_matr2)"
      ],
      "metadata": {
        "id": "5WEuSuuDOJPh"
      },
      "execution_count": null,
      "outputs": []
    },
    {
      "cell_type": "markdown",
      "source": [
        "12.4 - Построение *направленной* сети"
      ],
      "metadata": {
        "id": "fCaL5q-2OL7E"
      }
    },
    {
      "cell_type": "code",
      "source": [
        "net2 <- network(soc_matr2, matrix.type = 'adjacency', directed = TRUE)\n",
        "plot(net2, label=network.vertex.names(net2))"
      ],
      "metadata": {
        "id": "ugsdlZPSONYa"
      },
      "execution_count": null,
      "outputs": []
    },
    {
      "cell_type": "markdown",
      "source": [
        "12.5 - Отображение с помощью алгоритмов укладки Фрюхтермана–Рейнгольда и Камада–Каваи."
      ],
      "metadata": {
        "id": "DCo8X65sOOlO"
      }
    },
    {
      "cell_type": "code",
      "source": [
        "## Фрюхтерман-Рейнгольд\n",
        "plot(g,layout = layout_with_fr(g)) "
      ],
      "metadata": {
        "id": "z6dqB4AoOQJW"
      },
      "execution_count": null,
      "outputs": []
    },
    {
      "cell_type": "code",
      "source": [
        "## Камада-Каваи\n",
        "plot(g,layout = layout_with_kk(g))"
      ],
      "metadata": {
        "id": "KpUKyqPzOQcu"
      },
      "execution_count": null,
      "outputs": []
    },
    {
      "cell_type": "markdown",
      "source": [
        "12.6 - \"Описательная сводка\" сети:"
      ],
      "metadata": {
        "id": "bBe_KbBKOS39"
      }
    },
    {
      "cell_type": "code",
      "source": [
        "print(summary(net2))"
      ],
      "metadata": {
        "id": "CaulLqVMOUAG"
      },
      "execution_count": null,
      "outputs": []
    },
    {
      "cell_type": "markdown",
      "source": [
        "12.7 - \"Пятичисловая сводка\" сети:"
      ],
      "metadata": {
        "id": "syi1Xis6OVCh"
      }
    },
    {
      "cell_type": "markdown",
      "source": [
        "(a) Размер сети:"
      ],
      "metadata": {
        "id": "CCXAt-aHOYZG"
      }
    },
    {
      "cell_type": "code",
      "source": [
        "cat('Размер сети:', network.size(net2))"
      ],
      "metadata": {
        "id": "J5Vp-h39OaW0"
      },
      "execution_count": null,
      "outputs": []
    },
    {
      "cell_type": "markdown",
      "source": [
        "(b) Плотность (ориентированной) сети: \n",
        "\n",
        "$\\varDelta = \\frac{190}{20*21} = \\frac{19}{42} = 0.452$."
      ],
      "metadata": {
        "id": "njEi7qHVObMn"
      }
    },
    {
      "cell_type": "code",
      "source": [
        "cat('Плотность сети: ', gden(net2)"
      ],
      "metadata": {
        "id": "vXDEos0QOc51"
      },
      "execution_count": null,
      "outputs": []
    },
    {
      "cell_type": "markdown",
      "source": [
        "(c) Число компонент в сети:\n",
        "Согласно приведённому графику - на графе представлен одна большая компонента связности, следовательно общее число компонент - 1."
      ],
      "metadata": {
        "id": "uvIYwt96Od_w"
      }
    },
    {
      "cell_type": "code",
      "source": [
        "cat('Число компонент в сети: ', components(g)$no)"
      ],
      "metadata": {
        "id": "RYWVfHoSOe-K"
      },
      "execution_count": null,
      "outputs": []
    },
    {
      "cell_type": "markdown",
      "source": [
        "(d) Диаметр сети:\n",
        "\n",
        "Визуально можно определить, что наибольшее кратчайшее расстояние ( = диаметр) в графе = 3."
      ],
      "metadata": {
        "id": "bpFU302COf5E"
      }
    },
    {
      "cell_type": "code",
      "source": [
        "cat('Диаметр сети: ', diameter(g))"
      ],
      "metadata": {
        "id": "YuSl98LrOhPu"
      },
      "execution_count": null,
      "outputs": []
    },
    {
      "cell_type": "markdown",
      "source": [
        "(e) Коэффициент кластеризации:"
      ],
      "metadata": {
        "id": "G33uu_gEOimF"
      }
    },
    {
      "cell_type": "code",
      "source": [
        "cat('Коэффициент кластеризации: ', gtrans(net2))"
      ],
      "metadata": {
        "id": "dMfdv4VoOkFZ"
      },
      "execution_count": null,
      "outputs": []
    },
    {
      "cell_type": "markdown",
      "source": [
        "Коэффициент кластеризации ~0.66 => большая часть треугольников закрытые.\n"
      ],
      "metadata": {
        "id": "23TEDBdpOlq7"
      }
    },
    {
      "cell_type": "markdown",
      "source": [
        "12.8 - Средняя степень узлов и дисперсия:"
      ],
      "metadata": {
        "id": "_fnDUTVCOnBi"
      }
    },
    {
      "cell_type": "code",
      "source": [
        "cat('Средняя степень входящих связей узлов: ', mean(degree(g, mode=\"in\")), '\\n')\n",
        "cat('Дисперсия входящих связей узлов: ', var(degree(g, mode=\"in\")), '\\n')\n",
        "cat('Средняя степень выходящих связей узлов: ', mean(degree(g, mode=\"out\")), '\\n')\n",
        "cat('Дисперсия выходящих связей узлов: ', var(degree(g, mode=\"out\")))"
      ],
      "metadata": {
        "id": "ZCdwzGwHOoSi"
      },
      "execution_count": null,
      "outputs": []
    },
    {
      "cell_type": "markdown",
      "source": [
        "#13 \n",
        "\n",
        "Tаблиц для различных мер престижа:\n"
      ],
      "metadata": {
        "id": "QUYL7aB0OpUq"
      }
    },
    {
      "cell_type": "code",
      "source": [
        "t2 <- data.frame(n = V(g2)$name)\n",
        "t2$P_D <- prestige(net2, cmode = 'indegree')/(gorder(g2)-1) \n",
        "t2$P_P <- prestige(net2, cmode = 'domain.proximity')/(gorder(g2)-1)\n",
        "print(t2)"
      ],
      "metadata": {
        "id": "bOk5zaNvOqnW"
      },
      "execution_count": null,
      "outputs": []
    },
    {
      "cell_type": "markdown",
      "source": [
        "=> В данной сети наибольшим престижем по обоим мерам обладает актор под номером 2."
      ],
      "metadata": {
        "id": "a3e0el2POskn"
      }
    },
    {
      "cell_type": "markdown",
      "metadata": {
        "id": "hm-S5lJtMqKS"
      },
      "source": [
        "## Выводы\n",
        "\n",
        "Данная практическая работа была выполнена на языке R. В результате работы были получены навыки работы с математическими пакетами, умение анализировать и моделировать социальные сети на языке R.\n",
        "Был проведен анализ ненаправленной и направленной социальных сетей. Обе сети были визуализированы с помощью соответствующих библиотек."
      ]
    }
  ],
  "metadata": {
    "kernelspec": {
      "display_name": "R",
      "language": "R",
      "name": "ir"
    },
    "language_info": {
      "codemirror_mode": "r",
      "file_extension": ".r",
      "mimetype": "text/x-r-source",
      "name": "R",
      "pygments_lexer": "r",
      "version": "4.0.3"
    },
    "colab": {
      "provenance": []
    }
  },
  "nbformat": 4,
  "nbformat_minor": 0
}